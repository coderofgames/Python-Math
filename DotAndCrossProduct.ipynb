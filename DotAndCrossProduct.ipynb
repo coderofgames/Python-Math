{
 "cells": [
  {
   "cell_type": "markdown",
   "metadata": {},
   "source": [
    "<h1>1) The Dot And Cross Product</h1>\n",
    "\n",
    "of two vectors <b>A</b> and <b>B</b> is denoted by $\\quad \\mathbf{A}\\cdot\\mathbf{B}\\quad $ is defined as the product of the magnitudes of <b>A</b> and <b>B</b> and the cosine of the angle between.<br> \n",
    "In symbols <br>$\\quad \\mathbf{A}\\cdot\\mathbf{B} = |\\mathbf{A}||\\mathbf{B}|\\cos(\\theta)\\quad  (0 \\leq \\theta \\leq \\pi)\\quad $ <br><br>\n",
    "and $\\quad\\mathbf{A}\\cdot\\mathbf{B} \\quad$ is a scalar not a vector\n",
    "<br>\n",
    "<h3>Laws</h3>\n",
    "<table>\n",
    "<tr>\n",
    "<td>1)</td>\n",
    "<td>$ \\quad\\mathbf{A}\\cdot\\mathbf{B} = \\mathbf{B}\\cdot\\mathbf{A}\\quad\\   $</td>\n",
    "<td>commutative law for dot products</td>\n",
    "</tr>\n",
    "<tr>\n",
    "<td>2)</td>\n",
    "<td>$\\quad\\mathbf{A}\\cdot(\\mathbf{B}+\\mathbf{C}) = \\mathbf{A}\\cdot\\mathbf{B} + \\mathbf{A}\\cdot\\mathbf{C}\\quad\\quad\\quad\\quad $</td>\n",
    "<td>Distributive Law </td>\n",
    "</tr>\n",
    "<tr>\n",
    "<td>3)</td>\n",
    "<td>$\\quad m(\\mathbf{A}\\cdot\\mathbf{B}) = (m\\mathbf{A})\\cdot\\mathbf{B} = \\mathbf{A}\\cdot(m\\mathbf{B}) = (\\mathbf{A}\\cdot\\mathbf{B})m \\quad\\quad$</td>\n",
    "<td>when m is a scalar</td>\n",
    "</tr>\n",
    "<tr>\n",
    "<td>4)</td>\n",
    "<td>$ \\quad\\mathbf{i}\\cdot\\mathbf{i} = \\mathbf{j}\\cdot\\mathbf{j} = \\mathbf{k}\\cdot\\mathbf{k} = 1 \\\\   \\quad\\mathbf{i}\\cdot\\mathbf{j} = \\mathbf{j}\\cdot\\mathbf{k} = \\mathbf{k}\\cdot\\mathbf{i} = 0\\quad\\quad $</td>\n",
    "<td></td>\n",
    "</tr>\n",
    "<tr>\n",
    "<td>5)</td>\n",
    "<td>if $\\quad \\mathbf{A}= A_1 \\mathbf{i} + A_2 \\mathbf{j} + A_3 \\mathbf{k} ,\\quad\\\\ \\mathbf{B} = B_1 \\mathbf{i} + B_2 \\mathbf{j} + B_3 \\mathbf{k}\\quad\\quad\\quad\\quad $ </td>\n",
    "<td>then\n",
    "    $\\qquad \\mathbf{A}\\cdot\\mathbf{B} = A_1 B_1 + A_2 B_2 + A_3 B_3\\\\ \n",
    "    \\qquad \\mathbf{A}\\cdot\\mathbf{A} = A_1^2 + A_2^2 + A_3^2 $</td>\n",
    "</tr>\n",
    "<tr>\n",
    "<td>6)</td>\n",
    "<td>if $\\quad A.B = 0\\quad\\quad\\quad\\quad $ </td>\n",
    "<td>and <b>A</b> and <b>B</b> are not null vectors then <b>A</b> and <b>B</b> are perpendicular</td>\n",
    "</tr>\n",
    "</table>"
   ]
  },
  {
   "cell_type": "code",
   "execution_count": 1,
   "metadata": {
    "collapsed": true
   },
   "outputs": [],
   "source": [
    "from sympy.vector import CoordSysCartesian"
   ]
  },
  {
   "cell_type": "code",
   "execution_count": 2,
   "metadata": {
    "collapsed": true
   },
   "outputs": [],
   "source": [
    "N = CoordSysCartesian('N')"
   ]
  },
  {
   "cell_type": "code",
   "execution_count": 3,
   "metadata": {
    "collapsed": true
   },
   "outputs": [],
   "source": [
    "A = 2*N.i + 3 * N.j + N.k"
   ]
  },
  {
   "cell_type": "code",
   "execution_count": 4,
   "metadata": {
    "collapsed": true
   },
   "outputs": [],
   "source": [
    "B = 3*N.i + N.j + 4*N.k "
   ]
  },
  {
   "cell_type": "code",
   "execution_count": 6,
   "metadata": {
    "collapsed": false
   },
   "outputs": [
    {
     "data": {
      "text/plain": [
       "5*N.i + 4*N.j + 5*N.k"
      ]
     },
     "execution_count": 6,
     "metadata": {},
     "output_type": "execute_result"
    }
   ],
   "source": [
    "A+B"
   ]
  },
  {
   "cell_type": "code",
   "execution_count": 7,
   "metadata": {
    "collapsed": false
   },
   "outputs": [
    {
     "data": {
      "text/plain": [
       "13"
      ]
     },
     "execution_count": 7,
     "metadata": {},
     "output_type": "execute_result"
    }
   ],
   "source": [
    "A.dot(B)"
   ]
  },
  {
   "cell_type": "code",
   "execution_count": 8,
   "metadata": {
    "collapsed": false
   },
   "outputs": [
    {
     "data": {
      "text/plain": [
       "True"
      ]
     },
     "execution_count": 8,
     "metadata": {},
     "output_type": "execute_result"
    }
   ],
   "source": [
    "A.dot(B)==B.dot(A)"
   ]
  },
  {
   "cell_type": "code",
   "execution_count": 9,
   "metadata": {
    "collapsed": true
   },
   "outputs": [],
   "source": [
    "C = N.i + 7*N.j + 2 *N.k"
   ]
  },
  {
   "cell_type": "code",
   "execution_count": 10,
   "metadata": {
    "collapsed": false
   },
   "outputs": [
    {
     "data": {
      "text/plain": [
       "True"
      ]
     },
     "execution_count": 10,
     "metadata": {},
     "output_type": "execute_result"
    }
   ],
   "source": [
    "A.dot(B+C)==A.dot(B) + A.dot(C)"
   ]
  },
  {
   "cell_type": "code",
   "execution_count": 12,
   "metadata": {
    "collapsed": false
   },
   "outputs": [
    {
     "data": {
      "text/plain": [
       "True"
      ]
     },
     "execution_count": 12,
     "metadata": {},
     "output_type": "execute_result"
    }
   ],
   "source": [
    "5 * A.dot(B) == A.dot(5*B)"
   ]
  },
  {
   "cell_type": "code",
   "execution_count": 13,
   "metadata": {
    "collapsed": false
   },
   "outputs": [
    {
     "data": {
      "text/plain": [
       "0"
      ]
     },
     "execution_count": 13,
     "metadata": {},
     "output_type": "execute_result"
    }
   ],
   "source": [
    "N.i.dot(N.j)"
   ]
  },
  {
   "cell_type": "code",
   "execution_count": 14,
   "metadata": {
    "collapsed": false
   },
   "outputs": [
    {
     "data": {
      "text/plain": [
       "1"
      ]
     },
     "execution_count": 14,
     "metadata": {},
     "output_type": "execute_result"
    }
   ],
   "source": [
    "N.i.dot(N.i)"
   ]
  },
  {
   "cell_type": "markdown",
   "metadata": {},
   "source": [
    "The Cross or Vector Product of <b>A</b> and <b>B</b> is a vector \n",
    "\n",
    "$\\mathbf{C} =\\mathbf{A }\\times \\mathbf{B}. $\n",
    "\n",
    "The magnitude of $ \\mathbf{A }\\times \\mathbf{B} $ is defined as the product of the magnitudes of <b>A</b> and <b>B</b> and the sin of the angle between them. The direction of <b>A</b> and <b>B</b> is perpendicular to the place of <b>A</b> and <b>B</b> such that <b>A, B, C </b> form a right handed system \n",
    "\n",
    "$$ \\large  |\\mathbf{A }\\times \\mathbf{B} |= |\\mathbf{A}  | | \\mathbf{B}  |\\sin \\theta \\mathbf{u}  $$\n",
    "\n",
    "where <b>u</b> is a unit vector indicating the direction of $\\quad  \\mathbf{A }\\times \\mathbf{B} \\quad $. If <b>A</b>=<b>B</b> or <b>A</b> is parallel to <b>B</b> then $\\quad \\sin \\theta =0\\quad $ and $\\quad \\mathbf{A }\\times \\mathbf{B} = 0 \\quad $\n",
    "\n",
    " <h3>Laws</h3> \n",
    "<b>1)</b> $\\quad  \\mathbf{A }\\times \\mathbf{B} = -\\mathbf{B }\\times \\mathbf{A} \\quad$       Commutative law fails   <br> \n",
    "<b>2)</b> $\\quad \\mathbf{A }\\times (\\mathbf{B}+\\mathbf{C} )= \\mathbf{A }\\times \\mathbf{B} +\\mathbf{A }\\times \\mathbf{C} \\quad $   Distributive law <br>\n",
    "<b>3)</b> $\\quad m(\\mathbf{A }\\times \\mathbf{B} )=m\\mathbf{A }\\times \\mathbf{B} =\\mathbf{A }\\times m \\mathbf{B} =(\\mathbf{A }\\times \\mathbf{B} )m \\quad $    where m is a scalar<br>\n",
    "<b>4)</b> $\\quad  \\mathbf{i }\\times \\mathbf{i} =\\mathbf{j }\\times \\mathbf{j}=\\mathbf{k }\\times \\mathbf{k}=0;\\mathbf{i }\\times \\mathbf{j} =\\mathbf k,\\mathbf{j }\\times \\mathbf{k} =\\mathbf i, \\mathbf{k}\\times \\mathbf{i} =\\mathbf j $ <br>\n",
    "<b>5)</b> If $\\quad\\mathbf{A} = (A_1,\\ A_2,\\ A_3)\\quad $ and $  \\quad \\mathbf{B} = (B_1,\\ B_2,\\ B_3) \\quad $ then \n",
    "\n",
    "\n",
    "\n",
    "$\\large \\mathbf A \\times \\mathbf B=\\begin{vmatrix} \\mathbf i & \\mathbf j & \\mathbf k\\\\ A_1 & A_2 & A_3 \\\\ B_1 & B_2 & B_3 \\end{vmatrix}$\n",
    "<br>\n",
    "<b>6.</b> The magnitude of $\\quad \\mathbf{A }\\times \\mathbf{B} \\quad $ is the same as a parallelogram with sides <b>A</b> and <b>B</b><br>\n",
    "<b>7.</b> if $\\quad \\mathbf{A }\\times \\mathbf{B} = 0 \\quad $ and <b>A</b> and <b>B</b> are not null vectors then <b>A</b> and <b>B</b> are parallel<br>"
   ]
  },
  {
   "cell_type": "code",
   "execution_count": 15,
   "metadata": {
    "collapsed": false
   },
   "outputs": [
    {
     "data": {
      "text/plain": [
       "11*N.i + (-5)*N.j + (-7)*N.k"
      ]
     },
     "execution_count": 15,
     "metadata": {},
     "output_type": "execute_result"
    }
   ],
   "source": [
    "A.cross(B)"
   ]
  },
  {
   "cell_type": "code",
   "execution_count": 17,
   "metadata": {
    "collapsed": true
   },
   "outputs": [],
   "source": [
    "from sympy import symbols\n",
    "a1,a2,a3=symbols('a1 a2 a3')"
   ]
  },
  {
   "cell_type": "code",
   "execution_count": 18,
   "metadata": {
    "collapsed": false
   },
   "outputs": [],
   "source": [
    "a=a1*N.i+a2*N.j+a3*N.k"
   ]
  },
  {
   "cell_type": "code",
   "execution_count": 19,
   "metadata": {
    "collapsed": true
   },
   "outputs": [],
   "source": [
    "b1,b2,b3=symbols('b1 b2 b3')"
   ]
  },
  {
   "cell_type": "code",
   "execution_count": 22,
   "metadata": {
    "collapsed": true
   },
   "outputs": [],
   "source": [
    "b=b1*N.i + b2*N.j + b3 * N.k"
   ]
  },
  {
   "cell_type": "code",
   "execution_count": 23,
   "metadata": {
    "collapsed": false
   },
   "outputs": [
    {
     "data": {
      "text/plain": [
       "a1*b1 + a2*b2 + a3*b3"
      ]
     },
     "execution_count": 23,
     "metadata": {},
     "output_type": "execute_result"
    }
   ],
   "source": [
    "a.dot(b)"
   ]
  },
  {
   "cell_type": "code",
   "execution_count": 24,
   "metadata": {
    "collapsed": false
   },
   "outputs": [
    {
     "data": {
      "text/plain": [
       "(a2*b3 - a3*b2)*N.i + (-a1*b3 + a3*b1)*N.j + (a1*b2 - a2*b1)*N.k"
      ]
     },
     "execution_count": 24,
     "metadata": {},
     "output_type": "execute_result"
    }
   ],
   "source": [
    "a.cross(b)"
   ]
  },
  {
   "cell_type": "code",
   "execution_count": 25,
   "metadata": {
    "collapsed": true
   },
   "outputs": [],
   "source": [
    "m=symbols('m')"
   ]
  },
  {
   "cell_type": "code",
   "execution_count": 26,
   "metadata": {
    "collapsed": false
   },
   "outputs": [
    {
     "data": {
      "text/plain": [
       "a1*m*N.i + a2*m*N.j + a3*m*N.k"
      ]
     },
     "execution_count": 26,
     "metadata": {},
     "output_type": "execute_result"
    }
   ],
   "source": [
    "m*a"
   ]
  },
  {
   "cell_type": "code",
   "execution_count": 27,
   "metadata": {
    "collapsed": false
   },
   "outputs": [
    {
     "data": {
      "text/plain": [
       "m*(a1*b1 + a2*b2 + a3*b3)"
      ]
     },
     "execution_count": 27,
     "metadata": {},
     "output_type": "execute_result"
    }
   ],
   "source": [
    "m*a.dot(b)"
   ]
  },
  {
   "cell_type": "code",
   "execution_count": 28,
   "metadata": {
    "collapsed": false
   },
   "outputs": [
    {
     "data": {
      "text/plain": [
       "a1*b1*m + a2*b2*m + a3*b3*m"
      ]
     },
     "execution_count": 28,
     "metadata": {},
     "output_type": "execute_result"
    }
   ],
   "source": [
    "a.dot(b*m)"
   ]
  },
  {
   "cell_type": "code",
   "execution_count": 29,
   "metadata": {
    "collapsed": false
   },
   "outputs": [
    {
     "data": {
      "text/plain": [
       "N.k"
      ]
     },
     "execution_count": 29,
     "metadata": {},
     "output_type": "execute_result"
    }
   ],
   "source": [
    "N.i.cross(N.j)"
   ]
  },
  {
   "cell_type": "markdown",
   "metadata": {},
   "source": [
    "<h2>Triple Products</h2>\n",
    "\n",
    "<h3>Dot and cross products combination laws</h3>\n",
    "<b>1)</b> $\\quad  (\\mathbf A . \\mathbf B ) \\mathbf C\\neq \\mathbf A (\\mathbf B .\\mathbf C)\\quad $\n",
    "<br>\n",
    "<b>2)</b> $\\quad \\mathbf A.(\\mathbf B \\times \\mathbf C)=\\mathbf B.(\\mathbf C \\times \\mathbf A)=\\mathbf C.(\\mathbf A \\times \\mathbf B)= volume\\ of\\ parallepiped \\quad $ having $\\quad\\mathbf{A\\ B\\ C}\\quad $ as edges or the negative of this volume. \n",
    "<br>\n",
    "if $$\\mathbf{A}=(A_1,\\ A_2,\\ A_3)\\quad  \\mathbf{B}=(B_1,\\ B_2,\\ B_3),\\quad \\mathbf{C}=(C_1, C_2, C_3)\n",
    "\\\\\n",
    "\\\\\n",
    "\\large \\mathbf A.(\\mathbf B \\times \\mathbf C)=\\begin{vmatrix} A_1 & A_2 & A_3\\\\ B_1 & B_2 & B_3\\\\ C_1 & C_2 & C_3 \\end{vmatrix}$$\n",
    "                      \n",
    "<b>3.</b> $ \\quad \\mathbf A \\times(\\mathbf B \\times \\mathbf C)\\neq (\\mathbf A \\times\\mathbf B) \\times \\mathbf C\\quad $        Association law for cross product fails <br>\n",
    "<b>4.</b> $ \\quad \\large \\mathbf A \\times(\\mathbf B \\times \\mathbf C)=(\\mathbf A . \\mathbf C)\\mathbf B-(\\mathbf A . \\mathbf B)\\mathbf C\\quad $\n",
    "<br>\n",
    "$$    \\large (\\mathbf A \\times \\mathbf B) \\times \\mathbf C=(\\mathbf A . \\mathbf C)\\mathbf B-(\\mathbf B . \\mathbf C)\\mathbf A$$\n",
    "\n",
    "Then product $ \\quad  \\mathbf A \\cdot( \\mathbf B \\times \\mathbf C)\\quad $ is the scalar triple product or box product and may be denoted $ \\quad [\\mathbf{ABC}]\\quad $. (parenthesis may be ommitted)\n",
    "The product $ \\quad \\mathbf A \\times ( \\mathbf B \\times \\mathbf C)\\quad $ is the vector triple product (parenthesis must be used)"
   ]
  },
  {
   "cell_type": "code",
   "execution_count": 30,
   "metadata": {
    "collapsed": true
   },
   "outputs": [],
   "source": [
    "c1,c2,c3=symbols('c1 c2 c3')"
   ]
  },
  {
   "cell_type": "code",
   "execution_count": 31,
   "metadata": {
    "collapsed": true
   },
   "outputs": [],
   "source": [
    "c=c1*N.i+c2*N.j+c3*N.k"
   ]
  },
  {
   "cell_type": "code",
   "execution_count": 32,
   "metadata": {
    "collapsed": false
   },
   "outputs": [
    {
     "data": {
      "text/plain": [
       "(c1*(a1*b1 + a2*b2 + a3*b3))*N.i + (c2*(a1*b1 + a2*b2 + a3*b3))*N.j + (c3*(a1*b1 + a2*b2 + a3*b3))*N.k"
      ]
     },
     "execution_count": 32,
     "metadata": {},
     "output_type": "execute_result"
    }
   ],
   "source": [
    "a.dot(b)*c"
   ]
  },
  {
   "cell_type": "code",
   "execution_count": 33,
   "metadata": {
    "collapsed": false
   },
   "outputs": [
    {
     "data": {
      "text/plain": [
       "(a1*(b1*c1 + b2*c2 + b3*c3))*N.i + (a2*(b1*c1 + b2*c2 + b3*c3))*N.j + (a3*(b1*c1 + b2*c2 + b3*c3))*N.k"
      ]
     },
     "execution_count": 33,
     "metadata": {},
     "output_type": "execute_result"
    }
   ],
   "source": [
    "a*b.dot(c)"
   ]
  },
  {
   "cell_type": "code",
   "execution_count": 34,
   "metadata": {
    "collapsed": false
   },
   "outputs": [
    {
     "data": {
      "text/plain": [
       "False"
      ]
     },
     "execution_count": 34,
     "metadata": {},
     "output_type": "execute_result"
    }
   ],
   "source": [
    "a.dot(b)*c == a*b.dot(c)"
   ]
  },
  {
   "cell_type": "code",
   "execution_count": 36,
   "metadata": {
    "collapsed": false
   },
   "outputs": [
    {
     "data": {
      "text/plain": [
       "False"
      ]
     },
     "execution_count": 36,
     "metadata": {},
     "output_type": "execute_result"
    }
   ],
   "source": [
    "a.dot(b.cross(c))== b.dot(c.cross(a))"
   ]
  },
  {
   "cell_type": "code",
   "execution_count": 37,
   "metadata": {
    "collapsed": false
   },
   "outputs": [
    {
     "data": {
      "text/plain": [
       "a1*(b2*c3 - b3*c2) + a2*(-b1*c3 + b3*c1) + a3*(b1*c2 - b2*c1)"
      ]
     },
     "execution_count": 37,
     "metadata": {},
     "output_type": "execute_result"
    }
   ],
   "source": [
    "a.dot(b.cross(c))"
   ]
  },
  {
   "cell_type": "code",
   "execution_count": 38,
   "metadata": {
    "collapsed": false
   },
   "outputs": [
    {
     "data": {
      "text/plain": [
       "b1*(-a2*c3 + a3*c2) + b2*(a1*c3 - a3*c1) + b3*(-a1*c2 + a2*c1)"
      ]
     },
     "execution_count": 38,
     "metadata": {},
     "output_type": "execute_result"
    }
   ],
   "source": [
    "b.dot(c.cross(a))"
   ]
  },
  {
   "cell_type": "code",
   "execution_count": 40,
   "metadata": {
    "collapsed": false
   },
   "outputs": [],
   "source": [
    "from sympy import *"
   ]
  },
  {
   "cell_type": "code",
   "execution_count": 44,
   "metadata": {
    "collapsed": false
   },
   "outputs": [
    {
     "data": {
      "text/plain": [
       "True"
      ]
     },
     "execution_count": 44,
     "metadata": {},
     "output_type": "execute_result"
    }
   ],
   "source": [
    "expand(a.dot(b.cross(c)))== expand(b.dot(c.cross(a)))==expand(c.dot(a.cross(b)))"
   ]
  },
  {
   "cell_type": "code",
   "execution_count": 45,
   "metadata": {
    "collapsed": false
   },
   "outputs": [
    {
     "data": {
      "text/plain": [
       "False"
      ]
     },
     "execution_count": 45,
     "metadata": {},
     "output_type": "execute_result"
    }
   ],
   "source": [
    "expand(a.cross(b.cross(c)))== expand(b.cross(c.cross(a)))"
   ]
  },
  {
   "cell_type": "code",
   "execution_count": 47,
   "metadata": {
    "collapsed": false
   },
   "outputs": [
    {
     "data": {
      "text/plain": [
       "True"
      ]
     },
     "execution_count": 47,
     "metadata": {},
     "output_type": "execute_result"
    }
   ],
   "source": [
    "expand(a.cross(b.cross(c))) == expand(a.dot(c)*b - a.dot(b)*c)"
   ]
  },
  {
   "cell_type": "markdown",
   "metadata": {},
   "source": [
    "<h2>Reciprocal Sets of Vectors</h2>\n",
    "    $$\\mathbf{a},\\ \\mathbf{b},\\ \\mathbf{c}\\quad and\\quad \\mathbf{A},\\ \\mathbf{B},\\ \\mathbf{C}$$ <br>are reciprocal if <br>\n",
    "    $$\\mathbf{a}\\cdot\\mathbf{A} = \\mathbf{b}\\cdot\\mathbf{B} = \\mathbf{c}\\cdot\\mathbf{C} = 1\\\\\n",
    "    \\mathbf{A}\\cdot\\mathbf{b} = \\mathbf{A}\\cdot\\mathbf{c} = \\mathbf{B}\\cdot\\mathbf{a} = \\mathbf{B}\\cdot\\mathbf{c} = \\mathbf{C}\\cdot\\mathbf{a} = \\mathbf{C}\\cdot\\mathbf{b} = 0 $$\n",
    "   \n",
    "<br>\n",
    " if and only if\n",
    "\n",
    "$$\n",
    "    \\large \\mathbf A = \\frac{ \\mathbf b \\times \\mathbf c}{\\mathbf a . \\mathbf b \\times \\mathbf c}\\qquad      \\large \\mathbf B = \\frac{ \\mathbf c \\times \\mathbf a}{\\mathbf a . \\mathbf b \\times \\mathbf c}\\qquad    \\large \\mathbf C = \\frac{ \\mathbf a \\times \\mathbf b}{\\mathbf a . \\mathbf b \\times \\mathbf c}$$"
   ]
  },
  {
   "cell_type": "code",
   "execution_count": null,
   "metadata": {
    "collapsed": true
   },
   "outputs": [],
   "source": []
  }
 ],
 "metadata": {
  "kernelspec": {
   "display_name": "Python 2",
   "language": "python",
   "name": "python2"
  },
  "language_info": {
   "codemirror_mode": {
    "name": "ipython",
    "version": 2
   },
   "file_extension": ".py",
   "mimetype": "text/x-python",
   "name": "python",
   "nbconvert_exporter": "python",
   "pygments_lexer": "ipython2",
   "version": "2.7.10"
  }
 },
 "nbformat": 4,
 "nbformat_minor": 0
}
