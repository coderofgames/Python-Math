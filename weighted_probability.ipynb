{
 "cells": [
  {
   "cell_type": "markdown",
   "metadata": {},
   "source": [
    "This Notebook is a basic Random number and probability notebook, as a reference for basic probability calculations\n",
    "<br> Links / sources: \n",
    "<br> 1) http://www.python-course.eu/python_numpy_probability.php"
   ]
  },
  {
   "cell_type": "code",
   "execution_count": 1,
   "metadata": {
    "collapsed": false
   },
   "outputs": [
    {
     "data": {
      "text/plain": [
       "[3, 1, 5, 6, 4, 6, 5, 5, 2, 2]"
      ]
     },
     "execution_count": 1,
     "metadata": {},
     "output_type": "execute_result"
    }
   ],
   "source": [
    "import random\n",
    "[ random.randint(1, 6) for _ in range(10) ]"
   ]
  },
  {
   "cell_type": "code",
   "execution_count": 2,
   "metadata": {
    "collapsed": false
   },
   "outputs": [
    {
     "name": "stdout",
     "output_type": "stream",
     "text": [
      "1\n"
     ]
    }
   ],
   "source": [
    "import random\n",
    "outcome = random.randint(1,6)\n",
    "print(outcome)"
   ]
  },
  {
   "cell_type": "code",
   "execution_count": 3,
   "metadata": {
    "collapsed": false
   },
   "outputs": [
    {
     "name": "stdout",
     "output_type": "stream",
     "text": [
      "[3 3 5 2 6 1 5 3 3 2]\n"
     ]
    }
   ],
   "source": [
    "import numpy as np\n",
    "outcome = np.random.randint(1, 7, size=10)\n",
    "print(outcome)"
   ]
  },
  {
   "cell_type": "code",
   "execution_count": 4,
   "metadata": {
    "collapsed": false
   },
   "outputs": [
    {
     "name": "stdout",
     "output_type": "stream",
     "text": [
      "1\n",
      "[1]\n",
      "[1 4 3 1 5 6 5 1 1 3]\n",
      "[4 3 1 1 2 4 6 1 4 2]\n",
      "[[5 6 5 2]\n",
      " [6 4 6 1]\n",
      " [1 2 3 5]\n",
      " [6 5 2 3]\n",
      " [5 3 1 6]]\n"
     ]
    }
   ],
   "source": [
    "print(np.random.randint(1, 7))\n",
    "print(np.random.randint(1, 7, size=1))\n",
    "print(np.random.randint(1, 7, size=10))\n",
    "print(np.random.randint(1, 7, size=(10,))) # the same as the previous one\n",
    "print(np.random.randint(1, 7, size=(5, 4)))"
   ]
  },
  {
   "cell_type": "code",
   "execution_count": 5,
   "metadata": {
    "collapsed": false
   },
   "outputs": [
    {
     "name": "stdout",
     "output_type": "stream",
     "text": [
      "a\n",
      "philosopher\n",
      "cherries\n"
     ]
    }
   ],
   "source": [
    "from random import choice\n",
    "professions = [\"scientist\", \"philosopher\", \"engineer\", \"priest\"]\n",
    "print(choice(\"abcdefghij\"))\n",
    "print(choice(professions))\n",
    "print(choice((\"apples\", \"bananas\", \"cherries\")))"
   ]
  },
  {
   "cell_type": "code",
   "execution_count": 10,
   "metadata": {
    "collapsed": false
   },
   "outputs": [
    {
     "name": "stdout",
     "output_type": "stream",
     "text": [
      "-1\n",
      "0\n",
      "0\n",
      "1\n",
      "2\n",
      "2\n",
      "3\n",
      "4\n",
      "6\n",
      "6\n",
      "-1\n",
      "-1\n"
     ]
    }
   ],
   "source": [
    "def find_interval(x, partition):\n",
    "    \"\"\" find_interval -> i\n",
    "        partition is a sequence of numerical values\n",
    "        x is a numerical value\n",
    "        The return value \"i\" will be the index for which applies\n",
    "        partition[i] < x < partition[i+1], if such an index exists.\n",
    "        -1 otherwise\n",
    "    \"\"\"\n",
    "    \n",
    "    for i in range(0, len(partition)):\n",
    "        if x < partition[i]:\n",
    "            return i-1\n",
    "    return -1\n",
    "\n",
    "I = [0, 3, 5, 7.8, 9, 12, 13.8, 16]\n",
    "for x in [-1.3, 0, 0.1, 3.2, 5, 6.2, 7.9, 10.8, 13.9, 15, 16, 16.5]:\n",
    "    print(find_interval(x, I))"
   ]
  },
  {
   "cell_type": "code",
   "execution_count": 11,
   "metadata": {
    "collapsed": false
   },
   "outputs": [
    {
     "name": "stdout",
     "output_type": "stream",
     "text": [
      "[0, 0.20000000000000001, 0.69999999999999996, 1.0]\n"
     ]
    }
   ],
   "source": [
    "weights = [0.2, 0.5, 0.3]\n",
    "cum_weights = [0] + list(np.cumsum(weights))\n",
    "print(cum_weights)"
   ]
  },
  {
   "cell_type": "code",
   "execution_count": 4,
   "metadata": {
    "collapsed": true
   },
   "outputs": [],
   "source": [
    "def weighted_choice(sequence, weights):\n",
    "    \"\"\" \n",
    "    weighted_choice selects a random element of \n",
    "    the sequence according to the list of weights\n",
    "    \"\"\"\n",
    "    x = np.random.random()\n",
    "    cum_weights = [0] + list(np.cumsum(weights))\n",
    "    index = find_interval(x, cum_weights)\n",
    "    return sequence[index]"
   ]
  },
  {
   "cell_type": "code",
   "execution_count": 28,
   "metadata": {
    "collapsed": false
   },
   "outputs": [
    {
     "name": "stdout",
     "output_type": "stream",
     "text": [
      "[0.08333333333333333, 0.16666666666666666, 0.16666666666666666, 0.16666666666666666, 0.16666666666666666, 0.25]\n",
      "[0, 0.083333333333333329, 0.25, 0.41666666666666663, 0.58333333333333326, 0.74999999999999989, 0.99999999999999989]\n",
      "6\n",
      "[0.09, 0.14, 0.15, 0.17, 0.18, 0.27]\n"
     ]
    }
   ],
   "source": [
    "from collections import Counter\n",
    "\n",
    "faces_of_die = [1, 2, 3, 4, 5, 6]\n",
    "die_weights = [float(1./12.), float(1./6.), float(1./6.), float(1./6.), float(1./6.), float(3./12.)]\n",
    "print(die_weights)\n",
    "cum_weights = [0] + list(np.cumsum(die_weights))\n",
    "print(cum_weights)\n",
    "\n",
    "a = weighted_choice(faces_of_die, die_weights)\n",
    "print(a)\n",
    "\n",
    "outcomes = []\n",
    "n = 100\n",
    "for _ in range(n):\n",
    "    a = weighted_choice(faces_of_die, die_weights)\n",
    "    outcomes.append(a)\n",
    "    #print(a )\n",
    "    c = Counter(outcomes)\n",
    "    #print(c)\n",
    "\n",
    "for key in c:\n",
    "    c[key] = c[key] / float(n)\n",
    "    \n",
    "print(sorted(c.values()))\n"
   ]
  },
  {
   "cell_type": "code",
   "execution_count": 7,
   "metadata": {
    "collapsed": false
   },
   "outputs": [
    {
     "name": "stdout",
     "output_type": "stream",
     "text": [
      "Endpoints are included:\n",
      "-1\n",
      "0\n",
      "0\n",
      "1\n",
      "2\n",
      "2\n",
      "3\n",
      "4\n",
      "6\n",
      "6\n",
      "-1\n",
      "-1\n",
      "\n",
      "Endpoints are not included:\n",
      "0\n",
      "1\n",
      "1\n",
      "2\n",
      "3\n",
      "3\n",
      "4\n",
      "5\n",
      "7\n",
      "7\n",
      "8\n",
      "8\n"
     ]
    }
   ],
   "source": [
    "def find_interval(x, \n",
    "                  partition, \n",
    "                  endpoints=True):\n",
    "    \"\"\" find_interval -> i\n",
    "        If endpoints is True, \"i\" will be the index for which applies\n",
    "        partition[i] < x < partition[i+1], if such an index exists.\n",
    "        -1 otherwise\n",
    "        \n",
    "        If endpoints is False, \"i\" will be the smallest index \n",
    "        for which applies x < partition[i]. If no such index exists \n",
    "        \"i\" will be set to len(partition)\n",
    "    \"\"\"\n",
    "    for i in range(0, len(partition)):\n",
    "        if x < partition[i]:\n",
    "            return i-1 if endpoints else i\n",
    "    return -1 if endpoints else len(partition)\n",
    "\n",
    "\n",
    "\n",
    "I = [0, 3, 5, 7.8, 9, 12, 13.8, 16]\n",
    "print(\"Endpoints are included:\")\n",
    "for x in [-1.3, 0, 0.1, 3.2, 5, 6.2, 7.9, 10.8, 13.9, 15, 16, 16.5]:\n",
    "    print(find_interval(x, I))\n",
    "print(\"\\nEndpoints are not included:\")\n",
    "for x in [-1.3, 0, 0.1, 3.2, 5, 6.2, 7.9, 10.8, 13.9, 15, 16, 16.5]:\n",
    "    print(find_interval(x, I, endpoints=False))"
   ]
  },
  {
   "cell_type": "code",
   "execution_count": 30,
   "metadata": {
    "collapsed": false
   },
   "outputs": [
    {
     "name": "stdout",
     "output_type": "stream",
     "text": [
      "[[ 0.80667812  0.71847484  0.05225326  0.97078273]\n",
      " [ 0.75725888  0.37951307  0.47829468  0.05099419]\n",
      " [ 0.36242983  0.55804681  0.03015922  0.3382892 ]]\n"
     ]
    }
   ],
   "source": [
    "x = np.random.random_sample((3, 4))\n",
    "print(x)"
   ]
  },
  {
   "cell_type": "code",
   "execution_count": 31,
   "metadata": {
    "collapsed": false
   },
   "outputs": [
    {
     "name": "stdout",
     "output_type": "stream",
     "text": [
      "[ 0.9197109   0.70347693  0.44092007  0.57915646  0.83484464  0.5061981\n",
      "  0.52446929]\n",
      "[ 0.22058113  0.53250478  0.13092539  0.64647881  0.28762194  0.3009887\n",
      "  0.9888178 ]\n"
     ]
    }
   ],
   "source": [
    "x = np.random.random_sample(7)\n",
    "print(x)\n",
    "y = np.random.random_sample((7,))\n",
    "print(y)"
   ]
  },
  {
   "cell_type": "code",
   "execution_count": 32,
   "metadata": {
    "collapsed": false
   },
   "outputs": [
    {
     "name": "stdout",
     "output_type": "stream",
     "text": [
      "[[ 4.81114616  2.21416389  1.32257958 -0.54437576]\n",
      " [-2.70473544  3.91273048  2.85601878  4.19561377]\n",
      " [ 2.1089051  -2.17281901 -1.68792872  3.14933103]]\n"
     ]
    }
   ],
   "source": [
    "a = -3.4\n",
    "b = 5.9\n",
    "A = (b - a) * np.random.random_sample((3, 4)) + a\n",
    "print(A)"
   ]
  },
  {
   "cell_type": "code",
   "execution_count": 33,
   "metadata": {
    "collapsed": false
   },
   "outputs": [
    {
     "name": "stdout",
     "output_type": "stream",
     "text": [
      "[34, 29, 26, 9, 10, 16]\n"
     ]
    }
   ],
   "source": [
    "print(random.sample(range(1, 50), 6))"
   ]
  },
  {
   "cell_type": "code",
   "execution_count": 11,
   "metadata": {
    "collapsed": true
   },
   "outputs": [],
   "source": [
    "def weighted_sample_alternative(population, weights, k):\n",
    "    \"\"\" \n",
    "    Alternative way to previous implementation.\n",
    "        \n",
    "    This function draws a random sample of length k \n",
    "    from the sequence 'population' according to the \n",
    "    list of weights\n",
    "    \"\"\"\n",
    "    sample = set()\n",
    "    population = list(population)\n",
    "    weights = list(weights)\n",
    "    while len(sample) < k:\n",
    "        choice = weighted_choice(population, weights)\n",
    "        if choice not in sample:\n",
    "            sample.add(choice)\n",
    "    return list(sample)"
   ]
  },
  {
   "cell_type": "code",
   "execution_count": null,
   "metadata": {
    "collapsed": false
   },
   "outputs": [],
   "source": [
    "balls = [\"red\", \"green\", \"blue\", \"yellow\", \"black\", \"white\", \"pink\", \"orange\"]\n",
    "weights = [ 1/24, 1/6, 1/6, 1/12, 1/12, 1/24, 1/8, 7/24]\n",
    "for i in range(10):\n",
    "    print(weighted_sample_alternative(balls, weights, 3))"
   ]
  },
  {
   "cell_type": "code",
   "execution_count": 2,
   "metadata": {
    "collapsed": true
   },
   "outputs": [],
   "source": [
    "from collections import Counter\n",
    "import numpy as np\n",
    "import random\n",
    "def weighted_sample(population, weights, k):\n",
    "    \"\"\" \n",
    "    This function draws a random sample of length k \n",
    "    from the sequence 'population' according to the \n",
    "    list of weights\n",
    "    \"\"\"\n",
    "    sample = set()\n",
    "    population = list(population)\n",
    "    weights = list(weights)\n",
    "    while len(sample) < k:\n",
    "        choice = weighted_choice(population, weights)\n",
    "        sample.add(choice)\n",
    "        index = population.index(choice)\n",
    "        weights.pop(index)\n",
    "        population.remove(choice)\n",
    "        weights = [ x / sum(weights) for x in weights]\n",
    "    return list(sample)"
   ]
  },
  {
   "cell_type": "code",
   "execution_count": 9,
   "metadata": {
    "collapsed": false
   },
   "outputs": [
    {
     "name": "stdout",
     "output_type": "stream",
     "text": [
      "['blue', 'black', 'yellow']\n",
      "['blue', 'white', 'green']\n",
      "['blue', 'pink', 'green']\n",
      "['orange', 'pink', 'yellow']\n",
      "['orange', 'pink', 'green']\n",
      "['orange', 'blue', 'red']\n",
      "['orange', 'white', 'yellow']\n",
      "['pink', 'blue', 'black']\n",
      "['pink', 'green', 'yellow']\n",
      "['orange', 'red', 'yellow']\n"
     ]
    }
   ],
   "source": [
    "balls = [\"red\", \"green\", \"blue\", \"yellow\", \"black\", \"white\", \"pink\", \"orange\"]\n",
    "weights = [ 1./24., 1./6., 1./6., 1./12., 1./12., 1./24., 1./8., 7./24.]\n",
    "for i in range(10):\n",
    "    print(weighted_sample(balls, weights, 3))"
   ]
  },
  {
   "cell_type": "code",
   "execution_count": 14,
   "metadata": {
    "collapsed": false
   },
   "outputs": [
    {
     "name": "stdout",
     "output_type": "stream",
     "text": [
      "0.71241\n",
      "0.712\n"
     ]
    }
   ],
   "source": [
    "n = 100000\n",
    "orange_counter = 0\n",
    "orange_counter_alternative = 0\n",
    "for i in range(n):\n",
    "    if \"orange\" in weighted_sample(balls, weights, 3):\n",
    "        orange_counter += 1\n",
    "    if \"orange\" in weighted_sample_alternative(balls, weights, 3):\n",
    "        orange_counter_alternative += 1 \n",
    "        \n",
    "m = float(n)\n",
    "print(orange_counter / m)\n",
    "print(orange_counter_alternative / m)"
   ]
  },
  {
   "cell_type": "code",
   "execution_count": 15,
   "metadata": {
    "collapsed": false
   },
   "outputs": [
    {
     "data": {
      "text/plain": [
       "['A', 'green', 'light', 'blinks']"
      ]
     },
     "execution_count": 15,
     "metadata": {},
     "output_type": "execute_result"
    }
   ],
   "source": [
    "import random\n",
    "def cartesian_choice(*iterables):\n",
    "    \"\"\"\n",
    "    A list with random choices from each iterable of iterables \n",
    "    is being created in respective order.\n",
    "    \n",
    "    The result list can be seen as an element of the \n",
    "    Cartesian product of the iterables \n",
    "    \"\"\"\n",
    "    res = []\n",
    "    for population in iterables:\n",
    "        res.append(random.choice(population))\n",
    "    return res\n",
    "cartesian_choice([\"The\", \"A\"],\n",
    "                 [\"red\", \"green\", \"blue\", \"yellow\", \"grey\"], \n",
    "                 [\"car\", \"house\", \"fish\", \"light\"],\n",
    "                 [\"smells\", \"dreams\", \"blinks\"])"
   ]
  },
  {
   "cell_type": "code",
   "execution_count": 16,
   "metadata": {
    "collapsed": false
   },
   "outputs": [
    {
     "name": "stdout",
     "output_type": "stream",
     "text": [
      "It may or may not be true:\n",
      "The green light dreams of chocolate.\n",
      "A green light thinks of happiness.\n",
      "Each yellow water dreams of challenges.\n",
      "No green fish smells of air.\n",
      "The blue water thinks of happiness.\n",
      "The yellow water thinks of chocolate.\n",
      "The blue water thinks of happiness.\n",
      "A red water thinks of challenges.\n",
      "Every red elephant dreams of happiness.\n",
      "A yellow programming language smells of chocolate.\n"
     ]
    }
   ],
   "source": [
    "import random\n",
    "def weighted_cartesian_choice(*iterables):\n",
    "    \"\"\"\n",
    "    A list with weighted random choices from each iterable of iterables \n",
    "    is being created in respective order\n",
    "    \"\"\"\n",
    "    res = []\n",
    "    for population, weight in iterables:\n",
    "        lst = weighted_choice(population, weight)\n",
    "        res.append(lst)\n",
    "    return res\n",
    "determiners = ([\"The\", \"A\", \"Each\", \"Every\", \"No\"], \n",
    "               [0.3, 0.3, 0.1, 0.1, 0.2])\n",
    "colours = ([\"red\", \"green\", \"blue\", \"yellow\", \"grey\"], \n",
    "           [0.1, 0.3, 0.3, 0.2, 0.2])\n",
    "nouns = ([\"water\", \"elephant\", \"fish\", \"light\", \"programming language\"], \n",
    "         [0.3, 0.2, 0.1, 0.1, 0.3])\n",
    "nouns2 = ([\"of happiness\", \"of chocolate\", \"of wisdom\", \"of challenges\", \"of air\"], \n",
    "         [0.5, 0.2, 0.1, 0.1, 0.1])\n",
    "\n",
    "print(\"It may or may not be true:\")\n",
    "for i in range(10):\n",
    "    res = weighted_cartesian_choice(determiners,\n",
    "                                    colours,\n",
    "                                    nouns,\n",
    "                                    verb_phrases,\n",
    "                                    nouns2)\n",
    "    print(\" \".join(res) + \".\")"
   ]
  },
  {
   "cell_type": "code",
   "execution_count": 21,
   "metadata": {
    "collapsed": false
   },
   "outputs": [
    {
     "name": "stdout",
     "output_type": "stream",
     "text": [
      "('is made of', 0.0972)\n",
      "('smells', 0.4037)\n",
      "('dreams', 0.3002)\n",
      "('thinks', 0.1989)\n"
     ]
    }
   ],
   "source": [
    "verb_phrases = ([\"smells\", \"dreams\", \"thinks\", \"is made of\"],[0.4, 0.3, 0.2, 0.1])\n",
    "sentences = []\n",
    "for i in range(10000):\n",
    "    res = weighted_cartesian_choice(determiners,\n",
    "                                    colours,\n",
    "                                    nouns,\n",
    "                                    verb_phrases,\n",
    "                                    nouns2)\n",
    "    sentences.append(\" \".join(res) + \".\")\n",
    "words = [\"smells\", \"dreams\", \"thinks\", \"is made of\"]\n",
    "from collections import Counter\n",
    "c = Counter()\n",
    "for sentence in sentences:\n",
    "    for word in words:\n",
    "        if word in sentence:\n",
    "            c[word] += 1\n",
    "  \n",
    "wsum = sum(c.values())\n",
    "for key in c:\n",
    "    print(key, c[key] / float(wsum))"
   ]
  },
  {
   "cell_type": "code",
   "execution_count": 22,
   "metadata": {
    "collapsed": false
   },
   "outputs": [
    {
     "name": "stdout",
     "output_type": "stream",
     "text": [
      "Help on method seed in module random:\n",
      "\n",
      "seed(self, a=None) method of random.Random instance\n",
      "    Initialize internal state from hashable object.\n",
      "    \n",
      "    None or no argument seeds from current time or from an operating\n",
      "    system specific randomness source if available.\n",
      "    \n",
      "    If a is not None or an int or long, hash(a) is used instead.\n",
      "\n"
     ]
    }
   ],
   "source": [
    "help(random.seed)"
   ]
  },
  {
   "cell_type": "code",
   "execution_count": 24,
   "metadata": {
    "collapsed": false
   },
   "outputs": [
    {
     "name": "stdout",
     "output_type": "stream",
     "text": [
      "7\n",
      "1\n",
      "3\n",
      "3\n",
      "8\n",
      "7\n",
      "9\n",
      "1\n",
      "5\n",
      "1\n",
      "\n",
      "Let's create the same random numbers again:\n",
      "7\n",
      "1\n",
      "3\n",
      "3\n",
      "8\n",
      "7\n",
      "9\n",
      "1\n",
      "5\n",
      "1\n"
     ]
    }
   ],
   "source": [
    "random.seed(42)\n",
    "for _ in range(10):\n",
    "    print(random.randint(1, 10))\n",
    "    \n",
    "print(\"\\nLet's create the same random numbers again:\")\n",
    "random.seed(42)\n",
    "for _ in range(10):\n",
    "    print(random.randint(1, 10))"
   ]
  },
  {
   "cell_type": "code",
   "execution_count": 25,
   "metadata": {
    "collapsed": false
   },
   "outputs": [
    {
     "name": "stdout",
     "output_type": "stream",
     "text": [
      "[186.96893210720162, 214.90676059797428, 199.69909520396007, 183.31521532331496, 157.85035192965537, 149.56012897536849, 187.39026585633607, 219.33242481612143, 181.24970591710152, 176.81030118687647]\n"
     ]
    }
   ],
   "source": [
    "from random import gauss\n",
    "n = 1000\n",
    "values = []\n",
    "frequencies = {}\n",
    "while len(values) < n:\n",
    "    value = gauss(180, 30)\n",
    "    if 130 < value < 230:\n",
    "        frequencies[int(value)] = frequencies.get(int(value), 0) + 1\n",
    "        values.append(value)\n",
    "        \n",
    "print(values[:10])"
   ]
  },
  {
   "cell_type": "code",
   "execution_count": 26,
   "metadata": {
    "collapsed": false
   },
   "outputs": [
    {
     "data": {
      "text/plain": [
       "[<matplotlib.lines.Line2D at 0xa9f8630>]"
      ]
     },
     "execution_count": 26,
     "metadata": {},
     "output_type": "execute_result"
    },
    {
     "data": {
      "image/png": "[encoded data removed]",
      "text/plain": [
       "<matplotlib.figure.Figure at 0x3f1bcc0>"
      ]
     },
     "metadata": {},
     "output_type": "display_data"
    }
   ],
   "source": [
    "%matplotlib inline\n",
    "import matplotlib.pyplot as plt\n",
    "freq = list(frequencies.items())\n",
    "freq.sort()\n",
    "plt.plot(*list(zip(*freq)))"
   ]
  },
  {
   "cell_type": "code",
   "execution_count": 27,
   "metadata": {
    "collapsed": false
   },
   "outputs": [
    {
     "data": {
      "text/plain": [
       "[<matplotlib.lines.Line2D at 0xaa65550>]"
      ]
     },
     "execution_count": 27,
     "metadata": {},
     "output_type": "execute_result"
    },
    {
     "data": {
      "image/png": "[encoded data removed]",
      "text/plain": [
       "<matplotlib.figure.Figure at 0x44f29b0>"
      ]
     },
     "metadata": {},
     "output_type": "display_data"
    }
   ],
   "source": [
    "from random import normalvariate\n",
    "n = 1000\n",
    "values = []\n",
    "frequencies = {}\n",
    "while len(values) < n:\n",
    "    value = normalvariate(180, 30)\n",
    "    if 130 < value < 230:\n",
    "        frequencies[int(value)] = frequencies.get(int(value), 0) + 1\n",
    "        values.append(value)\n",
    "freq = list(frequencies.items())\n",
    "freq.sort()\n",
    "plt.plot(*list(zip(*freq)))"
   ]
  },
  {
   "cell_type": "code",
   "execution_count": 28,
   "metadata": {
    "collapsed": true
   },
   "outputs": [],
   "source": [
    "def random_ones_and_zeros(p):\n",
    "    \"\"\" p: probability 0 <= p <= 1\n",
    "        returns a 1 with the probability p\n",
    "    \"\"\"\n",
    "    x = random.random()\n",
    "    if x < p:\n",
    "        return 1\n",
    "    else:\n",
    "        return 0"
   ]
  },
  {
   "cell_type": "code",
   "execution_count": 29,
   "metadata": {
    "collapsed": false
   },
   "outputs": [
    {
     "data": {
      "text/plain": [
       "0.800607"
      ]
     },
     "execution_count": 29,
     "metadata": {},
     "output_type": "execute_result"
    }
   ],
   "source": [
    "n = 1000000\n",
    "sum(random_ones_and_zeros(0.8) for i in range(n)) / float(n)"
   ]
  },
  {
   "cell_type": "code",
   "execution_count": 30,
   "metadata": {
    "collapsed": true
   },
   "outputs": [],
   "source": [
    "def random_ones_and_zeros2(p):\n",
    "    while True:\n",
    "        x = random.random()\n",
    "        yield 1 if x < p else 0\n",
    "        \n",
    "def firstn(generator, n):\n",
    "    for i in range(n):\n",
    "        yield next(generator)"
   ]
  },
  {
   "cell_type": "code",
   "execution_count": 32,
   "metadata": {
    "collapsed": false
   },
   "outputs": [
    {
     "data": {
      "text/plain": [
       "0.799764"
      ]
     },
     "execution_count": 32,
     "metadata": {},
     "output_type": "execute_result"
    }
   ],
   "source": [
    "n = 1000000\n",
    "sum(x for x in firstn(random_ones_and_zeros2(0.8), n)) / float(n)"
   ]
  },
  {
   "cell_type": "code",
   "execution_count": 33,
   "metadata": {
    "collapsed": true
   },
   "outputs": [],
   "source": [
    "sales = np.array([1245.89, 2220.00, 1635.77, 1936.25, 1002.03, 2099.13,  723.99, 990.37, 541.44, 1765.00, 1802.84, 1999.00])"
   ]
  },
  {
   "cell_type": "code",
   "execution_count": 34,
   "metadata": {
    "collapsed": false
   },
   "outputs": [
    {
     "name": "stdout",
     "output_type": "stream",
     "text": [
      "[ 1.04604086  1.01078583  1.02472685  1.02965328  0.98971502  1.01929697\n",
      "  0.98883695  0.9867588   1.0592897   1.04736665  1.01160228  0.99764425]\n"
     ]
    }
   ],
   "source": [
    "min_percent = 0.98  # corresponds to -1.5 %\n",
    "max_percent = 1.06   # 6 %\n",
    "growthrates = (max_percent - min_percent) * np.random.random_sample(12) + min_percent\n",
    "print(growthrates)"
   ]
  },
  {
   "cell_type": "code",
   "execution_count": 35,
   "metadata": {
    "collapsed": false
   },
   "outputs": [
    {
     "data": {
      "text/plain": [
       "array([ 1303.25184745,  2243.94454587,  1676.21744695,  1993.66616968,\n",
       "         991.72413858,  2139.63685567,   715.90806543,   977.25631451,\n",
       "         573.54181462,  1848.60214363,  1823.75705312,  1994.29086261])"
      ]
     },
     "execution_count": 35,
     "metadata": {},
     "output_type": "execute_result"
    }
   ],
   "source": [
    "sales * growthrates"
   ]
  },
  {
   "cell_type": "code",
   "execution_count": 36,
   "metadata": {
    "collapsed": true
   },
   "outputs": [],
   "source": [
    "fh = open(\"sales_figures.csv\", \"w\")\n",
    "fh.write(\"Year, Frankfurt, Munich, Berlin, Zurich, Hamburg, London, Toronto, Strasbourg, Luxembourg, Amsterdam, Rotterdam, The Hague\\n\")\n",
    "sales = np.array([1245.89, 2220.00, 1635.77, 1936.25, 1002.03, 2099.13,  723.99, 990.37, 541.44, 1765.00, 1802.84, 1999.00])\n",
    "for year in range(1997, 2016):\n",
    "    line = str(year) + \", \" + \", \".join(map(str, sales))\n",
    "    fh.write(line + \"\\n\")\n",
    "    if year % 4 == 0:\n",
    "         min_percent = 0.98  # corresponds to -1.5 %\n",
    "         max_percent = 1.06   # 6 %\n",
    "         growthrates = (max_percent - min_percent) * np.random.random_sample(12) + min_percent\n",
    "         #growthrates = 1 + (np.random.rand(12) * max_percent - negative_max) / 100\n",
    "    sales = np.around(sales * growthrates, 2)\n",
    "fh.close()"
   ]
  },
  {
   "cell_type": "code",
   "execution_count": 38,
   "metadata": {
    "collapsed": false
   },
   "outputs": [
    {
     "name": "stdout",
     "output_type": "stream",
     "text": [
      "0.5058\n",
      "0.6682\n",
      "0.3373\n"
     ]
    }
   ],
   "source": [
    "from random import randint\n",
    "outcomes = [ randint(1, 6) for _ in range(10000)]\n",
    "even_pips = [ x for x in outcomes if x % 2 == 0]\n",
    "greater_two = [ x for x in outcomes if x > 2]\n",
    "combined = [ x for x in outcomes if x % 2 == 0 and x > 2]\n",
    "print(len(even_pips) / float(len(outcomes)))\n",
    "print(len(greater_two) / float(len(outcomes)))\n",
    "print(len(combined) / float(len(outcomes)))"
   ]
  },
  {
   "cell_type": "code",
   "execution_count": null,
   "metadata": {
    "collapsed": true
   },
   "outputs": [],
   "source": []
  }
 ],
 "metadata": {
  "kernelspec": {
   "display_name": "Python 2",
   "language": "python",
   "name": "python2"
  },
  "language_info": {
   "codemirror_mode": {
    "name": "ipython",
    "version": 2
   },
   "file_extension": ".py",
   "mimetype": "text/x-python",
   "name": "python",
   "nbconvert_exporter": "python",
   "pygments_lexer": "ipython2",
   "version": "2.7.10"
  }
 },
 "nbformat": 4,
 "nbformat_minor": 0
}
