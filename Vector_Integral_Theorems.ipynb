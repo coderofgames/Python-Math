{
 "cells": [
  {
   "cell_type": "markdown",
   "metadata": {},
   "source": [
    "<h1>6) The Divergence Thereom, Stokes Thereom and related Integral Theorems</h1>\n",
    "\n",
    "Bibliography: Shaums Vector Analysis, Spiegel. To be expanded ...\n",
    " \n",
    "<h2>\n",
    "The Divergence Theorem of Gauss \n",
    " </h2>\n",
    "\n",
    "states that if V is the volume bounded by a closed surface S and <b>A</b> is a vector function of postion with continuous derivatives then\n",
    "\n",
    "$$\n",
    "\\iiint \\mathbf{div}\\ \\mathbf A\\ dV=\\iiint \\nabla.\\mathbf A\\ dV=\\iint \\mathbf A.\\mathbf n dS=\\iint \\mathbf A.d\\mathbf s \n",
    "$$\n",
    "where <b>n</b> is the positive outward normal to S."
   ]
  },
  {
   "cell_type": "markdown",
   "metadata": {},
   "source": [
    "<h2>\n",
    "Stokes Theorem\n",
    " </h2>   \n",
    "\n",
    "states that if S is an open two sided surface bounded by a closed non-intersecting curve C (simple closed curve) then if A has continuous derivatives\n",
    "$$\n",
    "\\\n",
    "    \\oint_C \\mathbf A.d \\mathbf r=\\iint \\mathbf {curl}\\ \\mathbf A.\\mathbf n\\ dS = \\iint (\\nabla \\times \\mathbf A) \\cdot d\\mathbf s\n",
    "$$\n",
    "\n",
    "where C is traversed in the positive direction. The direction of C is called positive if an observer walking on the boundary of S in this direction with head pointing in the direction of positive normal to S, has the surface on his left.\n"
   ]
  },
  {
   "cell_type": "markdown",
   "metadata": {},
   "source": [
    "<h2>\n",
    "Greens Theorem in the plane\n",
    "</h2>\n",
    "\n",
    "If R is a closed region of the xy plane bounded by a simple closed curve C and if M and N are continuous functions of x and y having continuous derivatives in R then\n",
    "\n",
    "$$\n",
    "\\oint_C (M dx + N dy)=\\iint_R \\left( \\frac{\\partial N}{\\partial x}-\\frac{\\partial M}{\\partial y} \\right )dx\\ dy        \n",
    "$$\n",
    "\n",
    "where C is traversed in the positive (CCW) direction.  Greens integral in the plane is a special case of stokes theorem. Also Gauss divergence theorem is a generalization of Greens theorem where the plane region R and its closed boundary curve C are replaced by a space region V and a closed boundary surface S. \n",
    "\n",
    "    \n",
    "\n",
    "Greens theorem also holds for regions bounded by a finite number of simple closed curves which do not intersect."
   ]
  },
  {
   "cell_type": "markdown",
   "metadata": {},
   "source": [
    " <h2>Related Integral Theorems.</h2>\n",
    "\n",
    "\n",
    "<br>\n",
    "<b>1.</b>      $\\quad   \\displaystyle\\iiint \\left ( \\phi \\nabla^2 \\psi + \\nabla \\phi\\cdot \\nabla \\psi \\right )dV= \\iint \\phi \\nabla \\psi\\cdot d\\mathbf s \\quad $               Greens first identity \n",
    "\n",
    "<br>\n",
    "<br>\n",
    "<b>2.</b> $\\quad   \\displaystyle \\iiint \\left( \\phi \\nabla^2 \\psi + \\psi \\nabla^2 \\phi \\right)dV= \\iint \\left(\\phi \\nabla \\psi - \\psi \\nabla \\phi \\right)\\cdot d\\mathbf s  \\quad $       Greens Second Identity\n",
    "\n",
    "<br>\n",
    "<br>\n",
    "<b>3.</b>   $\\quad  \\displaystyle \\iiint \\left ( \\nabla \\times \\mathbf A\\right)dV= \\iint \\left( \\mathbf n \\times \\mathbf A \\right) dS=\\iint d\\mathbf s\\times \\mathbf A    \\quad $\n",
    "\n",
    "dot product of Gauss replaced by Cross operator\n",
    "<br>\n",
    "<br>\n",
    "<b>4.</b>   $\\quad  \\displaystyle \\oint \\phi\\ d\\mathbf r=\\iint \\left( \\mathbf n \\times \\nabla \\phi \\right)dS=\\iint \\left( d\\mathbf s\\times \\nabla \\phi \\right)\\quad $\n",
    "<br>\n",
    "<br>\n",
    "<b>5.</b> Let $\\psi$ represent either a vector or a scalar function according as the symbol $\\oplus$ denotes a dot or a cross or ordinary multiplication\n",
    "<br>\n",
    "\n",
    "   \n",
    "$$\n",
    "\\displaystyle\\iiint \\nabla \\oplus \\psi\\ dV=\\iint \\mathbf n \\oplus \\psi\\ dS=\\iint d\\mathbf s \\oplus \\psi\n",
    "\\\\\n",
    "\\oint d\\mathbf r \\oplus \\psi=\\iint \\left( \\mathbf n \\times \\nabla \\right) \\oplus \\psi\\ dS=\\iint \\left( d\\mathbf s\\times \\nabla \\right)\\oplus \\psi\n",
    "   $$    \n",
    "Gauss's diverence theorem, Stoke's theorem and the results 3 and 4 are special cases of these.\n",
    "<br>"
   ]
  },
  {
   "cell_type": "markdown",
   "metadata": {},
   "source": [
    "<h2> Integral operator form of DEL</h2>\n",
    "\n",
    "\n",
    "the operator DEL can be expressed symbolically as\n",
    "\n",
    "$$\n",
    "\\nabla\\oplus = \\lim_{\\Delta V\\to\\ 0}\\frac{1}{\\Delta V} \\iint_{\\Delta S} d\\mathbf s\\ \\oplus                                                                   $$                                                                                                                                                       where $\\oplus $ denotes a dot, cross or ordinary multiplication. The result is useful for extending the concepts of grad div and curl to coordinate systens other than rectangular."
   ]
  },
  {
   "cell_type": "code",
   "execution_count": null,
   "metadata": {
    "collapsed": true
   },
   "outputs": [],
   "source": []
  }
 ],
 "metadata": {
  "kernelspec": {
   "display_name": "Python 2",
   "language": "python",
   "name": "python2"
  },
  "language_info": {
   "codemirror_mode": {
    "name": "ipython",
    "version": 2
   },
   "file_extension": ".py",
   "mimetype": "text/x-python",
   "name": "python",
   "nbconvert_exporter": "python",
   "pygments_lexer": "ipython2",
   "version": "2.7.10"
  }
 },
 "nbformat": 4,
 "nbformat_minor": 0
}
