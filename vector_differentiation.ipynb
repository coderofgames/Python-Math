{
 "cells": [
  {
   "cell_type": "markdown",
   "metadata": {},
   "source": [
    "<h1>3) Vector Differentiation</h1>\n",
    "    \n",
    "\n",
    "<h2>Ordinary Derivatives of vectors.</h2>\n",
    "\n",
    "If $\\mathbf r$ is a vector function of a scalar variable, $t$ defined on a smooth continous interval in $R^1$ the real numbers, then $\\mathbf r = \\mathbf r(t)$ is a mapping from $R^1\\to E^3$, for each value $t_0$ in the interval there is a vector $\\mathbf r(t_0)$ in 3 dimensional euclidean space. The derivative of $\\mathbf r$ is defined as\n",
    "\n",
    "$$\n",
    " \\frac{\\delta \\mathbf{r}}{\\delta t}=\\frac{\\mathbf r(t + \\delta t)-\\mathbf r(t)}{\\delta t}\n",
    "$$\n",
    "\n",
    "\n",
    "$$\n",
    " \\frac{\\mathrm{d}\\mathbf r }{\\mathrm{d} t} = \\lim_{\\delta t \\to 0}\\frac{\\delta \\mathbf r}{\\delta t}=\\lim_{\\delta t \\to 0}\\frac{\\mathbf r(t+\\delta t)-\\mathbf r(t)}{\\delta t}\n",
    "$$\n",
    "\n",
    "In standard vector notation, with the basis $\\mathbf {i,j,k}$\n",
    " \n",
    "$$\n",
    " \\frac{\\mathrm{d}\\mathbf r }{\\mathrm{d} t} = \\frac{d r_1(t)}{dt}\\mathbf i + \\frac{d r_2(t)}{dt}\\mathbf j + \\frac{d r_3(t)}{dt}\\mathbf k $$\n",
    " \n",
    "The vector $r$ can be seen to describe a space curve if $\\mathbf r$\n",
    "\n",
    "\n",
    "$ \\large \\frac{\\mathrm{d}\\mathbf r }{\\mathrm{d} t} $  is a vector depending on t,  and $ \\large \\frac{\\mathrm{d}^2\\mathbf r }{\\mathrm{d} t^2} $\n",
    "is a vector if it exists."
   ]
  },
  {
   "cell_type": "code",
   "execution_count": 4,
   "metadata": {
    "collapsed": false
   },
   "outputs": [],
   "source": [
    "from sympy import *\n",
    "from sympy.vector import *\n",
    "N = CoordSysCartesian('N')\n",
    "u = symbols('u')\n",
    "r1,r2,r3 = symbols('r1 r2 r3')"
   ]
  },
  {
   "cell_type": "code",
   "execution_count": 3,
   "metadata": {
    "collapsed": false
   },
   "outputs": [
    {
     "ename": "NameError",
     "evalue": "name 'r1' is not defined",
     "output_type": "error",
     "traceback": [
      "\u001b[1;31m---------------------------------------------------------------------------\u001b[0m",
      "\u001b[1;31mNameError\u001b[0m                                 Traceback (most recent call last)",
      "\u001b[1;32m<ipython-input-3-9325b4ac67be>\u001b[0m in \u001b[0;36m<module>\u001b[1;34m()\u001b[0m\n\u001b[1;32m----> 1\u001b[1;33m \u001b[0mr\u001b[0m\u001b[1;33m=\u001b[0m\u001b[0mr1\u001b[0m\u001b[1;33m(\u001b[0m\u001b[0mu\u001b[0m\u001b[1;33m)\u001b[0m\u001b[1;33m*\u001b[0m\u001b[0mN\u001b[0m\u001b[1;33m.\u001b[0m\u001b[0mi\u001b[0m \u001b[1;33m+\u001b[0m \u001b[0mr2\u001b[0m\u001b[1;33m(\u001b[0m\u001b[0mu\u001b[0m\u001b[1;33m)\u001b[0m\u001b[1;33m*\u001b[0m\u001b[0mN\u001b[0m\u001b[1;33m.\u001b[0m\u001b[0mj\u001b[0m \u001b[1;33m+\u001b[0m \u001b[0mr3\u001b[0m\u001b[1;33m(\u001b[0m\u001b[0mu\u001b[0m\u001b[1;33m)\u001b[0m\u001b[1;33m*\u001b[0m\u001b[0mN\u001b[0m\u001b[1;33m.\u001b[0m\u001b[0mk\u001b[0m\u001b[1;33m\u001b[0m\u001b[0m\n\u001b[0m",
      "\u001b[1;31mNameError\u001b[0m: name 'r1' is not defined"
     ]
    }
   ],
   "source": [
    "r=r1(u)*N.i + r2(u)*N.j + r3(u)*N.k"
   ]
  },
  {
   "cell_type": "code",
   "execution_count": 5,
   "metadata": {
    "collapsed": false
   },
   "outputs": [
    {
     "data": {
      "text/plain": [
       "(r1(u))*N.i + (r2(u))*N.j + (r3(u))*N.k"
      ]
     },
     "execution_count": 5,
     "metadata": {},
     "output_type": "execute_result"
    }
   ],
   "source": [
    "r"
   ]
  },
  {
   "cell_type": "code",
   "execution_count": 6,
   "metadata": {
    "collapsed": false
   },
   "outputs": [
    {
     "data": {
      "text/plain": [
       "(Derivative(r1(u), u))*N.i + (Derivative(r2(u), u))*N.j + (Derivative(r3(u), u))*N.k"
      ]
     },
     "execution_count": 6,
     "metadata": {},
     "output_type": "execute_result"
    }
   ],
   "source": [
    "diff(r,u)"
   ]
  },
  {
   "cell_type": "code",
   "execution_count": 7,
   "metadata": {
    "collapsed": false
   },
   "outputs": [
    {
     "ename": "SyntaxError",
     "evalue": "can't assign to function call (<ipython-input-7-aaadb5e4d0a4>, line 1)",
     "output_type": "error",
     "traceback": [
      "\u001b[1;36m  File \u001b[1;32m\"<ipython-input-7-aaadb5e4d0a4>\"\u001b[1;36m, line \u001b[1;32m1\u001b[0m\n\u001b[1;33m    r1(u)=2*u\u001b[0m\n\u001b[1;31mSyntaxError\u001b[0m\u001b[1;31m:\u001b[0m can't assign to function call\n"
     ]
    }
   ],
   "source": [
    "r1(u)=2*u"
   ]
  },
  {
   "cell_type": "code",
   "execution_count": 5,
   "metadata": {
    "collapsed": false
   },
   "outputs": [],
   "source": [
    "r1= 2*u"
   ]
  },
  {
   "cell_type": "code",
   "execution_count": 6,
   "metadata": {
    "collapsed": false
   },
   "outputs": [
    {
     "data": {
      "text/plain": [
       "2*u"
      ]
     },
     "execution_count": 6,
     "metadata": {},
     "output_type": "execute_result"
    }
   ],
   "source": [
    "r1"
   ]
  },
  {
   "cell_type": "code",
   "execution_count": 7,
   "metadata": {
    "collapsed": true
   },
   "outputs": [],
   "source": [
    "r2 = u**2\n",
    "r3= u**3"
   ]
  },
  {
   "cell_type": "code",
   "execution_count": 8,
   "metadata": {
    "collapsed": false
   },
   "outputs": [
    {
     "ename": "NameError",
     "evalue": "name 'r' is not defined",
     "output_type": "error",
     "traceback": [
      "\u001b[1;31m---------------------------------------------------------------------------\u001b[0m",
      "\u001b[1;31mNameError\u001b[0m                                 Traceback (most recent call last)",
      "\u001b[1;32m<ipython-input-8-72cfd272ace1>\u001b[0m in \u001b[0;36m<module>\u001b[1;34m()\u001b[0m\n\u001b[1;32m----> 1\u001b[1;33m \u001b[0mr\u001b[0m\u001b[1;33m\u001b[0m\u001b[0m\n\u001b[0m",
      "\u001b[1;31mNameError\u001b[0m: name 'r' is not defined"
     ]
    }
   ],
   "source": [
    "r"
   ]
  },
  {
   "cell_type": "code",
   "execution_count": 9,
   "metadata": {
    "collapsed": false
   },
   "outputs": [],
   "source": [
    "r = r1 * N.i + r2 * N.j + r3 * N.k"
   ]
  },
  {
   "cell_type": "code",
   "execution_count": 10,
   "metadata": {
    "collapsed": false
   },
   "outputs": [
    {
     "data": {
      "text/plain": [
       "2*u*N.i + u**2*N.j + u**3*N.k"
      ]
     },
     "execution_count": 10,
     "metadata": {},
     "output_type": "execute_result"
    }
   ],
   "source": [
    "r"
   ]
  },
  {
   "cell_type": "code",
   "execution_count": 11,
   "metadata": {
    "collapsed": false
   },
   "outputs": [
    {
     "data": {
      "text/plain": [
       "2*N.i + 2*u*N.j + 3*u**2*N.k"
      ]
     },
     "execution_count": 11,
     "metadata": {},
     "output_type": "execute_result"
    }
   ],
   "source": [
    "diff(r)"
   ]
  },
  {
   "cell_type": "code",
   "execution_count": 12,
   "metadata": {
    "collapsed": false
   },
   "outputs": [
    {
     "data": {
      "text/plain": [
       "2*N.j + 6*u*N.k"
      ]
     },
     "execution_count": 12,
     "metadata": {},
     "output_type": "execute_result"
    }
   ],
   "source": [
    "diff(r,u,2)"
   ]
  },
  {
   "cell_type": "markdown",
   "metadata": {},
   "source": [
    "<h2>Space Curves    </h2>\n",
    "\n",
    "If\n",
    "\n",
    "$$\\mathbf{r}(t) = x(t) \\mathbf{i} + y(t) \\mathbf{j} + z(t) \\mathbf{k}$$\n",
    "where $ x(t), y(t) $ and $z(t)$ are functions of t. \n",
    "\n",
    "Where $\\mathbf r$ is the mapping of all points $t$ on the interval $U$ in $R^1$ into $E^3$, or \n",
    "   \n",
    "$$\\mathbf r : t\\ \\in  U \\subset R^1 \\to x,y,z\\ \\in\\ C \\subset E^3 $$\n",
    "\n",
    "this is another way of saying $\\mathbf r$ takes $t$ an element of the set $U$ subset of the real line, into $x,y,z$ an element of $C$ a subset of three dimensional Euclidean space.\n",
    "Then $\\mathbf r$ can be described as a space curve since the locus of all points in $E^3$ - as $t$ changes the end point of the vector $ \\mathbf{r}(t) $ traces a space curve and the derivative is a vector in the direction of $\\delta \\mathbf r  $.  \n",
    "\n",
    "The derivative $\\frac{\\mathrm{d}\\mathbf r }{\\mathrm{d} t} $ then it will be a vector in the direction of the tangent of the space curve.\n",
    "\n",
    "$$\\large \\frac{\\mathrm{d}\\mathbf r }{\\mathrm{d} t}=\\frac{\\mathrm{d}x }{\\mathrm{d} t}\\mathbf i +\\frac{\\mathrm{d}y }{\\mathrm{d} t}\\mathbf j+\\frac{\\mathrm{d}z }{\\mathrm{d} t}\\mathbf k$$\n",
    "\n",
    "\n"
   ]
  },
  {
   "cell_type": "code",
   "execution_count": 13,
   "metadata": {
    "collapsed": true
   },
   "outputs": [],
   "source": [
    "velocity= diff(r,u)"
   ]
  },
  {
   "cell_type": "code",
   "execution_count": 14,
   "metadata": {
    "collapsed": false
   },
   "outputs": [
    {
     "data": {
      "text/plain": [
       "2*N.i + 2*u*N.j + 3*u**2*N.k"
      ]
     },
     "execution_count": 14,
     "metadata": {},
     "output_type": "execute_result"
    }
   ],
   "source": [
    "velocity"
   ]
  },
  {
   "cell_type": "code",
   "execution_count": 15,
   "metadata": {
    "collapsed": true
   },
   "outputs": [],
   "source": [
    "acceleration = diff(velocity,u)"
   ]
  },
  {
   "cell_type": "code",
   "execution_count": 16,
   "metadata": {
    "collapsed": false
   },
   "outputs": [
    {
     "data": {
      "text/plain": [
       "2*N.j + 6*u*N.k"
      ]
     },
     "execution_count": 16,
     "metadata": {},
     "output_type": "execute_result"
    }
   ],
   "source": [
    "acceleration"
   ]
  },
  {
   "cell_type": "markdown",
   "metadata": {},
   "source": [
    "### Continutity and differentiability.\n",
    "\n",
    "\n",
    "\n",
    "A scalar function $\\quad \\large \\phi (u) \\quad $ is called continuous at u if\n",
    "\n",
    "$$\\large \\lim_{\\delta u \\to 0}(\\phi(u+\\delta u)-\\phi (u))=\\phi (u)$$\n",
    "\n",
    "Equivalently $\\quad \\large \\phi (u)\\quad $ is continuous at u if for each positive number $\\quad \\large \\epsilon\\quad $ we can find a positive number $\\quad\\large \\delta\\quad $ such that\n",
    "\n",
    "$$  |(\\phi(u+\\delta u)-\\phi (u))  | < \\epsilon $$\n",
    "\n",
    "whenever $  | \\delta u \\ | < \\delta$\n",
    "   \n",
    "\n",
    "A vector function $\\quad \\mathbf{r}(u) = r_1(u) \\mathbf{i} + r_2(u) \\mathbf{j} + r_3(u)\\mathbf{k} \\quad $ is continuous at u if the three scalar functions \n",
    "   \n",
    "$$ r_1(u),\\quad r_2(u),\\quad r_3(u)$$\n",
    "\n",
    "are continuous at u or if \n",
    "\n",
    "$$ \\lim_{\\delta u \\to 0}(\\mathbf r(u+\\delta u)-\\mathbf r(u))=\\mathbf r(u)$$\n",
    "   \n",
    "and equivalently if\n",
    "   \n",
    "$$ \\left |(\\mathbf r(u+\\delta u)-\\mathbf r(u)) \\right | < \\epsilon $$ \n",
    "   \n",
    "whenever $\\left | \\delta u \\right |<\\delta$\n",
    "   \n",
    " A scalar or vector function is called differentiable at order n if its nth derivative exists. A function which is differentiable is neccessarily continuous but the converse is not true. \n",
    "    "
   ]
  },
  {
   "cell_type": "code",
   "execution_count": 17,
   "metadata": {
    "collapsed": true
   },
   "outputs": [],
   "source": [
    "import matplotlib.pyplot as plt\n",
    "import numpy as np\n",
    "# see https://butterflyofdream.wordpress.com/2014/01/13/sympy-continuity-test-of-functions/"
   ]
  },
  {
   "cell_type": "code",
   "execution_count": 18,
   "metadata": {
    "collapsed": false
   },
   "outputs": [
    {
     "data": {
      "text/plain": [
       "[<matplotlib.lines.Line2D at 0x8f96f98>]"
      ]
     },
     "execution_count": 18,
     "metadata": {},
     "output_type": "execute_result"
    },
    {
     "data": {
      "image/png": "[encoded data removed]",
      "text/plain": [
       "<matplotlib.figure.Figure at 0x8de84a8>"
      ]
     },
     "metadata": {},
     "output_type": "display_data"
    }
   ],
   "source": [
    "%matplotlib inline\n",
    "x = np.arange(0.01, 10.0, 0.2)\n",
    "y1 =  1/(x - 2) - 3*x\n",
    "plt.plot(x, y1)\n",
    "#y1 = 1/(x - 2) - 3*x\n",
    "#plot(y1, (x, -2, 6), ylim=(-20, 20))"
   ]
  },
  {
   "cell_type": "code",
   "execution_count": 19,
   "metadata": {
    "collapsed": false
   },
   "outputs": [
    {
     "name": "stderr",
     "output_type": "stream",
     "text": [
      "C:\\Users\\dave\\Anaconda\\lib\\site-packages\\ipykernel\\__main__.py:2: RuntimeWarning: divide by zero encountered in divide\n",
      "  from ipykernel import kernelapp as app\n"
     ]
    },
    {
     "data": {
      "text/plain": [
       "[<matplotlib.lines.Line2D at 0x8fd0b70>]"
      ]
     },
     "execution_count": 19,
     "metadata": {},
     "output_type": "execute_result"
    },
    {
     "data": {
      "image/png": "[encoded data removed]",
      "text/plain": [
       "<matplotlib.figure.Figure at 0x8dcedd8>"
      ]
     },
     "metadata": {},
     "output_type": "display_data"
    }
   ],
   "source": [
    "x = np.arange(0.0, 10.0, 0.1)\n",
    "y2 = (x + 1) / (x**2 - 4*x + 3)\n",
    "plt.plot(x,y2)"
   ]
  },
  {
   "cell_type": "code",
   "execution_count": 59,
   "metadata": {
    "collapsed": false
   },
   "outputs": [
    {
     "name": "stderr",
     "output_type": "stream",
     "text": [
      "C:\\Users\\dave\\Anaconda\\lib\\site-packages\\ipykernel\\__main__.py:3: RuntimeWarning: divide by zero encountered in divide\n",
      "  app.launch_new_instance()\n"
     ]
    },
    {
     "data": {
      "text/plain": [
       "[<matplotlib.lines.Line2D at 0xb2ddc18>]"
      ]
     },
     "execution_count": 59,
     "metadata": {},
     "output_type": "execute_result"
    },
    {
     "data": {
      "image/png": "[encoded data removed]",
      "text/plain": [
       "<matplotlib.figure.Figure at 0xbd8e128>"
      ]
     },
     "metadata": {},
     "output_type": "display_data"
    }
   ],
   "source": [
    "from math import *\n",
    "x = np.arange(-10.0, 10.0, 0.5)\n",
    "y19 = (np.cos(x))/x \n",
    "plt.plot(x,y19)"
   ]
  },
  {
   "cell_type": "code",
   "execution_count": 20,
   "metadata": {
    "collapsed": false
   },
   "outputs": [
    {
     "data": {
      "text/plain": [
       "oo"
      ]
     },
     "execution_count": 20,
     "metadata": {},
     "output_type": "execute_result"
    }
   ],
   "source": [
    "limit((cos(u))/u , u, 0)"
   ]
  },
  {
   "cell_type": "markdown",
   "metadata": {},
   "source": [
    " find the limit of $y * sec^2(y)- tan^2(y) - 1$"
   ]
  },
  {
   "cell_type": "markdown",
   "metadata": {},
   "source": [
    "<h2>Differentiaion Formulae</h2>\n",
    "\n",
    "\n",
    "<b>1.</b> $$\\quad     \\large \\frac{\\mathrm{d}(\\mathbf A + \\mathbf B)}{\\mathrm{d} u}=\\frac{\\mathrm{d}\\mathbf A}{\\mathrm{d} u}+\\frac{\\mathrm{d} \\mathbf B}{\\mathrm{d} u}     $$   \n",
    "\n",
    "<br>\n",
    "<br>\n",
    "<b>2.</b> $$ \\quad     \\large \\frac{\\mathrm{d}(\\mathbf A . \\mathbf B)}{\\mathrm{d} u}=\\mathbf A.\\frac{\\mathrm{d}\\mathbf B}{\\mathrm{d} u}+\\mathbf B.\\frac{\\mathrm{d} \\mathbf A}{\\mathrm{d} u} $$\n",
    "<br>\n",
    "<br>\n",
    "\n",
    "<b>3.</b> $$\\quad     \\large \\frac{\\mathrm{d}(\\mathbf A \\times \\mathbf B)}{\\mathrm{d} u}=\\mathbf A \\times \\frac{\\mathrm{d}\\mathbf B}{\\mathrm{d} u}+ \\frac{\\mathrm{d} \\mathbf A}{\\mathrm{d} u}\\times \\mathbf B $$\n",
    "<br><br>\n",
    "\n",
    "<b>4.</b> $$\\quad     \\large \\frac{\\mathrm{d}(\\phi \\mathbf A)}{\\mathrm{d} u}=\\phi \\frac{\\mathrm{d}\\mathbf A}{\\mathrm{d} u}+ \\frac{\\mathrm{d} \\phi }{\\mathrm{d} u} \\mathbf A $$\n",
    "<br><br>\n",
    "\n",
    "<b>5.</b> $$\\quad     \\large \\frac{\\mathrm{d}(\\mathbf A . \\mathbf B \\times \\mathbf C)}{\\mathrm{d} u}=\\mathbf A .\\mathbf B \\times \\frac{\\mathrm{d}\\mathbf C}{\\mathrm{d} u}+ \\mathbf A .\\frac{\\mathrm{d} \\mathbf B}{\\mathrm{d} u}\\times \\mathbf C+\\frac{\\mathrm{d} \\mathbf A}{\\mathrm{d} u}. \\mathbf B \\times \\mathbf C $$\n",
    "<br><br>\n",
    "\n",
    "\n",
    "<b>6.</b> $$\\quad     \\frac{\\mathrm{d}(\\mathbf A \\times( \\mathbf B \\times \\mathbf C))}{\\mathrm{d} u}=\\mathbf A \\times (\\mathbf B \\times \\frac{\\mathrm{d}\\mathbf C}{\\mathrm{d} u})+ \\mathbf A \\times ( \\frac{\\mathrm{d} \\mathbf B}{\\mathrm{d} u}\\times \\mathbf C)+\\frac{\\mathrm{d} \\mathbf A}{\\mathrm{d} u} \\times( \\mathbf B\\times\\mathbf C)\n",
    "$$"
   ]
  },
  {
   "cell_type": "code",
   "execution_count": 45,
   "metadata": {
    "collapsed": true
   },
   "outputs": [],
   "source": [
    "A = (u+2)*N.i + (u**3)*N.j + (3*u**2+2*u)*N.k"
   ]
  },
  {
   "cell_type": "code",
   "execution_count": 46,
   "metadata": {
    "collapsed": true
   },
   "outputs": [],
   "source": [
    "B = (2*u**2)*N.i + (4*u)*N.j + (u-u**2)*N.k"
   ]
  },
  {
   "cell_type": "code",
   "execution_count": 47,
   "metadata": {
    "collapsed": false
   },
   "outputs": [
    {
     "data": {
      "text/plain": [
       "(4*u + 1)*N.i + (3*u**2 + 4)*N.j + (4*u + 3)*N.k"
      ]
     },
     "execution_count": 47,
     "metadata": {},
     "output_type": "execute_result"
    }
   ],
   "source": [
    "diff(A+B,u)"
   ]
  },
  {
   "cell_type": "code",
   "execution_count": 48,
   "metadata": {
    "collapsed": false
   },
   "outputs": [
    {
     "data": {
      "text/plain": [
       "(4*u + 1)*N.i + (3*u**2 + 4)*N.j + (4*u + 3)*N.k"
      ]
     },
     "execution_count": 48,
     "metadata": {},
     "output_type": "execute_result"
    }
   ],
   "source": [
    "diff(A,u) + diff(B,u)"
   ]
  },
  {
   "cell_type": "code",
   "execution_count": 49,
   "metadata": {
    "collapsed": false
   },
   "outputs": [
    {
     "data": {
      "text/plain": [
       "16*u**3 + 2*u**2 + 4*u*(u + 2) + (-2*u + 1)*(3*u**2 + 2*u) + (6*u + 2)*(-u**2 + u)"
      ]
     },
     "execution_count": 49,
     "metadata": {},
     "output_type": "execute_result"
    }
   ],
   "source": [
    "diff(A.dot(B),u)"
   ]
  },
  {
   "cell_type": "code",
   "execution_count": 50,
   "metadata": {
    "collapsed": false
   },
   "outputs": [
    {
     "data": {
      "text/plain": [
       "16*u**3 + 2*u**2 + 4*u*(u + 2) + (-2*u + 1)*(3*u**2 + 2*u) + (6*u + 2)*(-u**2 + u)"
      ]
     },
     "execution_count": 50,
     "metadata": {},
     "output_type": "execute_result"
    }
   ],
   "source": [
    "A.dot(diff(B,u)) + B.dot(diff(A,u))"
   ]
  },
  {
   "cell_type": "code",
   "execution_count": 51,
   "metadata": {
    "collapsed": false
   },
   "outputs": [
    {
     "data": {
      "text/plain": [
       "True"
      ]
     },
     "execution_count": 51,
     "metadata": {},
     "output_type": "execute_result"
    }
   ],
   "source": [
    "diff(A.dot(B),u)==A.dot(diff(B,u)) + B.dot(diff(A,u))"
   ]
  },
  {
   "cell_type": "code",
   "execution_count": 53,
   "metadata": {
    "collapsed": false
   },
   "outputs": [
    {
     "data": {
      "text/plain": [
       "True"
      ]
     },
     "execution_count": 53,
     "metadata": {},
     "output_type": "execute_result"
    }
   ],
   "source": [
    "diff(A.cross(B)) == A.cross(diff(B,u)) +diff(A,u).cross(B)"
   ]
  },
  {
   "cell_type": "code",
   "execution_count": 56,
   "metadata": {
    "collapsed": false
   },
   "outputs": [
    {
     "data": {
      "text/plain": [
       "True"
      ]
     },
     "execution_count": 56,
     "metadata": {},
     "output_type": "execute_result"
    }
   ],
   "source": [
    "y*diff(A,u) == diff(A*y,u)"
   ]
  },
  {
   "cell_type": "code",
   "execution_count": 57,
   "metadata": {
    "collapsed": false
   },
   "outputs": [],
   "source": [
    "C = u*N.i + (2*u-u**3)*N.j + u**2 * N.k"
   ]
  },
  {
   "cell_type": "code",
   "execution_count": 58,
   "metadata": {
    "collapsed": false
   },
   "outputs": [
    {
     "data": {
      "text/plain": [
       "u**3*(-8*u**3 - u**2 + u*(-2*u + 1) + u) + 4*u**3 + 3*u**2*(-2*u**4 + u*(-u**2 + u)) + (u + 2)*(12*u**2 - (-2*u + 1)*(-u**3 + 2*u) - (-3*u**2 + 2)*(-u**2 + u)) + (6*u + 2)*(2*u**2*(-u**3 + 2*u) - 4*u**2) - (-u**2 + u)*(-u**3 + 2*u) + (3*u**2 + 2*u)*(2*u**2*(-3*u**2 + 2) + 4*u*(-u**3 + 2*u) - 8*u)"
      ]
     },
     "execution_count": 58,
     "metadata": {},
     "output_type": "execute_result"
    }
   ],
   "source": [
    "diff(A.dot(B.cross(C)))"
   ]
  },
  {
   "cell_type": "code",
   "execution_count": 59,
   "metadata": {
    "collapsed": false
   },
   "outputs": [
    {
     "data": {
      "text/plain": [
       "False"
      ]
     },
     "execution_count": 59,
     "metadata": {},
     "output_type": "execute_result"
    }
   ],
   "source": [
    "diff(A.dot(B.cross(C)))==A.dot(B.cross(diff(C,u))) + A.dot(diff(B,u).cross(C)) + diff(A,u).dot(B.cross(C))"
   ]
  },
  {
   "cell_type": "code",
   "execution_count": 60,
   "metadata": {
    "collapsed": false
   },
   "outputs": [
    {
     "data": {
      "text/plain": [
       "True"
      ]
     },
     "execution_count": 60,
     "metadata": {},
     "output_type": "execute_result"
    }
   ],
   "source": [
    "expand(diff(A.dot(B.cross(C))))==expand(A.dot(B.cross(diff(C,u))) + A.dot(diff(B,u).cross(C)) + diff(A,u).dot(B.cross(C)))"
   ]
  },
  {
   "cell_type": "code",
   "execution_count": 61,
   "metadata": {
    "collapsed": false
   },
   "outputs": [
    {
     "data": {
      "text/plain": [
       "False"
      ]
     },
     "execution_count": 61,
     "metadata": {},
     "output_type": "execute_result"
    }
   ],
   "source": [
    "diff(A.cross(B.cross(C)),u) == A.cross(B.cross(diff(C,u))) + A.cross(diff(B,u).cross(C)) + diff(A,u).cross(B.cross(C))"
   ]
  },
  {
   "cell_type": "code",
   "execution_count": 62,
   "metadata": {
    "collapsed": false
   },
   "outputs": [
    {
     "data": {
      "text/plain": [
       "True"
      ]
     },
     "execution_count": 62,
     "metadata": {},
     "output_type": "execute_result"
    }
   ],
   "source": [
    "expand(diff(A.cross(B.cross(C)),u)) == expand(A.cross(B.cross(diff(C,u))) + A.cross(diff(B,u).cross(C)) + diff(A,u).cross(B.cross(C)))"
   ]
  },
  {
   "cell_type": "markdown",
   "metadata": {},
   "source": [
    "### Space Derivatives / Partial Derivatives of Vectors\n",
    "   \n",
    "If $\\mathbf A$ is a vector depending on more than one scalar variable say $(x,y,z)$ then  \n",
    "   \n",
    "$\\mathbf A =\\mathbf A(x,y,z)=A_1(x,y,z)\\mathbf i+A_2(x,y,z)\\mathbf j+ A_3(x,y,z)\\mathbf k$ \n",
    "   \n",
    "note this is not a vector function of a vector variable, because the 3 scalars $(x,y,z)$ are not defined in \n",
    "their basis (for this definition). $(x,y,z) \\neq x\\mathbf i + y\\mathbf j + z \\mathbf k$. An example of a vector function of 3 scalar variables is \n",
    "   \n",
    "$$\\mathbf A(x,y,x) = x^2 y\\ \\mathbf i + (z+x)y\\ \\mathbf j + (z+1)^3(y+2)^2\\ \\mathbf k $$\n",
    "\n",
    "(for a completely arbitrary example)\n",
    "\n",
    "then partial derivative of $\\mathbf A$ with respect to x are\n",
    "\n",
    "$ \\frac{\\partial \\mathbf A}{\\partial x}=\\lim_{\\delta x \\to 0} \\frac{\\mathbf A(x + \\delta x,\\ y,\\ z)-\\mathbf A(x, y, z)}{\\delta x}\\ \\quad \\ $ if the limit exists\n",
    "\n",
    "$ \\frac{\\partial \\mathbf A}{\\partial y}=\\lim_{\\delta y \\to 0} \\frac{\\mathbf A(x,\\ y + \\delta y,\\ z)-\\mathbf A(x, y, z)}{\\delta y}\\ \\quad \\ $ if the limit exists\n",
    "\n",
    "$ \\frac{\\partial \\mathbf A}{\\partial z}=\\lim_{\\delta z \\to 0} \\frac{\\mathbf A(x,\\ y,\\ z+ \\delta z)-\\mathbf A(x, y, z)}{\\delta z}\\ \\quad $ if the limit exists\n",
    "\n",
    "And so \n",
    "$$\\frac{\\partial \\mathbf A}{\\partial x} = \\frac{\\partial A_1(x,y,z)}{\\partial x}\\mathbf i+\\frac{\\partial A_2(x,y,z)}{\\partial x}\\mathbf j+ \\frac{\\partial A_3(x,y,z)}{\\partial x}\\mathbf k$$ \n",
    "   \n",
    "for y\n",
    "$$\\frac{\\partial \\mathbf A}{\\partial y} = \\frac{\\partial A_1(x,y,z)}{\\partial y}\\mathbf i+\\frac{\\partial A_2(x,y,z)}{\\partial y}\\mathbf j+ \\frac{\\partial A_3(x,y,z)}{\\partial y}\\mathbf k$$ \n",
    "   \n",
    "for z\n",
    "$$\\frac{\\partial \\mathbf A}{\\partial z} = \\frac{\\partial A_1(x,y,z)}{\\partial z}\\mathbf i+\\frac{\\partial A_2(x,y,z)}{\\partial z}\\mathbf j+ \\frac{\\partial A_3(x,y,z)}{\\partial z}\\mathbf k$$\n",
    "\n",
    "\n",
    "\n",
    "> Note See Surfaces for definition for differentiation of a vector function of a vector variable and continuity as a  topological concept.\n",
    "\n",
    "Continutity for functions of one variable can be extended to functions of more than one variable. $ \\phi (x,y)$ is continuous at $(x, y)$ if\n",
    "\n",
    "$$ \\lim_{\\delta x, \\delta y \\to 0}(\\phi(x+\\delta x, y + \\delta y)-\\phi (x,y))=\\phi (x,y)$$\n",
    "\n",
    "or if for each positive number $\\epsilon$ there is a positive $ \\delta $ such that\n",
    "\n",
    "\n",
    "$\\left |(\\phi(x+\\delta x, y+\\delta y)-\\phi (x,y)) \\right |<\\epsilon $ whenever $ \\left | \\delta x \\right |<\\delta $\n",
    "and $\\left | \\delta y \\right |<\\delta$\n",
    " \n",
    "Same is true for vector functions.\n",
    "  \n",
    "\n",
    "For a function of two or more variables the term differentiable means that it has continuous first partiial derivatives. Higher derivatives are defined as in calculus.\n",
    "\n"
   ]
  },
  {
   "cell_type": "code",
   "execution_count": 66,
   "metadata": {
    "collapsed": false
   },
   "outputs": [],
   "source": [
    "x,y,z = symbols('x y z')"
   ]
  },
  {
   "cell_type": "code",
   "execution_count": 67,
   "metadata": {
    "collapsed": false
   },
   "outputs": [
    {
     "data": {
      "text/plain": [
       "x"
      ]
     },
     "execution_count": 67,
     "metadata": {},
     "output_type": "execute_result"
    }
   ],
   "source": [
    "x"
   ]
  },
  {
   "cell_type": "code",
   "execution_count": 68,
   "metadata": {
    "collapsed": true
   },
   "outputs": [],
   "source": [
    "A=(3*x)*N.i + (2*y**2)*N.j + (z**3) *N.k"
   ]
  },
  {
   "cell_type": "code",
   "execution_count": 69,
   "metadata": {
    "collapsed": false
   },
   "outputs": [
    {
     "data": {
      "text/plain": [
       "3*N.i"
      ]
     },
     "execution_count": 69,
     "metadata": {},
     "output_type": "execute_result"
    }
   ],
   "source": [
    "diff(A,x)"
   ]
  },
  {
   "cell_type": "code",
   "execution_count": 70,
   "metadata": {
    "collapsed": false
   },
   "outputs": [
    {
     "data": {
      "text/plain": [
       "4*y*N.j"
      ]
     },
     "execution_count": 70,
     "metadata": {},
     "output_type": "execute_result"
    }
   ],
   "source": [
    "diff(A,y)"
   ]
  },
  {
   "cell_type": "code",
   "execution_count": 71,
   "metadata": {
    "collapsed": true
   },
   "outputs": [],
   "source": [
    "B = (y*z + x)*N.i + (z**2 *x - y**2)*N.j + (x**2-2*y)*N.k"
   ]
  },
  {
   "cell_type": "code",
   "execution_count": 72,
   "metadata": {
    "collapsed": false
   },
   "outputs": [
    {
     "data": {
      "text/plain": [
       "(x + y*z)*N.i + (x*z**2 - y**2)*N.j + (x**2 - 2*y)*N.k"
      ]
     },
     "execution_count": 72,
     "metadata": {},
     "output_type": "execute_result"
    }
   ],
   "source": [
    "B"
   ]
  },
  {
   "cell_type": "code",
   "execution_count": 73,
   "metadata": {
    "collapsed": false
   },
   "outputs": [
    {
     "data": {
      "text/plain": [
       "0"
      ]
     },
     "execution_count": 73,
     "metadata": {},
     "output_type": "execute_result"
    }
   ],
   "source": [
    "diff(B,u)"
   ]
  },
  {
   "cell_type": "code",
   "execution_count": 74,
   "metadata": {
    "collapsed": false
   },
   "outputs": [
    {
     "data": {
      "text/plain": [
       "N.i + z**2*N.j + 2*x*N.k"
      ]
     },
     "execution_count": 74,
     "metadata": {},
     "output_type": "execute_result"
    }
   ],
   "source": [
    "diff(B,x)"
   ]
  },
  {
   "cell_type": "code",
   "execution_count": 75,
   "metadata": {
    "collapsed": false
   },
   "outputs": [
    {
     "data": {
      "text/plain": [
       "(-2)*N.j"
      ]
     },
     "execution_count": 75,
     "metadata": {},
     "output_type": "execute_result"
    }
   ],
   "source": [
    "diff(B,y,2)"
   ]
  },
  {
   "cell_type": "code",
   "execution_count": 76,
   "metadata": {
    "collapsed": false
   },
   "outputs": [
    {
     "data": {
      "text/plain": [
       "y*N.i + 2*x*z*N.j"
      ]
     },
     "execution_count": 76,
     "metadata": {},
     "output_type": "execute_result"
    }
   ],
   "source": [
    "diff(B,z)"
   ]
  },
  {
   "cell_type": "code",
   "execution_count": 77,
   "metadata": {
    "collapsed": false
   },
   "outputs": [
    {
     "data": {
      "text/plain": [
       "3*x*(x + y*z) + 2*y**2*(x*z**2 - y**2) + z**3*(x**2 - 2*y)"
      ]
     },
     "execution_count": 77,
     "metadata": {},
     "output_type": "execute_result"
    }
   ],
   "source": [
    "A.dot(B)"
   ]
  },
  {
   "cell_type": "markdown",
   "metadata": {},
   "source": [
    "<h2>Rules for Partial Differention of Vectors</h2>\n",
    "\n",
    "\n",
    "\n",
    "<b>1.</b>  $ \\quad     \\large \\frac{\\partial(\\mathbf A . \\mathbf B)}{\\partial x}=\\mathbf A.\\frac{\\partial \\mathbf B}{\\partial x}+\\frac{\\partial \\mathbf A}{\\partial x}.\\mathbf B $\n",
    "<br><br>\n",
    "\n",
    "<b>2.</b> $ \\quad     \\large \\frac{\\partial(\\mathbf A \\times \\mathbf B)}{\\partial x}=\\mathbf A \\times \\frac{\\partial \\mathbf B}{\\partial x}+\\frac{\\partial \\mathbf A}{\\partial x} \\times \\mathbf B $\n",
    "<br><br>\n",
    "\n",
    "<b>3.</b> $ \\quad     \\large \\frac{\\partial^2(\\mathbf A . \\mathbf B)}{\\partial x \\partial y}= \\frac{\\partial }{\\partial y}(\\frac{\\partial (\\mathbf A . \\mathbf B) }{\\partial x})=\\frac{\\partial }{\\partial y}( \\mathbf A .\\frac{\\partial \\mathbf B}{\\partial x} + \\frac{ \\partial \\mathbf A }{\\partial x} . \\mathbf B ) $\n",
    "$\\large = \\mathbf A .\\frac{\\partial^2 \\mathbf B}{\\partial x \\partial y} + \\frac{\\partial \\mathbf A}{\\partial y } .\\frac{\\partial \\mathbf B}{\\partial x }+\\frac{\\partial \\mathbf A}{\\partial x } .\\frac{\\partial \\mathbf B}{\\partial y }+\\frac{ \\partial^2 \\mathbf A }{\\partial x \\partial y} . \\mathbf B$"
   ]
  },
  {
   "cell_type": "code",
   "execution_count": 79,
   "metadata": {
    "collapsed": false
   },
   "outputs": [
    {
     "data": {
      "text/plain": [
       "True"
      ]
     },
     "execution_count": 79,
     "metadata": {},
     "output_type": "execute_result"
    }
   ],
   "source": [
    "diff(A.dot(B),x) == A.dot(diff(B,x))+diff(A,x).dot(B) "
   ]
  },
  {
   "cell_type": "code",
   "execution_count": 80,
   "metadata": {
    "collapsed": false
   },
   "outputs": [
    {
     "data": {
      "text/plain": [
       "True"
      ]
     },
     "execution_count": 80,
     "metadata": {},
     "output_type": "execute_result"
    }
   ],
   "source": [
    "diff(A.cross(B),y) == A.cross(diff(B,y)) + diff(A,y).cross(B)"
   ]
  },
  {
   "cell_type": "code",
   "execution_count": 81,
   "metadata": {
    "collapsed": false
   },
   "outputs": [
    {
     "data": {
      "text/plain": [
       "False"
      ]
     },
     "execution_count": 81,
     "metadata": {},
     "output_type": "execute_result"
    }
   ],
   "source": [
    "diff(A.dot(B),x,y) == diff(diff(A.dot(B),x),y) "
   ]
  },
  {
   "cell_type": "code",
   "execution_count": 82,
   "metadata": {
    "collapsed": false
   },
   "outputs": [
    {
     "data": {
      "text/plain": [
       "True"
      ]
     },
     "execution_count": 82,
     "metadata": {},
     "output_type": "execute_result"
    }
   ],
   "source": [
    "expand(diff(A.dot(B),x,y)) == expand(diff(diff(A.dot(B),x),y))"
   ]
  },
  {
   "cell_type": "code",
   "execution_count": 83,
   "metadata": {
    "collapsed": false
   },
   "outputs": [
    {
     "data": {
      "text/plain": [
       "True"
      ]
     },
     "execution_count": 83,
     "metadata": {},
     "output_type": "execute_result"
    }
   ],
   "source": [
    "expand(diff(diff(A.dot(B),x),y)) == diff( A.dot(diff(B,x)) + diff(A,x).dot(B),y) "
   ]
  },
  {
   "cell_type": "code",
   "execution_count": 84,
   "metadata": {
    "collapsed": false
   },
   "outputs": [
    {
     "data": {
      "text/plain": [
       "True"
      ]
     },
     "execution_count": 84,
     "metadata": {},
     "output_type": "execute_result"
    }
   ],
   "source": [
    "expand(diff(A.dot(B),x,y)) == A.dot(diff(B,x,y)) + diff(A,y).dot(diff(B,x)) +diff(A,x).dot(diff(B,y)) +diff(A,x,y).dot(B)"
   ]
  },
  {
   "cell_type": "markdown",
   "metadata": {},
   "source": [
    "\n",
    "<h2>Differentials of Vectors</h2>\n",
    "\n",
    "<b>1.</b>  if $ \\quad \\mathbf{A} = A_1 \\mathbf{i} + A_2 \\mathbf{j} + A_3 \\mathbf{k}\\quad then\\quad d\\mathbf{A} = dA_1 \\mathbf{i} + dA_2 \\mathbf{j} + dA_3 \\mathbf{k}$<br><br>\n",
    "<b>2.</b> $\\quad d( \\mathbf{A}\\cdot\\mathbf{B} ) = \\mathbf{A}\\cdot d\\mathbf{B} + \\mathbf{B}\\cdot d\\mathbf{A}$<br><br>\n",
    "<b>3.</b> $ \\quad d(\\mathbf{A} \\times \\mathbf{B}) = \\mathbf{A}\\times  d\\mathbf{B} + d\\mathbf{A} \\times \\mathbf{B}$<br><br>\n",
    "<b>4.</b> if $\\quad \\mathbf{A} = \\mathbf{A}(x,y,z)$ then  \n",
    "\n",
    "$$\\large d \\mathbf A = \\frac{\\partial \\mathbf A}{\\partial x} d x+\\frac{\\partial \\mathbf A}{\\partial y} d y +\\frac{\\partial \\mathbf A}{\\partial z} d z$$\n",
    "\n",
    "### Background for Total Differential\n",
    "\n",
    "The total differential of $  V=V(r,h) $ is\n",
    "   \n",
    "$$ dV=\\frac{\\partial V}{\\partial r}dr + \\frac{\\partial V}{\\partial h}dh $$\n",
    "\n",
    "and to find the change in volume with respect to a parameter for example Temperature T: \n",
    "   \n",
    "$$\\displaystyle\\frac{dV}{dT}=\\frac{\\partial V}{\\partial r}\\frac{dr}{dT} + \\frac{\\partial V}{\\partial h}\\frac{dr}{dT}$$\n",
    "in terms of $ f=f(u,v)$\n",
    "$$ df=\\displaystyle\\frac{\\partial f}{\\partial u}du+\\frac{\\partial f}{\\partial v}dv\\\\$$\n",
    "\n",
    "##### Small Changes (review of elementary basic calculus)\n",
    "\n",
    "A cylindrical block of metal is heated for time $\\delta t$, the volume $V=\\pi r^2\\ h$  (r=radius, h=height)\n",
    "the metal has a positive temperature coefficient so both $r$ and $h$ increase as the block is heated.\n",
    "At time $\\delta t$:-\n",
    "\n",
    "$$V+\\delta V=\\pi (r+\\delta r)^2(h+\\delta h)$$ \n",
    "   \n",
    "expanding this \n",
    "   \n",
    "   $$V+\\delta V=\\pi (r^2+2r\\ \\delta r+\\delta r^2)(h+\\delta h)=\\pi (r^2h+2r\\ \\delta r\\ h+\\delta r^2\\ h+ r^2\\ \\delta h+2r\\ \\delta r\\ \\delta h+\\delta r^2\\ \\delta h)$$\n",
    "   \n",
    "   Then solving for $\\delta V$\n",
    "   \n",
    "$$\\delta V=\\pi (r^2\\ h+2r\\ \\delta r\\ h+\\delta r^2\\ h+ r^2\\ \\delta h+2r\\ \\delta r\\ \\delta h+\\delta r^2\\ \\delta h)-V$$\n",
    "   \n",
    "expanding by out the brackets \n",
    "   \n",
    "$$=\\pi r^2\\ h+\\pi\\ 2r\\ \\delta r\\ h+\\pi\\ \\delta r^2\\ h+ \\pi r^2\\ \\delta h+\\pi 2r\\ \\delta r\\ \\delta h+\\pi\\ \\delta r^2\\ \\delta h-\\pi r^2 h$$\n",
    "   \n",
    "   we cancel $V$ from the expression\n",
    "   \n",
    "$$=2\\pi r\\ h\\ \\delta r+\\pi h\\ \\delta r^2+ \\pi r^2\\ \\delta h+ 2\\pi r\\ \\delta r\\ \\delta h+\\pi\\ \\delta r^2\\ \\delta h$$\n",
    "\n",
    "ignoring products of infinitesimals or small changes  (e.g $\\delta r \\delta h$) because the size of these infinitesimal products tends to zero much faster than the individual infinitesimals, they are not a needed part of the computation of the limit of the function \n",
    "\n",
    "$$\\approx\\ 2\\ \\pi r\\ h\\ \\delta r+ \\pi r^2\\ \\delta h$$\n",
    "   \n",
    "The rate of change of volume is then defined as the total differential \n",
    "   \n",
    "$$ \\frac{dV}{dt}=\\lim_{\\delta t\\to 0}\\frac{\\delta V}{\\delta t} =\\lim_{\\delta t\\to 0}\\left[\\pi r\\ h\\ \\frac{\\delta r}{\\delta t}+ \\pi r^2\\ \\frac{\\delta h}{\\delta t}\\right]=\\frac{\\partial V}{\\partial r}\\frac{dr}{dt}+\\frac{\\partial V}{\\partial h}\\frac{dh}{dt}$$\n",
    "   \n",
    "easily observable by applying the rules of differentiation to the formula for volume. \n",
    "   \n",
    "the differential expresses this independant of time"
   ]
  },
  {
   "cell_type": "code",
   "execution_count": null,
   "metadata": {
    "collapsed": true
   },
   "outputs": [],
   "source": [
    "\n"
   ]
  }
 ],
 "metadata": {
  "kernelspec": {
   "display_name": "Python 2",
   "language": "python",
   "name": "python2"
  },
  "language_info": {
   "codemirror_mode": {
    "name": "ipython",
    "version": 2
   },
   "file_extension": ".py",
   "mimetype": "text/x-python",
   "name": "python",
   "nbconvert_exporter": "python",
   "pygments_lexer": "ipython2",
   "version": "2.7.10"
  }
 },
 "nbformat": 4,
 "nbformat_minor": 0
}
