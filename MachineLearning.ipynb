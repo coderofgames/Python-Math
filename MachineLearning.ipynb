{
 "cells": [
  {
   "cell_type": "markdown",
   "metadata": {},
   "source": [
    "### Machine Learning\n",
    "   \n",
    "Space Fill: Introductory material\n",
    "\n",
    "Notes from the Stanford Machine learning video series taught by Andrew Ng.\n",
    "   \n",
    "   https://www.youtube.com/watch?v=nLKOQfKLUks&index=4&list=PLA89DCFA6ADACE599\n",
    "\n",
    "   \n",
    "   \n",
    "#### Example 1: regression problem\n",
    "   \n",
    "collect data on housing prices (portland oregan\n",
    "   \n",
    "1. Plot square foot of the house against list price\n",
    "\n",
    "2. Try to predict how much a house will sell for based on size   \n",
    "   Fit a line or a quadratic function to the graph, \n",
    "   \n",
    "This is an example of **Supervised** Learning, because the algorithm is provided with a dataset consisting of\n",
    "floor space in square feet and the **actual price** for each sample (the right answer).\n",
    "   \n",
    "The problem is an example of a **regression problem** since the variable that is being predicted is a continuous value.\n",
    "    \n",
    "> Big question, do you need more data, or do you already have enoug data?\n",
    "   \n",
    "#### Example 2: Classification Problems\n",
    "   \n",
    "The variable to predict is discrete rather than continuous.\n",
    "   \n",
    "Standard dataset on breast cancer tumors. The algorithm predicts whether a tumor is malignent.\n",
    "   \n",
    "1. Collect a set of features, use tumor size as an example\n",
    "   \n",
    "2. The y axis is either malignent or benign, so either 0 or 1\n",
    "   \n",
    "3. There may be more than one **feature**, for example plot age vs tumor size as a scatter plot with crosses    \n",
    "representing malignent tumors and circles representing benign tumors. Put most malignent tumors in one half and    \n",
    "most benign tumors in the other half, with an island, the taks is to make an algorithm to detect the island. This    \n",
    "therefore becomes a **supervised learning** problem and a classification problem.\n",
    "   \n",
    "4. The prediction of benign or malignent is based on two **features** or **inputs**\n",
    "   \n",
    "5. In the real world data is likely to be higher dimensional, even infinite dimensional. (support vector machines->infinite dimensional space)\n",
    "\n",
    "   \n",
    "### Unsupervised Learning\n",
    "   \n",
    "1. Similar to the last example, the plot of age vs tumor size is used, however there aren't any circles and all data   \n",
    "is plotted with crosses. The question is to fund any structure from the data. (add a feature like patient survivability)\n",
    "   \n",
    "2.The algorithm might cluster the data, find that it is partitioned into 2 groups.\n",
    "   \n",
    "This occurs in fields like image processing, genetics, social network analysis, marketing, networking, astromony.\n",
    "   \n",
    "##### Coctail Party Problem\n",
    "   \n",
    "Problem: Room full of people talking, can you separate out the voice of the person you want to hear. \n",
    "   \n",
    "Putting 2 microphones in the room, each microphone will pick up an overlapping contribution from peoples voices, can you separate out the different recordings?\n",
    "   \n",
    "##### Learn to fly a helicopter.\n",
    "    \n",
    "### Lecture 2:\n",
    "   \n",
    "<table>\n",
    "<tr> <td>Space $Ft^2$ </td><td>Number of Bedrooms </td><td>Price 1000 </td></tr>\n",
    "<tr> <td>2104</td><td>3 </td><td>400</td></tr>\n",
    "<tr> <td>1416</td><td>2 </td><td>232</td></tr>\n",
    "<tr> <td>1534</td><td>3 </td><td>315</td></tr>\n",
    "<tr> <td>852</td><td>2 </td><td>178</td></tr>\n",
    "<tr> <td>1940</td><td>4 </td><td>240</td></tr>\n",
    "\n",
    "</table>\n",
    "   \n",
    "Given a training set how do you learn to predict the relationship between the variables?\n",
    "   \n",
    "m = number of training samples   \n",
    "$x = $ input variables   \n",
    "$y = $ output variables (target variable)    \n",
    "   \n",
    "One pair $(x,y)$ or one row is one training sample.   \n",
    "   \n",
    "The $i^th$ training sample (row in the table) is $(x^{(i)}, y^{(i)})$\n",
    "   \n",
    "1. Input the training samples into a learning algorithm\n",
    "   \n",
    "2. The algorithm has a **hypothesis**, $h$, that takes a new input and outputs an estimation for y\n",
    "   \n",
    "### To design a learning algorithm the first thing we want to work out is how to represent the hypothesis.\n",
    "   \n",
    "A linear hypothesis \n",
    "   \n",
    "$h(x) = \\theta_0 + \\theta_1 x$\n",
    "   \n",
    "To name the variables\n",
    "   \n",
    "$ x_1 = $ the size in $ft^2$,    $x_2 = $ the number of bedrooms, then\n",
    "   \n",
    "$h(x) =h_{\\theta}(x)= \\theta_0 + \\theta_1 x_1+\\theta_2 x_2$\n",
    "   \n",
    "Then write $x_0 = 1$ so\n",
    "   \n",
    "$h(x) = \\sum_{i=0}^2 \\theta_i x_i = \\mathbf \\theta^T \\mathbf x$\n",
    "   \n",
    "finally\n",
    "   \n",
    "$n=$ number of features, in this case n=2\n",
    "   \n",
    "The $\\theta_i$ are called the **parameters**, they are just numbers, the learning algorithm must learn the appropriate parameters.\n"
   ]
  },
  {
   "cell_type": "markdown",
   "metadata": {
    "collapsed": true
   },
   "source": [
    "How do we  choose $\\theta$ so that our hypothesis will be correct, we have a training set so our hypothesis will preduict values on the houses, so we need to increase accuracy\n",
    "   \n",
    "$(h(x)-y)^2$ is the squared error on the training set,\n",
    "   \n",
    "we need to minimuze \n",
    "   \n",
    "$$min_\\theta \\frac{1}{2}\\sum_{i=1}^m (h(x)-y)^2$$\n",
    "   \n",
    "Now set $G(\\theta) = \\frac{1}{2}\\sum_{i=1}^m (h(x)-y)^2$ and the task is to minimuze\n",
    "   \n",
    "$$min_\\theta G(\\theta)$$\n",
    "   \n",
    "   > This is a special case of a more general algorithm\n",
    "    \n",
    "   \n",
    "Algorithms for minimization\n",
    "   \n",
    "1. Search algorithm\n",
    "   start with $\\theta$ and say vector $(\\theta = 0)$ and keep changing $\\theta$ to reduce $G(\\theta)$ until a minimum is reached.  \n",
    "   \n",
    "#### Gradient Descent\n",
    "   \n",
    "choose some initial point. Take the gradient of $h(\\mathbf x)$ with respect to $\\mathbf x$ and take a step in the direction of steepest descent. This process repeats until you find a minimum.\n",
    "   \n",
    "> When run from different positions the algorithm can converge to different local minima.\n",
    "   \n",
    "$$\\theta_i := \\theta_i - \\alpha \\frac{\\partial}{\\partial \\theta_i} G(\\theta)$$\n",
    "   \n",
    "The $:=$ operator updates the values of $\\theta_i$ for a consecutive iteration, like saying $\\theta_{i+1}=\\theta_i - \\alpha \\frac{\\partial}{\\partial \\theta_i}G(\\theta)$. Now ...\n",
    "   \n",
    "$$\\frac{\\partial}{\\partial \\theta_i} G(\\theta) = \\frac{\\partial}{\\partial \\theta_i} \\frac{1}{2}(h_\\theta (x) - y)^2 = 2 \\frac{1}{2}(h_\\theta (x) - y)\\cdot \\frac{\\partial}{\\partial \\theta_i}(h_\\theta (x) - y) = (h_\\theta (x)-y) x_i$$\n",
    "   \n",
    "Therefore the learning rule is \n",
    "   \n",
    "$$ \\theta_i := \\theta_i - \\alpha (h_\\theta (x) - y).x_i$$\n",
    "   \n",
    "where $\\alpha$ is called the learning rate, which determins how far in the direction of the gradient each step takes.\n",
    "\n"
   ]
  },
  {
   "cell_type": "markdown",
   "metadata": {},
   "source": [
    "### Generalized Gradient Descent\n",
    "   \n",
    "Repeat until convergence\n",
    "   \n",
    "$$ \\theta_i := \\theta_i - \\alpha \\sum_{j=1}^m (h_\\theta(x^{(j)}) - y^{(j)}).x_i^{(j)}$$\n",
    "   \n",
    "for $m$ samples $\\mathbf x^{(j)}$. \n",
    "   \n",
    "For ordinary least squares the function $G$ is usually a qudratic function with one minima. \n",
    "   \n",
    "The step sizes automatically get smaller and smaller as zero is approached. \n",
    "   \n",
    "The algorithm is known as **Batch** gradient descent, using the entire training set. The calculation for all the training samples get summed over, so can take a long time for very large datasets."
   ]
  },
  {
   "cell_type": "code",
   "execution_count": 61,
   "metadata": {},
   "outputs": [
    {
     "data": {
      "image/png": "[encoded data removed]",
      "text/plain": [
       "<matplotlib.figure.Figure at 0x9c60400>"
      ]
     },
     "metadata": {},
     "output_type": "display_data"
    }
   ],
   "source": [
    "from matplotlib import pyplot as plt\n",
    "import numpy as np\n",
    "import matplotlib\n",
    "import numpy as np\n",
    "\n",
    "x_1 = np.array([2104, 1416, 1534, 852, 1940]) # space\n",
    "x_2 = np.array([3,2,3,2,4]) # num_rooms\n",
    "y = np.array([400,232,315,178,240]) #pirce\n",
    "\n",
    "plt.scatter(x_1, y, c=\"b\")\n",
    "plt.xlabel(\"space\")\n",
    "plt.ylabel(\"price\")\n",
    "\n",
    "plt.show()"
   ]
  },
  {
   "cell_type": "code",
   "execution_count": 14,
   "metadata": {},
   "outputs": [
    {
     "data": {
      "image/png": "[encoded data removed]",
      "text/plain": [
       "<matplotlib.figure.Figure at 0xa3a92e8>"
      ]
     },
     "metadata": {},
     "output_type": "display_data"
    }
   ],
   "source": [
    "theta = np.zeros(2)\n",
    "x_0 = np.array([1,1,1,1,1])\n",
    "\n",
    "\n",
    "h = 0\n",
    "sum = 0\n",
    "end = 0\n",
    "while end <20:\n",
    "    for x0,xj,yj in np.c_[x_0,x_1,y]:\n",
    "\n",
    "        h = theta[0]*x0 + theta[1]*xj\n",
    "    \n",
    "        sum = (h-yj)*x0 + (h-yj)*xj\n",
    "    \n",
    "        thet0 = theta[0] - 0.2 * sum * x0\n",
    "        thet1 = theta[1] - 0.2 * sum * xj\n",
    "        end = end+1\n",
    "        theta[0] = thet0\n",
    "        theta[1] = thet1\n",
    "        \n",
    "## Daves Note: This isn't working, Blame my numpy skills (growing)\n",
    "\n",
    "## so I found this http://www.johnwittenauer.net/machine-learning-exercises-in-python-part-1/\n",
    "## and modified it to fit the example, see below\n",
    "        \n",
    "plt.scatter(x_1,y)\n",
    "#plt.plot( h)\n",
    "plt.show()"
   ]
  },
  {
   "cell_type": "code",
   "execution_count": 62,
   "metadata": {},
   "outputs": [
    {
     "data": {
      "text/plain": [
       "((5L, 2L), (1L, 2L), (5L, 1L))"
      ]
     },
     "execution_count": 62,
     "metadata": {},
     "output_type": "execute_result"
    }
   ],
   "source": [
    "def computeCost(X, y, theta):  \n",
    "    inner = np.power(((X * theta.T) - y), 2)\n",
    "    return np.sum(inner) / (2 * len(X))\n",
    "\n",
    "# Code taken from\n",
    "# http://www.johnwittenauer.net/machine-learning-exercises-in-python-part-1/\n",
    "# Modified by David Nash to fit the text example\n",
    "\n",
    "# append a ones column to the front of the data set (no need)\n",
    "#data.insert(0, 'Ones', 1)\n",
    "\n",
    "# set X (training data) and y (target variable)\n",
    "#cols = data.shape[1]  \n",
    "X = np.c_[x_0,x_1]#data.iloc[:,0:cols-1] \n",
    "\n",
    "## Daves Note: using np.c_ we have concatenated x_0 and x_1 into a 2d array.\n",
    "## Don't need to rewrite y\n",
    "\n",
    "#y = ata.iloc[:,cols-1:cols]  \n",
    "\n",
    "# convert from data frames to numpy matrices\n",
    "X = np.matrix(X)  \n",
    "y = np.matrix(y).T # from inspection of the output below, y has to be transposed.  \n",
    "theta = np.matrix(np.array([0,0]))  \n",
    "X.shape, theta.shape, y.shape  "
   ]
  },
  {
   "cell_type": "code",
   "execution_count": 63,
   "metadata": {},
   "outputs": [
    {
     "data": {
      "text/plain": [
       "40233"
      ]
     },
     "execution_count": 63,
     "metadata": {},
     "output_type": "execute_result"
    }
   ],
   "source": [
    "computeCost(X, y, theta) "
   ]
  },
  {
   "cell_type": "code",
   "execution_count": 66,
   "metadata": {},
   "outputs": [],
   "source": [
    "def gradientDescent(X, y, theta, alpha, iters):  \n",
    "    temp = np.matrix(np.zeros(theta.shape))\n",
    "    parameters = int(theta.ravel().shape[1])\n",
    "    cost = np.zeros(iters)\n",
    "\n",
    "    for i in range(iters):\n",
    "        error = (X * theta.T) - y## Daves Note: The term called error is (h(x)-y)\n",
    "\n",
    "        for j in range(parameters):\n",
    "            term = np.multiply(error, X[:,j])  ## the j^th theta multiplies the j^th x \n",
    "            temp[0,j] = theta[0,j] - ((alpha) * np.sum(term)) # I'm not dividing by m\n",
    "\n",
    "        theta = temp\n",
    "        cost[i] = computeCost(X, y, theta)\n",
    "\n",
    "    return theta, cost"
   ]
  },
  {
   "cell_type": "code",
   "execution_count": 109,
   "metadata": {},
   "outputs": [
    {
     "data": {
      "text/plain": [
       "matrix([[  1.12959358e-04,   1.71691593e-01]])"
      ]
     },
     "execution_count": 109,
     "metadata": {},
     "output_type": "execute_result"
    }
   ],
   "source": [
    "# initialize variables for learning rate and iterations\n",
    "alpha = 0.0000001  \n",
    "iters = 5\n",
    "\n",
    "# Daves Note: alpha has to be very small in this dataset or the solution diverges\n",
    "# Increasing the number of iterations by 1 order of magnitude increases the x_0 by one order\n",
    "# of magnitude, but it doesn't make much difference to the total error\n",
    "\n",
    "# perform gradient descent to \"fit\" the model parameters\n",
    "g, cost = gradientDescent(X, y, theta, alpha, iters)  \n",
    "g  "
   ]
  },
  {
   "cell_type": "code",
   "execution_count": 110,
   "metadata": {},
   "outputs": [
    {
     "data": {
      "text/plain": [
       "1396.1383789726999"
      ]
     },
     "execution_count": 110,
     "metadata": {},
     "output_type": "execute_result"
    }
   ],
   "source": [
    "computeCost(X, y, g)  "
   ]
  },
  {
   "cell_type": "code",
   "execution_count": 111,
   "metadata": {},
   "outputs": [
    {
     "data": {
      "image/png": "[encoded data removed]",
      "text/plain": [
       "<matplotlib.figure.Figure at 0xa82e668>"
      ]
     },
     "metadata": {},
     "output_type": "display_data"
    }
   ],
   "source": [
    "### Floor Space vs House Price\n",
    "\n",
    "x = np.linspace(0, 3000, 100)  \n",
    "h = g[0, 0] + (g[0, 1] * x)   # Daves Note: renamed this to h=hypothesis \n",
    "\n",
    "#fig, ax = plt.subplots(figsize=(12,8))  \n",
    "plt.plot(x, h, 'r', label='Prediction')  \n",
    "plt.scatter(x_1, y, label='Traning Data')  \n",
    "\n",
    "#Daves Note: Clearly a house with 0 floor space will cost nothing.\n",
    "plt.show()"
   ]
  },
  {
   "cell_type": "code",
   "execution_count": 117,
   "metadata": {},
   "outputs": [
    {
     "data": {
      "image/png": "[encoded data removed]",
      "text/plain": [
       "<matplotlib.figure.Figure at 0x9835d68>"
      ]
     },
     "metadata": {},
     "output_type": "display_data"
    }
   ],
   "source": [
    "## Error VS Training Epoch\n",
    "\n",
    "plt.plot(np.arange(iters), cost, 'r')  \n",
    "#ax = plt.axis()  \n",
    "#ax.set_xlabel('Iterations')  \n",
    "#ax.set_ylabel('Cost')  \n",
    "#ax.set_title('Error vs. Training Epoch') \n",
    "plt.show()"
   ]
  },
  {
   "cell_type": "markdown",
   "metadata": {},
   "source": [
    "### Working Through the Algorithm\n",
    "   \n",
    "1. Initialize data and variables   \n",
    "x_1 = np.array([2104, 1416, 1534, 852, 1940])    \n",
    "y = np.array([400,232,315,178,240])    \n",
    "x_0 = np.array([1,1,1,1,1])   \n",
    "\n",
    "2. Create the parameters for the hypothesis\n",
    "$ h(x) = \\theta_0 x_0 + \\theta_1 x_1 = \\theta^T \\mathbf x$\n",
    "create the $\\mathbf x$ vector by concatenating $x_0$ and $x_1$.\n",
    "X = np.c_[x_0,x_1]\n",
    "and initialize $\\theta$ to zero\n",
    "theta = np.matrix(np.array([0,0]))  \n",
    "\n",
    "3. Convert the arrays into matrices   \n",
    "X = np.matrix(X)  \n",
    "y = np.matrix(y).T \n",
    "\n",
    "4. Compute Cost function\n",
    "$G(\\theta) = \\frac{1}{2}\\sum_{i=1}^m (h(x)-y)^2 $\n",
    "Summing up all the h(x)-y for each training sample.\n",
    "in this example, the code also divides by the number of parameters \"len(X)\"\n",
    "\n",
    "def computeCost(X, y, theta):  \n",
    "    inner = np.power(((X * theta.T) - y), 2);\n",
    "    return np.sum(inner) / (2 * len(X))\n",
    "    \n",
    "5. Compute Gradient and update each theta\n",
    "    i) compute the term\n",
    "    $ r=(\\theta^T \\mathbf x) -\\mathbf y)$\n",
    "    \n",
    "    ii) For $\\theta_0$ :\n",
    "    $ S = \\sum_{j=1}^m (h_\\theta(x^{(j)}) - y^{(j)}).x_0^{(j)}$ This is the inner product of \n",
    "    $\\theta^T\\mathbf x - \\mathbf y$ and the first column of $\\mathbf X = [\\mathbf x_0, \\mathbf x_1]$.\n",
    "$ \\theta_1 := \\theta_1 - \\alpha S_0 $.\n",
    "\n",
    "    iii) For $\\theta_1$ :\n",
    "    $ S_1 = \\sum_{j=1}^m (h_\\theta(x^{(j)}) - y^{(j)}).x_1^{(j)}$ or the inner product Then\n",
    "    $ \\theta_1 := \\theta_1 - \\alpha S_1 $.\n",
    "\n",
    "6. Repeat until convergence. \n",
    " > The code does not supply the convergence test"
   ]
  },
  {
   "cell_type": "markdown",
   "metadata": {},
   "source": [
    "### Performing the same steps in Sympy (expanded form)"
   ]
  },
  {
   "cell_type": "code",
   "execution_count": 158,
   "metadata": {},
   "outputs": [
    {
     "data": {
      "text/latex": [
       "$$\\left[\\begin{matrix}1 & 1 & 1 & 1 & 1\\\\2104 & 1416 & 1534 & 852 & 1940\\end{matrix}\\right]$$"
      ],
      "text/plain": [
       "⎡ 1     1     1     1    1  ⎤\n",
       "⎢                           ⎥\n",
       "⎣2104  1416  1534  852  1940⎦"
      ]
     },
     "execution_count": 158,
     "metadata": {},
     "output_type": "execute_result"
    }
   ],
   "source": [
    "from sympy import *\n",
    "\n",
    "init_printing()\n",
    "\n",
    "x_0 = Matrix([1,1,1,1,1])\n",
    "x_1 = Matrix([2104, 1416, 1534, 852, 1940]) # space\n",
    "#x_2 = np.array([3,2,3,2,4]) # num_rooms\n",
    "y = Matrix([400,232,315,178,240]) #pirce\n",
    "\n",
    "X = x_0.col_insert(1,x_1)\n",
    "X = X.T\n",
    "X2 = Matrix([[1,1,1,1,1], [2104, 1416, 1534, 852, 1940]])\n",
    "theta=Matrix([0,0])\n",
    "X"
   ]
  },
  {
   "cell_type": "code",
   "execution_count": 159,
   "metadata": {},
   "outputs": [
    {
     "data": {
      "text/latex": [
       "$$\\left[\\begin{matrix}0 & 0 & 0 & 0 & 0\\end{matrix}\\right]$$"
      ],
      "text/plain": [
       "[0  0  0  0  0]"
      ]
     },
     "execution_count": 159,
     "metadata": {},
     "output_type": "execute_result"
    }
   ],
   "source": [
    "theta.T*X"
   ]
  },
  {
   "cell_type": "code",
   "execution_count": 162,
   "metadata": {},
   "outputs": [
    {
     "data": {
      "text/latex": [
       "$$\\left[\\begin{matrix}-400 & -232 & -315 & -178 & -240\\end{matrix}\\right]$$"
      ],
      "text/plain": [
       "[-400  -232  -315  -178  -240]"
      ]
     },
     "execution_count": 162,
     "metadata": {},
     "output_type": "execute_result"
    }
   ],
   "source": [
    "r = theta.T*X-y.T # need to transpose y.\n",
    "r"
   ]
  },
  {
   "cell_type": "markdown",
   "metadata": {},
   "source": [
    "### Here clearly the training samples occupy columns, so the first column is the first set of x's in X\n",
    "   \n",
    "See the matrix $\\mathbf X$ as a row of samples."
   ]
  },
  {
   "cell_type": "code",
   "execution_count": 163,
   "metadata": {},
   "outputs": [
    {
     "data": {
      "text/latex": [
       "$$\\left[\\begin{matrix}-1365\\end{matrix}\\right]$$"
      ],
      "text/plain": [
       "[-1365]"
      ]
     },
     "execution_count": 163,
     "metadata": {},
     "output_type": "execute_result"
    }
   ],
   "source": [
    "r * x_0"
   ]
  },
  {
   "cell_type": "code",
   "execution_count": 164,
   "metadata": {},
   "outputs": [
    {
     "data": {
      "text/latex": [
       "$$\\left[\\begin{matrix}-2270578\\end{matrix}\\right]$$"
      ],
      "text/plain": [
       "[-2270578]"
      ]
     },
     "execution_count": 164,
     "metadata": {},
     "output_type": "execute_result"
    }
   ],
   "source": [
    "r*x_1"
   ]
  },
  {
   "cell_type": "code",
   "execution_count": 166,
   "metadata": {},
   "outputs": [
    {
     "data": {
      "text/latex": [
       "$$\\left[\\begin{matrix}-1365 & -2270578\\end{matrix}\\right]$$"
      ],
      "text/plain": [
       "[-1365  -2270578]"
      ]
     },
     "execution_count": 166,
     "metadata": {},
     "output_type": "execute_result"
    }
   ],
   "source": [
    "r*X.T"
   ]
  },
  {
   "cell_type": "code",
   "execution_count": 175,
   "metadata": {},
   "outputs": [
    {
     "data": {
      "text/latex": [
       "$$\\left[\\begin{matrix}40233.3\\end{matrix}\\right]$$"
      ],
      "text/plain": [
       "[40233.3]"
      ]
     },
     "execution_count": 175,
     "metadata": {},
     "output_type": "execute_result"
    }
   ],
   "source": [
    "from __future__ import division # need this to perform division\n",
    "\n",
    "def cost(r, m):\n",
    "    return r*r.T / (2*m)\n",
    "\n",
    "N(cost(r,5))"
   ]
  },
  {
   "cell_type": "code",
   "execution_count": 180,
   "metadata": {},
   "outputs": [
    {
     "data": {
      "text/latex": [
       "$$\\left[\\begin{matrix}0.000215897733514349\\\\0.171047560820743\\end{matrix}\\right]$$"
      ],
      "text/plain": [
       "⎡0.000215897733514349⎤\n",
       "⎢                    ⎥\n",
       "⎣ 0.171047560820743  ⎦"
      ]
     },
     "execution_count": 180,
     "metadata": {},
     "output_type": "execute_result"
    }
   ],
   "source": [
    "def gradient_descent(alpha, it, theta, X, y, m):\n",
    "    for i in range(0,it):\n",
    "        theta = (theta.T - alpha*(theta.T*X-y.T)*X.T).T\n",
    "    return theta\n",
    "\n",
    "sol = gradient_descent(0.0000001, 50, theta, X, y, 5)\n",
    "sol"
   ]
  },
  {
   "cell_type": "code",
   "execution_count": 203,
   "metadata": {},
   "outputs": [
    {
     "data": {
      "image/png": "[encoded data removed]",
      "text/plain": [
       "<matplotlib.figure.Figure at 0x7cb41d0>"
      ]
     },
     "metadata": {},
     "output_type": "display_data"
    }
   ],
   "source": [
    "tt = np.linspace(0,3000,100)\n",
    "\n",
    "fig = plt.figure()\n",
    "ax = fig.gca()\n",
    "\n",
    "# plotting the points\n",
    "pts = Matrix(([x_1],[y]))\n",
    "for i in range(0,5):\n",
    "    ax.scatter(N(pts[0,0][i]), N(pts[1,0][i]), c='g')\n",
    "ax.plot(tt, N(sol[0]) + N(sol[1])*tt, 'r', label='Prediction')      \n",
    "plt.show()\n",
    "#plt.scatter(x1, y1, label='Traning Data')  "
   ]
  },
  {
   "cell_type": "markdown",
   "metadata": {},
   "source": [
    "### Stochastic Gradient descent\n",
    "   \n",
    "Repeast until convergence:   \n",
    "   For j = 1 to m:  \n",
    "     $\\theta_i:=\\theta_i-\\alpha (h_\\theta(x)^{(j)}-y^{(j)})\\cdot x_i^{(j)}$\n",
    "     for all values of i\n",
    "   \n",
    "Each $j$ is a training sample, each $i$ is a feature.   \n",
    "   For large edatasets, you don't need to look at all samples, only the first set, this will not always converge to the global minimum at first, and the parameters may wander around the global minumum in practice. The algorithm is much faster than batch gradient descent in practice."
   ]
  },
  {
   "cell_type": "markdown",
   "metadata": {},
   "source": [
    "\n",
    "   \n",
    "\n",
    "### Matrix notation\n",
    "   \n",
    "$\\nabla G(\\theta) = (\\frac{\\partial }{\\partial \\theta_0},\\cdots,\\frac{\\partial }{\\partial \\theta_i},\\cdots,\\frac{\\partial }{\\partial \\theta_{n}})^T$\n",
    "   \n",
    "here $\\theta$ is an $n+1$ dimensional vector with indicees (0...n). Gradient descent\n",
    "   \n",
    "$$ \\mathbf \\theta:= \\mathbf \\theta - \\alpha \\nabla G$$ \n",
    "   \n",
    "for n+1 dimensional vectors. More generally\n",
    "   \n",
    "$$ f.\\mathbb R^{m\\times n} \\to \\mathbb R $$\n",
    "   \n",
    "the function $f$ maps from the space of $m\\times n$ matrices to the space of real numbers, then\n",
    "   \n",
    "$f(\\mathbf A):A\\in \\mathbb R^{m\\times n}$\n",
    "   \n",
    "then $\\nabla_{\\mathbf A}f(\\mathbf A) $ is the matrix\n",
    "   \n",
    "$$  \\begin{array}{ccc} \\frac{\\partial f}{\\partial A_{11}} & \\cdots & \\frac{\\partial f}{\\partial A_{1m}}\\\\ \\cdots & \\cdots &\\cdots  \\\\ \\frac{\\partial f}{\\partial A_{n1}}&\\cdots &\\frac{\\partial f}{\\partial A_{mn}} \\end{array} $$\n",
    "   \n",
    "If $\\mathbf A \\in \\mathbb R^{n \\times n}$ then\n",
    "   \n",
    "$$ tr \\mathbf A = \\sum_{i=0}^n A_{ii}$$\n",
    "   \n",
    "Fact: \n",
    "   \n",
    "$ tr \\mathbf A \\mathbf B = tr \\mathbf B \\mathbf A$\n",
    "   \n",
    "and\n",
    "   \n",
    "$ tr \\mathbf A \\mathbf B \\mathbf C = tr \\mathbf C \\mathbf A \\mathbf B = tr \\mathbf B \\mathbf C \\mathbf A   $\n",
    "   \n",
    "For a function $f(\\mathbf A) = tr \\mathbf A\\mathbf B $, the derivative $\\nabla_{\\mathbf A}f =\\nabla_{\\mathbf A} tr \\mathbf A\\mathbf B = \\mathbf B^T$.\n",
    "   \n",
    "and \n",
    "   \n",
    "$ tr\\mathbf A = tr \\mathbf A^T%\n",
    "   \n",
    "The trace of a real number is just the number.\n",
    "   \n",
    "$$\\nabla_{\\mathbf A} tr\\mathbf {ABA^TC} = \\mathbf{CAB} + \\mathbf C^T \\mathbf A \\mathbf B^T$$\n",
    "   \n",
    "### Minimizing G in closed form\n",
    "   \n",
    "Create a matrix $X$ of all the inputs ...\n",
    "   \n",
    "$$  \\left(\\begin{array}{ccc} - & \\left(x^{(1)}\\right)^T&-\\\\ - & \\left(x^{(2)}\\right)^T&-\\\\ \\cdots &\\cdots &\\cdots \\\\ -& \\left(x^{(m)}\\right)^T&- \\end{array} \\right)$$\n",
    "   \n",
    "This contains all the inputs of the training set, each row is a training sample, the **design matrix** $X$ has m rows.\n",
    "   \n",
    "$$ \\mathbf X \\mathbf \\theta =  \\left(\\begin{array}{ccc}   \\left(x^{(1)}\\right)^T \\mathbf \\theta \\\\  \\left(x^{(2)}\\right)^T\\mathbf \\theta \\\\ \\cdots \\\\  \\left(x^{(m)}\\right)^T \\mathbf \\theta & \\end{array} \\right)$$\n",
    "   \n",
    "But this is ...\n",
    "   \n",
    "$$  \\left(\\begin{array}{ccc}   h_{\\mathbf \\theta}\\left(x^{(1)}\\right)  \\\\  h_{\\mathbf \\theta}\\left(x^{(2)}\\right) \\\\ \\cdots \\\\  h_{\\mathbf \\theta}\\left(x^{(m)}\\right) \\end{array} \\right)$$\n",
    "   \n",
    "And the outputs for the training set\n",
    "   \n",
    "$$ \\mathbf y=  \\left(\\begin{array}{ccc}  y^{(1)}\\\\ y^{(2)} \\\\ \\cdots \\\\ y^{(m)} \\end{array} \\right)$$\n",
    "   \n",
    "So the $\\mathbf y$ vector is an m dimensional vector. \n",
    "   \n",
    "$ \\mathbf X\\mathbf \\theta - \\mathbf y$ is am m dimensional vector for m training samples.\n",
    "   \n",
    "$$ \\frac{1}{2}( \\mathbf X\\mathbf \\theta - \\mathbf y)^T  \\cdot(\\mathbf X\\mathbf \\theta - \\mathbf y) = \\sum_{i=1}^m (h(x^{(i)}-y^{(i)})^2 = G(\\mathbf \\theta) $$\n",
    "   \n",
    " \n"
   ]
  },
  {
   "cell_type": "markdown",
   "metadata": {},
   "source": [
    " In order to minimuize $G(\\theta)$ we are going to take the derivative, set this to zero and solve for $\\theta$. \n",
    "    \n",
    " $$\\nabla_\\theta G(\\theta) = 0$$\n",
    "    \n",
    "   This is    \n",
    " $$ \\nabla_\\theta (\\frac{1}{2}( \\mathbf X\\mathbf \\theta - \\mathbf y)^T  \\cdot(\\mathbf X\\mathbf \\theta - \\mathbf y)) = \\frac{1}{2} \\nabla_\\theta (\\mathbf \\theta^T \\mathbf X^T \\mathbf X \\mathbf \\theta - \\mathbf \\theta^T \\mathbf X^T y - \\mathbf y^T\\mathbf X\\mathbf \\theta + \\mathbf y^T \\mathbf y)$$\n",
    "    \n",
    " Since the returned value of the term in parentheses is just a number, this is also equal to \n",
    "   \n",
    "$$\\frac{1}{2} \\nabla_\\theta tr(\\mathbf \\theta^T \\mathbf X^T \\mathbf X \\mathbf \\theta - \\mathbf \\theta^T \\mathbf X^T y - \\mathbf y^T\\mathbf X\\mathbf \\theta + \\mathbf y^T \\mathbf y)$$\n",
    "   \n",
    "and applying cyclic permutation to the first term \n",
    "   \n",
    "$$\\frac{1}{2}\\left( \\nabla_\\theta tr(\\mathbf \\theta\\mathbf \\theta^T \\mathbf X^T \\mathbf X)  -\\nabla_\\theta tr( \\mathbf \\theta^T \\mathbf X^T y) - \\nabla_\\theta tr(\\mathbf y^T\\mathbf X\\mathbf \\theta) + \\nabla_\\theta tr(\\mathbf y^T \\mathbf y)\\right)$$\n",
    "   \n",
    "The transpose of a real number is just the real number again, applying this to the second and third terms with cyclic permutation\n",
    "   \n",
    "$$\\frac{1}{2}\\left( \\nabla_\\theta tr(\\mathbf \\theta\\mathbf \\theta^T \\mathbf X^T \\mathbf X)  -\\nabla_\\theta tr( \\mathbf y^T \\mathbf X \\mathbf \\theta) - \\nabla_\\theta tr(\\mathbf y^T\\mathbf X\\mathbf \\theta)\\right)$$\n",
    "   \n",
    "   since the last term does not depend on theta\n",
    "From the identity above,\n",
    "   \n",
    "$$ \\nabla_\\theta tr (\\theta \\mathbf I \\mathbf \\theta ^2 \\mathbf X^2 \\mathbf X) = \\mathbf X^T\\mathbf X \\mathbf \\theta \\mathbf I + \\mathbf X^T \\mathbf X \\mathbf \\theta \\mathbf I$$\n",
    "   \n",
    "and \n",
    "   \n",
    "$$ \\nabla_\\theta tr\\mathbf y^T\\mathbf X\\mathbf \\theta = \\mathbf X^T \\mathbf y$$\n",
    "   \n",
    "and so \n",
    "   \n",
    "$$\\frac{1}{2}\\left( \\mathbf X^T\\mathbf X \\mathbf \\theta + \\mathbf X^T \\mathbf X \\mathbf \\theta  -\\mathbf X^T \\mathbf y -\\mathbf X^T \\mathbf y\\right)= \\mathbf X^T\\mathbf X \\mathbf \\theta  -\\mathbf X^T \\mathbf y$$\n",
    "   \n",
    "These are called the **normal equations** and they are set equal to zero and solved for $\\theta$ and gives us a way of solving for the least squares best fit of the data."
   ]
  },
  {
   "cell_type": "markdown",
   "metadata": {},
   "source": [
    "### Lecture 3\n",
    "   \n",
    "- Adaptation of linear regression - **locally weighted regression**. \n",
    "\n",
    "- Probabalistic Interpretation of linear regression\n",
    "   \n",
    "- Neural Networks, Perceptron algorithm.\n",
    "- Newtons Method.\n",
    "   \n",
    "> Brief summary of last lecture.\n",
    "   \n",
    "We used two features last time, e.g. house size, number of bedrooms. The choice of features will often have a large impact on what it actually does.\n",
    "   \n",
    "> it is possible to use two features like the size of the house and (size)^2 of the house, then the algorithm will end up fitting a quadratic function ...\n",
    "   \n",
    "$$ h(x) = \\theta_0 + \\theta_1 x_1 + \\theta_2 x_2 = \\theta_0 + \\theta_1 x_1 + \\theta_2 x_1^2$$\n",
    "   \n",
    "If you fit a higher order polynomial, you can fit each of the points exactly. This method can tend to **over fit** the data.\n",
    "   \n",
    "> back to this later. There are **feature selection algorithms**.\n",
    "\n",
    "### Non-parametric Learning algorithms\n",
    "   \n",
    "Linear regression is an example of a parametric learning algorithm, it has a fixed number of parameters $\\theta$ that fit to the data.\n",
    "   \n",
    "> A non-parametric learning algorithm is an algorithm where the number of parameters grows linearly with m (the size of the training set)\n",
    "   \n",
    "A less formal definition is that the amount of stuff that the algorithm keeps is proportional to the size of the training set.\n",
    "   \n",
    "#### Locally Weighted Regression (Lowess)\n",
    "   \n",
    "= tale a traomomg set that looks like a clear curve function (rise time with overshoot low stead state)\n",
    "   \n",
    "Evaluate $h$ at a certain position $x$. The algorithm fits data only in the vicinity of $x$ and linear regression is applied to the subset of the data near the required point.\n",
    "    \n",
    "LWR : Fit $\\theta$ to minimize:\n",
    "$$\\sum_i w^{(i)}(y^{(i)}-\\theta^T x^{(i)} ) ^2$$\n",
    "   \n",
    "where the weights $w^{(i)} = exp\\left(-\\frac{(y^{(i)-x^{(i)})^2}}{2}\\right)$ for example,\n",
    "   \n",
    "If $|x^{(i)} - x| $ is small, then $w^{(i)} \\approx 1$. Conversely\n",
    "   \n",
    "If $|x^{(i)} - x| $ is large, then $w^{(i)} \\approx 0$.    \n",
    "   \n",
    "\n",
    "   The points close to the region of interest are given a large weight. \n",
    "   \n",
    "The $w$ function happens to resemble a Gaussian distribution - any function can be chosen but an exponential decay is appropriate.\n",
    "   \n",
    "Normally there is a parameter $\\tau$ called the **bandwidth paraneter**\n",
    "   \n",
    " $$w^{(i)} = exp\\left(-\\frac{(y^{(i)-x^{(i)})^2}}{2 \\tau}\\right)$$\n",
    "    \n",
    " then $\\tau$ controls how fast the weights fall off. If $\\tau$ is small, the bandwidth is narrow, if $\\tau$ is large, then you have a large bandwidth (or a slow falloff).\n",
    "    \n",
    "> This algorithm fits a locally straight line for every query. \n",
    "   \n",
    "> This algorithm can also suffer from problems like over fitting and under fitting.\n",
    "   \n",
    "### Probabalistic Interpretation of Linear Regression.\n",
    "   \n",
    "how is the least squares interpretation arrived at?\n",
    "   \n",
    "Assume: $y^{(1)} = \\theta^Tx^{(i)} + \\epsilon^{(i)}$, where $\\epsilon^{(i)}$ is the error term that captures other features (forgotton) and random noise (house seller bad mood). \n",
    "   \n",
    "Assume: $\\epsilon^{(i)}$ is $\\mathscr N(0,\\sigma^2) $ is a gaussian distribution or probability distribution, with mean 0 and covariance $\\sigma^2$. The density for $\\epsilon^{(i)}$ is\n",
    "   \n",
    "$$P(\\epsilon^{(i)}) = \\frac{1}{\\sqrt{2\\pi}\\sigma}\\exp(-\\frac{\\left(\\epsilon^{(i)}\\right)^2}{2\\sigma^2})$$\n",
    "   \n",
    "The density of $\\epsilon^{(i)}$ will be the bell shaped curve with 1 standard deviation being $\\sigma$. \n",
    "   \n",
    "This implies that the probablility distribution of the price of a house \n",
    "   \n",
    "$$ P(y^{(i)}|x^{(i)};\\theta) = \\frac{1}{\\sqrt{2\\pi}\\sigma}\\exp(-\\frac{\\left(y^{(i)}- \\theta^T x^{(i)}\\right)^2}{2\\sigma^2})$$\n",
    "\n",
    "> The $P(y^{(i)}|x^{(i)};\\theta)$ is the Probability of $y^{(i)}$ given $x^{(i)}$ and $\\theta$. This notation is used when $\\theta$ is not considered to be a random variable. Called the frequentists point of view, some value of $\\theta$ is generating the values. (not Bayesian viewpont)\n",
    "   \n",
    "Or the price of a house given $y^{(i)}|x^{(i)};\\theta = \\mathscr N(\\theta^T x^{(i)},\\sigma^2)$. \n",
    "   \n",
    "> Central limit theorem : The sum of many independant random variables will tend towards the Gaussian.\n",
    "   \n",
    "In practice this is a reasonably accurate assumption, and mathematically convenient. \n",
    "   \n",
    "Assume: $\\epsilon^{(i)}$ The error terms are Independantly and Identically Distributed (IID). They come from the same Gaussian distribution, the same variance, and are independant of each other.\n",
    "   \n",
    "$$L(\\theta)=P(\\mathbf y|\\mathbf x;\\theta) = \\prod_{i=1}^m P(y^{(i)}|x^{(i)};\\theta) = \\prod_{i=1}^m \\frac{1}{\\sqrt{2\\pi}\\sigma}\\exp\\left(-\\frac{\\left(y^{(i)}- \\theta^T x^{(i)}\\right)^2}{2\\sigma^2}\\right)$$ \n",
    "   \n",
    "> The likelihood of a paramater is noted as the probability function with $x$ and $y$ fixed.\n",
    "   \n"
   ]
  },
  {
   "cell_type": "markdown",
   "metadata": {},
   "source": [
    "#### How do you estimate the parameters?\n",
    "   \n",
    "The principle of maximum likelihood estimation means that $\\theta$ is chosen to maximize $L(\\theta)=P(\\mathbf x|\\mathbf y;\\theta)$. \n",
    "   \n",
    "$\\mathscr l(\\theta)= \\text {log} L(\\theta) $\n",
    "   \n",
    "This is of course\n",
    "   \n",
    "\n",
    "$$\\text{log}\\prod_{i=1}^m \\frac{1}{\\sqrt{2\\pi}\\sigma}\\exp\\left(-\\frac{\\left(y^{(i)}- \\theta^T x^{(i)}\\right)^2}{2\\sigma^2}\\right)$$ \n",
    "   \n",
    "The log of a product is the same as the sum of the logs,\n",
    "   \n",
    "$$ = \\sum_{i=1}^m \\text{log}(\\frac{1}{\\sqrt{2\\pi}\\sigma}\\exp\\left(-\\frac{\\left(y^{(i)}- \\theta^T x^{(i)}\\right)^2}{2\\sigma^2}\\right))$$\n",
    "   \n",
    "The log and exp cancel, so \n",
    "   \n",
    "$$ = m \\text{log}(\\frac{1}{\\sqrt{2\\pi}\\sigma})+ \\sum_{i=1}^m\\left(-\\frac{\\left(y^{(i)}- \\theta^T x^{(i)}\\right)^2}{2\\sigma^2}\\right)$$\n",
    "   \n",
    "so maximizing the log liklihood is the same as minimizing $\\sum_{i=1}^m\\left(-\\frac{\\left(y^{(i)}- \\theta^T x^{(i)}\\right)^2}{2\\sigma^2}\\right)$ as a function of $\\theta$ and this is the same quadratic cost function $G(\\theta)$. \n",
    "   \n",
    "> Therefore Ordinary least squared is the same as asusming Gaussian IID errors on the data. The value of $\\sigma^2$ does not really matter, the same value of $\\theta$ is arrived on.\n",
    "   \n"
   ]
  },
  {
   "cell_type": "markdown",
   "metadata": {},
   "source": [
    "### Classification Problems\n",
    "   \n",
    "The value $y\\in (0,1)$ is discrete, can either be \"yes\" or \"no\", for example, classify whether the house will sell in 6 months. \n",
    "   \n",
    "- create a dataset that plots first 4 points at zero and second 4 points at 1 (or some discrete value).\n",
    "   \n",
    "> obviously fitting a straight line does not really represent the data\n",
    "\n",
    "If the training set changes and 1 more training example appears with the value 1 at twice the distance of the original final data point, then the curve does not fit, and another linear regreassion makes the predictions of the hypothesis completely different.\n",
    "   \n",
    "> add more points accross to the second point.\n",
    "   \n",
    "If $y\\in[0,1]$ then change the hypothesis\n",
    "$h(x)\\in [0,1]$ ... e.g\n",
    "   \n",
    "$$h_\\theta (x) = g(\\theta^T x) = \\frac{1}{1+e^{-\\theta^T x}}$$\n",
    "   \n",
    "The function $g(z)$ is called the **sigmoid function**, or the **logistic function**.\n",
    "   \n",
    "Plot g(z)"
   ]
  },
  {
   "cell_type": "markdown",
   "metadata": {},
   "source": [
    "$g(z)$ tends to zero as z becomes small, and will asymptote towards 1 as z becomes large.\n",
    "   \n",
    "Assume: that    \n",
    "$$P(y=1|x;\\theta)=h_\\theta (x))$$   \n",
    "the probability that $y-1$ given x and paratermized by $\\theta$ the hypothesis will try to estimate the probability that $y=1$. \n",
    "   \n",
    "$P(y=0|x;\\theta)=1-h_\\theta (x)$\n",
    "   \n",
    "more compactly\n",
    "   \n",
    "$$P(y|x;\\theta) = h_\\theta (x)^y (1-h_\\theta(x))^{(1-y)}$$\n",
    "   \n",
    "since if $y=1$ we get the first equation\n",
    "\n",
    "$$P(y|x;\\theta) = h_\\theta (x)^1 (1-h_\\theta(x))^{(0)}= h_\\theta (x)$$\n",
    "   \n",
    "since if $y=0$ we get the second equation\n",
    "\n",
    " $$P(y|x;\\theta) = h_\\theta (x)^0 (1-h_\\theta(x))^{(1)}= (1) (1-h_\\theta(x))=1-h_\\theta(x)$$ \n",
    "    \n",
    "Given this model, how do we fit $\\theta$. The likliehood is \n",
    "   \n",
    "$$L(\\theta) = P(\\mathbf y\\ | \\mathbf x; \\theta) = \\prod_i P(y^{(i)}\\ |x^{(i)}; \\theta) = \\prod_i h_\\theta (x^{(i)})^{y^{(i)}} (1-h_\\theta(x^{(i)}))^{(1-y^{(i)})} $$\n",
    "   \n",
    "> Now we need a maximum likelihood estimation, a function that maximizes $L(\\theta)$.\n",
    "   \n",
    " $$\\mathscr l(\\theta) = \\text{log} L(\\theta) = \\sum_{i=1}^m y^{(i)}\\text{log} h_\\theta (x^{(i)})+ (1-y^{(i)})\\text{log}(1-h_\\theta (x^{(i)}))$$\n",
    "    \n",
    "An example of a method to maximize this function (this is the **objective function**) is the Gradient Descent method.\n",
    "   \n",
    "$$ \\theta:= \\theta+\\alpha \\nabla_\\theta \\mathscr l(\\theta) $$\n",
    "   \n",
    "Now to find the derivative\n",
    "   \n",
    "$$\\frac{\\partial }{\\partial \\theta_j} \\mathscr l(\\theta) = \\sum_{i=1}^m \\left(y^{(i)} - h_\\theta (x^{(i)}) \\right)\\cdot x_j^{(i)}$$\n",
    "   \n",
    "Therefore **gradient ascent** (in this case, since we are maximizing) is\n",
    "   \n",
    "$$\\theta_j := \\theta_j + \\alpha \\sum_{i=1}^m \\left(y^{(i)} - h_\\theta (x^{(i)}) \\right)\\cdot x_j^{(i)}$$\n",
    "   \n",
    "This is exactrly the same as the formula for batch gradient descent, except that there is a positive sign. \n",
    "   \n",
    "This is not the same, because the definition for $h_\\theta$ is different from the form used in Logistic regression. \n",
    "   \n",
    "> Perceptron's use g(z) = 1 if z= 0, and g(z) = 0 otherwise. (step function). Then $h(x) = g(\\theta^T x)$ and the learning rule is the same as stochastic gradient descent $\\theta_j:=\\theta_j +\\alpha(y^{(i)}-h_\\theta(x^{(i)}))x_j^{(i)}$. This is a very different algorithm from logistic regression. \n",
    "   \n",
    "\n"
   ]
  },
  {
   "cell_type": "markdown",
   "metadata": {},
   "source": [
    "### Lecture 4\n",
    "   \n",
    "- Logistic Regression\n",
    "- Newtons Method\n",
    "- Exponential Family\n",
    "- Generalized Linaer Models\n",
    "   \n",
    "\n",
    "   \n",
    "### Newtons Method\n",
    "   \n",
    "To fit a logistic regression method, this method often runs much faster than gradient descent.\n",
    "   \n",
    "for a function $f(\\theta)$ and you want to find a value of $\\theta$ such that $f(\\theta)=0$.\n",
    "   \n",
    "for example plot a wavy line near y=x. ($\\theta$ horizontal axis).\n",
    "   \n",
    "choose a value of $\\theta = \\theta^{(0)} $ and evaluate $f(\\theta{^(0)})$ then take the tangent of the function $f'(\\theta^{(0)})$, take the tangent down to zero (intersect with the $\\theta$ axis) and name the point $\\theta^{(1)}$, then repeat the process.\n",
    "   \n",
    "The difference $\\theta^{(0)}-\\theta^{(1)} = \\Delta$. \n",
    "   \n",
    "then $f'(\\theta^{(0)}) = \\frac{f(\\theta^{(0)})}{\\Delta} $\n",
    "and so\n",
    "$\\Delta = \\frac{f(\\theta^{(0)})}{f'(\\theta^{(0)})}$\n",
    "   \n",
    "and then $\\theta^{(1)} =\\theta^{(0)}- \\Delta = \\theta^{(0)}-\\frac{f(\\theta^{(0)})}{f'(\\theta^{(0)})} $\n",
    "   \n",
    "and so we obtain the general algorithm\n",
    "   \n",
    "$$\\theta^{(i+1)} =\\theta^{(i)}- \\Delta = \\theta^{(i)}-\\frac{f(\\theta^{(i)})}{f'(\\theta^{(i)})} $$\n",
    "   \n",
    "> This idea can be applied to maximizing the log liklihood.\n",
    "   \n",
    "$\\mathscr l(\\theta) $ want $\\theta : \\mathscr l(\\theta)=0$.\n",
    "   \n",
    "$$\\theta^{(t+1)}=\\theta^{(t)} - \\frac{\\mathscr l'(\\theta^{(t)})}{\\mathscr l(\\theta^{(t)})}$$\n",
    "   \n",
    "Then this must be a local optimimum. (can usually choose $\\mathbf \\theta_0 = \\mathbf 0$.)\n",
    "   \n",
    "> Newtowns method has quadraticly convergent.(every iteration will double the number of significant digits, squares error every iteration).\n",
    "   \n",
    "#### Generalization\n",
    "   \n",
    "$$ \\mathbf \\theta^{(t+1)} = \\mathbf \\theta^{(t)}-\\mathbf H^{-1}\\nabla \\mathscr l(\\mathbf \\theta)$$\n",
    "   \n",
    "where $\\mathbf H$ is the Hessian (derivative of the gradient)\n",
    "   \n",
    "$$H_{ij} = \\frac{\\partial^2 \\mathscr l}{\\partial \\theta_i \\partial \\theta_j}$$\n",
    "   \n",
    "> Disadvantage is the inversion of the Hessian every iteration for large number of features. ($H\\in \\mathbb R^{n\\times n}$ ).\n",
    "   \n",
    "> How does the algorithm change if you want to use it for minimization. (answer it does not change).\n",
    "   \n",
    "### So far...\n",
    "   \n",
    "2 different algorithms for minimizing $P(y|x;\\theta)$. One was a real number\n",
    "   \n",
    "$y \\in \\mathbb R$ assumed to have a Gaussian Distribution, ordinary least squares.\n",
    "   \n",
    "For classification $y\\in[0,1]$ Bernoulli $\\to$ Logistic regression.\n",
    "   \n",
    "### Where did the sigmoid function come from?\n",
    "   \n",
    "Take both algorithms and show that they are part of a generalized set of inear algorithms.\n",
    "   \n",
    "### Bernoulli and Gaussian Distributions\n",
    "   \n",
    "$B(\\phi)$ is the Bernoulli distribution.\n",
    "   \n",
    "$$P(y=1\\ |x;\\phi) = \\phi$$\n",
    "   \n",
    "> The parameter $\\phi$ specifies that probability that $y=1$. As you vary the value of $\\phi$ you get different distributions on y, that have different probabilities of being 1, so this is a set or class of distributions,\n",
    "   \n",
    "$$\\mathscr N(\\mu,\\sigma^2)$$ as you vary $\\mu$ you get other distributions, so is also a class.\n",
    "   \n",
    "> They are both classes of distributions in the exponetial family. \n",
    "   \n",
    "A distribution is in the exponential family if it can be written\n",
    "   \n",
    "$$ P(y;\\eta) = b(y) exp(\\eta^T T(y)-a(\\eta))$$\n",
    "   \n",
    "> here $\\eta$ takes the role of $\\theta$. \n",
    "   \n",
    "$\\eta$ is called the natural parameter of the distribution. (in many cases a real number)\n",
    "$T(y)$ is called the sufficient statistic. (often T(y)=y).\n",
    "   \n",
    "For a given choice of these functions, $a,b,T$ then this formula defines a set / class of distributions parameterized by $\\eta$. The Bernoulli and the Gaussian are special cases,depending on $a,b,T$.\n",
    "   \n",
    "#### Bernoulli\n",
    "   \n",
    "$B(\\phi)$ and $P(y=1\\ |x;\\phi) = \\phi$\n",
    "   \n",
    "$P(y=1\\ |x;\\phi) = \\phi^y(1-\\phi)^{1-y}$\n",
    "   \n",
    "then\n",
    "   \n",
    "$exp(log(\\phi^y(1-\\phi)^{1-y})) = exp(y log (\\phi) + (1-y)log(1-\\phi)) = exp(log{\\frac{\\phi}{1-\\phi}}y + log(1-\\phi))$\n",
    "   \n",
    "The term $log{\\frac{\\phi}{1-\\phi}}= \\eta$, the term $y=T(y)$ and $log(1-\\phi))=-a(\\eta)$.\n",
    "   \n",
    "Solving for $\\eta(\\phi)$ then\n",
    "   \n",
    "$\\phi = \\frac{1}{1-e^{-\\eta}}$ (similar to the logistic function).\n",
    "   \n",
    "then $a(\\eta) = log(1-\\phi) = log(1+e^\\eta)$\n",
    "  \n",
    "and T(y)=y and b(y)=1. \n",
    "   \n",
    "> therefore the Bernoulli distribution fits into the exponential family of distributions.\n",
    "   \n",
    "### Gaussian\n",
    "   \n",
    "Since $\\sigma^2$ does not matter, set it =1.   \n",
    "\n",
    "$$\\mathscr N(\\mu,\\sigma^2)   = \\frac{1}{\\sqrt{2\\pi}}exp(-\\frac{1}{2}(y-\\mu)^2)=\\frac{1}{\\sqrt{2\\pi}}exp(-\\frac{1}{2}y^2)exp(\\mu y -\\frac{1}{2}\\mu^2)$$\n",
    "   \n",
    "so $b(y) = \\frac{1}{\\sqrt{2\\pi}}exp(-\\frac{1}{2}y^2)$ and $T(y)=y$ and $\\mu = \\eta$, \n",
    "Then $a(\\mu) = -\\frac{1}{2}\\mu^2 = -\\frac{1}{2}\\eta^2$. \n",
    "   \n",
    "> Therefore Gaussian distribution is a class of distributions in the exponential family of distributions.\n",
    "   \n",
    "> Most textbook distribs can be written this way\n",
    "   \n",
    "- the multivariate normal distribution (generalization ) is also in the exponential family. (outcomes over k possible values)\n",
    "- the multinomial distribution models multiple outcomes, rather than a coin tos, is also in the exponential family.\n",
    "- Poisson distribution is also in the exponential family. USed for modelling counts. (customers to website etc).\n",
    "- Gamma and Exponential distributions, used over positive numbers, for intervals (when will the next bus arrive, etc). \n",
    "- Beta amd Dirichlet, over fractions, probability distributions over probability distributions.\n",
    "- Wishhar distribution over covariance matrices.\n",
    "\n",
    "### How to derive a generalized linear model.\n",
    "   \n",
    "Assume / Deisgn choices: \n",
    "1. Given $y|x;\\theta$, assume $y$ is distributed ExponentialFamily($\\eta$). \n",
    "2. Given $x$ the goal is to output $E(T(y)|x)$ the expected value of $T(y)$ given $x$.  want $h(x) = E[T(y)|x]$.\n",
    "3. (design choice) relationship betweem $\\theta$ and $\\eta$ assumed linear, $\\eta = \\theta^T x$. for the more general case \n",
    "   \n",
    "### Example.\n",
    "   \n",
    "Bernoulli example\n",
    "   \n",
    "$$y|x;\\theta = ExpFamily(\\eta)$$\n",
    "   \n",
    "Using previous work. For a fixed $x,\\theta$ the algorithm is\n",
    "   \n",
    "$$h(x) = E[y|x;\\theta] = P(y=1 |x, \\theta) = \\phi = \\frac{1}{1-e^{-\\eta}} =\\frac{1}{1-e^{-\\theta^T x}}$$ \n",
    "   \n",
    "The model is automatically derived from the decesion on the distribution.\n",
    "   \n",
    "$g(\\eta) = E[y;\\eta]=\\frac{1}{1-e^{-\\eta}}$ os called the **canonical response function**\n",
    "a $g(\\eta)^{=1}$ is called the **canonical link function**. (some texts use the inverse)\n",
    "   \n",
    "> Make a table of canonical response functions and link functions.\n",
    "   \n",
    "### do the gaussian example.\n",
    "   \n",
    "### More complex example\n",
    "   \n",
    "Multinomial distirbution $y\\in [1,\\cdots, k]$. (predict if a patient has one of k diseases). Multi-class classification probklem.\n",
    "   \n",
    "> Draw a diagram with crosses, circles, triangles, 3 or more classes of data point.\n",
    "   \n",
    "Parameters : $\\phi_1, \\phi_2, \\cdots, \\phi_k$.\n",
    "   \n",
    "$$P(y=i)=\\phi_i$$\n",
    "   \n",
    "Then \n",
    "   \n",
    "$$ \\phi_k = 1-(\\phi_1 + \\cdots + \\phi_{k-1})$$\n",
    "   \n",
    "Parameters: $\\phi_1, \\cdots, \\phi_{k-1}$\n",
    "   \n",
    "in this example, $y=1,\\cdots, k$ Then for $T(y)$ we have vectors ...\n",
    "   \n",
    "$$T(1) = \\left(\\begin{array}{ccc}1\\\\0\\\\...\\\\0\\end{array}\\right) $$\n",
    "   \n",
    "and \n",
    "   \n",
    "$$T(2) = \\left(\\begin{array}{ccc}0\\\\1\\\\...\\\\0\\end{array}\\right) $$\n",
    "   \n",
    "Then\n",
    "   \n",
    "$$T(k-1) = \\left(\\begin{array}{ccc}0\\\\0\\\\...\\\\1\\end{array}\\right) $$\n",
    "\n",
    "and $T(k) = \\mathbf 0$, the vector of all zeros. The indicator function is $1\\{true\\} = 1$ and $1\\{false\\} = 0$. Then $1\\{2=3\\} = 0$ etc\n",
    "   \n",
    "Then \n",
    "   \n",
    "$$ \\mathbf T(\\mathbf y)_i = 1\\{y=i\\}$$\n",
    "   \n",
    "The multinomial distribution is\n",
    "   \n",
    "$$P(y) = \\phi_1^{1\\{y=1\\}}\\phi_2^{1\\{y=2\\}}\\cdots \\phi_k^{1\\{y=k\\}} = \\phi_1^{T(y)_1}\\phi_2^{T(y)_2}\\cdots\\phi_k^{T(y)_k}$$\n",
    "   \n",
    "This can be simplified to the exponential family form where \n",
    "   \n",
    "$$ \\eta = \\left(\\begin{array}{ccc}\\text{log}(\\phi_1/\\phi_k) \\\\ \\cdots \\\\\\text{log}(\\phi_{k-1}/\\phi_k) \\end{array}\\right) \\in \\mathbb R^{k-1}$$\n",
    "   \n",
    "and \n",
    "   \n",
    "$$a(\\eta) = -\\text{log}(\\phi_k), b(y)=1$$\n",
    "   \n",
    "Then you can write $\\phi$ as a function of $\\eta$ through matrix inversion\n",
    "   \n",
    "$$ \\phi_i = \\frac{e^{\\eta_i}}{1+ \\sum_{j=1}^{k-1} e^{\\eta_j}}$$\n",
    "   \n",
    "if $\\eta$ are a linear function\n",
    "   \n",
    "$$ \\phi_i = \\frac{e^{\\theta_i^T x}}{1+ \\sum_{j=1}^{k-1} e^{\\theta_j^T x}}$$\n",
    "   \n",
    "so the learning algorithm is\n",
    "   \n",
    "$$ h(x) = E[\\mathbf T(\\mathbf y)|x;\\theta] = \\mathbf \\phi$$\n",
    "   \n",
    "and T(y) is a vector of indicator functions. So the probability of $T(1)|x;\\theta = \\phi_1$.\n",
    "\n",
    "and $\\phi_1 = \\frac{e^{\\theta_1^T x}}{1+ \\sum_{j=1}^{k-1} e^{\\theta_j^T x}}$ etc.\n",
    "\n",
    "   \n",
    "> This algorithm is called Softmax regression, and is widely thought of as logistic regression to the case of k classes rather than 2 classes.\n",
    "   \n",
    "If $y\\in \\{1,\\cdots,k\\}$ then you say you want a multinomial distribution (exponential family). Everything else follows automatically. Then the training set\n",
    "   \n",
    "$(x^{(i)},y^{(i)}), \\cdots (x^{(m)},y^{(m)})$\n",
    "   \n",
    "The the hypothesis is \n",
    "   \n",
    "$$h(x) = \\prod_{i=1}^m P(y^{(i)}|x^{(i)};\\theta) = \\prod_{i=1}^m \\phi_1^{1\\{y^{(i)}=1\\}}\\phi_2^{1\\{y^{(i)}=2\\}}\\cdots \\phi_k^{1\\{y^{(i)}=k\\}}$$\n",
    "   \n",
    "where for example, \n",
    "      \n",
    "$$\\phi_1 = \\frac{e^{\\theta_1^T x}}{1+ \\sum_{j=1}^{k-1} e^{\\theta_j^T x}}$$\n",
    "   \n",
    "Write this down, take logs, compute the derivative with respect to theta, then apply gradient descent."
   ]
  },
  {
   "cell_type": "code",
   "execution_count": null,
   "metadata": {
    "collapsed": true
   },
   "outputs": [],
   "source": []
  }
 ],
 "metadata": {
  "kernelspec": {
   "display_name": "Python 2",
   "language": "python",
   "name": "python2"
  },
  "language_info": {
   "codemirror_mode": {
    "name": "ipython",
    "version": 2
   },
   "file_extension": ".py",
   "mimetype": "text/x-python",
   "name": "python",
   "nbconvert_exporter": "python",
   "pygments_lexer": "ipython2",
   "version": "2.7.13"
  }
 },
 "nbformat": 4,
 "nbformat_minor": 2
}
