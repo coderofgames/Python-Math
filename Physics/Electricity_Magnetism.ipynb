{
 "cells": [
  {
   "cell_type": "markdown",
   "metadata": {},
   "source": [
    "# Electricity and Magnetism.\n",
    "\n",
    "##  Electric Force and Electric Charge    \n",
    "   \n",
    "Electric charge may be positive, negative, or zero; like charges repel,unlike charges attract.\n",
    "   \n",
    "Coulomb's law:  $ F=\\frac{1}{4 \\pi \\epsilon_0}\\frac{q q'}{r^2}$\n",
    "   \n",
    "Permitivity constant:   $\\epsilon_0=8.85\\times 10^{-12}\\ C^2/N\\cdot m^2$\n",
    "   and $\\frac{1}{4\\pi\\epsilon_0}=8.99\\times 10^9\\ N\\cdot m^2/c^2$\n",
    "   \n",
    "Charge of Proton: $ e=1.60\\times 10^{-19}C $ \n",
    "   \n",
    "Charge of Electron: $ -e=-1.60\\times 10^{-19}C $\n",
    "   \n",
    "Charge conservation:  In any reaction the net electric charge remains constant.\n",
    "   \n",
    "Conductor:  Permits motion of charge.\n",
    "   \n",
    "Insulator:  Does not permit motion of charge.\n"
   ]
  },
  {
   "cell_type": "markdown",
   "metadata": {},
   "source": [
    "##  The Electric Field   \n",
    "\n",
    "Superposition principle:  Electric forces and fields combine by vector addition.\n",
    "   \n",
    "Definition of Electric Field:   $\\mathbf E=\\frac{\\mathbf F}{q}$\n",
    "   \n",
    "Electric Field of a point charge:  $\\mathbf E=\\frac{1}{e\\pi\\epsilon_0}\\frac{q'}{r^2}\\hat r$\n",
    "   \n",
    "Electric field of large uniformly charged plane: $E=\\frac{\\sigma}{\\epsilon_0}$\n",
    "   \n",
    "Electric dipole moment: $p=lQ$\n",
    "   \n",
    "Torque on a dipole:  $ \\mathbf\\tau = \\mathbf p \\times \\mathbf E $\n",
    "   \n",
    "Potential Energy of a dipole: $ U=-\\mathbf p\\cdot \\mathbf E$\n",
    "\n"
   ]
  },
  {
   "cell_type": "markdown",
   "metadata": {},
   "source": [
    "## Gauss' Law    \n",
    "\n",
    "Electric flux through a surface:  $\\Phi=\\int E_n\\ dS = \\int\\mathbf E\\cdot d\\mathbf S$\n",
    "   \n",
    "Gauss' Law (for closed surface):  $\\oint\\mathbf E \\cdot d\\mathbf S = \\frac{Q}{\\epsilon_0}$\n",
    "   \n",
    "Conductor in electrostatic equilibrium:  The electric field within a conductor is zero.\n",
    "                     The charge resides at the surface.\n",
    "                     The electric field at the surface is perpendicular and of magnitude $E=\\frac{\\sigma}{\\epsilon_0}$\n"
   ]
  },
  {
   "cell_type": "markdown",
   "metadata": {},
   "source": [
    "## The Electrostatic Potential    (voltage)\n",
    "   \n",
    "Electrostatic Potential:  $ V(P)=\\frac{U}{q}=-\\int_{P_0}^{P}\\mathbf E\\cdot d\\mathbf l + V(P_0)$\n",
    "   \n",
    "Potential of a point charge:  $V=\\frac{1}{4\\pi\\epsilon_0}\\frac{q'}{r}$ \n",
    "   \n",
    "Potential Energy of two point charges:  $U=\\frac{1}{4\\pi\\epsilon_0}\\frac{q q'}{r}$\n",
    "   \n",
    "Derivatives of the potential:   $\\frac{dV}{dl}=-E\\cos\\theta $\n",
    "   and $\\frac{\\partial V}{\\partial x}=-E_x,\\quad\\frac{\\partial V}{\\partial y}=-E_y,\\quad\\frac{\\partial V}{\\partial z}=-E_z,$ \n",
    "   \n",
    "Gradient of Potential: $\\mathbf E=-\\nabla \\mathbf V,\\quad \\mathbf F = -\\nabla \\mathbf U$\n",
    "   \n",
    "Mean-value theorem for charge free region:  potential at center of any sphere equals mean potential on surface.\n",
    "\n"
   ]
  },
  {
   "cell_type": "markdown",
   "metadata": {},
   "source": [
    "##  Electric Energy \n",
    "\n",
    "Energy of a system of point charges:  $ U=\\frac{1}{2}q_2\\ V_{other}+\\frac{1}{2}q_2V_{other}(2)+\\frac{1}{2}q_3V_{other}(3)+\\cdots $\n",
    "   \n",
    "Energy of a system of point conductors:  $ U=\\frac{1}{2}Q_1V_1+\\frac{1}{2}Q_2V_2 +\\frac{1}{2}Q_3V_3+\\cdots$\n",
    "   \n",
    "Energy density in an Electric field:  $u=\\frac{1}{2}\\epsilon_0E^2$\n"
   ]
  },
  {
   "cell_type": "markdown",
   "metadata": {},
   "source": [
    "## Capacitors and Dielectrics  \n",
    "   \n",
    "Capatitance of a pair of conductors:  $ C=\\frac{Q}{\\Delta V}$\n",
    "   \n",
    "Capaticance of parallel plates:  $ C=\\frac{\\epsilon_0 A}{d}$\n",
    "   \n",
    "Parallel combination: $ C=C_1+C_2+C_3+...$\n",
    "   \n",
    "Series combination:  $\\frac{1}{C}=\\frac{1}{C_1}+\\frac{1}{C+2}+\\frac{1}{C+3}+...$\n",
    "   \n",
    "Electric field in dielectric between parallel plates:  $\\mathbf E = \\frac{1}{\\kappa}\\mathbf E_{free}$\n",
    "   \n",
    "Gauss' Law in dielectrics:  $ \\oint \\kappa \\mathbf E \\cdot d \\mathbf S = \\frac{Q_{free}}{\\epsilon_0}$\n",
    "   \n",
    "Energy in capacitor: $ U=\\frac{1}{2}Q\\Delta V$\n",
    "   \n",
    "Energy density in dielectrics: $ u=\\frac{1}{2}\\kappa \\epsilon_0E^2$\n"
   ]
  },
  {
   "cell_type": "markdown",
   "metadata": {},
   "source": [
    "##  Currents and Ohm's Law    \n",
    "   \n",
    "Electric Field in uniform wire:  $ E=\\frac{\\Delta V}{l}$\n",
    "   \n",
    "Electric current:  $ I=\\frac{dq}{dt}$\n",
    "   \n",
    "Current density in uniform wire:  $ J = \\frac{I}{A}$\n",
    "\n",
    "Current through an Element of area : $dI = \\mathbf J\\cdot d\\mathbf S=J dA$\n",
    "\n",
    "Total Current through a surface : $I = \\int_S \\mathbf J\\cdot d\\mathbf S$\n",
    "\n",
    "Ohms Law in field quantities: $\\mathbf E=\\rho \\mathbf J,\\quad \\mathbf J=\\sigma \\mathbf E$, where $\\rho$ is resistance and $\\sigma$ is conductivity.\n",
    "   \n",
    "Resistance in terms of resisivity: \\ $ R=\\rho \\frac{l}{A}$\n",
    "   \n",
    "Ohm's law:  $ I=\\frac{\\Delta V}{R}$\n",
    "   \n",
    "Resistivities:  \n",
    "conductors: $\\approx 10^{-8}\\ \\Omega\\cdot m$   \n",
    "semiconductors: $\\approx 10^{-4}\\ to\\ 10^7\\ \\Omega\\cdot m$    \n",
    "insulators: $\\approx 10^11\\ to\\ 10^17\\ \\Omega\\cdot m$\n",
    "   \n",
    "Series combination of resistors: $ R=R_1+R_2+R_3+...$\n",
    "   \n",
    "Parallel combination of resistors:  $\\frac{1}{R}=\\frac{1}{R_1}+\\frac{1}{R_2}+\\frac{1}{R_3}+...$\n",
    "\n"
   ]
  },
  {
   "cell_type": "markdown",
   "metadata": {},
   "source": [
    "##  DC circuits    \n",
    "   \n",
    "Kirchoff's (second) rule:  The sum of emf's and potential changes around any closed loop in a circuit equals zero.\n",
    "   \n",
    "Power delivered by a source of emf: $ P=I\\mathscr E$\n",
    "   \n",
    "Power dissipated by a resistor: $ P=I\\ \\Delta V$\n",
    "   \n",
    "Time constant of RC circuit: $ RC$\n"
   ]
  },
  {
   "cell_type": "markdown",
   "metadata": {},
   "source": [
    "##  The magnetic Force and Field   \n",
    "   \n",
    "Magnetic Force between moving point charges:  $\\mathbf F=\\frac{\\mu_0}{4\\pi}\\frac{q q'}{r^2}\\mathbf v \\times(\\mathbf v'\\times \\hat r)$\n",
    "   \n",
    "Magnetic field of point charge:  $ \\mathbf B=\\frac{\\mu_0}{4\\pi}\\frac{q'}{r^2}\\mathbf (\\mathbf v'\\times \\hat r)$\n",
    "   \n",
    "Permeability constant:  $\\mu_0=1.26\\times 10^{-6}\\ N\\cdot s^2/C^2$\n",
    "   \n",
    "and $ \\frac{mu_0}{4\\pi}=1.00\\times 10^{-7}\\ N\\cdot s^2/C^2$\n",
    "   \n",
    "Definition of magnetic field:  $\\mathbf F=q\\mathbf v \\times \\mathbf B$\n",
    "   \n",
    "Gauss' law for magnetism:  $\\oint\\mathbf B\\cdot d\\mathbf S=0$\n",
    "   \n",
    "Biot-Savart Law:   $ d\\mathbf B=\\frac{\\mu_0}{4\\pi}\\frac{I d\\mathbf I \\times \\hat r}{r^2}$\n",
    "   \n",
    "Magnetic dipole moment:  $\\mu=[current]\\times[area\\ of\\ loop]$\n",
    "\n",
    "Lorentz Force: $\\mathbf F = q[\\mathbf E + (\\mathbf v\\times\\mathbf B)]$\n"
   ]
  },
  {
   "cell_type": "markdown",
   "metadata": {},
   "source": [
    "##  Amperes Law    \n",
    "\n",
    "Ampere's Law:  $ \\oint \\mathbf B\\cdot d\\mathbf l=\\mu_0I$\n",
    "\n",
    "Field in solenoid:  $ B=\\mu_0I_0n$\n",
    "\n",
    "Circular orbit in magnetic field:  $r=\\frac{p}{qB}$\n",
    "\n",
    "Cyclotron frequency:  $\\mathbf F=q\\mathbf E+q\\mathbf v \\times \\mathbf B$\n",
    "\n",
    "Force on a wire segment:  $d\\mathbf F=Id\\mathbf l\\times \\mathbf B$\n",
    "\n",
    "Torque on a current loop:  $\\tau=\\mu \\times \\mathbf B$\n",
    "\n",
    "Potential energy of a current loop: $ U=-\\mu\\cdot\\mathbf B$\n"
   ]
  },
  {
   "cell_type": "markdown",
   "metadata": {},
   "source": [
    "##  Electromagnetic Induction    \n",
    "\n",
    "Motional emf in a rod:  $\\mathscr E = vBl$\n",
    "   \n",
    "Faraday's law:  $\\mathscr E=[\\text{rate of sweeping of magnetic flux}]$\n",
    "   \n",
    "Magnetic flux:  $\\Phi_n=\\int\\mathbf B\\cdot d\\mathbf S$\n",
    "   \n",
    "Faraday's law for closed loops: $ \\mathscr E=-\\displaystyle\\frac{d\\Phi_B}{dt}$\n",
    "   \n",
    "Lenz' Law:  induced emf opposes charge.\n",
    "   \n",
    "Mutual Inducatance:$  \\Phi_{B_1}=L_{21}I_1$\n",
    "   and $\\mathscr E_2=-L_{21}\\displaystyle\\frac{dI_1}{dt}$\n",
    "   \n",
    "Self-Inductance:  $  \\Phi_n=LI$\n",
    "   \n",
    "   and           $\\mathscr E=-L\\displaystyle\\frac{dI}{dt}$\n",
    "   \n",
    "Self-Inductance of a solenoid:  $\\mu_0 n^2\\pi R^2\\ per\\ unit\\ length.$\n",
    "   \n",
    "Magnetic energy in inductor: $  U=\\frac{1}{2}LI^2$\n",
    "   \n",
    "Energy density in magnetic field:  $u=\\frac{1}{2\\mu_0}B^2$\n",
    "   \n",
    "Time constant in RL circuit:  $ L/R$\n"
   ]
  },
  {
   "cell_type": "markdown",
   "metadata": {},
   "source": [
    "##  Magnetic Materials    \n",
    "   \n",
    "Magnetic moment of orbiting electrons:   $\\mu=\\displaystyle\\frac{e}{2m_e}L$\n",
    "   \n",
    "Permeability constant:  $\\mathbf B=\\kappa_m \\mathbf B_{free}$\n",
    "   \n",
    "Magnetic materials:   \n",
    "paramagnetic: $\\kappa_m \\geq 1$   \n",
    "ferromagnetic: $\\kappa_m>1$   \n",
    "diamagnetic:  $\\kappa_m<1$   \n",
    "\n",
    "Ampere's law in paramagnetic and diamagnetic materials: $\\oint\\frac{1}{\\kappa_m}\\mathbf B\\cdot d\\mathbf l=\\mu_0I_{free}$\n",
    "   \n",
    "Larmour Frequency:  $\\Delta\\omega=\\displaystyle\\frac{e B}{2m_e}$\n",
    "\n",
    "Magnetic Field Strength : $\\oint \\mathbf H\\cdot d\\mathbf S=I$\n",
    "\n",
    "Magnetic induction in material: $\\mathbf B=\\mu_0 \\mathbf H + \\mu_0 \\mathbf M $, where $\\mathbf H$ is the magnetic field strength or intensity and $\\mathbf M$ is the magnetisation, the magnetic polarization of the magnetic diplole moment per unit volume. $M$ is the part of $B$ that depends on the microscopic properties of the material. In anisotropic materials $\\mu$ can be a 2nd order tensor.\n",
    "\n",
    "\n",
    "Magnetic induction in isotropic medium: $B=\\mu H$ where $\\mu = \\mu_0(1+\\chi_m)$ and $\\chi_m$ is the magnetic susceptibility of the material. \n",
    "\n",
    "Energy Density: $\\epsilon = \\frac{1}{2}\\mathbf B\\cdot\\mathbf H$\n"
   ]
  },
  {
   "cell_type": "markdown",
   "metadata": {},
   "source": [
    "##  AC Circuits    \n",
    "\n",
    "MAverage AC power absorbed by resistor: $ \\bar P=\\displaystyle\\frac{\\mathscr E_{max}^2}{2R}=\\frac{\\mathscr E_{rms}^2}{R}$\n",
    "   \n",
    "Natural frequency of LC circuit:  $\\omega_0=\\displaystyle\\frac{1}{\\sqrt{LC}}$\n",
    "   \n",
    "Energy loss in freely oscillating series LCR circuits: $\"Q\"=2\\pi|\\frac{U}{\\Delta U}|=\\omega_0 \\frac{L}{R}$\n",
    "   \n",
    "Impedence of series LCR circuit:   $ Z=\\sqrt{R^2+\\left(\\omega L-\\frac{1}{\\omega C}\\right)^2}$\n",
    "   \n",
    "Impedence of parallel LCR circuit: $ z=\\displaystyle\\frac{1}{\\sqrt{\\frac{1}{R^2}+\\left(\\frac{1}{\\omega L}-\\omega C\\right)}}$\n",
    "emf in transformer:   $\\mathscr E_2=\\mathscr E_1 \\frac{N_2}{N_1}$\n"
   ]
  },
  {
   "cell_type": "markdown",
   "metadata": {},
   "source": [
    "##  The Displacement Current And Maxwells Field\n",
    "\n",
    "Displacement current: $ I_d=\\epsilon_0\\displaystyle\\frac{d\\Phi}{dt}$\n",
    "   \n",
    "Maxwell's equations:   \n",
    "   \n",
    "1)  $\\oint\\mathbf E\\cdot d\\mathbf S=\\frac{Q}{\\epsilon_0}$ \n",
    "   \n",
    "2)  $\\oint\\mathbf B\\cdot d\\mathbf S=0$\n",
    "\n",
    "3)  $\\oint\\mathbf E\\cdot d\\mathbf l=-\\frac{d\\Phi_n}{dt}$\n",
    "\n",
    "4)  $\\oint\\mathbf B\\cdot d\\mathbf l=\\mu_0I+\\mu_0\\epsilon_0\\frac{d\\Phi}{dt}$   \n",
    "   \n",
    "5) $\\mathbf F = q[\\mathbf E + (\\mathbf v\\times\\mathbf B)]$\n",
    "   \n",
    "Transverse electric field of accelerated charge:  $ E_0=\\displaystyle\\frac{1}{4\\pi\\epsilon_0}\\frac{qA\\sin \\theta}{c^2r}$\n",
    "   \n",
    "Speed of electromagnetic wave:  $c=\\displaystyle\\frac{1}{\\sqrt{\\mu_0\\epsilon_0}}$\n",
    "   \n",
    "Transverse magnetic field: $ B=\\displaystyle\\frac{E_{\\theta}}{c}$\n"
   ]
  },
  {
   "cell_type": "markdown",
   "metadata": {},
   "source": [
    "##  Light And Radio    \n",
    "   \n",
    "Electric and magnetic field of a plane wave:   \n",
    "$ E_y=E_0\\sin\\left(\\omega t -\\frac{\\omega x}{c}\\right)$   \n",
    "$ B_z=\\frac{E_0}{c}\\sin\\left(\\omega t -\\frac{\\omega x}{c}\\right)$\n",
    "   \n",
    "Poynting vector: $  \\mathbf S=\\frac{1}{\\mu_0}\\mathbf E\\times\\mathbf B$\n",
    "   \n",
    "Time-average energy flux of plane wave:  $\\bar S=\\frac{1}{2\\mu_0 c}E_0^2$\n",
    "   \n",
    "Momentum of a wave:  $  P_x=\\frac{U}{c}$\n",
    "   \n",
    "Radiation Pressure:  $ \\frac{F_x}{A}=\\frac{S}{c}$\n",
    "   \n",
    "Doppler shift:      \n",
    "def. $\\frac{\\Delta \\nu}{\\nu_0}\\cong \\mp\\frac{v}{c}$   \n",
    "receding: $ \\nu=\\sqrt{\\frac{1-v/c}{1+v/c}}v_0$   \n",
    "approaching: $ \\nu=\\sqrt{\\frac{1+v/c}{1-v/c}}v_0$   \n"
   ]
  },
  {
   "cell_type": "code",
   "execution_count": null,
   "metadata": {
    "collapsed": true
   },
   "outputs": [],
   "source": []
  }
 ],
 "metadata": {
  "kernelspec": {
   "display_name": "Python 2",
   "language": "python",
   "name": "python2"
  },
  "language_info": {
   "codemirror_mode": {
    "name": "ipython",
    "version": 2
   },
   "file_extension": ".py",
   "mimetype": "text/x-python",
   "name": "python",
   "nbconvert_exporter": "python",
   "pygments_lexer": "ipython2",
   "version": "2.7.10"
  }
 },
 "nbformat": 4,
 "nbformat_minor": 0
}
