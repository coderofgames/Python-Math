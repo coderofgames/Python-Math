{
 "cells": [
  {
   "cell_type": "markdown",
   "metadata": {},
   "source": [
    "##### 3) Vector Differentiation\n",
    "    \n",
    "\n",
    "<h2>Ordinary Derivatives of vectors.</h2>\n",
    "\n",
    "If $\\mathbf r$ is a vector function of a scalar variable, $t$ defined on a smooth continous interval in $\\mathbb R^1$ the real numbers, then $\\mathbf r = \\mathbf r(t)$ is a mapping from $\\mathbb R^1\\to \\mathbb E^3$, for each value $t_0$ in the interval there is a vector $\\mathbf r(t_0)$ in 3 dimensional euclidean space. The derivative of $\\mathbf r$ is defined as\n",
    "\n",
    "$$\n",
    " \\frac{\\delta \\mathbf{r}}{\\delta t}=\\frac{\\mathbf r(t + \\delta t)-\\mathbf r(t)}{\\delta t}\n",
    "$$\n",
    "since $\\mathbf r$ is a vector\n",
    "\n",
    "$$\\frac{\\mathbf r(t + \\delta t)-\\mathbf r(t)}{\\delta t} = \\frac{ x(t + \\delta t)- x(t)}{\\delta t}\\mathbf i + \\frac{y(t + \\delta t)-y(t)}{\\delta t}\\mathbf j + \\frac{z(t + \\delta t)-z(t)}{\\delta t}\\mathbf k$$\n",
    "\n",
    "and the derivative is defined as the limit of this function as $\\delta t\\to 0$, or simply as $\\delta t$ tends to zero.\n",
    "\n",
    "$$\n",
    " \\frac{\\mathrm{d}\\mathbf r }{\\mathrm{d} t} = \\lim_{\\delta t \\to 0}\\frac{\\delta \\mathbf r}{\\delta t}=\\lim_{\\delta t \\to 0}\\frac{\\mathbf r(t+\\delta t)-\\mathbf r(t)}{\\delta t}\n",
    "$$\n",
    "\n",
    "In standard vector notation, with the basis $\\mathbf {i,j,k}$\n",
    " \n",
    "$$\n",
    " \\frac{\\mathrm{d}\\mathbf r }{\\mathrm{d} t} = \\frac{d x}{dt}\\mathbf i + \\frac{d y}{dt}\\mathbf j + \\frac{d z}{dt}\\mathbf k $$\n",
    " \n",
    "The vector $r$ can be seen to describe a space curve and $ \\large \\frac{\\mathrm{d}^2\\mathbf r }{\\mathrm{d} t^2} $\n",
    "is a vector if the derivative exists.\n",
    "   \n",
    "### integrals\n",
    "   \n",
    "As in calculus, the integral is\n",
    "   \n",
    "$$\n",
    "\\int_{t_1}^{t_2}  \\frac{d\\mathbf r}{dt}dt=\\mathbf r(t_2)-\\mathbf r(t_1)\n",
    "  $$  "
   ]
  },
  {
   "cell_type": "code",
   "execution_count": 22,
   "metadata": {
    "collapsed": true
   },
   "outputs": [],
   "source": [
    "from sympy import *\n",
    "from sympy.vector import *\n",
    "e = CoordSys3D('e')\n",
    "u = symbols('u')\n",
    "r1,r2,r3 = symbols('r1 r2 r3')"
   ]
  },
  {
   "cell_type": "code",
   "execution_count": 23,
   "metadata": {},
   "outputs": [
    {
     "data": {
      "image/png": "[encoded data removed]",
      "text/latex": [
       "$$(\\operatorname{r_{1}}{\\left (u \\right )})\\mathbf{\\hat{i}_{e}} + (\\operatorname{r_{2}}{\\left (u \\right )})\\mathbf{\\hat{j}_{e}} + (\\operatorname{r_{3}}{\\left (u \\right )})\\mathbf{\\hat{k}_{e}}$$"
      ],
      "text/plain": [
       "(r₁(u)) e_i + (r₂(u)) e_j + (r₃(u)) e_k"
      ]
     },
     "execution_count": 23,
     "metadata": {},
     "output_type": "execute_result"
    }
   ],
   "source": [
    "init_printing(use_latex=True)\n",
    "r = r1(u)*e.i + r2(u)*e.j + r3(u)*e.k\n",
    "r"
   ]
  },
  {
   "cell_type": "code",
   "execution_count": 24,
   "metadata": {},
   "outputs": [
    {
     "data": {
      "image/png": "[encoded data removed]",
      "text/latex": [
       "$$(\\frac{d}{d u} \\operatorname{r_{1}}{\\left (u \\right )})\\mathbf{\\hat{i}_{e}} + (\\frac{d}{d u} \\operatorname{r_{2}}{\\left (u \\right )})\\mathbf{\\hat{j}_{e}} + (\\frac{d}{d u} \\operatorname{r_{3}}{\\left (u \\right )})\\mathbf{\\hat{k}_{e}}$$"
      ],
      "text/plain": [
       "⎛d        ⎞ e_i + ⎛d        ⎞ e_j + ⎛d        ⎞ e_k\n",
       "⎜──(r₁(u))⎟       ⎜──(r₂(u))⎟       ⎜──(r₃(u))⎟    \n",
       "⎝du       ⎠       ⎝du       ⎠       ⎝du       ⎠    "
      ]
     },
     "execution_count": 24,
     "metadata": {},
     "output_type": "execute_result"
    }
   ],
   "source": [
    "diff(r,u)"
   ]
  },
  {
   "cell_type": "code",
   "execution_count": 29,
   "metadata": {},
   "outputs": [
    {
     "data": {
      "image/png": "[encoded data removed]",
      "text/latex": [
       "$$(2 u)\\mathbf{\\hat{i}_{e}} + (u^{2})\\mathbf{\\hat{j}_{e}} + (u^{3})\\mathbf{\\hat{k}_{e}}$$"
      ],
      "text/plain": [
       "(2⋅u) e_i + ⎛ 2⎞ e_j + ⎛ 3⎞ e_k\n",
       "            ⎝u ⎠       ⎝u ⎠    "
      ]
     },
     "execution_count": 29,
     "metadata": {},
     "output_type": "execute_result"
    }
   ],
   "source": [
    "r = 2*u * e.i + u**2 * e.j + u**3 * e.k\n",
    "r"
   ]
  },
  {
   "cell_type": "code",
   "execution_count": 32,
   "metadata": {},
   "outputs": [
    {
     "data": {
      "image/png": "[encoded data removed]",
      "text/latex": [
       "$$(2)\\mathbf{\\hat{i}_{e}} + (2 u)\\mathbf{\\hat{j}_{e}} + (3 u^{2})\\mathbf{\\hat{k}_{e}}$$"
      ],
      "text/plain": [
       "(2) e_i + (2⋅u) e_j + ⎛   2⎞ e_k\n",
       "                      ⎝3⋅u ⎠    "
      ]
     },
     "execution_count": 32,
     "metadata": {},
     "output_type": "execute_result"
    }
   ],
   "source": [
    "drdu = diff(r)\n",
    "d2rdu2 = diff(r,u,2)\n",
    "drdu"
   ]
  },
  {
   "cell_type": "code",
   "execution_count": 33,
   "metadata": {},
   "outputs": [
    {
     "data": {
      "image/png": "[encoded data removed]",
      "text/latex": [
       "$$(2)\\mathbf{\\hat{j}_{e}} + (6 u)\\mathbf{\\hat{k}_{e}}$$"
      ],
      "text/plain": [
       "(2) e_j + (6⋅u) e_k"
      ]
     },
     "execution_count": 33,
     "metadata": {},
     "output_type": "execute_result"
    }
   ],
   "source": [
    "d2rdu2"
   ]
  },
  {
   "cell_type": "markdown",
   "metadata": {},
   "source": [
    "<h2>Space Curves    </h2>\n",
    "\n",
    "If\n",
    "\n",
    "$$\\mathbf{r}(t) = x(t) \\mathbf{i} + y(t) \\mathbf{j} + z(t) \\mathbf{k}$$\n",
    "where $ x(t), y(t) $ and $z(t)$ are functions of t. \n",
    "\n",
    "Where $\\mathbf r$ is the mapping of all points $t$ on the interval $U$ in $R^1$ into $E^3$, or \n",
    "   \n",
    "$$\\mathbf r : t\\ \\in  U \\subset R^1 \\to x,y,z\\ \\in\\ C \\subset E^3 $$\n",
    "\n",
    "this is another way of saying $\\mathbf r$ takes $t$ an element of the set $U$ subset of the real line, into $x,y,z$ an element of $C$ a subset of three dimensional Euclidean space.\n",
    "Then $\\mathbf r$ can be described as a space curve since the locus of all points in $E^3$ - as $t$ changes the end point of the vector $ \\mathbf{r}(t) $ traces a space curve and the derivative is a vector in the direction of $\\delta \\mathbf r  $.  \n",
    "\n",
    "The derivative $\\frac{\\mathrm{d}\\mathbf r }{\\mathrm{d} t} $ then it will be a vector in the direction of the tangent of the space curve.\n",
    "\n"
   ]
  },
  {
   "cell_type": "markdown",
   "metadata": {},
   "source": [
    "### Continutity and differentiability.\n",
    "\n",
    "\n",
    "\n",
    "A scalar function $ \\phi (u) $ is called continuous at u if\n",
    "\n",
    "$$ \\lim_{\\delta u \\to 0}(\\phi(u+\\delta u)-\\phi (u))=\\phi (u)$$\n",
    "\n",
    "Equivalently $\\phi (u)$ is continuous at u if for each positive number $ \\epsilon $ we can find a positive number $ \\delta$ such that\n",
    "\n",
    "$$  |(\\phi(u+\\delta u)-\\phi (u))  | < \\epsilon $$\n",
    "\n",
    "whenever $  | \\delta u \\ | < \\delta$\n",
    "   \n",
    "\n",
    "A vector function $ \\mathbf{r}(u) = r_1(u) \\mathbf{i} + r_2(u) \\mathbf{j} + r_3(u)\\mathbf{k} $ is continuous at u if the three scalar functions \n",
    "   \n",
    "$$ r_1(u),r_2(u),r_3(u)$$\n",
    "\n",
    "are continuous at u or if \n",
    "\n",
    "$$ \\lim_{\\delta u \\to 0}(\\mathbf r(u+\\delta u)-\\mathbf r(u))=\\mathbf r(u)$$\n",
    "   \n",
    "and equivalently if\n",
    "   \n",
    "$$ \\left |(\\mathbf r(u+\\delta u)-\\mathbf r(u)) \\right | < \\epsilon $$ \n",
    "   \n",
    "whenever $\\left | \\delta u \\right |<\\delta$\n",
    "   \n",
    "This particular notion of continuity can be credited to Wierstrass, who defined the notion of uniform continuity. A scalar or vector function is called differentiable at order n if its nth derivative exists. A function which is differentiable is neccessarily continuous but the converse is not true. \n",
    "    "
   ]
  },
  {
   "cell_type": "code",
   "execution_count": 17,
   "metadata": {
    "collapsed": true
   },
   "outputs": [],
   "source": [
    "import matplotlib.pyplot as plt\n",
    "import numpy as np\n",
    "# see https://butterflyofdream.wordpress.com/2014/01/13/sympy-continuity-test-of-functions/"
   ]
  },
  {
   "cell_type": "code",
   "execution_count": 18,
   "metadata": {},
   "outputs": [
    {
     "data": {
      "text/plain": [
       "[<matplotlib.lines.Line2D at 0x8f96f98>]"
      ]
     },
     "execution_count": 18,
     "metadata": {},
     "output_type": "execute_result"
    },
    {
     "data": {
      "image/png": "[encoded data removed]",
      "text/plain": [
       "<matplotlib.figure.Figure at 0x8de84a8>"
      ]
     },
     "metadata": {},
     "output_type": "display_data"
    }
   ],
   "source": [
    "%matplotlib inline\n",
    "x = np.arange(0.01, 10.0, 0.2)\n",
    "y1 =  1/(x - 2) - 3*x\n",
    "plt.plot(x, y1)\n",
    "#y1 = 1/(x - 2) - 3*x\n",
    "#plot(y1, (x, -2, 6), ylim=(-20, 20))"
   ]
  },
  {
   "cell_type": "code",
   "execution_count": 19,
   "metadata": {},
   "outputs": [
    {
     "name": "stderr",
     "output_type": "stream",
     "text": [
      "C:\\Users\\dave\\Anaconda\\lib\\site-packages\\ipykernel\\__main__.py:2: RuntimeWarning: divide by zero encountered in divide\n",
      "  from ipykernel import kernelapp as app\n"
     ]
    },
    {
     "data": {
      "text/plain": [
       "[<matplotlib.lines.Line2D at 0x8fd0b70>]"
      ]
     },
     "execution_count": 19,
     "metadata": {},
     "output_type": "execute_result"
    },
    {
     "data": {
      "image/png": "[encoded data removed]",
      "text/plain": [
       "<matplotlib.figure.Figure at 0x8dcedd8>"
      ]
     },
     "metadata": {},
     "output_type": "display_data"
    }
   ],
   "source": [
    "x = np.arange(0.0, 10.0, 0.1)\n",
    "y2 = (x + 1) / (x**2 - 4*x + 3)\n",
    "plt.plot(x,y2)"
   ]
  },
  {
   "cell_type": "code",
   "execution_count": 59,
   "metadata": {},
   "outputs": [
    {
     "name": "stderr",
     "output_type": "stream",
     "text": [
      "C:\\Users\\dave\\Anaconda\\lib\\site-packages\\ipykernel\\__main__.py:3: RuntimeWarning: divide by zero encountered in divide\n",
      "  app.launch_new_instance()\n"
     ]
    },
    {
     "data": {
      "text/plain": [
       "[<matplotlib.lines.Line2D at 0xb2ddc18>]"
      ]
     },
     "execution_count": 59,
     "metadata": {},
     "output_type": "execute_result"
    },
    {
     "data": {
      "image/png": "[encoded data removed]",
      "text/plain": [
       "<matplotlib.figure.Figure at 0xbd8e128>"
      ]
     },
     "metadata": {},
     "output_type": "display_data"
    }
   ],
   "source": [
    "from math import *\n",
    "x = np.arange(-10.0, 10.0, 0.5)\n",
    "y19 = (np.cos(x))/x \n",
    "plt.plot(x,y19)"
   ]
  },
  {
   "cell_type": "code",
   "execution_count": 20,
   "metadata": {},
   "outputs": [
    {
     "data": {
      "text/plain": [
       "oo"
      ]
     },
     "execution_count": 20,
     "metadata": {},
     "output_type": "execute_result"
    }
   ],
   "source": [
    "limit((cos(u))/u , u, 0)"
   ]
  },
  {
   "cell_type": "markdown",
   "metadata": {},
   "source": [
    " find the limit of $y * sec^2(y)- tan^2(y) - 1$"
   ]
  },
  {
   "cell_type": "markdown",
   "metadata": {},
   "source": [
    "### Differentiaion Formulae\n",
    "   \n",
    "<b>1.</b> $$ \\frac{\\mathrm{d}(\\mathbf A + \\mathbf B)}{\\mathrm{d} u}=\\frac{\\mathrm{d}\\mathbf A}{\\mathrm{d} u}+\\frac{\\mathrm{d} \\mathbf B}{\\mathrm{d} u}     $$   \n",
    "   \n",
    "<b>2.</b> $$  \\frac{\\mathrm{d}(\\mathbf A . \\mathbf B)}{\\mathrm{d} u}=\\mathbf A.\\frac{\\mathrm{d}\\mathbf B}{\\mathrm{d} u}+\\mathbf B.\\frac{\\mathrm{d} \\mathbf A}{\\mathrm{d} u} $$\n",
    "   \n",
    "<b>3.</b> $$ \\frac{\\mathrm{d}(\\mathbf A \\times \\mathbf B)}{\\mathrm{d} u}=\\mathbf A \\times \\frac{\\mathrm{d}\\mathbf B}{\\mathrm{d} u}+ \\frac{\\mathrm{d} \\mathbf A}{\\mathrm{d} u}\\times \\mathbf B $$\n",
    "   \n",
    "<b>4.</b> $$\\frac{\\mathrm{d}(\\phi \\mathbf A)}{\\mathrm{d} u}=\\phi \\frac{\\mathrm{d}\\mathbf A}{\\mathrm{d} u}+ \\frac{\\mathrm{d} \\phi }{\\mathrm{d} u} \\mathbf A $$\n",
    "   \n",
    "<b>5.</b> $$ \\frac{\\mathrm{d}(\\mathbf A . \\mathbf B \\times \\mathbf C)}{\\mathrm{d} u}=\\mathbf A .\\mathbf B \\times \\frac{\\mathrm{d}\\mathbf C}{\\mathrm{d} u}+ \\mathbf A .\\frac{\\mathrm{d} \\mathbf B}{\\mathrm{d} u}\\times \\mathbf C+\\frac{\\mathrm{d} \\mathbf A}{\\mathrm{d} u}. \\mathbf B \\times \\mathbf C $$\n",
    "   \n",
    "<b>6.</b> $$    \\frac{\\mathrm{d}(\\mathbf A \\times( \\mathbf B \\times \\mathbf C))}{\\mathrm{d} u}=\\mathbf A \\times (\\mathbf B \\times \\frac{\\mathrm{d}\\mathbf C}{\\mathrm{d} u})+ \\mathbf A \\times ( \\frac{\\mathrm{d} \\mathbf B}{\\mathrm{d} u}\\times \\mathbf C)+\\frac{\\mathrm{d} \\mathbf A}{\\mathrm{d} u} \\times( \\mathbf B\\times\\mathbf C)\n",
    "$$"
   ]
  },
  {
   "cell_type": "code",
   "execution_count": 46,
   "metadata": {
    "collapsed": true
   },
   "outputs": [],
   "source": [
    "a_1,a_2,a_3 = symbols('a_1,a_2,a_3')\n",
    "b_1,b_2,b_3 = symbols('b_1,b_2,b_3')\n",
    "\n",
    "A = a_1(u)*e.i + a_2(u)*e.j + a_3(u)*e.k\n",
    "B = b_1(u)*e.i + b_2(u)*e.j + b_3(u)*e.k"
   ]
  },
  {
   "cell_type": "code",
   "execution_count": 47,
   "metadata": {},
   "outputs": [
    {
     "data": {
      "image/png": "[encoded data removed]",
      "text/latex": [
       "$$(\\frac{d}{d u} \\operatorname{a_{1}}{\\left (u \\right )} + \\frac{d}{d u} \\operatorname{b_{1}}{\\left (u \\right )})\\mathbf{\\hat{i}_{e}} + (\\frac{d}{d u} \\operatorname{a_{2}}{\\left (u \\right )} + \\frac{d}{d u} \\operatorname{b_{2}}{\\left (u \\right )})\\mathbf{\\hat{j}_{e}} + (\\frac{d}{d u} \\operatorname{a_{3}}{\\left (u \\right )} + \\frac{d}{d u} \\operatorname{b_{3}}{\\left (u \\right )})\\mathbf{\\hat{k}_{e}}$$"
      ],
      "text/plain": [
       "⎛d           d        ⎞ e_i + ⎛d           d        ⎞ e_j + ⎛d           d    \n",
       "⎜──(a₁(u)) + ──(b₁(u))⎟       ⎜──(a₂(u)) + ──(b₂(u))⎟       ⎜──(a₃(u)) + ──(b₃\n",
       "⎝du          du       ⎠       ⎝du          du       ⎠       ⎝du          du   \n",
       "\n",
       "    ⎞ e_k\n",
       "(u))⎟    \n",
       "    ⎠    "
      ]
     },
     "execution_count": 47,
     "metadata": {},
     "output_type": "execute_result"
    }
   ],
   "source": [
    "diff(A+B,u)"
   ]
  },
  {
   "cell_type": "code",
   "execution_count": 48,
   "metadata": {},
   "outputs": [
    {
     "data": {
      "image/png": "[encoded data removed]",
      "text/latex": [
       "$$(\\frac{d}{d u} \\operatorname{a_{1}}{\\left (u \\right )} + \\frac{d}{d u} \\operatorname{b_{1}}{\\left (u \\right )})\\mathbf{\\hat{i}_{e}} + (\\frac{d}{d u} \\operatorname{a_{2}}{\\left (u \\right )} + \\frac{d}{d u} \\operatorname{b_{2}}{\\left (u \\right )})\\mathbf{\\hat{j}_{e}} + (\\frac{d}{d u} \\operatorname{a_{3}}{\\left (u \\right )} + \\frac{d}{d u} \\operatorname{b_{3}}{\\left (u \\right )})\\mathbf{\\hat{k}_{e}}$$"
      ],
      "text/plain": [
       "⎛d           d        ⎞ e_i + ⎛d           d        ⎞ e_j + ⎛d           d    \n",
       "⎜──(a₁(u)) + ──(b₁(u))⎟       ⎜──(a₂(u)) + ──(b₂(u))⎟       ⎜──(a₃(u)) + ──(b₃\n",
       "⎝du          du       ⎠       ⎝du          du       ⎠       ⎝du          du   \n",
       "\n",
       "    ⎞ e_k\n",
       "(u))⎟    \n",
       "    ⎠    "
      ]
     },
     "execution_count": 48,
     "metadata": {},
     "output_type": "execute_result"
    }
   ],
   "source": [
    "diff(A,u) + diff(B,u)"
   ]
  },
  {
   "cell_type": "code",
   "execution_count": 49,
   "metadata": {},
   "outputs": [
    {
     "data": {
      "image/png": "[encoded data removed]",
      "text/latex": [
       "$$\\operatorname{a_{1}}{\\left (u \\right )} \\frac{d}{d u} \\operatorname{b_{1}}{\\left (u \\right )} + \\operatorname{a_{2}}{\\left (u \\right )} \\frac{d}{d u} \\operatorname{b_{2}}{\\left (u \\right )} + \\operatorname{a_{3}}{\\left (u \\right )} \\frac{d}{d u} \\operatorname{b_{3}}{\\left (u \\right )} + \\operatorname{b_{1}}{\\left (u \\right )} \\frac{d}{d u} \\operatorname{a_{1}}{\\left (u \\right )} + \\operatorname{b_{2}}{\\left (u \\right )} \\frac{d}{d u} \\operatorname{a_{2}}{\\left (u \\right )} + \\operatorname{b_{3}}{\\left (u \\right )} \\frac{d}{d u} \\operatorname{a_{3}}{\\left (u \\right )}$$"
      ],
      "text/plain": [
       "      d                 d                 d                 d                 \n",
       "a₁(u)⋅──(b₁(u)) + a₂(u)⋅──(b₂(u)) + a₃(u)⋅──(b₃(u)) + b₁(u)⋅──(a₁(u)) + b₂(u)⋅\n",
       "      du                du                du                du                \n",
       "\n",
       "d                 d        \n",
       "──(a₂(u)) + b₃(u)⋅──(a₃(u))\n",
       "du                du       "
      ]
     },
     "execution_count": 49,
     "metadata": {},
     "output_type": "execute_result"
    }
   ],
   "source": [
    "diff(A.dot(B),u)"
   ]
  },
  {
   "cell_type": "code",
   "execution_count": 50,
   "metadata": {},
   "outputs": [
    {
     "data": {
      "image/png": "[encoded data removed]",
      "text/latex": [
       "$$\\operatorname{a_{1}}{\\left (u \\right )} \\frac{d}{d u} \\operatorname{b_{1}}{\\left (u \\right )} + \\operatorname{a_{2}}{\\left (u \\right )} \\frac{d}{d u} \\operatorname{b_{2}}{\\left (u \\right )} + \\operatorname{a_{3}}{\\left (u \\right )} \\frac{d}{d u} \\operatorname{b_{3}}{\\left (u \\right )} + \\operatorname{b_{1}}{\\left (u \\right )} \\frac{d}{d u} \\operatorname{a_{1}}{\\left (u \\right )} + \\operatorname{b_{2}}{\\left (u \\right )} \\frac{d}{d u} \\operatorname{a_{2}}{\\left (u \\right )} + \\operatorname{b_{3}}{\\left (u \\right )} \\frac{d}{d u} \\operatorname{a_{3}}{\\left (u \\right )}$$"
      ],
      "text/plain": [
       "      d                 d                 d                 d                 \n",
       "a₁(u)⋅──(b₁(u)) + a₂(u)⋅──(b₂(u)) + a₃(u)⋅──(b₃(u)) + b₁(u)⋅──(a₁(u)) + b₂(u)⋅\n",
       "      du                du                du                du                \n",
       "\n",
       "d                 d        \n",
       "──(a₂(u)) + b₃(u)⋅──(a₃(u))\n",
       "du                du       "
      ]
     },
     "execution_count": 50,
     "metadata": {},
     "output_type": "execute_result"
    }
   ],
   "source": [
    "A.dot(diff(B,u)) + B.dot(diff(A,u))"
   ]
  },
  {
   "cell_type": "code",
   "execution_count": 51,
   "metadata": {},
   "outputs": [
    {
     "data": {
      "text/plain": [
       "True"
      ]
     },
     "execution_count": 51,
     "metadata": {},
     "output_type": "execute_result"
    }
   ],
   "source": [
    "diff(A.dot(B),u)==A.dot(diff(B,u)) + B.dot(diff(A,u))"
   ]
  },
  {
   "cell_type": "code",
   "execution_count": 52,
   "metadata": {},
   "outputs": [
    {
     "data": {
      "text/plain": [
       "True"
      ]
     },
     "execution_count": 52,
     "metadata": {},
     "output_type": "execute_result"
    }
   ],
   "source": [
    "diff(A.cross(B)) == A.cross(diff(B,u)) +diff(A,u).cross(B)"
   ]
  },
  {
   "cell_type": "code",
   "execution_count": 55,
   "metadata": {},
   "outputs": [
    {
     "data": {
      "text/plain": [
       "True"
      ]
     },
     "execution_count": 55,
     "metadata": {},
     "output_type": "execute_result"
    }
   ],
   "source": [
    "c,d = symbols('c,d')\n",
    "c*diff(A,u) == diff(A*c,u)"
   ]
  },
  {
   "cell_type": "code",
   "execution_count": 58,
   "metadata": {},
   "outputs": [
    {
     "data": {
      "image/png": "[encoded data removed]",
      "text/latex": [
       "$$\\left(\\operatorname{b_{1}}{\\left (u \\right )} \\operatorname{c_{2}}{\\left (u \\right )} - \\operatorname{b_{2}}{\\left (u \\right )} \\operatorname{c_{1}}{\\left (u \\right )}\\right) \\frac{d}{d u} \\operatorname{a_{3}}{\\left (u \\right )} + \\left(- \\operatorname{b_{1}}{\\left (u \\right )} \\operatorname{c_{3}}{\\left (u \\right )} + \\operatorname{b_{3}}{\\left (u \\right )} \\operatorname{c_{1}}{\\left (u \\right )}\\right) \\frac{d}{d u} \\operatorname{a_{2}}{\\left (u \\right )} + \\left(\\operatorname{b_{2}}{\\left (u \\right )} \\operatorname{c_{3}}{\\left (u \\right )} - \\operatorname{b_{3}}{\\left (u \\right )} \\operatorname{c_{2}}{\\left (u \\right )}\\right) \\frac{d}{d u} \\operatorname{a_{1}}{\\left (u \\right )} + \\left(\\operatorname{b_{1}}{\\left (u \\right )} \\frac{d}{d u} \\operatorname{c_{2}}{\\left (u \\right )} - \\operatorname{b_{2}}{\\left (u \\right )} \\frac{d}{d u} \\operatorname{c_{1}}{\\left (u \\right )} - \\operatorname{c_{1}}{\\left (u \\right )} \\frac{d}{d u} \\operatorname{b_{2}}{\\left (u \\right )} + \\operatorname{c_{2}}{\\left (u \\right )} \\frac{d}{d u} \\operatorname{b_{1}}{\\left (u \\right )}\\right) \\operatorname{a_{3}}{\\left (u \\right )} + \\left(- \\operatorname{b_{1}}{\\left (u \\right )} \\frac{d}{d u} \\operatorname{c_{3}}{\\left (u \\right )} + \\operatorname{b_{3}}{\\left (u \\right )} \\frac{d}{d u} \\operatorname{c_{1}}{\\left (u \\right )} + \\operatorname{c_{1}}{\\left (u \\right )} \\frac{d}{d u} \\operatorname{b_{3}}{\\left (u \\right )} - \\operatorname{c_{3}}{\\left (u \\right )} \\frac{d}{d u} \\operatorname{b_{1}}{\\left (u \\right )}\\right) \\operatorname{a_{2}}{\\left (u \\right )} + \\left(\\operatorname{b_{2}}{\\left (u \\right )} \\frac{d}{d u} \\operatorname{c_{3}}{\\left (u \\right )} - \\operatorname{b_{3}}{\\left (u \\right )} \\frac{d}{d u} \\operatorname{c_{2}}{\\left (u \\right )} - \\operatorname{c_{2}}{\\left (u \\right )} \\frac{d}{d u} \\operatorname{b_{3}}{\\left (u \\right )} + \\operatorname{c_{3}}{\\left (u \\right )} \\frac{d}{d u} \\operatorname{b_{2}}{\\left (u \\right )}\\right) \\operatorname{a_{1}}{\\left (u \\right )}$$"
      ],
      "text/plain": [
       "                            d                                        d        \n",
       "(b₁(u)⋅c₂(u) - b₂(u)⋅c₁(u))⋅──(a₃(u)) + (-b₁(u)⋅c₃(u) + b₃(u)⋅c₁(u))⋅──(a₂(u))\n",
       "                            du                                       du       \n",
       "\n",
       "                               d           ⎛      d                 d         \n",
       " + (b₂(u)⋅c₃(u) - b₃(u)⋅c₂(u))⋅──(a₁(u)) + ⎜b₁(u)⋅──(c₂(u)) - b₂(u)⋅──(c₁(u)) \n",
       "                               du          ⎝      du                du        \n",
       "\n",
       "        d                 d        ⎞         ⎛        d                 d     \n",
       "- c₁(u)⋅──(b₂(u)) + c₂(u)⋅──(b₁(u))⎟⋅a₃(u) + ⎜- b₁(u)⋅──(c₃(u)) + b₃(u)⋅──(c₁(\n",
       "        du                du       ⎠         ⎝        du                du    \n",
       "\n",
       "            d                 d        ⎞         ⎛      d                 d   \n",
       "u)) + c₁(u)⋅──(b₃(u)) - c₃(u)⋅──(b₁(u))⎟⋅a₂(u) + ⎜b₂(u)⋅──(c₃(u)) - b₃(u)⋅──(c\n",
       "            du                du       ⎠         ⎝      du                du  \n",
       "\n",
       "              d                 d        ⎞      \n",
       "₂(u)) - c₂(u)⋅──(b₃(u)) + c₃(u)⋅──(b₂(u))⎟⋅a₁(u)\n",
       "              du                du       ⎠      "
      ]
     },
     "execution_count": 58,
     "metadata": {},
     "output_type": "execute_result"
    }
   ],
   "source": [
    "c_1,c_2,c_3 = symbols('c_1,c_2,c_3')\n",
    "\n",
    "C = c_1(u)*e.i + c_2(u)*e.j + c_3(u)*e.k\n",
    "diff(A.dot(B.cross(C)))"
   ]
  },
  {
   "cell_type": "code",
   "execution_count": 60,
   "metadata": {},
   "outputs": [
    {
     "data": {
      "text/plain": [
       "False"
      ]
     },
     "execution_count": 60,
     "metadata": {},
     "output_type": "execute_result"
    }
   ],
   "source": [
    "diff(A.dot(B.cross(C)))==A.dot(B.cross(diff(C,u))) + A.dot(diff(B,u).cross(C)) + diff(A,u).dot(B.cross(C))"
   ]
  },
  {
   "cell_type": "code",
   "execution_count": 61,
   "metadata": {},
   "outputs": [
    {
     "data": {
      "text/plain": [
       "True"
      ]
     },
     "execution_count": 61,
     "metadata": {},
     "output_type": "execute_result"
    }
   ],
   "source": [
    "expand(diff(A.dot(B.cross(C))))==expand(A.dot(B.cross(diff(C,u))) + A.dot(diff(B,u).cross(C)) + diff(A,u).dot(B.cross(C)))"
   ]
  },
  {
   "cell_type": "code",
   "execution_count": 62,
   "metadata": {},
   "outputs": [
    {
     "data": {
      "text/plain": [
       "False"
      ]
     },
     "execution_count": 62,
     "metadata": {},
     "output_type": "execute_result"
    }
   ],
   "source": [
    "diff(A.cross(B.cross(C)),u) == A.cross(B.cross(diff(C,u))) + A.cross(diff(B,u).cross(C)) + diff(A,u).cross(B.cross(C))"
   ]
  },
  {
   "cell_type": "code",
   "execution_count": 63,
   "metadata": {},
   "outputs": [
    {
     "data": {
      "text/plain": [
       "True"
      ]
     },
     "execution_count": 63,
     "metadata": {},
     "output_type": "execute_result"
    }
   ],
   "source": [
    "expand(diff(A.cross(B.cross(C)),u)) == expand(A.cross(B.cross(diff(C,u))) + A.cross(diff(B,u).cross(C)) + diff(A,u).cross(B.cross(C)))"
   ]
  },
  {
   "cell_type": "markdown",
   "metadata": {},
   "source": [
    "### Space Derivatives / Partial Derivatives of Vectors\n",
    "   \n",
    "If $\\mathbf A$ is a vector depending on more than one scalar variable say $(x,y,z)$ then  \n",
    "   \n",
    "$\\mathbf A =\\mathbf A(x,y,z)=A_1(x,y,z)\\mathbf i+A_2(x,y,z)\\mathbf j+ A_3(x,y,z)\\mathbf k$ \n",
    "   \n",
    "note this is not a vector function of a vector variable, because the 3 scalars $(x,y,z)$ are not defined in \n",
    "their basis (for this definition). $(x,y,z) \\neq x\\mathbf i + y\\mathbf j + z \\mathbf k$. An example of a vector function of 3 scalar variables is \n",
    "   \n",
    "$$\\mathbf A(x,y,x) = x^2 y\\ \\mathbf i + (z+x)y\\ \\mathbf j + (z+1)^3(y+2)^2\\ \\mathbf k $$\n",
    "\n",
    "(for a completely arbitrary example)\n",
    "\n",
    "then partial derivative of $\\mathbf A$ with respect to x are\n",
    "\n",
    "$ \\frac{\\partial \\mathbf A}{\\partial x}=\\lim_{\\delta x \\to 0} \\frac{\\mathbf A(x + \\delta x,\\ y,\\ z)-\\mathbf A(x, y, z)}{\\delta x}\\ \\quad \\ $ if the limit exists\n",
    "\n",
    "$ \\frac{\\partial \\mathbf A}{\\partial y}=\\lim_{\\delta y \\to 0} \\frac{\\mathbf A(x,\\ y + \\delta y,\\ z)-\\mathbf A(x, y, z)}{\\delta y}\\ \\quad \\ $ if the limit exists\n",
    "\n",
    "$ \\frac{\\partial \\mathbf A}{\\partial z}=\\lim_{\\delta z \\to 0} \\frac{\\mathbf A(x,\\ y,\\ z+ \\delta z)-\\mathbf A(x, y, z)}{\\delta z}\\ \\quad $ if the limit exists\n",
    "\n",
    "And so \n",
    "$$\\frac{\\partial \\mathbf A}{\\partial x} = \\frac{\\partial A_1(x,y,z)}{\\partial x}\\mathbf i+\\frac{\\partial A_2(x,y,z)}{\\partial x}\\mathbf j+ \\frac{\\partial A_3(x,y,z)}{\\partial x}\\mathbf k$$ \n",
    "   \n",
    "for y\n",
    "$$\\frac{\\partial \\mathbf A}{\\partial y} = \\frac{\\partial A_1(x,y,z)}{\\partial y}\\mathbf i+\\frac{\\partial A_2(x,y,z)}{\\partial y}\\mathbf j+ \\frac{\\partial A_3(x,y,z)}{\\partial y}\\mathbf k$$ \n",
    "   \n",
    "for z\n",
    "$$\\frac{\\partial \\mathbf A}{\\partial z} = \\frac{\\partial A_1(x,y,z)}{\\partial z}\\mathbf i+\\frac{\\partial A_2(x,y,z)}{\\partial z}\\mathbf j+ \\frac{\\partial A_3(x,y,z)}{\\partial z}\\mathbf k$$\n",
    "\n",
    "\n",
    "\n",
    "> Note See Surfaces for definition for differentiation of a vector function of a vector variable and continuity as a  topological concept.\n",
    "\n",
    "Continutity for functions of one variable can be extended to functions of more than one variable. $ \\phi (x,y)$ is continuous at $(x, y)$ if\n",
    "\n",
    "$$ \\lim_{\\delta x, \\delta y \\to 0}(\\phi(x+\\delta x, y + \\delta y)-\\phi (x,y))=\\phi (x,y)$$\n",
    "\n",
    "or if for each positive number $\\epsilon$ there is a positive $ \\delta $ such that\n",
    "\n",
    "\n",
    "$\\left |(\\phi(x+\\delta x, y+\\delta y)-\\phi (x,y)) \\right |<\\epsilon $ whenever $ \\left | \\delta x \\right |<\\delta $\n",
    "and $\\left | \\delta y \\right |<\\delta$\n",
    " \n",
    "Same is true for vector functions.\n",
    "  \n",
    "\n",
    "For a function of two or more variables the term differentiable means that it has continuous first partiial derivatives. Higher derivatives are defined as in calculus.\n",
    "\n"
   ]
  },
  {
   "cell_type": "code",
   "execution_count": 64,
   "metadata": {
    "collapsed": true
   },
   "outputs": [],
   "source": [
    "x,y,z = symbols('x y z')"
   ]
  },
  {
   "cell_type": "code",
   "execution_count": 74,
   "metadata": {
    "collapsed": true
   },
   "outputs": [],
   "source": [
    "A = a_1(x,y,z)*e.i + a_2(x,y,z)*e.j + a_3(x,y,z)*e.k\n",
    "B = b_1(x,y,z)*e.i + b_2(x,y,z)*e.j + b_3(x,y,z)*e.k\n",
    "C = c_1(x,y,z)*e.i + c_2(x,y,z)*e.j + c_3(x,y,z)*e.k"
   ]
  },
  {
   "cell_type": "code",
   "execution_count": 76,
   "metadata": {},
   "outputs": [
    {
     "data": {
      "image/png": "[encoded data removed]",
      "text/latex": [
       "$$(\\frac{\\partial}{\\partial x} \\operatorname{a_{1}}{\\left (x,y,z \\right )})\\mathbf{\\hat{i}_{e}} + (\\frac{\\partial}{\\partial x} \\operatorname{a_{2}}{\\left (x,y,z \\right )})\\mathbf{\\hat{j}_{e}} + (\\frac{\\partial}{\\partial x} \\operatorname{a_{3}}{\\left (x,y,z \\right )})\\mathbf{\\hat{k}_{e}}$$"
      ],
      "text/plain": [
       "⎛∂              ⎞ e_i + ⎛∂              ⎞ e_j + ⎛∂              ⎞ e_k\n",
       "⎜──(a₁(x, y, z))⎟       ⎜──(a₂(x, y, z))⎟       ⎜──(a₃(x, y, z))⎟    \n",
       "⎝∂x             ⎠       ⎝∂x             ⎠       ⎝∂x             ⎠    "
      ]
     },
     "execution_count": 76,
     "metadata": {},
     "output_type": "execute_result"
    }
   ],
   "source": [
    "diff(A,x)"
   ]
  },
  {
   "cell_type": "code",
   "execution_count": 77,
   "metadata": {},
   "outputs": [
    {
     "data": {
      "image/png": "[encoded data removed]",
      "text/latex": [
       "$$(\\frac{\\partial}{\\partial y} \\operatorname{a_{1}}{\\left (x,y,z \\right )})\\mathbf{\\hat{i}_{e}} + (\\frac{\\partial}{\\partial y} \\operatorname{a_{2}}{\\left (x,y,z \\right )})\\mathbf{\\hat{j}_{e}} + (\\frac{\\partial}{\\partial y} \\operatorname{a_{3}}{\\left (x,y,z \\right )})\\mathbf{\\hat{k}_{e}}$$"
      ],
      "text/plain": [
       "⎛∂              ⎞ e_i + ⎛∂              ⎞ e_j + ⎛∂              ⎞ e_k\n",
       "⎜──(a₁(x, y, z))⎟       ⎜──(a₂(x, y, z))⎟       ⎜──(a₃(x, y, z))⎟    \n",
       "⎝∂y             ⎠       ⎝∂y             ⎠       ⎝∂y             ⎠    "
      ]
     },
     "execution_count": 77,
     "metadata": {},
     "output_type": "execute_result"
    }
   ],
   "source": [
    "diff(A,y)"
   ]
  },
  {
   "cell_type": "markdown",
   "metadata": {},
   "source": [
    "### Rules for Partial Differention of Vectors\n",
    "\n",
    "<b>1.</b>  $ \\frac{\\partial(\\mathbf A . \\mathbf B)}{\\partial x}=\\mathbf A.\\frac{\\partial \\mathbf B}{\\partial x}+\\frac{\\partial \\mathbf A}{\\partial x}.\\mathbf B $\n",
    "\n",
    "   \n",
    "<b>2.</b> $  \\frac{\\partial(\\mathbf A \\times \\mathbf B)}{\\partial x}=\\mathbf A \\times \\frac{\\partial \\mathbf B}{\\partial x}+\\frac{\\partial \\mathbf A}{\\partial x} \\times \\mathbf B $\n",
    "   \n",
    "\n",
    "<b>3.</b> $  \\frac{\\partial^2(\\mathbf A . \\mathbf B)}{\\partial x \\partial y}= \\frac{\\partial }{\\partial y}(\\frac{\\partial (\\mathbf A . \\mathbf B) }{\\partial x})=\\frac{\\partial }{\\partial y}( \\mathbf A .\\frac{\\partial \\mathbf B}{\\partial x} + \\frac{ \\partial \\mathbf A }{\\partial x} . \\mathbf B )  = \\mathbf A .\\frac{\\partial^2 \\mathbf B}{\\partial x \\partial y} + \\frac{\\partial \\mathbf A}{\\partial y } .\\frac{\\partial \\mathbf B}{\\partial x }+\\frac{\\partial \\mathbf A}{\\partial x } .\\frac{\\partial \\mathbf B}{\\partial y }+\\frac{ \\partial^2 \\mathbf A }{\\partial x \\partial y} . \\mathbf B$"
   ]
  },
  {
   "cell_type": "code",
   "execution_count": 78,
   "metadata": {},
   "outputs": [
    {
     "data": {
      "text/plain": [
       "True"
      ]
     },
     "execution_count": 78,
     "metadata": {},
     "output_type": "execute_result"
    }
   ],
   "source": [
    "diff(A.dot(B),x) == A.dot(diff(B,x))+diff(A,x).dot(B) "
   ]
  },
  {
   "cell_type": "code",
   "execution_count": 79,
   "metadata": {},
   "outputs": [
    {
     "data": {
      "text/plain": [
       "True"
      ]
     },
     "execution_count": 79,
     "metadata": {},
     "output_type": "execute_result"
    }
   ],
   "source": [
    "diff(A.cross(B),y) == A.cross(diff(B,y)) + diff(A,y).cross(B)"
   ]
  },
  {
   "cell_type": "code",
   "execution_count": 80,
   "metadata": {},
   "outputs": [
    {
     "data": {
      "text/plain": [
       "True"
      ]
     },
     "execution_count": 80,
     "metadata": {},
     "output_type": "execute_result"
    }
   ],
   "source": [
    "diff(A.dot(B),x,y) == diff(diff(A.dot(B),x),y) "
   ]
  },
  {
   "cell_type": "code",
   "execution_count": 81,
   "metadata": {},
   "outputs": [
    {
     "data": {
      "text/plain": [
       "True"
      ]
     },
     "execution_count": 81,
     "metadata": {},
     "output_type": "execute_result"
    }
   ],
   "source": [
    "expand(diff(A.dot(B),x,y)) == expand(diff(diff(A.dot(B),x),y))"
   ]
  },
  {
   "cell_type": "code",
   "execution_count": 82,
   "metadata": {},
   "outputs": [
    {
     "data": {
      "text/plain": [
       "True"
      ]
     },
     "execution_count": 82,
     "metadata": {},
     "output_type": "execute_result"
    }
   ],
   "source": [
    "expand(diff(diff(A.dot(B),x),y)) == diff( A.dot(diff(B,x)) + diff(A,x).dot(B),y) "
   ]
  },
  {
   "cell_type": "code",
   "execution_count": 83,
   "metadata": {},
   "outputs": [
    {
     "data": {
      "text/plain": [
       "True"
      ]
     },
     "execution_count": 83,
     "metadata": {},
     "output_type": "execute_result"
    }
   ],
   "source": [
    "expand(diff(A.dot(B),x,y)) == A.dot(diff(B,x,y)) + diff(A,y).dot(diff(B,x)) +diff(A,x).dot(diff(B,y)) +diff(A,x,y).dot(B)"
   ]
  },
  {
   "cell_type": "markdown",
   "metadata": {},
   "source": [
    "\n",
    "### Differentials of Vectors\n",
    "\n",
    "<b>1.</b>  if $ \\mathbf{A} = A_1 \\mathbf{i} + A_2 \\mathbf{j} + A_3 \\mathbf{k}$ then $ d\\mathbf{A} = dA_1 \\mathbf{i} + dA_2 \\mathbf{j} + dA_3 \\mathbf{k}$\n",
    "   \n",
    "<b>2.</b> $\\quad d( \\mathbf{A}\\cdot\\mathbf{B} ) = \\mathbf{A}\\cdot d\\mathbf{B} + \\mathbf{B}\\cdot d\\mathbf{A}$\n",
    "   \n",
    "<b>3.</b> $ \\quad d(\\mathbf{A} \\times \\mathbf{B}) = \\mathbf{A}\\times  d\\mathbf{B} + d\\mathbf{A} \\times \\mathbf{B}$\n",
    "   \n",
    "<b>4.</b> if $\\quad \\mathbf{A} = \\mathbf{A}(x,y,z)$ then  \n",
    "   \n",
    "$$d \\mathbf A = \\frac{\\partial \\mathbf A}{\\partial x} d x+\\frac{\\partial \\mathbf A}{\\partial y} d y +\\frac{\\partial \\mathbf A}{\\partial z} d z$$\n",
    "\n",
    "### Background for Total Differential\n",
    "\n",
    "The total differential of $  V=V(r,h) $ is\n",
    "   \n",
    "$$ dV=\\frac{\\partial V}{\\partial r}dr + \\frac{\\partial V}{\\partial h}dh $$\n",
    "\n",
    "and to find the change in volume with respect to a parameter for example Temperature T: \n",
    "   \n",
    "$$\\displaystyle\\frac{dV}{dT}=\\frac{\\partial V}{\\partial r}\\frac{dr}{dT} + \\frac{\\partial V}{\\partial h}\\frac{dr}{dT}$$\n",
    "in terms of $ f=f(u,v)$.\n",
    "\n",
    "$$ df=\\frac{\\partial f}{\\partial u}du+\\frac{\\partial f}{\\partial v}dv$$\n",
    "\n",
    "##### Small Changes (review of elementary basic calculus)\n",
    "\n",
    "A cylindrical block of metal is heated for time $\\delta t$, the volume $V=\\pi r^2\\ h$  (r=radius, h=height)\n",
    "the metal has a positive temperature coefficient so both $r$ and $h$ increase as the block is heated.\n",
    "At time $\\delta t$:-\n",
    "\n",
    "$$V+\\delta V=\\pi (r+\\delta r)^2(h+\\delta h)$$ \n",
    "   \n",
    "expanding this \n",
    "   \n",
    "   $$V+\\delta V=\\pi (r^2+2r\\ \\delta r+\\delta r^2)(h+\\delta h)=\\pi (r^2h+2r\\ \\delta r\\ h+\\delta r^2\\ h+ r^2\\ \\delta h+2r\\ \\delta r\\ \\delta h+\\delta r^2\\ \\delta h)$$\n",
    "   \n",
    "   Then solving for $\\delta V$\n",
    "   \n",
    "$$\\delta V=\\pi (r^2\\ h+2r\\ \\delta r\\ h+\\delta r^2\\ h+ r^2\\ \\delta h+2r\\ \\delta r\\ \\delta h+\\delta r^2\\ \\delta h)-V$$\n",
    "   \n",
    "expanding by out the brackets \n",
    "   \n",
    "$$=\\pi r^2\\ h+\\pi\\ 2r\\ \\delta r\\ h+\\pi\\ \\delta r^2\\ h+ \\pi r^2\\ \\delta h+\\pi 2r\\ \\delta r\\ \\delta h+\\pi\\ \\delta r^2\\ \\delta h-\\pi r^2 h$$\n",
    "   \n",
    "   we cancel $V$ from the expression\n",
    "   \n",
    "$$=2\\pi r\\ h\\ \\delta r+\\pi h\\ \\delta r^2+ \\pi r^2\\ \\delta h+ 2\\pi r\\ \\delta r\\ \\delta h+\\pi\\ \\delta r^2\\ \\delta h$$\n",
    "\n",
    "ignoring products of infinitesimals or small changes  (e.g $\\delta r \\delta h$) because the size of these infinitesimal products tends to zero much faster than the individual infinitesimals, they are not a needed part of the computation of the limit of the function \n",
    "\n",
    "$$\\approx\\ 2\\ \\pi r\\ h\\ \\delta r+ \\pi r^2\\ \\delta h$$\n",
    "   \n",
    "The rate of change of volume is then defined as the total differential \n",
    "   \n",
    "$$ \\frac{dV}{dt}=\\lim_{\\delta t\\to 0}\\frac{\\delta V}{\\delta t} =\\lim_{\\delta t\\to 0}\\left[\\pi r\\ h\\ \\frac{\\delta r}{\\delta t}+ \\pi r^2\\ \\frac{\\delta h}{\\delta t}\\right]=\\frac{\\partial V}{\\partial r}\\frac{dr}{dt}+\\frac{\\partial V}{\\partial h}\\frac{dh}{dt}$$\n",
    "   \n",
    "easily observable by applying the rules of differentiation to the formula for volume. \n",
    "   \n",
    "the differential expresses this independant of time"
   ]
  },
  {
   "cell_type": "code",
   "execution_count": null,
   "metadata": {
    "collapsed": true
   },
   "outputs": [],
   "source": [
    "\n"
   ]
  }
 ],
 "metadata": {
  "kernelspec": {
   "display_name": "Python 2",
   "language": "python",
   "name": "python2"
  },
  "language_info": {
   "codemirror_mode": {
    "name": "ipython",
    "version": 2
   },
   "file_extension": ".py",
   "mimetype": "text/x-python",
   "name": "python",
   "nbconvert_exporter": "python",
   "pygments_lexer": "ipython2",
   "version": "2.7.13"
  }
 },
 "nbformat": 4,
 "nbformat_minor": 1
}
