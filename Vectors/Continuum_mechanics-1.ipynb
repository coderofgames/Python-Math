{
 "cells": [
  {
   "cell_type": "markdown",
   "metadata": {},
   "source": [
    "### Continuum mechanics\n",
    "   \n",
    "   notes from lecture series https://www.youtube.com/watch?v=0uVyprXjl08&t=1500s\n",
    "      \n",
    "   and to be augmented by http://web.mit.edu/abeyaratne/Volumes/RCA_Vol_II.pdf\n",
    "      \n",
    "   and also from the first volume.\n",
    "      \n",
    "   and http://users.ices.utexas.edu/~arbogast/cam397/oden0908.pdf\n",
    "   \n",
    "1) Starts with a study of cartesian tensors in 3 dimensions. \n",
    "   \n",
    "2) These are invariant under rotation of coordinates. \n",
    "   \n",
    "3) indices are usually subscripts\n",
    "   \n",
    "4) The Einstien summation convention is used\n",
    "   \n",
    "   \n",
    "Given two reference frames $(x_1,x_2,x_3)$ and $(\\bar{x_1},\\bar{x_2},\\bar{x_3})$ at the same orientation, the barred frame is rotated by a positive angle $\\theta$ about the $x_3$ axis, then the equation for the barred coordinates can be expressed in terms of the unbarred coordinates\n",
    "   \n",
    "$$ \\mathbf{ \\bar{e}}_1 = \\cos\\theta\\ \\mathbf e_1 + \\sin\\theta\\ \\mathbf e_2 + 0 \\mathbf e_3$$\n",
    "   \n",
    "and \n",
    "\n",
    "$$ \\mathbf{ \\bar{e}}_2 = -\\sin\\theta\\ \\mathbf e_1 + \\cos\\theta\\ \\mathbf e_2 + 0 \\mathbf e_3 $$\n",
    "\n",
    "and\n",
    "   \n",
    "$$ \\mathbf{ \\bar{e}}_3 =  \\mathbf e_3 $$"
   ]
  },
  {
   "cell_type": "markdown",
   "metadata": {},
   "source": [
    "then clearly since $\\sin\\theta = \\cos(\\frac{\\pi}{2} - \\theta)$ we can forn a matrix of direction cosines\n",
    "   \n",
    "$$\\mathbf {\\bar{e}} = \\mathbf Q\\ \\mathbf e$$ \n",
    "   \n",
    "Where Q contains the components representing the transform. Then\n",
    "   \n",
    "$\\mathbf {\\bar{e}}_1 = \\mathbf Q_{1j}\\mathbf e_j,\\quad \\mathbf {\\bar{e}}_2 = \\mathbf Q_{2j}\\mathbf e_j,\\quad \\mathbf {\\bar{e}}_3 = \\mathbf Q_{3j}\\mathbf e_j \\implies \\mathbf {\\bar{e}}_i = \\mathbf Q_{ij}\\mathbf e_j $ then taking a dot product \n",
    "   \n",
    "$$ \\mathbf {\\bar{e}}_i\\cdot \\mathbf {\\bar{e}}_k = (\\mathbf Q_{ij}\\mathbf e_j )\\cdot(\\mathbf Q_{kp}\\mathbf e_p ) = \\mathbf Q_{ij}\\mathbf Q_{kp}(\\mathbf e_j \\cdot\\mathbf e_p ) $$ \n",
    "\n",
    "but the $\\mathbf {\\bar{e}}_i\\cdot \\mathbf {\\bar{e}}_k = \\delta_{ik}$ therefore \n",
    "   \n",
    "$$ \\delta_{ik} = \\mathbf Q_{ij}\\mathbf Q_{kp}(\\delta_{jp} ) =\\mathbf Q_{ip}\\mathbf Q_{kp} $$\n",
    "\n",
    "In matrix form, this is equivalent to saying (using $\\mathbf {[1]}$ as the identity matrix)\n",
    "   \n",
    "$$ \\mathbf {[1]} = \\mathbf {[Q]}\\mathbf {[Q]}^T $$ \n",
    "   \n",
    "and taking the determinant of both sides it becomes clear that $\\mathbf {[Q]}^{-1} =\\mathbf {[Q]}^T $ and therefore $\\mathbf Q$ is an orthogonal matrix.\n",
    "    \n",
    "### Linear transforms\n",
    "   \n",
    "a transform $T :v\\in \\mathbb R^n \\to u \\in \\mathbb R^m$ is linear if \n",
    "   \n",
    "$$ \\mathbf {[T]}(\\alpha \\mathbf u + \\beta \\mathbf v ) = \\alpha \\mathbf{[T]}\\mathbf u + \\beta \\mathbf{[T]}\\mathbf v $$\n"
   ]
  },
  {
   "cell_type": "markdown",
   "metadata": {},
   "source": [
    "#### A quick example\n",
    "   \n",
    "To solve an equation of the form $ \\mathbf T_{ij} = \\gamma \\mathbf E_{kk}\\delta_{ij}+2\\mu \\mathbf E_{ij} $ first noting that the k is a dummy index, the $\\mathbf E_{kk} = \\mathbf E_{11} + \\mathbf E_{22} + \\mathbf E_{33}$ is the trace of the tensor ...\n",
    "   \n",
    "$$ \\mathbf T_{ij} = \\gamma ( \\mathbf E_{11} + \\mathbf E_{22} + \\mathbf E_{33})\\delta_{ij}+2\\mu \\mathbf E_{ij} $$\n",
    "   \n",
    "Then performing a contraction on i and j, gives\n",
    "   \n",
    "$$ \\mathbf T_{ii} = \\gamma ( \\mathbf E_{kk })\\delta_{ii}+2\\mu \\mathbf E_{ii}=3 \\gamma ( \\mathbf E_{kk })+2\\mu \\mathbf E_{ii} $$\n",
    "   \n",
    "since $\\delta_{ii}=3$ then solving for $\\mathbf E_{ii}$ in the next equation\n",
    "   \n",
    "$$ 3 \\gamma ( \\mathbf E_{kk })+2\\mu \\mathbf E_{ii} = 3 \\gamma ( ( \\mathbf E_{11} + \\mathbf E_{22} + \\mathbf E_{33}))+2\\mu ( ( \\mathbf E_{11} + \\mathbf E_{22} + \\mathbf E_{33})) = (3\\gamma + 2\\mu) \\mathbf E_{ii} $$\n",
    "   \n",
    "and this is solved \n",
    "    \n",
    "$$\\mathbf E_{ii} = \\frac{\\mathbf T_{ii}}{3\\gamma + 2\\mu} $$\n",
    "   \n",
    "then we can change the dummy index from i to k and substitute in the first equation\n",
    "   \n",
    "$$ \\mathbf T_{ij} = \\gamma \\frac{\\mathbf T_{kk}}{3\\gamma + 2\\mu}\\delta_{ij}+2\\mu \\mathbf E_{ij} \\implies \\mathbf E_{ij} = \\frac{1}{2\\mu} \\left(\\mathbf T_{ij}-\\frac{\\gamma}{3\\gamma + 2\\mu}\\mathbf T_{kk}\\delta_{ij}\\right)$$\n",
    " "
   ]
  },
  {
   "cell_type": "code",
   "execution_count": 3,
   "metadata": {},
   "outputs": [
    {
     "data": {
      "image/png": "[encoded data removed]",
      "text/latex": [
       "$$M_{i,j}$$"
      ],
      "text/plain": [
       "M[i, j]"
      ]
     },
     "execution_count": 3,
     "metadata": {},
     "output_type": "execute_result"
    }
   ],
   "source": [
    "from sympy import symbols, IndexedBase, Idx, init_printing\n",
    "init_printing()\n",
    "\n",
    "M = IndexedBase('M')\n",
    "i, j = symbols('i j', cls=Idx)\n",
    "M[i, j]\n"
   ]
  },
  {
   "cell_type": "code",
   "execution_count": 4,
   "metadata": {},
   "outputs": [
    {
     "data": {
      "image/png": "[encoded data removed]",
      "text/latex": [
       "$$M_{i,j} x_{j}$$"
      ],
      "text/plain": [
       "M[i, j]⋅x[j]"
      ]
     },
     "execution_count": 4,
     "metadata": {},
     "output_type": "execute_result"
    }
   ],
   "source": [
    "x = IndexedBase('x')\n",
    "M[i, j]*x[j]"
   ]
  },
  {
   "cell_type": "code",
   "execution_count": 5,
   "metadata": {},
   "outputs": [
    {
     "data": {
      "image/png": "[encoded data removed]",
      "text/latex": [
       "$$\\left ( dim_{1}, \\quad 2 dim_{1}, \\quad dim_{2}\\right )$$"
      ],
      "text/plain": [
       "(dim₁, 2⋅dim₁, dim₂)"
      ]
     },
     "execution_count": 5,
     "metadata": {},
     "output_type": "execute_result"
    }
   ],
   "source": [
    "dim1, dim2 = symbols('dim1 dim2', integer=True)\n",
    "A = IndexedBase('A', shape=(dim1, 2*dim1, dim2))\n",
    "A.shape"
   ]
  },
  {
   "cell_type": "code",
   "execution_count": 6,
   "metadata": {},
   "outputs": [
    {
     "data": {
      "image/png": "[encoded data removed]",
      "text/latex": [
       "$$C_{i,j,k} x_{k} + M_{i,j} x_{j} + N_{i,j} x_{j}$$"
      ],
      "text/plain": [
       "C[i, j, k]⋅x[k] + M[i, j]⋅x[j] + N[i, j]⋅x[j]"
      ]
     },
     "execution_count": 6,
     "metadata": {},
     "output_type": "execute_result"
    }
   ],
   "source": [
    "from sympy import *\n",
    "n, m = symbols('n m', integer=True)\n",
    "i = Idx('i', m)\n",
    "j = Idx('j', n)\n",
    "k = Idx('k',n)\n",
    "#M = IndexedBase('M',shape=(i, j))\n",
    "M = IndexedBase('M')\n",
    "N = IndexedBase('N',shape=(i, j))\n",
    "C = IndexedBase('C',shape=(i, j, k))\n",
    "x = IndexedBase('x',shape=( j))\n",
    "\n",
    "simplify(M[i,j]*x[j] + N[i,j]*x[j] + C[i,j,k]*x[k])"
   ]
  },
  {
   "cell_type": "code",
   "execution_count": 8,
   "metadata": {},
   "outputs": [
    {
     "name": "stdout",
     "output_type": "stream",
     "text": [
      "None\n",
      "(i, j)\n"
     ]
    }
   ],
   "source": [
    "print M.shape\n",
    "print N.shape"
   ]
  },
  {
   "cell_type": "code",
   "execution_count": 9,
   "metadata": {},
   "outputs": [
    {
     "data": {
      "image/png": "[encoded data removed]",
      "text/latex": [
       "$$\\left ( m, \\quad n\\right )$$"
      ],
      "text/plain": [
       "(m, n)"
      ]
     },
     "execution_count": 9,
     "metadata": {},
     "output_type": "execute_result"
    }
   ],
   "source": [
    "M[i, j].shape"
   ]
  },
  {
   "cell_type": "code",
   "execution_count": 10,
   "metadata": {},
   "outputs": [
    {
     "name": "stdout",
     "output_type": "stream",
     "text": [
      "[(0, m - 1), (0, n - 1)]\n",
      "[(0, m - 1), (0, n - 1)]\n"
     ]
    }
   ],
   "source": [
    "print M[i, j].ranges\n",
    "print N[i, j].ranges"
   ]
  },
  {
   "cell_type": "code",
   "execution_count": 11,
   "metadata": {},
   "outputs": [
    {
     "data": {
      "image/png": "[encoded data removed]",
      "text/latex": [
       "$$\\left ( \\left\\{i, j\\right\\}, \\quad \\left \\{ \\right \\}\\right )$$"
      ],
      "text/plain": [
       "(set([i, j]), {})"
      ]
     },
     "execution_count": 11,
     "metadata": {},
     "output_type": "execute_result"
    }
   ],
   "source": [
    "get_indices(N[i,j])"
   ]
  },
  {
   "cell_type": "code",
   "execution_count": 12,
   "metadata": {},
   "outputs": [
    {
     "data": {
      "image/png": "[encoded data removed]",
      "text/latex": [
       "$$\\left \\{ \\left ( i\\right ) : \\left\\{N_{i,i}\\right\\}\\right \\}$$"
      ],
      "text/plain": [
       "{(i,): set([N[i, i]])}"
      ]
     },
     "execution_count": 12,
     "metadata": {},
     "output_type": "execute_result"
    }
   ],
   "source": [
    "get_contraction_structure(N[i,i])"
   ]
  },
  {
   "cell_type": "code",
   "execution_count": 13,
   "metadata": {},
   "outputs": [
    {
     "data": {
      "image/png": "[encoded data removed]",
      "text/latex": [
       "$$N_{p,q}$$"
      ],
      "text/plain": [
       "N[p, q]"
      ]
     },
     "execution_count": 13,
     "metadata": {},
     "output_type": "execute_result"
    }
   ],
   "source": [
    "\n",
    "k = Idx('k', (1,4))\n",
    "p = Idx('p', n)\n",
    "q = Idx('q', n)\n",
    "r = Idx('r', (1,4))\n",
    "N[p,q]"
   ]
  },
  {
   "cell_type": "code",
   "execution_count": 14,
   "metadata": {},
   "outputs": [
    {
     "data": {
      "image/png": "[encoded data removed]",
      "text/latex": [
       "$$M_{1,1} + M_{2,2} + M_{3,3}$$"
      ],
      "text/plain": [
       "M[1, 1] + M[2, 2] + M[3, 3]"
      ]
     },
     "execution_count": 14,
     "metadata": {},
     "output_type": "execute_result"
    }
   ],
   "source": [
    "M[k,k].subs({k:1})+M[k,k].subs({k:2})+M[k,k].subs({k:3})"
   ]
  },
  {
   "cell_type": "code",
   "execution_count": 15,
   "metadata": {},
   "outputs": [
    {
     "data": {
      "image/png": "[encoded data removed]",
      "text/latex": [
       "$$2$$"
      ],
      "text/plain": [
       "2"
      ]
     },
     "execution_count": 15,
     "metadata": {},
     "output_type": "execute_result"
    }
   ],
   "source": [
    "M[k,r].rank"
   ]
  },
  {
   "cell_type": "markdown",
   "metadata": {},
   "source": [
    "### Tensor Product\n",
    "   \n",
    "The definition of the tensor product of two tensors $\\mathbf A$ and $\\mathbf B$ acting on a third tensor $\\mathbf C $ is \n",
    "   \n",
    "$$ (\\mathbf A \\otimes \\mathbf B)\\ \\mathbf C = (\\mathbf A \\cdot \\mathbf C)\\ \\mathbf B$$"
   ]
  },
  {
   "cell_type": "markdown",
   "metadata": {},
   "source": [
    "then is $\\mathbf a = a_i \\mathbf e_i$ and $\\mathbf b = b_j \\mathbf e_j$ the product\n",
    "   \n",
    "$$ \\mathbf a \\otimes \\mathbf b = a_i \\mathbf e_i \\otimes b_j \\mathbf e_j = a_i\\ b_j (\\mathbf e_i \\otimes \\mathbf e_j)$$\n",
    "   \n",
    "then $(\\mathbf e_i \\otimes \\mathbf e_j)$ forms a basis for a linear transformation. \n",
    "   \n",
    "$$(\\mathbf e_i \\otimes \\mathbf e_j) \\mathbf c = (\\mathbf e_j\\cdot \\mathbf c)\\mathbf e_i = c_j\\mathbf e_i$$\n",
    "   \n",
    "This is hard to understand at first. There is a mathematical definition that is abstract, and forms an algebra, however the process is greatly simplified by looking at the tensor product of the unit vectors as a many to many multiplication, \n",
    "\n",
    "$$ (\\mathbf e_i \\otimes \\mathbf e_j)  = \\mathbf e_i (\\mathbf e_1,\\mathbf e_2, \\mathbf e_3) $$\n",
    "   \n",
    "Then each i is a row of a vector of matrices. The part in brackets $(\\mathbf e_1,\\mathbf e_2, \\mathbf e_3) $ then \n",
    "   \n",
    "   $$\\mathbf E = (\\mathbf e_1,\\mathbf e_2, \\mathbf e_3) = \\left (\\begin{array}{ccc} 1& 0 & 0 \\\\ 0 & 1 & 0 \\\\ 0 & 0  &1 \\end{array}\\right) $$\n",
    "   \n",
    "is a matrix whose columns are the vectors $\\mathbf e_j$ and this is the identity matrix in the simplest case, then after multiplying each $\\mathbf e_i$ by each the diagonals contain the column vectors of each $\\mathbf e_i$.\n",
    "   \n",
    "$$ (\\mathbf e_i \\otimes \\mathbf e_j) = \\left( \\mathbf e_1 \\mathbf E,\\mathbf e_2 \\mathbf E, \\mathbf e_3 \\mathbf E \\right)$$\n",
    "   \n",
    "we then have a vector of matrices. Now a 1 times 3 vector containing vectors is a matrix, so a 3 times 3 matrix containing vectors means that each element contains a vector ...\n",
    "   \n",
    "$$  (\\mathbf e_i \\otimes \\mathbf e_j) = \\left (\\begin{array}{ccc} \\mathbf e_i & 0 & 0 \\\\ 0 & \\mathbf e_i & 0 \\\\ 0 & 0  &\\mathbf e_i \\end{array}\\right) $$\n",
    "   \n",
    "with an entry for each i. Then to multiply this by another tensor (either a vector or matrix in this case) means to take the components of C on the diagonal\n",
    "   \n",
    "$$  (\\mathbf e_i \\otimes \\mathbf e_j) \\mathbf c = \\left (\\begin{array}{ccc}   \\mathbf e_i & 0 & 0 \\\\ 0 &   \\mathbf e_i & 0 \\\\ 0 & 0  & \\mathbf e_i \\end{array}\\right) \\cdot \\mathbf c $$\n",
    "\n",
    "then the matrices dot with $\\mathbf c$ via the process of a matrix times a column vector \n",
    "\n",
    "$$  = \\left (\\begin{array}{ccc} \\mathbf c_1  \\mathbf e_i & 0 & 0 \\\\ 0 & \\mathbf c_2  \\mathbf e_i & 0 \\\\ 0 & 0  &\\mathbf c_3 \\mathbf e_i \\end{array}\\right)  $$\n",
    "   \n",
    "but then factorising the e_i terms\n",
    "\n",
    "$$ \\left (\\mathbf e_1\\cdot \\mathbf c,\\quad \\mathbf e_2\\cdot \\mathbf c,\\quad\\mathbf e_3\\cdot \\mathbf c  \\right) \\mathbf e_i = (\\mathbf e_j \\cdot \\mathbf c )\\mathbf e_i $$\n",
    "   \n",
    "and this establishes the identity.\n",
    "   \n"
   ]
  },
  {
   "cell_type": "markdown",
   "metadata": {},
   "source": [
    "### Note, the following section is best viewed on notebook viewer.\n",
    "   \n",
    "   \n",
    "https://github.com/coderofgames/Python-Math/blob/master/Vectors/Continuum_mechanics.ipynb\n",
    "\n",
    "   \n",
    "The way sympy implements the tensor product is not offered as a proof, just as an external verification tool."
   ]
  },
  {
   "cell_type": "code",
   "execution_count": 2,
   "metadata": {},
   "outputs": [
    {
     "data": {
      "text/latex": [
       "$$\\left[\\begin{matrix}\\left[\\begin{matrix}E_{11} e_{11} & E_{12} e_{11} & E_{13} e_{11}\\\\E_{21} e_{11} & E_{22} e_{11} & E_{23} e_{11}\\\\E_{31} e_{11} & E_{32} e_{11} & E_{33} e_{11}\\end{matrix}\\right] & \\left[\\begin{matrix}E_{11} e_{12} & E_{12} e_{12} & E_{13} e_{12}\\\\E_{21} e_{12} & E_{22} e_{12} & E_{23} e_{12}\\\\E_{31} e_{12} & E_{32} e_{12} & E_{33} e_{12}\\end{matrix}\\right] & \\left[\\begin{matrix}E_{11} e_{13} & E_{12} e_{13} & E_{13} e_{13}\\\\E_{21} e_{13} & E_{22} e_{13} & E_{23} e_{13}\\\\E_{31} e_{13} & E_{32} e_{13} & E_{33} e_{13}\\end{matrix}\\right]\\\\\\left[\\begin{matrix}E_{11} e_{21} & E_{12} e_{21} & E_{13} e_{21}\\\\E_{21} e_{21} & E_{22} e_{21} & E_{23} e_{21}\\\\E_{31} e_{21} & E_{32} e_{21} & E_{33} e_{21}\\end{matrix}\\right] & \\left[\\begin{matrix}E_{11} e_{22} & E_{12} e_{22} & E_{13} e_{22}\\\\E_{21} e_{22} & E_{22} e_{22} & E_{23} e_{22}\\\\E_{31} e_{22} & E_{32} e_{22} & E_{33} e_{22}\\end{matrix}\\right] & \\left[\\begin{matrix}E_{11} e_{23} & E_{12} e_{23} & E_{13} e_{23}\\\\E_{21} e_{23} & E_{22} e_{23} & E_{23} e_{23}\\\\E_{31} e_{23} & E_{32} e_{23} & E_{33} e_{23}\\end{matrix}\\right]\\\\\\left[\\begin{matrix}E_{11} e_{31} & E_{12} e_{31} & E_{13} e_{31}\\\\E_{21} e_{31} & E_{22} e_{31} & E_{23} e_{31}\\\\E_{31} e_{31} & E_{32} e_{31} & E_{33} e_{31}\\end{matrix}\\right] & \\left[\\begin{matrix}E_{11} e_{32} & E_{12} e_{32} & E_{13} e_{32}\\\\E_{21} e_{32} & E_{22} e_{32} & E_{23} e_{32}\\\\E_{31} e_{32} & E_{32} e_{32} & E_{33} e_{32}\\end{matrix}\\right] & \\left[\\begin{matrix}E_{11} e_{33} & E_{12} e_{33} & E_{13} e_{33}\\\\E_{21} e_{33} & E_{22} e_{33} & E_{23} e_{33}\\\\E_{31} e_{33} & E_{32} e_{33} & E_{33} e_{33}\\end{matrix}\\right]\\end{matrix}\\right]$$"
      ],
      "text/plain": [
       "⎡⎡E₁₁⋅e₁₁  E₁₂⋅e₁₁  E₁₃⋅e₁₁⎤  ⎡E₁₁⋅e₁₂  E₁₂⋅e₁₂  E₁₃⋅e₁₂⎤  ⎡E₁₁⋅e₁₃  E₁₂⋅e₁₃  \n",
       "⎢⎢                         ⎥  ⎢                         ⎥  ⎢                  \n",
       "⎢⎢E₂₁⋅e₁₁  E₂₂⋅e₁₁  E₂₃⋅e₁₁⎥  ⎢E₂₁⋅e₁₂  E₂₂⋅e₁₂  E₂₃⋅e₁₂⎥  ⎢E₂₁⋅e₁₃  E₂₂⋅e₁₃  \n",
       "⎢⎢                         ⎥  ⎢                         ⎥  ⎢                  \n",
       "⎢⎣E₃₁⋅e₁₁  E₃₂⋅e₁₁  E₃₃⋅e₁₁⎦  ⎣E₃₁⋅e₁₂  E₃₂⋅e₁₂  E₃₃⋅e₁₂⎦  ⎣E₃₁⋅e₁₃  E₃₂⋅e₁₃  \n",
       "⎢                                                                             \n",
       "⎢⎡E₁₁⋅e₂₁  E₁₂⋅e₂₁  E₁₃⋅e₂₁⎤  ⎡E₁₁⋅e₂₂  E₁₂⋅e₂₂  E₁₃⋅e₂₂⎤  ⎡E₁₁⋅e₂₃  E₁₂⋅e₂₃  \n",
       "⎢⎢                         ⎥  ⎢                         ⎥  ⎢                  \n",
       "⎢⎢E₂₁⋅e₂₁  E₂₂⋅e₂₁  E₂₃⋅e₂₁⎥  ⎢E₂₁⋅e₂₂  E₂₂⋅e₂₂  E₂₃⋅e₂₂⎥  ⎢E₂₁⋅e₂₃  E₂₂⋅e₂₃  \n",
       "⎢⎢                         ⎥  ⎢                         ⎥  ⎢                  \n",
       "⎢⎣E₃₁⋅e₂₁  E₃₂⋅e₂₁  E₃₃⋅e₂₁⎦  ⎣E₃₁⋅e₂₂  E₃₂⋅e₂₂  E₃₃⋅e₂₂⎦  ⎣E₃₁⋅e₂₃  E₃₂⋅e₂₃  \n",
       "⎢                                                                             \n",
       "⎢⎡E₁₁⋅e₃₁  E₁₂⋅e₃₁  E₁₃⋅e₃₁⎤  ⎡E₁₁⋅e₃₂  E₁₂⋅e₃₂  E₁₃⋅e₃₂⎤  ⎡E₁₁⋅e₃₃  E₁₂⋅e₃₃  \n",
       "⎢⎢                         ⎥  ⎢                         ⎥  ⎢                  \n",
       "⎢⎢E₂₁⋅e₃₁  E₂₂⋅e₃₁  E₂₃⋅e₃₁⎥  ⎢E₂₁⋅e₃₂  E₂₂⋅e₃₂  E₂₃⋅e₃₂⎥  ⎢E₂₁⋅e₃₃  E₂₂⋅e₃₃  \n",
       "⎢⎢                         ⎥  ⎢                         ⎥  ⎢                  \n",
       "⎣⎣E₃₁⋅e₃₁  E₃₂⋅e₃₁  E₃₃⋅e₃₁⎦  ⎣E₃₁⋅e₃₂  E₃₂⋅e₃₂  E₃₃⋅e₃₂⎦  ⎣E₃₁⋅e₃₃  E₃₂⋅e₃₃  \n",
       "\n",
       "E₁₃⋅e₁₃⎤⎤\n",
       "       ⎥⎥\n",
       "E₂₃⋅e₁₃⎥⎥\n",
       "       ⎥⎥\n",
       "E₃₃⋅e₁₃⎦⎥\n",
       "        ⎥\n",
       "E₁₃⋅e₂₃⎤⎥\n",
       "       ⎥⎥\n",
       "E₂₃⋅e₂₃⎥⎥\n",
       "       ⎥⎥\n",
       "E₃₃⋅e₂₃⎦⎥\n",
       "        ⎥\n",
       "E₁₃⋅e₃₃⎤⎥\n",
       "       ⎥⎥\n",
       "E₂₃⋅e₃₃⎥⎥\n",
       "       ⎥⎥\n",
       "E₃₃⋅e₃₃⎦⎦"
      ]
     },
     "execution_count": 2,
     "metadata": {},
     "output_type": "execute_result"
    }
   ],
   "source": [
    "from sympy import *\n",
    "from sympy import Array, tensorproduct\n",
    "from sympy.abc import x,y,z,t\n",
    "init_printing(use_latex = true)\n",
    "\n",
    "e_11, e_12, e_13 = symbols('e_11, e_12, e_13')\n",
    "e_21, e_22, e_23 = symbols('e_21, e_22, e_23')\n",
    "e_31, e_32, e_33 = symbols('e_31, e_32, e_33')\n",
    "\n",
    "E_11, E_12, E_13 = symbols('E_11, E_12, E_13')\n",
    "E_21, E_22, E_23 = symbols('E_21, E_22, E_23')\n",
    "E_31, E_32, E_33 = symbols('E_31, E_32, E_33')\n",
    "\n",
    "e_i = Array([[e_11,e_12,e_13],[e_21,e_22,e_23],[e_31,e_32,e_33]])\n",
    "e_j = Array([[E_11,E_12,E_13],[E_21,E_22,E_23],[E_31,E_32,E_33]])\n",
    "\n",
    "U2 = tensorproduct(e_i, e_j)\n",
    "U2"
   ]
  },
  {
   "cell_type": "code",
   "execution_count": 3,
   "metadata": {},
   "outputs": [
    {
     "data": {
      "text/latex": [
       "$$\\left[\\begin{matrix}\\left[\\begin{matrix}E_{11} & E_{12} & E_{13}\\\\E_{21} & E_{22} & E_{23}\\\\E_{31} & E_{32} & E_{33}\\end{matrix}\\right] & \\left[\\begin{matrix}0 & 0 & 0\\\\0 & 0 & 0\\\\0 & 0 & 0\\end{matrix}\\right] & \\left[\\begin{matrix}0 & 0 & 0\\\\0 & 0 & 0\\\\0 & 0 & 0\\end{matrix}\\right]\\\\\\left[\\begin{matrix}0 & 0 & 0\\\\0 & 0 & 0\\\\0 & 0 & 0\\end{matrix}\\right] & \\left[\\begin{matrix}E_{11} & E_{12} & E_{13}\\\\E_{21} & E_{22} & E_{23}\\\\E_{31} & E_{32} & E_{33}\\end{matrix}\\right] & \\left[\\begin{matrix}0 & 0 & 0\\\\0 & 0 & 0\\\\0 & 0 & 0\\end{matrix}\\right]\\\\\\left[\\begin{matrix}0 & 0 & 0\\\\0 & 0 & 0\\\\0 & 0 & 0\\end{matrix}\\right] & \\left[\\begin{matrix}0 & 0 & 0\\\\0 & 0 & 0\\\\0 & 0 & 0\\end{matrix}\\right] & \\left[\\begin{matrix}E_{11} & E_{12} & E_{13}\\\\E_{21} & E_{22} & E_{23}\\\\E_{31} & E_{32} & E_{33}\\end{matrix}\\right]\\end{matrix}\\right]$$"
      ],
      "text/plain": [
       "⎡⎡E₁₁  E₁₂  E₁₃⎤     ⎡0  0  0⎤        ⎡0  0  0⎤   ⎤\n",
       "⎢⎢             ⎥     ⎢       ⎥        ⎢       ⎥   ⎥\n",
       "⎢⎢E₂₁  E₂₂  E₂₃⎥     ⎢0  0  0⎥        ⎢0  0  0⎥   ⎥\n",
       "⎢⎢             ⎥     ⎢       ⎥        ⎢       ⎥   ⎥\n",
       "⎢⎣E₃₁  E₃₂  E₃₃⎦     ⎣0  0  0⎦        ⎣0  0  0⎦   ⎥\n",
       "⎢                                                 ⎥\n",
       "⎢   ⎡0  0  0⎤     ⎡E₁₁  E₁₂  E₁₃⎤     ⎡0  0  0⎤   ⎥\n",
       "⎢   ⎢       ⎥     ⎢             ⎥     ⎢       ⎥   ⎥\n",
       "⎢   ⎢0  0  0⎥     ⎢E₂₁  E₂₂  E₂₃⎥     ⎢0  0  0⎥   ⎥\n",
       "⎢   ⎢       ⎥     ⎢             ⎥     ⎢       ⎥   ⎥\n",
       "⎢   ⎣0  0  0⎦     ⎣E₃₁  E₃₂  E₃₃⎦     ⎣0  0  0⎦   ⎥\n",
       "⎢                                                 ⎥\n",
       "⎢   ⎡0  0  0⎤        ⎡0  0  0⎤     ⎡E₁₁  E₁₂  E₁₃⎤⎥\n",
       "⎢   ⎢       ⎥        ⎢       ⎥     ⎢             ⎥⎥\n",
       "⎢   ⎢0  0  0⎥        ⎢0  0  0⎥     ⎢E₂₁  E₂₂  E₂₃⎥⎥\n",
       "⎢   ⎢       ⎥        ⎢       ⎥     ⎢             ⎥⎥\n",
       "⎣   ⎣0  0  0⎦        ⎣0  0  0⎦     ⎣E₃₁  E₃₂  E₃₃⎦⎦"
      ]
     },
     "execution_count": 3,
     "metadata": {},
     "output_type": "execute_result"
    }
   ],
   "source": [
    "U3 = U2.subs({e_11:1,e_12:0,e_13:0,e_21:0,e_22:1,e_23:0,e_31:0,e_32:0,e_33:1} )\n",
    "U3"
   ]
  },
  {
   "cell_type": "code",
   "execution_count": 4,
   "metadata": {},
   "outputs": [
    {
     "data": {
      "text/latex": [
       "$$\\left[\\begin{matrix}\\left[\\begin{matrix}1 & 0 & 0\\\\0 & 1 & 0\\\\0 & 0 & 1\\end{matrix}\\right] & \\left[\\begin{matrix}0 & 0 & 0\\\\0 & 0 & 0\\\\0 & 0 & 0\\end{matrix}\\right] & \\left[\\begin{matrix}0 & 0 & 0\\\\0 & 0 & 0\\\\0 & 0 & 0\\end{matrix}\\right]\\\\\\left[\\begin{matrix}0 & 0 & 0\\\\0 & 0 & 0\\\\0 & 0 & 0\\end{matrix}\\right] & \\left[\\begin{matrix}1 & 0 & 0\\\\0 & 1 & 0\\\\0 & 0 & 1\\end{matrix}\\right] & \\left[\\begin{matrix}0 & 0 & 0\\\\0 & 0 & 0\\\\0 & 0 & 0\\end{matrix}\\right]\\\\\\left[\\begin{matrix}0 & 0 & 0\\\\0 & 0 & 0\\\\0 & 0 & 0\\end{matrix}\\right] & \\left[\\begin{matrix}0 & 0 & 0\\\\0 & 0 & 0\\\\0 & 0 & 0\\end{matrix}\\right] & \\left[\\begin{matrix}1 & 0 & 0\\\\0 & 1 & 0\\\\0 & 0 & 1\\end{matrix}\\right]\\end{matrix}\\right]$$"
      ],
      "text/plain": [
       "⎡⎡1  0  0⎤  ⎡0  0  0⎤  ⎡0  0  0⎤⎤\n",
       "⎢⎢       ⎥  ⎢       ⎥  ⎢       ⎥⎥\n",
       "⎢⎢0  1  0⎥  ⎢0  0  0⎥  ⎢0  0  0⎥⎥\n",
       "⎢⎢       ⎥  ⎢       ⎥  ⎢       ⎥⎥\n",
       "⎢⎣0  0  1⎦  ⎣0  0  0⎦  ⎣0  0  0⎦⎥\n",
       "⎢                               ⎥\n",
       "⎢⎡0  0  0⎤  ⎡1  0  0⎤  ⎡0  0  0⎤⎥\n",
       "⎢⎢       ⎥  ⎢       ⎥  ⎢       ⎥⎥\n",
       "⎢⎢0  0  0⎥  ⎢0  1  0⎥  ⎢0  0  0⎥⎥\n",
       "⎢⎢       ⎥  ⎢       ⎥  ⎢       ⎥⎥\n",
       "⎢⎣0  0  0⎦  ⎣0  0  1⎦  ⎣0  0  0⎦⎥\n",
       "⎢                               ⎥\n",
       "⎢⎡0  0  0⎤  ⎡0  0  0⎤  ⎡1  0  0⎤⎥\n",
       "⎢⎢       ⎥  ⎢       ⎥  ⎢       ⎥⎥\n",
       "⎢⎢0  0  0⎥  ⎢0  0  0⎥  ⎢0  1  0⎥⎥\n",
       "⎢⎢       ⎥  ⎢       ⎥  ⎢       ⎥⎥\n",
       "⎣⎣0  0  0⎦  ⎣0  0  0⎦  ⎣0  0  1⎦⎦"
      ]
     },
     "execution_count": 4,
     "metadata": {},
     "output_type": "execute_result"
    }
   ],
   "source": [
    "U3 = U3.subs({E_11:1,E_12:0,E_13:0,E_21:0,E_22:1,E_23:0,E_31:0,E_32:0,E_33:1} )\n",
    "U3"
   ]
  },
  {
   "cell_type": "code",
   "execution_count": 5,
   "metadata": {},
   "outputs": [
    {
     "ename": "NameError",
     "evalue": "name 'innerproduct' is not defined",
     "output_type": "error",
     "traceback": [
      "\u001b[1;31m---------------------------------------------------------------------------\u001b[0m",
      "\u001b[1;31mNameError\u001b[0m                                 Traceback (most recent call last)",
      "\u001b[1;32m<ipython-input-5-a78dd685063e>\u001b[0m in \u001b[0;36m<module>\u001b[1;34m()\u001b[0m\n\u001b[0;32m      2\u001b[0m \u001b[0mc\u001b[0m \u001b[1;33m=\u001b[0m \u001b[0mArray\u001b[0m\u001b[1;33m(\u001b[0m\u001b[1;33m[\u001b[0m\u001b[0mc_1\u001b[0m\u001b[1;33m,\u001b[0m\u001b[0mc_2\u001b[0m\u001b[1;33m,\u001b[0m\u001b[0mc_3\u001b[0m\u001b[1;33m]\u001b[0m\u001b[1;33m)\u001b[0m\u001b[1;33m\u001b[0m\u001b[0m\n\u001b[0;32m      3\u001b[0m \u001b[1;33m\u001b[0m\u001b[0m\n\u001b[1;32m----> 4\u001b[1;33m \u001b[0minnerproduct\u001b[0m\u001b[1;33m(\u001b[0m\u001b[0mU3\u001b[0m\u001b[1;33m,\u001b[0m\u001b[0mc\u001b[0m\u001b[1;33m)\u001b[0m\u001b[1;33m\u001b[0m\u001b[0m\n\u001b[0m",
      "\u001b[1;31mNameError\u001b[0m: name 'innerproduct' is not defined"
     ]
    }
   ],
   "source": [
    "c_1,c_2,c_3 = symbols('c_1,c_2,c_3')\n",
    "c = Array([c_1,c_2,c_3])\n",
    "\n",
    "innerproduct(U3,c)"
   ]
  },
  {
   "cell_type": "markdown",
   "metadata": {},
   "source": [
    "There is another way to view the tensor product. The tensor product of two vectors is the outer product\n",
    "\n",
    "$$\\mathbf v \\otimes \\mathbf u = \\left( \\begin{array}{ccc}v_1 u_1 & v_1 u_2 &v_1 u_3 \\\\ v_2 u_1  & v_2 u_2 &v_2 u_3  \\\\ v_3 u_1 & v_3 u_2 &v_3 u_3 \\end{array}\\right)$$\n",
    "\n",
    "And the outer product is equivalent to a column vector times a row vector in matrix notation (dot product is the other way arouond)\n",
    "   \n",
    "$$ \\mathbf v_i \\otimes \\mathbf u_j  = [\\mathbf v][\\mathbf u]^T $$\n",
    "\n",
    "If looked at in matrix form, the outer product generalizes (apparently) to the Kronecker product (the tensor product) and appears as in the sympy output above. So the products of the individual basis vectors are outer products. \n",
    " \n",
    "   \n",
    "$$\\mathbf e_i \\otimes \\mathbf e_j = \\left( \\begin{array}{ccc}\\mathbf e_1  \\mathbf e_1 & \\mathbf e_1  \\mathbf e_2 &\\mathbf e_1  \\mathbf e_3 \\\\ \\mathbf e_2  \\mathbf e_1 & \\mathbf e_2  \\mathbf e_2 &\\mathbf e_2  \\mathbf e_3 \\\\ \\mathbf e_3  \\mathbf e_1 & \\mathbf e_3  \\mathbf e_2 &\\mathbf e_3  \\mathbf e_3 \\end{array}\\right)$$\n",
    "   \n",
    "Then operating on $\\mathbf c$ is like post multiplying this matrix by a column vector\n",
    "\n",
    "$$(\\mathbf e_i \\otimes \\mathbf e_j) \\mathbf c = \\left( \\begin{array}{ccc} (\\mathbf e_1 \\mathbf e_1)c_1 & (\\mathbf e_1  \\mathbf e_2) c_2 & (\\mathbf e_1  \\mathbf e_3)c_3 \\\\ (\\mathbf e_2 \\mathbf e_1)c_1 & (\\mathbf e_2  \\mathbf e_2)c_2 & (\\mathbf e_2  \\mathbf e_3)c_3 \\\\ (\\mathbf e_3 \\mathbf e_1)c_1 & (\\mathbf e_3  \\mathbf e_2)c_2 & (\\mathbf e_3  \\mathbf e_3)c_3 \\end{array}\\right)$$\n",
    "   \n",
    "and then factorising the dot with $\\mathbf e_i$ gives a column (matrix) multiplying a row (matrix) \n",
    "   \n",
    "$$(\\mathbf e_i \\otimes \\mathbf e_j) \\mathbf c = \\mathbf e_i  \\left( \\begin{array}{ccc} (\\mathbf e_1)c_1 & ( \\mathbf e_2) c_2 & (\\mathbf e_3)c_3  \\end{array}\\right) = \\mathbf e_i (\\mathbf e_j \\cdot \\mathbf c) =(\\mathbf e_j \\cdot \\mathbf c) \\mathbf e_i $$\n",
    "\n",
    "### ? \n",
    "   \n",
    "This is all pretty confusing and consistency is important. As we have the tensor product of two bases, that's 9 components times 9 components = 27 components, multiplying by c must operate as a dot product with j, by definition. "
   ]
  },
  {
   "cell_type": "markdown",
   "metadata": {},
   "source": [
    "### Dyadic Product.\n",
    "   \n",
    "View as above, the tensor product resemebles the dyadic product. For example, the gradient of a vector (not a scalar function) is defined as\n",
    "   \n",
    "$$ \\nabla \\mathbf A = \\left( \\frac{\\partial }{\\partial x_1}\\mathbf e_1 +\\frac{\\partial }{\\partial x_2}\\mathbf e_2 +  \\frac{\\partial }{\\partial x_3}\\mathbf e_3 \\right) ( A_1 \\mathbf e_1 + A_2\\mathbf e_2 + A_3 \\mathbf e_1) $$\n",
    "   \n",
    "This evaluates to\n",
    "   \n",
    "$$ \\frac{\\partial A_1}{\\partial x_1}\\mathbf e_1 \\mathbf e_1+\\frac{\\partial A_2}{\\partial x_1}\\mathbf e_1 \\mathbf e_2 + \\frac{\\partial A_3}{\\partial x_1}\\mathbf e_1 \\mathbf e_3 +  \\frac{\\partial A_1}{\\partial x_2}\\mathbf e_2 \\mathbf e_1+\\frac{\\partial A_2}{\\partial x_2}\\mathbf e_2 \\mathbf e_2 + \\frac{\\partial A_3}{\\partial x_2}\\mathbf e_2 \\mathbf e_3 +  \\frac{\\partial A_1}{\\partial x_3}\\mathbf e_3 \\mathbf e_1+\\frac{\\partial A_2}{\\partial x_3}\\mathbf e_3 \\mathbf e_2 + \\frac{\\partial A_3}{\\partial x_3}\\mathbf e_3 \\mathbf e_3 $$\n",
    "   \n",
    "And hence we have a matrix form\n",
    "   \n",
    "$$ \\left(\\begin{array}{ccc} \\frac{\\partial A_1}{\\partial x_1} &\\frac{\\partial A_2}{\\partial x_1} & \\frac{\\partial A_3}{\\partial x_1}\\\\ \\frac{\\partial A_1}{\\partial x_2} &\\frac{\\partial A_2}{\\partial x_2} & \\frac{\\partial A_3}{\\partial x_2} \\\\ \\frac{\\partial A_1}{\\partial x_3} &\\frac{\\partial A_2}{\\partial x_3} & \\frac{\\partial A_3}{\\partial x_3} \\end{array}\\right)$$\n",
    "   \n",
    "This matrix is a transposed form of a indexed matrix, $\\frac{\\partial A_j}{\\partial x_i} = M_{ij}$, since the unit vector with the gradient operator appears first $\\mathbf e_i \\mathbf e_j$ in the dyadic multiplication, perhaps calling the columns of this matrix the vectors was an inspiration to transpose the conventional tensor notation of having the rows in the numerator of the derivative operator. Although some texts list the jacobian matrix as transposed, and perform the cross product with the unit vectors in the first column instead of the first row.  "
   ]
  },
  {
   "cell_type": "markdown",
   "metadata": {},
   "source": [
    "#### Identity\n",
    "   \n",
    "$$\\mathbf e_i \\cdot \\mathbf e_j = \\delta_{ij}$$\n",
    "   \n",
    "the kronecker delta, is 1 if i=j and zero otherwise.\n",
    "\n",
    "#### Identity\n",
    "   \n",
    "$$ \\large\\varepsilon_{abc}\\varepsilon_{ade} = \\delta_{bd}\\delta_{ce}- \\delta_{be}\\delta_{cd}$$\n",
    "   \n",
    "\n",
    "   \n",
    "#### Definition \n",
    "   \n",
    "Multiplication of a second order tensor by a vector returns a vector.\n",
    "   \n",
    "$$ \\mathbf T_{ij} \\mathbf v_j = \\mathbf u_i $$\n",
    "   \n",
    "where $\\mathbf u_i$ is a vector, not a list of basis vectors.\n",
    "   \n",
    "#### Rotations\n",
    "   \n",
    "If a barred coordinate system is rotated compared to the reference system, \n",
    "   \n",
    "$$\\mathbf u_i= \\mathbf Q^T_{ij}\\mathbf{\\bar{u}}_j$$\n",
    "   \n",
    "represents the vector in the reference system. The matrix $\\mathbf Q$ is the matrix of direcion cosines such that\n",
    "   \n",
    "$$\\mathbf Q_{ji}\\mathbf u_i= \\mathbf{\\bar{u}}_j$$\n",
    "   \n",
    "Then for a second order tensor\n",
    "   \n",
    "$$\\mathbf{\\bar{T}}_{ab} = \\mathbf Q_{ar}\\mathbf Q_{bs}\\mathbf T_{rs}$$\n",
    "   \n",
    "Third order\n",
    "   \n",
    "$$\\mathbf{\\bar{T}}_{abc} = \\mathbf Q_{ar} \\mathbf Q_{bs} \\mathbf Q_{ct}\\mathbf T_{bst}$$"
   ]
  },
  {
   "cell_type": "markdown",
   "metadata": {},
   "source": [
    "### Definition\n",
    "   \n",
    "$$\\mathbf u = \\mathbf u_i \\mathbf e_i = \\mathbf{\\bar{u}}_i \\mathbf Q_{ij}\\mathbf e_j$$\n",
    "   \n",
    "then the dot product with $\\mathbf e_k$ gives\n",
    "   \n",
    "$$ \\mathbf u_i \\mathbf e_i \\cdot \\mathbf e_k =\\mathbf u_i \\delta_{ik}= \\mathbf u_k= \\mathbf{\\bar{u}}_i \\mathbf Q_{ij}\\mathbf e_j \\cdot \\mathbf e_k = \\mathbf{\\bar{u}}_i \\mathbf Q_{ij}\\delta_{jk} = \\mathbf{\\bar{u}}_i \\mathbf Q_{ik }$$"
   ]
  },
  {
   "cell_type": "markdown",
   "metadata": {},
   "source": [
    "### Definition\n",
    "   \n",
    "If $\\mathbf T = \\mathbf T_{ij} (\\mathbf e_i \\otimes \\mathbf e_j) $ is arbitrarily defined, then\n",
    "   \n",
    "$$\\mathbf T\\mathbf e_k = \\mathbf T_{ij} (\\mathbf e_i \\otimes \\mathbf e_j)\\mathbf e_k = \\mathbf T_{ij}(\\mathbf e_j\\cdot \\mathbf e_k) \\mathbf e_i = \\mathbf T_{ij}\\delta_{jk} \\mathbf e_i = \\mathbf T_{ik}\\mathbf e_i$$\n",
    "   \n",
    "### Definition\n",
    "   \n",
    "$$ \\mathbf e_j \\cdot \\mathbf T \\mathbf e_k = \\mathbf e_j \\cdot \\mathbf T_{ik}\\mathbf e_i = \\mathbf T_{ik}\\delta_{ji}=\\mathbf T_{jk}$$\n",
    "   \n",
    "### Definition\n",
    "   \n",
    "If a coordinate frame is rotated with respect to a reference coordinate frame and the unit vectors of the rotated frame are $\\mathbf {\\bar{e}}_j$, then a Tensor $\\mathbf T$ represented in the rotated frame is computed with\n",
    "   \n",
    "$$\\mathbf{ \\bar{T}}_{jk}= \\mathbf {\\bar{e}}_j  \\cdot \\mathbf T\\mathbf {\\bar{e}}_i $$\n",
    "   \n",
    "Then we can substitute for the coordinates of the rotated frame by representing them as functions of the reference coordinates $ \\mathbf {\\bar{e}}_j = \\mathbf {\\bar{e}}_j( \\mathbf e_i)$ as follows\n",
    "   \n",
    "$$\\mathbf {\\bar{e}}_j  \\cdot \\mathbf T\\mathbf {\\bar{e}}_i = \\mathbf Q_{jl}\\mathbf {e}_l  \\cdot \\mathbf T\\mathbf Q_{km}\\mathbf {e}_m$$\n",
    "\n",
    "since we defined above that to transform the coordinate basis, $\\mathbf {\\bar{e}}_j= \\mathbf Q_{jl}\\mathbf {e}_l $. Then the component of each $\\mathbf Q$ is a scalar, and we have a dot product $(\\mathbf {e}_l  \\cdot \\mathbf T \\mathbf {e}_m)$, subsituting this \n",
    "   \n",
    "$$=\\mathbf Q_{jl}\\mathbf Q_{km} (\\mathbf {e}_l  \\cdot \\mathbf T \\mathbf {e}_m) =\\mathbf Q_{jl}\\mathbf Q_{km} \\mathbf T_{lm} $$\n",
    "   \n",
    "Since the only dot product is $(\\mathbf {e}_l  \\cdot \\mathbf T \\mathbf {e}_m) = \\mathbf T_{lm}$ from the definition above. \n",
    "   \n"
   ]
  },
  {
   "cell_type": "markdown",
   "metadata": {},
   "source": [
    "### Definition\n",
    "   \n",
    "Any 2nd order tensor can be written as\n",
    "   \n",
    "$$ \\mathbf T = \\frac{1}{2}\\left[ \\mathbf T + \\mathbf T^T\\right]+\\frac{1}{2}\\left[ \\mathbf T - \\mathbf T^T\\right]$$\n",
    "   \n",
    "Then $\\frac{1}{2}\\left[ \\mathbf T + \\mathbf T^T\\right]$ is the symmetric part, $\\mathbf T^s$$ and \\frac{1}{2}\\left[ \\mathbf T - \\mathbf T^T\\right]$ is the skew symmetric or anti-symmetric part $\\mathbf T^a$ then\n",
    "   \n",
    "$$\\mathbf T = \\mathbf T^s + \\mathbf T^a$$\n",
    "   \n",
    "They symmetric part has 6 independant components, and the skew symmetric part has 3 independant components, resembles a cross product vector with zeros on the diagonal. The skew symmetric vector is\n",
    "   \n",
    "$$\\mathbf u_i = \\frac{1}{2} \\varepsilon_{ijk}\\mathbf T_{jk}^a $$\n",
    "   \n",
    "and then multiplying both sides by $\\varepsilon_{lmi}$ gives\n",
    "   \n",
    "$$\\varepsilon_{lmi}\\mathbf u_i = \\frac{1}{2} \\varepsilon_{lmi}\\varepsilon_{ijk}\\mathbf T_{jk}^a =\\frac{1}{2} (\\varepsilon_{ilm}\\varepsilon_{ijk})\\mathbf T_{jk}^a=\\frac{1}{2} (\\delta_{lj}\\delta_{mk}-\\delta_{lk}\\delta_{mj})\\mathbf T_{jk}^a=\\frac{1}{2} (\\delta_{lj}\\delta_{mk}\\mathbf T_{jk}^a-\\delta_{lk}\\delta_{mj}\\mathbf T_{jk}^a)=\\frac{1}{2} (\\mathbf T_{lm}^a-\\mathbf T_{ml}^a) $$"
   ]
  },
  {
   "cell_type": "code",
   "execution_count": 16,
   "metadata": {
    "collapsed": true
   },
   "outputs": [],
   "source": [
    "import sympy.functions.special.tensor_functions"
   ]
  },
  {
   "cell_type": "code",
   "execution_count": 17,
   "metadata": {
    "collapsed": true
   },
   "outputs": [],
   "source": [
    "L = Idx('L')\n",
    "A = Idx('A')"
   ]
  },
  {
   "cell_type": "code",
   "execution_count": 18,
   "metadata": {},
   "outputs": [
    {
     "data": {
      "image/png": "[encoded data removed]",
      "text/latex": [
       "$$\\varepsilon_{i j k}$$"
      ],
      "text/plain": [
       "LeviCivita(i, j, k)"
      ]
     },
     "execution_count": 18,
     "metadata": {},
     "output_type": "execute_result"
    }
   ],
   "source": [
    "Eijk(i,j,k)"
   ]
  },
  {
   "cell_type": "code",
   "execution_count": 19,
   "metadata": {},
   "outputs": [
    {
     "data": {
      "image/png": "[encoded data removed]",
      "text/latex": [
       "$$\\varepsilon_{i j k} C_{i,j,k}$$"
      ],
      "text/plain": [
       "LeviCivita(i, j, k)⋅C[i, j, k]"
      ]
     },
     "execution_count": 19,
     "metadata": {},
     "output_type": "execute_result"
    }
   ],
   "source": [
    "expr = Eijk(i,j,k)*C[i,j,k]\n",
    "expr"
   ]
  },
  {
   "cell_type": "code",
   "execution_count": 22,
   "metadata": {},
   "outputs": [
    {
     "data": {
      "image/png": "[encoded data removed]",
      "text/latex": [
       "$$\\frac{d^{2}}{d X_{L}d X_{A}}  C_{i,j,k}$$"
      ],
      "text/plain": [
       "      2                \n",
       "     d                 \n",
       "───────────(C[i, j, k])\n",
       "dX[A] dX[L]            "
      ]
     },
     "execution_count": 22,
     "metadata": {},
     "output_type": "execute_result"
    }
   ],
   "source": [
    "X = IndexedBase('X')\n",
    "dC = Derivative(C[i,j, k],X[L], X[A])\n",
    "dC"
   ]
  },
  {
   "cell_type": "code",
   "execution_count": 23,
   "metadata": {},
   "outputs": [
    {
     "data": {
      "image/png": "[encoded data removed]",
      "text/latex": [
       "$$\\delta_{i k}$$"
      ],
      "text/plain": [
       "δ   \n",
       " i,k"
      ]
     },
     "execution_count": 23,
     "metadata": {},
     "output_type": "execute_result"
    }
   ],
   "source": [
    "KroneckerDelta(i,k)"
   ]
  },
  {
   "cell_type": "code",
   "execution_count": 24,
   "metadata": {},
   "outputs": [
    {
     "data": {
      "image/png": "[encoded data removed]",
      "text/latex": [
       "$$\\delta_{i j} \\delta_{i k} x_{i} - \\delta_{i k} \\delta_{j k} x_{k}$$"
      ],
      "text/plain": [
       "δ   ⋅δ   ⋅x[i] - δ   ⋅δ   ⋅x[k]\n",
       " i,j  i,k         i,k  j,k     "
      ]
     },
     "execution_count": 24,
     "metadata": {},
     "output_type": "execute_result"
    }
   ],
   "source": [
    "KroneckerDelta(i,k)*KroneckerDelta(i,j) *x[i] - KroneckerDelta(j,k)*KroneckerDelta(k,i)*x[k]"
   ]
  },
  {
   "cell_type": "code",
   "execution_count": 26,
   "metadata": {},
   "outputs": [
    {
     "data": {
      "image/png": "[encoded data removed]",
      "text/latex": [
       "$$\\varepsilon_{i j k} \\varepsilon_{l m i} N_{j,k}$$"
      ],
      "text/plain": [
       "LeviCivita(i, j, k)⋅LeviCivita(l, m, i)⋅N[j, k]"
      ]
     },
     "execution_count": 26,
     "metadata": {},
     "output_type": "execute_result"
    }
   ],
   "source": [
    "l = Idx('l')\n",
    "m = Idx('m')\n",
    "simplify(Eijk(l,m,i)*Eijk(i,j,k)*N[j,k])"
   ]
  },
  {
   "cell_type": "code",
   "execution_count": null,
   "metadata": {
    "collapsed": true
   },
   "outputs": [],
   "source": []
  }
 ],
 "metadata": {
  "kernelspec": {
   "display_name": "Python 2",
   "language": "python",
   "name": "python2"
  },
  "language_info": {
   "codemirror_mode": {
    "name": "ipython",
    "version": 2
   },
   "file_extension": ".py",
   "mimetype": "text/x-python",
   "name": "python",
   "nbconvert_exporter": "python",
   "pygments_lexer": "ipython2",
   "version": "2.7.13"
  }
 },
 "nbformat": 4,
 "nbformat_minor": 2
}
