{
 "cells": [
  {
   "cell_type": "markdown",
   "metadata": {},
   "source": [
    "## NOTE: Best viewed on Jupyter Notebook Viewer\n",
    "\n",
    "### Schwarzchild metric\n",
    "   \n",
    "A solution to the Einstein Field equations. Wikipedia gives this as:- \n",
    "   \n",
    "$$ c^2 d\\tau^2 = \\left(1-\\frac{r_s}{r}\\right)c^2 dt^2 -\\left(1-\\frac{r_s}{r}\\right)^{-1}dr^2 - r^2d\\theta^2 - r^2\\sin^2\\theta d\\phi^2 $$\n",
    "   \n",
    "where $c$ is the speed of light,    \n",
    "$\\tau$ is the proper time,    \n",
    "$t$ is the time measured by a stationary clock, infinitely far from the observer,    \n",
    "$r,\\theta, \\phi$ are the ordinary spherical coordinates,    \n",
    "$r$ is the radial distance from the origin,    \n",
    "$\\theta$ is the angle from the top,    \n",
    "$\\phi$ is the angle around the equator, and $r_s$ is the Schwarzchild radius   \n",
    "      \n",
    "$$r_s = \\frac{2 G M}{c^2}$$ \n",
    "   \n",
    "This is a solution to the Einstein field equations in empty space surrounding a gravitating body, valid outside the gravitating body, the signs of the metric bear a non-coincidental resemblence tp the Minowski space-time metric\n",
    "   \n",
    "$$ \\left(\\begin{array}{ccc} 1&0&0&0\\\\0&-1&0&0 \\\\0&0&-1&0 \\\\0&0&0&-1\\end{array}\\right)$$\n",
    "   \n",
    "> And this is the value of the solutions at infinity.?\n",
    "   \n",
    "There are many of versions of (ways of writing) this metric. The line element is related by\n",
    "   \n",
    "$$ ds^2 = -c^2 d\\tau^2 $$\n",
    "   \n",
    " \n",
    "   \n"
   ]
  },
  {
   "cell_type": "code",
   "execution_count": 1,
   "metadata": {
    "collapsed": true
   },
   "outputs": [],
   "source": [
    "from __future__ import division\n",
    "import matplotlib as mpl\n",
    "%matplotlib inline\n",
    "from mpl_toolkits.mplot3d import Axes3D\n",
    "import numpy as np\n",
    "import matplotlib.pyplot as plt\n",
    "from matplotlib import cm\n",
    "from matplotlib.patches import FancyArrowPatch\n",
    "from mpl_toolkits.mplot3d import proj3d\n",
    "from matplotlib import pylab\n",
    "from matplotlib.text import Annotation\n",
    "from sympy.vector import *\n",
    "from sympy import *\n",
    "\n",
    "# I still need to import all the stuff above\n",
    "import sdg \n",
    "\n"
   ]
  },
  {
   "cell_type": "code",
   "execution_count": 2,
   "metadata": {
    "scrolled": false
   },
   "outputs": [
    {
     "name": "stdout",
     "output_type": "stream",
     "text": [
      "Help on function space_surface in module sdg:\n",
      "\n",
      "space_surface(ax, f, x, y, X, Y, rs, cs)\n",
      "    # plots a surface given \n",
      "    # ax is the Matplotlib plot.axis()\n",
      "    # f is a function of x and y defining a surface such that z=f(x,y)\n",
      "    # x,y are symbols in f\n",
      "    # X,Y are a numpy meshgrid\n",
      "    # rs = rstride (row stride) for the matplotlib function ax.plot_surface\n",
      "    # cs = cstride (column stride) for the matplotlib function ax.plot_surface\n",
      "\n"
     ]
    }
   ],
   "source": [
    "help(sdg.space_surface)"
   ]
  },
  {
   "cell_type": "code",
   "execution_count": 3,
   "metadata": {
    "collapsed": true
   },
   "outputs": [],
   "source": [
    "y_1,y_2,y_3 = symbols(\"y_1,y_2,y_3\")\n",
    "Y = Matrix([y_1,y_2,y_3])\n",
    "e = CoordSys3D(\"e\")\n",
    "r=sdg.rect_vector_of_sphere_coords(e, Y)"
   ]
  },
  {
   "cell_type": "code",
   "execution_count": 4,
   "metadata": {},
   "outputs": [
    {
     "data": {
      "text/plain": [
       "(y_1*sin(y_2)*cos(y_3))*e.i + (y_1*sin(y_2)*sin(y_3))*e.j + (y_1*cos(y_2))*e.k"
      ]
     },
     "execution_count": 4,
     "metadata": {},
     "output_type": "execute_result"
    }
   ],
   "source": [
    "r"
   ]
  },
  {
   "cell_type": "code",
   "execution_count": 5,
   "metadata": {},
   "outputs": [
    {
     "name": "stdout",
     "output_type": "stream",
     "text": [
      "C:\\Users\\dave\\Anaconda2\\Lib\\site-packages\\sdg.py\n",
      "  annotate3D\n",
      "  PlotBasisCartesian\n",
      "  plot_arrow\n",
      "  plot_basis\n",
      "  unit_tangent_natural\n",
      "  unit_tangent_time\n",
      "  tangent_line_natural\n",
      "  tangent_line_natural_at_point\n",
      "  tangent_line_time\n",
      "  tangent_line_time_at_point\n",
      "  space_curve\n",
      "  curv_vec_natural\n",
      "  curv_vec_from_tangent\n",
      "  curvature_natural\n",
      "  curv_mag\n",
      "  rad_of_curv_natural\n",
      "  rad_of_curv_from_curv_vec\n",
      "  curv_vec_time\n",
      "  normal_vec_time\n",
      "  principle_normal_natural\n",
      "  principle_normal_from_curv_vec\n",
      "  principle_normal_from_tangent\n",
      "  curvature_time\n",
      "  normal_plane_natural\n",
      "  normal_plane_time\n",
      "  osculating_plane_natural\n",
      "  plot_plane\n",
      "  plot_plane_from_point_normal\n",
      "  binormal_natural\n",
      "  binormal_natural_from_tangent\n",
      "  binormal_from_tangent_normal\n",
      "  binormal_line\n",
      "  binormal_line_at_point\n",
      "  torsion_natural\n",
      "  torsion_time\n",
      "  torsion_from_tangent_normal\n",
      "  torsion_from_normal_binormal\n",
      "  dbds_natural\n",
      "  torsion_from_dbds_normal\n",
      "  plot_frenet_frame\n",
      "  plot_frenet_frame_2\n",
      "  monge_patch_z\n",
      "  space_surface\n",
      "  computePeaks\n",
      "  surface_normal\n",
      "  surface_unit_normal\n",
      "  compute_E\n",
      "  compute_F\n",
      "  compute_G\n",
      "  first_fundamental_form\n",
      "  surface_area_patch\n",
      "  compute_L_1\n",
      "  compute_M_1\n",
      "  compute_N_1\n",
      "  compute_L_2\n",
      "  compute_M_2\n",
      "  compute_N_2\n",
      "  second_fundamental_form\n",
      "  second_fundamental_form_version2\n",
      "  quadratic_formula\n",
      "  rect_vector_of_sphere_coords\n",
      "  rect_vector_of_cylinder_coords\n",
      "  rect_vector_of_parab_cylinder_coords\n",
      "  rect_vector_of_paraboloidal_coords\n",
      "  rect_vector_of_elliptic_cylindrical_coords\n",
      "  rect_vector_of_elliptic_cylindrical_coords\n",
      "  vector_to_matrix_form\n",
      "  basis_vectors\n",
      "  matrix_from_vector2\n",
      "  vector_from_matrix\n",
      "  Jacobian_WRT_coords\n",
      "  metric_from_jacobian\n",
      "  metric_from_coords\n",
      "  christoffel_symbol_2_2\n",
      "  compute_christoffel_symbols_2\n",
      "  compute_christoffel_symbols_3\n",
      "  absolute_acceleration\n",
      "  physical_acceleration_from_absolute_acceleration\n",
      "  Riemann_Tensor_2\n",
      "  compute_ricci_tensor\n",
      "  compute_ricci_scalar\n"
     ]
    }
   ],
   "source": [
    "#https://stackoverflow.com/questions/139180/how-to-list-all-functions-in-a-python-module\n",
    "import ast\n",
    "import sys\n",
    "\n",
    "def top_level_functions(body):\n",
    "    return (f for f in body if isinstance(f, ast.FunctionDef))\n",
    "\n",
    "def parse_ast(filename):\n",
    "    with open(filename, \"rt\") as file:\n",
    "        return ast.parse(file.read(), filename=filename)\n",
    "    \n",
    "def print_funcs(filename):\n",
    "    print(filename)\n",
    "    tree = parse_ast(filename)\n",
    "    for func in top_level_functions(tree.body):\n",
    "        print(\"  %s\" % func.name)\n",
    "        \n",
    "print_funcs(\"C:\\Users\\dave\\Anaconda2\\Lib\\site-packages\\sdg.py\")"
   ]
  },
  {
   "cell_type": "code",
   "execution_count": 6,
   "metadata": {},
   "outputs": [
    {
     "name": "stdout",
     "output_type": "stream",
     "text": [
      "Help on function vector_to_matrix_form in module sdg:\n",
      "\n",
      "vector_to_matrix_form(e, v)\n",
      "    # converts a vector v in basis e into a matrix\n",
      "    # e is the CoordSys3D\n",
      "    # v is the vector\n",
      "\n"
     ]
    }
   ],
   "source": [
    "help(sdg.vector_to_matrix_form)"
   ]
  },
  {
   "cell_type": "code",
   "execution_count": 7,
   "metadata": {
    "collapsed": true
   },
   "outputs": [],
   "source": [
    "init_printing()\n",
    "r = sdg.vector_to_matrix_form(e,r)"
   ]
  },
  {
   "cell_type": "code",
   "execution_count": 8,
   "metadata": {},
   "outputs": [
    {
     "data": {
      "text/latex": [
       "$$\\left[\\begin{matrix}y_{1} \\sin{\\left (y_{2} \\right )} \\cos{\\left (y_{3} \\right )}\\\\y_{1} \\sin{\\left (y_{2} \\right )} \\sin{\\left (y_{3} \\right )}\\\\y_{1} \\cos{\\left (y_{2} \\right )}\\end{matrix}\\right]$$"
      ],
      "text/plain": [
       "⎡y₁⋅sin(y₂)⋅cos(y₃)⎤\n",
       "⎢                  ⎥\n",
       "⎢y₁⋅sin(y₂)⋅sin(y₃)⎥\n",
       "⎢                  ⎥\n",
       "⎣    y₁⋅cos(y₂)    ⎦"
      ]
     },
     "execution_count": 8,
     "metadata": {},
     "output_type": "execute_result"
    }
   ],
   "source": [
    "r"
   ]
  },
  {
   "cell_type": "code",
   "execution_count": 9,
   "metadata": {},
   "outputs": [
    {
     "data": {
      "text/latex": [
       "$$\\left[\\begin{matrix}\\sin{\\left (y_{2} \\right )} \\cos{\\left (y_{3} \\right )} & y_{1} \\cos{\\left (y_{2} \\right )} \\cos{\\left (y_{3} \\right )} & - y_{1} \\sin{\\left (y_{2} \\right )} \\sin{\\left (y_{3} \\right )}\\\\\\sin{\\left (y_{2} \\right )} \\sin{\\left (y_{3} \\right )} & y_{1} \\sin{\\left (y_{3} \\right )} \\cos{\\left (y_{2} \\right )} & y_{1} \\sin{\\left (y_{2} \\right )} \\cos{\\left (y_{3} \\right )}\\\\\\cos{\\left (y_{2} \\right )} & - y_{1} \\sin{\\left (y_{2} \\right )} & 0\\end{matrix}\\right]$$"
      ],
      "text/plain": [
       "⎡sin(y₂)⋅cos(y₃)  y₁⋅cos(y₂)⋅cos(y₃)  -y₁⋅sin(y₂)⋅sin(y₃)⎤\n",
       "⎢                                                        ⎥\n",
       "⎢sin(y₂)⋅sin(y₃)  y₁⋅sin(y₃)⋅cos(y₂)  y₁⋅sin(y₂)⋅cos(y₃) ⎥\n",
       "⎢                                                        ⎥\n",
       "⎣    cos(y₂)         -y₁⋅sin(y₂)               0         ⎦"
      ]
     },
     "execution_count": 9,
     "metadata": {},
     "output_type": "execute_result"
    }
   ],
   "source": [
    "r.jacobian(Y)"
   ]
  },
  {
   "cell_type": "code",
   "execution_count": 10,
   "metadata": {
    "collapsed": true
   },
   "outputs": [],
   "source": [
    "g = simplify(sdg.metric_from_coords(r,Y))"
   ]
  },
  {
   "cell_type": "code",
   "execution_count": 11,
   "metadata": {},
   "outputs": [
    {
     "data": {
      "text/latex": [
       "$$\\left[\\begin{matrix}1 & 0 & 0\\\\0 & y_{1}^{2} & 0\\\\0 & 0 & y_{1}^{2} \\sin^{2}{\\left (y_{2} \\right )}\\end{matrix}\\right]$$"
      ],
      "text/plain": [
       "⎡1   0        0      ⎤\n",
       "⎢                    ⎥\n",
       "⎢     2              ⎥\n",
       "⎢0  y₁        0      ⎥\n",
       "⎢                    ⎥\n",
       "⎢          2    2    ⎥\n",
       "⎣0   0   y₁ ⋅sin (y₂)⎦"
      ]
     },
     "execution_count": 11,
     "metadata": {},
     "output_type": "execute_result"
    }
   ],
   "source": [
    "g"
   ]
  },
  {
   "cell_type": "code",
   "execution_count": 12,
   "metadata": {},
   "outputs": [
    {
     "name": "stdout",
     "output_type": "stream",
     "text": [
      "Help on function compute_christoffel_symbols_2 in module sdg:\n",
      "\n",
      "compute_christoffel_symbols_2(metric, d, basis, metric_inv)\n",
      "    # this was added because the original christoffel symbol code\n",
      "    # above does not extend to higher dimensions, neither does\n",
      "    # the inner function christoffel_symbol_2 (see above)\n",
      "    # and so\n",
      "    # metric is the metric d*d\n",
      "    # d is the dimension of the space\n",
      "    # basis is the basis from which the metric was derived [x_1, ... x_d]\n",
      "    # metric_inv is the optional inverse of the metric\n",
      "\n"
     ]
    }
   ],
   "source": [
    "help(sdg.compute_christoffel_symbols_2)"
   ]
  },
  {
   "cell_type": "code",
   "execution_count": 13,
   "metadata": {
    "collapsed": true
   },
   "outputs": [],
   "source": [
    "Gamma=sdg.compute_christoffel_symbols_2(g, 3, Y,g.inverse())"
   ]
  },
  {
   "cell_type": "code",
   "execution_count": 14,
   "metadata": {},
   "outputs": [
    {
     "data": {
      "text/latex": [
       "$$\\left [ \\left[\\begin{matrix}0 & 0 & 0\\\\0 & - y_{1} & 0\\\\0 & 0 & - y_{1} \\sin^{2}{\\left (y_{2} \\right )}\\end{matrix}\\right], \\quad \\left[\\begin{matrix}0 & \\frac{1}{y_{1}} & 0\\\\\\frac{1}{y_{1}} & 0 & 0\\\\0 & 0 & - \\frac{1}{2} \\sin{\\left (2 y_{2} \\right )}\\end{matrix}\\right], \\quad \\left[\\begin{matrix}0 & 0 & \\frac{1}{y_{1}}\\\\0 & 0 & \\frac{1}{\\tan{\\left (y_{2} \\right )}}\\\\\\frac{1}{y_{1}} & \\frac{1}{\\tan{\\left (y_{2} \\right )}} & 0\\end{matrix}\\right]\\right ]$$"
      ],
      "text/plain": [
       "⎡                        ⎡    1              ⎤  ⎡               1    ⎤⎤\n",
       "⎢                        ⎢0   ──       0     ⎥  ⎢0      0       ──   ⎥⎥\n",
       "⎢⎡0   0        0      ⎤  ⎢    y₁             ⎥  ⎢               y₁   ⎥⎥\n",
       "⎢⎢                    ⎥  ⎢                   ⎥  ⎢                    ⎥⎥\n",
       "⎢⎢0  -y₁       0      ⎥  ⎢1                  ⎥  ⎢                1   ⎥⎥\n",
       "⎢⎢                    ⎥, ⎢──  0        0     ⎥, ⎢0      0     ───────⎥⎥\n",
       "⎢⎢               2    ⎥  ⎢y₁                 ⎥  ⎢             tan(y₂)⎥⎥\n",
       "⎢⎣0   0   -y₁⋅sin (y₂)⎦  ⎢                   ⎥  ⎢                    ⎥⎥\n",
       "⎢                        ⎢        -sin(2⋅y₂) ⎥  ⎢1      1            ⎥⎥\n",
       "⎢                        ⎢0   0   ───────────⎥  ⎢──  ───────     0   ⎥⎥\n",
       "⎣                        ⎣             2     ⎦  ⎣y₁  tan(y₂)         ⎦⎦"
      ]
     },
     "execution_count": 14,
     "metadata": {},
     "output_type": "execute_result"
    }
   ],
   "source": [
    "Gamma"
   ]
  },
  {
   "cell_type": "code",
   "execution_count": 15,
   "metadata": {},
   "outputs": [
    {
     "data": {
      "text/latex": [
       "$$\\left[\\begin{matrix}\\left[\\begin{matrix}0 & 0 & 0\\\\0 & - y_{1} & 0\\\\0 & 0 & - y_{1} \\sin^{2}{\\left (y_{2} \\right )}\\end{matrix}\\right]\\\\\\left[\\begin{matrix}0 & \\frac{1}{y_{1}} & 0\\\\\\frac{1}{y_{1}} & 0 & 0\\\\0 & 0 & - \\frac{1}{2} \\sin{\\left (2 y_{2} \\right )}\\end{matrix}\\right]\\\\\\left[\\begin{matrix}0 & 0 & \\frac{1}{y_{1}}\\\\0 & 0 & \\frac{1}{\\tan{\\left (y_{2} \\right )}}\\\\\\frac{1}{y_{1}} & \\frac{1}{\\tan{\\left (y_{2} \\right )}} & 0\\end{matrix}\\right]\\end{matrix}\\right]$$"
      ],
      "text/plain": [
       "⎡⎡0   0        0      ⎤⎤\n",
       "⎢⎢                    ⎥⎥\n",
       "⎢⎢0  -y₁       0      ⎥⎥\n",
       "⎢⎢                    ⎥⎥\n",
       "⎢⎢               2    ⎥⎥\n",
       "⎢⎣0   0   -y₁⋅sin (y₂)⎦⎥\n",
       "⎢                      ⎥\n",
       "⎢⎡    1              ⎤ ⎥\n",
       "⎢⎢0   ──       0     ⎥ ⎥\n",
       "⎢⎢    y₁             ⎥ ⎥\n",
       "⎢⎢                   ⎥ ⎥\n",
       "⎢⎢1                  ⎥ ⎥\n",
       "⎢⎢──  0        0     ⎥ ⎥\n",
       "⎢⎢y₁                 ⎥ ⎥\n",
       "⎢⎢                   ⎥ ⎥\n",
       "⎢⎢        -sin(2⋅y₂) ⎥ ⎥\n",
       "⎢⎢0   0   ───────────⎥ ⎥\n",
       "⎢⎣             2     ⎦ ⎥\n",
       "⎢                      ⎥\n",
       "⎢⎡               1    ⎤⎥\n",
       "⎢⎢0      0       ──   ⎥⎥\n",
       "⎢⎢               y₁   ⎥⎥\n",
       "⎢⎢                    ⎥⎥\n",
       "⎢⎢                1   ⎥⎥\n",
       "⎢⎢0      0     ───────⎥⎥\n",
       "⎢⎢             tan(y₂)⎥⎥\n",
       "⎢⎢                    ⎥⎥\n",
       "⎢⎢1      1            ⎥⎥\n",
       "⎢⎢──  ───────     0   ⎥⎥\n",
       "⎣⎣y₁  tan(y₂)         ⎦⎦"
      ]
     },
     "execution_count": 15,
     "metadata": {},
     "output_type": "execute_result"
    }
   ],
   "source": [
    "Gamma2 = Matrix([[Gamma[0]],[Gamma[1]],[Gamma[2]]])\n",
    "Gamma2\n",
    "\n"
   ]
  },
  {
   "cell_type": "code",
   "execution_count": 16,
   "metadata": {},
   "outputs": [
    {
     "name": "stdout",
     "output_type": "stream",
     "text": [
      "Help on function Riemann_Tensor_2 in module sdg:\n",
      "\n",
      "Riemann_Tensor_2(gamma_2, X, d)\n",
      "    ## returns the Riemann tensor with 1 contravariant index (the first) and \n",
      "    ## 3 covariant indices, accessed with R[a,b,c,d]\n",
      "    ## gamma_2 is the set of christoffel symbols for the metric_\n",
      "    ## X is the coord system X= [X_1,... X_d]  \n",
      "    ## d is the number of dimensions of the metric e.g 4\n",
      "\n"
     ]
    }
   ],
   "source": [
    "help(sdg.Riemann_Tensor_2)"
   ]
  },
  {
   "cell_type": "code",
   "execution_count": 17,
   "metadata": {},
   "outputs": [
    {
     "data": {
      "text/latex": [
       "$$\\left[\\begin{matrix}\\left[\\begin{matrix}0 & 0 & 0\\\\0 & 0 & 0\\\\0 & 0 & 0\\end{matrix}\\right] & \\left[\\begin{matrix}0 & 0 & 0\\\\0 & 0 & 0\\\\0 & 0 & 0\\end{matrix}\\right] & \\left[\\begin{matrix}0 & 0 & 0\\\\0 & 0 & 0\\\\0 & 0 & 0\\end{matrix}\\right]\\\\\\left[\\begin{matrix}0 & 0 & 0\\\\0 & 0 & 0\\\\0 & 0 & 0\\end{matrix}\\right] & \\left[\\begin{matrix}0 & 0 & 0\\\\0 & 0 & 0\\\\0 & 0 & 0\\end{matrix}\\right] & \\left[\\begin{matrix}0 & 0 & 0\\\\0 & 0 & 0\\\\0 & 0 & 0\\end{matrix}\\right]\\\\\\left[\\begin{matrix}0 & 0 & 0\\\\0 & 0 & 0\\\\0 & 0 & 0\\end{matrix}\\right] & \\left[\\begin{matrix}0 & 0 & 0\\\\0 & 0 & 0\\\\0 & 0 & 0\\end{matrix}\\right] & \\left[\\begin{matrix}0 & 0 & 0\\\\0 & 0 & 0\\\\0 & 0 & 0\\end{matrix}\\right]\\end{matrix}\\right]$$"
      ],
      "text/plain": [
       "⎡⎡0  0  0⎤  ⎡0  0  0⎤  ⎡0  0  0⎤⎤\n",
       "⎢⎢       ⎥  ⎢       ⎥  ⎢       ⎥⎥\n",
       "⎢⎢0  0  0⎥  ⎢0  0  0⎥  ⎢0  0  0⎥⎥\n",
       "⎢⎢       ⎥  ⎢       ⎥  ⎢       ⎥⎥\n",
       "⎢⎣0  0  0⎦  ⎣0  0  0⎦  ⎣0  0  0⎦⎥\n",
       "⎢                               ⎥\n",
       "⎢⎡0  0  0⎤  ⎡0  0  0⎤  ⎡0  0  0⎤⎥\n",
       "⎢⎢       ⎥  ⎢       ⎥  ⎢       ⎥⎥\n",
       "⎢⎢0  0  0⎥  ⎢0  0  0⎥  ⎢0  0  0⎥⎥\n",
       "⎢⎢       ⎥  ⎢       ⎥  ⎢       ⎥⎥\n",
       "⎢⎣0  0  0⎦  ⎣0  0  0⎦  ⎣0  0  0⎦⎥\n",
       "⎢                               ⎥\n",
       "⎢⎡0  0  0⎤  ⎡0  0  0⎤  ⎡0  0  0⎤⎥\n",
       "⎢⎢       ⎥  ⎢       ⎥  ⎢       ⎥⎥\n",
       "⎢⎢0  0  0⎥  ⎢0  0  0⎥  ⎢0  0  0⎥⎥\n",
       "⎢⎢       ⎥  ⎢       ⎥  ⎢       ⎥⎥\n",
       "⎣⎣0  0  0⎦  ⎣0  0  0⎦  ⎣0  0  0⎦⎦"
      ]
     },
     "execution_count": 17,
     "metadata": {},
     "output_type": "execute_result"
    }
   ],
   "source": [
    "sdg.Riemann_Tensor_2(Gamma2, Y, 3)"
   ]
  },
  {
   "cell_type": "code",
   "execution_count": 18,
   "metadata": {},
   "outputs": [
    {
     "data": {
      "image/png": "[encoded data removed]",
      "text/latex": [
       "$$(\\operatorname{y_{1}}{\\left (t \\right )} \\sin{\\left (\\operatorname{y_{2}}{\\left (t \\right )} \\right )} \\cos{\\left (\\operatorname{y_{3}}{\\left (t \\right )} \\right )})\\mathbf{\\hat{i}_{e}} + (\\operatorname{y_{1}}{\\left (t \\right )} \\sin{\\left (\\operatorname{y_{2}}{\\left (t \\right )} \\right )} \\sin{\\left (\\operatorname{y_{3}}{\\left (t \\right )} \\right )})\\mathbf{\\hat{j}_{e}} + (\\operatorname{y_{1}}{\\left (t \\right )} \\cos{\\left (\\operatorname{y_{2}}{\\left (t \\right )} \\right )})\\mathbf{\\hat{k}_{e}}$$"
      ],
      "text/plain": [
       "(y₁(t)⋅sin(y₂(t))⋅cos(y₃(t))) e_i + (y₁(t)⋅sin(y₂(t))⋅sin(y₃(t))) e_j + (y₁(t)\n",
       "⋅cos(y₂(t))) e_k"
      ]
     },
     "execution_count": 18,
     "metadata": {},
     "output_type": "execute_result"
    }
   ],
   "source": [
    "t =symbols(\"t\")\n",
    "y_1 = Function(\"y_1\")\n",
    "y_2 = Function(\"y_2\")\n",
    "y_3 = Function(\"y_3\")\n",
    "Y = Matrix([y_1(t),y_2(t),y_3(t)])\n",
    "r=sdg.rect_vector_of_sphere_coords(e, Y)\n",
    "r"
   ]
  },
  {
   "cell_type": "code",
   "execution_count": 19,
   "metadata": {},
   "outputs": [
    {
     "data": {
      "text/latex": [
       "$$\\left[\\begin{matrix}\\operatorname{y_{1}}{\\left (t \\right )} \\sin{\\left (\\operatorname{y_{2}}{\\left (t \\right )} \\right )} \\cos{\\left (\\operatorname{y_{3}}{\\left (t \\right )} \\right )}\\\\\\operatorname{y_{1}}{\\left (t \\right )} \\sin{\\left (\\operatorname{y_{2}}{\\left (t \\right )} \\right )} \\sin{\\left (\\operatorname{y_{3}}{\\left (t \\right )} \\right )}\\\\\\operatorname{y_{1}}{\\left (t \\right )} \\cos{\\left (\\operatorname{y_{2}}{\\left (t \\right )} \\right )}\\end{matrix}\\right]$$"
      ],
      "text/plain": [
       "⎡y₁(t)⋅sin(y₂(t))⋅cos(y₃(t))⎤\n",
       "⎢                           ⎥\n",
       "⎢y₁(t)⋅sin(y₂(t))⋅sin(y₃(t))⎥\n",
       "⎢                           ⎥\n",
       "⎣     y₁(t)⋅cos(y₂(t))      ⎦"
      ]
     },
     "execution_count": 19,
     "metadata": {},
     "output_type": "execute_result"
    }
   ],
   "source": [
    "r = sdg.vector_to_matrix_form(e,r)\n",
    "r"
   ]
  },
  {
   "cell_type": "code",
   "execution_count": 20,
   "metadata": {},
   "outputs": [
    {
     "data": {
      "text/latex": [
       "$$\\left[\\begin{matrix}\\sin{\\left (\\operatorname{y_{2}}{\\left (t \\right )} \\right )} \\cos{\\left (\\operatorname{y_{3}}{\\left (t \\right )} \\right )} & \\operatorname{y_{1}}{\\left (t \\right )} \\cos{\\left (\\operatorname{y_{2}}{\\left (t \\right )} \\right )} \\cos{\\left (\\operatorname{y_{3}}{\\left (t \\right )} \\right )} & - \\operatorname{y_{1}}{\\left (t \\right )} \\sin{\\left (\\operatorname{y_{2}}{\\left (t \\right )} \\right )} \\sin{\\left (\\operatorname{y_{3}}{\\left (t \\right )} \\right )}\\\\\\sin{\\left (\\operatorname{y_{2}}{\\left (t \\right )} \\right )} \\sin{\\left (\\operatorname{y_{3}}{\\left (t \\right )} \\right )} & \\operatorname{y_{1}}{\\left (t \\right )} \\sin{\\left (\\operatorname{y_{3}}{\\left (t \\right )} \\right )} \\cos{\\left (\\operatorname{y_{2}}{\\left (t \\right )} \\right )} & \\operatorname{y_{1}}{\\left (t \\right )} \\sin{\\left (\\operatorname{y_{2}}{\\left (t \\right )} \\right )} \\cos{\\left (\\operatorname{y_{3}}{\\left (t \\right )} \\right )}\\\\\\cos{\\left (\\operatorname{y_{2}}{\\left (t \\right )} \\right )} & - \\operatorname{y_{1}}{\\left (t \\right )} \\sin{\\left (\\operatorname{y_{2}}{\\left (t \\right )} \\right )} & 0\\end{matrix}\\right]$$"
      ],
      "text/plain": [
       "⎡sin(y₂(t))⋅cos(y₃(t))  y₁(t)⋅cos(y₂(t))⋅cos(y₃(t))  -y₁(t)⋅sin(y₂(t))⋅sin(y₃(\n",
       "⎢                                                                             \n",
       "⎢sin(y₂(t))⋅sin(y₃(t))  y₁(t)⋅sin(y₃(t))⋅cos(y₂(t))  y₁(t)⋅sin(y₂(t))⋅cos(y₃(t\n",
       "⎢                                                                             \n",
       "⎣     cos(y₂(t))             -y₁(t)⋅sin(y₂(t))                    0           \n",
       "\n",
       "t))⎤\n",
       "   ⎥\n",
       ")) ⎥\n",
       "   ⎥\n",
       "   ⎦"
      ]
     },
     "execution_count": 20,
     "metadata": {},
     "output_type": "execute_result"
    }
   ],
   "source": [
    "r.jacobian(Y)"
   ]
  },
  {
   "cell_type": "code",
   "execution_count": 21,
   "metadata": {},
   "outputs": [
    {
     "data": {
      "text/latex": [
       "$$\\left[\\begin{matrix}1 & 0 & 0\\\\0 & \\operatorname{y_{1}}^{2}{\\left (t \\right )} & 0\\\\0 & 0 & \\operatorname{y_{1}}^{2}{\\left (t \\right )} \\sin^{2}{\\left (\\operatorname{y_{2}}{\\left (t \\right )} \\right )}\\end{matrix}\\right]$$"
      ],
      "text/plain": [
       "⎡1    0             0         ⎤\n",
       "⎢                             ⎥\n",
       "⎢     2                       ⎥\n",
       "⎢0  y₁ (t)          0         ⎥\n",
       "⎢                             ⎥\n",
       "⎢             2       2       ⎥\n",
       "⎣0    0     y₁ (t)⋅sin (y₂(t))⎦"
      ]
     },
     "execution_count": 21,
     "metadata": {},
     "output_type": "execute_result"
    }
   ],
   "source": [
    "g = simplify(sdg.metric_from_coords(r,Y))\n",
    "g"
   ]
  },
  {
   "cell_type": "code",
   "execution_count": 22,
   "metadata": {
    "collapsed": true
   },
   "outputs": [],
   "source": [
    "Gamma=sdg.compute_christoffel_symbols_2(g, 3, Y,g.inverse())"
   ]
  },
  {
   "cell_type": "code",
   "execution_count": 23,
   "metadata": {},
   "outputs": [
    {
     "data": {
      "text/latex": [
       "$$\\left[\\begin{matrix}- \\operatorname{y_{1}}{\\left (t \\right )} \\sin^{2}{\\left (\\operatorname{y_{2}}{\\left (t \\right )} \\right )} \\left(\\frac{d}{d t} \\operatorname{y_{3}}{\\left (t \\right )}\\right)^{2} - \\operatorname{y_{1}}{\\left (t \\right )} \\left(\\frac{d}{d t} \\operatorname{y_{2}}{\\left (t \\right )}\\right)^{2} + \\frac{d^{2}}{d t^{2}}  \\operatorname{y_{1}}{\\left (t \\right )}\\\\- \\frac{1}{2} \\sin{\\left (2 \\operatorname{y_{2}}{\\left (t \\right )} \\right )} \\left(\\frac{d}{d t} \\operatorname{y_{3}}{\\left (t \\right )}\\right)^{2} + \\frac{d^{2}}{d t^{2}}  \\operatorname{y_{2}}{\\left (t \\right )} + \\frac{2 \\frac{d}{d t} \\operatorname{y_{1}}{\\left (t \\right )}}{\\operatorname{y_{1}}{\\left (t \\right )}} \\frac{d}{d t} \\operatorname{y_{2}}{\\left (t \\right )}\\\\\\frac{d^{2}}{d t^{2}}  \\operatorname{y_{3}}{\\left (t \\right )} + \\frac{2 \\frac{d}{d t} \\operatorname{y_{2}}{\\left (t \\right )} \\frac{d}{d t} \\operatorname{y_{3}}{\\left (t \\right )}}{\\tan{\\left (\\operatorname{y_{2}}{\\left (t \\right )} \\right )}} + \\frac{2 \\frac{d}{d t} \\operatorname{y_{1}}{\\left (t \\right )}}{\\operatorname{y_{1}}{\\left (t \\right )}} \\frac{d}{d t} \\operatorname{y_{3}}{\\left (t \\right )}\\end{matrix}\\right]$$"
      ],
      "text/plain": [
       "⎡                               2                    2     2       ⎤\n",
       "⎢           2        ⎛d        ⎞          ⎛d        ⎞     d        ⎥\n",
       "⎢- y₁(t)⋅sin (y₂(t))⋅⎜──(y₃(t))⎟  - y₁(t)⋅⎜──(y₂(t))⎟  + ───(y₁(t))⎥\n",
       "⎢                    ⎝dt       ⎠          ⎝dt       ⎠      2       ⎥\n",
       "⎢                                                        dt        ⎥\n",
       "⎢                                                                  ⎥\n",
       "⎢                           2                                      ⎥\n",
       "⎢                ⎛d        ⎞                   d         d         ⎥\n",
       "⎢   sin(2⋅y₂(t))⋅⎜──(y₃(t))⎟      2          2⋅──(y₁(t))⋅──(y₂(t)) ⎥\n",
       "⎢                ⎝dt       ⎠     d             dt        dt        ⎥\n",
       "⎢ - ───────────────────────── + ───(y₂(t)) + ───────────────────── ⎥\n",
       "⎢               2                 2                  y₁(t)         ⎥\n",
       "⎢                               dt                                 ⎥\n",
       "⎢                                                                  ⎥\n",
       "⎢                   d         d             d         d            ⎥\n",
       "⎢      2          2⋅──(y₂(t))⋅──(y₃(t))   2⋅──(y₁(t))⋅──(y₃(t))    ⎥\n",
       "⎢     d             dt        dt            dt        dt           ⎥\n",
       "⎢    ───(y₃(t)) + ───────────────────── + ─────────────────────    ⎥\n",
       "⎢      2                tan(y₂(t))                y₁(t)            ⎥\n",
       "⎣    dt                                                            ⎦"
      ]
     },
     "execution_count": 23,
     "metadata": {},
     "output_type": "execute_result"
    }
   ],
   "source": [
    "DY = diff(Y,t)\n",
    "D2Y = diff(DY,t)\n",
    "Abs_accel=sdg.absolute_acceleration(DY, D2Y, Gamma, 3 )\n",
    "Abs_accel"
   ]
  },
  {
   "cell_type": "code",
   "execution_count": 24,
   "metadata": {},
   "outputs": [
    {
     "data": {
      "text/latex": [
       "$$\\left[\\begin{matrix}- \\operatorname{y_{1}}{\\left (t \\right )} \\sin^{2}{\\left (\\operatorname{y_{2}}{\\left (t \\right )} \\right )} \\left(\\frac{d}{d t} \\operatorname{y_{3}}{\\left (t \\right )}\\right)^{2} - \\operatorname{y_{1}}{\\left (t \\right )} \\left(\\frac{d}{d t} \\operatorname{y_{2}}{\\left (t \\right )}\\right)^{2} + \\frac{d^{2}}{d t^{2}}  \\operatorname{y_{1}}{\\left (t \\right )}\\\\\\frac{\\sqrt{\\operatorname{y_{1}}^{2}{\\left (t \\right )}}}{2 \\operatorname{y_{1}}{\\left (t \\right )}} \\left(\\left(- \\sin{\\left (2 \\operatorname{y_{2}}{\\left (t \\right )} \\right )} \\left(\\frac{d}{d t} \\operatorname{y_{3}}{\\left (t \\right )}\\right)^{2} + 2 \\frac{d^{2}}{d t^{2}}  \\operatorname{y_{2}}{\\left (t \\right )}\\right) \\operatorname{y_{1}}{\\left (t \\right )} + 4 \\frac{d}{d t} \\operatorname{y_{1}}{\\left (t \\right )} \\frac{d}{d t} \\operatorname{y_{2}}{\\left (t \\right )}\\right)\\\\\\frac{1}{\\operatorname{y_{1}}{\\left (t \\right )}} \\sqrt{\\operatorname{y_{1}}^{2}{\\left (t \\right )} \\sin^{2}{\\left (\\operatorname{y_{2}}{\\left (t \\right )} \\right )}} \\left(\\operatorname{y_{1}}{\\left (t \\right )} \\frac{d^{2}}{d t^{2}}  \\operatorname{y_{3}}{\\left (t \\right )} + \\frac{2 \\frac{d}{d t} \\operatorname{y_{2}}{\\left (t \\right )} \\frac{d}{d t} \\operatorname{y_{3}}{\\left (t \\right )}}{\\tan{\\left (\\operatorname{y_{2}}{\\left (t \\right )} \\right )}} \\operatorname{y_{1}}{\\left (t \\right )} + 2 \\frac{d}{d t} \\operatorname{y_{1}}{\\left (t \\right )} \\frac{d}{d t} \\operatorname{y_{3}}{\\left (t \\right )}\\right)\\end{matrix}\\right]$$"
      ],
      "text/plain": [
       "⎡                                              2                    2     2   \n",
       "⎢                          2        ⎛d        ⎞          ⎛d        ⎞     d    \n",
       "⎢               - y₁(t)⋅sin (y₂(t))⋅⎜──(y₃(t))⎟  - y₁(t)⋅⎜──(y₂(t))⎟  + ───(y₁\n",
       "⎢                                   ⎝dt       ⎠          ⎝dt       ⎠      2   \n",
       "⎢                                                                       dt    \n",
       "⎢                                                                             \n",
       "⎢    ⎛⎛                          2       2       ⎞                            \n",
       "⎢    ⎜⎜               ⎛d        ⎞       d        ⎟           d         d      \n",
       "⎢    ⎜⎜- sin(2⋅y₂(t))⋅⎜──(y₃(t))⎟  + 2⋅───(y₂(t))⎟⋅y₁(t) + 4⋅──(y₁(t))⋅──(y₂(t\n",
       "⎢    ⎜⎜               ⎝dt       ⎠        2       ⎟           dt        dt     \n",
       "⎢    ⎝⎝                                dt        ⎠                            \n",
       "⎢    ─────────────────────────────────────────────────────────────────────────\n",
       "⎢                                            2⋅y₁(t)                          \n",
       "⎢                                                                             \n",
       "⎢                        ⎛                           d         d              \n",
       "⎢   ____________________ ⎜        2          2⋅y₁(t)⋅──(y₂(t))⋅──(y₃(t))      \n",
       "⎢  ╱   2       2         ⎜       d                   dt        dt            d\n",
       "⎢╲╱  y₁ (t)⋅sin (y₂(t)) ⋅⎜y₁(t)⋅───(y₃(t)) + ─────────────────────────── + 2⋅─\n",
       "⎢                        ⎜        2                   tan(y₂(t))             d\n",
       "⎢                        ⎝      dt                                            \n",
       "⎢─────────────────────────────────────────────────────────────────────────────\n",
       "⎣                                             y₁(t)                           \n",
       "\n",
       "                   ⎤\n",
       "                   ⎥\n",
       "(t))               ⎥\n",
       "                   ⎥\n",
       "                   ⎥\n",
       "                   ⎥\n",
       "  ⎞    ________    ⎥\n",
       "  ⎟   ╱   2        ⎥\n",
       "))⎟⋅╲╱  y₁ (t)     ⎥\n",
       "  ⎟                ⎥\n",
       "  ⎠                ⎥\n",
       "───────────────    ⎥\n",
       "                   ⎥\n",
       "                   ⎥\n",
       "                  ⎞⎥\n",
       "                  ⎟⎥\n",
       "         d        ⎟⎥\n",
       "─(y₁(t))⋅──(y₃(t))⎟⎥\n",
       "t        dt       ⎟⎥\n",
       "                  ⎠⎥\n",
       "───────────────────⎥\n",
       "                   ⎦"
      ]
     },
     "execution_count": 24,
     "metadata": {},
     "output_type": "execute_result"
    }
   ],
   "source": [
    "sdg.physical_acceleration_from_absolute_acceleration(Abs_accel,g,3)"
   ]
  },
  {
   "cell_type": "code",
   "execution_count": 25,
   "metadata": {},
   "outputs": [
    {
     "data": {
      "text/latex": [
       "$$\\left[\\begin{matrix}\\left[\\begin{matrix}0 & 0 & 0\\\\0 & 0 & 0\\\\0 & 0 & 0\\end{matrix}\\right] & \\left[\\begin{matrix}0 & 0 & 0\\\\0 & 0 & 0\\\\0 & 0 & 0\\end{matrix}\\right] & \\left[\\begin{matrix}0 & 0 & 0\\\\0 & 0 & 0\\\\0 & 0 & 0\\end{matrix}\\right]\\\\\\left[\\begin{matrix}0 & 0 & 0\\\\0 & 0 & 0\\\\0 & 0 & 0\\end{matrix}\\right] & \\left[\\begin{matrix}0 & 0 & 0\\\\0 & 0 & 0\\\\0 & 0 & 0\\end{matrix}\\right] & \\left[\\begin{matrix}0 & 0 & 0\\\\0 & 0 & 0\\\\0 & 0 & 0\\end{matrix}\\right]\\\\\\left[\\begin{matrix}0 & 0 & 0\\\\0 & 0 & 0\\\\0 & 0 & 0\\end{matrix}\\right] & \\left[\\begin{matrix}0 & 0 & 0\\\\0 & 0 & 0\\\\0 & 0 & 0\\end{matrix}\\right] & \\left[\\begin{matrix}0 & 0 & 0\\\\0 & 0 & 0\\\\0 & 0 & 0\\end{matrix}\\right]\\end{matrix}\\right]$$"
      ],
      "text/plain": [
       "⎡⎡0  0  0⎤  ⎡0  0  0⎤  ⎡0  0  0⎤⎤\n",
       "⎢⎢       ⎥  ⎢       ⎥  ⎢       ⎥⎥\n",
       "⎢⎢0  0  0⎥  ⎢0  0  0⎥  ⎢0  0  0⎥⎥\n",
       "⎢⎢       ⎥  ⎢       ⎥  ⎢       ⎥⎥\n",
       "⎢⎣0  0  0⎦  ⎣0  0  0⎦  ⎣0  0  0⎦⎥\n",
       "⎢                               ⎥\n",
       "⎢⎡0  0  0⎤  ⎡0  0  0⎤  ⎡0  0  0⎤⎥\n",
       "⎢⎢       ⎥  ⎢       ⎥  ⎢       ⎥⎥\n",
       "⎢⎢0  0  0⎥  ⎢0  0  0⎥  ⎢0  0  0⎥⎥\n",
       "⎢⎢       ⎥  ⎢       ⎥  ⎢       ⎥⎥\n",
       "⎢⎣0  0  0⎦  ⎣0  0  0⎦  ⎣0  0  0⎦⎥\n",
       "⎢                               ⎥\n",
       "⎢⎡0  0  0⎤  ⎡0  0  0⎤  ⎡0  0  0⎤⎥\n",
       "⎢⎢       ⎥  ⎢       ⎥  ⎢       ⎥⎥\n",
       "⎢⎢0  0  0⎥  ⎢0  0  0⎥  ⎢0  0  0⎥⎥\n",
       "⎢⎢       ⎥  ⎢       ⎥  ⎢       ⎥⎥\n",
       "⎣⎣0  0  0⎦  ⎣0  0  0⎦  ⎣0  0  0⎦⎦"
      ]
     },
     "execution_count": 25,
     "metadata": {},
     "output_type": "execute_result"
    }
   ],
   "source": [
    "sdg.Riemann_Tensor_2(Gamma, Y, 3)"
   ]
  },
  {
   "cell_type": "code",
   "execution_count": 26,
   "metadata": {},
   "outputs": [
    {
     "data": {
      "text/latex": [
       "$$\\left[\\begin{matrix}\\operatorname{y_{1}}{\\left (t \\right )} \\sin{\\left (\\operatorname{y_{2}}{\\left (t \\right )} \\right )} \\cos{\\left (\\operatorname{y_{3}}{\\left (t \\right )} \\right )}\\\\\\operatorname{y_{1}}{\\left (t \\right )} \\sin{\\left (\\operatorname{y_{2}}{\\left (t \\right )} \\right )} \\sin{\\left (\\operatorname{y_{3}}{\\left (t \\right )} \\right )}\\\\\\operatorname{y_{1}}{\\left (t \\right )} \\cos{\\left (\\operatorname{y_{2}}{\\left (t \\right )} \\right )}\\end{matrix}\\right]$$"
      ],
      "text/plain": [
       "⎡y₁(t)⋅sin(y₂(t))⋅cos(y₃(t))⎤\n",
       "⎢                           ⎥\n",
       "⎢y₁(t)⋅sin(y₂(t))⋅sin(y₃(t))⎥\n",
       "⎢                           ⎥\n",
       "⎣     y₁(t)⋅cos(y₂(t))      ⎦"
      ]
     },
     "execution_count": 26,
     "metadata": {},
     "output_type": "execute_result"
    }
   ],
   "source": [
    "y_0=Function(\"y_0\")\n",
    "r"
   ]
  },
  {
   "cell_type": "code",
   "execution_count": 27,
   "metadata": {},
   "outputs": [
    {
     "data": {
      "text/latex": [
       "$$\\left[\\begin{matrix}i \\operatorname{y_{0}}{\\left (t \\right )}\\\\- \\operatorname{y_{1}}{\\left (t \\right )} \\sin{\\left (\\operatorname{y_{2}}{\\left (t \\right )} \\right )} \\cos{\\left (\\operatorname{y_{3}}{\\left (t \\right )} \\right )}\\\\- \\operatorname{y_{1}}{\\left (t \\right )} \\sin{\\left (\\operatorname{y_{2}}{\\left (t \\right )} \\right )} \\sin{\\left (\\operatorname{y_{3}}{\\left (t \\right )} \\right )}\\\\- \\operatorname{y_{1}}{\\left (t \\right )} \\cos{\\left (\\operatorname{y_{2}}{\\left (t \\right )} \\right )}\\end{matrix}\\right]$$"
      ],
      "text/plain": [
       "⎡          ⅈ⋅y₀(t)           ⎤\n",
       "⎢                            ⎥\n",
       "⎢-y₁(t)⋅sin(y₂(t))⋅cos(y₃(t))⎥\n",
       "⎢                            ⎥\n",
       "⎢-y₁(t)⋅sin(y₂(t))⋅sin(y₃(t))⎥\n",
       "⎢                            ⎥\n",
       "⎣     -y₁(t)⋅cos(y₂(t))      ⎦"
      ]
     },
     "execution_count": 27,
     "metadata": {},
     "output_type": "execute_result"
    }
   ],
   "source": [
    "r2 = Matrix([I*y_0(t),-r[0],-r[1],-r[2]])\n",
    "r2"
   ]
  },
  {
   "cell_type": "code",
   "execution_count": 28,
   "metadata": {},
   "outputs": [
    {
     "data": {
      "text/latex": [
       "$$\\left[\\begin{matrix}i & 0 & 0 & 0\\\\0 & - \\sin{\\left (\\operatorname{y_{2}}{\\left (t \\right )} \\right )} \\cos{\\left (\\operatorname{y_{3}}{\\left (t \\right )} \\right )} & - \\operatorname{y_{1}}{\\left (t \\right )} \\cos{\\left (\\operatorname{y_{2}}{\\left (t \\right )} \\right )} \\cos{\\left (\\operatorname{y_{3}}{\\left (t \\right )} \\right )} & \\operatorname{y_{1}}{\\left (t \\right )} \\sin{\\left (\\operatorname{y_{2}}{\\left (t \\right )} \\right )} \\sin{\\left (\\operatorname{y_{3}}{\\left (t \\right )} \\right )}\\\\0 & - \\sin{\\left (\\operatorname{y_{2}}{\\left (t \\right )} \\right )} \\sin{\\left (\\operatorname{y_{3}}{\\left (t \\right )} \\right )} & - \\operatorname{y_{1}}{\\left (t \\right )} \\sin{\\left (\\operatorname{y_{3}}{\\left (t \\right )} \\right )} \\cos{\\left (\\operatorname{y_{2}}{\\left (t \\right )} \\right )} & - \\operatorname{y_{1}}{\\left (t \\right )} \\sin{\\left (\\operatorname{y_{2}}{\\left (t \\right )} \\right )} \\cos{\\left (\\operatorname{y_{3}}{\\left (t \\right )} \\right )}\\\\0 & - \\cos{\\left (\\operatorname{y_{2}}{\\left (t \\right )} \\right )} & \\operatorname{y_{1}}{\\left (t \\right )} \\sin{\\left (\\operatorname{y_{2}}{\\left (t \\right )} \\right )} & 0\\end{matrix}\\right]$$"
      ],
      "text/plain": [
       "⎡ⅈ            0                          0                             0      \n",
       "⎢                                                                             \n",
       "⎢0  -sin(y₂(t))⋅cos(y₃(t))  -y₁(t)⋅cos(y₂(t))⋅cos(y₃(t))  y₁(t)⋅sin(y₂(t))⋅sin\n",
       "⎢                                                                             \n",
       "⎢0  -sin(y₂(t))⋅sin(y₃(t))  -y₁(t)⋅sin(y₃(t))⋅cos(y₂(t))  -y₁(t)⋅sin(y₂(t))⋅co\n",
       "⎢                                                                             \n",
       "⎣0       -cos(y₂(t))              y₁(t)⋅sin(y₂(t))                     0      \n",
       "\n",
       "        ⎤\n",
       "        ⎥\n",
       "(y₃(t)) ⎥\n",
       "        ⎥\n",
       "s(y₃(t))⎥\n",
       "        ⎥\n",
       "        ⎦"
      ]
     },
     "execution_count": 28,
     "metadata": {},
     "output_type": "execute_result"
    }
   ],
   "source": [
    "Y=Matrix([y_0(t), y_1(t),y_2(t),y_3(t)])\n",
    "scJ = r2.jacobian(Y)\n",
    "scJ"
   ]
  },
  {
   "cell_type": "code",
   "execution_count": 29,
   "metadata": {},
   "outputs": [
    {
     "data": {
      "text/latex": [
       "$$\\left[\\begin{matrix}-1 & 0 & 0 & 0\\\\0 & 1 & 0 & 0\\\\0 & 0 & \\operatorname{y_{1}}^{2}{\\left (t \\right )} & 0\\\\0 & 0 & 0 & \\operatorname{y_{1}}^{2}{\\left (t \\right )} \\sin^{2}{\\left (\\operatorname{y_{2}}{\\left (t \\right )} \\right )}\\end{matrix}\\right]$$"
      ],
      "text/plain": [
       "⎡-1  0    0             0         ⎤\n",
       "⎢                                 ⎥\n",
       "⎢0   1    0             0         ⎥\n",
       "⎢                                 ⎥\n",
       "⎢         2                       ⎥\n",
       "⎢0   0  y₁ (t)          0         ⎥\n",
       "⎢                                 ⎥\n",
       "⎢                 2       2       ⎥\n",
       "⎣0   0    0     y₁ (t)⋅sin (y₂(t))⎦"
      ]
     },
     "execution_count": 29,
     "metadata": {},
     "output_type": "execute_result"
    }
   ],
   "source": [
    "simplify(scJ.T*scJ)"
   ]
  },
  {
   "cell_type": "code",
   "execution_count": 30,
   "metadata": {
    "collapsed": true
   },
   "outputs": [],
   "source": [
    "r,r_s,c = symbols(\"r,r_s,c\")\n",
    "A_r = sqrt(1-r_s/r)*c\n",
    "B_r = sqrt((1-r_s/r)**(-1))\n",
    "Y = Matrix([y_1(t),y_2(t),y_3(t)])\n",
    "G,M = symbols(\"G,M\")\n",
    "f_1 = sqrt(1-r_s/y_1(t))#.subs({r_s:2*G*M/(c**2)})\n",
    "f_2 = 1/f_1\n",
    "f_1\n",
    "x=sdg.rect_vector_of_sphere_coords(e, Y)\n",
    "x = sdg.vector_to_matrix_form(e,x)\n",
    "tau=symbols(\"tau\")\n",
    "Y=Matrix([y_0(t), y_1(t),y_2(t),y_3(t)])\n"
   ]
  },
  {
   "cell_type": "code",
   "execution_count": 31,
   "metadata": {},
   "outputs": [
    {
     "data": {
      "image/png": "[encoded data removed]",
      "text/latex": [
       "$$\\sqrt{- \\frac{2 G M}{c^{2} r} + 1}$$"
      ],
      "text/plain": [
       "     _____________\n",
       "    ╱   2⋅G⋅M     \n",
       "   ╱  - ───── + 1 \n",
       "  ╱       2       \n",
       "╲╱       c ⋅r     "
      ]
     },
     "execution_count": 31,
     "metadata": {},
     "output_type": "execute_result"
    }
   ],
   "source": [
    "G,M = symbols(\"G,M\")\n",
    "f_1 = sqrt(1-r_s/r).subs({r_s:2*G*M/(c**2)})\n",
    "f_2 = 1/f_1\n",
    "f_1"
   ]
  },
  {
   "cell_type": "code",
   "execution_count": 32,
   "metadata": {
    "collapsed": true
   },
   "outputs": [],
   "source": [
    "x_0,x_1,x_2,x_3 = symbols(\"x_0,x_1,x_2,x_3\")\n",
    "f_1=f_1.subs({r:sqrt(x_0**2+x_1**2+x_2**2+x_3**2)})"
   ]
  },
  {
   "cell_type": "code",
   "execution_count": 33,
   "metadata": {},
   "outputs": [
    {
     "data": {
      "image/png": "[encoded data removed]",
      "text/latex": [
       "$$- \\frac{2 G M}{c^{2} \\sqrt{x_{0}^{2} + x_{1}^{2} + x_{2}^{2} + x_{3}^{2}}} + 1$$"
      ],
      "text/plain": [
       "              2⋅G⋅M                \n",
       "- ───────────────────────────── + 1\n",
       "        _______________________    \n",
       "   2   ╱   2     2     2     2     \n",
       "  c ⋅╲╱  x₀  + x₁  + x₂  + x₃      "
      ]
     },
     "execution_count": 33,
     "metadata": {},
     "output_type": "execute_result"
    }
   ],
   "source": [
    "f_1*f_1"
   ]
  },
  {
   "cell_type": "code",
   "execution_count": 34,
   "metadata": {},
   "outputs": [
    {
     "data": {
      "image/png": "[encoded data removed]",
      "text/latex": [
       "$$\\frac{1}{\\sqrt{- \\frac{2 G M}{c^{2} \\sqrt{x_{0}^{2} + x_{1}^{2} + x_{2}^{2} + x_{3}^{2}}} + 1}}$$"
      ],
      "text/plain": [
       "                     1                     \n",
       "───────────────────────────────────────────\n",
       "      _____________________________________\n",
       "     ╱               2⋅G⋅M                 \n",
       "    ╱  - ───────────────────────────── + 1 \n",
       "   ╱           _______________________     \n",
       "  ╱       2   ╱   2     2     2     2      \n",
       "╲╱       c ⋅╲╱  x₀  + x₁  + x₂  + x₃       "
      ]
     },
     "execution_count": 34,
     "metadata": {},
     "output_type": "execute_result"
    }
   ],
   "source": [
    "f_2=f_2.subs({r:sqrt(x_0**2+x_1**2+x_2**2+x_3**2)})\n",
    "f_2"
   ]
  },
  {
   "cell_type": "code",
   "execution_count": 35,
   "metadata": {
    "collapsed": true
   },
   "outputs": [],
   "source": [
    "y_1 = Function(\"y_1\")\n",
    "a = symbols(\"a\")\n",
    "Swc3 = simplify(scJ.T*scJ)\n",
    "#Swc3[0,0]*=(1-r_s/r)\n",
    "Swc4 = Matrix([[Swc3[0,0]*(1-r_s/r),0,0,0],[0,Swc3[1,1]/(1-r_s/r),0,0],[0,0,Swc3[2,2],0],[0,0,0,Swc3[3,3]]])"
   ]
  },
  {
   "cell_type": "code",
   "execution_count": 36,
   "metadata": {},
   "outputs": [
    {
     "data": {
      "text/latex": [
       "$$\\left[\\begin{matrix}- \\frac{r_{s}}{\\operatorname{y_{1}}{\\left (t \\right )}} + 1 & 0 & 0 & 0\\\\0 & - \\frac{1}{- \\frac{r_{s}}{\\operatorname{y_{1}}{\\left (t \\right )}} + 1} & 0 & 0\\\\0 & 0 & - \\operatorname{y_{1}}^{2}{\\left (t \\right )} & 0\\\\0 & 0 & 0 & - \\operatorname{y_{1}}^{2}{\\left (t \\right )} \\sin^{2}{\\left (\\operatorname{y_{2}}{\\left (t \\right )} \\right )}\\end{matrix}\\right]$$"
      ],
      "text/plain": [
       "⎡   r_s                                                ⎤\n",
       "⎢- ───── + 1       0          0              0         ⎥\n",
       "⎢  y₁(t)                                               ⎥\n",
       "⎢                                                      ⎥\n",
       "⎢                 -1                                   ⎥\n",
       "⎢     0       ───────────     0              0         ⎥\n",
       "⎢                r_s                                   ⎥\n",
       "⎢             - ───── + 1                              ⎥\n",
       "⎢               y₁(t)                                  ⎥\n",
       "⎢                                                      ⎥\n",
       "⎢                             2                        ⎥\n",
       "⎢     0            0       -y₁ (t)           0         ⎥\n",
       "⎢                                                      ⎥\n",
       "⎢                                      2       2       ⎥\n",
       "⎣     0            0          0     -y₁ (t)⋅sin (y₂(t))⎦"
      ]
     },
     "execution_count": 36,
     "metadata": {},
     "output_type": "execute_result"
    }
   ],
   "source": [
    "Gs = (-1)*Swc4.subs({r:y_1(t)})\n",
    "Gs"
   ]
  },
  {
   "cell_type": "code",
   "execution_count": 37,
   "metadata": {},
   "outputs": [
    {
     "data": {
      "text/latex": [
       "$$\\left [ \\left[\\begin{matrix}0 & - \\frac{r_{s}}{2 \\left(r_{s} - \\operatorname{y_{1}}{\\left (t \\right )}\\right) \\operatorname{y_{1}}{\\left (t \\right )}} & 0 & 0\\\\- \\frac{r_{s}}{2 \\left(r_{s} - \\operatorname{y_{1}}{\\left (t \\right )}\\right) \\operatorname{y_{1}}{\\left (t \\right )}} & 0 & 0 & 0\\\\0 & 0 & 0 & 0\\\\0 & 0 & 0 & 0\\end{matrix}\\right], \\quad \\left[\\begin{matrix}- \\frac{r_{s} \\left(r_{s} - \\operatorname{y_{1}}{\\left (t \\right )}\\right)}{2 \\operatorname{y_{1}}^{3}{\\left (t \\right )}} & 0 & 0 & 0\\\\0 & \\frac{r_{s}}{2 \\left(r_{s} - \\operatorname{y_{1}}{\\left (t \\right )}\\right) \\operatorname{y_{1}}{\\left (t \\right )}} & 0 & 0\\\\0 & 0 & r_{s} - \\operatorname{y_{1}}{\\left (t \\right )} & 0\\\\0 & 0 & 0 & \\left(r_{s} - \\operatorname{y_{1}}{\\left (t \\right )}\\right) \\sin^{2}{\\left (\\operatorname{y_{2}}{\\left (t \\right )} \\right )}\\end{matrix}\\right], \\quad \\left[\\begin{matrix}0 & 0 & 0 & 0\\\\0 & 0 & \\frac{1}{\\operatorname{y_{1}}{\\left (t \\right )}} & 0\\\\0 & \\frac{1}{\\operatorname{y_{1}}{\\left (t \\right )}} & 0 & 0\\\\0 & 0 & 0 & - \\frac{1}{2} \\sin{\\left (2 \\operatorname{y_{2}}{\\left (t \\right )} \\right )}\\end{matrix}\\right], \\quad \\left[\\begin{matrix}0 & 0 & 0 & 0\\\\0 & 0 & 0 & \\frac{1}{\\operatorname{y_{1}}{\\left (t \\right )}}\\\\0 & 0 & 0 & \\frac{1}{\\tan{\\left (\\operatorname{y_{2}}{\\left (t \\right )} \\right )}}\\\\0 & \\frac{1}{\\operatorname{y_{1}}{\\left (t \\right )}} & \\frac{1}{\\tan{\\left (\\operatorname{y_{2}}{\\left (t \\right )} \\right )}} & 0\\end{matrix}\\right]\\right ]$$"
      ],
      "text/plain": [
       "⎡                                                      ⎡-r_s⋅(r_s - y₁(t))    \n",
       "⎢⎡                               -r_s               ⎤  ⎢───────────────────   \n",
       "⎢⎢          0            ─────────────────────  0  0⎥  ⎢          3           \n",
       "⎢⎢                       2⋅(r_s - y₁(t))⋅y₁(t)      ⎥  ⎢      2⋅y₁ (t)        \n",
       "⎢⎢                                                  ⎥  ⎢                      \n",
       "⎢⎢        -r_s                                      ⎥  ⎢                      \n",
       "⎢⎢─────────────────────            0            0  0⎥, ⎢         0           ─\n",
       "⎢⎢2⋅(r_s - y₁(t))⋅y₁(t)                             ⎥  ⎢                     2\n",
       "⎢⎢                                                  ⎥  ⎢                      \n",
       "⎢⎢          0                      0            0  0⎥  ⎢         0            \n",
       "⎢⎢                                                  ⎥  ⎢                      \n",
       "⎢⎣          0                      0            0  0⎦  ⎢                      \n",
       "⎣                                                      ⎣         0            \n",
       "\n",
       "                                                            ⎤  ⎡0    0      0 \n",
       "         0                 0                   0            ⎥  ⎢              \n",
       "                                                            ⎥  ⎢            1 \n",
       "                                                            ⎥  ⎢0    0    ────\n",
       "                                                            ⎥  ⎢          y₁(t\n",
       "        r_s                                                 ⎥  ⎢              \n",
       "────────────────────       0                   0            ⎥, ⎢     1        \n",
       "⋅(r_s - y₁(t))⋅y₁(t)                                        ⎥  ⎢0  ─────    0 \n",
       "                                                            ⎥  ⎢   y₁(t)      \n",
       "         0            r_s - y₁(t)              0            ⎥  ⎢              \n",
       "                                                            ⎥  ⎢              \n",
       "                                                    2       ⎥  ⎢0    0      0 \n",
       "         0                 0       (r_s - y₁(t))⋅sin (y₂(t))⎦  ⎣              \n",
       "\n",
       "         0       ⎤  ⎡0    0        0           0     ⎤⎤\n",
       "                 ⎥  ⎢                                ⎥⎥\n",
       "                 ⎥  ⎢                          1     ⎥⎥\n",
       "─        0       ⎥  ⎢0    0        0         ─────   ⎥⎥\n",
       ")                ⎥  ⎢                        y₁(t)   ⎥⎥\n",
       "                 ⎥  ⎢                                ⎥⎥\n",
       "                 ⎥, ⎢                          1     ⎥⎥\n",
       "         0       ⎥  ⎢0    0        0       ──────────⎥⎥\n",
       "                 ⎥  ⎢                      tan(y₂(t))⎥⎥\n",
       "                 ⎥  ⎢                                ⎥⎥\n",
       "   -sin(2⋅y₂(t)) ⎥  ⎢     1        1                 ⎥⎥\n",
       "   ──────────────⎥  ⎢0  ─────  ──────────      0     ⎥⎥\n",
       "         2       ⎦  ⎣   y₁(t)  tan(y₂(t))            ⎦⎦"
      ]
     },
     "execution_count": 37,
     "metadata": {},
     "output_type": "execute_result"
    }
   ],
   "source": [
    "Gamma=sdg.compute_christoffel_symbols_2(Gs, 4, Y,Gs.inverse_GE())\n",
    "Gamma"
   ]
  },
  {
   "cell_type": "code",
   "execution_count": 38,
   "metadata": {},
   "outputs": [
    {
     "data": {
      "text/latex": [
       "$$\\left[\\begin{matrix}\\operatorname{y_{0}}{\\left (t \\right )}\\\\\\operatorname{y_{1}}{\\left (t \\right )}\\\\\\operatorname{y_{2}}{\\left (t \\right )}\\\\\\operatorname{y_{3}}{\\left (t \\right )}\\end{matrix}\\right]$$"
      ],
      "text/plain": [
       "⎡y₀(t)⎤\n",
       "⎢     ⎥\n",
       "⎢y₁(t)⎥\n",
       "⎢     ⎥\n",
       "⎢y₂(t)⎥\n",
       "⎢     ⎥\n",
       "⎣y₃(t)⎦"
      ]
     },
     "execution_count": 38,
     "metadata": {},
     "output_type": "execute_result"
    }
   ],
   "source": [
    "Y"
   ]
  },
  {
   "cell_type": "code",
   "execution_count": 39,
   "metadata": {
    "collapsed": true
   },
   "outputs": [],
   "source": [
    "R_abcd = sdg.Riemann_Tensor_2(Gamma, Y, 4)"
   ]
  },
  {
   "cell_type": "code",
   "execution_count": 40,
   "metadata": {},
   "outputs": [
    {
     "data": {
      "text/latex": [
       "$$\\left[\\begin{matrix}\\left[\\begin{matrix}0 & 0 & 0 & 0\\\\0 & - \\frac{r_{s}}{\\left(r_{s} - \\operatorname{y_{1}}{\\left (t \\right )}\\right) \\operatorname{y_{1}}^{2}{\\left (t \\right )}} & 0 & 0\\\\0 & 0 & - \\frac{r_{s}}{2 \\operatorname{y_{1}}{\\left (t \\right )}} & 0\\\\0 & 0 & 0 & - \\frac{r_{s} \\sin^{2}{\\left (\\operatorname{y_{2}}{\\left (t \\right )} \\right )}}{2 \\operatorname{y_{1}}{\\left (t \\right )}}\\end{matrix}\\right] & \\left[\\begin{matrix}0 & \\frac{r_{s}}{\\left(r_{s} - \\operatorname{y_{1}}{\\left (t \\right )}\\right) \\operatorname{y_{1}}^{2}{\\left (t \\right )}} & 0 & 0\\\\0 & 0 & 0 & 0\\\\0 & 0 & 0 & 0\\\\0 & 0 & 0 & 0\\end{matrix}\\right] & \\left[\\begin{matrix}0 & 0 & \\frac{r_{s}}{2 \\operatorname{y_{1}}{\\left (t \\right )}} & 0\\\\0 & 0 & 0 & 0\\\\0 & 0 & 0 & 0\\\\0 & 0 & 0 & 0\\end{matrix}\\right] & \\left[\\begin{matrix}0 & 0 & 0 & \\frac{r_{s} \\sin^{2}{\\left (\\operatorname{y_{2}}{\\left (t \\right )} \\right )}}{2 \\operatorname{y_{1}}{\\left (t \\right )}}\\\\0 & 0 & 0 & 0\\\\0 & 0 & 0 & 0\\\\0 & 0 & 0 & 0\\end{matrix}\\right]\\\\\\left[\\begin{matrix}0 & 0 & 0 & 0\\\\\\frac{r_{s} \\left(- r_{s} + \\operatorname{y_{1}}{\\left (t \\right )}\\right)}{\\operatorname{y_{1}}^{4}{\\left (t \\right )}} & 0 & 0 & 0\\\\0 & 0 & 0 & 0\\\\0 & 0 & 0 & 0\\end{matrix}\\right] & \\left[\\begin{matrix}\\frac{r_{s} \\left(r_{s} - \\operatorname{y_{1}}{\\left (t \\right )}\\right)}{\\operatorname{y_{1}}^{4}{\\left (t \\right )}} & 0 & 0 & 0\\\\0 & 0 & 0 & 0\\\\0 & 0 & - \\frac{r_{s}}{2 \\operatorname{y_{1}}{\\left (t \\right )}} & 0\\\\0 & 0 & 0 & - \\frac{r_{s} \\sin^{2}{\\left (\\operatorname{y_{2}}{\\left (t \\right )} \\right )}}{2 \\operatorname{y_{1}}{\\left (t \\right )}}\\end{matrix}\\right] & \\left[\\begin{matrix}0 & 0 & 0 & 0\\\\0 & 0 & \\frac{r_{s}}{2 \\operatorname{y_{1}}{\\left (t \\right )}} & 0\\\\0 & 0 & 0 & 0\\\\0 & 0 & 0 & 0\\end{matrix}\\right] & \\left[\\begin{matrix}0 & 0 & 0 & 0\\\\0 & 0 & 0 & \\frac{r_{s} \\sin^{2}{\\left (\\operatorname{y_{2}}{\\left (t \\right )} \\right )}}{2 \\operatorname{y_{1}}{\\left (t \\right )}}\\\\0 & 0 & 0 & 0\\\\0 & 0 & 0 & 0\\end{matrix}\\right]\\\\\\left[\\begin{matrix}0 & 0 & 0 & 0\\\\0 & 0 & 0 & 0\\\\\\frac{r_{s} \\left(r_{s} - \\operatorname{y_{1}}{\\left (t \\right )}\\right)}{2 \\operatorname{y_{1}}^{4}{\\left (t \\right )}} & 0 & 0 & 0\\\\0 & 0 & 0 & 0\\end{matrix}\\right] & \\left[\\begin{matrix}0 & 0 & 0 & 0\\\\0 & 0 & 0 & 0\\\\0 & - \\frac{r_{s}}{2 \\left(r_{s} - \\operatorname{y_{1}}{\\left (t \\right )}\\right) \\operatorname{y_{1}}^{2}{\\left (t \\right )}} & 0 & 0\\\\0 & 0 & 0 & 0\\end{matrix}\\right] & \\left[\\begin{matrix}- \\frac{r_{s} \\left(r_{s} - \\operatorname{y_{1}}{\\left (t \\right )}\\right)}{2 \\operatorname{y_{1}}^{4}{\\left (t \\right )}} & 0 & 0 & 0\\\\0 & \\frac{r_{s}}{2 \\left(r_{s} - \\operatorname{y_{1}}{\\left (t \\right )}\\right) \\operatorname{y_{1}}^{2}{\\left (t \\right )}} & 0 & 0\\\\0 & 0 & 0 & 0\\\\0 & 0 & 0 & \\frac{r_{s} \\sin^{2}{\\left (\\operatorname{y_{2}}{\\left (t \\right )} \\right )}}{\\operatorname{y_{1}}{\\left (t \\right )}}\\end{matrix}\\right] & \\left[\\begin{matrix}0 & 0 & 0 & 0\\\\0 & 0 & 0 & 0\\\\0 & 0 & 0 & - \\frac{r_{s} \\sin^{2}{\\left (\\operatorname{y_{2}}{\\left (t \\right )} \\right )}}{\\operatorname{y_{1}}{\\left (t \\right )}}\\\\0 & 0 & 0 & 0\\end{matrix}\\right]\\\\\\left[\\begin{matrix}0 & 0 & 0 & 0\\\\0 & 0 & 0 & 0\\\\0 & 0 & 0 & 0\\\\\\frac{r_{s} \\left(r_{s} - \\operatorname{y_{1}}{\\left (t \\right )}\\right)}{2 \\operatorname{y_{1}}^{4}{\\left (t \\right )}} & 0 & 0 & 0\\end{matrix}\\right] & \\left[\\begin{matrix}0 & 0 & 0 & 0\\\\0 & 0 & 0 & 0\\\\0 & 0 & 0 & 0\\\\0 & - \\frac{r_{s}}{2 \\left(r_{s} - \\operatorname{y_{1}}{\\left (t \\right )}\\right) \\operatorname{y_{1}}^{2}{\\left (t \\right )}} & 0 & 0\\end{matrix}\\right] & \\left[\\begin{matrix}0 & 0 & 0 & 0\\\\0 & 0 & 0 & 0\\\\0 & 0 & 0 & 0\\\\0 & 0 & - \\frac{r_{s}}{\\operatorname{y_{1}}{\\left (t \\right )}} & 0\\end{matrix}\\right] & \\left[\\begin{matrix}- \\frac{r_{s} \\left(r_{s} - \\operatorname{y_{1}}{\\left (t \\right )}\\right)}{2 \\operatorname{y_{1}}^{4}{\\left (t \\right )}} & 0 & 0 & 0\\\\0 & \\frac{r_{s}}{2 \\left(r_{s} - \\operatorname{y_{1}}{\\left (t \\right )}\\right) \\operatorname{y_{1}}^{2}{\\left (t \\right )}} & 0 & 0\\\\0 & 0 & \\frac{r_{s}}{\\operatorname{y_{1}}{\\left (t \\right )}} & 0\\\\0 & 0 & 0 & 0\\end{matrix}\\right]\\end{matrix}\\right]$$"
      ],
      "text/plain": [
       "⎡⎡0           0               0             0        ⎤                        \n",
       "⎢⎢                                                   ⎥                        \n",
       "⎢⎢          -r_s                                     ⎥           ⎡           r\n",
       "⎢⎢0  ────────────────────     0             0        ⎥           ⎢0  ─────────\n",
       "⎢⎢                   2                               ⎥           ⎢            \n",
       "⎢⎢   (r_s - y₁(t))⋅y₁ (t)                            ⎥           ⎢   (r_s - y₁\n",
       "⎢⎢                                                   ⎥           ⎢            \n",
       "⎢⎢                          -r_s                     ⎥           ⎢0           \n",
       "⎢⎢0           0            ───────          0        ⎥           ⎢            \n",
       "⎢⎢                         2⋅y₁(t)                   ⎥           ⎢0           \n",
       "⎢⎢                                                   ⎥           ⎢            \n",
       "⎢⎢                                          2        ⎥           ⎣0           \n",
       "⎢⎢                                  -r_s⋅sin (y₂(t)) ⎥                        \n",
       "⎢⎢0           0               0     ─────────────────⎥                        \n",
       "⎢⎣                                       2⋅y₁(t)     ⎦                        \n",
       "⎢                                                                             \n",
       "⎢                                                       ⎡r_s⋅(r_s - y₁(t))    \n",
       "⎢                                                       ⎢─────────────────  0 \n",
       "⎢            ⎡        0           0  0  0⎤              ⎢        4            \n",
       "⎢            ⎢                           ⎥              ⎢      y₁ (t)         \n",
       "⎢            ⎢r_s⋅(-r_s + y₁(t))         ⎥              ⎢                     \n",
       "⎢            ⎢──────────────────  0  0  0⎥              ⎢        0          0 \n",
       "⎢            ⎢        4                  ⎥              ⎢                     \n",
       "⎢            ⎢      y₁ (t)               ⎥              ⎢                     \n",
       "⎢            ⎢                           ⎥              ⎢        0          0 \n",
       "⎢            ⎢        0           0  0  0⎥              ⎢                     \n",
       "⎢            ⎢                           ⎥              ⎢                     \n",
       "⎢            ⎣        0           0  0  0⎦              ⎢                     \n",
       "⎢                                                       ⎢                     \n",
       "⎢                                                       ⎢        0          0 \n",
       "⎢                                                       ⎣                     \n",
       "⎢                                                                             \n",
       "⎢                                                                             \n",
       "⎢                                                                             \n",
       "⎢                                                                             \n",
       "⎢            ⎡        0          0  0  0⎤                       ⎡0            \n",
       "⎢            ⎢                          ⎥                       ⎢             \n",
       "⎢            ⎢        0          0  0  0⎥                       ⎢0            \n",
       "⎢            ⎢                          ⎥                       ⎢             \n",
       "⎢            ⎢r_s⋅(r_s - y₁(t))         ⎥                       ⎢           -r\n",
       "⎢            ⎢─────────────────  0  0  0⎥                       ⎢0  ──────────\n",
       "⎢            ⎢         4                ⎥                       ⎢             \n",
       "⎢            ⎢     2⋅y₁ (t)             ⎥                       ⎢   2⋅(r_s - y\n",
       "⎢            ⎢                          ⎥                       ⎢             \n",
       "⎢            ⎣        0          0  0  0⎦                       ⎣0            \n",
       "⎢                                                                             \n",
       "⎢                                                                             \n",
       "⎢                                                                             \n",
       "⎢                                                                             \n",
       "⎢                                                                             \n",
       "⎢                                                                             \n",
       "⎢            ⎡        0          0  0  0⎤                       ⎡0            \n",
       "⎢            ⎢                          ⎥                       ⎢             \n",
       "⎢            ⎢        0          0  0  0⎥                       ⎢0            \n",
       "⎢            ⎢                          ⎥                       ⎢             \n",
       "⎢            ⎢        0          0  0  0⎥                       ⎢0            \n",
       "⎢            ⎢                          ⎥                       ⎢             \n",
       "⎢            ⎢r_s⋅(r_s - y₁(t))         ⎥                       ⎢           -r\n",
       "⎢            ⎢─────────────────  0  0  0⎥                       ⎢0  ──────────\n",
       "⎢            ⎢         4                ⎥                       ⎢             \n",
       "⎢            ⎣     2⋅y₁ (t)             ⎦                       ⎣   2⋅(r_s - y\n",
       "⎢                                                                             \n",
       "⎢                                                                             \n",
       "⎣                                                                             \n",
       "\n",
       "                                                                              \n",
       "                                                                              \n",
       "_s               ⎤                                                            \n",
       "───────────  0  0⎥                                   ⎡        r_s     ⎤       \n",
       "       2         ⎥                                   ⎢0  0  ───────  0⎥       \n",
       "(t))⋅y₁ (t)      ⎥                                   ⎢      2⋅y₁(t)   ⎥       \n",
       "                 ⎥                                   ⎢                ⎥       \n",
       "0            0  0⎥                                   ⎢0  0     0     0⎥       \n",
       "                 ⎥                                   ⎢                ⎥       \n",
       "0            0  0⎥                                   ⎢0  0     0     0⎥       \n",
       "                 ⎥                                   ⎢                ⎥       \n",
       "0            0  0⎦                                   ⎣0  0     0     0⎦       \n",
       "                                                                              \n",
       "                                                                              \n",
       "                                                                              \n",
       "                                                                              \n",
       "                           ⎤                                                  \n",
       "    0             0        ⎥                                                  \n",
       "                           ⎥                                                  \n",
       "                           ⎥                         ⎡0  0     0     0⎤       \n",
       "                           ⎥                         ⎢                ⎥       \n",
       "    0             0        ⎥                         ⎢        r_s     ⎥       \n",
       "                           ⎥                         ⎢0  0  ───────  0⎥       \n",
       "  -r_s                     ⎥                         ⎢      2⋅y₁(t)   ⎥       \n",
       " ───────          0        ⎥                         ⎢                ⎥       \n",
       " 2⋅y₁(t)                   ⎥                         ⎢0  0     0     0⎥       \n",
       "                           ⎥                         ⎢                ⎥       \n",
       "                  2        ⎥                         ⎣0  0     0     0⎦       \n",
       "          -r_s⋅sin (y₂(t)) ⎥                                                  \n",
       "    0     ─────────────────⎥                                                  \n",
       "               2⋅y₁(t)     ⎦                                                  \n",
       "                                                                              \n",
       "                              ⎡-r_s⋅(r_s - y₁(t))                             \n",
       "                              ⎢───────────────────            0             0 \n",
       "                              ⎢          4                                    \n",
       "0             0  0⎤           ⎢      2⋅y₁ (t)                                 \n",
       "                  ⎥           ⎢                                               \n",
       "0             0  0⎥           ⎢                              r_s              \n",
       "                  ⎥           ⎢         0           ──────────────────────  0 \n",
       "_s                ⎥           ⎢                                       2       \n",
       "────────────  0  0⎥           ⎢                     2⋅(r_s - y₁(t))⋅y₁ (t)    \n",
       "        2         ⎥           ⎢                                               \n",
       "₁(t))⋅y₁ (t)      ⎥           ⎢         0                     0             0 \n",
       "                  ⎥           ⎢                                               \n",
       "0             0  0⎦           ⎢                                               \n",
       "                              ⎢                                               \n",
       "                              ⎢         0                     0             0 \n",
       "                              ⎣                                               \n",
       "                                                                              \n",
       "                                                                              \n",
       "                                                                              \n",
       "0             0  0⎤                                                           \n",
       "                  ⎥                                   ⎡0  0    0    0⎤        \n",
       "0             0  0⎥                                   ⎢              ⎥        \n",
       "                  ⎥                                   ⎢0  0    0    0⎥        \n",
       "0             0  0⎥                                   ⎢              ⎥        \n",
       "                  ⎥                                   ⎢0  0    0    0⎥        \n",
       "_s                ⎥                                   ⎢              ⎥        \n",
       "────────────  0  0⎥                                   ⎢      -r_s    ⎥        \n",
       "        2         ⎥                                   ⎢0  0  ─────  0⎥        \n",
       "₁(t))⋅y₁ (t)      ⎦                                   ⎣      y₁(t)   ⎦        \n",
       "                                                                              \n",
       "                                                                              \n",
       "                                                                              \n",
       "\n",
       "                                                                          ⎤\n",
       "                                                                          ⎥\n",
       "                                 ⎡                2       ⎤               ⎥\n",
       "                                 ⎢         r_s⋅sin (y₂(t))⎥               ⎥\n",
       "                                 ⎢0  0  0  ───────────────⎥               ⎥\n",
       "                                 ⎢             2⋅y₁(t)    ⎥               ⎥\n",
       "                                 ⎢                        ⎥               ⎥\n",
       "                                 ⎢0  0  0         0       ⎥               ⎥\n",
       "                                 ⎢                        ⎥               ⎥\n",
       "                                 ⎢0  0  0         0       ⎥               ⎥\n",
       "                                 ⎢                        ⎥               ⎥\n",
       "                                 ⎣0  0  0         0       ⎦               ⎥\n",
       "                                                                          ⎥\n",
       "                                                                          ⎥\n",
       "                                                                          ⎥\n",
       "                                                                          ⎥\n",
       "                                                                          ⎥\n",
       "                                                                          ⎥\n",
       "                                 ⎡0  0  0         0       ⎤               ⎥\n",
       "                                 ⎢                        ⎥               ⎥\n",
       "                                 ⎢                2       ⎥               ⎥\n",
       "                                 ⎢         r_s⋅sin (y₂(t))⎥               ⎥\n",
       "                                 ⎢0  0  0  ───────────────⎥               ⎥\n",
       "                                 ⎢             2⋅y₁(t)    ⎥               ⎥\n",
       "                                 ⎢                        ⎥               ⎥\n",
       "                                 ⎢0  0  0         0       ⎥               ⎥\n",
       "                                 ⎢                        ⎥               ⎥\n",
       "                                 ⎣0  0  0         0       ⎦               ⎥\n",
       "                                                                          ⎥\n",
       "                                                                          ⎥\n",
       "                                                                          ⎥\n",
       "                                                                          ⎥\n",
       "                ⎤                                                         ⎥\n",
       "        0       ⎥                                                         ⎥\n",
       "                ⎥                                                         ⎥\n",
       "                ⎥               ⎡0  0  0          0        ⎤              ⎥\n",
       "                ⎥               ⎢                          ⎥              ⎥\n",
       "                ⎥               ⎢0  0  0          0        ⎥              ⎥\n",
       "        0       ⎥               ⎢                          ⎥              ⎥\n",
       "                ⎥               ⎢                 2        ⎥              ⎥\n",
       "                ⎥               ⎢         -r_s⋅sin (y₂(t)) ⎥              ⎥\n",
       "                ⎥               ⎢0  0  0  ─────────────────⎥              ⎥\n",
       "        0       ⎥               ⎢               y₁(t)      ⎥              ⎥\n",
       "                ⎥               ⎢                          ⎥              ⎥\n",
       "        2       ⎥               ⎣0  0  0          0        ⎦              ⎥\n",
       " r_s⋅sin (y₂(t))⎥                                                         ⎥\n",
       " ───────────────⎥                                                         ⎥\n",
       "      y₁(t)     ⎦                                                         ⎥\n",
       "                                                                          ⎥\n",
       "                   ⎡-r_s⋅(r_s - y₁(t))                                   ⎤⎥\n",
       "                   ⎢───────────────────            0               0    0⎥⎥\n",
       "                   ⎢          4                                          ⎥⎥\n",
       "                   ⎢      2⋅y₁ (t)                                       ⎥⎥\n",
       "                   ⎢                                                     ⎥⎥\n",
       "                   ⎢                              r_s                    ⎥⎥\n",
       "                   ⎢         0           ──────────────────────    0    0⎥⎥\n",
       "                   ⎢                                       2             ⎥⎥\n",
       "                   ⎢                     2⋅(r_s - y₁(t))⋅y₁ (t)          ⎥⎥\n",
       "                   ⎢                                                     ⎥⎥\n",
       "                   ⎢                                              r_s    ⎥⎥\n",
       "                   ⎢         0                     0             ─────  0⎥⎥\n",
       "                   ⎢                                             y₁(t)   ⎥⎥\n",
       "                   ⎢                                                     ⎥⎥\n",
       "                   ⎣         0                     0               0    0⎦⎦"
      ]
     },
     "execution_count": 40,
     "metadata": {},
     "output_type": "execute_result"
    }
   ],
   "source": [
    "R_abcd"
   ]
  },
  {
   "cell_type": "code",
   "execution_count": 41,
   "metadata": {},
   "outputs": [
    {
     "data": {
      "text/latex": [
       "$$\\left[\\begin{matrix}\\frac{r_{s} \\left(- r_{s} + \\operatorname{y_{1}}{\\left (t \\right )}\\right)}{\\operatorname{y_{1}}^{4}{\\left (t \\right )}} + \\frac{r_{s} \\left(r_{s} - \\operatorname{y_{1}}{\\left (t \\right )}\\right)}{\\operatorname{y_{1}}^{4}{\\left (t \\right )}} & 0 & 0 & 0\\\\0 & 0 & 0 & 0\\\\0 & 0 & 0 & 0\\\\0 & 0 & 0 & 0\\end{matrix}\\right]$$"
      ],
      "text/plain": [
       "⎡r_s⋅(-r_s + y₁(t))   r_s⋅(r_s - y₁(t))         ⎤\n",
       "⎢────────────────── + ─────────────────  0  0  0⎥\n",
       "⎢        4                    4                 ⎥\n",
       "⎢      y₁ (t)               y₁ (t)              ⎥\n",
       "⎢                                               ⎥\n",
       "⎢                  0                     0  0  0⎥\n",
       "⎢                                               ⎥\n",
       "⎢                  0                     0  0  0⎥\n",
       "⎢                                               ⎥\n",
       "⎣                  0                     0  0  0⎦"
      ]
     },
     "execution_count": 41,
     "metadata": {},
     "output_type": "execute_result"
    }
   ],
   "source": [
    "R_uv = (sdg.compute_ricci_tensor(R_abcd, 4))\n",
    "R_uv"
   ]
  },
  {
   "cell_type": "code",
   "execution_count": 42,
   "metadata": {},
   "outputs": [
    {
     "data": {
      "image/png": "[encoded data removed]",
      "text/latex": [
       "$$0$$"
      ],
      "text/plain": [
       "0"
      ]
     },
     "execution_count": 42,
     "metadata": {},
     "output_type": "execute_result"
    }
   ],
   "source": [
    "simplify(R_uv[0,0])"
   ]
  },
  {
   "cell_type": "code",
   "execution_count": 43,
   "metadata": {},
   "outputs": [
    {
     "data": {
      "text/latex": [
       "$$\\left[\\begin{matrix}\\left[\\begin{matrix}0 & 0 & 0 & 0\\\\0 & - \\frac{r_{s}}{\\left(r_{s} - \\operatorname{y_{1}}{\\left (t \\right )}\\right) \\operatorname{y_{1}}^{2}{\\left (t \\right )}} & 0 & 0\\\\0 & 0 & - \\frac{r_{s}}{2 \\operatorname{y_{1}}{\\left (t \\right )}} & 0\\\\0 & 0 & 0 & - \\frac{r_{s} \\sin^{2}{\\left (\\operatorname{y_{2}}{\\left (t \\right )} \\right )}}{2 \\operatorname{y_{1}}{\\left (t \\right )}}\\end{matrix}\\right] & \\left[\\begin{matrix}0 & 0 & 0 & 0\\\\0 & 0 & 0 & 0\\\\0 & 0 & 0 & 0\\\\0 & 0 & 0 & 0\\end{matrix}\\right] & \\left[\\begin{matrix}0 & 0 & 0 & 0\\\\0 & 0 & 0 & 0\\\\0 & 0 & 0 & 0\\\\0 & 0 & 0 & 0\\end{matrix}\\right] & \\left[\\begin{matrix}0 & 0 & 0 & 0\\\\0 & 0 & 0 & 0\\\\0 & 0 & 0 & 0\\\\0 & 0 & 0 & 0\\end{matrix}\\right]\\\\\\left[\\begin{matrix}0 & 0 & 0 & 0\\\\0 & 0 & 0 & 0\\\\0 & 0 & 0 & 0\\\\0 & 0 & 0 & 0\\end{matrix}\\right] & \\left[\\begin{matrix}\\frac{r_{s} \\left(r_{s} - \\operatorname{y_{1}}{\\left (t \\right )}\\right)}{\\operatorname{y_{1}}^{4}{\\left (t \\right )}} & 0 & 0 & 0\\\\0 & 0 & 0 & 0\\\\0 & 0 & - \\frac{r_{s}}{2 \\operatorname{y_{1}}{\\left (t \\right )}} & 0\\\\0 & 0 & 0 & - \\frac{r_{s} \\sin^{2}{\\left (\\operatorname{y_{2}}{\\left (t \\right )} \\right )}}{2 \\operatorname{y_{1}}{\\left (t \\right )}}\\end{matrix}\\right] & \\left[\\begin{matrix}0 & 0 & 0 & 0\\\\0 & 0 & 0 & 0\\\\0 & 0 & 0 & 0\\\\0 & 0 & 0 & 0\\end{matrix}\\right] & \\left[\\begin{matrix}0 & 0 & 0 & 0\\\\0 & 0 & 0 & 0\\\\0 & 0 & 0 & 0\\\\0 & 0 & 0 & 0\\end{matrix}\\right]\\\\\\left[\\begin{matrix}0 & 0 & 0 & 0\\\\0 & 0 & 0 & 0\\\\0 & 0 & 0 & 0\\\\0 & 0 & 0 & 0\\end{matrix}\\right] & \\left[\\begin{matrix}0 & 0 & 0 & 0\\\\0 & 0 & 0 & 0\\\\0 & 0 & 0 & 0\\\\0 & 0 & 0 & 0\\end{matrix}\\right] & \\left[\\begin{matrix}- \\frac{r_{s} \\left(r_{s} - \\operatorname{y_{1}}{\\left (t \\right )}\\right)}{2 \\operatorname{y_{1}}^{4}{\\left (t \\right )}} & 0 & 0 & 0\\\\0 & \\frac{r_{s}}{2 \\left(r_{s} - \\operatorname{y_{1}}{\\left (t \\right )}\\right) \\operatorname{y_{1}}^{2}{\\left (t \\right )}} & 0 & 0\\\\0 & 0 & 0 & 0\\\\0 & 0 & 0 & \\frac{r_{s} \\sin^{2}{\\left (\\operatorname{y_{2}}{\\left (t \\right )} \\right )}}{\\operatorname{y_{1}}{\\left (t \\right )}}\\end{matrix}\\right] & \\left[\\begin{matrix}0 & 0 & 0 & 0\\\\0 & 0 & 0 & 0\\\\0 & 0 & 0 & 0\\\\0 & 0 & 0 & 0\\end{matrix}\\right]\\\\\\left[\\begin{matrix}0 & 0 & 0 & 0\\\\0 & 0 & 0 & 0\\\\0 & 0 & 0 & 0\\\\0 & 0 & 0 & 0\\end{matrix}\\right] & \\left[\\begin{matrix}0 & 0 & 0 & 0\\\\0 & 0 & 0 & 0\\\\0 & 0 & 0 & 0\\\\0 & 0 & 0 & 0\\end{matrix}\\right] & \\left[\\begin{matrix}0 & 0 & 0 & 0\\\\0 & 0 & 0 & 0\\\\0 & 0 & 0 & 0\\\\0 & 0 & 0 & 0\\end{matrix}\\right] & \\left[\\begin{matrix}- \\frac{r_{s} \\left(r_{s} - \\operatorname{y_{1}}{\\left (t \\right )}\\right)}{2 \\operatorname{y_{1}}^{4}{\\left (t \\right )}} & 0 & 0 & 0\\\\0 & \\frac{r_{s}}{2 \\left(r_{s} - \\operatorname{y_{1}}{\\left (t \\right )}\\right) \\operatorname{y_{1}}^{2}{\\left (t \\right )}} & 0 & 0\\\\0 & 0 & \\frac{r_{s}}{\\operatorname{y_{1}}{\\left (t \\right )}} & 0\\\\0 & 0 & 0 & 0\\end{matrix}\\right]\\end{matrix}\\right]$$"
      ],
      "text/plain": [
       "⎡⎡0           0               0             0        ⎤                        \n",
       "⎢⎢                                                   ⎥                        \n",
       "⎢⎢          -r_s                                     ⎥                        \n",
       "⎢⎢0  ────────────────────     0             0        ⎥                        \n",
       "⎢⎢                   2                               ⎥                     ⎡0 \n",
       "⎢⎢   (r_s - y₁(t))⋅y₁ (t)                            ⎥                     ⎢  \n",
       "⎢⎢                                                   ⎥                     ⎢0 \n",
       "⎢⎢                          -r_s                     ⎥                     ⎢  \n",
       "⎢⎢0           0            ───────          0        ⎥                     ⎢0 \n",
       "⎢⎢                         2⋅y₁(t)                   ⎥                     ⎢  \n",
       "⎢⎢                                                   ⎥                     ⎣0 \n",
       "⎢⎢                                          2        ⎥                        \n",
       "⎢⎢                                  -r_s⋅sin (y₂(t)) ⎥                        \n",
       "⎢⎢0           0               0     ─────────────────⎥                        \n",
       "⎢⎣                                       2⋅y₁(t)     ⎦                        \n",
       "⎢                                                                             \n",
       "⎢                                                       ⎡r_s⋅(r_s - y₁(t))    \n",
       "⎢                                                       ⎢─────────────────  0 \n",
       "⎢                                                       ⎢        4            \n",
       "⎢                                                       ⎢      y₁ (t)         \n",
       "⎢                    ⎡0  0  0  0⎤                       ⎢                     \n",
       "⎢                    ⎢          ⎥                       ⎢        0          0 \n",
       "⎢                    ⎢0  0  0  0⎥                       ⎢                     \n",
       "⎢                    ⎢          ⎥                       ⎢                     \n",
       "⎢                    ⎢0  0  0  0⎥                       ⎢        0          0 \n",
       "⎢                    ⎢          ⎥                       ⎢                     \n",
       "⎢                    ⎣0  0  0  0⎦                       ⎢                     \n",
       "⎢                                                       ⎢                     \n",
       "⎢                                                       ⎢                     \n",
       "⎢                                                       ⎢        0          0 \n",
       "⎢                                                       ⎣                     \n",
       "⎢                                                                             \n",
       "⎢                                                                             \n",
       "⎢                                                                             \n",
       "⎢                                                                             \n",
       "⎢                                                                             \n",
       "⎢                                                                             \n",
       "⎢                    ⎡0  0  0  0⎤                                          ⎡0 \n",
       "⎢                    ⎢          ⎥                                          ⎢  \n",
       "⎢                    ⎢0  0  0  0⎥                                          ⎢0 \n",
       "⎢                    ⎢          ⎥                                          ⎢  \n",
       "⎢                    ⎢0  0  0  0⎥                                          ⎢0 \n",
       "⎢                    ⎢          ⎥                                          ⎢  \n",
       "⎢                    ⎣0  0  0  0⎦                                          ⎣0 \n",
       "⎢                                                                             \n",
       "⎢                                                                             \n",
       "⎢                                                                             \n",
       "⎢                                                                             \n",
       "⎢                                                                             \n",
       "⎢                                                                             \n",
       "⎢                                                                             \n",
       "⎢                                                                             \n",
       "⎢                                                                             \n",
       "⎢                    ⎡0  0  0  0⎤                                          ⎡0 \n",
       "⎢                    ⎢          ⎥                                          ⎢  \n",
       "⎢                    ⎢0  0  0  0⎥                                          ⎢0 \n",
       "⎢                    ⎢          ⎥                                          ⎢  \n",
       "⎢                    ⎢0  0  0  0⎥                                          ⎢0 \n",
       "⎢                    ⎢          ⎥                                          ⎢  \n",
       "⎢                    ⎣0  0  0  0⎦                                          ⎣0 \n",
       "⎢                                                                             \n",
       "⎢                                                                             \n",
       "⎢                                                                             \n",
       "⎣                                                                             \n",
       "\n",
       "                                                                              \n",
       "                                                                              \n",
       "                                                                              \n",
       "                                                                              \n",
       " 0  0  0⎤                                               ⎡0  0  0  0⎤          \n",
       "        ⎥                                               ⎢          ⎥          \n",
       " 0  0  0⎥                                               ⎢0  0  0  0⎥          \n",
       "        ⎥                                               ⎢          ⎥          \n",
       " 0  0  0⎥                                               ⎢0  0  0  0⎥          \n",
       "        ⎥                                               ⎢          ⎥          \n",
       " 0  0  0⎦                                               ⎣0  0  0  0⎦          \n",
       "                                                                              \n",
       "                                                                              \n",
       "                                                                              \n",
       "                                                                              \n",
       "                                                                              \n",
       "                           ⎤                                                  \n",
       "    0             0        ⎥                                                  \n",
       "                           ⎥                                                  \n",
       "                           ⎥                                                  \n",
       "                           ⎥                            ⎡0  0  0  0⎤          \n",
       "    0             0        ⎥                            ⎢          ⎥          \n",
       "                           ⎥                            ⎢0  0  0  0⎥          \n",
       "  -r_s                     ⎥                            ⎢          ⎥          \n",
       " ───────          0        ⎥                            ⎢0  0  0  0⎥          \n",
       " 2⋅y₁(t)                   ⎥                            ⎢          ⎥          \n",
       "                           ⎥                            ⎣0  0  0  0⎦          \n",
       "                  2        ⎥                                                  \n",
       "          -r_s⋅sin (y₂(t)) ⎥                                                  \n",
       "    0     ─────────────────⎥                                                  \n",
       "               2⋅y₁(t)     ⎦                                                  \n",
       "                                                                              \n",
       "                              ⎡-r_s⋅(r_s - y₁(t))                             \n",
       "                              ⎢───────────────────            0             0 \n",
       "                              ⎢          4                                    \n",
       "                              ⎢      2⋅y₁ (t)                                 \n",
       "                              ⎢                                               \n",
       " 0  0  0⎤                     ⎢                              r_s              \n",
       "        ⎥                     ⎢         0           ──────────────────────  0 \n",
       " 0  0  0⎥                     ⎢                                       2       \n",
       "        ⎥                     ⎢                     2⋅(r_s - y₁(t))⋅y₁ (t)    \n",
       " 0  0  0⎥                     ⎢                                               \n",
       "        ⎥                     ⎢         0                     0             0 \n",
       " 0  0  0⎦                     ⎢                                               \n",
       "                              ⎢                                               \n",
       "                              ⎢                                               \n",
       "                              ⎢         0                     0             0 \n",
       "                              ⎣                                               \n",
       "                                                                              \n",
       "                                                                              \n",
       "                                                                              \n",
       "                                                                              \n",
       "                                                                              \n",
       " 0  0  0⎤                                               ⎡0  0  0  0⎤          \n",
       "        ⎥                                               ⎢          ⎥          \n",
       " 0  0  0⎥                                               ⎢0  0  0  0⎥          \n",
       "        ⎥                                               ⎢          ⎥          \n",
       " 0  0  0⎥                                               ⎢0  0  0  0⎥          \n",
       "        ⎥                                               ⎢          ⎥          \n",
       " 0  0  0⎦                                               ⎣0  0  0  0⎦          \n",
       "                                                                              \n",
       "                                                                              \n",
       "                                                                              \n",
       "                                                                              \n",
       "\n",
       "                                                                          ⎤\n",
       "                                                                          ⎥\n",
       "                                                                          ⎥\n",
       "                                                                          ⎥\n",
       "                                        ⎡0  0  0  0⎤                      ⎥\n",
       "                                        ⎢          ⎥                      ⎥\n",
       "                                        ⎢0  0  0  0⎥                      ⎥\n",
       "                                        ⎢          ⎥                      ⎥\n",
       "                                        ⎢0  0  0  0⎥                      ⎥\n",
       "                                        ⎢          ⎥                      ⎥\n",
       "                                        ⎣0  0  0  0⎦                      ⎥\n",
       "                                                                          ⎥\n",
       "                                                                          ⎥\n",
       "                                                                          ⎥\n",
       "                                                                          ⎥\n",
       "                                                                          ⎥\n",
       "                                                                          ⎥\n",
       "                                                                          ⎥\n",
       "                                                                          ⎥\n",
       "                                                                          ⎥\n",
       "                                        ⎡0  0  0  0⎤                      ⎥\n",
       "                                        ⎢          ⎥                      ⎥\n",
       "                                        ⎢0  0  0  0⎥                      ⎥\n",
       "                                        ⎢          ⎥                      ⎥\n",
       "                                        ⎢0  0  0  0⎥                      ⎥\n",
       "                                        ⎢          ⎥                      ⎥\n",
       "                                        ⎣0  0  0  0⎦                      ⎥\n",
       "                                                                          ⎥\n",
       "                                                                          ⎥\n",
       "                                                                          ⎥\n",
       "                                                                          ⎥\n",
       "                                                                          ⎥\n",
       "                ⎤                                                         ⎥\n",
       "        0       ⎥                                                         ⎥\n",
       "                ⎥                                                         ⎥\n",
       "                ⎥                                                         ⎥\n",
       "                ⎥                                                         ⎥\n",
       "                ⎥                       ⎡0  0  0  0⎤                      ⎥\n",
       "        0       ⎥                       ⎢          ⎥                      ⎥\n",
       "                ⎥                       ⎢0  0  0  0⎥                      ⎥\n",
       "                ⎥                       ⎢          ⎥                      ⎥\n",
       "                ⎥                       ⎢0  0  0  0⎥                      ⎥\n",
       "        0       ⎥                       ⎢          ⎥                      ⎥\n",
       "                ⎥                       ⎣0  0  0  0⎦                      ⎥\n",
       "        2       ⎥                                                         ⎥\n",
       " r_s⋅sin (y₂(t))⎥                                                         ⎥\n",
       " ───────────────⎥                                                         ⎥\n",
       "      y₁(t)     ⎦                                                         ⎥\n",
       "                                                                          ⎥\n",
       "                   ⎡-r_s⋅(r_s - y₁(t))                                   ⎤⎥\n",
       "                   ⎢───────────────────            0               0    0⎥⎥\n",
       "                   ⎢          4                                          ⎥⎥\n",
       "                   ⎢      2⋅y₁ (t)                                       ⎥⎥\n",
       "                   ⎢                                                     ⎥⎥\n",
       "                   ⎢                              r_s                    ⎥⎥\n",
       "                   ⎢         0           ──────────────────────    0    0⎥⎥\n",
       "                   ⎢                                       2             ⎥⎥\n",
       "                   ⎢                     2⋅(r_s - y₁(t))⋅y₁ (t)          ⎥⎥\n",
       "                   ⎢                                                     ⎥⎥\n",
       "                   ⎢                                              r_s    ⎥⎥\n",
       "                   ⎢         0                     0             ─────  0⎥⎥\n",
       "                   ⎢                                             y₁(t)   ⎥⎥\n",
       "                   ⎢                                                     ⎥⎥\n",
       "                   ⎣         0                     0               0    0⎦⎦"
      ]
     },
     "execution_count": 43,
     "metadata": {},
     "output_type": "execute_result"
    }
   ],
   "source": [
    "R_abcd"
   ]
  },
  {
   "cell_type": "code",
   "execution_count": 44,
   "metadata": {},
   "outputs": [
    {
     "data": {
      "image/png": "[encoded data removed]",
      "text/latex": [
       "$$\\frac{r_{s} \\left(- r_{s} + \\operatorname{y_{1}}{\\left (t \\right )}\\right)}{\\operatorname{y_{1}}^{4}{\\left (t \\right )}} + \\frac{r_{s} \\left(r_{s} - \\operatorname{y_{1}}{\\left (t \\right )}\\right)}{\\operatorname{y_{1}}^{4}{\\left (t \\right )}}$$"
      ],
      "text/plain": [
       "r_s⋅(-r_s + y₁(t))   r_s⋅(r_s - y₁(t))\n",
       "────────────────── + ─────────────────\n",
       "        4                    4        \n",
       "      y₁ (t)               y₁ (t)     "
      ]
     },
     "execution_count": 44,
     "metadata": {},
     "output_type": "execute_result"
    }
   ],
   "source": [
    "\n",
    "\n",
    "R = sdg.compute_ricci_scalar(R_uv,4)\n",
    "R"
   ]
  },
  {
   "cell_type": "code",
   "execution_count": 46,
   "metadata": {},
   "outputs": [
    {
     "data": {
      "image/png": "[encoded data removed]",
      "text/latex": [
       "$$0$$"
      ],
      "text/plain": [
       "0"
      ]
     },
     "execution_count": 46,
     "metadata": {},
     "output_type": "execute_result"
    }
   ],
   "source": [
    "# Is the left over's from the Ricci tensor traceless ?\n",
    "\n",
    "C = 0\n",
    "for b in range(0,4):\n",
    "    for d in range(0,4):\n",
    "        if d == b:\n",
    "            for i in range(0,4):\n",
    "                for j in range(0,4):\n",
    "                    C += R_abcd[i,b,j,d]\n",
    "            \n",
    "simplify(C)"
   ]
  },
  {
   "cell_type": "code",
   "execution_count": null,
   "metadata": {
    "collapsed": true
   },
   "outputs": [],
   "source": []
  }
 ],
 "metadata": {
  "kernelspec": {
   "display_name": "Python 2",
   "language": "python",
   "name": "python2"
  },
  "language_info": {
   "codemirror_mode": {
    "name": "ipython",
    "version": 2
   },
   "file_extension": ".py",
   "mimetype": "text/x-python",
   "name": "python",
   "nbconvert_exporter": "python",
   "pygments_lexer": "ipython2",
   "version": "2.7.13"
  }
 },
 "nbformat": 4,
 "nbformat_minor": 2
}
