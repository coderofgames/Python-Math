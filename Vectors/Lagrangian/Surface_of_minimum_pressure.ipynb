{
 "cells": [
  {
   "cell_type": "markdown",
   "metadata": {},
   "source": [
    "### Surface of Minimum Pressure\n",
    "   \n",
    "This is a look at https://en.wikipedia.org/wiki/Newton%27s_minimal_resistance_problem, The mathematics for Newton's problem does not make satisfactory logical sense in the context of the calculus of variations. \n",
    "\n",
    "   \n",
    "### This is a work in progress derivation, no solution is assumed, problems with the derivation might exist.\n",
    "   \n",
    "The flux integral over a surface $S$ sums the components of the Force $F$ in the direction of the normal vector accross the total area $A$ of the surface.\n",
    "   \n",
    "$$ \\iint_S \\mathbf F\\cdot \\mathbf n dA $$\n",
    "   \n",
    "The function $\\mathbf F$ can be constant, with the normal as a function of the surface at the point. For a cylinder revolved around the $x$ axis, there is no need to double integrate. To evaluate the pressure on the surface, if the surface is moving in the positive x direction, we change reference frame to measure a constant pressure $p=F/A$ moving in the negative x direction.\n",
    "   \n",
    "$ \\int_0^a p \\mathbf n ds$,\n",
    "   \n",
    "This integral sums the total force, as its pressure times area, with area being constrained to 2 dimensions. To minimize the resitive force, this integral needs to be re-expressed in a variational formulation. The normal vector to a line is easily computed as follows\n",
    "   \n",
    "$$ n = -\\frac{1}{y'}$$\n",
    "   \n",
    "for straight lines, $y=m_1 x+c$ where the tangent (gradient) is $m_1 = y' = \\frac{dy}{dx}$ and the normal is given by, the normal is the inverse of the gradient (in 2D) $m_2 = -\\frac{1}{m_1}$.  and the integral becomes\n",
    "   \n",
    "$$\\int_0^a p \\mathbf n ds = - \\int_0^a p  \\frac{1}{y'} ds =  \\int_0^a  \\frac{1}{y'} \\sqrt{1+(y')^2}\\ dx $$\n",
    "   \n",
    "The pressure $p$ has been set to -1. Then to stationarize or to find the minimum pressure arc from x = 0 to x = a we apply the Beltrami equation, since the functional does not depend explictly on $x$.\n",
    "   \n",
    "$$ \\mathscr L - y'\\frac{\\partial \\mathscr L}{\\partial y'} = C$$\n",
    "   \n",
    "And $\\mathscr L =  \\frac{1}{y'} \\sqrt{1+(y')^2}$. This formulation should be performed with constraints.\n",
    "   \n",
    "$$\\frac{\\partial \\mathscr L}{\\partial y'} = -\\frac{1}{(y')^2}  \\sqrt{1+(y')^2} +  \\frac{1}{ \\sqrt{1+(y')^2}}$$\n",
    "   \n",
    "so The Beltrami is \n",
    "   \n",
    "$$ \\frac{1}{y'} \\sqrt{1+(y')^2} - y'\\left( -\\frac{1}{(y')^2}  \\sqrt{1+(y')^2} +  \\frac{1}{ \\sqrt{1+(y')^2}}\\right) = C$$\n",
    "   \n",
    "To simplify, set $B = y'$, and $A =   (1+B^2)$ then\n",
    "   \n",
    "$$ \\frac{1}{B} A^{1/2} +  \\frac{1}{B} A^{1/2} -  \\frac{B}{ A^{1/2}} = C$$\n",
    "   \n",
    "then\n",
    "\n",
    "$$\\begin{array}{cccc}  &\\frac{2}{B} A^{1/2} -  \\frac{B}{ A^{1/2}} & = & C\\\\\n",
    " \\implies &  \\frac{2A-B}{ B A^{1/2}} &=& C\\\\\n",
    "\\implies &   2(1+B^2)-B &=& C B A^{1/2}\n",
    "\\end{array}$$\n",
    "   \n",
    "since $A$ still contains a $B$ we have to square both sides, assuming multiple roots\n",
    "\n",
    "\n",
    "$$\\begin{array}{cccc}  &(2(1+B^2)-B)^2 &=& C^2B^2 (1+B^2) \\\\\n",
    " \\implies  &4(1+B^2)^2 -4 B(1+B^2) + B^2 - C^2B^2 - C^2 B^4&=&  0 \\\\\n",
    " \\implies  &4+8B^2+ 4B^4 -4 B-4B^3 + B^2 - C^2B^2 - C^2 B^4&=&  0 \\\\\n",
    " \\implies  &(9- C^2)B^2+ (4- C^2)B^4 -4 B^3-4 B +4 &=&  0 \\\\\n",
    "\\end{array}$$\n",
    "\n",
    "This is a 4th order algebraic equation, so there is probably a solution ...\n",
    "   \n",
    "\n",
    "\n",
    "> But will the equation be solvable (but hard) using constraints and lagrange multipliers ? We have not set the size of the cyclinder, or the height in the y direction yet.\n"
   ]
  },
  {
   "cell_type": "code",
   "execution_count": null,
   "metadata": {
    "collapsed": true
   },
   "outputs": [],
   "source": []
  }
 ],
 "metadata": {
  "kernelspec": {
   "display_name": "Python 2",
   "language": "python",
   "name": "python2"
  },
  "language_info": {
   "codemirror_mode": {
    "name": "ipython",
    "version": 2
   },
   "file_extension": ".py",
   "mimetype": "text/x-python",
   "name": "python",
   "nbconvert_exporter": "python",
   "pygments_lexer": "ipython2",
   "version": "2.7.13"
  }
 },
 "nbformat": 4,
 "nbformat_minor": 2
}
