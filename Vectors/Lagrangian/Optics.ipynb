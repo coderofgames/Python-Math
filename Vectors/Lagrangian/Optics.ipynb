{
 "cells": [
  {
   "cell_type": "markdown",
   "metadata": {},
   "source": [
    "### Optioal Problem\n",
    "   \n",
    "Fermat's principle states that light travels on the path that takes the shortest time. This does deserve a Quantum mechanical explanation, however for the Calculus of variations, the problem can be formulated differently.\n",
    "   \n",
    "### Background\n",
    "   \n",
    "##### Reflection Equation\n",
    "   \n",
    "In vector notation, a reflected ray will take on the following normalized direction, given a surface normal vector and a normalized incident ray direction\n",
    "   \n",
    "$$\\mathbf r = 2(\\mathbf n \\cdot \\mathbf l )\\mathbf n - \\mathbf l $$,\n",
    "   \n",
    "where $\\mathbf l$ is the normalized incident ray direction, $\\mathbf n$ is the surface normal, and $\\mathbf r$ is the reflected ray direction. This is also written concisely in Matrix notation using Householder reflectors.\n",
    "   \n",
    "##### Snell's law\n",
    "   \n",
    "The simple form of Snell's law for light refracting between two mediums, say two plates of glass with different indexes of refraction $n_1$ and $n_2$, can be written\n",
    "   \n",
    "$$ \\frac{\\sin\\phi_1}{c_1}= \\frac{\\sin\\phi_2}{c_2}$$\n",
    "   \n",
    "where $c_1$ is the velocity of light in the medium with refractive index $n_1$ and  $c_2$ is the velocity of light in the medium with refractive index $n_2$. The relationshiup between velocity and refractive index is\n",
    "   \n",
    "$$ c_1 = \\frac{1}{n_1}, \\qquad c_2 = \\frac{1}{c_2}$$\n",
    "   \n",
    "### Variational Integral\n",
    "   \n",
    "The equation $s = vt $ implies $ds = v dt $ therefore $  t=\\int dt=\\int \\frac{ds}{v}$. This formula crops up many times.\n",
    "   \n",
    "$$ t = \\int_a^b \\frac{1}{v(x)} \\sqrt{1+ y\\prime^2} dx$$\n",
    "   \n",
    "where $v(x)$ is velocity as a function of x, taking the role of the velocity as a function of position in a medium with a continuously varying refractive index, and $y\\prime = \\frac{dy}{dx} $. The $ds$ is from the arc length integral.\n",
    "   \n",
    "\n",
    "   \n",
    "#### example\n",
    "   \n",
    "> $v(x) = x$\n",
    "   \n",
    "The action is \n",
    "   \n",
    "$$ \\delta G = \\delta \\int_a^b \\frac{1}{x} \\sqrt{1+ y\\prime^2} dx$$\n",
    "    \n",
    "Therefore the Euler-Lagrage equation is applied since the functional is an explicit function of $x$.\n",
    "\n",
    "so, $\\frac{\\partial \\mathscr L}{\\partial y\\prime} = \\mathscr L_{y\\prime} = \\frac{1}{x}\\frac{y\\prime}{\\sqrt{1+y\\prime^2}}$ and $\\frac{\\partial \\mathscr L}{\\partial y} = 0$ therefore\n",
    "   \n",
    "$$\\frac{\\partial }{\\partial x}\\left(\\frac{\\partial \\mathscr L}{\\partial y\\prime}\\right) = \\frac{\\partial }{\\partial x}\\left( \\frac{1}{x}\\frac{y\\prime}{\\sqrt{1+y\\prime^2}}\\right) = 0 $$\n",
    "\n",
    "can be immediately integrated because the other derivative $\\frac{\\partial \\mathscr L}{\\partial y}=0$. \n",
    "   \n",
    "$$  \\frac{1}{x}\\frac{y\\prime}{\\sqrt{1+y\\prime^2}} = C $$\n",
    "   \n",
    "(since the derivative of a constant is zero). Then \n",
    "   \n",
    "$$\\begin{array} {ccc}\n",
    "& y\\prime &=& Cx \\sqrt{1+y\\prime^2}\\\\\n",
    "\\implies & y\\prime^2 &=& C^2x^2 (1+y\\prime^2)\\\\\n",
    "\\implies & y\\prime^2 (1-C^2x^2) &=& C^2x^2\\\\\n",
    "\\implies & y  &=& \\int \\frac{C x}{\\sqrt{1-C^2x^2}}dx\n",
    "\\end{array}$$"
   ]
  },
  {
   "cell_type": "code",
   "execution_count": 1,
   "metadata": {},
   "outputs": [
    {
     "data": {
      "text/latex": [
       "$$c \\left(\\begin{cases} \\frac{x^{2}}{2} & \\text{for}\\: c = 0 \\\\- \\frac{1}{c^{2}} \\sqrt{- c^{2} x^{2} + 1} & \\text{otherwise} \\end{cases}\\right)$$"
      ],
      "text/plain": [
       "  ⎛⎧         2                   ⎞\n",
       "  ⎜⎪        x                    ⎟\n",
       "  ⎜⎪        ──          for c = 0⎟\n",
       "  ⎜⎪        2                    ⎟\n",
       "  ⎜⎪                             ⎟\n",
       "c⋅⎜⎨    _____________            ⎟\n",
       "  ⎜⎪   ╱    2  2                 ⎟\n",
       "  ⎜⎪-╲╱  - c ⋅x  + 1             ⎟\n",
       "  ⎜⎪──────────────────  otherwise⎟\n",
       "  ⎜⎪         2                   ⎟\n",
       "  ⎝⎩        c                    ⎠"
      ]
     },
     "execution_count": 1,
     "metadata": {},
     "output_type": "execute_result"
    }
   ],
   "source": [
    "from sympy import *\n",
    "init_printing()\n",
    "x,c = symbols(\"x,c\")\n",
    "y = Function(\"y\")\n",
    "\n",
    "integrate( c*x / (sqrt(1-c**2*x**2)),x)"
   ]
  },
  {
   "cell_type": "markdown",
   "metadata": {},
   "source": [
    "Taking the case when C is non-zero, these are the equations of circles \n",
    "\n",
    "$$\\begin{array} {ccc}\n",
    "y &=& -\\frac{1}{c} \\sqrt{1-c^2 x^2}\\\\\n",
    "c^2y^2 &=&  1-c^2 x^2\\\\\n",
    "y^2 +  x^2 &=&  \\frac{1}{c^2}\n",
    "\\end{array}$$"
   ]
  },
  {
   "cell_type": "code",
   "execution_count": 2,
   "metadata": {},
   "outputs": [
    {
     "data": {
      "image/png": "[encoded data removed]",
      "text/latex": [
       "$$\\frac{c x}{\\sqrt{- c^{2} x^{2} + 1}}$$"
      ],
      "text/plain": [
       "      c⋅x       \n",
       "────────────────\n",
       "   _____________\n",
       "  ╱    2  2     \n",
       "╲╱  - c ⋅x  + 1 "
      ]
     },
     "execution_count": 2,
     "metadata": {},
     "output_type": "execute_result"
    }
   ],
   "source": [
    "diff( c*(-1/c**2)*sqrt(1-c**2 * x**2),x)"
   ]
  },
  {
   "cell_type": "markdown",
   "metadata": {},
   "source": [
    "### Variation Notation\n",
    "   \n",
    "$$ G(y) = \\int \\mathscr L(y,y\\prime,x) dx $$\n",
    "   \n",
    "Then the variation of $\\delta G(y,h) = \\frac{d}{d\\epsilon}G(y + \\epsilon h)\\big|_{\\epsilon = 0} = \\lim_{\\epsilon\\to 0} \\frac{G(y+\\epsilon h) - G(y)}{\\epsilon}$ is \n",
    "   \n",
    "$$ \\delta G(y,h) = \\frac{d}{d\\epsilon}\\int \\mathscr L(y + \\epsilon h,y\\prime + \\epsilon h\\prime ,x) dx \\big |_{\\epsilon=0} $$\n",
    "   \n",
    "Then the first variation of $yy\\prime$ is given by wikipedia as\n",
    "   \n",
    "$$\\frac{d}{d\\epsilon} \\int (y+\\epsilon h)(y\\prime + \\epsilon h\\prime) dx \\big|_{\\epsilon=0} =\\int\\frac{d}{d\\epsilon} ( y y\\prime+\\epsilon h y\\prime + y \\epsilon h\\prime + \\epsilon^2 h h\\prime) dx \\big|_{\\epsilon=0} = \\int ( h y\\prime + y h\\prime + 2\\epsilon h h\\prime) dx \\big|_{\\epsilon=0} = \\int( h y\\prime + y h\\prime )dx $$\n",
    "   \n",
    "This final term is just the total differential $ \\frac{dF}{d\\epsilon} = \\frac{\\partial F}{\\partial y}\\frac{\\partial y}{\\partial\\epsilon} + \\frac{\\partial F}{ \\partial y\\prime}\\frac{ \\partial y\\prime}{\\partial\\epsilon} $."
   ]
  },
  {
   "cell_type": "markdown",
   "metadata": {},
   "source": [
    "### Geodesics (Tensor Notation)\n",
    "   \n",
    "Repeating from my notes about Tensors. A straight line (in curved space) is a curve that parallel transports its tangent vector. \n",
    "   \n",
    "$$b^i =\\frac{\\partial^2 x^i}{\\partial s^2}  + \\Gamma^i_{qr}  \\frac{\\partial x^q}{\\partial s}\\frac{\\partial x^r}{\\partial s} = 0$$\n",
    "   \n",
    "so a geodesic is given by the solutions $x^i = x^i(s)$ to the system of equations $b^i = 0$ as defined above. (for positive definite metrics)."
   ]
  },
  {
   "cell_type": "markdown",
   "metadata": {},
   "source": [
    "### Derivation of the Christoffel Symbols\n",
    "   \n",
    "For the information used in this part, http://people.uncw.edu/hermanr/GR/geodesic.pdf. I have chosen slightly different notation and different indices however the method of resolving the mathematics is still the same.\n",
    "\n",
    "Forming the line element with a metric\n",
    "   \n",
    "$$ ds^2 = g_{11} (dx^1)^2+ g_{22} (dx^2)^2 +  g_{33} (dx^3)^2 + 2 g_{12} (dx^1) (dx^2) + 2 g_{13} (dx^1) (dx^3) +2 g_{23} (dx^2) (dx^3)=  g_{ij}dx^i dx^j $$\n",
    "   \n",
    "Then forming the integral $ds$.\n",
    "   \n",
    "$$ \\int ds = \\int_A^B \\sqrt{g_{ij}dx^i dx^j} $$\n",
    "   \n",
    "Then forming the derivative with respect to time :\n",
    "   \n",
    "$$ s =  \\int ds = \\int_A^B \\sqrt{g_{ij}\\frac{dx^i}{dt}\\frac{ dx^j}{dt}} dt = \\int L(x^i,\\frac{dx^i}{dt} ) dt $$\n",
    "   \n",
    "And $ L = \\frac{ds}{dt} = \\frac{d}{dt}\\int ds = \\frac{d}{dt}\\int L dt $. The Euler Lagrange Equation \n",
    "   \n",
    "$$ \\frac{\\partial L}{ \\partial x^k} - \\frac{\\partial}{\\partial t}\\left(\\frac{\\partial L}{\\partial \\dot x^k}\\right) $$ \n",
    "   \n",
    "Is applied ... The first term\n",
    "   \n",
    "$$\\frac{\\partial L}{ \\partial x^k} = \\frac{\\partial }{ \\partial x^k}\\left(\\sqrt{g_{ij}\\frac{dx^i}{dt}\\frac{ dx^j}{dt}}\\right) = \\frac{1}{2}\\frac{1}{\\sqrt{g_{ij}\\frac{dx^i}{dt}\\frac{ dx^j}{dt}}}\\frac{\\partial g_{ij}}{\\partial x^k} \\frac{\\partial x^i}{\\partial t}\\frac{\\partial x^j}{\\partial t}= \\frac{1}{2 L } \\frac{\\partial g_{ij}}{\\partial x^k}\\frac{\\partial x^i}{\\partial t}\\frac{\\partial x^j}{\\partial t}$$\n",
    "   \n",
    "The term\n",
    "   \n",
    "$$ \\frac{\\partial L}{\\partial \\dot x^k} = \\frac{\\partial }{\\partial \\dot x^k} \\left(\\sqrt{g_{ij}\\dot x^i \\dot x^j }\\right)  = \\frac{1}{2L} g_{ij}\\left( \\delta^i_k \\dot x^j + \\dot x^i \\delta^j_k \\right) =\\frac{1}{2L} \\left( g_{kj} \\dot x^j + \\dot x^i g_{ik} \\right) = \\frac{1}{L} g_{ij} \\dot x^j $$\n",
    "   \n",
    "using symmetry of the metric and the fact that i and j are dummy indices. Also Division by $L = \\frac{ds}{dt}$ is the conversion $\\frac{dt}{ds}\\frac{dx}{dt} = \\frac{dx}{ds} $ where arc length is a parameter.\n",
    "\n",
    "Then the derivative of the previous term\n",
    "   \n",
    "$$ \\frac{\\partial}{\\partial t} \\left( \\frac{1}{L} g_{ij} \\dot x^j \\right) = -\\frac{1}{L^2}\\dot L g_{ij} \\dot x^j +\\frac{1}{L} g_{ij} \\ddot x^j = -\\frac{1}{L^2} g_{ij} \\dot L\\dot x^j +\\frac{1}{L^2} g_{ij} L\\ddot x^j = \\frac{1}{L^2} g_{ij} (-\\dot L\\dot x^j + L\\ddot x^j)$$\n",
    "   \n",
    "The negative sign on the $\\dot L \\dot x^j$ means it won't factorize into the $\\frac{d}{dt}\\left( L \\dot x\\right) $. This means we cannot differentiate $L$ conveniently. So a cleaner solution is obtained by transforming the equation using the fact that functions of the kind $ f = f(t(s))$ have derivatives \n",
    "\n",
    "$$\\frac{df}{ds} = \\frac{df}{dt}\\frac{dt}{ds} = \\frac{df}{dt} \\frac{1}{L}$$\n",
    "\n",
    "From the definition of the original integral of L. Therefore $\\frac{df}{dt} = L\\frac{df}{ds}$. Then\n",
    "   \n",
    "$$ L \\frac{\\partial}{\\partial s} \\left(  g_{ij} \\frac{ \\partial x^j}{\\partial s} \\right)=L \\left(g_{ij} \\frac{ \\partial ^2 x^j}{\\partial s^2}+ \\left(\\frac{\\partial g_{ij}}{\\partial s}\\right) \\frac{\\partial x^j}{\\partial s} \\right)  = L \\left(g_{ij} \\frac{ \\partial ^2 x^j}{\\partial s^2}+ \\left(\\frac{\\partial g_{ij}}{\\partial x^p} \\frac{\\partial x^p}{\\partial s}\\right) \\frac{\\partial x^j}{\\partial s} \\right) = L \\left(g_{ij} \\frac{ \\partial ^2 x^j}{\\partial s^2}+ \\frac{1}{2}\\left(\\frac{\\partial g_{ip}}{\\partial x^j} + \\frac{\\partial g_{jp}}{\\partial x^i} \\right)\\frac{\\partial x^i}{\\partial s} \\frac{\\partial x^j}{\\partial s} \\right)$$\n",
    "   \n",
    "where the last term is an identity using the symmetry of the metric. Now The Euler Lagrange equtions become\n",
    "   \n",
    "$$\\frac{L}{2 } \\frac{\\partial g_{ij}}{\\partial x^k}\\frac{\\partial x^i}{\\partial s}\\frac{\\partial x^j}{\\partial s}-L \\left(g_{ij} \\frac{ \\partial ^2 x^j}{\\partial s^2}+ \\frac{1}{2}\\left(\\frac{\\partial g_{ip}}{\\partial x^j} + \\frac{\\partial g_{jp}}{\\partial x^i} \\right)\\frac{\\partial x^i}{\\partial s} \\frac{\\partial x^j}{\\partial s} \\right) = 0$$ \n",
    "   \n",
    "Since multiplying the first term by $L^2$ trsnsforms both derivatives via the definition $L = \\frac{ds}{dt}$. Now the first terms indices can be changed since they are dummy indices (or they just represent the isolated sum over the index)\n",
    "   \n",
    "$$\\sum_k^3 \\frac{L}{2 } \\frac{\\partial g_{ij}}{\\partial x^k}\\frac{\\partial x^i}{\\partial s}\\frac{\\partial x^j}{\\partial s}  = \\sum_p^3\\frac{L}{2 } \\frac{\\partial g_{ij}}{\\partial x^p}\\frac{\\partial x^i}{\\partial s}\\frac{\\partial x^j}{\\partial s} $$\n",
    "   \n",
    "Now juggling the equation gives\n",
    "   \n",
    "$$\\begin{array}{ccc}\n",
    "&\\frac{L}{2 } \\frac{\\partial g_{ij}}{\\partial x^p}\\frac{\\partial x^i}{\\partial s}\\frac{\\partial x^j}{\\partial s}-L \\left(g_{ij} \\frac{ \\partial ^2 x^j}{\\partial s^2}+ \\frac{1}{2}\\left(\\frac{\\partial g_{ip}}{\\partial x^j} + \\frac{\\partial g_{jp}}{\\partial x^i} \\right)\\frac{\\partial x^i}{\\partial s} \\frac{\\partial x^j}{\\partial s} \\right) &=& 0\\\\\n",
    "\\implies & \\frac{L}{2 } \\frac{\\partial g_{ij}}{\\partial x^p}\\frac{\\partial x^i}{\\partial s}\\frac{\\partial x^j}{\\partial s} &=&L \\left(g_{ij} \\frac{ \\partial ^2 x^j}{\\partial s^2}+ \\frac{1}{2}\\left(\\frac{\\partial g_{ip}}{\\partial x^j} + \\frac{\\partial g_{jp}}{\\partial x^i} \\right)\\frac{\\partial x^i}{\\partial s} \\frac{\\partial x^j}{\\partial s} \\right) \\\\\n",
    "\\implies & \\frac{1}{2 } \\frac{\\partial g_{ij}}{\\partial x^p}\\frac{\\partial x^i}{\\partial s}\\frac{\\partial x^j}{\\partial s}  -\\frac{1}{2}\\left(\\frac{\\partial g_{ip}}{\\partial x^j} + \\frac{\\partial g_{jp}}{\\partial x^i} \\right)\\frac{\\partial x^i}{\\partial s} \\frac{\\partial x^j}{\\partial s}  &=& g_{ij} \\frac{ \\partial ^2 x^j}{\\partial s^2}\\\\\n",
    "\\implies & \\frac{1}{2 } \\left(\\frac{\\partial g_{ij}}{\\partial x^p} -\\frac{\\partial g_{ip}}{\\partial x^j} - \\frac{\\partial g_{jp}}{\\partial x^i} \\right)\\frac{\\partial x^i}{\\partial s} \\frac{\\partial x^j}{\\partial s}  &=& g_{ij} \\frac{ \\partial ^2 x^j}{\\partial s^2}\\\\\n",
    "\\implies & -\\frac{1}{2 } \\left(\\frac{-\\partial g_{ik}}{\\partial x^p} +\\frac{\\partial g_{ip}}{\\partial x^k} + \\frac{\\partial g_{kp}}{\\partial x^i} \\right)\\frac{\\partial x^i}{\\partial s} \\frac{\\partial x^k}{\\partial s}  &=& g_{ij} \\frac{ \\partial ^2 x^j}{\\partial s^2}\\\\\n",
    "\\implies & -(g_{jp})^{-1}\\frac{1}{2 } \\left(-\\frac{\\partial g_{ik}}{\\partial x^p} +\\frac{\\partial g_{ip}}{\\partial x^k} + \\frac{\\partial g_{kp}}{\\partial x^i} \\right)\\frac{\\partial x^i}{\\partial s} \\frac{\\partial x^k}{\\partial s}  &=&  \\frac{ \\partial ^2 x^j}{\\partial s^2}\\\\\n",
    "\\end{array}$$\n",
    "   \n",
    "and we get the Geodesic equation\n",
    "   \n",
    "$$   \\frac{ \\partial ^2 x^j}{\\partial s^2} + \\frac{g^{jp}}{2 } \\left(\\frac{-\\partial g_{ik}}{\\partial x^p} +\\frac{\\partial g_{ip}}{\\partial x^k} + \\frac{\\partial g_{kp}}{\\partial x^i} \\right)\\frac{\\partial x^i}{\\partial s} \\frac{\\partial x^k}{\\partial s} = 0$$\n",
    "   \n",
    "the $g^{jp} = (g_{jp})^{-1}$, where the dummy indices can be chosen, and where the Christoffel symbol is defined by\n",
    "   \n",
    "$$\\Gamma^j_{ik} = \\frac{1}{2}g^{jp}\\left( \\frac{\\partial g_{kp}}{\\partial x^i}+\\frac{\\partial g_{pi}}{\\partial x^k}-\\frac{\\partial g_{ik}}{\\partial x^p}\\right)$$\n",
    "   \n",
    "This explains how the Christoffel symbols seem to turn up in the Lagrangian's anyway, and also helps to fill in the picture of the covariant derivative and the generalized coordinates of Lagrangian dynamics. \n",
    "   \n",
    "\n"
   ]
  },
  {
   "cell_type": "code",
   "execution_count": null,
   "metadata": {
    "collapsed": true
   },
   "outputs": [],
   "source": []
  }
 ],
 "metadata": {
  "kernelspec": {
   "display_name": "Python 2",
   "language": "python",
   "name": "python2"
  },
  "language_info": {
   "codemirror_mode": {
    "name": "ipython",
    "version": 2
   },
   "file_extension": ".py",
   "mimetype": "text/x-python",
   "name": "python",
   "nbconvert_exporter": "python",
   "pygments_lexer": "ipython2",
   "version": "2.7.13"
  }
 },
 "nbformat": 4,
 "nbformat_minor": 2
}
