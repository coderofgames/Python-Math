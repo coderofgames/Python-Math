{
 "cells": [
  {
   "cell_type": "markdown",
   "metadata": {},
   "source": [
    "### Optioal Problem\n",
    "   \n",
    "Fermat's principle states that light travels on the path that takes the shortest time. This does deserve a Quantum mechanical explanation, however for the Calculus of variations, the problem can be formulated differently.\n",
    "   \n",
    "### Background\n",
    "   \n",
    "##### Reflection Equation\n",
    "   \n",
    "In vector notation, a reflected ray will take on the following normalized direction, given a surface normal vector and a normalized incident ray direction\n",
    "   \n",
    "$$\\mathbf r = 2(\\mathbf n \\cdot \\mathbf l )\\mathbf n - \\mathbf l $$,\n",
    "   \n",
    "where $\\mathbf l$ is the normalized incident ray direction, $\\mathbf n$ is the surface normal, and $\\mathbf r$ is the reflected ray direction. This is also written concisely in Matrix notation using Householder reflectors.\n",
    "   \n",
    "##### Snell's law\n",
    "   \n",
    "The simple form of Snell's law for light refracting between two mediums, say two plates of glass with different indexes of refraction $n_1$ and $n_2$, can be written\n",
    "   \n",
    "$$ \\frac{\\sin\\phi_1}{c_1}= \\frac{\\sin\\phi_2}{c_2}$$\n",
    "   \n",
    "where $c_1$ is the velocity of light in the medium with refractive index $n_1$ and  $c_2$ is the velocity of light in the medium with refractive index $n_2$. The relationshiup between velocity and refractive index is\n",
    "   \n",
    "$$ c_1 = \\frac{1}{n_1}, \\qquad c_2 = \\frac{1}{c_2}$$\n",
    "   \n",
    "### Variational Integral\n",
    "   \n",
    "The equation $s = vt $ implies $ds = v dt $ therefore $  t=\\int dt=\\int \\frac{ds}{v}$. This formula crops up many times.\n",
    "   \n",
    "$$ t = \\int_a^b \\frac{1}{v(x)} \\sqrt{1+ y\\prime^2} dx$$\n",
    "   \n",
    "where $v(x)$ is velocity as a function of x, taking the role of the velocity as a function of position in a medium with a continuously varying refractive index, and $y\\prime = \\frac{dy}{dx} $. The $ds$ is from the arc length integral.\n",
    "   \n",
    "\n",
    "   \n",
    "#### example\n",
    "   \n",
    "> $v(x) = x$\n",
    "   \n",
    "The action is \n",
    "   \n",
    "$$ \\delta G = \\delta \\int_a^b \\frac{1}{x} \\sqrt{1+ y\\prime^2} dx$$\n",
    "    \n",
    "Therefore the Euler-Lagrage equation is applied since the functional is an explicit function of $x$.\n",
    "\n",
    "so, $\\frac{\\partial \\mathscr L}{\\partial y\\prime} = \\mathscr L_{y\\prime} = \\frac{1}{x}\\frac{y\\prime}{\\sqrt{1+y\\prime^2}}$ and $\\frac{\\partial \\mathscr L}{\\partial y} = 0$ therefore\n",
    "   \n",
    "$$\\frac{\\partial }{\\partial x}\\left(\\frac{\\partial \\mathscr L}{\\partial y\\prime}\\right) = \\frac{\\partial }{\\partial x}\\left( \\frac{1}{x}\\frac{y\\prime}{\\sqrt{1+y\\prime^2}}\\right) = 0 $$\n",
    "\n",
    "can be immediately integrated because the other derivative $\\frac{\\partial \\mathscr L}{\\partial y}=0$. \n",
    "   \n",
    "$$  \\frac{1}{x}\\frac{y\\prime}{\\sqrt{1+y\\prime^2}} = C $$\n",
    "   \n",
    "(since the derivative of a constant is zero). Then \n",
    "   \n",
    "$$\\begin{array} {ccc}\n",
    "& y\\prime &=& Cx \\sqrt{1+y\\prime^2}\\\\\n",
    "\\implies & y\\prime^2 &=& C^2x^2 (1+y\\prime^2)\\\\\n",
    "\\implies & y\\prime^2 (1-C^2x^2) &=& C^2x^2\\\\\n",
    "\\implies & y  &=& \\int \\frac{C x}{\\sqrt{1-C^2x^2}}dx\n",
    "\\end{array}$$"
   ]
  },
  {
   "cell_type": "code",
   "execution_count": 13,
   "metadata": {},
   "outputs": [
    {
     "data": {
      "text/latex": [
       "$$c \\left(\\begin{cases} \\frac{x^{2}}{2} & \\text{for}\\: c = 0 \\\\- \\frac{1}{c^{2}} \\sqrt{- c^{2} x^{2} + 1} & \\text{otherwise} \\end{cases}\\right)$$"
      ],
      "text/plain": [
       "  ⎛⎧         2                   ⎞\n",
       "  ⎜⎪        x                    ⎟\n",
       "  ⎜⎪        ──          for c = 0⎟\n",
       "  ⎜⎪        2                    ⎟\n",
       "  ⎜⎪                             ⎟\n",
       "c⋅⎜⎨    _____________            ⎟\n",
       "  ⎜⎪   ╱    2  2                 ⎟\n",
       "  ⎜⎪-╲╱  - c ⋅x  + 1             ⎟\n",
       "  ⎜⎪──────────────────  otherwise⎟\n",
       "  ⎜⎪         2                   ⎟\n",
       "  ⎝⎩        c                    ⎠"
      ]
     },
     "execution_count": 13,
     "metadata": {},
     "output_type": "execute_result"
    }
   ],
   "source": [
    "from sympy import *\n",
    "init_printing()\n",
    "x,c = symbols(\"x,c\")\n",
    "y = Function(\"y\")\n",
    "\n",
    "integrate( c*x / (sqrt(1-c**2*x**2)),x)"
   ]
  },
  {
   "cell_type": "markdown",
   "metadata": {},
   "source": [
    "Taking the case when C is non-zero, these are the equations of circles \n",
    "\n",
    "$$\\begin{array} {ccc}\n",
    "y &=& -\\frac{1}{c} \\sqrt{1-c^2 x^2}\\\\\n",
    "c^2y^2 &=&  1-c^2 x^2\\\\\n",
    "y^2 +  x^2 &=&  \\frac{1}{c^2}\n",
    "\\end{array}$$"
   ]
  },
  {
   "cell_type": "code",
   "execution_count": 15,
   "metadata": {},
   "outputs": [
    {
     "data": {
      "image/png": "[encoded data removed]",
      "text/latex": [
       "$$\\frac{c x}{\\sqrt{- c^{2} x^{2} + 1}}$$"
      ],
      "text/plain": [
       "      c⋅x       \n",
       "────────────────\n",
       "   _____________\n",
       "  ╱    2  2     \n",
       "╲╱  - c ⋅x  + 1 "
      ]
     },
     "execution_count": 15,
     "metadata": {},
     "output_type": "execute_result"
    }
   ],
   "source": [
    "diff( c*(-1/c**2)*sqrt(1-c**2 * x**2),x)"
   ]
  },
  {
   "cell_type": "markdown",
   "metadata": {},
   "source": [
    "### Variation Notation\n",
    "   \n",
    "$$ G(y) = \\int \\mathscr L(y,y\\prime,x) dx $$\n",
    "   \n",
    "Then the variation of $\\delta G(y,h) = \\frac{d}{d\\epsilon}G(y + \\epsilon h)\\big|_{\\epsilon = 0} = \\lim_{\\epsilon\\to 0} \\frac{G(y+\\epsilon h) - G(y)}{\\epsilon}$ is \n",
    "   \n",
    "$$ \\delta G(y,h) = \\frac{d}{d\\epsilon}\\int \\mathscr L(y + \\epsilon h,y\\prime + \\epsilon h\\prime ,x) dx \\big |_{\\epsilon=0} $$\n",
    "   \n",
    "Then the first variation of $yy\\prime$ is given by wikipedia as\n",
    "   \n",
    "$$\\frac{d}{d\\epsilon} \\int (y+\\epsilon h)(y\\prime + \\epsilon h\\prime) dx \\big|_{\\epsilon=0} =\\int\\frac{d}{d\\epsilon} ( y y\\prime+\\epsilon h y\\prime + y \\epsilon h\\prime + \\epsilon^2 h h\\prime) dx \\big|_{\\epsilon=0} = \\int ( h y\\prime + y h\\prime + 2\\epsilon h h\\prime) dx \\big|_{\\epsilon=0} = \\int( h y\\prime + y h\\prime )dx $$\n",
    "   \n",
    "This final term is just the total differential $ \\frac{dF}{d\\epsilon} = \\frac{\\partial F}{\\partial y}\\frac{\\partial y}{\\partial\\epsilon} + \\frac{\\partial F}{ \\partial y\\prime}\\frac{ \\partial y\\prime}{\\partial\\epsilon} $."
   ]
  },
  {
   "cell_type": "code",
   "execution_count": null,
   "metadata": {
    "collapsed": true
   },
   "outputs": [],
   "source": []
  }
 ],
 "metadata": {
  "kernelspec": {
   "display_name": "Python 2",
   "language": "python",
   "name": "python2"
  },
  "language_info": {
   "codemirror_mode": {
    "name": "ipython",
    "version": 2
   },
   "file_extension": ".py",
   "mimetype": "text/x-python",
   "name": "python",
   "nbconvert_exporter": "python",
   "pygments_lexer": "ipython2",
   "version": "2.7.13"
  }
 },
 "nbformat": 4,
 "nbformat_minor": 2
}
