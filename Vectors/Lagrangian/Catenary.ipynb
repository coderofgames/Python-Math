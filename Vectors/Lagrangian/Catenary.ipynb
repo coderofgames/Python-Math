{
 "cells": [
  {
   "cell_type": "markdown",
   "metadata": {},
   "source": [
    "### Catenary\n",
    "   \n",
    "To minimize the potential energy $V = m g y$ along the length of the wire, with mass $\\rho ds$ where $\\rho$ is the density or mass per unit length.   \n",
    "   \n",
    "$$ \\delta F = \\int_{-a}^a \\rho g y ds = \\int_{-a}^a \\rho g y \\sqrt{\\left(1+ \\left( y'\\right)^2\\right)} dx$$\n",
    "   \n",
    "where $y' = \\frac{dy}{dx}$.  \n",
    "   \n",
    "The Lagrangian is $\\mathscr L = \\rho g y \\sqrt{1+ \\left(y'\\right)^2}$ and since it does not depend explicitly on $x$, the Beltrami equation is applied...\n",
    "   \n",
    "$$ \\mathscr L - y' \\frac{\\partial \\mathscr L}{\\partial y'} = C \\qquad(1)$$\n",
    "   \n",
    "Then set $U=(1+ \\left(y'\\right)^2) $, then $\\frac{dU}{dy'} = 2 y'$ and then $V=U^{1/2}$ so $\\frac{dV}{dU} = \\frac{1}{2}U^{-1/2}$. \n",
    "\n",
    "$$ \\frac{\\partial \\mathscr L}{\\partial y'} =  \\rho g \\frac{\\partial y}{\\partial y'}V +\\rho g y \\frac{\\partial V}{\\partial U}\\frac{\\partial U}{\\partial y'} = \\rho g \\frac{yy'}{\\sqrt{1+\\left(y'\\right)^2}}$$\n",
    "   \n",
    "Therefore (1) becomes\n",
    "   \n",
    "$$ \\rho g y \\sqrt{1+ \\left(y'\\right)^2} -  \\rho g \\frac{y \\left(y'\\right)^2}{\\sqrt{1+\\left(y'\\right)^2}} = C$$\n",
    "   \n",
    "dividing $C$ into $\\rho g$ will make another constant, so $D = \\left(\\frac{C}{\\rho g}\\right)$. and putting the L.H.S under a common denominator \n",
    "   \n",
    "$$   \\frac{y\\left(1+ \\left(y'\\right)^2\\right) -y\\left(y'\\right)^2}{\\sqrt{1+\\left(y'\\right)^2}} = \\frac{y}{\\sqrt{1+\\left(y'\\right)^2}} = D$$\n",
    "\n",
    "   \n",
    "Then\n",
    "   \n",
    "$$   y = D\\sqrt{1+\\left(y'\\right)^2}$$\n",
    "   \n",
    "    \n",
    "$$\\implies   \\frac{y^2 -D^2}{D^2} = \\left(\\frac{dy}{dx}\\right)^2$$   \n",
    "so \n",
    "   \n",
    "$$ x = \\int \\frac{1}{\\sqrt{\\frac{y^2 -D^2}{D^2}}} dy = \\int \\frac{D}{\\sqrt{y^2 -D^2}}dy = D \\cosh^{-1}\\left(\\frac{y}{D}\\right) + E$$\n",
    "\n",
    "where $E$ is the constant of integration. Then \n",
    "   \n",
    "$ y = \\frac{C}{\\rho g} \\cosh\\left(\\frac{\\rho g x -E}{C}\\right)$ \n",
    "\n",
    "\\frac{1}{}"
   ]
  },
  {
   "cell_type": "code",
   "execution_count": 5,
   "metadata": {},
   "outputs": [
    {
     "data": {
      "text/latex": [
       "$$D \\left(\\begin{cases} \\operatorname{acosh}{\\left (\\frac{y}{D} \\right )} & \\text{for}\\: \\left|{\\frac{y^{2}}{D^{2}}}\\right| > 1 \\\\- i \\operatorname{asin}{\\left (\\frac{y}{D} \\right )} & \\text{otherwise} \\end{cases}\\right)$$"
      ],
      "text/plain": [
       "  ⎛⎧                │ 2│    ⎞\n",
       "  ⎜⎪      ⎛y⎞       │y │    ⎟\n",
       "  ⎜⎪ acosh⎜─⎟   for │──│ > 1⎟\n",
       "  ⎜⎪      ⎝D⎠       │ 2│    ⎟\n",
       "D⋅⎜⎨                │D │    ⎟\n",
       "  ⎜⎪                        ⎟\n",
       "  ⎜⎪       ⎛y⎞              ⎟\n",
       "  ⎜⎪-ⅈ⋅asin⎜─⎟   otherwise  ⎟\n",
       "  ⎝⎩       ⎝D⎠              ⎠"
      ]
     },
     "execution_count": 5,
     "metadata": {},
     "output_type": "execute_result"
    }
   ],
   "source": [
    "from sympy import *\n",
    "init_printing()\n",
    "   \n",
    "x,y = symbols(\"x,y\")\n",
    "D = symbols(\"D\")\n",
    "   \n",
    "sol = D*integrate(1/sqrt(y**2-D**2),y)\n",
    "sol"
   ]
  },
  {
   "cell_type": "code",
   "execution_count": 17,
   "metadata": {},
   "outputs": [
    {
     "data": {
      "image/png": "[encoded data removed]",
      "text/latex": [
       "$$\\frac{C}{g \\rho} \\cosh{\\left (\\frac{g \\rho}{C} \\left(E - x\\right) \\right )}$$"
      ],
      "text/plain": [
       "      ⎛g⋅ρ⋅(E - x)⎞\n",
       "C⋅cosh⎜───────────⎟\n",
       "      ⎝     C     ⎠\n",
       "───────────────────\n",
       "        g⋅ρ        "
      ]
     },
     "execution_count": 17,
     "metadata": {},
     "output_type": "execute_result"
    }
   ],
   "source": [
    "E = symbols(\"E\")\n",
    "rho, g, C = symbols(\"rho, g, C\")\n",
    "x_val = solve(x-D*acosh(y/D) - E,y)[0].subs({D:C/(rho*g)}) \n",
    "x_val"
   ]
  },
  {
   "cell_type": "markdown",
   "metadata": {},
   "source": [
    "Now using arguments from\n",
    "   \n",
    "http://www.dmf.unicatt.it/divulgazione/mateott/catenaria/catenary/catenary.htm\n",
    "   \n",
    "we can design our catenary held at -a = -10 and a = 10\n",
    "The value C is "
   ]
  },
  {
   "cell_type": "code",
   "execution_count": 45,
   "metadata": {},
   "outputs": [
    {
     "data": {
      "image/png": "[encoded data removed]",
      "text/plain": [
       "<matplotlib.figure.Figure at 0xc177780>"
      ]
     },
     "metadata": {},
     "output_type": "display_data"
    }
   ],
   "source": [
    "from matplotlib import pyplot as plt\n",
    "import numpy as np\n",
    "import matplotlib\n",
    "\n",
    "xx = np.linspace(-10,10,400)\n",
    "\n",
    "plt.plot(xx, (40/9.81)*np.cosh(9.81*xx/40))\n",
    "plt.show()"
   ]
  },
  {
   "cell_type": "code",
   "execution_count": 64,
   "metadata": {},
   "outputs": [
    {
     "data": {
      "image/png": "[encoded data removed]",
      "text/latex": [
       "$$4.59280430155223$$"
      ],
      "text/plain": [
       "4.59280430155223"
      ]
     },
     "execution_count": 64,
     "metadata": {},
     "output_type": "execute_result"
    }
   ],
   "source": [
    "from __future__ import division\n",
    "alpha = symbols(\"alpha\")\n",
    "nsolve(alpha*sinh(10/alpha)-20,1)\n",
    "\n",
    "# here C*sinh(10/C) -20, with 20 as the initial value of y\n",
    "# some values mysteriously don't work, i.e. 10,\n",
    "# so a Catenary starting at (-10,20) has a value \n",
    "# alpha = C/9.81"
   ]
  },
  {
   "cell_type": "code",
   "execution_count": 65,
   "metadata": {},
   "outputs": [
    {
     "data": {
      "image/png": "[encoded data removed]",
      "text/latex": [
       "$$45.055368$$"
      ],
      "text/plain": [
       "45.055368"
      ]
     },
     "execution_count": 65,
     "metadata": {},
     "output_type": "execute_result"
    }
   ],
   "source": [
    "4.5928*9.81 \n",
    "\n",
    "# this is C"
   ]
  },
  {
   "cell_type": "code",
   "execution_count": 66,
   "metadata": {},
   "outputs": [
    {
     "data": {
      "image/png": "[encoded data removed]",
      "text/plain": [
       "<matplotlib.figure.Figure at 0xd15ab00>"
      ]
     },
     "metadata": {},
     "output_type": "display_data"
    }
   ],
   "source": [
    "plt.plot(xx, (45/9.81)*np.cosh(9.81*xx/45))\n",
    "plt.show()"
   ]
  },
  {
   "cell_type": "code",
   "execution_count": null,
   "metadata": {
    "collapsed": true
   },
   "outputs": [],
   "source": [
    "# the arc length of this curve can be chosen "
   ]
  }
 ],
 "metadata": {
  "kernelspec": {
   "display_name": "Python 2",
   "language": "python",
   "name": "python2"
  },
  "language_info": {
   "codemirror_mode": {
    "name": "ipython",
    "version": 2
   },
   "file_extension": ".py",
   "mimetype": "text/x-python",
   "name": "python",
   "nbconvert_exporter": "python",
   "pygments_lexer": "ipython2",
   "version": "2.7.13"
  }
 },
 "nbformat": 4,
 "nbformat_minor": 2
}
