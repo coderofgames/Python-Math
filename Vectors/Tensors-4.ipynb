{
 "cells": [
  {
   "cell_type": "markdown",
   "metadata": {},
   "source": [
    "#  Tensors "
   ]
  },
  {
   "cell_type": "markdown",
   "metadata": {},
   "source": [
    "### Metric Tensor\n",
    "\n",
    "The metric Tensor is defined as $\\mathbf g =  g_{ij}$ and has the following properties...\n",
    "   \n",
    "1) $\\mathbf g$ is positive definite (and also the inverse $\\mathbf g^{-1}$\n",
    "   \n",
    "2) non-singular $|g_{ij}|\\neq 0$\n",
    "   \n",
    "3) symmetric\n",
    "   \n",
    "4) has 2nd order partial derivatives (class $C^2$\n",
    "   \n",
    "5) Is invariant with change of coordinates (see arc length below).\n",
    "   \n",
    "The concept of distance in Euclidean space, for any generalized cartesian, orthogonal curvilinear, affine coordinates is:\n",
    "   \n",
    "$$ (ds)^2 = g_{ij} (dx^i)(dx^j) \\qquad\\qquad (2.4)$$\n",
    "\n",
    "where for Euclidean systems $g_{ij}=0$ if $i\\neq j $\n",
    "\n",
    "For a coordinate system in the Euclidean metric, \n",
    "\n",
    "$$ \\mathbf G = \\mathbf J^T \\mathbf J \\qquad\\qquad (2.5)$$\n",
    "   \n",
    "and for example, the orthogonal curvlinear coordinate systems (spherical, cylindrical, dual paraboloidal, elliptic) \n",
    "all have scale factors (Lame Coefficients) and are coordinate systems of the Euclidean metric, these scale factors appear as the square roots of the diagonal elements of the metric.\n",
    "\n",
    "#### definition: The metric tensor is a covariant tensor of 2nd order."
   ]
  },
  {
   "cell_type": "code",
   "execution_count": 35,
   "metadata": {
    "collapsed": true
   },
   "outputs": [],
   "source": [
    "from sympy import *\n",
    "from sympy.vector import *\n",
    "\n",
    "e = CoordSys3D('e')\n",
    "sph = CoordSys3D('sph')\n",
    "\n",
    "x_1,x_2,x_3 = symbols('x_1,x_2, x_3')\n",
    "y_1 = Symbol('y_1',positive=True)\n",
    "y_2 = Symbol('y_2',positive=True)\n",
    "y_3 = Symbol('y_3',positive=True)\n",
    "#y_1,y_2,y_3 = symbols('y_1,y_2, y_3')\n",
    "\n",
    "# coordinates as matrices\n",
    "X = Matrix([ x_1, x_2, x_3 ])\n",
    "Y = Matrix([ y_1, y_2, y_3 ])"
   ]
  },
  {
   "cell_type": "code",
   "execution_count": 36,
   "metadata": {
    "collapsed": true
   },
   "outputs": [],
   "source": [
    "def rect_vector_of_sphere_coords(e, Y):\n",
    "    return Y[0] * cos (Y[2]) * sin(Y[1]) * e.i+ Y[0] * sin (Y[2]) * sin(Y[1]) * e.j +  Y[0] * cos(Y[1]) * e.k\n",
    "\n",
    "def vector_to_matrix_form(v):\n",
    "    return Matrix([v.dot(e.i), v.dot(e.j),v.dot(e.k)])\n",
    "\n",
    "def Jacobian_WRT_coords(V,C):\n",
    "    return V.jacobian(C)"
   ]
  },
  {
   "cell_type": "code",
   "execution_count": 37,
   "metadata": {
    "collapsed": true
   },
   "outputs": [],
   "source": [
    "# definition of a vector field taking cartesian coordinates into spherical\n",
    "v_spherical_rect = sqrt( x_1**2 + x_2**2 + x_3**2) * sph.i + acos( x_3/sqrt( x_1**2 + x_2**2 + x_3**2)) * sph.j + atan(x_2/x_1) * sph.k\n"
   ]
  },
  {
   "cell_type": "code",
   "execution_count": 38,
   "metadata": {},
   "outputs": [
    {
     "name": "stdout",
     "output_type": "stream",
     "text": [
      "The Jacobian of the dx^i/dy^j where x's are cartesian and y's are spherical \n"
     ]
    },
    {
     "data": {
      "text/latex": [
       "$$\\left[\\begin{matrix}\\sin{\\left (y_{2} \\right )} \\cos{\\left (y_{3} \\right )} & y_{1} \\cos{\\left (y_{2} \\right )} \\cos{\\left (y_{3} \\right )} & - y_{1} \\sin{\\left (y_{2} \\right )} \\sin{\\left (y_{3} \\right )}\\\\\\sin{\\left (y_{2} \\right )} \\sin{\\left (y_{3} \\right )} & y_{1} \\sin{\\left (y_{3} \\right )} \\cos{\\left (y_{2} \\right )} & y_{1} \\sin{\\left (y_{2} \\right )} \\cos{\\left (y_{3} \\right )}\\\\\\cos{\\left (y_{2} \\right )} & - y_{1} \\sin{\\left (y_{2} \\right )} & 0\\end{matrix}\\right]$$"
      ],
      "text/plain": [
       "⎡sin(y₂)⋅cos(y₃)  y₁⋅cos(y₂)⋅cos(y₃)  -y₁⋅sin(y₂)⋅sin(y₃)⎤\n",
       "⎢                                                        ⎥\n",
       "⎢sin(y₂)⋅sin(y₃)  y₁⋅sin(y₃)⋅cos(y₂)  y₁⋅sin(y₂)⋅cos(y₃) ⎥\n",
       "⎢                                                        ⎥\n",
       "⎣    cos(y₂)         -y₁⋅sin(y₂)               0         ⎦"
      ]
     },
     "execution_count": 38,
     "metadata": {},
     "output_type": "execute_result"
    }
   ],
   "source": [
    "J_1 = Jacobian_WRT_coords( \n",
    "        vector_to_matrix_form( \n",
    "            rect_vector_of_sphere_coords(e,Y)), Y )\n",
    "\n",
    "init_printing(use_latex=true)\n",
    "\n",
    "# definition of a vector field taking cartesian coordinates into spherical\n",
    "v_spherical_rect = sqrt( x_1**2 + x_2**2 + x_3**2) * sph.i + acos( x_3/sqrt( x_1**2 + x_2**2 + x_3**2)) * sph.j + atan(x_2/x_1) * sph.k\n",
    "\n",
    "Y_2 = Matrix([v_spherical_rect.dot(sph.i), \n",
    "              v_spherical_rect.dot(sph.j),\n",
    "              v_spherical_rect.dot(sph.k)])\n",
    "\n",
    "J_2 = Y_2.jacobian(X)\n",
    "\n",
    "print \"The Jacobian of the dx^i/dy^j where x's are cartesian and y's are spherical \"\n",
    "J_1"
   ]
  },
  {
   "cell_type": "code",
   "execution_count": 39,
   "metadata": {},
   "outputs": [
    {
     "name": "stdout",
     "output_type": "stream",
     "text": [
      "The metric of the spherical coordinate system relative to the cartesian\n"
     ]
    },
    {
     "data": {
      "text/latex": [
       "$$\\left[\\begin{matrix}1 & 0 & 0\\\\0 & y_{1}^{2} & 0\\\\0 & 0 & y_{1}^{2} \\sin^{2}{\\left (y_{2} \\right )}\\end{matrix}\\right]$$"
      ],
      "text/plain": [
       "⎡1   0        0      ⎤\n",
       "⎢                    ⎥\n",
       "⎢     2              ⎥\n",
       "⎢0  y₁        0      ⎥\n",
       "⎢                    ⎥\n",
       "⎢          2    2    ⎥\n",
       "⎣0   0   y₁ ⋅sin (y₂)⎦"
      ]
     },
     "execution_count": 39,
     "metadata": {},
     "output_type": "execute_result"
    }
   ],
   "source": [
    "J_1T = J_1.transpose()\n",
    "G_xy = simplify(J_1T*J_1)\n",
    "print \"The metric of the spherical coordinate system relative to the cartesian\"\n",
    "G_xy"
   ]
  },
  {
   "cell_type": "code",
   "execution_count": 40,
   "metadata": {},
   "outputs": [
    {
     "name": "stdout",
     "output_type": "stream",
     "text": [
      "The metric of the dy^i/dx^j where x's are cartesian and y's are spherical \n"
     ]
    },
    {
     "data": {
      "text/latex": [
       "$$\\left[\\begin{matrix}\\frac{1}{\\left(x_{1}^{2} + x_{2}^{2}\\right)^{2} \\left(x_{1}^{2} + x_{2}^{2} + x_{3}^{2}\\right)^{2}} \\left(x_{1}^{2} x_{3}^{2} \\left(x_{1}^{2} + x_{2}^{2}\\right) + x_{1}^{2} \\left(x_{1}^{2} + x_{2}^{2}\\right)^{2} \\left(x_{1}^{2} + x_{2}^{2} + x_{3}^{2}\\right) + x_{2}^{2} \\left(x_{1}^{2} + x_{2}^{2} + x_{3}^{2}\\right)^{2}\\right) & \\frac{x_{1} x_{2}}{\\left(x_{1}^{2} + x_{2}^{2}\\right)^{2} \\left(x_{1}^{2} + x_{2}^{2} + x_{3}^{2}\\right)^{2}} \\left(x_{3}^{2} \\left(x_{1}^{2} + x_{2}^{2}\\right) + \\left(x_{1}^{2} + x_{2}^{2}\\right)^{2} \\left(x_{1}^{2} + x_{2}^{2} + x_{3}^{2}\\right) - \\left(x_{1}^{2} + x_{2}^{2} + x_{3}^{2}\\right)^{2}\\right) & \\frac{x_{1} x_{3} \\left(x_{1}^{2} + x_{2}^{2} + x_{3}^{2} - 1\\right)}{\\left(x_{1}^{2} + x_{2}^{2} + x_{3}^{2}\\right)^{2}}\\\\\\frac{x_{1} x_{2}}{\\left(x_{1}^{2} + x_{2}^{2}\\right)^{2} \\left(x_{1}^{2} + x_{2}^{2} + x_{3}^{2}\\right)^{2}} \\left(x_{3}^{2} \\left(x_{1}^{2} + x_{2}^{2}\\right) + \\left(x_{1}^{2} + x_{2}^{2}\\right)^{2} \\left(x_{1}^{2} + x_{2}^{2} + x_{3}^{2}\\right) - \\left(x_{1}^{2} + x_{2}^{2} + x_{3}^{2}\\right)^{2}\\right) & \\frac{1}{\\left(x_{1}^{2} + x_{2}^{2}\\right)^{2} \\left(x_{1}^{2} + x_{2}^{2} + x_{3}^{2}\\right)^{2}} \\left(x_{1}^{2} \\left(x_{1}^{2} + x_{2}^{2} + x_{3}^{2}\\right)^{2} + x_{2}^{2} x_{3}^{2} \\left(x_{1}^{2} + x_{2}^{2}\\right) + x_{2}^{2} \\left(x_{1}^{2} + x_{2}^{2}\\right)^{2} \\left(x_{1}^{2} + x_{2}^{2} + x_{3}^{2}\\right)\\right) & \\frac{x_{2} x_{3} \\left(x_{1}^{2} + x_{2}^{2} + x_{3}^{2} - 1\\right)}{\\left(x_{1}^{2} + x_{2}^{2} + x_{3}^{2}\\right)^{2}}\\\\\\frac{x_{1} x_{3} \\left(x_{1}^{2} + x_{2}^{2} + x_{3}^{2} - 1\\right)}{\\left(x_{1}^{2} + x_{2}^{2} + x_{3}^{2}\\right)^{2}} & \\frac{x_{2} x_{3} \\left(x_{1}^{2} + x_{2}^{2} + x_{3}^{2} - 1\\right)}{\\left(x_{1}^{2} + x_{2}^{2} + x_{3}^{2}\\right)^{2}} & \\frac{x_{1}^{2} + x_{2}^{2} + x_{3}^{2} \\left(x_{1}^{2} + x_{2}^{2} + x_{3}^{2}\\right)}{\\left(x_{1}^{2} + x_{2}^{2} + x_{3}^{2}\\right)^{2}}\\end{matrix}\\right]$$"
      ],
      "text/plain": [
       "⎡                                     2                                       \n",
       "⎢  2   2 ⎛  2     2⎞     2 ⎛  2     2⎞  ⎛  2     2     2⎞     2 ⎛  2     2    \n",
       "⎢x₁ ⋅x₃ ⋅⎝x₁  + x₂ ⎠ + x₁ ⋅⎝x₁  + x₂ ⎠ ⋅⎝x₁  + x₂  + x₃ ⎠ + x₂ ⋅⎝x₁  + x₂  + x\n",
       "⎢─────────────────────────────────────────────────────────────────────────────\n",
       "⎢                                    2                  2                     \n",
       "⎢                         ⎛  2     2⎞  ⎛  2     2     2⎞                      \n",
       "⎢                         ⎝x₁  + x₂ ⎠ ⋅⎝x₁  + x₂  + x₃ ⎠                      \n",
       "⎢                                                                             \n",
       "⎢        ⎛                             2                                      \n",
       "⎢        ⎜  2 ⎛  2     2⎞   ⎛  2     2⎞  ⎛  2     2     2⎞   ⎛  2     2     2⎞\n",
       "⎢  x₁⋅x₂⋅⎝x₃ ⋅⎝x₁  + x₂ ⎠ + ⎝x₁  + x₂ ⎠ ⋅⎝x₁  + x₂  + x₃ ⎠ - ⎝x₁  + x₂  + x₃ ⎠\n",
       "⎢  ───────────────────────────────────────────────────────────────────────────\n",
       "⎢                                    2                  2                     \n",
       "⎢                         ⎛  2     2⎞  ⎛  2     2     2⎞                      \n",
       "⎢                         ⎝x₁  + x₂ ⎠ ⋅⎝x₁  + x₂  + x₃ ⎠                      \n",
       "⎢                                                                             \n",
       "⎢                                 ⎛  2     2     2    ⎞                       \n",
       "⎢                           x₁⋅x₃⋅⎝x₁  + x₂  + x₃  - 1⎠                       \n",
       "⎢                           ───────────────────────────                       \n",
       "⎢                                                 2                           \n",
       "⎢                                ⎛  2     2     2⎞                            \n",
       "⎣                                ⎝x₁  + x₂  + x₃ ⎠                            \n",
       "\n",
       "   2          ⎛                             2                                 \n",
       " 2⎞           ⎜  2 ⎛  2     2⎞   ⎛  2     2⎞  ⎛  2     2     2⎞   ⎛  2     2  \n",
       "₃ ⎠     x₁⋅x₂⋅⎝x₃ ⋅⎝x₁  + x₂ ⎠ + ⎝x₁  + x₂ ⎠ ⋅⎝x₁  + x₂  + x₃ ⎠ - ⎝x₁  + x₂  +\n",
       "────    ──────────────────────────────────────────────────────────────────────\n",
       "                                          2                  2                \n",
       "                               ⎛  2     2⎞  ⎛  2     2     2⎞                 \n",
       "                               ⎝x₁  + x₂ ⎠ ⋅⎝x₁  + x₂  + x₃ ⎠                 \n",
       "                                                                              \n",
       "2⎞                         2                                        2         \n",
       " ⎟      2 ⎛  2     2     2⎞      2   2 ⎛  2     2⎞     2 ⎛  2     2⎞  ⎛  2    \n",
       " ⎠    x₁ ⋅⎝x₁  + x₂  + x₃ ⎠  + x₂ ⋅x₃ ⋅⎝x₁  + x₂ ⎠ + x₂ ⋅⎝x₁  + x₂ ⎠ ⋅⎝x₁  + x\n",
       "──    ────────────────────────────────────────────────────────────────────────\n",
       "                                          2                  2                \n",
       "                               ⎛  2     2⎞  ⎛  2     2     2⎞                 \n",
       "                               ⎝x₁  + x₂ ⎠ ⋅⎝x₁  + x₂  + x₃ ⎠                 \n",
       "                                                                              \n",
       "                                       ⎛  2     2     2    ⎞                  \n",
       "                                 x₂⋅x₃⋅⎝x₁  + x₂  + x₃  - 1⎠                  \n",
       "                                 ───────────────────────────                  \n",
       "                                                       2                      \n",
       "                                      ⎛  2     2     2⎞                       \n",
       "                                      ⎝x₁  + x₂  + x₃ ⎠                       \n",
       "\n",
       "     2⎞                                     ⎤\n",
       "   2⎞ ⎟             ⎛  2     2     2    ⎞   ⎥\n",
       " x₃ ⎠ ⎠       x₁⋅x₃⋅⎝x₁  + x₂  + x₃  - 1⎠   ⎥\n",
       "───────       ───────────────────────────   ⎥\n",
       "                                    2       ⎥\n",
       "                   ⎛  2     2     2⎞        ⎥\n",
       "                   ⎝x₁  + x₂  + x₃ ⎠        ⎥\n",
       "                                            ⎥\n",
       "                                            ⎥\n",
       " 2     2⎞           ⎛  2     2     2    ⎞   ⎥\n",
       "₂  + x₃ ⎠     x₂⋅x₃⋅⎝x₁  + x₂  + x₃  - 1⎠   ⎥\n",
       "─────────     ───────────────────────────   ⎥\n",
       "                                    2       ⎥\n",
       "                   ⎛  2     2     2⎞        ⎥\n",
       "                   ⎝x₁  + x₂  + x₃ ⎠        ⎥\n",
       "                                            ⎥\n",
       "             2     2     2 ⎛  2     2     2⎞⎥\n",
       "           x₁  + x₂  + x₃ ⋅⎝x₁  + x₂  + x₃ ⎠⎥\n",
       "           ─────────────────────────────────⎥\n",
       "                                    2       ⎥\n",
       "                   ⎛  2     2     2⎞        ⎥\n",
       "                   ⎝x₁  + x₂  + x₃ ⎠        ⎦"
      ]
     },
     "execution_count": 40,
     "metadata": {},
     "output_type": "execute_result"
    }
   ],
   "source": [
    "J_2T = J_2.transpose()\n",
    "\n",
    "print \"The metric of the dy^i/dx^j where x's are cartesian and y's are spherical \"\n",
    "\n",
    "G_yx = simplify((J_2T*J_2))\n",
    "G_yx"
   ]
  },
  {
   "cell_type": "code",
   "execution_count": 41,
   "metadata": {},
   "outputs": [
    {
     "data": {
      "text/latex": [
       "$$\\left[\\begin{matrix}\\frac{x_{1}}{\\sqrt{x_{1}^{2} + x_{2}^{2} + x_{3}^{2}}} & \\frac{x_{2}}{\\sqrt{x_{1}^{2} + x_{2}^{2} + x_{3}^{2}}} & \\frac{x_{3}}{\\sqrt{x_{1}^{2} + x_{2}^{2} + x_{3}^{2}}}\\\\\\frac{x_{1} x_{3}}{\\sqrt{- \\frac{x_{3}^{2}}{x_{1}^{2} + x_{2}^{2} + x_{3}^{2}} + 1} \\left(x_{1}^{2} + x_{2}^{2} + x_{3}^{2}\\right)^{\\frac{3}{2}}} & \\frac{x_{2} x_{3}}{\\sqrt{- \\frac{x_{3}^{2}}{x_{1}^{2} + x_{2}^{2} + x_{3}^{2}} + 1} \\left(x_{1}^{2} + x_{2}^{2} + x_{3}^{2}\\right)^{\\frac{3}{2}}} & - \\frac{- \\frac{x_{3}^{2}}{\\left(x_{1}^{2} + x_{2}^{2} + x_{3}^{2}\\right)^{\\frac{3}{2}}} + \\frac{1}{\\sqrt{x_{1}^{2} + x_{2}^{2} + x_{3}^{2}}}}{\\sqrt{- \\frac{x_{3}^{2}}{x_{1}^{2} + x_{2}^{2} + x_{3}^{2}} + 1}}\\\\- \\frac{x_{2}}{x_{1}^{2} \\left(1 + \\frac{x_{2}^{2}}{x_{1}^{2}}\\right)} & \\frac{1}{x_{1} \\left(1 + \\frac{x_{2}^{2}}{x_{1}^{2}}\\right)} & 0\\end{matrix}\\right]$$"
      ],
      "text/plain": [
       "⎡                        x₁                                                  x\n",
       "⎢               ────────────────────                                ──────────\n",
       "⎢                  _________________                                   _______\n",
       "⎢                 ╱   2     2     2                                   ╱   2   \n",
       "⎢               ╲╱  x₁  + x₂  + x₃                                  ╲╱  x₁  + \n",
       "⎢                                                                             \n",
       "⎢                                                                             \n",
       "⎢                                                                             \n",
       "⎢                                                                             \n",
       "⎢                                                                             \n",
       "⎢                                                                             \n",
       "⎢                      x₁⋅x₃                                               x₂⋅\n",
       "⎢──────────────────────────────────────────────────  ─────────────────────────\n",
       "⎢      _______________________                             ___________________\n",
       "⎢     ╱           2                             3/2       ╱           2       \n",
       "⎢    ╱          x₃             ⎛  2     2     2⎞         ╱          x₃        \n",
       "⎢   ╱   - ─────────────── + 1 ⋅⎝x₁  + x₂  + x₃ ⎠        ╱   - ─────────────── \n",
       "⎢  ╱        2     2     2                              ╱        2     2     2 \n",
       "⎢╲╱       x₁  + x₂  + x₃                             ╲╱       x₁  + x₂  + x₃  \n",
       "⎢                                                                             \n",
       "⎢                       -x₂                                                  1\n",
       "⎢                  ─────────────                                        ──────\n",
       "⎢                      ⎛      2⎞                                           ⎛  \n",
       "⎢                    2 ⎜    x₂ ⎟                                           ⎜  \n",
       "⎢                  x₁ ⋅⎜1 + ───⎟                                        x₁⋅⎜1 \n",
       "⎢                      ⎜      2⎟                                           ⎜  \n",
       "⎣                      ⎝    x₁ ⎠                                           ⎝  \n",
       "\n",
       "₂                                                 x₃                        ⎤\n",
       "──────────                               ────────────────────               ⎥\n",
       "__________                                  _________________               ⎥\n",
       "  2     2                                  ╱   2     2     2                ⎥\n",
       "x₂  + x₃                                 ╲╱  x₁  + x₂  + x₃                 ⎥\n",
       "                                                                            ⎥\n",
       "                            ⎛            2                                ⎞ ⎥\n",
       "                            ⎜          x₃                      1          ⎟ ⎥\n",
       "                           -⎜- ──────────────────── + ────────────────────⎟ ⎥\n",
       "                            ⎜                   3/2      _________________⎟ ⎥\n",
       "                            ⎜  ⎛  2     2     2⎞        ╱   2     2     2 ⎟ ⎥\n",
       "x₃                          ⎝  ⎝x₁  + x₂  + x₃ ⎠      ╲╱  x₁  + x₂  + x₃  ⎠ ⎥\n",
       "─────────────────────────  ─────────────────────────────────────────────────⎥\n",
       "____                                       _______________________          ⎥\n",
       "                      3/2                 ╱           2                     ⎥\n",
       "     ⎛  2     2     2⎞                   ╱          x₃                      ⎥\n",
       "+ 1 ⋅⎝x₁  + x₂  + x₃ ⎠                  ╱   - ─────────────── + 1           ⎥\n",
       "                                       ╱        2     2     2               ⎥\n",
       "                                     ╲╱       x₁  + x₂  + x₃                ⎥\n",
       "                                                                            ⎥\n",
       "                                                                            ⎥\n",
       "──────                                             0                        ⎥\n",
       "    2⎞                                                                      ⎥\n",
       "  x₂ ⎟                                                                      ⎥\n",
       "+ ───⎟                                                                      ⎥\n",
       "    2⎟                                                                      ⎥\n",
       "  x₁ ⎠                                                                      ⎦"
      ]
     },
     "execution_count": 41,
     "metadata": {},
     "output_type": "execute_result"
    }
   ],
   "source": [
    "\n",
    "J_2 = trigsimp(simplify(J_1.inverse_GE()))\n",
    "J_2 = J_2.subs({y_1:sqrt(x_1**2+x_2**2+x_3**2)})\n",
    "J_2 = J_2.subs( {y_2:acos( x_3/sqrt( x_1**2 + x_2**2 + x_3**2)) })\n",
    "J_2 = J_2.subs( {y_3: atan(x_2/x_1) })\n",
    "\n",
    "init_printing(use_latex=true)\n",
    "\n",
    "YY = Matrix([sqrt(x_1**2+x_2**2+x_3**2), acos( x_3/sqrt( x_1**2 + x_2**2 + x_3**2)),atan(x_2/x_1) ])\n",
    "XX = Matrix([x_1,x_2,x_3])\n",
    "jac2 = YY.jacobian(XX)\n",
    "\n",
    "jac2"
   ]
  },
  {
   "cell_type": "code",
   "execution_count": 42,
   "metadata": {},
   "outputs": [
    {
     "data": {
      "text/latex": [
       "$$\\left[\\begin{matrix}\\frac{1}{\\sqrt{1 + \\frac{x_{2}^{2}}{x_{1}^{2}}}} \\sqrt{- \\frac{x_{3}^{2}}{x_{1}^{2} + x_{2}^{2} + x_{3}^{2}} + 1} & \\frac{x_{2}}{x_{1} \\sqrt{1 + \\frac{x_{2}^{2}}{x_{1}^{2}}}} \\sqrt{- \\frac{x_{3}^{2}}{x_{1}^{2} + x_{2}^{2} + x_{3}^{2}} + 1} & \\frac{x_{3}}{\\sqrt{x_{1}^{2} + x_{2}^{2} + x_{3}^{2}}}\\\\\\frac{x_{3}}{\\sqrt{1 + \\frac{x_{2}^{2}}{x_{1}^{2}}} \\left(x_{1}^{2} + x_{2}^{2} + x_{3}^{2}\\right)} & \\frac{x_{2} x_{3}}{x_{1} \\sqrt{1 + \\frac{x_{2}^{2}}{x_{1}^{2}}} \\left(x_{1}^{2} + x_{2}^{2} + x_{3}^{2}\\right)} & - \\frac{\\sqrt{- \\frac{x_{3}^{2}}{x_{1}^{2} + x_{2}^{2} + x_{3}^{2}} + 1}}{\\sqrt{x_{1}^{2} + x_{2}^{2} + x_{3}^{2}}}\\\\- \\frac{x_{2}}{x_{1} \\sqrt{1 + \\frac{x_{2}^{2}}{x_{1}^{2}}} \\sqrt{- \\frac{x_{3}^{2}}{x_{1}^{2} + x_{2}^{2} + x_{3}^{2}} + 1} \\sqrt{x_{1}^{2} + x_{2}^{2} + x_{3}^{2}}} & \\frac{1}{\\sqrt{1 + \\frac{x_{2}^{2}}{x_{1}^{2}}} \\sqrt{- \\frac{x_{3}^{2}}{x_{1}^{2} + x_{2}^{2} + x_{3}^{2}} + 1} \\sqrt{x_{1}^{2} + x_{2}^{2} + x_{3}^{2}}} & 0\\end{matrix}\\right]$$"
      ],
      "text/plain": [
       "⎡                          _______________________                            \n",
       "⎢                         ╱           2                                       \n",
       "⎢                        ╱          x₃                                        \n",
       "⎢                       ╱   - ─────────────── + 1                             \n",
       "⎢                      ╱        2     2     2                                 \n",
       "⎢                    ╲╱       x₁  + x₂  + x₃                                  \n",
       "⎢                    ─────────────────────────────                            \n",
       "⎢                                 _________                                   \n",
       "⎢                                ╱       2                                    \n",
       "⎢                               ╱      x₂                                     \n",
       "⎢                              ╱   1 + ───                                    \n",
       "⎢                             ╱          2                                    \n",
       "⎢                           ╲╱         x₁                                     \n",
       "⎢                                                                             \n",
       "⎢                                                                             \n",
       "⎢                                                                             \n",
       "⎢                                                                             \n",
       "⎢                                                                             \n",
       "⎢                                                                             \n",
       "⎢                                  x₃                                         \n",
       "⎢                  ─────────────────────────────────                          \n",
       "⎢                        _________                                            \n",
       "⎢                       ╱       2                                             \n",
       "⎢                      ╱      x₂   ⎛  2     2     2⎞                          \n",
       "⎢                     ╱   1 + ─── ⋅⎝x₁  + x₂  + x₃ ⎠                          \n",
       "⎢                    ╱          2                                             \n",
       "⎢                  ╲╱         x₁                                              \n",
       "⎢                                                                             \n",
       "⎢                                 -x₂                                         \n",
       "⎢─────────────────────────────────────────────────────────────────────  ──────\n",
       "⎢         _________       _______________________                             \n",
       "⎢        ╱       2       ╱           2               _________________       ╱\n",
       "⎢       ╱      x₂       ╱          x₃               ╱   2     2     2       ╱ \n",
       "⎢x₁⋅   ╱   1 + ─── ⋅   ╱   - ─────────────── + 1 ⋅╲╱  x₁  + x₂  + x₃       ╱  \n",
       "⎢     ╱          2    ╱        2     2     2                              ╱   \n",
       "⎣   ╲╱         x₁   ╲╱       x₁  + x₂  + x₃                             ╲╱    \n",
       "\n",
       "                    _______________________                                   \n",
       "                   ╱           2                                              \n",
       "                  ╱          x₃                                               \n",
       "           x₂⋅   ╱   - ─────────────── + 1                                    \n",
       "                ╱        2     2     2                                        \n",
       "              ╲╱       x₁  + x₂  + x₃                                       x₃\n",
       "           ────────────────────────────────                        ───────────\n",
       "                           _________                                  ________\n",
       "                          ╱       2                                  ╱   2    \n",
       "                         ╱      x₂                                 ╲╱  x₁  + x\n",
       "                  x₁⋅   ╱   1 + ───                                           \n",
       "                       ╱          2                                           \n",
       "                     ╲╱         x₁                                            \n",
       "                                                                              \n",
       "                                                                     _________\n",
       "                                                                    ╱         \n",
       "                                                                   ╱          \n",
       "                                                              -   ╱   - ──────\n",
       "                                                                 ╱        2   \n",
       "                        x₂⋅x₃                                  ╲╱       x₁  + \n",
       "         ────────────────────────────────────                 ────────────────\n",
       "                  _________                                            _______\n",
       "                 ╱       2                                            ╱   2   \n",
       "                ╱      x₂   ⎛  2     2     2⎞                       ╲╱  x₁  + \n",
       "         x₁⋅   ╱   1 + ─── ⋅⎝x₁  + x₂  + x₃ ⎠                                 \n",
       "              ╱          2                                                    \n",
       "            ╲╱         x₁                                                     \n",
       "                                                                              \n",
       "                          1                                                   \n",
       "────────────────────────────────────────────────────────────                 0\n",
       "_________       _______________________                                       \n",
       "       2       ╱           2               _________________                  \n",
       "     x₂       ╱          x₃               ╱   2     2     2                   \n",
       " 1 + ─── ⋅   ╱   - ─────────────── + 1 ⋅╲╱  x₁  + x₂  + x₃                    \n",
       "       2    ╱        2     2     2                                            \n",
       "     x₁   ╲╱       x₁  + x₂  + x₃                                             \n",
       "\n",
       "               ⎤\n",
       "               ⎥\n",
       "               ⎥\n",
       "               ⎥\n",
       "               ⎥\n",
       "               ⎥\n",
       "─────────      ⎥\n",
       "_________      ⎥\n",
       " 2     2       ⎥\n",
       "₂  + x₃        ⎥\n",
       "               ⎥\n",
       "               ⎥\n",
       "               ⎥\n",
       "               ⎥\n",
       "______________ ⎥\n",
       "  2            ⎥\n",
       "x₃             ⎥\n",
       "───────── + 1  ⎥\n",
       "  2     2      ⎥\n",
       "x₂  + x₃       ⎥\n",
       "───────────────⎥\n",
       "__________     ⎥\n",
       "  2     2      ⎥\n",
       "x₂  + x₃       ⎥\n",
       "               ⎥\n",
       "               ⎥\n",
       "               ⎥\n",
       "               ⎥\n",
       "               ⎥\n",
       "               ⎥\n",
       "               ⎥\n",
       "               ⎥\n",
       "               ⎥\n",
       "               ⎥\n",
       "               ⎥\n",
       "               ⎦"
      ]
     },
     "execution_count": 42,
     "metadata": {},
     "output_type": "execute_result"
    }
   ],
   "source": [
    "J_2"
   ]
  },
  {
   "cell_type": "code",
   "execution_count": 43,
   "metadata": {},
   "outputs": [
    {
     "data": {
      "text/latex": [
       "$$\\left[\\begin{matrix}0 & 0 & 0\\\\0 & 0 & 0\\\\0 & 0 & 0\\end{matrix}\\right]$$"
      ],
      "text/plain": [
       "⎡0  0  0⎤\n",
       "⎢       ⎥\n",
       "⎢0  0  0⎥\n",
       "⎢       ⎥\n",
       "⎣0  0  0⎦"
      ]
     },
     "execution_count": 43,
     "metadata": {},
     "output_type": "execute_result"
    }
   ],
   "source": [
    "simplify((jac2-J_2).subs({x_1:2,x_2:27,x_3:42})) ## easy to show with algebraic simplification"
   ]
  },
  {
   "cell_type": "markdown",
   "metadata": {
    "collapsed": true
   },
   "source": [
    "### Analysis of the Line Element\n",
    "   \n",
    "$$ (d\\mathbf x)^2 = (dx^1)^2+(dx^2)^2+(dx^3)^2 \\qquad\\qquad (2.6)$$\n",
    "\n",
    "in the context of a change of variables, the metric tensor is used - but to change between two coordinate systems\n",
    "the cartesian $x^r=x^r(u^i)$ to the $u^i$ system the scale factors are used that relate cartesian to curvilinear, they are elements of the Jacobian matrix that relate one system to the other. For example the scale factors for the $u^i$ system might be $(h_1,h_2,h_3)$, then the *line element* becomes\n",
    "   \n",
    "$$ (d\\mathbf x)^2 = (h_1)^2(du^1)^2+(h_2)^2(du^2)^2+(h_3)^2(du^3)^2 \\qquad\\qquad (2.7)$$\n",
    "\n",
    "*because* the change in the variables $dx^i$ with respect to the $u^k$ system requires the Jacobian, and if for example the $u^k$ system was a Euclidean metric the variables can be derived easily\n",
    "   \n",
    "$$\\frac{dx^1}{du^1} = h_1, \\implies dx^1 = h_1 du^1 ? $$ \n",
    "   \n",
    "etc, then the line element is easily found through substitution. The general form of $dx^i$ in $n$ dimensions is \n",
    "   \n",
    "$$ dx^i = \\frac{\\partial x^i}{\\partial u^j}du^j = \\frac{\\partial x^i}{\\partial u^1}du^1 +\\frac{\\partial x^i}{\\partial u^2}du^2+\\cdots \\frac{\\partial x^i}{\\partial u^n}du^n \\qquad\\qquad (2.8) $$\n",
    "   \n",
    "and so the scale factor becomes quite different (and the metric).\n",
    "   \n",
    "The line element is important, as it ensures that distance between two points is an invariant between coordinate systems. This is why it is often attached to the notion of the metric. The metric can also be associated with the concept of a dot product between two vectors defined on a surface transforming as $\\mathbf a^T \\mathbf G \\mathbf a$ and \n",
    "from the dot product the angle can be produced. As from differential geometry, we can expand the differential in the arc length function as follows ... \n",
    "   \n",
    "$$ (d\\mathbf x)^2   = \\left(\\frac{\\partial \\mathbf x}{\\partial u^p}du^p\\right)\\cdot\\left(\\frac{\\partial \\mathbf  x}{\\partial u^q}du^q\\right) \\qquad\\qquad (2.9)$$\n",
    "   \n",
    "And the terms in brackets can be expanded.\n",
    "   \n",
    "$$ \\implies (d\\mathbf x)^2 = \\left(\\frac{\\partial\\mathbf x}{\\partial u^1}du^1 +\\frac{\\partial\\mathbf x}{\\partial u^2}du^2+\\frac{\\partial\\mathbf x}{\\partial u^3}du^3 \\right)\\left(\\frac{\\partial \\mathbf x}{\\partial u^1}du^1 +\\frac{\\partial \\mathbf x}{\\partial u^2}du^2+\\frac{\\partial \\mathbf x}{\\partial u^3}du^3 \\right) \\qquad\\qquad (2.91)$$\n",
    "   \n",
    "\n"
   ]
  },
  {
   "cell_type": "markdown",
   "metadata": {
    "collapsed": true
   },
   "source": [
    "Therefore expanding\n",
    "\n",
    "$$ (d\\mathbf x)^2 = \\frac{\\partial\\mathbf x}{\\partial u^1}\\cdot \\frac{\\partial\\mathbf x}{\\partial u^1} (du^1)^2   +\\frac{\\partial\\mathbf x}{\\partial u^2}\\cdot\\frac{\\partial\\mathbf x}{\\partial u^2}(du^2)^2  +\\frac{\\partial\\mathbf x}{\\partial u^3}\\cdot\\frac{\\partial\\mathbf x}{\\partial u^3}(du^3)^2 +2\\frac{\\partial\\mathbf x}{\\partial u^1}\\cdot\\frac{\\partial\\mathbf x}{\\partial u^2}du^1 du^2+  2\\frac{\\partial\\mathbf x}{\\partial u^1}\\cdot\\frac{\\partial\\mathbf x}{\\partial u^3}du^1 du^3 +2\\frac{\\partial\\mathbf x}{\\partial u^2}\\cdot\\frac{\\partial\\mathbf x}{\\partial u^3}du^2 du^3 $$"
   ]
  },
  {
   "cell_type": "markdown",
   "metadata": {},
   "source": [
    "thus we have that if $\\frac{\\partial\\mathbf x}{\\partial u^1}$ is orthogonal to $\\frac{\\partial\\mathbf x}{\\partial u^2}$ then the dot product $=0$ and likewise for all $\\frac{\\partial\\mathbf x}{\\partial u^i}\\cdot \\frac{\\partial\\mathbf x}{\\partial u^j}\\quad |\\quad i\\neq j$  \n",
    "\n",
    "Then this expression reduces to ...\n",
    "\n",
    "$$ (d\\mathbf x)^2 = \\frac{\\partial\\mathbf x}{\\partial u^1}\\cdot \\frac{\\partial\\mathbf x}{\\partial u^1} (du^1)^2   +\\frac{\\partial\\mathbf x}{\\partial u^2}\\cdot\\frac{\\partial\\mathbf x}{\\partial u^2}(du^2)^2  +\\frac{\\partial\\mathbf x}{\\partial u^3}\\cdot\\frac{\\partial\\mathbf x}{\\partial u^3}(du^3)^2 \\qquad\\qquad (2.92) $$\n",
    "   \n",
    "and of course, the $\\frac{\\partial\\mathbf x}{\\partial u^i}$ are the unitary vectors *and these are* the components of the Jacobian matrix of $\\mathbf x$ with respect to $\\mathbf u$ and therefore the dot products are the result of the product defining the metric, $\\mathbf J^T \\mathbf J$ , hence we have that  $\\frac{\\partial\\mathbf x}{\\partial u^i} = h_i \\mathbf e^i $, then the dot product of these vectors with themselves produces $(h_i)^2$, therefore ...\n",
    "   \n",
    "$$ (d\\mathbf x)^2 = (h_1)^2 (du^1)^2+(h_2)^2 (du^2)^2+(h_3)^2 (du^3)^2 $$\n",
    "   \n",
    "and so $h_1 = \\sqrt g_{11} $ for *orthogonal systems*"
   ]
  },
  {
   "cell_type": "markdown",
   "metadata": {},
   "source": [
    "However if the system is not orthogonal, we already know that ...\n",
    "   \n",
    "$$ (d\\mathbf s)^2 = g_{11}\\ (du^1)(du^1)   +g_{22}\\ (du^2)(du^2)  +g_{33}\\ (du^3)(du^3) +2\\ g_{12}\\ (du^1) (du^2)+  2\\  g_{13}\\ (du^1)( du^3) +2\\ g_{23}\\ (du^2) (du^3) \\qquad\\qquad (2.93)$$\n",
    "   \n",
    "where the metric is defined by ...\n",
    "   \n",
    "$$ \\left( \\begin{array}{ccc}\\ g_{11} & g_{12} & g_{13} \\\\ g_{21} & g_{22} & g_{23} \\\\ g_{31} & g_{32} & g_{33} \\end{array} \\right) $$\n",
    "   \n",
    "and the components $g_{ij} = \\frac{\\partial x^i}{\\partial u^j}\\frac{\\partial x^j}{\\partial u^i} $ and $g_{ij} = g_{ji}$\n",
    "   \n",
    "and is symmetric and positive definate, as $\\mathbf G= \\mathbf J^T \\mathbf J = \\frac{\\partial (x^1,x^2,x^3)}{\\partial (u^1, u^2,u^3)} ^T \\frac{\\partial (x^1,x^2,x^3)}{\\partial (u^1, u^2,u^3)} $\n",
    "\n",
    "> Apparently if $\\mathbf g$ is non-Euclidean, then there exists no coordinate system where $G=I$ the identity matrix, and so this approach using Jacobian matrices does not work - proof needed.\n",
    "\n",
    "Supposing $\\mathbf J = \\frac{\\partial \\bar{x}^i}{\\partial x^j}$ where $\\bar{x}^i$ is rectangular, then in $x^j$ the metric equals $\\mathbf J^T \\mathbf J$ but in $\\bar{x}^i$ the metric is the identity matrix. This can be shown above, in the example of spherical coordinates where the inverse metric is not orthogonal (not diagonal) and represents the rectangular space in spherical geometry. This is why we must define a concept called the conjugate metric tensor, that is the *inverse* of the metric tensor of $x^j$ defined as $ (\\mathbf J^T \\mathbf J )^{-1} $  \n",
    "\n",
    "> Note: The metric can also be formed from the scalar triple product $\\frac{\\partial \\mathbf x}{\\partial u^1}\\cdot \\frac{\\partial \\mathbf x}{\\partial u^2}\\times\\frac{\\partial \\mathbf x}{\\partial u^3}$\n",
    "\n",
    "### Transformation of the metric\n",
    "   \n",
    "The metric tensor is covariant, \n",
    "   \n",
    "$$ \\bar{g}_{pq} = g_{jk}\\frac{\\partial  x^j}{\\partial \\bar{x}^p}\\frac{\\partial x^k}{\\partial \\bar{x}^q} \\qquad\\qquad (2.94)$$"
   ]
  },
  {
   "cell_type": "markdown",
   "metadata": {},
   "source": [
    "\n",
    "\n",
    "### Raising and lowering indices\n",
    "   \n",
    "#### definition. The inner product of a contravariant vector and a covariant tensor of 2nd order is a covariant vector. Therefore\n",
    "   \n",
    "$$T_i = g_{ij} T^j \\qquad\\qquad (2.95) $$\n",
    "\n",
    "*defines* the operation of lowering indices of a contravariant vector. Equivalently \n",
    "   \n",
    "$$ T^i = g^{ij}T_j \\qquad\\qquad (2.96)$$\n",
    "\n",
    "where $g^{ij} = (g_{ij})^{-1}$ is the inverse."
   ]
  },
  {
   "cell_type": "markdown",
   "metadata": {},
   "source": [
    "for a contravariant vector, a velocity, in the $x^r$ system, transforms into $u^i$ according to the rule  \n",
    "  \n",
    "  $$ \\frac{\\partial u^i}{\\partial t} = \\frac{\\partial u^i}{\\partial x^r} \\frac{\\partial x^r}{\\partial t}$$\n",
    "    \n",
    "relabelled $T^i = \\frac{\\partial u^i}{\\partial t}$ and $T^r = \\frac{\\partial u^r}{\\partial t}$ then\n",
    "   \n",
    "   $$ T_j = g_{ji}T^i = g_{ji}\\frac{\\partial u^i}{\\partial x^r}T^r $$\n",
    "   \n",
    "as the the sphere, the jacobian is built from the changes of the transformation *to cartesian*, or the partial derivatives of $\\mathbf x=\\mathbf x(u^i)$ to transform the vector *from cartesian* to the curvlinear system $u^i$ \n",
    "and since \n",
    "  $$ g_{ji}= g_{pq}\\frac{\\partial x^p}{\\partial u^j}\\frac{\\partial x^q}{\\partial u^i} $$\n",
    "\n",
    "   our equation becomes\n",
    "   \n",
    "$$ g_{ji}T^i =  \\left(\\frac{\\partial x^j}{\\partial u^i}\\frac{\\partial x^j}{\\partial u^i}\\right)\\frac{\\partial u^i}{\\partial x^r}T^r = \\frac{\\partial x^j}{\\partial u^i}\\left(\\frac{\\partial x^j}{\\partial u^i}\\frac{\\partial u^i}{\\partial x^r}\\right)T^r =  \\frac{\\partial x^j}{\\partial u^i} \\delta^j_r T^r =\\frac{\\partial x^j}{\\partial u^i} T^j = T_i$$\n",
    "   \n",
    "since $\\frac{\\partial x^j}{\\partial x^r} = \\delta^j_r $ and although the indices have changed, this seems to be the lowering of an index operation. It also seems to only work with the consideration of the idea that $g_{ji}=g_{ij}$ and $g_{ij}=0$ if $i\\neq j$. So a quick review of the method of multiplying contravariant vector by a covariant tensor of order 2 reveals ... ( arbitrarily changing the rectangular $x^i$'s to a barred notation to show how they are associated with the Tensors)"
   ]
  },
  {
   "cell_type": "markdown",
   "metadata": {},
   "source": [
    "$$ V_j = (T^i)(g_{ji}) = \\left(\\bar{ T^r } \\frac{\\partial u^i}{\\partial \\bar{x}^r}\\right) \\left(\\bar{g}_{pq}\\frac{\\partial \\bar{x}^p}{\\partial u^j}\\frac{\\partial \\bar{x}^q}{\\partial u^i} \\right) = \\color{red}{\\frac{\\partial u^i}{\\partial \\bar{x}^r}}\\color{blue}{ \\frac{\\partial \\bar{x}^q}{\\partial u^i} }\\color{black}{\\frac{\\partial \\bar{x}^p}{\\partial u^j} \\bar{T}^r \\bar{g}_{pq}} = \\delta_{\\color{red}{r}}^{\\color{blue}{q}}\\color{black}{\\frac{\\partial \\bar{x}^p}{\\partial u^j}} \\color{black}{\\bar{T}}^{\\color{red}{r}} \\color{black}{g}_{p\\color{blue}{q}} = \\color{black}{\\frac{\\partial \\bar{x}^p}{\\partial u^j} (\\bar{V})_{p} } \\qquad\\qquad (2.98)$$"
   ]
  },
  {
   "cell_type": "markdown",
   "metadata": {},
   "source": [
    "what exactly does $\\bar{V}_p$ look like now ? I think its still $\\frac{\\partial x^p}{\\partial t}$, and this would be a contravariant velocity transformed to a covariant velocity - this needs to be checked out. I think the answer is in the use of the Kronecker delta, the $\\delta_r^q$ can cause the product to be $\\bar{T}^r g_{pr}$ , then \n",
    "this would be\n",
    "   \n",
    " $$V_j =\\frac{\\partial \\bar{x}^p}{\\partial u^j}\\bar{T}^r g_{pr} = \\frac{\\partial \\bar{x}^1}{\\partial u^j} (\\bar{T}^r g_{1r} ) + \\frac{\\partial \\bar{x}^2}{\\partial u^j} (\\bar{T}^r g_{2r} ) + \\frac{\\partial \\bar{x}^3}{\\partial u^j} (\\bar{T}^r g_{3r} ) \\qquad\\qquad (2.99) $$\n",
    " \n",
    " and so the tensor part is $(\\bar{T}^r g_{ir} ) = \\bar{T}^1 g_{i1} + \\bar{T}^2 g_{i2} + \\bar{T}^3 g_{i3}$ and so again, we ask, what is $\\bar{T}^r$ and clearly its just \n",
    " \n",
    " $$\\bar{T}^r = \\frac{\\partial x^r}{\\partial t}$$"
   ]
  },
  {
   "cell_type": "code",
   "execution_count": 44,
   "metadata": {},
   "outputs": [
    {
     "data": {
      "text/latex": [
       "$$\\left[\\begin{matrix}1 & 0 & 0\\\\0 & y_{1}^{2} & 0\\\\0 & 0 & y_{1}^{2} \\sin^{2}{\\left (y_{2} \\right )}\\end{matrix}\\right]$$"
      ],
      "text/plain": [
       "⎡1   0        0      ⎤\n",
       "⎢                    ⎥\n",
       "⎢     2              ⎥\n",
       "⎢0  y₁        0      ⎥\n",
       "⎢                    ⎥\n",
       "⎢          2    2    ⎥\n",
       "⎣0   0   y₁ ⋅sin (y₂)⎦"
      ]
     },
     "execution_count": 44,
     "metadata": {},
     "output_type": "execute_result"
    }
   ],
   "source": [
    "# reprinting the metric for spherical coordinates\n",
    "sphere_metric = simplify(J_1.T * J_1)\n",
    "sphere_metric"
   ]
  },
  {
   "cell_type": "code",
   "execution_count": 45,
   "metadata": {},
   "outputs": [
    {
     "data": {
      "text/latex": [
       "$$\\left[\\begin{matrix}1 & 0 & 0\\\\0 & \\frac{1}{y_{1}^{2}} & 0\\\\0 & 0 & \\frac{1}{y_{1}^{2} \\sin^{2}{\\left (y_{2} \\right )}}\\end{matrix}\\right]$$"
      ],
      "text/plain": [
       "⎡1   0        0      ⎤\n",
       "⎢                    ⎥\n",
       "⎢    1               ⎥\n",
       "⎢0  ───       0      ⎥\n",
       "⎢     2              ⎥\n",
       "⎢   y₁               ⎥\n",
       "⎢                    ⎥\n",
       "⎢             1      ⎥\n",
       "⎢0   0   ────────────⎥\n",
       "⎢          2    2    ⎥\n",
       "⎣        y₁ ⋅sin (y₂)⎦"
      ]
     },
     "execution_count": 45,
     "metadata": {},
     "output_type": "execute_result"
    }
   ],
   "source": [
    "# the inverse metric, or the raised indices metric for spherical coordinates\n",
    "sphere_metric_inv = simplify(J_1.T * J_1).inverse_ADJ()\n",
    "sphere_metric_inv"
   ]
  },
  {
   "cell_type": "code",
   "execution_count": 46,
   "metadata": {
    "scrolled": true
   },
   "outputs": [
    {
     "data": {
      "text/latex": [
       "$$\\left[\\begin{matrix}a_{1}\\\\a_{2}\\\\a_{3}\\end{matrix}\\right]$$"
      ],
      "text/plain": [
       "⎡a₁⎤\n",
       "⎢  ⎥\n",
       "⎢a₂⎥\n",
       "⎢  ⎥\n",
       "⎣a₃⎦"
      ]
     },
     "execution_count": 46,
     "metadata": {},
     "output_type": "execute_result"
    }
   ],
   "source": [
    "# and this contravariant velocity in the spherical coordinates\n",
    "a_1,a_2,a_3=symbols('a_1,a_2,a_3')\n",
    "v_sph = Matrix([a_1,a_2,a_3])\n",
    "v_sph"
   ]
  },
  {
   "cell_type": "code",
   "execution_count": 47,
   "metadata": {},
   "outputs": [
    {
     "data": {
      "text/latex": [
       "$$\\left[\\begin{matrix}a_{1}\\\\a_{2} y_{1}^{2}\\\\a_{3} y_{1}^{2} \\sin^{2}{\\left (y_{2} \\right )}\\end{matrix}\\right]$$"
      ],
      "text/plain": [
       "⎡      a₁       ⎤\n",
       "⎢               ⎥\n",
       "⎢         2     ⎥\n",
       "⎢    a₂⋅y₁      ⎥\n",
       "⎢               ⎥\n",
       "⎢     2    2    ⎥\n",
       "⎣a₃⋅y₁ ⋅sin (y₂)⎦"
      ]
     },
     "execution_count": 47,
     "metadata": {},
     "output_type": "execute_result"
    }
   ],
   "source": [
    "# covariant velocity in the spherical coordinates (lowered index)\n",
    "v_sph_cov = simplify( J_1.T*J_1) * v_sph\n",
    "v_sph_cov"
   ]
  },
  {
   "cell_type": "code",
   "execution_count": 48,
   "metadata": {},
   "outputs": [
    {
     "data": {
      "text/latex": [
       "$$\\left[\\begin{matrix}a_{1} \\sin{\\left (y_{2} \\right )} \\cos{\\left (y_{3} \\right )} + a_{2} y_{1} \\cos{\\left (y_{2} \\right )} \\cos{\\left (y_{3} \\right )} - a_{3} y_{1} \\sin{\\left (y_{2} \\right )} \\sin{\\left (y_{3} \\right )}\\\\a_{1} \\sin{\\left (y_{2} \\right )} \\sin{\\left (y_{3} \\right )} + a_{2} y_{1} \\sin{\\left (y_{3} \\right )} \\cos{\\left (y_{2} \\right )} + a_{3} y_{1} \\sin{\\left (y_{2} \\right )} \\cos{\\left (y_{3} \\right )}\\\\a_{1} \\cos{\\left (y_{2} \\right )} - a_{2} y_{1} \\sin{\\left (y_{2} \\right )}\\end{matrix}\\right]$$"
      ],
      "text/plain": [
       "⎡a₁⋅sin(y₂)⋅cos(y₃) + a₂⋅y₁⋅cos(y₂)⋅cos(y₃) - a₃⋅y₁⋅sin(y₂)⋅sin(y₃)⎤\n",
       "⎢                                                                  ⎥\n",
       "⎢a₁⋅sin(y₂)⋅sin(y₃) + a₂⋅y₁⋅sin(y₃)⋅cos(y₂) + a₃⋅y₁⋅sin(y₂)⋅cos(y₃)⎥\n",
       "⎢                                                                  ⎥\n",
       "⎣                    a₁⋅cos(y₂) - a₂⋅y₁⋅sin(y₂)                    ⎦"
      ]
     },
     "execution_count": 48,
     "metadata": {},
     "output_type": "execute_result"
    }
   ],
   "source": [
    "# multiplication by the J_1.inverse.T \n",
    "v_rect = simplify(J_1.inverse_ADJ().T)*v_sph_cov\n",
    "v_rect\n",
    "# and we recover the vector in cartesian coordinates - because the J_1.T inverse cancels J_1.T"
   ]
  },
  {
   "cell_type": "markdown",
   "metadata": {},
   "source": [
    "Clearly if an expression is of the form $\\frac{\\partial x^j}{\\partial y^i} $ when i is the free index, the \n",
    "free index denotes the row of the Jacobian matrix, hence its a transposed matrix.\n"
   ]
  },
  {
   "cell_type": "markdown",
   "metadata": {},
   "source": [
    "### Example: Visualizing and Transforming a potential\n",
    "   \n",
    "A potential is given by $\\Phi = \\frac{C}{r} = \\frac{C}{\\sqrt{(x^1)^2 + (x^2)^2 +(x^3)^2}}$ where C is a constant.\n",
    "   \n",
    "> note: $\\sin(\\omega t)$ has *continuous* derivatives and is of class $C^{\\infty}$, i.e see electric potential, continuous time derivatives of force (mass*acceleration) etc.\n",
    "   \n",
    "$$\\nabla \\Phi = \\frac{\\partial \\Phi}{\\partial x^i}\\mathbf e^i $$\n",
    "   \n",
    "now the derivatives are ...\n",
    "   \n",
    "$$ \\frac{\\partial \\Phi}{\\partial x^i} = - \\frac{C\\ x^i }{\\left((x^1)^2 + (x^2)^2 +(x^3)^2\\right)^{3/2}} = - \\frac{C\\ x^i }{r^{3}}$$\n",
    "   \n",
    "since substituting $q = (x^1)^2 + (x^2)^2 +(x^3)^2$, then use the chain rule $\\Phi_q q_{x^i}$\n",
    "   \n",
    "\n"
   ]
  },
  {
   "cell_type": "markdown",
   "metadata": {},
   "source": [
    "to express $\\nabla \\Phi$ in the $y$ coordinate system ...\n",
    "   \n",
    "$$\\frac{\\partial \\Phi}{\\partial y^i} =\\frac{\\partial \\Phi}{\\partial x^j}\\frac{\\partial x^j}{\\partial y^i} $$\n",
    "   \n"
   ]
  },
  {
   "cell_type": "markdown",
   "metadata": {},
   "source": [
    "\n",
    "using the Jacobian matrix computed earlier (J_1) we need to multiply the vector $[\\frac{\\partial \\Phi}{\\partial x^i} ]$ by the *transpose* of this Jacobian. (or transpose the vector and pre-multiply). "
   ]
  },
  {
   "cell_type": "markdown",
   "metadata": {},
   "source": [
    "The required matrix is ...\n",
    "   \n",
    "$$ \\mathbf J^T =\\left[\\begin{matrix}\\sin{\\left (y_{2} \\right )} \\cos{\\left (y_{3} \\right )} & \\sin{\\left (y_{2} \\right )} \\sin{\\left (y_{3} \\right )} & \\cos{\\left (y_{2} \\right )}\\\\y_{1} \\cos{\\left (y_{2} \\right )} \\cos{\\left (y_{3} \\right )} & y_{1} \\sin{\\left (y_{3} \\right )} \\cos{\\left (y_{2} \\right )} & - y_{1} \\sin{\\left (y_{2} \\right )}\\\\- y_{1} \\sin{\\left (y_{2} \\right )} \\sin{\\left (y_{3} \\right )} & y_{1} \\sin{\\left (y_{2} \\right )} \\cos{\\left (y_{3} \\right )} & 0\\end{matrix}\\right]$$\n",
    "\n",
    "and so ... \n",
    "\n",
    "$$ \\frac{\\partial \\Phi}{\\partial y^i} = \\mathbf J^T_{i1} \\frac{\\partial \\Phi}{\\partial x^1} + \\mathbf J^T_{i2} \\frac{\\partial \\Phi}{\\partial x^2}  +\\mathbf J^T_{i3} \\frac{\\partial \\Phi}{\\partial x^3} $$\n",
    "\n",
    "for each i.\n"
   ]
  },
  {
   "cell_type": "code",
   "execution_count": 49,
   "metadata": {},
   "outputs": [
    {
     "data": {
      "text/latex": [
       "$$\\left[\\begin{matrix}f_{1} \\sin{\\left (y_{2} \\right )} \\cos{\\left (y_{3} \\right )} + f_{2} \\sin{\\left (y_{2} \\right )} \\sin{\\left (y_{3} \\right )} + f_{3} \\cos{\\left (y_{2} \\right )}\\\\f_{1} y_{1} \\cos{\\left (y_{2} \\right )} \\cos{\\left (y_{3} \\right )} + f_{2} y_{1} \\sin{\\left (y_{3} \\right )} \\cos{\\left (y_{2} \\right )} - f_{3} y_{1} \\sin{\\left (y_{2} \\right )}\\\\- f_{1} y_{1} \\sin{\\left (y_{2} \\right )} \\sin{\\left (y_{3} \\right )} + f_{2} y_{1} \\sin{\\left (y_{2} \\right )} \\cos{\\left (y_{3} \\right )}\\end{matrix}\\right]$$"
      ],
      "text/plain": [
       "⎡    f₁⋅sin(y₂)⋅cos(y₃) + f₂⋅sin(y₂)⋅sin(y₃) + f₃⋅cos(y₂)     ⎤\n",
       "⎢                                                             ⎥\n",
       "⎢f₁⋅y₁⋅cos(y₂)⋅cos(y₃) + f₂⋅y₁⋅sin(y₃)⋅cos(y₂) - f₃⋅y₁⋅sin(y₂)⎥\n",
       "⎢                                                             ⎥\n",
       "⎣       -f₁⋅y₁⋅sin(y₂)⋅sin(y₃) + f₂⋅y₁⋅sin(y₂)⋅cos(y₃)        ⎦"
      ]
     },
     "execution_count": 49,
     "metadata": {},
     "output_type": "execute_result"
    }
   ],
   "source": [
    "f_1,f_2,f_3=symbols('f_1,f_2,f_3')\n",
    "grad_phi = Matrix([f_1,f_2,f_3])\n",
    "grad_phi_cov_y=J_1.T * grad_phi\n",
    "grad_phi_cov_y"
   ]
  },
  {
   "cell_type": "markdown",
   "metadata": {},
   "source": [
    "The vector above is the gradient of $\\Phi$ in the y coordinate system, transformed from the x coordinate system. From the first chapter, the gradient in curvlinear coordinates is\n",
    "\n",
    "The result should show the following, \n",
    "\n",
    "$$d\\Phi = \\frac{\\partial \\Phi}{\\partial x^i}dx^i$$\n",
    "\n",
    "then \n",
    "\n",
    "$$\\frac{\\partial \\Phi}{\\partial y^p} =  \\frac{\\partial \\Phi}{\\partial x^i}\\frac{\\partial x^i}{\\partial y^p}$$\n",
    "   \n",
    "but $\\frac{\\partial \\Phi}{\\partial x^i } = f_i$, so \n",
    "\n",
    "$$\\frac{\\partial \\Phi}{\\partial y^p} =  f_i\\frac{\\partial x^i}{\\partial y^p}=f_1\\frac{\\partial x^1}{\\partial y^p} + f_2\\frac{\\partial x^2}{\\partial y^p} + f_3\\frac{\\partial x^3}{\\partial y^p}$$\n",
    "\n",
    "and the $\\frac{\\partial x^i}{\\partial y^p} $ terms are clearly from the Jacobian, so we can see by inspection that the first row of the vector in the output is $f_i \\mathbf J_{1i} $ or  $\\mathbf J^T_{i1} f_i  $ and etc for the 2nd and third rows. Apparently from our formula \n",
    "\n",
    "$\\nabla \\Phi_p = \\frac{1}{h_p}\\frac{\\partial \\Phi}{\\partial u^p}$\n",
    "\n",
    "we need to multiply each row by the inverse of the corresponding scale factor $h^{-1}_p = \\frac{1}{h_p} = \\frac{1}{\\sqrt{g_{pp}}} = \\sqrt{g^{pp}}$ (not summed). This is working in this case, since the metric has non-zero entries off the diagonal.\n",
    "\n",
    "\n"
   ]
  },
  {
   "cell_type": "code",
   "execution_count": 50,
   "metadata": {},
   "outputs": [
    {
     "data": {
      "text/latex": [
       "$$\\left[\\begin{matrix}f_{1} \\sin{\\left (y_{2} \\right )} \\cos{\\left (y_{3} \\right )} + f_{2} \\sin{\\left (y_{2} \\right )} \\sin{\\left (y_{3} \\right )} + f_{3} \\cos{\\left (y_{2} \\right )}\\\\f_{1} \\cos{\\left (y_{2} \\right )} \\cos{\\left (y_{3} \\right )} + f_{2} \\sin{\\left (y_{3} \\right )} \\cos{\\left (y_{2} \\right )} - f_{3} \\sin{\\left (y_{2} \\right )}\\\\- \\frac{f_{1} \\sin{\\left (y_{2} \\right )}}{\\left|{\\sin{\\left (y_{2} \\right )}}\\right|} \\sin{\\left (y_{3} \\right )} + \\frac{f_{2} \\cos{\\left (y_{3} \\right )}}{\\left|{\\sin{\\left (y_{2} \\right )}}\\right|} \\sin{\\left (y_{2} \\right )}\\end{matrix}\\right]$$"
      ],
      "text/plain": [
       "⎡f₁⋅sin(y₂)⋅cos(y₃) + f₂⋅sin(y₂)⋅sin(y₃) + f₃⋅cos(y₂)⎤\n",
       "⎢                                                    ⎥\n",
       "⎢f₁⋅cos(y₂)⋅cos(y₃) + f₂⋅sin(y₃)⋅cos(y₂) - f₃⋅sin(y₂)⎥\n",
       "⎢                                                    ⎥\n",
       "⎢       f₁⋅sin(y₂)⋅sin(y₃)   f₂⋅sin(y₂)⋅cos(y₃)      ⎥\n",
       "⎢     - ────────────────── + ──────────────────      ⎥\n",
       "⎣           │sin(y₂)│            │sin(y₂)│           ⎦"
      ]
     },
     "execution_count": 50,
     "metadata": {},
     "output_type": "execute_result"
    }
   ],
   "source": [
    "grad_phi_y_phys = grad_phi_cov_y\n",
    "for p in range(0,3):\n",
    "    grad_phi_y_phys[p]=sqrt(sphere_metric_inv[p,p]) * grad_phi_cov_y[p]\n",
    "\n",
    "expand(simplify(grad_phi_y_phys))"
   ]
  },
  {
   "cell_type": "markdown",
   "metadata": {},
   "source": [
    "> here we have to appreciate that the magnitude of $\\frac{\\sin(y_2)}{|\\sin(y_2)|}$ is not equal to one. However I think symbolically understanding that the $\\sqrt(g^{pp})$ is performed by *not squaring* the values. We mean to cancel the value of the square root with the \"abs\" removed. \n",
    "> ### Or the sign varies with the $\\sin(y_2)$ and the value of $y_2$ is the ange $ 0 < y_2 < \\pi$ and therefore its never negative."
   ]
  },
  {
   "cell_type": "markdown",
   "metadata": {},
   "source": [
    "Then apparently the contravariant coefficients of the gradient in spherical coordinates are..."
   ]
  },
  {
   "cell_type": "code",
   "execution_count": 16,
   "metadata": {
    "collapsed": true
   },
   "outputs": [],
   "source": [
    "grad_phi_cont_y = (J_1.T * J_1).inverse_ADJ() *grad_phi_cov_y"
   ]
  },
  {
   "cell_type": "code",
   "execution_count": 17,
   "metadata": {},
   "outputs": [
    {
     "data": {
      "text/latex": [
       "$$\\left[\\begin{matrix}f_{1} \\sin{\\left (y_{2} \\right )} \\cos{\\left (y_{3} \\right )} + f_{2} \\sin{\\left (y_{2} \\right )} \\sin{\\left (y_{3} \\right )} + f_{3} \\cos{\\left (y_{2} \\right )}\\\\\\frac{1}{y_{1}} \\left(f_{1} \\cos{\\left (y_{2} \\right )} \\cos{\\left (y_{3} \\right )} + f_{2} \\sin{\\left (y_{3} \\right )} \\cos{\\left (y_{2} \\right )} - f_{3} \\sin{\\left (y_{2} \\right )}\\right)\\\\\\frac{1}{y_{1} \\sin{\\left (y_{2} \\right )}} \\left(- f_{1} \\sin{\\left (y_{3} \\right )} + f_{2} \\cos{\\left (y_{3} \\right )}\\right)\\end{matrix}\\right]$$"
      ],
      "text/plain": [
       "⎡f₁⋅sin(y₂)⋅cos(y₃) + f₂⋅sin(y₂)⋅sin(y₃) + f₃⋅cos(y₂)⎤\n",
       "⎢                                                    ⎥\n",
       "⎢f₁⋅cos(y₂)⋅cos(y₃) + f₂⋅sin(y₃)⋅cos(y₂) - f₃⋅sin(y₂)⎥\n",
       "⎢────────────────────────────────────────────────────⎥\n",
       "⎢                         y₁                         ⎥\n",
       "⎢                                                    ⎥\n",
       "⎢              -f₁⋅sin(y₃) + f₂⋅cos(y₃)              ⎥\n",
       "⎢              ────────────────────────              ⎥\n",
       "⎣                     y₁⋅sin(y₂)                     ⎦"
      ]
     },
     "execution_count": 17,
     "metadata": {},
     "output_type": "execute_result"
    }
   ],
   "source": [
    "grad_phi_cont_y = simplify(grad_phi_cont_y)\n",
    "grad_phi_cont_y"
   ]
  },
  {
   "cell_type": "code",
   "execution_count": 18,
   "metadata": {},
   "outputs": [
    {
     "data": {
      "text/latex": [
       "$$\\left[\\begin{matrix}f_{1}^{2} + f_{2}^{2} + f_{3}^{2}\\end{matrix}\\right]$$"
      ],
      "text/plain": [
       "⎡  2     2     2⎤\n",
       "⎣f₁  + f₂  + f₃ ⎦"
      ]
     },
     "execution_count": 18,
     "metadata": {},
     "output_type": "execute_result"
    }
   ],
   "source": [
    "simplify(grad_phi_cont_y.T*grad_phi_cov_y)"
   ]
  },
  {
   "cell_type": "markdown",
   "metadata": {},
   "source": [
    "Here we have resolved a fundamental theoretical problem ... the dot product of the contravariant components (in the y system) with the covariant components (in the y system) reveals the invariant dot product, the same as the dot product of the covariant components in the x system. I assume, for the moment, that the two components are equivalent in the x system because the metric of the cartesian system is the identity matrix.\n",
    "\n",
    "In this way it becomes clear that the curvilinear systems are embedded in the euclidean system.\n",
    "\n",
    "> All tensors obtained from forming inner products with the metric are called *associated tensors*.\n",
    "   \n",
    "The length of a vector $\\mathbf x_p$ is ...\n",
    "   \n",
    "$$ s = \\sqrt{ \\mathbf x^p \\mathbf x_p }=\\sqrt{ g^{pq} \\mathbf x_p \\mathbf x_q } = \\sqrt{ g_{pq} \\mathbf x^p \\mathbf x^q } $$\n",
    "   \n",
    "The angle between two vectors, $\\mathbf a^p$ and $\\mathbf b_p$ is\n",
    "   \n",
    "$$\\theta = \\text{acos} \\left( \\frac{ \\mathbf a^p \\mathbf b_p }{\\sqrt{(\\mathbf a^p \\mathbf a_p)(\\mathbf b^p \\mathbf b_p)}}\\right) $$\n",
    "   \n",
    "### Physical components\n",
    "   \n",
    "For a vector $\\mathbf A^q$  in orthogonal coordinates these are \n",
    "   \n",
    "$$ A_{u_1} = \\sqrt{g_{11}} A^1 = \\frac{A_1}{\\sqrt{g_{11}}}, \\quad A_{u_2} = \\sqrt{g_{22}} A^2 = \\frac{A_2}{\\sqrt{g_{22}}}, \\quad A_{u_3} = \\sqrt{g_{33}} A^3 = \\frac{A_3}{\\sqrt{g_{33}}} $$\n",
    "\n",
    "and are the projections of the vector on the tangents of the coordinate curves. For a 2nd order tensor \n",
    "   \n",
    "$$ A_{u_{pq}} = \\sqrt{g_{pp} g_{qq}} A^{pq} = \\frac{A_{pq}}{\\sqrt{g_{pp} g_{qq}}} $$"
   ]
  },
  {
   "cell_type": "code",
   "execution_count": null,
   "metadata": {
    "collapsed": true
   },
   "outputs": [],
   "source": []
  }
 ],
 "metadata": {
  "kernelspec": {
   "display_name": "Python 2",
   "language": "python",
   "name": "python2"
  },
  "language_info": {
   "codemirror_mode": {
    "name": "ipython",
    "version": 2
   },
   "file_extension": ".py",
   "mimetype": "text/x-python",
   "name": "python",
   "nbconvert_exporter": "python",
   "pygments_lexer": "ipython2",
   "version": "2.7.13"
  }
 },
 "nbformat": 4,
 "nbformat_minor": 1
}
