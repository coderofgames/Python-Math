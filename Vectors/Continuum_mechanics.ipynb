{
 "cells": [
  {
   "cell_type": "markdown",
   "metadata": {},
   "source": [
    "### Continuum mechanics\n",
    "   \n",
    "   notes from lecture series https://www.youtube.com/watch?v=0uVyprXjl08&t=1500s\n",
    "      \n",
    "   and to be augmented by http://web.mit.edu/abeyaratne/Volumes/RCA_Vol_II.pdf\n",
    "      \n",
    "   and also from the first volume.\n",
    "      \n",
    "   and http://users.ices.utexas.edu/~arbogast/cam397/oden0908.pdf\n",
    "   \n",
    "1) Starts with a study of cartesian tensors in 3 dimensions. \n",
    "   \n",
    "2) These are invariant under rotation of coordinates. \n",
    "   \n",
    "3) indices are usually subscripts\n",
    "   \n",
    "4) The Einstien summation convention is used\n",
    "   \n",
    "   \n",
    "Given two reference frames $(x_1,x_2,x_3)$ and $(\\bar{x_1},\\bar{x_2},\\bar{x_3})$ at the same orientation, the barred frame is rotated by a positive angle $\\theta$ about the $x_3$ axis, then the equation for the barred coordinates can be expressed in terms of the unbarred coordinates\n",
    "   \n",
    "$$ \\mathbf{ \\bar{e}}_1 = \\cos\\theta\\ \\mathbf e_1 + \\sin\\theta\\ \\mathbf e_2 + 0 \\mathbf e_3$$\n",
    "   \n",
    "and \n",
    "\n",
    "$$ \\mathbf{ \\bar{e}}_2 = -\\sin\\theta\\ \\mathbf e_1 + \\cos\\theta\\ \\mathbf e_2 + 0 \\mathbf e_3 $$\n",
    "\n",
    "and\n",
    "   \n",
    "$$ \\mathbf{ \\bar{e}}_3 =  \\mathbf e_3 $$"
   ]
  },
  {
   "cell_type": "markdown",
   "metadata": {},
   "source": [
    "then clearly since $\\sin\\theta = \\cos(\\frac{\\pi}{2} - \\theta)$ we can forn a matrix of direction cosines\n",
    "   \n",
    "$$\\mathbf {\\bar{e}} = \\mathbf Q\\ \\mathbf e$$ \n",
    "   \n",
    "Where Q contains the components representing the transform. Then\n",
    "   \n",
    "$\\mathbf {\\bar{e}}_1 = \\mathbf Q_{1j}\\mathbf e_j,\\quad \\mathbf {\\bar{e}}_2 = \\mathbf Q_{2j}\\mathbf e_j,\\quad \\mathbf {\\bar{e}}_3 = \\mathbf Q_{3j}\\mathbf e_j \\implies \\mathbf {\\bar{e}}_i = \\mathbf Q_{ij}\\mathbf e_j $ then taking a dot product \n",
    "   \n",
    "$$ \\mathbf {\\bar{e}}_i\\cdot \\mathbf {\\bar{e}}_k = (\\mathbf Q_{ij}\\mathbf e_j )\\cdot(\\mathbf Q_{kp}\\mathbf e_p ) = \\mathbf Q_{ij}\\mathbf Q_{kp}(\\mathbf e_j \\cdot\\mathbf e_p ) $$ \n",
    "\n",
    "but the $\\mathbf {\\bar{e}}_i\\cdot \\mathbf {\\bar{e}}_k = \\delta_{ik}$ therefore \n",
    "   \n",
    "$$ \\delta_{ik} = \\mathbf Q_{ij}\\mathbf Q_{kp}(\\delta_{jp} ) =\\mathbf Q_{ip}\\mathbf Q_{kp} $$\n",
    "\n",
    "In matrix form, this is equivalent to saying (using $\\mathbf {[1]}$ as the identity matrix)\n",
    "   \n",
    "$$ \\mathbf {[1]} = \\mathbf {[Q]}\\mathbf {[Q]}^T $$ \n",
    "   \n",
    "and taking the determinant of both sides it becomes clear that $\\mathbf {[Q]}^{-1} =\\mathbf {[Q]}^T $ and therefore $\\mathbf Q$ is an orthogonal matrix.\n",
    "    \n",
    "### Linear transforms\n",
    "   \n",
    "a transform $T :v\\in \\mathbb R^n \\to u \\in \\mathbb R^m$ is linear if \n",
    "   \n",
    "$$ \\mathbf {[T]}(\\alpha \\mathbf u + \\beta \\mathbf v ) = \\alpha \\mathbf{[T]}\\mathbf u + \\beta \\mathbf{[T]}\\mathbf v $$\n"
   ]
  },
  {
   "cell_type": "markdown",
   "metadata": {},
   "source": [
    "#### A quick example\n",
    "   \n",
    "To solve an equation of the form $ \\mathbf T_{ij} = \\gamma \\mathbf E_{kk}\\delta_{ij}+2\\mu \\mathbf E_{ij} $ first noting that the k is a dummy index, the $\\mathbf E_{kk} = \\mathbf E_{11} + \\mathbf E_{22} + \\mathbf E_{33}$ is the trace of the tensor ...\n",
    "   \n",
    "$$ \\mathbf T_{ij} = \\gamma ( \\mathbf E_{11} + \\mathbf E_{22} + \\mathbf E_{33})\\delta_{ij}+2\\mu \\mathbf E_{ij} $$\n",
    "   \n",
    "Then performing a contraction on i and j, gives\n",
    "   \n",
    "$$ \\mathbf T_{ii} = \\gamma ( \\mathbf E_{kk })\\delta_{ii}+2\\mu \\mathbf E_{ii}=3 \\gamma ( \\mathbf E_{kk })+2\\mu \\mathbf E_{ii} $$\n",
    "   \n",
    "since $\\delta_{ii}=3$ then solving for $\\mathbf E_{ii}$ in the next equation\n",
    "   \n",
    "$$ 3 \\gamma ( \\mathbf E_{kk })+2\\mu \\mathbf E_{ii} = 3 \\gamma ( ( \\mathbf E_{11} + \\mathbf E_{22} + \\mathbf E_{33}))+2\\mu ( ( \\mathbf E_{11} + \\mathbf E_{22} + \\mathbf E_{33})) = (3\\gamma + 2\\mu) \\mathbf E_{ii} $$\n",
    "   \n",
    "and this is solved \n",
    "    \n",
    "$$\\mathbf E_{ii} = \\frac{\\mathbf T_{ii}}{3\\gamma + 2\\mu} $$\n",
    "   \n",
    "then we can change the dummy index from i to k and substitute in the first equation\n",
    "   \n",
    "$$ \\mathbf T_{ij} = \\gamma \\frac{\\mathbf T_{kk}}{3\\gamma + 2\\mu}\\delta_{ij}+2\\mu \\mathbf E_{ij} \\implies \\mathbf E_{ij} = \\frac{1}{2\\mu} \\left(\\mathbf T_{ij}-\\frac{\\gamma}{3\\gamma + 2\\mu}\\mathbf T_{kk}\\delta_{ij}\\right)$$\n",
    " "
   ]
  },
  {
   "cell_type": "code",
   "execution_count": 32,
   "metadata": {},
   "outputs": [
    {
     "data": {
      "image/png": "[encoded data removed]",
      "text/latex": [
       "$$M_{i,j}$$"
      ],
      "text/plain": [
       "M[i, j]"
      ]
     },
     "execution_count": 32,
     "metadata": {},
     "output_type": "execute_result"
    }
   ],
   "source": [
    "from sympy import symbols, IndexedBase, Idx\n",
    "M = IndexedBase('M')\n",
    "i, j = symbols('i j', cls=Idx)\n",
    "M[i, j]\n"
   ]
  },
  {
   "cell_type": "code",
   "execution_count": 33,
   "metadata": {},
   "outputs": [
    {
     "data": {
      "image/png": "[encoded data removed]",
      "text/latex": [
       "$$M_{i,j} x_{j}$$"
      ],
      "text/plain": [
       "M[i, j]⋅x[j]"
      ]
     },
     "execution_count": 33,
     "metadata": {},
     "output_type": "execute_result"
    }
   ],
   "source": [
    "x = IndexedBase('x')\n",
    "M[i, j]*x[j]"
   ]
  },
  {
   "cell_type": "code",
   "execution_count": 34,
   "metadata": {},
   "outputs": [
    {
     "data": {
      "image/png": "[encoded data removed]",
      "text/latex": [
       "$$\\left ( dim_{1}, \\quad 2 dim_{1}, \\quad dim_{2}\\right )$$"
      ],
      "text/plain": [
       "(dim₁, 2⋅dim₁, dim₂)"
      ]
     },
     "execution_count": 34,
     "metadata": {},
     "output_type": "execute_result"
    }
   ],
   "source": [
    "dim1, dim2 = symbols('dim1 dim2', integer=True)\n",
    "A = IndexedBase('A', shape=(dim1, 2*dim1, dim2))\n",
    "A.shape"
   ]
  },
  {
   "cell_type": "code",
   "execution_count": 53,
   "metadata": {},
   "outputs": [
    {
     "data": {
      "image/png": "[encoded data removed]",
      "text/latex": [
       "$$M_{i,j} x_{j}$$"
      ],
      "text/plain": [
       "M[i, j]⋅x[j]"
      ]
     },
     "execution_count": 53,
     "metadata": {},
     "output_type": "execute_result"
    }
   ],
   "source": [
    "n, m = symbols('n m', integer=True)\n",
    "i = Idx('i', m)\n",
    "j = Idx('j', n)\n",
    "#M = IndexedBase('M',shape=(i, j))\n",
    "M = IndexedBase('M')\n",
    "M2 = IndexedBase('M',shape=(i, j))\n",
    "x = IndexedBase('x',shape=( j))\n",
    "M[i,j]*x[j]"
   ]
  },
  {
   "cell_type": "code",
   "execution_count": 56,
   "metadata": {},
   "outputs": [
    {
     "name": "stdout",
     "output_type": "stream",
     "text": [
      "None\n",
      "(i, j)\n"
     ]
    }
   ],
   "source": [
    "print M.shape\n",
    "print M2.shape"
   ]
  },
  {
   "cell_type": "code",
   "execution_count": 57,
   "metadata": {},
   "outputs": [
    {
     "data": {
      "image/png": "[encoded data removed]",
      "text/latex": [
       "$$\\left ( m, \\quad n\\right )$$"
      ],
      "text/plain": [
       "(m, n)"
      ]
     },
     "execution_count": 57,
     "metadata": {},
     "output_type": "execute_result"
    }
   ],
   "source": [
    "M[i, j].shape"
   ]
  },
  {
   "cell_type": "code",
   "execution_count": 59,
   "metadata": {},
   "outputs": [
    {
     "name": "stdout",
     "output_type": "stream",
     "text": [
      "[(0, m - 1), (0, n - 1)]\n",
      "[(0, m - 1), (0, n - 1)]\n"
     ]
    }
   ],
   "source": [
    "print M[i, j].ranges\n",
    "print M2[i, j].ranges"
   ]
  },
  {
   "cell_type": "code",
   "execution_count": 66,
   "metadata": {},
   "outputs": [
    {
     "data": {
      "image/png": "[encoded data removed]",
      "text/latex": [
       "$$\\left ( \\left\\{i, j\\right\\}, \\quad \\left \\{ \\right \\}\\right )$$"
      ],
      "text/plain": [
       "(set([i, j]), {})"
      ]
     },
     "execution_count": 66,
     "metadata": {},
     "output_type": "execute_result"
    }
   ],
   "source": [
    "get_indices(M2[i,j])"
   ]
  },
  {
   "cell_type": "code",
   "execution_count": 64,
   "metadata": {},
   "outputs": [
    {
     "data": {
      "image/png": "[encoded data removed]",
      "text/latex": [
       "$$\\left \\{ \\left ( i\\right ) : \\left\\{M_{i,i}\\right\\}\\right \\}$$"
      ],
      "text/plain": [
       "{(i,): set([M[i, i]])}"
      ]
     },
     "execution_count": 64,
     "metadata": {},
     "output_type": "execute_result"
    }
   ],
   "source": [
    "get_contraction_structure(M2[i,i])"
   ]
  },
  {
   "cell_type": "code",
   "execution_count": 75,
   "metadata": {},
   "outputs": [
    {
     "data": {
      "image/png": "[encoded data removed]",
      "text/latex": [
       "$$M_{p,q}$$"
      ],
      "text/plain": [
       "M[p, q]"
      ]
     },
     "execution_count": 75,
     "metadata": {},
     "output_type": "execute_result"
    }
   ],
   "source": [
    "\n",
    "k = Idx('k', (1,4))\n",
    "p = Idx('p', n)\n",
    "q = Idx('q', n)\n",
    "r = Idx('r', (1,4))\n",
    "M2[p,q]"
   ]
  },
  {
   "cell_type": "code",
   "execution_count": 73,
   "metadata": {},
   "outputs": [
    {
     "data": {
      "image/png": "[encoded data removed]",
      "text/latex": [
       "$$M_{1,1} + M_{2,2} + M_{3,3}$$"
      ],
      "text/plain": [
       "M[1, 1] + M[2, 2] + M[3, 3]"
      ]
     },
     "execution_count": 73,
     "metadata": {},
     "output_type": "execute_result"
    }
   ],
   "source": [
    "M[k,k].subs({k:1})+M[k,k].subs({k:2})+M[k,k].subs({k:3})"
   ]
  },
  {
   "cell_type": "code",
   "execution_count": 78,
   "metadata": {},
   "outputs": [
    {
     "data": {
      "image/png": "[encoded data removed]",
      "text/latex": [
       "$$2$$"
      ],
      "text/plain": [
       "2"
      ]
     },
     "execution_count": 78,
     "metadata": {},
     "output_type": "execute_result"
    }
   ],
   "source": [
    "M[k,r].rank"
   ]
  },
  {
   "cell_type": "markdown",
   "metadata": {},
   "source": [
    "### Tensor Product\n",
    "   \n",
    "The definition of the tensor product of two tensors $\\mathbf A$ and $\\mathbf B$ acting on a third tensor $\\mathbf C $ is \n",
    "   \n",
    "$$ (\\mathbf A \\otimes \\mathbf B)\\ \\mathbf C = (\\mathbf A \\cdot \\mathbf C)\\ \\mathbf B$$"
   ]
  },
  {
   "cell_type": "markdown",
   "metadata": {},
   "source": [
    "then is $\\mathbf a = a_i \\mathbf e_i$ and $\\mathbf b = b_j \\mathbf e_j$ the product\n",
    "   \n",
    "$$ \\mathbf a \\otimes \\mathbf b = a_i \\mathbf e_i \\otimes b_j \\mathbf e_j = a_i\\ b_j (\\mathbf e_i \\otimes \\mathbf e_j)$$\n",
    "   \n",
    "then $(\\mathbf e_i \\otimes \\mathbf e_j)$ forms a basis for a linear transformation. \n",
    "   \n",
    "$$(\\mathbf e_i \\otimes \\mathbf e_j) \\mathbf c = (\\mathbf e_j\\cdot \\mathbf c)\\mathbf e_i = c_j\\mathbf e_i$$\n",
    "   \n",
    "This is hard to understand at first. There is a mathematical definition that is abstract, and forms an algebra, however the process is greatly simplified by looking at the tensor product of the unit vectors as a many to many multiplication, \n",
    "\n",
    "$$ (\\mathbf e_i \\otimes \\mathbf e_j)  = \\mathbf e_i (\\mathbf e_1,\\mathbf e_2, \\mathbf e_3) $$\n",
    "   \n",
    "Then each i is a row of a vector of matrices. The part in brackets $(\\mathbf e_1,\\mathbf e_2, \\mathbf e_3) $ then \n",
    "   \n",
    "   $$\\mathbf E = (\\mathbf e_1,\\mathbf e_2, \\mathbf e_3) = \\left (\\begin{array}{ccc} 1& 0 & 0 \\\\ 0 & 1 & 0 \\\\ 0 & 0  &1 \\end{array}\\right) $$\n",
    "   \n",
    "is a matrix whose columns are the vectors $\\mathbf e_j$ and this is the identity matrix in the simplest case, then after multiplying each $\\mathbf e_i$ by each the diagonals contain the column vectors of each $\\mathbf e_i$.\n",
    "   \n",
    "$$ (\\mathbf e_i \\otimes \\mathbf e_j) = \\left( \\mathbf e_1 \\mathbf E,\\mathbf e_2 \\mathbf E, \\mathbf e_3 \\mathbf E \\right)$$\n",
    "   \n",
    "we then have a vector of matrices. Now a 1 times 3 vector containing vectors is a matrix, so a 3 times 3 matrix containing vectors means that each element contains a vector ...\n",
    "   \n",
    "$$  (\\mathbf e_i \\otimes \\mathbf e_j) = \\left (\\begin{array}{ccc} \\mathbf e_i & 0 & 0 \\\\ 0 & \\mathbf e_i & 0 \\\\ 0 & 0  &\\mathbf e_i \\end{array}\\right) $$\n",
    "   \n",
    "with an entry for each i. Then to multiply this by another tensor (either a vector or matrix in this case) means to take the components of C on the diagonal\n",
    "   \n",
    "$$  (\\mathbf e_i \\otimes \\mathbf e_j) \\mathbf c = \\left (\\begin{array}{ccc}   \\mathbf e_i & 0 & 0 \\\\ 0 &   \\mathbf e_i & 0 \\\\ 0 & 0  & \\mathbf e_i \\end{array}\\right) \\cdot \\mathbf c $$\n",
    "\n",
    "then the matrices dot with $\\mathbf c$ via the process of a matrix times a column vector \n",
    "\n",
    "$$  = \\left (\\begin{array}{ccc} \\mathbf c_1  \\mathbf e_i & 0 & 0 \\\\ 0 & \\mathbf c_2  \\mathbf e_i & 0 \\\\ 0 & 0  &\\mathbf c_3 \\mathbf e_i \\end{array}\\right)  $$\n",
    "   \n",
    "but then factorising the e_i terms\n",
    "\n",
    "$$ \\left (\\mathbf e_1\\cdot \\mathbf c,\\quad \\mathbf e_2\\cdot \\mathbf c,\\quad\\mathbf e_3\\cdot \\mathbf c  \\right) \\mathbf e_i = (\\mathbf e_j \\cdot \\mathbf c )\\mathbf e_i $$\n",
    "   \n",
    "and this establishes the identity.\n",
    "   \n"
   ]
  },
  {
   "cell_type": "markdown",
   "metadata": {},
   "source": [
    "### Note, the following section is best viewed on notebook viewer.\n",
    "   \n",
    "   \n",
    "https://github.com/coderofgames/Python-Math/blob/master/Vectors/Continuum_mechanics.ipynb\n",
    "\n",
    "   \n",
    "The way sympy implements the tensor product is not offered as a proof, just as an external verification tool."
   ]
  },
  {
   "cell_type": "code",
   "execution_count": 2,
   "metadata": {},
   "outputs": [
    {
     "data": {
      "text/latex": [
       "$$\\left[\\begin{matrix}\\left[\\begin{matrix}E_{11} e_{11} & E_{12} e_{11} & E_{13} e_{11}\\\\E_{21} e_{11} & E_{22} e_{11} & E_{23} e_{11}\\\\E_{31} e_{11} & E_{32} e_{11} & E_{33} e_{11}\\end{matrix}\\right] & \\left[\\begin{matrix}E_{11} e_{12} & E_{12} e_{12} & E_{13} e_{12}\\\\E_{21} e_{12} & E_{22} e_{12} & E_{23} e_{12}\\\\E_{31} e_{12} & E_{32} e_{12} & E_{33} e_{12}\\end{matrix}\\right] & \\left[\\begin{matrix}E_{11} e_{13} & E_{12} e_{13} & E_{13} e_{13}\\\\E_{21} e_{13} & E_{22} e_{13} & E_{23} e_{13}\\\\E_{31} e_{13} & E_{32} e_{13} & E_{33} e_{13}\\end{matrix}\\right]\\\\\\left[\\begin{matrix}E_{11} e_{21} & E_{12} e_{21} & E_{13} e_{21}\\\\E_{21} e_{21} & E_{22} e_{21} & E_{23} e_{21}\\\\E_{31} e_{21} & E_{32} e_{21} & E_{33} e_{21}\\end{matrix}\\right] & \\left[\\begin{matrix}E_{11} e_{22} & E_{12} e_{22} & E_{13} e_{22}\\\\E_{21} e_{22} & E_{22} e_{22} & E_{23} e_{22}\\\\E_{31} e_{22} & E_{32} e_{22} & E_{33} e_{22}\\end{matrix}\\right] & \\left[\\begin{matrix}E_{11} e_{23} & E_{12} e_{23} & E_{13} e_{23}\\\\E_{21} e_{23} & E_{22} e_{23} & E_{23} e_{23}\\\\E_{31} e_{23} & E_{32} e_{23} & E_{33} e_{23}\\end{matrix}\\right]\\\\\\left[\\begin{matrix}E_{11} e_{31} & E_{12} e_{31} & E_{13} e_{31}\\\\E_{21} e_{31} & E_{22} e_{31} & E_{23} e_{31}\\\\E_{31} e_{31} & E_{32} e_{31} & E_{33} e_{31}\\end{matrix}\\right] & \\left[\\begin{matrix}E_{11} e_{32} & E_{12} e_{32} & E_{13} e_{32}\\\\E_{21} e_{32} & E_{22} e_{32} & E_{23} e_{32}\\\\E_{31} e_{32} & E_{32} e_{32} & E_{33} e_{32}\\end{matrix}\\right] & \\left[\\begin{matrix}E_{11} e_{33} & E_{12} e_{33} & E_{13} e_{33}\\\\E_{21} e_{33} & E_{22} e_{33} & E_{23} e_{33}\\\\E_{31} e_{33} & E_{32} e_{33} & E_{33} e_{33}\\end{matrix}\\right]\\end{matrix}\\right]$$"
      ],
      "text/plain": [
       "⎡⎡E₁₁⋅e₁₁  E₁₂⋅e₁₁  E₁₃⋅e₁₁⎤  ⎡E₁₁⋅e₁₂  E₁₂⋅e₁₂  E₁₃⋅e₁₂⎤  ⎡E₁₁⋅e₁₃  E₁₂⋅e₁₃  \n",
       "⎢⎢                         ⎥  ⎢                         ⎥  ⎢                  \n",
       "⎢⎢E₂₁⋅e₁₁  E₂₂⋅e₁₁  E₂₃⋅e₁₁⎥  ⎢E₂₁⋅e₁₂  E₂₂⋅e₁₂  E₂₃⋅e₁₂⎥  ⎢E₂₁⋅e₁₃  E₂₂⋅e₁₃  \n",
       "⎢⎢                         ⎥  ⎢                         ⎥  ⎢                  \n",
       "⎢⎣E₃₁⋅e₁₁  E₃₂⋅e₁₁  E₃₃⋅e₁₁⎦  ⎣E₃₁⋅e₁₂  E₃₂⋅e₁₂  E₃₃⋅e₁₂⎦  ⎣E₃₁⋅e₁₃  E₃₂⋅e₁₃  \n",
       "⎢                                                                             \n",
       "⎢⎡E₁₁⋅e₂₁  E₁₂⋅e₂₁  E₁₃⋅e₂₁⎤  ⎡E₁₁⋅e₂₂  E₁₂⋅e₂₂  E₁₃⋅e₂₂⎤  ⎡E₁₁⋅e₂₃  E₁₂⋅e₂₃  \n",
       "⎢⎢                         ⎥  ⎢                         ⎥  ⎢                  \n",
       "⎢⎢E₂₁⋅e₂₁  E₂₂⋅e₂₁  E₂₃⋅e₂₁⎥  ⎢E₂₁⋅e₂₂  E₂₂⋅e₂₂  E₂₃⋅e₂₂⎥  ⎢E₂₁⋅e₂₃  E₂₂⋅e₂₃  \n",
       "⎢⎢                         ⎥  ⎢                         ⎥  ⎢                  \n",
       "⎢⎣E₃₁⋅e₂₁  E₃₂⋅e₂₁  E₃₃⋅e₂₁⎦  ⎣E₃₁⋅e₂₂  E₃₂⋅e₂₂  E₃₃⋅e₂₂⎦  ⎣E₃₁⋅e₂₃  E₃₂⋅e₂₃  \n",
       "⎢                                                                             \n",
       "⎢⎡E₁₁⋅e₃₁  E₁₂⋅e₃₁  E₁₃⋅e₃₁⎤  ⎡E₁₁⋅e₃₂  E₁₂⋅e₃₂  E₁₃⋅e₃₂⎤  ⎡E₁₁⋅e₃₃  E₁₂⋅e₃₃  \n",
       "⎢⎢                         ⎥  ⎢                         ⎥  ⎢                  \n",
       "⎢⎢E₂₁⋅e₃₁  E₂₂⋅e₃₁  E₂₃⋅e₃₁⎥  ⎢E₂₁⋅e₃₂  E₂₂⋅e₃₂  E₂₃⋅e₃₂⎥  ⎢E₂₁⋅e₃₃  E₂₂⋅e₃₃  \n",
       "⎢⎢                         ⎥  ⎢                         ⎥  ⎢                  \n",
       "⎣⎣E₃₁⋅e₃₁  E₃₂⋅e₃₁  E₃₃⋅e₃₁⎦  ⎣E₃₁⋅e₃₂  E₃₂⋅e₃₂  E₃₃⋅e₃₂⎦  ⎣E₃₁⋅e₃₃  E₃₂⋅e₃₃  \n",
       "\n",
       "E₁₃⋅e₁₃⎤⎤\n",
       "       ⎥⎥\n",
       "E₂₃⋅e₁₃⎥⎥\n",
       "       ⎥⎥\n",
       "E₃₃⋅e₁₃⎦⎥\n",
       "        ⎥\n",
       "E₁₃⋅e₂₃⎤⎥\n",
       "       ⎥⎥\n",
       "E₂₃⋅e₂₃⎥⎥\n",
       "       ⎥⎥\n",
       "E₃₃⋅e₂₃⎦⎥\n",
       "        ⎥\n",
       "E₁₃⋅e₃₃⎤⎥\n",
       "       ⎥⎥\n",
       "E₂₃⋅e₃₃⎥⎥\n",
       "       ⎥⎥\n",
       "E₃₃⋅e₃₃⎦⎦"
      ]
     },
     "execution_count": 2,
     "metadata": {},
     "output_type": "execute_result"
    }
   ],
   "source": [
    "from sympy import *\n",
    "from sympy import Array, tensorproduct\n",
    "from sympy.abc import x,y,z,t\n",
    "init_printing(use_latex = true)\n",
    "\n",
    "e_11, e_12, e_13 = symbols('e_11, e_12, e_13')\n",
    "e_21, e_22, e_23 = symbols('e_21, e_22, e_23')\n",
    "e_31, e_32, e_33 = symbols('e_31, e_32, e_33')\n",
    "\n",
    "E_11, E_12, E_13 = symbols('E_11, E_12, E_13')\n",
    "E_21, E_22, E_23 = symbols('E_21, E_22, E_23')\n",
    "E_31, E_32, E_33 = symbols('E_31, E_32, E_33')\n",
    "\n",
    "e_i = Array([[e_11,e_12,e_13],[e_21,e_22,e_23],[e_31,e_32,e_33]])\n",
    "e_j = Array([[E_11,E_12,E_13],[E_21,E_22,E_23],[E_31,E_32,E_33]])\n",
    "\n",
    "U2 = tensorproduct(e_i, e_j)\n",
    "U2"
   ]
  },
  {
   "cell_type": "code",
   "execution_count": 3,
   "metadata": {},
   "outputs": [
    {
     "data": {
      "text/latex": [
       "$$\\left[\\begin{matrix}\\left[\\begin{matrix}E_{11} & E_{12} & E_{13}\\\\E_{21} & E_{22} & E_{23}\\\\E_{31} & E_{32} & E_{33}\\end{matrix}\\right] & \\left[\\begin{matrix}0 & 0 & 0\\\\0 & 0 & 0\\\\0 & 0 & 0\\end{matrix}\\right] & \\left[\\begin{matrix}0 & 0 & 0\\\\0 & 0 & 0\\\\0 & 0 & 0\\end{matrix}\\right]\\\\\\left[\\begin{matrix}0 & 0 & 0\\\\0 & 0 & 0\\\\0 & 0 & 0\\end{matrix}\\right] & \\left[\\begin{matrix}E_{11} & E_{12} & E_{13}\\\\E_{21} & E_{22} & E_{23}\\\\E_{31} & E_{32} & E_{33}\\end{matrix}\\right] & \\left[\\begin{matrix}0 & 0 & 0\\\\0 & 0 & 0\\\\0 & 0 & 0\\end{matrix}\\right]\\\\\\left[\\begin{matrix}0 & 0 & 0\\\\0 & 0 & 0\\\\0 & 0 & 0\\end{matrix}\\right] & \\left[\\begin{matrix}0 & 0 & 0\\\\0 & 0 & 0\\\\0 & 0 & 0\\end{matrix}\\right] & \\left[\\begin{matrix}E_{11} & E_{12} & E_{13}\\\\E_{21} & E_{22} & E_{23}\\\\E_{31} & E_{32} & E_{33}\\end{matrix}\\right]\\end{matrix}\\right]$$"
      ],
      "text/plain": [
       "⎡⎡E₁₁  E₁₂  E₁₃⎤     ⎡0  0  0⎤        ⎡0  0  0⎤   ⎤\n",
       "⎢⎢             ⎥     ⎢       ⎥        ⎢       ⎥   ⎥\n",
       "⎢⎢E₂₁  E₂₂  E₂₃⎥     ⎢0  0  0⎥        ⎢0  0  0⎥   ⎥\n",
       "⎢⎢             ⎥     ⎢       ⎥        ⎢       ⎥   ⎥\n",
       "⎢⎣E₃₁  E₃₂  E₃₃⎦     ⎣0  0  0⎦        ⎣0  0  0⎦   ⎥\n",
       "⎢                                                 ⎥\n",
       "⎢   ⎡0  0  0⎤     ⎡E₁₁  E₁₂  E₁₃⎤     ⎡0  0  0⎤   ⎥\n",
       "⎢   ⎢       ⎥     ⎢             ⎥     ⎢       ⎥   ⎥\n",
       "⎢   ⎢0  0  0⎥     ⎢E₂₁  E₂₂  E₂₃⎥     ⎢0  0  0⎥   ⎥\n",
       "⎢   ⎢       ⎥     ⎢             ⎥     ⎢       ⎥   ⎥\n",
       "⎢   ⎣0  0  0⎦     ⎣E₃₁  E₃₂  E₃₃⎦     ⎣0  0  0⎦   ⎥\n",
       "⎢                                                 ⎥\n",
       "⎢   ⎡0  0  0⎤        ⎡0  0  0⎤     ⎡E₁₁  E₁₂  E₁₃⎤⎥\n",
       "⎢   ⎢       ⎥        ⎢       ⎥     ⎢             ⎥⎥\n",
       "⎢   ⎢0  0  0⎥        ⎢0  0  0⎥     ⎢E₂₁  E₂₂  E₂₃⎥⎥\n",
       "⎢   ⎢       ⎥        ⎢       ⎥     ⎢             ⎥⎥\n",
       "⎣   ⎣0  0  0⎦        ⎣0  0  0⎦     ⎣E₃₁  E₃₂  E₃₃⎦⎦"
      ]
     },
     "execution_count": 3,
     "metadata": {},
     "output_type": "execute_result"
    }
   ],
   "source": [
    "U3 = U2.subs({e_11:1,e_12:0,e_13:0,e_21:0,e_22:1,e_23:0,e_31:0,e_32:0,e_33:1} )\n",
    "U3"
   ]
  },
  {
   "cell_type": "code",
   "execution_count": 4,
   "metadata": {},
   "outputs": [
    {
     "data": {
      "text/latex": [
       "$$\\left[\\begin{matrix}\\left[\\begin{matrix}1 & 0 & 0\\\\0 & 1 & 0\\\\0 & 0 & 1\\end{matrix}\\right] & \\left[\\begin{matrix}0 & 0 & 0\\\\0 & 0 & 0\\\\0 & 0 & 0\\end{matrix}\\right] & \\left[\\begin{matrix}0 & 0 & 0\\\\0 & 0 & 0\\\\0 & 0 & 0\\end{matrix}\\right]\\\\\\left[\\begin{matrix}0 & 0 & 0\\\\0 & 0 & 0\\\\0 & 0 & 0\\end{matrix}\\right] & \\left[\\begin{matrix}1 & 0 & 0\\\\0 & 1 & 0\\\\0 & 0 & 1\\end{matrix}\\right] & \\left[\\begin{matrix}0 & 0 & 0\\\\0 & 0 & 0\\\\0 & 0 & 0\\end{matrix}\\right]\\\\\\left[\\begin{matrix}0 & 0 & 0\\\\0 & 0 & 0\\\\0 & 0 & 0\\end{matrix}\\right] & \\left[\\begin{matrix}0 & 0 & 0\\\\0 & 0 & 0\\\\0 & 0 & 0\\end{matrix}\\right] & \\left[\\begin{matrix}1 & 0 & 0\\\\0 & 1 & 0\\\\0 & 0 & 1\\end{matrix}\\right]\\end{matrix}\\right]$$"
      ],
      "text/plain": [
       "⎡⎡1  0  0⎤  ⎡0  0  0⎤  ⎡0  0  0⎤⎤\n",
       "⎢⎢       ⎥  ⎢       ⎥  ⎢       ⎥⎥\n",
       "⎢⎢0  1  0⎥  ⎢0  0  0⎥  ⎢0  0  0⎥⎥\n",
       "⎢⎢       ⎥  ⎢       ⎥  ⎢       ⎥⎥\n",
       "⎢⎣0  0  1⎦  ⎣0  0  0⎦  ⎣0  0  0⎦⎥\n",
       "⎢                               ⎥\n",
       "⎢⎡0  0  0⎤  ⎡1  0  0⎤  ⎡0  0  0⎤⎥\n",
       "⎢⎢       ⎥  ⎢       ⎥  ⎢       ⎥⎥\n",
       "⎢⎢0  0  0⎥  ⎢0  1  0⎥  ⎢0  0  0⎥⎥\n",
       "⎢⎢       ⎥  ⎢       ⎥  ⎢       ⎥⎥\n",
       "⎢⎣0  0  0⎦  ⎣0  0  1⎦  ⎣0  0  0⎦⎥\n",
       "⎢                               ⎥\n",
       "⎢⎡0  0  0⎤  ⎡0  0  0⎤  ⎡1  0  0⎤⎥\n",
       "⎢⎢       ⎥  ⎢       ⎥  ⎢       ⎥⎥\n",
       "⎢⎢0  0  0⎥  ⎢0  0  0⎥  ⎢0  1  0⎥⎥\n",
       "⎢⎢       ⎥  ⎢       ⎥  ⎢       ⎥⎥\n",
       "⎣⎣0  0  0⎦  ⎣0  0  0⎦  ⎣0  0  1⎦⎦"
      ]
     },
     "execution_count": 4,
     "metadata": {},
     "output_type": "execute_result"
    }
   ],
   "source": [
    "U3 = U3.subs({E_11:1,E_12:0,E_13:0,E_21:0,E_22:1,E_23:0,E_31:0,E_32:0,E_33:1} )\n",
    "U3"
   ]
  },
  {
   "cell_type": "code",
   "execution_count": 5,
   "metadata": {},
   "outputs": [
    {
     "ename": "NameError",
     "evalue": "name 'innerproduct' is not defined",
     "output_type": "error",
     "traceback": [
      "\u001b[1;31m---------------------------------------------------------------------------\u001b[0m",
      "\u001b[1;31mNameError\u001b[0m                                 Traceback (most recent call last)",
      "\u001b[1;32m<ipython-input-5-a78dd685063e>\u001b[0m in \u001b[0;36m<module>\u001b[1;34m()\u001b[0m\n\u001b[0;32m      2\u001b[0m \u001b[0mc\u001b[0m \u001b[1;33m=\u001b[0m \u001b[0mArray\u001b[0m\u001b[1;33m(\u001b[0m\u001b[1;33m[\u001b[0m\u001b[0mc_1\u001b[0m\u001b[1;33m,\u001b[0m\u001b[0mc_2\u001b[0m\u001b[1;33m,\u001b[0m\u001b[0mc_3\u001b[0m\u001b[1;33m]\u001b[0m\u001b[1;33m)\u001b[0m\u001b[1;33m\u001b[0m\u001b[0m\n\u001b[0;32m      3\u001b[0m \u001b[1;33m\u001b[0m\u001b[0m\n\u001b[1;32m----> 4\u001b[1;33m \u001b[0minnerproduct\u001b[0m\u001b[1;33m(\u001b[0m\u001b[0mU3\u001b[0m\u001b[1;33m,\u001b[0m\u001b[0mc\u001b[0m\u001b[1;33m)\u001b[0m\u001b[1;33m\u001b[0m\u001b[0m\n\u001b[0m",
      "\u001b[1;31mNameError\u001b[0m: name 'innerproduct' is not defined"
     ]
    }
   ],
   "source": [
    "c_1,c_2,c_3 = symbols('c_1,c_2,c_3')\n",
    "c = Array([c_1,c_2,c_3])\n",
    "\n",
    "innerproduct(U3,c)"
   ]
  },
  {
   "cell_type": "markdown",
   "metadata": {},
   "source": [
    "There is another way to view the tensor product. The tensor product of two vectors is the outer product\n",
    "\n",
    "$$\\mathbf v \\otimes \\mathbf u = \\left( \\begin{array}{ccc}v_1 u_1 & v_1 u_2 &v_1 u_3 \\\\ v_2 u_1  & v_2 u_2 &v_2 u_3  \\\\ v_3 u_1 & v_3 u_2 &v_3 u_3 \\end{array}\\right)$$\n",
    "\n",
    "And the outer product is equivalent to a column vector times a row vector in matrix notation (dot product is the other way arouond)\n",
    "   \n",
    "$$ \\mathbf v_i \\otimes \\mathbf u_j  = [\\mathbf v][\\mathbf u]^T $$\n",
    "\n",
    "If looked at in matrix form, the outer product generalizes (apparently) to the Kronecker product (the tensor product) and appears as in the sympy output above. So the products of the individual basis vectors are outer products. \n",
    " \n",
    "   \n",
    "$$\\mathbf e_i \\otimes \\mathbf e_j = \\left( \\begin{array}{ccc}\\mathbf e_1  \\mathbf e_1 & \\mathbf e_1  \\mathbf e_2 &\\mathbf e_1  \\mathbf e_3 \\\\ \\mathbf e_2  \\mathbf e_1 & \\mathbf e_2  \\mathbf e_2 &\\mathbf e_2  \\mathbf e_3 \\\\ \\mathbf e_3  \\mathbf e_1 & \\mathbf e_3  \\mathbf e_2 &\\mathbf e_3  \\mathbf e_3 \\end{array}\\right)$$\n",
    "   \n",
    "Then operating on $\\mathbf c$ is like post multiplying this matrix by a column vector\n",
    "\n",
    "$$(\\mathbf e_i \\otimes \\mathbf e_j) \\mathbf c = \\left( \\begin{array}{ccc} (\\mathbf e_1 \\mathbf e_1)c_1 & (\\mathbf e_1  \\mathbf e_2) c_2 & (\\mathbf e_1  \\mathbf e_3)c_3 \\\\ (\\mathbf e_2 \\mathbf e_1)c_1 & (\\mathbf e_2  \\mathbf e_2)c_2 & (\\mathbf e_2  \\mathbf e_3)c_3 \\\\ (\\mathbf e_3 \\mathbf e_1)c_1 & (\\mathbf e_3  \\mathbf e_2)c_2 & (\\mathbf e_3  \\mathbf e_3)c_3 \\end{array}\\right)$$\n",
    "   \n",
    "and then factorising the dot with $\\mathbf e_i$ gives a column (matrix) multiplying a row (matrix) \n",
    "   \n",
    "$$(\\mathbf e_i \\otimes \\mathbf e_j) \\mathbf c = \\mathbf e_i  \\left( \\begin{array}{ccc} (\\mathbf e_1)c_1 & ( \\mathbf e_2) c_2 & (\\mathbf e_3)c_3  \\end{array}\\right) = \\mathbf e_i (\\mathbf e_j \\cdot \\mathbf c) =(\\mathbf e_j \\cdot \\mathbf c) \\mathbf e_i $$\n",
    "\n",
    "### ? \n",
    "   \n",
    "This is all pretty confusing and consistency is important. As we have the tensor product of two bases, that's 9 components times 9 components = 27 components, multiplying by c must operate as a dot product with j, by definition. "
   ]
  },
  {
   "cell_type": "markdown",
   "metadata": {},
   "source": [
    "### Dyadic Product.\n",
    "   \n",
    "View as above, the tensor product resemebles the dyadic product. For example, the gradient of a vector (not a scalar function) is defined as\n",
    "   \n",
    "$$ \\nabla \\mathbf A = \\left( \\frac{\\partial }{\\partial x_1}\\mathbf e_1 +\\frac{\\partial }{\\partial x_2}\\mathbf e_2 +  \\frac{\\partial }{\\partial x_3}\\mathbf e_3 \\right) ( A_1 \\mathbf e_1 + A_2\\mathbf e_2 + A_3 \\mathbf e_1) $$\n",
    "   \n",
    "This evaluates to\n",
    "   \n",
    "$$ \\frac{\\partial A_1}{\\partial x_1}\\mathbf e_1 \\mathbf e_1+\\frac{\\partial A_2}{\\partial x_1}\\mathbf e_1 \\mathbf e_2 + \\frac{\\partial A_3}{\\partial x_1}\\mathbf e_1 \\mathbf e_3 +  \\frac{\\partial A_1}{\\partial x_2}\\mathbf e_2 \\mathbf e_1+\\frac{\\partial A_2}{\\partial x_2}\\mathbf e_2 \\mathbf e_2 + \\frac{\\partial A_3}{\\partial x_2}\\mathbf e_2 \\mathbf e_3 +  \\frac{\\partial A_1}{\\partial x_3}\\mathbf e_3 \\mathbf e_1+\\frac{\\partial A_2}{\\partial x_3}\\mathbf e_3 \\mathbf e_2 + \\frac{\\partial A_3}{\\partial x_3}\\mathbf e_3 \\mathbf e_3 $$\n",
    "   \n",
    "And hence we have a matrix form\n",
    "   \n",
    "$$ \\left(\\begin{array}{ccc} \\frac{\\partial A_1}{\\partial x_1} &\\frac{\\partial A_2}{\\partial x_1} & \\frac{\\partial A_3}{\\partial x_1}\\\\ \\frac{\\partial A_1}{\\partial x_2} &\\frac{\\partial A_2}{\\partial x_2} & \\frac{\\partial A_3}{\\partial x_2} \\\\ \\frac{\\partial A_1}{\\partial x_3} &\\frac{\\partial A_2}{\\partial x_3} & \\frac{\\partial A_3}{\\partial x_3} \\end{array}\\right)$$\n",
    "   \n",
    "This matrix is a transposed form of a indexed matrix, $\\frac{\\partial A_j}{\\partial x_i} = M_{ij}$, since the unit vector with the gradient operator appears first $\\mathbf e_i \\mathbf e_j$ in the dyadic multiplication, perhaps calling the columns of this matrix the vectors was an inspiration to transpose the conventional tensor notation of having the rows in the numerator of the derivative operator. Although some texts list the jacobian matrix as transposed, and perform the cross product with the unit vectors in the first column instead of the first row.  "
   ]
  },
  {
   "cell_type": "markdown",
   "metadata": {},
   "source": [
    "#### Identity\n",
    "   \n",
    "$$\\mathbf e_i \\cdot \\mathbf e_j = \\delta_{ij}$$\n",
    "   \n",
    "the kronecker delta, is 1 if i=j and zero otherwise.\n",
    "\n",
    "#### Identity\n",
    "   \n",
    "$$ \\large\\varepsilon_{abc}\\varepsilon_{ade} = \\delta_{bd}\\delta_{ce}- \\delta_{be}\\delta_{cd}$$\n",
    "   \n",
    "\n",
    "   \n",
    "#### Definition \n",
    "   \n",
    "Multiplication of a second order tensor by a vector returns a vector.\n",
    "   \n",
    "$$ \\mathbf T_{ij} \\mathbf v_j = \\mathbf u_i $$\n",
    "   \n",
    "where $\\mathbf u_i$ is a vector, not a list of basis vectors.\n",
    "   \n",
    "#### Rotations\n",
    "   \n",
    "If a barred coordinate system is rotated compared to the reference system, \n",
    "   \n",
    "$$\\mathbf u_i= \\mathbf Q^T_{ij}\\mathbf{\\bar{u}}_j$$\n",
    "   \n",
    "represents the vector in the reference system. The matrix $\\mathbf Q$ is the matrix of direcion cosines such that\n",
    "   \n",
    "$$\\mathbf Q_{ji}\\mathbf u_i= \\mathbf{\\bar{u}}_j$$\n",
    "   \n",
    "Then for a second order tensor\n",
    "   \n",
    "$$\\mathbf{\\bar{T}}_{ab} = \\mathbf Q_{ar}\\mathbf Q_{bs}\\mathbf T_{rs}$$\n",
    "   \n",
    "Third order\n",
    "   \n",
    "$$\\mathbf{\\bar{T}}_{abc} = \\mathbf Q_{ar} \\mathbf Q_{bs} \\mathbf Q_{ct}\\mathbf T_{bst}$$"
   ]
  },
  {
   "cell_type": "markdown",
   "metadata": {},
   "source": [
    "### Definition\n",
    "   \n",
    "$$\\mathbf u = \\mathbf u_i \\mathbf e_i = \\mathbf{\\bar{u}}_i \\mathbf Q_{ij}\\mathbf e_j$$\n",
    "   \n",
    "then the dot product with $\\mathbf e_k$ gives\n",
    "   \n",
    "$$ \\mathbf u_i \\mathbf e_i \\cdot \\mathbf e_k =\\mathbf u_i \\delta_{ik}= \\mathbf u_k= \\mathbf{\\bar{u}}_i \\mathbf Q_{ij}\\mathbf e_j \\cdot \\mathbf e_k = \\mathbf{\\bar{u}}_i \\mathbf Q_{ij}\\delta_{jk} = \\mathbf{\\bar{u}}_i \\mathbf Q_{ik }$$"
   ]
  },
  {
   "cell_type": "markdown",
   "metadata": {},
   "source": [
    "### Definition\n",
    "   \n",
    "If $\\mathbf T = \\mathbf T_{ij} (\\mathbf e_i \\otimes \\mathbf e_j) $ is arbitrarily defined, then\n",
    "   \n",
    "$$\\mathbf T\\mathbf e_k = \\mathbf T_{ij} (\\mathbf e_i \\otimes \\mathbf e_j)\\mathbf e_k = \\mathbf T_{ij}(\\mathbf e_j\\cdot \\mathbf e_k) \\mathbf e_i = \\mathbf T_{ij}\\delta_{jk} \\mathbf e_i = \\mathbf T_{ik}\\mathbf e_i$$\n",
    "   \n",
    "### Definition\n",
    "   \n",
    "$$ \\mathbf e_j \\cdot \\mathbf T \\mathbf e_k = \\mathbf e_j \\cdot \\mathbf T_{ik}\\mathbf e_i = \\mathbf T_{ik}\\delta_{ji}=\\mathbf T_{jk}$$\n",
    "   \n",
    "### Definition\n",
    "   \n",
    "If a coordinate frame is rotated with respect to a reference coordinate frame and the unit vectors of the rotated frame are $\\mathbf {\\bar{e}}_j$, then a Tensor $\\mathbf T$ represented in the rotated frame is computed with\n",
    "   \n",
    "$$\\mathbf{ \\bar{T}}_{jk}= \\mathbf {\\bar{e}}_j  \\cdot \\mathbf T\\mathbf {\\bar{e}}_i $$\n",
    "   \n",
    "Then we can substitute for the coordinates of the rotated frame by representing them as functions of the reference coordinates $ \\mathbf {\\bar{e}}_j = \\mathbf {\\bar{e}}_j( \\mathbf e_i)$ as follows\n",
    "   \n",
    "$$\\mathbf {\\bar{e}}_j  \\cdot \\mathbf T\\mathbf {\\bar{e}}_i = \\mathbf Q_{jl}\\mathbf {e}_l  \\cdot \\mathbf T\\mathbf Q_{km}\\mathbf {e}_m$$\n",
    "\n",
    "since we defined above that to transform the coordinate basis, $\\mathbf {\\bar{e}}_j= \\mathbf Q_{jl}\\mathbf {e}_l $. Then the component of each $\\mathbf Q$ is a scalar, and we have a dot product $(\\mathbf {e}_l  \\cdot \\mathbf T \\mathbf {e}_m)$, subsituting this \n",
    "   \n",
    "$$=\\mathbf Q_{jl}\\mathbf Q_{km} (\\mathbf {e}_l  \\cdot \\mathbf T \\mathbf {e}_m) =\\mathbf Q_{jl}\\mathbf Q_{km} \\mathbf T_{lm} $$\n",
    "   \n",
    "Since the only dot product is $(\\mathbf {e}_l  \\cdot \\mathbf T \\mathbf {e}_m) = \\mathbf T_{lm}$ from the definition above. \n",
    "   \n"
   ]
  },
  {
   "cell_type": "markdown",
   "metadata": {},
   "source": [
    "### Definition\n",
    "   \n",
    "Any 2nd order tensor can be written as\n",
    "   \n",
    "$$ \\mathbf T = \\frac{1}{2}\\left[ \\mathbf T + \\mathbf T^T\\right]+\\frac{1}{2}\\left[ \\mathbf T - \\mathbf T^T\\right]$$\n",
    "   \n",
    "Then $\\frac{1}{2}\\left[ \\mathbf T + \\mathbf T^T\\right]$ is the symmetric part, $\\mathbf T^s$$ and \\frac{1}{2}\\left[ \\mathbf T - \\mathbf T^T\\right]$ is the skew symmetric or anti-symmetric part $\\mathbf T^a$ then\n",
    "   \n",
    "$$\\mathbf T = \\mathbf T^s + \\mathbf T^a$$\n",
    "   \n",
    "They symmetric part has 6 independant components, and the skew symmetric part has 3 independant components, resembles a cross product vector with zeros on the diagonal. The skew symmetric vector is\n",
    "   \n",
    "$$\\mathbf u_i = \\frac{1}{2} \\varepsilon_{ijk}\\mathbf T_{jk}^a $$\n",
    "   \n",
    "and then multiplying both sides by $\\varepsilon_{lmi}$ gives\n",
    "   \n",
    "$$\\varepsilon_{lmi}\\mathbf u_i = \\frac{1}{2} \\varepsilon_{lmi}\\varepsilon_{ijk}\\mathbf T_{jk}^a =\\frac{1}{2} (\\varepsilon_{ilm}\\varepsilon_{ijk})\\mathbf T_{jk}^a=\\frac{1}{2} (\\delta_{lj}\\delta_{mk}-\\delta_{lk}\\delta_{mj})\\mathbf T_{jk}^a=\\frac{1}{2} (\\delta_{lj}\\delta_{mk}\\mathbf T_{jk}^a-\\delta_{lk}\\delta_{mj}\\mathbf T_{jk}^a)=\\frac{1}{2} (\\mathbf T_{lm}^a-\\mathbf T_{ml}^a) $$"
   ]
  },
  {
   "cell_type": "code",
   "execution_count": 6,
   "metadata": {},
   "outputs": [
    {
     "data": {
      "text/plain": [
       "<matplotlib.text.Text at 0x9810cf8>"
      ]
     },
     "execution_count": 6,
     "metadata": {},
     "output_type": "execute_result"
    },
    {
     "data": {
      "image/png": "[encoded data removed]",
      "text/plain": [
       "<matplotlib.figure.Figure at 0x8bf4c50>"
      ]
     },
     "metadata": {},
     "output_type": "display_data"
    }
   ],
   "source": [
    "\"\"\"\n",
    "Demo of a PathPatch object.\n",
    "\"\"\"\n",
    "import matplotlib.path as mpath\n",
    "import matplotlib.patches as mpatches\n",
    "import matplotlib.pyplot as plt\n",
    "from matplotlib import transforms\n",
    "%matplotlib inline\n",
    "\n",
    "\n",
    "fig, ax = plt.subplots()\n",
    "\n",
    "def draw_potato_diagram(ax):\n",
    "\n",
    "    Path = mpath.Path\n",
    "    path_data = [\n",
    "        (Path.MOVETO, (1.58, -0.5)),\n",
    "        (Path.CURVE4, (0.35, -0.5)),\n",
    "        (Path.CURVE4, (-1.75, 2.0)),\n",
    "        (Path.CURVE4, (0.8, 1.16)),\n",
    "        (Path.LINETO, (0.85, 1.15)),\n",
    "        (Path.CURVE4, (2.2, 3.2)),\n",
    "        (Path.CURVE4, (3, 0.05)),\n",
    "        (Path.CURVE4, (2.0, -0.5)),\n",
    "        (Path.CLOSEPOLY, (1.58, -0.5)),\n",
    "        ]\n",
    "    codes, verts = zip(*path_data)\n",
    "    base = plt.gca().transData\n",
    "    rot = transforms.Affine2D().rotate_deg(90)\n",
    "    path = mpath.Path(verts, codes)\n",
    "\n",
    "    trans = transforms.Affine2D().translate(0,3)\n",
    "\n",
    "    patch = mpatches.PathPatch(path, facecolor='g', alpha=0.5,transform= rot + base)\n",
    "    ax.add_patch(patch)\n",
    "\n",
    "    path_data = [\n",
    "        (Path.MOVETO, (1.58, -0.5)),\n",
    "        (Path.CURVE4, (0.35, -0.5)),\n",
    "        (Path.CURVE4, (-1.75, 2.0)),\n",
    "        (Path.CURVE4, (0.8, 2.0)),\n",
    "        (Path.LINETO, (0.85, 2.0)),\n",
    "        (Path.CURVE4, (2.2, 3.2)),\n",
    "        (Path.CURVE4, (3, 0.05)),\n",
    "        (Path.CURVE4, (2.0, -0.5)),\n",
    "        (Path.CLOSEPOLY, (1.58, -0.5)),\n",
    "        ]\n",
    "    codes, verts = zip(*path_data)\n",
    "    base = plt.gca().transData\n",
    "    rot = transforms.Affine2D().rotate_deg(90)\n",
    "    path = mpath.Path(verts, codes)\n",
    "\n",
    "    patch = mpatches.PathPatch(path, facecolor='g', alpha=0.5,transform= trans+rot + base)\n",
    "    ax.add_patch(patch)\n",
    "\n",
    "# plot control points and connecting lines\n",
    "#x, y = zip(*path.vertices)\n",
    "#line, = ax.plot(x, y, 'go-')\n",
    "draw_potato_diagram(ax)\n",
    "#ax.grid()\n",
    "ax.axis('equal')\n",
    "\n",
    "ax.arrow(-4, 1, 3.1, 0, head_width=0.25, head_length=0.2, fc='k', ec='k')\n",
    "plt.plot([-4,-0.5], [1,1], 'ro')\n",
    "#plt.show()\n",
    "\n",
    "tex = r'$  P $'\n",
    "\n",
    "ax.text(-4, 0.3, tex, fontsize=20, va='bottom')\n",
    "\n",
    "tex = r'$  \\mathcal{X} $'\n",
    "\n",
    "ax.text(-4, 1.3, tex, fontsize=20, va='bottom')\n",
    "\n",
    "tex = r'$  \\mathcal{R} $'\n",
    "\n",
    "ax.text(-4.5, -1, tex, fontsize=20, va='bottom')\n",
    "\n",
    "\n",
    "tex = r'$  p $'\n",
    "\n",
    "ax.text(-0.5, 0.3, tex, fontsize=20, va='bottom')\n",
    "\n",
    "tex = r'$  \\mathcal{x} $'\n",
    "\n",
    "ax.text(-0.45, 1.3, tex, fontsize=20, va='bottom')\n",
    "\n",
    "tex = r'$  \\mathcal{D} $'\n",
    "\n",
    "ax.text(-0.3, -1, tex, fontsize=20, va='bottom')"
   ]
  },
  {
   "cell_type": "markdown",
   "metadata": {},
   "source": [
    "### Reference Configuration\n",
    "   \n",
    "To study a body subject to deformation due to external and possibly internal forces, there is usually a reference configuration, this means the shape of the body before any deformation has occurred. In the diagram above, the reference implementation is denoted with big X, or $\\mathbf X$ and displayed on the left while the deformed configuration is denoted with $\\mathbf x$. This is easy to remember, imagine the little x has been squished. There is a map between the two sets, perhaps named $f$ such that \n",
    "   \n",
    "$$\\forall P \\in \\mathbf R\\ \\exists p` \\in \\mathbf D\\ |\\ f:\\mathbf X \\to \\mathbf x$$\n",
    "   \n",
    "This means $\\mathbf x = f(\\mathbf X)$ and the inverse mapping is assumed. The mapping is 1-1, onto, bicontinuous. Each point $P$ in the reference configuration maps to one and only one point in the deformed configuration. The points in each configuration are unique, and the points in the deformed configuration cannot overlap or collide.  "
   ]
  },
  {
   "cell_type": "markdown",
   "metadata": {
    "collapsed": true
   },
   "source": [
    "we have two ways to represent coordinates, the coordinates of the deformed configuration as a function of the coordinates of the reference configuration\n",
    "   \n",
    "$$x_j = x_j(X_1,X_2,X_3) = x_j(X_i)$$\n",
    "   \n",
    "and the coordinates of the reference configuration as a function of the coordinates of the deformed configuration\n",
    "   \n",
    "$$X_j = X_j(x_1,x_2,x_3) = X_j(x_i)$$\n",
    "   "
   ]
  },
  {
   "cell_type": "markdown",
   "metadata": {},
   "source": [
    "### Deformation Gradient\n",
    "   \n",
    "The ratio of the deformed coordinates to the undeformed coordinates (or the rate of change of deformation with respect to the reference coordinates) is known as the deformation gradient\n",
    "   \n",
    "$$ F_{ij} = \\frac{\\partial x_i}{\\partial X_j} $$\n",
    "   \n",
    "and this can be seen as a mapping between the coordinates. This is also known as a Jacobian matrix, or the derivative of a vector function of a vector variable. An important feature of the deformation gradient is that\n",
    "   \n",
    "$$ J = det[\\mathbf F] \\neq 0$$\n",
    "\n",
    "this means that $\\mathbf F$ is invertible, and this must be true to solve the relation\n",
    "   \n",
    "$$ d x_i = \\mathbf F_{ij}\\ dX_j$$\n",
    "   \n"
   ]
  },
  {
   "cell_type": "code",
   "execution_count": 7,
   "metadata": {},
   "outputs": [
    {
     "data": {
      "text/plain": [
       "<matplotlib.text.Text at 0x9ba5898>"
      ]
     },
     "execution_count": 7,
     "metadata": {},
     "output_type": "execute_result"
    },
    {
     "data": {
      "image/png": "[encoded data removed]",
      "text/plain": [
       "<matplotlib.figure.Figure at 0x61a7eb8>"
      ]
     },
     "metadata": {},
     "output_type": "display_data"
    }
   ],
   "source": [
    "fig, ax = plt.subplots()\n",
    "draw_potato_diagram(ax) # the blobs\n",
    "\n",
    "ax.axis('equal')\n",
    "#arrows\n",
    "ax.arrow(-4, 1, 0, 0.8, head_width=0.125, head_length=0.1, fc='k', ec='k')\n",
    "ax.arrow(-4, 1, 3.1, 0, head_width=0.25, head_length=0.2, fc='k', ec='k')\n",
    "ax.arrow(-0.5, 1, 0, 0.6, head_width=0.125, head_length=0.1, fc='k', ec='k')\n",
    "\n",
    "#points\n",
    "plt.plot([-4,-0.5], [1,1], 'ro')\n",
    "plt.plot([-4,-0.5], [1.9,1.7], 'ro')\n",
    "# text referemce config\n",
    "tex = r'$  P $'\n",
    "ax.text(-4, 0.5, tex, fontsize=10, va='bottom')\n",
    "tex = r'$  Q $'\n",
    "ax.text(-4, 2, tex, fontsize=10, va='bottom')\n",
    "tex = r'$  \\Omega_0 $'\n",
    "ax.text(-4.5, -1, tex, fontsize=20, va='bottom')\n",
    "# text deformed config\n",
    "tex = r'$  p $'\n",
    "ax.text(-0.5, 0.5, tex, fontsize=10, va='bottom')\n",
    "tex = r'$  q $'\n",
    "ax.text(-0.45, 1.9, tex, fontsize=10, va='bottom')\n",
    "tex = r'$  \\Omega $'\n",
    "ax.text(-0.3, -1, tex, fontsize=20, va='bottom')\n",
    "# text deformation gradient\n",
    "tex = r'$  F_{ij} $'\n",
    "ax.text(-2.5, -0.3, tex, fontsize=20, va='bottom')"
   ]
  },
  {
   "cell_type": "markdown",
   "metadata": {},
   "source": [
    "In the diagram above, the displacement $(PQ)$ is mapped to a displacement in the deformed configuration $(pq)$ that we will call $(P'Q')$ for simplicity, and to avoid notation problems. The vector $(PQ) = X + dX$ and this can be represented in the current coordinates as \n",
    "   \n",
    "$$x_i + dx_i = x_i(X_j+dX_j, t)$$\n",
    "   \n",
    "Then $dx_i = x_i(X_j+dX_j,t)-x_i(X_j,t) $ can be the length $(P'Q')$. And so if this is expanded in a taylor series we should get\n",
    "   \n",
    "$$ dx_i \\approx x_i(X_j,t) + \\frac{\\partial x_i}{\\partial X_j}\\big|_{p} dX_j +\\cdots +\\mathbf o(|dX|^2) - x_j(X_j,t)$$\n",
    "   \n",
    "(this is covered in the definition of the derivative of the vector function of a vector variable in differential geometry). so for small enough vectors, the vector transform is\n",
    "   \n",
    "$$dx_i = \\frac{\\partial x_i}{\\partial X_j}\\ dX_j$$\n",
    "   \n",
    "Is our map for the vector between two associated points $P\\to P'$ amd $Q\\to Q'$ via the deformation gradient. So intuitively you can calculate the deformed length if you know the deformation gradient. \n",
    "   \n",
    "Similarly, the inverse transform can be defined as, \n",
    "   \n",
    "$$ dX_j = \\frac{\\partial X_j}{\\partial x_i} x_i$$\n",
    "   \n",
    "where the quantity $\\frac{\\partial X_j}{\\partial x_i} = F_{ji}^{-1} $ is the inverse of the deformation gradient."
   ]
  },
  {
   "cell_type": "markdown",
   "metadata": {},
   "source": [
    "### Line Element\n",
    "   \n",
    "The line element (in the current/deformed/present configuration) is \n",
    "   \n",
    "$$ ds^2 = |P'Q'| = dx_i\\ dx_i = (F_{ij}dX_j)(F_{ik}dX_k) = F_{ij}F_{ik}dX_j dX_k$$\n",
    "   \n",
    "in matrix notation\n",
    "   \n",
    "$$ ds^2 = d\\mathbf x^T d\\mathbf x = d\\mathbf X^T \\mathbf F^T \\mathbf F d\\mathbf X$$\n",
    "   \n",
    "and the ratio of present length (squared) to reference (original) length is\n",
    "   \n",
    "$$ \\frac{ds^2}{dS^2} = \\frac{|P'Q'|}{|PQ|} = \\frac{dx_i}{dS}\\ \\frac{dx_i}{dS} = F_{ij}F_{ik} \\frac{dX_j}{dS} \\frac{dX_k}{dS}$$\n",
    "   \n",
    "Note the multiplication of F sums on i, and it appears in the first position above, therefore the matrix is transposed. If we define the unit vectors in the reference configuration as\n",
    "   \n",
    "$$ N_A = \\frac{dX_A}{dS} $$ \n",
    "   \n",
    "Then the <b>stretch</b> is defined as\n",
    "   \n",
    "$$ \\frac{ds}{dS} =\\lambda_n= \\sqrt{ F_{iA}F_{iB}N_A N_B }$$"
   ]
  },
  {
   "cell_type": "markdown",
   "metadata": {},
   "source": [
    "### Right Cauchy Green Tensor\n",
    "   \n",
    "The right Cauchy-Green tensor is the quantity\n",
    "   \n",
    "$$C_{AB} = F_{iA}F_{iB} = \\frac{\\partial x_i}{\\partial X_A}\\frac{\\partial x_i}{\\partial X_B}$$\n",
    "   \n",
    "and iin matrix notation\n",
    "   \n",
    "$$ [\\mathbf C] = [\\mathbf F]^T[\\mathbf F]$$\n",
    "   \n",
    "If we subtract $\\delta_ik$ then we define the <b>Green-St Venant Tensor</b> as\n",
    "   \n",
    "$$ 2E_{ik} = C_{ik} - \\delta_{ik} $$\n",
    "   \n",
    "Then, taking the difference of squared line elements, in matrix form\n",
    "   \n",
    "\n",
    "$$\\begin{array}{rcl}\n",
    "ds^2 - dS^2\t&\t=\t&\t d\\mathbf x^T d\\mathbf x - d\\mathbf X^T\\ d\\mathbf X       \\\\\n",
    "\t&\t=\t&\td\\mathbf X^T \\left(\\mathbf F^T \\mathbf F\\right)\\  d\\mathbf X -  d\\mathbf X^T\\ d\\mathbf X  \\\\\n",
    "    &\t=\t&\td\\mathbf X^T \\mathbf C\\ d\\mathbf X -  d\\mathbf X^T\\ \\mathbf I\\ d\\mathbf X  \\\\\n",
    "\t&\t=\t&\td\\mathbf X^T (\\mathbf C - \\mathbf I\\ ) d\\mathbf X\n",
    " \\end{array}$$\n",
    "   \n",
    "And the squared stretch becomes\n",
    "   \n",
    "$$ \\frac{ds^2-dS^2}{dS^2} = 2E_{ik}\\ n_i\\ n_k = (C_{ik} - \\delta_{ik})\\ n_i\\ n_k$$ \n",
    "   \n",
    "Of course $(n_i n_j) = 0$ when $i\\neq j$ since they are orthogonal, and of course $(n_i n_j) = \\delta_{ij}$"
   ]
  },
  {
   "cell_type": "markdown",
   "metadata": {},
   "source": [
    "### Line Element as a function of reference configuration coordinates\n",
    "   \n",
    "Since we have that the inverse function \n",
    "   \n",
    "$$ dX_j = \\frac{\\partial X_j}{\\partial x_i} x_i$$\n",
    "   \n",
    "we can define the inverse line element as \n",
    "   \n",
    "$$ dS^2 =  dX_L\\ dX_L = (F^{-1})_{Li}(F^{-1})_{Lj} dx_i\\ dx_j$$\n",
    "    \n",
    "in matrix form\n",
    "   \n",
    "$$ dS^2 =  d\\mathbf X^T d\\mathbf X = (\\mathbf F^{-1}\\ d\\mathbf x)^T(\\mathbf F^{-1}\\ d\\mathbf x)=d\\mathbf x^T\\ (\\mathbf F^{-1})^T\\ \\mathbf F^{-1}\\ d\\mathbf x $$\n",
    "and then \n",
    "   \n",
    "$$ \\frac{dS^2}{ds^2} = \\frac{|PQ|}{|P'Q'|} = \\frac{dX_L}{ds}\\ \\frac{dX_L}{ds} = (F^{-1})_{Li}(F^{-1})_{Lj} \\frac{dx_i}{ds} \\frac{dx_j}{ds} = (F^{-1})_{Li}(F^{-1})_{Lj}\\ n_i\\ n_j$$"
   ]
  },
  {
   "cell_type": "markdown",
   "metadata": {},
   "source": [
    "\n",
    "   \n",
    "\n",
    "   \n",
    "\n",
    "   \n",
    "### Left Cauchy-Green Tensor\n",
    "   \n",
    "This is the result of subtracting 1 from the inverse line element, \n",
    "   \n",
    "$$ B_{ij} = F_{iA} F_{jA} = F_{iA} F^T_{Aj} \\implies B^{-1}_{ij} = (F_{iA} F_{jA})^{-1} = F_{jA}^{-1} F_{iA}^{-1} =  F_{jA}^{-1} \\left(F_{Ai}^{-1}\\right)^{T} = B^{-1}_{ji}$$\n",
    "   \n",
    "This certainly implies that $\\mathbf B$ is symmetric, and it is. In matrix notation\n",
    "   \n",
    "$$ [\\mathbf B]=[\\mathbf F][\\mathbf F]^T  \\implies  [\\mathbf B]^T=([\\mathbf F][\\mathbf F]^T)^T = ([\\mathbf F]^T)^T[\\mathbf F]^T = [\\mathbf F][\\mathbf F]^T \\implies  [\\mathbf B] =  [\\mathbf B]^T $$\n",
    "   \n",
    "and\n",
    "   \n",
    "$$\\mathbf B^{-1} = (\\mathbf F \\mathbf F^T)^{-1} = (\\mathbf F^{-1})^T \\mathbf F^{-1}$$  \n",
    "   \n",
    "This means\n",
    "   \n",
    "$$ B_{ij}^{-1} =  F_{iA}^{-1} F_{Aj}^{-1} $$\n",
    "   \n",
    "since the first is transposed now. Then\n",
    "   \n",
    "$$ B_{ij} = \\frac{\\partial x_i}{\\partial X_A}\\frac{\\partial x_j}{\\partial X_A}$$\n",
    "   \n",
    "   \n",
    "and the inverse line element (line element as funtion of reference coordinates) :\n",
    "   \n",
    "$$dS^2= B_{ij}^{-1} dx_i dx_j $$\n",
    "   \n",
    "and so the stretch is\n",
    "   \n",
    "$$\\frac{dS^2}{ds^2}= B_{ij}^{-1} \\frac{dx_i}{ds}\\frac{ dx_j}{ds} = B_{ij}^{-1} n_i n_j $$ \n",
    "   \n",
    "\n",
    "\n",
    "\n",
    "   \n"
   ]
  },
  {
   "cell_type": "markdown",
   "metadata": {},
   "source": [
    "### Almansi Hamel Strain\n",
    "   \n",
    "This represents the change in length per unit present length and is just\n",
    "   \n",
    "$$ 2\\epsilon_{ij} = \\delta_{ij} -B_{ij}^{-1} $$\n",
    "   \n",
    "Therefore\n",
    "   \n",
    "$$\\frac{ds^2-dS^2}{ds^2}= (\\delta_{ij}-B_{ij}^{-1} )\\frac{dx_i}{ds}\\frac{ dx_j}{ds} = 2 \\epsilon_{ij} n_i n_j $$ "
   ]
  },
  {
   "cell_type": "markdown",
   "metadata": {},
   "source": [
    "### Lagrangian description\n",
    "   \n",
    "The system described as functions of the reference configuration, $f_A = f_A(X_B,t)$. Indices in the Lagrangian description use capital letters.\n",
    "   \n",
    "### Eulerian description\n",
    "   \n",
    "The system described as functions of the present configuration, $f_i = f_i(x_j,t)$.  Indices in the Eulerian description use lower-case letters.\n",
    "\n",
    "### Particle Velocity and Acceleration\n",
    "   \n",
    "The velocity of a particle in the body is\n",
    "   \n",
    "$$v_i(X_A,t) = \\frac{\\partial x_i}{\\partial t}\\big|_{X_A\\ \\text{fixed}}$$\n",
    "   \n",
    "The acceleration is given by the total derivative (chain rule):\n",
    "   \n",
    "$$ a_i = \\frac{\\partial v_i } {\\partial t} + \\frac{\\partial v_i} {\\partial x_j} \\frac{\\partial x_j } {\\partial t}\\big|_{X_A\\ \\text{fixed}}=\\frac{\\partial v_i } {\\partial t} + \\frac{\\partial v_i} {\\partial x_j} v_j$$  \n",
    "   \n",
    "where the term $\\frac{\\partial v_i}{\\partial t}$ is called the <b>local</b> part, and $\\frac{\\partial v_i} {\\partial x_j} v_j$ is called the <b>convective</b> part.\n",
    "   \n",
    "### Substantial Derivative\n",
    "   \n",
    "If temperature is defined as $\\theta = \\theta(x_j,t)$ then the derivative of temperature is also given by the chain rule\n",
    "   \n",
    "$$ \\frac{d\\theta}{dt} = \\frac{\\partial \\theta } {\\partial t}\\big|_{x_j\\ \\text{fixed}} + \\frac{\\partial \\theta} {\\partial x_j} \\frac{\\partial x_j } {\\partial t}\\big|_{X_A\\ \\text{fixed}}=\\frac{\\partial \\theta } {\\partial t} + \\frac{\\partial \\theta} {\\partial x_j} v_j$$  "
   ]
  },
  {
   "cell_type": "code",
   "execution_count": 25,
   "metadata": {},
   "outputs": [
    {
     "data": {
      "text/plain": [
       "<matplotlib.text.Text at 0xc918550>"
      ]
     },
     "execution_count": 25,
     "metadata": {},
     "output_type": "execute_result"
    },
    {
     "data": {
      "image/png": "[encoded data removed]",
      "text/plain": [
       "<matplotlib.figure.Figure at 0x9cc4cf8>"
      ]
     },
     "metadata": {},
     "output_type": "display_data"
    }
   ],
   "source": [
    "fig, ax = plt.subplots()\n",
    "draw_potato_diagram(ax) # the blobs\n",
    "\n",
    "ax.axis('equal')\n",
    "#arrows\n",
    "ax.arrow(-4, 1, 0, 0.8, head_width=0.125, head_length=0.1, fc='k', ec='k')\n",
    "ax.arrow(-4, 1, 0.6, 0.6, head_width=0.125, head_length=0.1, fc='k', ec='k')\n",
    "ax.arrow(-4, 1, 3.1, 0, head_width=0.25, head_length=0.2, fc='k', ec='k')\n",
    "ax.arrow(-0.5, 1, 0, 0.6, head_width=0.125, head_length=0.1, fc='k', ec='k')\n",
    "ax.arrow(-0.5, 1, 0.6, 0.4, head_width=0.125, head_length=0.1, fc='k', ec='k')\n",
    "\n",
    "#points\n",
    "plt.plot([-4,-0.5], [1,1], 'ro')\n",
    "plt.plot([-4,-0.5], [1.9,1.7], 'ro')\n",
    "plt.plot([-3.3,0.2*1.1], [1.7,1.35*1.1], 'ro')\n",
    "# text referemce config\n",
    "tex = r'$  P $'\n",
    "ax.text(-4, 0.5, tex, fontsize=10, va='bottom')\n",
    "tex = r'$  Q $'\n",
    "ax.text(-4, 2, tex, fontsize=10, va='bottom')\n",
    "tex = r'$  R $'\n",
    "ax.text(-3, 2, tex, fontsize=10, va='top')\n",
    "tex = r'$  \\Omega_0 $'\n",
    "ax.text(-4.5, -1, tex, fontsize=20, va='bottom')\n",
    "# text deformed config\n",
    "tex = r'$  p $'\n",
    "ax.text(-0.5, 0.5, tex, fontsize=10, va='bottom')\n",
    "tex = r'$  q $'\n",
    "ax.text(-0.45, 1.9, tex, fontsize=10, va='bottom')\n",
    "tex = r'$  r $'\n",
    "ax.text(0.2, 1.6, tex, fontsize=10, va='bottom')\n",
    "tex = r'$  \\Omega $'\n",
    "ax.text(-0.3, -1, tex, fontsize=20, va='bottom')\n",
    "# text deformation gradient\n",
    "tex = r'$  F_{ij} $'\n",
    "ax.text(-2.5, -0.3, tex, fontsize=20, va='bottom')"
   ]
  },
  {
   "cell_type": "markdown",
   "metadata": {},
   "source": [
    "### Measuring Angles\n",
    "   \n",
    "Here, $P$ is the point where the strain is measured, $\\mathbf n$ is the direction.\n",
    "   \n",
    "$$\\mathbf v_1 = (P'Q')_A = F_{iA} (PQ)_A$$\n",
    "   \n",
    "and\n",
    "   \n",
    "$$\\mathbf v_2 = (P'R')_B = F_{iB} (PR)_B$$\n",
    "   \n",
    "where the use of a capital index is used to denote the fact that the index refers to the reference configuration.\n",
    "   \n",
    "$$\\mathbf v_1\\cdot \\mathbf v_2=F_{iA} F_{iB}\\ (PQ)_A  (PR)_B $$\n",
    "   \n",
    "and this implies\n",
    "   \n",
    "$$C_{AB}\\ (PQ)_A  (PR)_B= |\\mathbf v_1'||\\mathbf v_2'|\\ \\cos\\theta$$ \n",
    "   \n",
    "evaluated at $P$. So $C_{AA}$ isthe change in length of the vector initially parallel with the $x_A$, axis"
   ]
  },
  {
   "cell_type": "markdown",
   "metadata": {},
   "source": [
    "### Definition\n",
    "   \n",
    "final position = initial position + displacement\n",
    "   \n",
    "$$ \\implies x_i = X_i + U_i = \\delta_{iL}(X_L + U_L)$$\n",
    "   \n",
    "to change indices. The vector $U_L$ represents displacement. Now the deformation gradient can be written\n",
    "   \n",
    "$$\\frac{\\partial x_i}{\\partial X_A} = \\delta_{iL}\\left(\\frac{\\partial X_L}{\\partial X_A} + \\frac{\\partial U_L}{\\partial X_A}\\right) = \\delta_{iL}\\left(\\delta_{LA} + \\partial_A U_L\\right) $$\n",
    "   \n",
    "Where $\\partial_A U_L = \\frac{\\partial U_L}{\\partial X_A}$. \n",
    "\n",
    "### Displacement Gradient\n",
    "   \n",
    "The quantity $\\frac{\\partial U_L}{\\partial X_A}$ is known as a displacement gradient.\n",
    "\n",
    "### Another equality for the Green, St Venant tensor \n",
    "\n",
    "Then the Cauchy-Green tensor can be written as\n",
    "   \n",
    "$$\\begin{array}{rcl}\n",
    "C_{AB}\t&\t=\t&\tF_{iA}F_{iB}       \\\\\n",
    "\t&\t=\t&\t\\delta_{iL}\\left(\\delta_{LA} + \\partial_A U_L\\right)\\ \\delta_{iM}\\left(\\delta_{MB}+ \\partial_B U_M\\right)     \\\\\n",
    "\t&\t=\t&\t\\delta_{ML}\\left(\\delta_{LA} + \\partial_A U_L\\right)\\  \\left(\\delta_{MB}+ \\partial_B U_M\\right)\\\\\n",
    "   &\t=\t&\t\\left(\\delta_{MA} + \\partial_A U_M\\right)\\  \\left(\\delta_{MB}+ \\partial_B U_M\\right)\\\\\n",
    "      &\t=\t&\t\\delta_{MA}\\delta_{MB}+\\delta_{MA}\\partial_B U_M+ \\partial_A U_M \\delta_{MB} + \\partial_A U_M \\partial_B U_M \\\\\n",
    "      &\t=\t&\t\\delta_{AB}+\\partial_B U_A+ \\partial_A U_B + (\\partial_A U_M) (\\partial_B U_M) \\\\\n",
    "      &\t=\t&\t\\delta_{AB}+ U_{A,B}+ U_{B,A} + (U_{M,A}) (U_{M,B}) \\\\      \n",
    " \\end{array}$$\n",
    "    \n",
    " where the notation has switched arbitrarily at the end $U_{B,A} = \\partial_A U_B$. Then the Green Strain is ...\n",
    "    \n",
    " $$ 2E_{AB} = C_{AB} - \\delta_{AB} = \\partial_B U_A+ \\partial_A U_B +  (\\partial_A U_M) (\\partial_B U_M) $$\n",
    "    \n",
    " The term $ (\\partial_A U_M) (\\partial_B U_M)$ is a <b>geometrix non-linearity </b> and applies for larger strains, or to <b>large deformation theory</b>. For small deformations where the strains are less than 1%, they can *sometimes* be neglected. It is important to note that in the formula above, the strain guage is in the <b>deformed state</b>."
   ]
  },
  {
   "cell_type": "markdown",
   "metadata": {},
   "source": [
    "### Repeated large Deformations\n",
    "   \n",
    "If multiple large deformations are repeated, (i.e. multiple loadint) they don't equal the sum of two deformations because the geometric non-linearity prevents the sum of linear functions. For example, a two displacements $U^{(1)}$ and $U^{(2)}$ do not result in a superposition. \n",
    "   \n",
    "$$ 2 E_{AB}^{(1)} + 2 E_{AB}^{(2)} \\neq 2 E_{AB}^{(1)+(2)} $$\n",
    "   \n",
    "and (the proof will be left out here) \n",
    "   \n",
    "$$ 2 E_{AB}^{(1)+(2)} = 2 E_{AB}^{(1)}+2 E_{AB}^{(2)} + \\left[\\partial_A U_M^{(1)} \\partial_B U_M^{(2)}+\\partial_A U_M^{(2)} \\partial_B U_M^{(1)} \\right]$$"
   ]
  },
  {
   "cell_type": "markdown",
   "metadata": {},
   "source": [
    "### Combined Loading (Large Strains)\n",
    "   \n",
    "In the case of combined loading, consecutive present configurations are represented as a function of the former, say at time $t$ and time $t-\\delta$ and finally the reference configuration is at time $t=0$.\n",
    "\n",
    "$x_j^{(1)} = x_j^{(1)}(X_A)$, and $x_i^{(2)} = x_i^{(2)}\\left(x_j^{(1)}\\right)= x_i^{(2)}\\left(x_j^{(1)}(X_A)\\right)$ therefore\n",
    "   \n",
    "$$F_{iA} = \\frac{\\partial x_i^{(2)}}{\\partial X_A} =\\frac{\\partial x_i^{(2)}}{\\partial x_j^{(1)}}\\frac{\\partial x_j^{(1)}}{\\partial X_A} $$\n",
    "   \n",
    "The chain rule applies, and the order of operations is important since matrix multiplications do not commute.\n",
    "   \n"
   ]
  },
  {
   "cell_type": "markdown",
   "metadata": {},
   "source": [
    "### Polar decomposition Theory\n",
    "   \n",
    "Any $(3\\times 3)$ square matrix can be decomposed into the product of an orthogonal matrix and a symmetric matrix.\n",
    "   \n",
    "$$ [\\mathbf F] =[\\mathbf R][\\mathbf U] =[\\mathbf V][\\mathbf R] $$\n",
    "   \n",
    "Where $\\mathbf R$ is the same in both cases. Starting with the first case\n",
    "   \n",
    "$ [\\mathbf R]^{-1}=[\\mathbf R]^{T}\\quad$ is orthogonal and contains any coordinate rotations\n",
    "\n",
    "$ [\\mathbf U]=[\\mathbf U]^{T}\\quad $ is symmetric and positive definite, therefore eigenvalues of $[\\mathbf U] \\geq 0 $ and real numbers. \n",
    "   \n",
    "Eigenvalues $\\lambda^{(i)}$ of $ [\\mathbf U]$ are found through the roots of the characteristic polynomial \n",
    "   \n",
    "$$\\det([\\mathbf U] - \\lambda[\\mathbf 1])=0$$\n",
    "    \n",
    "(where $[\\mathbf 1]$ is the identity matrix) and there will be a non-zero eigenvector if and only if the characteristic polynomial is equal to zero. The eigenvectors ${\\mathbf a } $ satisfy\n",
    "   \n",
    "$$ [\\mathbf U] [\\mathbf a]=\\lambda[\\mathbf a] \\implies ([\\mathbf u]-\\lambda [\\mathbf 1])[\\mathbf a] = 0 $$\n",
    "   \n",
    "The propreties of the determinant of $[\\mathbf F]$ are\n",
    "   \n",
    "$$  \\det([\\mathbf F]) =\\det([\\mathbf R][\\mathbf U]) = +\\det([\\mathbf U]) \\implies \\lambda^{(i)}>0 $$  \n",
    "   \n",
    "The matrix $[\\mathbf V]$ is also positive definite, and so also has positive real eigenvalues."
   ]
  },
  {
   "cell_type": "markdown",
   "metadata": {},
   "source": [
    "### Principal Stretches\n",
    "   \n",
    "The eigenvalues of the stretch matrices are the principal stretches, the eigenvectors are the direction where the stretches are maximum or minimum. \n",
    "   \n",
    "$$ \\mathbf C =\\mathbf F^T\\mathbf F = (\\mathbf {RU})^T \\mathbf {RU} = \\mathbf U^T\\mathbf R^T\\mathbf R\\mathbf U = \\mathbf U(\\mathbf R^{-1}\\mathbf R)\\mathbf U = \\mathbf U^2 $$\n",
    "   \n",
    "since $[\\mathbf R]$ is orthogonal and the transpose equals the inverse, whiile $[\\mathbf U]$ is symmetric and transposition has no effect. And also\n",
    "   \n",
    "$$ \\mathbf B =\\mathbf F\\mathbf F^T = \\mathbf {VR} (\\mathbf {VR})^T =\\mathbf V\\mathbf R\\mathbf R^T\\mathbf V^T  = \\mathbf V^2$$\n",
    "   \n",
    "The matrices $\\mathbf U$ and $\\mathbf V$ contain stretches, changes of angle, and may contain rotation but baically changes the line element.\n",
    "   \n",
    "The matrix $\\mathbf R$ contains only pure rotation.\n",
    "   \n",
    "If $\\mathbf N^{(1)}$ is an eigenvector of $\\mathbf U$ then\n",
    "   \n",
    "$$\\mathbf U \\mathbf N^{(1)}=\\lambda^{(1)}\\mathbf N^{(1)} $$\n",
    "   \n",
    "and \n",
    "   \n",
    "$$\\mathbf C \\mathbf N^{(1)}=\\mathbf U^2 \\mathbf N^{(1)}=\\mathbf U (\\lambda^{(1)}\\mathbf N^{(1)}) = \\lambda^{(1)}(\\mathbf U\\mathbf N^{(1)}) = \\left(\\lambda^{(1)}\\right)^2\\mathbf N^{(1)}$$\n",
    "   \n",
    "the eigenvalues of $\\mathbf C$ are the squares of the eigenvalues of $\\mathbf U$, however the eigenvectors are the same. \n",
    "   \n",
    "If $\\mathbf F = \\mathbf{VR} = \\mathbf{RU}$ then $\\mathbf{RU}\\mathbf N^{(1)}= \\mathbf R (\\lambda^{(1)}\\mathbf N^{(1)})= \\lambda^{(1)}(\\mathbf R\\mathbf N^{(1)})$ then we say $\\mathbf n^{(1)}= \\mathbf R\\mathbf N^{(1)}$ is an eigenvector of $\\mathbf V$ and $\\mathbf B$. \n",
    "   \n",
    "\n",
    "\n",
    "$$\\begin{array}{rcl}\n",
    "\\mathbf F \\mathbf N^{(1)}\t&\t=\t&\t\\mathbf{RU}\\mathbf N^{(1)}      \\\\\n",
    "\t&\t=\t&\t\\lambda^{(1)}(\\mathbf R\\mathbf N^{(1)})     \\\\\n",
    "\t&\t=\t&\t\\lambda^{(1)}\\mathbf n^{(1)}\\\\\n",
    "   &\t=\t&\t\\mathbf{VR}\\mathbf N^{(1)}  \\\\\n",
    "      &\t=\t&\t\\mathbf{V}(\\mathbf R\\mathbf N^{(1)})  \\\\  \n",
    "      &\t=\t&\t\\mathbf{V}(\\mathbf n^{(1)})       \n",
    " \\end{array}$$\n",
    "    \n",
    " Therefore $\\mathbf{V}(\\mathbf n^{(1)})  = \\lambda^{(1)}\\mathbf n^{(1)}$.\n",
    " \n",
    "##### Eigenvalues of $\\mathbf U$ and $\\mathbf V$ are the same. \n",
    "   \n",
    "If the deformation of a body is taken from the reference configuration into a deformed configuration by the matrix $\\mathbf F = \\mathbf R \\mathbf U$ then clearly $\\mathbf U$ acts on the points in the reference configuration before $\\mathbf R$. So the configuration of the body is first stretched by the matrix $\\mathbf U$ then rotated by $\\mathbf R$. Therefore the eigenvectors of the matrix $\\mathbf U$ are in the reference configuration.\n",
    "   \n",
    "If the deformation of a body is taken from the reference configuration into a deformed configuration by the matrix $\\mathbf F = \\mathbf V\\mathbf R $ then clearly $\\mathbf R$ acts on the points in the reference configuration before $\\mathbf V$. So the configuration of the body is first rotated by $\\mathbf R$ then stretched by the matrix $\\mathbf V$.  Therefore the eigenvectors of the matrix $\\mathbf V$ are in the present deformed configuration.\n"
   ]
  },
  {
   "cell_type": "code",
   "execution_count": 31,
   "metadata": {},
   "outputs": [
    {
     "data": {
      "image/png": "[encoded data removed]",
      "text/plain": [
       "<matplotlib.figure.Figure at 0xdff4278>"
      ]
     },
     "metadata": {},
     "output_type": "display_data"
    }
   ],
   "source": [
    "from mpl_toolkits.mplot3d import Axes3D\n",
    "import matplotlib.pyplot as plt\n",
    "import numpy as np\n",
    "from itertools import product, combinations\n",
    "fig = plt.figure(figsize=(16, 16))\n",
    "\n",
    "ax = fig.add_subplot(2, 2, 1, projection='3d')\n",
    "ax.set_aspect(\"auto\")\n",
    "ax.set_autoscale_on(True)\n",
    "\n",
    "#dibujar cubo\n",
    "r = [-10, 10]\n",
    "for s, e in combinations(np.array(list(product(r,r,r))), 2):\n",
    "    if np.sum(np.abs(s-e)) == r[1]-r[0]:\n",
    "        ax.plot3D(*zip(s,e), color=\"b\")\n",
    "\n",
    "\n",
    "#dibujar punto\n",
    "#ax.scatter([0],[0],[0],color=\"g\",s=100)\n",
    "\n",
    "d = [-1, 1]\n",
    "for j in range(0,8):\n",
    "    for i in range(0,8):\n",
    "        \n",
    "        for s, e in combinations(np.array(list(product(d,d,d))), 2):\n",
    "            if np.sum(np.abs(s-e)) == d[1]-d[0]:\n",
    "                s = [s[0]+2*j*d[1], s[1], s[2]+2*i*d[1],]\n",
    "                e = [e[0]+2*j*d[1], e[1], e[2]+2*i*d[1],]\n",
    "                ax.plot3D(*zip(s,e), color=\"g\")\n",
    "ax.set_xlim(-10, 10)\n",
    "ax.set_ylim(-10, 10)\n",
    "ax.set_zlim(-10, 10)\n",
    "plt.axis('off')   \n",
    "ax.view_init(0, 90) # ??? ok almost sufficient\n",
    "\n",
    "\n",
    "ax = fig.add_subplot(2, 2, 2, projection='3d')\n",
    "ax.set_aspect(\"auto\")\n",
    "ax.set_xlim(-10, 10)\n",
    "ax.set_ylim(-10, 10)\n",
    "ax.set_zlim(-10, 10)\n",
    "#dibujar cubo\n",
    "r = [-10, 10]\n",
    "for s, e in combinations(np.array(list(product(r,r,r))), 2):\n",
    "    if np.sum(np.abs(s-e)) == r[1]-r[0]:\n",
    "        ax.plot3D(*zip(s,e), color=\"b\")\n",
    "from numpy import sin, cos\n",
    "theta = np.radians(30)\n",
    "d = [-1, 1]\n",
    "max_height = 32\n",
    "for j in range(0,8):\n",
    "    for i in range(0,8):\n",
    "        for s, e in combinations(np.array(list(product(d,d,d))), 2):\n",
    "            if np.sum(np.abs(s-e)) == d[1]-d[0]:\n",
    "                angle = np.pi/4\n",
    "                s = [s[0]+2*j*d[1], s[1], s[2]]\n",
    "                e = [e[0]+2*j*d[1], e[1], e[2]]\n",
    "                s_t = [s[0], s[1], (s[2]+2*i*d[1])*(1+s[0]*theta/max_height)]\n",
    "                e_t = [e[0], e[1], (e[2]+2*i*d[1])*(1+e[0]*theta/max_height)]\n",
    "            \n",
    "                s_rotated = [s[0] * np.cos( s_t[2]*theta/(max_height) )  - s_t[2] * sin(s_t[2]*theta/(max_height)), \n",
    "                             s[1], \n",
    "                             s[0] * np.sin( s_t[2]*theta/(max_height) )  + s_t[2] * cos(s_t[2]*theta/(max_height))]\n",
    "\n",
    "                e_rotated = [e[0] * np.cos( e_t[2]*theta/(max_height) )  - e_t[2] * sin(e_t[2]*theta/(max_height)), \n",
    "                             e[1], \n",
    "                             e[0] * np.sin( e_t[2]*theta/(max_height) )  + e_t[2] * cos(e_t[2]*theta/(max_height))]   \n",
    "            \n",
    "            \n",
    "            \n",
    "                ax.plot3D(*zip(s_rotated,e_rotated), color=\"g\")\n",
    "plt.axis('off')        \n",
    "ax.view_init(0, 90) # ??? ok almost sufficient\n"
   ]
  },
  {
   "cell_type": "markdown",
   "metadata": {},
   "source": [
    "### Relation of C to B\n",
    "   \n",
    "$\\mathbf C$ and $\\mathbf B$ are related through $\\mathbf R$. In particular\n",
    "   \n",
    "$$\\mathbf C = \\mathbf F^T \\mathbf F = (\\mathbf {VR})^T\\mathbf {VR} = \\mathbf {R}^T\\mathbf {V}^T\\mathbf {V}\\mathbf {R}  =\\mathbf {R}^T\\mathbf {B}\\mathbf {R}$$ \n",
    "   \n",
    "The eigenvalues of $\\mathbf C$ and $\\mathbf B$ are the same, however the eigenvectors are not the same.\n",
    "   \n",
    "The eigenvectors of $\\mathbf C$ are represented with a captital $\\mathbf N$ and represent vectors in the reference configuration.\n",
    "   \n",
    "The eigenvectors of $\\mathbf B$ are represented with a lower-case $\\mathbf n$ and represent vectors in the reference configuration.\n",
    "   \n",
    "### Properties of Eigenvalues and Eigenvectors\n",
    "   \n",
    "> If all eigenvalues are the same, then any vector is an eigenvector of the matrix.\n",
    "   \n",
    "> IF all are distinct then they are uniquely determined and can be chosen perpendicular to each other.\n",
    "   \n",
    "> If two are the same then one eigenvector can be found perpendicular to a plane containing the other two."
   ]
  },
  {
   "cell_type": "markdown",
   "metadata": {},
   "source": [
    "### Theorem\n",
    "   \n",
    "There is a diagonal matrix $\\mathbf \\Lambda$ such that \n",
    "   \n",
    "$\\mathbf C = \\mathbf P \\mathbf \\Lambda \\mathbf P^T$ \n",
    "   \n",
    "where $\\mathbf P$ is the matrix of eignenvectors as columns  $\\mathbf P = [\\mathbf N^{(1)},\\mathbf N^{(2)},\\mathbf N^{(3)}]$\n",
    "   \n",
    "Then\n",
    "   \n",
    "$\\mathbf U = \\mathbf P[ \\sqrt{\\mathbf {\\Lambda}}] \\mathbf P^T$\n",
    "   \n",
    "and \n",
    "   \n",
    "$$ \\mathbf \\Lambda = \\left[ \\begin{array}{ccc} \\left(\\lambda^{(1)}\\right)^2&0 &0 \\\\ 0& \\left(\\lambda^{(2)}\\right)^2&0 \\\\ 0& 0& \\left(\\lambda^{(3)}\\right)^2\\end{array}\\right] $$\n",
    "   \n",
    "The square root of a diagonal matrix is the square root of the elements.\n",
    "   \n",
    "### Eigenvalues as principle stretches\n",
    "   \n",
    "The eigenvalues of $\\mathbf C$ are the squared principle stretches. The <b>eigenvectors</b> are the directions of the principle stretches in the <b>reference</b> configuration. \n",
    "   \n",
    "The eigenvectors of $\\mathbf B$ are the directions of the principle stretches in the <b>present</b> configuration.\n",
    "   \n",
    "### Principal Invariants \n",
    "   \n",
    "The principal invariants of $\\mathbf C$ (or any matrix) are\n",
    "   \n",
    "$\\mathrm I_C = \\text{tr}[\\mathbf C]= \\mathbf C_{AA} =C_{11}+C_{22}+C_{33}= \\lambda^{(1)} +\\lambda^{(2)}+\\lambda^{(3)} $\n",
    "   \n",
    "$\\mathrm {II}_C = \\text{det}[\\mathbf C]=\\lambda^{(1)}_C\\lambda^{(2)}_C\\lambda^{(3)}_C$\n",
    "   \n",
    "$\\mathrm {III}_C = \\frac{1}{2}\\left(\\mathrm I_C^2 - C_{AB}C_{BA}\\right) =\\frac{1}{2}\\left(\\text{tr}(\\mathbf C)^2-\\text{tr}\\left(\\mathbf C^2\\right)\\right) = \\left(\\lambda^{(1)}_C\\right)^2\\left(\\lambda^{(2)}_C\\right)^2+\\left(\\lambda^{(2)}_C\\right)^2\\left(\\lambda^{(3)}_C\\right)^2+\\left(\\lambda^{(3)}_C\\right)^2\\left(\\lambda^{(1)}_C\\right)^2$"
   ]
  },
  {
   "cell_type": "code",
   "execution_count": 150,
   "metadata": {},
   "outputs": [
    {
     "data": {
      "text/plain": [
       "array([[ 1.37198868, -0.34299717],\n",
       "       [-0.34299717,  4.45896321]])"
      ]
     },
     "execution_count": 150,
     "metadata": {},
     "output_type": "execute_result"
    }
   ],
   "source": [
    "import numpy as np\n",
    "from scipy.linalg import polar\n",
    "import scipy.linalg\n",
    "A = np.array([[1, -1], [2, 4]])\n",
    "R,V = polar(A,side='left')\n",
    "V"
   ]
  },
  {
   "cell_type": "code",
   "execution_count": 151,
   "metadata": {},
   "outputs": [
    {
     "data": {
      "text/plain": [
       "array([[ 0.85749293, -0.51449576],\n",
       "       [ 0.51449576,  0.85749293]])"
      ]
     },
     "execution_count": 151,
     "metadata": {},
     "output_type": "execute_result"
    }
   ],
   "source": [
    "R"
   ]
  },
  {
   "cell_type": "code",
   "execution_count": 152,
   "metadata": {},
   "outputs": [
    {
     "data": {
      "text/plain": [
       "array([[ 1., -1.],\n",
       "       [ 2.,  4.]])"
      ]
     },
     "execution_count": 152,
     "metadata": {},
     "output_type": "execute_result"
    }
   ],
   "source": [
    "V.dot(R)"
   ]
  },
  {
   "cell_type": "code",
   "execution_count": 153,
   "metadata": {},
   "outputs": [
    {
     "data": {
      "text/plain": [
       "array([[ 1.88648444,  1.2004901 ],\n",
       "       [ 1.2004901 ,  3.94446746]])"
      ]
     },
     "execution_count": 153,
     "metadata": {},
     "output_type": "execute_result"
    }
   ],
   "source": [
    "R, U = polar(A,side='right')\n",
    "U"
   ]
  },
  {
   "cell_type": "code",
   "execution_count": 154,
   "metadata": {},
   "outputs": [
    {
     "data": {
      "text/plain": [
       "array([[ 0.85749293, -0.51449576],\n",
       "       [ 0.51449576,  0.85749293]])"
      ]
     },
     "execution_count": 154,
     "metadata": {},
     "output_type": "execute_result"
    }
   ],
   "source": [
    "R"
   ]
  },
  {
   "cell_type": "code",
   "execution_count": 155,
   "metadata": {},
   "outputs": [
    {
     "data": {
      "text/plain": [
       "array([[ 1., -1.],\n",
       "       [ 2.,  4.]])"
      ]
     },
     "execution_count": 155,
     "metadata": {},
     "output_type": "execute_result"
    }
   ],
   "source": [
    "R.dot(U)"
   ]
  },
  {
   "cell_type": "markdown",
   "metadata": {
    "collapsed": true
   },
   "source": [
    "### Eigenbasis Transformation\n",
    "    \n",
    "Take 3 mutually perpendicular eigenvectors in the reference configuration, $( \\mathbf N^{(1)},\\mathbf N^{(2)},\\mathbf N^{(3)})$ then pre-multiply by $\\mathbf {RU}$ ...\n",
    "   \n",
    "$$ \\mathbf {RU} \\mathbf N^{(i)} = \\mathbf R \\lambda^{(i)} \\mathbf N^{(i)} =  \\lambda^{(i)} (\\mathbf R  \\mathbf N^{(i)}) = \\lambda^{(i)}( \\mathbf n^{(i)}) $$\n",
    "   \n",
    "and so after the product $\\mathbf U \\mathbf N^{(i)}$ the vector $\\mathbf N^{(i)}$ is stretched by a factor $\\lambda^{(i)}$ but not rotated. After the rotation we retrieve the vector in the deformed configuration.\n",
    "   \n",
    "In the case of the transformation $\\mathbf {VR}$ we first obtain the rotated but unstreteched vectors\n",
    "   \n",
    "$$ \\mathbf {R} \\mathbf N^{(i)} =  \\mathbf n^{(i)} $$\n",
    "   \n",
    "Then $\\mathbf V \\mathbf n^{(i)} = \\lambda^{(i)}  \\mathbf n^{(i)}$ are the stretched vectors in the deformed configuration.\n",
    "   \n",
    "\n",
    "   \n",
    "for each $"
   ]
  },
  {
   "cell_type": "markdown",
   "metadata": {},
   "source": [
    "### Transformation of Area Element\n",
    "   \n",
    "Given two vectors in the reference configuration, $(\\mathbf N^{(1)}, \\mathbf N^{(2)})$ the area is $d\\mathbf A = \\mathbf N^{(1)}\\times \\mathbf N^{(2)}$ or the absolute value of the cross product gives the area scalar. In tensor notation\n",
    "   \n",
    "$$ dA_i = \\epsilon_{ijk} N^{(1)}_j N^{(2)}_k$$\n",
    "   \n",
    "and the element in the deformed configuration is\n",
    "   \n",
    "$$ da_i = \\epsilon_{ijk} \\bar{n}^{(1)}_j \\bar{n}^{(2)}_k$$\n",
    "   \n",
    "where in this case $\\bar{n}^{(i)}_j = \\lambda^{(i)}\\mathbf n^{(i)} $ is the stretched and rotated vector. Therefore\n",
    "\n",
    "$$\\begin{array}{rcl}\n",
    " da_i\t&\t=\t&\t\\epsilon_{ijk} \\left( F_{jq} N^{(1)}_q\\right)\\ \\left( F_{kr}N^{(2)}_r\\right)     \\\\\n",
    "\t&\t=\t&\t\\epsilon_{pjk}\\ \\left( \\delta_{pi }\\right)\\ F_{jq} F_{kr} N^{(1)}_q N^{(2)}_r     \\\\\n",
    "\t&\t=\t&\t\\epsilon_{pjk} \\left( F^{-1}_{si}  F_{ps}\\right)\\  F_{jq} F_{kr} N^{(1)}_q N^{(2)}_r \\\\\n",
    " \\end{array}$$\n",
    "   \n",
    "   \n",
    "and this simplifies since the term $\\epsilon_{pjk}F_{ps} F_{jq} F_{kr} = J \\epsilon_{sqr}$, where of course, $J=Det[\\mathbf F]$. Then\n",
    "\n",
    "\n",
    "   \n",
    "$$\\begin{array}{rcl}\n",
    " da_i\t&\t=\t&\t\\left(\\epsilon_{pjk}   F_{ps}  F_{jq} F_{kr}\\right) F^{-1}_{si} N^{(1)}_q N^{(2)}_r     \\\\\n",
    "\t&\t=\t&\tJ \\epsilon_{sqr}N^{(1)}_q N^{(2)}_r  F^{-1}_{si}     \\\\\n",
    "\t&\t=\t&\tJ\\  dA_s  F^{-1}_{si} \\\\\n",
    " \\end{array}$$\n",
    "     \n",
    "Therefore the rule for transformation of area is \n",
    "   \n",
    "$$ da_i =J\\  dA_s F^{-1}_{si}$$\n",
    "   "
   ]
  },
  {
   "cell_type": "markdown",
   "metadata": {},
   "source": [
    "### Transformation of a volume element\n",
    "   \n",
    "In vector notation the volume element is computed with the scalar triple product of 3 vectors. If we start with the volume element in the deformed configuration, using the fact that the scalar triple product is \n",
    "   \n",
    "$$d\\Omega = \\epsilon_{abc} \\mathbf n^{(1)}_{a} \\mathbf n^{(2)}_{b}\\mathbf n^{(3)}_{c} $$\n",
    "   \n",
    "Then this transforms...\n",
    "   \n",
    "$$\\begin{array}{rcl}\n",
    "d\\Omega\t&\t=\t&\t\\epsilon_{abc}  \\left( F_{ai}  N^{(1)}_{i}\\right)\\ \\left( F_{bj}  N^{(2)}_{j} \\right)\\ \\left( F_{ck}  N^{(3)}_{k}\\right)     \\\\\n",
    "\t&\t=\t&\t\\left(\\epsilon_{abc}  F_{ai}  F_{bj} F_{ck}\\right)\\ N^{(1)}_{i} N^{(2)}_{j} N^{(3)}_{k}     \\\\\n",
    "\t&\t=\t&\t\\left(J \\epsilon_{ijk}\\right)\\ N^{(1)}_{i} N^{(2)}_{j} N^{(3)}_{k}\\\\\n",
    "   &\t=\t&\tJ d\\Omega_0  \\\\       \n",
    " \\end{array}$$\n",
    " \n",
    "Where $\\Omega_0$ is the volume in the reference configuration. Therefore the volume transforms as\n",
    "   \n",
    "$$ d\\Omega = Jd\\Omega_0$$"
   ]
  },
  {
   "cell_type": "markdown",
   "metadata": {},
   "source": [
    "### definition\n",
    "   \n",
    " $J=\\epsilon_{ABC} F_{1A} F_{2B} F_{3C}$"
   ]
  },
  {
   "cell_type": "markdown",
   "metadata": {},
   "source": [
    "### Properties of the Jacobian\n",
    "   \n",
    "If $J=det[\\mathbf F]=1$ then the according to the above definition there is no change in volume, then the material is called incompressible (i.e incompressble fluid). A deformation where $d\\Omega=d\\Omega_0$ is calleed an <b>isochoric </b> deformation. An incompressible materrial can only have isochoric deformation, however compressible materials can have both.  For example air is compressible since the volume of a unit of air can change, however Rubber is assumed incompressible, so a stretch in one direction accompanies a contraction in another. Then\n",
    "   \n",
    "$\\dot{J} = \\frac{dJ}{dt}=0$, since $J=1$. But $J=\\epsilon_{ABC} F_{1A} F_{2B} F_{3C}$ therefore\n",
    "   \n",
    "$$\\dot{J} =\\epsilon_{ABC} ( \\dot{ F}_{1A} F_{2B} F_{3C}+ F_{1A}\\dot{ F}_{2B} F_{3C}+ F_{1A} F_{2B}\\dot{ {F}}_{3C})$$\n",
    "   \n",
    "and \n",
    "   \n",
    "$$\\frac{\\partial\\  F_{iA}}{\\partial t} =\\frac{\\partial }{\\partial t}\\left( \\frac{\\partial x_i}{\\partial X_A} \\right)=\\frac{\\partial }{\\partial X_A}\\left( \\frac{\\partial x_i}{ \\partial t} \\right) =\\frac{\\partial v_i}{\\partial X_A}  =\\frac{\\partial v_i}{\\partial x_j}\\frac{\\partial x_j}{\\partial X_A}$$ \n",
    "   \n",
    "the $v_i$ is the velocity in the present configuration. For the component when i=1:\n",
    "   \n",
    "$$\\epsilon_{ABC} \\dot{ F}_{1A} F_{2B} F_{3C} = \\epsilon_{ABC} \\left(\\frac{\\partial v_1}{\\partial x_j}\\frac{\\partial x_j}{\\partial X_A} \\right) F_{2B} F_{3C} = J\\epsilon_{j23}\\left(\\frac{\\partial v_1}{\\partial x_j}\\frac{\\partial x_j}{\\partial X_A}\\right) = J\\ \\frac{\\partial v_1}{\\partial x_1}$$\n",
    "   \n",
    "since $\\epsilon_{j23}=\\epsilon_{123}$ when $j=1$ and 0 otherwise. Therefore\n",
    "   \n",
    "$$ \\dot{J} = J\\ \\left( \\frac{\\partial v_1}{\\partial x_1}+ \\frac{\\partial v_2}{\\partial x_2}+ \\frac{\\partial v_3}{\\partial x_3}\\right) =  J\\ \\frac{\\partial v_i}{\\partial x_i} = J\\  \\text{div}\\ \\mathbf v = J\\ \\nabla\\cdot\\mathbf v$$"
   ]
  },
  {
   "cell_type": "markdown",
   "metadata": {},
   "source": [
    "## Continuity\n",
    "   \n",
    "For an isochoric deformation, the continuity equation is equivalent to saying $J=1$, $\\dot{J}=0$, $\\nabla\\cdot v=0$. These are all equivalent statements of the continuity equation for incompressible fluids. \n",
    "\n",
    "### Definition\n",
    "   \n",
    "In fluid mechanics, the Eulerian representation is used exclusively, in continuum mechanics.\n",
    "   \n",
    "### Conservation of Mass\n",
    "   \n",
    "density or mass per unit volume in the reference configuration is defined as \n",
    "   \n",
    "$$ \\rho_0 = \\lim_{\\Delta V\\to 0}\\frac{\\Delta m}{\\Delta \\Omega_0}$$\n",
    "   \n",
    "therefore the mass in an element of volume, and as mass is a constant, does not change, nothing is created or destroyed, \n",
    "   \n",
    "$$\\Delta m = \\rho_0\\ d\\Omega_0 = \\rho d\\Omega = \\rho\\ J\\ d\\Omega_0$$\n",
    "   \n",
    "therefore density in the reference configuration is related to density in the present / deformed configuration as\n",
    "   \n",
    "$$\\rho_0  = \\rho\\ J $$\n",
    "   \n",
    "and these 3 quantities can be functions of $X$ and $t$.  \n",
    "\n"
   ]
  },
  {
   "cell_type": "markdown",
   "metadata": {},
   "source": [
    "### Continuity Equation\n",
    "   \n",
    "Taking the derivative of the conservation of mass equation, we have that the rate of change of density in the reference configuration is zero, \n",
    "   \n",
    "$$ \\frac{\\partial \\rho_0}{\\partial t} = 0$$\n",
    "   \n",
    "and the rate of change of mass is zero\n",
    "   \n",
    "$$ \\frac{\\partial \\rho}{\\partial t} J + \\rho \\frac{\\partial J}{\\partial t} = 0$$\n",
    "   \n",
    "to simplify, we note that $\\frac{\\partial J}{\\partial t}$ as defined above. \n",
    "   \n",
    "$$ \\frac{\\partial \\rho}{\\partial t} J + \\rho J\\frac{\\partial v_j}{\\partial x_j} = 0$$\n",
    "\n",
    "now the derivative of density in the present configuration is\n",
    "   \n",
    "$$ \\frac{\\partial \\rho}{\\partial t} = \\frac{\\partial \\rho}{\\partial t}\\big|_{x\\ fixed} +\\frac{\\partial \\rho}{\\partial x_j} \\frac{\\partial x_j}{\\partial t} \\big|_{X\\ fixed}=\\frac{\\partial \\rho}{\\partial t} +\\frac{\\partial \\rho}{\\partial x_j} v_j $$\n",
    "   \n",
    "then \n",
    "   \n",
    "$$ \\frac{\\partial \\rho}{\\partial t} J + \\rho \\frac{\\partial J}{\\partial t} = \\left(\\frac{\\partial \\rho}{\\partial t} +\\frac{\\partial \\rho}{\\partial x_j} v_j \\right) J  + \\rho J\\frac{\\partial v_j}{\\partial x_j}=  0$$\n",
    "   \n",
    "removing the $J$ reveals the continuity equation\n",
    "   \n",
    "$$\\frac{\\partial \\rho}{\\partial t} +\\frac{\\partial \\rho}{\\partial x_j} v_j   + \\rho \\frac{\\partial v_j}{\\partial x_j}  =0 $$\n",
    "\n",
    "and this is factorized\n",
    "   \n",
    "$$\\frac{\\partial \\rho}{\\partial t} +\\frac{\\partial }{\\partial x_j} (\\rho v_j )=0$$"
   ]
  },
  {
   "cell_type": "markdown",
   "metadata": {},
   "source": [
    "### Integral form of continuity equation\n",
    "   \n",
    "Taking a volume integral of the rate of change of mass over a body $\\Omega$ in the present configuration we have\n",
    "   \n",
    "$$\\iiint_{\\Omega}\\frac{\\partial \\rho}{\\partial t} +\\frac{\\partial }{\\partial x_j} (\\rho v_j ) d\\Omega=0$$\n",
    "   \n",
    "Taking the integral over each component $\\int(f+h) = \\int f+ \\int h$ allows more derivation\n",
    "   \n",
    "$$\\displaystyle\\begin{array}{rcl}\n",
    "M\t&\t=\t&\t\\iiint_{\\Omega}\\frac{\\partial \\rho}{\\partial t} +\\frac{\\partial }{\\partial x_j} (\\rho v_j ) d\\Omega    \\\\\n",
    "\t&\t=\t&\t\\iiint_{\\Omega}\\frac{\\partial \\rho}{\\partial t} d\\Omega +\\iiint_{\\Omega}\\frac{\\partial }{\\partial x_j} (\\rho v_j ) d\\Omega         \n",
    " \\end{array}$$\n",
    "    \n",
    " The second term is the divergence of $\\rho v_j$ so we can apply the divergence theorem\n",
    "    \n",
    " $$\\iiint_{\\Omega}\\frac{\\partial \\rho}{\\partial t} d\\Omega +\\iint_{\\partial\\Omega}(\\rho v_j ) n_j\\ d A    =0 $$\n",
    "    \n",
    "With $d A$ as the surface area and $n_j$ is the normal vector to the surface. Then the flux of mass passing through the surface is equivallent to the change in density times the volume ( rate of change of mass)\n",
    "   \n",
    "$$\\frac{\\partial }{\\partial t}\\iiint_{\\Omega}\\rho d\\Omega\t=\t- \\iint_{\\partial\\Omega} (\\rho v_j ) n_j\\ d A$$ \n",
    "    \n",
    " Using the fact that if $\\rho$ is continuous and the volume is continuous then the derivative can be taken outside the integral."
   ]
  },
  {
   "cell_type": "markdown",
   "metadata": {},
   "source": [
    "### Definition\n",
    "   \n",
    "Fluid mechanics does not model strain. The rate of deformation is more important than the concept of deformation. For fluids the stress depends on strain-rate, and in general forces in fluids are modelled like a damper, where the forces is dependant on veloity. A fluid always has <b>hydrostatic</b> pressure.\n",
    "\n",
    "In solids, Stress depends on strain. Solid material forces related to stress and strain are modelled like springs in general.\n",
    "   \n",
    "### Summary\n",
    "   \n",
    "> Solid materials $\\to$ spring\n",
    "   \n",
    "> Fluid material $\\to$ damper"
   ]
  },
  {
   "cell_type": "markdown",
   "metadata": {},
   "source": [
    "### Velocity Gradient\n",
    "   \n",
    "taking lines (PQ) in the reference configuration and comparing the same material point (P'Q') in the deformed configuration gave the following relation\n",
    "   \n",
    "$$(P'Q')_i = F_{iA} (PQ)_A$$\n",
    "   \n",
    "The time derivative is\n",
    "   \n",
    "\n",
    "\n",
    "$$\\displaystyle\\begin{array}{rcl}\n",
    "\\frac{d}{dt}(P'Q')_i\t&\t=\t&\t\\frac{ d}{d t}\\left(F_{iA} (PQ)_A \\right)     \\\\\n",
    "\t&\t=\t&\t\\frac{ d}{d t}\\left( \\frac{\\partial x_i}{\\partial X_A} (PQ)_A \\right)         \\\\\n",
    "    & = &  \\frac{\\partial v_i}{\\partial X_A} (PQ)_A+  \\frac{\\partial x_i}{\\partial X_A}\\frac{ \\partial (PQ)_A}{\\partial t}\\\\\n",
    "& = &  \\frac{\\partial v_i}{\\partial X_A} (PQ)_A\\\\\n",
    "& = &  \\frac{\\partial v_i}{\\partial x_j}\\frac{\\partial x_j}{\\partial X_A} (PQ)_A\\\\\n",
    "& = &  \\frac{\\partial v_i}{\\partial x_j}\\ F_{jA} (PQ)_A   \\\\\n",
    "& = &  \\frac{\\partial v_i}{\\partial x_j}\\ (P'Q')_j   \\\\\n",
    "\\end{array}$$\n",
    "    \n",
    "the term in the third line $\\frac{\\partial x_i}{\\partial X_A}\\frac{ \\partial (PQ)_A}{\\partial t}=0$ since the line does not change in the reference configuration, it is fixed. The <b> velocity gradient </b> is \n",
    "\n",
    "$$ L_{ij} = \\frac{\\partial v_i}{\\partial x_j}$$\n",
    "\n",
    "\n",
    "Therefore the rate of change in a displacement in the present configuration is\n",
    "   \n",
    "$$ \\frac{d}{dt}\\left(\\Delta x_i\\right) =  L_{ij}\\Delta x_j$$"
   ]
  },
  {
   "cell_type": "markdown",
   "metadata": {},
   "source": [
    "### Definition\n",
    "   \n",
    "$$\\mathbf L = \\dot{\\mathbf F} \\mathbf F^{-1}$$.\n",
    "   \n",
    "Since \n",
    "   \n",
    "$$ \\frac{d}{dt}\\left(\\Delta x_i\\right) =  L_{ij}\\Delta x_j$$\n",
    "   \n",
    "means \n",
    "   \n",
    "$$ L_{ij} = \\frac{1}{\\Delta x_j}\\frac{d}{dt}\\Delta x_i $$\n",
    "   \n",
    "then shrink the $\\Delta x_j \\to 0$ and\n",
    "\n",
    "$$L_{ij} = \\frac{\\partial \\dot{x}_i}{\\partial x_j} = \\frac{\\partial \\dot{x}_i}{\\partial X_A}\\frac{\\partial X_A}{\\partial x_j} = \\dot{F}_{iA}F^{-1}_{Aj}$$"
   ]
  },
  {
   "cell_type": "markdown",
   "metadata": {},
   "source": [
    "### Relationship of Strain Rate and Spin to Velocity gradient\n",
    "   \n",
    "We decompose the velocity gradient into the sum of symmetric and skew symmetrc parts\n",
    "   \n",
    "\n",
    "\n",
    "$$\\displaystyle\\begin{array}{rcl}\n",
    "L_{ij}\t&\t=\t&\t\\frac{1}{2}\\left(L_{ij}+L_{ji}^T\\right)+\\frac{1}{2}\\left(L_{ij}-L_{ji}^T\\right)    \\\\\n",
    "\t&\t=\t& D_{ij} + W_{ij}    \\\\\n",
    "\\end{array}$$\n",
    "\n",
    "The $D_{ij}$ is the symmetric part and is called the <b>strain rate</b> tensor, and the $W_{ij}$ is skew symmetric and is called the <b>Spin</b> tensor.\n",
    "   \n",
    "### definition of Vorticity\n",
    "   \n",
    "<div style = \"border-style: solid;margin-top: 100px;margin-bottom: 100px;margin-right: 150px;margin-left: 80px;\">\n",
    "<div style = \"margin-top: 10px;margin-bottom: 10px;margin-right: 10px;margin-left: 10px;\">   \n",
    "   \n",
    "$$2 W_{ij} = \\frac{\\partial v_i}{\\partial x_j}- \\frac{\\partial v_j}{\\partial x_i}$$\n",
    "   \n",
    "</div></div>\n",
    "Is the vorticity, the curl of the velocity. If\n",
    "   \n",
    "$$\\frac{\\partial v_i}{\\partial x_j}- \\frac{\\partial v_j}{\\partial x_i} = 0$$\n",
    "   .\n",
    "Then the flow is called  <b>irrotational</b>. an equivalent statement is that the spin tensor is zero. There are 3 independant equations and 3 unknowns. The general solution is\n",
    "   \n",
    "$$ v_i = -\\frac{\\partial \\phi}{\\partial x_i}$$\n",
    "   \n",
    "then $v_i$ is the gradient of a scalar function (potential theory). This definition satisfies the condition when the vorticity equation equals zero.\n",
    "   \n",
    "$$\\frac{\\partial v_i}{\\partial x_j}- \\frac{\\partial v_j}{\\partial x_i} = \\frac{\\partial }{\\partial x_j}\\left(\\frac{\\partial \\phi}{\\partial x_i}\\right)- \\frac{\\partial}{\\partial x_i}\\left(\\frac{\\partial \\phi}{\\partial x_j}\\right) =0$$\n",
    "   \n",
    "since partial derivatives commute.\n"
   ]
  },
  {
   "cell_type": "markdown",
   "metadata": {},
   "source": [
    "### incompressible flow\n",
    "   \n",
    "In this case the deformation is isochoric, and $\\frac{\\partial v_i}{\\partial  x_j}=0$, this leads to the laplacian\n",
    "   \n",
    "$$\\frac{\\partial }{\\partial x_i}\\left(-\\frac{\\partial \\phi}{\\partial x_i}\\right) = -\\frac{\\partial^2 \\phi}{\\partial x_i \\partial x_i}=0$$\n",
    "   \n",
    "The Laplace equation occurs in situations when fluid is irrotational and incompressible. $\\phi$ is called a harmonic function."
   ]
  },
  {
   "cell_type": "markdown",
   "metadata": {},
   "source": [
    "### Change in lengths\n",
    "   \n",
    "$$(\\Delta s)^2 = \\Delta x_i \\Delta x_i  $$\n",
    "\n",
    "Then\n",
    "\n",
    "$$\\displaystyle\\begin{array}{rcl}\n",
    " \\frac{d}{dt}(\\Delta s)^2 \t&\t=\t&\t2 (\\Delta x_i) \\frac{d \\Delta x_i}{dt}     \\\\\n",
    "  (\\Delta s)\\frac{d (\\Delta s)}{dt} \t&\t=\t&\t \\Delta x_i \\frac{d \\Delta x_i}{dt}     \\\\\n",
    "\\end{array}$$\n",
    "   \n",
    "either the direction changes, length changes, or both change. Cancelling the 2 and substituting \n",
    "   \n",
    "$$\\displaystyle\\begin{array}{rcl}\n",
    " (\\Delta s)\\frac{d (\\Delta s)}{dt} \t&\t=\t&\t\\Delta x_i \\frac{d \\Delta x_i}{dt}     \\\\\n",
    "  \t&\t=\t&\tL_{ij }\\Delta x_i \\Delta x_j     \\\\\n",
    "     \t&\t=\t&\t(D_{ij} + W_{ij})\\Delta x_i \\Delta x_j     \\\\\n",
    "             \t&\t=\t&\t(D_{ij} )\\Delta x_i \\Delta x_j     \n",
    "\\end{array}$$\n",
    "   \n",
    "since $W_{ij} \\Delta x_i \\Delta x_j = 0 $ because if W is a matrix (cross product matrix)\n",
    "   \n",
    "$$ \\mathbf W = W_{ij} = \\left(\\begin{matrix} 0& -a&b \\\\a &0 &-c \\\\-b &c &0 \\end{matrix}\\right) $$\n",
    "   \n",
    "Then the terms cancel when you expand and substitute the i,j element. So taking our equation\n",
    "   \n",
    "$$ (\\Delta s)\\frac{d (\\Delta s)}{dt} = (D_{ij} )\\Delta x_i \\Delta x_j  $$\n",
    "   \n",
    "Then dividing throughout by $(\\Delta s)^2$  gives\n",
    "\n",
    "<div style = \"border-style: solid;margin-top: 100px;margin-bottom: 100px;margin-right: 150px;margin-left: 80px;\">\n",
    "<div style = \"margin-top: 10px;margin-bottom: 10px;margin-right: 10px;margin-left: 10px;\">\n",
    "$$ \\frac{1}{\\Delta s}\\frac{d (\\Delta s)}{dt} = (D_{ij} )\\frac{\\Delta x_i}{\\Delta s} \\frac{ \\Delta x_j}{\\Delta s}  $$\n",
    "   \n",
    "</div></div>\n",
    "And so we define unit vectors $m_i = \\frac{ \\Delta x_i}{\\Delta s}$ ."
   ]
  },
  {
   "cell_type": "markdown",
   "metadata": {},
   "source": [
    "if we choose $(P'Q')$ along the $x_1$ axis we find the strain rhs of the above becomes $D_{11}$ the strain rate in the $x_1$ direction, $m_i = \\delta_{i1}$. Also $D_{22}$ is the strain rate in the $x_2$ direction and $D_{33}$ is the strain rate in the $x_3$ direction.\n",
    "\n",
    "### Definition\n",
    "   \n",
    "$$ \\epsilon_{ijk}W_{jk} = W_i$$ \n",
    "   \n",
    "a vector.\n",
    "   \n",
    "### Angular Strain rate / Shear strain\n",
    "   \n",
    "The angle between two vectors $dx^{(1)}$ and $dx^{(2)}$ is defined as\n",
    "   \n",
    "$$ dx^{(1)}_i dx^{(2)}_i = ds^{(1)} ds^{(2)} \\cos\\theta $$\n",
    "   \n",
    "Then taking the derivative keeping big $X$ fixed\n",
    "   \n",
    "\n",
    "$$\\displaystyle\\begin{array}{rcl}\n",
    "&\\frac{d}{dt}\\left( dx^{(1)}_i dx^{(2)}_i\\right) \t&\t=\t&\t\\frac{d}{dt}\\left(ds^{(1)} ds^{(2)} \\cos\\theta\\right)     \\\\\n",
    "\\implies &\\frac{ dx^{(1)}_i}{dt}\\left(  dx^{(2)}_i\\right) + \\left(  dx^{(1)}_i\\right)\\frac{ dx^{(2)}_i}{dt} \t&\t=\t&\t\\frac{d}{dt}\\left(ds^{(1)} ds^{(2)}\\right) \\cos\\theta + ds^{(1)} ds^{(2)} \\frac{d}{dt}\\left(\\cos\\theta\\right)     \\\\\n",
    "\\implies & L_{ij}dx_j^{(1)}dx_i^{(2)}+dx_i^{(1)}L_{ij} dx_j^{(2)}&\t=\t&\t\\frac{d}{dt}\\left(ds^{(1)} ds^{(2)}\\right) \\cos\\theta  - ds^{(1)} ds^{(2)} \\sin\\theta\\frac{d\\theta}{dt}    \n",
    "\\end{array}$$\n",
    "\n",
    "concentrating on the left hand side and juggling indices\n",
    "   \n",
    "$$\\displaystyle\\begin{array}{rcl}\n",
    "L_{ij}dx_j^{(1)}dx_i^{(2)}+dx_i^{(1)}L_{ij} dx_j^{(2)}&\t=\t&\\sum_i \\sum_j L_{ij}dx_j^{(1)}dx_i^{(2)}+\\sum_i \\sum_j dx_i^{(1)}L_{ij} dx_j^{(2)}\\\\\n",
    "&\t=\t& \\sum_i \\sum_j L_{ij}dx_j^{(1)}dx_i^{(2)}+ \\sum_i \\sum_k  dx_i^{(1)}L_{ik} dx_k^{(2)}\\\\\n",
    "&\t=\t& \\sum_i \\sum_j L_{ij}dx_j^{(1)}dx_i^{(2)}+ \\sum_j \\sum_k  dx_j^{(1)}L_{jk} dx_k^{(2)}\\\\\n",
    "&\t=\t& \\sum_i \\sum_j L_{ij}dx_j^{(1)}dx_i^{(2)}+ \\sum_j \\sum_i  dx_j^{(1)}L_{ji} dx_i^{(2)}\\\\\n",
    "&\t=\t&  L_{ij}dx_j^{(1)}dx_i^{(2)}+   dx_j^{(1)}L_{ji} dx_i^{(2)}\\\\\n",
    "&\t=\t& ( L_{ij} + L_{ji} )dx_j^{(1)}dx_i^{(2)}\n",
    "\\end{array}$$\n",
    "   \n",
    "and since $L=D+W$ we have\n",
    "   \n",
    "$$ \\mathbf L + \\mathbf L^T = (\\mathbf D + \\mathbf W) + (\\mathbf D + \\mathbf W)^T =\\mathbf D + \\mathbf W + \\mathbf D^T + \\mathbf W^T = \\mathbf D + \\mathbf W + \\mathbf D - \\mathbf W = 2 \\mathbf D$$\n",
    "   \n",
    "since $D$ is symmetric it does not change under transposition, but $W^T = -W$ since it is skew symmetric. Then\n",
    "\n",
    "$$2 D_{ij} dx_i^{(1)}dx_j^{(2)} = \\frac{d}{dt}\\left(ds^{(1)} ds^{(2)}\\right) \\cos\\theta  - ds^{(1)} ds^{(2)} \\sin\\theta\\frac{d\\theta}{dt}$$\n",
    "   \n",
    "Then dividing both sides by $\\left(ds^{(1)}_i ds^{(2)}_i\\right)$ we have\n",
    "   \n",
    "$$2 D_{ij}\\ m_i^{(1)}m_j^{(2)} = \\frac{1}{\\left(ds^{(1)}_i ds^{(2)}_i\\right)}\\frac{d}{dt}\\left(ds^{(1)}_i ds^{(2)}_i\\right) \\cos\\theta  - \\sin\\theta\\frac{d\\theta}{dt}$$\n",
    "   \n",
    "where $m_j^{(2)} = \\frac{dx_j^{(2)}}{ds^{(2)}}$ etc\n",
    "   \n",
    "If we set $m^{(1)}_i=\\delta_{i2}$ and $m^{(2)}_j = \\delta_{j3}$ then $\\theta = 90^\\circ$ and $\\cos\\theta=0$ and $\\sin\\theta = 1$ then \n",
    "\n",
    "$$ - \\frac{d\\theta}{dt} = 2D_{23}$$\n",
    "   \n",
    "And we find that the off diagonal components of the strain rate tensor contain rates of change of angles and these are <b> shear </b> strains."
   ]
  },
  {
   "cell_type": "markdown",
   "metadata": {},
   "source": [
    "### Eigenvectors of Strain rate tensor\n",
    "   \n",
    "Eigenvectors $n_j$ of $D$ give the directions of the principal stretches. $D$ is not necesserally positive definite. \n",
    "   \n",
    "$D_{ij} n_j = \\lambda n_i$, the value $\\lambda$ is the eigenvalue. If the material is incompressible the sum of the eigenvalues is zero. \n",
    "   \n",
    "$\\lambda^{(1)}+\\lambda^{(2)}+\\lambda^{(3)}=0$ for an <b>incompressible </b> material. We find the derivative of the eigenvector, starting with the assumption that the eigenvector is some unit vector given by\n",
    "   \n",
    "$$ n_i = \\frac{dx_i}{ds} \\implies dx_i = n_i ds $$\n",
    "\n",
    "then\n",
    "\n",
    "\n",
    "$$\\displaystyle\\begin{array}{rcl}\n",
    "\\frac{dx_i}{dt}&\t=\t& \\frac{d}{dt}(n_i ds) \\\\\n",
    " L_{ij}\\ dx_j &\t=\t& \\frac{d n_i}{dt} ds+n_i\\frac{ds }{dt} \n",
    "\\end{array}$$\n",
    "\n",
    "the term on the l.h.s in the second line can be replaced since $dx_j = n_j ds$, then\n",
    "\n",
    "$$\\displaystyle\\begin{array}{rcl}\n",
    "& L_{ij}\\ n_j\\ ds &\t=\t& \\dot{n}_i ds+n_i\\ \\dot{ds}\\\\\n",
    "\\implies & L_{ij}\\ n_j &\t=\t& \\dot{n}_i +n_i\\ \\frac{1}{ds}\\dot{ds}\\\\\n",
    "\\implies & (D_{ij}+W_{ij})\\ n_j &\t=\t& \\dot{n}_i +n_i\\ (D_{ab}\\ n_a n_b)\\\\\n",
    "\\end{array}$$\n",
    "\n",
    "the term on the r.h.s comes from the above definition in the section on change in lengths, the $(D_{ab}\\ n_a n_b)=\\frac{1}{\\Delta s}\\dot{\\Delta s}$. \n",
    "\n",
    "now substituting the eigenvector equation \n",
    "   \n",
    "$$\\displaystyle\\begin{array}{rcl}\n",
    " & D_{ij}\\ n_j+W_{ij}\\ n_j &\t=\t& \\dot{n}_i + (D_{ab}\\ n_a) n_b n_i \\\\\n",
    "\\implies  & \\lambda\\ n_i +W_{ij}\\ n_j &\t=\t& \\dot{n}_i + (\\lambda n_b) n_b n_i \\\\\n",
    "\\implies  & \\lambda\\ n_i +W_{ij}\\ n_j &\t=\t& \\dot{n}_i + \\lambda n_i \\\\\n",
    "\\implies  & W_{ij}\\ n_j &\t=\t& \\dot{n}_i  \n",
    "\\end{array}$$\n",
    "   \n",
    "since $n_a n_a = 1$. \n",
    "\n",
    "### Definition\n",
    "   \n",
    "The time derivative of a unit vector is equivalent to the spin tensor operating on that vector.\n",
    "\n"
   ]
  },
  {
   "cell_type": "markdown",
   "metadata": {},
   "source": [
    "### Properties of the Spin Tensor\n",
    "   \n",
    "If $n_i$ is an eigenvector of $D$ then \n",
    "   \n",
    "$n_i\\ \\dot{n}_i =0$ since $n_i\\ n_i = 1$. \n",
    "   \n",
    "The time derivative of the eigenvector is perpendicular to the eigenvector. \n",
    "   \n",
    "> The eigenvectors of $\\mathbf D$ can be chosen to be mutually perpenducular. Therefore the spin tensor transforms one\n",
    "> eigenvector into another.\n",
    "   \n",
    "since \n",
    "\n",
    "$ d\\Omega = Jd\\Omega_0 $\n",
    "   \n",
    "$$\\displaystyle\\begin{array}{rcl}\n",
    "& d\\Omega &\t=\t& Jd\\Omega_0 \\\\\n",
    "\\implies & \\dot{\\Omega} &\t=\t& \\dot{J}d\\Omega_0 +J\\dot{\\Omega_0}   \n",
    "\\end{array}$$\n",
    "   \n",
    "because the volume in the reference configuration does not change with time, the $J\\dot{\\Omega_0}=0$, and we have already solved for $\\dot {J} $ above\n",
    "   \n",
    "$$\\displaystyle\\begin{array}{rcl}\n",
    " \\dot{\\Omega} &\t=\t& \\dot{J}d\\Omega_0  \\\\\n",
    " &\t=\t& J\\frac{dv_i}{dx_i}d\\Omega_0\\\\  \n",
    " &\t=\t& \\frac{dv_i}{dx_i}d \\Omega\n",
    "\\end{array}$$\n",
    "   \n",
    "since $J d\\Omega_0 = d\\Omega$. This quantity is now\n",
    "   \n",
    "$$\\displaystyle\\begin{array}{rcl}  \n",
    "\\implies & \\frac{d\\Omega}{dt} &\t=\t& \\frac{dv_i}{dx_i}d \\Omega\\\\\n",
    "\\implies & \\dot{\\Omega} &\t=\t& D_{ii} d \\Omega\n",
    "\\end{array}$$\n",
    "   \n",
    "The rate of change of volume in the present configuration is equal to the trace of the strain rate tensor times the infinitesimal volume element. So the rate of change of volume per unit volume is equal to the first fundamental invariant of $D$, or the trace, $\\text{tr}[D] = \\mathrm{I}_D = D_{11}+D_{22}+D_{33}$ or \n",
    "   \n",
    "$$\\frac{\\dot{\\Omega}}{d\\Omega} = \\mathrm I_D=D_{ii}= \\lambda^{(1)}_D+\\lambda^{(2)}_D+\\lambda^{(3)}_D $$\n",
    "   "
   ]
  },
  {
   "cell_type": "markdown",
   "metadata": {},
   "source": [
    "### Rate of change of Area\n",
    "   \n",
    "from the definition $da_i = J\\ F^{-1}_{Si}dA_S$ the rate of change of area is\n",
    "   \n",
    "$$\\displaystyle\\begin{array}{rcl}  \n",
    "\\implies & \\frac{da_i }{dt} &\t=\t& \\frac{d}{dt}(J\\ F^{-1}_{Si}dA_S)\\\\\n",
    " &  &\t=\t& \\dot{J} ( F^{-1}_{Si}dA_S)+J\\frac{d}{dt}(F^{-1}_{Si})dA_S +J(F^{-1}_{Si}\\frac{d}{dt}(  dA_S)\\\\\n",
    "  &  &\t=\t& \\dot{J} ( F^{-1}_{Si}dA_S)+J\\frac{d}{dt}(F^{-1}_{Si})dA_S \\\\\n",
    "\\end{array}$$\n",
    "   \n",
    "Now if $F^{-1}_{Si} = \\frac{\\partial X_S}{\\partial x_i}$ and the order of differentiation was interchanged, then the second term on the r.h.s would be zero since $X_S$ does not change with time. However if the matrix is inverted but represented in terms of the current / present configuration coordinates then it can. ? The third term involving the rate of change of $dA_S$ is zero because the reference area does not change. The deformation gradient can be a function of time because we say that its represented as a function of present configuration coordinates and it has an inverse.\n",
    "   \n",
    "since $\\mathbf F\\ \\mathbf F^{-1}=[\\mathbf 1]$, the identity matrix, then its derivative is zero\n",
    "   \n",
    "$ \\frac{d}{dt}(\\mathbf F\\ \\mathbf F^{-1})= \\frac{d\\mathbf F}{dt}( \\mathbf F^{-1}) +\\mathbf F \\frac{d\\mathbf F^{-1}}{dt} =0  \\implies \\dot{\\mathbf F} \\mathbf F^{-1} =\\mathbf F \\dot{\\mathbf F}^{-1} $, So premultipltying both sides by $\\mathbf F^{-1}$ we have\n",
    "   \n",
    "\n",
    "$$\\displaystyle\\begin{array}{rcl}  \n",
    " &  -\\dot{\\mathbf F} \\mathbf F^{-1}&\t=\t& \\mathbf F \\dot{\\mathbf F}^{-1}\\\\\n",
    "\\implies &  -\\mathbf F^{-1}\\dot{\\mathbf F} \\mathbf F^{-1}&\t=\t& \\mathbf F^{-1} \\mathbf F \\dot{\\mathbf F}^{-1}\\\\\n",
    "\\implies &  -\\mathbf F^{-1}\\dot{\\mathbf F} \\mathbf F^{-1}&\t=\t& [\\mathbf 1] \\dot{\\mathbf F}^{-1}\n",
    "\\end{array}$$\n",
    "   \n",
    "Then \n",
    "   \n",
    "$$\\displaystyle\\begin{array}{rcl}  \n",
    " &  \\frac{da_i }{dt}&\t=\t& \\dot{J} ( F^{-1}_{Si}dA_S)+J\\frac{d}{dt}(F^{-1}_{Si})dA_S \\\\\n",
    " &  &\t=\t& J\\frac{\\partial v_k}{\\partial x_k} ( F^{-1}_{Si}dA_S)-J\\ F^{-1}_{Sj} \\dot{F}_{jR} F^{-1}_{Ri} dA_S \\\\\n",
    "  &  &\t=\t& \\frac{\\partial v_k}{\\partial x_k} (J F^{-1}_{Si}dA_S)-  \\dot{F}_{jR} F^{-1}_{Ri} (J F^{-1}_{Sj} dA_S) \\\\\n",
    "    &  &\t=\t& \\frac{\\partial v_k}{\\partial x_k} (da_i )-  \\dot{F}_{jR} F^{-1}_{Ri} (da_j) \n",
    "\\end{array}$$\n",
    "\n",
    "since $da_i = J F^{-1}_{Si}dA_S$ is the rule for change of area. Then\n",
    "  \n",
    "\n",
    "$$\\displaystyle\\begin{array}{rcl}  \n",
    " &  \\frac{da_i }{dt}& =\t& \\frac{\\partial v_k}{\\partial x_k} ( \\delta_{ij }da_j )-  L_{ji} (da_j) \\\\\n",
    "  &  & =\t& \\left(\\frac{\\partial v_k}{\\partial x_k}  \\delta_{ij}  -  \\frac{\\partial v_j}{\\partial x_i}\\right) da_j \\\\\n",
    "\\end{array}$$\n",
    " \n",
    "    \n",
    "\n",
    "   \n",
    "Since $\\mathbf L = \\dot{\\mathbf F} \\mathbf F^{-1}$.\n",
    "   \n"
   ]
  },
  {
   "cell_type": "markdown",
   "metadata": {
    "collapsed": true
   },
   "source": [
    "### Notes:\n",
    "   \n",
    "$\\dot{\\mathbf F} = \\dot{\\mathbf R}U + R\\dot{\\mathbf U}$ since $\\mathbf F=\\mathbf R \\mathbf U$. and therefore\n",
    "   \n",
    "$$\\mathbf L = \\dot{\\mathbf F} \\mathbf F^{-1} = \\left(\\dot{\\mathbf R}U + R\\dot{\\mathbf U}\\right)\\left(\\mathbf R \\mathbf U\\right)^{-1}$$\n",
    "   \n",
    "and since $\\mathbf L = \\mathbf D + \\mathbf W $ this implies\n",
    "   \n",
    "\n",
    "$$\\displaystyle\\begin{array}{rcl}  \n",
    " &  \\mathbf D + \\mathbf W & =\t& \\left(\\dot{\\mathbf R}\\mathbf U + \\mathbf R\\dot{\\mathbf U}\\right)\\left(\\mathbf R \\mathbf U\\right)^{-1}\\\\\n",
    "  &  & =\t& \\dot{\\mathbf R}\\mathbf U \\left(\\mathbf R \\mathbf U\\right)^{-1}  +\\mathbf  R\\dot{\\mathbf U} \\left(\\mathbf R \\mathbf U\\right)^{-1}   \\\\\n",
    "    &  & =\t& \\dot{\\mathbf R}\\mathbf U \\mathbf U^{-1} \\mathbf R^{-1}   + \\mathbf R\\dot{\\mathbf U} \\mathbf U^{-1} \\mathbf R^{-1}   \\\\\n",
    "       &  & =\t& \\dot{\\mathbf R} \\mathbf R^{-1}   + \\mathbf R\\dot{\\mathbf U} \\mathbf U^{-1} \\mathbf R^{-1}   \n",
    "\\end{array}$$\n",
    "   \n",
    "since $\\mathbf U \\mathbf U^{-1}=[\\mathbf 1]$, the identity matrix, and since $\\mathbf R$ is orthogonal, $\\mathbf R^{-1}=\\mathbf R^T$, then we determine\n",
    "   \n",
    "$$\\displaystyle\\begin{array}{rcl}  \n",
    " &\\mathbf R \\mathbf R^T& =\t& [\\mathbf 1] \\\\\n",
    "\\implies  & \\frac{d}{dt}\\left(\\mathbf R \\mathbf R^T\\right) & =\t& 0 \\\\\n",
    "\\implies  &  \\dot{\\mathbf R} \\mathbf R^{T} +\\mathbf R \\dot{\\mathbf R}^{T} & =\t& 0 \\\\\n",
    "\\implies  &  \\dot{\\mathbf R} \\mathbf R^{T} & =\t& -\\mathbf R \\dot{\\mathbf R}^{T}  \\\\\n",
    "\\implies  &  \\dot{\\mathbf R} \\mathbf R^{T} & =\t& -\\left(\\dot{\\mathbf R} \\mathbf R^{T}\\right) ^T \n",
    "\\end{array}$$\n",
    "   \n",
    "and therefore $\\dot{\\mathbf R} \\mathbf R^{T}$ is skew symmetric, therefore we decompose the term $\\mathbf R\\dot{\\mathbf U} \\mathbf U^{-1} \\mathbf R^{-1}$ into the sum of symmetric and skew symmetric parts\n",
    "   \n",
    "$$ \\mathbf R\\dot{\\mathbf U} \\mathbf U^{-1} \\mathbf R^{-1} = \\frac{1}{2}\\mathbf R\\left(\\dot{\\mathbf U} \\mathbf U^{-1} + \\left(\\dot{\\mathbf U} \\mathbf U^{-1}\\right)^T \\right)\\mathbf R^{-1}+ \\frac{1}{2}\\mathbf R\\left(\\dot{\\mathbf U} \\mathbf U^{-1} - \\left(\\dot{\\mathbf U} \\mathbf U^{-1}\\right)^T \\right)\\mathbf R^{-1}$$\n",
    "   \n",
    "And the property $\\mathbf U = \\mathbf U^T$, carries onto its derivative and its inverse. (axiom?)\n",
    "   \n",
    "$$ \\mathbf R\\dot{\\mathbf U} \\mathbf U^{-1} \\mathbf R^{-1} = \\frac{1}{2}\\mathbf R\\left(\\dot{\\mathbf U} \\mathbf U^{-1} + \\mathbf U^{-1}\\dot{\\mathbf U}  \\right)\\mathbf R^{-1}+ \\frac{1}{2}\\mathbf R\\left(\\dot{\\mathbf U} \\mathbf U^{-1} - \\mathbf U^{-1}\\dot{\\mathbf U}  \\right)\\mathbf R^{-1}$$\n",
    "   \n",
    "And so the first term \"with the plus\" is symmetric and the second term with the \"minus\" is skew symmetric. Therefore\n",
    "   \n",
    "$$\\mathbf D + \\mathbf W = \\left[\\frac{1}{2}\\mathbf R\\left(\\dot{\\mathbf U} \\mathbf U^{-1} + \\mathbf U^{-1}\\dot{\\mathbf U}  \\right)\\mathbf R^{-1}\\right]+ \\left[\\dot{\\mathbf R} \\mathbf R^{-1} + \\frac{1}{2}\\mathbf R\\left(\\dot{\\mathbf U} \\mathbf U^{-1} - \\mathbf U^{-1}\\dot{\\mathbf U}  \\right)\\mathbf R^{-1} \\right]$$\n",
    "   \n",
    "if the sum of a symmetric and a skew symmetric matrix equals the sum of a symmetric and a skew symmetric matrix, then the components must be equal. Therefore\n",
    "   \n",
    "$$ \\mathbf D = \\left[\\frac{1}{2}\\mathbf R\\left(\\dot{\\mathbf U} \\mathbf U^{-1} + \\mathbf U^{-1}\\dot{\\mathbf U}  \\right)\\mathbf R^{-1}\\right] $$\n",
    "   \n",
    "and\n",
    "   \n",
    "$$ \\mathbf W = \\left[\\dot{\\mathbf R} \\mathbf R^{-1} + \\frac{1}{2}\\mathbf R\\left(\\dot{\\mathbf U} \\mathbf U^{-1} - \\mathbf U^{-1}\\dot{\\mathbf U}  \\right)\\mathbf R^{-1} \\right]$$\n",
    "   \n"
   ]
  },
  {
   "cell_type": "markdown",
   "metadata": {
    "collapsed": true
   },
   "source": [
    "### Derivative of $\\mathbf E$\n",
    "   \n",
    "$$\\displaystyle\\begin{array}{rcl}  \n",
    " &2 \\mathbf E & =\t& \\mathbf C - [\\mathbf 1] \\\\\n",
    "  &  & =\t& \\mathbf F^T \\mathbf F - [\\mathbf 1] \\\\  \\\\\n",
    "\\implies  &  2\\dot{\\mathbf E} & =\t& \\dot{\\mathbf F}^T \\mathbf F + \\mathbf F^T \\dot{\\mathbf F}  \n",
    "\\end{array}$$\n",
    "   \n",
    "bur $\\dot{\\mathbf F}\\mathbf F^{-1} = \\mathbf L \\implies \\dot{\\mathbf F} = \\mathbf L \\mathbf F$ since we post multiply both sides by $\\mathbf F$. Therefore\n",
    "   \n",
    "$$\\displaystyle\\begin{array}{rcl}  \n",
    " 2\\dot{\\mathbf E} & =\t& (\\mathbf L \\mathbf F)^T \\mathbf F + \\mathbf F^T (\\mathbf L \\mathbf F)\\\\\n",
    " & =\t&  \\mathbf F^T \\mathbf L^T \\mathbf F + \\mathbf F^T \\mathbf L \\mathbf F\\\\\n",
    "& =\t&  \\mathbf F^T \\left( \\mathbf L^T +\\mathbf L\\right) \\mathbf F \\\\\n",
    "& =\t&  \\mathbf F^T \\left( 2 \\mathbf D\\right) \\mathbf F     \n",
    "\\end{array}$$\n",
    "   \n",
    "Therefore $\\dot{\\mathbf E}  = \\mathbf F^T  \\mathbf D \\mathbf F$ after cancelling the 2. The rate of change of strain is not equal to the strain rate unless the deformation gradient $\\mathbf F$ is the unit matrix. "
   ]
  },
  {
   "cell_type": "markdown",
   "metadata": {},
   "source": [
    "### Solids And Fluids Compared\n",
    "\n",
    "Strain in small deformation theory $\\to $ Strain rate in Fluid mechanics\n",
    "   \n",
    "Displacement in small deformation theory $\\to $ Velocity in Fluid mechanics.\n",
    "\n",
    "### Small Strain Theory\n",
    "\n",
    "The situation where deformations are infinitesimal is called small deformation or small strain theory. For deformations that are very small, a Taylor series expansion of the displacement gradient $\\partial_b U_a$ reveals that terms that are higher order can often be neglected. The Almansi-Hamel strain tensor can be written\n",
    "   \n",
    "$$2 e_{ij} = \\partial_j U_i +  \\partial_i U_j + \\partial_i U_k \\partial_j U_k $$\n",
    "   \n",
    "and ignoring terms in the order of $\\epsilon^2$ and noting that in small deformation theory, the choice of coordinate systems does not matter.\n",
    "   \n",
    "$$2 e_{AB} \\approx \\partial_B U_A +  \\partial_A U_B  $$\n",
    "   \n",
    "Then if two displacements are applied, for example a stretch $ u^{(1)}$ followed by a twist $ u^{(2)}$, we have that the sum of deformations equals the total deformation (unlike the case in large deformation theory).\n",
    "   \n",
    "<div style = \"border-style: solid;margin-top: 100px;#margin-bottom: 100px;margin-right: 150px;margin-left: 80px;\"> \n",
    "And here it is   \n",
    "   \n",
    "$$2 e_{AB} = \\partial_B U^{(1)}_A +  \\partial_A U^{(1)}_B +\\partial_B U^{(2)}_A +  \\partial_A U^{(2)}_B  = 2 e^{(1)}_{AB} + 2 e^{(2)}_{AB}$$\n",
    "   \n",
    "</div>   \n",
    "### Comparison between small and large deformation theory\n",
    "   \n",
    "Small deformation Theory $\\implies$ sum of transforms\n",
    "   \n",
    "Lage deformation Theory $\\implies$ product of transforms\n",
    "   \n",
    "### Small Deformation Theory\n",
    "   \n",
    "$$\\displaystyle\\begin{array}{rcl}  \n",
    "&\\frac{ds}{dS} & =\t& \\left(1+2e_{AB} N_A N_B \\right)^{1/2}\\\\\n",
    "& & \\approx\t&  1+e_{AB} N_A N_B \\\\\n",
    "\\implies & \\frac{ds}{dS}-1 & =\t& e_{AB} N_A N_B     \n",
    "\\end{array}$$\n",
    "   \n"
   ]
  },
  {
   "cell_type": "markdown",
   "metadata": {},
   "source": [
    "$$\\partial_j u_i = \\frac{\\partial u_i}{\\partial x_j}=\\frac{\\partial u_i}{\\partial X_A}\\frac{\\partial X_A}{\\partial x_j}$$\n",
    "   \n",
    "Now the initial coordinate = final coordinate - displacement\n",
    "   \n",
    "$$ X_A = x_i\\delta_{iA}-u_i\\delta_{iA}$$\n",
    "   \n",
    "so \n",
    "   \n",
    "$$\\frac{\\partial X_A}{\\partial x_j} =\\frac{\\partial x_i}{\\partial x_j} \\delta_{iA}-\\frac{\\partial u_i}{\\partial x_j} \\delta_{iA} =\\delta_{ij} \\delta_{iA}-\\frac{\\partial u_i}{\\partial x_j} \\delta_{iA} $$\n",
    "   \n",
    "Therefore\n",
    "   \n",
    "$$\\partial_j u_i =\\frac{\\partial u_i}{\\partial X_A}\\frac{\\partial X_A}{\\partial x_j} = \\frac{\\partial u_i}{\\partial X_A}\\left(\\delta_{ij} \\delta_{iA}-\\frac{\\partial u_i}{\\partial x_j} \\delta_{iA}\\right)$$\n",
    "   \n",
    "and this is\n",
    "   \n",
    "$$\\partial_j u_i =\\frac{\\partial u_j}{\\partial X_A} \\delta_{iA}-\\frac{\\partial u_A}{\\partial X_A}\\frac{\\partial u_i}{\\partial x_j} \\approx\\frac{\\partial u_j}{\\partial X_A} \\delta_{iA}\\approx\\frac{\\partial u_j}{\\partial x_i} $$\n",
    "    \n",
    "since the second term is negligable in linear theory. This section shows how big X and little x can be interchanged in small deformation theory."
   ]
  },
  {
   "cell_type": "markdown",
   "metadata": {
    "collapsed": true
   },
   "source": []
  },
  {
   "cell_type": "markdown",
   "metadata": {},
   "source": [
    "### Vectors in small deformation theory\n",
    "   \n",
    "from the relation $x_i = X_L \\delta_{iL} + u_i$ we have \n",
    "   \n",
    "$$ F_{iA} = \\frac{\\partial x_i}{\\partial X_A} = \\frac{\\partial}{\\partial X_A}\\left(  X_L \\delta_{iL} + u_i \\right) =\\frac{\\partial X_L}{\\partial X_A}\\delta_{iL} + \\frac{\\partial u_i}{\\partial X_A} = \\delta_{LA}\\delta_{iL} + \\frac{\\partial u_i}{\\partial X_A} $$\n",
    "   \n",
    "Then from the formula for the vector $(P'Q')_i = F_{iA}(PQ)_A$ we substitute\n",
    "   \n",
    "$$(P'Q')_i = \\left(\\delta_{LA}\\delta_{iL} + \\frac{\\partial u_i}{\\partial X_A}\\right)(PQ)_A = \\delta_{iA}(PQ)_A + \\frac{\\partial u_i}{\\partial X_A}(PQ)_A$$\n",
    "   \n",
    "note: we change the $\\delta_{LA}\\delta_{iL}$ to $\\delta_{iA}$ to make the index compatible with the $(PQ)_A$. And now use the fact that we can change to little x coordinates\n",
    "   \n",
    "$$(P'Q')_i  = \\left(\\delta_{iA} + u_{i,j}\\delta_{jA}\\right)(PQ)_A$$\n",
    "   \n",
    "and then use the sum of symmetric and skew symmetric matrices\n",
    "   \n",
    "$$(P'Q')_i  = \\underbrace{\\delta_{iA}(PQ)_A}_{\\text{initial}} + \\underbrace{\\left(\\frac{u_{i,j} + u_{j,i}}{2} \\right)\\delta_{jA}(PQ)_A}_{\\text{symmetric}}+\\underbrace{\\left(\\frac{u_{i,j} - u_{j,i}}{2} \\right)\\delta_{jA}(PQ)_A}_{\\text{skew symmetric}}$$\n",
    "\n",
    "\n",
    "These aee then written as\n",
    "   \n",
    "$$(P'Q')_i  = \\underbrace{\\delta_{iA}(PQ)_A}_{\\text{initial}} + \\underbrace{e_{ij}\\delta_{jA}(PQ)_A}_{\\text{symmetric}}+\\underbrace{\\omega_{ij}\\delta_{jA}(PQ)_A}_{\\text{skew symmetric}}$$\n",
    "\n",
    "These ($e$ and $\\omega$) are displacement gradients. If you subtract the initial coordinate from both sides, you get the change in the vector, its the sum of change from strain (symmetric) and rotation (skew symmetric). This again shows the diffrerence between small strain theory and large strain theory."
   ]
  },
  {
   "cell_type": "markdown",
   "metadata": {},
   "source": [
    "### Compatibility\n",
    "   \n",
    "https://en.wikipedia.org/wiki/Compatibility_(mechanics)\n",
    "   \n",
    "A Tensor field is a mathematical object that assigns a Tensor to each point in space. The tensor can be expressed in terms of arbitrary coordinates, $(x_1, x_2, x_3)$ such that for each point $(x_1, x_2, x_3)$ (element of the set of all possible points) there is a Tensor, not neccessarily unique. \n",
    "   \n",
    "A compatible strain Tensor field is the unique Tensor field that is obtained when the body is subjected to a single valued, continuous displacement field (wikipedia). \n",
    "   \n",
    "See lecture 19 of the youtube video link for a derivation of the compatibility condition, this proof shall be left out here ... \n",
    "   \n",
    "### General Compatibility Problem\n",
    "   \n",
    "If $\\mathbf A(\\mathbf X)$ is an applied displacement, what conditions are given to this field such that there exists a unique vector field $\\mathbf v(\\mathbf X)$ such that\n",
    "   \n",
    "$$ \\frac{\\partial v_i}{\\partial X_L} = A_{iL}$$\n",
    "   \n",
    "##### The neccessary condition is that\n",
    "   \n",
    "$$ \\nabla \\times \\mathbf A = 0$$ \n",
    "   \n",
    "The curl equals zero since $A_{iL,k} = A_{ik,L}$ since the relation $ v_{i,Lk} = A_{iL,k}$ and interchanging the order of differentiation makes no difference.\n",
    "   \n",
    "##### The sufiicient condition is \n",
    "\n",
    "starting with the assumption that $\\nabla \\times \\mathbf A=0$ and that $\\mathbf A$ exists, we have to integrate the vector field along the line between points (any two arbitrary points) a and b.   \n",
    " \n",
    "$$\\mathbf v(b) - \\mathbf v(a) = \\int_a^b \\mathbf A(\\mathbf X)\\cdot d\\mathbf X$$\n",
    "   \n",
    "If the vector field $\\mathbf v$ is single valued then it must be independant of path. Now applying Stokes theorem, the integral is\n",
    "   \n",
    "$$ \\oint_{\\partial \\Omega} \\mathbf A\\cdot d\\mathbf X =\\int_\\Omega (\\nabla \\times \\mathbf A)\\cdot \\mathbf n \\partial \\Omega$$\n",
    "   \n",
    "The transformation into the integral over the region $\\Omega$ reveals that the integrand contains $\\nabla \\times \\mathbf A=0$ therefore the LHS is zero and the integral is independant of path. Then of course the vorticity is zero, the field is irrotational. \n",
    "\n",
    "### Compatibility Equations \n",
    "   \n",
    "To find a strain field $\\mathbf e$ the compatibility equations for small strain theory can be resolved to be (see video lecture 19) \n",
    "   \n",
    "$$ e_{AC,BD} +e_{BD,AC}-e_{AD,BC}-e_{BC,AD} =0$$\n",
    "   \n",
    "This is equivalent to the statement $\\text{curl}\\text{curl}\\mathbf e=0$. There are 81 equations, but 75 components are zero or cancel, leaving 6 equations to be solved and 3 are linearly independant.\n",
    "   \n",
    "$$ e_{11,22} +e_{22,11}-e_{12,21}-e_{12,12} =0$$\n",
    "   \n",
    "then two more are generated by setting first 1,2 $\\to$ 2,3, then 2,3 $\\to$ 3,1.    \n",
    "   \n",
    "$$ e_{11,23} +e_{23,11}-e_{13,21}-e_{12,13} =0$$\n",
    "\n",
    "then two more are generated by setting first 1,2,3 $\\to$ 2,3,1 then 2,3,1 $\\to$ 3,1,2, not affecting indices that have already been altered.\n",
    "   \n",
    "### Case when $e_{AB}=0$\n",
    "   \n",
    "The condition implies $ 2e_{AB} = u_{A,B}+u_{B,A}=0$, this gives 6 equations,\n",
    "\n",
    "$$\\displaystyle\\begin{array}{rcl}  \n",
    " u_{1,1}+u_{1,1} & =\t& 0 &\\implies u_{1,1} =0 \\\\\n",
    " u_{2,2}& =\t&  0&\\\\\n",
    "u_{3,3} & =\t&  0& \\\\\n",
    "u_{1,2}+u_{2,1}& =\t&  0&    \\\\\n",
    "u_{1,3}+u_{3,1}& =\t&  0&    \\\\\n",
    "u_{2,3}+u_{3,2}& =\t&  0&        \n",
    "\\end{array}$$\n",
    "   \n",
    "solving these for the case of translation and rotation (see lecture 21 in video series) by 1st differenting equation 6 w.r.t $X_3$ then changing order of partial differentiation until one of the first 3 equations appears, gives\n",
    "   \n",
    "$$u_i = a_i + \\omega_{iA}X_A $$\n",
    "   \n",
    "where $\\omega_{iA}$ is a spin tensor, and $a_i$ are translations. Since we have to know the contents of the spin tensor, we have to fix at least one point to get the boundary conditions that eliminate translation and rotation. If 3 non-colinear points are fixed then body motion can be removed.  "
   ]
  },
  {
   "cell_type": "markdown",
   "metadata": {},
   "source": [
    "\n",
    "#### Divergence and curl of a vector field\n",
    "   \n",
    "If the gradient of a vector is defined to be $\\mathbf b = \\text{grad}\\ \\mathbf a= \\frac{\\partial a_i}{\\partial X_A}$, the jacobian matrix, then the divergence of this is\n",
    "   \n",
    "$$ \\text {div} \\mathbf a = \\text{tr}(\\mathbf\\ b) =  \\text{tr}(\\text{grad}\\ \\mathbf a )$$\n",
    "   \n",
    "Then if $\\mathbf b = \\frac{1}{2}\\left(\\mathbf b+\\mathbf b^T\\right) +\\frac{1}{2}\\left(\\mathbf b-\\mathbf b^T\\right)$\n",
    "   \n",
    "Then the curl of $\\mathbf b$ is twice the axis component of the antisymmetric part ... \n",
    "   \n",
    "$$ \\mathbf h = \\frac{1}{2}\\left(\\mathbf b-\\mathbf b^T\\right)$$\n",
    "\n",
    "and \n",
    "\n",
    "$$ (\\text{curl}\\ \\mathbf a)_i = 2 \\epsilon_{ijk }h_{jk} = \\epsilon_{ijk} \\left(b_{jk}-b_{kj}\\right)$$  "
   ]
  },
  {
   "cell_type": "markdown",
   "metadata": {},
   "source": [
    "### Compatibility Conditions in finite / large strain theory\n",
    "   \n",
    "This is a simpler case, simply $\\nabla\\times \\mathbf F=0$ where $\\mathbf F$ is the deformation gradient (as usual). or\n",
    "   \n",
    "\n",
    "   $$\\epsilon_{ABC}\\frac{\\partial F_{iB}}{\\partial X_A}=0$$\n",
    "   \n",
    "The condition is neccessary if the deformation is to be continuous and to define the mapping from the reference configuration to the present configuration, and sufficient if the body is simply connected (not disconnected).\n",
    "   \n",
    "### The compatibility Conditions for the right Cauchy Green Tensor\n",
    "   \n",
    "This is the statement involving the Riemann curvature tensor, the requirement is\n",
    "   \n",
    "$$ R^d_{abc} = 0$$ \n",
    "   \n",
    "where the metric in this case is $ \\mathbf C =\\mathbf F^T\\mathbf F$ the right Cauchy green tensor.\n"
   ]
  },
  {
   "cell_type": "markdown",
   "metadata": {},
   "source": [
    "### Kinematics\n",
    "   \n",
    "In continuum mechanics, the body can be treated as a system of particles connected by some constituitive law, like hookes law or the viscouse damper. In an inertial reference frame, the body obeys the laws of conservation of linear momentum (Newtons 3rd Law).\n",
    "   \n",
    "$$ \\mathbf p = m \\mathbf v = m  \\dot{\\mathbf x} $$\n",
    "   \n",
    "in the present configuration, present force = present rate of change of momentum, ($\\mathbf F_{net}=\\frac{d\\mathbf p}{dt}$). Now for the mass of the body, we may need to integrate the density over the volume\n",
    "   \n",
    "$$ m = \\rho \\Delta\\Omega \\implies \\Delta \\mathbf p = \\rho \\Delta\\Omega \\dot{\\mathbf x}$$\n",
    "   \n",
    "Then total momentum of the system of particles is\n",
    "   \n",
    "$$ \\mathbf p = \\int_{\\Omega}\\rho  \\dot{\\mathbf x}d\\Omega$$\n",
    "   \n",
    "### Cauchy's postulate\n",
    "   \n",
    "> The contact force per unit area at a point depends only on the orientation of the surface outward normal. \n",
    "   \n",
    "This means the contact force per unit area at a point will be the same for any surface with the same outward normal at the point of application of the same force. The force per unit area is independant of the shape of the surface and only dependant on the normal.\n",
    "   \n",
    "> Also, the if normal vector to the bndy is $\\mathbf n$ then any force per unit area (traction) is an odd function of the normal such that $\\mathbf f(\\mathbf x, -\\mathbf n) = -\\mathbf f(\\mathbf x, \\mathbf n)$, or the force acting on a negative normal is the negative of the force\n",
    "   \n",
    "\n",
    "### Cauchy's first Law of Motion\n",
    "   \n",
    "This states that $m \\frac{d\\mathbf p}{dt} = \\mathbf F_{grav} + \\mathbf F_{contact}$. This is called a <b>Governing</b> equation, euqtion of motion, or law of physics, expressing the conservation of linear momentum. \n",
    "The equation must be satisfied by a physical model. It is expressed in the integral form \n",
    "   \n",
    "$$ \\underbrace{\\frac{d}{dt}\\int_{\\Omega}\\rho  \\dot{\\mathbf x}d\\Omega}_{\\text{rate of change of momentum}} = \\underbrace{\\int_{\\Omega} \\rho  \\mathbf b d\\Omega}_{\\text{force from gravity}} + \\underbrace{\\int_{\\partial\\Omega} \\mathbf f \\partial\\Omega}_{\\text{contact force touching the surface}}$$\n"
   ]
  },
  {
   "cell_type": "markdown",
   "metadata": {},
   "source": [
    "since the limits of integration are in the present configuration and not fixed, the derivative on the r.h.s cannot be taken inside the integral, however this is possible because by changing variables to the reference configuration using the relation $d\\Omega = J\\ d\\Omega_0$ then\n",
    "   \n",
    "$$ \\frac{d}{dt}\\int_{\\Omega} \\rho \\mathbf{\\dot{x}}\\ (J d\\Omega_o) = \\frac{d}{dt}\\int_{\\Omega}  \\mathbf{\\dot{x}}\\ (\\rho J)\\ d\\Omega_o = \\frac{d}{dt}\\int_{\\Omega}  \\mathbf{\\dot{x}} \\rho_0 d\\Omega_o $$\n",
    "   \n",
    "Since $\\rho_0 = J \\rho$ then since we are integrating the reference configuration, the limits do not change through time and therefore the derivative can be taken inside the integral. To change back, $\\frac{d\\Omega}{J}=d\\Omega_0$ and the result follows."
   ]
  },
  {
   "cell_type": "code",
   "execution_count": 1,
   "metadata": {
    "collapsed": true
   },
   "outputs": [],
   "source": [
    "# import some libraries\n",
    "import matplotlib as mpl\n",
    "%matplotlib inline\n",
    "from mpl_toolkits.mplot3d import Axes3D\n",
    "import numpy as np\n",
    "import matplotlib.pyplot as plt\n",
    "from matplotlib import cm\n",
    "from matplotlib.patches import FancyArrowPatch\n",
    "from mpl_toolkits.mplot3d import proj3d\n",
    "from matplotlib import pylab\n",
    "from matplotlib.text import Annotation\n",
    "from sympy.vector import *\n",
    "from sympy import *"
   ]
  },
  {
   "cell_type": "code",
   "execution_count": 94,
   "metadata": {},
   "outputs": [],
   "source": [
    "########################################\n",
    "# 1) Fancy Arrow for plotting vectors\n",
    "# http://stackoverflow.com/questions/22867620/putting-arrowheads-on-vectors-in-matplotlibs-3d-plot\n",
    "# posted this fancy arrow object\n",
    "class Arrow3D(FancyArrowPatch):\n",
    "    def __init__(self, xs, ys, zs, *args, **kwargs):\n",
    "        FancyArrowPatch.__init__(self, (0,0), (0,0), *args, **kwargs)\n",
    "        self._verts3d = xs, ys, zs\n",
    "\n",
    "    def draw(self, renderer):\n",
    "        xs3d, ys3d, zs3d = self._verts3d\n",
    "        xs, ys, zs = proj3d.proj_transform(xs3d, ys3d, zs3d, renderer.M)\n",
    "        self.set_positions((xs[0],ys[0]),(xs[1],ys[1]))\n",
    "        FancyArrowPatch.draw(self, renderer)\n",
    "        \n",
    "########################################        \n",
    "# 2) Annotate 3D functions \n",
    "# also from stackoverflow\n",
    "class Annotation3D(Annotation):\n",
    "    '''Annotate the point xyz with text s'''\n",
    "\n",
    "    def __init__(self, s, xyz, *args, **kwargs):\n",
    "        Annotation.__init__(self,s, xy=(0,0), *args, **kwargs)\n",
    "        self._verts3d = xyz        \n",
    "\n",
    "    def draw(self, renderer):\n",
    "        xs3d, ys3d, zs3d = self._verts3d\n",
    "        xs, ys, zs = proj3d.proj_transform(xs3d, ys3d, zs3d, renderer.M)\n",
    "        self.xy=(xs,ys)\n",
    "        Annotation.draw(self, renderer)\n",
    "\n",
    "def annotate3D(ax, s, *args, **kwargs):\n",
    "    '''add anotation text s to to Axes3d ax'''\n",
    "\n",
    "    tag = Annotation3D(s, *args, **kwargs)\n",
    "    ax.add_artist(tag)\n",
    "    \n",
    "    \n",
    "########################################    \n",
    "# 3) Function to plot the cartesian basis ijk\n",
    "def PlotBasisCartesian():\n",
    "    a = Arrow3D([0, 0], [0, 0], [0, 1], mutation_scale=5, lw=2, arrowstyle=\"-|>\", color=\"k\")\n",
    "    ax.add_artist(a)\n",
    "    a = Arrow3D([0, 1], [0, 0], [0, 0], mutation_scale=5, lw=2, arrowstyle=\"-|>\", color=\"k\")\n",
    "    ax.add_artist(a)\n",
    "    a = Arrow3D([0, 0], [0, 1], [0, 0], mutation_scale=5, lw=2, arrowstyle=\"-|>\", color=\"k\")\n",
    "    ax.add_artist(a) \n",
    "    annotate3D(ax, r'$ \\hat{i}$', xyz=(1,0,0), fontsize=30, xytext=(-3,4),\n",
    "               textcoords='offset points', ha='right',va='bottom') \n",
    "    annotate3D(ax, r'$ \\hat{j}$', xyz=(0,1,0), fontsize=30, xytext=(-3,4),\n",
    "               textcoords='offset points', ha='right',va='bottom') \n",
    "    annotate3D(ax, r'$ \\hat{k}$', xyz=(0,0,1), fontsize=30, xytext=(-3,4),\n",
    "                   textcoords='offset points', ha='right',va='bottom') \n",
    "    \n",
    "########################################\n",
    "# 4) Draw an arrow in 3d space from origin o to point v1, with name and color    \n",
    "def plot_arrow(o, v1, e, name,col, fsize=15,vas='bottom'):\n",
    "        LX=[float(N(o.dot(e.i))), float(N(v1.dot(e.i) + o.dot(e.i)))]\n",
    "        LY=[float(N(o.dot(e.j))), float(N(v1.dot(e.j) + o.dot(e.j)))]\n",
    "        LZ=[float(N(o.dot(e.k))), float(N(v1.dot(e.k) + o.dot(e.k)))]\n",
    "        a = Arrow3D(LX, LY, LZ, mutation_scale=5, lw=2, arrowstyle=\"-|>\", color=col)\n",
    "        ax.add_artist(a)\n",
    "        xyz_ = (LX[1], LY[1], LZ[1])\n",
    "        annotate3D(ax, name, xyz=xyz_, fontsize=fsize, xytext=(-3,4),\n",
    "               textcoords='offset points', ha='right',va=vas)\n",
    "\n",
    "########################################\n",
    "# 5) plot 3 basis vectors at a point o         \n",
    "# requires plot_arrow\n",
    "def plot_basis(o,v1,v2,v3,e,col,fontsize=15,va='bottom'):\n",
    "    plot_arrow(o,v1,e,r'$ \\hat{e_1}$',col,fontsize, va)\n",
    "    plot_arrow(o,v2,e,r'$ \\hat{e_2}$',col,fontsize, va)\n",
    "    plot_arrow(o,v3,e,r'$ \\hat{e_3}$',col,fontsize, va)"
   ]
  },
  {
   "cell_type": "code",
   "execution_count": 113,
   "metadata": {},
   "outputs": [
    {
     "data": {
      "image/png": "[encoded data removed]",
      "text/plain": [
       "<matplotlib.figure.Figure at 0xa2dc7f0>"
      ]
     },
     "metadata": {},
     "output_type": "display_data"
    }
   ],
   "source": [
    "# for polygons, with dashed lines for backfacing polygons\n",
    "from matplotlib import pyplot as plt\n",
    "from mpl_toolkits.mplot3d.art3d import Poly3DCollection, Line3DCollection\n",
    "import mpl_toolkits.mplot3d as MP3D\n",
    "import matplotlib.colors as colors\n",
    "import pylab as pl\n",
    "import scipy as sp\n",
    "scale = 2\n",
    "fig = plt.figure()\n",
    "ax = fig.add_subplot(111, projection='3d')\n",
    "\n",
    "polys1 = [[scale,0,0],[0,0,scale],[scale,0,0] ]\n",
    "tri = MP3D.art3d.Poly3DCollection([polys1], linewidths=1, alpha=0.25)\n",
    "tri.set_color('g')\n",
    "tri.set_edgecolor('k')\n",
    "#tri.set_alpha(0.1)\n",
    "ax.add_collection3d(tri)\n",
    "\n",
    "polys1 = [[0,0,0],[0,0,scale],[0,scale,0] ]\n",
    "tri = MP3D.art3d.Poly3DCollection([polys1], linewidths=1, alpha=0.5)\n",
    "tri.set_color('g')\n",
    "tri.set_edgecolor('k')\n",
    "#tri.set_alpha(0.1)\n",
    "ax.add_collection3d(tri)\n",
    "\n",
    "polys1 = [[0,0,0],[0,0,scale],[scale,0,0] ]\n",
    "tri = MP3D.art3d.Poly3DCollection([polys1], linewidths=1, alpha=0.5)\n",
    "tri.set_color('g')\n",
    "tri.set_edgecolor('k')\n",
    "#tri.set_alpha(0.1)\n",
    "ax.add_collection3d(tri)\n",
    "\n",
    "polys1 = [[0,0,0],[0,scale,0],[scale,0,0] ]\n",
    "tri = MP3D.art3d.Poly3DCollection([polys1], linewidths=1, alpha=0.5)\n",
    "tri.set_color('g')\n",
    "tri.set_edgecolor('k')\n",
    "#tri.set_alpha(0.1)\n",
    "ax.add_collection3d(tri)\n",
    "\n",
    "\n",
    "\n",
    "x = [0,scale,0,0]\n",
    "y = [0,0,scale,0]\n",
    "z = [0,0,0,scale]\n",
    "ax.scatter(x,y,z)\n",
    "\n",
    "# I'm afraid I don't have time for better\n",
    "e = CoordSys3D('e')\n",
    "o = 0*e.i + 0*e.j + 0*e.k\n",
    "v1 = 1*e.i + 0*e.j + 0*e.k\n",
    "v2 = 0*e.i + 1*e.j + 0*e.k\n",
    "v3 = 0*e.i + 0*e.j + 1*e.k\n",
    "n = (1/sqrt(3))*e.i + (1/sqrt(3))*e.j + (1/sqrt(3))*e.k\n",
    "\n",
    "plot_basis(o,v1,v2,v3,e,'k',12,'top')\n",
    "\n",
    "# vector halfway through the hypoteneuse of the base\n",
    "\n",
    "v_half_hyp1 = scale*v1+ scale*(v2-v1)/2\n",
    "\n",
    "# origin of the normal vector\n",
    "n_origin = v_half_hyp1 + (scale*v3-v_half_hyp1)/3\n",
    "\n",
    "\n",
    "plot_arrow(n_origin, n, e,'n', 'k',12, 'bottom')\n",
    "\n",
    "F_origin =2*e.i + 2*e.j +0.25* e.k \n",
    "F = -0.4*e.i  -0.6*e.j -0* e.k\n",
    "\n",
    "plot_arrow(F_origin, F, e,'F', 'r',12, 'top')\n",
    "\n",
    "annotate3D(ax, r'$ O $', xyz=(0,0,0), fontsize=15, xytext=(-3,4),\n",
    "               textcoords='offset points', ha='right',va='bottom') \n",
    "annotate3D(ax, r'$ b $', xyz=(scale,0,0), fontsize=15, xytext=(3,4),\n",
    "               textcoords='offset points', ha='left',va='top') \n",
    "annotate3D(ax, r'$ c $', xyz=(0,scale,0), fontsize=15, xytext=(-3,4),\n",
    "               textcoords='offset points', ha='right',va='bottom') \n",
    "annotate3D(ax, r'$ a $', xyz=(0,0,scale), fontsize=15, xytext=(-3,4),\n",
    "               textcoords='offset points', ha='right',va='bottom') \n",
    "\n",
    "ax.set_xlim(0, 2)\n",
    "ax.set_ylim(0,2)\n",
    "ax.set_zlim(0, 2)\n",
    "ax.view_init(30, 10)\n",
    "\n",
    "ax.set_aspect(\"equal\")"
   ]
  },
  {
   "cell_type": "markdown",
   "metadata": {},
   "source": [
    "### Cauchy's Stress Tensor\n",
    "   \n",
    "Considering a right angled Tetrahedron with corner point at the origin, the edges along each axis are of equal length, and the end point (vertex) of each edge is joined to the end point of each other edge forming 4 triangles. Name the vertex at the origin O, and the other vertices a,b and c. Then the $\\text{ area}\\ (abc) =A=A^{(abc)}$. The normal vector to the triangle $(abc)$ is\n",
    "   \n",
    "$$ \\mathbf n = n_1 \\mathbf e_1+ n_2 \\mathbf e_2+ n_3 \\mathbf e_3$$\n",
    "   \n",
    "Then the area of $(Oab) = A^{(Oab)} = A n_2$ or $A^{(Oab)}  = A^{(abc)} \\mathbf n\\cdot \\mathbf e_2$ since the flat area is the projection of the area of the non-flat polygon, and the projection of the area converts (by similar triangles) like the cosine (dot product). The diagram above shows how the vector $F$ is not aligned with the normal vector $\\mathbf n$. The force on the non flat face\n",
    "\n",
    "> As the tetrahedron is equilateral, the direction cosines in the normal vector $\\mathbf n$ are all the same, so we could have choses the dot product with any of the components and still got the same answer, \n",
    "\n",
    "   \n",
    "> The mathematical rule works even if the tetrahedron is not right angled\n",
    "   \n",
    "So now we take the integral over the tetrahedron \n",
    "   \n",
    " \n",
    "$$ \\int_{\\Omega}\\rho  \\ddot{\\mathbf x}d\\Omega = \\int_{\\Omega} \\rho  \\mathbf b d\\Omega + \\int_{\\partial\\Omega} \\mathbf f \\partial\\Omega$$\n",
    "   \n",
    "The surface integral is evaluated as\n",
    "   \n",
    "$$\\int_{\\partial\\Omega} \\mathbf f \\partial\\Omega = \\int_{\\partial \\Omega}\\mathbf f( \\mathbf N) \\partial \\Omega $$\n",
    "   \n",
    "> Note $\\mathbf f = \\mathbf f(\\mathbf n) $ is just a vector function of a vector variable\n",
    "\n",
    "The surface integral is the sum of surface integrals over each polygon\n",
    "   \n",
    "$$\\int_{\\partial \\Omega}\\mathbf f( \\mathbf N )\\partial \\Omega= \\int_{Oab}\\mathbf f(-\\mathbf e_2)  \\partial \\Omega + \\int_{Obc}\\mathbf f(-\\mathbf e_1)  \\partial \\Omega+\\int_{Oca}\\mathbf f(-\\mathbf e_3)  \\partial \\Omega+ \\int_{abc}\\mathbf f( \\mathbf n) \\partial \\Omega  $$\n",
    "   \n",
    "and usinmg the mean value theorem \n",
    "\n",
    "> there exists a point $\\mathbf k$ between a and b such that \n",
    "$$\\int_a^b f(\\mathbf x) d\\mathbf x =  (b-a)\\mathbf f(k)$$.\n",
    "\n",
    "and the fact that $\\mathbf f$ is an odd function of the normaL, these become\n",
    "   \n",
    "$$\\int_{\\partial \\Omega}\\mathbf f( \\mathbf N) \\partial \\Omega = \\mathbf f( \\mathbf n) A^{(abc)} - \\mathbf f( \\mathbf e_2) A^{(Oab)}- \\mathbf f( \\mathbf e_1) A^{(Obc)}- \\mathbf f( \\mathbf e_3) A^{(Oca)}$$\n",
    "   \n",
    "and then express all in terms of $A^{(abc)}$ as \n",
    "   \n",
    "$$ \\mathbf f( \\mathbf n) A^{(abc)} - \\mathbf f( \\mathbf e_2) A^{(abc)}n_2 - \\mathbf f( \\mathbf e_1) A^{(abc)}n_1- \\mathbf f( \\mathbf e_3) A^{(abc)}n_3 $$\n",
    "   \n",
    "and apply the mean value theorem of integration to the volume integrals\n",
    "   \n",
    "Then \n",
    "\n",
    "$$\\rho \\ddot{\\mathbf {x}}(t)\\Omega= \\rho \\mathbf b\\Omega +\\mathbf f( \\mathbf n) A^{(abc)} - \\mathbf f( \\mathbf e_2) A^{(abc)}n_2 - \\mathbf f(\\mathbf e_1) A^{(abc)}n_1- \\mathbf f( \\mathbf e_3) A^{(abc)}n_3  $$\n",
    "   \n",
    "Then dividing all throughout by $A^{(abc)} $ and shrinking the tetrahedron to zero shows\n",
    "   \n",
    "$$\\mathbf f(\\mathbf n)  = \\mathbf f( \\mathbf e_2) n_2 + \\mathbf f( \\mathbf e_1) n_1 + \\mathbf f( \\mathbf e_3) n_3$$\n",
    "   \n",
    " this is a tetrahedron so the contact force per unit area on the inclined plane equals the sum of contact forces per unit area on the non inclined planes. This shows how the force on the non flat face is resolved into components *or has the effect of the components* acting through the volume of the body.\n",
    "   \n",
    "> Therefore the traction at a point is a tensor quantity, there are traction components on 3 mutually perpendicular planes\n",
    "   \n",
    "$$ f_i( \\mathbf x, \\mathbf n) = f_i( \\mathbf x,  e_1) n_1+f_i( \\mathbf x,  e_2) n_2+f_i( \\mathbf x,  e_3) n_3=f_i( \\mathbf x,  e_j) n_j = T_{ij}  $$\n",
    "   \n",
    "The quantity $T_{ij}$ is the Cauchy stress tensor, or <b>true</b> stress tensor and represents present force per unit present area. \n",
    "   \n",
    "> True Stress $\\to \\frac{\\text{Present force} }{\\text{Present area}} $\n",
    "   \n",
    "> Engineering Stress $\\to \\frac{\\text{Present force} }{\\text{Reference area}} $"
   ]
  },
  {
   "cell_type": "code",
   "execution_count": 118,
   "metadata": {
    "collapsed": true
   },
   "outputs": [],
   "source": [
    "def plot_arrow(o, v1, e, name,col, fsize=15,vas='bottom'):\n",
    "        LX=[float(N(o.dot(e.i))), float(N(v1.dot(e.i) + o.dot(e.i)))]\n",
    "        LY=[float(N(o.dot(e.j))), float(N(v1.dot(e.j) + o.dot(e.j)))]\n",
    "        LZ=[float(N(o.dot(e.k))), float(N(v1.dot(e.k) + o.dot(e.k)))]\n",
    "        a = Arrow3D(LX, LY, LZ, mutation_scale=5, lw=2, arrowstyle=\"-|>\", color=col)\n",
    "        ax.add_artist(a)\n",
    "        xyz_ = (LX[1], LY[1], LZ[1])\n",
    "        annotate3D(ax, name, xyz=xyz_, fontsize=fsize, xytext=(-3,4),\n",
    "               textcoords='offset points', ha='right',va=vas)"
   ]
  },
  {
   "cell_type": "code",
   "execution_count": 131,
   "metadata": {},
   "outputs": [
    {
     "data": {
      "text/plain": [
       "[(0, 0, 0),\n",
       " (0, 0, 1),\n",
       " (0, 1, 0),\n",
       " (0, 1, 1),\n",
       " (1, 0, 0),\n",
       " (1, 0, 1),\n",
       " (1, 1, 0),\n",
       " (1, 1, 1)]"
      ]
     },
     "execution_count": 131,
     "metadata": {},
     "output_type": "execute_result"
    }
   ],
   "source": [
    "import itertools\n",
    "import numpy as np\n",
    "# zip the min and max verrtex of the cube, then \n",
    "# use the fancy itertools product to generate all the combinations\n",
    "# (making a size 3 combination of 2 numbers does not work)\n",
    "verts=list(itertools.product(*zip([0,0,0],[1,1,1])) )\n",
    "verts"
   ]
  },
  {
   "cell_type": "code",
   "execution_count": 146,
   "metadata": {},
   "outputs": [],
   "source": [
    "# this is ok, however we only need 3 vectors\n",
    "# to generate a cube\n",
    "\n",
    "e1 = e.i\n",
    "e2 = e.j\n",
    "e3 = e.k\n",
    "\n",
    "# and the origin\n",
    "\n",
    "o = 0*e.i + 0*e.j + 0*e.k\n"
   ]
  },
  {
   "cell_type": "code",
   "execution_count": 191,
   "metadata": {},
   "outputs": [
    {
     "data": {
      "image/png": "[encoded data removed]",
      "text/plain": [
       "<matplotlib.figure.Figure at 0x7f36eb8>"
      ]
     },
     "metadata": {},
     "output_type": "display_data"
    }
   ],
   "source": [
    "fig = plt.figure(figsize=(8, 8))\n",
    "ax = fig.add_subplot(111, projection='3d')\n",
    "scale = 3\n",
    "p1 = [0,0,0]\n",
    "p2 = [scale,0,0]\n",
    "p3 = [0,scale,0]\n",
    "p4 = [0,0,scale]\n",
    "\n",
    "def plot_cube_face(p1,p2,p3):\n",
    "    pb = [ p1[0] + p2[0], p1[1] + p2[1], p1[2] + p2[2]]\n",
    "    ps = [ p1[0] + p3[0], p1[1] + p3[1], p1[2] + p3[2]]\n",
    "    px = [ pb[0] + p3[0], pb[1] + p3[1], pb[2] + p3[2] ]\n",
    "    polys1 = [p1,pb,px,ps]\n",
    "    tri = MP3D.art3d.Poly3DCollection([polys1], linewidths=1, alpha=0.25)\n",
    "    tri.set_color('g')\n",
    "    tri.set_edgecolor('k')\n",
    "    #tri.set_alpha(0.1)\n",
    "    ax.add_collection3d(tri)\n",
    "\n",
    "plot_poly(p1,p2,p3)\n",
    "plot_poly(p4,p2,p3)\n",
    "plot_poly(p1,p2,p4)\n",
    "plot_poly(p3,p2,p4)\n",
    "plot_poly(p1,p3,p4)\n",
    "plot_poly(p2,p3,p4)\n",
    "\n",
    "def parallel_transport_arrow(e1,e2,e3):\n",
    "    plot_arrow(o, e1, e,'', 'r',12, 'top')\n",
    "    plot_arrow(e2, e1, e,'', 'r',12, 'top')\n",
    "    plot_arrow(e3, e1, e,'', 'r',12, 'top')\n",
    "    plot_arrow(e2+e3, e1, e,'', 'r',12, 'top')\n",
    "\n",
    "#parallel_transport_arrow(e1,e2,e3)\n",
    "#parallel_transport_arrow(e2,e3,e1)\n",
    "#parallel_transport_arrow(e3,e2,e1\n",
    "\n",
    "\n",
    "# This section can be indexed easily, however\n",
    "# I cannot easily put the text in for the tensor indexes\n",
    "# so they are written out in full\n",
    "o1=scale*e1+scale*e2/2+scale*e3/2\n",
    "\n",
    "plot_arrow(o1, e1, e,r'$T_{11}$', 'r',14, 'top')\n",
    "plot_arrow(o1, e2, e,r'$T_{21}$', 'r',14, 'top')\n",
    "plot_arrow(o1, e3, e,r'$T_{31}$', 'r',14, 'top')\n",
    "\n",
    "o2=scale*e2+scale*e1/2+scale*e3/2\n",
    "\n",
    "plot_arrow(o2, e1, e,r'$T_{12}$', 'r',14, 'top')\n",
    "plot_arrow(o2, e2, e,r'$T_{22}$', 'r',14, 'top')\n",
    "plot_arrow(o2, e3, e,r'$T_{32}$', 'r',14, 'top')\n",
    "\n",
    "o3=scale*e3+scale*e1/2+scale*e2/2\n",
    "\n",
    "plot_arrow(o3, e1, e,r'$T_{13}$', 'r',14, 'top')\n",
    "plot_arrow(o3, e2, e,r'$T_{23}$', 'r',14, 'top')\n",
    "plot_arrow(o3, e3, e,r'$T_{33}$', 'r',14, 'top')\n",
    "\n",
    "ax.set_xlim(0, 3)\n",
    "ax.set_ylim(0,3)\n",
    "ax.set_zlim(0, 3)\n",
    "ax.view_init(30, 45)\n",
    "\n",
    "ax.set_aspect(\"equal\")"
   ]
  },
  {
   "cell_type": "code",
   "execution_count": null,
   "metadata": {
    "collapsed": true
   },
   "outputs": [],
   "source": []
  }
 ],
 "metadata": {
  "kernelspec": {
   "display_name": "Python 2",
   "language": "python",
   "name": "python2"
  },
  "language_info": {
   "codemirror_mode": {
    "name": "ipython",
    "version": 2
   },
   "file_extension": ".py",
   "mimetype": "text/x-python",
   "name": "python",
   "nbconvert_exporter": "python",
   "pygments_lexer": "ipython2",
   "version": "2.7.13"
  }
 },
 "nbformat": 4,
 "nbformat_minor": 2
}
