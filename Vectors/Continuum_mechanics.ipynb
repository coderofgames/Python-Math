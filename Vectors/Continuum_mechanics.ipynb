{
 "cells": [
  {
   "cell_type": "markdown",
   "metadata": {},
   "source": [
    "### Continuum mechanics\n",
    "   \n",
    "   notes from lecture series https://www.youtube.com/watch?v=0uVyprXjl08&t=1500s\n",
    "   \n",
    "1) Starts with a study of cartesian tensors in 3 dimensions. \n",
    "   \n",
    "2) These are invariant under rotation of coordinates. \n",
    "   \n",
    "3) indices are usually subscripts\n",
    "   \n",
    "4) The Einstien summation convention is used\n",
    "   \n",
    "   \n",
    "Given two reference frames $(x_1,x_2,x_3)$ and $(\\bar{x_1},\\bar{x_2},\\bar{x_3})$ at the same orientation, the barred frame is rotated by a positive angle $\\theta$ about the $x_3$ axis, then the equation for the barred coordinates can be expressed in terms of the unbarred coordinates\n",
    "   \n",
    "$$ \\mathbf{ \\bar{e}}_1 = \\cos\\theta\\ \\mathbf e_1 + \\sin\\theta\\ \\mathbf e_2 + 0 \\mathbf e_3$$\n",
    "   \n",
    "and \n",
    "\n",
    "$$ \\mathbf{ \\bar{e}}_2 = -\\sin\\theta\\ \\mathbf e_1 + \\cos\\theta\\ \\mathbf e_2 + 0 \\mathbf e_3 $$\n",
    "\n",
    "and\n",
    "   \n",
    "$$ \\mathbf{ \\bar{e}}_3 =  \\mathbf e_3 $$"
   ]
  },
  {
   "cell_type": "markdown",
   "metadata": {},
   "source": [
    "then clearly since $\\sin\\theta = \\cos(\\frac{\\pi}{2} - \\theta)$ we can forn a matrix of direction cosines\n",
    "   \n",
    "$$\\mathbf {\\bar{e}} = \\mathbf Q\\ \\mathbf e$$ \n",
    "   \n",
    "Where Q contains the components representing the transform. Then\n",
    "   \n",
    "$\\mathbf {\\bar{e}}_1 = \\mathbf Q_{1j}\\mathbf e_j,\\quad \\mathbf {\\bar{e}}_2 = \\mathbf Q_{2j}\\mathbf e_j,\\quad \\mathbf {\\bar{e}}_3 = \\mathbf Q_{3j}\\mathbf e_j \\implies \\mathbf {\\bar{e}}_i = \\mathbf Q_{ij}\\mathbf e_j $ then taking a dot product \n",
    "   \n",
    "$$ \\mathbf {\\bar{e}}_1\\cdot \\mathbf {\\bar{e}}_k = (\\mathbf Q_{ij}\\mathbf e_j )\\cdot(\\mathbf Q_{kp}\\mathbf e_p ) = \\mathbf Q_{ij}\\mathbf Q_{kp}(\\mathbf e_j \\cdot\\mathbf e_p ) $$ \n",
    "\n",
    "but the $\\mathbf {\\bar{e}}_1\\cdot \\mathbf {\\bar{e}}_k = \\delta_{ik}$ therefore \n",
    "   \n",
    "$$ \\delta_{ik} = \\mathbf Q_{ij}\\mathbf Q_{kp}(\\delta_{jp} ) =\\mathbf Q_{ip}\\mathbf Q_{kp} $$\n",
    "\n",
    "In matrix form, this is equivalent to saying \n",
    "   \n",
    "$$ \\mathbf {[1]} = \\mathbf {[Q]}\\mathbf {[Q]}^T $$ \n",
    "   \n",
    "and taking the determinant of both sides it becomes clear that $\\mathbf {[Q]}^{-1} =\\mathbf {[Q]}^T $ and therefore $\\mathbf Q$ is an orthogonal matrix.\n",
    "    \n",
    "### Linear transforms\n",
    "   \n",
    "a transform $T :v\\in \\mathbb R^n \\to u \\in \\mathbb R^m$ is linear if \n",
    "   \n",
    "$$ \\mathbf {[T]}(\\alpha \\mathbf u + \\beta \\mathbf v ) = \\alpha \\mathbf{[T]}\\mathbf u + \\beta \\mathbf{[T]}\\mathbf v $$\n"
   ]
  },
  {
   "cell_type": "markdown",
   "metadata": {},
   "source": [
    "#### A quick example\n",
    "   \n",
    "To solve an equation of the form $ \\mathbf T_{ij} = \\gamma \\mathbf E_{kk}\\delta_{ij}+2\\mu \\mathbf E_{ij} $ first noting that the k is a dummy index, the $\\mathbf E_{kk} = \\mathbf E_{11} + \\mathbf E_{22} + \\mathbf E_{33}$ is the trace of the tensor ...\n",
    "   \n",
    "$$ \\mathbf T_{ij} = \\gamma ( \\mathbf E_{11} + \\mathbf E_{22} + \\mathbf E_{33})\\delta_{ij}+2\\mu \\mathbf E_{ij} $$\n",
    "   \n",
    "Then performing a contraction on i and j, gives\n",
    "   \n",
    "$$ \\mathbf T_{ii} = \\gamma ( \\mathbf E_{kk })\\delta_{ii}+2\\mu \\mathbf E_{ii}=3 \\gamma ( \\mathbf E_{kk })+2\\mu \\mathbf E_{ii} $$\n",
    "   \n",
    "since $\\delta_{ii}=3$ then solving for $\\mathbf E_{ii}$ in the next equation\n",
    "   \n",
    "$$ 3 \\gamma ( \\mathbf E_{kk })+2\\mu \\mathbf E_{ii} = 3 \\gamma ( ( \\mathbf E_{11} + \\mathbf E_{22} + \\mathbf E_{33}))+2\\mu ( ( \\mathbf E_{11} + \\mathbf E_{22} + \\mathbf E_{33})) = (3\\gamma + 2\\mu) \\mathbf E_{ii} $$\n",
    "   \n",
    "and this is solved \n",
    "    \n",
    "$$\\mathbf E_{ii} = \\frac{\\mathbf T_{ii}}{3\\gamma + 2\\mu} $$\n",
    "   \n",
    "then we can change the dummy index from i to k and substitute in the first equation\n",
    "   \n",
    "$$ \\mathbf T_{ij} = \\gamma \\frac{\\mathbf T_{kk}}{3\\gamma + 2\\mu}\\delta_{ij}+2\\mu \\mathbf E_{ij} \\implies \\mathbf E_{ij} = \\frac{1}{2\\mu} \\left(\\mathbf T_{ij}-\\frac{\\gamma}{3\\gamma + 2\\mu}\\mathbf T_{kk}\\delta_{ij}\\right)$$\n",
    " "
   ]
  },
  {
   "cell_type": "markdown",
   "metadata": {},
   "source": [
    "### Tensor Product\n",
    "   \n",
    "The definition of the tensor product of two tensors $\\mathbf A$ and $\\mathbf B$ acting on a third tensor $\\mathbf C $ is \n",
    "   \n",
    "$$ (\\mathbf A \\otimes \\mathbf B)\\ \\mathbf C = (\\mathbf A \\cdot \\mathbf C)\\ \\mathbf B$$"
   ]
  },
  {
   "cell_type": "markdown",
   "metadata": {},
   "source": [
    "then is $\\mathbf a = a_i \\mathbf e_i$ and $\\mathbf b = b_j \\mathbf e_j$ the product\n",
    "   \n",
    "$$ \\mathbf a \\otimes \\mathbf b = a_i \\mathbf e_i \\otimes b_j \\mathbf e_j = a_i\\ b_j (\\mathbf e_i \\otimes \\mathbf e_j)$$\n",
    "   \n",
    "then $(\\mathbf e_i \\otimes \\mathbf e_j)$ forms a basis for a linear transformation. \n",
    "   \n",
    "$$(\\mathbf e_i \\otimes \\mathbf e_j) \\mathbf c = (\\mathbf e_j\\cdot \\mathbf c)\\mathbf e_i = c_j\\mathbf e_i$$\n",
    "   \n",
    "This is hard to understand at first. However the process is greatly simplified by looking at the tensor product of the unit vectors as a many to many multiplication, \n",
    "\n",
    "$$ (\\mathbf e_i \\otimes \\mathbf e_j)  = \\mathbf e_i (\\mathbf e_1,\\mathbf e_2, \\mathbf e_3) $$\n",
    "   \n",
    "Then each i is a row of a vector of matrices. The part in brackets $(\\mathbf e_1,\\mathbf e_2, \\mathbf e_3) $ then \n",
    "   \n",
    "   $$\\mathbf E = (\\mathbf e_1,\\mathbf e_2, \\mathbf e_3) = \\left (\\begin{array}{ccc} 1& 0 & 0 \\\\ 0 & 1 & 0 \\\\ 0 & 0  &1 \\end{array}\\right) $$\n",
    "   \n",
    "is a matrix whose columns are the vectors $\\mathbf e_j$ and this is the identity matrix in the simplest case, then after multiplying each $\\mathbf e_i$ by each the diagonals contain the column vectors of each $\\mathbf e_i$.\n",
    "   \n",
    "$$ (\\mathbf e_i \\otimes \\mathbf e_j) = \\left( \\mathbf e_1 \\mathbf E,\\mathbf e_2 \\mathbf E, \\mathbf e_3 \\mathbf E \\right)$$\n",
    "   \n",
    "we then have a vector of matrices. Now a 1 times 3 vector containing vectors is a matrix, so a 3 times 3 matrix containing vectors means that each element contains a vector ...\n",
    "   \n",
    "$$  (\\mathbf e_i \\otimes \\mathbf e_j) = \\left (\\begin{array}{ccc} \\mathbf e_i & 0 & 0 \\\\ 0 & \\mathbf e_i & 0 \\\\ 0 & 0  &\\mathbf e_i \\end{array}\\right) $$\n",
    "   \n",
    "with an entry for each i. Then to multiply this by another tensor (either a vector or matrix in this case) means to take the components of C on the diagonal\n",
    "   \n",
    "$$  (\\mathbf e_i \\otimes \\mathbf e_j) \\mathbf c = \\left (\\begin{array}{ccc}   \\mathbf e_i & 0 & 0 \\\\ 0 &   \\mathbf e_i & 0 \\\\ 0 & 0  & \\mathbf e_i \\end{array}\\right) \\cdot \\mathbf c $$\n",
    "\n",
    "then the matrices dot with $\\mathbf c$ via the process of a matrix times a column vector \n",
    "\n",
    "$$  = \\left (\\begin{array}{ccc} \\mathbf c_1  \\mathbf e_i & 0 & 0 \\\\ 0 & \\mathbf c_2  \\mathbf e_i & 0 \\\\ 0 & 0  &\\mathbf c_3 \\mathbf e_i \\end{array}\\right)  $$\n",
    "   \n",
    "but then factorising the e_i terms\n",
    "\n",
    "$$ \\left (\\mathbf e_1\\cdot \\mathbf c,\\quad \\mathbf e_2\\cdot \\mathbf c,\\quad\\mathbf e_3\\cdot \\mathbf c  \\right) \\mathbf e_i = (\\mathbf e_j \\cdot \\mathbf c )\\mathbf e_i $$\n",
    "   \n",
    "and this establishes the identity, so we don't need to think this way anymore.\n",
    "   \n"
   ]
  },
  {
   "cell_type": "code",
   "execution_count": null,
   "metadata": {
    "collapsed": true
   },
   "outputs": [],
   "source": []
  }
 ],
 "metadata": {
  "kernelspec": {
   "display_name": "Python 2",
   "language": "python",
   "name": "python2"
  },
  "language_info": {
   "codemirror_mode": {
    "name": "ipython",
    "version": 2
   },
   "file_extension": ".py",
   "mimetype": "text/x-python",
   "name": "python",
   "nbconvert_exporter": "python",
   "pygments_lexer": "ipython2",
   "version": "2.7.13"
  }
 },
 "nbformat": 4,
 "nbformat_minor": 2
}
