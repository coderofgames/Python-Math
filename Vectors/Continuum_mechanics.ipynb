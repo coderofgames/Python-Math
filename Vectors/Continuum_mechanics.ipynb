{
 "cells": [
  {
   "cell_type": "markdown",
   "metadata": {},
   "source": [
    "### Continuum mechanics\n",
    "   \n",
    "   notes from lecture series https://www.youtube.com/watch?v=0uVyprXjl08&t=1500s\n",
    "   \n",
    "1) Starts with a study of cartesian tensors in 3 dimensions. \n",
    "   \n",
    "2) These are invariant under rotation of coordinates. \n",
    "   \n",
    "3) indices are usually subscripts\n",
    "   \n",
    "4) The Einstien summation convention is used\n",
    "   \n",
    "   \n",
    "Given two reference frames $(x_1,x_2,x_3)$ and $(\\bar{x_1},\\bar{x_2},\\bar{x_3})$ at the same orientation, the barred frame is rotated by a positive angle $\\theta$ about the $x_3$ axis, then the equation for the barred coordinates can be expressed in terms of the unbarred coordinates\n",
    "   \n",
    "$$ \\mathbf{ \\bar{e}}_1 = \\cos\\theta\\ \\mathbf e_1 + \\sin\\theta\\ \\mathbf e_2 + 0 \\mathbf e_3$$\n",
    "   \n",
    "and \n",
    "\n",
    "$$ \\mathbf{ \\bar{e}}_2 = -\\sin\\theta\\ \\mathbf e_1 + \\cos\\theta\\ \\mathbf e_2 + 0 \\mathbf e_3 $$\n",
    "\n",
    "and\n",
    "   \n",
    "$$ \\mathbf{ \\bar{e}}_3 =  \\mathbf e_3 $$"
   ]
  },
  {
   "cell_type": "markdown",
   "metadata": {},
   "source": [
    "then clearly since $\\sin\\theta = \\cos(\\frac{\\pi}{2} - \\theta)$ we can forn a matrix of direction cosines\n",
    "   \n",
    "$$\\mathbf {\\bar{e}} = \\mathbf Q\\ \\mathbf e$$ \n",
    "   \n",
    "Where Q contains the components representing the transform. Then\n",
    "   \n",
    "$\\mathbf {\\bar{e}}_1 = \\mathbf Q_{1j}\\mathbf e_j,\\quad \\mathbf {\\bar{e}}_2 = \\mathbf Q_{2j}\\mathbf e_j,\\quad \\mathbf {\\bar{e}}_3 = \\mathbf Q_{3j}\\mathbf e_j \\implies \\mathbf {\\bar{e}}_i = \\mathbf Q_{ij}\\mathbf e_j $ then taking a dot product \n",
    "   \n",
    "$$ \\mathbf {\\bar{e}}_i\\cdot \\mathbf {\\bar{e}}_k = (\\mathbf Q_{ij}\\mathbf e_j )\\cdot(\\mathbf Q_{kp}\\mathbf e_p ) = \\mathbf Q_{ij}\\mathbf Q_{kp}(\\mathbf e_j \\cdot\\mathbf e_p ) $$ \n",
    "\n",
    "but the $\\mathbf {\\bar{e}}_i\\cdot \\mathbf {\\bar{e}}_k = \\delta_{ik}$ therefore \n",
    "   \n",
    "$$ \\delta_{ik} = \\mathbf Q_{ij}\\mathbf Q_{kp}(\\delta_{jp} ) =\\mathbf Q_{ip}\\mathbf Q_{kp} $$\n",
    "\n",
    "In matrix form, this is equivalent to saying (using $\\mathbf {[1]}$ as the identity matrix)\n",
    "   \n",
    "$$ \\mathbf {[1]} = \\mathbf {[Q]}\\mathbf {[Q]}^T $$ \n",
    "   \n",
    "and taking the determinant of both sides it becomes clear that $\\mathbf {[Q]}^{-1} =\\mathbf {[Q]}^T $ and therefore $\\mathbf Q$ is an orthogonal matrix.\n",
    "    \n",
    "### Linear transforms\n",
    "   \n",
    "a transform $T :v\\in \\mathbb R^n \\to u \\in \\mathbb R^m$ is linear if \n",
    "   \n",
    "$$ \\mathbf {[T]}(\\alpha \\mathbf u + \\beta \\mathbf v ) = \\alpha \\mathbf{[T]}\\mathbf u + \\beta \\mathbf{[T]}\\mathbf v $$\n"
   ]
  },
  {
   "cell_type": "markdown",
   "metadata": {},
   "source": [
    "#### A quick example\n",
    "   \n",
    "To solve an equation of the form $ \\mathbf T_{ij} = \\gamma \\mathbf E_{kk}\\delta_{ij}+2\\mu \\mathbf E_{ij} $ first noting that the k is a dummy index, the $\\mathbf E_{kk} = \\mathbf E_{11} + \\mathbf E_{22} + \\mathbf E_{33}$ is the trace of the tensor ...\n",
    "   \n",
    "$$ \\mathbf T_{ij} = \\gamma ( \\mathbf E_{11} + \\mathbf E_{22} + \\mathbf E_{33})\\delta_{ij}+2\\mu \\mathbf E_{ij} $$\n",
    "   \n",
    "Then performing a contraction on i and j, gives\n",
    "   \n",
    "$$ \\mathbf T_{ii} = \\gamma ( \\mathbf E_{kk })\\delta_{ii}+2\\mu \\mathbf E_{ii}=3 \\gamma ( \\mathbf E_{kk })+2\\mu \\mathbf E_{ii} $$\n",
    "   \n",
    "since $\\delta_{ii}=3$ then solving for $\\mathbf E_{ii}$ in the next equation\n",
    "   \n",
    "$$ 3 \\gamma ( \\mathbf E_{kk })+2\\mu \\mathbf E_{ii} = 3 \\gamma ( ( \\mathbf E_{11} + \\mathbf E_{22} + \\mathbf E_{33}))+2\\mu ( ( \\mathbf E_{11} + \\mathbf E_{22} + \\mathbf E_{33})) = (3\\gamma + 2\\mu) \\mathbf E_{ii} $$\n",
    "   \n",
    "and this is solved \n",
    "    \n",
    "$$\\mathbf E_{ii} = \\frac{\\mathbf T_{ii}}{3\\gamma + 2\\mu} $$\n",
    "   \n",
    "then we can change the dummy index from i to k and substitute in the first equation\n",
    "   \n",
    "$$ \\mathbf T_{ij} = \\gamma \\frac{\\mathbf T_{kk}}{3\\gamma + 2\\mu}\\delta_{ij}+2\\mu \\mathbf E_{ij} \\implies \\mathbf E_{ij} = \\frac{1}{2\\mu} \\left(\\mathbf T_{ij}-\\frac{\\gamma}{3\\gamma + 2\\mu}\\mathbf T_{kk}\\delta_{ij}\\right)$$\n",
    " "
   ]
  },
  {
   "cell_type": "markdown",
   "metadata": {},
   "source": [
    "### Tensor Product\n",
    "   \n",
    "The definition of the tensor product of two tensors $\\mathbf A$ and $\\mathbf B$ acting on a third tensor $\\mathbf C $ is \n",
    "   \n",
    "$$ (\\mathbf A \\otimes \\mathbf B)\\ \\mathbf C = (\\mathbf A \\cdot \\mathbf C)\\ \\mathbf B$$"
   ]
  },
  {
   "cell_type": "markdown",
   "metadata": {},
   "source": [
    "then is $\\mathbf a = a_i \\mathbf e_i$ and $\\mathbf b = b_j \\mathbf e_j$ the product\n",
    "   \n",
    "$$ \\mathbf a \\otimes \\mathbf b = a_i \\mathbf e_i \\otimes b_j \\mathbf e_j = a_i\\ b_j (\\mathbf e_i \\otimes \\mathbf e_j)$$\n",
    "   \n",
    "then $(\\mathbf e_i \\otimes \\mathbf e_j)$ forms a basis for a linear transformation. \n",
    "   \n",
    "$$(\\mathbf e_i \\otimes \\mathbf e_j) \\mathbf c = (\\mathbf e_j\\cdot \\mathbf c)\\mathbf e_i = c_j\\mathbf e_i$$\n",
    "   \n",
    "This is hard to understand at first. However the process is greatly simplified by looking at the tensor product of the unit vectors as a many to many multiplication, \n",
    "\n",
    "$$ (\\mathbf e_i \\otimes \\mathbf e_j)  = \\mathbf e_i (\\mathbf e_1,\\mathbf e_2, \\mathbf e_3) $$\n",
    "   \n",
    "Then each i is a row of a vector of matrices. The part in brackets $(\\mathbf e_1,\\mathbf e_2, \\mathbf e_3) $ then \n",
    "   \n",
    "   $$\\mathbf E = (\\mathbf e_1,\\mathbf e_2, \\mathbf e_3) = \\left (\\begin{array}{ccc} 1& 0 & 0 \\\\ 0 & 1 & 0 \\\\ 0 & 0  &1 \\end{array}\\right) $$\n",
    "   \n",
    "is a matrix whose columns are the vectors $\\mathbf e_j$ and this is the identity matrix in the simplest case, then after multiplying each $\\mathbf e_i$ by each the diagonals contain the column vectors of each $\\mathbf e_i$.\n",
    "   \n",
    "$$ (\\mathbf e_i \\otimes \\mathbf e_j) = \\left( \\mathbf e_1 \\mathbf E,\\mathbf e_2 \\mathbf E, \\mathbf e_3 \\mathbf E \\right)$$\n",
    "   \n",
    "we then have a vector of matrices. Now a 1 times 3 vector containing vectors is a matrix, so a 3 times 3 matrix containing vectors means that each element contains a vector ...\n",
    "   \n",
    "$$  (\\mathbf e_i \\otimes \\mathbf e_j) = \\left (\\begin{array}{ccc} \\mathbf e_i & 0 & 0 \\\\ 0 & \\mathbf e_i & 0 \\\\ 0 & 0  &\\mathbf e_i \\end{array}\\right) $$\n",
    "   \n",
    "with an entry for each i. Then to multiply this by another tensor (either a vector or matrix in this case) means to take the components of C on the diagonal\n",
    "   \n",
    "$$  (\\mathbf e_i \\otimes \\mathbf e_j) \\mathbf c = \\left (\\begin{array}{ccc}   \\mathbf e_i & 0 & 0 \\\\ 0 &   \\mathbf e_i & 0 \\\\ 0 & 0  & \\mathbf e_i \\end{array}\\right) \\cdot \\mathbf c $$\n",
    "\n",
    "then the matrices dot with $\\mathbf c$ via the process of a matrix times a column vector \n",
    "\n",
    "$$  = \\left (\\begin{array}{ccc} \\mathbf c_1  \\mathbf e_i & 0 & 0 \\\\ 0 & \\mathbf c_2  \\mathbf e_i & 0 \\\\ 0 & 0  &\\mathbf c_3 \\mathbf e_i \\end{array}\\right)  $$\n",
    "   \n",
    "but then factorising the e_i terms\n",
    "\n",
    "$$ \\left (\\mathbf e_1\\cdot \\mathbf c,\\quad \\mathbf e_2\\cdot \\mathbf c,\\quad\\mathbf e_3\\cdot \\mathbf c  \\right) \\mathbf e_i = (\\mathbf e_j \\cdot \\mathbf c )\\mathbf e_i $$\n",
    "   \n",
    "and this establishes the identity.\n",
    "   \n"
   ]
  },
  {
   "cell_type": "markdown",
   "metadata": {},
   "source": [
    "### Note, the following section is best viewed on notebook viewer.\n",
    "   \n",
    "   \n",
    "https://github.com/coderofgames/Python-Math/blob/master/Vectors/Continuum_mechanics.ipynb\n",
    "\n",
    "   \n",
    "The way sympy implements the tensor product is not offered as a proof, just as an external verification tool."
   ]
  },
  {
   "cell_type": "code",
   "execution_count": 4,
   "metadata": {},
   "outputs": [
    {
     "data": {
      "text/latex": [
       "$$\\left[\\begin{matrix}\\left[\\begin{matrix}E_{11} e_{11} & E_{12} e_{11} & E_{13} e_{11}\\\\E_{21} e_{11} & E_{22} e_{11} & E_{23} e_{11}\\\\E_{31} e_{11} & E_{32} e_{11} & E_{33} e_{11}\\end{matrix}\\right] & \\left[\\begin{matrix}E_{11} e_{12} & E_{12} e_{12} & E_{13} e_{12}\\\\E_{21} e_{12} & E_{22} e_{12} & E_{23} e_{12}\\\\E_{31} e_{12} & E_{32} e_{12} & E_{33} e_{12}\\end{matrix}\\right] & \\left[\\begin{matrix}E_{11} e_{13} & E_{12} e_{13} & E_{13} e_{13}\\\\E_{21} e_{13} & E_{22} e_{13} & E_{23} e_{13}\\\\E_{31} e_{13} & E_{32} e_{13} & E_{33} e_{13}\\end{matrix}\\right]\\\\\\left[\\begin{matrix}E_{11} e_{21} & E_{12} e_{21} & E_{13} e_{21}\\\\E_{21} e_{21} & E_{22} e_{21} & E_{23} e_{21}\\\\E_{31} e_{21} & E_{32} e_{21} & E_{33} e_{21}\\end{matrix}\\right] & \\left[\\begin{matrix}E_{11} e_{22} & E_{12} e_{22} & E_{13} e_{22}\\\\E_{21} e_{22} & E_{22} e_{22} & E_{23} e_{22}\\\\E_{31} e_{22} & E_{32} e_{22} & E_{33} e_{22}\\end{matrix}\\right] & \\left[\\begin{matrix}E_{11} e_{23} & E_{12} e_{23} & E_{13} e_{23}\\\\E_{21} e_{23} & E_{22} e_{23} & E_{23} e_{23}\\\\E_{31} e_{23} & E_{32} e_{23} & E_{33} e_{23}\\end{matrix}\\right]\\\\\\left[\\begin{matrix}E_{11} e_{31} & E_{12} e_{31} & E_{13} e_{31}\\\\E_{21} e_{31} & E_{22} e_{31} & E_{23} e_{31}\\\\E_{31} e_{31} & E_{32} e_{31} & E_{33} e_{31}\\end{matrix}\\right] & \\left[\\begin{matrix}E_{11} e_{32} & E_{12} e_{32} & E_{13} e_{32}\\\\E_{21} e_{32} & E_{22} e_{32} & E_{23} e_{32}\\\\E_{31} e_{32} & E_{32} e_{32} & E_{33} e_{32}\\end{matrix}\\right] & \\left[\\begin{matrix}E_{11} e_{33} & E_{12} e_{33} & E_{13} e_{33}\\\\E_{21} e_{33} & E_{22} e_{33} & E_{23} e_{33}\\\\E_{31} e_{33} & E_{32} e_{33} & E_{33} e_{33}\\end{matrix}\\right]\\end{matrix}\\right]$$"
      ],
      "text/plain": [
       "⎡⎡E₁₁⋅e₁₁  E₁₂⋅e₁₁  E₁₃⋅e₁₁⎤  ⎡E₁₁⋅e₁₂  E₁₂⋅e₁₂  E₁₃⋅e₁₂⎤  ⎡E₁₁⋅e₁₃  E₁₂⋅e₁₃  \n",
       "⎢⎢                         ⎥  ⎢                         ⎥  ⎢                  \n",
       "⎢⎢E₂₁⋅e₁₁  E₂₂⋅e₁₁  E₂₃⋅e₁₁⎥  ⎢E₂₁⋅e₁₂  E₂₂⋅e₁₂  E₂₃⋅e₁₂⎥  ⎢E₂₁⋅e₁₃  E₂₂⋅e₁₃  \n",
       "⎢⎢                         ⎥  ⎢                         ⎥  ⎢                  \n",
       "⎢⎣E₃₁⋅e₁₁  E₃₂⋅e₁₁  E₃₃⋅e₁₁⎦  ⎣E₃₁⋅e₁₂  E₃₂⋅e₁₂  E₃₃⋅e₁₂⎦  ⎣E₃₁⋅e₁₃  E₃₂⋅e₁₃  \n",
       "⎢                                                                             \n",
       "⎢⎡E₁₁⋅e₂₁  E₁₂⋅e₂₁  E₁₃⋅e₂₁⎤  ⎡E₁₁⋅e₂₂  E₁₂⋅e₂₂  E₁₃⋅e₂₂⎤  ⎡E₁₁⋅e₂₃  E₁₂⋅e₂₃  \n",
       "⎢⎢                         ⎥  ⎢                         ⎥  ⎢                  \n",
       "⎢⎢E₂₁⋅e₂₁  E₂₂⋅e₂₁  E₂₃⋅e₂₁⎥  ⎢E₂₁⋅e₂₂  E₂₂⋅e₂₂  E₂₃⋅e₂₂⎥  ⎢E₂₁⋅e₂₃  E₂₂⋅e₂₃  \n",
       "⎢⎢                         ⎥  ⎢                         ⎥  ⎢                  \n",
       "⎢⎣E₃₁⋅e₂₁  E₃₂⋅e₂₁  E₃₃⋅e₂₁⎦  ⎣E₃₁⋅e₂₂  E₃₂⋅e₂₂  E₃₃⋅e₂₂⎦  ⎣E₃₁⋅e₂₃  E₃₂⋅e₂₃  \n",
       "⎢                                                                             \n",
       "⎢⎡E₁₁⋅e₃₁  E₁₂⋅e₃₁  E₁₃⋅e₃₁⎤  ⎡E₁₁⋅e₃₂  E₁₂⋅e₃₂  E₁₃⋅e₃₂⎤  ⎡E₁₁⋅e₃₃  E₁₂⋅e₃₃  \n",
       "⎢⎢                         ⎥  ⎢                         ⎥  ⎢                  \n",
       "⎢⎢E₂₁⋅e₃₁  E₂₂⋅e₃₁  E₂₃⋅e₃₁⎥  ⎢E₂₁⋅e₃₂  E₂₂⋅e₃₂  E₂₃⋅e₃₂⎥  ⎢E₂₁⋅e₃₃  E₂₂⋅e₃₃  \n",
       "⎢⎢                         ⎥  ⎢                         ⎥  ⎢                  \n",
       "⎣⎣E₃₁⋅e₃₁  E₃₂⋅e₃₁  E₃₃⋅e₃₁⎦  ⎣E₃₁⋅e₃₂  E₃₂⋅e₃₂  E₃₃⋅e₃₂⎦  ⎣E₃₁⋅e₃₃  E₃₂⋅e₃₃  \n",
       "\n",
       "E₁₃⋅e₁₃⎤⎤\n",
       "       ⎥⎥\n",
       "E₂₃⋅e₁₃⎥⎥\n",
       "       ⎥⎥\n",
       "E₃₃⋅e₁₃⎦⎥\n",
       "        ⎥\n",
       "E₁₃⋅e₂₃⎤⎥\n",
       "       ⎥⎥\n",
       "E₂₃⋅e₂₃⎥⎥\n",
       "       ⎥⎥\n",
       "E₃₃⋅e₂₃⎦⎥\n",
       "        ⎥\n",
       "E₁₃⋅e₃₃⎤⎥\n",
       "       ⎥⎥\n",
       "E₂₃⋅e₃₃⎥⎥\n",
       "       ⎥⎥\n",
       "E₃₃⋅e₃₃⎦⎦"
      ]
     },
     "execution_count": 4,
     "metadata": {},
     "output_type": "execute_result"
    }
   ],
   "source": [
    "from sympy import *\n",
    "from sympy import Array, tensorproduct\n",
    "from sympy.abc import x,y,z,t\n",
    "init_printing(use_latex = true)\n",
    "\n",
    "e_11, e_12, e_13 = symbols('e_11, e_12, e_13')\n",
    "e_21, e_22, e_23 = symbols('e_21, e_22, e_23')\n",
    "e_31, e_32, e_33 = symbols('e_31, e_32, e_33')\n",
    "\n",
    "E_11, E_12, E_13 = symbols('E_11, E_12, E_13')\n",
    "E_21, E_22, E_23 = symbols('E_21, E_22, E_23')\n",
    "E_31, E_32, E_33 = symbols('E_31, E_32, E_33')\n",
    "\n",
    "e_i = Array([[e_11,e_12,e_13],[e_21,e_22,e_23],[e_31,e_32,e_33]])\n",
    "e_j = Array([[E_11,E_12,E_13],[E_21,E_22,E_23],[E_31,E_32,E_33]])\n",
    "\n",
    "U2 = tensorproduct(e_i, e_j)\n",
    "U2"
   ]
  },
  {
   "cell_type": "code",
   "execution_count": 6,
   "metadata": {},
   "outputs": [
    {
     "data": {
      "text/latex": [
       "$$\\left[\\begin{matrix}\\left[\\begin{matrix}E_{11} & E_{12} & E_{13}\\\\E_{21} & E_{22} & E_{23}\\\\E_{31} & E_{32} & E_{33}\\end{matrix}\\right] & \\left[\\begin{matrix}0 & 0 & 0\\\\0 & 0 & 0\\\\0 & 0 & 0\\end{matrix}\\right] & \\left[\\begin{matrix}0 & 0 & 0\\\\0 & 0 & 0\\\\0 & 0 & 0\\end{matrix}\\right]\\\\\\left[\\begin{matrix}0 & 0 & 0\\\\0 & 0 & 0\\\\0 & 0 & 0\\end{matrix}\\right] & \\left[\\begin{matrix}E_{11} & E_{12} & E_{13}\\\\E_{21} & E_{22} & E_{23}\\\\E_{31} & E_{32} & E_{33}\\end{matrix}\\right] & \\left[\\begin{matrix}0 & 0 & 0\\\\0 & 0 & 0\\\\0 & 0 & 0\\end{matrix}\\right]\\\\\\left[\\begin{matrix}0 & 0 & 0\\\\0 & 0 & 0\\\\0 & 0 & 0\\end{matrix}\\right] & \\left[\\begin{matrix}0 & 0 & 0\\\\0 & 0 & 0\\\\0 & 0 & 0\\end{matrix}\\right] & \\left[\\begin{matrix}E_{11} & E_{12} & E_{13}\\\\E_{21} & E_{22} & E_{23}\\\\E_{31} & E_{32} & E_{33}\\end{matrix}\\right]\\end{matrix}\\right]$$"
      ],
      "text/plain": [
       "⎡⎡E₁₁  E₁₂  E₁₃⎤     ⎡0  0  0⎤        ⎡0  0  0⎤   ⎤\n",
       "⎢⎢             ⎥     ⎢       ⎥        ⎢       ⎥   ⎥\n",
       "⎢⎢E₂₁  E₂₂  E₂₃⎥     ⎢0  0  0⎥        ⎢0  0  0⎥   ⎥\n",
       "⎢⎢             ⎥     ⎢       ⎥        ⎢       ⎥   ⎥\n",
       "⎢⎣E₃₁  E₃₂  E₃₃⎦     ⎣0  0  0⎦        ⎣0  0  0⎦   ⎥\n",
       "⎢                                                 ⎥\n",
       "⎢   ⎡0  0  0⎤     ⎡E₁₁  E₁₂  E₁₃⎤     ⎡0  0  0⎤   ⎥\n",
       "⎢   ⎢       ⎥     ⎢             ⎥     ⎢       ⎥   ⎥\n",
       "⎢   ⎢0  0  0⎥     ⎢E₂₁  E₂₂  E₂₃⎥     ⎢0  0  0⎥   ⎥\n",
       "⎢   ⎢       ⎥     ⎢             ⎥     ⎢       ⎥   ⎥\n",
       "⎢   ⎣0  0  0⎦     ⎣E₃₁  E₃₂  E₃₃⎦     ⎣0  0  0⎦   ⎥\n",
       "⎢                                                 ⎥\n",
       "⎢   ⎡0  0  0⎤        ⎡0  0  0⎤     ⎡E₁₁  E₁₂  E₁₃⎤⎥\n",
       "⎢   ⎢       ⎥        ⎢       ⎥     ⎢             ⎥⎥\n",
       "⎢   ⎢0  0  0⎥        ⎢0  0  0⎥     ⎢E₂₁  E₂₂  E₂₃⎥⎥\n",
       "⎢   ⎢       ⎥        ⎢       ⎥     ⎢             ⎥⎥\n",
       "⎣   ⎣0  0  0⎦        ⎣0  0  0⎦     ⎣E₃₁  E₃₂  E₃₃⎦⎦"
      ]
     },
     "execution_count": 6,
     "metadata": {},
     "output_type": "execute_result"
    }
   ],
   "source": [
    "U3 = U2.subs({e_11:1,e_12:0,e_13:0,e_21:0,e_22:1,e_23:0,e_31:0,e_32:0,e_33:1} )\n",
    "U3"
   ]
  },
  {
   "cell_type": "code",
   "execution_count": 8,
   "metadata": {},
   "outputs": [
    {
     "data": {
      "text/latex": [
       "$$\\left[\\begin{matrix}\\left[\\begin{matrix}1 & 0 & 0\\\\0 & 1 & 0\\\\0 & 0 & 1\\end{matrix}\\right] & \\left[\\begin{matrix}0 & 0 & 0\\\\0 & 0 & 0\\\\0 & 0 & 0\\end{matrix}\\right] & \\left[\\begin{matrix}0 & 0 & 0\\\\0 & 0 & 0\\\\0 & 0 & 0\\end{matrix}\\right]\\\\\\left[\\begin{matrix}0 & 0 & 0\\\\0 & 0 & 0\\\\0 & 0 & 0\\end{matrix}\\right] & \\left[\\begin{matrix}1 & 0 & 0\\\\0 & 1 & 0\\\\0 & 0 & 1\\end{matrix}\\right] & \\left[\\begin{matrix}0 & 0 & 0\\\\0 & 0 & 0\\\\0 & 0 & 0\\end{matrix}\\right]\\\\\\left[\\begin{matrix}0 & 0 & 0\\\\0 & 0 & 0\\\\0 & 0 & 0\\end{matrix}\\right] & \\left[\\begin{matrix}0 & 0 & 0\\\\0 & 0 & 0\\\\0 & 0 & 0\\end{matrix}\\right] & \\left[\\begin{matrix}1 & 0 & 0\\\\0 & 1 & 0\\\\0 & 0 & 1\\end{matrix}\\right]\\end{matrix}\\right]$$"
      ],
      "text/plain": [
       "⎡⎡1  0  0⎤  ⎡0  0  0⎤  ⎡0  0  0⎤⎤\n",
       "⎢⎢       ⎥  ⎢       ⎥  ⎢       ⎥⎥\n",
       "⎢⎢0  1  0⎥  ⎢0  0  0⎥  ⎢0  0  0⎥⎥\n",
       "⎢⎢       ⎥  ⎢       ⎥  ⎢       ⎥⎥\n",
       "⎢⎣0  0  1⎦  ⎣0  0  0⎦  ⎣0  0  0⎦⎥\n",
       "⎢                               ⎥\n",
       "⎢⎡0  0  0⎤  ⎡1  0  0⎤  ⎡0  0  0⎤⎥\n",
       "⎢⎢       ⎥  ⎢       ⎥  ⎢       ⎥⎥\n",
       "⎢⎢0  0  0⎥  ⎢0  1  0⎥  ⎢0  0  0⎥⎥\n",
       "⎢⎢       ⎥  ⎢       ⎥  ⎢       ⎥⎥\n",
       "⎢⎣0  0  0⎦  ⎣0  0  1⎦  ⎣0  0  0⎦⎥\n",
       "⎢                               ⎥\n",
       "⎢⎡0  0  0⎤  ⎡0  0  0⎤  ⎡1  0  0⎤⎥\n",
       "⎢⎢       ⎥  ⎢       ⎥  ⎢       ⎥⎥\n",
       "⎢⎢0  0  0⎥  ⎢0  0  0⎥  ⎢0  1  0⎥⎥\n",
       "⎢⎢       ⎥  ⎢       ⎥  ⎢       ⎥⎥\n",
       "⎣⎣0  0  0⎦  ⎣0  0  0⎦  ⎣0  0  1⎦⎦"
      ]
     },
     "execution_count": 8,
     "metadata": {},
     "output_type": "execute_result"
    }
   ],
   "source": [
    "U3 = U3.subs({E_11:1,E_12:0,E_13:0,E_21:0,E_22:1,E_23:0,E_31:0,E_32:0,E_33:1} )\n",
    "U3"
   ]
  },
  {
   "cell_type": "code",
   "execution_count": 13,
   "metadata": {},
   "outputs": [
    {
     "ename": "NameError",
     "evalue": "name 'innerproduct' is not defined",
     "output_type": "error",
     "traceback": [
      "\u001b[1;31m---------------------------------------------------------------------------\u001b[0m",
      "\u001b[1;31mNameError\u001b[0m                                 Traceback (most recent call last)",
      "\u001b[1;32m<ipython-input-13-a78dd685063e>\u001b[0m in \u001b[0;36m<module>\u001b[1;34m()\u001b[0m\n\u001b[0;32m      2\u001b[0m \u001b[0mc\u001b[0m \u001b[1;33m=\u001b[0m \u001b[0mArray\u001b[0m\u001b[1;33m(\u001b[0m\u001b[1;33m[\u001b[0m\u001b[0mc_1\u001b[0m\u001b[1;33m,\u001b[0m\u001b[0mc_2\u001b[0m\u001b[1;33m,\u001b[0m\u001b[0mc_3\u001b[0m\u001b[1;33m]\u001b[0m\u001b[1;33m)\u001b[0m\u001b[1;33m\u001b[0m\u001b[0m\n\u001b[0;32m      3\u001b[0m \u001b[1;33m\u001b[0m\u001b[0m\n\u001b[1;32m----> 4\u001b[1;33m \u001b[0minnerproduct\u001b[0m\u001b[1;33m(\u001b[0m\u001b[0mU3\u001b[0m\u001b[1;33m,\u001b[0m\u001b[0mc\u001b[0m\u001b[1;33m)\u001b[0m\u001b[1;33m\u001b[0m\u001b[0m\n\u001b[0m",
      "\u001b[1;31mNameError\u001b[0m: name 'innerproduct' is not defined"
     ]
    }
   ],
   "source": [
    "c_1,c_2,c_3 = symbols('c_1,c_2,c_3')\n",
    "c = Array([c_1,c_2,c_3])\n",
    "\n",
    "innerproduct(U3,c)"
   ]
  },
  {
   "cell_type": "markdown",
   "metadata": {},
   "source": [
    "There is another way to view the tensor product, because I want 9 components, i.e. a matrix, then equations that appear in continuum mechanics like \n",
    "   \n",
    "$$ \\mathbf T = \\mathbf T_{ij} (\\mathbf e_i \\otimes \\mathbf e_j) $$\n",
    "   \n",
    "The above equation is given by pretty much any continuum mechanics source as a 3 times 3 matrix. \n",
    "   \n",
    "So \n",
    "   \n",
    "$$\\mathbf e_i \\otimes \\mathbf e_j = \\left( \\begin{array}{ccc}\\mathbf e_1 \\cdot \\mathbf e_1 & \\mathbf e_1 \\cdot \\mathbf e_2 &\\mathbf e_1 \\cdot \\mathbf e_3 \\\\ \\mathbf e_2 \\cdot \\mathbf e_1 & \\mathbf e_2 \\cdot \\mathbf e_2 &\\mathbf e_2 \\cdot \\mathbf e_3 \\\\ \\mathbf e_3 \\cdot \\mathbf e_1 & \\mathbf e_3 \\cdot \\mathbf e_2 &\\mathbf e_3 \\cdot \\mathbf e_3 \\end{array}\\right)$$\n",
    "   \n",
    "Then $\\mathbf e_1 \\cdot \\mathbf e_1 = (e_{11},e_{12},e_{13})\\cdot (e_{11},e_{12},e_{13}) = e_{11}e_{11}+e_{12}e_{12}+e_{13}e_{13} = 1$ since $\\mathbf e_1 = (1,0,0)$ and so ...\n",
    "\n",
    "$$(\\mathbf e_i \\otimes \\mathbf e_j) \\mathbf c = \\left( \\begin{array}{ccc} (\\mathbf e_1 \\cdot \\mathbf e_1)c_1 & (\\mathbf e_1 \\cdot \\mathbf e_2) c_2 & (\\mathbf e_1 \\cdot \\mathbf e_3)c_3 \\\\ (\\mathbf e_2 \\cdot \\mathbf e_1)c_1 & (\\mathbf e_2 \\cdot \\mathbf e_2)c_2 & (\\mathbf e_2 \\cdot \\mathbf e_3)c_3 \\\\ (\\mathbf e_3 \\cdot \\mathbf e_1)c_1 & (\\mathbf e_3 \\cdot \\mathbf e_2)c_2 & (\\mathbf e_3 \\cdot \\mathbf e_3)c_3 \\end{array}\\right)$$\n",
    "   \n",
    "and then factorising the dot with $\\mathbf e_i$ gives a column (matrix) multiplying a row (matrix) \n",
    "   \n",
    "$$(\\mathbf e_i \\otimes \\mathbf e_j) \\mathbf c = \\mathbf e_i  \\left( \\begin{array}{ccc} (\\mathbf e_1)c_1 & ( \\mathbf e_2) c_2 & (\\mathbf e_3)c_3  \\end{array}\\right) = \\mathbf e_i (\\mathbf e_j \\cdot \\mathbf c) =(\\mathbf e_j \\cdot \\mathbf c) \\mathbf e_i $$"
   ]
  },
  {
   "cell_type": "markdown",
   "metadata": {},
   "source": [
    "\n",
    "Then the tensor product of two vectors is the outer product\n",
    "\n",
    "$$\\mathbf v_i \\otimes \\mathbf u_j = \\left( \\begin{array}{ccc}v_1 u_1 & v_1 u_2 &v_1 u_3 \\\\ v_2 u_1  & v_2 u_2 &v_2 u_3  \\\\ v_3 u_1 & v_3 u_2 &v_3 u_3 \\end{array}\\right)$$\n",
    "   \n",
    "If looked at in matrix form, the outer product generalizes (apparently) to the Kronecker product (the tensor product) and appears as in the sympy output above. "
   ]
  },
  {
   "cell_type": "code",
   "execution_count": null,
   "metadata": {
    "collapsed": true
   },
   "outputs": [],
   "source": []
  }
 ],
 "metadata": {
  "kernelspec": {
   "display_name": "Python 2",
   "language": "python",
   "name": "python2"
  },
  "language_info": {
   "codemirror_mode": {
    "name": "ipython",
    "version": 2
   },
   "file_extension": ".py",
   "mimetype": "text/x-python",
   "name": "python",
   "nbconvert_exporter": "python",
   "pygments_lexer": "ipython2",
   "version": "2.7.13"
  }
 },
 "nbformat": 4,
 "nbformat_minor": 2
}
