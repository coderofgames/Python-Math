{
 "cells": [
  {
   "cell_type": "markdown",
   "metadata": {},
   "source": [
    "## 6) Greens Theorem, Stokes Thereom, the Divergence Thereom, and related Integral Theorems\n",
    "\n",
    "Bibliography: \n",
    "Shaums Vector Analysis, Spiegel.  \n",
    "   \n",
    "Div,grad,curl and all that, Schey\n",
    "\n",
    " \n"
   ]
  },
  {
   "cell_type": "markdown",
   "metadata": {},
   "source": [
    "### Greens Theorem \n",
    "   \n",
    "\n",
    "If R is a closed region of the xy plane bounded by a simple closed curve C and if M and N are continuous functions of x and y having continuous derivatives in R then\n",
    "   \n",
    "$$\n",
    "\\oint_C (M dx + N dy)= \\iint_R {\\left( \\frac{\\partial N}{\\partial x}-\\frac{\\partial M}{\\partial y} \\right )} dx\\ dy        \n",
    "$$\n",
    "   \n",
    "C is traversed in the positive (CCW) direction. This theorem has also been called the fundamental theorem of (integral) calculus in 2 dimensions.\n",
    "\n",
    "If the region has a hole, then the boundary of the hole is integrated clockwise, and the outer boundary of the region is integrated counter clockwise as usual. This can be shown by forming a line to the hole, effectively making the hole part of the boundary. \n",
    "   \n",
    "If the region has a concave area, the region should be split into convex regions. Then the total integral is the sum of integrations of the sub regions.\n",
    "   \n",
    "The functions defined should be continuous and defined over the interval R, for example some function may not have a definition at x,y = 0, then the circulation around the zero point will not neccessarily be equal to the area integraion.\n",
    "\n",
    "Greens theorem can be expressed in vector form by setting $\\mathbf A = M \\mathbf i + N \\mathbf j$ then $d\\mathbf r = dx\\mathbf i + dy\\mathbf j$. Then the curl of $\\mathbf A$ is ...\n",
    "   \n",
    "$$\\nabla \\times \\mathbf A = -\\frac{\\partial N}{\\partial z} \\mathbf i +\\frac{\\partial M}{\\partial z} \\mathbf j + \\left(\\frac{\\partial N}{\\partial x}-\\frac{\\partial M}{\\partial y} \\right) \\mathbf k$$\n",
    "\n",
    "Then recognzing the dot product with the $\\mathbf k$ vector, greens theorem becomes...\n",
    "\n",
    "$$\\oint_C \\mathbf A\\cdot d\\mathbf r = \\iint_R (\\nabla \\times \\mathbf A)\\cdot \\mathbf k d A $$\n",
    "   \n",
    "### version 2\n",
    "\n",
    "There is another second alternative derivation, starting with $\\mathbf A\\cdot d\\mathbf r = \\mathbf A\\cdot \\frac{d\\mathbf r}{ds}ds = \\mathbf A\\cdot \\mathbf T ds $ where $\\mathbf T$ is the unit tangent vector and s is the natural parameter for displacement. Now the vector $\\mathbf T=\\mathbf k\\times\\mathbf n$ where $\\mathbf n$ is the unit normal perpendicular to the tangent and to $\\mathbf k$. Therefore \n",
    "\n",
    "$$\\mathbf A\\cdot \\mathbf T = \\mathbf A\\cdot(\\mathbf k \\times \\mathbf n) = (\\mathbf A\\times\\mathbf k) \\cdot \\mathbf n$$\n",
    "   \n",
    "now setting $\\mathbf B = \\mathbf A \\times \\mathbf k$ we take \n",
    "   \n",
    "$$\\mathbf B = \\mathbf A \\times \\mathbf k = N\\mathbf i - M\\mathbf j$$\n",
    "   \n",
    "then $\\nabla \\cdot \\mathbf B $ is the integrand of the surface integral in greens theorem.\n",
    "   \n",
    "$$ \\oint_C \\mathbf B\\cdot \\mathbf n ds = \\iint_R (\\nabla \\cdot \\mathbf B)dA $$\n",
    "\n",
    "Greens theorem also holds for regions bounded by a finite number of simple closed curves which do not intersect."
   ]
  },
  {
   "cell_type": "markdown",
   "metadata": {},
   "source": [
    "### Greens First Identity\n",
    "   \n",
    "$\\quad   \\displaystyle\\iiint \\left ( \\phi \\nabla^2 \\psi + \\nabla \\phi\\cdot \\nabla \\psi \\right )dV= \\iint \\phi \\nabla \\psi\\cdot d\\mathbf s \\quad $ \n",
    "   \n",
    "since $\\nabla \\cdot(\\phi\\nabla\\psi) = \\phi \\nabla\\cdot(\\nabla\\psi) + (\\nabla\\phi)\\cdot(\\nabla\\psi) = \\phi \\nabla^2\\psi + (\\nabla\\phi)\\cdot(\\nabla\\psi) $ then this follows from the divergence theorem (see below). I'm not sure if the divergence theorem appeared before Green's identity, or if Green's identity was an original expression of the divergence theorem. "
   ]
  },
  {
   "cell_type": "markdown",
   "metadata": {},
   "source": [
    "### Greens Second Identity\n",
    "   \n",
    "$\\quad   \\displaystyle \\iiint \\left( \\phi \\nabla^2 \\psi + \\psi \\nabla^2 \\phi \\right)dV= \\iint \\left(\\phi \\nabla \\psi - \\psi \\nabla \\phi \\right)\\cdot d\\mathbf s  \\quad $       \n",
    "   \n",
    "Follows from interchanging $\\phi$ and $\\psi$ in Greens first identity, then subtracting from Green's first identity.\n",
    "   \n",
    "These two identities enable integration by parts over a Manifold. They are useful in studying the properties of Manifolds. "
   ]
  },
  {
   "cell_type": "code",
   "execution_count": null,
   "metadata": {
    "collapsed": true
   },
   "outputs": [],
   "source": []
  },
  {
   "cell_type": "markdown",
   "metadata": {},
   "source": [
    "### Stokes Theorem\n",
    "  \n",
    "\n",
    "states that if S is an open two sided surface bounded by a closed non-intersecting curve C (simple closed curve) then if A has continuous derivatives\n",
    "$$\n",
    "\\\n",
    "    \\oint_C \\mathbf A.d \\mathbf r=\\iint (\\nabla \\times \\mathbf A) \\cdot d\\mathbf S\n",
    "$$\n",
    "\n",
    "This integral is almost the same as the first vector form of greens theorem, but with the surface integral replacing the region integral. Again C is traversed in the counter clockwise (or positive) direction. The direction of C is called positive if an observer walking on the boundary of S in this direction with head pointing in the direction of positive normal to S, has the surface on his left.\n",
    "   \n",
    "If you have a smooth continuous differentiable surface manifold $S$ bounded by a curve $C$, then approximate the suface with polyhedra such that there are no holes or overlaps, the approximate boundary becomes a polygon. Then take the circulation, over each polyhedra, with boundary $C_i$ and sum them all\n",
    "   \n",
    "$$\\oint_C \\mathbf A.d \\mathbf r = \\sum_{i=1}^N \\oint_{C_i} \\mathbf A.d \\mathbf r_i $$ \n",
    "   \n",
    "Since the contributions to the summation of the circulation over each polyhedra cancels with its neighbours, (if each is traversed in the counterclockwise direction relative to the unit normal facing upwards). The contributions over interior shared edges cancel leaving the boundary.\n",
    "   \n",
    "Now if you multiply and divide by $\\Delta S_i$, the surface area of the polyhedra, the sum becomes the integral definition of the curl dotted with the normal at the point i.\n",
    "   \n",
    "$$\\oint_C \\mathbf A.d \\mathbf r = \\sum_{i=1}^N \\left(\\frac{1}{\\Delta S_i} \\oint_{C_i} \\mathbf A.d \\mathbf r_i\\right) \\Delta S_i = \\sum_{i=1}^N \\left(\\nabla\\times\\mathbf A\\right)_i \\cdot \\mathbf n_i \\Delta S_i$$\n",
    "   \n",
    "and in the limit, as $\\Delta S\\to 0$ we complete Stokes theorem. \n",
    "\n",
    "This theorem has also been called the 3 dimensional analog of the fundamental theorem of (integral) calculus.\n"
   ]
  },
  {
   "cell_type": "markdown",
   "metadata": {},
   "source": [
    "### Gauss' Divergence Theorem  \n",
    "\n",
    "states that if V is the volume bounded by a closed surface S and <b>F</b> is a vector function of postion with continuous derivatives then\n",
    "\n",
    "$$\n",
    "\\iiint \\nabla\\cdot \\mathbf F\\ dV=\\iint \\mathbf F.\\mathbf n dS\n",
    "$$\n",
    "where <b>n</b> is the positive outward normal to S. This integral is called the flux integral.\n",
    "   \n",
    "To define (NOTE : PLOT HERE) divergence as an integral, first take the flux integral, define a smooth and continuous differentiable vector function (i.e a force or traction) and call it $\\mathbf F$ then define a continous volume V around a point (centered around the point) $P$. Then let the volume be a cube with sides $(dx,dy,dz)$, and take the flux integral over the suface of the cube as $\\iint_s \\mathbf F\\cdot \\mathbf n d S$ to be the quantity of $\\mathbf F$ passing through the surface of the cube. From the mean value theorem of integral calculus\n",
    "   \n",
    "$$ \\int_{b}^{a} F dS = (b-a) F(x',y',z')\\ $$\n",
    "   \n",
    "then there is some point $(x',y',z')$ such that the integral over S on the region (b-a) equals F evaluated at the point multiplied by the range of integration. (the proof is not here).\n",
    "   \n",
    "Then to use the flux integral over the positive x side of the cube with normal vector $\\mathbf i$ and surface area $\\Delta S = \\Delta y\\ \\Delta z$ ,\n",
    "\n",
    " $$\\iint_s \\mathbf F\\cdot \\mathbf n\\ d S = \\mathbf F(x+\\frac{\\Delta x}{2},y',z') \\Delta y\\ \\Delta z $$\n",
    "    \n",
    "since the function $\\mathbf F$ at the positive x part of the cube must be at the point $x+\\frac{\\Delta x}{2}$ since the cube is of length $\\Delta x$. Then add the contribution of the negative facing x side of the cube with normal vector $\\mathbf n = -\\mathbf i$, remembering that the function is now at the point $x-\\frac{\\Delta x}{2}$ then\n",
    "\n",
    " $$\\iint_{s_1+s_2} \\mathbf F\\cdot \\mathbf n\\ d S = (\\mathbf F(x+\\frac{\\Delta x}{2},y',z') -\\mathbf F(x-\\frac{\\Delta x}{2},y',z') )\\ \\Delta y\\ \\Delta z$$  \n",
    "    \n",
    " The multiply and divide both sides by $\\Delta x$ to give\n",
    " \n",
    "$$\\iint_{s_1+s_2}\\mathbf F\\cdot \\mathbf n\\ d S = \\frac{\\mathbf F(x+\\frac{\\Delta x}{2},y',z') -\\mathbf F(x-\\frac{\\Delta x}{2},y',z') }{\\Delta x}\\ \\Delta x\\ \\Delta y\\ \\Delta z $$\n",
    "      \n",
    " and of course, $dx\\ dy\\ dz = dV $ so divide both sides and take the limit as $dV\\to 0$ to get ...\n",
    " \n",
    " $$\\lim_{\\Delta V\\to 0}\\frac{1}{\\Delta V}\\iint_{s_1+s_2} \\mathbf F\\cdot \\mathbf n\\ d S = \\lim_{\\Delta x, \\Delta y, \\Delta z \\to 0}\\left(\\frac{\\mathbf F(x+\\frac{\\Delta x}{2},y',z') -\\mathbf F(x-\\frac{\\Delta x}{2},y',z') }{\\Delta x}\\right)= \\frac{\\partial \\mathbf F}{\\partial x} $$\n",
    "    \n",
    "Then if you add the contributions of the other faces, by similar argument, noting that $s_1+s_2+s_3+s_4+s_5+s_6 = S$, the entire surface, and as you shrink the surface to a point, by shrinking the volume, the coordinates become the coordinate P of the center of the volume.\n",
    "   \n",
    "$$ \\lim_{\\Delta V\\to 0}\\left(\\frac{1}{\\Delta V}\\iint_S \\mathbf F\\cdot \\mathbf n\\ d S\\right)  = \\frac{\\partial F}{\\partial x} + \\frac{\\partial F}{\\partial y}+\\frac{\\partial F}{\\partial z} = \\nabla\\cdot \\mathbf F$$\n",
    "\n",
    "If you define the divergence as $\\nabla\\cdot A = \\lim_{\\Delta V\\to 0}\\frac{1}{\\Delta V}\\iint_S \\mathbf A\\cdot \\mathbf n dS$ Then take the volume of integration, the area within the abitrary surface S such that S is smooth, continuous and differentiable, and divide it into small sub-volumes, such that then integrate the flux over each surface of all sub-volumes.\n",
    "   \n",
    "$$\\iint_S \\mathbf A\\cdot \\mathbf n\\ dS = \\sum_{i=0}^N \\left(\\iint_{S_i} \\mathbf A\\cdot n_i\\ dS_i \\right)$$\n",
    "   \n",
    "The flux over surfaces shared by adjacent sub volumes cancels out, since the flux through a shared face will be positive through one and negative through the other, so all that remains is the boundary. Now notice that if you multiply and divide by $\\Delta V$ the sum becomes a sum of little divergences\n",
    "\n",
    "$$\\iint_S \\mathbf A\\cdot \\mathbf n\\ dS  \\approx \\sum_{i=0}^N \\left(\\frac{1}{\\Delta V_i}\\iint_{S_i} \\mathbf A\\cdot n_i\\ dS_i \\right)\\Delta V_i = \\sum_{i=0}^N \\left(\\nabla\\cdot\\mathbf A \\right)\\Delta V_i$$\n",
    "\n",
    "and as above in the limit as $\\Delta V\\to 0$ and number of subvolumes $N\\to \\infty$ this becomes\n",
    "   \n",
    "$$\\iint_S \\mathbf A\\cdot\\mathbf n\\  dS = \\lim_{\\Delta V \\to 0}  \\sum_{i=0}^N \\left(\\nabla\\cdot \\mathbf A \\right)_i\\Delta V_i = \\iiint_V \\nabla \\cdot \\mathbf A\\ dV $$"
   ]
  },
  {
   "cell_type": "markdown",
   "metadata": {},
   "source": [
    "### Other representations\n",
    "   \n",
    "The divergence theorem can also be represented (in modern differential geometry for example) as\n",
    "   \n",
    "$$\\int_\\Omega \\Omega = \\int_{\\partial \\Omega} d\\Omega$$\n",
    "   \n",
    "Where the LHS is a 3-form and the right hand side is a 2-form. These are abstractions because they take the fundamental operation while removing as much contextual information as possible, allowing mathematicians to describe multiple concepts as examples of the same abstraction. This type of pattern is visible in all these integral theorems."
   ]
  },
  {
   "cell_type": "markdown",
   "metadata": {},
   "source": [
    "### Integral operator form of DEL\n",
    "   \n",
    "\n",
    "\n",
    "the operator DEL can be expressed symbolically as\n",
    "\n",
    "$$\n",
    "\\nabla\\oplus = \\lim_{\\Delta V\\to\\ 0}\\frac{1}{\\Delta V} \\iint_{\\Delta S} d\\mathbf s\\ \\oplus                                                                   $$  \n",
    "   \n",
    "where $\\oplus $ denotes a dot, cross or ordinary multiplication."
   ]
  },
  {
   "cell_type": "markdown",
   "metadata": {},
   "source": [
    " ### Generalization.\n",
    "\n",
    "Let $\\psi$ represent either a vector or a scalar function according as the symbol $\\oplus$ denotes a dot or a cross or ordinary multiplication\n",
    "      \n",
    "$$\n",
    "\\displaystyle\\iiint \\nabla \\oplus \\psi\\ dV=\\iint \\mathbf n \\oplus \\psi\\ dS=\\iint d\\mathbf s \\oplus \\psi\n",
    "\\\\\n",
    "\\oint d\\mathbf r \\oplus \\psi=\\iint \\left( \\mathbf n \\times \\nabla \\right) \\oplus \\psi\\ dS=\\iint \\left( d\\mathbf s\\times \\nabla \\right)\\oplus \\psi\n",
    "   $$    \n",
    "Gauss's diverence theorem is an example of the first kind, Stoke's theorem is an example of the second kind. \n",
    "\n",
    "<b>1.</b>   $\\quad  \\displaystyle \\iiint \\left ( \\nabla \\times \\mathbf A\\right)dV= \\iint \\left( \\mathbf n \\times \\mathbf A \\right) dS=\\iint d\\mathbf s\\times \\mathbf A    \\quad $\n",
    "\n",
    "dot product of Gauss replaced by Cross operator\n",
    "   \n",
    "<b>2.</b>   $\\quad  \\displaystyle \\oint \\phi\\ d\\mathbf r=\\iint \\left( \\mathbf n \\times \\nabla \\phi \\right)dS=\\iint \\left( d\\mathbf s\\times \\nabla \\phi \\right)\\quad $"
   ]
  },
  {
   "cell_type": "markdown",
   "metadata": {},
   "source": []
  },
  {
   "cell_type": "markdown",
   "metadata": {
    "collapsed": true
   },
   "source": []
  },
  {
   "cell_type": "code",
   "execution_count": null,
   "metadata": {
    "collapsed": true
   },
   "outputs": [],
   "source": []
  }
 ],
 "metadata": {
  "kernelspec": {
   "display_name": "Python 2",
   "language": "python",
   "name": "python2"
  },
  "language_info": {
   "codemirror_mode": {
    "name": "ipython",
    "version": 2
   },
   "file_extension": ".py",
   "mimetype": "text/x-python",
   "name": "python",
   "nbconvert_exporter": "python",
   "pygments_lexer": "ipython2",
   "version": "2.7.13"
  }
 },
 "nbformat": 4,
 "nbformat_minor": 1
}
