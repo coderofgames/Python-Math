{
 "cells": [
  {
   "cell_type": "markdown",
   "metadata": {},
   "source": [
    "## Vector Integration \n",
    "   \n",
    "---\n",
    "note: expand and move to end. \n",
    "    \n",
    "Bibliography \n",
    "Shaums Vector Analysis, Spiegel, \n",
    "Advanced Engineering Mathematics, Krezig \n",
    "Grad, Div, Curl and all that, Schey\n",
    "\n",
    "\n",
    "####  Ordinary Integrals of Vectors\n",
    "   \n",
    "\n",
    "Let\n",
    "   \n",
    "$\\mathbf{R}(u) = R_1(u) \\mathbf{i} + R_2(u) \\mathbf{j} + R_3(u) \\mathbf{k} $\n",
    "   \n",
    "be a vector depending on a single scalar variable u. Where the <b>R</b> is continuous on a specified interval.\n",
    "   \n",
    "\n",
    "where <b>c</b> is an arbitrary constant vector independant of u. The definite integral between limits can be written u=b and u=a.\n",
    "   \n",
    "\n",
    "\n",
    "$$\n",
    "\\int \\mathbf R(u)du=\\int_{a}^{b} \\frac{\\mathrm{d}\\mathbf S(u) }{\\mathrm{d} u}du=\\mathbf S(b)-\\mathbf S(a)\n",
    "  $$     \n",
    "   \n",
    "\n",
    "This integral is the limit of the sum as $N\\to\\infty$ and $\\Delta u\\to0$...\n",
    "   \n",
    "\n",
    "$$ \\sum_{n=0}^{N} \\mathbf \\Delta R(u_n) \\Delta u_n $$"
   ]
  },
  {
   "cell_type": "code",
   "execution_count": 1,
   "metadata": {
    "scrolled": true
   },
   "outputs": [
    {
     "data": {
      "image/png": "[encoded data removed]",
      "text/latex": [
       "$$\\frac{x^{3}}{3} + \\frac{x^{2}}{2} + x$$"
      ],
      "text/plain": [
       " 3    2    \n",
       "x    x     \n",
       "── + ── + x\n",
       "3    2     "
      ]
     },
     "execution_count": 1,
     "metadata": {},
     "output_type": "execute_result"
    }
   ],
   "source": [
    "from sympy import *\n",
    "init_printing(use_latex=True)\n",
    "x = Symbol('x')\n",
    "integrate(x**2 + x + 1, x)\n"
   ]
  },
  {
   "cell_type": "code",
   "execution_count": 2,
   "metadata": {
    "collapsed": true
   },
   "outputs": [],
   "source": [
    "from sympy.vector import *\n",
    "e = CoordSys3D('e')\n",
    "a,b = symbols('a b')\n",
    "u = symbols('u')"
   ]
  },
  {
   "cell_type": "code",
   "execution_count": 3,
   "metadata": {
    "collapsed": true
   },
   "outputs": [],
   "source": [
    "r1=u**3\n",
    "r2=3*u**2\n",
    "r3=u+2"
   ]
  },
  {
   "cell_type": "code",
   "execution_count": 4,
   "metadata": {
    "collapsed": true
   },
   "outputs": [],
   "source": [
    "r = r1*e.i + r2*e.j + r3*e.k"
   ]
  },
  {
   "cell_type": "code",
   "execution_count": 5,
   "metadata": {},
   "outputs": [
    {
     "data": {
      "image/png": "[encoded data removed]",
      "text/latex": [
       "$$(\\frac{u^{4}}{4})\\mathbf{\\hat{i}_{e}} + (u^{3})\\mathbf{\\hat{j}_{e}} + (\\frac{u^{2}}{2} + 2 u)\\mathbf{\\hat{k}_{e}}$$"
      ],
      "text/plain": [
       "⎛ 4⎞ e_i + ⎛ 3⎞ e_j + ⎛ 2      ⎞ e_k\n",
       "⎜u ⎟       ⎝u ⎠       ⎜u       ⎟    \n",
       "⎜──⎟                  ⎜── + 2⋅u⎟    \n",
       "⎝4 ⎠                  ⎝2       ⎠    "
      ]
     },
     "execution_count": 5,
     "metadata": {},
     "output_type": "execute_result"
    }
   ],
   "source": [
    "integrate(r,u).doit()"
   ]
  },
  {
   "cell_type": "code",
   "execution_count": 6,
   "metadata": {},
   "outputs": [
    {
     "data": {
      "image/png": "[encoded data removed]",
      "text/latex": [
       "$$(- \\frac{a^{4}}{4} + \\frac{b^{4}}{4})\\mathbf{\\hat{i}_{e}} + (- a^{3} + b^{3})\\mathbf{\\hat{j}_{e}} + (- \\frac{a^{2}}{2} - 2 a + \\frac{b^{2}}{2} + 2 b)\\mathbf{\\hat{k}_{e}}$$"
      ],
      "text/plain": [
       "⎛   4    4⎞ e_i + ⎛   3    3⎞ e_j + ⎛   2          2      ⎞ e_k\n",
       "⎜  a    b ⎟       ⎝- a  + b ⎠       ⎜  a          b       ⎟    \n",
       "⎜- ── + ──⎟                         ⎜- ── - 2⋅a + ── + 2⋅b⎟    \n",
       "⎝  4    4 ⎠                         ⎝  2          2       ⎠    "
      ]
     },
     "execution_count": 6,
     "metadata": {},
     "output_type": "execute_result"
    }
   ],
   "source": [
    "integrate(r,(u,a,b)).doit()"
   ]
  },
  {
   "cell_type": "markdown",
   "metadata": {},
   "source": [
    "### Line Integrals\n",
    "\n",
    "\n",
    "Let $\\mathbf{r}(u) = x(u) \\mathbf i + y(u) \\mathbf j + z(u) \\mathbf k$ where <b>r</b>(u) is a position vector of (x, y, z) define a curve joining points P1 and P2, where $u=u_1\\quad and\\quad u=u_2$respectively.\n",
    "   \n",
    "\n",
    "We assume that C is composed of a finite number of curves for each of which <b>r</b>(u) has continuous derivative. Let\n",
    "   \n",
    "$$\\mathbf{F}(x,y,z) = F_1 \\mathbf{i} + F_2 \\mathbf{j} + F_3 \\mathbf{k}$$ \n",
    "   \n",
    "be a vector function of position defined and continuous on C. Then the integral of the tangenital component of $\\mathbf F$ along $C$ from $P_1$ to $P_2$ written as\n",
    "   \n",
    "\n",
    "$$\\int_{P_1}^{P_2} \\mathbf F\\cdot d\\mathbf r=\\int_C \\mathbf F\\cdot d\\mathbf r=\\int_C \\left (F_1dx+F_2dy+F_3dz \\right )$$\n",
    "    \n",
    "Is an example of a line integral. If <b>F</b> is the force on a particle moving along C this line integral represents the work done by the force. If C is a closed curve then the integral is represented by the closed curve line integral symbol.\n",
    "   \n",
    "\n",
    "$$\\int_{P_1}^{P_2} \\mathbf F\\cdot d\\mathbf r = \\oint_{C}\\mathbf F\\cdot d\\mathbf r$$\n",
    "   \n",
    "\n",
    "And this is often called the circulation."
   ]
  },
  {
   "cell_type": "code",
   "execution_count": 43,
   "metadata": {},
   "outputs": [
    {
     "data": {
      "text/plain": [
       "u'In mathematics, a line integral is an integral where the function to be integrated is evaluated along a curve. The terms path integral, curve integral, and curvilinear integral are also used; contour integral as well, although that is typically reserved for line integrals in the complex plane.\\nThe function to be integrated may be a scalar field or a vector field. The value of the line integral is the sum of values of the field at all points on the curve, weighted by some scalar function on the curve (commonly arc length or, for a vector field, the scalar product of the vector field with a differential vector in the curve). This weighting distinguishes the line integral from simpler integrals defined on intervals. Many simple formulae in physics (for example, W = F \\xb7 s) have natural continuous analogs in terms of line integrals (W = \\u222bC F \\xb7 ds). The line integral finds the work done on an object moving through an atomic or gravitational field, for example.'"
      ]
     },
     "execution_count": 43,
     "metadata": {},
     "output_type": "execute_result"
    }
   ],
   "source": [
    "import wikipedia\n",
    "line_integral = wikipedia.page(\"Line Integral\")\n",
    "line_integral.summary"
   ]
  },
  {
   "cell_type": "code",
   "execution_count": 8,
   "metadata": {
    "collapsed": true
   },
   "outputs": [],
   "source": [
    "x,y,z = symbols('x y z')"
   ]
  },
  {
   "cell_type": "code",
   "execution_count": 9,
   "metadata": {
    "collapsed": true
   },
   "outputs": [],
   "source": [
    "A = 2*x *e.i + x*y * e.j + y*z**2*e.k"
   ]
  },
  {
   "cell_type": "code",
   "execution_count": 37,
   "metadata": {
    "collapsed": true
   },
   "outputs": [],
   "source": [
    "def line_integral_1(A,e):\n",
    "    return integrate(A.dot(e.i),x) + integrate(A.dot(e.j),y) + integrate(A.dot(e.k),z) "
   ]
  },
  {
   "cell_type": "code",
   "execution_count": 38,
   "metadata": {},
   "outputs": [
    {
     "data": {
      "image/png": "[encoded data removed]",
      "text/latex": [
       "$$x^{2} + \\frac{x y^{2}}{2} + \\frac{y z^{3}}{3}$$"
      ],
      "text/plain": [
       "        2      3\n",
       " 2   x⋅y    y⋅z \n",
       "x  + ──── + ────\n",
       "      2      3  "
      ]
     },
     "execution_count": 38,
     "metadata": {},
     "output_type": "execute_result"
    }
   ],
   "source": [
    "line_integral_1(A, e)"
   ]
  },
  {
   "cell_type": "markdown",
   "metadata": {},
   "source": [
    "\n",
    "\n",
    "### Theorem: Conservative Vector Field\n",
    "\n",
    "\n",
    "If $\\mathbf F$ is defined in a region $R$ in vector space then $\\mathbf F$ is a conservative vector field if: \n",
    "   \n",
    "$$\\nabla \\times \\mathbf F=0 \\quad $$\n",
    "   \n",
    "or a scalar function $\\Phi(x,y,z) $ with continuous derivatives exists in region $R$ such that\n",
    "    \n",
    "$$\\mathbf F = \\mathbf \\nabla \\Phi$$\n",
    "   \n",
    "Then $\\Phi$ is called the potential of $\\mathbf F$. This result is from physics, where $\\Phi$ is used to denote Potential Energy and $\\mathbf F$ is force.\n",
    "   \n",
    "### Properties of conservative vector fields \n",
    "   \n",
    "> 1) $\\int_{P_1}^{P_2} \\mathbf F\\cdot d\\mathbf r $ is independant of the path C in R joining P1 and P2    \n",
    "           \n",
    "> 2) $\\oint_{C}\\mathbf F\\cdot d\\mathbf r=0 $ \n",
    "   \n",
    "around any closed curve C in R. The integral of $\\mathbf F\\cdot d\\mathbf r$ is called the work integral, as the result of integrating force multiplied by distance along a path equals the work done in moving an object along the path. \n",
    "   \n",
    "\n",
    "In such cases \n",
    "   \n",
    "$$\\mathbf F.d\\mathbf r =F_1\\ dx + F_2\\ dy +F_3\\ dz= \\frac{\\partial \\Phi}{\\partial x}\\ dx +  \\frac{\\partial \\Phi}{\\partial y}\\ dy + \\frac{\\partial \\Phi}{\\partial z}\\ dz = d\\Phi $$ \n",
    "   \n",
    "is an exact differential, so these expressions are replaced with $d\\Phi$. Also \n",
    "   \n",
    "$$\\frac{d\\Phi}{dt} = F_1\\ \\frac{dx}{dt} + F_2\\ \\frac{dy}{dt} +F_3\\ \\frac{dz}{dt} $$\n"
   ]
  },
  {
   "cell_type": "code",
   "execution_count": 34,
   "metadata": {},
   "outputs": [
    {
     "ename": "NameError",
     "evalue": "name 'wikipedia' is not defined",
     "output_type": "error",
     "traceback": [
      "\u001b[1;31m---------------------------------------------------------------------------\u001b[0m",
      "\u001b[1;31mNameError\u001b[0m                                 Traceback (most recent call last)",
      "\u001b[1;32m<ipython-input-34-4bd005453faa>\u001b[0m in \u001b[0;36m<module>\u001b[1;34m()\u001b[0m\n\u001b[1;32m----> 1\u001b[1;33m \u001b[0mconservative_vector_field\u001b[0m \u001b[1;33m=\u001b[0m \u001b[0mwikipedia\u001b[0m\u001b[1;33m.\u001b[0m\u001b[0msearch\u001b[0m\u001b[1;33m(\u001b[0m\u001b[1;34m\"Conservative Vector Field\"\u001b[0m\u001b[1;33m)\u001b[0m\u001b[1;33m\u001b[0m\u001b[0m\n\u001b[0m\u001b[0;32m      2\u001b[0m \u001b[0mconservative_vector_field\u001b[0m\u001b[1;33m\u001b[0m\u001b[0m\n",
      "\u001b[1;31mNameError\u001b[0m: name 'wikipedia' is not defined"
     ]
    }
   ],
   "source": [
    "   conservative_vector_field = wikipedia.search(\"Conservative Vector Field\")\n",
    "conservative_vector_field"
   ]
  },
  {
   "cell_type": "code",
   "execution_count": 23,
   "metadata": {},
   "outputs": [
    {
     "data": {
      "text/plain": [
       "u'In vector calculus, a conservative vector field is a vector field that is the gradient of some function, known in this context as a scalar potential. Conservative vector fields have the property that the line integral is path independent, i.e., the choice of any path between two points does not change the value of the line integral. Path independence of the line integral is equivalent to the vector field being conservative. A conservative vector field is also irrotational; in three dimensions, this means that it has vanishing curl. An irrotational vector field is necessarily conservative provided that the domain is simply connected.\\nConservative vector fields appear naturally in mechanics: They are vector fields representing forces of physical systems in which energy is conserved. For a conservative system, the work done in moving along a path in configuration space depends only on the endpoints of the path, so it is possible to define a potential energy that is independent of the path taken.'"
      ]
     },
     "execution_count": 23,
     "metadata": {},
     "output_type": "execute_result"
    }
   ],
   "source": [
    "conservative_vector_field = wikipedia.page(\"Conservative Vector Field\")\n",
    "conservative_vector_field.summary"
   ]
  },
  {
   "cell_type": "code",
   "execution_count": 39,
   "metadata": {
    "collapsed": true
   },
   "outputs": [],
   "source": [
    "pre_phi = line_integral_1(A, e)"
   ]
  },
  {
   "cell_type": "code",
   "execution_count": 40,
   "metadata": {
    "collapsed": true
   },
   "outputs": [],
   "source": [
    "phi = pre_phi"
   ]
  },
  {
   "cell_type": "code",
   "execution_count": 41,
   "metadata": {},
   "outputs": [
    {
     "data": {
      "image/png": "[encoded data removed]",
      "text/latex": [
       "$$x^{2} + \\frac{x y^{2}}{2} + \\frac{y z^{3}}{3}$$"
      ],
      "text/plain": [
       "        2      3\n",
       " 2   x⋅y    y⋅z \n",
       "x  + ──── + ────\n",
       "      2      3  "
      ]
     },
     "execution_count": 41,
     "metadata": {},
     "output_type": "execute_result"
    }
   ],
   "source": [
    "phi"
   ]
  },
  {
   "cell_type": "code",
   "execution_count": 42,
   "metadata": {
    "collapsed": true
   },
   "outputs": [],
   "source": [
    "def grad_func(p,e):\n",
    "    return diff(p,x)*e.i+diff(p,y)*e.j + diff(p,z)*e.k"
   ]
  },
  {
   "cell_type": "code",
   "execution_count": 43,
   "metadata": {
    "collapsed": true
   },
   "outputs": [],
   "source": [
    "A2 = grad_func(phi,e)"
   ]
  },
  {
   "cell_type": "code",
   "execution_count": 44,
   "metadata": {},
   "outputs": [
    {
     "data": {
      "text/plain": [
       "False"
      ]
     },
     "execution_count": 44,
     "metadata": {},
     "output_type": "execute_result"
    }
   ],
   "source": [
    "A == A2"
   ]
  },
  {
   "cell_type": "code",
   "execution_count": 45,
   "metadata": {},
   "outputs": [
    {
     "data": {
      "image/png": "[encoded data removed]",
      "text/latex": [
       "$$(2 x + \\frac{y^{2}}{2})\\mathbf{\\hat{i}_{e}} + (x y + \\frac{z^{3}}{3})\\mathbf{\\hat{j}_{e}} + (y z^{2})\\mathbf{\\hat{k}_{e}}$$"
      ],
      "text/plain": [
       "⎛       2⎞ e_i + ⎛       3⎞ e_j + ⎛   2⎞ e_k\n",
       "⎜      y ⎟       ⎜      z ⎟       ⎝y⋅z ⎠    \n",
       "⎜2⋅x + ──⎟       ⎜x⋅y + ──⎟                 \n",
       "⎝      2 ⎠       ⎝      3 ⎠                 "
      ]
     },
     "execution_count": 45,
     "metadata": {},
     "output_type": "execute_result"
    }
   ],
   "source": [
    "A2"
   ]
  },
  {
   "cell_type": "code",
   "execution_count": 46,
   "metadata": {
    "collapsed": true
   },
   "outputs": [],
   "source": [
    "A3 = 2*x*e.i + y**2 * e.j + 2*z**3 * e.k"
   ]
  },
  {
   "cell_type": "code",
   "execution_count": 48,
   "metadata": {
    "collapsed": true
   },
   "outputs": [],
   "source": [
    "pre_phi2 = line_integral_1(A3,e)"
   ]
  },
  {
   "cell_type": "code",
   "execution_count": 49,
   "metadata": {},
   "outputs": [
    {
     "data": {
      "image/png": "[encoded data removed]",
      "text/latex": [
       "$$x^{2} + \\frac{y^{3}}{3} + \\frac{z^{4}}{2}$$"
      ],
      "text/plain": [
       "      3    4\n",
       " 2   y    z \n",
       "x  + ── + ──\n",
       "     3    2 "
      ]
     },
     "execution_count": 49,
     "metadata": {},
     "output_type": "execute_result"
    }
   ],
   "source": [
    "pre_phi2"
   ]
  },
  {
   "cell_type": "code",
   "execution_count": 50,
   "metadata": {
    "collapsed": true
   },
   "outputs": [],
   "source": [
    "phi2 = pre_phi2"
   ]
  },
  {
   "cell_type": "code",
   "execution_count": 51,
   "metadata": {
    "collapsed": true
   },
   "outputs": [],
   "source": [
    "A4 = grad_func(phi2, e)"
   ]
  },
  {
   "cell_type": "code",
   "execution_count": 52,
   "metadata": {},
   "outputs": [
    {
     "data": {
      "text/plain": [
       "True"
      ]
     },
     "execution_count": 52,
     "metadata": {},
     "output_type": "execute_result"
    }
   ],
   "source": [
    "A3 == A4"
   ]
  },
  {
   "cell_type": "code",
   "execution_count": 53,
   "metadata": {
    "collapsed": true
   },
   "outputs": [],
   "source": [
    "def line_integral(A, e, p1, p2):\n",
    "    return integrate(A.dot(e.i),(x,p1.dot(e.i),p2.dot(e.i)))  + integrate(A.dot(e.j),(y,p1.dot(e.j),p2.dot(e.j)))  + integrate(A.dot(e.k),(z,p1.dot(e.k),p2.dot(e.k)))  "
   ]
  },
  {
   "cell_type": "code",
   "execution_count": 54,
   "metadata": {
    "collapsed": true
   },
   "outputs": [],
   "source": [
    "p1 = 1*e.i + 2*e.j + e.k\n",
    "p2 = 2*e.i + e.j + 2*e.k"
   ]
  },
  {
   "cell_type": "code",
   "execution_count": 55,
   "metadata": {},
   "outputs": [
    {
     "data": {
      "image/png": "[encoded data removed]",
      "text/latex": [
       "$$\\frac{49}{6}$$"
      ],
      "text/plain": [
       "49/6"
      ]
     },
     "execution_count": 55,
     "metadata": {},
     "output_type": "execute_result"
    }
   ],
   "source": [
    "line_integral(A3,e, p1, p2)"
   ]
  },
  {
   "cell_type": "code",
   "execution_count": 56,
   "metadata": {
    "collapsed": true
   },
   "outputs": [],
   "source": [
    "p1 = 0*e.i + 0*e.j + e.k\n",
    "p2 = 2*e.i + e.j + 2*e.k"
   ]
  },
  {
   "cell_type": "code",
   "execution_count": 57,
   "metadata": {},
   "outputs": [
    {
     "data": {
      "image/png": "[encoded data removed]",
      "text/latex": [
       "$$\\frac{71}{6}$$"
      ],
      "text/plain": [
       "71/6"
      ]
     },
     "execution_count": 57,
     "metadata": {},
     "output_type": "execute_result"
    }
   ],
   "source": [
    "line_integral(A3, e, p1, p2)"
   ]
  },
  {
   "cell_type": "markdown",
   "metadata": {},
   "source": [
    "Here the force is \n",
    "   \n",
    "$$ \\mathbf A = 2\\ x\\mathbf i + y^2 \\mathbf j + 2\\ z^3 \\mathbf k $$ \n",
    "   \n",
    "and the space curve is\n",
    "   \n",
    "$$ \\mathbf r = x(u) \\mathbf i + y(u) \\mathbf j + z(u) \\mathbf k = u^3 \\mathbf i + 3 u ^2 \\mathbf j  + (u+2) \\mathbf k $$ \n",
    "   \n",
    "and so the values for $x$, $y$ and $z$ are *reparameterized* in the force vector\n",
    "   \n",
    "$$ \\mathbf A = 2\\ (u^3)\\mathbf i + (3 u^2)^2 \\mathbf j + 2\\ (u+2)^3 \\mathbf k $$\n",
    "   \n",
    "and the vector $d\\mathbf r$ is computed as\n",
    "   \n",
    "$$ d \\mathbf r  = \\frac{\\mathrm{d}\\mathbf r }{\\mathrm{d} u} \\mathrm{d} u = (3 u^2 \\mathbf i + 6 u \\mathbf j + 1 \\mathbf k)\\ \\mathrm{d} u $$"
   ]
  },
  {
   "cell_type": "markdown",
   "metadata": {},
   "source": [
    "Then: \n",
    "   \n",
    "  $$\\int_{P_1}^{P_2} \\mathbf A\\cdot d\\mathbf r = \\int_{u_1}^{u_2} (2\\ (u^3)\\mathbf i + (3 u^2)^2 \\mathbf j + 2\\ (u+2)^3 \\mathbf k)\\cdot (3 u^2 \\mathbf i + 6 u \\mathbf j + 1 \\mathbf k)\\ \\mathrm{d} u$$\n",
    "    \n",
    "> Note: our limits have changed to the u parameter of the curve, interpret as \"u at p1\" and \"u at p2\" where u might be arc length or time \n",
    "   \n",
    "   $$ \\int_{u_1}^{u_2} (2\\ (u^3)(3 u^2) + (3 u^2)^2 (6 u) + 2\\ (u+2)^3 )\\ \\mathrm{d} u$$"
   ]
  },
  {
   "cell_type": "markdown",
   "metadata": {},
   "source": [
    "=lazy, so not being disrespectful ..."
   ]
  },
  {
   "cell_type": "code",
   "execution_count": 58,
   "metadata": {},
   "outputs": [
    {
     "data": {
      "image/png": "[encoded data removed]",
      "text/latex": [
       "$$60 u^{5} + 2 u^{3} + 12 u^{2} + 24 u + 16$$"
      ],
      "text/plain": [
       "    5      3       2            \n",
       "60⋅u  + 2⋅u  + 12⋅u  + 24⋅u + 16"
      ]
     },
     "execution_count": 58,
     "metadata": {},
     "output_type": "execute_result"
    }
   ],
   "source": [
    "expand(2*(u**3)*(3*u**2)+(3*u**2)**2 *(6*u) + 2*(u+2)**3)"
   ]
  },
  {
   "cell_type": "code",
   "execution_count": 59,
   "metadata": {},
   "outputs": [
    {
     "data": {
      "image/png": "[encoded data removed]",
      "text/latex": [
       "$$u^{3} + 6 u^{2} + 12 u + 8$$"
      ],
      "text/plain": [
       " 3      2           \n",
       "u  + 6⋅u  + 12⋅u + 8"
      ]
     },
     "execution_count": 59,
     "metadata": {},
     "output_type": "execute_result"
    }
   ],
   "source": [
    "expand((u+2)**3)"
   ]
  },
  {
   "cell_type": "markdown",
   "metadata": {},
   "source": [
    "$$ \\int_{u_1}^{u_2} (6 (u^5) + (54 u^5) +  (2u^3+12 u^2 +24 u + 16) )\\ \\mathrm{d} u $$"
   ]
  },
  {
   "cell_type": "code",
   "execution_count": 60,
   "metadata": {},
   "outputs": [
    {
     "data": {
      "image/png": "[encoded data removed]",
      "text/latex": [
       "$$10 u^{6} + \\frac{u^{4}}{2} + 4 u^{3} + 12 u^{2} + 16 u$$"
      ],
      "text/plain": [
       "         4                      \n",
       "    6   u       3       2       \n",
       "10⋅u  + ── + 4⋅u  + 12⋅u  + 16⋅u\n",
       "        2                       "
      ]
     },
     "execution_count": 60,
     "metadata": {},
     "output_type": "execute_result"
    }
   ],
   "source": [
    "integrate(6*u**5 + 54*u**5 + 2*u**3 +12*u**2 + 24*u + 16, u)"
   ]
  },
  {
   "cell_type": "markdown",
   "metadata": {},
   "source": [
    "And so we have the solution\n",
    "    \n",
    "$$\\int_{u_1}^{u_2} \\mathbf A\\cdot d\\mathbf r =\\Big|10 u^6 + \\frac{u^4}{2} + 4 u^3 + 12 u ^ 2 + 16 u\\ \\Big|_{u_1}^{u_2} $$"
   ]
  },
  {
   "cell_type": "code",
   "execution_count": 61,
   "metadata": {},
   "outputs": [
    {
     "data": {
      "image/png": "[encoded data removed]",
      "text/latex": [
       "$$\\frac{85}{2}$$"
      ],
      "text/plain": [
       "85/2"
      ]
     },
     "execution_count": 61,
     "metadata": {},
     "output_type": "execute_result"
    }
   ],
   "source": [
    "integrate(6*u**5 + 54*u**5 + 2*u**3 +12*u**2 + 24*u + 16, (u,0,1))"
   ]
  },
  {
   "cell_type": "code",
   "execution_count": 62,
   "metadata": {},
   "outputs": [
    {
     "data": {
      "image/png": "[encoded data removed]",
      "text/latex": [
       "$$\\frac{85}{2}$$"
      ],
      "text/plain": [
       "85/2"
      ]
     },
     "execution_count": 62,
     "metadata": {},
     "output_type": "execute_result"
    }
   ],
   "source": [
    "-integrate(6*u**5 + 54*u**5 + 2*u**3 +12*u**2 + 24*u + 16, (u,1,0))"
   ]
  },
  {
   "cell_type": "markdown",
   "metadata": {},
   "source": [
    "the direction along the path is signed"
   ]
  },
  {
   "cell_type": "markdown",
   "metadata": {},
   "source": [
    "### Another method\n",
    "   \n",
    "In a case where a curve is given as $y=f(x)$ and $\\mathbf F\\cdot d\\mathbf r=F_x dx + F_y dy$ then the substitution \n",
    "$dy = \\frac{dy}{dx}dx = \\frac{df(x)}{dx}dx = f'(x) dx $ makes the integrand appear as\n",
    "   \n",
    " $$\\mathbf F\\cdot d\\mathbf r=F_x dx + F_y dy=F_x dx + F_y F'(x) dx = (F_x + F_y F'(x)) dx $$"
   ]
  },
  {
   "cell_type": "code",
   "execution_count": 32,
   "metadata": {},
   "outputs": [
    {
     "ename": "NameError",
     "evalue": "name 'wikipedia' is not defined",
     "output_type": "error",
     "traceback": [
      "\u001b[1;31m---------------------------------------------------------------------------\u001b[0m",
      "\u001b[1;31mNameError\u001b[0m                                 Traceback (most recent call last)",
      "\u001b[1;32m<ipython-input-32-f17a5400fb2f>\u001b[0m in \u001b[0;36m<module>\u001b[1;34m()\u001b[0m\n\u001b[1;32m----> 1\u001b[1;33m \u001b[0mpotential_energy\u001b[0m\u001b[1;33m=\u001b[0m \u001b[0mwikipedia\u001b[0m\u001b[1;33m.\u001b[0m\u001b[0mpage\u001b[0m\u001b[1;33m(\u001b[0m\u001b[1;34m\"potential energy\"\u001b[0m\u001b[1;33m)\u001b[0m\u001b[1;33m\u001b[0m\u001b[0m\n\u001b[0m\u001b[0;32m      2\u001b[0m \u001b[0mpotential_energy\u001b[0m\u001b[1;33m\u001b[0m\u001b[0m\n",
      "\u001b[1;31mNameError\u001b[0m: name 'wikipedia' is not defined"
     ]
    }
   ],
   "source": [
    "potential_energy= wikipedia.page(\"potential energy\")\n",
    "potential_energy"
   ]
  },
  {
   "cell_type": "code",
   "execution_count": 33,
   "metadata": {},
   "outputs": [
    {
     "ename": "NameError",
     "evalue": "name 'potential_energy' is not defined",
     "output_type": "error",
     "traceback": [
      "\u001b[1;31m---------------------------------------------------------------------------\u001b[0m",
      "\u001b[1;31mNameError\u001b[0m                                 Traceback (most recent call last)",
      "\u001b[1;32m<ipython-input-33-8271e1977139>\u001b[0m in \u001b[0;36m<module>\u001b[1;34m()\u001b[0m\n\u001b[1;32m----> 1\u001b[1;33m \u001b[0mpotential_energy\u001b[0m\u001b[1;33m.\u001b[0m\u001b[0msummary\u001b[0m\u001b[1;33m\u001b[0m\u001b[0m\n\u001b[0m",
      "\u001b[1;31mNameError\u001b[0m: name 'potential_energy' is not defined"
     ]
    }
   ],
   "source": [
    "potential_energy.summary"
   ]
  },
  {
   "cell_type": "markdown",
   "metadata": {},
   "source": [
    "\n",
    "\n",
    "### Potential Energy Example \n",
    "   \n",
    "\n",
    "From Newtons law of gravitation, \n",
    "   \n",
    "\n",
    "$$ F=\\frac{GMm}{r^2}, \\ \\ G=6.67\\times 10^-11 \\frac{N.m^2}{kg^2}$$ \n",
    "   \n",
    "\n",
    "or in vector form \n",
    "   \n",
    "\n",
    "$$ \\mathbf F_{12}=\\frac{G M_1 M_2 }{|\\mathbf r_{12}|^2} \\frac{ \\mathbf r_{12} }{|\\mathbf r_{12}|} $$\n",
    "\n",
    "   \n",
    "or \n",
    "   \n",
    "\n",
    "$$ \\mathbf F_{12}=\\frac{G M_1 M_2 }{|\\mathbf r_{12}|^3} \\mathbf r_{12}  = \\frac{G M_1 M_2 }{|\\mathbf r_{12}|^2}  \\hat{\\mathbf r_{12}} $$\n",
    "    \n",
    " Is the force on $ M_1 $ exerted by $ M_2 $ and $\\hat{\\mathbf r_{12}} $ is the unit direction vector from $ M_1 $ to $ M_2 $. Also, \n",
    "    \n",
    "\n",
    "$$ \\mathbf F_{12} = - \\mathbf F_{21} $$\n",
    "   \n",
    "\n",
    "To calculate the potential, \n",
    "   \n",
    "\n",
    "$$ \\mathbf F = - \\mathbf \\nabla \\phi $$ \n",
    "   \n",
    "\n",
    "The integral is as follows : \n",
    "   \n",
    "$$ \\phi = \\int {\\mathbf F \\cdot d\\mathbf r}$$ \n",
    "   \n",
    "\n",
    "so \n",
    "   \n",
    "\n",
    "$$ \\phi = -\\int\\left (\\frac{\\partial \\phi}{\\partial x} \\mathbf i+\\frac{\\partial \\phi}{\\partial y} \\mathbf j+\\frac{\\partial \\phi}{\\partial z} \\mathbf k \\right ).(dx\\ \\mathbf i + dy\\ \\mathbf j + dz\\ \\mathbf k) $$\n",
    "   \n",
    "to calculate the gravitational potential field of a single object $M_1$ on its neighbouring region of space, then ...\n",
    "   \n",
    "\n",
    "$$\\phi = -\\int{\\mathbf F_{12} \\cdot d\\mathbf r} = -\\int {\\frac{G M_1 }{|\\mathbf r_{12}|^3}   }\\mathbf r_{12} \\cdot d \\mathbf r  =  -G M_1\\int \\frac{ \\mathbf r_{12} }{|\\mathbf r_{12}| ^3}\\cdot d\\mathbf r $$ \n",
    "   \n",
    "\n",
    "\n",
    "\n",
    "   \n",
    "so    \n",
    "\n",
    "\n",
    "$$\\phi   = -G M_1\\int  \\left(\\frac{(x_2-x_1)}{((x_2-x_1)^2+(y_2-y_1)^2+(z_2 -z_1)^2)^{\\frac{3}{2}}}\\ dx+ \\frac{(y_2-y_1)}{((x_2-x_1)^2+(y_2-y_1)^2+(z_2 -z_1)^2)^{\\frac{3}{2}}}\\ dy+\\frac{(z_2 -z_1)}{((x_2-x_1)^2+(y_2-y_1)^2+(z_2 -z_1)^2)^{\\frac{3}{2}}}\\ dz \\right) $$\n",
    "   \n",
    "> The negative sign here is because we are expressing the force from $M_1$ onto space. \n",
    "   \n",
    "also, since $M_2$ is not a feature of this equation, the notation $\\mathbf r_{12} $ is meaningless, since the '2' represents the set of all points in the surrounding space. Instead of $x_2-x_1$ this should be $x-x_1$ or equivalently, for Euclidean space the mass $M_1$ can be centered on the origin, so $x-x_0 = x$ if $x_0 = 0$ is the origin. This simplification would greatly expediate calculation, and recognizing the fact that \n",
    "   \n",
    "\n",
    "$$\n",
    " -\\frac{x}{(x^2+y^2+z^2)^{\\frac{3}{2}}}  = \\frac{ \\partial }{\\partial x} ( \\frac{1}{(x^2+y^2+z^2)^{\\frac{1}{2}}} ) ,\\qquad \\implies \\phi =  \\frac{GM_1}{(x^2+y^2+z^2)^{\\frac{1}{2}}} \n",
    "$$\n",
    "   \n",
    "and by similarity the other components of the vector gives us \n",
    "   \n",
    "$$ - \\int_{p_1}^{p_2}  (\\frac{ \\partial \\phi}{\\partial x} \\ dx+ \\frac{ \\partial \\phi}{\\partial y} \\ dy+\\frac{ \\partial\\phi }{\\partial y} \\ dz ) = - \\int_{p_1}^{p_2}  d \\phi =  \\phi(p_1)-\\phi(p_2) $$\n",
    "   \n",
    "now the limits of integration express the points $p_1$ and $p_2$ as two points on a curve in space, the value of $\\phi$ at these limits is not expressed. \n",
    "\n",
    "> This proves how in a *conservative field* the work integral is *independant of path*, it only depends on the start and end points (states) and not on the path taken between them.\n",
    "\n",
    "the exact differential is  :\n",
    "   \n",
    "\n",
    "$$ d\\phi = \\frac{ \\partial \\phi}{\\partial x} \\ dx+ \\frac{ \\partial \\phi}{\\partial y} \\ dy+\\frac{ \\partial\\phi }{\\partial y} \\ dz $$\n",
    "\n",
    "The negative sign of the $ \\mathbf r $ vector in this case can be interpreted to indicate that the direction of the field is the force exerted by $M_1 $ on any other body everywhere in space.\n",
    "   \n",
    "Therefore (we have calculated the change in potential, or work done since change in potential is also the change in kinetic energy from the work energy theorem $E = K+\\phi = [const]$ )...\n",
    "   \n",
    "\n",
    "\n",
    "$$\\begin{array}{rcl}\n",
    "\\Delta \\phi\t&\t=\t&\\phi(p_2)-\\phi(p_1)      \\\\ \\\\\n",
    "\t&\t=\t& \\int_{p_1}^{p_2}  d \\phi      \\\\ \\\\\n",
    "\t&\t=\t&\\int_{p_1}^{p_2}\\frac{\\partial \\phi }{\\partial x} d x +\\frac{\\partial \\phi}{\\partial y}d y +\\frac{\\partial \\phi}{\\partial z}d z     \\\\ \\\\\n",
    "    &\t=\t&    \\int_{p_1}^{p_2}\\left (\\frac{\\partial \\phi}{\\partial x} \\mathbf i+\\frac{\\partial \\phi}{\\partial y} \\mathbf j+\\frac{\\partial \\phi}{\\partial z} \\mathbf k \\right ).(dx\\ \\mathbf i + dy\\ \\mathbf j + dz\\ \\mathbf k) \\\\ \\\\\n",
    "    &\t=\t&\t\\int_{p_1}^{p_2} \\mathbf \\nabla \\phi \\cdot d \\mathbf r  \\\\ \\\\\n",
    "    &\t=\t&    -\\int_{p_1}^{p_2}{\\mathbf F \\cdot d\\mathbf r} \\\\ \\\\\n",
    "\t&\t=\t&\t-\\int_{p_1}^{p_2} {\\frac{G M_1 }{|\\mathbf r|^3}  \\mathbf r  }\\cdot d \\mathbf r \n",
    "\\end{array}$$\n",
    "   \n",
    "\n",
    "\n",
    "and of course ... \n",
    "   \n",
    "$$ \\phi = - \\frac{ G M_1 } { |\\mathbf r | } $$\n",
    "   \n",
    "Is the potential field of the Mass $M_1$ affecting space. \n",
    "   \n",
    "### Independance of Path\n",
    "   \n",
    "The independance of path is a mathematical property resulting from the fact that the integrand becomes the differential. Another way to see this is to define a field, then split up the integral into paths like this ...\n",
    "   \n",
    "$$\\int_{p_0}^{p_n}\\mathbf F\\cdot d\\mathbf r =\\int_{p_0}^{p_1}\\mathbf F\\cdot d\\mathbf r+int_{p_1}^{p_2}\\mathbf F\\cdot d\\mathbf r+\\cdots + int_{p_{n-1}}^{p_n}\\mathbf F\\cdot d\\mathbf r $$\n",
    "   \n",
    "and so the curves $p_0$ to $p_1$ and $p_1$ to $p_2$ etc are defined as functions. If the integrand $\\mathbf F\\cdot d\\mathbf r = d\\Phi$ then the integral becomes ...\n",
    "   \n",
    "$$\\int_{p_0}^{p_n}\\mathbf F\\cdot d\\mathbf r = \\int_{p_0}^{p_1}d\\Phi+\\int_{p_1}^{p_2}d\\Phi+\\cdots + \\int_{p_{n-1}}^{p_n}d\\Phi = (\\Phi(p_1) - \\Phi(p_0)) + (\\Phi(p_2) - \\Phi(p_1)) + (\\Phi(p_3) - \\Phi(p_2))+ \\cdots + (\\Phi(p_{n-1}) - \\Phi(p_{n-2})) + (\\Phi(p_n) - \\Phi(p_{n-1})) $$\n",
    "   \n",
    "and so clearly the $\\Phi(p_1)$ cancels because the term appears with a negative sign in the second integral, then the $\\Phi(p_2)$ cancels and also  $\\Phi(p_{n-1})$ cancels in the same way, and to prove by induction, we change the number of divisions to N=n+1 and so prove that the integral is \n",
    "   \n",
    "$$\\int_{p_0}^{p_1}d\\Phi+\\int_{p_1}^{p_2}d\\Phi+\\cdots + \\int_{p_{n-1}}^{p_n}d\\Phi = (\\Phi(p_1) - \\Phi(p_0)) + (\\Phi(p_2) - \\Phi(p_1)) + \\cdots  + (\\Phi(p_N) - \\Phi(p_{N-1})) = \\Phi(p_N) - \\Phi(p_0)$$\n",
    "   \n",
    "and the proof is complete, and obvious, since every in-between term cancels, the in-between paths do not matter, only the start and end points.\n",
    "   \n"
   ]
  },
  {
   "cell_type": "markdown",
   "metadata": {},
   "source": [
    "### Work integral\n",
    "   \n",
    "If the unit tangent to a curve is defined as\n",
    "   \n",
    "$$\\mathbf t = \\lim_{\\Delta s\\to 0}\\frac{\\Delta \\mathbf r}{\\Delta s}=\\lim_{\\Delta s\\to 0}\\left(\\frac{\\Delta x}{\\Delta s}\\mathbf i +\\frac{\\Delta y}{\\Delta s}\\mathbf i +\\frac{\\Delta z}{\\Delta s}\\mathbf k \\right) = \\frac{\\partial x}{\\partial s}\\mathbf i + \\frac{\\partial y}{\\partial s}\\mathbf j + \\frac{\\partial z}{\\partial s}\\mathbf k $$\n",
    "   \n",
    "   \n",
    "where of course $\\Delta x = x(s + \\Delta s) - x(s)$ and the same form for y and z. Then the work integral becomes\n",
    "   \n",
    "$$W = \\int_C \\mathbf F\\cdot \\mathbf t \\mathrm d s= \\int_C \\left( F_x \\frac{\\partial x}{\\partial s} + F_y \\frac{\\partial y}{\\partial s} + F_z \\frac{\\partial z}{\\partial s} \\right) \\mathrm d s $$\n",
    "   \n",
    "Then it is clearly the component of the force in the direction of the tangent, multiplied by the distance, or Force times distance."
   ]
  },
  {
   "cell_type": "markdown",
   "metadata": {},
   "source": [
    "If the tangent isn't a unit tangent, but instead is scaled by velocity, we have\n",
    "   \n",
    "$$\\mathbf T = \\frac{\\mathrm d \\mathbf r}{\\mathrm d t} =\\frac{\\mathrm d x}{\\mathrm d t} \\mathbf i+\\frac{\\mathrm d y}{\\mathrm d t} \\mathbf j+\\frac{\\mathrm d z}{\\mathrm d t} \\mathbf k = v_x \\mathbf i+v_y \\mathbf j + v_z \\mathbf k$$\n",
    "   \n",
    "where $\\mathbf v = (v_x,v_y, v_z)$ is the velocity, then distance along the curve is \n",
    "   \n",
    "$$ \\mathbf T \\mathrm d t = \\mathbf v \\mathrm d t =\\left( \\frac{\\mathrm d x}{\\mathrm d t} \\mathbf i+\\frac{\\mathrm d y}{\\mathrm d t} \\mathbf j+\\frac{\\mathrm d z}{\\mathrm d t} \\mathbf k \\right) \\mathrm d t= \\left(v_x \\mathbf i+v_y \\mathbf j + v_z \\mathbf k\\right) \\mathrm d t  $$\n",
    "   \n",
    "and so the integral often simplifies through cancellation of the $\\mathrm d t$, if the displacement can be calculated. The work integral can be rather strange looking, if you think the of the force as an external force, and the velocity as the velocity of a particle moving along a curve through the force field, then clearly the particle must exert a force to do work. An easy interpretation of the usefulness of the intergral is to compute the work required to move a particle along a curve in a force field given by $\\mathbf F$. In that case the particle must exert an acceleration to oppose the force, $\\mathbf a$, so if the particles mass is $m$ the work integral can be written \n",
    "\n",
    "$$W = \\int_C \\mathbf F\\cdot \\mathbf v \\mathrm d t = \\int_C m \\mathbf a \\cdot \\mathbf v \\mathrm d t $$\n",
    "   \n",
    "Then of course, from properties of vectors, $m \\mathbf a \\cdot \\mathbf v =  m \\mathbf v \\cdot \\mathbf a $ and the quantity $ m\\mathbf v = \\mathbf p $ is called the momentum, then the integral calculates the work required to move a particle along a curve with given momentum, the acceleration is of course varying with the force field. Also since\n",
    "   \n",
    "$$ m\\frac{\\mathrm d\\mathbf v}{\\mathrm d t } \\cdot \\mathbf v = \\frac{m}{2} \\frac{\\mathrm d}{\\mathrm d t } (\\mathbf v\\cdot \\mathbf v) $$ \n",
    "   \n",
    "we can express the work integral as the change in kinetic energy \n",
    "   \n",
    "$$W = \\int_C  \\frac{m}{2} \\frac{\\mathrm d}{\\mathrm d t } (\\mathbf v\\cdot \\mathbf v) \\mathrm d t $$\n",
    "   \n",
    "since kinetic energy $K = \\frac{1}{2} m v^2$ ... and this establishes the fact that ...\n",
    "   \n",
    "$$ \\Phi(p_2) - \\Phi(p_1) = \\frac{m}{2}v(p_2)^2 - \\frac{m}{2}v(p_1)^2 $$\n",
    "   \n",
    "And so we have the work energy theorem\n",
    "   \n",
    "$$ \\frac{m}{2}v(p_1)^2 + \\Phi(p_2)  = \\frac{m}{2}v(p_2)^2 +\\Phi(p_1) $$\n",
    "   \n",
    "For any points $p_1$ and $p_2$. This means that \n",
    "   \n",
    "$$ E= K + \\Phi = [\\text{const}]$$\n",
    "   \n",
    "and is a very useful theorem in physics.\n",
    "   \n"
   ]
  },
  {
   "cell_type": "code",
   "execution_count": 63,
   "metadata": {},
   "outputs": [
    {
     "data": {
      "image/png": "[encoded data removed]",
      "text/latex": [
       "$$\\frac{- 1.0 x + 1.0 x_{0}}{\\left(\\left(x - x_{0}\\right)^{2} + \\left(y - y_{0}\\right)^{2} + \\left(z - z_{0}\\right)^{2}\\right)^{1.5}}$$"
      ],
      "text/plain": [
       "                                                     -1.5\n",
       "                  ⎛        2           2           2⎞    \n",
       "(-1.0⋅x + 1.0⋅x₀)⋅⎝(x - x₀)  + (y - y₀)  + (z - z₀) ⎠    "
      ]
     },
     "execution_count": 63,
     "metadata": {},
     "output_type": "execute_result"
    }
   ],
   "source": [
    "x0,y0,z0 = symbols('x0 y0 z0')\n",
    "diff(  ((x-x0)**2 + (y-y0)**2 + (z-z0)**2)**(-0.5),x)"
   ]
  },
  {
   "cell_type": "code",
   "execution_count": 64,
   "metadata": {
    "collapsed": true
   },
   "outputs": [],
   "source": [
    "from __future__ import division\n",
    "#we dont need division here, however its a useful trick..."
   ]
  },
  {
   "cell_type": "code",
   "execution_count": 65,
   "metadata": {
    "collapsed": true
   },
   "outputs": [],
   "source": [
    "# now the power (3/2) is expressed (S(3)/2) telling sympy that this is a symbolic fraction or something\n",
    "z2 = x / (x**2+y**2 + z**2)**(S(3)/2)"
   ]
  },
  {
   "cell_type": "code",
   "execution_count": 66,
   "metadata": {},
   "outputs": [
    {
     "data": {
      "image/png": "[encoded data removed]",
      "text/latex": [
       "$$- \\frac{1}{\\sqrt{x^{2} + y^{2} + z^{2}}}$$"
      ],
      "text/plain": [
       "       -1        \n",
       "─────────────────\n",
       "   ______________\n",
       "  ╱  2    2    2 \n",
       "╲╱  x  + y  + z  "
      ]
     },
     "execution_count": 66,
     "metadata": {},
     "output_type": "execute_result"
    }
   ],
   "source": [
    "integrate(z2,x)"
   ]
  },
  {
   "cell_type": "markdown",
   "metadata": {},
   "source": [
    "<h2>Surface Integrals</h2>\n",
    "\n",
    "\n",
    "Let S be a two side surface and one side of S is arbitrarily the positive side of S (if S is closed then it is usually the outer side) A unit normal <b>n</b> to any point on the positive side of S is called a positive or outward drawn normal.\n",
    "\n",
    "The differential of surface area dS has a vector d<b>s</b> whose magnitude is dS and direction is <b>n</b> at S. Then $$d\\mathbf{s} =\\mathbf{n}dS$$\n",
    "\n",
    "\n",
    "$$\n",
    "\\iint \\mathbf A\\cdot d\\mathbf s=\\iint \\mathbf A\\cdot\\mathbf n\\ dS\n",
    "$$\n",
    "\n",
    "Is an example of a surface integral called the flux of <b>A</b> over S. Other surface integrals are \n",
    "\n",
    "\n",
    "$$\n",
    "\\iint \\phi\\ dS,\\ \\ \\ \\ \\iint \\phi\\ \\mathbf n\\ dS,\\ \\ \\ \\ \\iint \\mathbf A \\times d\\mathbf s\n",
    "$$\n",
    "\n",
    "\n",
    "where $\\phi$ is a scalar function. These integrals can also be defined in terms of limits of sums. There is a symbol for integration over a closed surface. \n",
    "\n",
    "\n",
    "To evaluate surface integrals it is convenient to express them as double integrals taken over the projected area of the surface S on one of the coordinate planes. This is possible if any line perpendicular to the coordinate plane chosen meets the surface in no more than one point. Usually S can be subdivided into surfaces that do satisfy the restriction.\n",
    "\n"
   ]
  },
  {
   "cell_type": "code",
   "execution_count": 36,
   "metadata": {},
   "outputs": [
    {
     "data": {
      "text/plain": [
       "u'In mathematics, a surface integral is a generalization of multiple integrals to integration over surfaces. It can be thought of as the double integral analog of the line integral. Given a surface, one may integrate over its scalar fields (that is, functions which return scalars as values), and vector fields (that is, functions which return vectors as values).\\nSurface integrals have applications in physics, particularly with the theories of classical electromagnetism.'"
      ]
     },
     "execution_count": 36,
     "metadata": {},
     "output_type": "execute_result"
    }
   ],
   "source": [
    "surface_integral= wikipedia.page(\"surface integral\")\n",
    "surface_integral.summary"
   ]
  },
  {
   "cell_type": "markdown",
   "metadata": {},
   "source": [
    "<h1> Definition </h1>\n",
    "Given an arbitrary surface $S$ subdivided into $M$ discrete elements of area, the differential surface area at a point $p$ is  $ \\Delta S_p $. If a vector function $\\mathbf A( x_p, y_p, z_p) $ is defined in the space, and the vector $\\mathbf n_p $ is the positive unit normal to $S$ at $p$ then the surface area is approximated by the sum\n",
    "<br><br>\n",
    "$$ \\sum_{p=1}^{M} \\mathbf A_p \\cdot \\mathbf n_p \\Delta S_p $$\n",
    "\n",
    "<br><br> now in the limit (if the limit exists) as $$ M\\to\\infty $$ the sum becomes <br><br>\n",
    "<br><br>\n",
    "$$ \\large\\iint_S\\mathbf A \\cdot \\mathbf n\\ d S $$"
   ]
  },
  {
   "cell_type": "markdown",
   "metadata": {},
   "source": [
    "To evaluate such integrals the projection of $d S$ onto one of the axis planes is computed ... "
   ]
  },
  {
   "cell_type": "markdown",
   "metadata": {},
   "source": [
    "for example, the projection of $\\Delta S_p$ onto the $xy$ plane is $ \\Delta x_p \\Delta y_p = |\\ (\\mathbf n_p \\Delta S_p)\\cdot \\mathbf k\\ | = |\\ \\mathbf n_p \\cdot \\mathbf k\\ |\\ \\Delta S_p $ <br><br>\n",
    "so $$\\large\\Delta S_p = \\frac{\\Delta x_p \\Delta y_p}{|\\ \\mathbf n_p \\cdot \\mathbf k\\ |} $$ <br><br>\n",
    "\n",
    "(ignoring higher infinitesimals), and the sum \n",
    "\n",
    "$$ 1)\\qquad \\sum_{p=1}^{M} \\mathbf A_p \\cdot \\mathbf n_p \\frac{\\Delta x_p \\Delta y_p}{|\\ \\mathbf n_p \\cdot \\mathbf k\\ |}$$ <br><br> converges, and again taking the limit gives \n",
    "\n",
    "$$\\large\\iint_R \\mathbf A\\cdot \\mathbf n \\frac{\\ dx\\ dy}{|\\ \\mathbf n\\cdot\\mathbf k\\ |}$$"
   ]
  },
  {
   "cell_type": "markdown",
   "metadata": {},
   "source": [
    "And this is how the integral is evaluated as the integral over the region $R$ which is the projection of the surface $S$ <br> onto the $xy$ plane, similar expressions are derived when it is convenient to project onto other axis planes <br><br>\n",
    "\n",
    "\n",
    "By Definition, for 2 vectors, the projection of $\\mathbf A$ onto $\\mathbf B$ is equal to $\\mathbf A\\cdot \\mathbf b$ where $\\mathbf b$ is a normal vector in the direction of $\\mathbf B$. The angle $\\theta$ mmade between these two vectors, is the same as the angle between the vector at right angles to $\\mathbf A$ and the normal vector at right angles to $\\mathbf B$, therefore the value of the projection is the same - the brief explanation is that the infinitesimal $\\Delta S$ has the projection defined above onto the $x,y$ plane by the same rule using the dot product with the normal vector of the $z$ axis, $\\mathbf k$."
   ]
  },
  {
   "cell_type": "markdown",
   "metadata": {},
   "source": [
    "More about $\\mathbf n\\cdot \\mathbf k$\n",
    "If we imagine a small rectangle or square on a surface at a point $(u,v)$ with sides $\\Delta u = (u+\\Delta u, v)-(u,v)$ and $\\Delta v = (u, v+\\Delta v)-(u,v)$ then\n",
    "and area $\\Delta u \\Delta v$ the projection of $\\Delta u$ onto the x axis is $\\Delta u\\ cos \\theta_1$ and the projection of $\\Delta v$ is $y = \\Delta v\\ cos \\theta_2$, now to construct \n",
    "a vector to the corner of the square on the surface at $(\\Delta u, \\Delta v)$ with magnitude $\\sqrt{\\Delta u^2 + \\Delta v^2}$ and project to the $xy$ plane \n",
    "we encounter the problem constructing the angle $\\phi$ between this diagonal and the $xy$ plane vector $(\\Delta x, \\Delta y)$.\n",
    "Now if we take the vector on the surface $\\mathbf R = (\\mathbf u, \\mathbf v)$ and take the Dot product with \n",
    "the vector on the plane $\\mathbf r =(\\Delta x, \\Delta y)$ and divide by the magnitude, then we have $\\mathbf R \\cdot \\mathbf{ \\hat{r}} = |\\mathbf R|cos \\phi$ since $\\mathbf r$ is a unit vector, \n",
    "we can solve for $\\phi$, but of course, this is the same angle as the angle the normal $\\mathbf{ \\hat{n}} = \\mathbf u\\times \\mathbf v$ makes with the $\\mathbf k$ vector ... another fact to notice is that\n",
    "if we keep the planes tilt constant and spin the plane about the z axis, then the value of our angle remains the same, and so\n",
    "if we scale $\\mathbf n$ by our area $\\Delta u \\Delta v$ then the projection is scaled too."
   ]
  },
  {
   "cell_type": "markdown",
   "metadata": {},
   "source": [
    "<h1>Representations of surfaces </h1>\n",
    "Surfaces are 2 dimensional, \n",
    "Surfaces can be represented <b>explicity </b> in the form <br>\n",
    "$$ z = f(x,y) $$ <br> or with x or y as the variable on the left. e.g $x=h(y,z)$ \n",
    "or <b> implicitly </b> in the form <br>\n",
    "$$g(x,y,z)=0 $$ <br>\n",
    "and also <b> parametrically </b>\n",
    "$$ \\mathbf r(u,v) = x(u,v) \\mathbf i + y(u,v) \\mathbf j + z(u,v) \\mathbf k $$ <br>\n",
    "for all $u, v$ in $R$ where $R$ is a region in the $u,v$ plane, not neccessarily in the same space. So you could say \n",
    "$\\mathbf r$ takes every point $(u,v)$ in $R$ onto $S$ with position vector $r(u,v)$ , more formally <br>\n",
    "$$ \\forall (u,v) \\in  R \\subset \\mathbb R^2,\\  \\mathbf r : (u,v) \\to S \\in \\mathbb R^3  $$\n",
    "\n",
    "says \"for all (u,v) in the region R in 2 dimensional Euclidean space, $\\mathbf r(u,v)$ takes (u,v) to the surface S\" \n",
    "   \n",
    "$$ \\exists S \\subset \\mathbb R^3 | \\forall (u,v) \\in  R \\subset \\mathbb R^2, \\exists (x,y,z) \\in S  \\implies    \\mathbf r : (u,v) \\to S  $$\n",
    "\n",
    "\"there exists a surface S in 3 dimensional euclidean space such that for all points (u,v) in the region R in 2d euclidean space there exists a point (x,y,z) in the surface S in 3d euclidean space, this implies that a function $\\mathbf r$ transforms (u,v) to a point on the surface\".\n",
    "\n",
    "... would be a very general philosophical point."
   ]
  },
  {
   "cell_type": "code",
   "execution_count": 37,
   "metadata": {},
   "outputs": [
    {
     "data": {
      "text/plain": [
       "[u'Surface',\n",
       " u'Microsoft Surface',\n",
       " u'Surface science',\n",
       " u'Surface-to-surface missile',\n",
       " u'Surface tension',\n",
       " u'Surface (topology)',\n",
       " u'Ruled surface',\n",
       " u'Riemann surface',\n",
       " u'Minimal surface',\n",
       " u'Surface Pro']"
      ]
     },
     "execution_count": 37,
     "metadata": {},
     "output_type": "execute_result"
    }
   ],
   "source": [
    "surface= wikipedia.search(\"surface\")\n",
    "surface"
   ]
  },
  {
   "cell_type": "code",
   "execution_count": 38,
   "metadata": {},
   "outputs": [
    {
     "data": {
      "text/plain": [
       "u'In topology and differential geometry, a surface is a two-dimensional manifold, and, as such, may be an \"abstract surface\" not embedded in any Euclidean space. For example, the Klein bottle is a surface, which cannot be represented in the three-dimensional Euclidean space without introducing self-intersections (it cannot be embedded in the three dimensional Euclidean space).'"
      ]
     },
     "execution_count": 38,
     "metadata": {},
     "output_type": "execute_result"
    }
   ],
   "source": [
    "surface= wikipedia.page(\"Surface (topology)\")\n",
    "surface.summary"
   ]
  },
  {
   "cell_type": "markdown",
   "metadata": {},
   "source": [
    "If $S$ is defined <b>explicitly</b>, then the identity 1) above can be used to evaluate the surface integral. If $S$ is defined <b>implicitly</b> then the definition of $S$ is often algebraicly rearranged to an <b>explicit</b> form"
   ]
  },
  {
   "cell_type": "markdown",
   "metadata": {},
   "source": [
    "<h1>Definition</h1>\n",
    "If S is defined <b> implicitly </b> in the form $g(x,y,)=0$ then a unit surface normal to $S$ is given by <br> <br>\n",
    "$$ \\mathbf n = \\frac{\\mathbf \\nabla g }{|\\mathbf \\nabla g|} $$ <br>\n",
    "and the quantity $$ \\mathbf \\nabla g $$ gives the gradient of $S$ defined by $g$ in components. "
   ]
  },
  {
   "cell_type": "markdown",
   "metadata": {},
   "source": [
    " <h1> Definition </h1>\n",
    " If $S$ is defined <b>parametrically</b> in the form $\\mathbf r(u,v) $ as above, then a curve $C$ can be derived by paramaterizing $u$ and $v$ by some variable $t$ <br><br>\n",
    " $$ u = u(t),\\qquad v = v(t) $$\n",
    " <br><br>and the position vector of $C$ is $$\\mathbf {\\bar r}(t) = \\mathbf r(u(t), v(t)) $$ <br><br>\n",
    " Then <br>\n",
    " $$\\mathbf {\\bar r'}(t) = \\frac{\\partial \\mathbf r}{\\partial u}\\frac{\\partial u}{\\partial t }+\\frac{\\partial \\mathbf r}{\\partial v}\\frac{\\partial v}{\\partial t }$$ <br> <br>\n",
    " The derivatives $\\mathbf r_u $ and $\\mathbf r_v$ are tangenital to $ S$ at $p$ they are assumed linearly independant (forming a basis) spanning the tangent plane at $p$, so the normal vector is ... <br><br>\n",
    " $$\\mathbf n = \\frac{\\mathbf N}{|\\mathbf N|}= \\frac{ \\mathbf r_u \\times \\mathbf r_v }{| \\mathbf r_u \\times \\mathbf r_v |}$$\n",
    " <br><br>\n",
    " and for a surface $z=f(x,y)$ then creating a plane parallel to the $xz$ plane with a tangent at an arbitrary point $P$, a tangent vector $\\mathbf u$ us constructed such that since $\\frac{\\partial f}{\\partial x} = \\frac{u_z}{u_x}$ then $u_z =\\frac{\\partial f}{\\partial x} u_x$, and vector is $ \\mathbf u = u_x\\mathbf i + \\frac{\\partial f}{\\partial x}u_x\\mathbf k $the same process for a vector $\\mathbf v$ constructed from the $zy$ plane, then  $ \\mathbf v = v_y\\mathbf j + \\frac{\\partial f}{\\partial y}v_y\\mathbf k $<br>\n",
    " $$ \\mathbf u \\times\\mathbf v = \\big[ -\\frac{\\partial f}{\\partial x}\\mathbf i-\\frac{\\partial f}{\\partial y}\\mathbf j + \\mathbf k\\big]u_x v_y $$\n",
    " <br><br>\n",
    " to make a normal vector, divide by its magnitude ...<br>\n",
    " $$  \\mathbf n = \\frac{ -\\frac{\\partial f}{\\partial x}\\mathbf i-\\frac{\\partial f}{\\partial y}\\mathbf j + \\mathbf k}{\\sqrt{1+(\\frac{\\partial f}{\\partial x})^2+(\\frac{\\partial f}{\\partial y})^2}} $$\n",
    " and so <br>\n",
    "  $$  \\large\\mathbf n \\cdot \\mathbf  k = \\frac{1}{\\sqrt{1+(\\frac{\\partial f}{\\partial x})^2+(\\frac{\\partial f}{\\partial y})^2}} $$"
   ]
  },
  {
   "cell_type": "markdown",
   "metadata": {},
   "source": [
    "<h1>Definition</h1>\n",
    "\n",
    "This can also be written in terms of direction cosines, setting <<br><br>\n",
    "$$ \\mathbf F = F_1\\mathbf i + F_2 \\mathbf j + F_3 \\mathbf k $$ and <br>\n",
    "$$ \\mathbf n =  \\cos\\alpha \\mathbf i +  \\cos\\beta \\mathbf j +  \\cos\\gamma \\mathbf k $$ and <br>\n",
    "$$ \\mathbf N = N_1\\mathbf i + N_2 \\mathbf j + N_3 \\mathbf k $$ then <br><br>\n",
    "\n",
    "$$ \\mathbf F \\cdot \\mathbf n = F_1\\ \\cos\\alpha + F_2\\ \\cos\\beta+ F_3\\ \\cos\\gamma $$ so ...\n",
    "\n",
    "$$ \\large\\iint_S (F_1\\ \\cos\\alpha + F_2\\ \\cos\\beta+ F_3\\ \\cos\\gamma)\\ d A= \\iint_R F_1\\ N_1+ F_2\\ N_2+ F_3\\ N_3\\ du\\ dv $$\n",
    "\n",
    "<br><br>\n",
    "and \n",
    "$$ \\large\\iint_S F_1\\ \\cos\\alpha\\ d A + \\iint_S F_2\\ \\cos\\beta\\ d A+ \\iint_S F_3\\ \\cos\\gamma\\ d A = \\iint_S F_1\\ dy\\ dz+ \\iint_S F_2\\ dx\\ dz +\\iint_S F_3\\ dx\\ dy $$"
   ]
  },
  {
   "cell_type": "code",
   "execution_count": 39,
   "metadata": {},
   "outputs": [
    {
     "data": {
      "text/plain": [
       "[u'Direction cosine',\n",
       " u'Cosine similarity',\n",
       " u\"Lambert's cosine law\",\n",
       " u'Spherical law of cosines',\n",
       " u'Triad method',\n",
       " u'Cosine error effect',\n",
       " u'Monte Carlo method for photon transport',\n",
       " u'DCM',\n",
       " u'UDOP',\n",
       " u'Indicator (distance amplifying instrument)']"
      ]
     },
     "execution_count": 39,
     "metadata": {},
     "output_type": "execute_result"
    }
   ],
   "source": [
    "direction_cosine= wikipedia.search(\"direction cosine\")\n",
    "direction_cosine"
   ]
  },
  {
   "cell_type": "code",
   "execution_count": 40,
   "metadata": {},
   "outputs": [
    {
     "data": {
      "text/plain": [
       "u'In analytic geometry, the direction cosines (or directional cosines) of a vector are the cosines of the angles between the vector and the three coordinate axes. Equivalently, they are the contributions of each component of the basis to a unit vector in that direction. Direction cosines are an analogous extension of the usual notion of slope to higher dimensions.'"
      ]
     },
     "execution_count": 40,
     "metadata": {},
     "output_type": "execute_result"
    }
   ],
   "source": [
    "direction_cosine= wikipedia.page(\"direction cosine\")\n",
    "direction_cosine.summary"
   ]
  },
  {
   "cell_type": "markdown",
   "metadata": {},
   "source": [
    "### Example\n",
    "   \n",
    "Evaluate $\\iint_S \\mathbf A\\cdot\\mathbf n\\ dS$ where $\\mathbf A = x^2\\mathbf i + 3y^2\\mathbf k$ and $S$ is the plane $x+y+z=1$ in the first octant\n",
    "   \n",
    "#### Solution. first method ...\n",
    "   \n",
    "$$\\iint_S \\mathbf A\\cdot\\mathbf n\\ dS = \\iint_R \\mathbf A\\cdot \\mathbf n \\frac{dx\\ dy}{|\\mathbf n\\cdot\\mathbf k|}$$\n",
    "   \n",
    "  then\n",
    "   \n",
    "   \n",
    "$$\\mathbf n = \\frac{\\mathbf i + \\mathbf j + \\mathbf k}{\\sqrt{1^2 + 1^2 + 1^2}} =\\frac{1}{\\sqrt{3}}\\left(\\mathbf i + \\mathbf j + \\mathbf k\\right)$$\n",
    "then $\\mathbf n\\cdot\\mathbf k=\\frac{1}{\\sqrt{3}}$ and so \n",
    "   \n",
    "$$ \\iint_R \\mathbf A\\cdot \\mathbf n \\frac{dx\\ dy}{|\\mathbf n\\cdot\\mathbf k|} =\\sqrt{3}\\iint_R \\mathbf A\\cdot \\mathbf n \\ dx\\ dy  $$\n",
    " \n",
    "and \n",
    "   \n",
    "$$\\mathbf A\\cdot\\mathbf n = \\frac{1}{\\sqrt{3}}(x^2\\mathbf i + 3y^2\\mathbf k)\\cdot(\\mathbf i + \\mathbf j + \\mathbf k) = \\frac{1}{\\sqrt{3}}(x^2 + 3y^2) $$\n",
    "   \n",
    "eliminating z from the equation, $y$ is evaluated from 0 to $y = 1-x$ then $x$ is evaluated from 0 to 1..\n",
    "      \n",
    "\n",
    "$$\\begin{array}{rcl}\n",
    "\\iint_S \\mathbf A\\cdot\\mathbf n\\ dS\t&\t=\t& \\sqrt{3}\\int_0^1 \\int_0^{1-x}\\frac{1}{\\sqrt{3}}(x^2 + 3y^2)\\ dy\\ dx       \\\\ \\\\\n",
    "\t&\t=\t&\\int_0^1 \\big[x^2 y + y^3+c\\big]_0^{1-x} dx     \\\\ \\\\\n",
    "    &\t=\t&\t\\int_0^1 ((1-x)x^2 + (1-x)^3 + c)-((0)x^2 + (0)^3 + c) dx \\\\    \\\\\n",
    "    &\t=\t&    \\int_0^1 (x^2-x^3 -x^3+3x^2-3x + 1) dx \\\\ \\\\\n",
    "\t&\t=\t&\t\\int_0^1 (-2x^3+4x^2-3x+1)\\ dx \\\\ \\\\\n",
    "\t&\t=\t&\t\\big[ -\\frac{1}{2}x^4 + \\frac{4}{3}x^3 - \\frac{3}{2}x^2 +x + c\\big]_0^1\\\\ \\\\\n",
    "\t&\t=\t&\t -\\frac{1}{2}+ \\frac{4}{3}-\\frac{3}{2} + 1\\\\ \\\\\n",
    "\t&\t=\t&\t-0.5 + 1.333 - 1.5 + 1\\\\ \\\\\n",
    "\t&\t=\t&\t0.33333 \\\\ \\\\\n",
    "\t&\t=\t&\t1/3 \n",
    " \t \t \t \t\\end{array}$$\n"
   ]
  },
  {
   "cell_type": "markdown",
   "metadata": {},
   "source": []
  },
  {
   "cell_type": "code",
   "execution_count": 67,
   "metadata": {},
   "outputs": [
    {
     "data": {
      "image/png": "[encoded data removed]",
      "text/latex": [
       "$$- x^{3} + 3 x^{2} - 3 x + 1$$"
      ],
      "text/plain": [
       "   3      2          \n",
       "- x  + 3⋅x  - 3⋅x + 1"
      ]
     },
     "execution_count": 67,
     "metadata": {},
     "output_type": "execute_result"
    }
   ],
   "source": [
    "expand((1-x)**3)"
   ]
  },
  {
   "cell_type": "code",
   "execution_count": 68,
   "metadata": {},
   "outputs": [
    {
     "data": {
      "image/png": "[encoded data removed]",
      "text/latex": [
       "$$- 2 x^{3} + 4 x^{2} - 3 x + 1$$"
      ],
      "text/plain": [
       "     3      2          \n",
       "- 2⋅x  + 4⋅x  - 3⋅x + 1"
      ]
     },
     "execution_count": 68,
     "metadata": {},
     "output_type": "execute_result"
    }
   ],
   "source": [
    "simplify(expand((1-x)*x**2) + expand((1-x)**3))"
   ]
  },
  {
   "cell_type": "code",
   "execution_count": 69,
   "metadata": {},
   "outputs": [
    {
     "data": {
      "image/png": "[encoded data removed]",
      "text/latex": [
       "$$- 2 x^{3} + 4 x^{2} - 3 x + 1$$"
      ],
      "text/plain": [
       "     3      2          \n",
       "- 2⋅x  + 4⋅x  - 3⋅x + 1"
      ]
     },
     "execution_count": 69,
     "metadata": {},
     "output_type": "execute_result"
    }
   ],
   "source": [
    "simplify(expand(integrate(x**2+3*y**2,(y,0,1-x))))"
   ]
  },
  {
   "cell_type": "code",
   "execution_count": 70,
   "metadata": {},
   "outputs": [
    {
     "data": {
      "image/png": "[encoded data removed]",
      "text/latex": [
       "$$\\frac{1}{3}$$"
      ],
      "text/plain": [
       "1/3"
      ]
     },
     "execution_count": 70,
     "metadata": {},
     "output_type": "execute_result"
    }
   ],
   "source": [
    "A=x**2*e.i + 3*y**2*e.k\n",
    "n = e.i + e.j + e.k\n",
    "#so n.k = 1\n",
    "f = A.dot(n)\n",
    "integrate(integrate(f, (y,0,1-x)),(x,0,1))"
   ]
  },
  {
   "cell_type": "markdown",
   "metadata": {},
   "source": [
    "<h2>Example</h2>\n",
    "<br>\n",
    "Same as above, but $\\mathbf A = 3z^2\\mathbf i - 7\\mathbf j + x y \\mathbf k$ and the plane is $3x + 2y + 7z = 15$ <br>"
   ]
  },
  {
   "cell_type": "code",
   "execution_count": 71,
   "metadata": {},
   "outputs": [
    {
     "name": "stdout",
     "output_type": "stream",
     "text": [
      "24\n",
      "1/3\n"
     ]
    }
   ],
   "source": [
    "A = 18*z * e.i - 12 * e.j + 3*y*e.k\n",
    "plane = 2*x + 3*y + 6*z-12\n",
    "\n",
    "\n",
    "def integrate_method_1(A, plane):\n",
    "    plane_z = solve(plane,z)\n",
    "    grad_plane = diff(plane,x)*e.i + diff(plane,y) * e.j + diff(plane,z)*e.k\n",
    "    n = grad_plane / grad_plane.magnitude()\n",
    "    recip_mag_n_dot_k = 1/abs(n.dot(e.k).doit())\n",
    "    \n",
    "    y_limit_eq = plane.subs(z,0)\n",
    "    y_limit = solve(y_limit_eq,y)\n",
    "    x_limit_eq = y_limit_eq.subs(y,0)\n",
    "    x_limit = solve(x_limit_eq,x)\n",
    "    \n",
    "    return integrate(integrate(A.subs(z,plane_z[0]).dot(n)*recip_mag_n_dot_k,(y,0,y_limit)),(x,0,x_limit))\n",
    "\n",
    "print integrate_method_1(A, plane)\n",
    "A=x**2*e.i + 3*y**2*e.k\n",
    "pln = x+y+z-1\n",
    "print integrate_method_1(A, pln)"
   ]
  },
  {
   "cell_type": "code",
   "execution_count": 73,
   "metadata": {},
   "outputs": [
    {
     "name": "stdout",
     "output_type": "stream",
     "text": [
      "56.655\n"
     ]
    }
   ],
   "source": [
    "A=z*e.i +x*y*e.j + 12*e.k\n",
    "plane = 3*x + y +2*z -5\n",
    "print integrate_method_1(A,plane).n(5)\n"
   ]
  },
  {
   "cell_type": "markdown",
   "metadata": {},
   "source": [
    "### Evaluation of Double Integrals \n",
    "   \n",
    "Double integrals over a region $R$ can be evaluated by describing the limits of x and y, where the first limits are described as a function of the other    \n",
    "e.g $g_1(x)$ and $g_2(x)$.\n",
    "    \n",
    "$$ a \\leq x \\leq b \\qquad\\qquad g_1(x) \\leq y \\leq g_2(x) $$\n",
    "   \n",
    "then\n",
    "   \n",
    "$$ \\iint_R f(x,y)\\ dx\\ dy = \\int_a^b \\int_{g_1(x)}^{g_2(x)} f(x,y)\\ dy\\ dx $$\n",
    "   \n",
    "and similar transformations for y.\n",
    "\n"
   ]
  },
  {
   "cell_type": "code",
   "execution_count": null,
   "metadata": {
    "collapsed": true
   },
   "outputs": [],
   "source": []
  },
  {
   "cell_type": "markdown",
   "metadata": {},
   "source": [
    "<h1>Properties of Double Integrals</h1>\n",
    "\n",
    "1) $$ \\iint_R c\\ f(x,y)\\ dx\\ dy = c\\ \\iint_R f(x,y)\\ dx\\ dy $$<br><br>\n",
    "2) $$ \\iint_R ( f(x,y) + g(x,y) )\\ dx\\ dy =  \\iint_R f(x,y)\\ dx\\ dy + \\iint_R g(x,y)\\ dx\\ dy $$<br><br>\n",
    "3) $$ \\iint_R f(x,y)\\ dx\\ dy =  \\iint_{R_1} f(x,y)\\ dx\\ dy + \\iint_{R_2} f(x,y)\\ dx\\ dy, \\qquad R = R_1 + R_2$$.\n",
    "   \n",
    "4) There exists a point $(x_0,y_0)$ in $R$ such that \n",
    "   \n",
    "$$ \\iint_R f(x,y)\\ dx\\ dy = f(x_0, y_0) A $$ \n",
    "   \n",
    "where $A$ is the area of $R$. This is called the <b>mean value theorem </b>.\n",
    "   \n",
    "5) Another important property, the order of integration can be exchanged \n",
    "   \n",
    "$$ \\iint_R f(x,y)\\ dx\\ dy =  \\iint_R f(x,y)\\ dy\\ dx $$"
   ]
  },
  {
   "cell_type": "markdown",
   "metadata": {},
   "source": [
    "### Change of variables\n",
    "\n",
    "To change a variable in a simple integral \n",
    "   \n",
    "$$\\int_a^b f(x) dx = \\int_{\\alpha}^{\\beta} f(x(u)) \\frac{d x}{d u} \\ du $$\n",
    "   \n",
    "And to change variables in double integration, the method is similar, and provided the following\n",
    "   \n",
    "1) $x$ and $y$ can be parameterized $x=x(u,v)$ and $y=y(u,v)$ for all $u,\\ v$ in some region $\\bar R$ with a one to one mapping to the region in the $x,\\ y$ plane $R$, such that $x: (u,v)\\to R $ and also for $y$, defines a mapping.\n",
    "   \n",
    "2) $x$ and $y$ have continuous partial derivatives in $\\bar R$\n",
    "    \n",
    "3) The Jacobian $J$ is either positive or negative throughout $\\bar R$\n",
    "\n",
    "Then assuming \n",
    "   \n",
    "$$ J = \\frac{\\partial (x,y) }{\\partial (u,v)  } = \\begin{vmatrix} \\frac{\\partial x }{\\partial u } & \\frac{\\partial x }{\\partial v }  \\\\ \\frac{\\partial y }{\\partial u } & \\frac{\\partial y }{\\partial v }  \\end{vmatrix}$$ \n",
    "   \n",
    "The integral change of variables is \n",
    "   \n",
    "$$\\iint_R f(x,y)\\ dx\\ dy = \\iint_{\\bar R} f(x(u,v),y(u,v)) \\left|{\\frac{\\partial (x,y) }{\\partial (u,v)  }}\\right|\\ du\\ dv $$"
   ]
  },
  {
   "cell_type": "markdown",
   "metadata": {},
   "source": [
    "### Orientation Theorem\n",
    "   \n",
    "The replacement of $\\mathbf n$ by $-\\mathbf n$ and $\\mathbf N$ by $-\\mathbf N$ is equivalent to multiplying the integral by -1. \n",
    "   \n",
    "A surface is said to be orientable if the positive normal direction at any point can be continued over the entire surface. Some surfaces e.g. Mobius strip cannot be oriented."
   ]
  },
  {
   "cell_type": "markdown",
   "metadata": {},
   "source": [
    "<h2>Volume Integrals</h2>\n",
    " \n",
    "$$\n",
    "\\int\\int \\int  \\mathbf A d V , \\ \\ \\ \\ \\int \\int \\int \\phi dV $$  are examples of Volume integrals or space integrals."
   ]
  },
  {
   "cell_type": "code",
   "execution_count": 42,
   "metadata": {},
   "outputs": [
    {
     "data": {
      "text/plain": [
       "u'In mathematics\\u2014in particular, in multivariable calculus\\u2014a volume integral refers to an integral over a 3-dimensional domain, that is, it is a special case of multiple integrals. Volume integrals are especially important in physics for many applications, for example, to calculate flux densities.'"
      ]
     },
     "execution_count": 42,
     "metadata": {},
     "output_type": "execute_result"
    }
   ],
   "source": [
    "volume_integral =wikipedia.page(\"volume integral\")\n",
    "volume_integral.summary"
   ]
  },
  {
   "cell_type": "markdown",
   "metadata": {},
   "source": [
    "Evaluating triple integrals\n",
    "\n",
    "$$ \\iiint_V f(x,y,z)\\ dx\\ dy\\ dz = \\int_a^b \\int_{g_1(x)}^{g_2(x)} \\int_{h_1(x,y)}^{h_2(x,y)} f(x,y,z)\\ dz\\ dy\\ dx\\ $$\n",
    "\n",
    "The volume $V$ of a manifold is defined as\n",
    "   \n",
    "$$ \\iiint_V 1\\ dV = \\iiint_V\\ dx\\ dy\\ dz = \\int_a^b \\int_{g_1(x)}^{g_2(x)} \\int_{h_1(x,y)}^{h_2(x,y)} \\ dz\\ dy\\ dx\\ $$\n",
    "   \n",
    "or any interchanged permutation of the variables of integration, provided that the limits are re-expressed to be functions of the preceding limits."
   ]
  },
  {
   "cell_type": "markdown",
   "metadata": {},
   "source": [
    "### Change of variables in triple integrals\n",
    "   \n",
    "Similar to the case for double integration, if $x=x(u,v,w),\\ y=y(u,v,w),\\ z=z(u,v,w)\\quad (u,v,w)\\ \\epsilon \\bar{R}^3,\\quad x,y,z\\ \\epsilon R^3 $ defines a mapping from $\\bar R^3$ to $ R^3$, and the functions have continuous partial derivatives in $\\bar R^3$ ...etc and our volumes shall be denoted $V\\ \\epsilon R^3$ and $\\bar V\\ \\epsilon \\bar{R}^3$ respectively\n",
    "\n",
    "Then the Jacobian is: \n",
    "$$  J = \\frac{\\partial (x,y, z) }{\\partial (u,v,w)} = \\begin{vmatrix} \\frac{\\partial x }{\\partial u } & \\frac{\\partial x }{\\partial v }  & \\frac{\\partial x }{\\partial w }\\\\ \\frac{\\partial y }{\\partial u } & \\frac{\\partial y }{\\partial v } & \\frac{\\partial y }{\\partial w}  \\\\ \\frac{\\partial z}{\\partial u } & \\frac{\\partial z}{\\partial v } & \\frac{\\partial z}{\\partial w}\\end{vmatrix}$$ \n",
    "   \n",
    "Then to change variables \n",
    "$$\\iiint_V f(x,y,z)\\ dV = \\iiint_{\\bar V} f(x(u,v,w),y(u,v,w),z(u,v,w))\\ \\left|\\frac{\\partial (x,y, z) }{\\partial (u,v,w)}\\right|\\ du\\ dv\\ dw $$"
   ]
  },
  {
   "cell_type": "code",
   "execution_count": null,
   "metadata": {
    "collapsed": true
   },
   "outputs": [],
   "source": []
  }
 ],
 "metadata": {
  "kernelspec": {
   "display_name": "Python 2",
   "language": "python",
   "name": "python2"
  },
  "language_info": {
   "codemirror_mode": {
    "name": "ipython",
    "version": 2
   },
   "file_extension": ".py",
   "mimetype": "text/x-python",
   "name": "python",
   "nbconvert_exporter": "python",
   "pygments_lexer": "ipython2",
   "version": "2.7.13"
  }
 },
 "nbformat": 4,
 "nbformat_minor": 1
}
