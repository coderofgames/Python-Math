{
 "cells": [
  {
   "cell_type": "markdown",
   "metadata": {},
   "source": [
    "#  Tensors "
   ]
  },
  {
   "cell_type": "markdown",
   "metadata": {},
   "source": [
    "> ### NOTE: This notebook has math that will not display properly on github. The outputs of variables with superscripts $y^1(t)$ will display as $(t)$ without the variable name, please view on notbook viewer\n",
    "\n",
    "https://nbviewer.jupyter.org/github/coderofgames/Python-Math/blob/master/Vectors/Tensors-5.ipynb"
   ]
  },
  {
   "cell_type": "markdown",
   "metadata": {},
   "source": [
    "### Derivative of a Tensor.\n",
    "   \n",
    "In a general coordinate system $x^i$ the covariant derivative with respect to $x^r$ is \n",
    "   \n",
    "$$\\nabla_r \\mathbf T_i = \\frac{\\partial \\mathbf T_i}{\\partial x^r} - \\Gamma^p_{ir} \\mathbf T_p $$\n",
    "   \n",
    "This is a tensor with covariant order 2. The quantity $\\Gamma^p_{ir}$ is a Christoffel symbol of the 2nd kind, and these are defined in terms of the Christoffel symbols of the first kind (by convention) \n",
    "   \n",
    "$$\\Gamma^p_{ir} = g^{pq}\\Gamma_{irq}$$\n",
    "   \n",
    "And the Christoffel symbols of the first kind are defined in terms of the metric...\n",
    "   \n",
    "$$\\Gamma_{abc} = \\frac{1}{2} \\left( \\frac{\\partial g_{bc}}{\\partial x^a}+\\frac{\\partial g_{ca}}{\\partial x^b}-\\frac{\\partial g_{ab}}{\\partial x^c}\\right)$$\n",
    "\n",
    "   Therefore the Christoffel symbols vanish if the metric has constant components (i.e no derivatives)."
   ]
  },
  {
   "cell_type": "markdown",
   "metadata": {},
   "source": [
    "#### Theoretical background\n",
    "   \n",
    "The covariant derivative was derived from the fact that the ordinary derivative of a covariant tensor was not a tensor, and in fact required a correction term.\n",
    "\n",
    "From set theory, a set is called connected if it is not disconnected. So if we defined the tensor $\\mathbf T^i(y)$ as tensor expressed in a  coordinate system $ \\mathscr M \\subset\\mathbb {R}^m|\\forall y \\circ (x^1,\\cdots x^n)\\to \\mathbb {R}^m $ (i.e. curvilinear) and this is a set of coordinate maps to another coordinate system $\\mathscr N \\subset \\mathbb {R}^n | \\forall x\\circ(y^1,\\cdots,y^m) \\to \\mathbb {R}^n$ and a transform $\\varphi:\\mathbf T(y)\\in \\mathscr M  \\to \\mathbf T(x) \\in \\mathscr N  $ with $m\\neq n$ not neccessarily since a curve can be a subset of a surface, then if  $\\varphi \\circ \\partial \\mathbf T(y) \\neq \\mathbf \\partial \\mathbf T(x) $ so the derivatives are two non-connected sets. \n",
    "\n",
    "If the deriative of the tensor in the y coordinates does not transform to the derivative of the tensor in x coordinates, then the union of the two derivatives form a disconnected set.\n",
    "   \n",
    "hence the christoffel symbols became known as a connection (or Riemannian connection, or Levi-Civita connection, perhaps because multiple interested parties wanted to claim to be the inventor). \n",
    "\n",
    "The torsion tensor is defined as \n",
    "\n",
    "$$ \\mathbf T^i_{jk} = \\left(\\Gamma^i_{jk} - \\Gamma^i_{kj}\\right) $$ \n",
    "   \n",
    "(or with a negative sign) and is also a tensor, however the connection coefficients are not tensors, their difference is.\n",
    "This value can also be expressed with the lie bracket \n",
    "$$[\\mathbf X,\\mathbf Y]V = \\mathbf X(\\mathbf Y(V))-\\mathbf Y(\\mathbf X(V))$$\n",
    "\n",
    "or commutator of vector vields, where of course a vector field is a function that assigns to each portion of a space a unique vector.\n",
    "   \n",
    "$$\\mathbf T(\\mathbf X, \\mathbf Y) = \\nabla_{\\mathbf X} \\mathbf Y - \\nabla_{\\mathbf Y} \\mathbf X - [\\mathbf X,\\mathbf Y]$$\n",
    "\n",
    "or equivalently\n",
    "   \n",
    "$$ \\mathbf T^i_{jk} = \\left(\\Gamma^i_{jk} - \\Gamma^i_{kj}\\right) - \\gamma^i_{jk}$$\n",
    "   \n",
    "where the $\\gamma^i_{jk}$ vanishes if the basis is holonomic (i.e. if the basis happens to have sets of coordinate vectors defined like $\\partial_i = \\frac{\\partial}{\\partial u^i}$. \n",
    "   \n",
    "Then a *torsion free* connection is a connection that has symmetry of the lower two indices of the christoffel symbols. A torsion free or metric compatible connection on a manifold with a holonomic basis and a metric has the following properties\n",
    "   \n",
    "a) Torsion Free $\\Gamma^i_{jk} = \\Gamma^i_{kj}$\n",
    "   \n",
    "b) $\\nabla_r g_{ij}=0$\n",
    "   \n",
    "The same is true for the inverse metric. Then the divergence of a contravariant vector is given by a contraction of the covariant derivative with respect to the coordinate indexed by \"r\" (apearing in $\\nabla_r $).\n",
    "\n",
    "#### Divergence\n",
    "   \n",
    "$$\\nabla_r V^r = \\partial_r V^r + \\Gamma^r_{ri}V^i$$\n",
    "   \n",
    "This is a useful property with regards to the laws of physics of continuity and consevation.\n",
    "The contracted Christoffel symbol satisfies\n",
    "   \n",
    "$$ \\Gamma^r_{ri} = \\frac{1}{\\sqrt{g}}\\partial_r \\sqrt{g}$$\n",
    "   \n",
    "where $g$ is the determinant of the metric. Therefore another formula for divergence\n",
    "   \n",
    "$$\\nabla_r V^r =  \\frac{1}{\\sqrt{g}}\\partial_r \\sqrt{g}V^i$$\n",
    "   \n",
    "and the term $\\partial_r V^r$ vanishes.\n",
    "\n",
    "#### Curl\n",
    "   \n",
    "The curl of a vector field $V_p$ is defined by $\\nabla_r V_p - \\nabla_p V_r$, also defined as $-\\epsilon^{pri}\\nabla_r V_p$.\n",
    "\n",
    "#### Gradient\n",
    "   \n",
    "The gradient of a scalar or invariant $\\Phi$, is simply the covariant derivative $\\nabla_r \\Phi = \\frac{\\partial \\Phi}{\\partial x^r}$\n",
    "\n",
    "#### Laplacian\n",
    "   \n",
    "The Laplacian of $\\Phi$ is the divergence of the covariant derivative of $\\Phi$, so\n",
    "\n",
    "$$ \\nabla^2\\Phi=  \\frac{1}{\\sqrt{g}}\\partial_r \\left(\\sqrt{g}g^{rq}\\nabla_q \\Phi\\right)$$\n",
    "\n",
    "### intuition\n",
    "   \n",
    "an intuition on the design of a torsion free connection in General Relativity is the fact that in a gravitational field an object will fall without any force causing it to spin. \n",
    "### ?\n"
   ]
  },
  {
   "cell_type": "code",
   "execution_count": 1,
   "metadata": {
    "collapsed": true
   },
   "outputs": [],
   "source": [
    "from sympy import *\n",
    "from sympy.vector import *\n",
    "\n",
    "e = CoordSys3D('e')\n",
    "sph = CoordSys3D('sph')\n",
    "\n",
    "x_1,x_2,x_3 = symbols('x_1,x_2, x_3')\n",
    "y_1,y_2,y_3 = symbols('y_1,y_2, y_3')\n",
    "\n",
    "# coordinates as matrices\n",
    "X = Matrix([ x_1, x_2, x_3 ])\n",
    "Y = Matrix([ y_1, y_2, y_3 ])"
   ]
  },
  {
   "cell_type": "code",
   "execution_count": 2,
   "metadata": {
    "collapsed": true
   },
   "outputs": [],
   "source": [
    "def rect_vector_of_sphere_coords(e, Y):\n",
    "    return Y[0] * cos (Y[2]) * sin(Y[1]) * e.i+ Y[0] * sin (Y[2]) * sin(Y[1]) * e.j +  Y[0] * cos(Y[1]) * e.k\n",
    "\n",
    "def vector_to_matrix_form(v):\n",
    "    return Matrix([v.dot(e.i), v.dot(e.j),v.dot(e.k)])\n",
    "\n",
    "def Jacobian_WRT_coords(V,C):\n",
    "    return V.jacobian(C)"
   ]
  },
  {
   "cell_type": "code",
   "execution_count": 3,
   "metadata": {
    "collapsed": true
   },
   "outputs": [],
   "source": [
    "# definition of a vector field taking cartesian coordinates into spherical\n",
    "v_spherical_rect = sqrt( x_1**2 + x_2**2 + x_3**2) * sph.i + acos( x_3/sqrt( x_1**2 + x_2**2 + x_3**2)) * sph.j + atan(x_2/x_1) * sph.k\n"
   ]
  },
  {
   "cell_type": "code",
   "execution_count": 4,
   "metadata": {},
   "outputs": [
    {
     "name": "stdout",
     "output_type": "stream",
     "text": [
      "The Jacobian of the dx^i/dy^j where x's are cartesian and y's are spherical \n"
     ]
    },
    {
     "data": {
      "text/latex": [
       "$$\\left[\\begin{matrix}\\sin{\\left (y_{2} \\right )} \\cos{\\left (y_{3} \\right )} & y_{1} \\cos{\\left (y_{2} \\right )} \\cos{\\left (y_{3} \\right )} & - y_{1} \\sin{\\left (y_{2} \\right )} \\sin{\\left (y_{3} \\right )}\\\\\\sin{\\left (y_{2} \\right )} \\sin{\\left (y_{3} \\right )} & y_{1} \\sin{\\left (y_{3} \\right )} \\cos{\\left (y_{2} \\right )} & y_{1} \\sin{\\left (y_{2} \\right )} \\cos{\\left (y_{3} \\right )}\\\\\\cos{\\left (y_{2} \\right )} & - y_{1} \\sin{\\left (y_{2} \\right )} & 0\\end{matrix}\\right]$$"
      ],
      "text/plain": [
       "⎡sin(y₂)⋅cos(y₃)  y₁⋅cos(y₂)⋅cos(y₃)  -y₁⋅sin(y₂)⋅sin(y₃)⎤\n",
       "⎢                                                        ⎥\n",
       "⎢sin(y₂)⋅sin(y₃)  y₁⋅sin(y₃)⋅cos(y₂)  y₁⋅sin(y₂)⋅cos(y₃) ⎥\n",
       "⎢                                                        ⎥\n",
       "⎣    cos(y₂)         -y₁⋅sin(y₂)               0         ⎦"
      ]
     },
     "execution_count": 4,
     "metadata": {},
     "output_type": "execute_result"
    }
   ],
   "source": [
    "J_1 = Jacobian_WRT_coords( \n",
    "        vector_to_matrix_form( \n",
    "            rect_vector_of_sphere_coords(e,Y)), Y )\n",
    "\n",
    "init_printing(use_latex=true)\n",
    "\n",
    "# definition of a vector field taking cartesian coordinates into spherical\n",
    "v_spherical_rect = sqrt( x_1**2 + x_2**2 + x_3**2) * sph.i + acos( x_3/sqrt( x_1**2 + x_2**2 + x_3**2)) * sph.j + atan(x_2/x_1) * sph.k\n",
    "\n",
    "Y_2 = Matrix([v_spherical_rect.dot(sph.i), \n",
    "              v_spherical_rect.dot(sph.j),\n",
    "              v_spherical_rect.dot(sph.k)])\n",
    "\n",
    "J_2 = Y_2.jacobian(X)\n",
    "\n",
    "print \"The Jacobian of the dx^i/dy^j where x's are cartesian and y's are spherical \"\n",
    "J_1"
   ]
  },
  {
   "cell_type": "code",
   "execution_count": 5,
   "metadata": {
    "collapsed": true
   },
   "outputs": [],
   "source": [
    "def christoffel_symbol_1(G, a, b, c, X):\n",
    "    return (S(1)/2)*(diff(G[b,c],X[a]) +diff(G[c,a],X[b])-diff(G[a,b],X[c]))\n",
    "    "
   ]
  },
  {
   "cell_type": "code",
   "execution_count": 6,
   "metadata": {
    "collapsed": true
   },
   "outputs": [],
   "source": [
    "metric_spherical = J_1.T * J_1"
   ]
  },
  {
   "cell_type": "code",
   "execution_count": 7,
   "metadata": {
    "collapsed": true
   },
   "outputs": [],
   "source": [
    "X = Matrix([y_1, y_2, y_3])"
   ]
  },
  {
   "cell_type": "code",
   "execution_count": 8,
   "metadata": {
    "scrolled": true
   },
   "outputs": [
    {
     "data": {
      "text/latex": [
       "$$\\left[\\begin{matrix}i & j & k & \\Gamma_{ijk}\\\\1 & 1 & 1 & 0\\\\2 & 1 & 1 & 0\\\\3 & 1 & 1 & 0\\\\1 & 2 & 1 & 0\\\\2 & 2 & 1 & - y_{1}\\\\3 & 2 & 1 & 0\\\\1 & 3 & 1 & 0\\\\2 & 3 & 1 & 0\\\\3 & 3 & 1 & - y_{1} \\sin^{2}{\\left (y_{2} \\right )}\\\\1 & 1 & 2 & 0\\\\2 & 1 & 2 & y_{1}\\\\3 & 1 & 2 & 0\\\\1 & 2 & 2 & y_{1}\\\\2 & 2 & 2 & 0\\\\3 & 2 & 2 & 0\\\\1 & 3 & 2 & 0\\\\2 & 3 & 2 & 0\\\\3 & 3 & 2 & - \\frac{y_{1}^{2}}{2} \\sin{\\left (2 y_{2} \\right )}\\\\1 & 1 & 3 & 0\\\\2 & 1 & 3 & 0\\\\3 & 1 & 3 & y_{1} \\sin^{2}{\\left (y_{2} \\right )}\\\\1 & 2 & 3 & 0\\\\2 & 2 & 3 & 0\\\\3 & 2 & 3 & \\frac{y_{1}^{2}}{2} \\sin{\\left (2 y_{2} \\right )}\\\\1 & 3 & 3 & y_{1} \\sin^{2}{\\left (y_{2} \\right )}\\\\2 & 3 & 3 & \\frac{y_{1}^{2}}{2} \\sin{\\left (2 y_{2} \\right )}\\\\3 & 3 & 3 & 0\\end{matrix}\\right]$$"
      ],
      "text/plain": [
       "⎡i  j  k       Γ_ijk     ⎤\n",
       "⎢                        ⎥\n",
       "⎢1  1  1         0       ⎥\n",
       "⎢                        ⎥\n",
       "⎢2  1  1         0       ⎥\n",
       "⎢                        ⎥\n",
       "⎢3  1  1         0       ⎥\n",
       "⎢                        ⎥\n",
       "⎢1  2  1         0       ⎥\n",
       "⎢                        ⎥\n",
       "⎢2  2  1        -y₁      ⎥\n",
       "⎢                        ⎥\n",
       "⎢3  2  1         0       ⎥\n",
       "⎢                        ⎥\n",
       "⎢1  3  1         0       ⎥\n",
       "⎢                        ⎥\n",
       "⎢2  3  1         0       ⎥\n",
       "⎢                        ⎥\n",
       "⎢                 2      ⎥\n",
       "⎢3  3  1   -y₁⋅sin (y₂)  ⎥\n",
       "⎢                        ⎥\n",
       "⎢1  1  2         0       ⎥\n",
       "⎢                        ⎥\n",
       "⎢2  1  2        y₁       ⎥\n",
       "⎢                        ⎥\n",
       "⎢3  1  2         0       ⎥\n",
       "⎢                        ⎥\n",
       "⎢1  2  2        y₁       ⎥\n",
       "⎢                        ⎥\n",
       "⎢2  2  2         0       ⎥\n",
       "⎢                        ⎥\n",
       "⎢3  2  2         0       ⎥\n",
       "⎢                        ⎥\n",
       "⎢1  3  2         0       ⎥\n",
       "⎢                        ⎥\n",
       "⎢2  3  2         0       ⎥\n",
       "⎢                        ⎥\n",
       "⎢            2           ⎥\n",
       "⎢         -y₁ ⋅sin(2⋅y₂) ⎥\n",
       "⎢3  3  2  ───────────────⎥\n",
       "⎢                2       ⎥\n",
       "⎢                        ⎥\n",
       "⎢1  1  3         0       ⎥\n",
       "⎢                        ⎥\n",
       "⎢2  1  3         0       ⎥\n",
       "⎢                        ⎥\n",
       "⎢                 2      ⎥\n",
       "⎢3  1  3    y₁⋅sin (y₂)  ⎥\n",
       "⎢                        ⎥\n",
       "⎢1  2  3         0       ⎥\n",
       "⎢                        ⎥\n",
       "⎢2  2  3         0       ⎥\n",
       "⎢                        ⎥\n",
       "⎢            2           ⎥\n",
       "⎢          y₁ ⋅sin(2⋅y₂) ⎥\n",
       "⎢3  2  3   ───────────── ⎥\n",
       "⎢                2       ⎥\n",
       "⎢                        ⎥\n",
       "⎢                 2      ⎥\n",
       "⎢1  3  3    y₁⋅sin (y₂)  ⎥\n",
       "⎢                        ⎥\n",
       "⎢            2           ⎥\n",
       "⎢          y₁ ⋅sin(2⋅y₂) ⎥\n",
       "⎢2  3  3   ───────────── ⎥\n",
       "⎢                2       ⎥\n",
       "⎢                        ⎥\n",
       "⎣3  3  3         0       ⎦"
      ]
     },
     "execution_count": 8,
     "metadata": {},
     "output_type": "execute_result"
    }
   ],
   "source": [
    "from sympy.matrices import *\n",
    "m = zeros(28,4)\n",
    "i,j,k,Gamma_ijk = symbols('i,j,k,Gamma_ijk')\n",
    "m[0,0]=i\n",
    "m[0,1]=j\n",
    "m[0,2]=k\n",
    "m[0,3]=Gamma_ijk\n",
    "## and to print them out you might have to unravel pythons mysteries too ...\n",
    "for a in range(0,3):\n",
    "    for b in range(0,3):\n",
    "        for c in range(0,3):\n",
    "            # puts this in matrix form with fancy text and indexing \n",
    "            m[(c*3 + b)*3 + a + 1,3]= simplify(christoffel_symbol_1(metric_spherical, a, b, c, X))\n",
    "            m[(c*3 + b)*3 + a + 1,0]=a+1\n",
    "            m[(c*3 + b)*3 + a + 1,1]=b+1\n",
    "            m[(c*3 + b)*3 + a + 1,2]=c+1\n",
    "m"
   ]
  },
  {
   "cell_type": "code",
   "execution_count": 9,
   "metadata": {
    "collapsed": true
   },
   "outputs": [],
   "source": [
    "def christoffel_symbol_2(G, p, a, b, X):\n",
    "    output = 0\n",
    "    G_inv = G.inverse_ADJ()\n",
    "    for c in range(0,3):\n",
    "        output += G_inv[p,c]*(S(1)/2)*(diff(G[b,c],X[a]) +diff(G[c,a],X[b])-diff(G[a,b],X[c]))\n",
    "    return output\n",
    "\n",
    "# G is the metric\n",
    "# p is the superscript\n",
    "# a,b are the subscript indices\n",
    "# X is the set of coordinates of the metric of dimension d\n",
    "# d is the dimension of the space\n",
    "# G_inv is the optional inverse of the metric\n",
    "def christoffel_symbol_2_2(G, p, a, b, X, d, G_inv):\n",
    "    output = 0\n",
    "    if G_inv == 0:\n",
    "        G_inv = G.inverse_ADJ()\n",
    "    for c in range(0,d):\n",
    "        output += G_inv[p,c]*(S(1)/2)*(diff(G[b,c],X[a]) +diff(G[c,a],X[b])-diff(G[a,b],X[c]))\n",
    "    return output\n",
    "\n",
    "#simplify(christoffel_symbol_2(metric_spherical, 0, 2, 2, X))"
   ]
  },
  {
   "cell_type": "code",
   "execution_count": 10,
   "metadata": {},
   "outputs": [
    {
     "data": {
      "text/latex": [
       "$$\\left[\\begin{matrix}i & j & k & \\Gamma^{i}_{jk}\\\\1 & 1 & 1 & 0\\\\2 & 1 & 1 & 0\\\\3 & 1 & 1 & 0\\\\1 & 2 & 1 & 0\\\\2 & 2 & 1 & \\frac{1}{y_{1}}\\\\3 & 2 & 1 & 0\\\\1 & 3 & 1 & 0\\\\2 & 3 & 1 & 0\\\\3 & 3 & 1 & \\frac{1}{y_{1}}\\\\1 & 1 & 2 & 0\\\\2 & 1 & 2 & \\frac{1}{y_{1}}\\\\3 & 1 & 2 & 0\\\\1 & 2 & 2 & - y_{1}\\\\2 & 2 & 2 & 0\\\\3 & 2 & 2 & 0\\\\1 & 3 & 2 & 0\\\\2 & 3 & 2 & 0\\\\3 & 3 & 2 & \\frac{1}{\\tan{\\left (y_{2} \\right )}}\\\\1 & 1 & 3 & 0\\\\2 & 1 & 3 & 0\\\\3 & 1 & 3 & \\frac{1}{y_{1}}\\\\1 & 2 & 3 & 0\\\\2 & 2 & 3 & 0\\\\3 & 2 & 3 & \\frac{1}{\\tan{\\left (y_{2} \\right )}}\\\\1 & 3 & 3 & - y_{1} \\sin^{2}{\\left (y_{2} \\right )}\\\\2 & 3 & 3 & - \\frac{1}{2} \\sin{\\left (2 y_{2} \\right )}\\\\3 & 3 & 3 & 0\\end{matrix}\\right]$$"
      ],
      "text/plain": [
       "⎡i  j  k    Γ_jk__i   ⎤\n",
       "⎢                     ⎥\n",
       "⎢1  1  1       0      ⎥\n",
       "⎢                     ⎥\n",
       "⎢2  1  1       0      ⎥\n",
       "⎢                     ⎥\n",
       "⎢3  1  1       0      ⎥\n",
       "⎢                     ⎥\n",
       "⎢1  2  1       0      ⎥\n",
       "⎢                     ⎥\n",
       "⎢              1      ⎥\n",
       "⎢2  2  1       ──     ⎥\n",
       "⎢              y₁     ⎥\n",
       "⎢                     ⎥\n",
       "⎢3  2  1       0      ⎥\n",
       "⎢                     ⎥\n",
       "⎢1  3  1       0      ⎥\n",
       "⎢                     ⎥\n",
       "⎢2  3  1       0      ⎥\n",
       "⎢                     ⎥\n",
       "⎢              1      ⎥\n",
       "⎢3  3  1       ──     ⎥\n",
       "⎢              y₁     ⎥\n",
       "⎢                     ⎥\n",
       "⎢1  1  2       0      ⎥\n",
       "⎢                     ⎥\n",
       "⎢              1      ⎥\n",
       "⎢2  1  2       ──     ⎥\n",
       "⎢              y₁     ⎥\n",
       "⎢                     ⎥\n",
       "⎢3  1  2       0      ⎥\n",
       "⎢                     ⎥\n",
       "⎢1  2  2      -y₁     ⎥\n",
       "⎢                     ⎥\n",
       "⎢2  2  2       0      ⎥\n",
       "⎢                     ⎥\n",
       "⎢3  2  2       0      ⎥\n",
       "⎢                     ⎥\n",
       "⎢1  3  2       0      ⎥\n",
       "⎢                     ⎥\n",
       "⎢2  3  2       0      ⎥\n",
       "⎢                     ⎥\n",
       "⎢              1      ⎥\n",
       "⎢3  3  2    ───────   ⎥\n",
       "⎢           tan(y₂)   ⎥\n",
       "⎢                     ⎥\n",
       "⎢1  1  3       0      ⎥\n",
       "⎢                     ⎥\n",
       "⎢2  1  3       0      ⎥\n",
       "⎢                     ⎥\n",
       "⎢              1      ⎥\n",
       "⎢3  1  3       ──     ⎥\n",
       "⎢              y₁     ⎥\n",
       "⎢                     ⎥\n",
       "⎢1  2  3       0      ⎥\n",
       "⎢                     ⎥\n",
       "⎢2  2  3       0      ⎥\n",
       "⎢                     ⎥\n",
       "⎢              1      ⎥\n",
       "⎢3  2  3    ───────   ⎥\n",
       "⎢           tan(y₂)   ⎥\n",
       "⎢                     ⎥\n",
       "⎢                2    ⎥\n",
       "⎢1  3  3  -y₁⋅sin (y₂)⎥\n",
       "⎢                     ⎥\n",
       "⎢         -sin(2⋅y₂)  ⎥\n",
       "⎢2  3  3  ─────────── ⎥\n",
       "⎢              2      ⎥\n",
       "⎢                     ⎥\n",
       "⎣3  3  3       0      ⎦"
      ]
     },
     "execution_count": 10,
     "metadata": {},
     "output_type": "execute_result"
    }
   ],
   "source": [
    "m = zeros(28,4)\n",
    "i,j,k,Gamma_ijk = symbols('i,j,k,Gamma__i_jk')\n",
    "m[0,0]=i\n",
    "m[0,1]=j\n",
    "m[0,2]=k\n",
    "m[0,3]=Gamma_ijk\n",
    "## and to print them out you might have to unravel pythons mysteries too ...\n",
    "for a in range(0,3):\n",
    "    for b in range(0,3):\n",
    "        for c in range(0,3):\n",
    "            # puts this in matrix form with fancy text and indexing  \n",
    "            m[(c*3 + b)*3 + a + 1,3]= simplify(christoffel_symbol_2(metric_spherical, a, b, c, X))\n",
    "            m[(c*3 + b)*3 + a + 1,0]=a+1\n",
    "            m[(c*3 + b)*3 + a + 1,1]=b+1\n",
    "            m[(c*3 + b)*3 + a + 1,2]=c+1\n",
    "m"
   ]
  },
  {
   "cell_type": "code",
   "execution_count": 11,
   "metadata": {},
   "outputs": [
    {
     "data": {
      "text/latex": [
       "$$\\left[\\begin{matrix}0 & 0 & 0\\\\0 & - y_{1} & 0\\\\0 & 0 & - y_{1} \\sin^{2}{\\left (y_{2} \\right )}\\end{matrix}\\right]$$"
      ],
      "text/plain": [
       "⎡0   0        0      ⎤\n",
       "⎢                    ⎥\n",
       "⎢0  -y₁       0      ⎥\n",
       "⎢                    ⎥\n",
       "⎢               2    ⎥\n",
       "⎣0   0   -y₁⋅sin (y₂)⎦"
      ]
     },
     "execution_count": 11,
     "metadata": {},
     "output_type": "execute_result"
    }
   ],
   "source": [
    "# alternative way of viewing Christoffel symbols of the 2nd kind\n",
    "metric_spherical = J_1.T*J_1 # defined above\n",
    "X = Matrix([y_1,y_2,y_3])\n",
    "\n",
    "\n",
    "def compute_christoffel_symbols(metric, d, basis, perm):\n",
    "    gamma2 = []\n",
    "    for i in range(0,d):\n",
    "        gamma2.append(zeros(d,d))\n",
    "        \n",
    "    for a in range(0,d):\n",
    "        for b in range(0,d):\n",
    "            for c in range(0,d):\n",
    "                # puts this in matrix form with fancy text and indexing\n",
    "                if perm==0:\n",
    "                    gamma2[a][b,c] = simplify(christoffel_symbol_2(metric, a, b, c, basis))\n",
    "                elif perm==1:\n",
    "                    gamma2[b][c,a] = simplify(christoffel_symbol_2(metric, a, b, c, basis))\n",
    "                elif perm==2:\n",
    "                    gamma2[c][a,b] = simplify(christoffel_symbol_2(metric, a, b, c, basis))\n",
    "                elif perm==3:\n",
    "                    gamma2[a][c,b] = simplify(christoffel_symbol_2(metric, a, b, c, basis))\n",
    "                elif perm==1:\n",
    "                    gamma2[c][b,a] = simplify(christoffel_symbol_2(metric, a, b, c, basis))\n",
    "                elif perm==2:\n",
    "                    gamma2[b][a,c] = simplify(christoffel_symbol_2(metric, a, b, c, basis))                    \n",
    "    return gamma2\n",
    "\n",
    "# this was added because the original christoffel symbol code\n",
    "# above does not extend to higher dimensions, neither does\n",
    "# the inner function christoffel_symbol_2 (see above)\n",
    "# and so\n",
    "# metric is the metric\n",
    "# d is the dimension of the space\n",
    "# basis is the basis from which the metric was derived\n",
    "# metric_inv is the optional inverse of the metric\n",
    "def compute_christoffel_symbols_2(metric, d, basis, metric_inv):\n",
    "    gamma2 = []\n",
    "    for i in range(0,d):\n",
    "        gamma2.append(zeros(d,d))\n",
    "        \n",
    "    for a in range(0,d):\n",
    "        for b in range(0,d):\n",
    "            for c in range(0,d):\n",
    "                # puts this in matrix form with fancy text and indexing\n",
    "                gamma2[a][b,c] = simplify(christoffel_symbol_2_2(metric, a, b, c, basis, d, metric_inv))\n",
    "                \n",
    "    return gamma2\n",
    "\n",
    "\n",
    "gamma2 = compute_christoffel_symbols(metric_spherical, 3, X, 0)\n",
    "gamma2[0]"
   ]
  },
  {
   "cell_type": "code",
   "execution_count": 12,
   "metadata": {},
   "outputs": [
    {
     "data": {
      "text/latex": [
       "$$\\left[\\begin{matrix}0 & \\frac{1}{y_{1}} & 0\\\\\\frac{1}{y_{1}} & 0 & 0\\\\0 & 0 & - \\frac{1}{2} \\sin{\\left (2 y_{2} \\right )}\\end{matrix}\\right]$$"
      ],
      "text/plain": [
       "⎡    1              ⎤\n",
       "⎢0   ──       0     ⎥\n",
       "⎢    y₁             ⎥\n",
       "⎢                   ⎥\n",
       "⎢1                  ⎥\n",
       "⎢──  0        0     ⎥\n",
       "⎢y₁                 ⎥\n",
       "⎢                   ⎥\n",
       "⎢        -sin(2⋅y₂) ⎥\n",
       "⎢0   0   ───────────⎥\n",
       "⎣             2     ⎦"
      ]
     },
     "execution_count": 12,
     "metadata": {},
     "output_type": "execute_result"
    }
   ],
   "source": [
    "gamma2[1]"
   ]
  },
  {
   "cell_type": "code",
   "execution_count": 13,
   "metadata": {},
   "outputs": [
    {
     "data": {
      "text/latex": [
       "$$\\left[\\begin{matrix}0 & 0 & \\frac{1}{y_{1}}\\\\0 & 0 & \\frac{1}{\\tan{\\left (y_{2} \\right )}}\\\\\\frac{1}{y_{1}} & \\frac{1}{\\tan{\\left (y_{2} \\right )}} & 0\\end{matrix}\\right]$$"
      ],
      "text/plain": [
       "⎡               1    ⎤\n",
       "⎢0      0       ──   ⎥\n",
       "⎢               y₁   ⎥\n",
       "⎢                    ⎥\n",
       "⎢                1   ⎥\n",
       "⎢0      0     ───────⎥\n",
       "⎢             tan(y₂)⎥\n",
       "⎢                    ⎥\n",
       "⎢1      1            ⎥\n",
       "⎢──  ───────     0   ⎥\n",
       "⎣y₁  tan(y₂)         ⎦"
      ]
     },
     "execution_count": 13,
     "metadata": {},
     "output_type": "execute_result"
    }
   ],
   "source": [
    "gamma2[2]"
   ]
  },
  {
   "cell_type": "markdown",
   "metadata": {},
   "source": [
    "### Covariant derivative of a covariant vector\n",
    "   \n",
    "$$\\nabla_r \\mathbf T_i = \\frac{\\partial \\mathbf T_i}{\\partial x^r} - \\Gamma^p_{ir} \\mathbf T_p $$\n",
    "\n",
    "### Covariant derivative of a contravariant vector.\n",
    "   \n",
    "$$\\nabla_r \\mathbf T^i = \\frac{\\partial \\mathbf T^i}{\\partial x^r} + \\Gamma^i_{qr} \\mathbf T^q$$\n",
    "   \n",
    "> note: the difference here between this and the Covariant derivative of a covariant vector is that the free index, i, is in the superscript of the Christoffel symbol and in the former, a subscript."
   ]
  },
  {
   "cell_type": "code",
   "execution_count": 14,
   "metadata": {
    "collapsed": true
   },
   "outputs": [],
   "source": [
    "def Covariant_Derivative_Covariant_Vector(T, Y, gamma2, d):\n",
    "    d_r_T_i = zeros(d,d)\n",
    "    for r in range(0,d): # free index r\n",
    "        for i in range(0,d): # free index j\n",
    "            d_r_T_i [i, r] = diff( T[i], Y[r] )\n",
    "            for p in range(0,d): # dummy index p\n",
    "        \n",
    "                # using our vector matrix X=[y_1,y_2, y_3]\n",
    "                 d_r_T_i [i, r] -= gamma2 [p][i, r]*T[p] ## perhaps one of the other gamma2 systems\n",
    "\n",
    "    return d_r_T_i\n",
    "\n",
    "def Covariant_Derivative_Contravariant_Vector(T, Y, gamma2, d):\n",
    "    d_r_T_i = zeros(d,d)\n",
    "    for r in range(0,d): # free index r\n",
    "        for i in range(0,d): # free index j\n",
    "            d_r_T_i [i, r] = diff( T[i], Y[r] )\n",
    "            for q in range(0,d): # dummy index q\n",
    "        \n",
    "                # using our vector matrix X=[y_1,y_2, y_3]\n",
    "                d_r_T_i [i, r] += gamma2 [i][q, r]*T[q] ## perhaps one of the other gamma2 systems\n",
    "            \n",
    "    return d_r_T_i"
   ]
  },
  {
   "cell_type": "markdown",
   "metadata": {},
   "source": [
    "### Rules\n",
    "\n",
    "Covariant differentiation is a linear operator, therefore \n",
    "   \n",
    "1) $ \\nabla_r (\\mathbf U + \\mathbf V) = \\nabla_r \\mathbf U + \\nabla_r \\mathbf V$ \n",
    "   \n",
    "2) outer product $\\nabla_r[\\mathbf U  \\mathbf V] = [\\nabla_r\\mathbf U \\mathbf V]+ [\\mathbf U\\nabla_r \\mathbf V]$\n",
    "   \n",
    "3) inner product $\\nabla_r(\\mathbf U\\mathbf V)=(\\nabla_r\\mathbf U \\mathbf V)+ (\\mathbf U\\nabla_r \\mathbf V)$"
   ]
  },
  {
   "cell_type": "markdown",
   "metadata": {},
   "source": [
    "\n",
    "To re-express the rule or covariant differentiation ...\n",
    "   \n",
    "$$ \\frac{\\partial \\bar{\\mathbf T}_i}{\\partial \\bar{x}^k} - \\bar{\\Gamma}^t_{ik}\\bar{\\mathbf T}_t = (\\frac{\\partial \\mathbf T_r}{\\partial x^s} - \\Gamma^t_{rs}\\mathbf T_t )\\frac{\\partial x^r}{\\partial \\bar{x}^i}\\frac{\\partial x^s}{\\partial \\bar{x}^k}$$\n",
    "\n",
    "where if the unbarred system is the cartesian system, and the barred is the spherical system, we should use the method in the code (unless I made a mistake) and to transform to the covariant derivative in the cartesian system we multiply by the $\\mathbf {\\bar{J}} = \\frac{\\partial (x^i)}{\\partial (\\bar{x}^j)} $ twice, where for convenience $ (\\mathbf J^{-1})^T = \\mathbf {\\bar{J}} $ and so $\\mathbf J = \\frac{\\partial (\\bar{x}^j)}{\\partial (x^i)}$"
   ]
  },
  {
   "cell_type": "markdown",
   "metadata": {},
   "source": [
    "When dealing with rectangular ... I followed these steps\n",
    "\n",
    "$$ \\frac{\\partial \\bar{\\mathbf T}_i}{\\partial \\bar{x}^k} - \\bar{\\Gamma}^t_{ik}\\bar{\\mathbf T}_t = (\\frac{\\partial \\mathbf T_r}{\\partial x^s} - \\Gamma^t_{rs}\\mathbf T_t )\\frac{\\partial x^r}{\\partial \\bar{x}^i}\\frac{\\partial x^s}{\\partial \\bar{x}^k}$$\n",
    "\n",
    "becomes\n",
    "\n",
    "$$ \\frac{\\partial \\bar{\\mathbf T}_i}{\\partial \\bar{x}^k} - \\bar{\\Gamma}^t_{ik}\\bar{\\mathbf T}_t = (\\frac{\\partial \\mathbf T_r}{\\partial x^s}  )\\frac{\\partial x^r}{\\partial \\bar{x}^i}\\frac{\\partial x^s}{\\partial \\bar{x}^k}$$\n",
    "\n",
    "because the right hand side is cartesian.\n",
    "\n",
    "\n",
    "$$ \\frac{\\partial \\bar{\\mathbf T}_i}{\\partial \\bar{x}^k} - \\bar{\\Gamma}^t_{ik}\\bar{\\mathbf T}_t = \\mathbf {\\bar{T}}_{ik}$$\n",
    "\n",
    "then\n",
    "\n",
    "$$ \\frac{\\partial \\bar{\\mathbf T}_i}{\\partial \\bar{x}^k}  = \\mathbf {\\bar{T}}_{ik} + \\bar{\\Gamma}^t_{ik}\\bar{\\mathbf T}_t $$"
   ]
  },
  {
   "cell_type": "markdown",
   "metadata": {},
   "source": [
    "### Covariant Derivative of a one-form\n",
    "   \n",
    "The one-form is defined above as $\\mathbf \\omega_r = a_i dx^i $ and the covariant derivative is \n",
    "   \n",
    "$$\\nabla_r \\omega_i = \\partial_r \\mathbf \\omega_i - \\Gamma^p_{ri}\\mathbf \\omega_p$$"
   ]
  },
  {
   "cell_type": "markdown",
   "metadata": {},
   "source": [
    "> Note this is the same as the covariant derivative of a covariant vector."
   ]
  },
  {
   "cell_type": "markdown",
   "metadata": {},
   "source": [
    "### Intrinsic or absolute derivative\n",
    "   \n",
    "The inner product of the covariant derivative with the tangent vector to a curve is\n",
    "   \n",
    "   $$\\left( \\nabla_r \\mathbf T^i, \\frac{\\partial \\mathbf x^r}{\\partial t} \\right)$$\n",
    " \n",
    "is a tensor of the same type and order as $\\mathbf T^i$ and is known as the absolute or intrinsic derivative along the curve $C : \\mathbf x=\\mathbf x(t)$, defined by\n",
    "   \n",
    "   $$\\frac{\\delta \\mathbf T^i}{\\delta t} = \\frac{\\partial \\mathbf T^i}{\\partial t} + \\Gamma^i_{pq} \\mathbf T^p \\frac{\\partial \\mathbf x^q}{\\partial t}, \\qquad \\mathbf T^i = \\mathbf T^i (\\mathbf x(t)) $$\n",
    "   "
   ]
  },
  {
   "cell_type": "markdown",
   "metadata": {},
   "source": [
    "To show this, simply take the  covariant derivative of $\\mathbf T^i$ with respect to $\\mathbf x^r$, and form the dot product with $\\frac{\\partial x^r}{\\partial t}$ as follows\n",
    "\n",
    "$$\\nabla_r \\mathbf T^i \\frac{\\partial x^r}{\\partial t} = \\frac{\\partial \\mathbf T^i}{\\partial x^r}\\frac{\\partial x^r}{\\partial t}  + \\Gamma^i_{qr} \\mathbf T^q \\frac{\\partial x^r}{\\partial t}$$\n",
    "then\n",
    "   \n",
    "$$\\nabla_r \\mathbf T^i \\frac{\\partial x^r}{\\partial t}= \\frac{\\partial \\mathbf T^i}{\\partial t}  + \\Gamma^i_{qr} \\mathbf T^q \\frac{\\partial x^r}{\\partial t} \\equiv \\frac{\\delta \\mathbf T^i}{\\delta t} $$\n",
    "\n",
    "> Pay attention to the indices, the $x^q$ in the initial definition means its the dot product with $\\frac{\\partial x^q}{\\partial t}$ that was formed ... so the second definition is clearer."
   ]
  },
  {
   "cell_type": "markdown",
   "metadata": {},
   "source": [
    "Absolute differentiation is a linear operator.\n",
    "   \n",
    "### Acceleration \n",
    "   \n",
    "This is defined as the time derivative of the absolute derivative of the coordinate, \n",
    "   \n",
    "$$\\mathbf a = a^i = \\frac{\\delta}{\\delta t} \\left(\\frac{d x^i}{dt}\\right)= \\frac{d}{d t} \\left(\\frac{\\delta  x^i}{\\delta t}\\right)=\\frac{\\partial^2 x^i}{\\partial t^2}  + \\Gamma^i_{qr}  \\frac{\\partial x^q}{\\partial t}\\frac{\\partial x^r}{\\partial t}$$"
   ]
  },
  {
   "cell_type": "markdown",
   "metadata": {},
   "source": [
    "using the work above for acceleration in curlinear coordinates,\n",
    "   \n",
    "$$\\mathbf r = \\rho\\ \\cos\\phi\\ \\sin\\theta\\ \\mathbf i + \\rho\\ \\sin\\phi\\ \\sin\\theta\\ \\mathbf j + \\rho\\ \\cos\\theta\\ \\mathbf k=y^1\\ \\cos (y^3)\\ \\sin (y^2)\\ \\mathbf i + y^1\\ \\sin (y^3)\\ \\sin (y^2)\\ \\mathbf j + y^1\\ \\cos (y^2)\\ \\mathbf k =y^1 c_3 s_2 \\mathbf i + y^1 s_3 s_2 \\mathbf j + y^1 c_2 \\mathbf k $$\n",
    "   \n",
    "and assuming the values for velocity (and for the moment acceleration) in the rectangular coordinates derived above, then in the spherical coordinate system, with metric $g_{11}=1,\\ g_{22}=(y^1)^2,\\ g_{33}=(y^1 \\sin\\ y^2)^2 $ then \n",
    "   \n",
    "$$\\mathbf r = y^1 \\mathbf e_1 + y^2 \\mathbf e_2+y^3 \\mathbf e_3 $$\n",
    "and\n",
    "$$\\mathbf v = \\dot{y}^1 \\mathbf e_1 + \\dot{y}^2 \\mathbf e_2+\\dot{y}^3 \\mathbf e_3 $$\n",
    "or\n",
    "$$ v^i = \\frac{dy^i}{dt}$$\n",
    "   \n",
    "and the contravariant components of acceleration are given by the absolute derivative,\n",
    "   \n",
    "$$ a^i = \\frac{dv^i}{dt} + \\Gamma^i_{rs} v^r v^s = \\frac{d^2y^i}{dt^2} + \\Gamma^i_{rs} \\frac{dy^r}{dt} \\frac{dy^s}{dt} $$\n",
    "\n",
    "   \n"
   ]
  },
  {
   "cell_type": "code",
   "execution_count": 15,
   "metadata": {},
   "outputs": [
    {
     "data": {
      "text/latex": [
       "$$\\left[\\begin{matrix}0 & 0 & 0\\\\0 & - y_{1} & 0\\\\0 & 0 & - y_{1} \\sin^{2}{\\left (y_{2} \\right )}\\end{matrix}\\right]$$"
      ],
      "text/plain": [
       "⎡0   0        0      ⎤\n",
       "⎢                    ⎥\n",
       "⎢0  -y₁       0      ⎥\n",
       "⎢                    ⎥\n",
       "⎢               2    ⎥\n",
       "⎣0   0   -y₁⋅sin (y₂)⎦"
      ]
     },
     "execution_count": 15,
     "metadata": {},
     "output_type": "execute_result"
    }
   ],
   "source": [
    "gamma2[0]"
   ]
  },
  {
   "cell_type": "code",
   "execution_count": 16,
   "metadata": {},
   "outputs": [
    {
     "data": {
      "text/latex": [
       "$$\\left[\\begin{matrix}0 & \\frac{1}{y_{1}} & 0\\\\\\frac{1}{y_{1}} & 0 & 0\\\\0 & 0 & - \\frac{1}{2} \\sin{\\left (2 y_{2} \\right )}\\end{matrix}\\right]$$"
      ],
      "text/plain": [
       "⎡    1              ⎤\n",
       "⎢0   ──       0     ⎥\n",
       "⎢    y₁             ⎥\n",
       "⎢                   ⎥\n",
       "⎢1                  ⎥\n",
       "⎢──  0        0     ⎥\n",
       "⎢y₁                 ⎥\n",
       "⎢                   ⎥\n",
       "⎢        -sin(2⋅y₂) ⎥\n",
       "⎢0   0   ───────────⎥\n",
       "⎣             2     ⎦"
      ]
     },
     "execution_count": 16,
     "metadata": {},
     "output_type": "execute_result"
    }
   ],
   "source": [
    "gamma2[1]"
   ]
  },
  {
   "cell_type": "code",
   "execution_count": 17,
   "metadata": {},
   "outputs": [
    {
     "data": {
      "text/latex": [
       "$$\\left[\\begin{matrix}0 & 0 & \\frac{1}{y_{1}}\\\\0 & 0 & \\frac{1}{\\tan{\\left (y_{2} \\right )}}\\\\\\frac{1}{y_{1}} & \\frac{1}{\\tan{\\left (y_{2} \\right )}} & 0\\end{matrix}\\right]$$"
      ],
      "text/plain": [
       "⎡               1    ⎤\n",
       "⎢0      0       ──   ⎥\n",
       "⎢               y₁   ⎥\n",
       "⎢                    ⎥\n",
       "⎢                1   ⎥\n",
       "⎢0      0     ───────⎥\n",
       "⎢             tan(y₂)⎥\n",
       "⎢                    ⎥\n",
       "⎢1      1            ⎥\n",
       "⎢──  ───────     0   ⎥\n",
       "⎣y₁  tan(y₂)         ⎦"
      ]
     },
     "execution_count": 17,
     "metadata": {},
     "output_type": "execute_result"
    }
   ],
   "source": [
    "gamma2[2]"
   ]
  },
  {
   "cell_type": "code",
   "execution_count": 18,
   "metadata": {
    "collapsed": true
   },
   "outputs": [],
   "source": [
    "def absolute_acceleration(DY, D2Y, gamma_2, d ):\n",
    "    acc = zeros(d,1)\n",
    "    for i in range(0,d):\n",
    "        acc[i] =  D2Y[i]\n",
    "        for j in range (0,d):\n",
    "            for s in range(0,d):\n",
    "                acc[i] += gamma_2[i][j,s]*DY[j]*DY[s]\n",
    "    return acc\n",
    "\n"
   ]
  },
  {
   "cell_type": "markdown",
   "metadata": {},
   "source": [
    "but for our particular vector in the example above, $\\dot{y^i} = [\\text{const}]$ and so the 2nd derivative was zero, so all that remains is to sum over the remaining term $a^i= \\Gamma^i_{rs} \\frac{dy^r}{dt} \\frac{dy^s}{dt} $ so ...\n",
    "   \n",
    "$$ a^1  = \\Gamma^1_{1s} \\frac{dy^1}{dt} \\frac{dy^s}{dt} + \\Gamma^1_{2s} \\frac{dy^2}{dt} \\frac{dy^s}{dt} + \\Gamma^1_{3s} \\frac{dy^3}{dt} \\frac{dy^s}{dt}  $$\n",
    "      \n",
    "and here the chrisoffel symbols $\\Gamma^1_{rs}$ are zero except for $\\Gamma^1_{22}=-y^1$ and $\\Gamma^1_{33}=-y^1 \\sin^2 (y^2)$ (first matrix above) ...  \n",
    "     \n",
    "$$ a^1  =  \\Gamma^1_{22} \\left(\\frac{dy^2}{dt}\\right)^2 + \\Gamma^1_{33} \\left(\\frac{dy^3}{dt} \\right)^2 = -y^1 \\left(\\frac{dy^2}{dt}\\right)^2  -y^1 \\sin^2 (y^2) \\left(\\frac{dy^3}{dt} \\right)^2  $$\n"
   ]
  },
  {
   "cell_type": "markdown",
   "metadata": {},
   "source": [
    "for the second component\n",
    "$$ a^2  = \\Gamma^2_{1s} \\frac{dy^1}{dt} \\frac{dy^s}{dt} + \\Gamma^2_{2s} \\frac{dy^2}{dt} \\frac{dy^s}{dt} + \\Gamma^2_{3s} \\frac{dy^3}{dt} \\frac{dy^s}{dt}  $$\n",
    "   \n",
    "the Christoffel symbols (2nd matrix) are all zero except $\\Gamma^2_{12} = \\Gamma^2_{21} = \\frac{1}{y^1}$ and $\\Gamma^2_{33} = -\\frac{1}{2}\\sin(2y^2)= -\\sin(y^2)\\cos(y^2)$ then ...\n",
    "   \n",
    "$$ a^2  = \\Gamma^2_{12} \\frac{dy^1}{dt} \\frac{dy^2}{dt} + \\Gamma^2_{21} \\frac{dy^2}{dt} \\frac{dy^1}{dt} + \\Gamma^2_{33} \\left(\\frac{dy^3}{dt}\\right)^2= \\frac{2}{y^1} \\frac{dy^1}{dt} \\frac{dy^2}{dt}  -\\sin(y^2)\\cos(y^2) \\left(\\frac{dy^3}{dt}\\right)^2  $$"
   ]
  },
  {
   "cell_type": "markdown",
   "metadata": {},
   "source": [
    "and for the third component\n",
    "   \n",
    "$$ a^3  = \\Gamma^3_{1s} \\frac{dy^1}{dt} \\frac{dy^s}{dt} + \\Gamma^3_{2s} \\frac{dy^2}{dt} \\frac{dy^s}{dt} + \\Gamma^3_{3s} \\frac{dy^3}{dt} \\frac{dy^s}{dt}  $$\n",
    "   \n",
    "with $\\Gamma^3_{31} = \\Gamma^3_{13} = \\frac{1}{y^1}$ and $\\Gamma^3_{32} = \\Gamma^3_{23} = \\frac{1}{\\tan(y^2)}=\\frac{\\cos(y^2)}{\\sin(y^2)}$ then\n",
    "      \n",
    "$$ a^3  = 2\\Gamma^3_{13} \\frac{dy^1}{dt} \\frac{dy^3}{dt} + 2\\Gamma^3_{23} \\frac{dy^2}{dt} \\frac{dy^3}{dt} = \\frac{2}{y^1} \\frac{dy^1}{dt} \\frac{dy^3}{dt} + 2\\frac{\\cos(y^2)}{\\sin(y^2)} \\frac{dy^2}{dt} \\frac{dy^3}{dt}   $$"
   ]
  },
  {
   "cell_type": "markdown",
   "metadata": {},
   "source": [
    "and the *physical components* are given by $a_i = a^i\\sqrt{g_{ii}} $ (no summation) so\n",
    "   \n",
    "$$a_1 = a^1 \\sqrt{g_{11}} = \\left(-y^1 \\left(\\frac{dy^2}{dt}\\right)^2  -y^1 \\sin^2 (y^2) \\left(\\frac{dy^3}{dt} \\right)^2\\right)(\\sqrt{1}) = -y^1 \\left(\\frac{dy^2}{dt}\\right)^2  -y^1 \\sin^2 (y^2) \\left(\\frac{dy^3}{dt} \\right)^2$$\n",
    "   \n",
    "and \n",
    "   \n",
    "$$a_2 = a^2 \\sqrt{g_{22}} = a^2 \\sqrt{(y^1)^2}=\\left(\\frac{2}{y^1} \\frac{dy^1}{dt} \\frac{dy^2}{dt}  -\\sin(y^2)\\cos(y^2) \\left(\\frac{dy^3}{dt}\\right)^2 \\right)y^1 =\\left( 2 \\frac{dy^1}{dt} \\frac{dy^2}{dt}  -y^1\\sin(y^2)\\cos(y^2) \\left(\\frac{dy^3}{dt}\\right)^2 \\right)  $$\n",
    "   \n",
    "and\n",
    "\n",
    "$$ a_3 = a^3 \\sqrt{g_{33}} = a^3 \\sqrt{(y^1 \\sin\\ (y^2))^2} =  2 sin\\ (y^2) \\frac{dy^1}{dt} \\frac{dy^3}{dt} + 2 y^1\\cos(y^2) \\frac{dy^2}{dt} \\frac{dy^3}{dt} $$\n"
   ]
  },
  {
   "cell_type": "markdown",
   "metadata": {},
   "source": [
    "so \n",
    "$$\\mathbf a = ( -y^1 \\left(\\dot{y}^2\\right)^2  -y^1 (s_2)^2 \\left(\\dot{y}^3 \\right)^2) \\mathbf e_1+ (2 \\dot{y}^1 \\dot{y}^2  -y^1 s_2 c_2 \\left(\\dot{y}^3\\right)^2)\\mathbf e_2 +  (2 s_2 \\dot{y}^1 \\dot{y}^3 + 2 y^1 c_2 \\dot{y}^2 \\dot{y}^3)\\mathbf e_3$$"
   ]
  },
  {
   "cell_type": "code",
   "execution_count": 41,
   "metadata": {
    "collapsed": true
   },
   "outputs": [],
   "source": [
    "############################################\n",
    "## NOTE NOTE :\n",
    "## please view this on notebook viewer\n",
    "## https://nbviewer.jupyter.org/github/coderofgames/Python-Math/blob/master/Vectors/Tensors.ipynb\n",
    "############################################\n",
    "t,a_1,a_2,a_3 = symbols('t,a_1,a_2,a_3')\n",
    "\n",
    "T = Matrix([a_1,a_2,a_3])\n",
    "\n",
    "# make them functions of t\n",
    "y__1 = Function('y__1', positive=True)( t ) \n",
    "y__2 = Function('y__2', positive=True)( t ) \n",
    "y__3 = Function('y__3', positive=True)( t )\n",
    "\n",
    "Y = Matrix([y__1,y__2,y__3])\n",
    "\n",
    "DY = Matrix([diff(y__1,t),diff(y__2,t),diff(y__3,t)])\n",
    "T = DY\n",
    "D2Y = diff(DY,t)\n",
    "\n"
   ]
  },
  {
   "cell_type": "code",
   "execution_count": 42,
   "metadata": {
    "scrolled": true
   },
   "outputs": [
    {
     "name": "stdout",
     "output_type": "stream",
     "text": [
      "The Jacobian of the dx^i/dy^j where x's are cartesian and y's are spherical \n"
     ]
    },
    {
     "data": {
      "text/latex": [
       "$$\\left[\\begin{matrix}\\sin{\\left (\\operatorname{y^{2}}{\\left (t \\right )} \\right )} \\cos{\\left (\\operatorname{y^{3}}{\\left (t \\right )} \\right )} & \\operatorname{y^{1}}{\\left (t \\right )} \\cos{\\left (\\operatorname{y^{2}}{\\left (t \\right )} \\right )} \\cos{\\left (\\operatorname{y^{3}}{\\left (t \\right )} \\right )} & - \\operatorname{y^{1}}{\\left (t \\right )} \\sin{\\left (\\operatorname{y^{2}}{\\left (t \\right )} \\right )} \\sin{\\left (\\operatorname{y^{3}}{\\left (t \\right )} \\right )}\\\\\\sin{\\left (\\operatorname{y^{2}}{\\left (t \\right )} \\right )} \\sin{\\left (\\operatorname{y^{3}}{\\left (t \\right )} \\right )} & \\operatorname{y^{1}}{\\left (t \\right )} \\sin{\\left (\\operatorname{y^{3}}{\\left (t \\right )} \\right )} \\cos{\\left (\\operatorname{y^{2}}{\\left (t \\right )} \\right )} & \\operatorname{y^{1}}{\\left (t \\right )} \\sin{\\left (\\operatorname{y^{2}}{\\left (t \\right )} \\right )} \\cos{\\left (\\operatorname{y^{3}}{\\left (t \\right )} \\right )}\\\\\\cos{\\left (\\operatorname{y^{2}}{\\left (t \\right )} \\right )} & - \\operatorname{y^{1}}{\\left (t \\right )} \\sin{\\left (\\operatorname{y^{2}}{\\left (t \\right )} \\right )} & 0\\end{matrix}\\right]$$"
      ],
      "text/plain": [
       "⎡sin(y²(t))⋅cos(y³(t))  y¹(t)⋅cos(y²(t))⋅cos(y³(t))  -y¹(t)⋅sin(y²(t))⋅sin(y³(\n",
       "⎢                                                                             \n",
       "⎢sin(y²(t))⋅sin(y³(t))  y¹(t)⋅sin(y³(t))⋅cos(y²(t))  y¹(t)⋅sin(y²(t))⋅cos(y³(t\n",
       "⎢                                                                             \n",
       "⎣     cos(y²(t))             -y¹(t)⋅sin(y²(t))                    0           \n",
       "\n",
       "t))⎤\n",
       "   ⎥\n",
       ")) ⎥\n",
       "   ⎥\n",
       "   ⎦"
      ]
     },
     "execution_count": 42,
     "metadata": {},
     "output_type": "execute_result"
    }
   ],
   "source": [
    "v = y_1 * cos (y_3) * sin(y_2) * e.i+ y_1 * sin (y_3) * sin(y_2) * e.j +  y_1 * cos(y_2) * e.k\n",
    "v = v.subs( {y_1: y__1, y_2: y__2, y_3:y__3})\n",
    "V = sqrt( x_1**2 + x_2**2 + x_3**2) * sph.i + acos( x_3/sqrt( x_1**2 + x_2**2 + x_3**2)) * sph.j + atan(x_2/x_1) * sph.k\n",
    "\n",
    "X = Matrix([v.dot(e.i), v.dot(e.j),v.dot(e.k)])\n",
    "Y = Matrix([y__1, y__2, y__3])\n",
    "\n",
    "print \"The Jacobian of the dx^i/dy^j where x's are cartesian and y's are spherical \"\n",
    "J_1 = X.jacobian(Y)\n",
    "J_1"
   ]
  },
  {
   "cell_type": "code",
   "execution_count": 43,
   "metadata": {},
   "outputs": [
    {
     "data": {
      "text/latex": [
       "$$\\left[\\begin{matrix}0 & 0 & 0\\\\0 & - \\operatorname{y^{1}}{\\left (t \\right )} & 0\\\\0 & 0 & - \\operatorname{y^{1}}{\\left (t \\right )} \\sin^{2}{\\left (\\operatorname{y^{2}}{\\left (t \\right )} \\right )}\\end{matrix}\\right]$$"
      ],
      "text/plain": [
       "⎡0    0             0         ⎤\n",
       "⎢                             ⎥\n",
       "⎢0  -y¹(t)          0         ⎥\n",
       "⎢                             ⎥\n",
       "⎢                     2       ⎥\n",
       "⎣0    0     -y¹(t)⋅sin (y²(t))⎦"
      ]
     },
     "execution_count": 43,
     "metadata": {},
     "output_type": "execute_result"
    }
   ],
   "source": [
    "metric_spherical_t = simplify(J_1.T * J_1)\n",
    "\n",
    "\n",
    "gamma_2 =  compute_christoffel_symbols(metric_spherical_t, 3, Y, 0)\n",
    "gamma_2[0]"
   ]
  },
  {
   "cell_type": "code",
   "execution_count": 44,
   "metadata": {},
   "outputs": [
    {
     "data": {
      "text/latex": [
       "$$\\left[\\begin{matrix}1 & 0 & 0\\\\0 & \\operatorname{y^{1}}^{2}{\\left (t \\right )} & 0\\\\0 & 0 & \\operatorname{y^{1}}^{2}{\\left (t \\right )} \\sin^{2}{\\left (\\operatorname{y^{2}}{\\left (t \\right )} \\right )}\\end{matrix}\\right]$$"
      ],
      "text/plain": [
       "⎡1    0             0         ⎤\n",
       "⎢                             ⎥\n",
       "⎢     2                       ⎥\n",
       "⎢0  y¹ (t)          0         ⎥\n",
       "⎢                             ⎥\n",
       "⎢             2       2       ⎥\n",
       "⎣0    0     y¹ (t)⋅sin (y²(t))⎦"
      ]
     },
     "execution_count": 44,
     "metadata": {},
     "output_type": "execute_result"
    }
   ],
   "source": [
    "metric_spherical_t"
   ]
  },
  {
   "cell_type": "code",
   "execution_count": 45,
   "metadata": {},
   "outputs": [
    {
     "data": {
      "text/latex": [
       "$$\\left[\\begin{matrix}0 & - \\operatorname{y^{1}}{\\left (t \\right )} \\frac{d}{d t} \\operatorname{y^{2}}{\\left (t \\right )} & - \\operatorname{y^{1}}{\\left (t \\right )} \\sin^{2}{\\left (\\operatorname{y^{2}}{\\left (t \\right )} \\right )} \\frac{d}{d t} \\operatorname{y^{3}}{\\left (t \\right )}\\\\\\frac{\\frac{d}{d t} \\operatorname{y^{2}}{\\left (t \\right )}}{\\operatorname{y^{1}}{\\left (t \\right )}} & \\frac{\\frac{d}{d t} \\operatorname{y^{1}}{\\left (t \\right )}}{\\operatorname{y^{1}}{\\left (t \\right )}} & - \\frac{1}{2} \\sin{\\left (2 \\operatorname{y^{2}}{\\left (t \\right )} \\right )} \\frac{d}{d t} \\operatorname{y^{3}}{\\left (t \\right )}\\\\\\frac{\\frac{d}{d t} \\operatorname{y^{3}}{\\left (t \\right )}}{\\operatorname{y^{1}}{\\left (t \\right )}} & \\frac{\\frac{d}{d t} \\operatorname{y^{3}}{\\left (t \\right )}}{\\tan{\\left (\\operatorname{y^{2}}{\\left (t \\right )} \\right )}} & \\frac{\\frac{d}{d t} \\operatorname{y^{2}}{\\left (t \\right )}}{\\tan{\\left (\\operatorname{y^{2}}{\\left (t \\right )} \\right )}} + \\frac{\\frac{d}{d t} \\operatorname{y^{1}}{\\left (t \\right )}}{\\operatorname{y^{1}}{\\left (t \\right )}}\\end{matrix}\\right]$$"
      ],
      "text/plain": [
       "⎡                  d                    2        d        ⎤\n",
       "⎢    0      -y¹(t)⋅──(y²(t))  -y¹(t)⋅sin (y²(t))⋅──(y³(t))⎥\n",
       "⎢                  dt                            dt       ⎥\n",
       "⎢                                                         ⎥\n",
       "⎢d             d                              d           ⎥\n",
       "⎢──(y²(t))     ──(y¹(t))        -sin(2⋅y²(t))⋅──(y³(t))   ⎥\n",
       "⎢dt            dt                             dt          ⎥\n",
       "⎢─────────     ─────────        ────────────────────────  ⎥\n",
       "⎢  y¹(t)         y¹(t)                     2              ⎥\n",
       "⎢                                                         ⎥\n",
       "⎢d             d                 d            d           ⎥\n",
       "⎢──(y³(t))     ──(y³(t))         ──(y²(t))    ──(y¹(t))   ⎥\n",
       "⎢dt            dt                dt           dt          ⎥\n",
       "⎢─────────     ──────────        ────────── + ─────────   ⎥\n",
       "⎣  y¹(t)       tan(y²(t))        tan(y²(t))     y¹(t)     ⎦"
      ]
     },
     "execution_count": 45,
     "metadata": {},
     "output_type": "execute_result"
    }
   ],
   "source": [
    "\n",
    "cov_deriv = Covariant_Derivative_Contravariant_Vector(T, Y, gamma_2, 3)\n",
    "cov_deriv\n",
    "# note, this does not contain terms of dT/dy__1 or anything, because\n",
    "# T = dy__i/dt, so the derivative is meaningless. in this case\n",
    "# the second derivative is zero, so the math will work"
   ]
  },
  {
   "cell_type": "code",
   "execution_count": 46,
   "metadata": {},
   "outputs": [
    {
     "data": {
      "text/latex": [
       "$$\\left[\\begin{matrix}- \\operatorname{y^{1}}{\\left (t \\right )} \\sin^{2}{\\left (\\operatorname{y^{2}}{\\left (t \\right )} \\right )} \\left(\\frac{d}{d t} \\operatorname{y^{3}}{\\left (t \\right )}\\right)^{2} - \\operatorname{y^{1}}{\\left (t \\right )} \\left(\\frac{d}{d t} \\operatorname{y^{2}}{\\left (t \\right )}\\right)^{2}\\\\- \\sin{\\left (\\operatorname{y^{2}}{\\left (t \\right )} \\right )} \\cos{\\left (\\operatorname{y^{2}}{\\left (t \\right )} \\right )} \\left(\\frac{d}{d t} \\operatorname{y^{3}}{\\left (t \\right )}\\right)^{2} + \\frac{2 \\frac{d}{d t} \\operatorname{y^{1}}{\\left (t \\right )}}{\\operatorname{y^{1}}{\\left (t \\right )}} \\frac{d}{d t} \\operatorname{y^{2}}{\\left (t \\right )}\\\\\\frac{2 \\frac{d}{d t} \\operatorname{y^{2}}{\\left (t \\right )} \\frac{d}{d t} \\operatorname{y^{3}}{\\left (t \\right )}}{\\tan{\\left (\\operatorname{y^{2}}{\\left (t \\right )} \\right )}} + \\frac{2 \\frac{d}{d t} \\operatorname{y^{1}}{\\left (t \\right )}}{\\operatorname{y^{1}}{\\left (t \\right )}} \\frac{d}{d t} \\operatorname{y^{3}}{\\left (t \\right )}\\end{matrix}\\right]$$"
      ],
      "text/plain": [
       "⎡                                  2                    2    ⎤\n",
       "⎢              2        ⎛d        ⎞          ⎛d        ⎞     ⎥\n",
       "⎢   - y¹(t)⋅sin (y²(t))⋅⎜──(y³(t))⎟  - y¹(t)⋅⎜──(y²(t))⎟     ⎥\n",
       "⎢                       ⎝dt       ⎠          ⎝dt       ⎠     ⎥\n",
       "⎢                                                            ⎥\n",
       "⎢                                         d         d        ⎥\n",
       "⎢                                   2   2⋅──(y¹(t))⋅──(y²(t))⎥\n",
       "⎢                        ⎛d        ⎞      dt        dt       ⎥\n",
       "⎢- sin(y²(t))⋅cos(y²(t))⋅⎜──(y³(t))⎟  + ─────────────────────⎥\n",
       "⎢                        ⎝dt       ⎠            y¹(t)        ⎥\n",
       "⎢                                                            ⎥\n",
       "⎢         d         d             d         d                ⎥\n",
       "⎢       2⋅──(y²(t))⋅──(y³(t))   2⋅──(y¹(t))⋅──(y³(t))        ⎥\n",
       "⎢         dt        dt            dt        dt               ⎥\n",
       "⎢       ───────────────────── + ─────────────────────        ⎥\n",
       "⎣             tan(y²(t))                y¹(t)                ⎦"
      ]
     },
     "execution_count": 46,
     "metadata": {},
     "output_type": "execute_result"
    }
   ],
   "source": [
    "abs_deriv = cov_deriv * T\n",
    "abs_deriv = expand(abs_deriv)\n",
    "#abs_deriv_phys_1 = abs_deriv[0]\n",
    "#abs_deriv_phys_2 = y__1*abs_deriv[1]\n",
    "#abs_deriv_phys_3 = y__1*sin(y__2)*abs_deriv[2]\n",
    "#abs_deriv = Matrix([abs_deriv_phys_1,abs_deriv_phys_2,abs_deriv_phys_3])\n",
    "expand(expand_trig(abs_deriv))"
   ]
  },
  {
   "cell_type": "markdown",
   "metadata": {},
   "source": [
    "This agrees with the above hand calculation except that the trigonometric term in the 2nd component is the half angle formulae, this can be changed, but the form is equivalent."
   ]
  },
  {
   "cell_type": "code",
   "execution_count": 47,
   "metadata": {},
   "outputs": [
    {
     "data": {
      "text/latex": [
       "$$\\left[\\begin{matrix}- \\operatorname{y^{1}}{\\left (t \\right )} \\sin^{2}{\\left (\\operatorname{y^{2}}{\\left (t \\right )} \\right )} \\left(\\frac{d}{d t} \\operatorname{y^{3}}{\\left (t \\right )}\\right)^{2} - \\operatorname{y^{1}}{\\left (t \\right )} \\left(\\frac{d}{d t} \\operatorname{y^{2}}{\\left (t \\right )}\\right)^{2} + \\frac{d^{2}}{d t^{2}}  \\operatorname{y^{1}}{\\left (t \\right )}\\\\- \\sin{\\left (\\operatorname{y^{2}}{\\left (t \\right )} \\right )} \\cos{\\left (\\operatorname{y^{2}}{\\left (t \\right )} \\right )} \\left(\\frac{d}{d t} \\operatorname{y^{3}}{\\left (t \\right )}\\right)^{2} + \\frac{d^{2}}{d t^{2}}  \\operatorname{y^{2}}{\\left (t \\right )} + \\frac{2 \\frac{d}{d t} \\operatorname{y^{1}}{\\left (t \\right )}}{\\operatorname{y^{1}}{\\left (t \\right )}} \\frac{d}{d t} \\operatorname{y^{2}}{\\left (t \\right )}\\\\\\frac{d^{2}}{d t^{2}}  \\operatorname{y^{3}}{\\left (t \\right )} + \\frac{2 \\frac{d}{d t} \\operatorname{y^{2}}{\\left (t \\right )} \\frac{d}{d t} \\operatorname{y^{3}}{\\left (t \\right )}}{\\tan{\\left (\\operatorname{y^{2}}{\\left (t \\right )} \\right )}} + \\frac{2 \\frac{d}{d t} \\operatorname{y^{1}}{\\left (t \\right )}}{\\operatorname{y^{1}}{\\left (t \\right )}} \\frac{d}{d t} \\operatorname{y^{3}}{\\left (t \\right )}\\end{matrix}\\right]$$"
      ],
      "text/plain": [
       "⎡                                  2                    2     2           ⎤\n",
       "⎢              2        ⎛d        ⎞          ⎛d        ⎞     d            ⎥\n",
       "⎢   - y¹(t)⋅sin (y²(t))⋅⎜──(y³(t))⎟  - y¹(t)⋅⎜──(y²(t))⎟  + ───(y¹(t))    ⎥\n",
       "⎢                       ⎝dt       ⎠          ⎝dt       ⎠      2           ⎥\n",
       "⎢                                                           dt            ⎥\n",
       "⎢                                                                         ⎥\n",
       "⎢                                                      d         d        ⎥\n",
       "⎢                                   2     2          2⋅──(y¹(t))⋅──(y²(t))⎥\n",
       "⎢                        ⎛d        ⎞     d             dt        dt       ⎥\n",
       "⎢- sin(y²(t))⋅cos(y²(t))⋅⎜──(y³(t))⎟  + ───(y²(t)) + ─────────────────────⎥\n",
       "⎢                        ⎝dt       ⎠      2                  y¹(t)        ⎥\n",
       "⎢                                       dt                                ⎥\n",
       "⎢                                                                         ⎥\n",
       "⎢                      d         d             d         d                ⎥\n",
       "⎢         2          2⋅──(y²(t))⋅──(y³(t))   2⋅──(y¹(t))⋅──(y³(t))        ⎥\n",
       "⎢        d             dt        dt            dt        dt               ⎥\n",
       "⎢       ───(y³(t)) + ───────────────────── + ─────────────────────        ⎥\n",
       "⎢         2                tan(y²(t))                y¹(t)                ⎥\n",
       "⎣       dt                                                                ⎦"
      ]
     },
     "execution_count": 47,
     "metadata": {},
     "output_type": "execute_result"
    }
   ],
   "source": [
    "abs_accel = absolute_acceleration(DY,D2Y,gamma_2,3)\n",
    "expand_trig(abs_accel)"
   ]
  },
  {
   "cell_type": "code",
   "execution_count": 48,
   "metadata": {},
   "outputs": [
    {
     "data": {
      "text/latex": [
       "$$\\left[\\begin{matrix}- \\rho \\sin^{2}{\\left (\\theta \\right )} \\left(\\frac{d}{d t} \\phi\\right)^{2} - \\rho \\left(\\frac{d}{d t} \\theta\\right)^{2} + \\frac{d^{2}}{d t^{2}}  \\rho\\\\- \\sin{\\left (\\theta \\right )} \\cos{\\left (\\theta \\right )} \\left(\\frac{d}{d t} \\phi\\right)^{2} + \\frac{d^{2}}{d t^{2}}  \\theta + \\frac{2}{\\rho} \\frac{d}{d t} \\rho \\frac{d}{d t} \\theta\\\\\\frac{d^{2}}{d t^{2}}  \\phi + \\frac{2 \\frac{d}{d t} \\phi \\frac{d}{d t} \\theta}{\\sin{\\left (\\theta \\right )}} \\cos{\\left (\\theta \\right )} + \\frac{2}{\\rho} \\frac{d}{d t} \\phi \\frac{d}{d t} \\rho\\end{matrix}\\right]$$"
      ],
      "text/plain": [
       "⎡                      2            2     2       ⎤\n",
       "⎢          2    ⎛d    ⎞      ⎛d    ⎞     d        ⎥\n",
       "⎢   - ρ⋅sin (θ)⋅⎜──(φ)⎟  - ρ⋅⎜──(θ)⎟  + ───(ρ)    ⎥\n",
       "⎢               ⎝dt   ⎠      ⎝dt   ⎠      2       ⎥\n",
       "⎢                                       dt        ⎥\n",
       "⎢                                                 ⎥\n",
       "⎢                                      d     d    ⎥\n",
       "⎢                       2     2      2⋅──(ρ)⋅──(θ)⎥\n",
       "⎢                ⎛d    ⎞     d         dt    dt   ⎥\n",
       "⎢- sin(θ)⋅cos(θ)⋅⎜──(φ)⎟  + ───(θ) + ─────────────⎥\n",
       "⎢                ⎝dt   ⎠      2            ρ      ⎥\n",
       "⎢                           dt                    ⎥\n",
       "⎢                                                 ⎥\n",
       "⎢                    d     d         d     d      ⎥\n",
       "⎢    2      2⋅cos(θ)⋅──(φ)⋅──(θ)   2⋅──(φ)⋅──(ρ)  ⎥\n",
       "⎢   d                dt    dt        dt    dt     ⎥\n",
       "⎢  ───(φ) + ──────────────────── + ─────────────  ⎥\n",
       "⎢    2             sin(θ)                ρ        ⎥\n",
       "⎣  dt                                             ⎦"
      ]
     },
     "execution_count": 48,
     "metadata": {},
     "output_type": "execute_result"
    }
   ],
   "source": [
    "# putting this in more familiar notation\n",
    "c_1,c_2,c_3,s_1,s_2,s_3 = symbols('c_1,c_2,c_3,s_1,s_2,s_3')\n",
    "rho, theta, phi = symbols('rho, theta, phi')\n",
    "expand_trig(abs_accel).subs({tan(y__2):sin(y__2)/cos(y__2),y__1:rho,y__2:theta,y__3:phi})"
   ]
  },
  {
   "cell_type": "markdown",
   "metadata": {},
   "source": [
    "From calculus, I happen to know that the following term is the true acceleration in spherical coordinates for the third component ...\n",
    "\n",
    "$$ \\frac{1}{\\rho \\sin\\theta} \\frac{d}{dt}\\left(\\rho^2 \\sin^2\\theta \\dot{\\phi}\\right)=\\frac{1}{\\rho \\sin\\theta} \\left(\\frac{d}{dt} (\\rho^2) \\sin^2\\theta \\dot{\\phi} + \\rho^2 \\frac{d}{dt}(\\sin^2\\theta) \\dot{\\phi} + \\rho^2 \\sin^2\\theta \\ddot{\\phi} \\right)=\\frac{1}{\\rho \\sin\\theta} \\left( 2\\rho \\dot{\\rho} \\sin^2\\theta \\dot{\\phi} + 2 \\rho^2  \\sin \\theta \\cos\\theta \\dot{\\theta} \\dot{\\phi} + \\rho^2 \\sin^2\\theta \\ddot{\\phi} \\right) $$\n",
    "\n",
    "simplifying\n",
    "   \n",
    "$$= \\left( 2 \\dot{\\rho} \\sin\\theta \\dot{\\phi} + 2 \\rho \\cos\\theta \\dot{\\theta} \\dot{\\phi} + \\rho \\sin\\theta \\ddot{\\phi} \\right) $$\n",
    "\n",
    "Clearly the entire line is the same as the output above but the version above is divided throughout by $\\rho\\sin\\theta$ or multiplied by $\\frac{1}{h_3}$ ... then it also follows that the 2nd row is also multiplied by the inverse scale factor. Therefore ..."
   ]
  },
  {
   "cell_type": "code",
   "execution_count": 57,
   "metadata": {},
   "outputs": [
    {
     "data": {
      "text/latex": [
       "$$\\left[\\begin{matrix}- \\rho \\sin^{2}{\\left (\\theta \\right )} \\left(\\frac{d}{d t} \\phi\\right)^{2} - \\rho \\left(\\frac{d}{d t} \\theta\\right)^{2} + \\frac{d^{2}}{d t^{2}}  \\rho\\\\- \\rho \\sin{\\left (\\theta \\right )} \\cos{\\left (\\theta \\right )} \\left(\\frac{d}{d t} \\phi\\right)^{2} + \\rho \\frac{d^{2}}{d t^{2}}  \\theta + 2 \\frac{d}{d t} \\rho \\frac{d}{d t} \\theta\\\\\\rho \\sin{\\left (\\theta \\right )} \\frac{d^{2}}{d t^{2}}  \\phi + 2 \\rho \\cos{\\left (\\theta \\right )} \\frac{d}{d t} \\phi \\frac{d}{d t} \\theta + 2 \\sin{\\left (\\theta \\right )} \\frac{d}{d t} \\phi \\frac{d}{d t} \\rho\\end{matrix}\\right]$$"
      ],
      "text/plain": [
       "⎡                             2            2     2              ⎤\n",
       "⎢                 2    ⎛d    ⎞      ⎛d    ⎞     d               ⎥\n",
       "⎢          - ρ⋅sin (θ)⋅⎜──(φ)⎟  - ρ⋅⎜──(θ)⎟  + ───(ρ)           ⎥\n",
       "⎢                      ⎝dt   ⎠      ⎝dt   ⎠      2              ⎥\n",
       "⎢                                              dt               ⎥\n",
       "⎢                                                               ⎥\n",
       "⎢                              2       2                        ⎥\n",
       "⎢                       ⎛d    ⎞       d         d     d         ⎥\n",
       "⎢     - ρ⋅sin(θ)⋅cos(θ)⋅⎜──(φ)⎟  + ρ⋅───(θ) + 2⋅──(ρ)⋅──(θ)     ⎥\n",
       "⎢                       ⎝dt   ⎠        2        dt    dt        ⎥\n",
       "⎢                                    dt                         ⎥\n",
       "⎢                                                               ⎥\n",
       "⎢           2                                                   ⎥\n",
       "⎢          d                  d     d                d     d    ⎥\n",
       "⎢ρ⋅sin(θ)⋅───(φ) + 2⋅ρ⋅cos(θ)⋅──(φ)⋅──(θ) + 2⋅sin(θ)⋅──(φ)⋅──(ρ)⎥\n",
       "⎢           2                 dt    dt               dt    dt   ⎥\n",
       "⎣         dt                                                    ⎦"
      ]
     },
     "execution_count": 57,
     "metadata": {},
     "output_type": "execute_result"
    }
   ],
   "source": [
    "abs_accel_corrected=zeros(3,1)\n",
    "\n",
    "scale_factors = Matrix([1, y__1, (y__1*sin(y__2)) ])\n",
    "\n",
    "for i in range(0,3):\n",
    "    abs_accel_corrected[i] = scale_factors[i] *abs_accel[i]\n",
    "\n",
    "\n",
    "expand_trig(expand(abs_accel_corrected)).subs({tan(y__2):sin(y__2)/cos(y__2),y__1:rho,y__2:theta,y__3:phi})"
   ]
  },
  {
   "cell_type": "markdown",
   "metadata": {},
   "source": [
    "### And this gives the result as expected, and as it should be. "
   ]
  },
  {
   "cell_type": "code",
   "execution_count": 27,
   "metadata": {},
   "outputs": [
    {
     "data": {
      "text/latex": [
       "$$\\left[\\begin{matrix}\\sin{\\left (\\operatorname{y^{2}}{\\left (t \\right )} \\right )} \\cos{\\left (\\operatorname{y^{3}}{\\left (t \\right )} \\right )} & \\operatorname{y^{1}}{\\left (t \\right )} \\cos{\\left (\\operatorname{y^{2}}{\\left (t \\right )} \\right )} \\cos{\\left (\\operatorname{y^{3}}{\\left (t \\right )} \\right )} & - \\operatorname{y^{1}}{\\left (t \\right )} \\sin{\\left (\\operatorname{y^{2}}{\\left (t \\right )} \\right )} \\sin{\\left (\\operatorname{y^{3}}{\\left (t \\right )} \\right )}\\\\\\sin{\\left (\\operatorname{y^{2}}{\\left (t \\right )} \\right )} \\sin{\\left (\\operatorname{y^{3}}{\\left (t \\right )} \\right )} & \\operatorname{y^{1}}{\\left (t \\right )} \\sin{\\left (\\operatorname{y^{3}}{\\left (t \\right )} \\right )} \\cos{\\left (\\operatorname{y^{2}}{\\left (t \\right )} \\right )} & \\operatorname{y^{1}}{\\left (t \\right )} \\sin{\\left (\\operatorname{y^{2}}{\\left (t \\right )} \\right )} \\cos{\\left (\\operatorname{y^{3}}{\\left (t \\right )} \\right )}\\\\\\cos{\\left (\\operatorname{y^{2}}{\\left (t \\right )} \\right )} & - \\operatorname{y^{1}}{\\left (t \\right )} \\sin{\\left (\\operatorname{y^{2}}{\\left (t \\right )} \\right )} & 0\\end{matrix}\\right]$$"
      ],
      "text/plain": [
       "⎡sin(y²(t))⋅cos(y³(t))  y¹(t)⋅cos(y²(t))⋅cos(y³(t))  -y¹(t)⋅sin(y²(t))⋅sin(y³(\n",
       "⎢                                                                             \n",
       "⎢sin(y²(t))⋅sin(y³(t))  y¹(t)⋅sin(y³(t))⋅cos(y²(t))  y¹(t)⋅sin(y²(t))⋅cos(y³(t\n",
       "⎢                                                                             \n",
       "⎣     cos(y²(t))             -y¹(t)⋅sin(y²(t))                    0           \n",
       "\n",
       "t))⎤\n",
       "   ⎥\n",
       ")) ⎥\n",
       "   ⎥\n",
       "   ⎦"
      ]
     },
     "execution_count": 27,
     "metadata": {},
     "output_type": "execute_result"
    }
   ],
   "source": [
    "J_1"
   ]
  },
  {
   "cell_type": "markdown",
   "metadata": {},
   "source": [
    "so the components of the covariant derivative in the rectangular system are (using the Jacobian) ...\n",
    "\n",
    "$$\\mathbf a\\cdot\\mathbf i= s_2 c_3( -y^1 \\left(\\dot{y}^2\\right)^2  -y^1 (s_2)^2 \\left(\\dot{y}^3 \\right)^2) + y^1 c_2 c_3(2 \\dot{y}^1 \\dot{y}^2  -y^1 s_2 c_2 \\left(\\dot{y}^3\\right)^2) - y^1 s_2 s_3 (2 s_2 \\dot{y}^1 \\dot{y}^3 + 2 y^1 c_2 \\dot{y}^2 \\dot{y}^3)$$\n",
    "\n"
   ]
  },
  {
   "cell_type": "markdown",
   "metadata": {},
   "source": [
    "First simplifying the $\\mathbf a\\cdot \\mathbf i$ above \n",
    "   \n",
    "$$\\mathbf a\\cdot\\mathbf i= y^1( - s_2 c_3 \\left(\\dot{y}^2\\right)^2  -  s_2 c_3 (s_2)^2 \\left(\\dot{y}^3 \\right)^2) + y^1 (2 c_2 c_3 \\dot{y}^1 \\dot{y}^2  -y^1  c_3 s_2 (c_2)^2 \\left(\\dot{y}^3\\right)^2) - y^1 (2  s_3 (s_2)^2 \\dot{y}^1 \\dot{y}^3 + 2 y^1 s_2 s_3 c_2 \\dot{y}^2 \\dot{y}^3)$$\n",
    "\n",
    "$$\\mathbf a\\cdot\\mathbf i=  -y^1 s_2 c_3 \\left(\\dot{y}^2\\right)^2  -  y^1 s_2 c_3 (s_2)^2 \\left(\\dot{y}^3 \\right)^2 + 2 y^1 c_2 c_3 \\dot{y}^1 \\dot{y}^2  -(y^1)^2  c_3 s_2 (c_2)^2 \\left(\\dot{y}^3\\right)^2 -  2 y^1 s_3 (s_2)^2 \\dot{y}^1 \\dot{y}^3 + 2 (y^1)^2 s_2 s_3 c_2 \\dot{y}^2 \\dot{y}^3$$\n",
    "\n",
    "The terms $y^1 s_2 c_3 (s_2)^2 \\left(\\dot{y}^3 \\right)^2$ and $(y^1)^2  c_3 s_2 (c_2)^2 \\left(\\dot{y}^3\\right)^2$ will not factorize with the identity $c_2^2 + s_2^2 = 1$ and so they are obviously not the same as the equation derived earlier.\n",
    "\n",
    "Taking the term for $\\ddot{x}^1$ derived in the section on velocity in curvilinear coordinates,\n",
    "   \n",
    "$$\\ddot{y}^1 s_2 c_3 +  2 \\dot{y}^1 \\dot{y}^2 c_2 c_3 - 2\\dot{y}^1 \\dot{y}^3 s_2 s_3   + y^1 \\ddot{y}^2 c_2 c_3 - y^1 (\\dot{y}^2)^2 s_2 c_3 -  2 y^1 \\dot{y}^3 \\dot{y}^2 c_2 s_3  - y^1 \\ddot{y}^3 s_2  s_3 - y^1 (\\dot{y}^3)^2 s_2  c_3  \\qquad \\mathbf (A)$$\n",
    "   \n",
    " and setting the second derivative of the y coordinate to zero ...\n",
    " \n",
    "$$  2 \\dot{y}^1 \\dot{y}^2 c_2 c_3 - 2\\dot{y}^1 \\dot{y}^3 s_2 s_3   - y^1 (\\dot{y}^2)^2 s_2 c_3 -  2 y^1 \\dot{y}^3 \\dot{y}^2 c_2 s_3   - y^1 (\\dot{y}^3)^2 s_2  c_3  \\qquad \\mathbf (B)$$\n",
    "\n",
    " "
   ]
  },
  {
   "cell_type": "markdown",
   "metadata": {},
   "source": [
    "They are not the same ...\n",
    "\n",
    "> ### Note to self: but the velocity was *contravariant* so they probably *should* look like this\n",
    "   \n",
    "$$\\mathbf a\\cdot\\mathbf i= s_2 c_3( -y^1 \\left(\\dot{y}^2\\right)^2  -y^1 (s_2)^2 \\left(\\dot{y}^3 \\right)^2) +  s_2 s_3(2 \\dot{y}^1 \\dot{y}^2  -y^1 s_2  \\left(\\dot{y}^3\\right)^2) + c_2 (2 s_2 \\dot{y}^1 \\dot{y}^3 + 2 y^1 c_2 \\dot{y}^2 \\dot{y}^3)$$"
   ]
  },
  {
   "cell_type": "markdown",
   "metadata": {},
   "source": [
    "So now I have to check the absoute derivative contravariant terms (before multiplication by $\\sqrt{g_{ii}}$ and I the result follows ... "
   ]
  },
  {
   "cell_type": "markdown",
   "metadata": {},
   "source": [
    "$$\\mathbf a = ( -y^1 \\left(\\dot{y}^2\\right)^2  -y^1 (s_2)^2 \\left(\\dot{y}^3 \\right)^2) \\mathbf e_1+ (\\frac{2}{y^1} \\dot{y}^1 \\dot{y}^2  - s_2 c_2 \\left(\\dot{y}^3\\right)^2)\\mathbf e_2 +  (\\frac{2}{y^1} \\dot{y}^1 \\dot{y}^3 + 2 \\frac{ c_2}{s_2} \\dot{y}^2 \\dot{y}^3)\\mathbf e_3$$"
   ]
  },
  {
   "cell_type": "markdown",
   "metadata": {},
   "source": [
    "$$\\ddot{x}^1 = \\mathbf a\\cdot\\mathbf i = \\mathbf J_{11} \\mathbf a\\cdot \\mathbf e_1 +\\mathbf J_{12} \\mathbf a\\cdot \\mathbf e_2 +\\mathbf J_{13} \\mathbf a\\cdot \\mathbf e_3 $$\n",
    "so\n",
    "\n",
    "$$\\ddot{x}^1=  (s_2 c_3)( -y^1 \\left(\\dot{y}^2\\right)^2  -y^1 (s_2)^2 \\left(\\dot{y}^3 \\right)^2) + (y^1c_2 c_3)(\\frac{2}{y^1} \\dot{y}^1 \\dot{y}^2  - s_2 c_2 \\left(\\dot{y}^3\\right)^2) +(-y^1 s_2 s_3)  (\\frac{2}{y^1} \\dot{y}^1 \\dot{y}^3 + 2 \\frac{ c_2}{s_2} \\dot{y}^2 \\dot{y}^3)$$"
   ]
  },
  {
   "cell_type": "markdown",
   "metadata": {},
   "source": [
    "$$\\ddot{x}^1 = ( -y^1 s_2 c_3 \\left(\\dot{y}^2\\right)^2  -y^1 s_2 c_3 (s_2)^2 \\left(\\dot{y}^3 \\right)^2) + (2c_2 c_3 \\dot{y}^1 \\dot{y}^2  - y^1  c_3 s_2 (c_2)^2 \\left(\\dot{y}^3\\right)^2) +  ( -2 s_2 s_3\\dot{y}^1 \\dot{y}^3 - 2 y^1 s_3 c_2 \\dot{y}^2 \\dot{y}^3)$$\n",
    "   \n",
    "and the following terms factorize and cancel since $ (s_2)^2 +(c_2)^2 = 1$ ...\n",
    "\n",
    "$$-y^1 s_2 c_3 (s_2)^2 \\left(\\dot{y}^3 \\right)^2- y^1  c_3 s_2 (c_2)^2 \\left(\\dot{y}^3\\right)^2 = -y^1 s_2 c_3  \\left(\\dot{y}^3 \\right)^2((s_2)^2 +  (c_2)^2)   $$\n",
    "   \n",
    "and we are left with the same resultant tensor from the derivation in the section on velocity and acceleration in curvilinear coordinates (compare  to equation B in this section or (3.72)).\n",
    "\n",
    "$$ -y^1 s_2 c_3 (\\dot{y}^2)^2  -y^1 s_2 c_3 (\\dot{y}^3 )^2 + 2 c_2 c_3 \\dot{y}^1 \\dot{y}^2    -2 s_2 s_3\\dot{y}^1 \\dot{y}^3 - 2 y^1 s_3 c_2 \\dot{y}^2 \\dot{y}^3 $$\n",
    "   \n",
    "Therefore the hand calculated in the 2nd notebook *should* include the multiplication by the scale factors."
   ]
  },
  {
   "cell_type": "code",
   "execution_count": 28,
   "metadata": {},
   "outputs": [
    {
     "data": {
      "text/latex": [
       "$$\\left[\\begin{matrix}- c_{2}^{2} c_{3} s_{2} \\operatorname{y^{1}}{\\left (t \\right )} \\left(\\frac{d}{d t} \\operatorname{y^{3}}{\\left (t \\right )}\\right)^{2} + 2 c_{2} c_{3} \\frac{d}{d t} \\operatorname{y^{1}}{\\left (t \\right )} \\frac{d}{d t} \\operatorname{y^{2}}{\\left (t \\right )} - 2 c_{2} s_{3} \\operatorname{y^{1}}{\\left (t \\right )} \\frac{d}{d t} \\operatorname{y^{2}}{\\left (t \\right )} \\frac{d}{d t} \\operatorname{y^{3}}{\\left (t \\right )} - c_{3} s_{2}^{3} \\operatorname{y^{1}}{\\left (t \\right )} \\left(\\frac{d}{d t} \\operatorname{y^{3}}{\\left (t \\right )}\\right)^{2} - c_{3} s_{2} \\operatorname{y^{1}}{\\left (t \\right )} \\left(\\frac{d}{d t} \\operatorname{y^{2}}{\\left (t \\right )}\\right)^{2} - 2 s_{2} s_{3} \\frac{d}{d t} \\operatorname{y^{1}}{\\left (t \\right )} \\frac{d}{d t} \\operatorname{y^{3}}{\\left (t \\right )}\\\\- c_{2}^{2} s_{2} s_{3} \\operatorname{y^{1}}{\\left (t \\right )} \\left(\\frac{d}{d t} \\operatorname{y^{3}}{\\left (t \\right )}\\right)^{2} + 2 c_{2} c_{3} \\operatorname{y^{1}}{\\left (t \\right )} \\frac{d}{d t} \\operatorname{y^{2}}{\\left (t \\right )} \\frac{d}{d t} \\operatorname{y^{3}}{\\left (t \\right )} + 2 c_{2} s_{3} \\frac{d}{d t} \\operatorname{y^{1}}{\\left (t \\right )} \\frac{d}{d t} \\operatorname{y^{2}}{\\left (t \\right )} + 2 c_{3} s_{2} \\frac{d}{d t} \\operatorname{y^{1}}{\\left (t \\right )} \\frac{d}{d t} \\operatorname{y^{3}}{\\left (t \\right )} - s_{2}^{3} s_{3} \\operatorname{y^{1}}{\\left (t \\right )} \\left(\\frac{d}{d t} \\operatorname{y^{3}}{\\left (t \\right )}\\right)^{2} - s_{2} s_{3} \\operatorname{y^{1}}{\\left (t \\right )} \\left(\\frac{d}{d t} \\operatorname{y^{2}}{\\left (t \\right )}\\right)^{2}\\\\- c_{2} \\operatorname{y^{1}}{\\left (t \\right )} \\left(\\frac{d}{d t} \\operatorname{y^{2}}{\\left (t \\right )}\\right)^{2} - 2 s_{2} \\frac{d}{d t} \\operatorname{y^{1}}{\\left (t \\right )} \\frac{d}{d t} \\operatorname{y^{2}}{\\left (t \\right )}\\end{matrix}\\right]$$"
      ],
      "text/plain": [
       "⎡                             2                                               \n",
       "⎢    2             ⎛d        ⎞            d         d                         \n",
       "⎢- c₂ ⋅c₃⋅s₂⋅y¹(t)⋅⎜──(y³(t))⎟  + 2⋅c₂⋅c₃⋅──(y¹(t))⋅──(y²(t)) - 2⋅c₂⋅s₃⋅y¹(t)⋅\n",
       "⎢                  ⎝dt       ⎠            dt        dt                        \n",
       "⎢                                                                             \n",
       "⎢                             2                                               \n",
       "⎢    2             ⎛d        ⎞                  d         d                   \n",
       "⎢- c₂ ⋅s₂⋅s₃⋅y¹(t)⋅⎜──(y³(t))⎟  + 2⋅c₂⋅c₃⋅y¹(t)⋅──(y²(t))⋅──(y³(t)) + 2⋅c₂⋅s₃⋅\n",
       "⎢                  ⎝dt       ⎠                  dt        dt                  \n",
       "⎢                                                                             \n",
       "⎢                                                                             \n",
       "⎢                                                                            ⎛\n",
       "⎢                                                                 - c₂⋅y¹(t)⋅⎜\n",
       "⎣                                                                            ⎝\n",
       "\n",
       "                                              2                          2    \n",
       "d         d                3       ⎛d        ⎞                ⎛d        ⎞     \n",
       "──(y²(t))⋅──(y³(t)) - c₃⋅s₂ ⋅y¹(t)⋅⎜──(y³(t))⎟  - c₃⋅s₂⋅y¹(t)⋅⎜──(y²(t))⎟  - 2\n",
       "dt        dt                       ⎝dt       ⎠                ⎝dt       ⎠     \n",
       "                                                                              \n",
       "                                                                            2 \n",
       "d         d                   d         d             3          ⎛d        ⎞  \n",
       "──(y¹(t))⋅──(y²(t)) + 2⋅c₃⋅s₂⋅──(y¹(t))⋅──(y³(t)) - s₂ ⋅s₃⋅y¹(t)⋅⎜──(y³(t))⎟  \n",
       "dt        dt                  dt        dt                       ⎝dt       ⎠  \n",
       "                                                                              \n",
       "          2                                                                   \n",
       "d        ⎞         d         d                                                \n",
       "──(y²(t))⎟  - 2⋅s₂⋅──(y¹(t))⋅──(y²(t))                                        \n",
       "dt       ⎠         dt        dt                                               \n",
       "\n",
       "                          ⎤\n",
       "       d         d        ⎥\n",
       "⋅s₂⋅s₃⋅──(y¹(t))⋅──(y³(t))⎥\n",
       "       dt        dt       ⎥\n",
       "                          ⎥\n",
       "                         2⎥\n",
       "              ⎛d        ⎞ ⎥\n",
       "- s₂⋅s₃⋅y¹(t)⋅⎜──(y²(t))⎟ ⎥\n",
       "              ⎝dt       ⎠ ⎥\n",
       "                          ⎥\n",
       "                          ⎥\n",
       "                          ⎥\n",
       "                          ⎥\n",
       "                          ⎦"
      ]
     },
     "execution_count": 28,
     "metadata": {},
     "output_type": "execute_result"
    }
   ],
   "source": [
    "accel_in_x0 = (expand_trig(trigsimp(J_1 * abs_deriv)))\n",
    "accel_in_x = accel_in_x0.subs({tan(y__1):s_1/c_1,tan(y__2):s_2/c_2,tan(y__3):s_3/c_3}) \n",
    "accel_in_x = accel_in_x.subs({sin(y__1):s_1,sin(y__2):s_2,sin(y__3):s_3 })\n",
    "accel_in_x = accel_in_x.subs({cos(y__1):c_1,cos(y__2):c_2,cos(y__3):c_3})\n",
    "accel_in_x = expand(accel_in_x)\n",
    "\n",
    "wn1 = Wild('wn1')\n",
    "#>>> collect(a*x**y - b*x**y, w**y)\n",
    "#accel_in_x =accel_in_x.subs( {wn1*s_3**2 + wn1*c_3**2: wn1})\n",
    "ax1= collect(accel_in_x[0], wn1*(sin(y__2)**2 + cos(y__2)**2))\n",
    "accel_in_x"
   ]
  },
  {
   "cell_type": "code",
   "execution_count": 29,
   "metadata": {},
   "outputs": [
    {
     "data": {
      "image/png": "[encoded data removed]",
      "text/latex": [
       "$$- c_{2}^{2} c_{3} s_{2} \\operatorname{y^{1}}{\\left (t \\right )} \\left(\\frac{d}{d t} \\operatorname{y^{3}}{\\left (t \\right )}\\right)^{2} + 2 c_{2} c_{3} \\frac{d}{d t} \\operatorname{y^{1}}{\\left (t \\right )} \\frac{d}{d t} \\operatorname{y^{2}}{\\left (t \\right )} - 2 c_{2} s_{3} \\operatorname{y^{1}}{\\left (t \\right )} \\frac{d}{d t} \\operatorname{y^{2}}{\\left (t \\right )} \\frac{d}{d t} \\operatorname{y^{3}}{\\left (t \\right )} - c_{3} s_{2}^{3} \\operatorname{y^{1}}{\\left (t \\right )} \\left(\\frac{d}{d t} \\operatorname{y^{3}}{\\left (t \\right )}\\right)^{2} - c_{3} s_{2} \\operatorname{y^{1}}{\\left (t \\right )} \\left(\\frac{d}{d t} \\operatorname{y^{2}}{\\left (t \\right )}\\right)^{2} - 2 s_{2} s_{3} \\frac{d}{d t} \\operatorname{y^{1}}{\\left (t \\right )} \\frac{d}{d t} \\operatorname{y^{3}}{\\left (t \\right )}$$"
      ],
      "text/plain": [
       "                             2                                                \n",
       "    2             ⎛d        ⎞            d         d                         d\n",
       "- c₂ ⋅c₃⋅s₂⋅y¹(t)⋅⎜──(y³(t))⎟  + 2⋅c₂⋅c₃⋅──(y¹(t))⋅──(y²(t)) - 2⋅c₂⋅s₃⋅y¹(t)⋅─\n",
       "                  ⎝dt       ⎠            dt        dt                        d\n",
       "\n",
       "                                             2                          2     \n",
       "         d                3       ⎛d        ⎞                ⎛d        ⎞      \n",
       "─(y²(t))⋅──(y³(t)) - c₃⋅s₂ ⋅y¹(t)⋅⎜──(y³(t))⎟  - c₃⋅s₂⋅y¹(t)⋅⎜──(y²(t))⎟  - 2⋅\n",
       "t        dt                       ⎝dt       ⎠                ⎝dt       ⎠      \n",
       "\n",
       "                         \n",
       "      d         d        \n",
       "s₂⋅s₃⋅──(y¹(t))⋅──(y³(t))\n",
       "      dt        dt       "
      ]
     },
     "execution_count": 29,
     "metadata": {},
     "output_type": "execute_result"
    }
   ],
   "source": [
    "(ax1)"
   ]
  },
  {
   "cell_type": "code",
   "execution_count": 30,
   "metadata": {
    "collapsed": true
   },
   "outputs": [],
   "source": [
    "# substitute the initial values of the tangential acceleration : zero\n",
    "accel_in_x20 = (expand_trig(trigsimp(J_1 * abs_accel))).subs({diff(y__1,t,t):0,diff(y__2,t,t):0,diff(y__3,t,t):0})\n",
    "accel_in_x2 = expand(accel_in_x20)\n",
    "accel_in_x2 = accel_in_x2.subs({tan(y__1):s_1/c_1,tan(y__2):s_2/c_2,tan(y__3):s_3/c_3}) \n",
    "accel_in_x2 = accel_in_x2.subs({sin(y__1):s_1,sin(y__2):s_2,sin(y__3):s_3 })\n",
    "accel_in_x2 = accel_in_x2.subs({cos(y__1):c_1,cos(y__2):c_2,cos(y__3):c_3})\n",
    "accel_in_x2 = expand(accel_in_x2)"
   ]
  },
  {
   "cell_type": "code",
   "execution_count": 34,
   "metadata": {},
   "outputs": [
    {
     "data": {
      "text/latex": [
       "$$\\left[\\begin{matrix}- c_{2}^{2} c_{3} \\rho s_{2} \\left(\\frac{d}{d t} \\phi\\right)^{2} + 2 c_{2} c_{3} \\frac{d}{d t} \\rho \\frac{d}{d t} \\theta - 2 c_{2} \\rho s_{3} \\frac{d}{d t} \\phi \\frac{d}{d t} \\theta - c_{3} \\rho s_{2}^{3} \\left(\\frac{d}{d t} \\phi\\right)^{2} - c_{3} \\rho s_{2} \\left(\\frac{d}{d t} \\theta\\right)^{2} - 2 s_{2} s_{3} \\frac{d}{d t} \\phi \\frac{d}{d t} \\rho\\\\- c_{2}^{2} \\rho s_{2} s_{3} \\left(\\frac{d}{d t} \\phi\\right)^{2} + 2 c_{2} c_{3} \\rho \\frac{d}{d t} \\phi \\frac{d}{d t} \\theta + 2 c_{2} s_{3} \\frac{d}{d t} \\rho \\frac{d}{d t} \\theta + 2 c_{3} s_{2} \\frac{d}{d t} \\phi \\frac{d}{d t} \\rho - \\rho s_{2}^{3} s_{3} \\left(\\frac{d}{d t} \\phi\\right)^{2} - \\rho s_{2} s_{3} \\left(\\frac{d}{d t} \\theta\\right)^{2}\\\\- c_{2} \\rho \\left(\\frac{d}{d t} \\theta\\right)^{2} - 2 s_{2} \\frac{d}{d t} \\rho \\frac{d}{d t} \\theta\\end{matrix}\\right]$$"
      ],
      "text/plain": [
       "⎡                     2                                                       \n",
       "⎢    2         ⎛d    ⎞            d     d                 d     d             \n",
       "⎢- c₂ ⋅c₃⋅ρ⋅s₂⋅⎜──(φ)⎟  + 2⋅c₂⋅c₃⋅──(ρ)⋅──(θ) - 2⋅c₂⋅ρ⋅s₃⋅──(φ)⋅──(θ) - c₃⋅ρ⋅s\n",
       "⎢              ⎝dt   ⎠            dt    dt                dt    dt            \n",
       "⎢                                                                             \n",
       "⎢                     2                                                       \n",
       "⎢    2         ⎛d    ⎞              d     d               d     d             \n",
       "⎢- c₂ ⋅ρ⋅s₂⋅s₃⋅⎜──(φ)⎟  + 2⋅c₂⋅c₃⋅ρ⋅──(φ)⋅──(θ) + 2⋅c₂⋅s₃⋅──(ρ)⋅──(θ) + 2⋅c₃⋅s\n",
       "⎢              ⎝dt   ⎠              dt    dt              dt    dt            \n",
       "⎢                                                                             \n",
       "⎢                                                             2               \n",
       "⎢                                                      ⎛d    ⎞         d     d\n",
       "⎢                                               - c₂⋅ρ⋅⎜──(θ)⎟  - 2⋅s₂⋅──(ρ)⋅─\n",
       "⎣                                                      ⎝dt   ⎠         dt    d\n",
       "\n",
       "          2                  2                      ⎤\n",
       " 3 ⎛d    ⎞            ⎛d    ⎞            d     d    ⎥\n",
       "₂ ⋅⎜──(φ)⎟  - c₃⋅ρ⋅s₂⋅⎜──(θ)⎟  - 2⋅s₂⋅s₃⋅──(φ)⋅──(ρ)⎥\n",
       "   ⎝dt   ⎠            ⎝dt   ⎠            dt    dt   ⎥\n",
       "                                                    ⎥\n",
       "                                2                  2⎥\n",
       "  d     d           3    ⎛d    ⎞            ⎛d    ⎞ ⎥\n",
       "₂⋅──(φ)⋅──(ρ) - ρ⋅s₂ ⋅s₃⋅⎜──(φ)⎟  - ρ⋅s₂⋅s₃⋅⎜──(θ)⎟ ⎥\n",
       "  dt    dt               ⎝dt   ⎠            ⎝dt   ⎠ ⎥\n",
       "                                                    ⎥\n",
       "                                                    ⎥\n",
       "                                                    ⎥\n",
       "─(θ)                                                ⎥\n",
       "t                                                   ⎦"
      ]
     },
     "execution_count": 34,
     "metadata": {},
     "output_type": "execute_result"
    }
   ],
   "source": [
    "accel_in_x2"
   ]
  },
  {
   "cell_type": "markdown",
   "metadata": {},
   "source": [
    "$-c_2^2 c_3 s_2 y^1 (\\dot{y}^3)^2 + 2c_2 c_3 \\dot{y}^1 \\dot{y}^2 - 2c_2 s_3y^1 \\dot{y}^2\\dot{y}^3 - c_3 s_2^3 y^1(\\dot{y}^3)^2-c_3s_2 y^1(\\dot{y}^2)^2-2s_2 s_3\\dot{y}^1 \\dot{y}^3$"
   ]
  },
  {
   "cell_type": "markdown",
   "metadata": {},
   "source": [
    "$$2c_2 c_3 \\dot{y}^1 \\dot{y}^2 -(c_2^2+s_2^2) c_3 s_2 y^1 (\\dot{y}^3)^2   - 2c_2 s_3y^1 \\dot{y}^2\\dot{y}^3 -c_3s_2 y^1(\\dot{y}^2)^2-2s_2 s_3\\dot{y}^1 \\dot{y}^3$$\n",
    "and this is\n",
    "$$2c_2 c_3 \\dot{y}^1 \\dot{y}^2 - c_3 s_2 y^1 (\\dot{y}^3)^2   - 2c_2 s_3y^1 \\dot{y}^2\\dot{y}^3 -c_3s_2 y^1(\\dot{y}^2)^2-2s_2 s_3\\dot{y}^1 \\dot{y}^3$$\n",
    "\n",
    "and this is in agreement with (3.72)"
   ]
  },
  {
   "cell_type": "code",
   "execution_count": 32,
   "metadata": {},
   "outputs": [
    {
     "data": {
      "image/png": "[encoded data removed]",
      "text/latex": [
       "$$-13.5276862007924$$"
      ],
      "text/plain": [
       "-13.5276862007924"
      ]
     },
     "execution_count": 32,
     "metadata": {},
     "output_type": "execute_result"
    }
   ],
   "source": [
    "a_c_1 = accel_in_x0[0].subs({diff(y__1,t):2,diff(y__2,t):3,diff(y__3,t):2,y__1:1,y__2:1,y__3:1})\n",
    "a_c_2 = accel_in_x20[0].subs({diff(y__1,t):2,diff(y__2,t):3,diff(y__3,t):2,y__1:1,y__2:1,y__3:1})\n",
    "N(a_c_2)"
   ]
  },
  {
   "cell_type": "code",
   "execution_count": 33,
   "metadata": {},
   "outputs": [
    {
     "data": {
      "image/png": "[encoded data removed]",
      "text/latex": [
       "$$-13.5276862007924$$"
      ],
      "text/plain": [
       "-13.5276862007924"
      ]
     },
     "execution_count": 33,
     "metadata": {},
     "output_type": "execute_result"
    }
   ],
   "source": [
    "N(a_c_1)"
   ]
  },
  {
   "cell_type": "markdown",
   "metadata": {},
   "source": [
    "so, the acceleration is computed in 2 ways here ...\n",
    "   \n",
    "1) using the vector $\\mathbf T=(\\dot{y}^1,\\dot{y}^2,\\dot{y}^3)$ and taking the covariant derivative of this vector $\\nabla_r \\mathbf T^i$, then forming the absolute derivate by taking the dot product $\\delta \\mathbf T^r =\\langle\\nabla_r \\mathbf T^i, \\mathbf T^i\\rangle$. The vector $\\mathbf T^i$ is already the first derivative of the coordinate. This is convenient in this case because there aren't any tangential accelerations.\n",
    "   \n",
    "2) computing the acceleration directly by using the formula derived for acceleration above.\n",
    "   \n",
    "I would use (2) in most cases, both are in agreement with 3.72. \n",
    "\n",
    "In fact, the vector is not expressed in a way that supports the definition of the absolute derivative as the dot product of the covariant derivative with the time derivatie of the coordinate. The vector, $\\mathbf T = (\\dot{y}^1, \\dot{y}^2, \\dot{y}^3)$ is a constant velocity, the velocity is the derivative of the coordinate. Then the derivative with respect to the coordinate $\\partial_1 \\left(\\dot{y}^1\\right)= \\frac{\\partial}{\\partial y^1} \\frac{dy^1}{dt} = \\frac{d}{dt}=0$ an operator, not something physical. Therefore if the velocity were expressed in the form $v^1 = \\frac{dy^1}{dt}$, then $\\frac{dv^1}{dy^1} = \\frac{dv^1(y^1)}{dy^1}=\\frac{d}{dy^1} (v^1\\circ y^1)$ then $v^1$ is a function of $y^1$. Hence it is logical to use the equation for absolute acceleration in this case, otherwise the philosophy behind the mathematics is nonsensical. \n",
    "\n",
    "However the concept of supressing the evaluation until after the dot product will work, starting with an abstract tensor\n",
    "\n",
    "$$\\nabla_r \\mathbf T^i \\frac{dx^r}{dt} = \\left(\\frac{\\partial \\mathbf T^i}{\\partial x^r} + \\Gamma^i_{pr}\\mathbf T^p\\right)\\frac{dx^r}{dt} = \\frac{\\partial \\mathbf T^i}{\\partial x^r}\\frac{dx^r}{dt} + \\Gamma^i_{pr}\\mathbf T^p \\frac{dx^r}{dt} = \\frac{\\partial \\mathbf T^i}{\\partial t} + \\Gamma^i_{pr}\\mathbf T^p \\frac{dx^r}{dt}$$\n",
    "\n",
    "Then substituting for $\\mathbf T^p = \\frac{dx^p}{dt}$ yeilds the correct answer. So the cancelling of the $dx^r$ is performed instead of attempting to differentiate the tensor, which should be abstractly defined before substitution."
   ]
  },
  {
   "cell_type": "markdown",
   "metadata": {},
   "source": [
    "### Properties\n",
    "   \n",
    "The covariant derivative is required to have the properties that \n",
    "   \n",
    "a) it commutes with contractions \n",
    "   \n",
    "b) it reduces to the partial derivative on scalars."
   ]
  },
  {
   "cell_type": "markdown",
   "metadata": {},
   "source": [
    "### On the issue of Covariance, Contravariance and scale factors to reach physical components.\n",
    "   \n",
    "#### Case I:\n",
    "   \n",
    "If a vector is defined in the cartesian system, and is then contravariant transformed to the curvlinear system, then the physical components are obtained by multiplying the components of the vector by the scale factors. \n",
    "   \n",
    "In this case, the transformation matrix is the inverse of the Jacobian of the transform from spherical coordinates \n",
    "   \n",
    "$$\\frac{\\partial y^i}{\\partial t}=\\frac{\\partial y^i}{\\partial x^j}\\frac{\\partial x^j}{\\partial t}$$\n",
    "   \n",
    "and if the matrix $\\mathbf J = \\frac{\\partial x^i}{\\partial y^j}$ then the transform is the inverse of $\\mathbf J$. \n",
    "\n",
    "The physical components are $\\frac{\\partial y^i}{\\partial t} \\sqrt{g_{ii}}$ not summed. To transform back again, the inverse scale factors are used, then the vector is multiplied by $\\mathbf J$.\n",
    "\n",
    "#### Case II:\n",
    "\n",
    "If the vector is defined in the curvlinear system and then contravariant transformed to the cartesian system, then the physical components are obtained by multiplying the components of the vector by the inverse scale factors.\n",
    "   \n",
    "In this case, the transformation matrix is the jacobian of the transform from spherical coordinates, $\\mathbf J$ from above.\n",
    "\n",
    "$$\\frac{\\partial x^i}{\\partial t}=\\frac{\\partial x^i}{\\partial y^j}\\frac{\\partial y^j}{\\partial t}$$\n",
    "\n",
    "and the physical components are $\\frac{\\partial x^i}{\\partial t} \\sqrt{g^{ii}}$ not summed.\n",
    "\n",
    "#### Case III:\n",
    "   \n",
    "If the vector represents a quantity like the gradient, and is defined in cartesian coordinates and then covariantly transformed to the curvlinear system\n",
    "   \n",
    "$$\\frac{\\partial F}{\\partial y^i} = \\frac{\\partial F}{\\partial x^j} \\frac{\\partial x^j}{\\partial y^i}$$ \n",
    "   \n",
    "Then the quantity $\\frac{\\partial x^j}{\\partial y^i}$ represents elements from the transpose of the jacobian matrix $\\mathbf J^T$. \n",
    "   \n",
    "The physical components are then given by $\\frac{\\partial F}{\\partial y^i} \\sqrt{g^{ii}}$.\n",
    "\n",
    "#### Case IV:\n",
    "   \n",
    "If the vector represents a quantity like the gradient, and is defined in curvlinear coordinates and then covariantly transformed to the cartesian system\n",
    "   \n",
    "$$\\frac{\\partial F}{\\partial x^i} = \\frac{\\partial F}{\\partial y^j} \\frac{\\partial y^j}{\\partial x^i}$$ \n",
    "   \n",
    "Then the quantity $\\frac{\\partial x^j}{\\partial y^i}$ represents elements from the transpose of the inverse of the jacobian matrix ${\\mathbf {J}^{-1}}^T$. \n",
    "   \n",
    "The physical components are then given by $\\frac{\\partial F}{\\partial x^i} \\sqrt{g_{ii}}$.\n",
    "\n",
    "  \n",
    "### Confusion in the presence of ambiguities.\n",
    "   \n",
    "The definition of a vector with physical components in such and such a system can produce confusion as to what the actual physical components *would* be, so examples should be used that represent physical calculations to avoid confusion.\n",
    "   \n",
    "### Dot product. \n",
    "   \n",
    "The length of a vector can always be found by raising (or lowering) an index and taking a dot product.\n",
    "   \n",
    "### Deformation Gradient Tensor\n",
    "   \n",
    "The matrix $\\frac{\\partial x^i}{\\partial y^j}$ is also known in Continuum mechanics as a deformation gradient tensor and represents the physical change in dimensions of a material under strain. The strain is calculated from the change in dimension divided by the original dimension."
   ]
  },
  {
   "cell_type": "code",
   "execution_count": 58,
   "metadata": {
    "collapsed": true
   },
   "outputs": [],
   "source": [
    "v_a = Matrix([a_1,a_2,a_3])"
   ]
  },
  {
   "cell_type": "code",
   "execution_count": 59,
   "metadata": {},
   "outputs": [
    {
     "data": {
      "text/latex": [
       "$$\\left[\\begin{matrix}a_{1}\\\\a_{2}\\\\a_{3}\\end{matrix}\\right]$$"
      ],
      "text/plain": [
       "⎡a₁⎤\n",
       "⎢  ⎥\n",
       "⎢a₂⎥\n",
       "⎢  ⎥\n",
       "⎣a₃⎦"
      ]
     },
     "execution_count": 59,
     "metadata": {},
     "output_type": "execute_result"
    }
   ],
   "source": [
    "v_a"
   ]
  },
  {
   "cell_type": "code",
   "execution_count": 65,
   "metadata": {},
   "outputs": [
    {
     "data": {
      "text/latex": [
       "$$\\left[\\begin{matrix}\\sin{\\left (\\operatorname{y^{2}}{\\left (t \\right )} \\right )} \\cos{\\left (\\operatorname{y^{3}}{\\left (t \\right )} \\right )} & \\sin{\\left (\\operatorname{y^{2}}{\\left (t \\right )} \\right )} \\sin{\\left (\\operatorname{y^{3}}{\\left (t \\right )} \\right )} & \\cos{\\left (\\operatorname{y^{2}}{\\left (t \\right )} \\right )}\\\\\\frac{\\cos{\\left (\\operatorname{y^{2}}{\\left (t \\right )} \\right )}}{\\operatorname{y^{1}}{\\left (t \\right )}} \\cos{\\left (\\operatorname{y^{3}}{\\left (t \\right )} \\right )} & \\frac{\\cos{\\left (\\operatorname{y^{2}}{\\left (t \\right )} \\right )}}{\\operatorname{y^{1}}{\\left (t \\right )}} \\sin{\\left (\\operatorname{y^{3}}{\\left (t \\right )} \\right )} & - \\frac{\\sin{\\left (\\operatorname{y^{2}}{\\left (t \\right )} \\right )}}{\\operatorname{y^{1}}{\\left (t \\right )}}\\\\- \\frac{\\sin{\\left (\\operatorname{y^{3}}{\\left (t \\right )} \\right )}}{\\operatorname{y^{1}}{\\left (t \\right )} \\sin{\\left (\\operatorname{y^{2}}{\\left (t \\right )} \\right )}} & \\frac{\\cos{\\left (\\operatorname{y^{3}}{\\left (t \\right )} \\right )}}{\\operatorname{y^{1}}{\\left (t \\right )} \\sin{\\left (\\operatorname{y^{2}}{\\left (t \\right )} \\right )}} & 0\\end{matrix}\\right]$$"
      ],
      "text/plain": [
       "⎡sin(y²(t))⋅cos(y³(t))  sin(y²(t))⋅sin(y³(t))   cos(y²(t)) ⎤\n",
       "⎢                                                          ⎥\n",
       "⎢cos(y²(t))⋅cos(y³(t))  sin(y³(t))⋅cos(y²(t))  -sin(y²(t)) ⎥\n",
       "⎢─────────────────────  ─────────────────────  ────────────⎥\n",
       "⎢        y¹(t)                  y¹(t)             y¹(t)    ⎥\n",
       "⎢                                                          ⎥\n",
       "⎢    -sin(y³(t))             cos(y³(t))                    ⎥\n",
       "⎢  ────────────────       ────────────────          0      ⎥\n",
       "⎣  y¹(t)⋅sin(y²(t))       y¹(t)⋅sin(y²(t))                 ⎦"
      ]
     },
     "execution_count": 65,
     "metadata": {},
     "output_type": "execute_result"
    }
   ],
   "source": [
    "J_1_inv = simplify(J_1.inv())\n",
    "J_1_inv"
   ]
  },
  {
   "cell_type": "code",
   "execution_count": 112,
   "metadata": {},
   "outputs": [
    {
     "data": {
      "text/latex": [
       "$$\\left[\\begin{matrix}a_{1} \\sin{\\left (\\operatorname{y^{2}}{\\left (t \\right )} \\right )} \\cos{\\left (\\operatorname{y^{3}}{\\left (t \\right )} \\right )} + a_{2} \\sin{\\left (\\operatorname{y^{2}}{\\left (t \\right )} \\right )} \\sin{\\left (\\operatorname{y^{3}}{\\left (t \\right )} \\right )} + a_{3} \\cos{\\left (\\operatorname{y^{2}}{\\left (t \\right )} \\right )}\\\\\\frac{a_{1} \\cos{\\left (\\operatorname{y^{2}}{\\left (t \\right )} \\right )}}{\\operatorname{y^{1}}{\\left (t \\right )}} \\cos{\\left (\\operatorname{y^{3}}{\\left (t \\right )} \\right )} + \\frac{a_{2} \\cos{\\left (\\operatorname{y^{2}}{\\left (t \\right )} \\right )}}{\\operatorname{y^{1}}{\\left (t \\right )}} \\sin{\\left (\\operatorname{y^{3}}{\\left (t \\right )} \\right )} - \\frac{a_{3} \\sin{\\left (\\operatorname{y^{2}}{\\left (t \\right )} \\right )}}{\\operatorname{y^{1}}{\\left (t \\right )}}\\\\- \\frac{a_{1} \\sin{\\left (\\operatorname{y^{3}}{\\left (t \\right )} \\right )}}{\\operatorname{y^{1}}{\\left (t \\right )} \\sin{\\left (\\operatorname{y^{2}}{\\left (t \\right )} \\right )}} + \\frac{a_{2} \\cos{\\left (\\operatorname{y^{3}}{\\left (t \\right )} \\right )}}{\\operatorname{y^{1}}{\\left (t \\right )} \\sin{\\left (\\operatorname{y^{2}}{\\left (t \\right )} \\right )}}\\end{matrix}\\right]$$"
      ],
      "text/plain": [
       "⎡a₁⋅sin(y²(t))⋅cos(y³(t)) + a₂⋅sin(y²(t))⋅sin(y³(t)) + a₃⋅cos(y²(t))⎤\n",
       "⎢                                                                   ⎥\n",
       "⎢a₁⋅cos(y²(t))⋅cos(y³(t))   a₂⋅sin(y³(t))⋅cos(y²(t))   a₃⋅sin(y²(t))⎥\n",
       "⎢──────────────────────── + ──────────────────────── - ─────────────⎥\n",
       "⎢         y¹(t)                      y¹(t)                 y¹(t)    ⎥\n",
       "⎢                                                                   ⎥\n",
       "⎢                  a₁⋅sin(y³(t))      a₂⋅cos(y³(t))                 ⎥\n",
       "⎢               - ──────────────── + ────────────────               ⎥\n",
       "⎣                 y¹(t)⋅sin(y²(t))   y¹(t)⋅sin(y²(t))               ⎦"
      ]
     },
     "execution_count": 112,
     "metadata": {},
     "output_type": "execute_result"
    }
   ],
   "source": [
    "v_s = J_1_inv * v_a\n",
    "v_s"
   ]
  },
  {
   "cell_type": "code",
   "execution_count": 113,
   "metadata": {},
   "outputs": [
    {
     "data": {
      "text/latex": [
       "$$\\left[\\begin{matrix}a_{1}\\\\a_{2}\\\\a_{3}\\end{matrix}\\right]$$"
      ],
      "text/plain": [
       "⎡a₁⎤\n",
       "⎢  ⎥\n",
       "⎢a₂⎥\n",
       "⎢  ⎥\n",
       "⎣a₃⎦"
      ]
     },
     "execution_count": 113,
     "metadata": {},
     "output_type": "execute_result"
    }
   ],
   "source": [
    "simplify(J_1*v_s)"
   ]
  },
  {
   "cell_type": "code",
   "execution_count": 74,
   "metadata": {},
   "outputs": [
    {
     "data": {
      "text/latex": [
       "$$\\left[\\begin{matrix}a_{1} \\sin{\\left (\\operatorname{y^{2}}{\\left (t \\right )} \\right )} \\cos{\\left (\\operatorname{y^{3}}{\\left (t \\right )} \\right )} + a_{2} \\sin{\\left (\\operatorname{y^{2}}{\\left (t \\right )} \\right )} \\sin{\\left (\\operatorname{y^{3}}{\\left (t \\right )} \\right )} + a_{3} \\cos{\\left (\\operatorname{y^{2}}{\\left (t \\right )} \\right )}\\\\a_{1} \\cos{\\left (\\operatorname{y^{2}}{\\left (t \\right )} \\right )} \\cos{\\left (\\operatorname{y^{3}}{\\left (t \\right )} \\right )} + a_{2} \\sin{\\left (\\operatorname{y^{3}}{\\left (t \\right )} \\right )} \\cos{\\left (\\operatorname{y^{2}}{\\left (t \\right )} \\right )} - a_{3} \\sin{\\left (\\operatorname{y^{2}}{\\left (t \\right )} \\right )}\\\\- a_{1} \\sin{\\left (\\operatorname{y^{3}}{\\left (t \\right )} \\right )} + a_{2} \\cos{\\left (\\operatorname{y^{3}}{\\left (t \\right )} \\right )}\\end{matrix}\\right]$$"
      ],
      "text/plain": [
       "⎡a₁⋅sin(y²(t))⋅cos(y³(t)) + a₂⋅sin(y²(t))⋅sin(y³(t)) + a₃⋅cos(y²(t))⎤\n",
       "⎢                                                                   ⎥\n",
       "⎢a₁⋅cos(y²(t))⋅cos(y³(t)) + a₂⋅sin(y³(t))⋅cos(y²(t)) - a₃⋅sin(y²(t))⎥\n",
       "⎢                                                                   ⎥\n",
       "⎣                  -a₁⋅sin(y³(t)) + a₂⋅cos(y³(t))                   ⎦"
      ]
     },
     "execution_count": 74,
     "metadata": {},
     "output_type": "execute_result"
    }
   ],
   "source": [
    "v_s2 = zeros(3,1)\n",
    "for i in range(0,3):\n",
    "    v_s2[i,0] = simplify(scale_factors[i]*v_s[i,0])\n",
    "v_s2"
   ]
  },
  {
   "cell_type": "code",
   "execution_count": 77,
   "metadata": {},
   "outputs": [
    {
     "data": {
      "text/latex": [
       "$$\\left[\\begin{matrix}\\left(a_{1} \\sin{\\left (\\operatorname{y^{3}}{\\left (t \\right )} \\right )} - a_{2} \\cos{\\left (\\operatorname{y^{3}}{\\left (t \\right )} \\right )}\\right) \\operatorname{y^{1}}{\\left (t \\right )} \\sin{\\left (\\operatorname{y^{2}}{\\left (t \\right )} \\right )} \\sin{\\left (\\operatorname{y^{3}}{\\left (t \\right )} \\right )} + \\left(a_{1} \\sin{\\left (\\operatorname{y^{2}}{\\left (t \\right )} \\right )} \\cos{\\left (\\operatorname{y^{3}}{\\left (t \\right )} \\right )} + a_{2} \\sin{\\left (\\operatorname{y^{2}}{\\left (t \\right )} \\right )} \\sin{\\left (\\operatorname{y^{3}}{\\left (t \\right )} \\right )} + a_{3} \\cos{\\left (\\operatorname{y^{2}}{\\left (t \\right )} \\right )}\\right) \\sin{\\left (\\operatorname{y^{2}}{\\left (t \\right )} \\right )} \\cos{\\left (\\operatorname{y^{3}}{\\left (t \\right )} \\right )} + \\left(a_{1} \\cos{\\left (\\operatorname{y^{2}}{\\left (t \\right )} \\right )} \\cos{\\left (\\operatorname{y^{3}}{\\left (t \\right )} \\right )} + a_{2} \\sin{\\left (\\operatorname{y^{3}}{\\left (t \\right )} \\right )} \\cos{\\left (\\operatorname{y^{2}}{\\left (t \\right )} \\right )} - a_{3} \\sin{\\left (\\operatorname{y^{2}}{\\left (t \\right )} \\right )}\\right) \\operatorname{y^{1}}{\\left (t \\right )} \\cos{\\left (\\operatorname{y^{2}}{\\left (t \\right )} \\right )} \\cos{\\left (\\operatorname{y^{3}}{\\left (t \\right )} \\right )}\\\\- \\left(a_{1} \\sin{\\left (\\operatorname{y^{3}}{\\left (t \\right )} \\right )} - a_{2} \\cos{\\left (\\operatorname{y^{3}}{\\left (t \\right )} \\right )}\\right) \\operatorname{y^{1}}{\\left (t \\right )} \\sin{\\left (\\operatorname{y^{2}}{\\left (t \\right )} \\right )} \\cos{\\left (\\operatorname{y^{3}}{\\left (t \\right )} \\right )} + \\left(a_{1} \\sin{\\left (\\operatorname{y^{2}}{\\left (t \\right )} \\right )} \\cos{\\left (\\operatorname{y^{3}}{\\left (t \\right )} \\right )} + a_{2} \\sin{\\left (\\operatorname{y^{2}}{\\left (t \\right )} \\right )} \\sin{\\left (\\operatorname{y^{3}}{\\left (t \\right )} \\right )} + a_{3} \\cos{\\left (\\operatorname{y^{2}}{\\left (t \\right )} \\right )}\\right) \\sin{\\left (\\operatorname{y^{2}}{\\left (t \\right )} \\right )} \\sin{\\left (\\operatorname{y^{3}}{\\left (t \\right )} \\right )} + \\left(a_{1} \\cos{\\left (\\operatorname{y^{2}}{\\left (t \\right )} \\right )} \\cos{\\left (\\operatorname{y^{3}}{\\left (t \\right )} \\right )} + a_{2} \\sin{\\left (\\operatorname{y^{3}}{\\left (t \\right )} \\right )} \\cos{\\left (\\operatorname{y^{2}}{\\left (t \\right )} \\right )} - a_{3} \\sin{\\left (\\operatorname{y^{2}}{\\left (t \\right )} \\right )}\\right) \\operatorname{y^{1}}{\\left (t \\right )} \\sin{\\left (\\operatorname{y^{3}}{\\left (t \\right )} \\right )} \\cos{\\left (\\operatorname{y^{2}}{\\left (t \\right )} \\right )}\\\\\\left(a_{1} \\sin{\\left (\\operatorname{y^{2}}{\\left (t \\right )} \\right )} \\cos{\\left (\\operatorname{y^{3}}{\\left (t \\right )} \\right )} + a_{2} \\sin{\\left (\\operatorname{y^{2}}{\\left (t \\right )} \\right )} \\sin{\\left (\\operatorname{y^{3}}{\\left (t \\right )} \\right )} + a_{3} \\cos{\\left (\\operatorname{y^{2}}{\\left (t \\right )} \\right )}\\right) \\cos{\\left (\\operatorname{y^{2}}{\\left (t \\right )} \\right )} - \\left(a_{1} \\cos{\\left (\\operatorname{y^{2}}{\\left (t \\right )} \\right )} \\cos{\\left (\\operatorname{y^{3}}{\\left (t \\right )} \\right )} + a_{2} \\sin{\\left (\\operatorname{y^{3}}{\\left (t \\right )} \\right )} \\cos{\\left (\\operatorname{y^{2}}{\\left (t \\right )} \\right )} - a_{3} \\sin{\\left (\\operatorname{y^{2}}{\\left (t \\right )} \\right )}\\right) \\operatorname{y^{1}}{\\left (t \\right )} \\sin{\\left (\\operatorname{y^{2}}{\\left (t \\right )} \\right )}\\end{matrix}\\right]$$"
      ],
      "text/plain": [
       "⎡(a₁⋅sin(y³(t)) - a₂⋅cos(y³(t)))⋅y¹(t)⋅sin(y²(t))⋅sin(y³(t)) + (a₁⋅sin(y²(t))⋅\n",
       "⎢                                                                             \n",
       "⎢-(a₁⋅sin(y³(t)) - a₂⋅cos(y³(t)))⋅y¹(t)⋅sin(y²(t))⋅cos(y³(t)) + (a₁⋅sin(y²(t))\n",
       "⎢                                                                             \n",
       "⎣                                          (a₁⋅sin(y²(t))⋅cos(y³(t)) + a₂⋅sin(\n",
       "\n",
       "cos(y³(t)) + a₂⋅sin(y²(t))⋅sin(y³(t)) + a₃⋅cos(y²(t)))⋅sin(y²(t))⋅cos(y³(t)) +\n",
       "                                                                              \n",
       "⋅cos(y³(t)) + a₂⋅sin(y²(t))⋅sin(y³(t)) + a₃⋅cos(y²(t)))⋅sin(y²(t))⋅sin(y³(t)) \n",
       "                                                                              \n",
       "y²(t))⋅sin(y³(t)) + a₃⋅cos(y²(t)))⋅cos(y²(t)) - (a₁⋅cos(y²(t))⋅cos(y³(t)) + a₂\n",
       "\n",
       " (a₁⋅cos(y²(t))⋅cos(y³(t)) + a₂⋅sin(y³(t))⋅cos(y²(t)) - a₃⋅sin(y²(t)))⋅y¹(t)⋅c\n",
       "                                                                              \n",
       "+ (a₁⋅cos(y²(t))⋅cos(y³(t)) + a₂⋅sin(y³(t))⋅cos(y²(t)) - a₃⋅sin(y²(t)))⋅y¹(t)⋅\n",
       "                                                                              \n",
       "⋅sin(y³(t))⋅cos(y²(t)) - a₃⋅sin(y²(t)))⋅y¹(t)⋅sin(y²(t))                      \n",
       "\n",
       "os(y²(t))⋅cos(y³(t)) ⎤\n",
       "                     ⎥\n",
       "sin(y³(t))⋅cos(y²(t))⎥\n",
       "                     ⎥\n",
       "                     ⎦"
      ]
     },
     "execution_count": 77,
     "metadata": {},
     "output_type": "execute_result"
    }
   ],
   "source": [
    "simplify(J_1 * v_s2)"
   ]
  },
  {
   "cell_type": "code",
   "execution_count": 86,
   "metadata": {},
   "outputs": [
    {
     "data": {
      "text/latex": [
       "$$\\left[\\begin{matrix}a_{1} \\sin{\\left (\\operatorname{y^{2}}{\\left (t \\right )} \\right )} \\cos{\\left (\\operatorname{y^{3}}{\\left (t \\right )} \\right )} + a_{2} \\sin{\\left (\\operatorname{y^{2}}{\\left (t \\right )} \\right )} \\sin{\\left (\\operatorname{y^{3}}{\\left (t \\right )} \\right )} + a_{3} \\cos{\\left (\\operatorname{y^{2}}{\\left (t \\right )} \\right )}\\\\\\frac{a_{1} \\cos{\\left (\\operatorname{y^{2}}{\\left (t \\right )} \\right )}}{\\operatorname{y^{1}}{\\left (t \\right )}} \\cos{\\left (\\operatorname{y^{3}}{\\left (t \\right )} \\right )} + \\frac{a_{2} \\cos{\\left (\\operatorname{y^{2}}{\\left (t \\right )} \\right )}}{\\operatorname{y^{1}}{\\left (t \\right )}} \\sin{\\left (\\operatorname{y^{3}}{\\left (t \\right )} \\right )} - \\frac{a_{3} \\sin{\\left (\\operatorname{y^{2}}{\\left (t \\right )} \\right )}}{\\operatorname{y^{1}}{\\left (t \\right )}}\\\\- \\frac{a_{1} \\sin{\\left (\\operatorname{y^{3}}{\\left (t \\right )} \\right )}}{\\operatorname{y^{1}}{\\left (t \\right )} \\sin{\\left (\\operatorname{y^{2}}{\\left (t \\right )} \\right )}} + \\frac{a_{2} \\cos{\\left (\\operatorname{y^{3}}{\\left (t \\right )} \\right )}}{\\operatorname{y^{1}}{\\left (t \\right )} \\sin{\\left (\\operatorname{y^{2}}{\\left (t \\right )} \\right )}}\\end{matrix}\\right]$$"
      ],
      "text/plain": [
       "⎡a₁⋅sin(y²(t))⋅cos(y³(t)) + a₂⋅sin(y²(t))⋅sin(y³(t)) + a₃⋅cos(y²(t))⎤\n",
       "⎢                                                                   ⎥\n",
       "⎢a₁⋅cos(y²(t))⋅cos(y³(t))   a₂⋅sin(y³(t))⋅cos(y²(t))   a₃⋅sin(y²(t))⎥\n",
       "⎢──────────────────────── + ──────────────────────── - ─────────────⎥\n",
       "⎢         y¹(t)                      y¹(t)                 y¹(t)    ⎥\n",
       "⎢                                                                   ⎥\n",
       "⎢                  a₁⋅sin(y³(t))      a₂⋅cos(y³(t))                 ⎥\n",
       "⎢               - ──────────────── + ────────────────               ⎥\n",
       "⎣                 y¹(t)⋅sin(y²(t))   y¹(t)⋅sin(y²(t))               ⎦"
      ]
     },
     "execution_count": 86,
     "metadata": {},
     "output_type": "execute_result"
    }
   ],
   "source": [
    "v_s3 = zeros(3,1)\n",
    "for i in range(0,3):\n",
    "    v_s3[i,0] = simplify(inv_scale_factors[i]*v_s2[i,0])\n",
    "expand(v_s3)"
   ]
  },
  {
   "cell_type": "code",
   "execution_count": 83,
   "metadata": {},
   "outputs": [
    {
     "data": {
      "text/latex": [
       "$$\\left[\\begin{matrix}a_{1}\\\\a_{2}\\\\a_{3}\\end{matrix}\\right]$$"
      ],
      "text/plain": [
       "⎡a₁⎤\n",
       "⎢  ⎥\n",
       "⎢a₂⎥\n",
       "⎢  ⎥\n",
       "⎣a₃⎦"
      ]
     },
     "execution_count": 83,
     "metadata": {},
     "output_type": "execute_result"
    }
   ],
   "source": [
    "simplify(J_1 * v_s3)"
   ]
  },
  {
   "cell_type": "code",
   "execution_count": 103,
   "metadata": {},
   "outputs": [
    {
     "data": {
      "text/latex": [
       "$$\\left[\\begin{matrix}a_{1}\\\\a_{2} \\operatorname{y^{1}}{\\left (t \\right )}\\\\a_{3} \\operatorname{y^{1}}{\\left (t \\right )} \\sin{\\left (\\operatorname{y^{2}}{\\left (t \\right )} \\right )}\\end{matrix}\\right]$$"
      ],
      "text/plain": [
       "⎡        a₁         ⎤\n",
       "⎢                   ⎥\n",
       "⎢     a₂⋅y¹(t)      ⎥\n",
       "⎢                   ⎥\n",
       "⎣a₃⋅y¹(t)⋅sin(y²(t))⎦"
      ]
     },
     "execution_count": 103,
     "metadata": {},
     "output_type": "execute_result"
    }
   ],
   "source": [
    "def apply_scale_factors(v,scale_factors,size):\n",
    "    v_a2 = zeros(size,1)\n",
    "    for i in range(0,size):\n",
    "        v_a2[i,0] = simplify(scale_factors[i]*v[i,0])\n",
    "    return v_a2\n",
    "\n",
    "v_a2 = apply_scale_factors(v_a,scale_factors,3)\n",
    "v_a2"
   ]
  },
  {
   "cell_type": "code",
   "execution_count": 91,
   "metadata": {},
   "outputs": [
    {
     "data": {
      "text/latex": [
       "$$\\left[\\begin{matrix}\\left(a_{1} \\cos{\\left (\\operatorname{y^{3}}{\\left (t \\right )} \\right )} + a_{2} \\operatorname{y^{1}}{\\left (t \\right )} \\sin{\\left (\\operatorname{y^{3}}{\\left (t \\right )} \\right )} + a_{3} \\operatorname{y^{1}}{\\left (t \\right )} \\cos{\\left (\\operatorname{y^{2}}{\\left (t \\right )} \\right )}\\right) \\sin{\\left (\\operatorname{y^{2}}{\\left (t \\right )} \\right )}\\\\\\frac{a_{1} \\cos{\\left (\\operatorname{y^{2}}{\\left (t \\right )} \\right )}}{\\operatorname{y^{1}}{\\left (t \\right )}} \\cos{\\left (\\operatorname{y^{3}}{\\left (t \\right )} \\right )} + a_{2} \\sin{\\left (\\operatorname{y^{3}}{\\left (t \\right )} \\right )} \\cos{\\left (\\operatorname{y^{2}}{\\left (t \\right )} \\right )} - a_{3} \\sin^{2}{\\left (\\operatorname{y^{2}}{\\left (t \\right )} \\right )}\\\\\\frac{- a_{1} \\sin{\\left (\\operatorname{y^{3}}{\\left (t \\right )} \\right )} + a_{2} \\operatorname{y^{1}}{\\left (t \\right )} \\cos{\\left (\\operatorname{y^{3}}{\\left (t \\right )} \\right )}}{\\operatorname{y^{1}}{\\left (t \\right )} \\sin{\\left (\\operatorname{y^{2}}{\\left (t \\right )} \\right )}}\\end{matrix}\\right]$$"
      ],
      "text/plain": [
       "⎡(a₁⋅cos(y³(t)) + a₂⋅y¹(t)⋅sin(y³(t)) + a₃⋅y¹(t)⋅cos(y²(t)))⋅sin(y²(t))⎤\n",
       "⎢                                                                      ⎥\n",
       "⎢ a₁⋅cos(y²(t))⋅cos(y³(t))                                    2        ⎥\n",
       "⎢ ──────────────────────── + a₂⋅sin(y³(t))⋅cos(y²(t)) - a₃⋅sin (y²(t)) ⎥\n",
       "⎢          y¹(t)                                                       ⎥\n",
       "⎢                                                                      ⎥\n",
       "⎢                 -a₁⋅sin(y³(t)) + a₂⋅y¹(t)⋅cos(y³(t))                 ⎥\n",
       "⎢                 ────────────────────────────────────                 ⎥\n",
       "⎣                           y¹(t)⋅sin(y²(t))                           ⎦"
      ]
     },
     "execution_count": 91,
     "metadata": {},
     "output_type": "execute_result"
    }
   ],
   "source": [
    "v_s5 = simplify(J_1_inv * v_a2)\n",
    "v_s5"
   ]
  },
  {
   "cell_type": "code",
   "execution_count": 93,
   "metadata": {},
   "outputs": [
    {
     "data": {
      "text/plain": [
       "False"
      ]
     },
     "execution_count": 93,
     "metadata": {},
     "output_type": "execute_result"
    }
   ],
   "source": [
    "expand(v_s5) == expand(v_s)"
   ]
  },
  {
   "cell_type": "code",
   "execution_count": 95,
   "metadata": {},
   "outputs": [
    {
     "data": {
      "text/latex": [
       "$$\\left[\\begin{matrix}a_{1}\\\\a_{2} \\operatorname{y^{1}}{\\left (t \\right )}\\\\a_{3} \\operatorname{y^{1}}{\\left (t \\right )} \\sin{\\left (\\operatorname{y^{2}}{\\left (t \\right )} \\right )}\\end{matrix}\\right]$$"
      ],
      "text/plain": [
       "⎡        a₁         ⎤\n",
       "⎢                   ⎥\n",
       "⎢     a₂⋅y¹(t)      ⎥\n",
       "⎢                   ⎥\n",
       "⎣a₃⋅y¹(t)⋅sin(y²(t))⎦"
      ]
     },
     "execution_count": 95,
     "metadata": {},
     "output_type": "execute_result"
    }
   ],
   "source": [
    "simplify(J_1*v_s5)"
   ]
  },
  {
   "cell_type": "code",
   "execution_count": 97,
   "metadata": {},
   "outputs": [
    {
     "data": {
      "text/latex": [
       "$$\\left[\\begin{matrix}b_{1}\\\\b_{2}\\\\b_{3}\\end{matrix}\\right]$$"
      ],
      "text/plain": [
       "⎡b₁⎤\n",
       "⎢  ⎥\n",
       "⎢b₂⎥\n",
       "⎢  ⎥\n",
       "⎣b₃⎦"
      ]
     },
     "execution_count": 97,
     "metadata": {},
     "output_type": "execute_result"
    }
   ],
   "source": [
    "b_1,b_2,b_3 = symbols('b_1,b_2,b_3')\n",
    "v_b = Matrix([b_1,b_2,b_3])\n",
    "v_b"
   ]
  },
  {
   "cell_type": "code",
   "execution_count": 101,
   "metadata": {},
   "outputs": [
    {
     "data": {
      "text/latex": [
       "$$\\left[\\begin{matrix}b_{1} \\sin{\\left (\\operatorname{y^{2}}{\\left (t \\right )} \\right )} \\cos{\\left (\\operatorname{y^{3}}{\\left (t \\right )} \\right )} + b_{2} \\operatorname{y^{1}}{\\left (t \\right )} \\cos{\\left (\\operatorname{y^{2}}{\\left (t \\right )} \\right )} \\cos{\\left (\\operatorname{y^{3}}{\\left (t \\right )} \\right )} - b_{3} \\operatorname{y^{1}}{\\left (t \\right )} \\sin{\\left (\\operatorname{y^{2}}{\\left (t \\right )} \\right )} \\sin{\\left (\\operatorname{y^{3}}{\\left (t \\right )} \\right )}\\\\b_{1} \\sin{\\left (\\operatorname{y^{2}}{\\left (t \\right )} \\right )} \\sin{\\left (\\operatorname{y^{3}}{\\left (t \\right )} \\right )} + b_{2} \\operatorname{y^{1}}{\\left (t \\right )} \\sin{\\left (\\operatorname{y^{3}}{\\left (t \\right )} \\right )} \\cos{\\left (\\operatorname{y^{2}}{\\left (t \\right )} \\right )} + b_{3} \\operatorname{y^{1}}{\\left (t \\right )} \\sin{\\left (\\operatorname{y^{2}}{\\left (t \\right )} \\right )} \\cos{\\left (\\operatorname{y^{3}}{\\left (t \\right )} \\right )}\\\\b_{1} \\cos{\\left (\\operatorname{y^{2}}{\\left (t \\right )} \\right )} - b_{2} \\operatorname{y^{1}}{\\left (t \\right )} \\sin{\\left (\\operatorname{y^{2}}{\\left (t \\right )} \\right )}\\end{matrix}\\right]$$"
      ],
      "text/plain": [
       "⎡b₁⋅sin(y²(t))⋅cos(y³(t)) + b₂⋅y¹(t)⋅cos(y²(t))⋅cos(y³(t)) - b₃⋅y¹(t)⋅sin(y²(t\n",
       "⎢                                                                             \n",
       "⎢b₁⋅sin(y²(t))⋅sin(y³(t)) + b₂⋅y¹(t)⋅sin(y³(t))⋅cos(y²(t)) + b₃⋅y¹(t)⋅sin(y²(t\n",
       "⎢                                                                             \n",
       "⎣                           b₁⋅cos(y²(t)) - b₂⋅y¹(t)⋅sin(y²(t))               \n",
       "\n",
       "))⋅sin(y³(t))⎤\n",
       "             ⎥\n",
       "))⋅cos(y³(t))⎥\n",
       "             ⎥\n",
       "             ⎦"
      ]
     },
     "execution_count": 101,
     "metadata": {},
     "output_type": "execute_result"
    }
   ],
   "source": [
    "v_xa = simplify(J_1*v_b)\n",
    "v_xa"
   ]
  },
  {
   "cell_type": "code",
   "execution_count": 124,
   "metadata": {},
   "outputs": [
    {
     "data": {
      "text/latex": [
       "$$\\left[\\begin{matrix}b_{1}\\\\b_{2} \\operatorname{y^{1}}{\\left (t \\right )}\\\\b_{3} \\operatorname{y^{1}}{\\left (t \\right )} \\sin{\\left (\\operatorname{y^{2}}{\\left (t \\right )} \\right )}\\end{matrix}\\right]$$"
      ],
      "text/plain": [
       "⎡        b₁         ⎤\n",
       "⎢                   ⎥\n",
       "⎢     b₂⋅y¹(t)      ⎥\n",
       "⎢                   ⎥\n",
       "⎣b₃⋅y¹(t)⋅sin(y²(t))⎦"
      ]
     },
     "execution_count": 124,
     "metadata": {},
     "output_type": "execute_result"
    }
   ],
   "source": [
    "v_xa2 = simplify(J_1*apply_scale_factors(v_b,scale_factors,3))\n",
    "simplify(J_1_inv * expand_trig(v_xa2))"
   ]
  },
  {
   "cell_type": "code",
   "execution_count": 115,
   "metadata": {},
   "outputs": [
    {
     "data": {
      "text/latex": [
       "$$\\left[\\begin{matrix}1 & 0 & 0\\\\0 & 1 & 0\\\\0 & 0 & 1\\end{matrix}\\right]$$"
      ],
      "text/plain": [
       "⎡1  0  0⎤\n",
       "⎢       ⎥\n",
       "⎢0  1  0⎥\n",
       "⎢       ⎥\n",
       "⎣0  0  1⎦"
      ]
     },
     "execution_count": 115,
     "metadata": {},
     "output_type": "execute_result"
    }
   ],
   "source": [
    "# the inverse is both a left inverse and a right inverse.\n",
    "simplify(J_1*J_1_inv)"
   ]
  },
  {
   "cell_type": "code",
   "execution_count": 116,
   "metadata": {},
   "outputs": [
    {
     "data": {
      "text/latex": [
       "$$\\left[\\begin{matrix}1 & 0 & 0\\\\0 & 1 & 0\\\\0 & 0 & 1\\end{matrix}\\right]$$"
      ],
      "text/plain": [
       "⎡1  0  0⎤\n",
       "⎢       ⎥\n",
       "⎢0  1  0⎥\n",
       "⎢       ⎥\n",
       "⎣0  0  1⎦"
      ]
     },
     "execution_count": 116,
     "metadata": {},
     "output_type": "execute_result"
    }
   ],
   "source": [
    "simplify(J_1_inv*J_1)"
   ]
  },
  {
   "cell_type": "code",
   "execution_count": null,
   "metadata": {
    "collapsed": true
   },
   "outputs": [],
   "source": []
  }
 ],
 "metadata": {
  "kernelspec": {
   "display_name": "Python 2",
   "language": "python",
   "name": "python2"
  },
  "language_info": {
   "codemirror_mode": {
    "name": "ipython",
    "version": 2
   },
   "file_extension": ".py",
   "mimetype": "text/x-python",
   "name": "python",
   "nbconvert_exporter": "python",
   "pygments_lexer": "ipython2",
   "version": "2.7.13"
  }
 },
 "nbformat": 4,
 "nbformat_minor": 1
}
