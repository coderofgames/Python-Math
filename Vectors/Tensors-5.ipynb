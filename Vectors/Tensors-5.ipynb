{
 "cells": [
  {
   "cell_type": "markdown",
   "metadata": {},
   "source": [
    "#  Tensors "
   ]
  },
  {
   "cell_type": "markdown",
   "metadata": {},
   "source": [
    "### Derivative of a Tensor.\n",
    "   \n",
    "In a general coordinate system $x^i$ the covariant derivative with respect to $x^r$ is \n",
    "   \n",
    "$$\\nabla_r \\mathbf T_i = \\frac{\\partial \\mathbf T_i}{\\partial x^r} - \\Gamma^p_{ir} \\mathbf T_p $$\n",
    "   \n",
    "This is a tensor with covariant order 2. The quantity $\\Gamma^p_{ir}$ is a Christoffel symbol of the 2nd kind, and these are defined in terms of the Christoffel symbols of the first kind (by convention) \n",
    "   \n",
    "$$\\Gamma^p_{ir} = g^{pq}\\Gamma_{irq}$$\n",
    "   \n",
    "And the Christoffel symbols of the first kind are defined in terms of the metric...\n",
    "   \n",
    "$$\\Gamma_{abc} = \\frac{1}{2} \\left( \\frac{\\partial g_{bc}}{\\partial x^a}+\\frac{\\partial g_{ca}}{\\partial x^b}-\\frac{\\partial g_{ab}}{\\partial x^c}\\right)$$\n",
    "\n",
    "   Therefore the Christoffel symbols vanish if the metric has constant components (i.e no derivatives)."
   ]
  },
  {
   "cell_type": "markdown",
   "metadata": {},
   "source": [
    "#### Theoretical background\n",
    "   \n",
    "The covariant derivative was derived from the fact that the ordinary derivative of a covariant tensor was not a tensor, and in fact required a correction term.\n",
    "\n",
    "From set theory, a set is called connected if it is not disconnected. So if we defined the tensor $\\mathbf T^i(y)$ as tensor expressed in a  coordinate system $ \\mathscr M \\subset\\mathbb {R}^m|\\forall y \\circ (x^1,\\cdots x^n)\\to \\mathbb {R}^m $ (i.e. curvilinear) and this is a set of coordinate maps to another coordinate system $\\mathscr N \\subset \\mathbb {R}^n | \\forall x\\circ(y^1,\\cdots,y^m) \\to \\mathbb {R}^n$ and a transform $\\varphi:\\mathbf T(y)\\in \\mathscr M  \\to \\mathbf T(x) \\in \\mathscr N  $ with $m\\neq n$ not neccessarily since a curve can be a subset of a surface, then if  $\\varphi \\circ \\partial \\mathbf T(y) \\neq \\mathbf \\partial \\mathbf T(x) $ so the derivatives are two non-connected sets. \n",
    "\n",
    "If the deriative of the tensor in the y coordinates does not transform to the derivative of the tensor in x coordinates, then the union of the two derivatives form a disconnected set.\n",
    "   \n",
    "hence the christoffel symbols became known as a connection (or Riemannian connection, or Levi-Civita connection, perhaps because multiple interested parties wanted to claim to be the inventor). \n",
    "\n",
    "The torsion tensor is defined as \n",
    "\n",
    "$$ \\mathbf T^i_{jk} = \\left(\\Gamma^i_{jk} - \\Gamma^i_{kj}\\right) $$ \n",
    "   \n",
    "(or with a negative sign) and is also a tensor, however the connection coefficients are not tensors, their difference is.\n",
    "This value can also be expressed with the lie bracket \n",
    "$$[\\mathbf X,\\mathbf Y]V = \\mathbf X(\\mathbf Y(V))-\\mathbf Y(\\mathbf X(V))$$\n",
    "\n",
    "or commutator of vector vields, where of course a vector field is a function that assigns to each portion of a space a unique vector.\n",
    "   \n",
    "$$\\mathbf T(\\mathbf X, \\mathbf Y) = \\nabla_{\\mathbf X} \\mathbf Y - \\nabla_{\\mathbf Y} \\mathbf X - [\\mathbf X,\\mathbf Y]$$\n",
    "\n",
    "or equivalently\n",
    "   \n",
    "$$ \\mathbf T^i_{jk} = \\left(\\Gamma^i_{jk} - \\Gamma^i_{kj}\\right) - \\gamma^i_{jk}$$\n",
    "   \n",
    "where the $\\gamma^i_{jk}$ vanishes if the basis is holonomic (i.e. if the basis happens to have sets of coordinate vectors defined like $\\partial_i = \\frac{\\partial}{\\partial u^i}$. \n",
    "   \n",
    "Then a *torsion free* connection is a connection that has symmetry of the lower two indices of the christoffel symbols. A torsion free or metric compatible connection on a manifold with a holonomic basis and a metric has the following properties\n",
    "   \n",
    "a) Torsion Free $\\Gamma^i_{jk} = \\Gamma^i_{kj}$\n",
    "   \n",
    "b) $\\nabla_r g_{ij}=0$\n",
    "   \n",
    "The same is true for the inverse metric. Then the divergence of a contravariant vector is given by a contraction of the covariant derivative with respect to the coordinate indexed by \"r\" (apearing in $\\nabla_r $).\n",
    "\n",
    "#### Divergence\n",
    "   \n",
    "$$\\nabla_r V^r = \\partial_r V^r + \\Gamma^r_{ri}V^i$$\n",
    "   \n",
    "This is a useful property with regards to the laws of physics of continuity and consevation.\n",
    "The contracted Christoffel symbol satisfies\n",
    "   \n",
    "$$ \\Gamma^r_{ri} = \\frac{1}{\\sqrt{g}}\\partial_r \\sqrt{g}$$\n",
    "   \n",
    "where $g$ is the determinant of the metric. Therefore another formula for divergence\n",
    "   \n",
    "$$\\nabla_r V^r =  \\frac{1}{\\sqrt{g}}\\partial_r \\sqrt{g}V^i$$\n",
    "   \n",
    "and the term $\\partial_r V^r$ vanishes.\n",
    "\n",
    "#### Curl\n",
    "   \n",
    "The curl of a vector field $V_p$ is defined by $\\nabla_r V_p - \\nabla_p V_r$, also defined as $-\\epsilon^{pri}\\nabla_r V_p$.\n",
    "\n",
    "#### Gradient\n",
    "   \n",
    "The gradient of a scalar or invariant $\\Phi$, is simply the covariant derivative $\\nabla_r \\Phi = \\frac{\\partial \\Phi}{\\partial x^r}$\n",
    "\n",
    "#### Laplacian\n",
    "   \n",
    "The Laplacian of $\\Phi$ is the divergence of the covariant derivative of $\\Phi$, so\n",
    "\n",
    "$$ \\nabla^2\\Phi=  \\frac{1}{\\sqrt{g}}\\partial_r \\left(\\sqrt{g}g^{rq}\\nabla_q \\Phi\\right)$$\n",
    "\n",
    "### intuition\n",
    "   \n",
    "an intuition on the design of a torsion free connection in General Relativity is the fact that in a gravitational field an object will fall without any force causing it to spin. \n",
    "### ?\n"
   ]
  },
  {
   "cell_type": "code",
   "execution_count": 1,
   "metadata": {
    "collapsed": true
   },
   "outputs": [],
   "source": [
    "def christoffel_symbol_1(G, a, b, c, X):\n",
    "    return (S(1)/2)*(diff(G[b,c],X[a]) +diff(G[c,a],X[b])-diff(G[a,b],X[c]))\n",
    "    "
   ]
  },
  {
   "cell_type": "code",
   "execution_count": 2,
   "metadata": {},
   "outputs": [
    {
     "ename": "NameError",
     "evalue": "name 'J_1' is not defined",
     "output_type": "error",
     "traceback": [
      "\u001b[1;31m---------------------------------------------------------------------------\u001b[0m",
      "\u001b[1;31mNameError\u001b[0m                                 Traceback (most recent call last)",
      "\u001b[1;32m<ipython-input-2-0c68929875d8>\u001b[0m in \u001b[0;36m<module>\u001b[1;34m()\u001b[0m\n\u001b[1;32m----> 1\u001b[1;33m \u001b[0mmetric_spherical\u001b[0m \u001b[1;33m=\u001b[0m \u001b[0mJ_1\u001b[0m\u001b[1;33m.\u001b[0m\u001b[0mT\u001b[0m \u001b[1;33m*\u001b[0m \u001b[0mJ_1\u001b[0m\u001b[1;33m\u001b[0m\u001b[0m\n\u001b[0m",
      "\u001b[1;31mNameError\u001b[0m: name 'J_1' is not defined"
     ]
    }
   ],
   "source": [
    "metric_spherical = J_1.T * J_1"
   ]
  },
  {
   "cell_type": "code",
   "execution_count": null,
   "metadata": {
    "collapsed": true
   },
   "outputs": [],
   "source": [
    "X = Matrix([y_1, y_2, y_3])"
   ]
  },
  {
   "cell_type": "code",
   "execution_count": null,
   "metadata": {
    "scrolled": true
   },
   "outputs": [],
   "source": [
    "from sympy.matrices import *\n",
    "m = zeros(28,4)\n",
    "i,j,k,Gamma_ijk = symbols('i,j,k,Gamma_ijk')\n",
    "m[0,0]=i\n",
    "m[0,1]=j\n",
    "m[0,2]=k\n",
    "m[0,3]=Gamma_ijk\n",
    "## and to print them out you might have to unravel pythons mysteries too ...\n",
    "for a in range(0,3):\n",
    "    for b in range(0,3):\n",
    "        for c in range(0,3):\n",
    "            # puts this in matrix form with fancy text and indexing \n",
    "            m[(c*3 + b)*3 + a + 1,3]= simplify(christoffel_symbol_1(metric_spherical, a, b, c, X))\n",
    "            m[(c*3 + b)*3 + a + 1,0]=a+1\n",
    "            m[(c*3 + b)*3 + a + 1,1]=b+1\n",
    "            m[(c*3 + b)*3 + a + 1,2]=c+1\n",
    "m"
   ]
  },
  {
   "cell_type": "code",
   "execution_count": null,
   "metadata": {
    "collapsed": true
   },
   "outputs": [],
   "source": [
    "def christoffel_symbol_2(G, p, a, b, X):\n",
    "    output = 0\n",
    "    G_inv = G.inverse_ADJ()\n",
    "    for c in range(0,3):\n",
    "        output += G_inv[p,c]*(S(1)/2)*(diff(G[b,c],X[a]) +diff(G[c,a],X[b])-diff(G[a,b],X[c]))\n",
    "    return output\n",
    "\n",
    "# G is the metric\n",
    "# p is the superscript\n",
    "# a,b are the subscript indices\n",
    "# X is the set of coordinates of the metric of dimension d\n",
    "# d is the dimension of the space\n",
    "# G_inv is the optional inverse of the metric\n",
    "def christoffel_symbol_2_2(G, p, a, b, X, d, G_inv):\n",
    "    output = 0\n",
    "    if G_inv == 0:\n",
    "        G_inv = G.inverse_ADJ()\n",
    "    for c in range(0,d):\n",
    "        output += G_inv[p,c]*(S(1)/2)*(diff(G[b,c],X[a]) +diff(G[c,a],X[b])-diff(G[a,b],X[c]))\n",
    "    return output\n",
    "\n",
    "#simplify(christoffel_symbol_2(metric_spherical, 0, 2, 2, X))"
   ]
  },
  {
   "cell_type": "code",
   "execution_count": null,
   "metadata": {},
   "outputs": [],
   "source": [
    "m = zeros(28,4)\n",
    "i,j,k,Gamma_ijk = symbols('i,j,k,Gamma__i_jk')\n",
    "m[0,0]=i\n",
    "m[0,1]=j\n",
    "m[0,2]=k\n",
    "m[0,3]=Gamma_ijk\n",
    "## and to print them out you might have to unravel pythons mysteries too ...\n",
    "for a in range(0,3):\n",
    "    for b in range(0,3):\n",
    "        for c in range(0,3):\n",
    "            # puts this in matrix form with fancy text and indexing  \n",
    "            m[(c*3 + b)*3 + a + 1,3]= simplify(christoffel_symbol_2(metric_spherical, a, b, c, X))\n",
    "            m[(c*3 + b)*3 + a + 1,0]=a+1\n",
    "            m[(c*3 + b)*3 + a + 1,1]=b+1\n",
    "            m[(c*3 + b)*3 + a + 1,2]=c+1\n",
    "m"
   ]
  },
  {
   "cell_type": "code",
   "execution_count": null,
   "metadata": {},
   "outputs": [],
   "source": [
    "# alternative way of viewing Christoffel symbols of the 2nd kind\n",
    "metric_spherical = G_xy # defined above\n",
    "X = Matrix([y_1,y_2,y_3])\n",
    "\n",
    "\n",
    "def compute_christoffel_symbols(metric, d, basis, perm):\n",
    "    gamma2 = []\n",
    "    for i in range(0,d):\n",
    "        gamma2.append(zeros(d,d))\n",
    "        \n",
    "    for a in range(0,d):\n",
    "        for b in range(0,d):\n",
    "            for c in range(0,d):\n",
    "                # puts this in matrix form with fancy text and indexing\n",
    "                if perm==0:\n",
    "                    gamma2[a][b,c] = simplify(christoffel_symbol_2(metric, a, b, c, basis))\n",
    "                elif perm==1:\n",
    "                    gamma2[b][c,a] = simplify(christoffel_symbol_2(metric, a, b, c, basis))\n",
    "                elif perm==2:\n",
    "                    gamma2[c][a,b] = simplify(christoffel_symbol_2(metric, a, b, c, basis))\n",
    "                elif perm==3:\n",
    "                    gamma2[a][c,b] = simplify(christoffel_symbol_2(metric, a, b, c, basis))\n",
    "                elif perm==1:\n",
    "                    gamma2[c][b,a] = simplify(christoffel_symbol_2(metric, a, b, c, basis))\n",
    "                elif perm==2:\n",
    "                    gamma2[b][a,c] = simplify(christoffel_symbol_2(metric, a, b, c, basis))                    \n",
    "    return gamma2\n",
    "\n",
    "# this was added because the original christoffel symbol code\n",
    "# above does not extend to higher dimensions, neither does\n",
    "# the inner function christoffel_symbol_2 (see above)\n",
    "# and so\n",
    "# metric is the metric\n",
    "# d is the dimension of the space\n",
    "# basis is the basis from which the metric was derived\n",
    "# metric_inv is the optional inverse of the metric\n",
    "def compute_christoffel_symbols_2(metric, d, basis, metric_inv):\n",
    "    gamma2 = []\n",
    "    for i in range(0,d):\n",
    "        gamma2.append(zeros(d,d))\n",
    "        \n",
    "    for a in range(0,d):\n",
    "        for b in range(0,d):\n",
    "            for c in range(0,d):\n",
    "                # puts this in matrix form with fancy text and indexing\n",
    "                gamma2[a][b,c] = simplify(christoffel_symbol_2_2(metric, a, b, c, basis, d, metric_inv))\n",
    "                \n",
    "    return gamma2\n",
    "\n",
    "\n",
    "gamma2 = compute_christoffel_symbols(metric_spherical, 3, X, 0)\n",
    "gamma2[0]"
   ]
  },
  {
   "cell_type": "code",
   "execution_count": null,
   "metadata": {},
   "outputs": [],
   "source": [
    "gamma2[1]"
   ]
  },
  {
   "cell_type": "code",
   "execution_count": null,
   "metadata": {},
   "outputs": [],
   "source": [
    "gamma2[2]"
   ]
  },
  {
   "cell_type": "markdown",
   "metadata": {},
   "source": [
    "### Covariant derivative of a covariant vector\n",
    "   \n",
    "$$\\nabla_r \\mathbf T_i = \\frac{\\partial \\mathbf T_i}{\\partial x^r} - \\Gamma^p_{ir} \\mathbf T_p $$\n",
    "\n",
    "### Covariant derivative of a contravariant vector.\n",
    "   \n",
    "$$\\nabla_r \\mathbf T^i = \\frac{\\partial \\mathbf T^i}{\\partial x^r} + \\Gamma^i_{qr} \\mathbf T^q$$\n",
    "   \n",
    "> note: the difference here between this and the Covariant derivative of a covariant vector is that the free index, i, is in the superscript of the Christoffel symbol and in the former, a subscript."
   ]
  },
  {
   "cell_type": "code",
   "execution_count": null,
   "metadata": {
    "collapsed": true
   },
   "outputs": [],
   "source": [
    "def Covariant_Derivative_Covariant_Vector(T, Y, gamma2, d):\n",
    "    d_r_T_i = zeros(d,d)\n",
    "    for r in range(0,d): # free index r\n",
    "        for i in range(0,d): # free index j\n",
    "            d_r_T_i [i, r] = diff( T[i], Y[r] )\n",
    "            for p in range(0,d): # dummy index p\n",
    "        \n",
    "                # using our vector matrix X=[y_1,y_2, y_3]\n",
    "                 d_r_T_i [i, r] -= gamma2 [p][i, r]*T[p] ## perhaps one of the other gamma2 systems\n",
    "\n",
    "    return d_r_T_i\n",
    "\n",
    "def Covariant_Derivative_Contravariant_Vector(T, Y, gamma2, d):\n",
    "    d_r_T_i = zeros(d,d)\n",
    "    for r in range(0,d): # free index r\n",
    "        for i in range(0,d): # free index j\n",
    "            d_r_T_i [i, r] = diff( T[i], Y[r] )\n",
    "            for q in range(0,d): # dummy index q\n",
    "        \n",
    "                # using our vector matrix X=[y_1,y_2, y_3]\n",
    "                d_r_T_i [i, r] += gamma2 [i][q, r]*T[q] ## perhaps one of the other gamma2 systems\n",
    "            \n",
    "    return d_r_T_i"
   ]
  },
  {
   "cell_type": "markdown",
   "metadata": {},
   "source": [
    "### Rules\n",
    "\n",
    "Covariant differentiation is a linear operator, therefore \n",
    "   \n",
    "1) $ \\nabla_r (\\mathbf U + \\mathbf V) = \\nabla_r \\mathbf U + \\nabla_r \\mathbf V$ \n",
    "   \n",
    "2) outer product $\\nabla_r[\\mathbf U  \\mathbf V] = [\\nabla_r\\mathbf U \\mathbf V]+ [\\mathbf U\\nabla_r \\mathbf V]$\n",
    "   \n",
    "3) inner product $\\nabla_r(\\mathbf U\\mathbf V)=(\\nabla_r\\mathbf U \\mathbf V)+ (\\mathbf U\\nabla_r \\mathbf V)$"
   ]
  },
  {
   "cell_type": "markdown",
   "metadata": {},
   "source": [
    "\n",
    "To re-express the rule or covariant differentiation ...\n",
    "   \n",
    "$$ \\frac{\\partial \\bar{\\mathbf T}_i}{\\partial \\bar{x}^k} - \\bar{\\Gamma}^t_{ik}\\bar{\\mathbf T}_t = (\\frac{\\partial \\mathbf T_r}{\\partial x^s} - \\Gamma^t_{rs}\\mathbf T_t )\\frac{\\partial x^r}{\\partial \\bar{x}^i}\\frac{\\partial x^s}{\\partial \\bar{x}^k}$$\n",
    "\n",
    "where if the unbarred system is the cartesian system, and the barred is the spherical system, we should use the method in the code (unless I made a mistake) and to transform to the covariant derivative in the cartesian system we multiply by the $\\mathbf {\\bar{J}} = \\frac{\\partial (x^i)}{\\partial (\\bar{x}^j)} $ twice, where for convenience $ (\\mathbf J^{-1})^T = \\mathbf {\\bar{J}} $ and so $\\mathbf J = \\frac{\\partial (\\bar{x}^j)}{\\partial (x^i)}$"
   ]
  },
  {
   "cell_type": "markdown",
   "metadata": {},
   "source": [
    "When dealing with rectangular ... I followed these steps\n",
    "\n",
    "$$ \\frac{\\partial \\bar{\\mathbf T}_i}{\\partial \\bar{x}^k} - \\bar{\\Gamma}^t_{ik}\\bar{\\mathbf T}_t = (\\frac{\\partial \\mathbf T_r}{\\partial x^s} - \\Gamma^t_{rs}\\mathbf T_t )\\frac{\\partial x^r}{\\partial \\bar{x}^i}\\frac{\\partial x^s}{\\partial \\bar{x}^k}$$\n",
    "\n",
    "becomes\n",
    "\n",
    "$$ \\frac{\\partial \\bar{\\mathbf T}_i}{\\partial \\bar{x}^k} - \\bar{\\Gamma}^t_{ik}\\bar{\\mathbf T}_t = (\\frac{\\partial \\mathbf T_r}{\\partial x^s}  )\\frac{\\partial x^r}{\\partial \\bar{x}^i}\\frac{\\partial x^s}{\\partial \\bar{x}^k}$$\n",
    "\n",
    "because the right hand side is cartesian.\n",
    "\n",
    "\n",
    "$$ \\frac{\\partial \\bar{\\mathbf T}_i}{\\partial \\bar{x}^k} - \\bar{\\Gamma}^t_{ik}\\bar{\\mathbf T}_t = \\mathbf {\\bar{T}}_{ik}$$\n",
    "\n",
    "then\n",
    "\n",
    "$$ \\frac{\\partial \\bar{\\mathbf T}_i}{\\partial \\bar{x}^k}  = \\mathbf {\\bar{T}}_{ik} + \\bar{\\Gamma}^t_{ik}\\bar{\\mathbf T}_t $$"
   ]
  },
  {
   "cell_type": "markdown",
   "metadata": {},
   "source": [
    "### Covariant Derivative of a one-form\n",
    "   \n",
    "The one-form is defined above as $\\mathbf \\omega_r = a_i dx^i $ and the covariant derivative is \n",
    "   \n",
    "$$\\nabla_r \\omega_i = \\partial_r \\mathbf \\omega_i - \\Gamma^p_{ri}\\mathbf \\omega_p$$"
   ]
  },
  {
   "cell_type": "markdown",
   "metadata": {},
   "source": [
    "> Note this is the same as the covariant derivative of a covariant vector."
   ]
  },
  {
   "cell_type": "markdown",
   "metadata": {},
   "source": [
    "### Intrinsic or absolute derivative\n",
    "   \n",
    "The inner product of the covariant derivative with the tangent vector to a curve is\n",
    "   \n",
    "   $$\\left( \\nabla_r \\mathbf T^i, \\frac{\\partial \\mathbf x^r}{\\partial t} \\right)$$\n",
    " \n",
    "is a tensor of the same type and order as $\\mathbf T^i$ and is known as the absolute or intrinsic derivative along the curve $C : \\mathbf x=\\mathbf x(t)$, defined by\n",
    "   \n",
    "   $$\\frac{\\delta \\mathbf T^i}{\\delta t} = \\frac{\\partial \\mathbf T^i}{\\partial t} + \\Gamma^i_{pq} \\mathbf T^p \\frac{\\partial \\mathbf x^q}{\\partial t}, \\qquad \\mathbf T^i = \\mathbf T^i (\\mathbf x(t)) $$\n",
    "   "
   ]
  },
  {
   "cell_type": "markdown",
   "metadata": {},
   "source": [
    "To show this, simply take the  covariant derivative of $\\mathbf T^i$ with respect to $\\mathbf x^r$, and form the dot product with $\\frac{\\partial x^r}{\\partial t}$ as follows\n",
    "\n",
    "$$\\nabla_r \\mathbf T^i \\frac{\\partial x^r}{\\partial t} = \\frac{\\partial \\mathbf T^i}{\\partial x^r}\\frac{\\partial x^r}{\\partial t}  + \\Gamma^i_{qr} \\mathbf T^q \\frac{\\partial x^r}{\\partial t}$$\n",
    "then\n",
    "   \n",
    "$$\\nabla_r \\mathbf T^i \\frac{\\partial x^r}{\\partial t}= \\frac{\\partial \\mathbf T^i}{\\partial t}  + \\Gamma^i_{qr} \\mathbf T^q \\frac{\\partial x^r}{\\partial t} \\equiv \\frac{\\delta \\mathbf T^i}{\\delta t} $$\n",
    "\n",
    "> Pay attention to the indices, the $x^q$ in the initial definition means its the dot product with $\\frac{\\partial x^q}{\\partial t}$ that was formed ... so the second definition is clearer."
   ]
  },
  {
   "cell_type": "markdown",
   "metadata": {},
   "source": [
    "Absolute differentiation is a linear operator.\n",
    "   \n",
    "### Acceleration \n",
    "   \n",
    "This is defined as the time derivative of the absolute derivative of the coordinate, \n",
    "   \n",
    "$$\\mathbf a = a^i = \\frac{\\delta}{\\delta t} \\left(\\frac{d x^i}{dt}\\right)= \\frac{d}{d t} \\left(\\frac{\\delta  x^i}{\\delta t}\\right)=\\frac{\\partial^2 x^i}{\\partial t^2}  + \\Gamma^i_{qr}  \\frac{\\partial x^q}{\\partial t}\\frac{\\partial x^r}{\\partial t}$$"
   ]
  },
  {
   "cell_type": "markdown",
   "metadata": {},
   "source": [
    "using the work above for acceleration in curlinear coordinates,\n",
    "   \n",
    "$$\\mathbf r = \\rho\\ \\cos\\phi\\ \\sin\\theta\\ \\mathbf i + \\rho\\ \\sin\\phi\\ \\sin\\theta\\ \\mathbf j + \\rho\\ \\cos\\theta\\ \\mathbf k=y^1\\ \\cos (y^3)\\ \\sin (y^2)\\ \\mathbf i + y^1\\ \\sin (y^3)\\ \\sin (y^2)\\ \\mathbf j + y^1\\ \\cos (y^2)\\ \\mathbf k =y^1 c_3 s_2 \\mathbf i + y^1 s_3 s_2 \\mathbf j + y^1 c_2 \\mathbf k $$\n",
    "   \n",
    "and assuming the values for velocity (and for the moment acceleration) in the rectangular coordinates derived above, then in the spherical coordinate system, with metric $g_{11}=1,\\ g_{22}=(y^1)^2,\\ g_{33}=(y^1 \\sin\\ y^2)^2 $ then \n",
    "   \n",
    "$$\\mathbf r = y^1 \\mathbf e_1 + y^2 \\mathbf e_2+y^3 \\mathbf e_3 $$\n",
    "and\n",
    "$$\\mathbf v = \\dot{y}^1 \\mathbf e_1 + \\dot{y}^2 \\mathbf e_2+\\dot{y}^3 \\mathbf e_3 $$\n",
    "or\n",
    "$$ v^i = \\frac{dy^i}{dt}$$\n",
    "   \n",
    "and the contravariant components of acceleration are given by the absolute derivative,\n",
    "   \n",
    "$$ a^i = \\frac{dv^i}{dt} + \\Gamma^i_{rs} v^r v^s = \\frac{d^2y^i}{dt^2} + \\Gamma^i_{rs} \\frac{dy^r}{dt} \\frac{dy^s}{dt} $$\n",
    "\n",
    "   \n"
   ]
  },
  {
   "cell_type": "code",
   "execution_count": null,
   "metadata": {},
   "outputs": [],
   "source": [
    "gamma2[0]"
   ]
  },
  {
   "cell_type": "code",
   "execution_count": null,
   "metadata": {},
   "outputs": [],
   "source": [
    "gamma2[1]"
   ]
  },
  {
   "cell_type": "code",
   "execution_count": null,
   "metadata": {},
   "outputs": [],
   "source": [
    "gamma2[2]"
   ]
  },
  {
   "cell_type": "code",
   "execution_count": null,
   "metadata": {
    "collapsed": true
   },
   "outputs": [],
   "source": [
    "def absolute_acceleration(DY, D2Y, gamma_2, d ):\n",
    "    acc = zeros(d,1)\n",
    "    for i in range(0,d):\n",
    "        acc[i] =  D2Y[i]\n",
    "        for j in range (0,d):\n",
    "            for s in range(0,d):\n",
    "                acc[i] += gamma_2[i][j,s]*DY[j]*DY[s]\n",
    "    return acc\n",
    "\n"
   ]
  },
  {
   "cell_type": "markdown",
   "metadata": {},
   "source": [
    "but for our particular vector in the example above, $\\dot{y^i} = [\\text{const}]$ and so the 2nd derivative was zero, so all that remains is to sum over the remaining term $a^i= \\Gamma^i_{rs} \\frac{dy^r}{dt} \\frac{dy^s}{dt} $ so ...\n",
    "   \n",
    "$$ a^1  = \\Gamma^1_{1s} \\frac{dy^1}{dt} \\frac{dy^s}{dt} + \\Gamma^1_{2s} \\frac{dy^2}{dt} \\frac{dy^s}{dt} + \\Gamma^1_{3s} \\frac{dy^3}{dt} \\frac{dy^s}{dt}  $$\n",
    "      \n",
    "and here the chrisoffel symbols $\\Gamma^1_{rs}$ are zero except for $\\Gamma^1_{22}=-y^1$ and $\\Gamma^1_{33}=-y^1 \\sin^2 (y^2)$ (first matrix above) ...  \n",
    "     \n",
    "$$ a^1  =  \\Gamma^1_{22} \\left(\\frac{dy^2}{dt}\\right)^2 + \\Gamma^1_{33} \\left(\\frac{dy^3}{dt} \\right)^2 = -y^1 \\left(\\frac{dy^2}{dt}\\right)^2  -y^1 \\sin^2 (y^2) \\left(\\frac{dy^3}{dt} \\right)^2  $$\n"
   ]
  },
  {
   "cell_type": "markdown",
   "metadata": {},
   "source": [
    "for the second component\n",
    "$$ a^2  = \\Gamma^2_{1s} \\frac{dy^1}{dt} \\frac{dy^s}{dt} + \\Gamma^2_{2s} \\frac{dy^2}{dt} \\frac{dy^s}{dt} + \\Gamma^2_{3s} \\frac{dy^3}{dt} \\frac{dy^s}{dt}  $$\n",
    "   \n",
    "the Christoffel symbols (2nd matrix) are all zero except $\\Gamma^2_{12} = \\Gamma^2_{21} = \\frac{1}{y^1}$ and $\\Gamma^2_{33} = -\\frac{1}{2}\\sin(2y^2)= -\\sin(y^2)\\cos(y^2)$ then ...\n",
    "   \n",
    "$$ a^2  = \\Gamma^2_{12} \\frac{dy^1}{dt} \\frac{dy^2}{dt} + \\Gamma^2_{21} \\frac{dy^2}{dt} \\frac{dy^1}{dt} + \\Gamma^2_{33} \\left(\\frac{dy^3}{dt}\\right)^2= \\frac{2}{y^1} \\frac{dy^1}{dt} \\frac{dy^2}{dt}  -\\sin(y^2)\\cos(y^2) \\left(\\frac{dy^3}{dt}\\right)^2  $$"
   ]
  },
  {
   "cell_type": "markdown",
   "metadata": {},
   "source": [
    "and for the third component\n",
    "   \n",
    "$$ a^3  = \\Gamma^3_{1s} \\frac{dy^1}{dt} \\frac{dy^s}{dt} + \\Gamma^3_{2s} \\frac{dy^2}{dt} \\frac{dy^s}{dt} + \\Gamma^3_{3s} \\frac{dy^3}{dt} \\frac{dy^s}{dt}  $$\n",
    "   \n",
    "with $\\Gamma^3_{31} = \\Gamma^3_{13} = \\frac{1}{y^1}$ and $\\Gamma^3_{32} = \\Gamma^3_{23} = \\frac{1}{\\tan(y^2)}=\\frac{\\cos(y^2)}{\\sin(y^2)}$ then\n",
    "      \n",
    "$$ a^3  = 2\\Gamma^3_{13} \\frac{dy^1}{dt} \\frac{dy^3}{dt} + 2\\Gamma^3_{23} \\frac{dy^2}{dt} \\frac{dy^3}{dt} = \\frac{2}{y^1} \\frac{dy^1}{dt} \\frac{dy^3}{dt} + 2\\frac{\\cos(y^2)}{\\sin(y^2)} \\frac{dy^2}{dt} \\frac{dy^3}{dt}   $$"
   ]
  },
  {
   "cell_type": "markdown",
   "metadata": {},
   "source": [
    "and the *physical components* are given by $a_i = a^i\\sqrt{g_{ii}} $ (no summation) so\n",
    "   \n",
    "$$a_1 = a^1 \\sqrt{g_{11}} = \\left(-y^1 \\left(\\frac{dy^2}{dt}\\right)^2  -y^1 \\sin^2 (y^2) \\left(\\frac{dy^3}{dt} \\right)^2\\right)(\\sqrt{1}) = -y^1 \\left(\\frac{dy^2}{dt}\\right)^2  -y^1 \\sin^2 (y^2) \\left(\\frac{dy^3}{dt} \\right)^2$$\n",
    "   \n",
    "and \n",
    "   \n",
    "$$a_2 = a^2 \\sqrt{g_{22}} = a^2 \\sqrt{(y^1)^2}=\\left(\\frac{2}{y^1} \\frac{dy^1}{dt} \\frac{dy^2}{dt}  -\\sin(y^2)\\cos(y^2) \\left(\\frac{dy^3}{dt}\\right)^2 \\right)y^1 =\\left( 2 \\frac{dy^1}{dt} \\frac{dy^2}{dt}  -y^1\\sin(y^2)\\cos(y^2) \\left(\\frac{dy^3}{dt}\\right)^2 \\right)  $$\n",
    "   \n",
    "and\n",
    "\n",
    "$$ a_3 = a^3 \\sqrt{g_{33}} = a^3 \\sqrt{(y^1 \\sin\\ (y^2))^2} =  2 sin\\ (y^2) \\frac{dy^1}{dt} \\frac{dy^3}{dt} + 2 y^1\\cos(y^2) \\frac{dy^2}{dt} \\frac{dy^3}{dt} $$\n"
   ]
  },
  {
   "cell_type": "markdown",
   "metadata": {},
   "source": [
    "so \n",
    "$$\\mathbf a = ( -y^1 \\left(\\dot{y}^2\\right)^2  -y^1 (s_2)^2 \\left(\\dot{y}^3 \\right)^2) \\mathbf e_1+ (2 \\dot{y}^1 \\dot{y}^2  -y^1 s_2 c_2 \\left(\\dot{y}^3\\right)^2)\\mathbf e_2 +  (2 s_2 \\dot{y}^1 \\dot{y}^3 + 2 y^1 c_2 \\dot{y}^2 \\dot{y}^3)\\mathbf e_3$$"
   ]
  },
  {
   "cell_type": "code",
   "execution_count": null,
   "metadata": {
    "collapsed": true
   },
   "outputs": [],
   "source": [
    "############################################\n",
    "## NOTE NOTE :\n",
    "## please view this on notebook viewer\n",
    "## https://nbviewer.jupyter.org/github/coderofgames/Python-Math/blob/master/Vectors/Tensors.ipynb\n",
    "############################################\n",
    "t = symbols('t')\n",
    "\n",
    "T = Matrix([a_1,a_2,a_3])\n",
    "\n",
    "# make them functions of t\n",
    "y__1 = Function('y__1')( t ) \n",
    "y__2 = Function('y__2')( t ) \n",
    "y__3 = Function('y__3')( t )\n",
    "\n",
    "Y = Matrix([y__1,y__2,y__3])\n",
    "\n",
    "DY = Matrix([diff(y__1,t),diff(y__2,t),diff(y__3,t)])\n",
    "T = DY\n",
    "D2Y = diff(DY,t)\n",
    "\n"
   ]
  },
  {
   "cell_type": "code",
   "execution_count": null,
   "metadata": {
    "scrolled": true
   },
   "outputs": [],
   "source": [
    "v = y_1 * cos (y_3) * sin(y_2) * e.i+ y_1 * sin (y_3) * sin(y_2) * e.j +  y_1 * cos(y_2) * e.k\n",
    "v = v.subs( {y_1: y__1, y_2: y__2, y_3:y__3})\n",
    "V = sqrt( x_1**2 + x_2**2 + x_3**2) * sph.i + acos( x_3/sqrt( x_1**2 + x_2**2 + x_3**2)) * sph.j + atan(x_2/x_1) * sph.k\n",
    "\n",
    "X = Matrix([v.dot(e.i), v.dot(e.j),v.dot(e.k)])\n",
    "Y = Matrix([y__1, y__2, y__3])\n",
    "\n",
    "print \"The Jacobian of the dx^i/dy^j where x's are cartesian and y's are spherical \"\n",
    "J_1 = X.jacobian(Y)\n",
    "J_1"
   ]
  },
  {
   "cell_type": "code",
   "execution_count": null,
   "metadata": {},
   "outputs": [],
   "source": [
    "metric_spherical_t = simplify(J_1.T * J_1)\n",
    "\n",
    "\n",
    "gamma_2 =  compute_christoffel_symbols(metric_spherical_t, 3, Y, 0)\n",
    "gamma_2[0]"
   ]
  },
  {
   "cell_type": "code",
   "execution_count": null,
   "metadata": {},
   "outputs": [],
   "source": [
    "metric_spherical_t"
   ]
  },
  {
   "cell_type": "code",
   "execution_count": null,
   "metadata": {},
   "outputs": [],
   "source": [
    "\n",
    "cov_deriv = Covariant_Derivative_Contravariant_Vector(T, Y, gamma_2, 3)\n",
    "cov_deriv\n",
    "# note, this does not contain terms of dT/dy__1 or anything, because\n",
    "# T = dy__i/dt, so the derivative is meaningless. in this case\n",
    "# the second derivative is zero, so the math will work"
   ]
  },
  {
   "cell_type": "code",
   "execution_count": 3,
   "metadata": {},
   "outputs": [
    {
     "ename": "NameError",
     "evalue": "name 'cov_deriv' is not defined",
     "output_type": "error",
     "traceback": [
      "\u001b[1;31m---------------------------------------------------------------------------\u001b[0m",
      "\u001b[1;31mNameError\u001b[0m                                 Traceback (most recent call last)",
      "\u001b[1;32m<ipython-input-3-08d9d5b784a6>\u001b[0m in \u001b[0;36m<module>\u001b[1;34m()\u001b[0m\n\u001b[1;32m----> 1\u001b[1;33m \u001b[0mabs_deriv\u001b[0m \u001b[1;33m=\u001b[0m \u001b[0mcov_deriv\u001b[0m \u001b[1;33m*\u001b[0m \u001b[0mT\u001b[0m\u001b[1;33m\u001b[0m\u001b[0m\n\u001b[0m\u001b[0;32m      2\u001b[0m \u001b[0mabs_deriv\u001b[0m \u001b[1;33m=\u001b[0m \u001b[0mexpand\u001b[0m\u001b[1;33m(\u001b[0m\u001b[0mabs_deriv\u001b[0m\u001b[1;33m)\u001b[0m\u001b[1;33m\u001b[0m\u001b[0m\n\u001b[0;32m      3\u001b[0m \u001b[1;31m#abs_deriv_phys_1 = abs_deriv[0]\u001b[0m\u001b[1;33m\u001b[0m\u001b[1;33m\u001b[0m\u001b[0m\n\u001b[0;32m      4\u001b[0m \u001b[1;31m#abs_deriv_phys_2 = y__1*abs_deriv[1]\u001b[0m\u001b[1;33m\u001b[0m\u001b[1;33m\u001b[0m\u001b[0m\n\u001b[0;32m      5\u001b[0m \u001b[1;31m#abs_deriv_phys_3 = y__1*sin(y__2)*abs_deriv[2]\u001b[0m\u001b[1;33m\u001b[0m\u001b[1;33m\u001b[0m\u001b[0m\n",
      "\u001b[1;31mNameError\u001b[0m: name 'cov_deriv' is not defined"
     ]
    }
   ],
   "source": [
    "abs_deriv = cov_deriv * T\n",
    "abs_deriv = expand(abs_deriv)\n",
    "#abs_deriv_phys_1 = abs_deriv[0]\n",
    "#abs_deriv_phys_2 = y__1*abs_deriv[1]\n",
    "#abs_deriv_phys_3 = y__1*sin(y__2)*abs_deriv[2]\n",
    "#abs_deriv = Matrix([abs_deriv_phys_1,abs_deriv_phys_2,abs_deriv_phys_3])\n",
    "expand(expand_trig(abs_deriv))"
   ]
  },
  {
   "cell_type": "markdown",
   "metadata": {},
   "source": [
    "This agrees with the above hand calculation except that the trigonometric term in the 2nd component is the half angle formulae, this can be changed, but the form is equivalent."
   ]
  },
  {
   "cell_type": "code",
   "execution_count": 4,
   "metadata": {},
   "outputs": [
    {
     "ename": "NameError",
     "evalue": "name 'absolute_acceleration' is not defined",
     "output_type": "error",
     "traceback": [
      "\u001b[1;31m---------------------------------------------------------------------------\u001b[0m",
      "\u001b[1;31mNameError\u001b[0m                                 Traceback (most recent call last)",
      "\u001b[1;32m<ipython-input-4-ae2ce5c11502>\u001b[0m in \u001b[0;36m<module>\u001b[1;34m()\u001b[0m\n\u001b[1;32m----> 1\u001b[1;33m \u001b[0mabs_accel\u001b[0m \u001b[1;33m=\u001b[0m \u001b[0mabsolute_acceleration\u001b[0m\u001b[1;33m(\u001b[0m\u001b[0mDY\u001b[0m\u001b[1;33m,\u001b[0m\u001b[0mD2Y\u001b[0m\u001b[1;33m,\u001b[0m\u001b[0mgamma_2\u001b[0m\u001b[1;33m,\u001b[0m\u001b[1;36m3\u001b[0m\u001b[1;33m)\u001b[0m\u001b[1;33m\u001b[0m\u001b[0m\n\u001b[0m\u001b[0;32m      2\u001b[0m \u001b[0mexpand_trig\u001b[0m\u001b[1;33m(\u001b[0m\u001b[0mabs_accel\u001b[0m\u001b[1;33m)\u001b[0m\u001b[1;33m\u001b[0m\u001b[0m\n",
      "\u001b[1;31mNameError\u001b[0m: name 'absolute_acceleration' is not defined"
     ]
    }
   ],
   "source": [
    "abs_accel = absolute_acceleration(DY,D2Y,gamma_2,3)\n",
    "expand_trig(abs_accel)"
   ]
  },
  {
   "cell_type": "code",
   "execution_count": null,
   "metadata": {
    "collapsed": true
   },
   "outputs": [],
   "source": [
    "c_1,c_2,c_3,s_1,s_2,s_3 = symbols('c_1,c_2,c_3,s_1,s_2,s_3')\n",
    "\n"
   ]
  },
  {
   "cell_type": "code",
   "execution_count": null,
   "metadata": {},
   "outputs": [],
   "source": [
    "J_1"
   ]
  },
  {
   "cell_type": "markdown",
   "metadata": {},
   "source": [
    "so the components of the covariant derivative in the rectangular system are (using the Jacobian) ...\n",
    "\n",
    "$$\\mathbf a\\cdot\\mathbf i= s_2 c_3( -y^1 \\left(\\dot{y}^2\\right)^2  -y^1 (s_2)^2 \\left(\\dot{y}^3 \\right)^2) + y^1 c_2 c_3(2 \\dot{y}^1 \\dot{y}^2  -y^1 s_2 c_2 \\left(\\dot{y}^3\\right)^2) - y^1 s_2 s_3 (2 s_2 \\dot{y}^1 \\dot{y}^3 + 2 y^1 c_2 \\dot{y}^2 \\dot{y}^3)$$\n",
    "\n"
   ]
  },
  {
   "cell_type": "markdown",
   "metadata": {},
   "source": [
    "First simplifying the $\\mathbf a\\cdot \\mathbf i$ above \n",
    "   \n",
    "$$\\mathbf a\\cdot\\mathbf i= y^1( - s_2 c_3 \\left(\\dot{y}^2\\right)^2  -  s_2 c_3 (s_2)^2 \\left(\\dot{y}^3 \\right)^2) + y^1 (2 c_2 c_3 \\dot{y}^1 \\dot{y}^2  -y^1  c_3 s_2 (c_2)^2 \\left(\\dot{y}^3\\right)^2) - y^1 (2  s_3 (s_2)^2 \\dot{y}^1 \\dot{y}^3 + 2 y^1 s_2 s_3 c_2 \\dot{y}^2 \\dot{y}^3)$$\n",
    "\n",
    "Taking the term for $\\ddot{x}^1$ derived in the section on velocity in curvilinear coordinates,\n",
    "   \n",
    "$$\\ddot{y}^1 s_2 c_3 +  2 \\dot{y}^1 \\dot{y}^2 c_2 c_3 - 2\\dot{y}^1 \\dot{y}^3 s_2 s_3   + y^1 \\ddot{y}^2 c_2 c_3 - y^1 (\\dot{y}^2)^2 s_2 c_3 -  2 y^1 \\dot{y}^3 \\dot{y}^2 c_2 s_3  - y^1 \\ddot{y}^3 s_2  s_3 - y^1 (\\dot{y}^3)^2 s_2  c_3  \\qquad \\mathbf (A)$$\n",
    "   \n",
    " and setting the second derivative of the y coordinate to zero ...\n",
    " \n",
    "$$  2 \\dot{y}^1 \\dot{y}^2 c_2 c_3 - 2\\dot{y}^1 \\dot{y}^3 s_2 s_3   - y^1 (\\dot{y}^2)^2 s_2 c_3 -  2 y^1 \\dot{y}^3 \\dot{y}^2 c_2 s_3   - y^1 (\\dot{y}^3)^2 s_2  c_3  \\qquad \\mathbf (B)$$\n",
    "\n",
    " "
   ]
  },
  {
   "cell_type": "markdown",
   "metadata": {},
   "source": [
    "They are not the same ...\n",
    "   \n",
    "$$\\mathbf a\\cdot\\mathbf i= s_2 c_3( -y^1 \\left(\\dot{y}^2\\right)^2  -y^1 (s_2)^2 \\left(\\dot{y}^3 \\right)^2) +  s_2 s_3(2 \\dot{y}^1 \\dot{y}^2  -y^1 s_2  \\left(\\dot{y}^3\\right)^2) + c_2 (2 s_2 \\dot{y}^1 \\dot{y}^3 + 2 y^1 c_2 \\dot{y}^2 \\dot{y}^3)$$"
   ]
  },
  {
   "cell_type": "markdown",
   "metadata": {},
   "source": [
    "So now I have to check the absoute derivative contravariant terms (before multiplication by $\\sqrt{g_{ii}}$ and I the result follows ... "
   ]
  },
  {
   "cell_type": "markdown",
   "metadata": {},
   "source": [
    "$$\\mathbf a = ( -y^1 \\left(\\dot{y}^2\\right)^2  -y^1 (s_2)^2 \\left(\\dot{y}^3 \\right)^2) \\mathbf e_1+ (\\frac{2}{y^1} \\dot{y}^1 \\dot{y}^2  - s_2 c_2 \\left(\\dot{y}^3\\right)^2)\\mathbf e_2 +  (\\frac{2}{y^1} \\dot{y}^1 \\dot{y}^3 + 2 \\frac{ c_2}{s_2} \\dot{y}^2 \\dot{y}^3)\\mathbf e_3$$"
   ]
  },
  {
   "cell_type": "markdown",
   "metadata": {},
   "source": [
    "$$\\ddot{x}^1 = \\mathbf a\\cdot\\mathbf i = \\mathbf J_{11} \\mathbf a\\cdot \\mathbf e_1 +\\mathbf J_{12} \\mathbf a\\cdot \\mathbf e_2 +\\mathbf J_{13} \\mathbf a\\cdot \\mathbf e_3 $$\n",
    "so\n",
    "\n",
    "$$\\ddot{x}^1=  (s_2 c_3)( -y^1 \\left(\\dot{y}^2\\right)^2  -y^1 (s_2)^2 \\left(\\dot{y}^3 \\right)^2) + (y^1c_2 c_3)(\\frac{2}{y^1} \\dot{y}^1 \\dot{y}^2  - s_2 c_2 \\left(\\dot{y}^3\\right)^2) +(-y^1 s_2 s_3)  (\\frac{2}{y^1} \\dot{y}^1 \\dot{y}^3 + 2 \\frac{ c_2}{s_2} \\dot{y}^2 \\dot{y}^3)$$"
   ]
  },
  {
   "cell_type": "markdown",
   "metadata": {},
   "source": [
    "$$\\ddot{x}^1 = ( -y^1 s_2 c_3 \\left(\\dot{y}^2\\right)^2  -y^1 s_2 c_3 (s_2)^2 \\left(\\dot{y}^3 \\right)^2) + (2c_2 c_3 \\dot{y}^1 \\dot{y}^2  - y^1  c_3 s_2 (c_2)^2 \\left(\\dot{y}^3\\right)^2) +  ( -2 s_2 s_3\\dot{y}^1 \\dot{y}^3 - 2 y^1 s_3 c_2 \\dot{y}^2 \\dot{y}^3)$$\n",
    "   \n",
    "and the following terms factorize and cancel since $ (s_2)^2 +(c_2)^2 = 1$ ...\n",
    "\n",
    "$$-y^1 s_2 c_3 (s_2)^2 \\left(\\dot{y}^3 \\right)^2- y^1  c_3 s_2 (c_2)^2 \\left(\\dot{y}^3\\right)^2 = -y^1 s_2 c_3  \\left(\\dot{y}^3 \\right)^2((s_2)^2 +  (c_2)^2)   $$\n",
    "   \n",
    "and we are left with the same resultant tensor from the derivation in the section on velocity and acceleration in curvilinear coordinates (compare  to equation B in this section or (3.72)).\n",
    "\n",
    "$$ -y^1 s_2 c_3 (\\dot{y}^2)^2  -y^1 s_2 c_3 (\\dot{y}^3 )^2 + 2 c_2 c_3 \\dot{y}^1 \\dot{y}^2    -2 s_2 s_3\\dot{y}^1 \\dot{y}^3 - 2 y^1 s_3 c_2 \\dot{y}^2 \\dot{y}^3 $$\n"
   ]
  },
  {
   "cell_type": "code",
   "execution_count": 5,
   "metadata": {},
   "outputs": [
    {
     "ename": "NameError",
     "evalue": "name 'expand_trig' is not defined",
     "output_type": "error",
     "traceback": [
      "\u001b[1;31m---------------------------------------------------------------------------\u001b[0m",
      "\u001b[1;31mNameError\u001b[0m                                 Traceback (most recent call last)",
      "\u001b[1;32m<ipython-input-5-299e1e3a1b41>\u001b[0m in \u001b[0;36m<module>\u001b[1;34m()\u001b[0m\n\u001b[1;32m----> 1\u001b[1;33m \u001b[0maccel_in_x0\u001b[0m \u001b[1;33m=\u001b[0m \u001b[1;33m(\u001b[0m\u001b[0mexpand_trig\u001b[0m\u001b[1;33m(\u001b[0m\u001b[0mtrigsimp\u001b[0m\u001b[1;33m(\u001b[0m\u001b[0mJ_1\u001b[0m \u001b[1;33m*\u001b[0m \u001b[0mabs_deriv\u001b[0m\u001b[1;33m)\u001b[0m\u001b[1;33m)\u001b[0m\u001b[1;33m)\u001b[0m\u001b[1;33m\u001b[0m\u001b[0m\n\u001b[0m\u001b[0;32m      2\u001b[0m \u001b[0maccel_in_x\u001b[0m \u001b[1;33m=\u001b[0m \u001b[0maccel_in_x0\u001b[0m\u001b[1;33m.\u001b[0m\u001b[0msubs\u001b[0m\u001b[1;33m(\u001b[0m\u001b[1;33m{\u001b[0m\u001b[0mtan\u001b[0m\u001b[1;33m(\u001b[0m\u001b[0my__1\u001b[0m\u001b[1;33m)\u001b[0m\u001b[1;33m:\u001b[0m\u001b[0ms_1\u001b[0m\u001b[1;33m/\u001b[0m\u001b[0mc_1\u001b[0m\u001b[1;33m,\u001b[0m\u001b[0mtan\u001b[0m\u001b[1;33m(\u001b[0m\u001b[0my__2\u001b[0m\u001b[1;33m)\u001b[0m\u001b[1;33m:\u001b[0m\u001b[0ms_2\u001b[0m\u001b[1;33m/\u001b[0m\u001b[0mc_2\u001b[0m\u001b[1;33m,\u001b[0m\u001b[0mtan\u001b[0m\u001b[1;33m(\u001b[0m\u001b[0my__3\u001b[0m\u001b[1;33m)\u001b[0m\u001b[1;33m:\u001b[0m\u001b[0ms_3\u001b[0m\u001b[1;33m/\u001b[0m\u001b[0mc_3\u001b[0m\u001b[1;33m}\u001b[0m\u001b[1;33m)\u001b[0m\u001b[1;33m\u001b[0m\u001b[0m\n\u001b[0;32m      3\u001b[0m \u001b[0maccel_in_x\u001b[0m \u001b[1;33m=\u001b[0m \u001b[0maccel_in_x\u001b[0m\u001b[1;33m.\u001b[0m\u001b[0msubs\u001b[0m\u001b[1;33m(\u001b[0m\u001b[1;33m{\u001b[0m\u001b[0msin\u001b[0m\u001b[1;33m(\u001b[0m\u001b[0my__1\u001b[0m\u001b[1;33m)\u001b[0m\u001b[1;33m:\u001b[0m\u001b[0ms_1\u001b[0m\u001b[1;33m,\u001b[0m\u001b[0msin\u001b[0m\u001b[1;33m(\u001b[0m\u001b[0my__2\u001b[0m\u001b[1;33m)\u001b[0m\u001b[1;33m:\u001b[0m\u001b[0ms_2\u001b[0m\u001b[1;33m,\u001b[0m\u001b[0msin\u001b[0m\u001b[1;33m(\u001b[0m\u001b[0my__3\u001b[0m\u001b[1;33m)\u001b[0m\u001b[1;33m:\u001b[0m\u001b[0ms_3\u001b[0m \u001b[1;33m}\u001b[0m\u001b[1;33m)\u001b[0m\u001b[1;33m\u001b[0m\u001b[0m\n\u001b[0;32m      4\u001b[0m \u001b[0maccel_in_x\u001b[0m \u001b[1;33m=\u001b[0m \u001b[0maccel_in_x\u001b[0m\u001b[1;33m.\u001b[0m\u001b[0msubs\u001b[0m\u001b[1;33m(\u001b[0m\u001b[1;33m{\u001b[0m\u001b[0mcos\u001b[0m\u001b[1;33m(\u001b[0m\u001b[0my__1\u001b[0m\u001b[1;33m)\u001b[0m\u001b[1;33m:\u001b[0m\u001b[0mc_1\u001b[0m\u001b[1;33m,\u001b[0m\u001b[0mcos\u001b[0m\u001b[1;33m(\u001b[0m\u001b[0my__2\u001b[0m\u001b[1;33m)\u001b[0m\u001b[1;33m:\u001b[0m\u001b[0mc_2\u001b[0m\u001b[1;33m,\u001b[0m\u001b[0mcos\u001b[0m\u001b[1;33m(\u001b[0m\u001b[0my__3\u001b[0m\u001b[1;33m)\u001b[0m\u001b[1;33m:\u001b[0m\u001b[0mc_3\u001b[0m\u001b[1;33m}\u001b[0m\u001b[1;33m)\u001b[0m\u001b[1;33m\u001b[0m\u001b[0m\n\u001b[0;32m      5\u001b[0m \u001b[0maccel_in_x\u001b[0m \u001b[1;33m=\u001b[0m \u001b[0mexpand\u001b[0m\u001b[1;33m(\u001b[0m\u001b[0maccel_in_x\u001b[0m\u001b[1;33m)\u001b[0m\u001b[1;33m\u001b[0m\u001b[0m\n",
      "\u001b[1;31mNameError\u001b[0m: name 'expand_trig' is not defined"
     ]
    }
   ],
   "source": [
    "accel_in_x0 = (expand_trig(trigsimp(J_1 * abs_deriv)))\n",
    "accel_in_x = accel_in_x0.subs({tan(y__1):s_1/c_1,tan(y__2):s_2/c_2,tan(y__3):s_3/c_3}) \n",
    "accel_in_x = accel_in_x.subs({sin(y__1):s_1,sin(y__2):s_2,sin(y__3):s_3 })\n",
    "accel_in_x = accel_in_x.subs({cos(y__1):c_1,cos(y__2):c_2,cos(y__3):c_3})\n",
    "accel_in_x = expand(accel_in_x)\n",
    "\n",
    "wn1 = Wild('wn1')\n",
    "#>>> collect(a*x**y - b*x**y, w**y)\n",
    "#accel_in_x =accel_in_x.subs( {wn1*s_3**2 + wn1*c_3**2: wn1})\n",
    "ax1= collect(accel_in_x[0], wn1*(sin(y__2)**2 + cos(y__2)**2))\n",
    "accel_in_x"
   ]
  },
  {
   "cell_type": "code",
   "execution_count": 6,
   "metadata": {},
   "outputs": [
    {
     "ename": "NameError",
     "evalue": "name 'ax1' is not defined",
     "output_type": "error",
     "traceback": [
      "\u001b[1;31m---------------------------------------------------------------------------\u001b[0m",
      "\u001b[1;31mNameError\u001b[0m                                 Traceback (most recent call last)",
      "\u001b[1;32m<ipython-input-6-865df1f9ea23>\u001b[0m in \u001b[0;36m<module>\u001b[1;34m()\u001b[0m\n\u001b[1;32m----> 1\u001b[1;33m \u001b[1;33m(\u001b[0m\u001b[0max1\u001b[0m\u001b[1;33m)\u001b[0m\u001b[1;33m\u001b[0m\u001b[0m\n\u001b[0m",
      "\u001b[1;31mNameError\u001b[0m: name 'ax1' is not defined"
     ]
    }
   ],
   "source": [
    "(ax1)"
   ]
  },
  {
   "cell_type": "code",
   "execution_count": null,
   "metadata": {
    "collapsed": true
   },
   "outputs": [],
   "source": [
    "# substitute the initial values of the tangential acceleration : zero\n",
    "accel_in_x20 = (expand_trig(trigsimp(J_1 * abs_accel))).subs({diff(y__1,t,t):0,diff(y__2,t,t):0,diff(y__3,t,t):0})\n",
    "accel_in_x2 = expand(accel_in_x20)\n",
    "accel_in_x2 = accel_in_x2.subs({tan(y__1):s_1/c_1,tan(y__2):s_2/c_2,tan(y__3):s_3/c_3}) \n",
    "accel_in_x2 = accel_in_x2.subs({sin(y__1):s_1,sin(y__2):s_2,sin(y__3):s_3 })\n",
    "accel_in_x2 = accel_in_x2.subs({cos(y__1):c_1,cos(y__2):c_2,cos(y__3):c_3})\n",
    "accel_in_x2 = expand(accel_in_x2)"
   ]
  },
  {
   "cell_type": "code",
   "execution_count": null,
   "metadata": {},
   "outputs": [],
   "source": [
    "accel_in_x2"
   ]
  },
  {
   "cell_type": "markdown",
   "metadata": {},
   "source": [
    "$-c_2^2 c_3 s_2 y^1 (\\dot{y}^3)^2 + 2c_2 c_3 \\dot{y}^1 \\dot{y}^2 - 2c_2 s_3y^1 \\dot{y}^2\\dot{y}^3 - c_3 s_2^3 y^1(\\dot{y}^3)^2-c_3s_2 y^1(\\dot{y}^2)^2-2s_2 s_3\\dot{y}^1 \\dot{y}^3$"
   ]
  },
  {
   "cell_type": "markdown",
   "metadata": {},
   "source": [
    "$$2c_2 c_3 \\dot{y}^1 \\dot{y}^2 -(c_2^2+s_2^2) c_3 s_2 y^1 (\\dot{y}^3)^2   - 2c_2 s_3y^1 \\dot{y}^2\\dot{y}^3 -c_3s_2 y^1(\\dot{y}^2)^2-2s_2 s_3\\dot{y}^1 \\dot{y}^3$$\n",
    "and this is\n",
    "$$2c_2 c_3 \\dot{y}^1 \\dot{y}^2 - c_3 s_2 y^1 (\\dot{y}^3)^2   - 2c_2 s_3y^1 \\dot{y}^2\\dot{y}^3 -c_3s_2 y^1(\\dot{y}^2)^2-2s_2 s_3\\dot{y}^1 \\dot{y}^3$$\n",
    "\n",
    "and this is in agreement with (3.72)"
   ]
  },
  {
   "cell_type": "code",
   "execution_count": null,
   "metadata": {},
   "outputs": [],
   "source": [
    "a_c_1 = accel_in_x0[0].subs({diff(y__1,t):2,diff(y__2,t):3,diff(y__3,t):2,y__1:1,y__2:1,y__3:1})\n",
    "a_c_2 = accel_in_x20[0].subs({diff(y__1,t):2,diff(y__2,t):3,diff(y__3,t):2,y__1:1,y__2:1,y__3:1})\n",
    "N(a_c_2)"
   ]
  },
  {
   "cell_type": "code",
   "execution_count": null,
   "metadata": {},
   "outputs": [],
   "source": [
    "N(a_c_1)"
   ]
  },
  {
   "cell_type": "markdown",
   "metadata": {},
   "source": [
    "so, the acceleration is computed in 2 ways here ...\n",
    "   \n",
    "1) using the vector $\\mathbf T=(\\dot{y}^1,\\dot{y}^2,\\dot{y}^3)$ and taking the covariant derivative of this vector $\\nabla_r \\mathbf T^i$, then forming the absolute derivate by taking the dot product $\\delta \\mathbf T^r =\\langle\\nabla_r \\mathbf T^i, \\mathbf T^i\\rangle$. The vector $\\mathbf T^i$ is already the first derivative of the coordinate. This is convenient in this case because there aren't any tangential accelerations.\n",
    "   \n",
    "2) computing the acceleration directly by using the formula derived for acceleration above.\n",
    "   \n",
    "I would use (2) in most cases, both are in agreement with 3.72. \n",
    "\n",
    "In fact, the vector is not expressed in a way that supports the definition of the absolute derivative as the dot product of the covariant derivative with the time derivatie of the coordinate. The vector, $\\mathbf T = (\\dot{y}^1, \\dot{y}^2, \\dot{y}^3)$ is a constant velocity, the velocity is the derivative of the coordinate. Then the derivative with respect to the coordinate $\\partial_1 \\left(\\dot{y}^1\\right)= \\frac{\\partial}{\\partial y^1} \\frac{dy^1}{dt} = \\frac{d}{dt}=0$ an operator, not something physical. Therefore if the velocity were expressed in the form $v^1 = \\frac{dy^1}{dt}$, then $\\frac{dv^1}{dy^1} = \\frac{dv^1(y^1)}{dy^1}=\\frac{d}{dy^1} (v^1\\circ y^1)$ then $v^1$ is a function of $y^1$. Hence it is logical to use the equation for absolute acceleration in this case, otherwise the philosophy behind the mathematics is nonsensical. \n",
    "\n",
    "However the concept of supressing the evaluation until after the dot product will work, starting with an abstract tensor\n",
    "\n",
    "$$\\nabla_r \\mathbf T^i \\frac{dx^r}{dt} = \\left(\\frac{\\partial \\mathbf T^i}{\\partial x^r} + \\Gamma^i_{pr}\\mathbf T^p\\right)\\frac{dx^r}{dt} = \\frac{\\partial \\mathbf T^i}{\\partial x^r}\\frac{dx^r}{dt} + \\Gamma^i_{pr}\\mathbf T^p \\frac{dx^r}{dt} = \\frac{\\partial \\mathbf T^i}{\\partial t} + \\Gamma^i_{pr}\\mathbf T^p \\frac{dx^r}{dt}$$\n",
    "\n",
    "Then substituting for $\\mathbf T^p = \\frac{dx^p}{dt}$ yeilds the correct answer. So the cancelling of the $dx^r$ is performed instead of attempting to differentiate the tensor, which should be abstractly defined before substitution."
   ]
  },
  {
   "cell_type": "markdown",
   "metadata": {},
   "source": [
    "### Properties\n",
    "   \n",
    "The covariant derivative is required to have the properties that \n",
    "   \n",
    "a) it commutes with contractions \n",
    "   \n",
    "b) it reduces to the partial derivative on scalars."
   ]
  },
  {
   "cell_type": "markdown",
   "metadata": {},
   "source": [
    "### Covariant Derivative of a one-form\n",
    "   \n",
    "The one-form is defined above as $\\mathbf \\omega_r = a_i dx^i $ and the covariant derivative is \n",
    "   \n",
    "$$\\nabla_r \\omega_i = \\partial_r \\mathbf \\omega_i - \\Gamma^p_{ri}\\mathbf \\omega_p$$"
   ]
  },
  {
   "cell_type": "code",
   "execution_count": null,
   "metadata": {
    "collapsed": true
   },
   "outputs": [],
   "source": []
  }
 ],
 "metadata": {
  "kernelspec": {
   "display_name": "Python 2",
   "language": "python",
   "name": "python2"
  },
  "language_info": {
   "codemirror_mode": {
    "name": "ipython",
    "version": 2
   },
   "file_extension": ".py",
   "mimetype": "text/x-python",
   "name": "python",
   "nbconvert_exporter": "python",
   "pygments_lexer": "ipython2",
   "version": "2.7.13"
  }
 },
 "nbformat": 4,
 "nbformat_minor": 1
}
