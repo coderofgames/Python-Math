{
 "cells": [
  {
   "cell_type": "markdown",
   "metadata": {},
   "source": [
    "<div style=\"background:red\"><h2>Concept</h2></div>\n",
    "<h3>Notes taken from Shaum's differential geometry, to be expanded</h3>\n",
    "\n",
    "A vector function <br>\n",
    "$$\\mathbf r= \\mathbf r(t),\\qquad\\qquad t\\epsilon  \\mathbf I$$\n",
    "    \n",
    "Is a regular parametric representation. The variable $t$ is defined on the interval $\\mathbf I$. The interval has the following properties <br>\n",
    "    \n",
    "i)$\\quad \\mathbf r(t)$ is of class $C^1$ in $\\mathbf I$ <br>\n",
    "ii)$\\quad \\mathbf r'(t)\\neq 0$ for all $t$ in $\\mathbf I$ <br>\n",
    "<br>\n",
    "\n",
    "If a basis is chosen in $E^3$, or 3 dimensional Euclidean space, then <br>\n",
    "$$r_1=r_1(t)\\qquad r_2=r_2(t)\\qquad r_3=r_3(t)$$\n",
    "    \n",
    "are the components of the curve with respect to the basis. Each scalar equation must satisfy the above properties but at least one $r_i'(t)\\neq 0$.<br>"
   ]
  },
  {
   "cell_type": "markdown",
   "metadata": {},
   "source": [
    "<div style=\"background:red\">Example</div>\n",
    "    The curve $\\mathbf r(t)=r\\cos(t)\\mathbf e_1 + r\\sin(t) \\mathbf e_2$ for $-\\infty < 0 < \\infty$ is a regular parametric representation of a circle because the function is differentiable and\n",
    "    defined on the interval for the basis."
   ]
  },
  {
   "cell_type": "code",
   "execution_count": 1,
   "metadata": {
    "collapsed": false,
    "scrolled": true
   },
   "outputs": [
    {
     "data": {
      "image/png": "[encoded data removed]",
      "text/plain": [
       "<matplotlib.figure.Figure at 0x42ec128>"
      ]
     },
     "metadata": {},
     "output_type": "display_data"
    }
   ],
   "source": [
    "import matplotlib as mpl\n",
    "%matplotlib inline\n",
    "from mpl_toolkits.mplot3d import Axes3D\n",
    "import numpy as np\n",
    "import matplotlib.pyplot as plt\n",
    "\n",
    "mpl.rcParams['legend.fontsize'] = 10\n",
    "\n",
    "fig = plt.figure()\n",
    "ax = fig.gca()\n",
    "theta = np.linspace(-4 * np.pi, 4 * np.pi, 100)\n",
    "r =  1\n",
    "x = r * np.sin(theta)\n",
    "y = r * np.cos(theta)\n",
    "ax.plot(x, y, label='parametric curve')\n",
    "ax.legend()\n",
    "plt.axes().set_aspect('equal', 'datalim')"
   ]
  },
  {
   "cell_type": "markdown",
   "metadata": {},
   "source": [
    "<div style=\"background:red\">Theorem</div>\n",
    "   if $\\mathbf r= \\mathbf r(t)$ is a regular parametric representation on $\\mathbf I$ then for each $t_0$ in $\\mathbf I$ there exists a neighbourhood of $t_0$ in which $\\mathbf r(t)$ is one to one.<br>\n",
    "   <br>\n",
    "   This means that for each $t$ there is a unique point given by the curve. In the example of the circle, the function is one to many, or infinitely many multiples of the same point, this can be fixed by setting the interval to be between $0 < t < 2\\pi$ to ensure that the curve only cyles once for all given values of $t$. <br>"
   ]
  },
  {
   "cell_type": "markdown",
   "metadata": {},
   "source": [
    " <div style=\"background:red\">Change of Parameter</div>\n",
    " For a curve $\\mathbf r=\\mathbf r(\\theta)$ on the interval $\\mathbf I$ the real valued function $\\theta=\\theta(t)$ on the interval $\\mathbf I_{t}$ is an allowable change of parameter if<br>\n",
    " $i) \\quad \\theta=\\theta(t)$ is of class $C^1$ in $\\mathbf I_{t}$. <br>\n",
    " $ii) \\quad d\\theta/d t \\neq 0$ for all $t$ in $\\mathbf I_{t}$ <br>\n",
    " <br>\n",
    " If $\\theta=\\theta(t)$ is an allowable change of parameter then $d\\theta/dt$ is continuous and not equal to zero so is either greater than zero (smooth increasing) or less than zero (smooth decreasing).  \n",
    " <br>"
   ]
  },
  {
   "cell_type": "markdown",
   "metadata": {},
   "source": [
    " <div style=\"background:red\">Theorem</div>\n",
    " If $\\theta=\\theta(t)$ is an allowable change of parameter for a function $\\mathbf r=\\mathbf r(\\theta)$ then <br>\n",
    " $i) \\quad\\theta=\\theta(t)$ is a one to one mapping of $\\mathbf I_{t}$ onto an interval $\\mathbf I_{\\theta}=\\theta(\\mathbf I_t)$<br>\n",
    " $ii)\\quad$ The inverse function $t=t(\\theta)$ is an allowable change of parameter on $\\mathbf I_{\\theta}$."
   ]
  },
  {
   "cell_type": "code",
   "execution_count": 2,
   "metadata": {
    "collapsed": true,
    "scrolled": true
   },
   "outputs": [
    {
     "data": {
      "image/png": "[encoded data removed]",
      "text/plain": [
       "<matplotlib.figure.Figure at 0x40e5ef0>"
      ]
     },
     "metadata": {},
     "output_type": "display_data"
    }
   ],
   "source": [
    "mpl.rcParams['legend.fontsize'] = 10\n",
    "\n",
    "fig = plt.figure()\n",
    "ax = fig.gca()\n",
    "t = np.linspace(-4, 4, 100)\n",
    "r =  1\n",
    "theta = np.pi*t\n",
    "x = r * np.sin(theta)\n",
    "y = r * np.cos(theta)\n",
    "ax.plot(x, y, label='parametric curve')\n",
    "ax.legend()\n",
    "plt.axes().set_aspect('equal', 'datalim')"
   ]
  },
  {
   "cell_type": "markdown",
   "metadata": {},
   "source": [
    " <div style=\"background:red\">Defintion</div>\n",
    " A regular parametric representation $\\mathbf r=\\mathbf r(\\theta)$ for $\\theta \\epsilon \\mathbf I_{\\theta}$ is equivalent to a regular parametric representation $\\mathbf r=\\mathbf {\\bar r}(t)$ for $t \\epsilon \\mathbf I_t$ if there exists an allowable change of parameter $\\theta=\\theta(t)$ on $\\mathbf I_t$  such that <br>\n",
    " $$\n",
    " i)\\quad \\theta(\\mathbf I_{t}) = \\mathbf I_{\\theta} \\qquad ii)\\quad \\mathbf r(\\theta(t))=\\mathbf{\\bar r}(t)\n",
    " $$\n",
    " <br>\n",
    " This defines an equivalence relation on a set of regular representations. A regular curve can be defined as an equivalence class of regular parameteric representations. <br>\n",
    " Since a curve  $\\mathbf r=\\mathbf r(\\theta)$ uniquely determines a curve $C$ and all representations related to it by an allowable change of parameter, any properties of the  $\\mathbf r=\\mathbf r(\\theta)$ may not neccessarily be a property of the curve and may be properties of the parameter. Any properties of the curve must be independant of the parameter.<br>"
   ]
  },
  {
   "cell_type": "markdown",
   "metadata": {},
   "source": [
    "<div style=\"background:red\">Definition</div>\n",
    "   <br>\n",
    "   A regular curve  $\\mathbf r = \\mathbf r(t)$ on $t\\epsilon \\mathbf I $ is said to be simple if there are no multiple points and $t_1\\neq t_2$ implies $\\mathbf r(t_1)\\neq \\mathbf r(t_2)$. This is a property of the curve and not of the representation.\n",
    "   If the interval $a\\leq t\\leq b$ is assigned then the curve $\\mathbf r=\\mathbf r(t)$ is called a regular arc and the points $\\mathbf r(a)$ and $\\mathbf r(b)$ are called the end points of the arc. An arc segment $\\mathbf b = \\mathbf r(t)$ for $a\\leq t\\leq b$ is the result of defining the interval $(a,b)$ of the arc as a subset of the interval of the curve $\\mathbf I$ <br>\n",
    "   A regular oriented curve is a curve along which a specific direction is chosen for an increase in the parameter. This can change for allowable reparameterizations because sometimes the derivative of the parameter with respect to its parameter is negative rather than positive, signifying a change in direction. "
   ]
  },
  {
   "cell_type": "code",
   "execution_count": 3,
   "metadata": {
    "collapsed": true,
    "scrolled": true
   },
   "outputs": [
    {
     "data": {
      "image/png": "[encoded data removed]",
      "text/plain": [
       "<matplotlib.figure.Figure at 0x71cfef0>"
      ]
     },
     "metadata": {},
     "output_type": "display_data"
    }
   ],
   "source": [
    "mpl.rcParams['legend.fontsize'] = 10\n",
    "\n",
    "fig = plt.figure()\n",
    "ax = fig.gca()\n",
    "theta = np.linspace(0, 2 * np.pi, 100)\n",
    "r =  1\n",
    "x = r * np.sin(theta)\n",
    "y = r * np.cos(theta)\n",
    "ax.plot(x, y, label='parametric curve, simple')\n",
    "ax.legend()\n",
    "plt.axes().set_aspect('equal', 'datalim')"
   ]
  },
  {
   "cell_type": "markdown",
   "metadata": {},
   "source": [
    "<div style=\"background:red\">Orthogonal projections</div>\n",
    "    To project a curve onto a coordinate plane defined by the basis constitutes an orthogonal projection. This is achieved by setting the non-related component to zero ... i.e. <br>\n",
    "    $$\n",
    "    r_1=r_1(t)\\qquad r_2=r_2(t)\\qquad r_3=r_3(t)\n",
    "    $$\n",
    "    and to project onto the $\\mathbf e_1 \\mathbf e_2$ plane the parameter $r_3$ is set equal to zero. And likewise for the other planes."
   ]
  },
  {
   "cell_type": "code",
   "execution_count": 2,
   "metadata": {
    "collapsed": false,
    "scrolled": true
   },
   "outputs": [
    {
     "data": {
      "text/plain": [
       "<matplotlib.legend.Legend at 0x7f5ecf8>"
      ]
     },
     "execution_count": 2,
     "metadata": {},
     "output_type": "execute_result"
    },
    {
     "name": "stderr",
     "output_type": "stream",
     "text": [
      "C:\\Users\\dave\\Anaconda\\lib\\site-packages\\matplotlib\\collections.py:590: FutureWarning: elementwise comparison failed; returning scalar instead, but in the future will perform elementwise comparison\n",
      "  if self._edgecolors == str('face'):\n"
     ]
    },
    {
     "data": {
      "image/png": "[encoded data removed]",
      "text/plain": [
       "<matplotlib.figure.Figure at 0x7307f98>"
      ]
     },
     "metadata": {},
     "output_type": "display_data"
    }
   ],
   "source": [
    "from matplotlib import cm\n",
    "mpl.rcParams['legend.fontsize'] = 10\n",
    "\n",
    "fig = plt.figure()\n",
    "ax = fig.gca(projection='3d')\n",
    "t = np.linspace(0, 25, 100)\n",
    "\n",
    "# initial velocity\n",
    "ux = 1\n",
    "uy = -1\n",
    "uz = 150\n",
    "\n",
    "# acceleration due to gravity\n",
    "a = -9.81\n",
    "\n",
    "# x and y are initial velocity times time\n",
    "x = ux*t\n",
    "y = uy*t\n",
    "\n",
    "# now the parabola\n",
    "z = uz * t +0.5*a*t**2  \n",
    "\n",
    "ax.plot(x, y, z, label='parametric curve')\n",
    "y = 0 * t\n",
    "ax.plot(x, y, z, label='projection onto xz')\n",
    "y = uy * t\n",
    "x = 0*t\n",
    "ax.plot(x, y, z, label='projection onto yz')\n",
    "x= ux * t\n",
    "z =0 * t\n",
    "ax.plot(x, y, z, label='projection onto xy')\n",
    "ax.legend(bbox_to_anchor=(0., 1.02, 1., .102), loc=3,\n",
    "           ncol=2, mode=\"expand\", borderaxespad=0.)\n",
    "#ax.legend()"
   ]
  },
  {
   "cell_type": "markdown",
   "metadata": {},
   "source": [
    "<div style=\"background:red\">Implicit representations of Curves</div>\n",
    "    A curve may be represented implicitly as the intersection of two surfaces, or as the locus of points $x_1,\\ x_2,\\ x_3$ satisfying the relations <br>\n",
    "    $$\n",
    "    F_1(x_1,x_2,x_3)=0\\qquad \\qquad F_2(x_1,x_2,x_3)=0\n",
    "    $$\n",
    "    These equations can be solved if <br>\n",
    "    $$\n",
    "    \\left |\\begin{array}{ccc} \\frac{\\partial F_1}{\\partial x_1} &  \\frac{\\partial F_1}{\\partial x_2} \\\\  \\frac{\\partial F_2}{\\partial x_1} &  \\frac{\\partial F_2}{\\partial x_2} \\end{array}\\right|\n",
    "    $$\n",
    "    Then the curve can be represented as $x_1=x_1(x_3)$, $x_2=x_2(x_3)$. requires example."
   ]
  },
  {
   "cell_type": "markdown",
   "metadata": {},
   "source": [
    "### Arc Length\n",
    "   \n",
    "An arc length can be defined in terms of approximating vectors created by subdividing the interval into discrete subdivisions and evaluating the vector function at those points, creating an approximating polygonal arc. The approximate arc length is considered to be the sum of all these vectors and the arc length of the curve is the greatest of lengths of all possible approximating polygonal arcs. An arc $\\mathbf r=\\mathbf r(t)$ is said to have an approximating polygonal arc $S$ with an interval subdivision $\\delta t$ and the arc is said to be rectifiable if the set of all $S$ is bounded from above, or has a supremum which is defined to be the length of the arc. This can be found using limits. \n",
    "   \n",
    "A regular arc $\\mathbf r=\\mathbf r(t)$ on the interval $a \\leq t \\leq b$ is rectifiable and the length is given by the integral\n",
    "   \n",
    "$$\n",
    "s = \\displaystyle \\int_a^b \\left | \\frac{d\\mathbf r}{dt}\\right | dt = \\int_a^b \\sqrt { \\left(\\frac{dx_1}{dt}\\right)^2 +\\left(\\frac{dx_2}{dt}\\right)^2+\\left(\\frac{dx_3}{dt}\\right)^2}dt \n",
    "$$\n"
   ]
  },
  {
   "cell_type": "code",
   "execution_count": 16,
   "metadata": {
    "collapsed": false,
    "scrolled": true
   },
   "outputs": [
    {
     "name": "stdout",
     "output_type": "stream",
     "text": [
      "t*ux*e.i + t*uy*e.j + (-4.905*t**2 + t*uz)*e.k\n",
      "e.i + (-1)*e.j + (-9.81*t + 150)*e.k\n",
      "sqrt((-9.81*t + 150)**2 + 2)\n",
      "Result of symbolic integration = \n",
      "1.0*Integral(sqrt(96.2361*t**2 - 2943.0*t + 22502.0), (t, 0, 25))\n",
      "Result of numeric integration = \n",
      "1610.35031235926\n"
     ]
    }
   ],
   "source": [
    "from sympy import *\n",
    "from sympy.vector import *\n",
    "from __future__ import division\n",
    "\n",
    "x,t = symbols('x t')\n",
    "\n",
    "## define integral for parabola plotted above\n",
    "\n",
    "ux,uy,uz,t = symbols('ux uy uz t')\n",
    "\n",
    "## DO NOT use N for coordinate system \n",
    "## because N() is a function for printing numerical values\n",
    "e = CoordSysCartesian('e')\n",
    "x1 = ux*t\n",
    "x2 = uy*t\n",
    "a = S(-9.81)\n",
    "x3 = uz*t + 0.5*(a*t**S(2)) \n",
    "\n",
    "r = x1*e.i + x2*e.j + x3 *e.k\n",
    "rr = e.i - e.j +(150-9.81*t)*e.k\n",
    "print r\n",
    "dr = diff(r.subs({ux:S(1),uy:S(-1),uz:S(150)}),t)\n",
    "print dr\n",
    "print dr.magnitude()\n",
    "print \"Result of symbolic integration = \"\n",
    "print integrate(expand(dr.magnitude().doit()).doit() ,(t,0,25)).doit()\n",
    "\n",
    "\n",
    "\n",
    "def numerical_integrate(expr,t1,t2, max_num):\n",
    "    dt = S(t2-t1)/max_num\n",
    "    mag = 0\n",
    "    for i in range(0,max_num):\n",
    "        expr1 = expr.subs({t:dt*i})\n",
    "        expr2 = expr.subs({t:dt*(i+1)})\n",
    "        expr3 = (expr2 - expr1).magnitude()                    \n",
    "        mag += expr3\n",
    "                        \n",
    "    return mag\n",
    "\n",
    "print \"Result of numeric integration = \"\n",
    "print numerical_integrate(r.subs({ux:1, uy:-1, uz:150}),0,25,1000)\n",
    "##quad(lambda tt: exp.subs({t:tt}), [0, 25])"
   ]
  },
  {
   "cell_type": "markdown",
   "metadata": {},
   "source": [
    "$$\\left|\\frac{d \\mathbf r}{d t}\\right| = \\sqrt{\\left(\\frac{d r_1}{dx}\\right)^2+\\left(\\frac{dr_2}{dy}\\right)^2+\\left(\\frac{dr_3}{dz}\\right)^2 }$$\n",
    "\n",
    "Here \n",
    "   \n",
    "$$\\mathbf r = u_x t \\mathbf i + u_y t \\mathbf j +\\left( \\frac{-9.81 t^2}{2} + u_z t\\right)\\mathbf k$$\n",
    "   \n",
    "and\n",
    "\n",
    "$$\\frac{d \\mathbf r}{dt} = u_x \\mathbf i + u_y \\mathbf j + (-9.81 t + u_z) \\mathbf k $$\n",
    "\n",
    "so the magnitude is \n",
    "\n",
    "$$\\left|\\frac{d \\mathbf r}{d t}\\right| = \\sqrt{u_x^2+u_y^2+(-9.81 t + u_z)^2 }$$\n",
    "\n",
    "To integrate this I need to change variables.\n",
    "\n",
    "I will use G ... \n",
    "and $G = -9.81 t + u_x$\n",
    "   \n",
    "and $ dG/dt = -9.81$ and $dt = -dG/9.81$ \n",
    "\n",
    "$$ -\\frac{1}{9.81}\\int_{S_{G_0}}^{S_{G_1}}  \\sqrt{u_x^2+u_y^2+G^2 } dG $$\n",
    "\n",
    "but the limits have changed, from above, G takes the real interval $t\\to -9.81t + u_z$, so the limits are $S_{G_1}=-9.81 \\times 25 + u_z$, and $S_{G_0}=-9.81 \\times (0) + u_z = u_z$,\n",
    "\n",
    "This integral is a well known integration from a lookup table \n",
    "\n",
    "$$\\int \\sqrt{x^2 + a^2}\\ dx = \\frac{a^2}{2}\\sinh^{-1}\\left(\\frac{x}{a}\\right) + \\frac{x}{2} \\sqrt{x^2 + a^2} + C $$ \n",
    "\n",
    "So clearly $(x^2 + a^2)$ in  this case can be substituted with $a^2 = u_x^2 + u_y^2$ and $x = G$,  \n",
    "\n",
    "$$-\\frac{1}{9.81}\\int_{S_{G_0}}^{S_{G_1}}  \\sqrt{u_x^2+u_y^2+G^2 } dG = -\\frac{1}{9.81}\\left(\\frac{u_x^2 + u_y^2}{2}\\sinh^{-1}\\left(\\frac{G}{\\sqrt{u_x^2 + u_y^2}}\\right) + \\frac{G}{2} \\sqrt{u_x^2 + u_y^2 + G^2} + C \\bigg\\rvert_{S_{G_0}}^{S_{G_1}} \\right) $$ \n",
    "\n",
    "I really don't how this was first solved ... the function $\\sinh^{-1} (x) = \\log ({x + \\sqrt{x^2 + 1}}) $, at least approximately depending on how the machine does log ... so \n",
    "\n",
    "$$ s   = -\\frac{1}{9.81}\\left(\\frac{u_x^2 + u_y^2}{2}\\log\\left(\\frac{G}{\\sqrt{u_x^2 + u_y^2}} + \\sqrt{\\frac{G^2}{u_x^2 + u_y^2} + 1}\\right) + \\frac{G}{2} \\sqrt{u_x^2 + u_y^2 + G^2} + C \\bigg\\rvert_{S_{G_0}}^{S_{G_1}} \\right)  $$\n",
    "\n",
    "I might solve for $s$ but solving this equation for $G$ (and eventually $t$ ) will be difficult or impossible -    A different example may be more appropriate for the unit speed paramerization of the curve., since this is a curve from physics involving acceleration. \n",
    "\n",
    "> as a matter of fact both arcsinh() and log() have a series expansion, however there are problems with using this\n",
    "   \n",
    "> 1) Galois theory (see wikipedia)\n",
    "   \n",
    "> 2) Sympy does not seem to produce an expression for the standard quartic, although it is apparently solved.\n",
    "   \n",
    "> 3) The series for arcsinh() goes up to 7th degree within the first 4 terms\n",
    "   \n",
    "> 4) The series approximation for log() only starts to look good near the 10th degree (see below)\n",
    "   \n"
   ]
  },
  {
   "cell_type": "code",
   "execution_count": 14,
   "metadata": {
    "collapsed": false,
    "scrolled": true
   },
   "outputs": [
    {
     "name": "stdout",
     "output_type": "stream",
     "text": [
      "solution 1\n",
      "1610.35082325725\n",
      "solution 2\n",
      "1610.35082325725\n",
      "solution 3\n",
      "90.3560788938458\n"
     ]
    }
   ],
   "source": [
    "G = symbols('G')\n",
    "\n",
    "lim1 = uz\n",
    "lim2 = -9.81*25 + uz\n",
    "\n",
    "sol =    -integrate( sqrt(ux**2 +uy**2 + G**2)/9.81 , (G,lim1, lim2 ))\n",
    "#print sol\n",
    "print \"solution 1\"\n",
    "print N(sol.subs({ux:1,uy:-1,uz:150}))\n",
    "\n",
    "s_expr = ((ux**2 + uy**2)/2) * asinh(G/sqrt(ux**2 + uy**2)) + (G/2) * sqrt(ux**2 + uy**2 + G**2)\n",
    "sol2 = s_expr.subs({G:lim2, ux:1,uy:-1,uz:150}) - s_expr.subs({G:lim1, ux:1,uy:-1,uz:150})\n",
    "print \"solution 2\"\n",
    "print N(-sol2/9.81)\n",
    "\n",
    "print \"solution 3\"\n",
    "lim3 = -9.81*24 + uz\n",
    "sol3 = s_expr.subs({G:lim2, ux:1,uy:-1,uz:150}) - s_expr.subs({G:lim3, ux:1,uy:-1,uz:150})\n",
    "print N(-sol3/9.81)"
   ]
  },
  {
   "cell_type": "markdown",
   "metadata": {},
   "source": [
    "Now that we have arc length, it is interesting to try to solve for t, because then we can reparameterize the curve with arc length"
   ]
  },
  {
   "cell_type": "code",
   "execution_count": 6,
   "metadata": {
    "collapsed": false,
    "scrolled": true
   },
   "outputs": [
    {
     "data": {
      "text/plain": [
       "sqrt(2*G**2/a**2 + 2*G*sqrt(G**2/a**2 + 1)/a + 1)"
      ]
     },
     "execution_count": 6,
     "metadata": {},
     "output_type": "execute_result"
    }
   ],
   "source": [
    "## looking at the contents of the log  ...\n",
    "(sqrt(expand((G / a + sqrt( G**2 /a**2 + 1 )) *(G / a + sqrt( G**2 /a**2 + 1 )) )).doit())"
   ]
  },
  {
   "cell_type": "code",
   "execution_count": 7,
   "metadata": {
    "collapsed": false,
    "scrolled": true
   },
   "outputs": [
    {
     "data": {
      "text/plain": [
       "True"
      ]
     },
     "execution_count": 7,
     "metadata": {},
     "output_type": "execute_result"
    }
   ],
   "source": [
    "simplify(G/a + sqrt( G**2 /a**2 + 1 )) == simplify(G/a +sqrt( (G**2 +a**2) /a**2 )) "
   ]
  },
  {
   "cell_type": "code",
   "execution_count": 8,
   "metadata": {
    "collapsed": false,
    "scrolled": true
   },
   "outputs": [
    {
     "data": {
      "text/plain": [
       "2*G**2 + 2*G*sqrt(G**2 + a**2) + a**2"
      ]
     },
     "execution_count": 8,
     "metadata": {},
     "output_type": "execute_result"
    }
   ],
   "source": [
    "expand( ( G+sqrt( (G**2 +a**2)  ) )*( G+sqrt( (G**2 +a**2)  ) ))"
   ]
  },
  {
   "cell_type": "code",
   "execution_count": 139,
   "metadata": {
    "collapsed": true,
    "scrolled": true
   },
   "outputs": [
    {
     "data": {
      "text/plain": [
       "False"
      ]
     },
     "execution_count": 139,
     "metadata": {},
     "output_type": "execute_result"
    }
   ],
   "source": [
    "log(a/b) == log(a) - log(b) ## remembering that sympy will forget the rules of basic math."
   ]
  },
  {
   "cell_type": "code",
   "execution_count": null,
   "metadata": {
    "collapsed": false,
    "scrolled": true
   },
   "outputs": [],
   "source": []
  },
  {
   "cell_type": "markdown",
   "metadata": {},
   "source": [
    "\n",
    "$$ s   = -\\frac{1}{9.81}\\left(\\frac{u_x^2 + u_y^2}{2}\\log\\left( G + \\sqrt{G^2 + u_x^2 + u_y^2}\\right) - \\log(\\sqrt(u_x^2 + u_y^2)) + \\frac{G}{2} \\sqrt{u_x^2 + u_y^2 + G^2} + C \\bigg\\rvert_{S_{G_0}}^{S_{G_1}} \\right)  $$\n",
    "\n",
    "or, setting $a = \\sqrt(u_x^2 + u_y^2)$ and $ \\lambda = -9.81$ and assuming the limits have already been input\n",
    "\n",
    "\n",
    "$$ s   = -\\frac{1}{\\lambda}\\left(\\frac{a^2}{2}\\left(\\log\\left( G + \\sqrt{G^2 + a^2}\\right) - \\log(a)\\right) + \\frac{G}{2} \\sqrt{ G^2 + a^2}  \\right)  $$\n",
    "\n"
   ]
  },
  {
   "cell_type": "code",
   "execution_count": 20,
   "metadata": {
    "collapsed": false,
    "scrolled": true
   },
   "outputs": [
    {
     "name": "stdout",
     "output_type": "stream",
     "text": [
      "G*sqrt(G**2 + ux**2 + uy**2)/2 + (ux**2/2 + uy**2/2)*asinh(G/sqrt(ux**2 + uy**2))\n",
      "The 4th degree approximation\n",
      "t + sqrt(t**2 + 1) + (t + sqrt(t**2 + 1) - 1)**3/3 - (t + sqrt(t**2 + 1) - 1)**2/2 - 1\n",
      "The 8th degree approximation\n",
      "t + sqrt(t**2 + 1) + (t + sqrt(t**2 + 1) - 1)**7/7 - (t + sqrt(t**2 + 1) - 1)**6/6 + (t + sqrt(t**2 + 1) - 1)**5/5 - (t + sqrt(t**2 + 1) - 1)**4/4 + (t + sqrt(t**2 + 1) - 1)**3/3 - (t + sqrt(t**2 + 1) - 1)**2/2 - 1\n"
     ]
    }
   ],
   "source": [
    "t0 = symbols('t0') \n",
    "sol4 = s_expr.subs({ ux:1,uy:-1,uz:150, t:t0}) \n",
    "print s_expr\n",
    "\n",
    "# had to redefine x here\n",
    "x = symbols('x')\n",
    "\n",
    "a,b,c,d,e = symbols('a,b,c,d,e')\n",
    "# no solution to the quartic here\n",
    "#solve(a*x**4 + b*x**3 + c*x**2 + d**x + e, x)\n",
    "\n",
    "#series((-1)**(n+1)*(x-1)**n / n,5)\n",
    "\n",
    "def series_expand(expr,n, MAX):\n",
    "    ex2 = 0\n",
    "    for i in range(1,MAX):\n",
    "        ex2 += expr.subs({n:i})\n",
    "        \n",
    "    return ex2\n",
    "\n",
    "n = symbols('n')\n",
    "ex2 = series_expand((-1)**(n+1)*((x+sqrt(x**2+1))-1)**n / n, n, 4)\n",
    "print \"The 4th degree approximation\"\n",
    "print ex2.subs({x:t})\n",
    "\n",
    "ex3 = series_expand((-1)**(n+1)*((x+sqrt(x**2+1))-1)**n / n, n, 8)\n",
    "print \"The 8th degree approximation\"\n",
    "print ex3.subs({x:t})"
   ]
  },
  {
   "cell_type": "markdown",
   "metadata": {},
   "source": [
    "So we can form a series approximation to the log function.\n",
    "unfortunately the series approximation to the log function is not perfect, and we have\n",
    "$$ ln(x) = log(x) = \\sum_1^\\infty \\frac{(-1)^{n+1}}{n} (x-1)^n $$ \n",
    "and this works strictly for $|x-1| \\leq 1 $\n",
    "and another expression\n"
   ]
  },
  {
   "cell_type": "code",
   "execution_count": 9,
   "metadata": {
    "collapsed": false,
    "scrolled": true
   },
   "outputs": [
    {
     "data": {
      "text/plain": [
       "'\\\\frac{1}{\\\\sqrt{ux^{2} + uy^{2}}} \\\\left(G + \\\\sqrt{\\\\frac{G^{2} + ux^{2} + uy^{2}}{ux^{2} + uy^{2}}} \\\\sqrt{ux^{2} + uy^{2}}\\\\right)'"
      ]
     },
     "execution_count": 9,
     "metadata": {},
     "output_type": "execute_result"
    }
   ],
   "source": [
    "init_printing(use_latex=true)\n",
    "latex(simplify( (G / (sqrt(ux**2 + uy**2)) + sqrt(G**2/(ux**2 + uy**2)+1 ))) )"
   ]
  },
  {
   "cell_type": "code",
   "execution_count": 12,
   "metadata": {
    "collapsed": false,
    "scrolled": true
   },
   "outputs": [
    {
     "name": "stdout",
     "output_type": "stream",
     "text": [
      "The 2th degree approximation\n"
     ]
    },
    {
     "data": {
      "image/png": "[encoded data removed]",
      "text/latex": [
       "$$G + \\sqrt{G^{2} + a^{2}} - 1$$"
      ],
      "text/plain": [
       "       _________    \n",
       "      ╱  2    2     \n",
       "G + ╲╱  G  + a   - 1"
      ]
     },
     "execution_count": 12,
     "metadata": {},
     "output_type": "execute_result"
    }
   ],
   "source": [
    "ex2 = series_expand((-1)**(n+1)*(x-1)**n / n, n, 2)\n",
    "print \"The 2th degree approximation\"\n",
    "ex2.subs({x:G+sqrt(G**2 + a**2)})"
   ]
  },
  {
   "cell_type": "code",
   "execution_count": 11,
   "metadata": {
    "collapsed": false,
    "scrolled": true
   },
   "outputs": [
    {
     "name": "stdout",
     "output_type": "stream",
     "text": [
      "The 2th degree approximation\n"
     ]
    },
    {
     "data": {
      "image/png": "[encoded data removed]",
      "text/latex": [
       "$$\\sqrt{ux^{2} + uy^{2}} - 1$$"
      ],
      "text/plain": [
       "   ___________    \n",
       "  ╱   2     2     \n",
       "╲╱  ux  + uy   - 1"
      ]
     },
     "execution_count": 11,
     "metadata": {},
     "output_type": "execute_result"
    }
   ],
   "source": [
    "ex2 = series_expand((-1)**(n+1)*(x-1)**n / n, n, 2)\n",
    "print \"The 2th degree approximation\"\n",
    "ex2.subs({x:sqrt(ux**2 + uy**2)})"
   ]
  },
  {
   "cell_type": "markdown",
   "metadata": {},
   "source": [
    "$$ s   = -\\frac{1}{\\lambda}\\left(\\frac{a^2}{2}\\left(\\log\\left( G + \\sqrt{G^2 + a^2}\\right) - \\log(a)\\right) + \\frac{G}{2} \\sqrt{ G^2 + a^2}  \\right)  $$\n",
    "\n",
    "and the 2nd degree approximation is this\n",
    "\n",
    "$$ s   = -\\frac{1}{\\lambda}\\left(\\frac{a^2}{2}\\left( G + \\sqrt{G^2 + a^2} -1 - a+1 \\right)+ \\frac{G}{2} \\sqrt{ G^2 + a^2}  \\right)  $$"
   ]
  },
  {
   "cell_type": "code",
   "execution_count": 17,
   "metadata": {
    "collapsed": false,
    "scrolled": true
   },
   "outputs": [
    {
     "name": "stdout",
     "output_type": "stream",
     "text": [
      "347.021077277739\n",
      "352.994773096610\n"
     ]
    },
    {
     "data": {
      "image/png": "[encoded data removed]",
      "text/plain": [
       "<matplotlib.figure.Figure at 0xa6de7b8>"
      ]
     },
     "metadata": {},
     "output_type": "display_data"
    }
   ],
   "source": [
    "from sympy.plotting import plot\n",
    "G = symbols('G')\n",
    "TG = -9.81 * t + uz\n",
    "TG2 = TG.subs({t:5})\n",
    "TG1 = TG.subs({t:2})\n",
    "#s_expr = s_expr.subs({ux:1,uy:-1,uz:150})\n",
    "#print s_expr.subs({G:-9.81 * t + uz,ux:1,uy:-1,uz:150})\n",
    "print -N(s_expr.subs({G:TG2,ux:1,uy:-1,uz:150}) - s_expr.subs({G:TG1,ux:1,uy:-1,uz:150})) / 9.81\n",
    "\n",
    "s_expr2 = ((ux**2 + uy**2)/2) * (G+sqrt(G**2 + ux**2 + uy**2) - 1) - ((ux**2 + uy**2)/2) *(sqrt(ux**2 + uy**2)+1) + (G/2)*sqrt(G**2 + ux**2 + uy**2)\n",
    "print -N(s_expr2.subs({G:TG2,ux:1,uy:-1,uz:150}) - s_expr2.subs({G:TG1,ux:1,uy:-1,uz:150})) / 9.81\n",
    "\n",
    "\n",
    "actual_curve = -(1/9.81)*s_expr.subs({G:-9.81 * t + uz,ux:1,uy:-1,uz:150})\n",
    "approx_curve = -(1/9.81)*s_expr2.subs({G:-9.81 * t + uz,ux:1,uy:-1,uz:150})\n",
    "p1 = plot(actual_curve,(t,0,25), show=false,line_color='r')\n",
    "p2 = plot( approx_curve,(t,0,25), show=false)\n",
    "p1.extend(p2)\n",
    "p1.show()\n",
    "\n"
   ]
  },
  {
   "cell_type": "code",
   "execution_count": 18,
   "metadata": {
    "collapsed": false,
    "scrolled": true
   },
   "outputs": [
    {
     "name": "stdout",
     "output_type": "stream",
     "text": [
      "1610.35082325725\n",
      "1639.88556368463\n"
     ]
    }
   ],
   "source": [
    "TG2 = TG.subs({t:25})\n",
    "TG1 = TG.subs({t:0})\n",
    "#s_expr = s_expr.subs({ux:1,uy:-1,uz:150})\n",
    "#print s_expr.subs({G:-9.81 * t + uz,ux:1,uy:-1,uz:150})\n",
    "print -N(s_expr.subs({G:TG2,ux:1,uy:-1,uz:150}) - s_expr.subs({G:TG1,ux:1,uy:-1,uz:150})) / 9.81\n",
    "print -N(s_expr2.subs({G:TG2,ux:1,uy:-1,uz:150}) - s_expr2.subs({G:TG1,ux:1,uy:-1,uz:150})) / 9.81\n"
   ]
  },
  {
   "cell_type": "code",
   "execution_count": 35,
   "metadata": {
    "collapsed": false,
    "scrolled": true
   },
   "outputs": [
    {
     "name": "stdout",
     "output_type": "stream",
     "text": [
      "The 2th degree approximation\n"
     ]
    },
    {
     "data": {
      "image/png": "[encoded data removed]",
      "text/latex": [
       "$$\\frac{a \\left(-1 + \\frac{1}{a} \\left(G + \\sqrt{G^{2} + a^{2}}\\right)\\right)}{G + \\sqrt{G^{2} + a^{2}}}$$"
      ],
      "text/plain": [
       "  ⎛            _________⎞\n",
       "  ⎜           ╱  2    2 ⎟\n",
       "  ⎜     G + ╲╱  G  + a  ⎟\n",
       "a⋅⎜-1 + ────────────────⎟\n",
       "  ⎝            a        ⎠\n",
       "─────────────────────────\n",
       "            _________    \n",
       "           ╱  2    2     \n",
       "     G + ╲╱  G  + a      "
      ]
     },
     "execution_count": 35,
     "metadata": {},
     "output_type": "execute_result"
    }
   ],
   "source": [
    "ex2_1 = series_expand((1/n)*((x-1) /x)**n, n, 2)\n",
    "#ex2_1 = 1 /x\n",
    "print \"The 2th degree approximation\"\n",
    "ex2_1 = ex2_1.subs({x:(G+sqrt(G**2 + a**2))/a}).doit()\n",
    "ex2_1"
   ]
  },
  {
   "cell_type": "code",
   "execution_count": 304,
   "metadata": {
    "collapsed": false,
    "scrolled": true
   },
   "outputs": [
    {
     "name": "stdout",
     "output_type": "stream",
     "text": [
      "The 2th degree approximation\n"
     ]
    },
    {
     "data": {
      "image/png": "[encoded data removed]",
      "text/latex": [
       "$$\\frac{1}{2 ux^{2} + 2 uy^{2}} + \\frac{1}{\\sqrt{ux^{2} + uy^{2}}}$$"
      ],
      "text/plain": [
       "      1               1       \n",
       "───────────── + ──────────────\n",
       "  ⎛  2     2⎞      ___________\n",
       "2⋅⎝ux  + uy ⎠     ╱   2     2 \n",
       "                ╲╱  ux  + uy  "
      ]
     },
     "execution_count": 304,
     "metadata": {},
     "output_type": "execute_result"
    }
   ],
   "source": [
    "ex2_2 = series_expand(1 /(n* x**n), n, 3)\n",
    "#ex2_2 = 1 /x\n",
    "print \"The 2th degree approximation\"\n",
    "ex2_2 = ex2_2.subs({x:sqrt(ux**2 + uy**2)}).doit()\n",
    "ex2_2"
   ]
  },
  {
   "cell_type": "code",
   "execution_count": 36,
   "metadata": {
    "collapsed": false,
    "scrolled": true
   },
   "outputs": [
    {
     "name": "stdout",
     "output_type": "stream",
     "text": [
      "a*(-1 + (G + sqrt(G**2 + a**2))/a)/(G + sqrt(G**2 + a**2))\n"
     ]
    },
    {
     "data": {
      "image/png": "[encoded data removed]",
      "text/latex": [
       "$$\\frac{G}{2} \\sqrt{G^{2} + ux^{2} + uy^{2}} + \\frac{\\sqrt{ux^{2} + uy^{2}}}{G + \\sqrt{G^{2} + ux^{2} + uy^{2}}} \\left(\\frac{ux^{2}}{2} + \\frac{uy^{2}}{2}\\right) \\left(\\frac{1}{\\sqrt{ux^{2} + uy^{2}}} \\left(G + \\sqrt{G^{2} + ux^{2} + uy^{2}}\\right) - 1\\right)$$"
      ],
      "text/plain": [
       "                                                   ⎛       ________________   \n",
       "                        ⎛  2     2⎞    ___________ ⎜      ╱  2     2     2    \n",
       "                        ⎜ux    uy ⎟   ╱   2     2  ⎜G + ╲╱  G  + ux  + uy     \n",
       "                        ⎜─── + ───⎟⋅╲╱  ux  + uy  ⋅⎜─────────────────────── - \n",
       "     ________________   ⎝ 2     2 ⎠                ⎜        ___________       \n",
       "    ╱  2     2     2                               ⎜       ╱   2     2        \n",
       "G⋅╲╱  G  + ux  + uy                                ⎝     ╲╱  ux  + uy         \n",
       "───────────────────── + ──────────────────────────────────────────────────────\n",
       "          2                                    ________________               \n",
       "                                              ╱  2     2     2                \n",
       "                                        G + ╲╱  G  + ux  + uy                 \n",
       "\n",
       " ⎞\n",
       " ⎟\n",
       " ⎟\n",
       "1⎟\n",
       " ⎟\n",
       " ⎟\n",
       " ⎠\n",
       "──\n",
       "  \n",
       "  \n",
       "  "
      ]
     },
     "execution_count": 36,
     "metadata": {},
     "output_type": "execute_result"
    }
   ],
   "source": [
    "A = symbols('A')\n",
    "s_expr_3 = ((ux**2 + uy**2)/2) * A + (G/2) * sqrt(ux**2 + uy**2 + G**2)\n",
    "print ex2_1\n",
    "s_expr_3 = s_expr_3.subs({A:ex2_1 }).doit()\n",
    "s_expr_3 = s_expr_3.subs({a:sqrt(ux**2 + uy**2)}).doit()\n",
    "s_expr_3"
   ]
  },
  {
   "cell_type": "code",
   "execution_count": 37,
   "metadata": {
    "collapsed": false,
    "scrolled": true
   },
   "outputs": [
    {
     "data": {
      "image/png": "[encoded data removed]",
      "text/plain": [
       "<matplotlib.figure.Figure at 0xb365f60>"
      ]
     },
     "metadata": {},
     "output_type": "display_data"
    }
   ],
   "source": [
    "actual_curve = -(1/9.81)*s_expr.subs({G:-9.81 * t + uz,ux:1,uy:-1,uz:150})\n",
    "#approx_curve = -(1/9.81)*s_expr2.subs({G:-9.81 * t + uz,ux:1,uy:-1,uz:150})\n",
    "approx_curve2 = -(1/9.81)*s_expr_3.subs({G:-9.81 * t + uz,ux:1,uy:-1,uz:150})\n",
    "p1 = plot(actual_curve,(t,0,25), show=false,line_color='r')\n",
    "#p2 = plot( approx_curve,(t,0,25), show=false)\n",
    "p3 = plot(approx_curve2,(t,0,25), show=false,line_color='g')\n",
    "#p1.extend(p2)\n",
    "p1.extend(p3)\n",
    "p1.show()"
   ]
  },
  {
   "cell_type": "code",
   "execution_count": 45,
   "metadata": {
    "collapsed": false,
    "scrolled": true
   },
   "outputs": [
    {
     "name": "stdout",
     "output_type": "stream",
     "text": [
      "Comparing 3 expressions for t=0,15\n",
      "1146.77604698369\n",
      "1146.40122124574\n",
      "1176.34467944414\n",
      "Comparing 3 expressions for t = 15,25\n",
      "463.574776273563\n",
      "476.635247918020\n",
      "463.540884240490\n"
     ]
    }
   ],
   "source": [
    "TG2 = TG.subs({t:15})\n",
    "TG1 = TG.subs({t:0})\n",
    "print \"Comparing 3 expressions for t=0,15\"\n",
    "print -N(s_expr.subs({G:TG2,ux:1,uy:-1,uz:150}) - s_expr.subs({G:TG1,ux:1,uy:-1,uz:150})) / 9.81\n",
    "print -N(s_expr_3.subs({G:TG2,ux:1,uy:-1,uz:150}) - s_expr_3.subs({G:TG1,ux:1,uy:-1,uz:150})) / 9.81\n",
    "print -N(s_expr2.subs({G:TG2,ux:1,uy:-1,uz:150}) - s_expr2.subs({G:TG1,ux:1,uy:-1,uz:150})) / 9.81\n",
    "\n",
    "TG2 = TG.subs({t:25})\n",
    "TG1 = TG.subs({t:15})\n",
    "print \"Comparing 3 expressions for t = 15,25\"\n",
    "print -N(s_expr.subs({G:TG2,ux:1,uy:-1,uz:150}) - s_expr.subs({G:TG1,ux:1,uy:-1,uz:150})) / 9.81\n",
    "print -N(s_expr_3.subs({G:TG2,ux:1,uy:-1,uz:150}) - s_expr_3.subs({G:TG1,ux:1,uy:-1,uz:150})) / 9.81\n",
    "print -N(s_expr2.subs({G:TG2,ux:1,uy:-1,uz:150}) - s_expr2.subs({G:TG1,ux:1,uy:-1,uz:150})) / 9.81"
   ]
  },
  {
   "cell_type": "code",
   "execution_count": 49,
   "metadata": {
    "collapsed": false
   },
   "outputs": [
    {
     "name": "stdout",
     "output_type": "stream",
     "text": [
      "1610.35082325725\n",
      "1609.94210548623\n",
      "error of actual result from t = 15,25\n",
      "0.0338920330720498\n",
      "error of actual result from t = 0,15\n",
      "0.374825737949550\n"
     ]
    }
   ],
   "source": [
    "TG2 = TG.subs({t:25})\n",
    "TG1 = TG.subs({t:15})\n",
    "TG0 = TG.subs({t:0})\n",
    "print -N(s_expr.subs({G:TG2,ux:1,uy:-1,uz:150}) - s_expr.subs({G:TG0,ux:1,uy:-1,uz:150})) / 9.81\n",
    "s2= -N(s_expr_3.subs({G:TG1,ux:1,uy:-1,uz:150}) - s_expr_3.subs({G:TG0,ux:1,uy:-1,uz:150})) / 9.81\n",
    "s3= -N(s_expr2.subs({G:TG2,ux:1,uy:-1,uz:150}) - s_expr2.subs({G:TG1,ux:1,uy:-1,uz:150})) / 9.81\n",
    "s4 = s2+s3\n",
    "print s4\n",
    "\n",
    "print \"error of actual result from t = 15,25\"\n",
    "print -N(s_expr.subs({G:TG2,ux:1,uy:-1,uz:150}) - s_expr.subs({G:TG1,ux:1,uy:-1,uz:150})) / 9.81 - s3\n",
    "print \"error of actual result from t = 0,15\"\n",
    "print -N(s_expr.subs({G:TG1,ux:1,uy:-1,uz:150}) - s_expr.subs({G:TG0,ux:1,uy:-1,uz:150})) / 9.81 - s2"
   ]
  },
  {
   "cell_type": "code",
   "execution_count": 25,
   "metadata": {
    "collapsed": false,
    "scrolled": true
   },
   "outputs": [
    {
     "ename": "KeyboardInterrupt",
     "evalue": "",
     "output_type": "error",
     "traceback": [
      "\u001b[1;31m---------------------------------------------------------------------------\u001b[0m",
      "\u001b[1;31mKeyboardInterrupt\u001b[0m                         Traceback (most recent call last)",
      "\u001b[1;32m<ipython-input-25-019d99daa590>\u001b[0m in \u001b[0;36m<module>\u001b[1;34m()\u001b[0m\n\u001b[0;32m      1\u001b[0m \u001b[0ms\u001b[0m\u001b[1;33m=\u001b[0m \u001b[0msymbols\u001b[0m\u001b[1;33m(\u001b[0m\u001b[1;34m's'\u001b[0m\u001b[1;33m)\u001b[0m\u001b[1;33m\u001b[0m\u001b[0m\n\u001b[1;32m----> 2\u001b[1;33m \u001b[0msolve\u001b[0m\u001b[1;33m(\u001b[0m\u001b[0ms_expr2\u001b[0m\u001b[1;33m-\u001b[0m\u001b[0ms\u001b[0m\u001b[1;33m,\u001b[0m\u001b[0mG\u001b[0m\u001b[1;33m)\u001b[0m\u001b[1;33m\u001b[0m\u001b[0m\n\u001b[0m",
      "\u001b[1;32mC:\\Users\\dave\\Anaconda\\lib\\site-packages\\sympy\\solvers\\solvers.pyc\u001b[0m in \u001b[0;36msolve\u001b[1;34m(f, *symbols, **flags)\u001b[0m\n\u001b[0;32m   1051\u001b[0m     \u001b[1;31m###########################################################################\u001b[0m\u001b[1;33m\u001b[0m\u001b[1;33m\u001b[0m\u001b[0m\n\u001b[0;32m   1052\u001b[0m     \u001b[1;32mif\u001b[0m \u001b[0mbare_f\u001b[0m\u001b[1;33m:\u001b[0m\u001b[1;33m\u001b[0m\u001b[0m\n\u001b[1;32m-> 1053\u001b[1;33m         \u001b[0msolution\u001b[0m \u001b[1;33m=\u001b[0m \u001b[0m_solve\u001b[0m\u001b[1;33m(\u001b[0m\u001b[0mf\u001b[0m\u001b[1;33m[\u001b[0m\u001b[1;36m0\u001b[0m\u001b[1;33m]\u001b[0m\u001b[1;33m,\u001b[0m \u001b[1;33m*\u001b[0m\u001b[0msymbols\u001b[0m\u001b[1;33m,\u001b[0m \u001b[1;33m**\u001b[0m\u001b[0mflags\u001b[0m\u001b[1;33m)\u001b[0m\u001b[1;33m\u001b[0m\u001b[0m\n\u001b[0m\u001b[0;32m   1054\u001b[0m     \u001b[1;32melse\u001b[0m\u001b[1;33m:\u001b[0m\u001b[1;33m\u001b[0m\u001b[0m\n\u001b[0;32m   1055\u001b[0m         \u001b[0msolution\u001b[0m \u001b[1;33m=\u001b[0m \u001b[0m_solve_system\u001b[0m\u001b[1;33m(\u001b[0m\u001b[0mf\u001b[0m\u001b[1;33m,\u001b[0m \u001b[0msymbols\u001b[0m\u001b[1;33m,\u001b[0m \u001b[1;33m**\u001b[0m\u001b[0mflags\u001b[0m\u001b[1;33m)\u001b[0m\u001b[1;33m\u001b[0m\u001b[0m\n",
      "\u001b[1;32mC:\\Users\\dave\\Anaconda\\lib\\site-packages\\sympy\\solvers\\solvers.pyc\u001b[0m in \u001b[0;36m_solve\u001b[1;34m(f, *symbols, **flags)\u001b[0m\n\u001b[0;32m   1635\u001b[0m         \u001b[1;31m# keep only results if the check is not False\u001b[0m\u001b[1;33m\u001b[0m\u001b[1;33m\u001b[0m\u001b[0m\n\u001b[0;32m   1636\u001b[0m         result = [r for r in result if\n\u001b[1;32m-> 1637\u001b[1;33m                   checksol(f_num, {symbol: r}, **flags) is not False]\n\u001b[0m\u001b[0;32m   1638\u001b[0m     \u001b[1;32mreturn\u001b[0m \u001b[0mresult\u001b[0m\u001b[1;33m\u001b[0m\u001b[0m\n\u001b[0;32m   1639\u001b[0m \u001b[1;33m\u001b[0m\u001b[0m\n",
      "\u001b[1;32mC:\\Users\\dave\\Anaconda\\lib\\site-packages\\sympy\\solvers\\solvers.pyc\u001b[0m in \u001b[0;36mchecksol\u001b[1;34m(f, symbol, sol, **flags)\u001b[0m\n\u001b[0;32m    229\u001b[0m                 \u001b[1;31m# there are free symbols -- simple expansion might work\u001b[0m\u001b[1;33m\u001b[0m\u001b[1;33m\u001b[0m\u001b[0m\n\u001b[0;32m    230\u001b[0m                 \u001b[0m_\u001b[0m\u001b[1;33m,\u001b[0m \u001b[0mval\u001b[0m \u001b[1;33m=\u001b[0m \u001b[0mval\u001b[0m\u001b[1;33m.\u001b[0m\u001b[0mas_content_primitive\u001b[0m\u001b[1;33m(\u001b[0m\u001b[1;33m)\u001b[0m\u001b[1;33m\u001b[0m\u001b[0m\n\u001b[1;32m--> 231\u001b[1;33m                 \u001b[0mval\u001b[0m \u001b[1;33m=\u001b[0m \u001b[0mexpand_mul\u001b[0m\u001b[1;33m(\u001b[0m\u001b[0mexpand_multinomial\u001b[0m\u001b[1;33m(\u001b[0m\u001b[0mval\u001b[0m\u001b[1;33m)\u001b[0m\u001b[1;33m)\u001b[0m\u001b[1;33m\u001b[0m\u001b[0m\n\u001b[0m\u001b[0;32m    232\u001b[0m         \u001b[1;32melif\u001b[0m \u001b[0mattempt\u001b[0m \u001b[1;33m==\u001b[0m \u001b[1;36m2\u001b[0m\u001b[1;33m:\u001b[0m\u001b[1;33m\u001b[0m\u001b[0m\n\u001b[0;32m    233\u001b[0m             \u001b[1;32mif\u001b[0m \u001b[0mminimal\u001b[0m\u001b[1;33m:\u001b[0m\u001b[1;33m\u001b[0m\u001b[0m\n",
      "\u001b[1;32mC:\\Users\\dave\\Anaconda\\lib\\site-packages\\sympy\\core\\function.pyc\u001b[0m in \u001b[0;36mexpand_mul\u001b[1;34m(expr, deep)\u001b[0m\n\u001b[0;32m   2055\u001b[0m     \"\"\"\n\u001b[0;32m   2056\u001b[0m     return sympify(expr).expand(deep=deep, mul=True, power_exp=False,\n\u001b[1;32m-> 2057\u001b[1;33m     power_base=False, basic=False, multinomial=False, log=False)\n\u001b[0m\u001b[0;32m   2058\u001b[0m \u001b[1;33m\u001b[0m\u001b[0m\n\u001b[0;32m   2059\u001b[0m \u001b[1;33m\u001b[0m\u001b[0m\n",
      "\u001b[1;32mC:\\Users\\dave\\Anaconda\\lib\\site-packages\\sympy\\core\\expr.pyc\u001b[0m in \u001b[0;36mexpand\u001b[1;34m(self, deep, modulus, power_base, power_exp, mul, log, multinomial, basic, **hints)\u001b[0m\n\u001b[0;32m   2960\u001b[0m             \u001b[1;32mif\u001b[0m \u001b[0muse_hint\u001b[0m\u001b[1;33m:\u001b[0m\u001b[1;33m\u001b[0m\u001b[0m\n\u001b[0;32m   2961\u001b[0m                 \u001b[0mhint\u001b[0m \u001b[1;33m=\u001b[0m \u001b[1;34m'_eval_expand_'\u001b[0m \u001b[1;33m+\u001b[0m \u001b[0mhint\u001b[0m\u001b[1;33m\u001b[0m\u001b[0m\n\u001b[1;32m-> 2962\u001b[1;33m                 \u001b[0mexpr\u001b[0m\u001b[1;33m,\u001b[0m \u001b[0mhit\u001b[0m \u001b[1;33m=\u001b[0m \u001b[0mExpr\u001b[0m\u001b[1;33m.\u001b[0m\u001b[0m_expand_hint\u001b[0m\u001b[1;33m(\u001b[0m\u001b[0mexpr\u001b[0m\u001b[1;33m,\u001b[0m \u001b[0mhint\u001b[0m\u001b[1;33m,\u001b[0m \u001b[0mdeep\u001b[0m\u001b[1;33m=\u001b[0m\u001b[0mdeep\u001b[0m\u001b[1;33m,\u001b[0m \u001b[1;33m**\u001b[0m\u001b[0mhints\u001b[0m\u001b[1;33m)\u001b[0m\u001b[1;33m\u001b[0m\u001b[0m\n\u001b[0m\u001b[0;32m   2963\u001b[0m \u001b[1;33m\u001b[0m\u001b[0m\n\u001b[0;32m   2964\u001b[0m         \u001b[1;32mwhile\u001b[0m \u001b[0mTrue\u001b[0m\u001b[1;33m:\u001b[0m\u001b[1;33m\u001b[0m\u001b[0m\n",
      "\u001b[1;32mC:\\Users\\dave\\Anaconda\\lib\\site-packages\\sympy\\core\\expr.pyc\u001b[0m in \u001b[0;36m_expand_hint\u001b[1;34m(expr, hint, deep, **hints)\u001b[0m\n\u001b[0;32m   2893\u001b[0m             \u001b[0msargs\u001b[0m \u001b[1;33m=\u001b[0m \u001b[1;33m[\u001b[0m\u001b[1;33m]\u001b[0m\u001b[1;33m\u001b[0m\u001b[0m\n\u001b[0;32m   2894\u001b[0m             \u001b[1;32mfor\u001b[0m \u001b[0marg\u001b[0m \u001b[1;32min\u001b[0m \u001b[0mexpr\u001b[0m\u001b[1;33m.\u001b[0m\u001b[0margs\u001b[0m\u001b[1;33m:\u001b[0m\u001b[1;33m\u001b[0m\u001b[0m\n\u001b[1;32m-> 2895\u001b[1;33m                 \u001b[0marg\u001b[0m\u001b[1;33m,\u001b[0m \u001b[0marghit\u001b[0m \u001b[1;33m=\u001b[0m \u001b[0mExpr\u001b[0m\u001b[1;33m.\u001b[0m\u001b[0m_expand_hint\u001b[0m\u001b[1;33m(\u001b[0m\u001b[0marg\u001b[0m\u001b[1;33m,\u001b[0m \u001b[0mhint\u001b[0m\u001b[1;33m,\u001b[0m \u001b[1;33m**\u001b[0m\u001b[0mhints\u001b[0m\u001b[1;33m)\u001b[0m\u001b[1;33m\u001b[0m\u001b[0m\n\u001b[0m\u001b[0;32m   2896\u001b[0m                 \u001b[0mhit\u001b[0m \u001b[1;33m|=\u001b[0m \u001b[0marghit\u001b[0m\u001b[1;33m\u001b[0m\u001b[0m\n\u001b[0;32m   2897\u001b[0m                 \u001b[0msargs\u001b[0m\u001b[1;33m.\u001b[0m\u001b[0mappend\u001b[0m\u001b[1;33m(\u001b[0m\u001b[0marg\u001b[0m\u001b[1;33m)\u001b[0m\u001b[1;33m\u001b[0m\u001b[0m\n",
      "\u001b[1;32mC:\\Users\\dave\\Anaconda\\lib\\site-packages\\sympy\\core\\expr.pyc\u001b[0m in \u001b[0;36m_expand_hint\u001b[1;34m(expr, hint, deep, **hints)\u001b[0m\n\u001b[0;32m   2893\u001b[0m             \u001b[0msargs\u001b[0m \u001b[1;33m=\u001b[0m \u001b[1;33m[\u001b[0m\u001b[1;33m]\u001b[0m\u001b[1;33m\u001b[0m\u001b[0m\n\u001b[0;32m   2894\u001b[0m             \u001b[1;32mfor\u001b[0m \u001b[0marg\u001b[0m \u001b[1;32min\u001b[0m \u001b[0mexpr\u001b[0m\u001b[1;33m.\u001b[0m\u001b[0margs\u001b[0m\u001b[1;33m:\u001b[0m\u001b[1;33m\u001b[0m\u001b[0m\n\u001b[1;32m-> 2895\u001b[1;33m                 \u001b[0marg\u001b[0m\u001b[1;33m,\u001b[0m \u001b[0marghit\u001b[0m \u001b[1;33m=\u001b[0m \u001b[0mExpr\u001b[0m\u001b[1;33m.\u001b[0m\u001b[0m_expand_hint\u001b[0m\u001b[1;33m(\u001b[0m\u001b[0marg\u001b[0m\u001b[1;33m,\u001b[0m \u001b[0mhint\u001b[0m\u001b[1;33m,\u001b[0m \u001b[1;33m**\u001b[0m\u001b[0mhints\u001b[0m\u001b[1;33m)\u001b[0m\u001b[1;33m\u001b[0m\u001b[0m\n\u001b[0m\u001b[0;32m   2896\u001b[0m                 \u001b[0mhit\u001b[0m \u001b[1;33m|=\u001b[0m \u001b[0marghit\u001b[0m\u001b[1;33m\u001b[0m\u001b[0m\n\u001b[0;32m   2897\u001b[0m                 \u001b[0msargs\u001b[0m\u001b[1;33m.\u001b[0m\u001b[0mappend\u001b[0m\u001b[1;33m(\u001b[0m\u001b[0marg\u001b[0m\u001b[1;33m)\u001b[0m\u001b[1;33m\u001b[0m\u001b[0m\n",
      "\u001b[1;32mC:\\Users\\dave\\Anaconda\\lib\\site-packages\\sympy\\core\\expr.pyc\u001b[0m in \u001b[0;36m_expand_hint\u001b[1;34m(expr, hint, deep, **hints)\u001b[0m\n\u001b[0;32m   2893\u001b[0m             \u001b[0msargs\u001b[0m \u001b[1;33m=\u001b[0m \u001b[1;33m[\u001b[0m\u001b[1;33m]\u001b[0m\u001b[1;33m\u001b[0m\u001b[0m\n\u001b[0;32m   2894\u001b[0m             \u001b[1;32mfor\u001b[0m \u001b[0marg\u001b[0m \u001b[1;32min\u001b[0m \u001b[0mexpr\u001b[0m\u001b[1;33m.\u001b[0m\u001b[0margs\u001b[0m\u001b[1;33m:\u001b[0m\u001b[1;33m\u001b[0m\u001b[0m\n\u001b[1;32m-> 2895\u001b[1;33m                 \u001b[0marg\u001b[0m\u001b[1;33m,\u001b[0m \u001b[0marghit\u001b[0m \u001b[1;33m=\u001b[0m \u001b[0mExpr\u001b[0m\u001b[1;33m.\u001b[0m\u001b[0m_expand_hint\u001b[0m\u001b[1;33m(\u001b[0m\u001b[0marg\u001b[0m\u001b[1;33m,\u001b[0m \u001b[0mhint\u001b[0m\u001b[1;33m,\u001b[0m \u001b[1;33m**\u001b[0m\u001b[0mhints\u001b[0m\u001b[1;33m)\u001b[0m\u001b[1;33m\u001b[0m\u001b[0m\n\u001b[0m\u001b[0;32m   2896\u001b[0m                 \u001b[0mhit\u001b[0m \u001b[1;33m|=\u001b[0m \u001b[0marghit\u001b[0m\u001b[1;33m\u001b[0m\u001b[0m\n\u001b[0;32m   2897\u001b[0m                 \u001b[0msargs\u001b[0m\u001b[1;33m.\u001b[0m\u001b[0mappend\u001b[0m\u001b[1;33m(\u001b[0m\u001b[0marg\u001b[0m\u001b[1;33m)\u001b[0m\u001b[1;33m\u001b[0m\u001b[0m\n",
      "\u001b[1;32mC:\\Users\\dave\\Anaconda\\lib\\site-packages\\sympy\\core\\expr.pyc\u001b[0m in \u001b[0;36m_expand_hint\u001b[1;34m(expr, hint, deep, **hints)\u001b[0m\n\u001b[0;32m   2893\u001b[0m             \u001b[0msargs\u001b[0m \u001b[1;33m=\u001b[0m \u001b[1;33m[\u001b[0m\u001b[1;33m]\u001b[0m\u001b[1;33m\u001b[0m\u001b[0m\n\u001b[0;32m   2894\u001b[0m             \u001b[1;32mfor\u001b[0m \u001b[0marg\u001b[0m \u001b[1;32min\u001b[0m \u001b[0mexpr\u001b[0m\u001b[1;33m.\u001b[0m\u001b[0margs\u001b[0m\u001b[1;33m:\u001b[0m\u001b[1;33m\u001b[0m\u001b[0m\n\u001b[1;32m-> 2895\u001b[1;33m                 \u001b[0marg\u001b[0m\u001b[1;33m,\u001b[0m \u001b[0marghit\u001b[0m \u001b[1;33m=\u001b[0m \u001b[0mExpr\u001b[0m\u001b[1;33m.\u001b[0m\u001b[0m_expand_hint\u001b[0m\u001b[1;33m(\u001b[0m\u001b[0marg\u001b[0m\u001b[1;33m,\u001b[0m \u001b[0mhint\u001b[0m\u001b[1;33m,\u001b[0m \u001b[1;33m**\u001b[0m\u001b[0mhints\u001b[0m\u001b[1;33m)\u001b[0m\u001b[1;33m\u001b[0m\u001b[0m\n\u001b[0m\u001b[0;32m   2896\u001b[0m                 \u001b[0mhit\u001b[0m \u001b[1;33m|=\u001b[0m \u001b[0marghit\u001b[0m\u001b[1;33m\u001b[0m\u001b[0m\n\u001b[0;32m   2897\u001b[0m                 \u001b[0msargs\u001b[0m\u001b[1;33m.\u001b[0m\u001b[0mappend\u001b[0m\u001b[1;33m(\u001b[0m\u001b[0marg\u001b[0m\u001b[1;33m)\u001b[0m\u001b[1;33m\u001b[0m\u001b[0m\n",
      "\u001b[1;32mC:\\Users\\dave\\Anaconda\\lib\\site-packages\\sympy\\core\\expr.pyc\u001b[0m in \u001b[0;36m_expand_hint\u001b[1;34m(expr, hint, deep, **hints)\u001b[0m\n\u001b[0;32m   2893\u001b[0m             \u001b[0msargs\u001b[0m \u001b[1;33m=\u001b[0m \u001b[1;33m[\u001b[0m\u001b[1;33m]\u001b[0m\u001b[1;33m\u001b[0m\u001b[0m\n\u001b[0;32m   2894\u001b[0m             \u001b[1;32mfor\u001b[0m \u001b[0marg\u001b[0m \u001b[1;32min\u001b[0m \u001b[0mexpr\u001b[0m\u001b[1;33m.\u001b[0m\u001b[0margs\u001b[0m\u001b[1;33m:\u001b[0m\u001b[1;33m\u001b[0m\u001b[0m\n\u001b[1;32m-> 2895\u001b[1;33m                 \u001b[0marg\u001b[0m\u001b[1;33m,\u001b[0m \u001b[0marghit\u001b[0m \u001b[1;33m=\u001b[0m \u001b[0mExpr\u001b[0m\u001b[1;33m.\u001b[0m\u001b[0m_expand_hint\u001b[0m\u001b[1;33m(\u001b[0m\u001b[0marg\u001b[0m\u001b[1;33m,\u001b[0m \u001b[0mhint\u001b[0m\u001b[1;33m,\u001b[0m \u001b[1;33m**\u001b[0m\u001b[0mhints\u001b[0m\u001b[1;33m)\u001b[0m\u001b[1;33m\u001b[0m\u001b[0m\n\u001b[0m\u001b[0;32m   2896\u001b[0m                 \u001b[0mhit\u001b[0m \u001b[1;33m|=\u001b[0m \u001b[0marghit\u001b[0m\u001b[1;33m\u001b[0m\u001b[0m\n\u001b[0;32m   2897\u001b[0m                 \u001b[0msargs\u001b[0m\u001b[1;33m.\u001b[0m\u001b[0mappend\u001b[0m\u001b[1;33m(\u001b[0m\u001b[0marg\u001b[0m\u001b[1;33m)\u001b[0m\u001b[1;33m\u001b[0m\u001b[0m\n",
      "\u001b[1;32mC:\\Users\\dave\\Anaconda\\lib\\site-packages\\sympy\\core\\expr.pyc\u001b[0m in \u001b[0;36m_expand_hint\u001b[1;34m(expr, hint, deep, **hints)\u001b[0m\n\u001b[0;32m   2893\u001b[0m             \u001b[0msargs\u001b[0m \u001b[1;33m=\u001b[0m \u001b[1;33m[\u001b[0m\u001b[1;33m]\u001b[0m\u001b[1;33m\u001b[0m\u001b[0m\n\u001b[0;32m   2894\u001b[0m             \u001b[1;32mfor\u001b[0m \u001b[0marg\u001b[0m \u001b[1;32min\u001b[0m \u001b[0mexpr\u001b[0m\u001b[1;33m.\u001b[0m\u001b[0margs\u001b[0m\u001b[1;33m:\u001b[0m\u001b[1;33m\u001b[0m\u001b[0m\n\u001b[1;32m-> 2895\u001b[1;33m                 \u001b[0marg\u001b[0m\u001b[1;33m,\u001b[0m \u001b[0marghit\u001b[0m \u001b[1;33m=\u001b[0m \u001b[0mExpr\u001b[0m\u001b[1;33m.\u001b[0m\u001b[0m_expand_hint\u001b[0m\u001b[1;33m(\u001b[0m\u001b[0marg\u001b[0m\u001b[1;33m,\u001b[0m \u001b[0mhint\u001b[0m\u001b[1;33m,\u001b[0m \u001b[1;33m**\u001b[0m\u001b[0mhints\u001b[0m\u001b[1;33m)\u001b[0m\u001b[1;33m\u001b[0m\u001b[0m\n\u001b[0m\u001b[0;32m   2896\u001b[0m                 \u001b[0mhit\u001b[0m \u001b[1;33m|=\u001b[0m \u001b[0marghit\u001b[0m\u001b[1;33m\u001b[0m\u001b[0m\n\u001b[0;32m   2897\u001b[0m                 \u001b[0msargs\u001b[0m\u001b[1;33m.\u001b[0m\u001b[0mappend\u001b[0m\u001b[1;33m(\u001b[0m\u001b[0marg\u001b[0m\u001b[1;33m)\u001b[0m\u001b[1;33m\u001b[0m\u001b[0m\n",
      "\u001b[1;32mC:\\Users\\dave\\Anaconda\\lib\\site-packages\\sympy\\core\\expr.pyc\u001b[0m in \u001b[0;36m_expand_hint\u001b[1;34m(expr, hint, deep, **hints)\u001b[0m\n\u001b[0;32m   2893\u001b[0m             \u001b[0msargs\u001b[0m \u001b[1;33m=\u001b[0m \u001b[1;33m[\u001b[0m\u001b[1;33m]\u001b[0m\u001b[1;33m\u001b[0m\u001b[0m\n\u001b[0;32m   2894\u001b[0m             \u001b[1;32mfor\u001b[0m \u001b[0marg\u001b[0m \u001b[1;32min\u001b[0m \u001b[0mexpr\u001b[0m\u001b[1;33m.\u001b[0m\u001b[0margs\u001b[0m\u001b[1;33m:\u001b[0m\u001b[1;33m\u001b[0m\u001b[0m\n\u001b[1;32m-> 2895\u001b[1;33m                 \u001b[0marg\u001b[0m\u001b[1;33m,\u001b[0m \u001b[0marghit\u001b[0m \u001b[1;33m=\u001b[0m \u001b[0mExpr\u001b[0m\u001b[1;33m.\u001b[0m\u001b[0m_expand_hint\u001b[0m\u001b[1;33m(\u001b[0m\u001b[0marg\u001b[0m\u001b[1;33m,\u001b[0m \u001b[0mhint\u001b[0m\u001b[1;33m,\u001b[0m \u001b[1;33m**\u001b[0m\u001b[0mhints\u001b[0m\u001b[1;33m)\u001b[0m\u001b[1;33m\u001b[0m\u001b[0m\n\u001b[0m\u001b[0;32m   2896\u001b[0m                 \u001b[0mhit\u001b[0m \u001b[1;33m|=\u001b[0m \u001b[0marghit\u001b[0m\u001b[1;33m\u001b[0m\u001b[0m\n\u001b[0;32m   2897\u001b[0m                 \u001b[0msargs\u001b[0m\u001b[1;33m.\u001b[0m\u001b[0mappend\u001b[0m\u001b[1;33m(\u001b[0m\u001b[0marg\u001b[0m\u001b[1;33m)\u001b[0m\u001b[1;33m\u001b[0m\u001b[0m\n",
      "\u001b[1;32mC:\\Users\\dave\\Anaconda\\lib\\site-packages\\sympy\\core\\expr.pyc\u001b[0m in \u001b[0;36m_expand_hint\u001b[1;34m(expr, hint, deep, **hints)\u001b[0m\n\u001b[0;32m   2893\u001b[0m             \u001b[0msargs\u001b[0m \u001b[1;33m=\u001b[0m \u001b[1;33m[\u001b[0m\u001b[1;33m]\u001b[0m\u001b[1;33m\u001b[0m\u001b[0m\n\u001b[0;32m   2894\u001b[0m             \u001b[1;32mfor\u001b[0m \u001b[0marg\u001b[0m \u001b[1;32min\u001b[0m \u001b[0mexpr\u001b[0m\u001b[1;33m.\u001b[0m\u001b[0margs\u001b[0m\u001b[1;33m:\u001b[0m\u001b[1;33m\u001b[0m\u001b[0m\n\u001b[1;32m-> 2895\u001b[1;33m                 \u001b[0marg\u001b[0m\u001b[1;33m,\u001b[0m \u001b[0marghit\u001b[0m \u001b[1;33m=\u001b[0m \u001b[0mExpr\u001b[0m\u001b[1;33m.\u001b[0m\u001b[0m_expand_hint\u001b[0m\u001b[1;33m(\u001b[0m\u001b[0marg\u001b[0m\u001b[1;33m,\u001b[0m \u001b[0mhint\u001b[0m\u001b[1;33m,\u001b[0m \u001b[1;33m**\u001b[0m\u001b[0mhints\u001b[0m\u001b[1;33m)\u001b[0m\u001b[1;33m\u001b[0m\u001b[0m\n\u001b[0m\u001b[0;32m   2896\u001b[0m                 \u001b[0mhit\u001b[0m \u001b[1;33m|=\u001b[0m \u001b[0marghit\u001b[0m\u001b[1;33m\u001b[0m\u001b[0m\n\u001b[0;32m   2897\u001b[0m                 \u001b[0msargs\u001b[0m\u001b[1;33m.\u001b[0m\u001b[0mappend\u001b[0m\u001b[1;33m(\u001b[0m\u001b[0marg\u001b[0m\u001b[1;33m)\u001b[0m\u001b[1;33m\u001b[0m\u001b[0m\n",
      "\u001b[1;32mC:\\Users\\dave\\Anaconda\\lib\\site-packages\\sympy\\core\\expr.pyc\u001b[0m in \u001b[0;36m_expand_hint\u001b[1;34m(expr, hint, deep, **hints)\u001b[0m\n\u001b[0;32m   2893\u001b[0m             \u001b[0msargs\u001b[0m \u001b[1;33m=\u001b[0m \u001b[1;33m[\u001b[0m\u001b[1;33m]\u001b[0m\u001b[1;33m\u001b[0m\u001b[0m\n\u001b[0;32m   2894\u001b[0m             \u001b[1;32mfor\u001b[0m \u001b[0marg\u001b[0m \u001b[1;32min\u001b[0m \u001b[0mexpr\u001b[0m\u001b[1;33m.\u001b[0m\u001b[0margs\u001b[0m\u001b[1;33m:\u001b[0m\u001b[1;33m\u001b[0m\u001b[0m\n\u001b[1;32m-> 2895\u001b[1;33m                 \u001b[0marg\u001b[0m\u001b[1;33m,\u001b[0m \u001b[0marghit\u001b[0m \u001b[1;33m=\u001b[0m \u001b[0mExpr\u001b[0m\u001b[1;33m.\u001b[0m\u001b[0m_expand_hint\u001b[0m\u001b[1;33m(\u001b[0m\u001b[0marg\u001b[0m\u001b[1;33m,\u001b[0m \u001b[0mhint\u001b[0m\u001b[1;33m,\u001b[0m \u001b[1;33m**\u001b[0m\u001b[0mhints\u001b[0m\u001b[1;33m)\u001b[0m\u001b[1;33m\u001b[0m\u001b[0m\n\u001b[0m\u001b[0;32m   2896\u001b[0m                 \u001b[0mhit\u001b[0m \u001b[1;33m|=\u001b[0m \u001b[0marghit\u001b[0m\u001b[1;33m\u001b[0m\u001b[0m\n\u001b[0;32m   2897\u001b[0m                 \u001b[0msargs\u001b[0m\u001b[1;33m.\u001b[0m\u001b[0mappend\u001b[0m\u001b[1;33m(\u001b[0m\u001b[0marg\u001b[0m\u001b[1;33m)\u001b[0m\u001b[1;33m\u001b[0m\u001b[0m\n",
      "\u001b[1;32mC:\\Users\\dave\\Anaconda\\lib\\site-packages\\sympy\\core\\expr.pyc\u001b[0m in \u001b[0;36m_expand_hint\u001b[1;34m(expr, hint, deep, **hints)\u001b[0m\n\u001b[0;32m   2893\u001b[0m             \u001b[0msargs\u001b[0m \u001b[1;33m=\u001b[0m \u001b[1;33m[\u001b[0m\u001b[1;33m]\u001b[0m\u001b[1;33m\u001b[0m\u001b[0m\n\u001b[0;32m   2894\u001b[0m             \u001b[1;32mfor\u001b[0m \u001b[0marg\u001b[0m \u001b[1;32min\u001b[0m \u001b[0mexpr\u001b[0m\u001b[1;33m.\u001b[0m\u001b[0margs\u001b[0m\u001b[1;33m:\u001b[0m\u001b[1;33m\u001b[0m\u001b[0m\n\u001b[1;32m-> 2895\u001b[1;33m                 \u001b[0marg\u001b[0m\u001b[1;33m,\u001b[0m \u001b[0marghit\u001b[0m \u001b[1;33m=\u001b[0m \u001b[0mExpr\u001b[0m\u001b[1;33m.\u001b[0m\u001b[0m_expand_hint\u001b[0m\u001b[1;33m(\u001b[0m\u001b[0marg\u001b[0m\u001b[1;33m,\u001b[0m \u001b[0mhint\u001b[0m\u001b[1;33m,\u001b[0m \u001b[1;33m**\u001b[0m\u001b[0mhints\u001b[0m\u001b[1;33m)\u001b[0m\u001b[1;33m\u001b[0m\u001b[0m\n\u001b[0m\u001b[0;32m   2896\u001b[0m                 \u001b[0mhit\u001b[0m \u001b[1;33m|=\u001b[0m \u001b[0marghit\u001b[0m\u001b[1;33m\u001b[0m\u001b[0m\n\u001b[0;32m   2897\u001b[0m                 \u001b[0msargs\u001b[0m\u001b[1;33m.\u001b[0m\u001b[0mappend\u001b[0m\u001b[1;33m(\u001b[0m\u001b[0marg\u001b[0m\u001b[1;33m)\u001b[0m\u001b[1;33m\u001b[0m\u001b[0m\n",
      "\u001b[1;32mC:\\Users\\dave\\Anaconda\\lib\\site-packages\\sympy\\core\\expr.pyc\u001b[0m in \u001b[0;36m_expand_hint\u001b[1;34m(expr, hint, deep, **hints)\u001b[0m\n\u001b[0;32m   2893\u001b[0m             \u001b[0msargs\u001b[0m \u001b[1;33m=\u001b[0m \u001b[1;33m[\u001b[0m\u001b[1;33m]\u001b[0m\u001b[1;33m\u001b[0m\u001b[0m\n\u001b[0;32m   2894\u001b[0m             \u001b[1;32mfor\u001b[0m \u001b[0marg\u001b[0m \u001b[1;32min\u001b[0m \u001b[0mexpr\u001b[0m\u001b[1;33m.\u001b[0m\u001b[0margs\u001b[0m\u001b[1;33m:\u001b[0m\u001b[1;33m\u001b[0m\u001b[0m\n\u001b[1;32m-> 2895\u001b[1;33m                 \u001b[0marg\u001b[0m\u001b[1;33m,\u001b[0m \u001b[0marghit\u001b[0m \u001b[1;33m=\u001b[0m \u001b[0mExpr\u001b[0m\u001b[1;33m.\u001b[0m\u001b[0m_expand_hint\u001b[0m\u001b[1;33m(\u001b[0m\u001b[0marg\u001b[0m\u001b[1;33m,\u001b[0m \u001b[0mhint\u001b[0m\u001b[1;33m,\u001b[0m \u001b[1;33m**\u001b[0m\u001b[0mhints\u001b[0m\u001b[1;33m)\u001b[0m\u001b[1;33m\u001b[0m\u001b[0m\n\u001b[0m\u001b[0;32m   2896\u001b[0m                 \u001b[0mhit\u001b[0m \u001b[1;33m|=\u001b[0m \u001b[0marghit\u001b[0m\u001b[1;33m\u001b[0m\u001b[0m\n\u001b[0;32m   2897\u001b[0m                 \u001b[0msargs\u001b[0m\u001b[1;33m.\u001b[0m\u001b[0mappend\u001b[0m\u001b[1;33m(\u001b[0m\u001b[0marg\u001b[0m\u001b[1;33m)\u001b[0m\u001b[1;33m\u001b[0m\u001b[0m\n",
      "\u001b[1;32mC:\\Users\\dave\\Anaconda\\lib\\site-packages\\sympy\\core\\expr.pyc\u001b[0m in \u001b[0;36m_expand_hint\u001b[1;34m(expr, hint, deep, **hints)\u001b[0m\n\u001b[0;32m   2893\u001b[0m             \u001b[0msargs\u001b[0m \u001b[1;33m=\u001b[0m \u001b[1;33m[\u001b[0m\u001b[1;33m]\u001b[0m\u001b[1;33m\u001b[0m\u001b[0m\n\u001b[0;32m   2894\u001b[0m             \u001b[1;32mfor\u001b[0m \u001b[0marg\u001b[0m \u001b[1;32min\u001b[0m \u001b[0mexpr\u001b[0m\u001b[1;33m.\u001b[0m\u001b[0margs\u001b[0m\u001b[1;33m:\u001b[0m\u001b[1;33m\u001b[0m\u001b[0m\n\u001b[1;32m-> 2895\u001b[1;33m                 \u001b[0marg\u001b[0m\u001b[1;33m,\u001b[0m \u001b[0marghit\u001b[0m \u001b[1;33m=\u001b[0m \u001b[0mExpr\u001b[0m\u001b[1;33m.\u001b[0m\u001b[0m_expand_hint\u001b[0m\u001b[1;33m(\u001b[0m\u001b[0marg\u001b[0m\u001b[1;33m,\u001b[0m \u001b[0mhint\u001b[0m\u001b[1;33m,\u001b[0m \u001b[1;33m**\u001b[0m\u001b[0mhints\u001b[0m\u001b[1;33m)\u001b[0m\u001b[1;33m\u001b[0m\u001b[0m\n\u001b[0m\u001b[0;32m   2896\u001b[0m                 \u001b[0mhit\u001b[0m \u001b[1;33m|=\u001b[0m \u001b[0marghit\u001b[0m\u001b[1;33m\u001b[0m\u001b[0m\n\u001b[0;32m   2897\u001b[0m                 \u001b[0msargs\u001b[0m\u001b[1;33m.\u001b[0m\u001b[0mappend\u001b[0m\u001b[1;33m(\u001b[0m\u001b[0marg\u001b[0m\u001b[1;33m)\u001b[0m\u001b[1;33m\u001b[0m\u001b[0m\n",
      "\u001b[1;32mC:\\Users\\dave\\Anaconda\\lib\\site-packages\\sympy\\core\\expr.pyc\u001b[0m in \u001b[0;36m_expand_hint\u001b[1;34m(expr, hint, deep, **hints)\u001b[0m\n\u001b[0;32m   2893\u001b[0m             \u001b[0msargs\u001b[0m \u001b[1;33m=\u001b[0m \u001b[1;33m[\u001b[0m\u001b[1;33m]\u001b[0m\u001b[1;33m\u001b[0m\u001b[0m\n\u001b[0;32m   2894\u001b[0m             \u001b[1;32mfor\u001b[0m \u001b[0marg\u001b[0m \u001b[1;32min\u001b[0m \u001b[0mexpr\u001b[0m\u001b[1;33m.\u001b[0m\u001b[0margs\u001b[0m\u001b[1;33m:\u001b[0m\u001b[1;33m\u001b[0m\u001b[0m\n\u001b[1;32m-> 2895\u001b[1;33m                 \u001b[0marg\u001b[0m\u001b[1;33m,\u001b[0m \u001b[0marghit\u001b[0m \u001b[1;33m=\u001b[0m \u001b[0mExpr\u001b[0m\u001b[1;33m.\u001b[0m\u001b[0m_expand_hint\u001b[0m\u001b[1;33m(\u001b[0m\u001b[0marg\u001b[0m\u001b[1;33m,\u001b[0m \u001b[0mhint\u001b[0m\u001b[1;33m,\u001b[0m \u001b[1;33m**\u001b[0m\u001b[0mhints\u001b[0m\u001b[1;33m)\u001b[0m\u001b[1;33m\u001b[0m\u001b[0m\n\u001b[0m\u001b[0;32m   2896\u001b[0m                 \u001b[0mhit\u001b[0m \u001b[1;33m|=\u001b[0m \u001b[0marghit\u001b[0m\u001b[1;33m\u001b[0m\u001b[0m\n\u001b[0;32m   2897\u001b[0m                 \u001b[0msargs\u001b[0m\u001b[1;33m.\u001b[0m\u001b[0mappend\u001b[0m\u001b[1;33m(\u001b[0m\u001b[0marg\u001b[0m\u001b[1;33m)\u001b[0m\u001b[1;33m\u001b[0m\u001b[0m\n",
      "\u001b[1;32mC:\\Users\\dave\\Anaconda\\lib\\site-packages\\sympy\\core\\expr.pyc\u001b[0m in \u001b[0;36m_expand_hint\u001b[1;34m(expr, hint, deep, **hints)\u001b[0m\n\u001b[0;32m   2893\u001b[0m             \u001b[0msargs\u001b[0m \u001b[1;33m=\u001b[0m \u001b[1;33m[\u001b[0m\u001b[1;33m]\u001b[0m\u001b[1;33m\u001b[0m\u001b[0m\n\u001b[0;32m   2894\u001b[0m             \u001b[1;32mfor\u001b[0m \u001b[0marg\u001b[0m \u001b[1;32min\u001b[0m \u001b[0mexpr\u001b[0m\u001b[1;33m.\u001b[0m\u001b[0margs\u001b[0m\u001b[1;33m:\u001b[0m\u001b[1;33m\u001b[0m\u001b[0m\n\u001b[1;32m-> 2895\u001b[1;33m                 \u001b[0marg\u001b[0m\u001b[1;33m,\u001b[0m \u001b[0marghit\u001b[0m \u001b[1;33m=\u001b[0m \u001b[0mExpr\u001b[0m\u001b[1;33m.\u001b[0m\u001b[0m_expand_hint\u001b[0m\u001b[1;33m(\u001b[0m\u001b[0marg\u001b[0m\u001b[1;33m,\u001b[0m \u001b[0mhint\u001b[0m\u001b[1;33m,\u001b[0m \u001b[1;33m**\u001b[0m\u001b[0mhints\u001b[0m\u001b[1;33m)\u001b[0m\u001b[1;33m\u001b[0m\u001b[0m\n\u001b[0m\u001b[0;32m   2896\u001b[0m                 \u001b[0mhit\u001b[0m \u001b[1;33m|=\u001b[0m \u001b[0marghit\u001b[0m\u001b[1;33m\u001b[0m\u001b[0m\n\u001b[0;32m   2897\u001b[0m                 \u001b[0msargs\u001b[0m\u001b[1;33m.\u001b[0m\u001b[0mappend\u001b[0m\u001b[1;33m(\u001b[0m\u001b[0marg\u001b[0m\u001b[1;33m)\u001b[0m\u001b[1;33m\u001b[0m\u001b[0m\n",
      "\u001b[1;32mC:\\Users\\dave\\Anaconda\\lib\\site-packages\\sympy\\core\\expr.pyc\u001b[0m in \u001b[0;36m_expand_hint\u001b[1;34m(expr, hint, deep, **hints)\u001b[0m\n\u001b[0;32m   2893\u001b[0m             \u001b[0msargs\u001b[0m \u001b[1;33m=\u001b[0m \u001b[1;33m[\u001b[0m\u001b[1;33m]\u001b[0m\u001b[1;33m\u001b[0m\u001b[0m\n\u001b[0;32m   2894\u001b[0m             \u001b[1;32mfor\u001b[0m \u001b[0marg\u001b[0m \u001b[1;32min\u001b[0m \u001b[0mexpr\u001b[0m\u001b[1;33m.\u001b[0m\u001b[0margs\u001b[0m\u001b[1;33m:\u001b[0m\u001b[1;33m\u001b[0m\u001b[0m\n\u001b[1;32m-> 2895\u001b[1;33m                 \u001b[0marg\u001b[0m\u001b[1;33m,\u001b[0m \u001b[0marghit\u001b[0m \u001b[1;33m=\u001b[0m \u001b[0mExpr\u001b[0m\u001b[1;33m.\u001b[0m\u001b[0m_expand_hint\u001b[0m\u001b[1;33m(\u001b[0m\u001b[0marg\u001b[0m\u001b[1;33m,\u001b[0m \u001b[0mhint\u001b[0m\u001b[1;33m,\u001b[0m \u001b[1;33m**\u001b[0m\u001b[0mhints\u001b[0m\u001b[1;33m)\u001b[0m\u001b[1;33m\u001b[0m\u001b[0m\n\u001b[0m\u001b[0;32m   2896\u001b[0m                 \u001b[0mhit\u001b[0m \u001b[1;33m|=\u001b[0m \u001b[0marghit\u001b[0m\u001b[1;33m\u001b[0m\u001b[0m\n\u001b[0;32m   2897\u001b[0m                 \u001b[0msargs\u001b[0m\u001b[1;33m.\u001b[0m\u001b[0mappend\u001b[0m\u001b[1;33m(\u001b[0m\u001b[0marg\u001b[0m\u001b[1;33m)\u001b[0m\u001b[1;33m\u001b[0m\u001b[0m\n",
      "\u001b[1;32mC:\\Users\\dave\\Anaconda\\lib\\site-packages\\sympy\\core\\expr.pyc\u001b[0m in \u001b[0;36m_expand_hint\u001b[1;34m(expr, hint, deep, **hints)\u001b[0m\n\u001b[0;32m   2893\u001b[0m             \u001b[0msargs\u001b[0m \u001b[1;33m=\u001b[0m \u001b[1;33m[\u001b[0m\u001b[1;33m]\u001b[0m\u001b[1;33m\u001b[0m\u001b[0m\n\u001b[0;32m   2894\u001b[0m             \u001b[1;32mfor\u001b[0m \u001b[0marg\u001b[0m \u001b[1;32min\u001b[0m \u001b[0mexpr\u001b[0m\u001b[1;33m.\u001b[0m\u001b[0margs\u001b[0m\u001b[1;33m:\u001b[0m\u001b[1;33m\u001b[0m\u001b[0m\n\u001b[1;32m-> 2895\u001b[1;33m                 \u001b[0marg\u001b[0m\u001b[1;33m,\u001b[0m \u001b[0marghit\u001b[0m \u001b[1;33m=\u001b[0m \u001b[0mExpr\u001b[0m\u001b[1;33m.\u001b[0m\u001b[0m_expand_hint\u001b[0m\u001b[1;33m(\u001b[0m\u001b[0marg\u001b[0m\u001b[1;33m,\u001b[0m \u001b[0mhint\u001b[0m\u001b[1;33m,\u001b[0m \u001b[1;33m**\u001b[0m\u001b[0mhints\u001b[0m\u001b[1;33m)\u001b[0m\u001b[1;33m\u001b[0m\u001b[0m\n\u001b[0m\u001b[0;32m   2896\u001b[0m                 \u001b[0mhit\u001b[0m \u001b[1;33m|=\u001b[0m \u001b[0marghit\u001b[0m\u001b[1;33m\u001b[0m\u001b[0m\n\u001b[0;32m   2897\u001b[0m                 \u001b[0msargs\u001b[0m\u001b[1;33m.\u001b[0m\u001b[0mappend\u001b[0m\u001b[1;33m(\u001b[0m\u001b[0marg\u001b[0m\u001b[1;33m)\u001b[0m\u001b[1;33m\u001b[0m\u001b[0m\n",
      "\u001b[1;32mC:\\Users\\dave\\Anaconda\\lib\\site-packages\\sympy\\core\\expr.pyc\u001b[0m in \u001b[0;36m_expand_hint\u001b[1;34m(expr, hint, deep, **hints)\u001b[0m\n\u001b[0;32m   2893\u001b[0m             \u001b[0msargs\u001b[0m \u001b[1;33m=\u001b[0m \u001b[1;33m[\u001b[0m\u001b[1;33m]\u001b[0m\u001b[1;33m\u001b[0m\u001b[0m\n\u001b[0;32m   2894\u001b[0m             \u001b[1;32mfor\u001b[0m \u001b[0marg\u001b[0m \u001b[1;32min\u001b[0m \u001b[0mexpr\u001b[0m\u001b[1;33m.\u001b[0m\u001b[0margs\u001b[0m\u001b[1;33m:\u001b[0m\u001b[1;33m\u001b[0m\u001b[0m\n\u001b[1;32m-> 2895\u001b[1;33m                 \u001b[0marg\u001b[0m\u001b[1;33m,\u001b[0m \u001b[0marghit\u001b[0m \u001b[1;33m=\u001b[0m \u001b[0mExpr\u001b[0m\u001b[1;33m.\u001b[0m\u001b[0m_expand_hint\u001b[0m\u001b[1;33m(\u001b[0m\u001b[0marg\u001b[0m\u001b[1;33m,\u001b[0m \u001b[0mhint\u001b[0m\u001b[1;33m,\u001b[0m \u001b[1;33m**\u001b[0m\u001b[0mhints\u001b[0m\u001b[1;33m)\u001b[0m\u001b[1;33m\u001b[0m\u001b[0m\n\u001b[0m\u001b[0;32m   2896\u001b[0m                 \u001b[0mhit\u001b[0m \u001b[1;33m|=\u001b[0m \u001b[0marghit\u001b[0m\u001b[1;33m\u001b[0m\u001b[0m\n\u001b[0;32m   2897\u001b[0m                 \u001b[0msargs\u001b[0m\u001b[1;33m.\u001b[0m\u001b[0mappend\u001b[0m\u001b[1;33m(\u001b[0m\u001b[0marg\u001b[0m\u001b[1;33m)\u001b[0m\u001b[1;33m\u001b[0m\u001b[0m\n",
      "\u001b[1;32mC:\\Users\\dave\\Anaconda\\lib\\site-packages\\sympy\\core\\expr.pyc\u001b[0m in \u001b[0;36m_expand_hint\u001b[1;34m(expr, hint, deep, **hints)\u001b[0m\n\u001b[0;32m   2893\u001b[0m             \u001b[0msargs\u001b[0m \u001b[1;33m=\u001b[0m \u001b[1;33m[\u001b[0m\u001b[1;33m]\u001b[0m\u001b[1;33m\u001b[0m\u001b[0m\n\u001b[0;32m   2894\u001b[0m             \u001b[1;32mfor\u001b[0m \u001b[0marg\u001b[0m \u001b[1;32min\u001b[0m \u001b[0mexpr\u001b[0m\u001b[1;33m.\u001b[0m\u001b[0margs\u001b[0m\u001b[1;33m:\u001b[0m\u001b[1;33m\u001b[0m\u001b[0m\n\u001b[1;32m-> 2895\u001b[1;33m                 \u001b[0marg\u001b[0m\u001b[1;33m,\u001b[0m \u001b[0marghit\u001b[0m \u001b[1;33m=\u001b[0m \u001b[0mExpr\u001b[0m\u001b[1;33m.\u001b[0m\u001b[0m_expand_hint\u001b[0m\u001b[1;33m(\u001b[0m\u001b[0marg\u001b[0m\u001b[1;33m,\u001b[0m \u001b[0mhint\u001b[0m\u001b[1;33m,\u001b[0m \u001b[1;33m**\u001b[0m\u001b[0mhints\u001b[0m\u001b[1;33m)\u001b[0m\u001b[1;33m\u001b[0m\u001b[0m\n\u001b[0m\u001b[0;32m   2896\u001b[0m                 \u001b[0mhit\u001b[0m \u001b[1;33m|=\u001b[0m \u001b[0marghit\u001b[0m\u001b[1;33m\u001b[0m\u001b[0m\n\u001b[0;32m   2897\u001b[0m                 \u001b[0msargs\u001b[0m\u001b[1;33m.\u001b[0m\u001b[0mappend\u001b[0m\u001b[1;33m(\u001b[0m\u001b[0marg\u001b[0m\u001b[1;33m)\u001b[0m\u001b[1;33m\u001b[0m\u001b[0m\n",
      "\u001b[1;32mC:\\Users\\dave\\Anaconda\\lib\\site-packages\\sympy\\core\\expr.pyc\u001b[0m in \u001b[0;36m_expand_hint\u001b[1;34m(expr, hint, deep, **hints)\u001b[0m\n\u001b[0;32m   2893\u001b[0m             \u001b[0msargs\u001b[0m \u001b[1;33m=\u001b[0m \u001b[1;33m[\u001b[0m\u001b[1;33m]\u001b[0m\u001b[1;33m\u001b[0m\u001b[0m\n\u001b[0;32m   2894\u001b[0m             \u001b[1;32mfor\u001b[0m \u001b[0marg\u001b[0m \u001b[1;32min\u001b[0m \u001b[0mexpr\u001b[0m\u001b[1;33m.\u001b[0m\u001b[0margs\u001b[0m\u001b[1;33m:\u001b[0m\u001b[1;33m\u001b[0m\u001b[0m\n\u001b[1;32m-> 2895\u001b[1;33m                 \u001b[0marg\u001b[0m\u001b[1;33m,\u001b[0m \u001b[0marghit\u001b[0m \u001b[1;33m=\u001b[0m \u001b[0mExpr\u001b[0m\u001b[1;33m.\u001b[0m\u001b[0m_expand_hint\u001b[0m\u001b[1;33m(\u001b[0m\u001b[0marg\u001b[0m\u001b[1;33m,\u001b[0m \u001b[0mhint\u001b[0m\u001b[1;33m,\u001b[0m \u001b[1;33m**\u001b[0m\u001b[0mhints\u001b[0m\u001b[1;33m)\u001b[0m\u001b[1;33m\u001b[0m\u001b[0m\n\u001b[0m\u001b[0;32m   2896\u001b[0m                 \u001b[0mhit\u001b[0m \u001b[1;33m|=\u001b[0m \u001b[0marghit\u001b[0m\u001b[1;33m\u001b[0m\u001b[0m\n\u001b[0;32m   2897\u001b[0m                 \u001b[0msargs\u001b[0m\u001b[1;33m.\u001b[0m\u001b[0mappend\u001b[0m\u001b[1;33m(\u001b[0m\u001b[0marg\u001b[0m\u001b[1;33m)\u001b[0m\u001b[1;33m\u001b[0m\u001b[0m\n",
      "\u001b[1;32mC:\\Users\\dave\\Anaconda\\lib\\site-packages\\sympy\\core\\expr.pyc\u001b[0m in \u001b[0;36m_expand_hint\u001b[1;34m(expr, hint, deep, **hints)\u001b[0m\n\u001b[0;32m   2901\u001b[0m \u001b[1;33m\u001b[0m\u001b[0m\n\u001b[0;32m   2902\u001b[0m         \u001b[1;32mif\u001b[0m \u001b[0mhasattr\u001b[0m\u001b[1;33m(\u001b[0m\u001b[0mexpr\u001b[0m\u001b[1;33m,\u001b[0m \u001b[0mhint\u001b[0m\u001b[1;33m)\u001b[0m\u001b[1;33m:\u001b[0m\u001b[1;33m\u001b[0m\u001b[0m\n\u001b[1;32m-> 2903\u001b[1;33m             \u001b[0mnewexpr\u001b[0m \u001b[1;33m=\u001b[0m \u001b[0mgetattr\u001b[0m\u001b[1;33m(\u001b[0m\u001b[0mexpr\u001b[0m\u001b[1;33m,\u001b[0m \u001b[0mhint\u001b[0m\u001b[1;33m)\u001b[0m\u001b[1;33m(\u001b[0m\u001b[1;33m**\u001b[0m\u001b[0mhints\u001b[0m\u001b[1;33m)\u001b[0m\u001b[1;33m\u001b[0m\u001b[0m\n\u001b[0m\u001b[0;32m   2904\u001b[0m             \u001b[1;32mif\u001b[0m \u001b[0mnewexpr\u001b[0m \u001b[1;33m!=\u001b[0m \u001b[0mexpr\u001b[0m\u001b[1;33m:\u001b[0m\u001b[1;33m\u001b[0m\u001b[0m\n\u001b[0;32m   2905\u001b[0m                 \u001b[1;32mreturn\u001b[0m \u001b[1;33m(\u001b[0m\u001b[0mnewexpr\u001b[0m\u001b[1;33m,\u001b[0m \u001b[0mTrue\u001b[0m\u001b[1;33m)\u001b[0m\u001b[1;33m\u001b[0m\u001b[0m\n",
      "\u001b[1;32mC:\\Users\\dave\\Anaconda\\lib\\site-packages\\sympy\\core\\mul.pyc\u001b[0m in \u001b[0;36m_eval_expand_mul\u001b[1;34m(self, **hints)\u001b[0m\n\u001b[0;32m    823\u001b[0m                         \u001b[0mt\u001b[0m \u001b[1;33m=\u001b[0m \u001b[0mt\u001b[0m\u001b[1;33m.\u001b[0m\u001b[0m_eval_expand_mul\u001b[0m\u001b[1;33m(\u001b[0m\u001b[1;33m)\u001b[0m\u001b[1;33m\u001b[0m\u001b[0m\n\u001b[0;32m    824\u001b[0m                     \u001b[0margs\u001b[0m\u001b[1;33m.\u001b[0m\u001b[0mappend\u001b[0m\u001b[1;33m(\u001b[0m\u001b[0mt\u001b[0m\u001b[1;33m)\u001b[0m\u001b[1;33m\u001b[0m\u001b[0m\n\u001b[1;32m--> 825\u001b[1;33m                 \u001b[1;32mreturn\u001b[0m \u001b[0mAdd\u001b[0m\u001b[1;33m(\u001b[0m\u001b[1;33m*\u001b[0m\u001b[0margs\u001b[0m\u001b[1;33m)\u001b[0m\u001b[1;33m\u001b[0m\u001b[0m\n\u001b[0m\u001b[0;32m    826\u001b[0m             \u001b[1;32melse\u001b[0m\u001b[1;33m:\u001b[0m\u001b[1;33m\u001b[0m\u001b[0m\n\u001b[0;32m    827\u001b[0m                 \u001b[1;32mreturn\u001b[0m \u001b[0mplain\u001b[0m\u001b[1;33m\u001b[0m\u001b[0m\n",
      "\u001b[1;32mC:\\Users\\dave\\Anaconda\\lib\\site-packages\\sympy\\core\\operations.pyc\u001b[0m in \u001b[0;36m__new__\u001b[1;34m(cls, *args, **options)\u001b[0m\n\u001b[0;32m     39\u001b[0m             \u001b[1;32mreturn\u001b[0m \u001b[0margs\u001b[0m\u001b[1;33m[\u001b[0m\u001b[1;36m0\u001b[0m\u001b[1;33m]\u001b[0m\u001b[1;33m\u001b[0m\u001b[0m\n\u001b[0;32m     40\u001b[0m \u001b[1;33m\u001b[0m\u001b[0m\n\u001b[1;32m---> 41\u001b[1;33m         \u001b[0mc_part\u001b[0m\u001b[1;33m,\u001b[0m \u001b[0mnc_part\u001b[0m\u001b[1;33m,\u001b[0m \u001b[0morder_symbols\u001b[0m \u001b[1;33m=\u001b[0m \u001b[0mcls\u001b[0m\u001b[1;33m.\u001b[0m\u001b[0mflatten\u001b[0m\u001b[1;33m(\u001b[0m\u001b[0margs\u001b[0m\u001b[1;33m)\u001b[0m\u001b[1;33m\u001b[0m\u001b[0m\n\u001b[0m\u001b[0;32m     42\u001b[0m         \u001b[0mis_commutative\u001b[0m \u001b[1;33m=\u001b[0m \u001b[1;32mnot\u001b[0m \u001b[0mnc_part\u001b[0m\u001b[1;33m\u001b[0m\u001b[0m\n\u001b[0;32m     43\u001b[0m         \u001b[0mobj\u001b[0m \u001b[1;33m=\u001b[0m \u001b[0mcls\u001b[0m\u001b[1;33m.\u001b[0m\u001b[0m_from_args\u001b[0m\u001b[1;33m(\u001b[0m\u001b[0mc_part\u001b[0m \u001b[1;33m+\u001b[0m \u001b[0mnc_part\u001b[0m\u001b[1;33m,\u001b[0m \u001b[0mis_commutative\u001b[0m\u001b[1;33m)\u001b[0m\u001b[1;33m\u001b[0m\u001b[0m\n",
      "\u001b[1;32mC:\\Users\\dave\\Anaconda\\lib\\site-packages\\sympy\\core\\add.pyc\u001b[0m in \u001b[0;36mflatten\u001b[1;34m(cls, seq)\u001b[0m\n\u001b[0;32m    256\u001b[0m \u001b[1;33m\u001b[0m\u001b[0m\n\u001b[0;32m    257\u001b[0m         \u001b[1;31m# order args canonically\u001b[0m\u001b[1;33m\u001b[0m\u001b[1;33m\u001b[0m\u001b[0m\n\u001b[1;32m--> 258\u001b[1;33m         \u001b[0m_addsort\u001b[0m\u001b[1;33m(\u001b[0m\u001b[0mnewseq\u001b[0m\u001b[1;33m)\u001b[0m\u001b[1;33m\u001b[0m\u001b[0m\n\u001b[0m\u001b[0;32m    259\u001b[0m \u001b[1;33m\u001b[0m\u001b[0m\n\u001b[0;32m    260\u001b[0m         \u001b[1;31m# current code expects coeff to be first\u001b[0m\u001b[1;33m\u001b[0m\u001b[1;33m\u001b[0m\u001b[0m\n",
      "\u001b[1;32mC:\\Users\\dave\\Anaconda\\lib\\site-packages\\sympy\\core\\add.pyc\u001b[0m in \u001b[0;36m_addsort\u001b[1;34m(args)\u001b[0m\n\u001b[0;32m     16\u001b[0m \u001b[1;32mdef\u001b[0m \u001b[0m_addsort\u001b[0m\u001b[1;33m(\u001b[0m\u001b[0margs\u001b[0m\u001b[1;33m)\u001b[0m\u001b[1;33m:\u001b[0m\u001b[1;33m\u001b[0m\u001b[0m\n\u001b[0;32m     17\u001b[0m     \u001b[1;31m# in-place sorting of args\u001b[0m\u001b[1;33m\u001b[0m\u001b[1;33m\u001b[0m\u001b[0m\n\u001b[1;32m---> 18\u001b[1;33m     \u001b[0margs\u001b[0m\u001b[1;33m.\u001b[0m\u001b[0msort\u001b[0m\u001b[1;33m(\u001b[0m\u001b[0mkey\u001b[0m\u001b[1;33m=\u001b[0m\u001b[0m_args_sortkey\u001b[0m\u001b[1;33m)\u001b[0m\u001b[1;33m\u001b[0m\u001b[0m\n\u001b[0m\u001b[0;32m     19\u001b[0m \u001b[1;33m\u001b[0m\u001b[0m\n\u001b[0;32m     20\u001b[0m \u001b[1;33m\u001b[0m\u001b[0m\n",
      "\u001b[1;32mC:\\Users\\dave\\Anaconda\\lib\\functools.pyc\u001b[0m in \u001b[0;36m__lt__\u001b[1;34m(self, other)\u001b[0m\n\u001b[0;32m     85\u001b[0m             \u001b[0mself\u001b[0m\u001b[1;33m.\u001b[0m\u001b[0mobj\u001b[0m \u001b[1;33m=\u001b[0m \u001b[0mobj\u001b[0m\u001b[1;33m\u001b[0m\u001b[0m\n\u001b[0;32m     86\u001b[0m         \u001b[1;32mdef\u001b[0m \u001b[0m__lt__\u001b[0m\u001b[1;33m(\u001b[0m\u001b[0mself\u001b[0m\u001b[1;33m,\u001b[0m \u001b[0mother\u001b[0m\u001b[1;33m)\u001b[0m\u001b[1;33m:\u001b[0m\u001b[1;33m\u001b[0m\u001b[0m\n\u001b[1;32m---> 87\u001b[1;33m             \u001b[1;32mreturn\u001b[0m \u001b[0mmycmp\u001b[0m\u001b[1;33m(\u001b[0m\u001b[0mself\u001b[0m\u001b[1;33m.\u001b[0m\u001b[0mobj\u001b[0m\u001b[1;33m,\u001b[0m \u001b[0mother\u001b[0m\u001b[1;33m.\u001b[0m\u001b[0mobj\u001b[0m\u001b[1;33m)\u001b[0m \u001b[1;33m<\u001b[0m \u001b[1;36m0\u001b[0m\u001b[1;33m\u001b[0m\u001b[0m\n\u001b[0m\u001b[0;32m     88\u001b[0m         \u001b[1;32mdef\u001b[0m \u001b[0m__gt__\u001b[0m\u001b[1;33m(\u001b[0m\u001b[0mself\u001b[0m\u001b[1;33m,\u001b[0m \u001b[0mother\u001b[0m\u001b[1;33m)\u001b[0m\u001b[1;33m:\u001b[0m\u001b[1;33m\u001b[0m\u001b[0m\n\u001b[0;32m     89\u001b[0m             \u001b[1;32mreturn\u001b[0m \u001b[0mmycmp\u001b[0m\u001b[1;33m(\u001b[0m\u001b[0mself\u001b[0m\u001b[1;33m.\u001b[0m\u001b[0mobj\u001b[0m\u001b[1;33m,\u001b[0m \u001b[0mother\u001b[0m\u001b[1;33m.\u001b[0m\u001b[0mobj\u001b[0m\u001b[1;33m)\u001b[0m \u001b[1;33m>\u001b[0m \u001b[1;36m0\u001b[0m\u001b[1;33m\u001b[0m\u001b[0m\n",
      "\u001b[1;32mC:\\Users\\dave\\Anaconda\\lib\\site-packages\\sympy\\core\\basic.pyc\u001b[0m in \u001b[0;36mcompare\u001b[1;34m(self, other)\u001b[0m\n\u001b[0;32m    191\u001b[0m             \u001b[1;32melse\u001b[0m\u001b[1;33m:\u001b[0m\u001b[1;33m\u001b[0m\u001b[0m\n\u001b[0;32m    192\u001b[0m                 \u001b[0mc\u001b[0m \u001b[1;33m=\u001b[0m \u001b[1;33m(\u001b[0m\u001b[0ml\u001b[0m \u001b[1;33m>\u001b[0m \u001b[0mr\u001b[0m\u001b[1;33m)\u001b[0m \u001b[1;33m-\u001b[0m \u001b[1;33m(\u001b[0m\u001b[0ml\u001b[0m \u001b[1;33m<\u001b[0m \u001b[0mr\u001b[0m\u001b[1;33m)\u001b[0m\u001b[1;33m\u001b[0m\u001b[0m\n\u001b[1;32m--> 193\u001b[1;33m             \u001b[1;32mif\u001b[0m \u001b[0mc\u001b[0m\u001b[1;33m:\u001b[0m\u001b[1;33m\u001b[0m\u001b[0m\n\u001b[0m\u001b[0;32m    194\u001b[0m                 \u001b[1;32mreturn\u001b[0m \u001b[0mc\u001b[0m\u001b[1;33m\u001b[0m\u001b[0m\n\u001b[0;32m    195\u001b[0m         \u001b[1;32mreturn\u001b[0m \u001b[1;36m0\u001b[0m\u001b[1;33m\u001b[0m\u001b[0m\n",
      "\u001b[1;31mKeyboardInterrupt\u001b[0m: "
     ]
    }
   ],
   "source": [
    "s= symbols('s')\n",
    "solve(s_expr2-s,G)"
   ]
  },
  {
   "cell_type": "code",
   "execution_count": 7,
   "metadata": {
    "collapsed": false,
    "scrolled": true
   },
   "outputs": [
    {
     "data": {
      "image/png": "[encoded data removed]",
      "text/plain": [
       "<matplotlib.figure.Figure at 0x809c1d0>"
      ]
     },
     "metadata": {},
     "output_type": "display_data"
    }
   ],
   "source": [
    "\n",
    "\n",
    "mpl.rcParams['legend.fontsize'] = 10\n",
    "\n",
    "fig = plt.figure()\n",
    "ax = fig.gca()\n",
    "t = np.linspace(-2, 2, 100)\n",
    "r =  1\n",
    "xx = t\n",
    "# example set \n",
    "yy = np.arcsinh(t)\n",
    "ax.plot(xx, yy, label='Actual')\n",
    "yy = t + np.sqrt(t**2 + 1) + (t + np.sqrt(t**2 + 1) - 1)**3/3 - (t + np.sqrt(t**2 + 1) - 1)**2/2 - 1\n",
    "\n",
    "\n",
    "ax.plot(xx, yy, label='4th degree approx')\n",
    "\n",
    "yy = t + np.sqrt(t**2 + 1) - (t + np.sqrt(t**2 + 1) - 1)**6/6 + (t + np.sqrt(t**2 + 1) - 1)**5/5 - (t + np.sqrt(t**2 + 1) - 1)**4/4 + (t + np.sqrt(t**2 + 1) - 1)**3/3 - (t + np.sqrt(t**2 + 1) - 1)**2/2 - 1\n",
    "ax.plot(xx, yy, label='7th degree approx')\n",
    "yy = t + np.sqrt(t**2 + 1) + (t + np.sqrt(t**2 + 1) - 1)**7/7 - (t + np.sqrt(t**2 + 1) - 1)**6/6 + (t + np.sqrt(t**2 + 1) - 1)**5/5 - (t + np.sqrt(t**2 + 1) - 1)**4/4 + (t + np.sqrt(t**2 + 1) - 1)**3/3 - (t + np.sqrt(t**2 + 1) - 1)**2/2 - 1\n",
    "ax.plot(xx, yy, label='8th degree approx')\n",
    "ax.legend(bbox_to_anchor=(0., 1.02, 1., .102), loc=3,\n",
    "           ncol=2, mode=\"expand\", borderaxespad=0.)\n",
    "plt.ylim(-1,1)\n",
    "plt.axes().set_aspect('equal', 'datalim')"
   ]
  },
  {
   "cell_type": "code",
   "execution_count": 80,
   "metadata": {
    "collapsed": true,
    "scrolled": true
   },
   "outputs": [
    {
     "data": {
      "text/plain": [
       "30.0133699983648"
      ]
     },
     "execution_count": 80,
     "metadata": {},
     "output_type": "execute_result"
    }
   ],
   "source": [
    "t = symbols('t')\n",
    "expr = 2*((sqrt(313.751)- (t/ 1051.958))- log(((sqrt(313.751)- log(t))- (t/ 1051.958))))- t/ 741.752\n",
    "expr.subs({t:1610/25})"
   ]
  },
  {
   "cell_type": "markdown",
   "metadata": {},
   "source": [
    "### Arc Length As Parameter</div>\n",
    "   \n",
    "$s=s(t)$ is an allowable change in parameter on $\\mathbf I$ since $ds/dt = |d\\mathbf r/dt| $ from the definition of the integral. This representation can travel either forwards or backwards, and is therefore not unique. The natural representation of a curve in terms of arc length is $|d\\mathbf r/dt| = 1$. "
   ]
  },
  {
   "cell_type": "markdown",
   "metadata": {},
   "source": [
    "<div style=\"background:red\">Example</div>\n",
    "    For the circle $\\mathbf r(\\theta)=r\\cos(\\theta)\\mathbf e_1 + r\\sin(\\theta)\\mathbf e_2$ on the interval $0 < \\theta_i < \\theta $ we consider the intergral <br>\n",
    "    $$\n",
    "    s = \\displaystyle \\int_0^{\\theta}  \\sqrt { \\left(\\frac{dx_1}{d\\theta}\\right)^2 +\\left(\\frac{dx_2}{d\\theta}\\right)^2 } d\\theta  \n",
    "    $$\n",
    "    evaluating\n",
    "    $$\n",
    "    s=\\displaystyle \\int_0^{\\theta}  \\sqrt { r^2 \\cos^2(\\theta) +r^2 \\sin^2(\\theta) } d\\theta =  \\int_0^{\\theta}  r d\\theta  = [r\\theta]_0^{\\theta} = r \\theta \n",
    "    $$\n",
    "    and so $\\theta = \\frac{s}{r}$  and the natural representation is  $\\mathbf r(s/r)=r\\cos(s/r)\\mathbf e_1 + r\\sin(s/r)\\mathbf e_2$. This is checked easily by setting the limit $s=2\\pi r$ and we find the final point in $\\theta$ is $2\\pi$.\n",
    "    <br>"
   ]
  },
  {
   "cell_type": "markdown",
   "metadata": {},
   "source": [
    "<div style=\"background:red\"><h2>Curvature and Torsion</h2></div><br>\n",
    "    A regular curve can be uniquely determined by two scalar quantities, curvature and torsion. <br>"
   ]
  },
  {
   "cell_type": "markdown",
   "metadata": {},
   "source": [
    "<div style=\"background:red\">Unit Tangent Vector</div>\n",
    "    If $\\mathbf r=\\mathbf r(s)$ is a natural representation of a regular curve C then the tangent to the curve is <br>\n",
    "    $$\n",
    "    \\displaystyle \\mathbf{\\dot r}(s) = \\frac{d\\mathbf r}{ds} =\\lim_{\\Delta s \\to 0} \\frac{ \\mathbf r(s+\\Delta s)-\\mathbf r(s)}{\\Delta s}\n",
    "    $$\n",
    "    Where the quantity $\\frac{ \\mathbf r(s+\\Delta s)-\\mathbf r(s)}{\\Delta s}$ is a secant to the curve C. The vector $\\mathbf {\\dot r}$ is of unit length in the natural representation. If $\\mathbf r=\\mathbf r(\\bar s)$ is any other natural representation then <br>\n",
    "    $$\n",
    "    \\frac{d\\mathbf r}{d\\bar s} = \\frac{d \\mathbf r}{ds}\\frac{ds}{d\\bar s} = \\pm \\frac{d \\mathbf r}{ds} \n",
    "    $$\n",
    "    since the direction can be the same or opposite. The unit tangent vector can be denoted $\\mathbf t=\\mathbf t(s)=\\mathbf {\\dot r}(s)$. <br>"
   ]
  },
  {
   "cell_type": "markdown",
   "metadata": {},
   "source": [
    "<div style=\"background:red\">Definition</div><br>\n",
    "    If $\\mathbf r=\\mathbf r(t)$ is an abritrary representation of C with the same orientation as $\\mathbf r=\\mathbf r(s)$ then <br>\n",
    "    $$\n",
    "    \\mathbf r' = \\frac{d\\mathbf r}{dt} = \\frac{d \\mathbf r}{ds}\\frac{ds}{dt} = \\mathbf t \\left|\\frac{d \\mathbf r}{dt}\\right| = \\mathbf t |\\mathbf r'| \n",
    "    $$\n",
    "    since <br>\n",
    "    $$\n",
    "    \\frac{ds}{dt} = \\left | \\frac{d\\mathbf r}{dt}\\right| \n",
    "    $$"
   ]
  },
  {
   "cell_type": "markdown",
   "metadata": {},
   "source": [
    "<div style=\"background:red\">Tangent Line and Normal Plane</div><br>\n",
    "    The straight line through a point $\\mathbf r$ on a regular curve $C$ parallel to the tangent vectors at $\\mathbf r$ is called a tangent line to $C$ at $\\mathbf r$. <br>\n",
    "    $$\n",
    "    \\mathbf r = \\mathbf r_0 + k \\mathbf t_0 \\qquad\\qquad -\\infty < k < \\infty\n",
    "    $$\n",
    "    Where $\\mathbf t_0=\\mathbf t(t_0)$ is the unit tangent of $\\mathbf r$ at $t=t_0$. The plane through $\\mathbf r$ orthogonal to the tangent line is called the normal plane. "
   ]
  },
  {
   "cell_type": "code",
   "execution_count": 15,
   "metadata": {
    "collapsed": true,
    "scrolled": true
   },
   "outputs": [
    {
     "data": {
      "text/plain": [
       "<matplotlib.text.Text at 0x9541b00>"
      ]
     },
     "execution_count": 15,
     "metadata": {},
     "output_type": "execute_result"
    },
    {
     "data": {
      "image/png": "[encoded data removed]",
      "text/plain": [
       "<matplotlib.figure.Figure at 0x7f1e6a0>"
      ]
     },
     "metadata": {},
     "output_type": "display_data"
    }
   ],
   "source": [
    "import matplotlib as mpl\n",
    "%matplotlib inline\n",
    "from mpl_toolkits.mplot3d import Axes3D\n",
    "import numpy as np\n",
    "import matplotlib.pyplot as plt\n",
    "\n",
    "\n",
    "fig = plt.figure()\n",
    "ax = fig.gca()\n",
    "t = np.linspace(0, 7, 100)\n",
    "\n",
    "# initial velocity\n",
    "ux = 1\n",
    "uy = -1\n",
    "uz = 35\n",
    "\n",
    "v = (ux**2 + uy**2 + uz**2)**(0.5)\n",
    "\n",
    "# acceleration due to gravity\n",
    "a = -9.81\n",
    "\n",
    "# x and y are initial velocity times time\n",
    "x = ux*t\n",
    "y = uy*t\n",
    "\n",
    "# now the parabola\n",
    "z = v * t +0.5*a*t**2  \n",
    "\n",
    "ax.plot(x, z, label='parabola')\n",
    "t0 = 4\n",
    "t1 = 6\n",
    "z_t0 = v*t0 + 0.5 * a * t0**2\n",
    "z_t1 = v*t1 + 0.5 * a * t1**2\n",
    "\n",
    "# tangent T at t0\n",
    "T_t0z = v + a*t0\n",
    "\n",
    "T_t0x = 1\n",
    " \n",
    "\n",
    "ax.arrow(0, 0, t0, z_t0, head_width=0.15, head_length=1.0, fc='k', ec='k')\n",
    "ax.arrow(0, 0,t0+ 1, ( T_t0z +z_t0) , head_width=0.15, head_length=1.0, fc='k', ec='k')\n",
    "ax.arrow(0, 0,t0+ 3, ( 3*T_t0z +z_t0) , head_width=0.15, head_length=1.0, fc='k', ec='k')\n",
    "ax.arrow(t0, z_t0, T_t0x, ( T_t0z) , head_width=0.15, head_length=1.0, fc='g', ec='g')\n",
    "ax.arrow(t0, z_t0, 3*T_t0x, 3*( T_t0z) , head_width=0.15, head_length=1.0, fc='k', ec='k')\n",
    "tex = r'$  \\vec r_0$'\n",
    "\n",
    "ax.text(t0-1, z_t0-10, tex, fontsize=20, va='bottom')\n",
    "\n",
    "tex = r'$  \\vec r_0 + k\\vec t_0$'\n",
    "\n",
    "ax.text(t1-2, ( T_t0z +z_t0)-20, tex, fontsize=20, va='bottom')\n",
    "\n",
    "tex = r'$ \\vec t_0$'\n",
    "\n",
    "ax.text(t0+0.5, ( T_t0z +z_t0)+3, tex, fontsize=20, va='bottom')"
   ]
  },
  {
   "cell_type": "markdown",
   "metadata": {},
   "source": [
    "<div style=\"background:red\">Definition of Normal Plane</div><br>\n",
    "    The normal plane at $\\mathbf r_0$ is <br>\n",
    "    $$\n",
    "    (\\mathbf r-\\mathbf r_0)\\cdot \\mathbf t_0 = 0\n",
    "    $$\n",
    "    introducing a second variable $\\mathbf r$ we can define the tangent line as $\\mathbf y = \\mathbf r + k \\mathbf t$ for the same range of $k$. The normal plane would then be $(\\mathbf y-\\mathbf r)\\cdot \\mathbf t = 0$. It should be noted that $\\mathbf r'$ is parallel to $\\mathbf t$ so <br>\n",
    "    $$\n",
    "    \\mathbf y= \\mathbf r + k \\mathbf r' \\qquad\\qquad -\\infty < k < \\infty\\\\ \\ \\\\\n",
    "     (\\mathbf y-\\mathbf r_0)\\cdot \\mathbf r' = 0\n",
    "    $$\n",
    "    also define the tangent line and normal plane."
   ]
  },
  {
   "cell_type": "markdown",
   "metadata": {},
   "source": [
    "<div style=\"background:red\">Curvature</div><br>\n",
    "    Assuming that $\\mathbf r= \\mathbf r(s)$ is a regular curve of class $\\geq 2$ then the tangent vector $\\mathbf t=\\mathbf t(s) = \\mathbf {\\dot r}(s)$ is of class $C^1$ and the derivative <br>\n",
    "    $$\n",
    "    \\frac{d\\mathbf t}{ds} = \\mathbf{\\dot t}(s) = \\mathbf {\\ddot v}(s)\n",
    "    $$\n",
    "    is independent of orientation of the curve."
   ]
  },
  {
   "cell_type": "markdown",
   "metadata": {},
   "source": [
    "<div style=\"background:red\">Proof</div><br>\n",
    "     Let $\\mathbf r=\\mathbf r(\\bar s) $ be any other natural representation of the curve C with unit tangent $\\mathbf {\\bar t}=d\\mathbf r/d\\bar s$ and $s=\\bar s+\\epsilon$ where $\\epsilon$ is an abritrary constant. Then\n",
    "         $$\n",
    "    \\frac{d\\mathbf {\\bar t} }{d\\bar s} = \\frac{d}{d\\bar s}\\left(\\frac{d\\mathbf r}{d \\bar s}\\right) = \\frac{d}{d\\bar s}\\left(\\pm \\frac{d\\mathbf r}{d  s}\\right) =  \\pm \\frac{d}{d s}\\left(\\frac{d\\mathbf r}{d  s}\\right)\\frac{ds}{d\\bar s} = (\\pm 1)^2\\frac{d}{ds}\\left(\\frac{d\\mathbf r}{ds}\\right) = \\frac{d\\mathbf t}{ds}\n",
    "    $$\n",
    "    Therefore $\\mathbf {\\dot t}$ is independant of orientation."
   ]
  },
  {
   "cell_type": "markdown",
   "metadata": {},
   "source": [
    "<div style=\"background:red\">Definition</div><br>\n",
    "    The vector $\\mathbf {\\dot t}(s)$ is called the curvature vector on $C$ at the point $\\mathbf r(s)$ and is denoted by $\\mathbf k=\\mathbf k(s)=\\mathbf{\\dot t}(s)$.  The vector $\\mathbf k$ is orthogonal to $\\mathbf t$ and also parallel to the normal plane. When greater than zero it is in the direction that the curve is turning. The magnitude of the curvature vector is <br>\n",
    "    $$\n",
    "    |\\kappa| = |\\mathbf k(s)| \n",
    "    $$\n",
    "    and is called the curvature of $C$ at $\\mathbf r(s)$ . The reciprocal of the curvature is called the radius of curvature $\\rho = \\frac{1}{|\\kappa|}$ . "
   ]
  },
  {
   "cell_type": "markdown",
   "metadata": {},
   "source": [
    "<div style=\"background:red\">Definition</div><br>\n",
    "    The curvature is equal to the rate of change of the direction of the tangent with respect to arc length."
   ]
  },
  {
   "cell_type": "markdown",
   "metadata": {},
   "source": [
    "<div style=\"background:red\">Definition</div><br>\n",
    "    If the curvature is zero all along a curve then the curve is a straight line. "
   ]
  },
  {
   "cell_type": "markdown",
   "metadata": {},
   "source": [
    "<div style=\"background:red\">Definition</div><br>\n",
    "    An identity to calculate the curvature is <br>\n",
    "    $$\n",
    "    |\\kappa|=\\frac{|\\mathbf r'-\\mathbf r''|}{|\\mathbf r'|^3}\n",
    "    $$"
   ]
  },
  {
   "cell_type": "markdown",
   "metadata": {},
   "source": [
    "<div style=\"background:red\">Principal Normal Vector</div><br>\n",
    "    If $C$ is of class $\\geq 2$ the curvature vector varies continuously along $C$ and the unit vector in the direction of $\\mathbf k$ is not defined where $\\mathbf k=0$ and may have discontinuities. The principle normal is defined as \n",
    "    $$\n",
    "    \\mathbf n = \\frac{\\mathbf k(s)}{|\\mathbf k(s)|}\n",
    "    $$\n",
    "    and is defined to be continuous along $C$ when possible. From the definition of curvature <br>\n",
    "    $$\n",
    "    \\mathbf k(s) = \\kappa(s) \\mathbf n(s)\n",
    "    $$\n",
    "    where $\\mathbf n$ has the same direction as $\\mathbf k$ we have $\\kappa = |\\mathbf k|$ and when $\\mathbf n$ has the opposite direction then $\\kappa = -|\\mathbf k|$. At the point of inflection both $\\mathbf k$ and $\\kappa$ equal zero. Also the identity $\\mathbf n\\cdot\\mathbf n=1$ can be used to multiply both sides of the equation by $\\mathbf n$ to give <br>\n",
    "    $$\n",
    "    \\kappa = \\mathbf k(s)\\cdot \\mathbf n(s)\n",
    "    $$\n",
    "    <br> A curve of class $C^{\\infty}$ may not have a definite principle normal at a point of inflection. If the curve is analytic then a continuous principal normal will always exist. (if it is not a straight line)."
   ]
  },
  {
   "cell_type": "markdown",
   "metadata": {},
   "source": [
    "<div style=\"background:red\">Osculating Plane</div><br>\n",
    "      Analagous to the equations above the principal normal line to $C$ at $\\mathbf r$ is given by <br>\n",
    "      $$\n",
    "      \\mathbf y = \\mathbf r + k\\mathbf n\\qquad -\\infty < k < \\infty \n",
    "      $$\n",
    "      And the plant parallel to the unit tangent and the principal normal is <br>\n",
    "      $$\n",
    "      [(\\mathbf y - \\mathbf r)\\mathbf t \\mathbf n] = 0\n",
    "      $$\n",
    "      as given by the scalar triple product. This can also be written \n",
    "      $$\n",
    "      [(\\mathbf y - \\mathbf r)\\mathbf{ \\dot r} \\mathbf {\\ddot r}] = 0\n",
    "      $$      \n",
    "      <br>\n",
    "      The osculating plane at a point can be defined as the limiting position of a plane passing through three neighbouring points on a curve as the points approach the given point or as the distance between the intersection points and the given point of evaluation tends to zero. This is a definition of the order of contact with a curve.  "
   ]
  },
  {
   "cell_type": "markdown",
   "metadata": {},
   "source": [
    "<div style=\"background:red\">Binormal</div><br>\n",
    "       The vector <br>\n",
    "       $$\n",
    "       \\mathbf b(s) = \\mathbf t(s) \\times \\mathbf n(s)\n",
    "       $$\n",
    "       is defined as the binormal vector to the curve, and is orthogonal to both the tangent and the principal normal. The vector $\\mathbf b$ is continuous and of unit length and the three vectors $(\\mathbf t, \\mathbf n, \\mathbf b)$ form a right handed orthonormal triplet or basis. This is called the moving trihedral. The straight line through $\\mathbf r$ parallel to $\\mathbf b$ is <br>\n",
    "       $$\n",
    "       \\mathbf y = \\mathbf r + k\\mathbf b\\qquad -\\infty < k < \\infty\n",
    "       $$\n",
    "       and the plane parallel to $\\mathbf b$ and $\\mathbf t$ is called the rectifying plane <br>\n",
    "       $$\n",
    "       (\\mathbf y - \\mathbf r)\\cdot \\mathbf n = 0\n",
    "       $$"
   ]
  },
  {
   "cell_type": "markdown",
   "metadata": {},
   "source": [
    "<div style=\"background:red\">Torsion</div><br>\n",
    "       If the curve $\\mathbf r=\\mathbf r(s)$ is a regular curve of class $\\geq 3$ along which $\\mathbf n(s)$ is of class $C^1$ then differentiating the binormal <br>\n",
    "       $$\n",
    "       \\mathbf {\\dot b}(s) = \\mathbf{\\dot t}(s) \\times \\mathbf{n}(s)+ \\mathbf t(s) \\times \\mathbf{\\dot n}(s)= \\kappa(s)[ \\mathbf n(s)\\times \\mathbf n(s)] + \\mathbf t(s) \\times \\mathbf {\\dot n}(s)= \\mathbf t(s)\\times\\mathbf{\\dot n}(s)\n",
    "       $$\n",
    "       since $\\mathbf a\\times \\mathbf a=0$. If we claim that $\\mathbf{\\dot n}$ is a linear combination of $\\mathbf t$ and $\\mathbf b$ then <br>\n",
    "       $$\n",
    "       \\mathbf {\\dot n}(s) = \\mu(s)\\mathbf t(s) + \\tau(s)\\mathbf b(s)\n",
    "       $$\n",
    "       and substitution reveals that <br>\n",
    "       $$\n",
    "       \\mathbf {\\dot b}(s) = -\\tau(s) \\mathbf n(s)\n",
    "       $$\n",
    "       where the quantity $\\tau(s)$ is called the torsion of the curve. This can be defined in a method analogous to the curvature above <br>\n",
    "       $$\n",
    "       \\tau = -\\mathbf{\\dot b}(s)\\cdot \\mathbf n(s)\n",
    "       $$\n",
    "       The sign of $\\tau$ is independant of the orientation of C and the direction of $\\mathbf n$ and is an intrinsic property of the curve."
   ]
  },
  {
   "cell_type": "markdown",
   "metadata": {},
   "source": [
    "<div style=\"background:red\">Definition</div><br>\n",
    "       The torsion of a plane curve is zero and a curve except for a straight line has zero torision if it is a plane curve."
   ]
  },
  {
   "cell_type": "markdown",
   "metadata": {},
   "source": [
    "<div style=\"background:red\">Spherical Indicatrices</div><br>\n",
    "       The unit vectors on a curve $C$ generate a a curve on a sphere of radius 1. These curves are called spherical indicatrices.\n",
    "       <br>"
   ]
  },
  {
   "cell_type": "markdown",
   "metadata": {},
   "source": [
    "<div style=\"background:red\"><h2>Theory</h2></div><br>\n",
    "            \n",
    "<div style=\"background:red\">Serret-Frenet equations</div><br>\n",
    "For a curve $\\mathbf r(s)$ The three equations <br>\n",
    "                 $$\\mathbf{\\dot t} = \\kappa \\mathbf n$$\n",
    "                 $$\\mathbf{\\dot n}= -\\kappa \\mathbf t + \\tau \\mathbf b$$\n",
    "                 $$\\mathbf{\\dot b}=-\\tau \\mathbf n$$\n",
    "                \n",
    "and these can be written in matrix notation as <br>\n",
    "$$\\left(\\begin{array}{ccc}\\mathbf{\\dot t} \\\\ \\mathbf{\\dot n} \\\\ \\mathbf{\\dot b} \\end{array}\\right) = \\left(\\begin{array}{ccc} 0& \\kappa &0\\\\ -\\kappa & 0 & \\tau \\\\ 0&-\\tau &0 \\end{array}\\right) \\left(\\begin{array}{ccc}\\mathbf t \\\\ \\mathbf n \\\\ \\mathbf b \\end{array}\\right)$$\n",
    "<br> \n",
    "The matrix form <br>\n",
    "$$\\left(\\begin{array}{ccc} 0& \\kappa &0\\\\ -\\kappa & 0 & \\tau \\\\ 0&-\\tau &0 \\end{array}\\right)$$\n",
    "\n",
    "is simpler to remember. These equations can be used to prove that a curve is uniquely defined by its curvature and torsion as functions of a natural parameter, and these functions are intrinsic to the curve, or features of the intrinsic geometry of the curve. If two curves have the same curvature and torsion as functions of a natural parameter, then they are the same except for their position in space.\n",
    "                <br>"
   ]
  },
  {
   "cell_type": "markdown",
   "metadata": {},
   "source": [
    " <div style=\"background:red\">Existence and Uniqueness Theorem</div><br>\n",
    "                 The Serret-Frenet equations form a system of 3 first order vector differential equations. Given a curvature $\\kappa (s)$ and a torsion $\\tau(s)$ then apart from the position in space there exists only one unique space curve that satisfies the equations with $s$ as the natural parameter. \n",
    "                 <br> note: this is always possible in the case of a plane curve. <br>"
   ]
  },
  {
   "cell_type": "markdown",
   "metadata": {},
   "source": [
    "<div style=\"background:red\">Involutes</div><br>\n",
    "                  The tangent lines to a curve $C$ generate a surface called the tangent surface of the curve. A curve $ C_1$ that lies on the tangent surface of $C$ and intersects the tangent lines of $C$  orthogonally is called and involute of $C$. <br>\n",
    "                  If $\\mathbf r=\\mathbf r(s)$ and $\\mathbf {\\bar r}$ is a point on an involute $C_1$ where it intersects with the tangent line of $C$ at $\\mathbf r(s)$ then $\\mathbf{\\bar r}-\\mathbf r(s)$ is proportional to $\\mathbf t(s)$, the tangent to $C$. Therefore $C_1$ will have a representation <br>\n",
    "                  $$\\mathbf{\\bar r}=\\mathbf r(s) + k(s)\\mathbf t(s)$$\n",
    "and the rate of change with respect to $s$ is defined as <br>\n",
    "$$\\frac{d\\mathbf{\\bar r}}{ds} = \\mathbf{\\dot r} + \\dot k \\mathbf t + k \\mathbf {\\dot t} = (1+\\dot k)\\mathbf t + k\\kappa \\mathbf n$$\n",
    "                  is orthogonal to the tangent vector $\\mathbf t$ on $C$, this can be shown by computing $(d\\mathbf{\\bar r}/ds )\\cdot \\mathbf t = 1+\\dot k = 0$ using the above equation. Integrating this gives $k=-s+a$ and there is an infinite family of involutes one for each value of the constant of integration, $a$. These can be defined by <br>\n",
    "                  $$\\mathbf{\\bar r}=\\mathbf r + (a-s)\\mathbf t $$\n",
    "                  by substituting for $k$ in the above relations. The involute is not regular where the curve $C$ has a point of inflection, and the value $d\\mathbf {\\bar r}/ds = 0$ where $\\kappa=0$. "
   ]
  },
  {
   "cell_type": "markdown",
   "metadata": {},
   "source": [
    "  <div style=\"background:red\">Identity</div><br>\n",
    "                  The curvature of the involute satisfies <br>\n",
    "                  $$\n",
    "                  \\bar \\kappa^2 = \\frac{\\kappa^2+\\tau^2}{(a-s)^2\\kappa^2}\n",
    "                  $$\n",
    "                  For $\\bar \\kappa \\neq 0$ and $\\kappa\\neq 0$. <br>\n",
    "                  It should be noted that if $|\\mathbf t|=1$ then the distance between two involutes is constant for all $s$. "
   ]
  },
  {
   "cell_type": "markdown",
   "metadata": {},
   "source": [
    "<div style=\"background:red\">Serret-Evolutes</div><br>\n",
    "                  If $C$ is an involute of a curve $C_1$ then $C_1$ is an evolute of $C$. Let $C$ be denoted by $\\mathbf r(s)$ and if $\\mathbf {\\bar r}(s)$ is the point of contact on the evolute to the tangent line intersecting $C$ at $\\mathbf r(s)$ then <br>\n",
    "                  $$\\mathbf{\\bar r}(s) = \\mathbf r(s) + \\alpha (s) \\mathbf n (s) + \\beta(s) \\mathbf b(s)\n",
    "                  $$\n",
    "since $\\mathbf{\\bar r}(s)-\\mathbf r(s)$ is orthogonal to $\\mathbf t(s)$ and is a linear combination of $\\mathbf n(s)$ and $\\mathbf b(s)$. Differentiating gives <br>\n",
    "$$\\frac{d \\mathbf {\\bar r}}{ds} = \\mathbf {\\dot r} + \\dot\\alpha\\mathbf n + \\alpha \\mathbf{\\dot n} + \\dot\\beta\\mathbf b + \\beta\\mathbf{\\dot b}\\\\= (1-\\alpha\\kappa)\\mathbf t+ (\\dot\\alpha-\\beta\\tau)\\mathbf n + (\\dot\\beta +\\tau\\alpha)\\mathbf b\n",
    "                  $$\n",
    "after substituting the frenet equations for the dot terms. This value $(d\\mathbf{\\bar r}/ds)$ is also tangent to $C_1$ and is proportional to \n",
    "                  $$\\mathbf{\\bar r}-\\mathbf r = \\alpha \\mathbf n + \\beta \\mathbf b\n",
    "                  $$\n",
    "and there exists a $k$ such that (need theorom, suppose this is the tangent line)\n",
    "                  $$1-\\alpha \\kappa = 0,\\qquad (\\dot\\alpha-\\beta\\tau)=k\\alpha,\\qquad(\\dot\\beta+\\tau\\alpha)=k\\beta\n",
    "                  $$\n",
    "so $\\alpha = 1/\\kappa$ and the variable $k$ can be eliminated <br>\n",
    "                  $$\\beta(\\dot\\alpha-\\beta\\tau)-\\alpha(\\dot\\beta+\\tau\\alpha)=0\n",
    "                  $$\n",
    "and solving for $\\tau$ we find <br>\n",
    "                  $$\\tau = \\frac{\\beta\\dot\\alpha-\\alpha\\dot\\beta}{\\alpha^2+\\beta^2} = \\frac{d}{ds}\\cot^{-1}(\\beta/\\alpha)\n",
    "                  $$\n",
    "and integration gives <br>\n",
    "                  $$\\beta = \\alpha \\cot\\left(\\int \\tau ds + c \\right) = \\frac{1}{\\kappa} \\cot\\left(\\int \\tau ds + c \\right) \n",
    "                  $$\n",
    "and this gives an infinite family of evolutes <br>\n",
    "                  $$\\mathbf {\\bar r} = \\mathbf r + \\frac{1}{\\kappa} \\mathbf n + \\frac{1}{\\kappa} \\cot\\left(\\int\\tau ds +c \\right)\\mathbf b\n",
    "                  $$\n",
    "and so the assumption is that along $C$ the value $(\\dot\\alpha-\\beta\\tau)^2+(\\dot\\beta+\\tau\\alpha)^2 \\neq 0$. If $C$ is a plane curve then $\\tau=0$ and $\\alpha = \\gamma\\beta$ with $\\gamma$ a constant, and \n",
    "                  $$(\\dot\\alpha-\\beta\\tau)^2+(\\dot\\beta+\\tau\\alpha)^2 = \\frac{\\dot \\kappa^2}{\\kappa ^4}(1+\\gamma^{-2}).$$\n",
    "And for plane curves it is assumed that $\\dot\\kappa \\neq 0 $.\n",
    "                  Needs more information here"
   ]
  },
  {
   "cell_type": "markdown",
   "metadata": {},
   "source": [
    "<div style=\"background:red\">Definition of contact with a surface</div><br>\n",
    "                  A curve $\\mathbf r=x_1(t)\\mathbf e_1 + x_2(t)\\mathbf e_2 + x_3(t)\\mathbf e_3$ has n-point contact with a surface $F(x_1,x_2,x_3)=0$ at the point corresponding to $t=t_0$ if the function <br>\n",
    "                  $$f(t)=F(x_1(t),x_2(t),x_3(t))\n",
    "                  $$\n",
    "satisfies\n",
    "                  $$f(t_0)=f'(0)=f''(0)=\\cdots=f^{(n-1)}(t_0)=0\\qquad but\\qquad f^{(n)}(t_0)\\neq 0 \n",
    "                  $$\n",
    "and this is independant of the parameterization of the curve."
   ]
  },
  {
   "cell_type": "markdown",
   "metadata": {},
   "source": [
    "<div style=\"background:red\">Definition of contact with a curve</div><br>\n",
    "                  A curve $C$ is denoted as $\\mathbf r=x_1(t)\\mathbf e_1 + x_2(t)\\mathbf e_2 + x_3(t)\\mathbf e_3$ and a second curve $C_1$ is defined by the intersection of two surfaces $F$ and $G$ both functions of $(x_1,x_2,x_3)$ then the curve  $C$ has n-point contact at $t_0$ if and only if there is n-point contact with one of the surfaces and at least n-point contact with the other."
   ]
  },
  {
   "cell_type": "code",
   "execution_count": null,
   "metadata": {
    "collapsed": false,
    "scrolled": true
   },
   "outputs": [],
   "source": []
  },
  {
   "cell_type": "code",
   "execution_count": null,
   "metadata": {
    "collapsed": false,
    "scrolled": true
   },
   "outputs": [],
   "source": []
  }
 ],
 "metadata": {
  "kernelspec": {
   "display_name": "Python 2",
   "language": "python",
   "name": "python2"
  },
  "language_info": {
   "codemirror_mode": {
    "name": "ipython",
    "version": 2
   },
   "file_extension": ".py",
   "mimetype": "text/x-python",
   "name": "python",
   "nbconvert_exporter": "python",
   "pygments_lexer": "ipython2",
   "version": "2.7.10"
  }
 },
 "nbformat": 4,
 "nbformat_minor": 0
}
