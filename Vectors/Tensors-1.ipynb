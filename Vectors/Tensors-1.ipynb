{
 "cells": [
  {
   "cell_type": "markdown",
   "metadata": {},
   "source": [
    "#  Tensors "
   ]
  },
  {
   "cell_type": "markdown",
   "metadata": {},
   "source": [
    "#### Definition\n",
    "---\n",
    "\n",
    "> a point in N-dimensional space is represented by $\\mathbf x = (x^1,x^2,\\cdots,x^n)$\n",
    "> the coordnate system is represented by some basis $(\\mathbf e_1, \\mathbf e_2, \\cdots, \\mathbf e_n)$\n",
    "> the point may be represented in more than one basis (see curvilinear coordinates). \n",
    "\n",
    "Note: a superscript is used for the point vector instead of a subscript. If a component is raised to a power, then it is placed in round brackets $(x^i)^2$ is the $i^{th}$ component of $x$ raised to the power of 2.\n",
    "\n",
    "\n",
    "---\n",
    "\n",
    "\n",
    "#### Coordinate Transformations\n",
    "   \n",
    "if $ x^1, x^2 \\cdots,x^n$ and $ \\bar{x}^1, \\bar{x}^2,\\cdots, \\bar{x}^n$ are representations of a point in two coordinate systems or frames of reference, and \n",
    "   \n",
    "$$\\bar{x}^1 =\\bar{x}^1( x^1, x^2 \\cdots,x^n)$$ and\n",
    "$$\\bar{x}^2 =\\bar{x}^2( x^1, x^2 \\cdots,x^n)$$ etc\n",
    "$$\\cdots$$ and\n",
    "$$\\bar{x}^n =\\bar{x}^n( x^1, x^2 \\cdots,x^n)$$\n",
    "\n",
    "defines the representation of the *barred coordinates* as a function of the *unbarred coordinates*, and to define the converse\n",
    "\n",
    "$$x^k = x^k(\\bar{x}^1, \\bar{x}^2,\\cdots, \\bar{x}^n ) \\qquad k=1,\\cdots,n $$\n",
    "\n",
    "Then these relations define a coordinate transformation."
   ]
  },
  {
   "cell_type": "markdown",
   "metadata": {},
   "source": [
    "## Einstein Summation Convention"
   ]
  },
  {
   "cell_type": "markdown",
   "metadata": {},
   "source": [
    "---\n",
    "##### Sums\n",
    "\n",
    "expressions of the form \n",
    "\n",
    "$$\\large\\sum_{i=1}^n x_i = x_1 + x_2 +\\cdots x_n $$\n",
    "\n",
    "are written simply as \n",
    "\n",
    "$$x_i,\\quad i=1,n$$\n",
    "\n",
    "For an expression of the form \n",
    "\n",
    "$$ y_i = a_{ij}x_j $$\n",
    "\n",
    "with $j = 1,2,\\cdots,n$, has two indices. The variable $j$ is called a dummy index, and $i$ is called the free index.\n",
    "\n",
    "$$ y_i = a_{i1}x_1 + a_{i2}x_2 + \\cdots +a_{in}x_n$$\n",
    "\n",
    "Now iterating over the free index to $m$ gives \n",
    "\n",
    "$$ y_1 = a_{11}x_1 + a_{12}x_2 + \\cdots +a_{1n}x_n$$\n",
    "$$ y_2 = a_{21}x_1 + a_{22}x_2 + \\cdots +a_{2n}x_n$$\n",
    "$$ \\cdots $$\n",
    "$$ y_m = a_{m1}x_1 + a_{m2}x_2 + \\cdots +a_{mn}x_n$$\n",
    "\n",
    "This does yeild a matrix definition of the form $ \\mathbf y_{m1} = \\mathbf a_{mn} \\mathbf x_{n1} $ \n",
    "\n",
    "> #### The Summation Convention\n",
    "> Any expression with a twice repeated index (either subscripts (and) or superscripts) represents its sum over the \n",
    "> values $1,2,\\cdots,n$ of the repeated index. The character $n$ may represent the range of summations unless stated \n",
    "> otherwise.\n",
    "   \n",
    "> 1) Any free index shall have the same range as summation indexes unless stated otherwise (in the equation above, n=m by default).\n",
    "   \n",
    "> 2) No index may occur more than twice in an expression."
   ]
  },
  {
   "cell_type": "markdown",
   "metadata": {},
   "source": [
    "#### Multiple summation indexes\n",
    "\n",
    "An expression with multiple summation indexes represents the result of the sum over each index, so \n",
    "\n",
    "$$\\large a_{\\color{red}{i}\\color{blue}{j}}x_{\\color{red}{i}}y_{\\color{blue}{j}}$$ \n",
    "\n",
    "results in summing over ${\\color{red}{i}}$ from ${\\color{red}{(1,\\cdots, n)}}$ and ${\\color{blue}{j}}$ from ${\\color{blue}{(1,\\cdots, m)}}$, i.e.first summing over $i$ \n",
    "\n",
    "$$a_{\\color{red}{1}\\color{blue}{j}} x_{\\color{red}{1}} y_{\\color{blue}{j}} + \\cdots + a_{\\color{red}{n}\\color{blue}{j}} x_{\\color{red}{n}} y_{\\color{blue}{j}} $$\n",
    "Then summing over $j$\n",
    "$$ (a_{11} x_1 y_1 + \\cdots + a_{n1} x_n y_1  ) + (a_{12} x_1 y_2 + \\cdots + a_{n2} x_n y_2) + \\cdots + (a_{1m} x_1 y_m + \\cdots + a_{nm} x_n y_m)  $$\n",
    "   \n",
    "dropping the red and blue to save time in the expansion.\n",
    "   \n",
    "> The expressions *are the same* if the order of summation is reversed"
   ]
  },
  {
   "cell_type": "markdown",
   "metadata": {},
   "source": [
    "### Substitutions\n",
    "---\n",
    "If an expression $y_i = a_{ij}x_j$ is substituted into $B = C_{ij}y_ix_j$ then the dummy index $j$ in the first expression is replaced $y_i = a_{ip}x_p$ to avoid having indices repeated more than twice (see remark 2 above), so then $B=C_{ij}a_{ip} x_p x_j$\n"
   ]
  },
  {
   "cell_type": "markdown",
   "metadata": {},
   "source": [
    "#### Matrix Notation "
   ]
  },
  {
   "cell_type": "markdown",
   "metadata": {},
   "source": [
    "We know from matrix algebra that the expression $B=C_{ij}a_{ip} x_p x_j$ does not multiply if converted directly to matrix form, so to put this in matrix form, $$ \\mathbf B_i = (\\mathbf C_{ij} \\mathbf x_j)^{\\mathbf T}( \\mathbf a_{ip} \\mathbf x_p )$$\n",
    "   \n",
    "Matrix notation is different to tensor notation and does not offer an exact replacement because matrix notation requires that a vector is defined as column and transposed to form a row, and that to mulitply two objects (matrix and vector) is an order dependant operation, such that for two non square matrices $\\mathbf A_{mn}$ and $\\mathbf B_{nr}$ the product $\\mathbf C_{mr}= \\mathbf A \\mathbf B $ is possible because $B$ has the same number of rows as $A$ has columns, but $ \\mathbf B \\mathbf A $ is not possible. This is not the case with the summation notation in tensor analysis.\n",
    "\n",
    ">  When Tensor notation is used to denote matrices, the superscript represents the row, and the subscript represents the column"
   ]
  },
  {
   "cell_type": "markdown",
   "metadata": {},
   "source": [
    "### Kronecker Delta \n",
    "---\n",
    "$$ \\delta^{ij} = \\delta_{ij} = \\delta_j^i = 1 $$ if $i=j$ and zero otherwise\n",
    "\n",
    "\n",
    "   \n",
    "Therefore $\\delta_{11} = 1$, and $\\delta_{12} = 0$, etc\n",
    "   \n",
    "This symbol can be seen to be the tensor notation equivalent to the Identity matrix in matrix algebra."
   ]
  },
  {
   "cell_type": "markdown",
   "metadata": {},
   "source": [
    "### Permutation Symbol\n",
    "---\n",
    "The symbol $e_{ijk...n}$ and $e^{ijk...n}$ with n subscripts or superscripts is called the permutation symbol, and is zero if two indices are identical and equals $(-1)^b$ where $b$ is the number interchanges of consecutive subscripts required to bring $ijk...n$ to the order $123...n$. More simply, in the case of $e_{ijk} = e^{ijk}$ \n",
    " \n",
    " \n",
    "$e_{ijk} =0\\qquad $ if two indices are the same\n",
    "  \n",
    "$e_{ijk} =1\\qquad $ if $i,j,k$ is an even permutation\n",
    "   \n",
    "$e_{ijk} =-1\\qquad $ if $i,j,k$ is an odd permutation\n",
    "\n",
    " \n",
    "\n",
    "   \n",
    "\n",
    "   \n",
    "   \n"
   ]
  },
  {
   "cell_type": "markdown",
   "metadata": {},
   "source": [
    "### Differentials\n",
    "   \n",
    "for a vector, $\\mathbf r= \\mathbf r(u^1,u^2,\\cdots,u^n)$ where the $u^i$ are coordinates of some arbitrary system\n",
    "\n",
    "$$ d\\mathbf r = \\frac{d\\mathbf r}{du^1}du^1+\\frac{d\\mathbf r}{du^2}du^2+\\cdots+\\frac{d\\mathbf r}{du^n}du^n$$\n",
    "\n",
    "is the differential of $\\mathbf r$ with respect to the $u^i$ basis. This is an important form. In index notation ...\n",
    "   \n",
    "$$ d r^i = \\frac{d r^i}{du^k} du^k \\qquad\\qquad (1)$$\n",
    "   \n",
    "This concept extends to the notion of a *one-form* written as\n",
    "   \n",
    "$$\\mathbf {\\omega} = a_1 dx^1 + a_2 dx^2 +\\cdots+ a_n dx^n$$"
   ]
  },
  {
   "cell_type": "markdown",
   "metadata": {},
   "source": [
    "#### Chain Rule\n",
    "\n",
    "For a function (in this case, a scalar valued function of a vector variable) $w = f(u^k)$ for $k=1,\\cdots n$ and $u^k = u^k(x^j)$ for $j=1,\\cdots m$ Then the rate of change of $w$ with resect to the $x^j$ is expressed as\n",
    "   \n",
    "$$ \\frac{ \\partial w }{\\partial x^j} = \\frac{ \\partial w }{\\partial u^k}\\frac{ \\partial u^k }{\\partial x^j} \\qquad\\qquad(1.1) $$ \n",
    "   \n",
    "In this case $k$ in the term $\\frac{ \\partial w }{\\partial u^k}$ is seen as a <b>subscript </b> and the $k$ in the term\n",
    "$\\frac{ \\partial u^k }{\\partial x^j}$ is seen as a <b>superscript</b> with subscript $j$ \n"
   ]
  },
  {
   "cell_type": "markdown",
   "metadata": {},
   "source": [
    "### Dot and Cross Product\n",
    "\n",
    "The dot product can be defined as \n",
    "\n",
    "$$ \\mathbf x\\cdot  \\mathbf y = x^i y^i = \\mathbf x \\mathbf y$$\n",
    "\n",
    "Using the permutation symbol to define the basis vectors .. $e_{ijk}$ then $ e_{132} = (-1)^1 = -1$ and $e_{ijk}$ then $ e_{123} = (-1)^0 = 1$ then for each $e_{ijk}$ there is a unique \n",
    "   \n",
    "$$(\\mathbf u \\times \\mathbf v)_i = (e_{ijk}u_j v_k) $$"
   ]
  },
  {
   "cell_type": "markdown",
   "metadata": {},
   "source": [
    "## Back to Coordinates\n",
    "---\n",
    "Using the summation convention, a *coordinate transformation* may be represented as \n",
    "   \n",
    "$$\\bar{x}^i = \\bar{x}^i( x^j )$$ \n",
    "   \n",
    "and\n",
    "   \n",
    "$$x^j = x^j ( \\bar{x}^i  )$$ \n",
    "   \n"
   ]
  },
  {
   "cell_type": "markdown",
   "metadata": {},
   "source": [
    "### Review of Background \n",
    "\n",
    "For two related systems, \n",
    "   \n",
    "$$\\mathbf x = \\mathbf x(u^1, u^2, u^3)$$\n",
    "\n",
    "and\n",
    "$$\\mathbf u =\\mathbf u(x^1, x^2, x^3) $$ etc\n",
    "\n",
    "Then a point P represented in the cartesian frame, also has a representation in the curvilinear frame $(u^1, u^2, u^3)$.\n",
    "For orthogonal curvilinear coordinates, there are two reciprocal sets of vectors to consider - the tangents to the curves defined by the $u^i$ coordinates and the normals to the surfaces defined by pairs of $u^i$ coordinates, or when a $u^k = \\text{const}$. Let $\\mathbf r = x^1\\mathbf i + x^2\\mathbf j + x^3\\mathbf k$ be a position vector representing the set of all points P in the cartesian system, then the unit tangent vectors are\n",
    "   \n",
    "   \n",
    "$$   \\mathbf e^i= \\frac{\\frac{\\partial \\mathbf r}{\\partial u_i}}{\\left|\\frac{\\partial \\mathbf r}{\\partial u_i} \\right|}=\\frac{1}{h_i}\\frac{\\partial \\mathbf r}{\\partial u_i}   \\qquad\\qquad (2.0) $$\n",
    "\n",
    "where the $h_i=\\left|\\frac{\\partial r}{\\partial u^i}\\right|$ are the scale factors or Lame coefficients and the $\\mathbf e^i$ are in the directions of the tangents of $u^i$ curves. Often the $\\mathbf r$ is left out of the definition, and the unitary vectors become\n",
    "   \n",
    "$$\\partial_i = \\frac{\\partial}{\\partial u^i}$$\n",
    "\n",
    "The reciprocal set of vectors is \n",
    "   \n",
    "$$ \\hat{\\mathbf e}^p = \\frac{\\nabla u^p}{\\left|\\nabla u^p\\right|} \\qquad\\qquad (2.1)$$ \n",
    "   \n",
    "Where $\\nabla u^1 = \\frac{\\partial u^1}{\\partial x^1}\\mathbf i +\\frac{\\partial u^1}{\\partial x^2}\\mathbf j +\\frac{\\partial u^1}{\\partial x^3}\\mathbf k$. These vectors are the normals to the surface such that $\\nabla u^p$ is normal to $u^p = \\text{const}$. \n",
    "\n",
    "The terms $\\frac{\\partial \\mathbf r}{\\partial u_i}$ and $\\nabla u^p$ are called unitary base vectors , but are not unit vectors. If a vector $\\mathbf v$ is represented in these two systems...\n",
    "   \n",
    "$$ \\mathbf v = a^i \\frac{\\partial \\mathbf r}{\\partial u^i} $$\n",
    "and\n",
    "$$ \\mathbf v = b^p \\nabla u^p $$\n",
    "\n",
    "Then the $a^i$ are the <b>contravariant</b> components of $\\mathbf v$ and the $b^p$ are the <b>covariant</b> components - they are only coincident / identical if the curvilinear system is orthogonal. This case will be most systems, however these definitions are useful for the concept of the metric.\n",
    "\n",
    "Arc length : $(ds)^2 = (h_1)^2 (du^1)^2+(h_2)^2 (du^2)^2+(h_3)^2 (du^3)^2 = (h_p)^2 (du^p)^2 \\qquad\\qquad (2.2)$\n",
    "   \n",
    "   more formally  $(ds)(ds) = (h_1 du^1)(h_1 du^1) + (h_2 du^2)(h_2 du^2)+ (h_3 du^3)(h_3 du^3) = (h_p du^p)(h_q du^q)\\delta^{pq} $\n",
    "   because we should not write powers as with raised indices and we should not repeat indices.\n",
    "   \n",
    "Volume: $dV = h_1\\ h_2\\ h_3\\ du^1 du^2 du^3 = |\\mathbf e^1 \\cdot\\mathbf e^2 \\times \\mathbf e^3| \\qquad\\qquad (2.3)$ (scalar triple product).\n"
   ]
  },
  {
   "cell_type": "markdown",
   "metadata": {},
   "source": [
    "### Example.\n",
    "   \n",
    "For spherical coordinates, the transformation to cartesian is\n",
    "   \n",
    "$$ x = r\\ \\cos\\phi\\ \\sin\\theta,\\quad y = r\\ \\sin\\phi\\ \\sin\\theta,\\quad z = r\\ \\cos\\theta $$ \n",
    "   \n",
    "where $\\theta$ is the angle from the top to the bottom of the sphere between 0 and $\\pi$, and $\\phi$ is the angle in the $xy$ plane with angle $0-360^o$ or $0 \\leq \\phi\\leq 2\\pi$. the inverse transform\n",
    "   \n",
    "$$ r = \\sqrt{ x^2 + y^2 + z^2}, \\quad \\theta = \\arccos \\frac{z}{r},\\quad \\phi = \\arctan \\frac{y}{x}$$\n",
    "   \n",
    "so we set that $(x,y,z) = (x^1,x^2,x^3)$ and $(r,\\theta,\\phi) = (\\bar{x}^1,\\bar{x}^2,\\bar{x}^3)$, (note that $\\theta$ is the second vector for this system to be right handed) then...\n",
    "   \n",
    "$$ x^1 = \\bar{x}^1\\ \\cos\\bar{x}^3\\ \\sin\\bar{x}^2,\\quad x^2 = \\bar{x}^1\\ \\sin\\bar{x}^3\\ \\sin\\bar{x}^2,\\quad x^3 = \\bar{x}^1\\ \\cos\\bar{x}^2 $$ \n",
    "and\n",
    "   \n",
    "$$ \\bar{x}^1= \\sqrt{ (x^1)^2 + (x^2)^2 + (x^3)^2}, \\quad \\bar{x}^2 = \\arccos \\frac{(x^3)}{\\sqrt{ (x^1)^2 + (x^2)^2 + (x^3)^2}},\\quad \\bar{x}^3 = \\arctan \\frac{x^2}{x^1}$$\n",
    "   \n",
    "and the Jacobian matrix of $\\frac{\\partial (x^1,x^2,x^3)}{\\partial (\\bar{x}^1,\\bar{x}^2,\\bar{x}^3)} $ we can get by calculating the derivatives ...\n",
    "   \n",
    "$$\\left( \\begin{matrix} \\frac{\\partial x^1}{\\partial \\bar{x}^1} &\\frac{\\partial x^1}{\\partial \\bar{x}^2} & \\frac{\\partial x^1}{\\partial \\bar{x}^3} \\\\\\ \\frac{\\partial x^2}{\\partial \\bar{x}^1} & \\frac{\\partial x^2}{\\partial \\bar{x}^2} & \\frac{\\partial x^2}{\\partial \\bar{x}^3} \\\\\\ \\frac{\\partial x^3}{\\partial \\bar{x}^1} & \\frac{\\partial x^3}{\\partial \\bar{x}^2} &\\frac{\\partial x^3}{\\partial \\bar{x}^3}  \\end{matrix}\\right) $$\n",
    "   \n"
   ]
  },
  {
   "cell_type": "markdown",
   "metadata": {},
   "source": [
    "From this matrix, switching to abstract coordinates where either one can be curvlinear, skew, or rectangular, we can see that the *columns* represent the contravariant vectors of $\\mathbf r = (x^1,x^2,x^3)$ with respect to the $\\bar{x}^i$ system, and the rows represent the covariant components of the  $\\bar{x}^i$ system with respect to the $x^i$ system. Therefore to find the both contravariant unitary vectors and the covariant unitary vectors we need the inverse jacobian.\n",
    "\n",
    "$$\\left( \\begin{matrix} \\frac{\\partial \\bar{x}^1}{\\partial x^1} & \\frac{\\partial \\bar{x}^1}{\\partial x^2} &  \\frac{\\partial \\bar{x}^1}{\\partial x^3} \\\\\\  \\frac{\\partial \\bar{x}^2}{\\partial x^1} &  \\frac{\\partial \\bar{x}^2}{\\partial x^2} &  \\frac{\\partial \\bar{x}^2}{\\partial x^3} \\\\\\  \\frac{\\partial \\bar{x}^3}{\\partial x^1} &  \\frac{\\partial \\bar{x}^3}{\\partial x^2} & \\frac{\\partial \\bar{x}^3}{\\partial x^3}  \\end{matrix}\\right) $$\n",
    "   \n"
   ]
  },
  {
   "cell_type": "markdown",
   "metadata": {},
   "source": [
    "Therefore for the $x^i$ system, the covariant unitary vectors are from the rows of the second Jacobian matrix \n",
    "   \n",
    "$$\\mathbf g_i =|\\nabla \\bar{x}^i|\\mathbf e_i = \\nabla \\bar{x}^i$$\n",
    "   \n",
    "where $\\nabla = (\\frac{\\partial }{\\partial x^1},\\frac{\\partial }{\\partial x^2},\\frac{\\partial }{\\partial x^3})$\n",
    "   \n",
    "and the contravariant unitary vectors are from the columns of the first Jacobian matrix\n",
    "\n",
    "$$\\mathbf g^i = \\left|\\frac{\\partial \\mathbf r}{\\partial \\bar{x}^i}\\right|\\mathbf e^i = \\frac{\\partial \\mathbf r}{\\partial \\bar{x}^i}$$\n",
    "\n",
    "and equivalently for the $\\bar{x}^i$ system, the covariant vectors are given by the rows of the first matrix ...\n",
    "   \n",
    "$$\\mathbf {\\bar{g}}^i  =|\\bar{\\nabla} x^i| \\mathbf {\\bar{e}}_i = \\bar{\\nabla} x^i    $$\n",
    "   \n",
    "where $\\bar{\\nabla} = (\\frac{\\partial }{\\partial \\bar{x}^1},\\frac{\\partial }{\\partial \\bar{x}^2},\\frac{\\partial }{\\partial \\bar{x}^3})$\n",
    "   \n",
    "and the contravariant unitary vectors are from the columns of the second Jacobian matrix\n",
    "\n",
    "$$\\mathbf {\\bar{g}}_i =\\left|\\frac{\\partial \\mathbf {\\bar{r}}}{\\partial x^i}\\right|\\mathbf {\\bar{e}}^i = \\frac{\\partial \\mathbf {\\bar{r}}}{\\partial x^i}$$"
   ]
  },
  {
   "cell_type": "code",
   "execution_count": 3,
   "metadata": {},
   "outputs": [
    {
     "name": "stdout",
     "output_type": "stream",
     "text": [
      "The Jacobian of the dx^i/dy^j where x's are cartesian and y's are spherical \n"
     ]
    },
    {
     "data": {
      "text/latex": [
       "$$\\left[\\begin{matrix}\\sin{\\left (y_{2} \\right )} \\cos{\\left (y_{3} \\right )} & y_{1} \\cos{\\left (y_{2} \\right )} \\cos{\\left (y_{3} \\right )} & - y_{1} \\sin{\\left (y_{2} \\right )} \\sin{\\left (y_{3} \\right )}\\\\\\sin{\\left (y_{2} \\right )} \\sin{\\left (y_{3} \\right )} & y_{1} \\sin{\\left (y_{3} \\right )} \\cos{\\left (y_{2} \\right )} & y_{1} \\sin{\\left (y_{2} \\right )} \\cos{\\left (y_{3} \\right )}\\\\\\cos{\\left (y_{2} \\right )} & - y_{1} \\sin{\\left (y_{2} \\right )} & 0\\end{matrix}\\right]$$"
      ],
      "text/plain": [
       "⎡sin(y₂)⋅cos(y₃)  y₁⋅cos(y₂)⋅cos(y₃)  -y₁⋅sin(y₂)⋅sin(y₃)⎤\n",
       "⎢                                                        ⎥\n",
       "⎢sin(y₂)⋅sin(y₃)  y₁⋅sin(y₃)⋅cos(y₂)  y₁⋅sin(y₂)⋅cos(y₃) ⎥\n",
       "⎢                                                        ⎥\n",
       "⎣    cos(y₂)         -y₁⋅sin(y₂)               0         ⎦"
      ]
     },
     "execution_count": 3,
     "metadata": {},
     "output_type": "execute_result"
    }
   ],
   "source": [
    "from sympy import *\n",
    "from sympy.vector import *\n",
    "\n",
    "e = CoordSysCartesian('e')\n",
    "sph = CoordSysCartesian('sph')\n",
    "\n",
    "x_1,x_2,x_3 = symbols('x_1,x_2, x_3')\n",
    "y_1,y_2,y_3 = symbols('y_1,y_2, y_3')\n",
    "\n",
    "v = y_1 * cos (y_3) * sin(y_2) * e.i+ y_1 * sin (y_3) * sin(y_2) * e.j +  y_1 * cos(y_2) * e.k\n",
    "V = sqrt( x_1**2 + x_2**2 + x_3**2) * sph.i + acos( x_3/sqrt( x_1**2 + x_2**2 + x_3**2)) * sph.j + atan(x_2/x_1) * sph.k\n",
    "\n",
    "X = Matrix([v.dot(e.i), v.dot(e.j),v.dot(e.k)])\n",
    "Y = Matrix([y_1, y_2, y_3])\n",
    "\n",
    "init_printing(use_latex=true)\n",
    "\n",
    "print \"The Jacobian of the dx^i/dy^j where x's are cartesian and y's are spherical \"\n",
    "J_1 = X.jacobian(Y)\n",
    "J_1"
   ]
  },
  {
   "cell_type": "markdown",
   "metadata": {},
   "source": [
    "Therefore in this case the contravariant components in rectangular coordinates with respect to the spherical coordinates are...\n",
    "   \n",
    "$$\\mathbf g^1 = \\frac{\\partial \\mathbf r}{\\partial y^1} = \\sin(y^2)\\cos(y^3)\\mathbf b^1+\\sin(y^2)\\sin(y^3)\\mathbf b^2+\\cos(y^2)\\mathbf b^3$$\n",
    "  \n",
    "and\n",
    "   \n",
    "$$\\mathbf g^2 = \\frac{\\partial \\mathbf r}{\\partial y^2} = y^1\\cos(y^2)\\cos(y^3)\\mathbf b^1+ y^1\\cos(y^2)\\sin(y^3)\\mathbf b^2-y^1\\sin(y^2)\\mathbf b^3$$\n",
    "\n",
    "   \n",
    "and\n",
    "\n",
    "$$\\mathbf g^3 = \\frac{\\partial \\mathbf r}{\\partial y^3} = -y^1\\sin(y^2)\\sin(y^3)\\mathbf b^1+y^1\\sin(y^2)\\cos(y^3)\\mathbf b^2$$\n",
    "\n",
    "and the covariant components \n",
    "\n",
    "$$\\mathbf{ \\bar{g}}_1 = \\nabla x^1 = \\sin(y^2)\\cos(y^3)\\mathbf {\\bar{b}}_1+y^1\\cos(y^2)\\cos(y^3)\\mathbf {\\bar{b}}_2-y^1\\sin(y^2)\\sin(y^3)\\mathbf {\\bar{b}}_3 $$\n",
    "  \n",
    "and\n",
    "   \n",
    "$$\\mathbf{ \\bar{g}}_2  = \\nabla x^2 = \\sin(y^2)\\sin(y^3)\\mathbf {\\bar{b}}_1+ y^1\\cos(y^2)\\sin(y^3)\\mathbf {\\bar{b}}_2+y^1\\sin(y^2)\\cos(y^3) \\mathbf {\\bar{b}}_3 $$\n",
    "\n",
    "   \n",
    "and\n",
    "\n",
    "$$\\mathbf{ \\bar{g}}_3  =  \\nabla x^3 = cos(y^2)\\mathbf {\\bar{b}}_1-y^1\\sin(y^2)\\mathbf {\\bar{b}}_2$$\n",
    "\n",
    "where the ${\\bar{b}}_1$ and $\\mathbf b^i$ are to be determined."
   ]
  },
  {
   "cell_type": "code",
   "execution_count": 4,
   "metadata": {},
   "outputs": [
    {
     "name": "stdout",
     "output_type": "stream",
     "text": [
      "The Jacobian of the dy^i/dx^j where x's are cartesian and y's are spherical \n"
     ]
    },
    {
     "data": {
      "text/latex": [
       "$$\\left[\\begin{matrix}\\frac{x_{1}}{\\sqrt{x_{1}^{2} + x_{2}^{2} + x_{3}^{2}}} & \\frac{x_{2}}{\\sqrt{x_{1}^{2} + x_{2}^{2} + x_{3}^{2}}} & \\frac{x_{3}}{\\sqrt{x_{1}^{2} + x_{2}^{2} + x_{3}^{2}}}\\\\\\frac{x_{1} x_{3}}{\\sqrt{- \\frac{x_{3}^{2}}{x_{1}^{2} + x_{2}^{2} + x_{3}^{2}} + 1} \\left(x_{1}^{2} + x_{2}^{2} + x_{3}^{2}\\right)^{\\frac{3}{2}}} & \\frac{x_{2} x_{3}}{\\sqrt{- \\frac{x_{3}^{2}}{x_{1}^{2} + x_{2}^{2} + x_{3}^{2}} + 1} \\left(x_{1}^{2} + x_{2}^{2} + x_{3}^{2}\\right)^{\\frac{3}{2}}} & - \\frac{- \\frac{x_{3}^{2}}{\\left(x_{1}^{2} + x_{2}^{2} + x_{3}^{2}\\right)^{\\frac{3}{2}}} + \\frac{1}{\\sqrt{x_{1}^{2} + x_{2}^{2} + x_{3}^{2}}}}{\\sqrt{- \\frac{x_{3}^{2}}{x_{1}^{2} + x_{2}^{2} + x_{3}^{2}} + 1}}\\\\- \\frac{x_{2}}{x_{1}^{2} \\left(1 + \\frac{x_{2}^{2}}{x_{1}^{2}}\\right)} & \\frac{1}{x_{1} \\left(1 + \\frac{x_{2}^{2}}{x_{1}^{2}}\\right)} & 0\\end{matrix}\\right]$$"
      ],
      "text/plain": [
       "⎡                        x₁                                                  x\n",
       "⎢               ────────────────────                                ──────────\n",
       "⎢                  _________________                                   _______\n",
       "⎢                 ╱   2     2     2                                   ╱   2   \n",
       "⎢               ╲╱  x₁  + x₂  + x₃                                  ╲╱  x₁  + \n",
       "⎢                                                                             \n",
       "⎢                                                                             \n",
       "⎢                                                                             \n",
       "⎢                                                                             \n",
       "⎢                                                                             \n",
       "⎢                                                                             \n",
       "⎢                      x₁⋅x₃                                               x₂⋅\n",
       "⎢──────────────────────────────────────────────────  ─────────────────────────\n",
       "⎢      _______________________                             ___________________\n",
       "⎢     ╱           2                             3/2       ╱           2       \n",
       "⎢    ╱          x₃             ⎛  2     2     2⎞         ╱          x₃        \n",
       "⎢   ╱   - ─────────────── + 1 ⋅⎝x₁  + x₂  + x₃ ⎠        ╱   - ─────────────── \n",
       "⎢  ╱        2     2     2                              ╱        2     2     2 \n",
       "⎢╲╱       x₁  + x₂  + x₃                             ╲╱       x₁  + x₂  + x₃  \n",
       "⎢                                                                             \n",
       "⎢                       -x₂                                                  1\n",
       "⎢                  ─────────────                                        ──────\n",
       "⎢                      ⎛      2⎞                                           ⎛  \n",
       "⎢                    2 ⎜    x₂ ⎟                                           ⎜  \n",
       "⎢                  x₁ ⋅⎜1 + ───⎟                                        x₁⋅⎜1 \n",
       "⎢                      ⎜      2⎟                                           ⎜  \n",
       "⎣                      ⎝    x₁ ⎠                                           ⎝  \n",
       "\n",
       "₂                                                 x₃                        ⎤\n",
       "──────────                               ────────────────────               ⎥\n",
       "__________                                  _________________               ⎥\n",
       "  2     2                                  ╱   2     2     2                ⎥\n",
       "x₂  + x₃                                 ╲╱  x₁  + x₂  + x₃                 ⎥\n",
       "                                                                            ⎥\n",
       "                            ⎛            2                                ⎞ ⎥\n",
       "                            ⎜          x₃                      1          ⎟ ⎥\n",
       "                           -⎜- ──────────────────── + ────────────────────⎟ ⎥\n",
       "                            ⎜                   3/2      _________________⎟ ⎥\n",
       "                            ⎜  ⎛  2     2     2⎞        ╱   2     2     2 ⎟ ⎥\n",
       "x₃                          ⎝  ⎝x₁  + x₂  + x₃ ⎠      ╲╱  x₁  + x₂  + x₃  ⎠ ⎥\n",
       "─────────────────────────  ─────────────────────────────────────────────────⎥\n",
       "____                                       _______________________          ⎥\n",
       "                      3/2                 ╱           2                     ⎥\n",
       "     ⎛  2     2     2⎞                   ╱          x₃                      ⎥\n",
       "+ 1 ⋅⎝x₁  + x₂  + x₃ ⎠                  ╱   - ─────────────── + 1           ⎥\n",
       "                                       ╱        2     2     2               ⎥\n",
       "                                     ╲╱       x₁  + x₂  + x₃                ⎥\n",
       "                                                                            ⎥\n",
       "                                                                            ⎥\n",
       "──────                                             0                        ⎥\n",
       "    2⎞                                                                      ⎥\n",
       "  x₂ ⎟                                                                      ⎥\n",
       "+ ───⎟                                                                      ⎥\n",
       "    2⎟                                                                      ⎥\n",
       "  x₁ ⎠                                                                      ⎦"
      ]
     },
     "execution_count": 4,
     "metadata": {},
     "output_type": "execute_result"
    }
   ],
   "source": [
    "X_2 = Matrix([V.dot(sph.i), V.dot(sph.j),V.dot(sph.k)])\n",
    "Y_2 = Matrix([x_1,x_2,x_3])\n",
    "\n",
    "print \"The Jacobian of the dy^i/dx^j where x's are cartesian and y's are spherical \"\n",
    "\n",
    "J_2 = X_2.jacobian(Y_2)\n",
    "J_2"
   ]
  },
  {
   "cell_type": "code",
   "execution_count": 5,
   "metadata": {},
   "outputs": [
    {
     "name": "stdout",
     "output_type": "stream",
     "text": [
      "The inverse of the Jacobian of the dx^i/dy^j where x's are cartesian and y's are spherical \n"
     ]
    },
    {
     "data": {
      "text/latex": [
       "$$\\left[\\begin{matrix}\\sin{\\left (y_{2} \\right )} \\cos{\\left (y_{3} \\right )} & \\sin{\\left (y_{2} \\right )} \\sin{\\left (y_{3} \\right )} & \\cos{\\left (y_{2} \\right )}\\\\\\frac{1}{y_{1}} \\cos{\\left (y_{2} \\right )} \\cos{\\left (y_{3} \\right )} & \\frac{1}{y_{1}} \\sin{\\left (y_{3} \\right )} \\cos{\\left (y_{2} \\right )} & - \\frac{1}{y_{1}} \\sin{\\left (y_{2} \\right )}\\\\- \\frac{\\sin{\\left (y_{3} \\right )}}{y_{1} \\sin{\\left (y_{2} \\right )}} & \\frac{\\cos{\\left (y_{3} \\right )}}{y_{1} \\sin{\\left (y_{2} \\right )}} & 0\\end{matrix}\\right]$$"
      ],
      "text/plain": [
       "⎡sin(y₂)⋅cos(y₃)  sin(y₂)⋅sin(y₃)   cos(y₂) ⎤\n",
       "⎢                                           ⎥\n",
       "⎢cos(y₂)⋅cos(y₃)  sin(y₃)⋅cos(y₂)  -sin(y₂) ⎥\n",
       "⎢───────────────  ───────────────  ─────────⎥\n",
       "⎢       y₁               y₁            y₁   ⎥\n",
       "⎢                                           ⎥\n",
       "⎢  -sin(y₃)          cos(y₃)                ⎥\n",
       "⎢  ──────────       ──────────         0    ⎥\n",
       "⎣  y₁⋅sin(y₂)       y₁⋅sin(y₂)              ⎦"
      ]
     },
     "execution_count": 5,
     "metadata": {},
     "output_type": "execute_result"
    }
   ],
   "source": [
    "print \"The inverse of the Jacobian of the dx^i/dy^j where x's are cartesian and y's are spherical \"\n",
    "J1_inv = simplify(J_1.inverse_ADJ())\n",
    "J1_inv"
   ]
  },
  {
   "cell_type": "code",
   "execution_count": 6,
   "metadata": {},
   "outputs": [
    {
     "name": "stdout",
     "output_type": "stream",
     "text": [
      "The inverse of the Jacobian of the dy^i/dx^j where x's are cartesian and y's are spherical \n"
     ]
    },
    {
     "data": {
      "text/latex": [
       "$$\\left[\\begin{matrix}\\frac{y_{1}}{\\sqrt{y_{1}^{2}}} \\sin{\\left (y_{2} \\right )} \\cos{\\left (y_{3} \\right )} & \\frac{\\sqrt{2} y_{1}^{2} \\left(\\sin{\\left (2 y_{2} - y_{3} \\right )} + \\sin{\\left (2 y_{2} + y_{3} \\right )}\\right)}{4 \\sqrt{- \\cos{\\left (2 y_{2} \\right )} + 1} \\sqrt{y_{1}^{2}}} & - y_{1} \\sin{\\left (y_{2} \\right )} \\sin{\\left (y_{3} \\right )}\\\\\\frac{y_{1}}{\\sqrt{y_{1}^{2}}} \\sin{\\left (y_{2} \\right )} \\sin{\\left (y_{3} \\right )} & \\frac{\\sqrt{2} y_{1}^{2} \\left(\\cos{\\left (2 y_{2} - y_{3} \\right )} - \\cos{\\left (2 y_{2} + y_{3} \\right )}\\right)}{4 \\sqrt{- \\cos{\\left (2 y_{2} \\right )} + 1} \\sqrt{y_{1}^{2}}} & y_{1} \\sin{\\left (y_{2} \\right )} \\cos{\\left (y_{3} \\right )}\\\\\\frac{y_{1}}{\\sqrt{y_{1}^{2}}} \\cos{\\left (y_{2} \\right )} & - \\frac{y_{1}^{2}}{\\sqrt{y_{1}^{2}}} \\sqrt{\\sin^{2}{\\left (y_{2} \\right )}} & 0\\end{matrix}\\right]$$"
      ],
      "text/plain": [
       "⎡                         2                                                   \n",
       "⎢y₁⋅sin(y₂)⋅cos(y₃)  √2⋅y₁ ⋅(sin(2⋅y₂ - y₃) + sin(2⋅y₂ + y₃))                 \n",
       "⎢──────────────────  ────────────────────────────────────────  -y₁⋅sin(y₂)⋅sin\n",
       "⎢        _____                                    _____                       \n",
       "⎢       ╱   2                 ________________   ╱   2                        \n",
       "⎢     ╲╱  y₁              4⋅╲╱ -cos(2⋅y₂) + 1 ⋅╲╱  y₁                         \n",
       "⎢                                                                             \n",
       "⎢                         2                                                   \n",
       "⎢y₁⋅sin(y₂)⋅sin(y₃)  √2⋅y₁ ⋅(cos(2⋅y₂ - y₃) - cos(2⋅y₂ + y₃))                 \n",
       "⎢──────────────────  ────────────────────────────────────────  y₁⋅sin(y₂)⋅cos(\n",
       "⎢        _____                                    _____                       \n",
       "⎢       ╱   2                 ________________   ╱   2                        \n",
       "⎢     ╲╱  y₁              4⋅╲╱ -cos(2⋅y₂) + 1 ⋅╲╱  y₁                         \n",
       "⎢                                                                             \n",
       "⎢                                      __________                             \n",
       "⎢                                 2   ╱    2                                  \n",
       "⎢    y₁⋅cos(y₂)                -y₁ ⋅╲╱  sin (y₂)                              \n",
       "⎢    ──────────                ───────────────────                      0     \n",
       "⎢        _____                          _____                                 \n",
       "⎢       ╱   2                          ╱   2                                  \n",
       "⎣     ╲╱  y₁                         ╲╱  y₁                                   \n",
       "\n",
       "    ⎤\n",
       "    ⎥\n",
       "(y₃)⎥\n",
       "    ⎥\n",
       "    ⎥\n",
       "    ⎥\n",
       "    ⎥\n",
       "    ⎥\n",
       "    ⎥\n",
       "y₃) ⎥\n",
       "    ⎥\n",
       "    ⎥\n",
       "    ⎥\n",
       "    ⎥\n",
       "    ⎥\n",
       "    ⎥\n",
       "    ⎥\n",
       "    ⎥\n",
       "    ⎥\n",
       "    ⎥\n",
       "    ⎦"
      ]
     },
     "execution_count": 6,
     "metadata": {},
     "output_type": "execute_result"
    }
   ],
   "source": [
    "print \"The inverse of the Jacobian of the dy^i/dx^j where x's are cartesian and y's are spherical \"\n",
    "J2_inv =simplify(J_2.inverse_GE())\n",
    "simplify(J2_inv.subs({x_1:v.dot(e.i),x_2:v.dot(e.j),x_3:v.dot(e.k)}))"
   ]
  },
  {
   "cell_type": "markdown",
   "metadata": {},
   "source": [
    "taking the identity, $\\cos(2\\theta)=\\cos^2\\theta - sin^2\\theta = 2\\cos^2\\theta-1 = 1-2\\sin^2\\theta$ the denomiator common in the $\\mathbf J_{12}$ and $\\mathbf J_{22}$ can be simplified, $4\\sqrt{-\\cos(2 y_2)+1}\\sqrt{y_1^2} = 4 \\sqrt{-(1-2\\sin^2(y_2))+1}y_1 = \\sqrt(2)4\\sin(y_2)y_1$"
   ]
  },
  {
   "cell_type": "markdown",
   "metadata": {},
   "source": [
    "The numerator from the $\\mathbf J_{12}$ and $\\mathbf J_{22}$ terms can also be simplified ... using $\\sin(A\\pm B)=\\sin(A)\\cos(B)\\pm \\cos(A)\\sin(B) $ the numerator of $\\mathbf J_{12}$ is simplified as follows \n",
    "   \n",
    "$$\\sqrt(2) y_1^2 (\\sin(2y_2-y_3)+\\sin(2y_2+y3)) = \\sqrt(2) y_1^2 (\\sin(2 y_2)\\cos(y_3)- \\cos(2 y_2)\\sin(y3) + \\sin(2 y_2)\\cos(y_3 )+ \\cos(2 y_2)\\sin(y_3)) = \\sqrt(2) y_1^2 (2 \\sin(2 y_2)\\cos(y_3))$$  \n",
    "   \n",
    "and then the identity $\\sin(2\\theta) = 2\\sin\\theta\\cos\\theta$ gives ...\n",
    "   \n",
    "$$ \\sqrt(2) y_1^2 (2 \\sin(2 y_2)\\cos(y_3)) = \\sqrt(2) y_1^2 (4 \\sin y_2 \\cos y_2 \\cos y_3) $$\n",
    "   \n",
    "and now combining numerator and denominator ... \n",
    "   \n",
    "$$\\mathbf J_{12} = \\frac{\\sqrt(2) y_1^2 (4 \\sin y_2 \\cos y_2 \\cos y_3)}{\\sqrt(2)4\\sin(y_2)y_1} = y_1 ( \\cos y_2 \\cos y_3) $$\n",
    "  \n",
    "as the $\\sqrt 2$, the $y_1$'s and the 4's cancel. The same can be found for the $\\mathbf J_{22}$ term using similar identities in the numerator. The other components of the matrix contain terms like $\\sqrt{A^2} $ and if these are all reduced to $A$ then the matrix is the same as the Jacobian of the $dx^i/dy^j$. Sympy recognizes that in general, $\\sqrt{A^2}\\neq A$ but instead $|A|$ and so does not perform the simplification. It can be a challenge to produce the correct numbers from an expression or set of expressions that are not simplified completely, so it is a good idea to use wisdom and do things by hand."
   ]
  },
  {
   "cell_type": "markdown",
   "metadata": {},
   "source": [
    "### Covariant and contravariant components of the inverse Jacobian.\n",
    "\n",
    "The above computer print-outs are slightly misleading, the inverse of $J$ is the transpose of the inverse transformation equations. Therefore the matrix must be read in transposed form.\n",
    "   \n",
    "With the above proof, we can derive the inversive covariant and contravariant unitary vectors in the $y^i$ coordinates.\n",
    "   \n",
    "The idea is to set, $\\mathbf r =\\mathbf r(y^1, y^2, y^3)$ and then the contravariant unitary vectors \n",
    "\n",
    "$$ \\mathbf g_1=\\nabla y^1 =\\sin(y^2)\\cos(y^3)\\mathbf b_1 + \\sin(y^2)\\sin(y^3)\\mathbf b_2 + \\cos(y^2)\\mathbf b_3$$\n",
    "   \n",
    "and \n",
    "$$ \\mathbf g_2 = \\nabla y^2 =  \\frac{1}{y^1}\\cos(y^2)\\cos(y^3)\\mathbf b_1 + \\frac{1}{y^1}\\cos(y^2)\\sin(y^3)\\mathbf b_2 - \\frac{1}{y^1}\\sin(y^2)\\mathbf b_3$$\n",
    "\n",
    "and \n",
    "$$ \\mathbf g_3  = \\nabla y^3= -\\frac{1}{y^1 \\sin(y^2)}\\sin(y^3)\\mathbf b_1 + \\frac{1}{y^1 \\sin(y^2)}\\cos(y^3)\\mathbf b_2 $$\n",
    "\n",
    "\n",
    "   \n",
    "And the covariant unitary vectors are\n",
    "   \n",
    "$$\\mathbf {\\bar{g}}^1 =  \\frac{\\partial \\mathbf r}{\\partial x^1}   = \\sin(y^2)\\cos(y^3)\\mathbf {\\bar{b}}^1 + \\frac{1}{y^1}\\cos(y^2)\\cos(y^3)\\mathbf {\\bar{b}}^2 -\\frac{1}{y^1 \\sin(y^2)}\\sin(y^3)\\mathbf {\\bar{b}}^3 $$\n",
    "   \n",
    "and \n",
    "$$\\mathbf {\\bar{g}}^2 = \\frac{\\partial \\mathbf r}{\\partial x^2}= \\sin(y^2)\\sin(y^3)\\mathbf {\\bar{b}}^1 + \\frac{1}{y^1}\\cos(y^2)\\sin(y^3)\\mathbf {\\bar{b}}^2  + \\frac{1}{y^1 \\sin(y^2)}\\cos(y^3)\\mathbf {\\bar{b}}^3$$\n",
    "\n",
    "and \n",
    "$$\\mathbf {\\bar{g}}^3= \\frac{\\partial \\mathbf r}{\\partial x^3} = \\cos(y^2)\\mathbf {\\bar{b}}^1 - \\frac{1}{y^1}\\sin(y^2)\\mathbf {\\bar{b}}^2  $$\n",
    "\n",
    "Where the $\\mathbf b_i$ and the $\\mathbf {\\bar{b}}^i$ vectors are too be determined. So there are 4 sets of unitary vectors expressed in terms of unit vectors - that are related to the coordinate vectors of the respective coordinate systems.\n",
    "\n",
    "Hence, $\\mathbf g_1 = \\mathbf {\\bar{g}}_1$, and $\\mathbf g_2 = \\frac{1}{(y^1)^2} \\mathbf {\\bar {g}}_2$, and   $\\mathbf g_3 = \\frac{1}{(y^1 \\sin(y^2))^2} \\mathbf {\\bar{g}}_3$. The contravariant vectors multiplied by scale factors. \n",
    "Hence the $\\mathbf g^i$ vectors are multiplied by the triple of scale factors $(1,\\frac{1}{y^1},\\frac{1}{y^1\\sin(y^2)})$."
   ]
  },
  {
   "cell_type": "code",
   "execution_count": 91,
   "metadata": {},
   "outputs": [
    {
     "data": {
      "image/png": "[encoded data removed]",
      "text/latex": [
       "$$\\left \\{ i : \\frac{1}{y_{1}} \\left(e_{1} y_{1} \\sin{\\left (y_{2} \\right )} \\cos{\\left (y_{3} \\right )} + e_{2} \\sqrt{y_{1}^{2}} \\cos{\\left (y_{2} \\right )} \\cos{\\left (y_{3} \\right )} - \\frac{e_{3} \\sqrt{y_{1}^{2} \\sin^{2}{\\left (y_{2} \\right )}}}{\\sin{\\left (y_{2} \\right )}} \\sin{\\left (y_{3} \\right )}\\right), \\quad j : \\frac{1}{y_{1}} \\left(e_{1} y_{1} \\sin{\\left (y_{2} \\right )} \\sin{\\left (y_{3} \\right )} + e_{2} \\sqrt{y_{1}^{2}} \\sin{\\left (y_{3} \\right )} \\cos{\\left (y_{2} \\right )} + \\frac{e_{3} \\sqrt{y_{1}^{2} \\sin^{2}{\\left (y_{2} \\right )}}}{\\sin{\\left (y_{2} \\right )}} \\cos{\\left (y_{3} \\right )}\\right), \\quad k : e_{1} \\cos{\\left (y_{2} \\right )} - \\frac{e_{2} \\sqrt{y_{1}^{2}}}{y_{1}} \\sin{\\left (y_{2} \\right )}\\right \\}$$"
      ],
      "text/plain": [
       "⎧                                                               ______________\n",
       "⎪                                 _____                        ╱   2    2     \n",
       "⎪                                ╱   2                    e₃⋅╲╱  y₁ ⋅sin (y₂) \n",
       "⎨   e₁⋅y₁⋅sin(y₂)⋅cos(y₃) + e₂⋅╲╱  y₁  ⋅cos(y₂)⋅cos(y₃) - ────────────────────\n",
       "⎪                                                                   sin(y₂)   \n",
       "⎪i: ──────────────────────────────────────────────────────────────────────────\n",
       "⎩                                           y₁                                \n",
       "\n",
       "                                                                         _____\n",
       "                                           _____                        ╱   2 \n",
       "⋅sin(y₃)                                  ╱   2                    e₃⋅╲╱  y₁ ⋅\n",
       "────────     e₁⋅y₁⋅sin(y₂)⋅sin(y₃) + e₂⋅╲╱  y₁  ⋅sin(y₃)⋅cos(y₂) + ───────────\n",
       "                                                                             s\n",
       "────────, j: ─────────────────────────────────────────────────────────────────\n",
       "                                                     y₁                       \n",
       "\n",
       "_________                                             ⎫\n",
       "   2                                                  ⎪\n",
       "sin (y₂) ⋅cos(y₃)                        _____        ⎪\n",
       "─────────────────                       ╱   2         ⎬\n",
       "in(y₂)                             e₂⋅╲╱  y₁  ⋅sin(y₂)⎪\n",
       "─────────────────, k: e₁⋅cos(y₂) - ───────────────────⎪\n",
       "                                            y₁        ⎭"
      ]
     },
     "execution_count": 91,
     "metadata": {},
     "output_type": "execute_result"
    }
   ],
   "source": [
    "# simple procedure to extract the unit ijk in terms of the e_i vectors by solving the linear system\n",
    "e_1,e_2,e_3, i,j,k = symbols('e_1,e_2,e_3, i,j,k')\n",
    "\n",
    "expr1 = simplify((J_1[0,0]*i + J_1[1,0]*j + J_1[2,0]*k)/sqrt(J_1[0,0]*J_1[0,0] + J_1[1,0]*J_1[1,0] + J_1[2,0]*J_1[2,0]))\n",
    "expr2 = simplify((J_1[0,1]*i + J_1[1,1]*j + J_1[2,1]*k)/sqrt(J_1[0,1]*J_1[0,1] + J_1[1,1]*J_1[1,1] + J_1[2,1]*J_1[2,1]))\n",
    "expr3 = simplify((J_1[0,2]*i + J_1[1,2]*j + J_1[2,2]*k)/sqrt(J_1[0,2]*J_1[0,2] + J_1[1,2]*J_1[1,2] + J_1[2,2]*J_1[2,2]))\n",
    "ijk = simplify(solve([Eq(expr1, e_1), \n",
    "       Eq(expr2, e_2),\n",
    "       Eq(expr3, e_3)], [i,j,k]))\n",
    "ijk"
   ]
  },
  {
   "cell_type": "code",
   "execution_count": null,
   "metadata": {
    "collapsed": true
   },
   "outputs": [],
   "source": []
  }
 ],
 "metadata": {
  "kernelspec": {
   "display_name": "Python 2",
   "language": "python",
   "name": "python2"
  },
  "language_info": {
   "codemirror_mode": {
    "name": "ipython",
    "version": 2
   },
   "file_extension": ".py",
   "mimetype": "text/x-python",
   "name": "python",
   "nbconvert_exporter": "python",
   "pygments_lexer": "ipython2",
   "version": "2.7.13"
  }
 },
 "nbformat": 4,
 "nbformat_minor": 1
}
