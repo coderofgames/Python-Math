{
 "cells": [
  {
   "cell_type": "markdown",
   "metadata": {},
   "source": [
    "#  Tensors "
   ]
  },
  {
   "cell_type": "markdown",
   "metadata": {},
   "source": [
    "#### Definition\n",
    "---\n",
    "\n",
    "> a point in N-dimensional space is represented by $\\mathbf x = (x^1,x^2,\\cdots,x^n)$\n",
    "> the coordnate system is represented by some basis $(\\mathbf e_1, \\mathbf e_2, \\cdots, \\mathbf e_n)$\n",
    "> the point may be represented in more than one basis (see curvilinear coordinates). \n",
    "\n",
    "Note: a superscript is used for the point vector instead of a subscript. If a component is raised to a power, then it is placed in round brackets $(x^i)^2$ is the $i^{th}$ component of $x$ raised to the power of 2.\n",
    "\n",
    "\n",
    "---\n",
    "\n",
    "#### Coordinate Transformations\n",
    "   \n",
    "if $ x^1, x^2 \\cdots,x^n$ and $ \\bar{x}^1, \\bar{x}^2,\\cdots, \\bar{x}^n$ are representations of a point in two coordinate systems or frames of reference, and \n",
    "   \n",
    "$$\\bar{x}^1 =\\bar{x}^1( x^1, x^2 \\cdots,x^n)$$ and\n",
    "$$\\bar{x}^2 =\\bar{x}^2( x^1, x^2 \\cdots,x^n)$$ etc\n",
    "$$\\cdots$$ and\n",
    "$$\\bar{x}^n =\\bar{x}^n( x^1, x^2 \\cdots,x^n)$$\n",
    "\n",
    "defines the representation of the *barred coordinates* as a function of the *unbarred coordinates*, and to define the converse\n",
    "\n",
    "$$x^k = x^k(\\bar{x}^1, \\bar{x}^2,\\cdots, \\bar{x}^n ) \\qquad k=1,\\cdots,n $$\n",
    "\n",
    "Then these relations define a coordinate transformation."
   ]
  },
  {
   "cell_type": "markdown",
   "metadata": {},
   "source": [
    "## Einstein Summation Convention"
   ]
  },
  {
   "cell_type": "markdown",
   "metadata": {},
   "source": [
    "---\n",
    "##### Sums\n",
    "\n",
    "expressions of the form \n",
    "\n",
    "$$\\large\\sum_{i=1}^n x_i = x_1 + x_2 +\\cdots x_n $$\n",
    "\n",
    "are written simply as \n",
    "\n",
    "$$x_i,\\quad i=1,n$$\n",
    "\n",
    "For an expression of the form \n",
    "\n",
    "$$ y_i = a_{ij}x_j $$\n",
    "\n",
    "with $j = 1,2,\\cdots,n$, has two indices. The variable $j$ is called a dummy index, and $i$ is called the free index.\n",
    "\n",
    "$$ y_i = a_{i1}x_1 + a_{i2}x_2 + \\cdots +a_{in}x_n$$\n",
    "\n",
    "Now iterating over the free index to $m$ gives \n",
    "\n",
    "$$ y_1 = a_{11}x_1 + a_{12}x_2 + \\cdots +a_{1n}x_n$$\n",
    "$$ y_2 = a_{21}x_1 + a_{22}x_2 + \\cdots +a_{2n}x_n$$\n",
    "$$ \\cdots $$\n",
    "$$ y_m = a_{m1}x_1 + a_{m2}x_2 + \\cdots +a_{mn}x_n$$\n",
    "\n",
    "This does yeild a matrix definition of the form $ \\mathbf y_{m1} = \\mathbf a_{mn} \\mathbf x_{n1} $ \n",
    "\n",
    "> #### The Summation Convention\n",
    "> Any expression with a twice repeated index (either subscripts (and) or superscripts) represents its sum over the \n",
    "> values $1,2,\\cdots,n$ of the repeated index. The character $n$ may represent the range of summations unless stated \n",
    "> otherwise.\n",
    "   \n",
    "> 1) Any free index shall have the same range as summation indexes unless stated otherwise (in the equation above, n=m by default).\n",
    "   \n",
    "> 2) No index may occur more than twice in an expression."
   ]
  },
  {
   "cell_type": "markdown",
   "metadata": {},
   "source": [
    "#### Multiple summation indexes\n",
    "\n",
    "An expression with multiple summation indexes represents the result of the sum over each index, so \n",
    "\n",
    "$$\\large a_{\\color{red}{i}\\color{blue}{j}}x_{\\color{red}{i}}y_{\\color{blue}{j}}$$ \n",
    "\n",
    "results in summing over ${\\color{red}{i}}$ from ${\\color{red}{(1,\\cdots, n)}}$ and ${\\color{blue}{j}}$ from ${\\color{blue}{(1,\\cdots, m)}}$, i.e.first summing over $i$ \n",
    "\n",
    "$$a_{\\color{red}{1}\\color{blue}{j}} x_{\\color{red}{1}} y_{\\color{blue}{j}} + \\cdots + a_{\\color{red}{n}\\color{blue}{j}} x_{\\color{red}{n}} y_{\\color{blue}{j}} $$\n",
    "Then summing over $j$\n",
    "$$ (a_{11} x_1 y_1 + \\cdots + a_{n1} x_n y_1  ) + (a_{12} x_1 y_2 + \\cdots + a_{n2} x_n y_2) + \\cdots + (a_{1m} x_1 y_m + \\cdots + a_{nm} x_n y_m)  $$\n",
    "   \n",
    "dropping the red and blue to save time in the expansion.\n",
    "   \n",
    "> The expressions *are the same* if the order of summation is reversed"
   ]
  },
  {
   "cell_type": "markdown",
   "metadata": {},
   "source": [
    "### Substitutions\n",
    "---\n",
    "If an expression $y_i = a_{ij}x_j$ is substituted into $B = C_{ij}y_ix_j$ then the dummy index $j$ in the first expression is replaced $y_i = a_{ip}x_p$ to avoid having indices repeated more than twice (see remark 2 above), so then $B=C_{ij}a_{ip} x_p x_j$\n"
   ]
  },
  {
   "cell_type": "markdown",
   "metadata": {},
   "source": [
    "#### Matrix Notation "
   ]
  },
  {
   "cell_type": "markdown",
   "metadata": {},
   "source": [
    "We know from matrix algebra that the expression $B=C_{ij}a_{ip} x_p x_j$ does not multiply if converted directly to matrix form, so to put this in matrix form, $$ \\mathbf B_i = (\\mathbf C_{ij} \\mathbf x_j)^{\\mathbf T}( \\mathbf a_{ip} \\mathbf x_p )$$\n",
    "   \n",
    "Matrix notation is different to tensor notation and does not offer an exact replacement because matrix notation requires that a vector is defined as column and transposed to form a row, and that to mulitply two objects (matrix and vector) is an order dependant operation, such that for two non square matrices $\\mathbf A_{mn}$ and $\\mathbf B_{nr}$ the product $\\mathbf C_{mr}= \\mathbf A \\mathbf B $ is possible because $B$ has the same number of rows as $A$ has columns, but $ \\mathbf B \\mathbf A $ is not possible. This is not the case with the summation notation in tensor analysis.\n",
    "\n",
    ">  When Tensor notation is used to denote matrices, the superscript represents the row, and the subscript represents the column"
   ]
  },
  {
   "cell_type": "markdown",
   "metadata": {},
   "source": [
    "### Kronecker Delta \n",
    "---\n",
    "$$ \\delta^{ij} = \\delta_{ij} = \\delta_j^i = 1 $$ if $i=j$ and zero otherwise\n",
    "\n",
    "\n",
    "   \n",
    "Therefore $\\delta_{11} = 1$, and $\\delta_{12} = 0$, etc\n",
    "   \n",
    "This symbol can be seen to be the tensor notation equivalent to the Identity matrix in matrix algebra."
   ]
  },
  {
   "cell_type": "markdown",
   "metadata": {},
   "source": [
    "### Permutation Symbol\n",
    "---\n",
    "The symbol $e_{ijk...n}$ and $e^{ijk...n}$ with n subscripts or superscripts is called the permutation symbol, and is zero if two indices are identical and equals $(-1)^b$ where $b$ is the number interchanges of consecutive subscripts required to bring $ijk...n$ to the order $123...n$. More simply, in the case of $e_{ijk} = e^{ijk}$ \n",
    " \n",
    " \n",
    "$e_{ijk} =0\\qquad $ if two indices are the same\n",
    "  \n",
    "$e_{ijk} =1\\qquad $ if $i,j,k$ is an even permutation\n",
    "   \n",
    "$e_{ijk} =-1\\qquad $ if $i,j,k$ is an odd permutation\n",
    "\n",
    " \n",
    "\n",
    "   \n",
    "\n",
    "   \n",
    "   \n"
   ]
  },
  {
   "cell_type": "markdown",
   "metadata": {},
   "source": [
    "### Differentials\n",
    "   \n",
    "for a vector, $\\mathbf r= \\mathbf r(u^1,u^2,\\cdots,u^n)$ where the $u^i$ are coordinates of some arbitrary system\n",
    "\n",
    "$$ d\\mathbf r = \\frac{d\\mathbf r}{du^1}du^1+\\frac{d\\mathbf r}{du^2}du^2+\\cdots+\\frac{d\\mathbf r}{du^n}du^n$$\n",
    "\n",
    "is the differential of $\\mathbf r$ with respect to the $u^i$ basis. This is an important form. In index notation ...\n",
    "   \n",
    "$$ d r^i = \\frac{d r^i}{du^k} du^k $$"
   ]
  },
  {
   "cell_type": "markdown",
   "metadata": {},
   "source": [
    "#### Chain Rule\n",
    "\n",
    "For a function (in this case, a scalar valued function of a vector variable) $w = f(u^k)$ for $k=1,\\cdots n$ and $u^k = u^k(x^j)$ for $j=1,\\cdots m$ Then the rate of change of $w$ with resect to the $x^j$ is expressed as\n",
    "   \n",
    "$$ \\frac{ \\partial w }{\\partial x^j} = \\frac{ \\partial w }{\\partial u^k}\\frac{ \\partial u^k }{\\partial x^j} $$ \n",
    "   \n",
    "In this case $k$ in the term $\\frac{ \\partial w }{\\partial u^k}$ is seen as a <b>subscript </b> and the $k$ in the term\n",
    "$\\frac{ \\partial u^k }{\\partial x^j}$ is seen as a <b>superscript</b> with subscript $j$ \n"
   ]
  },
  {
   "cell_type": "markdown",
   "metadata": {},
   "source": [
    "### Dot and Cross Product\n",
    "\n",
    "The dot product can be defined as \n",
    "\n",
    "$$ \\mathbf x\\cdot  \\mathbf y = x^i y^i = \\mathbf x \\mathbf y$$\n",
    "\n",
    "Using the permutation symbol to define the basis vectors .. $e_{ijk}$ then $ e_{132} = (-1)^1 = -1$ and $e_{ijk}$ then $ e_{123} = (-1)^0 = 1$ then for each $e_{ijk}$ there is a unique \n",
    "   \n",
    "$$(\\mathbf u \\times \\mathbf v)_i = (e_{ijk}u_j v_k) $$"
   ]
  },
  {
   "cell_type": "markdown",
   "metadata": {},
   "source": [
    "## Back to Coordinates\n",
    "---\n",
    "Using the summation convention, a *coordinate transformation* may be represented as \n",
    "   \n",
    "$$\\bar{x}^i = \\bar{x}^i( x^j )$$ \n",
    "   \n",
    "and\n",
    "   \n",
    "$$x^j = x^j ( \\bar{x}^i  )$$ \n",
    "   \n"
   ]
  },
  {
   "cell_type": "markdown",
   "metadata": {},
   "source": [
    "### Contravariant Tensor\n",
    "   \n",
    "---\n",
    "If $\\mathbf T = (T^i) $ is a vector field (vector function of a vector variable) in the *unbarred* system such that $T^i = T^i(\\mathbf x) = T^i(x^j)$  and it can also be represented in the *barred* system via a coordinate transformation, then  $\\mathbf T$ is a <b>contravariant tensor of rank 1 </b> if the components \n",
    "   \n",
    "$ (T^{ \\color{red}{1}}, T^{ \\color{red}{2}}, \\cdots, T^{ \\color{red}{n}}) $ in the unbarred system\n",
    "   \n",
    "$ (\\bar{T}^{ \\color{blue}{1}},\\bar{T}^{ \\color{blue}{2}},\\cdots, \\bar{T}^{ \\color{blue}{n}}) $ in the barred system\n",
    "   \n",
    "are related by a transformation \n",
    "\n",
    "$$\\large\\bar{T}^{ \\color{blue}{i}} = \\frac{ \\partial \\bar{x}^{ \\color{blue}{i}} }{ \\partial x^{ \\color{red}{j}}} T^{ \\color{red}{j}} $$ \n",
    "   \n",
    "> A contravariant vector has components that change if the coordinates change, but the vector itself does not change. Under an operation like scaling or rotation, the components of a contravariant vector will make a change that cancels the operation. Examples include velocity of a fluid, displacement, acceleration.\n",
    "   \n",
    "> For example, $$\\frac{\\partial y^i}{\\partial t} =\\frac{\\partial y^i}{\\partial x^r}\\frac{\\partial x^r}{\\partial t}$$  \n",
    "> the term $\\frac{\\partial y^i}{\\partial x^r}$ defines the contravariant nature of this term. \n",
    "   \n",
    "> Note: this takes the form of the differential defined above, divided by the $\\partial t$, or the change in the  differential of the $y$ coordinates with respect to the $x$ coordinates through time. \n",
    "   \n",
    "with full-on red and blue notation \n",
    "   \n",
    "$$\\large\\color{blue}{\\bar{T}^{ i}} = \\frac{ \\partial \\color{blue}{\\bar{x}^{ i}} }{ \\partial \\color{red}{x^{ j}}} \\color{red}{T^{ j} }$$ \n",
    "   \n",
    "without the red and blue notation\n",
    "\n",
    "$$\\large\\bar{T}^{ i} = \\frac{ \\partial \\bar{x}^{ i} }{ \\partial x^{ j}} T^{ j} $$ \n",
    "   \n",
    "#### So in a *contravariant* tensor the *barred system* that we are converting to appears upstairs in the transform."
   ]
  },
  {
   "cell_type": "markdown",
   "metadata": {},
   "source": [
    "### Covariant Tensor\n",
    "---\n",
    "The vector field $\\mathbf T$ is a covariant tensor is the components in the barred and unbarred coordinate systems obey the following transformation law \n",
    "   \n",
    "$$\\large\\bar{T}_{ \\color{blue}{i}} = \\frac{  \\partial x^{ \\color{red}{j}}  }{\\partial \\bar{x}^{ \\color{blue}{i}} } T_{ \\color{red}{j}} $$ \n",
    "   \n",
    "> A covariant vector has components that change like the coordinates change, The gradient of a scalar function (i.e. the potential) is a covariant tensor, (i.e. $\\mathbf F$ ) , also called a covariant vector.\n",
    "   \n",
    "> For example: $$\\nabla \\mathbf F = \\frac{\\partial F}{\\partial y^i}= \\frac{\\partial F}{\\partial x^p} \\frac{\\partial x^p}{\\partial y^i}$$ the term   $ \\frac{\\partial x^p}{\\partial y^i}$ defines the covariant nature of this. I could equally have use the $y$'s as the unbarred coordinates in both cases, resulting in the opposite appearance. \n",
    "   \n",
    "> Note: this takes the form of the chain rule defined above for a scalar valued function of a vector variable.\n",
    "\n",
    "   \n",
    "with the full-on red and blue notation\n",
    "   \n",
    "$$\\large\\color{blue}{\\bar{T}_{ i }} = \\frac{  \\partial \\color{red}{x^{ j }}  }{\\partial \\color{blue}{\\bar{x}^{ i } }} \\color{red}{T_{ j}} $$ \n",
    "   \n",
    "without the red and blue notation\n",
    "\n",
    "$$\\large\\bar{T}_{ i } = \\frac{  \\partial x^{ j }  }{\\partial \\bar{x}^{ i } } T_{ j} $$ \n",
    "   \n",
    "#### So in a *covariant* tensor the coordinate system we are converting to appears *downstairs* in the transform "
   ]
  },
  {
   "cell_type": "markdown",
   "metadata": {},
   "source": [
    "#### Note on the Jacobian Matrix\n",
    "> The contravariant tensor transforms with the Jacobian matrix of the system $\\bar{x}^k =\\bar{x}^k (x^j) $ \n",
    "\n",
    ">   \n",
    "> $$ \\bar {T}^i = [\\mathbf J]_j^i T^j $$ \n",
    ">    \n",
    "> where $$[\\mathbf J]_j^i = \\frac{\\partial \\bar{x}^i}{\\partial x^j} $$ \n",
    ">\n",
    "> so, we use the sum over the $j^{\\text{th}}$ column of $[\\mathbf J]$ multiplied by the $j^{\\text{th}}$ component of $T^j$ ... ie\n",
    "   \n",
    "> $\\bar {T}^1 = [\\mathbf J]_j^1 T^j =  \\frac{\\partial \\bar{x}^1}{\\partial x^1}T^1 +\\frac{\\partial \\bar{x}^1}{\\partial x^2}T^2 + \\frac{\\partial \\bar{x}^1}{\\partial x^3}T^3 $"
   ]
  },
  {
   "cell_type": "markdown",
   "metadata": {},
   "source": [
    "\n",
    "> The covariant tensor transforms with the Jacobian matrix of the system $x^j =x^j(\\bar{x}^k ) $ or the reciprocal of the\n",
    "> jacobian matrix of the system $\\bar{x}^k =\\bar{x}^k (x^j) $ \n",
    ">   \n",
    "> $$ \\bar {T}_i = [\\bar{\\mathbf J}] T_j  $$ \n",
    ">    \n",
    "> $\\bar {T}_1 =  \\frac{\\partial x^1}{\\partial \\bar{x}^1}T^1 +\\frac{\\partial x^2}{\\partial \\bar{x}^1}T^2 + \\frac{\\partial x^3}{\\partial \\bar{x}^1}T^3 $\n",
    "\n",
    "Note: Compute the inverse of the Jacobian matrix and compare to the reciprocal jacobian matix. "
   ]
  },
  {
   "cell_type": "code",
   "execution_count": null,
   "metadata": {
    "collapsed": true
   },
   "outputs": [],
   "source": []
  },
  {
   "cell_type": "markdown",
   "metadata": {},
   "source": [
    "#### Invariants\n",
    "Any quantity that does not change with a change of basis is called an invariant. For example, a scalar function of a vector variable, a potential $\\phi(x^i)$ is transformed to the barred coordinate system and still has the same value, therefore $\\phi$ is said to be <b>invariant</b> or a <b>tensor of rank zero</b>. "
   ]
  },
  {
   "cell_type": "markdown",
   "metadata": {},
   "source": [
    "### Second Order Tensors\n",
    "---\n",
    "If there are $n^2$ quantities defining a matrix field, or matrix of scalar fields $\\mathbf T = T^{ij}(\\mathbf x) $ with components in both the barred and unbarred coordinate systems\n",
    "    \n",
    "#### Contravariant\n",
    "      \n",
    "$$\\large\\bar{T}^{ i r} = \\frac{ \\partial \\bar{x}^{ i} }{ \\partial \\smash{x^{ j}}} \\frac{ \\partial \\bar{x}^{ r} }{ \\partial x^{ s}} T^{ j s} $$ \n",
    "\n",
    "#### Covariant\n",
    "   \n",
    "$$\\large\\bar{T}_{ i r } = \\frac{  \\partial x^{ j }  }{\\partial \\smash{\\bar{x}^{ i } }} \\frac{  \\partial x^{ s }  }{\\partial \\bar{x}^{ r } }T_{ j s} $$ \n",
    "\n",
    "#### Mixed\n",
    "   \n",
    "$$\\large\\bar{T}^i_r = \\frac{ \\partial \\bar{x}^{ i} }{ \\partial \\smash{x^{ j}}} \\frac{  \\partial x^{ s }  }{\\partial \\bar{x}^{ r } }T^j_s $$ \n"
   ]
  },
  {
   "cell_type": "markdown",
   "metadata": {
    "collapsed": true
   },
   "source": [
    "> An intutive way to think about this is that a zero order tensor is a scalar, a first order tensor is a vector, and a  second order tensor is a matrix ... for example the mixed tensor written above ( in 3 dimensions ) would appear as the following\n",
    "\n",
    "$$ \\bar{T}^i_r =\\left( \\begin{matrix} \\bar{T}^1_1 &\\bar{T}^1_2 & \\bar{T}^1_3 \\\\ \\bar{T}^2_1&\\bar{T}^2_2&\\bar{T}^2_3 \\\\ \\bar{T}^3_1&\\bar{T}^3_2&\\bar{T}^3_3  \\end{matrix}\\right) $$\n",
    "   \n",
    "and\n",
    "   \n",
    "$$\\frac{ \\partial \\bar{x}^{ i} }{ \\partial \\smash{x^{ j}}}= \\left(\\begin{matrix} \\frac{\\partial \\bar{x}^1}{\\partial x^1} &\\frac{\\partial \\bar{x}^1}{\\partial x^2} & \\frac{\\partial \\bar{x}^1}{\\partial x^3} \\\\\\ \\frac{\\partial \\bar{x}^2}{\\partial x^1} & \\frac{\\partial \\bar{x}^2}{\\partial x^2} & \\frac{\\partial \\bar{x}^2}{\\partial x^3} \\\\\\ \\frac{\\partial \\bar{x}^3}{\\partial x^1} & \\frac{\\partial \\bar{x}^3}{\\partial x^2} &\\frac{\\partial \\bar{x}^3}{\\partial x^3}  \\end{matrix}\\right)$$\n",
    "   \n",
    "and\n",
    "   \n",
    "$$\\frac{  \\partial x^{ s }  }{\\partial \\bar{x}^{ r } }=\\left( \\begin{matrix} \\frac{\\partial x^1}{\\partial \\bar{x}^1} &\\frac{\\partial x^1}{\\partial \\bar{x}^2} & \\frac{\\partial x^1}{\\partial \\bar{x}^3} \\\\\\ \\frac{\\partial x^2}{\\partial \\bar{x}^1} & \\frac{\\partial x^2}{\\partial \\bar{x}^2} & \\frac{\\partial x^2}{\\partial \\bar{x}^3} \\\\\\ \\frac{\\partial x^3}{\\partial \\bar{x}^1} & \\frac{\\partial x^3}{\\partial \\bar{x}^2} &\\frac{\\partial x^3}{\\partial \\bar{x}^3}  \\end{matrix}\\right) $$\n",
    "\n",
    "and $$\n",
    "T^j_s =\\left( \\begin{matrix} T^1_1 &T^1_2 & T^1_3 \\\\\\ T^2_1&T^2_2&T^2_3 \\\\\\ T^3_1&T^3_2&T^3_3  \\end{matrix}\\right) $$\n",
    "   \n",
    "and so clearly expanding up the full equation is a tedious and laborious process.\n",
    "   \n"
   ]
  },
  {
   "cell_type": "markdown",
   "metadata": {},
   "source": [
    "### Higher Order Tensors\n",
    "   \n",
    "For a generalized vector field $\\mathbf T = T^{i_1,\\cdots i_p}_{r_1,\\cdots r_q}$ consisting of $(p+q)$ scalar fields, and is of rank $p+q$, contravariant off order p and covariant of order q defined in both coordinate systems, then if the components of the matrix field transform \n",
    "   \n",
    "   $$ \\large\\bar{T}^{i_1,\\cdots i_p}_{r_1,\\cdots r_q} =  T^{j_1,\\cdots j_p}_{s_1,\\cdots s_q} \\frac{ \\partial \\bar{x}^{ i_1} }{ \\partial \\smash{x^{ j_1}} }\\frac{ \\partial \\bar{x}^{ i_2} }{ \\partial \\smash{x^{ j_2}}} ... \\frac{ \\partial \\bar{x}^{ i_p} }{ \\partial \\smash{x^{ j_p}}} \\frac{ \\partial x^{ s_1} }{ \\partial \\bar{x}^{ r_1}} ... \\frac{ \\partial x^{ s_q} }{ \\partial \\bar{x}^{ r_q}} $$\n",
    "   \n",
    "  This is a generalized mixed tensor of rank $p+q$"
   ]
  },
  {
   "cell_type": "code",
   "execution_count": null,
   "metadata": {
    "collapsed": true
   },
   "outputs": [],
   "source": []
  },
  {
   "cell_type": "code",
   "execution_count": null,
   "metadata": {
    "collapsed": true
   },
   "outputs": [],
   "source": []
  },
  {
   "cell_type": "markdown",
   "metadata": {},
   "source": [
    "#### Tensor Addition\n",
    "\n",
    "The sum of two tensors of the same rank and type also produce a tensor of the same rank and type . e.g  \n",
    "   \n",
    "   $$\\large T^{pq}_{r} = A^{pq}_{r} + B^{pq}_{r}$$. \n",
    "   \n",
    "This operation is associative and commutative. The same is true for subtraction."
   ]
  },
  {
   "cell_type": "markdown",
   "metadata": {},
   "source": [
    "#### Outer Product\n",
    "   \n",
    "The outer product of two tensors is a tensor\n",
    "      \n",
    "$$\\large U^{i_1\\cdots i_ak_1\\cdots k_c}_{j_1\\cdots j_bl_d\\cdots l_d}= \\left(S^{i_1\\cdots i_a}_{j_1\\cdots j_b}\\cdot T^{k_1\\cdots k_c}_{l_d\\cdots l_d} \\right)$$\n",
    "   \n",
    "of order $a + b + c + d$, and is covariant of order $b+d$ and contravariant of order $a+c$. The outer product is commutative."
   ]
  },
  {
   "cell_type": "markdown",
   "metadata": {},
   "source": [
    "#### Contraction\n",
    "   \n",
    "A contraction is defined by setting two indices equal for example setting some chosen index in the range $(i_1\\cdots i_a)$ equal to some index in the range $r_1\\cdots r_b)$, then the contraction of \n",
    "   \n",
    "$$\\large T^{i_1\\cdots i_a}_{r_1\\cdots r_b}$$ \n",
    "   \n",
    "is a tensor of rank $(a+b-2)$, covariant of order $b-1$ and contravariant of order $a-1$.\n",
    "\n",
    "This operation uses the fact that $\\frac{\\partial x^p}{\\partial x^q} = \\delta^p_q$ as in calculus, $\\frac{dx}{dx} = 1$, but the change in the x axis with respect to the z axis is zero, since they are orthogonal.\n",
    "\n",
    "> A contraction can result in a loss of information.\n",
    "\n"
   ]
  },
  {
   "cell_type": "markdown",
   "metadata": {
    "collapsed": true
   },
   "source": [
    "The contraction of a second order tensor $T^i_j$ would be $T^i_i=T^1_1+T^2_2+T^3_3$ and is the trace of the tensor in matrix form."
   ]
  },
  {
   "cell_type": "markdown",
   "metadata": {},
   "source": [
    "#### Inner Product\n",
    "    \n",
    "This operation is equivalent to an outer product followed by a contraction.\n",
    "   \n",
    "If $T^i$ is a contravariant Tensor of rank 1 and $S_{ji}$ is covariant of rank 2 then since $T^i = \\bar{ T^j } \\frac{\\partial x^i}{\\partial \\bar{x}^j}$ and $S_{ji}= \\bar{S}_{pq}\\frac{\\partial \\bar{x}^p}{\\partial x^j}\\frac{\\partial \\bar{x}^q}{\\partial x^i} $ \n",
    "\n",
    "$$ (TS)_j = (T^i)(S_{ji}) = \\left(\\bar{ T^r } \\frac{\\partial x^i}{\\partial \\bar{x}^r}\\right) \\left(\\bar{S}_{pq}\\frac{\\partial \\bar{x}^p}{\\partial x^j}\\frac{\\partial \\bar{x}^q}{\\partial x^i} \\right) = \\color{red}{\\frac{\\partial x^i}{\\partial \\bar{x}^r}}\\color{blue}{ \\frac{\\partial \\bar{x}^q}{\\partial x^i} }\\color{black}{\\frac{\\partial \\bar{x}^p}{\\partial x^j} \\bar{T}^r \\bar{S}_{pq}} = \\delta_{\\color{red}{r}}^{\\color{blue}{q}}\\color{black}{\\frac{\\partial \\bar{x}^p}{\\partial x^j}} \\color{black}{\\bar{T}}^{\\color{red}{r}} \\color{black}{S}_{p\\color{blue}{q}} = \\color{black}{\\frac{\\partial \\bar{x}^p}{\\partial x^j} (\\bar{T S})_{p} }$$\n",
    "   \n",
    "and the result is a covariant vector. The result of multipliying the product $\\frac{\\partial x^i}{\\partial \\bar{x}^r}\\frac{\\partial \\bar{x}^q}{\\partial x^i} = \\delta^q_r$ since the $x^i$'s cancel and the remaining differential quotient \n",
    "$\\frac{\\partial \\bar{x}^q}{\\partial \\bar{x}^r} = \\delta^q_r$ since this is equivalent to the change in x with respect to y when x is not a function of y when $r\\neq q$ and so those terms are zero, and when $r=q$ the terms are 1. The $\\delta_r^q$ term remaining then multiplies with the $\\bar{T}^r \\bar{S}_{pq}$ terms, effectively leaving the sum over p, since the other terms are zero. This second part is equivalent to a contraction."
   ]
  },
  {
   "cell_type": "markdown",
   "metadata": {},
   "source": [
    "### Review of Background \n",
    "\n",
    "For two related systems, \n",
    "   \n",
    "$$\\mathbf x = \\mathbf x(u^1, u^2, u^3)$$\n",
    "\n",
    "and\n",
    "$$\\mathbf u =\\mathbf u(x^1, x^2, x^3) $$ etc\n",
    "\n",
    "Then a point P represented in the cartesian frame, also has a representation in the curvilinear frame $(u^1, u^2, u^3)$.\n",
    "For orthogonal curvilinear coordinates, there are two reciprocal sets of vectors to consider - the tangents to the curves defined by the $u^i$ coordinates and the normals to the surfaces defined by pairs of $u^i$ coordinates, or when a $u^k = \\text{const}$. Let $\\mathbf r = x^1\\mathbf i + x^2\\mathbf j + x^3\\mathbf k$ be a position vector representing the set of all points P in the cartesian system, then the unit tangent vectors are\n",
    "   \n",
    "   \n",
    "$$   \\mathbf e^i= \\frac{\\frac{\\partial \\mathbf r}{\\partial u_i}}{\\left|\\frac{\\partial \\mathbf r}{\\partial u_i} \\right|}=\\frac{1}{h_i}\\frac{\\partial \\mathbf r}{\\partial u_i}   $$\n",
    "\n",
    "where the $h_i=\\left|\\frac{\\partial r}{\\partial u^i}\\right|$ are the scale factors or Lame coefficients and the $\\mathbf e^i$ are in the directions of the tangents of $u^i$ curves. \n",
    "   \n",
    "The reciprocal set of vectors is \n",
    "   \n",
    "$$ \\hat{\\mathbf e}^p = \\frac{\\nabla u^p}{\\left|\\nabla u^p\\right|}$$ \n",
    "   \n",
    "Where $\\nabla u^1 = \\frac{\\partial u^1}{\\partial x^1}\\mathbf i +\\frac{\\partial u^1}{\\partial x^2}\\mathbf j +\\frac{\\partial u^1}{\\partial x^3}\\mathbf k$. These vectors are the normals to the surface such that $\\nabla u^p$ is normal to $u^p = \\text{const}$. \n",
    "\n",
    "The terms $\\frac{\\partial \\mathbf r}{\\partial u_i}$ and $\\nabla u^p$ are called unitary base vectors , but are not unit vectors. If a vector $\\mathbf v$ is represented in these two systems...\n",
    "   \n",
    "$$ \\mathbf v = a^i \\frac{\\partial \\mathbf r}{\\partial u^i} $$\n",
    "and\n",
    "$$ \\mathbf v = b^p \\nabla u^p $$\n",
    "\n",
    "Then the $a^i$ are the <b>contravariant</b> components of $\\mathbf v$ and the $b^p$ are the <b>covariant</b> components - they are only coincident / identical if the curvilinear system is orthogonal. This case will be most systems, however these definitions are useful for the concept of the metric.\n",
    "\n",
    "Arc length : $(ds)^2 = (h_1)^2 (du^1)^2+(h_2)^2 (du^2)^2+(h_3)^2 (du^3)^2 = (h_p)^2 (du^p)^2$\n",
    "   \n",
    "   more formally  $(ds)(ds) = (h_1 du^1)(h_1 du^1) + (h_2 du^2)(h_2 du^2)+ (h_3 du^3)(h_3 du^3) = (h_p du^p)(h_q du^q)\\delta^{pq} $\n",
    "   because we should not write powers as with raised indices and we should not repeat indices.\n",
    "   \n",
    "Volume: $dV = h_1\\ h_2\\ h_3\\ du^1 du^2 du^3 = |\\mathbf e^1 \\cdot\\mathbf e^2 \\times \\mathbf e^3|$ (scalar triple product).\n"
   ]
  },
  {
   "cell_type": "markdown",
   "metadata": {},
   "source": [
    "### Metric Tensor\n",
    "\n",
    "The metric Tensor is defined as $\\mathbf g =  g_{ij}$ and has the following properties...\n",
    "   \n",
    "1) $\\mathbf g$ is positive definite (and also the inverse $\\mathbf g^{-1}$\n",
    "   \n",
    "2) non-singular $|g_{ij}|\\neq 0$\n",
    "   \n",
    "3) symmetric\n",
    "   \n",
    "4) has 2nd order partial derivatives (class $C^2$\n",
    "   \n",
    "5) Is invariant with change of coordinates (see arc length below).\n",
    "   \n",
    "The concept of distance in Euclidean space, for any generalized cartesian, orthogonal curvilinear, affine coordinates is:\n",
    "   \n",
    "$$ (ds)^2 = g_{ij} (dx^i)(dx^j) $$\n",
    "\n",
    "where for Euclidean systems $g_{ij}=0$ if $i\\neq j $\n",
    "\n",
    "For a coordinate system in the Euclidean metric, \n",
    "\n",
    "$$ \\mathbf G = \\mathbf J^T \\mathbf J $$\n",
    "   \n",
    "and for example, the orthogonal curvlinear coordinate systems (spherical, cylindrical, dual paraboloidal, elliptic) \n",
    "all have scale factors (Lame Coefficients) and are coordinate systems of the Euclidean metric, these scale factors appear as the square roots of the diagonal elements of the metric.\n",
    "\n",
    "#### definition: The metric tensor is a covariant tensor of 2nd order."
   ]
  },
  {
   "cell_type": "markdown",
   "metadata": {},
   "source": [
    "### Example.\n",
    "   \n",
    "For spherical coordinates, the transformation to cartesian is\n",
    "   \n",
    "$$ x = r\\ \\cos\\phi\\ \\sin\\theta,\\quad y = r\\ \\sin\\phi\\ \\sin\\theta,\\quad z = r\\ \\cos\\theta $$ \n",
    "   \n",
    "where $\\theta$ is the angle from the top to the bottom of the sphere between 0 and $\\pi$, and $\\phi$ is the angle in the $xy$ plane with angle $0-360^o$ or $0 \\leq \\phi\\leq 2\\pi$. the inverse transform\n",
    "   \n",
    "$$ r = \\sqrt{ x^2 + y^2 + z^2}, \\quad \\theta = \\arccos \\frac{z}{r},\\quad \\phi = \\arctan \\frac{y}{x}$$\n",
    "   \n",
    "so we set that $(x,y,z) = (x^1,x^2,x^3)$ and $(r,\\theta,\\phi) = (\\bar{x}^1,\\bar{x}^2,\\bar{x}^3)$, (note that $\\theta$ is the second vector for this system to be right handed) then...\n",
    "   \n",
    "$$ x^1 = \\bar{x}^1\\ \\cos\\bar{x}^3\\ \\sin\\bar{x}^2,\\quad x^2 = \\bar{x}^1\\ \\sin\\bar{x}^3\\ \\sin\\bar{x}^2,\\quad x^3 = \\bar{x}^1\\ \\cos\\bar{x}^2 $$ \n",
    "and\n",
    "   \n",
    "$$ \\bar{x}^1= \\sqrt{ (x^1)^2 + (x^2)^2 + (x^3)^2}, \\quad \\bar{x}^2 = \\arccos \\frac{(x^3)}{\\sqrt{ (x^1)^2 + (x^2)^2 + (x^3)^2}},\\quad \\bar{x}^3 = \\arctan \\frac{x^2}{x^1}$$\n",
    "   \n",
    "and the Jacobian matrix of $\\frac{\\partial (x^1,x^2,x^3)}{\\partial (\\bar{x}^1,\\bar{x}^2,\\bar{x}^3)} $ we can get by calculating the derivatives ...\n",
    "   \n",
    "$$\\left( \\begin{matrix} \\frac{\\partial x^1}{\\partial \\bar{x}^1} &\\frac{\\partial x^1}{\\partial \\bar{x}^2} & \\frac{\\partial x^1}{\\partial \\bar{x}^3} \\\\\\ \\frac{\\partial x^2}{\\partial \\bar{x}^1} & \\frac{\\partial x^2}{\\partial \\bar{x}^2} & \\frac{\\partial x^2}{\\partial \\bar{x}^3} \\\\\\ \\frac{\\partial x^3}{\\partial \\bar{x}^1} & \\frac{\\partial x^3}{\\partial \\bar{x}^2} &\\frac{\\partial x^3}{\\partial \\bar{x}^3}  \\end{matrix}\\right) $$"
   ]
  },
  {
   "cell_type": "code",
   "execution_count": 2,
   "metadata": {
    "collapsed": false
   },
   "outputs": [
    {
     "name": "stdout",
     "output_type": "stream",
     "text": [
      "The Jacobian of the dx^i/dy^j where x's are cartesian and y's are spherical \n"
     ]
    },
    {
     "data": {
      "text/latex": [
       "$$\\left[\\begin{matrix}\\sin{\\left (y_{2} \\right )} \\cos{\\left (y_{3} \\right )} & y_{1} \\cos{\\left (y_{2} \\right )} \\cos{\\left (y_{3} \\right )} & - y_{1} \\sin{\\left (y_{2} \\right )} \\sin{\\left (y_{3} \\right )}\\\\\\sin{\\left (y_{2} \\right )} \\sin{\\left (y_{3} \\right )} & y_{1} \\sin{\\left (y_{3} \\right )} \\cos{\\left (y_{2} \\right )} & y_{1} \\sin{\\left (y_{2} \\right )} \\cos{\\left (y_{3} \\right )}\\\\\\cos{\\left (y_{2} \\right )} & - y_{1} \\sin{\\left (y_{2} \\right )} & 0\\end{matrix}\\right]$$"
      ],
      "text/plain": [
       "⎡sin(y₂)⋅cos(y₃)  y₁⋅cos(y₂)⋅cos(y₃)  -y₁⋅sin(y₂)⋅sin(y₃)⎤\n",
       "⎢                                                        ⎥\n",
       "⎢sin(y₂)⋅sin(y₃)  y₁⋅sin(y₃)⋅cos(y₂)  y₁⋅sin(y₂)⋅cos(y₃) ⎥\n",
       "⎢                                                        ⎥\n",
       "⎣    cos(y₂)         -y₁⋅sin(y₂)               0         ⎦"
      ]
     },
     "execution_count": 2,
     "metadata": {},
     "output_type": "execute_result"
    }
   ],
   "source": [
    "from sympy import *\n",
    "from sympy.vector import *\n",
    "\n",
    "e = CoordSysCartesian('e')\n",
    "sph = CoordSysCartesian('sph')\n",
    "\n",
    "x_1,x_2,x_3 = symbols('x_1,x_2, x_3')\n",
    "y_1,y_2,y_3 = symbols('y_1,y_2, y_3')\n",
    "\n",
    "v = y_1 * cos (y_3) * sin(y_2) * e.i+ y_1 * sin (y_3) * sin(y_2) * e.j +  y_1 * cos(y_2) * e.k\n",
    "V = sqrt( x_1**2 + x_2**2 + x_3**2) * sph.i + acos( x_3/sqrt( x_1**2 + x_2**2 + x_3**2)) * sph.j + atan(x_2/x_1) * sph.k\n",
    "\n",
    "X = Matrix([v.dot(e.i), v.dot(e.j),v.dot(e.k)])\n",
    "Y = Matrix([y_1, y_2, y_3])\n",
    "\n",
    "init_printing(use_latex=true)\n",
    "\n",
    "print \"The Jacobian of the dx^i/dy^j where x's are cartesian and y's are spherical \"\n",
    "J_1 = X.jacobian(Y)\n",
    "J_1"
   ]
  },
  {
   "cell_type": "code",
   "execution_count": 3,
   "metadata": {
    "collapsed": false
   },
   "outputs": [
    {
     "name": "stdout",
     "output_type": "stream",
     "text": [
      "The metric of the spherical coordinate system relative to the cartesian\n"
     ]
    },
    {
     "data": {
      "text/latex": [
       "$$\\left[\\begin{matrix}1 & 0 & 0\\\\0 & y_{1}^{2} & 0\\\\0 & 0 & y_{1}^{2} \\sin^{2}{\\left (y_{2} \\right )}\\end{matrix}\\right]$$"
      ],
      "text/plain": [
       "⎡1   0        0      ⎤\n",
       "⎢                    ⎥\n",
       "⎢     2              ⎥\n",
       "⎢0  y₁        0      ⎥\n",
       "⎢                    ⎥\n",
       "⎢          2    2    ⎥\n",
       "⎣0   0   y₁ ⋅sin (y₂)⎦"
      ]
     },
     "execution_count": 3,
     "metadata": {},
     "output_type": "execute_result"
    }
   ],
   "source": [
    "J_1T = J_1.transpose()\n",
    "G_xy = simplify(J_1T*J_1)\n",
    "print \"The metric of the spherical coordinate system relative to the cartesian\"\n",
    "G_xy"
   ]
  },
  {
   "cell_type": "code",
   "execution_count": 4,
   "metadata": {
    "collapsed": false
   },
   "outputs": [
    {
     "name": "stdout",
     "output_type": "stream",
     "text": [
      "The Jacobian of the dy^i/dx^j where x's are cartesian and y's are spherical \n"
     ]
    },
    {
     "data": {
      "text/latex": [
       "$$\\left[\\begin{matrix}\\frac{x_{1}}{\\sqrt{x_{1}^{2} + x_{2}^{2} + x_{3}^{2}}} & \\frac{x_{2}}{\\sqrt{x_{1}^{2} + x_{2}^{2} + x_{3}^{2}}} & \\frac{x_{3}}{\\sqrt{x_{1}^{2} + x_{2}^{2} + x_{3}^{2}}}\\\\\\frac{x_{1} x_{3}}{\\sqrt{- \\frac{x_{3}^{2}}{x_{1}^{2} + x_{2}^{2} + x_{3}^{2}} + 1} \\left(x_{1}^{2} + x_{2}^{2} + x_{3}^{2}\\right)^{\\frac{3}{2}}} & \\frac{x_{2} x_{3}}{\\sqrt{- \\frac{x_{3}^{2}}{x_{1}^{2} + x_{2}^{2} + x_{3}^{2}} + 1} \\left(x_{1}^{2} + x_{2}^{2} + x_{3}^{2}\\right)^{\\frac{3}{2}}} & - \\frac{- \\frac{x_{3}^{2}}{\\left(x_{1}^{2} + x_{2}^{2} + x_{3}^{2}\\right)^{\\frac{3}{2}}} + \\frac{1}{\\sqrt{x_{1}^{2} + x_{2}^{2} + x_{3}^{2}}}}{\\sqrt{- \\frac{x_{3}^{2}}{x_{1}^{2} + x_{2}^{2} + x_{3}^{2}} + 1}}\\\\- \\frac{x_{2}}{x_{1}^{2} \\left(1 + \\frac{x_{2}^{2}}{x_{1}^{2}}\\right)} & \\frac{1}{x_{1} \\left(1 + \\frac{x_{2}^{2}}{x_{1}^{2}}\\right)} & 0\\end{matrix}\\right]$$"
      ],
      "text/plain": [
       "⎡                        x₁                                                  x\n",
       "⎢               ────────────────────                                ──────────\n",
       "⎢                  _________________                                   _______\n",
       "⎢                 ╱   2     2     2                                   ╱   2   \n",
       "⎢               ╲╱  x₁  + x₂  + x₃                                  ╲╱  x₁  + \n",
       "⎢                                                                             \n",
       "⎢                                                                             \n",
       "⎢                                                                             \n",
       "⎢                                                                             \n",
       "⎢                                                                             \n",
       "⎢                                                                             \n",
       "⎢                      x₁⋅x₃                                               x₂⋅\n",
       "⎢──────────────────────────────────────────────────  ─────────────────────────\n",
       "⎢      _______________________                             ___________________\n",
       "⎢     ╱           2                             3/2       ╱           2       \n",
       "⎢    ╱          x₃             ⎛  2     2     2⎞         ╱          x₃        \n",
       "⎢   ╱   - ─────────────── + 1 ⋅⎝x₁  + x₂  + x₃ ⎠        ╱   - ─────────────── \n",
       "⎢  ╱        2     2     2                              ╱        2     2     2 \n",
       "⎢╲╱       x₁  + x₂  + x₃                             ╲╱       x₁  + x₂  + x₃  \n",
       "⎢                                                                             \n",
       "⎢                       -x₂                                                  1\n",
       "⎢                  ─────────────                                        ──────\n",
       "⎢                      ⎛      2⎞                                           ⎛  \n",
       "⎢                    2 ⎜    x₂ ⎟                                           ⎜  \n",
       "⎢                  x₁ ⋅⎜1 + ───⎟                                        x₁⋅⎜1 \n",
       "⎢                      ⎜      2⎟                                           ⎜  \n",
       "⎣                      ⎝    x₁ ⎠                                           ⎝  \n",
       "\n",
       "₂                                                 x₃                        ⎤\n",
       "──────────                               ────────────────────               ⎥\n",
       "__________                                  _________________               ⎥\n",
       "  2     2                                  ╱   2     2     2                ⎥\n",
       "x₂  + x₃                                 ╲╱  x₁  + x₂  + x₃                 ⎥\n",
       "                                                                            ⎥\n",
       "                            ⎛            2                                ⎞ ⎥\n",
       "                            ⎜          x₃                      1          ⎟ ⎥\n",
       "                           -⎜- ──────────────────── + ────────────────────⎟ ⎥\n",
       "                            ⎜                   3/2      _________________⎟ ⎥\n",
       "                            ⎜  ⎛  2     2     2⎞        ╱   2     2     2 ⎟ ⎥\n",
       "x₃                          ⎝  ⎝x₁  + x₂  + x₃ ⎠      ╲╱  x₁  + x₂  + x₃  ⎠ ⎥\n",
       "─────────────────────────  ─────────────────────────────────────────────────⎥\n",
       "____                                       _______________________          ⎥\n",
       "                      3/2                 ╱           2                     ⎥\n",
       "     ⎛  2     2     2⎞                   ╱          x₃                      ⎥\n",
       "+ 1 ⋅⎝x₁  + x₂  + x₃ ⎠                  ╱   - ─────────────── + 1           ⎥\n",
       "                                       ╱        2     2     2               ⎥\n",
       "                                     ╲╱       x₁  + x₂  + x₃                ⎥\n",
       "                                                                            ⎥\n",
       "                                                                            ⎥\n",
       "──────                                             0                        ⎥\n",
       "    2⎞                                                                      ⎥\n",
       "  x₂ ⎟                                                                      ⎥\n",
       "+ ───⎟                                                                      ⎥\n",
       "    2⎟                                                                      ⎥\n",
       "  x₁ ⎠                                                                      ⎦"
      ]
     },
     "execution_count": 4,
     "metadata": {},
     "output_type": "execute_result"
    }
   ],
   "source": [
    "X_2 = Matrix([V.dot(sph.i), V.dot(sph.j),V.dot(sph.k)])\n",
    "Y_2 = Matrix([x_1,x_2,x_3])\n",
    "\n",
    "print \"The Jacobian of the dy^i/dx^j where x's are cartesian and y's are spherical \"\n",
    "\n",
    "J_2 = X_2.jacobian(Y_2)\n",
    "J_2"
   ]
  },
  {
   "cell_type": "code",
   "execution_count": 5,
   "metadata": {
    "collapsed": false
   },
   "outputs": [
    {
     "name": "stdout",
     "output_type": "stream",
     "text": [
      "The metric of the dy^i/dx^j where x's are cartesian and y's are spherical \n"
     ]
    },
    {
     "data": {
      "text/latex": [
       "$$\\left[\\begin{matrix}\\frac{1}{\\left(x_{1}^{2} + x_{2}^{2}\\right)^{2} \\left(x_{1}^{2} + x_{2}^{2} + x_{3}^{2}\\right)^{2}} \\left(x_{1}^{2} x_{3}^{2} \\left(x_{1}^{2} + x_{2}^{2}\\right) + x_{1}^{2} \\left(x_{1}^{2} + x_{2}^{2}\\right)^{2} \\left(x_{1}^{2} + x_{2}^{2} + x_{3}^{2}\\right) + x_{2}^{2} \\left(x_{1}^{2} + x_{2}^{2} + x_{3}^{2}\\right)^{2}\\right) & \\frac{x_{1} x_{2}}{\\left(x_{1}^{2} + x_{2}^{2}\\right)^{2} \\left(x_{1}^{2} + x_{2}^{2} + x_{3}^{2}\\right)^{2}} \\left(x_{3}^{2} \\left(x_{1}^{2} + x_{2}^{2}\\right) + \\left(x_{1}^{2} + x_{2}^{2}\\right)^{2} \\left(x_{1}^{2} + x_{2}^{2} + x_{3}^{2}\\right) - \\left(x_{1}^{2} + x_{2}^{2} + x_{3}^{2}\\right)^{2}\\right) & \\frac{x_{1} x_{3} \\left(x_{1}^{2} + x_{2}^{2} + x_{3}^{2} - 1\\right)}{\\left(x_{1}^{2} + x_{2}^{2} + x_{3}^{2}\\right)^{2}}\\\\\\frac{x_{1} x_{2}}{\\left(x_{1}^{2} + x_{2}^{2}\\right)^{2} \\left(x_{1}^{2} + x_{2}^{2} + x_{3}^{2}\\right)^{2}} \\left(x_{3}^{2} \\left(x_{1}^{2} + x_{2}^{2}\\right) + \\left(x_{1}^{2} + x_{2}^{2}\\right)^{2} \\left(x_{1}^{2} + x_{2}^{2} + x_{3}^{2}\\right) - \\left(x_{1}^{2} + x_{2}^{2} + x_{3}^{2}\\right)^{2}\\right) & \\frac{1}{\\left(x_{1}^{2} + x_{2}^{2}\\right)^{2} \\left(x_{1}^{2} + x_{2}^{2} + x_{3}^{2}\\right)^{2}} \\left(x_{1}^{2} \\left(x_{1}^{2} + x_{2}^{2} + x_{3}^{2}\\right)^{2} + x_{2}^{2} x_{3}^{2} \\left(x_{1}^{2} + x_{2}^{2}\\right) + x_{2}^{2} \\left(x_{1}^{2} + x_{2}^{2}\\right)^{2} \\left(x_{1}^{2} + x_{2}^{2} + x_{3}^{2}\\right)\\right) & \\frac{x_{2} x_{3} \\left(x_{1}^{2} + x_{2}^{2} + x_{3}^{2} - 1\\right)}{\\left(x_{1}^{2} + x_{2}^{2} + x_{3}^{2}\\right)^{2}}\\\\\\frac{x_{1} x_{3} \\left(x_{1}^{2} + x_{2}^{2} + x_{3}^{2} - 1\\right)}{\\left(x_{1}^{2} + x_{2}^{2} + x_{3}^{2}\\right)^{2}} & \\frac{x_{2} x_{3} \\left(x_{1}^{2} + x_{2}^{2} + x_{3}^{2} - 1\\right)}{\\left(x_{1}^{2} + x_{2}^{2} + x_{3}^{2}\\right)^{2}} & \\frac{x_{1}^{2} + x_{2}^{2} + x_{3}^{2} \\left(x_{1}^{2} + x_{2}^{2} + x_{3}^{2}\\right)}{\\left(x_{1}^{2} + x_{2}^{2} + x_{3}^{2}\\right)^{2}}\\end{matrix}\\right]$$"
      ],
      "text/plain": [
       "⎡                                     2                                       \n",
       "⎢  2   2 ⎛  2     2⎞     2 ⎛  2     2⎞  ⎛  2     2     2⎞     2 ⎛  2     2    \n",
       "⎢x₁ ⋅x₃ ⋅⎝x₁  + x₂ ⎠ + x₁ ⋅⎝x₁  + x₂ ⎠ ⋅⎝x₁  + x₂  + x₃ ⎠ + x₂ ⋅⎝x₁  + x₂  + x\n",
       "⎢─────────────────────────────────────────────────────────────────────────────\n",
       "⎢                                    2                  2                     \n",
       "⎢                         ⎛  2     2⎞  ⎛  2     2     2⎞                      \n",
       "⎢                         ⎝x₁  + x₂ ⎠ ⋅⎝x₁  + x₂  + x₃ ⎠                      \n",
       "⎢                                                                             \n",
       "⎢        ⎛                             2                                      \n",
       "⎢        ⎜  2 ⎛  2     2⎞   ⎛  2     2⎞  ⎛  2     2     2⎞   ⎛  2     2     2⎞\n",
       "⎢  x₁⋅x₂⋅⎝x₃ ⋅⎝x₁  + x₂ ⎠ + ⎝x₁  + x₂ ⎠ ⋅⎝x₁  + x₂  + x₃ ⎠ - ⎝x₁  + x₂  + x₃ ⎠\n",
       "⎢  ───────────────────────────────────────────────────────────────────────────\n",
       "⎢                                    2                  2                     \n",
       "⎢                         ⎛  2     2⎞  ⎛  2     2     2⎞                      \n",
       "⎢                         ⎝x₁  + x₂ ⎠ ⋅⎝x₁  + x₂  + x₃ ⎠                      \n",
       "⎢                                                                             \n",
       "⎢                                 ⎛  2     2     2    ⎞                       \n",
       "⎢                           x₁⋅x₃⋅⎝x₁  + x₂  + x₃  - 1⎠                       \n",
       "⎢                           ───────────────────────────                       \n",
       "⎢                                                 2                           \n",
       "⎢                                ⎛  2     2     2⎞                            \n",
       "⎣                                ⎝x₁  + x₂  + x₃ ⎠                            \n",
       "\n",
       "   2          ⎛                             2                                 \n",
       " 2⎞           ⎜  2 ⎛  2     2⎞   ⎛  2     2⎞  ⎛  2     2     2⎞   ⎛  2     2  \n",
       "₃ ⎠     x₁⋅x₂⋅⎝x₃ ⋅⎝x₁  + x₂ ⎠ + ⎝x₁  + x₂ ⎠ ⋅⎝x₁  + x₂  + x₃ ⎠ - ⎝x₁  + x₂  +\n",
       "────    ──────────────────────────────────────────────────────────────────────\n",
       "                                          2                  2                \n",
       "                               ⎛  2     2⎞  ⎛  2     2     2⎞                 \n",
       "                               ⎝x₁  + x₂ ⎠ ⋅⎝x₁  + x₂  + x₃ ⎠                 \n",
       "                                                                              \n",
       "2⎞                         2                                        2         \n",
       " ⎟      2 ⎛  2     2     2⎞      2   2 ⎛  2     2⎞     2 ⎛  2     2⎞  ⎛  2    \n",
       " ⎠    x₁ ⋅⎝x₁  + x₂  + x₃ ⎠  + x₂ ⋅x₃ ⋅⎝x₁  + x₂ ⎠ + x₂ ⋅⎝x₁  + x₂ ⎠ ⋅⎝x₁  + x\n",
       "──    ────────────────────────────────────────────────────────────────────────\n",
       "                                          2                  2                \n",
       "                               ⎛  2     2⎞  ⎛  2     2     2⎞                 \n",
       "                               ⎝x₁  + x₂ ⎠ ⋅⎝x₁  + x₂  + x₃ ⎠                 \n",
       "                                                                              \n",
       "                                       ⎛  2     2     2    ⎞                  \n",
       "                                 x₂⋅x₃⋅⎝x₁  + x₂  + x₃  - 1⎠                  \n",
       "                                 ───────────────────────────                  \n",
       "                                                       2                      \n",
       "                                      ⎛  2     2     2⎞                       \n",
       "                                      ⎝x₁  + x₂  + x₃ ⎠                       \n",
       "\n",
       "     2⎞                                     ⎤\n",
       "   2⎞ ⎟             ⎛  2     2     2    ⎞   ⎥\n",
       " x₃ ⎠ ⎠       x₁⋅x₃⋅⎝x₁  + x₂  + x₃  - 1⎠   ⎥\n",
       "───────       ───────────────────────────   ⎥\n",
       "                                    2       ⎥\n",
       "                   ⎛  2     2     2⎞        ⎥\n",
       "                   ⎝x₁  + x₂  + x₃ ⎠        ⎥\n",
       "                                            ⎥\n",
       "                                            ⎥\n",
       " 2     2⎞           ⎛  2     2     2    ⎞   ⎥\n",
       "₂  + x₃ ⎠     x₂⋅x₃⋅⎝x₁  + x₂  + x₃  - 1⎠   ⎥\n",
       "─────────     ───────────────────────────   ⎥\n",
       "                                    2       ⎥\n",
       "                   ⎛  2     2     2⎞        ⎥\n",
       "                   ⎝x₁  + x₂  + x₃ ⎠        ⎥\n",
       "                                            ⎥\n",
       "             2     2     2 ⎛  2     2     2⎞⎥\n",
       "           x₁  + x₂  + x₃ ⋅⎝x₁  + x₂  + x₃ ⎠⎥\n",
       "           ─────────────────────────────────⎥\n",
       "                                    2       ⎥\n",
       "                   ⎛  2     2     2⎞        ⎥\n",
       "                   ⎝x₁  + x₂  + x₃ ⎠        ⎦"
      ]
     },
     "execution_count": 5,
     "metadata": {},
     "output_type": "execute_result"
    }
   ],
   "source": [
    "J_2T = J_2.transpose()\n",
    "\n",
    "print \"The metric of the dy^i/dx^j where x's are cartesian and y's are spherical \"\n",
    "\n",
    "G_yx = simplify((J_2T*J_2))\n",
    "G_yx"
   ]
  },
  {
   "cell_type": "code",
   "execution_count": 6,
   "metadata": {
    "collapsed": false
   },
   "outputs": [
    {
     "name": "stdout",
     "output_type": "stream",
     "text": [
      "The inverse of the Jacobian of the dx^i/dy^j where x's are cartesian and y's are spherical \n"
     ]
    },
    {
     "data": {
      "text/latex": [
       "$$\\left[\\begin{matrix}\\sin{\\left (y_{2} \\right )} \\cos{\\left (y_{3} \\right )} & \\sin{\\left (y_{2} \\right )} \\sin{\\left (y_{3} \\right )} & \\cos{\\left (y_{2} \\right )}\\\\\\frac{1}{y_{1}} \\cos{\\left (y_{2} \\right )} \\cos{\\left (y_{3} \\right )} & \\frac{1}{y_{1}} \\sin{\\left (y_{3} \\right )} \\cos{\\left (y_{2} \\right )} & - \\frac{1}{y_{1}} \\sin{\\left (y_{2} \\right )}\\\\- \\frac{\\sin{\\left (y_{3} \\right )}}{y_{1} \\sin{\\left (y_{2} \\right )}} & \\frac{\\cos{\\left (y_{3} \\right )}}{y_{1} \\sin{\\left (y_{2} \\right )}} & 0\\end{matrix}\\right]$$"
      ],
      "text/plain": [
       "⎡sin(y₂)⋅cos(y₃)  sin(y₂)⋅sin(y₃)   cos(y₂) ⎤\n",
       "⎢                                           ⎥\n",
       "⎢cos(y₂)⋅cos(y₃)  sin(y₃)⋅cos(y₂)  -sin(y₂) ⎥\n",
       "⎢───────────────  ───────────────  ─────────⎥\n",
       "⎢       y₁               y₁            y₁   ⎥\n",
       "⎢                                           ⎥\n",
       "⎢  -sin(y₃)          cos(y₃)                ⎥\n",
       "⎢  ──────────       ──────────         0    ⎥\n",
       "⎣  y₁⋅sin(y₂)       y₁⋅sin(y₂)              ⎦"
      ]
     },
     "execution_count": 6,
     "metadata": {},
     "output_type": "execute_result"
    }
   ],
   "source": [
    "print \"The inverse of the Jacobian of the dx^i/dy^j where x's are cartesian and y's are spherical \"\n",
    "J1_inv = simplify(J_1.inverse_ADJ())\n",
    "J1_inv"
   ]
  },
  {
   "cell_type": "code",
   "execution_count": 8,
   "metadata": {
    "collapsed": false
   },
   "outputs": [
    {
     "name": "stdout",
     "output_type": "stream",
     "text": [
      "The inverse of the Jacobian of the dy^i/dx^j where x's are cartesian and y's are spherical \n"
     ]
    },
    {
     "data": {
      "text/latex": [
       "$$\\left[\\begin{matrix}\\frac{y_{1}}{\\sqrt{y_{1}^{2}}} \\sin{\\left (y_{2} \\right )} \\cos{\\left (y_{3} \\right )} & \\frac{\\sqrt{2} y_{1}^{2} \\left(\\sin{\\left (2 y_{2} - y_{3} \\right )} + \\sin{\\left (2 y_{2} + y_{3} \\right )}\\right)}{4 \\sqrt{- \\cos{\\left (2 y_{2} \\right )} + 1} \\sqrt{y_{1}^{2}}} & - y_{1} \\sin{\\left (y_{2} \\right )} \\sin{\\left (y_{3} \\right )}\\\\\\frac{y_{1}}{\\sqrt{y_{1}^{2}}} \\sin{\\left (y_{2} \\right )} \\sin{\\left (y_{3} \\right )} & \\frac{\\sqrt{2} y_{1}^{2} \\left(\\cos{\\left (2 y_{2} - y_{3} \\right )} - \\cos{\\left (2 y_{2} + y_{3} \\right )}\\right)}{4 \\sqrt{- \\cos{\\left (2 y_{2} \\right )} + 1} \\sqrt{y_{1}^{2}}} & y_{1} \\sin{\\left (y_{2} \\right )} \\cos{\\left (y_{3} \\right )}\\\\\\frac{y_{1}}{\\sqrt{y_{1}^{2}}} \\cos{\\left (y_{2} \\right )} & - \\frac{y_{1}^{2}}{\\sqrt{y_{1}^{2}}} \\sqrt{\\sin^{2}{\\left (y_{2} \\right )}} & 0\\end{matrix}\\right]$$"
      ],
      "text/plain": [
       "⎡                         2                                                   \n",
       "⎢y₁⋅sin(y₂)⋅cos(y₃)  √2⋅y₁ ⋅(sin(2⋅y₂ - y₃) + sin(2⋅y₂ + y₃))                 \n",
       "⎢──────────────────  ────────────────────────────────────────  -y₁⋅sin(y₂)⋅sin\n",
       "⎢        _____                                    _____                       \n",
       "⎢       ╱   2                 ________________   ╱   2                        \n",
       "⎢     ╲╱  y₁              4⋅╲╱ -cos(2⋅y₂) + 1 ⋅╲╱  y₁                         \n",
       "⎢                                                                             \n",
       "⎢                         2                                                   \n",
       "⎢y₁⋅sin(y₂)⋅sin(y₃)  √2⋅y₁ ⋅(cos(2⋅y₂ - y₃) - cos(2⋅y₂ + y₃))                 \n",
       "⎢──────────────────  ────────────────────────────────────────  y₁⋅sin(y₂)⋅cos(\n",
       "⎢        _____                                    _____                       \n",
       "⎢       ╱   2                 ________________   ╱   2                        \n",
       "⎢     ╲╱  y₁              4⋅╲╱ -cos(2⋅y₂) + 1 ⋅╲╱  y₁                         \n",
       "⎢                                                                             \n",
       "⎢                                      __________                             \n",
       "⎢                                 2   ╱    2                                  \n",
       "⎢    y₁⋅cos(y₂)                -y₁ ⋅╲╱  sin (y₂)                              \n",
       "⎢    ──────────                ───────────────────                      0     \n",
       "⎢        _____                          _____                                 \n",
       "⎢       ╱   2                          ╱   2                                  \n",
       "⎣     ╲╱  y₁                         ╲╱  y₁                                   \n",
       "\n",
       "    ⎤\n",
       "    ⎥\n",
       "(y₃)⎥\n",
       "    ⎥\n",
       "    ⎥\n",
       "    ⎥\n",
       "    ⎥\n",
       "    ⎥\n",
       "    ⎥\n",
       "y₃) ⎥\n",
       "    ⎥\n",
       "    ⎥\n",
       "    ⎥\n",
       "    ⎥\n",
       "    ⎥\n",
       "    ⎥\n",
       "    ⎥\n",
       "    ⎥\n",
       "    ⎥\n",
       "    ⎥\n",
       "    ⎦"
      ]
     },
     "execution_count": 8,
     "metadata": {},
     "output_type": "execute_result"
    }
   ],
   "source": [
    "print \"The inverse of the Jacobian of the dy^i/dx^j where x's are cartesian and y's are spherical \"\n",
    "J2_inv =simplify(J_2.inverse_GE())\n",
    "simplify(J2_inv.subs({x_1:v.dot(e.i),x_2:v.dot(e.j),x_3:v.dot(e.k)}))"
   ]
  },
  {
   "cell_type": "markdown",
   "metadata": {},
   "source": [
    "taking the identity, $\\cos(2\\theta)=\\cos^2\\theta - sin^2\\theta = 2\\cos^2\\theta-1 = 1-2\\sin^2\\theta$ the denomiator common in the $\\mathbf J_{12}$ and $\\mathbf J_{22}$ can be simplified, $4\\sqrt{-\\cos(2 y_2)+1}\\sqrt{y_1^2} = 4 \\sqrt{-(1-2\\sin^2(y_2))+1}y_1 = \\sqrt(2)4\\sin(y_2)y_1$"
   ]
  },
  {
   "cell_type": "markdown",
   "metadata": {},
   "source": [
    "The numerator from the $\\mathbf J_{12}$ and $\\mathbf J_{22}$ terms can also be simplified ... using $\\sin(A\\pm B)=\\sin(A)\\cos(B)\\pm \\cos(A)\\sin(B) $ the numerator of $\\mathbf J_{12}$ is simplified as follows \n",
    "   \n",
    "$$\\sqrt(2) y_1^2 (\\sin(2y_2-y_3)+\\sin(2y_2+y3)) = \\sqrt(2) y_1^2 (\\sin(2 y_2)\\cos(y_3)- \\cos(2 y_2)\\sin(y3) + \\sin(2 y_2)\\cos(y_3 )+ \\cos(2 y_2)\\sin(y_3)) = \\sqrt(2) y_1^2 (2 \\sin(2 y_2)\\cos(y_3))$$  \n",
    "   \n",
    "and then the identity $\\sin(2\\theta) = 2\\sin\\theta\\cos\\theta$ gives ...\n",
    "   \n",
    "$$ \\sqrt(2) y_1^2 (2 \\sin(2 y_2)\\cos(y_3)) = \\sqrt(2) y_1^2 (4 \\sin y_2 \\cos y_2 \\cos y_3) $$\n",
    "   \n",
    "and now combining numerator and denominator ... \n",
    "   \n",
    "$$\\mathbf J_{12} = \\frac{\\sqrt(2) y_1^2 (4 \\sin y_2 \\cos y_2 \\cos y_3)}{\\sqrt(2)4\\sin(y_2)y_1} = y_1 ( \\cos y_2 \\cos y_3) $$\n",
    "  \n",
    "as the $\\sqrt 2$, the $y_1$'s and the 4's cancel. The same can be found for the $\\mathbf J_{22}$ term using similar identities in the numerator. The other components of the matrix contain terms like $\\sqrt{A^2} $ and if these are all reduced to $A$ then the matrix is the same as the Jacobian of the $dx^i/dy^j$. Sympy recognizes that in general, $\\sqrt{A^2}\\neq A$ but instead $|A|$ and so does not perform the simplification. It can be a challenge to produce the correct numbers from an expression or set of expressions that are not simplified completely, so it is a good idea to use wisdom and do things by hand."
   ]
  },
  {
   "cell_type": "code",
   "execution_count": 93,
   "metadata": {
    "collapsed": false
   },
   "outputs": [
    {
     "data": {
      "text/latex": [
       "$$\\left[\\begin{matrix}\\frac{x_{1}}{\\sqrt{x_{1}^{2} + x_{2}^{2} + x_{3}^{2}}} & \\frac{x_{2}}{\\sqrt{x_{1}^{2} + x_{2}^{2} + x_{3}^{2}}} & \\frac{x_{3}}{\\sqrt{x_{1}^{2} + x_{2}^{2} + x_{3}^{2}}}\\\\\\frac{x_{1} x_{3}}{\\sqrt{- \\frac{x_{3}^{2}}{x_{1}^{2} + x_{2}^{2} + x_{3}^{2}} + 1} \\left(x_{1}^{2} + x_{2}^{2} + x_{3}^{2}\\right)^{\\frac{3}{2}}} & \\frac{x_{2} x_{3}}{\\sqrt{- \\frac{x_{3}^{2}}{x_{1}^{2} + x_{2}^{2} + x_{3}^{2}} + 1} \\left(x_{1}^{2} + x_{2}^{2} + x_{3}^{2}\\right)^{\\frac{3}{2}}} & - \\frac{- \\frac{x_{3}^{2}}{\\left(x_{1}^{2} + x_{2}^{2} + x_{3}^{2}\\right)^{\\frac{3}{2}}} + \\frac{1}{\\sqrt{x_{1}^{2} + x_{2}^{2} + x_{3}^{2}}}}{\\sqrt{- \\frac{x_{3}^{2}}{x_{1}^{2} + x_{2}^{2} + x_{3}^{2}} + 1}}\\\\- \\frac{x_{2}}{x_{1}^{2} \\left(1 + \\frac{x_{2}^{2}}{x_{1}^{2}}\\right)} & \\frac{1}{x_{1} \\left(1 + \\frac{x_{2}^{2}}{x_{1}^{2}}\\right)} & 0\\end{matrix}\\right]$$"
      ],
      "text/plain": [
       "⎡                        x₁                                                  x\n",
       "⎢               ────────────────────                                ──────────\n",
       "⎢                  _________________                                   _______\n",
       "⎢                 ╱   2     2     2                                   ╱   2   \n",
       "⎢               ╲╱  x₁  + x₂  + x₃                                  ╲╱  x₁  + \n",
       "⎢                                                                             \n",
       "⎢                                                                             \n",
       "⎢                                                                             \n",
       "⎢                                                                             \n",
       "⎢                                                                             \n",
       "⎢                                                                             \n",
       "⎢                      x₁⋅x₃                                               x₂⋅\n",
       "⎢──────────────────────────────────────────────────  ─────────────────────────\n",
       "⎢      _______________________                             ___________________\n",
       "⎢     ╱           2                             3/2       ╱           2       \n",
       "⎢    ╱          x₃             ⎛  2     2     2⎞         ╱          x₃        \n",
       "⎢   ╱   - ─────────────── + 1 ⋅⎝x₁  + x₂  + x₃ ⎠        ╱   - ─────────────── \n",
       "⎢  ╱        2     2     2                              ╱        2     2     2 \n",
       "⎢╲╱       x₁  + x₂  + x₃                             ╲╱       x₁  + x₂  + x₃  \n",
       "⎢                                                                             \n",
       "⎢                       -x₂                                                  1\n",
       "⎢                  ─────────────                                        ──────\n",
       "⎢                      ⎛      2⎞                                           ⎛  \n",
       "⎢                    2 ⎜    x₂ ⎟                                           ⎜  \n",
       "⎢                  x₁ ⋅⎜1 + ───⎟                                        x₁⋅⎜1 \n",
       "⎢                      ⎜      2⎟                                           ⎜  \n",
       "⎣                      ⎝    x₁ ⎠                                           ⎝  \n",
       "\n",
       "₂                                                 x₃                        ⎤\n",
       "──────────                               ────────────────────               ⎥\n",
       "__________                                  _________________               ⎥\n",
       "  2     2                                  ╱   2     2     2                ⎥\n",
       "x₂  + x₃                                 ╲╱  x₁  + x₂  + x₃                 ⎥\n",
       "                                                                            ⎥\n",
       "                            ⎛            2                                ⎞ ⎥\n",
       "                            ⎜          x₃                      1          ⎟ ⎥\n",
       "                           -⎜- ──────────────────── + ────────────────────⎟ ⎥\n",
       "                            ⎜                   3/2      _________________⎟ ⎥\n",
       "                            ⎜  ⎛  2     2     2⎞        ╱   2     2     2 ⎟ ⎥\n",
       "x₃                          ⎝  ⎝x₁  + x₂  + x₃ ⎠      ╲╱  x₁  + x₂  + x₃  ⎠ ⎥\n",
       "─────────────────────────  ─────────────────────────────────────────────────⎥\n",
       "____                                       _______________________          ⎥\n",
       "                      3/2                 ╱           2                     ⎥\n",
       "     ⎛  2     2     2⎞                   ╱          x₃                      ⎥\n",
       "+ 1 ⋅⎝x₁  + x₂  + x₃ ⎠                  ╱   - ─────────────── + 1           ⎥\n",
       "                                       ╱        2     2     2               ⎥\n",
       "                                     ╲╱       x₁  + x₂  + x₃                ⎥\n",
       "                                                                            ⎥\n",
       "                                                                            ⎥\n",
       "──────                                             0                        ⎥\n",
       "    2⎞                                                                      ⎥\n",
       "  x₂ ⎟                                                                      ⎥\n",
       "+ ───⎟                                                                      ⎥\n",
       "    2⎟                                                                      ⎥\n",
       "  x₁ ⎠                                                                      ⎦"
      ]
     },
     "execution_count": 93,
     "metadata": {},
     "output_type": "execute_result"
    }
   ],
   "source": [
    "J_2 = trigsimp(simplify(J_1.inverse_GE()))\n",
    "J_2 = J_2.subs({y__1:sqrt(x__1**2+x__2**2+x__3**2)})\n",
    "J_2 = J_2.subs( {y__2:acos( x__3/sqrt( x__1**2 + x__2**2 + x__3**2)) })\n",
    "J_2 = J_2.subs( {y__3: atan(x__2/x__1) })\n",
    "\n",
    "init_printing(use_latex=true)\n",
    "\n",
    "YY = Matrix([sqrt(x__1**2+x__2**2+x__3**2), acos( x__3/sqrt( x__1**2 + x__2**2 + x__3**2)),atan(x__2/x__1) ])\n",
    "XX = Matrix([x__1,x__2,x__3])\n",
    "jac2 = YY.jacobian(XX)\n",
    "jac2 = jac2.subs( {x__1:x_1, x__2:x_2, x__3:x_3})\n",
    "J_2=J_2.subs( {x__1:x_1, x__2:x_2, x__3:x_3})\n",
    "jac2"
   ]
  },
  {
   "cell_type": "code",
   "execution_count": 94,
   "metadata": {
    "collapsed": false
   },
   "outputs": [
    {
     "data": {
      "text/latex": [
       "$$\\left[\\begin{matrix}\\frac{1}{\\sqrt{1 + \\frac{x_{2}^{2}}{x_{1}^{2}}}} \\sqrt{- \\frac{x_{3}^{2}}{x_{1}^{2} + x_{2}^{2} + x_{3}^{2}} + 1} & \\frac{x_{2}}{x_{1} \\sqrt{1 + \\frac{x_{2}^{2}}{x_{1}^{2}}}} \\sqrt{- \\frac{x_{3}^{2}}{x_{1}^{2} + x_{2}^{2} + x_{3}^{2}} + 1} & \\frac{x_{3}}{\\sqrt{x_{1}^{2} + x_{2}^{2} + x_{3}^{2}}}\\\\\\frac{x_{3}}{\\sqrt{1 + \\frac{x_{2}^{2}}{x_{1}^{2}}} \\left(x_{1}^{2} + x_{2}^{2} + x_{3}^{2}\\right)} & \\frac{x_{2} x_{3}}{x_{1} \\sqrt{1 + \\frac{x_{2}^{2}}{x_{1}^{2}}} \\left(x_{1}^{2} + x_{2}^{2} + x_{3}^{2}\\right)} & - \\frac{\\sqrt{- \\frac{x_{3}^{2}}{x_{1}^{2} + x_{2}^{2} + x_{3}^{2}} + 1}}{\\sqrt{x_{1}^{2} + x_{2}^{2} + x_{3}^{2}}}\\\\- \\frac{x_{2}}{x_{1} \\sqrt{1 + \\frac{x_{2}^{2}}{x_{1}^{2}}} \\sqrt{- \\frac{x_{3}^{2}}{x_{1}^{2} + x_{2}^{2} + x_{3}^{2}} + 1} \\sqrt{x_{1}^{2} + x_{2}^{2} + x_{3}^{2}}} & \\frac{1}{\\sqrt{1 + \\frac{x_{2}^{2}}{x_{1}^{2}}} \\sqrt{- \\frac{x_{3}^{2}}{x_{1}^{2} + x_{2}^{2} + x_{3}^{2}} + 1} \\sqrt{x_{1}^{2} + x_{2}^{2} + x_{3}^{2}}} & 0\\end{matrix}\\right]$$"
      ],
      "text/plain": [
       "⎡                          _______________________                            \n",
       "⎢                         ╱           2                                       \n",
       "⎢                        ╱          x₃                                        \n",
       "⎢                       ╱   - ─────────────── + 1                             \n",
       "⎢                      ╱        2     2     2                                 \n",
       "⎢                    ╲╱       x₁  + x₂  + x₃                                  \n",
       "⎢                    ─────────────────────────────                            \n",
       "⎢                                 _________                                   \n",
       "⎢                                ╱       2                                    \n",
       "⎢                               ╱      x₂                                     \n",
       "⎢                              ╱   1 + ───                                    \n",
       "⎢                             ╱          2                                    \n",
       "⎢                           ╲╱         x₁                                     \n",
       "⎢                                                                             \n",
       "⎢                                                                             \n",
       "⎢                                                                             \n",
       "⎢                                                                             \n",
       "⎢                                                                             \n",
       "⎢                                                                             \n",
       "⎢                                  x₃                                         \n",
       "⎢                  ─────────────────────────────────                          \n",
       "⎢                        _________                                            \n",
       "⎢                       ╱       2                                             \n",
       "⎢                      ╱      x₂   ⎛  2     2     2⎞                          \n",
       "⎢                     ╱   1 + ─── ⋅⎝x₁  + x₂  + x₃ ⎠                          \n",
       "⎢                    ╱          2                                             \n",
       "⎢                  ╲╱         x₁                                              \n",
       "⎢                                                                             \n",
       "⎢                                 -x₂                                         \n",
       "⎢─────────────────────────────────────────────────────────────────────  ──────\n",
       "⎢         _________       _______________________                             \n",
       "⎢        ╱       2       ╱           2               _________________       ╱\n",
       "⎢       ╱      x₂       ╱          x₃               ╱   2     2     2       ╱ \n",
       "⎢x₁⋅   ╱   1 + ─── ⋅   ╱   - ─────────────── + 1 ⋅╲╱  x₁  + x₂  + x₃       ╱  \n",
       "⎢     ╱          2    ╱        2     2     2                              ╱   \n",
       "⎣   ╲╱         x₁   ╲╱       x₁  + x₂  + x₃                             ╲╱    \n",
       "\n",
       "                    _______________________                                   \n",
       "                   ╱           2                                              \n",
       "                  ╱          x₃                                               \n",
       "           x₂⋅   ╱   - ─────────────── + 1                                    \n",
       "                ╱        2     2     2                                        \n",
       "              ╲╱       x₁  + x₂  + x₃                                       x₃\n",
       "           ────────────────────────────────                        ───────────\n",
       "                           _________                                  ________\n",
       "                          ╱       2                                  ╱   2    \n",
       "                         ╱      x₂                                 ╲╱  x₁  + x\n",
       "                  x₁⋅   ╱   1 + ───                                           \n",
       "                       ╱          2                                           \n",
       "                     ╲╱         x₁                                            \n",
       "                                                                              \n",
       "                                                                     _________\n",
       "                                                                    ╱         \n",
       "                                                                   ╱          \n",
       "                                                              -   ╱   - ──────\n",
       "                                                                 ╱        2   \n",
       "                        x₂⋅x₃                                  ╲╱       x₁  + \n",
       "         ────────────────────────────────────                 ────────────────\n",
       "                  _________                                            _______\n",
       "                 ╱       2                                            ╱   2   \n",
       "                ╱      x₂   ⎛  2     2     2⎞                       ╲╱  x₁  + \n",
       "         x₁⋅   ╱   1 + ─── ⋅⎝x₁  + x₂  + x₃ ⎠                                 \n",
       "              ╱          2                                                    \n",
       "            ╲╱         x₁                                                     \n",
       "                                                                              \n",
       "                          1                                                   \n",
       "────────────────────────────────────────────────────────────                 0\n",
       "_________       _______________________                                       \n",
       "       2       ╱           2               _________________                  \n",
       "     x₂       ╱          x₃               ╱   2     2     2                   \n",
       " 1 + ─── ⋅   ╱   - ─────────────── + 1 ⋅╲╱  x₁  + x₂  + x₃                    \n",
       "       2    ╱        2     2     2                                            \n",
       "     x₁   ╲╱       x₁  + x₂  + x₃                                             \n",
       "\n",
       "               ⎤\n",
       "               ⎥\n",
       "               ⎥\n",
       "               ⎥\n",
       "               ⎥\n",
       "               ⎥\n",
       "─────────      ⎥\n",
       "_________      ⎥\n",
       " 2     2       ⎥\n",
       "₂  + x₃        ⎥\n",
       "               ⎥\n",
       "               ⎥\n",
       "               ⎥\n",
       "               ⎥\n",
       "______________ ⎥\n",
       "  2            ⎥\n",
       "x₃             ⎥\n",
       "───────── + 1  ⎥\n",
       "  2     2      ⎥\n",
       "x₂  + x₃       ⎥\n",
       "───────────────⎥\n",
       "__________     ⎥\n",
       "  2     2      ⎥\n",
       "x₂  + x₃       ⎥\n",
       "               ⎥\n",
       "               ⎥\n",
       "               ⎥\n",
       "               ⎥\n",
       "               ⎥\n",
       "               ⎥\n",
       "               ⎥\n",
       "               ⎥\n",
       "               ⎥\n",
       "               ⎥\n",
       "               ⎥\n",
       "               ⎦"
      ]
     },
     "execution_count": 94,
     "metadata": {},
     "output_type": "execute_result"
    }
   ],
   "source": [
    "J_2"
   ]
  },
  {
   "cell_type": "code",
   "execution_count": 96,
   "metadata": {
    "collapsed": false
   },
   "outputs": [
    {
     "data": {
      "text/latex": [
       "$$\\left[\\begin{matrix}0 & 0 & 0\\\\0 & 0 & 0\\\\0 & 0 & 0\\end{matrix}\\right]$$"
      ],
      "text/plain": [
       "⎡0  0  0⎤\n",
       "⎢       ⎥\n",
       "⎢0  0  0⎥\n",
       "⎢       ⎥\n",
       "⎣0  0  0⎦"
      ]
     },
     "execution_count": 96,
     "metadata": {},
     "output_type": "execute_result"
    }
   ],
   "source": [
    "simplify((jac2-J_2).subs({x_1:2,x_2:27,x_3:42})) ## easy to show with algebraic simplification"
   ]
  },
  {
   "cell_type": "markdown",
   "metadata": {
    "collapsed": true
   },
   "source": [
    "### Analysis of the Line Element\n",
    "\n",
    "$$ (d\\mathbf x)^2 = (dx^1)^2+(dx^2)^2+(dx^3)^2$$\n",
    "\n",
    "in the context of a change of variables, the metric tensor is used - but to change between two coordinate systems\n",
    "the cartesian $x^r=x^r(u^i)$ to the $u^i$ system the scale factors are used that relate cartesian to curvilinear, they are elements of the Jacobian matrix that relate one system to the other. For example the scale factors for the $u^i$ system might be $(h_1,h_2,h_3)$, then the *line element* becomes\n",
    "   \n",
    "$$ (d\\mathbf x)^2 = (h_1)^2(du^1)^2+(h_2)^2(du^2)^2+(h_3)^2(du^3)^2$$\n",
    "\n",
    "*because* the change in the variables $dx^i$ with respect to the $u^k$ system requires the Jacobian, and if for example the $u^k$ system was a Euclidean metric the variables can be derived easily\n",
    "   \n",
    "$$\\frac{dx^1}{du^1} = h_1, \\implies dx^1 = h_1 du^1 $$ \n",
    "   \n",
    "etc, then the line element is easily found through substitution. The general form of $dx^i$ in $n$ dimensions is \n",
    "   \n",
    "$$ dx^i = \\frac{\\partial x^i}{\\partial u^j}du^j = \\frac{\\partial x^i}{\\partial u^1}du^1 +\\frac{\\partial x^i}{\\partial u^2}du^2+\\cdots \\frac{\\partial x^i}{\\partial u^n}du^n $$\n",
    "   \n",
    "and so the scale factor becomes quite different (and the metric).\n",
    "   \n",
    "The line element is important, as it ensures that distance between two points is an invariant between coordinate systems. This is why it is often attached to the notion of the metric. The metric can also be associated with the concept of a dot product between two vectors defined on a surface transforming as $\\mathbf a^T \\mathbf G \\mathbf a$ and \n",
    "from the dot product the angle can be produced. As from differential geometry, we can expand the differential in the arc length function as follows ... \n",
    "   \n",
    "$$ (d\\mathbf x)^2   = \\left(\\frac{\\partial \\mathbf x}{\\partial u^p}du^p\\right)\\cdot\\left(\\frac{\\partial \\mathbf  x}{\\partial u^q}du^q\\right)$$\n",
    "   \n",
    "And the terms in brackets can be expanded.\n",
    "   \n",
    "$$ \\implies (d\\mathbf x)^2 = \\left(\\frac{\\partial\\mathbf x}{\\partial u^1}du^1 +\\frac{\\partial\\mathbf x}{\\partial u^2}du^2+\\frac{\\partial\\mathbf x}{\\partial u^3}du^3 \\right)\\left(\\frac{\\partial \\mathbf x}{\\partial u^1}du^1 +\\frac{\\partial \\mathbf x}{\\partial u^2}du^2+\\frac{\\partial \\mathbf x}{\\partial u^3}du^3 \\right)$$\n",
    "   \n",
    "\n"
   ]
  },
  {
   "cell_type": "markdown",
   "metadata": {
    "collapsed": true
   },
   "source": [
    "Therefore expanding\n",
    "\n",
    "$$ (d\\mathbf x)^2 = \\frac{\\partial\\mathbf x}{\\partial u^1}\\cdot \\frac{\\partial\\mathbf x}{\\partial u^1} (du^1)^2   +\\frac{\\partial\\mathbf x}{\\partial u^2}\\cdot\\frac{\\partial\\mathbf x}{\\partial u^2}(du^2)^2  +\\frac{\\partial\\mathbf x}{\\partial u^3}\\cdot\\frac{\\partial\\mathbf x}{\\partial u^3}(du^3)^2 +2\\frac{\\partial\\mathbf x}{\\partial u^1}\\cdot\\frac{\\partial\\mathbf x}{\\partial u^2}du^1 du^2+  2\\frac{\\partial\\mathbf x}{\\partial u^1}\\cdot\\frac{\\partial\\mathbf x}{\\partial u^3}du^1 du^3 +2\\frac{\\partial\\mathbf x}{\\partial u^2}\\cdot\\frac{\\partial\\mathbf x}{\\partial u^3}du^2 du^3$$"
   ]
  },
  {
   "cell_type": "markdown",
   "metadata": {},
   "source": [
    "thus we have that if $\\frac{\\partial\\mathbf x}{\\partial u^1}$ is orthogonal to $\\frac{\\partial\\mathbf x}{\\partial u^2}$ then the dot product $=0$ and likewise for all $\\frac{\\partial\\mathbf x}{\\partial u^i}\\cdot \\frac{\\partial\\mathbf x}{\\partial u^j}\\quad |\\quad i\\neq j$  \n",
    "\n",
    "Then this expression reduces to ...\n",
    "\n",
    "$$ (d\\mathbf x)^2 = \\frac{\\partial\\mathbf x}{\\partial u^1}\\cdot \\frac{\\partial\\mathbf x}{\\partial u^1} (du^1)^2   +\\frac{\\partial\\mathbf x}{\\partial u^2}\\cdot\\frac{\\partial\\mathbf x}{\\partial u^2}(du^2)^2  +\\frac{\\partial\\mathbf x}{\\partial u^3}\\cdot\\frac{\\partial\\mathbf x}{\\partial u^3}(du^3)^2 $$\n",
    "   \n",
    "and of course, the $\\frac{\\partial\\mathbf x}{\\partial u^i}$ are the unitary vectors *and these are* the components of the Jacobian matrix of $\\mathbf x$ with respect to $\\mathbf u$ and therefore the dot products are the result of the product defining the metric, $\\mathbf J^T \\mathbf J$ , hence we have that  $\\frac{\\partial\\mathbf x}{\\partial u^i} = h_i \\mathbf e^i $, then the dot product of these vectors with themselves produces $(h_i)^2$, therefore ...\n",
    "   \n",
    "$$ (d\\mathbf x)^2 = (h_1)^2 (du^1)^2+(h_2)^2 (du^2)^2+(h_3)^2 (du^3)^2 $$\n",
    "   \n",
    "and so $h_1 = \\sqrt g_{11} $ for *orthogonal systems*"
   ]
  },
  {
   "cell_type": "markdown",
   "metadata": {},
   "source": [
    "However if the system is not orthogonal, we already know that ...\n",
    "   \n",
    "$$ (d\\mathbf s)^2 = g_{11}\\ (du^1)(du^1)   +g_{22}\\ (du^2)(du^2)  +g_{33}\\ (du^3)(du^3) +2\\ g_{12}\\ (du^1) (du^2)+  2\\  g_{13}\\ (du^1)( du^3) +2\\ g_{23}\\ (du^2) (du^3)$$\n",
    "   \n",
    "where the metric is defined by ...\n",
    "   \n",
    "$$ \\left( \\begin{array}{ccc}\\ g_{11} & g_{12} & g_{13} \\\\ g_{21} & g_{22} & g_{23} \\\\ g_{31} & g_{32} & g_{33} \\end{array} \\right) $$\n",
    "   \n",
    "and the components $g_{ij} = \\frac{\\partial x^i}{\\partial u^j}\\frac{\\partial x^j}{\\partial u^i} $ and $g_{ij} = g_{ji}$\n",
    "   \n",
    "and is symmetric and positive definate, as $\\mathbf G= \\mathbf J^T \\mathbf J = \\frac{\\partial (x^1,x^2,x^3)}{\\partial (u^1, u^2,u^3)} ^T \\frac{\\partial (x^1,x^2,x^3)}{\\partial (u^1, u^2,u^3)} $\n",
    "\n",
    "> Apparently if $\\mathbf g$ is non-Euclidean, then there exists no coordinate system where $G=I$ the identity matrix, and so this approach using Jacobian matrices does not work - proof needed.\n",
    "\n",
    "Supposing $\\mathbf J = \\frac{\\partial \\bar{x}^i}{\\partial x^j}$ where $\\bar{x}^i$ is rectangular, then in $x^j$ the metric equals $\\mathbf J^T \\mathbf J$ but in $\\bar{x}^i$ the metric is the identity matrix. This can be shown above, in the example of spherical coordinates where the inverse metric is not orthogonal (not diagonal) and represents the rectangular space in spherical geometry. This is why we must define a concept called the conjugate metric tensor, that is the *inverse* of the metric tensor of $x^j$ defined as $ (\\mathbf J^T \\mathbf J )^{-1} $  \n",
    "\n",
    "> Note: The metric can also be formed from the scalar triple product $\\frac{\\partial \\mathbf x}{\\partial u^1}\\cdot \\frac{\\partial \\mathbf x}{\\partial u^2}\\times\\frac{\\partial \\mathbf x}{\\partial u^3}$\n",
    "\n",
    "### Transformation of the metric\n",
    "   \n",
    "The metric tensor is covariant, \n",
    "   \n",
    "$$ \\bar{g}_{pq} = g_{jk}\\frac{\\partial  x^j}{\\partial \\bar{x}^p}\\frac{\\partial x^k}{\\partial \\bar{x}^q}$$"
   ]
  },
  {
   "cell_type": "markdown",
   "metadata": {},
   "source": [
    "\n",
    "\n",
    "### Raising and lowering indices\n",
    "   \n",
    "#### definition. The inner product of a contravariant vector and a covariant tensor of 2nd order is a covariant vector. Therefore\n",
    "   \n",
    "$$T_i = g_{ij} T^j $$\n",
    "\n",
    "*defines* the operation of lowering indices of a contravariant vector. Equivalently \n",
    "   \n",
    "$$ T^i = g^{ij}T_j$$\n",
    "\n",
    "where $g^{ij} = (g_{ij})^{-1}$ is the inverse."
   ]
  },
  {
   "cell_type": "markdown",
   "metadata": {},
   "source": [
    "for a contravariant vector, a velocity, in the $x^r$ system, transforms into $u^i$ according to the rule  \n",
    "  \n",
    "  $$ \\frac{\\partial u^i}{\\partial t} = \\frac{\\partial u^i}{\\partial x^r} \\frac{\\partial x^r}{\\partial t}$$\n",
    "    \n",
    "relabelled $T^i = \\frac{\\partial u^i}{\\partial t}$ and $T^r = \\frac{\\partial u^r}{\\partial t}$ then\n",
    "   \n",
    "   $$ T_j = g_{ji}T^i = g_{ji}\\frac{\\partial u^i}{\\partial x^r}T^r $$\n",
    "   \n",
    "as the the sphere, the jacobian is built from the changes of the transformation *to cartesian*, or the partial derivatives of $\\mathbf x=\\mathbf x(u^i)$ to transform the vector *from cartesian* to the curvlinear system $u^i$ \n",
    "and since \n",
    "  $$ g_{ji}= g_{pq}\\frac{\\partial x^p}{\\partial u^j}\\frac{\\partial x^q}{\\partial u^i} $$\n",
    "\n",
    "   our equation becomes\n",
    "   \n",
    "$$ g_{ji}T^i =  \\left(\\frac{\\partial x^j}{\\partial u^i}\\frac{\\partial x^j}{\\partial u^i}\\right)\\frac{\\partial u^i}{\\partial x^r}T^r = \\frac{\\partial x^j}{\\partial u^i}\\left(\\frac{\\partial x^j}{\\partial u^i}\\frac{\\partial u^i}{\\partial x^r}\\right)T^r =  \\frac{\\partial x^j}{\\partial u^i} \\delta^j_r T^r =\\frac{\\partial x^j}{\\partial u^i} T^j = T_i$$\n",
    "   \n",
    "since $\\frac{\\partial x^j}{\\partial x^r} = \\delta^j_r $ and although the indices have changed, this seems to be the lowering of an index operation. It also seems to only work with the consideration of the idea that $g_{ji}=g_{ij}$ and $g_{ij}=0$ if $i\\neq j$. So a quick review of the method of multiplying contravariant vector by a covariant tensor of order 2 reveals ... ( arbitrarily changing the rectangular $x^i$'s to a barred notation to show how they are associated with the Tensors)"
   ]
  },
  {
   "cell_type": "markdown",
   "metadata": {},
   "source": [
    "$$ V_j = (T^i)(g_{ji}) = \\left(\\bar{ T^r } \\frac{\\partial u^i}{\\partial \\bar{x}^r}\\right) \\left(\\bar{g}_{pq}\\frac{\\partial \\bar{x}^p}{\\partial u^j}\\frac{\\partial \\bar{x}^q}{\\partial u^i} \\right) = \\color{red}{\\frac{\\partial u^i}{\\partial \\bar{x}^r}}\\color{blue}{ \\frac{\\partial \\bar{x}^q}{\\partial u^i} }\\color{black}{\\frac{\\partial \\bar{x}^p}{\\partial u^j} \\bar{T}^r \\bar{g}_{pq}} = \\delta_{\\color{red}{r}}^{\\color{blue}{q}}\\color{black}{\\frac{\\partial \\bar{x}^p}{\\partial u^j}} \\color{black}{\\bar{T}}^{\\color{red}{r}} \\color{black}{g}_{p\\color{blue}{q}} = \\color{black}{\\frac{\\partial \\bar{x}^p}{\\partial u^j} (\\bar{V})_{p} }$$"
   ]
  },
  {
   "cell_type": "markdown",
   "metadata": {},
   "source": [
    "what exactly does $\\bar{V}_p$ look like now ? I think its still $\\frac{\\partial x^p}{\\partial t}$, and this would be a contravariant velocity transformed to a covariant velocity - this needs to be checked out. I think the answer is in the use of the Kronecker delta, the $\\delta_r^q$ can cause the product to be $\\bar{T}^r g_{pr}$ , then \n",
    "this would be\n",
    "   \n",
    " $$V_j =\\frac{\\partial \\bar{x}^p}{\\partial u^j}\\bar{T}^r g_{pr} = \\frac{\\partial \\bar{x}^1}{\\partial u^j} (\\bar{T}^r g_{1r} ) + \\frac{\\partial \\bar{x}^2}{\\partial u^j} (\\bar{T}^r g_{2r} ) + \\frac{\\partial \\bar{x}^3}{\\partial u^j} (\\bar{T}^r g_{3r} )$$\n",
    " \n",
    " and so the tensor part is $(\\bar{T}^r g_{ir} ) = \\bar{T}^1 g_{i1} + \\bar{T}^2 g_{i2} + \\bar{T}^3 g_{i3}$ and so again, we ask, what is $\\bar{T}^r$ and clearly its just \n",
    " \n",
    " $$\\bar{T}^r = \\frac{\\partial x^r}{\\partial t}$$"
   ]
  },
  {
   "cell_type": "markdown",
   "metadata": {},
   "source": [
    "### example\n",
    "   \n",
    "Lets take a vector, represented in spherical coordinates, $(\\mathbf e^\\rho, \\mathbf e^\\theta, \\mathbf e^\\phi) = (\\mathbf e^1, \\mathbf e^2, \\mathbf e^3) $ and represent it in barred rectangular coordinates $(\\mathbf i, \\mathbf j,\\mathbf k)=(\\mathbf {\\hat{e}}^1,\\mathbf {\\hat{e}}^2,\\mathbf {\\hat{e}}^3)$ ..."
   ]
  },
  {
   "cell_type": "markdown",
   "metadata": {},
   "source": [
    "lets say, $\\mathbf v = 1.2  \\mathbf e^1 + \\pi 0.5  \\mathbf e^2 + \\pi  \\mathbf e^3 $ and transform this vector ...\n",
    "   \n",
    "$$\\frac{\\partial A^i}{\\partial t} = \\frac{\\partial A^i}{\\partial u^r}\\frac{\\partial u^r}{\\partial t} $$\n",
    "   \n",
    "Now $\\mathbf A$ must be $\\mathbf A = r\\ \\cos\\phi\\ \\sin\\theta\\ \\mathbf {\\hat{e}}^1 + r\\ \\sin\\phi\\ \\sin\\theta\\ \\mathbf {\\hat{e}}^2 + r\\ \\cos\\theta\\ \\mathbf {\\hat{e}}^3$ and for the derivatives of $\\mathbf A$ with respect to the $u$ system I will use the jacobian (J_1) defined as \"The Jacobian of the dx^i/dy^j where x's are cartesian and y's are spherical\". \n",
    "   \n",
    "now I will first compute the derivatives for each $u^i$ ...\n",
    "\n",
    "   $$\\frac{\\partial u^1}{\\partial t} = v^1$$\n",
    "and\n",
    "   $$\\frac{\\partial u^2}{\\partial t} = v^2 $$\n",
    "and\n",
    "   $$\\frac{\\partial u^3}{\\partial t} = v^3 $$\n",
    "\n",
    "now in the code, the $u$ coordinates are labelled $y$ from earlier."
   ]
  },
  {
   "cell_type": "code",
   "execution_count": 28,
   "metadata": {
    "collapsed": false,
    "scrolled": true
   },
   "outputs": [
    {
     "data": {
      "text/latex": [
       "$$\\left[\\begin{matrix}- 3.14159 y_{1} \\sin{\\left (y_{2} \\right )} \\sin{\\left (y_{3} \\right )} + 1.570795 y_{1} \\cos{\\left (y_{2} \\right )} \\cos{\\left (y_{3} \\right )} + 1.2 \\sin{\\left (y_{2} \\right )} \\cos{\\left (y_{3} \\right )}\\\\3.14159 y_{1} \\sin{\\left (y_{2} \\right )} \\cos{\\left (y_{3} \\right )} + 1.570795 y_{1} \\sin{\\left (y_{3} \\right )} \\cos{\\left (y_{2} \\right )} + 1.2 \\sin{\\left (y_{2} \\right )} \\sin{\\left (y_{3} \\right )}\\\\- 1.570795 y_{1} \\sin{\\left (y_{2} \\right )} + 1.2 \\cos{\\left (y_{2} \\right )}\\end{matrix}\\right]$$"
      ],
      "text/plain": [
       "⎡-3.14159⋅y₁⋅sin(y₂)⋅sin(y₃) + 1.570795⋅y₁⋅cos(y₂)⋅cos(y₃) + 1.2⋅sin(y₂)⋅cos(y\n",
       "⎢                                                                             \n",
       "⎢3.14159⋅y₁⋅sin(y₂)⋅cos(y₃) + 1.570795⋅y₁⋅sin(y₃)⋅cos(y₂) + 1.2⋅sin(y₂)⋅sin(y₃\n",
       "⎢                                                                             \n",
       "⎣                      -1.570795⋅y₁⋅sin(y₂) + 1.2⋅cos(y₂)                     \n",
       "\n",
       "₃)⎤\n",
       "  ⎥\n",
       ") ⎥\n",
       "  ⎥\n",
       "  ⎦"
      ]
     },
     "execution_count": 28,
     "metadata": {},
     "output_type": "execute_result"
    }
   ],
   "source": [
    "t = symbols('t')\n",
    "v = Matrix([1.2, 0.5*3.14159,3.14159 ])\n",
    "dAdt = J_1*v\n",
    "dAdt"
   ]
  },
  {
   "cell_type": "code",
   "execution_count": 29,
   "metadata": {
    "collapsed": false
   },
   "outputs": [],
   "source": [
    "# earlier I forgot that the y_1 coordinate is the integral of its velocity - so I integrated these by hand\n",
    "dAdt = dAdt.subs({y_1:1.2*t, y_2:0.5*3.14159*t, y_3:3.14159*t})"
   ]
  },
  {
   "cell_type": "code",
   "execution_count": 30,
   "metadata": {
    "collapsed": false
   },
   "outputs": [
    {
     "data": {
      "image/png": "[encoded data removed]",
      "text/plain": [
       "<matplotlib.figure.Figure at 0xc8a82e8>"
      ]
     },
     "metadata": {},
     "output_type": "display_data"
    }
   ],
   "source": [
    "from sympy import symbols, cos, sin\n",
    "from sympy.plotting import plot3d_parametric_line\n",
    "%matplotlib inline\n",
    "\n",
    "p1 = plot3d_parametric_line(dAdt[0], dAdt[1], dAdt[2], (t, 0, 1.5), show = False)\n",
    "\n",
    "p1.show()"
   ]
  },
  {
   "cell_type": "code",
   "execution_count": 37,
   "metadata": {
    "collapsed": false
   },
   "outputs": [
    {
     "data": {
      "text/latex": [
       "$$\\left[\\begin{matrix}-1.19999999999472\\\\3.18430775202047 \\cdot 10^{-6}\\\\1.59215387601304 \\cdot 10^{-6}\\end{matrix}\\right]$$"
      ],
      "text/plain": [
       "⎡ -1.19999999999472 ⎤\n",
       "⎢                   ⎥\n",
       "⎢3.18430775202047e-6⎥\n",
       "⎢                   ⎥\n",
       "⎣1.59215387601304e-6⎦"
      ]
     },
     "execution_count": 37,
     "metadata": {},
     "output_type": "execute_result"
    }
   ],
   "source": [
    "# nw for the position vector, in spherical coordinates\n",
    "v2 = Matrix([1.2*t, 0.5*3.14159*t,3.14159*t ])\n",
    "A_sph = Matrix([v2[0]*cos(v2[2]) * sin(v2[1]),v2[0]*sin(v2[2]) * sin(v2[1]),v2[0]* cos(v2[1])  ])\n",
    "A_sph"
   ]
  },
  {
   "cell_type": "code",
   "execution_count": 38,
   "metadata": {
    "collapsed": false
   },
   "outputs": [
    {
     "data": {
      "image/png": "[encoded data removed]",
      "text/plain": [
       "<matplotlib.figure.Figure at 0xbad3c88>"
      ]
     },
     "metadata": {},
     "output_type": "display_data"
    }
   ],
   "source": [
    "p1 = plot3d_parametric_line(A_sph[0]+dAdt[0]*t, A_sph[1]+dAdt[1]*t, A_sph[2]+dAdt[2]*t, (t, 0, 20), show = False)\n",
    "\n",
    "p1.show()"
   ]
  },
  {
   "cell_type": "code",
   "execution_count": 49,
   "metadata": {
    "collapsed": false
   },
   "outputs": [
    {
     "name": "stdout",
     "output_type": "stream",
     "text": [
      "Obviously the green arrows don't match, I need to look up equations of motion in polar coords\n"
     ]
    },
    {
     "data": {
      "image/png": "[encoded data removed]",
      "text/plain": [
       "<matplotlib.figure.Figure at 0xc8dc748>"
      ]
     },
     "metadata": {},
     "output_type": "display_data"
    }
   ],
   "source": [
    "import numpy as np\n",
    "import matplotlib.pyplot as plt\n",
    "import matplotlib as mpl\n",
    "%matplotlib inline\n",
    "from mpl_toolkits.mplot3d import Axes3D\n",
    "from matplotlib import cm\n",
    "from matplotlib.patches import FancyArrowPatch\n",
    "from mpl_toolkits.mplot3d import proj3d\n",
    "from matplotlib import pylab\n",
    "from matplotlib.text import Annotation\n",
    "\n",
    "class Annotation3D(Annotation):\n",
    "    '''Annotate the point xyz with text s'''\n",
    "\n",
    "    def __init__(self, s, xyz, *args, **kwargs):\n",
    "        Annotation.__init__(self,s, xy=(0,0), *args, **kwargs)\n",
    "        self._verts3d = xyz        \n",
    "\n",
    "    def draw(self, renderer):\n",
    "        xs3d, ys3d, zs3d = self._verts3d\n",
    "        xs, ys, zs = proj3d.proj_transform(xs3d, ys3d, zs3d, renderer.M)\n",
    "        self.xy=(xs,ys)\n",
    "        Annotation.draw(self, renderer)\n",
    "\n",
    "def annotate3D(ax, s, *args, **kwargs):\n",
    "    '''add anotation text s to to Axes3d ax'''\n",
    "\n",
    "    tag = Annotation3D(s, *args, **kwargs)\n",
    "    ax.add_artist(tag)\n",
    "\n",
    "# http://stackoverflow.com/questions/22867620/putting-arrowheads-on-vectors-in-matplotlibs-3d-plot\n",
    "# posted this fancy arrow object\n",
    "class Arrow3D(FancyArrowPatch):\n",
    "    def __init__(self, xs, ys, zs, *args, **kwargs):\n",
    "        FancyArrowPatch.__init__(self, (0,0), (0,0), *args, **kwargs)\n",
    "        self._verts3d = xs, ys, zs\n",
    "\n",
    "    def draw(self, renderer):\n",
    "        xs3d, ys3d, zs3d = self._verts3d\n",
    "        xs, ys, zs = proj3d.proj_transform(xs3d, ys3d, zs3d, renderer.M)\n",
    "        self.set_positions((xs[0],ys[0]),(xs[1],ys[1]))\n",
    "        FancyArrowPatch.draw(self, renderer)   \n",
    "        \n",
    "def PlotBasisCartesian():\n",
    "    a = Arrow3D([0, 0], [0, 0], [0, 1], mutation_scale=5, lw=2, arrowstyle=\"-|>\", color=\"k\")\n",
    "    ax.add_artist(a)\n",
    "    a = Arrow3D([0, 1], [0, 0], [0, 0], mutation_scale=5, lw=2, arrowstyle=\"-|>\", color=\"k\")\n",
    "    ax.add_artist(a)\n",
    "    a = Arrow3D([0, 0], [0, 1], [0, 0], mutation_scale=5, lw=2, arrowstyle=\"-|>\", color=\"k\")\n",
    "    ax.add_artist(a) \n",
    "    annotate3D(ax, r'$ \\hat{i}$', xyz=(1,0,0), fontsize=10, xytext=(-3,4),\n",
    "               textcoords='offset points', ha='right',va='bottom') \n",
    "    annotate3D(ax, r'$ \\hat{j}$', xyz=(0,1,0), fontsize=10, xytext=(-3,4),\n",
    "               textcoords='offset points', ha='right',va='bottom') \n",
    "    annotate3D(ax, r'$ \\hat{k}$', xyz=(0,0,1), fontsize=10, xytext=(-3,4),\n",
    "                   textcoords='offset points', ha='right',va='bottom') \n",
    "    \n",
    "# requires sympy vector\n",
    "# requires CoordSysCartesian e\n",
    "# requires Arrow3D\n",
    "# requires Annotate3D\n",
    "def plot_arrow(o, v1, e, name,col):\n",
    "        LX=[float(N(o.dot(e.i))), float(N(v1.dot(e.i) + o.dot(e.i)))]\n",
    "        LY=[float(N(o.dot(e.j))), float(N(v1.dot(e.j) + o.dot(e.j)))]\n",
    "        LZ=[float(N(o.dot(e.k))), float(N(v1.dot(e.k) + o.dot(e.k)))]\n",
    "        a = Arrow3D(LX, LY, LZ, mutation_scale=5, lw=2, arrowstyle=\"-|>\", color=col)\n",
    "        ax.add_artist(a)\n",
    "        xyz_ = (LX[1], LY[1], LZ[1])\n",
    "        annotate3D(ax, name, xyz=xyz_, fontsize=17, xytext=(-3,4),\n",
    "               textcoords='offset points', ha='right',va='bottom')\n",
    "\n",
    "# requires plot_arrow\n",
    "def plot_basis(o,v1,v2,v3,e,col):\n",
    "    plot_arrow(o,v1,e,r'$ \\hat{e_1}$',col)\n",
    "    plot_arrow(o,v2,e,r'$ \\hat{e_2}$',col)\n",
    "    plot_arrow(o,v3,e,r'$ \\hat{e_3}$',col)    \n",
    "    \n",
    "# set up some symbols, that don't clash with the numpy variables above\n",
    "phi,theta1, rho1,zz  = symbols('phi,theta1, rho1,zz')\n",
    "\n",
    "# create vector that transforms from cylindrical coordinates to cartesian\n",
    "r = rho1*sin(theta1)*cos(phi)*e.i + rho1*sin(theta1)*sin(phi)*e.j + rho1*cos(theta1)*e.k\n",
    "\n",
    "# differentiate the vector,\n",
    "dr_rho = diff(r,rho1)\n",
    "dr_theta = diff(r,theta1)\n",
    "dr_phi = diff(r,phi)\n",
    "\n",
    "# compute the coordinate vectors,  forming e_1 = (dr/du_1)/|dr/du_1|, etc\n",
    "E1 = dr_rho / dr_rho.magnitude()\n",
    "E2 = dr_theta / dr_theta.magnitude()\n",
    "E3 = dr_phi / dr_phi.magnitude()\n",
    "\n",
    "PI = 3.14159\n",
    "theta_angle = PI/2-PI/12\n",
    "phi_angle = 0\n",
    "radius = 2\n",
    "# add some numbers, keeping the frame for reuse\n",
    "P1 =   r.subs( {rho1:radius, theta1:theta_angle, phi:phi_angle })\n",
    "E1_1 = E1.subs({rho1:radius, theta1:theta_angle, phi:phi_angle })\n",
    "E2_1 = E3.subs({rho1:radius, theta1:theta_angle, phi:phi_angle })\n",
    "E3_1 = E2.subs({rho1:radius, theta1:theta_angle, phi:phi_angle })\n",
    "\n",
    "v = Matrix([1.2, 0.5*3.14159,3.14159 ])\n",
    "dAdt = J_1.T*v\n",
    "#dAdt = dAdt.subs({y_1:1.2*t, y_2:0.5*3.14159*t, y_3:3.14159*t})\n",
    "\n",
    "dUdt_vec = dAdt[0] * e.i + dAdt[1] * e.j + dAdt[2] * e.k\n",
    "A_plus_dAdt = r.subs({rho1:radius, theta1:theta_angle, phi:phi_angle })\n",
    "\n",
    "ep = CoordSysCartesian('ep')\n",
    "\n",
    "dUdt_polar = v[0] * ep.i + v[1] * ep.j + v[2] * ep.k\n",
    "A_plus_dAdt_polar = radius * ep.i + theta_angle * ep.j + phi_angle * ep.k\n",
    "\n",
    "mpl.rcParams['legend.fontsize'] = 10\n",
    "\n",
    "fig = plt.figure(figsize=(8, 8))\n",
    "ax = fig.gca(projection='3d')\n",
    "\n",
    "PlotBasisCartesian()\n",
    "\n",
    "zero_vec = 0*e.i+0*e.j+0*e.k\n",
    "\n",
    "plot_basis(zero_vec, E1_1, E2_1, E3_1, e, \"r\")\n",
    "\n",
    "for it in range(0,400):\n",
    "    prev_vec = A_plus_dAdt \n",
    "    px = prev_vec.magnitude()\n",
    "    ptheta = acos(prev_vec.dot(e.k)/px)\n",
    "    pphi = atan( prev_vec.dot(e.j) / prev_vec.dot(e.i) )\n",
    "    velocity_increment = dUdt_vec.subs({y_1:  v[0],y_2:v[1], y_3:v[2]})\n",
    "    A_plus_dAdt = A_plus_dAdt + velocity_increment *1/10\n",
    "    plot_arrow(prev_vec, A_plus_dAdt-prev_vec, e, \"\",\"r\")\n",
    "    \n",
    "prev_vec = zero_vec\n",
    "for it in range(0,200):\n",
    "    prev_vec = A_plus_dAdt_polar \n",
    "    A_plus_dAdt_polar = A_plus_dAdt_polar + dUdt_polar*1/10\n",
    "    old_vec = r.subs({rho1: prev_vec.dot(ep.i),theta1: prev_vec.dot(ep.j),phi: prev_vec.dot(ep.k)})\n",
    "    new_vec = r.subs({rho1: A_plus_dAdt_polar.dot(ep.i),\n",
    "                      theta1: A_plus_dAdt_polar.dot(ep.j),\n",
    "                      phi: A_plus_dAdt_polar.dot(ep.k)})\n",
    "    #print old_vec\n",
    "    #print A_plus_dAdt_polar\n",
    "    plot_arrow(old_vec, new_vec-old_vec, e, \"\",\"g\")    \n",
    "\n",
    "# draw vertical line from (70,100) to (70, 250)\n",
    "plt.plot([0, 0], [1, 2], 'k-', lw=2)\n",
    "\n",
    "# draw diagonal line from (70, 90) to (90, 200)\n",
    "plt.plot([0, 0], [1, 2], 'k-')\n",
    "\n",
    "ax.set_xlim(-20, 20)\n",
    "ax.set_ylim(-20, 20)\n",
    "ax.set_zlim(-20, 20)\n",
    "\n",
    "print \"Obviously the green arrows don't match, I need to look up equations of motion in polar coords\"\n",
    "plt.show()"
   ]
  },
  {
   "cell_type": "code",
   "execution_count": 16,
   "metadata": {
    "collapsed": false
   },
   "outputs": [
    {
     "name": "stdout",
     "output_type": "stream",
     "text": [
      "Obviously the green arrows don't match, I need to look up equations of motion in polar coords\n"
     ]
    },
    {
     "data": {
      "image/png": "[encoded data removed]",
      "text/plain": [
       "<matplotlib.figure.Figure at 0xc9eaa90>"
      ]
     },
     "metadata": {},
     "output_type": "display_data"
    }
   ],
   "source": [
    "dUdt_vec = dAdt[0] * e.i + dAdt[1] * e.j + dAdt[2] * e.k\n",
    "A_plus_dAdt = r.subs({rho1:radius, theta1:theta_angle, phi:phi_angle })\n",
    "\n",
    "ep = CoordSysCartesian('ep')\n",
    "\n",
    "dUdt_polar = v[0] * ep.i + v[1] * ep.j + v[2] * ep.k\n",
    "A_plus_dAdt_polar = radius * ep.i + theta_angle * ep.j + phi_angle * ep.k\n",
    "\n",
    "mpl.rcParams['legend.fontsize'] = 10\n",
    "\n",
    "fig = plt.figure(figsize=(8, 8))\n",
    "ax = fig.gca(projection='3d')\n",
    "\n",
    "PlotBasisCartesian()\n",
    "\n",
    "zero_vec = 0*e.i+0*e.j+0*e.k\n",
    "\n",
    "plot_basis(zero_vec, E1_1, E2_1, E3_1, e, \"r\")\n",
    "\n",
    "for it in range(0,400):\n",
    "    prev_vec = A_plus_dAdt \n",
    "    px = prev_vec.magnitude()\n",
    "    ptheta = acos(prev_vec.dot(e.k)/px)\n",
    "    pphi = atan( prev_vec.dot(e.j) / prev_vec.dot(e.i) )\n",
    "    velocity_increment = dUdt_vec.subs({y_1: px,y_2:ptheta, y_3:pphi})\n",
    "    A_plus_dAdt = A_plus_dAdt + velocity_increment * 1/10\n",
    "    plot_arrow(prev_vec, A_plus_dAdt-prev_vec, e, \"\",\"r\")\n",
    "    \n",
    "prev_vec = zero_vec\n",
    "for it in range(0,200):\n",
    "    prev_vec = A_plus_dAdt_polar \n",
    "    A_plus_dAdt_polar = A_plus_dAdt_polar + dUdt_polar*1/10\n",
    "    old_vec = r.subs({rho1: prev_vec.dot(ep.i),theta1: prev_vec.dot(ep.j),phi: prev_vec.dot(ep.k)})\n",
    "    new_vec = r.subs({rho1: A_plus_dAdt_polar.dot(ep.i),\n",
    "                      theta1: A_plus_dAdt_polar.dot(ep.j),\n",
    "                      phi: A_plus_dAdt_polar.dot(ep.k)})\n",
    "    #print old_vec\n",
    "    #print A_plus_dAdt_polar\n",
    "    plot_arrow(old_vec, new_vec-old_vec, e, \"\",\"g\")    \n",
    "\n",
    "# draw vertical line from (70,100) to (70, 250)\n",
    "plt.plot([0, 0], [1, 2], 'k-', lw=2)\n",
    "\n",
    "# draw diagonal line from (70, 90) to (90, 200)\n",
    "plt.plot([0, 0], [1, 2], 'k-')\n",
    "\n",
    "ax.set_xlim(-20, 20)\n",
    "ax.set_ylim(-20, 20)\n",
    "ax.set_zlim(-20, 20)\n",
    "\n",
    "print \"Obviously the green arrows don't match, I need to look up equations of motion in polar coords\"\n",
    "plt.show()"
   ]
  },
  {
   "cell_type": "code",
   "execution_count": null,
   "metadata": {
    "collapsed": true
   },
   "outputs": [],
   "source": []
  },
  {
   "cell_type": "markdown",
   "metadata": {},
   "source": [
    "So, clearly in the diagram, consistently updating a vector with the contravariant velocity (converted from polar coordinates) $  x = x_0 + v(t)\\ t $, does in fact show a space curve (red). However the amusing part is the green arrows are all the same equation in spherical coordinates then converted to cartesian, the difference is that the spherical coordinate equation updates the angles independant of the radius - I need to look this up.\n",
    "\n",
    "> The plot above does require a lot of extra code, however these code definitions can be useful to get a more precise understanding of tensor's in differential geometry and physics, unfortunately I can't make a package that would be visible on github."
   ]
  },
  {
   "cell_type": "markdown",
   "metadata": {},
   "source": [
    "### Velocity in curvlinear coordinates\n",
    "   \n",
    "If $\\mathbf r = y^1\\mathbf i +y^2\\mathbf j+y^3\\mathbf k$ is a vector in rectangular coordinates then  $\\mathbf v = \\frac{d \\mathbf r}{dt} = \\dot{y}^1\\mathbf i +\\dot{y}^2\\mathbf j + \\dot{y}^3\\mathbf k$ and $\\mathbf a = \\frac{d\\mathbf v}{dt} =\\frac{d^2\\mathbf r}{dt^2}=\\ddot{y}^1\\mathbf i +\\ddot{y}^2\\mathbf j + \\ddot{y}^3\\mathbf k$ so to eypress these in spherical coordinates the transform to cartesian is eypressed as\n",
    "   \n",
    "$$\\mathbf r = \\rho\\ \\cos\\phi\\ \\sin\\theta\\ \\mathbf i + \\rho\\ \\sin\\phi\\ \\sin\\theta\\ \\mathbf j + \\rho\\ \\cos\\theta\\ \\mathbf k=y^1\\ \\cos (y^3)\\ \\sin (y^2)\\ \\mathbf i + y^1\\ \\sin (y^3)\\ \\sin (y^2)\\ \\mathbf j + y^1\\ \\cos (y^2)\\ \\mathbf k$$\n",
    "\n",
    "and so \n",
    "\n",
    "$$ \\mathbf i =  \\sin(y_2) \\cos(y_3)\\ \\mathbf e_1 +  \\cos(y_2) \\cos(y_3)\\ \\mathbf e_2 - sin(y_2) \\sin(y_3) \\mathbf e_3 $$\n",
    "and\n",
    "$$ \\mathbf j =  \\sin(y_2) \\sin(y_3)\\ \\mathbf e_1 +  \\cos(y_2) \\sin(y_3)\\ \\mathbf e_2 + sin(y_2) \\cos(y_3) \\mathbf e_3 $$\n",
    "and\n",
    "$$ \\mathbf k =   \\cos(y_2)\\ \\mathbf e_1 -  \\sin(y_2) \\mathbf e_2  $$\n",
    "\n"
   ]
  },
  {
   "cell_type": "markdown",
   "metadata": {},
   "source": [
    "$$\\mathbf r =y^1\\ \\cos (y^3)\\ \\sin (y^2)\\ (\\sin(y_2) \\cos(y_3)\\ \\mathbf e_1 +  \\cos(y_2) \\cos(y_3)\\ \\mathbf e_2 - sin(y_2) \\sin(y_3) \\mathbf e_3) + y^1\\ \\sin (y^3)\\ \\sin (y^2)\\ (\\sin(y_2) \\sin(y_3)\\ \\mathbf e_1 +  \\cos(y_2) \\sin(y_3)\\ \\mathbf e_2 + sin(y_2) \\cos(y_3) \\mathbf e_3) + y^1\\ \\cos (y^2)\\ (\\cos(y_2)\\ \\mathbf e_1 -  \\sin(y_2) \\mathbf e_2)$$"
   ]
  },
  {
   "cell_type": "markdown",
   "metadata": {},
   "source": [
    "$$\\mathbf r = y^1 c_3 s_2 ( s_2 c_3\\mathbf e_1 + c_2 c_3 \\mathbf e_2 - s_2 s_3 \\mathbf e_3) + y^1 s_3 s_2( s_2 s_3 \\mathbf e_1 + c_2 s_3 \\mathbf e_2 + s_2 c_3 \\mathbf e_3) + y^1 c_2 (c_2 \\mathbf e_1 - s_2 \\mathbf e_2)$$\n",
    "\n",
    "and this expands to\n",
    "\n"
   ]
  },
  {
   "cell_type": "markdown",
   "metadata": {},
   "source": [
    "$$ \\mathbf r =  y^1 c_3 s_2 s_2 c_3\\mathbf e_1 + y^1 c_3 s_2 c_2 c_3 \\mathbf e_2 - y^1 c_3 s_2 s_2 s_3 \\mathbf e_3) + (y^1 s_3 s_2 s_2 s_3 \\mathbf e_1 + y^1 s_3 s_2 c_2 s_3 \\mathbf e_2 + y^1 s_3 s_2 s_2 c_3 \\mathbf e_3) +  (y^1 c_2 c_2 \\mathbf e_1 - y^1 c_2 s_2 \\mathbf e_2)$$"
   ]
  },
  {
   "cell_type": "markdown",
   "metadata": {},
   "source": [
    "$$ \\mathbf r =  (y^1 c_3 s_2 s_2 c_3 +y^1 s_3 s_2 s_2 s_3 +y^1 c_2 c_2) \\mathbf e_1+ ( y^1 c_3 s_2 c_2 c_3  + y^1 s_3 s_2 c_2 s_3 - y^1 c_2 s_2) \\mathbf e_2  + (y^1 s_3 s_2 s_2 c_3- y^1 c_3 s_2 s_2 s_3) \\mathbf e_3 $$"
   ]
  },
  {
   "cell_type": "markdown",
   "metadata": {},
   "source": [
    "$$ \\mathbf r =  y^1( (c_3)^2 (s_2)^2 + (s_2)^2 (s_3)^2 + (c_2)^2) \\mathbf e_1+ y^1(  (c_3)^2 s_2 c_2  +  (s_3)^2 s_2 c_2 -  c_2 s_2) \\mathbf e_2  $$"
   ]
  },
  {
   "cell_type": "markdown",
   "metadata": {},
   "source": [
    "$$\\mathbf r = y^1 \\mathbf e_1 = y^1(t) \\mathbf e_1(t) $$"
   ]
  },
  {
   "cell_type": "markdown",
   "metadata": {},
   "source": [
    "$$\\mathbf v = \\frac{d\\mathbf r}{dt} =\\frac{d y^1}{dt}\\mathbf e_1(t) + y^1 \\frac{d\\mathbf e_1}{dt}$$\n",
    "and acceleration\n",
    "$$\\mathbf a =\\frac{d^2\\mathbf r}{dt^2} = \\frac{d^2 y^1}{dt^2}\\mathbf e_1(t)+2 \\frac{d y^1}{dt}\\frac{d \\mathbf e_1}{dt} + y^1 \\frac{d^2\\mathbf e_1}{dt^2}$$"
   ]
  },
  {
   "cell_type": "markdown",
   "metadata": {},
   "source": [
    "from differential geometry (surfaces notebook) the $\\mathbf {i,j,k}$ expressed in terms of the $\\mathbf e_i$ vectors can be read off the jacobian rows, and divided by the magnitude of the row. \n"
   ]
  },
  {
   "cell_type": "markdown",
   "metadata": {},
   "source": [
    "$$\\mathbf e_1 = s_2 c_3 \\mathbf i + s_2 s_3 \\mathbf j + c_2 \\mathbf k$$\n",
    "and\n",
    "$$\\mathbf e_2 = c_2 c_3 \\mathbf i + c_2 s_3 \\mathbf j - s_2 \\mathbf k$$\n",
    "and\n",
    "$$\\mathbf e_3 = - s_3 \\mathbf i +  c_3 \\mathbf j $$\n",
    "\n",
    "so\n",
    "\n",
    "$$\\frac{d \\mathbf e_1}{dt} = \\left( \\frac{d s_2}{dt}c_3 + s_2 \\frac{d c_3}{dt}  \\right)\\mathbf i +  \\left(\\frac{d s_2}{dt}s_3 + s_2\\frac{d s_3}{dt} \\right)\\mathbf j + \\left( - s_2 \\dot{y}^2 \\right)\\mathbf k $$"
   ]
  },
  {
   "cell_type": "markdown",
   "metadata": {},
   "source": [
    "$$\\left( \\dot{y}^2 c_2 c_3 - \\dot{y}^3 s_2  s_3   \\right)\\mathbf i +  \\left( c_2 \\dot{y}^2 s_3 + s_2 c_3\\dot{y}^3 \\right)\\mathbf j + \\left( - s_2 \\dot{y}^2 \\right)\\mathbf k $$ \n",
    "\n",
    "(the implication is implied) and this happens to be $\\dot{\\mathbf {e}}_1 = \\dot{y}^2 \\mathbf e_2 + s_2 \\dot{y}^3 \\mathbf e_3 $ (as the collected terms appear above)."
   ]
  },
  {
   "cell_type": "markdown",
   "metadata": {},
   "source": [
    "$$\\frac{d\\mathbf e_2}{dt} = \\left( -\\dot{y} ^2 s_2 c_3 - \\dot{y}^3 c_2 s_3\\right)\\mathbf i + \\left( -\\dot{y}^2 s_2 s_3 + \\dot{y}^3 c_2 c_3 \\right) \\mathbf j - \\dot{y}^2 c_2 \\mathbf k$$"
   ]
  },
  {
   "cell_type": "markdown",
   "metadata": {},
   "source": [
    "$$\\frac{d\\mathbf e_3}{dt} = -\\dot{y}^3 c_3  \\mathbf i -  \\dot{y}^3  s_3 \\mathbf j$$"
   ]
  },
  {
   "cell_type": "markdown",
   "metadata": {},
   "source": [
    "I also have that the acceleration due to the changing velocity can be represented in terms of the tangent, normal, and binormal. $\\mathbf v = v \\mathbf T $ where $\\mathbf T$ is the unit tangent vector. Then $\\mathbf a = \\dot{v}\\mathbf T + v \\frac{d\\mathbf T}{ds} \\frac{ds}{dt}$, and $s$ is the arc length parameter, $v=\\frac{ds}{dt}$ and $\\frac{d\\mathbf T}{ds} = \\kappa \\mathbf N$ then $\\mathbf a = \\dot{v} \\mathbf T + \\kappa v^2 \\mathbf N $"
   ]
  },
  {
   "cell_type": "markdown",
   "metadata": {},
   "source": [
    "taking $\\mathbf v = \\rho \\mathbf e_\\rho + \\theta \\mathbf e_\\theta + \\phi \\mathbf e_\\phi $ and in this system $\\mathbf r = \\mathbf v\\ t + \\mathbf r_0 $ where t is time and $\\mathbf r_0$ is initial position, taken to be zero, then\n",
    "\n",
    "$$ x^1 = \\rho t \\sin( \\theta t)\\ \\cos(\\phi t), \\quad x^2 = \\rho t \\sin( \\theta t)\\ \\sin(\\phi t), \\quad x^3 = \\rho t \\cos(\\theta t) $$\n",
    "   \n",
    "### ?"
   ]
  },
  {
   "cell_type": "markdown",
   "metadata": {},
   "source": [
    "### Note ... in the math below there is an inconsistency in notation, the y coordinates sometimes have lower indices, these are left over from earlier copied and pasted latex - to be fixed later.\n",
    "   \n",
    "> Note there is a problem with Sympy's latex printer in the case of trying to print superscript indicies raised to a power, i.e. $(y^1)^2$ is not output correctly and causes the latex printer to crash.\n",
    "\n",
    "From the above definitions of velocity, (of course the dot above the symbol denotes differentiation with respect to time).\n",
    "\n",
    "$$\\mathbf v = \\frac{d\\mathbf r}{dt} = \\dot{y}^1 \\mathbf e_1(t) + y^1(t) \\dot{\\mathbf {e}}_1 $$\n",
    "\n",
    "and the new expressions for $\\dot{\\mathbf e}_1=\\frac{d\\mathbf e_1}{dt}$ the substitution can be made ... \n",
    "\n",
    "$$\\mathbf v = \\frac{d\\mathbf r}{dt} =\\dot{y}^1(s_2 c_3 \\mathbf i + s_2 s_3 \\mathbf j + c_2 \\mathbf k) + y^1 (\\left( \\dot{y}^2 c_2 c_3 - \\dot{y}^3 s_2  s_3   \\right)\\mathbf i +  \\left( c_2 \\dot{y}^2 s_3 + s_2 c_3\\dot{y}^3 \\right)\\mathbf j + \\left( - s_2 \\dot{y}^2 \\right)\\mathbf k)$$\n",
    "so simplifying\n",
    "\n",
    "$$\\mathbf v =  ( \\dot{y}^1 s_2 c_3 +y^1 \\dot{y}^2 c_2 c_3 - y^1 \\dot{y}^3 s_2  s_3 ) \\mathbf i + (\\dot{y}^1 s_2 s_3+y^1 c_2 \\dot{y}^2 s_3 + y^1 s_2 c_3\\dot{y}^3) \\mathbf j + (\\dot{y}^1 c_2- s_2 y^1 \\dot{y}^2) \\mathbf k $$\n",
    "\n",
    "Therefore we have the differential equations ...\n",
    "   \n",
    "$$ \\dot{x}^1 = \\dot{y}^1 s_2 c_3 +y^1 \\dot{y}^2 c_2 c_3 - y^1 \\dot{y}^3 s_2  s_3 $$\n",
    "\n",
    "and\n",
    "   \n",
    "$$\\dot{x}^2 = \\dot{y}^1 s_2 s_3+y^1 c_2 \\dot{y}^2 s_3 + y^1 s_2 c_3\\dot{y}^3 $$\n",
    "\n",
    "and\n",
    "\n",
    "$$ \\dot{x}^3 = \\dot{y}^1 c_2- s_2 y^1 \\dot{y}^2 $$\n",
    "   \n",
    "And I'm sure some of them might contain coriolis forces and centrifugal forces, for example.\n"
   ]
  },
  {
   "cell_type": "code",
   "execution_count": 18,
   "metadata": {
    "collapsed": false
   },
   "outputs": [
    {
     "data": {
      "image/png": "[encoded data removed]",
      "text/latex": [
       "$$\\left \\{ i : \\frac{1}{y_{1}} \\left(e_{1} y_{1} \\sin{\\left (y_{2} \\right )} \\cos{\\left (y_{3} \\right )} + e_{2} \\sqrt{y_{1}^{2}} \\cos{\\left (y_{2} \\right )} \\cos{\\left (y_{3} \\right )} - \\frac{e_{3} \\sqrt{y_{1}^{2} \\sin^{2}{\\left (y_{2} \\right )}}}{\\sin{\\left (y_{2} \\right )}} \\sin{\\left (y_{3} \\right )}\\right), \\quad j : \\frac{1}{y_{1}} \\left(e_{1} y_{1} \\sin{\\left (y_{2} \\right )} \\sin{\\left (y_{3} \\right )} + e_{2} \\sqrt{y_{1}^{2}} \\sin{\\left (y_{3} \\right )} \\cos{\\left (y_{2} \\right )} + \\frac{e_{3} \\sqrt{y_{1}^{2} \\sin^{2}{\\left (y_{2} \\right )}}}{\\sin{\\left (y_{2} \\right )}} \\cos{\\left (y_{3} \\right )}\\right), \\quad k : e_{1} \\cos{\\left (y_{2} \\right )} - \\frac{e_{2} \\sqrt{y_{1}^{2}}}{y_{1}} \\sin{\\left (y_{2} \\right )}\\right \\}$$"
      ],
      "text/plain": [
       "⎧                                                               ______________\n",
       "⎪                                 _____                        ╱   2    2     \n",
       "⎪                                ╱   2                    e₃⋅╲╱  y₁ ⋅sin (y₂) \n",
       "⎨   e₁⋅y₁⋅sin(y₂)⋅cos(y₃) + e₂⋅╲╱  y₁  ⋅cos(y₂)⋅cos(y₃) - ────────────────────\n",
       "⎪                                                                   sin(y₂)   \n",
       "⎪i: ──────────────────────────────────────────────────────────────────────────\n",
       "⎩                                           y₁                                \n",
       "\n",
       "                                                                         _____\n",
       "                                           _____                        ╱   2 \n",
       "⋅sin(y₃)                                  ╱   2                    e₃⋅╲╱  y₁ ⋅\n",
       "────────     e₁⋅y₁⋅sin(y₂)⋅sin(y₃) + e₂⋅╲╱  y₁  ⋅sin(y₃)⋅cos(y₂) + ───────────\n",
       "                                                                             s\n",
       "────────, j: ─────────────────────────────────────────────────────────────────\n",
       "                                                     y₁                       \n",
       "\n",
       "_________                                             ⎫\n",
       "   2                                                  ⎪\n",
       "sin (y₂) ⋅cos(y₃)                        _____        ⎪\n",
       "─────────────────                       ╱   2         ⎬\n",
       "in(y₂)                             e₂⋅╲╱  y₁  ⋅sin(y₂)⎪\n",
       "─────────────────, k: e₁⋅cos(y₂) - ───────────────────⎪\n",
       "                                            y₁        ⎭"
      ]
     },
     "execution_count": 18,
     "metadata": {},
     "output_type": "execute_result"
    }
   ],
   "source": [
    "# simple procedure to extract the unit ijk in terms of the e_i vectors by solving the linear system\n",
    "e_1,e_2,e_3, i,j,k = symbols('e_1,e_2,e_3, i,j,k')\n",
    "\n",
    "expr1 = simplify((J_1[0,0]*i + J_1[1,0]*j + J_1[2,0]*k)/sqrt(J_1[0,0]*J_1[0,0] + J_1[1,0]*J_1[1,0] + J_1[2,0]*J_1[2,0]))\n",
    "expr2 = simplify((J_1[0,1]*i + J_1[1,1]*j + J_1[2,1]*k)/sqrt(J_1[0,1]*J_1[0,1] + J_1[1,1]*J_1[1,1] + J_1[2,1]*J_1[2,1]))\n",
    "expr3 = simplify((J_1[0,2]*i + J_1[1,2]*j + J_1[2,2]*k)/sqrt(J_1[0,2]*J_1[0,2] + J_1[1,2]*J_1[1,2] + J_1[2,2]*J_1[2,2]))\n",
    "ijk = simplify(solve([Eq(expr1, e_1), \n",
    "       Eq(expr2, e_2),\n",
    "       Eq(expr3, e_3)], [i,j,k]))\n",
    "ijk"
   ]
  },
  {
   "cell_type": "code",
   "execution_count": 55,
   "metadata": {
    "collapsed": false
   },
   "outputs": [
    {
     "data": {
      "text/latex": [
       "$$\\left[\\begin{matrix}1 & 0 & 0\\\\0 & y_{1}^{2} & 0\\\\0 & 0 & y_{1}^{2} \\sin^{2}{\\left (y_{2} \\right )}\\end{matrix}\\right]$$"
      ],
      "text/plain": [
       "⎡1   0        0      ⎤\n",
       "⎢                    ⎥\n",
       "⎢     2              ⎥\n",
       "⎢0  y₁        0      ⎥\n",
       "⎢                    ⎥\n",
       "⎢          2    2    ⎥\n",
       "⎣0   0   y₁ ⋅sin (y₂)⎦"
      ]
     },
     "execution_count": 55,
     "metadata": {},
     "output_type": "execute_result"
    }
   ],
   "source": [
    "# reprinting the metric for spherical coordinates\n",
    "(simplify(J_1.T * J_1))"
   ]
  },
  {
   "cell_type": "code",
   "execution_count": 56,
   "metadata": {
    "collapsed": false
   },
   "outputs": [
    {
     "data": {
      "text/latex": [
       "$$\\left[\\begin{matrix}1 & 0 & 0\\\\0 & \\frac{1}{y_{1}^{2}} & 0\\\\0 & 0 & \\frac{1}{y_{1}^{2} \\sin^{2}{\\left (y_{2} \\right )}}\\end{matrix}\\right]$$"
      ],
      "text/plain": [
       "⎡1   0        0      ⎤\n",
       "⎢                    ⎥\n",
       "⎢    1               ⎥\n",
       "⎢0  ───       0      ⎥\n",
       "⎢     2              ⎥\n",
       "⎢   y₁               ⎥\n",
       "⎢                    ⎥\n",
       "⎢             1      ⎥\n",
       "⎢0   0   ────────────⎥\n",
       "⎢          2    2    ⎥\n",
       "⎣        y₁ ⋅sin (y₂)⎦"
      ]
     },
     "execution_count": 56,
     "metadata": {},
     "output_type": "execute_result"
    }
   ],
   "source": [
    "# the inverse metric, or the raised indices metric for spherical coordinates\n",
    "simplify(J_1.T * J_1).inverse_ADJ()"
   ]
  },
  {
   "cell_type": "code",
   "execution_count": 57,
   "metadata": {
    "collapsed": false
   },
   "outputs": [
    {
     "name": "stdout",
     "output_type": "stream",
     "text": [
      "The apparent covariant velocity in spherical coordinates\n"
     ]
    },
    {
     "data": {
      "text/latex": [
       "$$\\left[\\begin{matrix}1.2\\\\2.2619448 t^{2}\\\\4.5238896 t^{2} \\sin^{2}{\\left (1.570795 t \\right )}\\end{matrix}\\right]$$"
      ],
      "text/plain": [
       "⎡             1.2             ⎤\n",
       "⎢                             ⎥\n",
       "⎢                   2         ⎥\n",
       "⎢        2.2619448⋅t          ⎥\n",
       "⎢                             ⎥\n",
       "⎢           2    2            ⎥\n",
       "⎣4.5238896⋅t ⋅sin (1.570795⋅t)⎦"
      ]
     },
     "execution_count": 57,
     "metadata": {},
     "output_type": "execute_result"
    }
   ],
   "source": [
    "# transform the original velocity by the metric to get the \n",
    "# covariant matrix : the original velocity is in spherical coordinates, so the covariant \n",
    "# velocity is in spherical coordinates\n",
    "dUdt_cov = simplify( J_1.T*J_1) * v\n",
    "dUdt_cov = dUdt_cov.subs({y_1:1.2*t, y_2:0.5*3.14159*t, y_3:3.14159*t})\n",
    "\n",
    "# make a vector of coordinates for convenience (this is x_1, x_2, x_3) with each of the \n",
    "# spherical velocity components integrated wrt time.\n",
    "V = Matrix([v[0]*t*cos(v[2]*t)*sin(v[1]*t),v[0]*t*sin(v[1]*t)*sin(v[2]*t),v[0]*t*cos(v[1]*t)])\n",
    "\n",
    "# multiply the covariant velocity by the inverse transpose of the transform Jacobian \n",
    "# to retrieve the same cartesian velocity vector as the contravariant case\n",
    "dAdt_cov2 = simplify(J_1.inverse_ADJ().T)*dUdt_cov\n",
    "dAdt_cov2 = dAdt_cov2.subs({y_1:v[0]*t, y_2:v[1]*t, y_3:v[2]*t}) \n",
    "\n",
    "# it does not have to be the inverse transpose ??? very confusing\n",
    "dAdt_cov = simplify(J_1.inverse_ADJ())*dUdt_cov\n",
    "dAdt_cov = dAdt_cov2.subs({y_1:v[0]*t, y_2:v[1]*t, y_3:v[2]*t}) \n",
    "\n",
    "# this should do the same thing ?\n",
    "#dAdt_cov = simplify(J_2).subs({x_1:V[0], x_2:V[1], x_3:V[2]}) *dUdt_cov \n",
    "\n",
    "p1 = plot3d_parametric_line(dAdt[0], dAdt[1], dAdt[2], (t, 0, 15.5), show=False)\n",
    "p1.extend(plot3d_parametric_line(dAdt_cov [0], dAdt_cov [1], dAdt_cov [2], (t, 0.1, 5.5), show=False, line_color = 'r') )\n",
    "p1.extend(plot3d_parametric_line(dAdt_cov2 [0], dAdt_cov2 [1], dAdt_cov2 [2], (t, 0.1, 5.5), show=False, line_color = 'g') )\n",
    "\n",
    "print \"The apparent covariant velocity in spherical coordinates\"\n",
    "dUdt_cov"
   ]
  },
  {
   "cell_type": "code",
   "execution_count": 63,
   "metadata": {
    "collapsed": false
   },
   "outputs": [
    {
     "data": {
      "text/latex": [
       "$$\\left[\\begin{matrix}a_{1} \\sin{\\left (y_{2} \\right )} \\cos{\\left (y_{3} \\right )} + a_{2} y_{1} \\cos{\\left (y_{2} \\right )} \\cos{\\left (y_{3} \\right )} - a_{3} y_{1} \\sin{\\left (y_{2} \\right )} \\sin{\\left (y_{3} \\right )}\\\\a_{1} \\sin{\\left (y_{2} \\right )} \\sin{\\left (y_{3} \\right )} + a_{2} y_{1} \\sin{\\left (y_{3} \\right )} \\cos{\\left (y_{2} \\right )} + a_{3} y_{1} \\sin{\\left (y_{2} \\right )} \\cos{\\left (y_{3} \\right )}\\\\a_{1} \\cos{\\left (y_{2} \\right )} - a_{2} y_{1} \\sin{\\left (y_{2} \\right )}\\end{matrix}\\right]$$"
      ],
      "text/plain": [
       "⎡a₁⋅sin(y₂)⋅cos(y₃) + a₂⋅y₁⋅cos(y₂)⋅cos(y₃) - a₃⋅y₁⋅sin(y₂)⋅sin(y₃)⎤\n",
       "⎢                                                                  ⎥\n",
       "⎢a₁⋅sin(y₂)⋅sin(y₃) + a₂⋅y₁⋅sin(y₃)⋅cos(y₂) + a₃⋅y₁⋅sin(y₂)⋅cos(y₃)⎥\n",
       "⎢                                                                  ⎥\n",
       "⎣                    a₁⋅cos(y₂) - a₂⋅y₁⋅sin(y₂)                    ⎦"
      ]
     },
     "execution_count": 63,
     "metadata": {},
     "output_type": "execute_result"
    }
   ],
   "source": [
    "# what does the contravariant velocity look like symbolically?\n",
    "a_1,a_2,a_3 = symbols('a_1,a_2,a_3')\n",
    "v2 = Matrix([a_1,a_2,a_3])\n",
    "dAdt_2 = J_1 * v2\n",
    "dAdt_2\n",
    "# velocity in the cartesian coordinates"
   ]
  },
  {
   "cell_type": "code",
   "execution_count": 64,
   "metadata": {
    "collapsed": false
   },
   "outputs": [
    {
     "data": {
      "text/latex": [
       "$$\\left[\\begin{matrix}a_{1}\\\\a_{2}\\\\a_{3}\\end{matrix}\\right]$$"
      ],
      "text/plain": [
       "⎡a₁⎤\n",
       "⎢  ⎥\n",
       "⎢a₂⎥\n",
       "⎢  ⎥\n",
       "⎣a₃⎦"
      ]
     },
     "execution_count": 64,
     "metadata": {},
     "output_type": "execute_result"
    }
   ],
   "source": [
    "# and this contravariant velocity in the spherical coordinates\n",
    "v2"
   ]
  },
  {
   "cell_type": "code",
   "execution_count": 65,
   "metadata": {
    "collapsed": false
   },
   "outputs": [
    {
     "data": {
      "text/latex": [
       "$$\\left[\\begin{matrix}a_{1}\\\\a_{2} y_{1}^{2}\\\\a_{3} y_{1}^{2} \\sin^{2}{\\left (y_{2} \\right )}\\end{matrix}\\right]$$"
      ],
      "text/plain": [
       "⎡      a₁       ⎤\n",
       "⎢               ⎥\n",
       "⎢         2     ⎥\n",
       "⎢    a₂⋅y₁      ⎥\n",
       "⎢               ⎥\n",
       "⎢     2    2    ⎥\n",
       "⎣a₃⋅y₁ ⋅sin (y₂)⎦"
      ]
     },
     "execution_count": 65,
     "metadata": {},
     "output_type": "execute_result"
    }
   ],
   "source": [
    "# covariant velocity in the spherical coordinates\n",
    "dUdt_cov = simplify( J_1.T*J_1) * v2\n",
    "dUdt_cov"
   ]
  },
  {
   "cell_type": "code",
   "execution_count": 66,
   "metadata": {
    "collapsed": false
   },
   "outputs": [
    {
     "data": {
      "text/latex": [
       "$$\\left[\\begin{matrix}a_{1} \\sin{\\left (y_{2} \\right )} \\cos{\\left (y_{3} \\right )} + a_{2} y_{1} \\cos{\\left (y_{2} \\right )} \\cos{\\left (y_{3} \\right )} - a_{3} y_{1} \\sin{\\left (y_{2} \\right )} \\sin{\\left (y_{3} \\right )}\\\\a_{1} \\sin{\\left (y_{2} \\right )} \\sin{\\left (y_{3} \\right )} + a_{2} y_{1} \\sin{\\left (y_{3} \\right )} \\cos{\\left (y_{2} \\right )} + a_{3} y_{1} \\sin{\\left (y_{2} \\right )} \\cos{\\left (y_{3} \\right )}\\\\a_{1} \\cos{\\left (y_{2} \\right )} - a_{2} y_{1} \\sin{\\left (y_{2} \\right )}\\end{matrix}\\right]$$"
      ],
      "text/plain": [
       "⎡a₁⋅sin(y₂)⋅cos(y₃) + a₂⋅y₁⋅cos(y₂)⋅cos(y₃) - a₃⋅y₁⋅sin(y₂)⋅sin(y₃)⎤\n",
       "⎢                                                                  ⎥\n",
       "⎢a₁⋅sin(y₂)⋅sin(y₃) + a₂⋅y₁⋅sin(y₃)⋅cos(y₂) + a₃⋅y₁⋅sin(y₂)⋅cos(y₃)⎥\n",
       "⎢                                                                  ⎥\n",
       "⎣                    a₁⋅cos(y₂) - a₂⋅y₁⋅sin(y₂)                    ⎦"
      ]
     },
     "execution_count": 66,
     "metadata": {},
     "output_type": "execute_result"
    }
   ],
   "source": [
    "dAdt_cov2 = simplify(J_1.inverse_ADJ().T)*dUdt_cov\n",
    "dAdt_cov2\n",
    "# and we recover the vector in cartesian coordinates - because the J_1.T inverse cancels J_1.T"
   ]
  },
  {
   "cell_type": "markdown",
   "metadata": {},
   "source": [
    "Comparison with the above derivation with $\\dot{\\mathbf{y}} = \\left( \\dot{y}^1,\\dot{y}^2,\\dot{y}^3\\right) = \\left(a_1, a_2, a_3\\right)$ ... $\\sin(y^2) = s_2,\\ \\cos(y^2) = c_2 $ etc from above ( and of course ignoring the notation inconsistency with the subscript and superscript notation - this time - it becomes important later).\n",
    "\n",
    "   \n",
    "$$ \\dot{x}^1 = \\dot{y}^1 s_2 c_3 +y^1 \\dot{y}^2 c_2 c_3 - y^1 \\dot{y}^3 s_2  s_3 $$\n",
    "\n",
    "and\n",
    "   \n",
    "$$\\dot{x}^2 = \\dot{y}^1 s_2 s_3+y^1 c_2 \\dot{y}^2 s_3 + y^1 s_2 c_3\\dot{y}^3 $$\n",
    "\n",
    "and\n",
    "\n",
    "$$ \\dot{x}^3 = \\dot{y}^1 c_2- s_2 y^1 \\dot{y}^2 $$"
   ]
  },
  {
   "cell_type": "markdown",
   "metadata": {},
   "source": [
    "### So I am confident that the tensor is correct, I am just not sure how to plot it.\n",
    "   \n",
    "> To plot this space curve given the velocity in spherical coordinates and arbitrary starting point, I will need the\n",
    "*absolute derivative*, defined later, because the curve contains acceleration as the velocity direction is always changing."
   ]
  },
  {
   "cell_type": "code",
   "execution_count": 117,
   "metadata": {
    "collapsed": false
   },
   "outputs": [
    {
     "data": {
      "text/latex": [
       "$$\\left[\\begin{matrix}a_{1} \\sin{\\left (y^{2} \\right )} \\cos{\\left (y^{3} \\right )} + a_{2} y_{1}^{2} \\sin{\\left (y^{2} \\right )} \\sin{\\left (y^{3} \\right )} + a_{3} y_{1}^{2} \\sin^{2}{\\left (y_{2} \\right )} \\cos{\\left (y^{2} \\right )}\\\\\\frac{a_{1}}{y^{1}} \\cos{\\left (y^{2} \\right )} \\cos{\\left (y^{3} \\right )} + \\frac{a_{2} y_{1}^{2}}{y^{1}} \\sin{\\left (y^{3} \\right )} \\cos{\\left (y^{2} \\right )} - \\frac{a_{3} y_{1}^{2}}{y^{1}} \\sin^{2}{\\left (y_{2} \\right )} \\sin{\\left (y^{2} \\right )}\\\\- \\frac{a_{1} \\sin{\\left (y^{3} \\right )}}{y^{1} \\sin{\\left (y^{2} \\right )}} + \\frac{a_{2} y_{1}^{2} \\cos{\\left (y^{3} \\right )}}{y^{1} \\sin{\\left (y^{2} \\right )}}\\end{matrix}\\right]$$"
      ],
      "text/plain": [
       "⎡                          2                        2    2            ⎤\n",
       "⎢a₁⋅sin(y²)⋅cos(y³) + a₂⋅y₁ ⋅sin(y²)⋅sin(y³) + a₃⋅y₁ ⋅sin (y₂)⋅cos(y²)⎥\n",
       "⎢                                                                     ⎥\n",
       "⎢                          2                        2    2            ⎥\n",
       "⎢a₁⋅cos(y²)⋅cos(y³)   a₂⋅y₁ ⋅sin(y³)⋅cos(y²)   a₃⋅y₁ ⋅sin (y₂)⋅sin(y²)⎥\n",
       "⎢────────────────── + ────────────────────── - ───────────────────────⎥\n",
       "⎢        y¹                     y¹                        y¹          ⎥\n",
       "⎢                                                                     ⎥\n",
       "⎢                                        2                            ⎥\n",
       "⎢                      a₁⋅sin(y³)   a₂⋅y₁ ⋅cos(y³)                    ⎥\n",
       "⎢                    - ────────── + ──────────────                    ⎥\n",
       "⎣                      y¹⋅sin(y²)     y¹⋅sin(y²)                      ⎦"
      ]
     },
     "execution_count": 117,
     "metadata": {},
     "output_type": "execute_result"
    }
   ],
   "source": [
    "simplify(J_1.inverse_ADJ())*dUdt_cov\n",
    "## logic ... dadt = (J) v\n",
    "## so        dadt = (J^T)^(-1)(J^T)(J) v\n",
    "## if (J^T)(J) v = v_cov\n",
    "## then     dadt = (J^T)^(-1) v_cov\n",
    "\n",
    "# I can't remember why I did this, however it might be interesting or useful."
   ]
  },
  {
   "cell_type": "markdown",
   "metadata": {},
   "source": [
    "Clearly if an expression is of the form $\\frac{\\partial x^j}{\\partial y^i} $ when i is the free index, the \n",
    "free index denotes the row of the Jacobian matrix, hence its a transposed matrix.\n"
   ]
  },
  {
   "cell_type": "markdown",
   "metadata": {},
   "source": [
    "### Example: Visualizing and Transforming a potential\n",
    "   \n",
    "A potential is given by $\\Phi = \\frac{C}{r} = \\frac{C}{\\sqrt{(x^1)^2 + (x^2)^2 +(x^3)^2}}$ where C is a constant.\n",
    "   \n",
    "> note: $\\sin(\\omega t)$ has *continuous* derivatives and is of class $C^{\\infty}$, i.e see electric potential, continuous time derivatives of force (mass*acceleration) etc.\n",
    "   \n",
    "$$\\nabla \\Phi = \\frac{\\partial \\Phi}{\\partial x^i}\\mathbf e^i $$\n",
    "   \n",
    "now the derivatives are ...\n",
    "   \n",
    "$$ \\frac{\\partial \\Phi}{\\partial x^i} = - \\frac{C\\ x^i }{\\left((x^1)^2 + (x^2)^2 +(x^3)^2\\right)^{3/2}} = - \\frac{C\\ x^i }{r^{3}}$$\n",
    "   \n",
    "since substituting $q = (x^1)^2 + (x^2)^2 +(x^3)^2$, then use the chain rule $\\Phi_q q_{x^i}$\n",
    "   \n",
    "\n"
   ]
  },
  {
   "cell_type": "markdown",
   "metadata": {},
   "source": [
    "to express $\\nabla \\Phi$ in the $y$ coordinate system ...\n",
    "   \n",
    "$$\\frac{\\partial \\Phi}{\\partial y^i} =\\frac{\\partial \\Phi}{\\partial x^j}\\frac{\\partial x^j}{\\partial y^i} $$\n",
    "   \n"
   ]
  },
  {
   "cell_type": "markdown",
   "metadata": {},
   "source": [
    "\n",
    "using the Jacobian matrix computed earlier (J_1) we need to multiply the vector $[\\frac{\\partial \\Phi}{\\partial x^i} ]$ by the *transpose* of this Jacobian. (or transpose the vector and pre-multiply). "
   ]
  },
  {
   "cell_type": "markdown",
   "metadata": {},
   "source": [
    "The required matrix is ...\n",
    "   \n",
    "$$ \\mathbf J^T =\\left[\\begin{matrix}\\sin{\\left (y_{2} \\right )} \\cos{\\left (y_{3} \\right )} & \\sin{\\left (y_{2} \\right )} \\sin{\\left (y_{3} \\right )} & \\cos{\\left (y_{2} \\right )}\\\\y_{1} \\cos{\\left (y_{2} \\right )} \\cos{\\left (y_{3} \\right )} & y_{1} \\sin{\\left (y_{3} \\right )} \\cos{\\left (y_{2} \\right )} & - y_{1} \\sin{\\left (y_{2} \\right )}\\\\- y_{1} \\sin{\\left (y_{2} \\right )} \\sin{\\left (y_{3} \\right )} & y_{1} \\sin{\\left (y_{2} \\right )} \\cos{\\left (y_{3} \\right )} & 0\\end{matrix}\\right]$$\n",
    "\n",
    "and so ... \n",
    "\n",
    "$$ \\frac{\\partial \\Phi}{\\partial y^i} = \\mathbf J^T_{i1} \\frac{\\partial \\Phi}{\\partial x^1} + \\mathbf J^T_{i2} \\frac{\\partial \\Phi}{\\partial x^2}  +\\mathbf J^T_{i3} \\frac{\\partial \\Phi}{\\partial x^3} $$\n",
    "\n",
    "for each i.\n"
   ]
  },
  {
   "cell_type": "code",
   "execution_count": 69,
   "metadata": {
    "collapsed": false
   },
   "outputs": [
    {
     "data": {
      "text/latex": [
       "$$\\left[\\begin{matrix}f_{1} \\sin{\\left (y_{2} \\right )} \\cos{\\left (y_{3} \\right )} + f_{2} \\sin{\\left (y_{2} \\right )} \\sin{\\left (y_{3} \\right )} + f_{3} \\cos{\\left (y_{2} \\right )}\\\\f_{1} y_{1} \\cos{\\left (y_{2} \\right )} \\cos{\\left (y_{3} \\right )} + f_{2} y_{1} \\sin{\\left (y_{3} \\right )} \\cos{\\left (y_{2} \\right )} - f_{3} y_{1} \\sin{\\left (y_{2} \\right )}\\\\- f_{1} y_{1} \\sin{\\left (y_{2} \\right )} \\sin{\\left (y_{3} \\right )} + f_{2} y_{1} \\sin{\\left (y_{2} \\right )} \\cos{\\left (y_{3} \\right )}\\end{matrix}\\right]$$"
      ],
      "text/plain": [
       "⎡    f₁⋅sin(y₂)⋅cos(y₃) + f₂⋅sin(y₂)⋅sin(y₃) + f₃⋅cos(y₂)     ⎤\n",
       "⎢                                                             ⎥\n",
       "⎢f₁⋅y₁⋅cos(y₂)⋅cos(y₃) + f₂⋅y₁⋅sin(y₃)⋅cos(y₂) - f₃⋅y₁⋅sin(y₂)⎥\n",
       "⎢                                                             ⎥\n",
       "⎣       -f₁⋅y₁⋅sin(y₂)⋅sin(y₃) + f₂⋅y₁⋅sin(y₂)⋅cos(y₃)        ⎦"
      ]
     },
     "execution_count": 69,
     "metadata": {},
     "output_type": "execute_result"
    }
   ],
   "source": [
    "f_1,f_2,f_3=symbols('f_1,f_2,f_3')\n",
    "grad_phi = Matrix([f_1,f_2,f_3])\n",
    "grad_phi_cov_y=J_1.T * grad_phi\n",
    "grad_phi_cov_y"
   ]
  },
  {
   "cell_type": "markdown",
   "metadata": {},
   "source": [
    "The vector above is the gradient of $\\Phi$ in the y coordinate system, transformed from the x coordinate system. \n"
   ]
  },
  {
   "cell_type": "markdown",
   "metadata": {},
   "source": [
    "Then apparently the contravariant coefficients of the gradient in spherical coordinates are..."
   ]
  },
  {
   "cell_type": "code",
   "execution_count": 70,
   "metadata": {
    "collapsed": false
   },
   "outputs": [],
   "source": [
    "grad_phi_cont_y = (J_1.T * J_1).inverse_ADJ() *grad_phi_cov_y"
   ]
  },
  {
   "cell_type": "code",
   "execution_count": 71,
   "metadata": {
    "collapsed": false
   },
   "outputs": [
    {
     "data": {
      "text/latex": [
       "$$\\left[\\begin{matrix}f_{1} \\sin{\\left (y_{2} \\right )} \\cos{\\left (y_{3} \\right )} + f_{2} \\sin{\\left (y_{2} \\right )} \\sin{\\left (y_{3} \\right )} + f_{3} \\cos{\\left (y_{2} \\right )}\\\\\\frac{1}{y_{1}} \\left(f_{1} \\cos{\\left (y_{2} \\right )} \\cos{\\left (y_{3} \\right )} + f_{2} \\sin{\\left (y_{3} \\right )} \\cos{\\left (y_{2} \\right )} - f_{3} \\sin{\\left (y_{2} \\right )}\\right)\\\\\\frac{1}{y_{1} \\sin{\\left (y_{2} \\right )}} \\left(- f_{1} \\sin{\\left (y_{3} \\right )} + f_{2} \\cos{\\left (y_{3} \\right )}\\right)\\end{matrix}\\right]$$"
      ],
      "text/plain": [
       "⎡f₁⋅sin(y₂)⋅cos(y₃) + f₂⋅sin(y₂)⋅sin(y₃) + f₃⋅cos(y₂)⎤\n",
       "⎢                                                    ⎥\n",
       "⎢f₁⋅cos(y₂)⋅cos(y₃) + f₂⋅sin(y₃)⋅cos(y₂) - f₃⋅sin(y₂)⎥\n",
       "⎢────────────────────────────────────────────────────⎥\n",
       "⎢                         y₁                         ⎥\n",
       "⎢                                                    ⎥\n",
       "⎢              -f₁⋅sin(y₃) + f₂⋅cos(y₃)              ⎥\n",
       "⎢              ────────────────────────              ⎥\n",
       "⎣                     y₁⋅sin(y₂)                     ⎦"
      ]
     },
     "execution_count": 71,
     "metadata": {},
     "output_type": "execute_result"
    }
   ],
   "source": [
    "grad_phi_cont_y = simplify(grad_phi_cont_y)\n",
    "grad_phi_cont_y"
   ]
  },
  {
   "cell_type": "code",
   "execution_count": 72,
   "metadata": {
    "collapsed": false
   },
   "outputs": [
    {
     "data": {
      "text/latex": [
       "$$\\left[\\begin{matrix}f_{1}^{2} + f_{2}^{2} + f_{3}^{2}\\end{matrix}\\right]$$"
      ],
      "text/plain": [
       "⎡  2     2     2⎤\n",
       "⎣f₁  + f₂  + f₃ ⎦"
      ]
     },
     "execution_count": 72,
     "metadata": {},
     "output_type": "execute_result"
    }
   ],
   "source": [
    "simplify(grad_phi_cont_y.T*grad_phi_cov_y)"
   ]
  },
  {
   "cell_type": "markdown",
   "metadata": {},
   "source": [
    "Here we have resolved a fundamental theoretical problem ... the dot product of the contravariant components (in the y system) with the covariant components (in the y system) reveals the invariant dot product, the same as the dot product of the covariant components in the x system. I assume, for the moment, that the two components are equivalent in the x system because the metric of the cartesian system is the identity matrix.\n",
    "\n",
    "In this way it becomes clear that the curvilinear systems are embedded in the euclidean system.\n",
    "\n",
    "> All tensors obtained from forming inner products with the metric are called *associated tensors*.\n",
    "   \n",
    "The length of a vector $\\mathbf x_p$ is ...\n",
    "   \n",
    "$$ s = \\sqrt{ \\mathbf x^p \\mathbf x_p }=\\sqrt{ g^{pq} \\mathbf x_p \\mathbf x_q } = \\sqrt{ g_{pq} \\mathbf x^p \\mathbf x^q } $$\n",
    "   \n",
    "The angle between two vectors, $\\mathbf a^p$ and $\\mathbf b_p$ is\n",
    "   \n",
    "$$\\theta = \\text{acos} \\left( \\frac{ \\mathbf a^p \\mathbf b_p }{\\sqrt{(\\mathbf a^p \\mathbf a_p)(\\mathbf b^p \\mathbf b_p)}}\\right) $$\n",
    "   \n",
    "### Physical components\n",
    "   \n",
    "For a vector $\\mathbf A^q$  in orthogonal coordinates these are \n",
    "   \n",
    "$$ A_{u_1} = \\sqrt{g_{11}} A^1 = \\frac{A_1}{\\sqrt{g_{11}}}, \\quad A_{u_2} = \\sqrt{g_{22}} A^2 = \\frac{A_2}{\\sqrt{g_{22}}}, \\quad A_{u_3} = \\sqrt{g_{33}} A^3 = \\frac{A_3}{\\sqrt{g_{33}}} $$\n",
    "\n",
    "and are the projections of the vector on the tangents of the coordinate curves. For a 2nd order tensor \n",
    "   \n",
    "$$ A_{u_{pq}} = \\sqrt{g_{pp} g_{qq}} A^{pq} = \\frac{A_{pq}}{\\sqrt{g_{pp} g_{qq}}} $$"
   ]
  },
  {
   "cell_type": "markdown",
   "metadata": {},
   "source": [
    "### Derivative of a Tensor.\n",
    "   \n",
    "In a general coordinate system $x^i$ the covariant derivative with respect to $x^r$ is \n",
    "   \n",
    "$$\\nabla_r \\mathbf T_i = \\frac{\\partial \\mathbf T_i}{\\partial x^r} - \\Gamma^p_{ir} \\mathbf T_p $$\n",
    "   \n",
    "This is a tensor with covariant order 2. The quantity $\\Gamma^p_{ir}$ is a Christoffel symbol of the 2nd kind, and these are defined in terms of the Christoffel symbols of the first kind (by convention) \n",
    "   \n",
    "$$\\Gamma^p_{ir} = g^{pq}\\Gamma_{irq}$$\n",
    "   \n",
    "And the Christoffel symbols of the first kind are defined in terms of the metric...\n",
    "   \n",
    "$$\\Gamma_{abc} = \\frac{1}{2} \\left( \\frac{\\partial g_{bc}}{\\partial x^a}+\\frac{\\partial g_{ca}}{\\partial x^b}-\\frac{\\partial g_{ab}}{\\partial x^c}\\right)$$\n",
    "\n",
    "   Therefore the Christoffel symbols vanish if the metric has constant components (i.e no derivatives)."
   ]
  },
  {
   "cell_type": "markdown",
   "metadata": {},
   "source": [
    "#### Theoretical background\n",
    "   \n",
    "The covariant derivative was derived from the fact that the ordinary derivative of a covariant tensor was not a tensor, and in fact required a correction term."
   ]
  },
  {
   "cell_type": "markdown",
   "metadata": {},
   "source": [
    "### Covariant derivative of a contravariant vector.\n",
    "   \n",
    "$$\\nabla_r \\mathbf T^i = \\frac{\\partial \\mathbf T^i}{\\partial x^r} + \\Gamma^i_{qr} \\mathbf T^q$$\n",
    "   \n",
    "> note: the difference here between this and the Covariant derivative of a covariant vector is that the free index, i, is in the superscript of the Christoffel symbol and in the former, a subscript."
   ]
  },
  {
   "cell_type": "markdown",
   "metadata": {},
   "source": [
    "### Rules\n",
    "\n",
    "Covariant differentiation is a linear operator, therefore \n",
    "   \n",
    "1) $ \\nabla_r (\\mathbf U + \\mathbf V) = \\nabla_r \\mathbf U + \\nabla_r \\mathbf V$ \n",
    "   \n",
    "2) outer product $\\nabla_r[\\mathbf U  \\mathbf V] = [\\nabla_r\\mathbf U \\mathbf V]+ [\\mathbf U\\nabla_r \\mathbf V]$\n",
    "   \n",
    "3) inner product $\\nabla_r(\\mathbf U\\mathbf V)=(\\nabla_r\\mathbf U \\mathbf V)+ (\\mathbf U\\nabla_r \\mathbf V)$"
   ]
  },
  {
   "cell_type": "code",
   "execution_count": 73,
   "metadata": {
    "collapsed": true
   },
   "outputs": [],
   "source": [
    "def christoffel_symbol_1(G, a, b, c, X):\n",
    "    return (S(1)/2)*(diff(G[b,c],X[a]) +diff(G[c,a],X[b])-diff(G[a,b],X[c]))\n",
    "    "
   ]
  },
  {
   "cell_type": "code",
   "execution_count": 74,
   "metadata": {
    "collapsed": true
   },
   "outputs": [],
   "source": [
    "metric_spherical = J_1.T * J_1"
   ]
  },
  {
   "cell_type": "code",
   "execution_count": 75,
   "metadata": {
    "collapsed": true
   },
   "outputs": [],
   "source": [
    "X = Matrix([y_1, y_2, y_3])"
   ]
  },
  {
   "cell_type": "code",
   "execution_count": 76,
   "metadata": {
    "collapsed": false,
    "scrolled": true
   },
   "outputs": [
    {
     "data": {
      "text/latex": [
       "$$\\left[\\begin{matrix}i & j & k & \\Gamma_{ijk}\\\\1 & 1 & 1 & 0\\\\2 & 1 & 1 & 0\\\\3 & 1 & 1 & 0\\\\1 & 2 & 1 & 0\\\\2 & 2 & 1 & - y_{1}\\\\3 & 2 & 1 & 0\\\\1 & 3 & 1 & 0\\\\2 & 3 & 1 & 0\\\\3 & 3 & 1 & - y_{1} \\sin^{2}{\\left (y_{2} \\right )}\\\\1 & 1 & 2 & 0\\\\2 & 1 & 2 & y_{1}\\\\3 & 1 & 2 & 0\\\\1 & 2 & 2 & y_{1}\\\\2 & 2 & 2 & 0\\\\3 & 2 & 2 & 0\\\\1 & 3 & 2 & 0\\\\2 & 3 & 2 & 0\\\\3 & 3 & 2 & - \\frac{y_{1}^{2}}{2} \\sin{\\left (2 y_{2} \\right )}\\\\1 & 1 & 3 & 0\\\\2 & 1 & 3 & 0\\\\3 & 1 & 3 & y_{1} \\sin^{2}{\\left (y_{2} \\right )}\\\\1 & 2 & 3 & 0\\\\2 & 2 & 3 & 0\\\\3 & 2 & 3 & \\frac{y_{1}^{2}}{2} \\sin{\\left (2 y_{2} \\right )}\\\\1 & 3 & 3 & y_{1} \\sin^{2}{\\left (y_{2} \\right )}\\\\2 & 3 & 3 & \\frac{y_{1}^{2}}{2} \\sin{\\left (2 y_{2} \\right )}\\\\3 & 3 & 3 & 0\\end{matrix}\\right]$$"
      ],
      "text/plain": [
       "⎡i  j  k       Γ_ijk     ⎤\n",
       "⎢                        ⎥\n",
       "⎢1  1  1         0       ⎥\n",
       "⎢                        ⎥\n",
       "⎢2  1  1         0       ⎥\n",
       "⎢                        ⎥\n",
       "⎢3  1  1         0       ⎥\n",
       "⎢                        ⎥\n",
       "⎢1  2  1         0       ⎥\n",
       "⎢                        ⎥\n",
       "⎢2  2  1        -y₁      ⎥\n",
       "⎢                        ⎥\n",
       "⎢3  2  1         0       ⎥\n",
       "⎢                        ⎥\n",
       "⎢1  3  1         0       ⎥\n",
       "⎢                        ⎥\n",
       "⎢2  3  1         0       ⎥\n",
       "⎢                        ⎥\n",
       "⎢                 2      ⎥\n",
       "⎢3  3  1   -y₁⋅sin (y₂)  ⎥\n",
       "⎢                        ⎥\n",
       "⎢1  1  2         0       ⎥\n",
       "⎢                        ⎥\n",
       "⎢2  1  2        y₁       ⎥\n",
       "⎢                        ⎥\n",
       "⎢3  1  2         0       ⎥\n",
       "⎢                        ⎥\n",
       "⎢1  2  2        y₁       ⎥\n",
       "⎢                        ⎥\n",
       "⎢2  2  2         0       ⎥\n",
       "⎢                        ⎥\n",
       "⎢3  2  2         0       ⎥\n",
       "⎢                        ⎥\n",
       "⎢1  3  2         0       ⎥\n",
       "⎢                        ⎥\n",
       "⎢2  3  2         0       ⎥\n",
       "⎢                        ⎥\n",
       "⎢            2           ⎥\n",
       "⎢         -y₁ ⋅sin(2⋅y₂) ⎥\n",
       "⎢3  3  2  ───────────────⎥\n",
       "⎢                2       ⎥\n",
       "⎢                        ⎥\n",
       "⎢1  1  3         0       ⎥\n",
       "⎢                        ⎥\n",
       "⎢2  1  3         0       ⎥\n",
       "⎢                        ⎥\n",
       "⎢                 2      ⎥\n",
       "⎢3  1  3    y₁⋅sin (y₂)  ⎥\n",
       "⎢                        ⎥\n",
       "⎢1  2  3         0       ⎥\n",
       "⎢                        ⎥\n",
       "⎢2  2  3         0       ⎥\n",
       "⎢                        ⎥\n",
       "⎢            2           ⎥\n",
       "⎢          y₁ ⋅sin(2⋅y₂) ⎥\n",
       "⎢3  2  3   ───────────── ⎥\n",
       "⎢                2       ⎥\n",
       "⎢                        ⎥\n",
       "⎢                 2      ⎥\n",
       "⎢1  3  3    y₁⋅sin (y₂)  ⎥\n",
       "⎢                        ⎥\n",
       "⎢            2           ⎥\n",
       "⎢          y₁ ⋅sin(2⋅y₂) ⎥\n",
       "⎢2  3  3   ───────────── ⎥\n",
       "⎢                2       ⎥\n",
       "⎢                        ⎥\n",
       "⎣3  3  3         0       ⎦"
      ]
     },
     "execution_count": 76,
     "metadata": {},
     "output_type": "execute_result"
    }
   ],
   "source": [
    "from sympy.matrices import *\n",
    "m = zeros(28,4)\n",
    "i,j,k,Gamma_ijk = symbols('i,j,k,Gamma_ijk')\n",
    "m[0,0]=i\n",
    "m[0,1]=j\n",
    "m[0,2]=k\n",
    "m[0,3]=Gamma_ijk\n",
    "## and to print them out you might have to unravel pythons mysteries too ...\n",
    "for a in range(0,3):\n",
    "    for b in range(0,3):\n",
    "        for c in range(0,3):\n",
    "            # puts this in matrix form with fancy text and indexing \n",
    "            m[(c*3 + b)*3 + a + 1,3]= simplify(christoffel_symbol_1(metric_spherical, a, b, c, X))\n",
    "            m[(c*3 + b)*3 + a + 1,0]=a+1\n",
    "            m[(c*3 + b)*3 + a + 1,1]=b+1\n",
    "            m[(c*3 + b)*3 + a + 1,2]=c+1\n",
    "m"
   ]
  },
  {
   "cell_type": "code",
   "execution_count": 77,
   "metadata": {
    "collapsed": false
   },
   "outputs": [
    {
     "data": {
      "image/png": "[encoded data removed]",
      "text/latex": [
       "$$- y_{1} \\sin^{2}{\\left (y_{2} \\right )}$$"
      ],
      "text/plain": [
       "       2    \n",
       "-y₁⋅sin (y₂)"
      ]
     },
     "execution_count": 77,
     "metadata": {},
     "output_type": "execute_result"
    }
   ],
   "source": [
    "def christoffel_symbol_2(G, p, a, b, X):\n",
    "    output = 0\n",
    "    G_inv = G.inverse_ADJ()\n",
    "    for c in range(0,3):\n",
    "        output += G_inv[p,c]*(S(1)/2)*(diff(G[b,c],X[a]) +diff(G[c,a],X[b])-diff(G[a,b],X[c]))\n",
    "    return output\n",
    "\n",
    "simplify(christoffel_symbol_2(metric_spherical, 0, 2, 2, X))"
   ]
  },
  {
   "cell_type": "code",
   "execution_count": 78,
   "metadata": {
    "collapsed": false
   },
   "outputs": [
    {
     "data": {
      "text/latex": [
       "$$\\left[\\begin{matrix}i & j & k & \\Gamma^{i}_{jk}\\\\1 & 1 & 1 & 0\\\\2 & 1 & 1 & 0\\\\3 & 1 & 1 & 0\\\\1 & 2 & 1 & 0\\\\2 & 2 & 1 & \\frac{1}{y_{1}}\\\\3 & 2 & 1 & 0\\\\1 & 3 & 1 & 0\\\\2 & 3 & 1 & 0\\\\3 & 3 & 1 & \\frac{1}{y_{1}}\\\\1 & 1 & 2 & 0\\\\2 & 1 & 2 & \\frac{1}{y_{1}}\\\\3 & 1 & 2 & 0\\\\1 & 2 & 2 & - y_{1}\\\\2 & 2 & 2 & 0\\\\3 & 2 & 2 & 0\\\\1 & 3 & 2 & 0\\\\2 & 3 & 2 & 0\\\\3 & 3 & 2 & \\frac{1}{\\tan{\\left (y_{2} \\right )}}\\\\1 & 1 & 3 & 0\\\\2 & 1 & 3 & 0\\\\3 & 1 & 3 & \\frac{1}{y_{1}}\\\\1 & 2 & 3 & 0\\\\2 & 2 & 3 & 0\\\\3 & 2 & 3 & \\frac{1}{\\tan{\\left (y_{2} \\right )}}\\\\1 & 3 & 3 & - y_{1} \\sin^{2}{\\left (y_{2} \\right )}\\\\2 & 3 & 3 & - \\frac{1}{2} \\sin{\\left (2 y_{2} \\right )}\\\\3 & 3 & 3 & 0\\end{matrix}\\right]$$"
      ],
      "text/plain": [
       "⎡i  j  k    Γ_jk__i   ⎤\n",
       "⎢                     ⎥\n",
       "⎢1  1  1       0      ⎥\n",
       "⎢                     ⎥\n",
       "⎢2  1  1       0      ⎥\n",
       "⎢                     ⎥\n",
       "⎢3  1  1       0      ⎥\n",
       "⎢                     ⎥\n",
       "⎢1  2  1       0      ⎥\n",
       "⎢                     ⎥\n",
       "⎢              1      ⎥\n",
       "⎢2  2  1       ──     ⎥\n",
       "⎢              y₁     ⎥\n",
       "⎢                     ⎥\n",
       "⎢3  2  1       0      ⎥\n",
       "⎢                     ⎥\n",
       "⎢1  3  1       0      ⎥\n",
       "⎢                     ⎥\n",
       "⎢2  3  1       0      ⎥\n",
       "⎢                     ⎥\n",
       "⎢              1      ⎥\n",
       "⎢3  3  1       ──     ⎥\n",
       "⎢              y₁     ⎥\n",
       "⎢                     ⎥\n",
       "⎢1  1  2       0      ⎥\n",
       "⎢                     ⎥\n",
       "⎢              1      ⎥\n",
       "⎢2  1  2       ──     ⎥\n",
       "⎢              y₁     ⎥\n",
       "⎢                     ⎥\n",
       "⎢3  1  2       0      ⎥\n",
       "⎢                     ⎥\n",
       "⎢1  2  2      -y₁     ⎥\n",
       "⎢                     ⎥\n",
       "⎢2  2  2       0      ⎥\n",
       "⎢                     ⎥\n",
       "⎢3  2  2       0      ⎥\n",
       "⎢                     ⎥\n",
       "⎢1  3  2       0      ⎥\n",
       "⎢                     ⎥\n",
       "⎢2  3  2       0      ⎥\n",
       "⎢                     ⎥\n",
       "⎢              1      ⎥\n",
       "⎢3  3  2    ───────   ⎥\n",
       "⎢           tan(y₂)   ⎥\n",
       "⎢                     ⎥\n",
       "⎢1  1  3       0      ⎥\n",
       "⎢                     ⎥\n",
       "⎢2  1  3       0      ⎥\n",
       "⎢                     ⎥\n",
       "⎢              1      ⎥\n",
       "⎢3  1  3       ──     ⎥\n",
       "⎢              y₁     ⎥\n",
       "⎢                     ⎥\n",
       "⎢1  2  3       0      ⎥\n",
       "⎢                     ⎥\n",
       "⎢2  2  3       0      ⎥\n",
       "⎢                     ⎥\n",
       "⎢              1      ⎥\n",
       "⎢3  2  3    ───────   ⎥\n",
       "⎢           tan(y₂)   ⎥\n",
       "⎢                     ⎥\n",
       "⎢                2    ⎥\n",
       "⎢1  3  3  -y₁⋅sin (y₂)⎥\n",
       "⎢                     ⎥\n",
       "⎢         -sin(2⋅y₂)  ⎥\n",
       "⎢2  3  3  ─────────── ⎥\n",
       "⎢              2      ⎥\n",
       "⎢                     ⎥\n",
       "⎣3  3  3       0      ⎦"
      ]
     },
     "execution_count": 78,
     "metadata": {},
     "output_type": "execute_result"
    }
   ],
   "source": [
    "m = zeros(28,4)\n",
    "i,j,k,Gamma_ijk = symbols('i,j,k,Gamma__i_jk')\n",
    "m[0,0]=i\n",
    "m[0,1]=j\n",
    "m[0,2]=k\n",
    "m[0,3]=Gamma_ijk\n",
    "## and to print them out you might have to unravel pythons mysteries too ...\n",
    "for a in range(0,3):\n",
    "    for b in range(0,3):\n",
    "        for c in range(0,3):\n",
    "            # puts this in matrix form with fancy text and indexing  \n",
    "            m[(c*3 + b)*3 + a + 1,3]= simplify(christoffel_symbol_2(metric_spherical, a, b, c, X))\n",
    "            m[(c*3 + b)*3 + a + 1,0]=a+1\n",
    "            m[(c*3 + b)*3 + a + 1,1]=b+1\n",
    "            m[(c*3 + b)*3 + a + 1,2]=c+1\n",
    "m"
   ]
  },
  {
   "cell_type": "code",
   "execution_count": 79,
   "metadata": {
    "collapsed": false
   },
   "outputs": [
    {
     "data": {
      "text/latex": [
       "$$\\left[\\begin{matrix}0 & 0 & 0\\\\0 & - y_{1} & 0\\\\0 & 0 & - y_{1} \\sin^{2}{\\left (y_{2} \\right )}\\end{matrix}\\right]$$"
      ],
      "text/plain": [
       "⎡0   0        0      ⎤\n",
       "⎢                    ⎥\n",
       "⎢0  -y₁       0      ⎥\n",
       "⎢                    ⎥\n",
       "⎢               2    ⎥\n",
       "⎣0   0   -y₁⋅sin (y₂)⎦"
      ]
     },
     "execution_count": 79,
     "metadata": {},
     "output_type": "execute_result"
    }
   ],
   "source": [
    "# alternative way of viewing Christoffel symbols of the 2nd kind\n",
    "metric_spherical = G_xy # defined above\n",
    "X = Matrix([y_1,y_2,y_3])\n",
    "gamma2 = []\n",
    "gamma2.append(zeros(3,3))\n",
    "gamma2.append(zeros(3,3))\n",
    "gamma2.append(zeros(3,3))\n",
    "for a in range(0,3):\n",
    "    for b in range(0,3):\n",
    "        for c in range(0,3):\n",
    "            # puts this in matrix form with fancy text and indexing  \n",
    "            gamma2[a][b,c] = simplify(christoffel_symbol_2(metric_spherical, a, b, c, X))\n",
    "            \n",
    "gamma2[0]"
   ]
  },
  {
   "cell_type": "code",
   "execution_count": 80,
   "metadata": {
    "collapsed": false
   },
   "outputs": [
    {
     "data": {
      "text/latex": [
       "$$\\left[\\begin{matrix}0 & \\frac{1}{y_{1}} & 0\\\\\\frac{1}{y_{1}} & 0 & 0\\\\0 & 0 & - \\frac{1}{2} \\sin{\\left (2 y_{2} \\right )}\\end{matrix}\\right]$$"
      ],
      "text/plain": [
       "⎡    1              ⎤\n",
       "⎢0   ──       0     ⎥\n",
       "⎢    y₁             ⎥\n",
       "⎢                   ⎥\n",
       "⎢1                  ⎥\n",
       "⎢──  0        0     ⎥\n",
       "⎢y₁                 ⎥\n",
       "⎢                   ⎥\n",
       "⎢        -sin(2⋅y₂) ⎥\n",
       "⎢0   0   ───────────⎥\n",
       "⎣             2     ⎦"
      ]
     },
     "execution_count": 80,
     "metadata": {},
     "output_type": "execute_result"
    }
   ],
   "source": [
    "gamma2[1]"
   ]
  },
  {
   "cell_type": "code",
   "execution_count": 81,
   "metadata": {
    "collapsed": false
   },
   "outputs": [
    {
     "data": {
      "text/latex": [
       "$$\\left[\\begin{matrix}0 & 0 & \\frac{1}{y_{1}}\\\\0 & 0 & \\frac{1}{\\tan{\\left (y_{2} \\right )}}\\\\\\frac{1}{y_{1}} & \\frac{1}{\\tan{\\left (y_{2} \\right )}} & 0\\end{matrix}\\right]$$"
      ],
      "text/plain": [
       "⎡               1    ⎤\n",
       "⎢0      0       ──   ⎥\n",
       "⎢               y₁   ⎥\n",
       "⎢                    ⎥\n",
       "⎢                1   ⎥\n",
       "⎢0      0     ───────⎥\n",
       "⎢             tan(y₂)⎥\n",
       "⎢                    ⎥\n",
       "⎢1      1            ⎥\n",
       "⎢──  ───────     0   ⎥\n",
       "⎣y₁  tan(y₂)         ⎦"
      ]
     },
     "execution_count": 81,
     "metadata": {},
     "output_type": "execute_result"
    }
   ],
   "source": [
    "gamma2[2]"
   ]
  },
  {
   "cell_type": "code",
   "execution_count": 82,
   "metadata": {
    "collapsed": false
   },
   "outputs": [
    {
     "data": {
      "text/latex": [
       "$$\\left[\\begin{matrix}y_{1}\\\\y_{2}\\\\y_{3}\\end{matrix}\\right]$$"
      ],
      "text/plain": [
       "⎡y₁⎤\n",
       "⎢  ⎥\n",
       "⎢y₂⎥\n",
       "⎢  ⎥\n",
       "⎣y₃⎦"
      ]
     },
     "execution_count": 82,
     "metadata": {},
     "output_type": "execute_result"
    }
   ],
   "source": [
    "X"
   ]
  },
  {
   "cell_type": "markdown",
   "metadata": {},
   "source": [
    "The matrix above is a tensor, and is the Covariant derivative of the covariant vector grad_phi in spherical coordinates. I am not sure if this will be the same as the derivative in cartesian (I am not sure if the problem was expressed correctly to the machine)"
   ]
  },
  {
   "cell_type": "code",
   "execution_count": 83,
   "metadata": {
    "collapsed": false
   },
   "outputs": [
    {
     "data": {
      "text/latex": [
       "$$\\left[\\begin{matrix}f_{1}\\\\f_{2}\\\\f_{3}\\end{matrix}\\right]$$"
      ],
      "text/plain": [
       "⎡f₁⎤\n",
       "⎢  ⎥\n",
       "⎢f₂⎥\n",
       "⎢  ⎥\n",
       "⎣f₃⎦"
      ]
     },
     "execution_count": 83,
     "metadata": {},
     "output_type": "execute_result"
    }
   ],
   "source": [
    "simplify(J_1.T.inverse_ADJ()*grad_phi_cov_y)"
   ]
  },
  {
   "cell_type": "code",
   "execution_count": 84,
   "metadata": {
    "collapsed": false
   },
   "outputs": [
    {
     "data": {
      "image/png": "[encoded data removed]",
      "text/latex": [
       "$$0$$"
      ],
      "text/plain": [
       "0"
      ]
     },
     "execution_count": 84,
     "metadata": {},
     "output_type": "execute_result"
    }
   ],
   "source": [
    "diff(f_1,y_1) ### "
   ]
  },
  {
   "cell_type": "code",
   "execution_count": 85,
   "metadata": {
    "collapsed": false
   },
   "outputs": [
    {
     "name": "stdout",
     "output_type": "stream",
     "text": [
      "The Jacobian of the dx^i/dy^j where x's are cartesian and y's are spherical \n"
     ]
    },
    {
     "data": {
      "text/latex": [
       "$$\\left[\\begin{matrix}\\sin{\\left (y^{2} \\right )} \\cos{\\left (y^{3} \\right )} & y^{1} \\cos{\\left (y^{2} \\right )} \\cos{\\left (y^{3} \\right )} & - y^{1} \\sin{\\left (y^{2} \\right )} \\sin{\\left (y^{3} \\right )}\\\\\\sin{\\left (y^{2} \\right )} \\sin{\\left (y^{3} \\right )} & y^{1} \\sin{\\left (y^{3} \\right )} \\cos{\\left (y^{2} \\right )} & y^{1} \\sin{\\left (y^{2} \\right )} \\cos{\\left (y^{3} \\right )}\\\\\\cos{\\left (y^{2} \\right )} & - y^{1} \\sin{\\left (y^{2} \\right )} & 0\\end{matrix}\\right]$$"
      ],
      "text/plain": [
       "⎡sin(y²)⋅cos(y³)  y¹⋅cos(y²)⋅cos(y³)  -y¹⋅sin(y²)⋅sin(y³)⎤\n",
       "⎢                                                        ⎥\n",
       "⎢sin(y²)⋅sin(y³)  y¹⋅sin(y³)⋅cos(y²)  y¹⋅sin(y²)⋅cos(y³) ⎥\n",
       "⎢                                                        ⎥\n",
       "⎣    cos(y²)         -y¹⋅sin(y²)               0         ⎦"
      ]
     },
     "execution_count": 85,
     "metadata": {},
     "output_type": "execute_result"
    }
   ],
   "source": [
    "# lets reconstruct our bases using superscript notation\n",
    "x__1, x__2, x__3 = symbols('x__1, x__2, x__3')\n",
    "y__1, y__2, y__3 = symbols('y__1, y__2, y__3')\n",
    "\n",
    "v = y_1 * cos (y_3) * sin(y_2) * e.i+ y_1 * sin (y_3) * sin(y_2) * e.j +  y_1 * cos(y_2) * e.k\n",
    "v = v.subs( {y_1: y__1, y_2: y__2, y_3:y__3})\n",
    "V = sqrt( x_1**2 + x_2**2 + x_3**2) * sph.i + acos( x_3/sqrt( x_1**2 + x_2**2 + x_3**2)) * sph.j + atan(x_2/x_1) * sph.k\n",
    "\n",
    "X = Matrix([v.dot(e.i), v.dot(e.j),v.dot(e.k)])\n",
    "Y = Matrix([y__1, y__2, y__3])\n",
    "\n",
    "print \"The Jacobian of the dx^i/dy^j where x's are cartesian and y's are spherical \"\n",
    "J_1 = X.jacobian(Y)\n",
    "J_1"
   ]
  },
  {
   "cell_type": "code",
   "execution_count": 86,
   "metadata": {
    "collapsed": false
   },
   "outputs": [
    {
     "data": {
      "text/latex": [
       "$$\\left[\\begin{matrix}F_{1} \\sin{\\left (y^{2} \\right )} \\cos{\\left (y^{3} \\right )} + F_{2} \\sin{\\left (y^{2} \\right )} \\sin{\\left (y^{3} \\right )} + F_{3} \\cos{\\left (y^{2} \\right )}\\\\F_{1} y^{1} \\cos{\\left (y^{2} \\right )} \\cos{\\left (y^{3} \\right )} + F_{2} y^{1} \\sin{\\left (y^{3} \\right )} \\cos{\\left (y^{2} \\right )} - F_{3} y^{1} \\sin{\\left (y^{2} \\right )}\\\\- F_{1} y^{1} \\sin{\\left (y^{2} \\right )} \\sin{\\left (y^{3} \\right )} + F_{2} y^{1} \\sin{\\left (y^{2} \\right )} \\cos{\\left (y^{3} \\right )}\\end{matrix}\\right]$$"
      ],
      "text/plain": [
       "⎡    F₁⋅sin(y²)⋅cos(y³) + F₂⋅sin(y²)⋅sin(y³) + F₃⋅cos(y²)     ⎤\n",
       "⎢                                                             ⎥\n",
       "⎢F₁⋅y¹⋅cos(y²)⋅cos(y³) + F₂⋅y¹⋅sin(y³)⋅cos(y²) - F₃⋅y¹⋅sin(y²)⎥\n",
       "⎢                                                             ⎥\n",
       "⎣       -F₁⋅y¹⋅sin(y²)⋅sin(y³) + F₂⋅y¹⋅sin(y²)⋅cos(y³)        ⎦"
      ]
     },
     "execution_count": 86,
     "metadata": {},
     "output_type": "execute_result"
    }
   ],
   "source": [
    "# using another functional notation \n",
    "f__1, f__2, f__3 = symbols('f__1, f__2, f__3', cls=Function)\n",
    "# make them functions of the \n",
    "f__1 = Function('f__1')( y__1, y__2, y__3 ) \n",
    "f__2 = Function('f__2')( y__1, y__2, y__3 ) \n",
    "f__3 = Function('f__3')( y__1, y__2, y__3 )\n",
    "\n",
    "grad_phi = Matrix([f__1,f__2,f__3])\n",
    "\n",
    "F_1, F_2, F_3 = symbols('F_1, F_2, F_3')\n",
    "Phi_1, Phi_2, Phi_3 = symbols('Phi_1, Phi_2, Phi_3')\n",
    "\n",
    "grad_phi_cov_y=J_1.T * grad_phi\n",
    "#grad_phi_cov_y.subs( {f__1:F_1, f__2:F_2, f__3:F_3} )\n",
    "grad_phi_cov_y.subs( {f__1:F_1, f__2:F_2, f__3:F_3} )"
   ]
  },
  {
   "cell_type": "code",
   "execution_count": 87,
   "metadata": {
    "collapsed": false
   },
   "outputs": [
    {
     "data": {
      "text/latex": [
       "$$\\left[\\begin{matrix}0 & 0 & 0\\\\0 & - y^{1} & 0\\\\0 & 0 & - y^{1} \\sin^{2}{\\left (y^{2} \\right )}\\end{matrix}\\right]$$"
      ],
      "text/plain": [
       "⎡0   0        0      ⎤\n",
       "⎢                    ⎥\n",
       "⎢0  -y¹       0      ⎥\n",
       "⎢                    ⎥\n",
       "⎢               2    ⎥\n",
       "⎣0   0   -y¹⋅sin (y²)⎦"
      ]
     },
     "execution_count": 87,
     "metadata": {},
     "output_type": "execute_result"
    }
   ],
   "source": [
    "metric_spherical = J_1.T*J_1\n",
    "\n",
    "### reconstruct gamma2\n",
    "gamma2 = []\n",
    "gamma2.append(zeros(3,3))\n",
    "gamma2.append(zeros(3,3))\n",
    "gamma2.append(zeros(3,3))\n",
    "for a in range(0,3):\n",
    "    for b in range(0,3):\n",
    "        for c in range(0,3):\n",
    "            # puts this in matrix form with fancy text and indexing  \n",
    "            gamma2[a][b,c] = simplify(christoffel_symbol_2(metric_spherical, a, b, c, Y))\n",
    "            \n",
    "gamma2[0]"
   ]
  },
  {
   "cell_type": "code",
   "execution_count": 88,
   "metadata": {
    "collapsed": false
   },
   "outputs": [
    {
     "data": {
      "text/latex": [
       "$$\\left[\\begin{matrix}3 \\sin{\\left (y^{2} \\right )} \\sin{\\left (y^{3} \\right )} \\frac{d}{d y^{1}} F_{2} + 3 \\sin{\\left (y^{2} \\right )} \\cos{\\left (y^{3} \\right )} \\frac{d}{d y^{1}} F_{1} + 3 \\cos{\\left (y^{2} \\right )} \\frac{d}{d y^{1}} F_{3} & 2 F_{1} \\cos{\\left (y^{2} \\right )} \\cos{\\left (y^{3} \\right )} + 2 F_{2} \\sin{\\left (y^{3} \\right )} \\cos{\\left (y^{2} \\right )} - 2 F_{3} \\sin{\\left (y^{2} \\right )} + 3 \\sin{\\left (y^{2} \\right )} \\sin{\\left (y^{3} \\right )} \\frac{d}{d y^{2}} F_{2} + 3 \\sin{\\left (y^{2} \\right )} \\cos{\\left (y^{3} \\right )} \\frac{d}{d y^{2}} F_{1} + 3 \\cos{\\left (y^{2} \\right )} \\frac{d}{d y^{2}} F_{3} & - 2 F_{1} \\sin{\\left (y^{2} \\right )} \\sin{\\left (y^{3} \\right )} + 2 F_{2} \\sin{\\left (y^{2} \\right )} \\cos{\\left (y^{3} \\right )} + 3 \\sin{\\left (y^{2} \\right )} \\sin{\\left (y^{3} \\right )} \\frac{d}{d y^{3}} F_{2} + 3 \\sin{\\left (y^{2} \\right )} \\cos{\\left (y^{3} \\right )} \\frac{d}{d y^{3}} F_{1} + 3 \\cos{\\left (y^{2} \\right )} \\frac{d}{d y^{3}} F_{3}\\\\2 F_{1} \\cos{\\left (y^{2} \\right )} \\cos{\\left (y^{3} \\right )} + 2 F_{2} \\sin{\\left (y^{3} \\right )} \\cos{\\left (y^{2} \\right )} - 2 F_{3} \\sin{\\left (y^{2} \\right )} - 3 y^{1} \\sin{\\left (y^{2} \\right )} \\frac{d}{d y^{1}} F_{3} + 3 y^{1} \\sin{\\left (y^{3} \\right )} \\cos{\\left (y^{2} \\right )} \\frac{d}{d y^{1}} F_{2} + 3 y^{1} \\cos{\\left (y^{2} \\right )} \\cos{\\left (y^{3} \\right )} \\frac{d}{d y^{1}} F_{1} & y^{1} \\left(- 2 F_{1} \\sin{\\left (y^{2} \\right )} \\cos{\\left (y^{3} \\right )} - 2 F_{2} \\sin{\\left (y^{2} \\right )} \\sin{\\left (y^{3} \\right )} - 2 F_{3} \\cos{\\left (y^{2} \\right )} - 3 \\sin{\\left (y^{2} \\right )} \\frac{d}{d y^{2}} F_{3} + 3 \\sin{\\left (y^{3} \\right )} \\cos{\\left (y^{2} \\right )} \\frac{d}{d y^{2}} F_{2} + 3 \\cos{\\left (y^{2} \\right )} \\cos{\\left (y^{3} \\right )} \\frac{d}{d y^{2}} F_{1}\\right) & y^{1} \\left(- 2 F_{1} \\sin{\\left (y^{3} \\right )} + 2 F_{2} \\cos{\\left (y^{3} \\right )} + 3 \\sin{\\left (y^{3} \\right )} \\frac{d}{d y^{3}} F_{2} + 3 \\cos{\\left (y^{3} \\right )} \\frac{d}{d y^{3}} F_{1} - 3 \\tan{\\left (y^{2} \\right )} \\frac{d}{d y^{3}} F_{3}\\right) \\cos{\\left (y^{2} \\right )}\\\\\\left(- 2 F_{1} \\sin{\\left (y^{3} \\right )} + 2 F_{2} \\cos{\\left (y^{3} \\right )} - 3 y^{1} \\sin{\\left (y^{3} \\right )} \\frac{d}{d y^{1}} F_{1} + 3 y^{1} \\cos{\\left (y^{3} \\right )} \\frac{d}{d y^{1}} F_{2}\\right) \\sin{\\left (y^{2} \\right )} & y^{1} \\left(- 2 F_{1} \\sin{\\left (y^{3} \\right )} \\cos{\\left (y^{2} \\right )} + 2 F_{2} \\cos{\\left (y^{2} \\right )} \\cos{\\left (y^{3} \\right )} - 3 \\sin{\\left (y^{2} \\right )} \\sin{\\left (y^{3} \\right )} \\frac{d}{d y^{2}} F_{1} + 3 \\sin{\\left (y^{2} \\right )} \\cos{\\left (y^{3} \\right )} \\frac{d}{d y^{2}} F_{2}\\right) & y^{1} \\left(- 2 F_{1} \\cos{\\left (y^{3} \\right )} - 2 F_{2} \\sin{\\left (y^{3} \\right )} - 3 \\sin{\\left (y^{3} \\right )} \\frac{d}{d y^{3}} F_{1} + 3 \\cos{\\left (y^{3} \\right )} \\frac{d}{d y^{3}} F_{2}\\right) \\sin{\\left (y^{2} \\right )}\\end{matrix}\\right]$$"
      ],
      "text/plain": [
       "⎡                                                      d                      \n",
       "⎢                                   3⋅sin(y²)⋅sin(y³)⋅───(F₂) + 3⋅sin(y²)⋅cos(\n",
       "⎢                                                     dy¹                     \n",
       "⎢                                                                             \n",
       "⎢                                                                           d \n",
       "⎢2⋅F₁⋅cos(y²)⋅cos(y³) + 2⋅F₂⋅sin(y³)⋅cos(y²) - 2⋅F₃⋅sin(y²) - 3⋅y¹⋅sin(y²)⋅───\n",
       "⎢                                                                          dy¹\n",
       "⎢                                                                             \n",
       "⎢                             ⎛                                             d \n",
       "⎢                             ⎜-2⋅F₁⋅sin(y³) + 2⋅F₂⋅cos(y³) - 3⋅y¹⋅sin(y³)⋅───\n",
       "⎣                             ⎝                                            dy¹\n",
       "\n",
       "     d                   d                                                    \n",
       "y³)⋅───(F₁) + 3⋅cos(y²)⋅───(F₃)                                        2⋅F₁⋅co\n",
       "    dy¹                 dy¹                                                   \n",
       "                                                                              \n",
       "                             d                              d          ⎛      \n",
       "(F₃) + 3⋅y¹⋅sin(y³)⋅cos(y²)⋅───(F₂) + 3⋅y¹⋅cos(y²)⋅cos(y³)⋅───(F₁)  y¹⋅⎜-2⋅F₁⋅\n",
       "                            dy¹                            dy¹         ⎝      \n",
       "                                                                              \n",
       "                     d     ⎞                                                  \n",
       "(F₁) + 3⋅y¹⋅cos(y³)⋅───(F₂)⎟⋅sin(y²)                                          \n",
       "                    dy¹    ⎠                                                  \n",
       "\n",
       "                                                                         d    \n",
       "s(y²)⋅cos(y³) + 2⋅F₂⋅sin(y³)⋅cos(y²) - 2⋅F₃⋅sin(y²) + 3⋅sin(y²)⋅sin(y³)⋅───(F₂\n",
       "                                                                        dy²   \n",
       "                                                                              \n",
       "                                                                   d          \n",
       "sin(y²)⋅cos(y³) - 2⋅F₂⋅sin(y²)⋅sin(y³) - 2⋅F₃⋅cos(y²) - 3⋅sin(y²)⋅───(F₃) + 3⋅\n",
       "                                                                  dy²         \n",
       "                                                                              \n",
       "          ⎛                                                                  d\n",
       "       y¹⋅⎜-2⋅F₁⋅sin(y³)⋅cos(y²) + 2⋅F₂⋅cos(y²)⋅cos(y³) - 3⋅sin(y²)⋅sin(y³)⋅──\n",
       "          ⎝                                                                 dy\n",
       "\n",
       "                       d                   d                                  \n",
       ") + 3⋅sin(y²)⋅cos(y³)⋅───(F₁) + 3⋅cos(y²)⋅───(F₃)     -2⋅F₁⋅sin(y²)⋅sin(y³) + \n",
       "                      dy²                 dy²                                 \n",
       "                                                                              \n",
       "                 d                           d     ⎞              ⎛           \n",
       "sin(y³)⋅cos(y²)⋅───(F₂) + 3⋅cos(y²)⋅cos(y³)⋅───(F₁)⎟           y¹⋅⎜-2⋅F₁⋅sin(y\n",
       "                dy²                         dy²    ⎠              ⎝           \n",
       "                                                                              \n",
       "                           d     ⎞                                          ⎛ \n",
       "─(F₁) + 3⋅sin(y²)⋅cos(y³)⋅───(F₂)⎟                                       y¹⋅⎜-\n",
       "²                         dy²    ⎠                                          ⎝ \n",
       "\n",
       "                                          d                           d       \n",
       "2⋅F₂⋅sin(y²)⋅cos(y³) + 3⋅sin(y²)⋅sin(y³)⋅───(F₂) + 3⋅sin(y²)⋅cos(y³)⋅───(F₁) +\n",
       "                                         dy³                         dy³      \n",
       "                                                                              \n",
       "                               d                   d                   d     ⎞\n",
       "³) + 2⋅F₂⋅cos(y³) + 3⋅sin(y³)⋅───(F₂) + 3⋅cos(y³)⋅───(F₁) - 3⋅tan(y²)⋅───(F₃)⎟\n",
       "                              dy³                 dy³                 dy³    ⎠\n",
       "                                                                              \n",
       "                                         d                   d     ⎞          \n",
       "2⋅F₁⋅cos(y³) - 2⋅F₂⋅sin(y³) - 3⋅sin(y³)⋅───(F₁) + 3⋅cos(y³)⋅───(F₂)⎟⋅sin(y²)  \n",
       "                                        dy³                 dy³    ⎠          \n",
       "\n",
       "            d     ⎤\n",
       " 3⋅cos(y²)⋅───(F₃)⎥\n",
       "           dy³    ⎥\n",
       "                  ⎥\n",
       "                  ⎥\n",
       "⋅cos(y²)          ⎥\n",
       "                  ⎥\n",
       "                  ⎥\n",
       "                  ⎥\n",
       "                  ⎥\n",
       "                  ⎦"
      ]
     },
     "execution_count": 88,
     "metadata": {},
     "output_type": "execute_result"
    }
   ],
   "source": [
    "\n",
    "\n",
    "\n",
    "## now construct the covariant derivative\n",
    "\n",
    "d_r_T_j = zeros(3,3)\n",
    "\n",
    "# using our vector matrix, grad_phi_cov_y, \n",
    "# the covariant vector \n",
    "T = grad_phi_cov_y\n",
    "\n",
    "for r in range(0,3): # free index r\n",
    "    for j in range(0,3): # free index j\n",
    "        for p in range(0,3): # dummy index p\n",
    "        \n",
    "            # using our vector matrix X=[y_1,y_2, y_3]\n",
    "            d_r_T_j[j,r] += diff(T[j],Y[r]) - gamma2[p][r,j]*T[p] ## perhaps one of the other gamma2 systems\n",
    "\n",
    "            \n",
    "init_printing(use_latex=True)\n",
    "\n",
    "d_r_T_j = simplify(d_r_T_j).subs( {f__1:F_1, f__2:F_2, f__3:F_3} )\n",
    "d_r_T_j"
   ]
  },
  {
   "cell_type": "code",
   "execution_count": 89,
   "metadata": {
    "collapsed": false
   },
   "outputs": [
    {
     "data": {
      "text/latex": [
       "$$\\left[\\begin{matrix}3 \\sin{\\left (y^{2} \\right )} \\sin{\\left (y^{3} \\right )} \\frac{d}{d y^{1}} F_{2} + 3 \\sin{\\left (y^{2} \\right )} \\cos{\\left (y^{3} \\right )} \\frac{d}{d y^{1}} F_{1} + 3 \\cos{\\left (y^{2} \\right )} \\frac{d}{d y^{1}} F_{3}\\\\2 F_{1} \\cos{\\left (y^{2} \\right )} \\cos{\\left (y^{3} \\right )} + 2 F_{2} \\sin{\\left (y^{3} \\right )} \\cos{\\left (y^{2} \\right )} - 2 F_{3} \\sin{\\left (y^{2} \\right )} + 3 \\sin{\\left (y^{2} \\right )} \\sin{\\left (y^{3} \\right )} \\frac{d}{d y^{2}} F_{2} + 3 \\sin{\\left (y^{2} \\right )} \\cos{\\left (y^{3} \\right )} \\frac{d}{d y^{2}} F_{1} + 3 \\cos{\\left (y^{2} \\right )} \\frac{d}{d y^{2}} F_{3}\\\\- 2 F_{1} \\sin{\\left (y^{2} \\right )} \\sin{\\left (y^{3} \\right )} + 2 F_{2} \\sin{\\left (y^{2} \\right )} \\cos{\\left (y^{3} \\right )} + 3 \\sin{\\left (y^{2} \\right )} \\sin{\\left (y^{3} \\right )} \\frac{d}{d y^{3}} F_{2} + 3 \\sin{\\left (y^{2} \\right )} \\cos{\\left (y^{3} \\right )} \\frac{d}{d y^{3}} F_{1} + 3 \\cos{\\left (y^{2} \\right )} \\frac{d}{d y^{3}} F_{3}\\end{matrix}\\right]$$"
      ],
      "text/plain": [
       "⎡                                                 d                           \n",
       "⎢                              3⋅sin(y²)⋅sin(y³)⋅───(F₂) + 3⋅sin(y²)⋅cos(y³)⋅─\n",
       "⎢                                                dy¹                         d\n",
       "⎢                                                                             \n",
       "⎢                                                                             \n",
       "⎢2⋅F₁⋅cos(y²)⋅cos(y³) + 2⋅F₂⋅sin(y³)⋅cos(y²) - 2⋅F₃⋅sin(y²) + 3⋅sin(y²)⋅sin(y³\n",
       "⎢                                                                             \n",
       "⎢                                                                             \n",
       "⎢                                                                         d   \n",
       "⎢       -2⋅F₁⋅sin(y²)⋅sin(y³) + 2⋅F₂⋅sin(y²)⋅cos(y³) + 3⋅sin(y²)⋅sin(y³)⋅───(F\n",
       "⎣                                                                        dy³  \n",
       "\n",
       "d                   d                                    ⎤\n",
       "──(F₁) + 3⋅cos(y²)⋅───(F₃)                               ⎥\n",
       "y¹                 dy¹                                   ⎥\n",
       "                                                         ⎥\n",
       "   d                           d                   d     ⎥\n",
       ")⋅───(F₂) + 3⋅sin(y²)⋅cos(y³)⋅───(F₁) + 3⋅cos(y²)⋅───(F₃)⎥\n",
       "  dy²                         dy²                 dy²    ⎥\n",
       "                                                         ⎥\n",
       "                        d                   d            ⎥\n",
       "₂) + 3⋅sin(y²)⋅cos(y³)⋅───(F₁) + 3⋅cos(y²)⋅───(F₃)       ⎥\n",
       "                       dy³                 dy³           ⎦"
      ]
     },
     "execution_count": 89,
     "metadata": {},
     "output_type": "execute_result"
    }
   ],
   "source": [
    "d_1_T_j = Matrix([d_r_T_j[0,0],d_r_T_j[0,1],d_r_T_j[0,2]])\n",
    "d_1_T_j = d_1_T_j.subs( {f__1:F_1, f__2:F_2, f__3:F_3} )\n",
    "d_1_T_j"
   ]
  },
  {
   "cell_type": "code",
   "execution_count": 90,
   "metadata": {
    "collapsed": false
   },
   "outputs": [
    {
     "data": {
      "image/png": "[encoded data removed]",
      "text/latex": [
       "$$3 \\sin{\\left (y^{2} \\right )} \\sin{\\left (y^{3} \\right )} \\frac{d}{d y^{1}} F_{2} + 3 \\sin{\\left (y^{2} \\right )} \\cos{\\left (y^{3} \\right )} \\frac{d}{d y^{1}} F_{1} + 3 \\cos{\\left (y^{2} \\right )} \\frac{d}{d y^{1}} F_{3}$$"
      ],
      "text/plain": [
       "                   d                           d                   d     \n",
       "3⋅sin(y²)⋅sin(y³)⋅───(F₂) + 3⋅sin(y²)⋅cos(y³)⋅───(F₁) + 3⋅cos(y²)⋅───(F₃)\n",
       "                  dy¹                         dy¹                 dy¹    "
      ]
     },
     "execution_count": 90,
     "metadata": {},
     "output_type": "execute_result"
    }
   ],
   "source": [
    "d_1_T_j[0]"
   ]
  },
  {
   "cell_type": "markdown",
   "metadata": {},
   "source": [
    "### So we have reached a limit of Jupyter/Latex/Sympy's symbol printing,plugging in some numbers..."
   ]
  },
  {
   "cell_type": "code",
   "execution_count": 91,
   "metadata": {
    "collapsed": false
   },
   "outputs": [
    {
     "data": {
      "text/latex": [
       "$$\\frac{2}{y^{1}^{3}} \\sin{\\left (y^{2} \\right )} \\cos{\\left (y^{3} \\right )}$$"
      ],
      "text/plain": [
       "2⋅sin(y²)⋅cos(y³)\n",
       "─────────────────\n",
       "         3       \n",
       "       y¹        "
      ]
     },
     "execution_count": 91,
     "metadata": {},
     "output_type": "execute_result"
    }
   ],
   "source": [
    "# scalar potential\n",
    "potential = 1 / sqrt(x__1**2+x__2**2+x__3**2)\n",
    "F1=diff(potential,x__1)\n",
    "F2=diff(potential,x__2)\n",
    "F3=diff(potential,x__3)\n",
    "\n",
    "r=symbols('r')\n",
    "\n",
    "F1 =F1.subs({sqrt(x__1**2+x__2**2+x__3**2):y__1})\n",
    "F2 =F2.subs({sqrt(x__1**2+x__2**2+x__3**2):y__1})\n",
    "F3 =F3.subs({sqrt(x__1**2+x__2**2+x__3**2):y__1})\n",
    "\n",
    "F1 =F1.subs({x__1:y__1*cos(y__3)*sin(y__2)})\n",
    "F1 =F1.subs({x__2:y__1*sin(y__3)*sin(y__2)})\n",
    "F1 =F1.subs({x__3:y__1*cos(y__2)})\n",
    "\n",
    "F2 =F2.subs({x__1:y__1*cos(y__3)*sin(y__2)})\n",
    "F2 =F2.subs({x__2:y__1*sin(y__3)*sin(y__2)})\n",
    "F2 =F2.subs({x__3:y__1*cos(y__2)})\n",
    "\n",
    "F3 =F3.subs({x__1:y__1*cos(y__3)*sin(y__2)})\n",
    "F3 =F3.subs({x__2:y__1*sin(y__3)*sin(y__2)})\n",
    "F3 =F3.subs({x__3:y__1*cos(y__2)})\n",
    "\n",
    "init_printing(use_latex=true)\n",
    "\n",
    "d_r_T_j = d_r_T_j.subs( {F_1:F1, F_2:F2, F_3:F3} )\n",
    "diff(F1,y__1)\n",
    "#N(d_r_T_j.subs({y__1:10, y__2:0, y__3:3.14149/2}))"
   ]
  },
  {
   "cell_type": "markdown",
   "metadata": {},
   "source": [
    "So, to express the derivative of the cartesian gradient, transformed via the transformation law for a rank 1 tensor to a spherical coordinate system, with respect to any of the spherical coordinates, I would use the matrix defined above.\n",
    "\n",
    "The derivatives with respect to $y^1$ are all in the first row, indexed by 0. The derivatives with respect to $y^2$ are in the second row, and $y^3$ the third. \n",
    "\n",
    "The derivative with respect to each component is a vector, components given by the columns of the indexed row. \n",
    "   \n",
    "To re-express the rule or covariant differentiation ...\n",
    "   \n",
    "$$ \\frac{\\partial \\bar{\\mathbf T}_i}{\\partial \\bar{x}^k} - \\bar{\\Gamma}^t_{ik}\\bar{\\mathbf T}_t = (\\frac{\\partial \\mathbf T_r}{\\partial x^s} - \\Gamma^t_{rs}\\mathbf T_t )\\frac{\\partial x^r}{\\partial \\bar{x}^i}\\frac{\\partial x^s}{\\partial \\bar{x}^k}$$\n",
    "\n",
    "where if the barred system is the cartesian system, and the unbarred is the spherical system, we should use the method in the code (unless I made a mistake) and to transform to the covariant derivative in the cartesian system we multiply by the $\\mathbf {\\bar{J}} = \\frac{\\partial (x^i)}{\\partial (\\bar{x}^j)} $ twice, where for convenience $ (\\mathbf J^{-1})^T = \\mathbf {\\bar{J}} $ and so $\\mathbf J = \\frac{\\partial (\\bar{x}^j)}{\\partial (x^i)}$"
   ]
  },
  {
   "cell_type": "code",
   "execution_count": 92,
   "metadata": {
    "collapsed": false
   },
   "outputs": [
    {
     "data": {
      "text/latex": [
       "$$\\frac{1}{y^{1}^{4} \\tan{\\left (y^{2} \\right )}} \\left(6 y^{1} \\sin^{2}{\\left (y^{2} \\right )} \\cos^{2}{\\left (y^{3} \\right )} \\tan{\\left (y^{2} \\right )} + 6 \\sin^{2}{\\left (y^{2} \\right )} \\sin{\\left (y^{3} \\right )} \\cos{\\left (y^{3} \\right )} - 6 \\sin{\\left (y^{3} \\right )}\\right)$$"
      ],
      "text/plain": [
       "  ⎛        2        2                    2                                ⎞\n",
       "2⋅⎝3⋅y¹⋅sin (y²)⋅cos (y³)⋅tan(y²) + 3⋅sin (y²)⋅sin(y³)⋅cos(y³) - 3⋅sin(y³)⎠\n",
       "───────────────────────────────────────────────────────────────────────────\n",
       "                                  4                                        \n",
       "                                y¹ ⋅tan(y²)                                "
      ]
     },
     "execution_count": 92,
     "metadata": {},
     "output_type": "execute_result"
    }
   ],
   "source": [
    "#def transform_2nd_order_Tensor_cov(J, T ):\n",
    "#    for i in range(0,3):\n",
    "\n",
    "#def transform_2nd_order_Tensor_cont(J, T ):\n",
    "#    for i in range(0,3):\n",
    "        \n",
    "d_r_T_j_x = simplify(J_1.T.inverse_ADJ()*J_1.T.inverse_ADJ())*d_r_T_j.doit()\n",
    "trigsimp(simplify(d_r_T_j_x)[0,0]) ## whether the J is transposed depends on whether you premultiply or post multiply"
   ]
  },
  {
   "cell_type": "code",
   "execution_count": 97,
   "metadata": {
    "collapsed": false
   },
   "outputs": [
    {
     "data": {
      "text/latex": [
       "$$\\left[\\begin{matrix}3 \\sin{\\left (y^{2} \\right )} \\sin{\\left (y^{3} \\right )} \\frac{d}{d y^{1}} F_{2} + 3 \\sin{\\left (y^{2} \\right )} \\cos{\\left (y^{3} \\right )} \\frac{d}{d y^{1}} F_{1} + 3 \\cos{\\left (y^{2} \\right )} \\frac{d}{d y^{1}} F_{3} & 2 F_{1} \\cos{\\left (y^{2} \\right )} \\cos{\\left (y^{3} \\right )} + 2 F_{2} \\sin{\\left (y^{3} \\right )} \\cos{\\left (y^{2} \\right )} - 2 F_{3} \\sin{\\left (y^{2} \\right )} + 3 \\sin{\\left (y^{2} \\right )} \\sin{\\left (y^{3} \\right )} \\frac{d}{d y^{2}} F_{2} + 3 \\sin{\\left (y^{2} \\right )} \\cos{\\left (y^{3} \\right )} \\frac{d}{d y^{2}} F_{1} + 3 \\cos{\\left (y^{2} \\right )} \\frac{d}{d y^{2}} F_{3} & - 2 F_{1} \\sin{\\left (y^{2} \\right )} \\sin{\\left (y^{3} \\right )} + 2 F_{2} \\sin{\\left (y^{2} \\right )} \\cos{\\left (y^{3} \\right )} + 3 \\sin{\\left (y^{2} \\right )} \\sin{\\left (y^{3} \\right )} \\frac{d}{d y^{3}} F_{2} + 3 \\sin{\\left (y^{2} \\right )} \\cos{\\left (y^{3} \\right )} \\frac{d}{d y^{3}} F_{1} + 3 \\cos{\\left (y^{2} \\right )} \\frac{d}{d y^{3}} F_{3}\\\\2 F_{1} \\cos{\\left (y^{2} \\right )} \\cos{\\left (y^{3} \\right )} + 2 F_{2} \\sin{\\left (y^{3} \\right )} \\cos{\\left (y^{2} \\right )} - 2 F_{3} \\sin{\\left (y^{2} \\right )} - 3 y^{1} \\sin{\\left (y^{2} \\right )} \\frac{d}{d y^{1}} F_{3} + 3 y^{1} \\sin{\\left (y^{3} \\right )} \\cos{\\left (y^{2} \\right )} \\frac{d}{d y^{1}} F_{2} + 3 y^{1} \\cos{\\left (y^{2} \\right )} \\cos{\\left (y^{3} \\right )} \\frac{d}{d y^{1}} F_{1} & y^{1} \\left(- 2 F_{1} \\sin{\\left (y^{2} \\right )} \\cos{\\left (y^{3} \\right )} - 2 F_{2} \\sin{\\left (y^{2} \\right )} \\sin{\\left (y^{3} \\right )} - 2 F_{3} \\cos{\\left (y^{2} \\right )} - 3 \\sin{\\left (y^{2} \\right )} \\frac{d}{d y^{2}} F_{3} + 3 \\sin{\\left (y^{3} \\right )} \\cos{\\left (y^{2} \\right )} \\frac{d}{d y^{2}} F_{2} + 3 \\cos{\\left (y^{2} \\right )} \\cos{\\left (y^{3} \\right )} \\frac{d}{d y^{2}} F_{1}\\right) & y^{1} \\left(- 2 F_{1} \\sin{\\left (y^{3} \\right )} + 2 F_{2} \\cos{\\left (y^{3} \\right )} + 3 \\sin{\\left (y^{3} \\right )} \\frac{d}{d y^{3}} F_{2} + 3 \\cos{\\left (y^{3} \\right )} \\frac{d}{d y^{3}} F_{1} - 3 \\tan{\\left (y^{2} \\right )} \\frac{d}{d y^{3}} F_{3}\\right) \\cos{\\left (y^{2} \\right )}\\\\\\left(- 2 F_{1} \\sin{\\left (y^{3} \\right )} + 2 F_{2} \\cos{\\left (y^{3} \\right )} - 3 y^{1} \\sin{\\left (y^{3} \\right )} \\frac{d}{d y^{1}} F_{1} + 3 y^{1} \\cos{\\left (y^{3} \\right )} \\frac{d}{d y^{1}} F_{2}\\right) \\sin{\\left (y^{2} \\right )} & y^{1} \\left(- 2 F_{1} \\sin{\\left (y^{3} \\right )} \\cos{\\left (y^{2} \\right )} + 2 F_{2} \\cos{\\left (y^{2} \\right )} \\cos{\\left (y^{3} \\right )} - 3 \\sin{\\left (y^{2} \\right )} \\sin{\\left (y^{3} \\right )} \\frac{d}{d y^{2}} F_{1} + 3 \\sin{\\left (y^{2} \\right )} \\cos{\\left (y^{3} \\right )} \\frac{d}{d y^{2}} F_{2}\\right) & y^{1} \\left(- 2 F_{1} \\cos{\\left (y^{3} \\right )} - 2 F_{2} \\sin{\\left (y^{3} \\right )} - 3 \\sin{\\left (y^{3} \\right )} \\frac{d}{d y^{3}} F_{1} + 3 \\cos{\\left (y^{3} \\right )} \\frac{d}{d y^{3}} F_{2}\\right) \\sin{\\left (y^{2} \\right )}\\end{matrix}\\right]$$"
      ],
      "text/plain": [
       "⎡                                                      d                      \n",
       "⎢                                   3⋅sin(y²)⋅sin(y³)⋅───(F₂) + 3⋅sin(y²)⋅cos(\n",
       "⎢                                                     dy¹                     \n",
       "⎢                                                                             \n",
       "⎢                                                                           d \n",
       "⎢2⋅F₁⋅cos(y²)⋅cos(y³) + 2⋅F₂⋅sin(y³)⋅cos(y²) - 2⋅F₃⋅sin(y²) - 3⋅y¹⋅sin(y²)⋅───\n",
       "⎢                                                                          dy¹\n",
       "⎢                                                                             \n",
       "⎢                             ⎛                                             d \n",
       "⎢                             ⎜-2⋅F₁⋅sin(y³) + 2⋅F₂⋅cos(y³) - 3⋅y¹⋅sin(y³)⋅───\n",
       "⎣                             ⎝                                            dy¹\n",
       "\n",
       "     d                   d                                                    \n",
       "y³)⋅───(F₁) + 3⋅cos(y²)⋅───(F₃)                                        2⋅F₁⋅co\n",
       "    dy¹                 dy¹                                                   \n",
       "                                                                              \n",
       "                             d                              d          ⎛      \n",
       "(F₃) + 3⋅y¹⋅sin(y³)⋅cos(y²)⋅───(F₂) + 3⋅y¹⋅cos(y²)⋅cos(y³)⋅───(F₁)  y¹⋅⎜-2⋅F₁⋅\n",
       "                            dy¹                            dy¹         ⎝      \n",
       "                                                                              \n",
       "                     d     ⎞                                                  \n",
       "(F₁) + 3⋅y¹⋅cos(y³)⋅───(F₂)⎟⋅sin(y²)                                          \n",
       "                    dy¹    ⎠                                                  \n",
       "\n",
       "                                                                         d    \n",
       "s(y²)⋅cos(y³) + 2⋅F₂⋅sin(y³)⋅cos(y²) - 2⋅F₃⋅sin(y²) + 3⋅sin(y²)⋅sin(y³)⋅───(F₂\n",
       "                                                                        dy²   \n",
       "                                                                              \n",
       "                                                                   d          \n",
       "sin(y²)⋅cos(y³) - 2⋅F₂⋅sin(y²)⋅sin(y³) - 2⋅F₃⋅cos(y²) - 3⋅sin(y²)⋅───(F₃) + 3⋅\n",
       "                                                                  dy²         \n",
       "                                                                              \n",
       "          ⎛                                                                  d\n",
       "       y¹⋅⎜-2⋅F₁⋅sin(y³)⋅cos(y²) + 2⋅F₂⋅cos(y²)⋅cos(y³) - 3⋅sin(y²)⋅sin(y³)⋅──\n",
       "          ⎝                                                                 dy\n",
       "\n",
       "                       d                   d                                  \n",
       ") + 3⋅sin(y²)⋅cos(y³)⋅───(F₁) + 3⋅cos(y²)⋅───(F₃)     -2⋅F₁⋅sin(y²)⋅sin(y³) + \n",
       "                      dy²                 dy²                                 \n",
       "                                                                              \n",
       "                 d                           d     ⎞              ⎛           \n",
       "sin(y³)⋅cos(y²)⋅───(F₂) + 3⋅cos(y²)⋅cos(y³)⋅───(F₁)⎟           y¹⋅⎜-2⋅F₁⋅sin(y\n",
       "                dy²                         dy²    ⎠              ⎝           \n",
       "                                                                              \n",
       "                           d     ⎞                                          ⎛ \n",
       "─(F₁) + 3⋅sin(y²)⋅cos(y³)⋅───(F₂)⎟                                       y¹⋅⎜-\n",
       "²                         dy²    ⎠                                          ⎝ \n",
       "\n",
       "                                          d                           d       \n",
       "2⋅F₂⋅sin(y²)⋅cos(y³) + 3⋅sin(y²)⋅sin(y³)⋅───(F₂) + 3⋅sin(y²)⋅cos(y³)⋅───(F₁) +\n",
       "                                         dy³                         dy³      \n",
       "                                                                              \n",
       "                               d                   d                   d     ⎞\n",
       "³) + 2⋅F₂⋅cos(y³) + 3⋅sin(y³)⋅───(F₂) + 3⋅cos(y³)⋅───(F₁) - 3⋅tan(y²)⋅───(F₃)⎟\n",
       "                              dy³                 dy³                 dy³    ⎠\n",
       "                                                                              \n",
       "                                         d                   d     ⎞          \n",
       "2⋅F₁⋅cos(y³) - 2⋅F₂⋅sin(y³) - 3⋅sin(y³)⋅───(F₁) + 3⋅cos(y³)⋅───(F₂)⎟⋅sin(y²)  \n",
       "                                        dy³                 dy³    ⎠          \n",
       "\n",
       "            d     ⎤\n",
       " 3⋅cos(y²)⋅───(F₃)⎥\n",
       "           dy³    ⎥\n",
       "                  ⎥\n",
       "                  ⎥\n",
       "⋅cos(y²)          ⎥\n",
       "                  ⎥\n",
       "                  ⎥\n",
       "                  ⎥\n",
       "                  ⎥\n",
       "                  ⎦"
      ]
     },
     "execution_count": 97,
     "metadata": {},
     "output_type": "execute_result"
    }
   ],
   "source": [
    "## now construct the covariant derivative\n",
    "\n",
    "d_r_T_j = zeros(3,3)\n",
    "\n",
    "# using our vector matrix, grad_phi_cov_y, \n",
    "# the covariant vector \n",
    "T = grad_phi_cov_y\n",
    "\n",
    "for r in range(0,3): # free index r\n",
    "    for j in range(0,3): # free index j\n",
    "        for p in range(0,3): # dummy index p\n",
    "        \n",
    "            # using our vector matrix X=[y_1,y_2, y_3]\n",
    "            d_r_T_j[j,r] += diff(T[j],Y[r]) - gamma2[p][r,j]*T[p] ## perhaps one of the other gamma2 systems\n",
    "\n",
    "            \n",
    "init_printing(use_latex=True)\n",
    "\n",
    "\n",
    "\n",
    "d_r_T_j = simplify(d_r_T_j).subs( {f__1:F_1, f__2:F_2, f__3:F_3} )\n",
    "d_r_T_j"
   ]
  },
  {
   "cell_type": "code",
   "execution_count": 98,
   "metadata": {
    "collapsed": false
   },
   "outputs": [
    {
     "data": {
      "text/latex": [
       "$$\\left[\\begin{matrix}\\frac{1}{y^{1}} \\left(- 2 F_{1} \\sin^{3}{\\left (y^{2} \\right )} \\cos^{3}{\\left (y^{3} \\right )} + 2 F_{1} \\sin{\\left (y^{2} \\right )} \\cos^{3}{\\left (y^{3} \\right )} - \\frac{2 F_{1} \\cos^{3}{\\left (y^{3} \\right )}}{\\sin{\\left (y^{2} \\right )}} + \\frac{2 F_{1} \\cos{\\left (y^{3} \\right )}}{\\sin{\\left (y^{2} \\right )}} + 2 F_{2} \\sin^{3}{\\left (y^{2} \\right )} \\sin^{3}{\\left (y^{3} \\right )} - 2 F_{2} \\sin^{3}{\\left (y^{2} \\right )} \\sin{\\left (y^{3} \\right )} - 2 F_{2} \\sin{\\left (y^{2} \\right )} \\sin^{3}{\\left (y^{3} \\right )} + 2 F_{2} \\sin{\\left (y^{2} \\right )} \\sin{\\left (y^{3} \\right )} + \\frac{2 F_{2} \\sin^{3}{\\left (y^{3} \\right )}}{\\sin{\\left (y^{2} \\right )}} - \\frac{4 F_{2} \\sin{\\left (y^{3} \\right )}}{\\sin{\\left (y^{2} \\right )}} + 2 F_{3} \\cos^{3}{\\left (y^{2} \\right )} \\cos^{2}{\\left (y^{3} \\right )} - 4 F_{3} \\cos{\\left (y^{2} \\right )} \\cos^{2}{\\left (y^{3} \\right )}\\right) & \\frac{1}{y^{1}} \\left(2 F_{1} \\sin^{3}{\\left (y^{2} \\right )} \\sin^{3}{\\left (y^{3} \\right )} - 2 F_{1} \\sin^{3}{\\left (y^{2} \\right )} \\sin{\\left (y^{3} \\right )} - 2 F_{1} \\sin{\\left (y^{2} \\right )} \\sin^{3}{\\left (y^{3} \\right )} + 2 F_{1} \\sin{\\left (y^{2} \\right )} \\sin{\\left (y^{3} \\right )} + \\frac{2 F_{1} \\sin^{3}{\\left (y^{3} \\right )}}{\\sin{\\left (y^{2} \\right )}} + 2 F_{2} \\sin^{3}{\\left (y^{2} \\right )} \\cos^{3}{\\left (y^{3} \\right )} - 2 F_{2} \\sin^{3}{\\left (y^{2} \\right )} \\cos{\\left (y^{3} \\right )} - 2 F_{2} \\sin{\\left (y^{2} \\right )} \\cos^{3}{\\left (y^{3} \\right )} + 2 F_{2} \\sin{\\left (y^{2} \\right )} \\cos{\\left (y^{3} \\right )} + \\frac{2 F_{2} \\cos^{3}{\\left (y^{3} \\right )}}{\\sin{\\left (y^{2} \\right )}} + 2 F_{3} \\sin{\\left (y^{3} \\right )} \\cos^{3}{\\left (y^{2} \\right )} \\cos{\\left (y^{3} \\right )} - 4 F_{3} \\sin{\\left (y^{3} \\right )} \\cos{\\left (y^{2} \\right )} \\cos{\\left (y^{3} \\right )}\\right) & \\frac{1}{y^{1}} \\left(2 F_{1} \\cos^{3}{\\left (y^{2} \\right )} \\cos^{2}{\\left (y^{3} \\right )} + 2 F_{2} \\sin{\\left (y^{3} \\right )} \\cos^{3}{\\left (y^{2} \\right )} \\cos{\\left (y^{3} \\right )} + 2 F_{3} \\sin^{3}{\\left (y^{2} \\right )} \\cos{\\left (y^{3} \\right )}\\right)\\\\\\frac{1}{y^{1}} \\left(2 F_{1} \\sin^{3}{\\left (y^{2} \\right )} \\sin^{3}{\\left (y^{3} \\right )} - 2 F_{1} \\sin^{3}{\\left (y^{2} \\right )} \\sin{\\left (y^{3} \\right )} - 2 F_{1} \\sin{\\left (y^{2} \\right )} \\sin^{3}{\\left (y^{3} \\right )} + 2 F_{1} \\sin{\\left (y^{2} \\right )} \\sin{\\left (y^{3} \\right )} + \\frac{2 F_{1} \\sin^{3}{\\left (y^{3} \\right )}}{\\sin{\\left (y^{2} \\right )}} + 2 F_{2} \\sin^{3}{\\left (y^{2} \\right )} \\cos^{3}{\\left (y^{3} \\right )} - 2 F_{2} \\sin^{3}{\\left (y^{2} \\right )} \\cos{\\left (y^{3} \\right )} - 2 F_{2} \\sin{\\left (y^{2} \\right )} \\cos^{3}{\\left (y^{3} \\right )} + 2 F_{2} \\sin{\\left (y^{2} \\right )} \\cos{\\left (y^{3} \\right )} + \\frac{2 F_{2} \\cos^{3}{\\left (y^{3} \\right )}}{\\sin{\\left (y^{2} \\right )}} + 2 F_{3} \\sin{\\left (y^{3} \\right )} \\cos^{3}{\\left (y^{2} \\right )} \\cos{\\left (y^{3} \\right )} - 4 F_{3} \\sin{\\left (y^{3} \\right )} \\cos{\\left (y^{2} \\right )} \\cos{\\left (y^{3} \\right )}\\right) & \\frac{1}{y^{1}} \\left(2 F_{1} \\sin^{3}{\\left (y^{2} \\right )} \\cos^{3}{\\left (y^{3} \\right )} - 2 F_{1} \\sin^{3}{\\left (y^{2} \\right )} \\cos{\\left (y^{3} \\right )} - 2 F_{1} \\sin{\\left (y^{2} \\right )} \\cos^{3}{\\left (y^{3} \\right )} + 2 F_{1} \\sin{\\left (y^{2} \\right )} \\cos{\\left (y^{3} \\right )} + \\frac{2 F_{1} \\cos^{3}{\\left (y^{3} \\right )}}{\\sin{\\left (y^{2} \\right )}} - \\frac{4 F_{1} \\cos{\\left (y^{3} \\right )}}{\\sin{\\left (y^{2} \\right )}} - 2 F_{2} \\sin^{3}{\\left (y^{2} \\right )} \\sin^{3}{\\left (y^{3} \\right )} + 2 F_{2} \\sin{\\left (y^{2} \\right )} \\sin^{3}{\\left (y^{3} \\right )} - \\frac{2 F_{2} \\sin^{3}{\\left (y^{3} \\right )}}{\\sin{\\left (y^{2} \\right )}} + \\frac{2 F_{2} \\sin{\\left (y^{3} \\right )}}{\\sin{\\left (y^{2} \\right )}} + 2 F_{3} \\sin^{2}{\\left (y^{3} \\right )} \\cos^{3}{\\left (y^{2} \\right )} - 4 F_{3} \\sin^{2}{\\left (y^{3} \\right )} \\cos{\\left (y^{2} \\right )}\\right) & \\frac{1}{y^{1}} \\left(2 F_{1} \\sin{\\left (y^{3} \\right )} \\cos^{3}{\\left (y^{2} \\right )} \\cos{\\left (y^{3} \\right )} + 2 F_{2} \\sin^{2}{\\left (y^{3} \\right )} \\cos^{3}{\\left (y^{2} \\right )} + 2 F_{3} \\sin^{3}{\\left (y^{2} \\right )} \\sin{\\left (y^{3} \\right )}\\right)\\\\\\frac{1}{y^{1}} \\left(2 F_{1} \\cos^{3}{\\left (y^{2} \\right )} \\cos^{2}{\\left (y^{3} \\right )} + 2 F_{2} \\sin{\\left (y^{3} \\right )} \\cos^{3}{\\left (y^{2} \\right )} \\cos{\\left (y^{3} \\right )} + 2 F_{3} \\sin^{3}{\\left (y^{2} \\right )} \\cos{\\left (y^{3} \\right )}\\right) & \\frac{1}{y^{1}} \\left(2 F_{1} \\sin{\\left (y^{3} \\right )} \\cos^{3}{\\left (y^{2} \\right )} \\cos{\\left (y^{3} \\right )} + 2 F_{2} \\sin^{2}{\\left (y^{3} \\right )} \\cos^{3}{\\left (y^{2} \\right )} + 2 F_{3} \\sin^{3}{\\left (y^{2} \\right )} \\sin{\\left (y^{3} \\right )}\\right) & \\frac{1}{y^{1}} \\left(2 F_{1} \\sin^{3}{\\left (y^{2} \\right )} \\cos{\\left (y^{3} \\right )} - 4 F_{1} \\sin{\\left (y^{2} \\right )} \\cos{\\left (y^{3} \\right )} + 2 F_{2} \\sin^{3}{\\left (y^{2} \\right )} \\sin{\\left (y^{3} \\right )} - 4 F_{2} \\sin{\\left (y^{2} \\right )} \\sin{\\left (y^{3} \\right )} - 2 F_{3} \\cos^{3}{\\left (y^{2} \\right )} + 2 F_{3} \\cos{\\left (y^{2} \\right )}\\right)\\end{matrix}\\right]$$"
      ],
      "text/plain": [
       "⎡                                                                         3   \n",
       "⎢                        3        3                       3       2⋅F₁⋅cos (y³\n",
       "⎢              - 2⋅F₁⋅sin (y²)⋅cos (y³) + 2⋅F₁⋅sin(y²)⋅cos (y³) - ────────────\n",
       "⎢                                                                    sin(y²)  \n",
       "⎢              ───────────────────────────────────────────────────────────────\n",
       "⎢                                                                             \n",
       "⎢                                                                             \n",
       "⎢                                                                             \n",
       "⎢        3        3               3                               3           \n",
       "⎢2⋅F₁⋅sin (y²)⋅sin (y³) - 2⋅F₁⋅sin (y²)⋅sin(y³) - 2⋅F₁⋅sin(y²)⋅sin (y³) + 2⋅F₁\n",
       "⎢                                                                             \n",
       "⎢─────────────────────────────────────────────────────────────────────────────\n",
       "⎢                                                                             \n",
       "⎢                                                                             \n",
       "⎢                                                                             \n",
       "⎢                                                                             \n",
       "⎢                                                                             \n",
       "⎣                                                                             \n",
       "\n",
       "                                                                              \n",
       ")   2⋅F₁⋅cos(y³)           3        3               3                         \n",
       "─ + ──────────── + 2⋅F₂⋅sin (y²)⋅sin (y³) - 2⋅F₂⋅sin (y²)⋅sin(y³) - 2⋅F₂⋅sin(y\n",
       "      sin(y²)                                                                 \n",
       "──────────────────────────────────────────────────────────────────────────────\n",
       "                                                                y¹            \n",
       "                                                                              \n",
       "                           3                                                  \n",
       "                   2⋅F₁⋅sin (y³)           3        3               3         \n",
       "⋅sin(y²)⋅sin(y³) + ───────────── + 2⋅F₂⋅sin (y²)⋅cos (y³) - 2⋅F₂⋅sin (y²)⋅cos(\n",
       "                      sin(y²)                                                 \n",
       "──────────────────────────────────────────────────────────────────────────────\n",
       "                                                                y¹            \n",
       "                                                                              \n",
       "                                  3        2                       3          \n",
       "                          2⋅F₁⋅cos (y²)⋅cos (y³) + 2⋅F₂⋅sin(y³)⋅cos (y²)⋅cos(y\n",
       "                          ────────────────────────────────────────────────────\n",
       "                                                                y¹            \n",
       "\n",
       "                                             3                                \n",
       "      3                              2⋅F₂⋅sin (y³)   4⋅F₂⋅sin(y³)           3 \n",
       "²)⋅sin (y³) + 2⋅F₂⋅sin(y²)⋅sin(y³) + ───────────── - ──────────── + 2⋅F₃⋅cos (\n",
       "                                        sin(y²)        sin(y²)                \n",
       "──────────────────────────────────────────────────────────────────────────────\n",
       "                                                                              \n",
       "                                                                              \n",
       "                                                             3                \n",
       "                      3                              2⋅F₂⋅cos (y³)            \n",
       "y³) - 2⋅F₂⋅sin(y²)⋅cos (y³) + 2⋅F₂⋅sin(y²)⋅cos(y³) + ───────────── + 2⋅F₃⋅sin(\n",
       "                                                        sin(y²)               \n",
       "──────────────────────────────────────────────────────────────────────────────\n",
       "                                                                              \n",
       "                                                                              \n",
       "             3                                                                \n",
       "³) + 2⋅F₃⋅sin (y²)⋅cos(y³)                                                    \n",
       "──────────────────────────                                                    \n",
       "                                                                              \n",
       "\n",
       "                                                                              \n",
       "       2                       2                             3        3       \n",
       "y²)⋅cos (y³) - 4⋅F₃⋅cos(y²)⋅cos (y³)                 2⋅F₁⋅sin (y²)⋅sin (y³) - \n",
       "                                                                              \n",
       "────────────────────────────────────                 ─────────────────────────\n",
       "                                                                              \n",
       "                                                                              \n",
       "                                                                              \n",
       "       3                                                                    3 \n",
       "y³)⋅cos (y²)⋅cos(y³) - 4⋅F₃⋅sin(y³)⋅cos(y²)⋅cos(y³)                 2⋅F₁⋅sin (\n",
       "                                                                              \n",
       "───────────────────────────────────────────────────                 ──────────\n",
       "                                                                              \n",
       "                                                                              \n",
       "                                                                              \n",
       "                                                                              \n",
       "                                                                              \n",
       "                                                                              \n",
       "\n",
       "                                                                              \n",
       "        3                               3                              2⋅F₁⋅si\n",
       "2⋅F₁⋅sin (y²)⋅sin(y³) - 2⋅F₁⋅sin(y²)⋅sin (y³) + 2⋅F₁⋅sin(y²)⋅sin(y³) + ───────\n",
       "                                                                          sin(\n",
       "──────────────────────────────────────────────────────────────────────────────\n",
       "                                                                              \n",
       "                                                                              \n",
       "                                                                              \n",
       "       3               3                               3                      \n",
       "y²)⋅cos (y³) - 2⋅F₁⋅sin (y²)⋅cos(y³) - 2⋅F₁⋅sin(y²)⋅cos (y³) + 2⋅F₁⋅sin(y²)⋅co\n",
       "                                                                              \n",
       "──────────────────────────────────────────────────────────────────────────────\n",
       "                                                                              \n",
       "                                                                              \n",
       "                                                                              \n",
       "                                                                              \n",
       "                                                                              \n",
       "                                                                              \n",
       "\n",
       " 3                                                                            \n",
       "n (y³)           3        3               3                               3   \n",
       "────── + 2⋅F₂⋅sin (y²)⋅cos (y³) - 2⋅F₂⋅sin (y²)⋅cos(y³) - 2⋅F₂⋅sin(y²)⋅cos (y³\n",
       "y²)                                                                           \n",
       "──────────────────────────────────────────────────────────────────────────────\n",
       "                                      y¹                                      \n",
       "                                                                              \n",
       "                3                                                             \n",
       "        2⋅F₁⋅cos (y³)   4⋅F₁⋅cos(y³)           3        3                     \n",
       "s(y³) + ───────────── - ──────────── - 2⋅F₂⋅sin (y²)⋅sin (y³) + 2⋅F₂⋅sin(y²)⋅s\n",
       "           sin(y²)        sin(y²)                                             \n",
       "──────────────────────────────────────────────────────────────────────────────\n",
       "                                      y¹                                      \n",
       "                                                                              \n",
       "                3                       2        3               3            \n",
       "2⋅F₁⋅sin(y³)⋅cos (y²)⋅cos(y³) + 2⋅F₂⋅sin (y³)⋅cos (y²) + 2⋅F₃⋅sin (y²)⋅sin(y³)\n",
       "──────────────────────────────────────────────────────────────────────────────\n",
       "                                      y¹                                      \n",
       "\n",
       "                                   3                                          \n",
       "                           2⋅F₂⋅cos (y³)                   3                  \n",
       ") + 2⋅F₂⋅sin(y²)⋅cos(y³) + ───────────── + 2⋅F₃⋅sin(y³)⋅cos (y²)⋅cos(y³) - 4⋅F\n",
       "                              sin(y²)                                         \n",
       "──────────────────────────────────────────────────────────────────────────────\n",
       "                                                                              \n",
       "                                                                              \n",
       "                  3                                                           \n",
       "  3       2⋅F₂⋅sin (y³)   2⋅F₂⋅sin(y³)           2        3               2   \n",
       "in (y³) - ───────────── + ──────────── + 2⋅F₃⋅sin (y³)⋅cos (y²) - 4⋅F₃⋅sin (y³\n",
       "             sin(y²)        sin(y²)                                           \n",
       "──────────────────────────────────────────────────────────────────────────────\n",
       "                                                                              \n",
       "                                                                              \n",
       "                                                                              \n",
       "                                                                              \n",
       "                                                                              \n",
       "                                                                              \n",
       "\n",
       "                                                                              \n",
       "                                                                              \n",
       "₃⋅sin(y³)⋅cos(y²)⋅cos(y³)                                3        2           \n",
       "                                                 2⋅F₁⋅cos (y²)⋅cos (y³) + 2⋅F₂\n",
       "─────────────────────────                        ─────────────────────────────\n",
       "                                                                              \n",
       "                                                                              \n",
       "                                                                              \n",
       "                                                                              \n",
       ")⋅cos(y²)                                                        3            \n",
       "                                                 2⋅F₁⋅sin(y³)⋅cos (y²)⋅cos(y³)\n",
       "─────────                                        ─────────────────────────────\n",
       "                                                                              \n",
       "                                                                              \n",
       "                                   3                                          \n",
       "                           2⋅F₁⋅sin (y²)⋅cos(y³) - 4⋅F₁⋅sin(y²)⋅cos(y³) + 2⋅F₂\n",
       "                           ───────────────────────────────────────────────────\n",
       "                                                                              \n",
       "\n",
       "                                                                       ⎤\n",
       "                                                                       ⎥\n",
       "            3                       3                                  ⎥\n",
       "⋅sin(y³)⋅cos (y²)⋅cos(y³) + 2⋅F₃⋅sin (y²)⋅cos(y³)                      ⎥\n",
       "─────────────────────────────────────────────────                      ⎥\n",
       "         y¹                                                            ⎥\n",
       "                                                                       ⎥\n",
       "                                                                       ⎥\n",
       "                                                                       ⎥\n",
       "           2        3               3                                  ⎥\n",
       " + 2⋅F₂⋅sin (y³)⋅cos (y²) + 2⋅F₃⋅sin (y²)⋅sin(y³)                      ⎥\n",
       "─────────────────────────────────────────────────                      ⎥\n",
       "         y¹                                                            ⎥\n",
       "                                                                       ⎥\n",
       "    3                                              3                   ⎥\n",
       "⋅sin (y²)⋅sin(y³) - 4⋅F₂⋅sin(y²)⋅sin(y³) - 2⋅F₃⋅cos (y²) + 2⋅F₃⋅cos(y²)⎥\n",
       "───────────────────────────────────────────────────────────────────────⎥\n",
       "         y¹                                                            ⎦"
      ]
     },
     "execution_count": 98,
     "metadata": {},
     "output_type": "execute_result"
    }
   ],
   "source": [
    "## transformation law for the 2nd order tensor\n",
    "J_2 = trigsimp(simplify(J_1.inverse_GE()))\n",
    "d_r_T_j_x = zeros(3,3)\n",
    "for i in range(0,3):\n",
    "    for q in range(0,3):\n",
    "        for r in range(0,3):\n",
    "            for s in range(0,3):\n",
    "                d_r_T_j_x[i,q] += d_r_T_j[r,s] * J_2[r,i]*J_2[s,q]\n",
    "\n",
    "simplify(d_r_T_j_x).doit()"
   ]
  },
  {
   "cell_type": "code",
   "execution_count": 99,
   "metadata": {
    "collapsed": false
   },
   "outputs": [
    {
     "data": {
      "text/latex": [
       "$$\\left[\\begin{matrix}5.99999999998768 & 0 & 9.28756427673455 \\cdot 10^{-6}\\\\0 & -1.0 & 0\\\\9.28756427673455 \\cdot 10^{-6} & 0 & -0.999999999987677\\end{matrix}\\right]$$"
      ],
      "text/plain": [
       "⎡ 5.99999999998768     0    9.28756427673455e-6⎤\n",
       "⎢                                              ⎥\n",
       "⎢         0           -1.0           0         ⎥\n",
       "⎢                                              ⎥\n",
       "⎣9.28756427673455e-6   0    -0.999999999987677 ⎦"
      ]
     },
     "execution_count": 99,
     "metadata": {},
     "output_type": "execute_result"
    }
   ],
   "source": [
    "t3=d_r_T_j_x.subs( {F_1:F1, F_2:F2, F_3:F3} ).doit()\n",
    "\n",
    "t3=t3.subs({sqrt(x_1**2+x_2**2+x_3**2):y__1, x_1:y__1*cos(y__3)*sin(y__2),x_2:y__1*sin(y__3)*sin(y__2),x_3:y__1*cos(y__2) })\n",
    "\n",
    "t3.subs({y__1:1, y__2:3.14159/2, y__3:0})\n"
   ]
  },
  {
   "cell_type": "code",
   "execution_count": 100,
   "metadata": {
    "collapsed": false
   },
   "outputs": [
    {
     "data": {
      "text/latex": [
       "$$\\left[\\begin{matrix}2.49999535621786 & 0 & 3.49999999999692\\\\0 & -1.0 & 0\\\\3.49999999999692 & 0 & 2.50000464378214\\end{matrix}\\right]$$"
      ],
      "text/plain": [
       "⎡2.49999535621786   0    3.49999999999692⎤\n",
       "⎢                                        ⎥\n",
       "⎢       0          -1.0         0        ⎥\n",
       "⎢                                        ⎥\n",
       "⎣3.49999999999692   0    2.50000464378214⎦"
      ]
     },
     "execution_count": 100,
     "metadata": {},
     "output_type": "execute_result"
    }
   ],
   "source": [
    "N(t3.subs({y__1:1, y__2:3.14159/4, y__3:0}))"
   ]
  },
  {
   "cell_type": "code",
   "execution_count": 101,
   "metadata": {
    "collapsed": false
   },
   "outputs": [
    {
     "data": {
      "text/latex": [
       "$$\\left[\\begin{matrix}-0.99999999995071 & 0 & -1.85751285534037 \\cdot 10^{-5}\\\\0 & -1.0 & 0\\\\-1.85751285534037 \\cdot 10^{-5} & 0 & 5.99999999995071\\end{matrix}\\right]$$"
      ],
      "text/plain": [
       "⎡ -0.99999999995071     0    -1.85751285534037e-5⎤\n",
       "⎢                                                ⎥\n",
       "⎢         0            -1.0           0          ⎥\n",
       "⎢                                                ⎥\n",
       "⎣-1.85751285534037e-5   0      5.99999999995071  ⎦"
      ]
     },
     "execution_count": 101,
     "metadata": {},
     "output_type": "execute_result"
    }
   ],
   "source": [
    "N(t3.subs({y__1:1, y__2:3.14159, y__3:0}))"
   ]
  },
  {
   "cell_type": "code",
   "execution_count": 102,
   "metadata": {
    "collapsed": false
   },
   "outputs": [
    {
     "data": {
      "text/latex": [
       "$$\\left[\\begin{matrix}-0.124998479858855 & 1.51554399372907 & 1.75000268108664\\\\1.51554399372907 & 1.62499383607672 & 3.0310873653143\\\\1.75000268108664 & 3.0310873653143 & 2.50000464378214\\end{matrix}\\right]$$"
      ],
      "text/plain": [
       "⎡-0.124998479858855  1.51554399372907  1.75000268108664⎤\n",
       "⎢                                                      ⎥\n",
       "⎢ 1.51554399372907   1.62499383607672  3.0310873653143 ⎥\n",
       "⎢                                                      ⎥\n",
       "⎣ 1.75000268108664   3.0310873653143   2.50000464378214⎦"
      ]
     },
     "execution_count": 102,
     "metadata": {},
     "output_type": "execute_result"
    }
   ],
   "source": [
    "N(t3.subs({y__1:1, y__2:3.14159/4, y__3:3.14159/3}))"
   ]
  },
  {
   "cell_type": "markdown",
   "metadata": {},
   "source": [
    " Now to test first taking the covariant derivative of the cartesian case..."
   ]
  },
  {
   "cell_type": "code",
   "execution_count": 103,
   "metadata": {
    "collapsed": false
   },
   "outputs": [
    {
     "data": {
      "text/latex": [
       "$$\\left[\\begin{matrix}0.00424999463778256 & -1.39313321860254 \\cdot 10^{-8} & -0.00303109200908488\\\\-1.39313321860254 \\cdot 10^{-8} & -0.000999999999963032 & 8.04327481804898 \\cdot 10^{-9}\\\\-0.00303109200908488 & 8.04327481804897 \\cdot 10^{-9} & 0.000750005362180475\\end{matrix}\\right]$$"
      ],
      "text/plain": [
       "⎡0.00424999463778256   -1.39313321860254e-8   -0.00303109200908488⎤\n",
       "⎢                                                                 ⎥\n",
       "⎢-1.39313321860254e-8  -0.000999999999963032  8.04327481804898e-9 ⎥\n",
       "⎢                                                                 ⎥\n",
       "⎣-0.00303109200908488   8.04327481804897e-9   0.000750005362180475⎦"
      ]
     },
     "execution_count": 103,
     "metadata": {},
     "output_type": "execute_result"
    }
   ],
   "source": [
    "### weird\n",
    "N(t3.subs({y__1:10, y__2:3.14159/3, y__3:3.14159}))"
   ]
  },
  {
   "cell_type": "markdown",
   "metadata": {},
   "source": [
    "### First create the potential"
   ]
  },
  {
   "cell_type": "code",
   "execution_count": 104,
   "metadata": {
    "collapsed": false
   },
   "outputs": [
    {
     "data": {
      "text/latex": [
       "$$\\left[\\begin{matrix}- \\frac{x_{1}}{\\left(x_{1}^{2} + x_{2}^{2} + x_{3}^{2}\\right)^{\\frac{3}{2}}}\\\\- \\frac{x_{2}}{\\left(x_{1}^{2} + x_{2}^{2} + x_{3}^{2}\\right)^{\\frac{3}{2}}}\\\\- \\frac{x_{3}}{\\left(x_{1}^{2} + x_{2}^{2} + x_{3}^{2}\\right)^{\\frac{3}{2}}}\\end{matrix}\\right]$$"
      ],
      "text/plain": [
       "⎡        -x₁         ⎤\n",
       "⎢────────────────────⎥\n",
       "⎢                 3/2⎥\n",
       "⎢⎛  2     2     2⎞   ⎥\n",
       "⎢⎝x₁  + x₂  + x₃ ⎠   ⎥\n",
       "⎢                    ⎥\n",
       "⎢        -x₂         ⎥\n",
       "⎢────────────────────⎥\n",
       "⎢                 3/2⎥\n",
       "⎢⎛  2     2     2⎞   ⎥\n",
       "⎢⎝x₁  + x₂  + x₃ ⎠   ⎥\n",
       "⎢                    ⎥\n",
       "⎢        -x₃         ⎥\n",
       "⎢────────────────────⎥\n",
       "⎢                 3/2⎥\n",
       "⎢⎛  2     2     2⎞   ⎥\n",
       "⎣⎝x₁  + x₂  + x₃ ⎠   ⎦"
      ]
     },
     "execution_count": 104,
     "metadata": {},
     "output_type": "execute_result"
    }
   ],
   "source": [
    "## ok so moving to the Cartesian case ... the symbols *might mean*\n",
    "potential = 1 / sqrt(x_1**2+x_2**2+x_3**2)\n",
    "F1=diff(potential,x_1)\n",
    "F2=diff(potential,x_2)\n",
    "F3=diff(potential,x_3)\n",
    "\n",
    "grad_phi_cartesian = Matrix([F1, F2, F3])\n",
    "grad_phi_cartesian"
   ]
  },
  {
   "cell_type": "markdown",
   "metadata": {},
   "source": [
    "### substitute the x coordinates with the transform to spherical"
   ]
  },
  {
   "cell_type": "code",
   "execution_count": 105,
   "metadata": {
    "collapsed": false
   },
   "outputs": [
    {
     "data": {
      "text/latex": [
       "$$\\left[\\begin{matrix}- \\frac{1}{y_{1}^{2}} \\sin^{2}{\\left (y_{2} \\right )} \\sin^{2}{\\left (y_{3} \\right )} - \\frac{1}{y_{1}^{2}} \\sin^{2}{\\left (y_{2} \\right )} \\cos^{2}{\\left (y_{3} \\right )} - \\frac{1}{y_{1}^{2}} \\cos^{2}{\\left (y_{2} \\right )}\\\\- \\frac{1}{y_{1}} \\sin{\\left (y_{2} \\right )} \\sin^{2}{\\left (y_{3} \\right )} \\cos{\\left (y_{2} \\right )} - \\frac{1}{y_{1}} \\sin{\\left (y_{2} \\right )} \\cos{\\left (y_{2} \\right )} \\cos^{2}{\\left (y_{3} \\right )} + \\frac{1}{y_{1}} \\sin{\\left (y_{2} \\right )} \\cos{\\left (y_{2} \\right )}\\\\0\\end{matrix}\\right]$$"
      ],
      "text/plain": [
       "⎡               2        2          2        2          2               ⎤\n",
       "⎢            sin (y₂)⋅sin (y₃)   sin (y₂)⋅cos (y₃)   cos (y₂)           ⎥\n",
       "⎢          - ───────────────── - ───────────────── - ────────           ⎥\n",
       "⎢                     2                   2              2              ⎥\n",
       "⎢                   y₁                  y₁             y₁               ⎥\n",
       "⎢                                                                       ⎥\n",
       "⎢             2                                  2                      ⎥\n",
       "⎢  sin(y₂)⋅sin (y₃)⋅cos(y₂)   sin(y₂)⋅cos(y₂)⋅cos (y₃)   sin(y₂)⋅cos(y₂)⎥\n",
       "⎢- ──────────────────────── - ──────────────────────── + ───────────────⎥\n",
       "⎢             y₁                         y₁                     y₁      ⎥\n",
       "⎢                                                                       ⎥\n",
       "⎣                                   0                                   ⎦"
      ]
     },
     "execution_count": 105,
     "metadata": {},
     "output_type": "execute_result"
    }
   ],
   "source": [
    "grad_phi_cartesian =grad_phi_cartesian.subs({sqrt(x_1**2+x_2**2+x_3**2):y_1})\n",
    "\n",
    "\n",
    "grad_phi_cartesian =grad_phi_cartesian.subs({x_1:y_1*cos(y_3)*sin(y_2)})\n",
    "grad_phi_cartesian =grad_phi_cartesian.subs({x_2:y_1*sin(y_3)*sin(y_2)})\n",
    "grad_phi_cartesian =grad_phi_cartesian.subs({x_3:y_1*cos(y_2)})\n",
    "\n",
    "T_sph = J_1.subs({y__1:y_1,y__2:y_2,y__3:y_3}).T *grad_phi_cartesian\n",
    "#T_sph = T_sph.T\n",
    "T_sph"
   ]
  },
  {
   "cell_type": "markdown",
   "metadata": {},
   "source": [
    " construct the matrix of derivatives in the cartesian plane - note these would involve the subtraction of the christoffel symbols, but since this is a unit metric, they are all zero"
   ]
  },
  {
   "cell_type": "code",
   "execution_count": 106,
   "metadata": {
    "collapsed": false
   },
   "outputs": [
    {
     "data": {
      "text/latex": [
       "$$\\left[\\begin{matrix}- \\frac{1}{y_{1}^{2}} \\sin^{2}{\\left (y_{2} \\right )} \\sin^{2}{\\left (y_{3} \\right )} - \\frac{1}{y_{1}^{2}} \\sin^{2}{\\left (y_{2} \\right )} \\cos^{2}{\\left (y_{3} \\right )} - \\frac{1}{y_{1}^{2}} \\cos^{2}{\\left (y_{2} \\right )}\\\\- \\frac{1}{y_{1}} \\sin{\\left (y_{2} \\right )} \\sin^{2}{\\left (y_{3} \\right )} \\cos{\\left (y_{2} \\right )} - \\frac{1}{y_{1}} \\sin{\\left (y_{2} \\right )} \\cos{\\left (y_{2} \\right )} \\cos^{2}{\\left (y_{3} \\right )} + \\frac{1}{y_{1}} \\sin{\\left (y_{2} \\right )} \\cos{\\left (y_{2} \\right )}\\\\0\\end{matrix}\\right]$$"
      ],
      "text/plain": [
       "⎡               2        2          2        2          2               ⎤\n",
       "⎢            sin (y₂)⋅sin (y₃)   sin (y₂)⋅cos (y₃)   cos (y₂)           ⎥\n",
       "⎢          - ───────────────── - ───────────────── - ────────           ⎥\n",
       "⎢                     2                   2              2              ⎥\n",
       "⎢                   y₁                  y₁             y₁               ⎥\n",
       "⎢                                                                       ⎥\n",
       "⎢             2                                  2                      ⎥\n",
       "⎢  sin(y₂)⋅sin (y₃)⋅cos(y₂)   sin(y₂)⋅cos(y₂)⋅cos (y₃)   sin(y₂)⋅cos(y₂)⎥\n",
       "⎢- ──────────────────────── - ──────────────────────── + ───────────────⎥\n",
       "⎢             y₁                         y₁                     y₁      ⎥\n",
       "⎢                                                                       ⎥\n",
       "⎣                                   0                                   ⎦"
      ]
     },
     "execution_count": 106,
     "metadata": {},
     "output_type": "execute_result"
    }
   ],
   "source": [
    "grad_phi_cov_y.subs({y__1:y_1, y__2:y_2, y__3:y_3,f__1:grad_phi_cartesian[0], f__2:grad_phi_cartesian[1], f__3:grad_phi_cartesian[2]})"
   ]
  },
  {
   "cell_type": "code",
   "execution_count": 107,
   "metadata": {
    "collapsed": true
   },
   "outputs": [],
   "source": [
    "T_22 = zeros(3,3)\n",
    "\n",
    "Y = Matrix([y_1, y_2, y_3])\n",
    "\n",
    "for i in range(0,3):\n",
    "    for j in range(0,3):\n",
    "        T_22[i,j] = diff(grad_phi_cartesian[i],Y[j]) \n"
   ]
  },
  {
   "cell_type": "markdown",
   "metadata": {},
   "source": [
    " transform the matrix of derivatives to spherical coordinates"
   ]
  },
  {
   "cell_type": "code",
   "execution_count": 108,
   "metadata": {
    "collapsed": false
   },
   "outputs": [
    {
     "data": {
      "text/latex": [
       "$$\\left[\\begin{matrix}\\frac{2}{y_{1}^{3}} \\sin{\\left (y_{2} \\right )} \\cos{\\left (y_{3} \\right )} & \\frac{2}{y_{1}^{2}} \\cos{\\left (y_{2} \\right )} \\cos{\\left (y_{3} \\right )} & - \\frac{2}{y_{1}^{2}} \\sin{\\left (y_{2} \\right )} \\sin{\\left (y_{3} \\right )}\\\\- \\frac{1}{y_{1}} \\sin{\\left (y_{2} \\right )} \\sin{\\left (y_{3} \\right )} & - \\sin{\\left (y_{3} \\right )} \\cos{\\left (y_{2} \\right )} & - \\sin{\\left (y_{2} \\right )} \\cos{\\left (y_{3} \\right )}\\\\- \\frac{1}{y_{1}} \\sin^{2}{\\left (y_{2} \\right )} \\cos{\\left (y_{2} \\right )} & \\sin^{3}{\\left (y_{2} \\right )} & 0\\end{matrix}\\right]$$"
      ],
      "text/plain": [
       "⎡2⋅sin(y₂)⋅cos(y₃)   2⋅cos(y₂)⋅cos(y₃)  -2⋅sin(y₂)⋅sin(y₃) ⎤\n",
       "⎢─────────────────   ─────────────────  ───────────────────⎥\n",
       "⎢         3                   2                   2        ⎥\n",
       "⎢       y₁                  y₁                  y₁         ⎥\n",
       "⎢                                                          ⎥\n",
       "⎢-sin(y₂)⋅sin(y₃)                                          ⎥\n",
       "⎢─────────────────   -sin(y₃)⋅cos(y₂)    -sin(y₂)⋅cos(y₃)  ⎥\n",
       "⎢        y₁                                                ⎥\n",
       "⎢                                                          ⎥\n",
       "⎢    2                                                     ⎥\n",
       "⎢-sin (y₂)⋅cos(y₂)          3                              ⎥\n",
       "⎢──────────────────      sin (y₂)                0         ⎥\n",
       "⎣        y₁                                                ⎦"
      ]
     },
     "execution_count": 108,
     "metadata": {},
     "output_type": "execute_result"
    }
   ],
   "source": [
    "## transformation law for the 2nd order tensor\n",
    "J_11 = J_1.subs({y__1:y_1,y__2:y_2,y__3:y_3})\n",
    "T_22_s = zeros(3,3)\n",
    "for i in range(0,3):\n",
    "    for q in range(0,3):\n",
    "        for r in range(0,3):\n",
    "            for s in range(0,3):\n",
    "                T_22_s[i,q] += T_22[r,s] * J_11[r,i]*J_11[s,q]\n",
    "\n",
    "simplify(T_22_s).doit()"
   ]
  },
  {
   "cell_type": "markdown",
   "metadata": {},
   "source": [
    "Now"
   ]
  },
  {
   "cell_type": "code",
   "execution_count": 109,
   "metadata": {
    "collapsed": false
   },
   "outputs": [
    {
     "data": {
      "text/latex": [
       "$$\\left[\\begin{matrix}\\frac{6}{y_{1}^{3}} \\sin{\\left (y_{2} \\right )} \\cos{\\left (y_{3} \\right )} & \\frac{6}{y_{1}^{2}} \\cos{\\left (y_{2} \\right )} \\cos{\\left (y_{3} \\right )} & - \\frac{6}{y_{1}^{2}} \\sin{\\left (y_{2} \\right )} \\sin{\\left (y_{3} \\right )}\\\\- \\frac{3}{y_{1}} \\sin{\\left (y_{2} \\right )} \\sin{\\left (y_{3} \\right )} & - 3 \\sin{\\left (y_{3} \\right )} \\cos{\\left (y_{2} \\right )} + \\frac{1}{y_{1}} & - 3 \\sin{\\left (y_{2} \\right )} \\cos{\\left (y_{3} \\right )}\\\\- \\frac{3}{y_{1}} \\sin^{2}{\\left (y_{2} \\right )} \\cos{\\left (y_{2} \\right )} & 3 \\sin^{3}{\\left (y_{2} \\right )} & \\frac{1}{y_{1}} \\sin^{2}{\\left (y_{2} \\right )}\\end{matrix}\\right]$$"
      ],
      "text/plain": [
       "⎡ 6⋅sin(y₂)⋅cos(y₃)       6⋅cos(y₂)⋅cos(y₃)     -6⋅sin(y₂)⋅sin(y₃) ⎤\n",
       "⎢ ─────────────────       ─────────────────     ───────────────────⎥\n",
       "⎢          3                       2                      2        ⎥\n",
       "⎢        y₁                      y₁                     y₁         ⎥\n",
       "⎢                                                                  ⎥\n",
       "⎢-3⋅sin(y₂)⋅sin(y₃)                         1                      ⎥\n",
       "⎢───────────────────   -3⋅sin(y₃)⋅cos(y₂) + ──  -3⋅sin(y₂)⋅cos(y₃) ⎥\n",
       "⎢         y₁                                y₁                     ⎥\n",
       "⎢                                                                  ⎥\n",
       "⎢      2                                                2          ⎥\n",
       "⎢-3⋅sin (y₂)⋅cos(y₂)              3                  sin (y₂)      ⎥\n",
       "⎢────────────────────        3⋅sin (y₂)              ────────      ⎥\n",
       "⎣         y₁                                            y₁         ⎦"
      ]
     },
     "execution_count": 109,
     "metadata": {},
     "output_type": "execute_result"
    }
   ],
   "source": [
    "## now construct the covariant derivative\n",
    "\n",
    "d_r_T_j_22 = zeros(3,3)\n",
    "\n",
    "# using our vector matrix, grad_phi_cov_y, \n",
    "# the covariant vector \n",
    "\n",
    "\n",
    "for r in range(0,3): # free index r\n",
    "    for j in range(0,3): # free index j\n",
    "        for p in range(0,3): # dummy index p\n",
    "        \n",
    "            # using our vector matrix X=[y_1,y_2, y_3]\n",
    "            d_r_T_j_22[j,r] += T_22_s[j,r] + gamma2[p][r,j].subs({y__1:y_1,y__2:y_2,y__3:y_3})*T_sph[p] ## perhaps one of the other gamma2 systems\n",
    "\n",
    "            \n",
    "init_printing(use_latex=True)\n",
    "\n",
    "\n",
    "\n",
    "d_r_T_j_22 = simplify(d_r_T_j_22)\n",
    "d_r_T_j_22"
   ]
  },
  {
   "cell_type": "markdown",
   "metadata": {},
   "source": [
    "In this complicated approach ... I followed these steps\n",
    "\n",
    "$$ \\frac{\\partial \\bar{\\mathbf T}_i}{\\partial \\bar{x}^k} - \\bar{\\Gamma}^t_{ik}\\bar{\\mathbf T}_t = (\\frac{\\partial \\mathbf T_r}{\\partial x^s} - \\Gamma^t_{rs}\\mathbf T_t )\\frac{\\partial x^r}{\\partial \\bar{x}^i}\\frac{\\partial x^s}{\\partial \\bar{x}^k}$$\n",
    "\n",
    "becomes\n",
    "\n",
    "$$ \\frac{\\partial \\bar{\\mathbf T}_i}{\\partial \\bar{x}^k} - \\bar{\\Gamma}^t_{ik}\\bar{\\mathbf T}_t = (\\frac{\\partial \\mathbf T_r}{\\partial x^s}  )\\frac{\\partial x^r}{\\partial \\bar{x}^i}\\frac{\\partial x^s}{\\partial \\bar{x}^k}$$\n",
    "\n",
    "because the right hand side is cartesian.\n",
    "\n",
    "\n",
    "$$ \\frac{\\partial \\bar{\\mathbf T}_i}{\\partial \\bar{x}^k} - \\bar{\\Gamma}^t_{ik}\\bar{\\mathbf T}_t = \\mathbf {\\bar{T}}_{ik}$$\n",
    "\n",
    "then\n",
    "\n",
    "$$ \\frac{\\partial \\bar{\\mathbf T}_i}{\\partial \\bar{x}^k}  = \\mathbf {\\bar{T}}_{ik} + \\bar{\\Gamma}^t_{ik}\\bar{\\mathbf T}_t $$"
   ]
  },
  {
   "cell_type": "markdown",
   "metadata": {},
   "source": [
    "### Intrinsic or absolute derivative\n",
    "   \n",
    "The inner product of the covariant derivative with the tangent vector to a curve is\n",
    "   \n",
    "   $$\\left( \\nabla_r \\mathbf T^i, \\frac{\\partial \\mathbf x^r}{\\partial t} \\right)$$\n",
    " \n",
    "is a tensor of the same type and order as $\\mathbf T^i$ and is known as the absolute or intrinsic derivative along the curve.\n",
    "   \n",
    "   $$\\frac{\\delta \\mathbf T^i}{\\delta t} = \\frac{\\partial \\mathbf T^i}{\\partial t} + \\Gamma^i_{pq} \\mathbf T^p \\frac{\\partial \\mathbf x^q}{\\partial t}, \\qquad \\mathbf T^i = \\mathbf T^i (\\mathbf x(t)) $$\n",
    "   "
   ]
  },
  {
   "cell_type": "markdown",
   "metadata": {},
   "source": [
    "To show this, simply take the  covariant derivative of $\\mathbf T^i$ with respect to $\\mathbf x^r$, and form the dot product with $\\frac{\\partial x^r}{\\partial t}$ as follows\n",
    "\n",
    "$$\\nabla_r \\mathbf T^i \\frac{\\partial x^r}{\\partial t} = \\frac{\\partial \\mathbf T^i}{\\partial x^r}\\frac{\\partial x^r}{\\partial t}  + \\Gamma^i_{qr} \\mathbf T^q \\frac{\\partial x^r}{\\partial t}$$\n",
    "then\n",
    "   \n",
    "$$\\nabla_r \\mathbf T^i \\frac{\\partial x^r}{\\partial t}= \\frac{\\partial \\mathbf T^i}{\\partial t}  + \\Gamma^i_{qr} \\mathbf T^q \\frac{\\partial x^r}{\\partial t} \\equiv \\frac{\\delta \\mathbf T^i}{\\delta t} $$\n",
    "\n",
    "> Pay attention to the indices, the $x^q$ in the initial definition means its the dot product with $\\frac{\\partial x^q}{\\partial t}$ that was formed ... so the second definition is clearer."
   ]
  },
  {
   "cell_type": "markdown",
   "metadata": {},
   "source": [
    "Absolute differentiation is a linear operator.\n",
    "   \n",
    "### Acceleration \n",
    "   \n",
    "This is defined as the time derivative of the absolute derivative of the coordinate, \n",
    "   \n",
    "$$\\mathbf a = a^i = \\frac{\\delta}{\\delta t} \\left(\\frac{d x^i}{dt}\\right)= \\frac{d}{d t} \\left(\\frac{\\delta  x^i}{\\delta t}\\right)=\\frac{\\partial^2 x^i}{\\partial t^2}  + \\Gamma^i_{qr}  \\frac{\\partial x^q}{\\partial t}\\frac{\\partial x^r}{\\partial t}$$"
   ]
  },
  {
   "cell_type": "markdown",
   "metadata": {},
   "source": [
    "### Geodesics\n",
    "   \n",
    "This is easily derived from the Euler-Lagrange equation, (see Calculus of Variations notebook in Lagrangian subfolder) and represents the line between two points that minimizes the intrinsic distance. \n",
    "\n",
    "> The notion of intrinsic distance means the distance *under* the metric, or to minimize the variation in coordinates on the path between two points.\n",
    "   \n",
    "To repeat example 2 in the notebook, The solution to minimizing the distance between two points was the differential equation \n",
    "   \n",
    "$$ y'' = 0 $$\n",
    "   \n",
    "and this leads to the equation of a line after two successive integrations $y = mx+ c$, so clearly a simple and easy way to compute a geodesic on a surface (in some cases) may be to substitute the surface variables in place of $x$ and $y$...\n",
    "\n",
    "For example in the 2d space, $x = uv,\\quad y = \\frac{1}{2}(u^2 - v^2)$ the equation of the lines $u=m_1 v + c_1$ and $v = m_2 u + c_1$ where $m_1$ and $m_2$ are just arbitrary gradients and $c_1$ and $c_2$ are arbitrary constants to be chosen, allows us to create curvilinear triangles that minimize $u$ and $v$ between two points ..."
   ]
  },
  {
   "cell_type": "code",
   "execution_count": 120,
   "metadata": {
    "collapsed": false
   },
   "outputs": [
    {
     "data": {
      "image/png": "[encoded data removed]",
      "text/plain": [
       "<matplotlib.figure.Figure at 0xc6efc88>"
      ]
     },
     "metadata": {},
     "output_type": "display_data"
    }
   ],
   "source": [
    "from sympy.plotting import plot_parametric, plot3d\n",
    "u,v = symbols('u,v')\n",
    "g,ux,uz,t= symbols('g, ux,uz,t')\n",
    "z_=((g/2)*(t+uz/g)**2)-1/(2*g)\n",
    "x_=ux*(t+uz/g)\n",
    "\n",
    "z_ = (g/(2*ux**2))*x_**2  -ux**2/(2*g)\n",
    "\n",
    "u_pow2 = sqrt( x_**2 + z_**2 ) + z_\n",
    "v_pow2 = sqrt( x_**2 + z_**2 ) - z_\n",
    "u_1= sqrt(u_pow2.subs({t:0,ux:sqrt(2),uz:150,g:-9.81}))\n",
    "u_2= sqrt(u_pow2.subs({t:25,ux:sqrt(2),uz:150,g:-9.81}))\n",
    "v_1= sqrt(v_pow2.subs({t:0,ux:sqrt(2),uz:150,g:-9.81}))\n",
    "v_2= sqrt(v_pow2.subs({t:25,ux:sqrt(2),uz:150,g:-9.81}))\n",
    "\n",
    "scaled_arcLen =N(  (integrate(sqrt(u_1**2 + v**2),(v,0,v_1)) +integrate(sqrt(u_1**2 + v**2),(v,0,v_2))))\n",
    "p1=plot_parametric(x_.subs({ux:150,uz:150,g:-9.81}),-z_.subs({ux:150,uz:150,g:-9.81}), (t,0,35),xlim=(-2000,2000),ylim=(-2000,2000),show=False, line_color='r')\n",
    "p1.extend(plot_parametric((47.8913142610576*(u),0.5*((u)**2 - 47.8913142610576**2)),(u,-2800,2800),show=False, line_color='r'))\n",
    "for a in range(1,25):\n",
    "    v = 3*a#sqrt(50*2*a)\n",
    "    p1.extend(plot_parametric((u*v,0.5*(v**2-u**2)),(u,-2800,2800),show=False))\n",
    "    \n",
    "\n",
    "for a in range(1,25):\n",
    "    #p = \n",
    "    v=3*a\n",
    "    p1.extend(plot_parametric((u*(v),0.5*(u**2-(v)**2)),(u,-2800,2800),show=False, line_color='g'))\n",
    "\n",
    "p1.extend( plot_parametric((u*(-1.5*(u) - 70),0.5*(u**2-(-1.5*(u) - 70)**2)),(u,-2800,2800),show=False, line_color='r'))   \n",
    "p1.extend(plot_parametric((35)*(u),0.5*(((35)**2)-(u)**2 ),(u,-2800,2800),show=False, line_color='r'))\n",
    "p1.show()"
   ]
  },
  {
   "cell_type": "markdown",
   "metadata": {},
   "source": [
    "Two of the red curves run along parameter lines, and are either $u=[\\text{const}]$ or $v=[\\text{const}]$, the other red line connects two points on the lines with an arc, representing the distance that minimizes the distance in $u$ and $v$ ( and not in $x$ and $y$ ). This distance is $s (u,v) = \\sqrt{u^2 + v^2} $ and is a curvlinear version of the pythagorean theorom. Using the metric would give us the distance in rectangular coordinates, but that would not be a geodesic.\n",
    "   \n",
    "Geodesics on a sphere are simply the curves between two ponits, if two points are on the equator of the earth, then a geodesic between them would travel along the equator. In fact you could rotate the sphere to be oriented such that the two points are flat on the $xz$ plane then simply claim that the geodesic is the new equator.\n",
    "\n",
    "### Generalized Geodesics \n",
    "   \n",
    "The equation for acceleration with arc length instead of time is ...\n",
    "  \n",
    "$$ b^i =\\frac{\\partial^2 x^i}{\\partial s^2}  + \\Gamma^i_{qr}  \\frac{\\partial x^q}{\\partial s}\\frac{\\partial x^r}{\\partial s}$$\n",
    "   \n",
    "and from this, the Frenet-Serret curvature is \n",
    "   \n",
    "$$\\kappa(s) = \\sqrt{\\left|g_{ij}b^i b^j\\right|}$$\n",
    "\n",
    "so a geodesic is given by the solutions $x^i = x^i(s)$ to the system of equations $b^i = 0$ as defined above. (for positive definite metrics)."
   ]
  },
  {
   "cell_type": "markdown",
   "metadata": {
    "collapsed": true
   },
   "source": [
    "### Parallel Transport\n",
    "   \n",
    "Is the act of transporting a vector around a loop in space such that the vector is always held parallel to its previous position. \n",
    "\n",
    "> The vector is in tangent space.\n",
    "   \n"
   ]
  },
  {
   "cell_type": "code",
   "execution_count": null,
   "metadata": {
    "collapsed": true
   },
   "outputs": [],
   "source": []
  },
  {
   "cell_type": "code",
   "execution_count": null,
   "metadata": {
    "collapsed": true
   },
   "outputs": [],
   "source": []
  }
 ],
 "metadata": {
  "kernelspec": {
   "display_name": "Python 2",
   "language": "python",
   "name": "python2"
  },
  "language_info": {
   "codemirror_mode": {
    "name": "ipython",
    "version": 2
   },
   "file_extension": ".py",
   "mimetype": "text/x-python",
   "name": "python",
   "nbconvert_exporter": "python",
   "pygments_lexer": "ipython2",
   "version": "2.7.10"
  }
 },
 "nbformat": 4,
 "nbformat_minor": 0
}
