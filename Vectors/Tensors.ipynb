{
 "cells": [
  {
   "cell_type": "markdown",
   "metadata": {},
   "source": [
    "#  Tensors "
   ]
  },
  {
   "cell_type": "markdown",
   "metadata": {},
   "source": [
    "#### Definition\n",
    "---\n",
    "\n",
    "> a point in N-dimensional space is represented by $\\mathbf x = (x^1,x^2,\\cdots,x^n)$\n",
    "> the coordnate system is represented by some basis $(\\mathbf e_1, \\mathbf e_2, \\cdots, \\mathbf e_n)$\n",
    "> the point may be represented in more than one basis (see curvilinear coordinates). \n",
    "\n",
    "Note: a superscript is used for the point vector instead of a subscript. If a component is raised to a power, then it is placed in round brackets $(x^i)^2$ is the $i^{th}$ component of $x$ raised to the power of 2.\n",
    "\n",
    "\n",
    "---\n",
    "\n",
    "#### Coordinate Transformations\n",
    "   \n",
    "if $ x^1, x^2 \\cdots,x^n$ and $ \\bar{x}^1, \\bar{x}^2,\\cdots, \\bar{x}^n$ are representations of a point in two coordinate systems or frames of reference, and \n",
    "   \n",
    "$$\\bar{x}^1 =\\bar{x}^1( x^1, x^2 \\cdots,x^n)$$\n",
    "$$\\bar{x}^2 =\\bar{x}^2( x^1, x^2 \\cdots,x^n)$$\n",
    "$$\\cdots$$\n",
    "$$\\bar{x}^n =\\bar{x}^n( x^1, x^2 \\cdots,x^n)$$\n",
    "\n",
    "defines the representation of the *barred coordinates* as a function of the *unbarred coordinates*, and to define the converse\n",
    "\n",
    "$$x^k = x_k(\\bar{x}^1, \\bar{x}^2,\\cdots, \\bar{x}^n ) \\qquad k=1,\\cdots,n $$\n",
    "\n",
    "Then these relations define a coordinate transformation."
   ]
  },
  {
   "cell_type": "markdown",
   "metadata": {},
   "source": [
    "## Einstein Summation Convention"
   ]
  },
  {
   "cell_type": "markdown",
   "metadata": {},
   "source": [
    "---\n",
    "##### Sums\n",
    "\n",
    "expressions of the form \n",
    "\n",
    "$$\\large\\sum_{i=1}^n x_i = x_1 + x_2 +\\cdots x_n $$\n",
    "\n",
    "are written simply as \n",
    "\n",
    "$$x_i,\\quad i=1,n$$\n",
    "\n",
    "For an expression of the form \n",
    "\n",
    "$$ y_i = a_{ij}x_j $$\n",
    "\n",
    "with $j = 1,2,\\cdots,n$, has two indices. The variable $j$ is called a dummy index, and $i$ is called the free index.\n",
    "\n",
    "$$ y_i = a_{i1}x_1 + a_{i2}x_2 + \\cdots +a_{in}x_n$$\n",
    "\n",
    "Now iterating over the free index to $m$ gives \n",
    "\n",
    "$$ y_1 = a_{11}x_1 + a_{12}x_2 + \\cdots +a_{1n}x_n$$\n",
    "$$ y_2 = a_{21}x_1 + a_{22}x_2 + \\cdots +a_{2n}x_n$$\n",
    "$$ \\cdots $$\n",
    "$$ y_m = a_{m1}x_1 + a_{m2}x_2 + \\cdots +a_{mn}x_n$$\n",
    "\n",
    "This does yeild a matrix definition of the form $ \\mathbf y_{m1} = \\mathbf a_{mn} \\mathbf x_{n1} $ \n",
    "\n",
    "> #### The Summation Convention\n",
    "> Any expression with a twice repeated index (either subscripts (and) or superscripts) represents its sum over the \n",
    "> values $1,2,\\cdots,n$ of the repeated index. The character $n$ may represent the range of summations unless stated \n",
    "> otherwise.\n",
    "   \n",
    "> 1) Any free index shall have the same range as summation indexes unless stated otherwise (in the equation above, n=m by default).\n",
    "   \n",
    "> 2) No index may occur more than twice in an expression."
   ]
  },
  {
   "cell_type": "markdown",
   "metadata": {},
   "source": [
    "#### Multiple summation indexes\n",
    "\n",
    "An expression with multiple summation indexes represents the result of the sum over each index, so \n",
    "\n",
    "$$\\large a_{\\color{red}{i}\\color{blue}{j}}x_{\\color{red}{i}}y_{\\color{blue}{j}}$$ \n",
    "\n",
    "results in summing over ${\\color{red}{i}}$ from ${\\color{red}{(1,\\cdots, n)}}$ and ${\\color{blue}{j}}$ from ${\\color{blue}{(1,\\cdots, m)}}$, i.e.first summing over $i$ \n",
    "\n",
    "$$a_{\\color{red}{1}\\color{blue}{j}} x_{\\color{red}{1}} y_{\\color{blue}{j}} + \\cdots + a_{\\color{red}{n}\\color{blue}{j}} x_{\\color{red}{n}} y_{\\color{blue}{j}} $$\n",
    "Then summing over $j$\n",
    "$$ (a_{11} x_1 y_1 + \\cdots + a_{n1} x_n y_1  ) + (a_{12} x_1 y_2 + \\cdots + a_{n2} x_n y_2) + \\cdots + (a_{1m} x_1 y_m + \\cdots + a_{nm} x_n y_m)  $$\n",
    "   \n",
    "dropping the red and blue to save time in the expansion.\n",
    "   \n",
    "> The expressions *are the same* if the order of summation is reversed"
   ]
  },
  {
   "cell_type": "markdown",
   "metadata": {},
   "source": [
    "### Substitutions\n",
    "---\n",
    "If an expression $y_i = a_{ij}x_j$ is substituted into $B = C_{ij}y_ix_j$ then the dummy index $j$ in the first expression is replaced $y_i = a_{ip}x_p$ to avoid having indices repeated more than twice (see remark 2 above), so then $B=C_{ij}a_{ip} x_p x_j$\n"
   ]
  },
  {
   "cell_type": "markdown",
   "metadata": {},
   "source": [
    "#### Matrix Notation "
   ]
  },
  {
   "cell_type": "markdown",
   "metadata": {},
   "source": [
    "We know from matrix algebra that the expression $B=C_{ij}a_{ip} x_p x_j$ does not multiply if converted directly to matrix form, so to put this in matrix form, $$ \\mathbf B_i = (\\mathbf C_{ij} \\mathbf x_j)^{\\mathbf T}( \\mathbf a_{ip} \\mathbf x_p )$$\n",
    "   \n",
    "Matrix notation is different to tensor notation and does not offer an exact replacement because matrix notation requires that a vector is defined as column and transposed to form a row, and that to mulitply two objects (matrix and vector) is an order dependant operation, such that for two non square matrices $\\mathbf A_{mn}$ and $\\mathbf B_{nr}$ the product $\\mathbf C_{mr}= \\mathbf A \\mathbf B $ is possible because $B$ has the same number of rows as $A$ has columns, but $ \\mathbf B \\mathbf A $ is not possible. This is not the case with the summation notation in tensor analysis.\n",
    "\n",
    ">  When Tensor notation is used to denote matrices, the superscript represents the row, and the subscript represents the column"
   ]
  },
  {
   "cell_type": "markdown",
   "metadata": {},
   "source": [
    "### Kronecker Delta \n",
    "---\n",
    "$$ \\delta^{ij} = \\delta_{ij} = \\delta_j^i = 1 $$ if $i=j$ and zero otherwise\n",
    "\n",
    "\n",
    "   \n",
    "Therefore $\\delta_{11} = 1$, and $\\delta_{12} = 0$, etc\n",
    "   \n",
    "This symbol can be seen to be the tensor notation equivalent to the Identity matrix in matrix algebra."
   ]
  },
  {
   "cell_type": "markdown",
   "metadata": {},
   "source": [
    "### Permutation Symbol\n",
    "---\n",
    "The symbol $e_{ijk...n}$ and $e^{ijk...n}$ with n subscripts or superscripts is called the permutation symbol, and is zero if two indices are identical and equals $(-1)^b$ where $b$ is the number interchanges of consecutive subscripts required to bring $ijk...n$ to the order $123...n$. More simply, in the case of $e_{ijk} = e^{ijk}$ \n",
    " \n",
    " \n",
    "$e_{ijk} =0\\qquad $ if two indices are the same\n",
    "  \n",
    "$e_{ijk} =1\\qquad $ if $i,j,k$ is an even permutation\n",
    "   \n",
    "$e_{ijk} =-1\\qquad $ if $i,j,k$ is an odd permutation\n",
    "\n",
    " \n",
    "\n",
    "   \n",
    "\n",
    "   \n",
    "   \n"
   ]
  },
  {
   "cell_type": "markdown",
   "metadata": {},
   "source": [
    "#### Chain Rule\n",
    "\n",
    "For a function (in this case, a scalar valued function of a vector variable) $w = f(u^k)$ for $k=1,\\cdots n$ and $u^k = u^k(x^j)$ for $j=1,\\cdots m$ Then the rate of change of $w$ with resect to the $x^j$ is expressed as\n",
    "   \n",
    "$$ \\frac{ \\partial w }{\\partial x^j} = \\frac{ \\partial w }{\\partial u^k}\\frac{ \\partial u^k }{\\partial x^j} $$ \n",
    "   \n",
    "In this case $k$ in the term $\\frac{ \\partial w }{\\partial u^k}$ is seen as a <b>subscript </b> and the $k$ in the term\n",
    "$\\frac{ \\partial u^k }{\\partial x^j}$ is seen as a <b>superscript</b> with subscript $j$ \n"
   ]
  },
  {
   "cell_type": "markdown",
   "metadata": {},
   "source": [
    "### Dot and Cross Product\n",
    "\n",
    "The dot product can be defined as \n",
    "\n",
    "$$ \\mathbf x\\cdot  \\mathbf y = x^i y^i = \\mathbf x \\mathbf y$$\n",
    "\n",
    "Using the permutation symbol to define the basis vectors .. $e_{ijk}$ then $ e_{132} = (-1)^1 = -1$ and $e_{ijk}$ then $ e_{123} = (-1)^0 = 1$ then for each $e_{ijk}$ there is a unique \n",
    "   \n",
    "$$(\\mathbf u \\times \\mathbf v)_i = (e_{ijk}u_j v_k) $$"
   ]
  },
  {
   "cell_type": "markdown",
   "metadata": {},
   "source": [
    "## Back to Coordinates\n",
    "---\n",
    "Using the summation convention, a *coordinate transformation* may be represented as \n",
    "   \n",
    "$$\\bar{x}^i = \\bar{x}^i( x^j )$$ \n",
    "   \n",
    "and\n",
    "   \n",
    "$$x^j = x^j ( \\bar{x}^i  )$$ \n",
    "   \n"
   ]
  },
  {
   "cell_type": "markdown",
   "metadata": {},
   "source": [
    "### Contravariant Tensor\n",
    "   \n",
    "---\n",
    "If $\\mathbf T = (T^i) $ is a vector field (vector function of a vector variable) in the *unbarred* system such that $T^i = T^i(\\mathbf x) = T^i(x^j)$  and it can also be represented in the *barred* system via a coordinate transformation, then  $\\mathbf T$ is a <b>contravariant tensor of rank 1 </b> if the components \n",
    "   \n",
    "$ (T^{ \\color{red}{1}}, T^{ \\color{red}{2}}, \\cdots, T^{ \\color{red}{n}}) $ in the unbarred system\n",
    "   \n",
    "$ (\\bar{T}^{ \\color{blue}{1}},\\bar{T}^{ \\color{blue}{2}},\\cdots, \\bar{T}^{ \\color{blue}{n}}) $ in the barred system\n",
    "   \n",
    "are related by a transformation \n",
    "\n",
    "$$\\large\\bar{T}^{ \\color{blue}{i}} = \\frac{ \\partial \\bar{x}^{ \\color{blue}{i}} }{ \\partial x^{ \\color{red}{j}}} T^{ \\color{red}{j}} $$ \n",
    "   \n",
    "> A contravariant vector has components that change if the coordinates change, but the vector itself does not change. Under an operation like scaling or rotation, the components of a contravariant vector will make a change that cancels the operation. Examples include velocity of a fluid, displacement, acceleration.\n",
    "   \n",
    "with full-on red and blue notation \n",
    "   \n",
    "$$\\large\\color{blue}{\\bar{T}^{ i}} = \\frac{ \\partial \\color{blue}{\\bar{x}^{ i}} }{ \\partial \\color{red}{x^{ j}}} \\color{red}{T^{ j} }$$ \n",
    "   \n",
    "without the red and blue notation\n",
    "\n",
    "$$\\large\\bar{T}^{ i} = \\frac{ \\partial \\bar{x}^{ i} }{ \\partial x^{ j}} T^{ j} $$ "
   ]
  },
  {
   "cell_type": "markdown",
   "metadata": {},
   "source": [
    "### Covariant Tensor\n",
    "---\n",
    "The vector field $\\mathbf T$ is a covariant tensor is the components in the barred and unbarred coordinate systems obey the following transformation law \n",
    "   \n",
    "$$\\large\\bar{T}_{ \\color{blue}{i}} = \\frac{  \\partial x^{ \\color{red}{j}}  }{\\partial \\bar{x}^{ \\color{blue}{i}} } T_{ \\color{red}{j}} $$ \n",
    "   \n",
    "> A covariant vector has components that change like the coordinates change, The gradient of a scalar function (i.e. the potential) is a covariant tensor, (i.e. $\\mathbf F$ ) , also called a covariant vector.\n",
    "   \n",
    "with the full-on red and blue notation\n",
    "   \n",
    "$$\\large\\color{blue}{\\bar{T}_{ i }} = \\frac{  \\partial \\color{red}{x^{ j }}  }{\\partial \\color{blue}{\\bar{x}^{ i } }} \\color{red}{T_{ j}} $$ \n",
    "   \n",
    "without the red and blue notation\n",
    "\n",
    "$$\\large\\bar{T}_{ i } = \\frac{  \\partial x^{ j }  }{\\partial \\bar{x}^{ i } } T_{ j} $$ "
   ]
  },
  {
   "cell_type": "markdown",
   "metadata": {},
   "source": [
    "#### Note on the Jacobian Matrix\n",
    "> In affine coordinates the contravariant tensor transforms like the Jacobian of the system $\\bar{x}^k =\\bar{x}^k (x^j) $ and in orthogonal coordinates, $J^{-1} = J^T$\n",
    ">   \n",
    "> $$ \\bar {T}^i = J T^j $$ \n",
    ">    \n",
    "> where $$J = \\frac{\\partial \\bar{x}^i}{\\partial x^j} $$ \n",
    ">\n",
    "> "
   ]
  },
  {
   "cell_type": "markdown",
   "metadata": {},
   "source": [
    "\n",
    "> The covariant tensor transforms like the Jacobian of the system $x^j =x^j(\\bar{x}^k ) $ or the _inverse_ of the\n",
    "> jacobian of the system $\\bar{x}^k =\\bar{x}^k (x^j) $ \n",
    ">   \n",
    "> $$ \\bar {T}_i = \\bar{J} T_j = J^{-1} T_j $$ \n",
    ">    \n",
    "> where $$J = \\frac{\\partial \\bar{x}^i}{\\partial x^j} $$ \n",
    "> and\n",
    "> $$\\bar{J} = J^{-1} = \\frac{\\partial x^j} {\\partial \\bar{x}^i} $$"
   ]
  },
  {
   "cell_type": "markdown",
   "metadata": {},
   "source": [
    "#### Invariants\n",
    "Any quantity that does not change with a change of basis is called an invariant. For example, a scalar function of a vector variable, a potential $\\phi(x^i)$ is transformed to the barred coordinate system and still has the same value, therefore $\\phi$ is said to be <b>invariant</b> or a <b>tensor of rank zero</b>. "
   ]
  },
  {
   "cell_type": "markdown",
   "metadata": {},
   "source": [
    "### Second Order Tensors\n",
    "---\n",
    "If there are $n^2$ quantities defining a matrix field, or matrix of scalar fields $\\mathbf T = T^{ij}(\\mathbf x) $ with components in both the barred and unbarred coordinate systems\n",
    "    \n",
    "#### Contravariant\n",
    "      \n",
    "$$\\large\\bar{T}^{ i r} = \\frac{ \\partial \\bar{x}^{ i} }{ \\partial \\smash{x^{ j}}} \\frac{ \\partial \\bar{x}^{ r} }{ \\partial x^{ s}} T^{ j s} $$ \n",
    "\n",
    "#### Covariant\n",
    "   \n",
    "$$\\large\\bar{T}_{ i r } = \\frac{  \\partial x^{ j }  }{\\partial \\smash{\\bar{x}^{ i } }} \\frac{  \\partial x^{ s }  }{\\partial \\bar{x}^{ r } }T_{ j s} $$ \n",
    "\n",
    "#### Mixed\n",
    "   \n",
    "$$\\large\\bar{T}^i_r = \\frac{ \\partial \\bar{x}^{ i} }{ \\partial \\smash{x^{ j}}} \\frac{  \\partial x^{ s }  }{\\partial \\bar{x}^{ r } }T^j_s $$ \n"
   ]
  },
  {
   "cell_type": "markdown",
   "metadata": {
    "collapsed": true
   },
   "source": [
    "> An intutive way to think about this is that a zero order tensor is a scalar, a first order tensor is a vector, and a  second order tensor is a matrix ... for example the mixed tensor written above ( in 3 dimensions ) would appear as the following\n",
    "\n",
    "$$ \\bar{T}^i_r =\\left( \\begin{matrix} \\bar{T}^1_1 &\\bar{T}^1_2 & \\bar{T}^1_3 \\\\ \\bar{T}^2_1&\\bar{T}^2_2&\\bar{T}^2_3 \\\\ \\bar{T}^3_1&\\bar{T}^3_2&\\bar{T}^3_3  \\end{matrix}\\right) $$\n",
    "   \n",
    "and\n",
    "   \n",
    "$$\\frac{ \\partial \\bar{x}^{ i} }{ \\partial \\smash{x^{ j}}}= \\left(\\begin{matrix} \\frac{\\partial \\bar{x}^1}{\\partial x^1} &\\frac{\\partial \\bar{x}^1}{\\partial x^2} & \\frac{\\partial \\bar{x}^1}{\\partial x^3} \\\\\\ \\frac{\\partial \\bar{x}^2}{\\partial x^1} & \\frac{\\partial \\bar{x}^2}{\\partial x^2} & \\frac{\\partial \\bar{x}^2}{\\partial x^3} \\\\\\ \\frac{\\partial \\bar{x}^3}{\\partial x^1} & \\frac{\\partial \\bar{x}^3}{\\partial x^2} &\\frac{\\partial \\bar{x}^3}{\\partial x^3}  \\end{matrix}\\right)$$\n",
    "   \n",
    "and\n",
    "   \n",
    "$$\\frac{  \\partial x^{ s }  }{\\partial \\bar{x}^{ r } }=\\left( \\begin{matrix} \\frac{\\partial x^1}{\\partial \\bar{x}^1} &\\frac{\\partial x^1}{\\partial \\bar{x}^2} & \\frac{\\partial x^1}{\\partial \\bar{x}^3} \\\\\\ \\frac{\\partial x^2}{\\partial \\bar{x}^1} & \\frac{\\partial x^2}{\\partial \\bar{x}^2} & \\frac{\\partial x^2}{\\partial \\bar{x}^3} \\\\\\ \\frac{\\partial x^3}{\\partial \\bar{x}^1} & \\frac{\\partial x^3}{\\partial \\bar{x}^2} &\\frac{\\partial x^3}{\\partial \\bar{x}^3}  \\end{matrix}\\right) $$\n",
    "\n",
    "and $$\n",
    "T^j_s =\\left( \\begin{matrix} T^1_1 &T^1_2 & T^1_3 \\\\\\ T^2_1&T^2_2&T^2_3 \\\\\\ T^3_1&T^3_2&T^3_3  \\end{matrix}\\right) $$\n",
    "   \n",
    "and so clearly expanding up the full equation is a tedious and laborious process.\n",
    "   \n"
   ]
  },
  {
   "cell_type": "code",
   "execution_count": 31,
   "metadata": {
    "collapsed": false
   },
   "outputs": [
    {
     "name": "stdout",
     "output_type": "stream",
     "text": [
      " d             d             d         \n",
      "───(x₁(Z₁)) + ───(x₁(Z₂)) + ───(x₁(Z₃))\n",
      "dZ₁           dZ₂           dZ₃        \n"
     ]
    }
   ],
   "source": [
    "# we quickly discover that simpy has trouble representing bicontinuous functions\n",
    "# f=g(h), h=g^-1(f) \n",
    "# and there is no derivative with respect to a coordinate function (in this notation)\n",
    "# and so I decided to use captital letters for the symbols, and lower case for the functions,\n",
    "# here .. x_1 == X_1, but they are positioned depending on their task, \n",
    "\n",
    "# also we have Z coordinates too, however you should get the idea.\n",
    "\n",
    "from sympy import *\n",
    "init_printing(use_latex = true)\n",
    "f, g = symbols('f g', cls=Function)\n",
    "x_1, x_2, x_3 = symbols('x_1 x_2 x_3', cls=Function)\n",
    "Z_1, Z_2, Z_3 = symbols('Z_1 Z_2 Z_3')\n",
    "x_1(Z_1, Z_2, Z_3)\n",
    "expr = x_1(Z_1).diff(Z_1) + x_1(Z_2).diff(Z_2) + x_1(Z_3).diff(Z_3)\n",
    "expr"
   ]
  },
  {
   "cell_type": "code",
   "execution_count": 34,
   "metadata": {
    "collapsed": false
   },
   "outputs": [
    {
     "name": "stdout",
     "output_type": "stream",
     "text": [
      " d             d             d         \n",
      "───(z₁(X₁)) + ───(z₁(X₂)) + ───(z₁(X₃))\n",
      "dX₁           dX₂           dX₃        \n"
     ]
    }
   ],
   "source": [
    "init_printing(use_latex = true)\n",
    "z_1, z_2, z_3 = symbols('z_1 z_2 z_3', cls=Function)\n",
    "X_1,X_2, X_3 = symbols('X_1 X_2 X_3')\n",
    "z_1(X_1, X_2, X_3)\n",
    "expr = z_1(X_1).diff(X_1) + z_1(X_2).diff(X_2) + z_1(X_3).diff(X_3)\n",
    "expr"
   ]
  },
  {
   "cell_type": "code",
   "execution_count": 43,
   "metadata": {
    "collapsed": false
   },
   "outputs": [
    {
     "name": "stdout",
     "output_type": "stream",
     "text": [
      "⎡ d            d            d         ⎤\n",
      "⎢───(x₁(Z₁))  ───(x₁(Z₂))  ───(x₁(Z₃))⎥\n",
      "⎢dZ₁          dZ₂          dZ₃        ⎥\n",
      "⎢                                     ⎥\n",
      "⎢ d            d            d         ⎥\n",
      "⎢───(x₂(Z₁))  ───(x₂(Z₂))  ───(x₂(Z₃))⎥\n",
      "⎢dZ₁          dZ₂          dZ₃        ⎥\n",
      "⎢                                     ⎥\n",
      "⎢ d            d            d         ⎥\n",
      "⎢───(x₃(Z₁))  ───(x₃(Z₂))  ───(x₃(Z₃))⎥\n",
      "⎣dZ₁          dZ₂          dZ₃        ⎦\n"
     ]
    }
   ],
   "source": [
    "init_printing(use_latex = true)\n",
    "M = Matrix([[x_1(Z_1).diff(Z_1), x_1(Z_2).diff(Z_2),x_1(Z_3).diff(Z_3)],\n",
    "            [x_2(Z_1).diff(Z_1), x_2(Z_2).diff(Z_2),x_2(Z_3).diff(Z_3)],\n",
    "            [x_3(Z_1).diff(Z_1), x_3(Z_2).diff(Z_2),x_3(Z_3).diff(Z_3)]])\n",
    "\n",
    "M"
   ]
  },
  {
   "cell_type": "code",
   "execution_count": 46,
   "metadata": {
    "collapsed": false
   },
   "outputs": [
    {
     "name": "stdout",
     "output_type": "stream",
     "text": [
      "⎡ d            d            d         ⎤\n",
      "⎢───(z₁(X₁))  ───(z₁(X₂))  ───(z₁(X₃))⎥\n",
      "⎢dX₁          dX₂          dX₃        ⎥\n",
      "⎢                                     ⎥\n",
      "⎢ d            d            d         ⎥\n",
      "⎢───(z₂(X₁))  ───(z₂(X₂))  ───(z₂(X₃))⎥\n",
      "⎢dX₁          dX₂          dX₃        ⎥\n",
      "⎢                                     ⎥\n",
      "⎢ d            d            d         ⎥\n",
      "⎢───(z₃(X₁))  ───(z₃(X₂))  ───(z₃(X₃))⎥\n",
      "⎣dX₁          dX₂          dX₃        ⎦\n"
     ]
    }
   ],
   "source": [
    "init_printing(use_latex = true)\n",
    "M2 = Matrix([[z_1(X_1).diff(X_1) , z_1(X_2).diff(X_2) , z_1(X_3).diff(X_3)],\n",
    "             [z_2(X_1).diff(X_1), z_2(X_2).diff(X_2), z_2(X_3).diff(X_3)],\n",
    "             [z_3(X_1).diff(X_1) , z_3(X_2).diff(X_2) , z_3(X_3).diff(X_3)]])\n",
    "\n",
    "M2"
   ]
  },
  {
   "cell_type": "code",
   "execution_count": 45,
   "metadata": {
    "collapsed": false
   },
   "outputs": [
    {
     "name": "stdout",
     "output_type": "stream",
     "text": [
      "⎡    ⎛ d           d             d           d             d           d      \n",
      "⎢T₁₁⋅⎜───(x₁(Z₁))⋅───(z₁(X₁)) + ───(x₁(Z₂))⋅───(z₂(X₁)) + ───(x₁(Z₃))⋅───(z₃(X\n",
      "⎢    ⎝dZ₁         dX₁           dZ₂         dX₁           dZ₃         dX₁     \n",
      "⎢                                                                             \n",
      "⎢    ⎛ d           d             d           d             d           d      \n",
      "⎢T₁₁⋅⎜───(x₂(Z₁))⋅───(z₁(X₁)) + ───(x₂(Z₂))⋅───(z₂(X₁)) + ───(x₂(Z₃))⋅───(z₃(X\n",
      "⎢    ⎝dZ₁         dX₁           dZ₂         dX₁           dZ₃         dX₁     \n",
      "⎢                                                                             \n",
      "⎢    ⎛ d           d             d           d             d           d      \n",
      "⎢T₁₁⋅⎜───(x₃(Z₁))⋅───(z₁(X₁)) + ───(x₃(Z₂))⋅───(z₂(X₁)) + ───(x₃(Z₃))⋅───(z₃(X\n",
      "⎣    ⎝dZ₁         dX₁           dZ₂         dX₁           dZ₃         dX₁     \n",
      "\n",
      "   ⎞       ⎛ d           d             d           d             d           d\n",
      "₁))⎟ + T₂₁⋅⎜───(x₁(Z₁))⋅───(z₁(X₂)) + ───(x₁(Z₂))⋅───(z₂(X₂)) + ───(x₁(Z₃))⋅──\n",
      "   ⎠       ⎝dZ₁         dX₂           dZ₂         dX₂           dZ₃         dX\n",
      "                                                                              \n",
      "   ⎞       ⎛ d           d             d           d             d           d\n",
      "₁))⎟ + T₂₁⋅⎜───(x₂(Z₁))⋅───(z₁(X₂)) + ───(x₂(Z₂))⋅───(z₂(X₂)) + ───(x₂(Z₃))⋅──\n",
      "   ⎠       ⎝dZ₁         dX₂           dZ₂         dX₂           dZ₃         dX\n",
      "                                                                              \n",
      "   ⎞       ⎛ d           d             d           d             d           d\n",
      "₁))⎟ + T₂₁⋅⎜───(x₃(Z₁))⋅───(z₁(X₂)) + ───(x₃(Z₂))⋅───(z₂(X₂)) + ───(x₃(Z₃))⋅──\n",
      "   ⎠       ⎝dZ₁         dX₂           dZ₂         dX₂           dZ₃         dX\n",
      "\n",
      "         ⎞       ⎛ d           d             d           d             d      \n",
      "─(z₃(X₂))⎟ + T₃₁⋅⎜───(x₁(Z₁))⋅───(z₁(X₃)) + ───(x₁(Z₂))⋅───(z₂(X₃)) + ───(x₁(Z\n",
      "₂        ⎠       ⎝dZ₁         dX₃           dZ₂         dX₃           dZ₃     \n",
      "                                                                              \n",
      "         ⎞       ⎛ d           d             d           d             d      \n",
      "─(z₃(X₂))⎟ + T₃₁⋅⎜───(x₂(Z₁))⋅───(z₁(X₃)) + ───(x₂(Z₂))⋅───(z₂(X₃)) + ───(x₂(Z\n",
      "₂        ⎠       ⎝dZ₁         dX₃           dZ₂         dX₃           dZ₃     \n",
      "                                                                              \n",
      "         ⎞       ⎛ d           d             d           d             d      \n",
      "─(z₃(X₂))⎟ + T₃₁⋅⎜───(x₃(Z₁))⋅───(z₁(X₃)) + ───(x₃(Z₂))⋅───(z₂(X₃)) + ───(x₃(Z\n",
      "₂        ⎠       ⎝dZ₁         dX₃           dZ₂         dX₃           dZ₃     \n",
      "\n",
      "     d         ⎞      ⎛ d           d             d           d             d \n",
      "₃))⋅───(z₃(X₃))⎟  T₁₂⋅⎜───(x₁(Z₁))⋅───(z₁(X₁)) + ───(x₁(Z₂))⋅───(z₂(X₁)) + ───\n",
      "    dX₃        ⎠      ⎝dZ₁         dX₁           dZ₂         dX₁           dZ₃\n",
      "                                                                              \n",
      "     d         ⎞      ⎛ d           d             d           d             d \n",
      "₃))⋅───(z₃(X₃))⎟  T₁₂⋅⎜───(x₂(Z₁))⋅───(z₁(X₁)) + ───(x₂(Z₂))⋅───(z₂(X₁)) + ───\n",
      "    dX₃        ⎠      ⎝dZ₁         dX₁           dZ₂         dX₁           dZ₃\n",
      "                                                                              \n",
      "     d         ⎞      ⎛ d           d             d           d             d \n",
      "₃))⋅───(z₃(X₃))⎟  T₁₂⋅⎜───(x₃(Z₁))⋅───(z₁(X₁)) + ───(x₃(Z₂))⋅───(z₂(X₁)) + ───\n",
      "    dX₃        ⎠      ⎝dZ₁         dX₁           dZ₂         dX₁           dZ₃\n",
      "\n",
      "          d         ⎞       ⎛ d           d             d           d         \n",
      "(x₁(Z₃))⋅───(z₃(X₁))⎟ + T₂₂⋅⎜───(x₁(Z₁))⋅───(z₁(X₂)) + ───(x₁(Z₂))⋅───(z₂(X₂))\n",
      "         dX₁        ⎠       ⎝dZ₁         dX₂           dZ₂         dX₂        \n",
      "                                                                              \n",
      "          d         ⎞       ⎛ d           d             d           d         \n",
      "(x₂(Z₃))⋅───(z₃(X₁))⎟ + T₂₂⋅⎜───(x₂(Z₁))⋅───(z₁(X₂)) + ───(x₂(Z₂))⋅───(z₂(X₂))\n",
      "         dX₁        ⎠       ⎝dZ₁         dX₂           dZ₂         dX₂        \n",
      "                                                                              \n",
      "          d         ⎞       ⎛ d           d             d           d         \n",
      "(x₃(Z₃))⋅───(z₃(X₁))⎟ + T₂₂⋅⎜───(x₃(Z₁))⋅───(z₁(X₂)) + ───(x₃(Z₂))⋅───(z₂(X₂))\n",
      "         dX₁        ⎠       ⎝dZ₁         dX₂           dZ₂         dX₂        \n",
      "\n",
      "    d           d         ⎞       ⎛ d           d             d           d   \n",
      " + ───(x₁(Z₃))⋅───(z₃(X₂))⎟ + T₃₂⋅⎜───(x₁(Z₁))⋅───(z₁(X₃)) + ───(x₁(Z₂))⋅───(z\n",
      "   dZ₃         dX₂        ⎠       ⎝dZ₁         dX₃           dZ₂         dX₃  \n",
      "                                                                              \n",
      "    d           d         ⎞       ⎛ d           d             d           d   \n",
      " + ───(x₂(Z₃))⋅───(z₃(X₂))⎟ + T₃₂⋅⎜───(x₂(Z₁))⋅───(z₁(X₃)) + ───(x₂(Z₂))⋅───(z\n",
      "   dZ₃         dX₂        ⎠       ⎝dZ₁         dX₃           dZ₂         dX₃  \n",
      "                                                                              \n",
      "    d           d         ⎞       ⎛ d           d             d           d   \n",
      " + ───(x₃(Z₃))⋅───(z₃(X₂))⎟ + T₃₂⋅⎜───(x₃(Z₁))⋅───(z₁(X₃)) + ───(x₃(Z₂))⋅───(z\n",
      "   dZ₃         dX₂        ⎠       ⎝dZ₁         dX₃           dZ₂         dX₃  \n",
      "\n",
      "          d           d         ⎞      ⎛ d           d             d          \n",
      "₂(X₃)) + ───(x₁(Z₃))⋅───(z₃(X₃))⎟  T₁₃⋅⎜───(x₁(Z₁))⋅───(z₁(X₁)) + ───(x₁(Z₂))⋅\n",
      "         dZ₃         dX₃        ⎠      ⎝dZ₁         dX₁           dZ₂         \n",
      "                                                                              \n",
      "          d           d         ⎞      ⎛ d           d             d          \n",
      "₂(X₃)) + ───(x₂(Z₃))⋅───(z₃(X₃))⎟  T₁₃⋅⎜───(x₂(Z₁))⋅───(z₁(X₁)) + ───(x₂(Z₂))⋅\n",
      "         dZ₃         dX₃        ⎠      ⎝dZ₁         dX₁           dZ₂         \n",
      "                                                                              \n",
      "          d           d         ⎞      ⎛ d           d             d          \n",
      "₂(X₃)) + ───(x₃(Z₃))⋅───(z₃(X₃))⎟  T₁₃⋅⎜───(x₃(Z₁))⋅───(z₁(X₁)) + ───(x₃(Z₂))⋅\n",
      "         dZ₃         dX₃        ⎠      ⎝dZ₁         dX₁           dZ₂         \n",
      "\n",
      " d             d           d         ⎞       ⎛ d           d             d    \n",
      "───(z₂(X₁)) + ───(x₁(Z₃))⋅───(z₃(X₁))⎟ + T₂₃⋅⎜───(x₁(Z₁))⋅───(z₁(X₂)) + ───(x₁\n",
      "dX₁           dZ₃         dX₁        ⎠       ⎝dZ₁         dX₂           dZ₂   \n",
      "                                                                              \n",
      " d             d           d         ⎞       ⎛ d           d             d    \n",
      "───(z₂(X₁)) + ───(x₂(Z₃))⋅───(z₃(X₁))⎟ + T₂₃⋅⎜───(x₂(Z₁))⋅───(z₁(X₂)) + ───(x₂\n",
      "dX₁           dZ₃         dX₁        ⎠       ⎝dZ₁         dX₂           dZ₂   \n",
      "                                                                              \n",
      " d             d           d         ⎞       ⎛ d           d             d    \n",
      "───(z₂(X₁)) + ───(x₃(Z₃))⋅───(z₃(X₁))⎟ + T₂₃⋅⎜───(x₃(Z₁))⋅───(z₁(X₂)) + ───(x₃\n",
      "dX₁           dZ₃         dX₁        ⎠       ⎝dZ₁         dX₂           dZ₂   \n",
      "\n",
      "       d             d           d         ⎞       ⎛ d           d            \n",
      "(Z₂))⋅───(z₂(X₂)) + ───(x₁(Z₃))⋅───(z₃(X₂))⎟ + T₃₃⋅⎜───(x₁(Z₁))⋅───(z₁(X₃)) + \n",
      "      dX₂           dZ₃         dX₂        ⎠       ⎝dZ₁         dX₃           \n",
      "                                                                              \n",
      "       d             d           d         ⎞       ⎛ d           d            \n",
      "(Z₂))⋅───(z₂(X₂)) + ───(x₂(Z₃))⋅───(z₃(X₂))⎟ + T₃₃⋅⎜───(x₂(Z₁))⋅───(z₁(X₃)) + \n",
      "      dX₂           dZ₃         dX₂        ⎠       ⎝dZ₁         dX₃           \n",
      "                                                                              \n",
      "       d             d           d         ⎞       ⎛ d           d            \n",
      "(Z₂))⋅───(z₂(X₂)) + ───(x₃(Z₃))⋅───(z₃(X₂))⎟ + T₃₃⋅⎜───(x₃(Z₁))⋅───(z₁(X₃)) + \n",
      "      dX₂           dZ₃         dX₂        ⎠       ⎝dZ₁         dX₃           \n",
      "\n",
      " d           d             d           d         ⎞⎤\n",
      "───(x₁(Z₂))⋅───(z₂(X₃)) + ───(x₁(Z₃))⋅───(z₃(X₃))⎟⎥\n",
      "dZ₂         dX₃           dZ₃         dX₃        ⎠⎥\n",
      "                                                  ⎥\n",
      " d           d             d           d         ⎞⎥\n",
      "───(x₂(Z₂))⋅───(z₂(X₃)) + ───(x₂(Z₃))⋅───(z₃(X₃))⎟⎥\n",
      "dZ₂         dX₃           dZ₃         dX₃        ⎠⎥\n",
      "                                                  ⎥\n",
      " d           d             d           d         ⎞⎥\n",
      "───(x₃(Z₂))⋅───(z₂(X₃)) + ───(x₃(Z₃))⋅───(z₃(X₃))⎟⎥\n",
      "dZ₂         dX₃           dZ₃         dX₃        ⎠⎦\n"
     ]
    }
   ],
   "source": [
    "init_printing(use_latex = true)\n",
    "T_11, T_12, T_13 = symbols('T_11 T_12 T_13 ') \n",
    "T_21, T_22, T_23 = symbols('T_21 T_22 T_23 ') \n",
    "T_31, T_32, T_33 = symbols('T_31 T_32 T_33 ') \n",
    "\n",
    "M3 = Matrix([[T_11, T_12, T_13],\n",
    "             [T_21, T_22, T_23 ],\n",
    "             [T_31, T_32, T_33]])\n",
    "\n",
    "C = M * M2 * M3\n",
    "C"
   ]
  },
  {
   "cell_type": "markdown",
   "metadata": {},
   "source": [
    "### Higher Order Tensors\n",
    "   \n",
    "For a generalized vector field $\\mathbf T = T^{i_1,\\cdots i_p}_{r_1,\\cdots r_q}$ consisting of $(p+q)$ scalar fields, and is of rank $p+q$, contravariant off order p and covariant of order q defined in both coordinate systems, then if the components of the matrix field transform \n",
    "   \n",
    "   $$ \\large\\bar{T}^{i_1,\\cdots i_p}_{r_1,\\cdots r_q} =  T^{j_1,\\cdots j_p}_{s_1,\\cdots s_q} \\frac{ \\partial \\bar{x}^{ i_1} }{ \\partial \\smash{x^{ j_1}} }\\frac{ \\partial \\bar{x}^{ i_2} }{ \\partial \\smash{x^{ j_2}}} ... \\frac{ \\partial \\bar{x}^{ i_p} }{ \\partial \\smash{x^{ j_p}}} \\frac{ \\partial x^{ s_1} }{ \\partial \\bar{x}^{ r_1}} ... \\frac{ \\partial x^{ s_q} }{ \\partial \\bar{x}^{ r_q}} $$\n",
    "   \n",
    "  This is a generalized mixed tensor of rank $p+q$"
   ]
  },
  {
   "cell_type": "code",
   "execution_count": null,
   "metadata": {
    "collapsed": true
   },
   "outputs": [],
   "source": []
  },
  {
   "cell_type": "code",
   "execution_count": null,
   "metadata": {
    "collapsed": true
   },
   "outputs": [],
   "source": []
  },
  {
   "cell_type": "markdown",
   "metadata": {},
   "source": [
    "#### Tensor Addition\n",
    "\n",
    "The sum of two tensors of the same rank and type also produce a tensor of the same rank and type . e.g  \n",
    "   \n",
    "   $$\\large T^{pq}_{r} = A^{pq}_{r} + B^{pq}_{r}$$. \n",
    "   \n",
    "This operation is associative and commutative. The same is true for subtraction."
   ]
  },
  {
   "cell_type": "markdown",
   "metadata": {},
   "source": [
    "#### Outer Product\n",
    "   \n",
    "The outer product of two tensors is a tensor\n",
    "      \n",
    "$$\\large U^{i_1\\cdots i_ak_1\\cdots k_c}_{j_1\\cdots j_bl_d\\cdots l_d}= \\left(S^{i_1\\cdots i_a}_{j_1\\cdots j_b}\\cdot T^{k_1\\cdots k_c}_{l_d\\cdots l_d} \\right)$$\n",
    "   \n",
    "of order $a + b + c + d$, and is covariant of order $b+d$ and contravariant of order $a+c$. The outer product is commutative."
   ]
  },
  {
   "cell_type": "markdown",
   "metadata": {},
   "source": [
    "#### Contraction\n",
    "   \n",
    "A contraction is defined by setting two indices equal for example setting some chosen index in the range $(i_1\\cdots i_a)$ equal to some index in the range $r_1\\cdots r_b)$, then the contraction of \n",
    "   \n",
    "$$\\large T^{i_1\\cdots i_a}_{r_1\\cdots r_b}$$ \n",
    "   \n",
    "is a tensor of rank $(a+b-2)$, covariant of order $b-1$ and contravariant of order $a-1$.\n",
    "\n",
    "This operation uses the fact that $\\frac{\\partial x^p}{\\partial x^q} = \\delta^p_q$ as in calculus, $\\frac{dx}{dx} = 1$, but the change in the x axis with respect to the z axis is zero, since they are orthogonal.\n",
    "\n",
    "> A contraction can result in a loss of information.\n",
    "\n"
   ]
  },
  {
   "cell_type": "markdown",
   "metadata": {},
   "source": [
    "#### Inner Product\n",
    "    \n",
    "This operation is equivalent to an outer product followed by a contraction."
   ]
  },
  {
   "cell_type": "code",
   "execution_count": null,
   "metadata": {
    "collapsed": true
   },
   "outputs": [],
   "source": []
  }
 ],
 "metadata": {
  "kernelspec": {
   "display_name": "Python 2",
   "language": "python",
   "name": "python2"
  },
  "language_info": {
   "codemirror_mode": {
    "name": "ipython",
    "version": 2
   },
   "file_extension": ".py",
   "mimetype": "text/x-python",
   "name": "python",
   "nbconvert_exporter": "python",
   "pygments_lexer": "ipython2",
   "version": "2.7.10"
  }
 },
 "nbformat": 4,
 "nbformat_minor": 0
}
