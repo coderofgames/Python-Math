{
 "cells": [
  {
   "cell_type": "markdown",
   "metadata": {},
   "source": [
    "#  Tensors "
   ]
  },
  {
   "cell_type": "markdown",
   "metadata": {},
   "source": [
    "#### Definition\n",
    "---\n",
    "\n",
    "> a point in N-dimensional space is represented by $\\mathbf x = (x^1,x^2,\\cdots,x^n)$\n",
    "> the coordnate system is represented by some basis $(\\mathbf e_1, \\mathbf e_2, \\cdots, \\mathbf e_n)$\n",
    "> the point may be represented in more than one basis (see curvilinear coordinates). \n",
    "\n",
    "Note: a superscript is used for the point vector instead of a subscript. If a component is raised to a power, then it is placed in round brackets $(x^i)^2$ is the $i^{th}$ component of $x$ raised to the power of 2.\n",
    "\n",
    "\n",
    "---\n",
    "\n",
    "#### Coordinate Transformations\n",
    "   \n",
    "if $ x^1, x^2 \\cdots,x^n$ and $ \\bar{x}^1, \\bar{x}^2,\\cdots, \\bar{x}^n$ are representations of a point in two coordinate systems or frames of reference, and \n",
    "   \n",
    "$$\\bar{x}^1 =\\bar{x}^1( x^1, x^2 \\cdots,x^n)$$ and\n",
    "$$\\bar{x}^2 =\\bar{x}^2( x^1, x^2 \\cdots,x^n)$$ etc\n",
    "$$\\cdots$$ and\n",
    "$$\\bar{x}^n =\\bar{x}^n( x^1, x^2 \\cdots,x^n)$$\n",
    "\n",
    "defines the representation of the *barred coordinates* as a function of the *unbarred coordinates*, and to define the converse\n",
    "\n",
    "$$x^k = x^k(\\bar{x}^1, \\bar{x}^2,\\cdots, \\bar{x}^n ) \\qquad k=1,\\cdots,n $$\n",
    "\n",
    "Then these relations define a coordinate transformation."
   ]
  },
  {
   "cell_type": "markdown",
   "metadata": {},
   "source": [
    "## Einstein Summation Convention"
   ]
  },
  {
   "cell_type": "markdown",
   "metadata": {},
   "source": [
    "---\n",
    "##### Sums\n",
    "\n",
    "expressions of the form \n",
    "\n",
    "$$\\large\\sum_{i=1}^n x_i = x_1 + x_2 +\\cdots x_n $$\n",
    "\n",
    "are written simply as \n",
    "\n",
    "$$x_i,\\quad i=1,n$$\n",
    "\n",
    "For an expression of the form \n",
    "\n",
    "$$ y_i = a_{ij}x_j $$\n",
    "\n",
    "with $j = 1,2,\\cdots,n$, has two indices. The variable $j$ is called a dummy index, and $i$ is called the free index.\n",
    "\n",
    "$$ y_i = a_{i1}x_1 + a_{i2}x_2 + \\cdots +a_{in}x_n$$\n",
    "\n",
    "Now iterating over the free index to $m$ gives \n",
    "\n",
    "$$ y_1 = a_{11}x_1 + a_{12}x_2 + \\cdots +a_{1n}x_n$$\n",
    "$$ y_2 = a_{21}x_1 + a_{22}x_2 + \\cdots +a_{2n}x_n$$\n",
    "$$ \\cdots $$\n",
    "$$ y_m = a_{m1}x_1 + a_{m2}x_2 + \\cdots +a_{mn}x_n$$\n",
    "\n",
    "This does yeild a matrix definition of the form $ \\mathbf y_{m1} = \\mathbf a_{mn} \\mathbf x_{n1} $ \n",
    "\n",
    "> #### The Summation Convention\n",
    "> Any expression with a twice repeated index (either subscripts (and) or superscripts) represents its sum over the \n",
    "> values $1,2,\\cdots,n$ of the repeated index. The character $n$ may represent the range of summations unless stated \n",
    "> otherwise.\n",
    "   \n",
    "> 1) Any free index shall have the same range as summation indexes unless stated otherwise (in the equation above, n=m by default).\n",
    "   \n",
    "> 2) No index may occur more than twice in an expression."
   ]
  },
  {
   "cell_type": "markdown",
   "metadata": {},
   "source": [
    "#### Multiple summation indexes\n",
    "\n",
    "An expression with multiple summation indexes represents the result of the sum over each index, so \n",
    "\n",
    "$$\\large a_{\\color{red}{i}\\color{blue}{j}}x_{\\color{red}{i}}y_{\\color{blue}{j}}$$ \n",
    "\n",
    "results in summing over ${\\color{red}{i}}$ from ${\\color{red}{(1,\\cdots, n)}}$ and ${\\color{blue}{j}}$ from ${\\color{blue}{(1,\\cdots, m)}}$, i.e.first summing over $i$ \n",
    "\n",
    "$$a_{\\color{red}{1}\\color{blue}{j}} x_{\\color{red}{1}} y_{\\color{blue}{j}} + \\cdots + a_{\\color{red}{n}\\color{blue}{j}} x_{\\color{red}{n}} y_{\\color{blue}{j}} $$\n",
    "Then summing over $j$\n",
    "$$ (a_{11} x_1 y_1 + \\cdots + a_{n1} x_n y_1  ) + (a_{12} x_1 y_2 + \\cdots + a_{n2} x_n y_2) + \\cdots + (a_{1m} x_1 y_m + \\cdots + a_{nm} x_n y_m)  $$\n",
    "   \n",
    "dropping the red and blue to save time in the expansion.\n",
    "   \n",
    "> The expressions *are the same* if the order of summation is reversed"
   ]
  },
  {
   "cell_type": "markdown",
   "metadata": {},
   "source": [
    "### Substitutions\n",
    "---\n",
    "If an expression $y_i = a_{ij}x_j$ is substituted into $B = C_{ij}y_ix_j$ then the dummy index $j$ in the first expression is replaced $y_i = a_{ip}x_p$ to avoid having indices repeated more than twice (see remark 2 above), so then $B=C_{ij}a_{ip} x_p x_j$\n"
   ]
  },
  {
   "cell_type": "markdown",
   "metadata": {},
   "source": [
    "#### Matrix Notation "
   ]
  },
  {
   "cell_type": "markdown",
   "metadata": {},
   "source": [
    "We know from matrix algebra that the expression $B=C_{ij}a_{ip} x_p x_j$ does not multiply if converted directly to matrix form, so to put this in matrix form, $$ \\mathbf B_i = (\\mathbf C_{ij} \\mathbf x_j)^{\\mathbf T}( \\mathbf a_{ip} \\mathbf x_p )$$\n",
    "   \n",
    "Matrix notation is different to tensor notation and does not offer an exact replacement because matrix notation requires that a vector is defined as column and transposed to form a row, and that to mulitply two objects (matrix and vector) is an order dependant operation, such that for two non square matrices $\\mathbf A_{mn}$ and $\\mathbf B_{nr}$ the product $\\mathbf C_{mr}= \\mathbf A \\mathbf B $ is possible because $B$ has the same number of rows as $A$ has columns, but $ \\mathbf B \\mathbf A $ is not possible. This is not the case with the summation notation in tensor analysis.\n",
    "\n",
    ">  When Tensor notation is used to denote matrices, the superscript represents the row, and the subscript represents the column"
   ]
  },
  {
   "cell_type": "markdown",
   "metadata": {},
   "source": [
    "### Kronecker Delta \n",
    "---\n",
    "$$ \\delta^{ij} = \\delta_{ij} = \\delta_j^i = 1 $$ if $i=j$ and zero otherwise\n",
    "\n",
    "\n",
    "   \n",
    "Therefore $\\delta_{11} = 1$, and $\\delta_{12} = 0$, etc\n",
    "   \n",
    "This symbol can be seen to be the tensor notation equivalent to the Identity matrix in matrix algebra."
   ]
  },
  {
   "cell_type": "markdown",
   "metadata": {},
   "source": [
    "### Permutation Symbol\n",
    "---\n",
    "The symbol $e_{ijk...n}$ and $e^{ijk...n}$ with n subscripts or superscripts is called the permutation symbol, and is zero if two indices are identical and equals $(-1)^b$ where $b$ is the number interchanges of consecutive subscripts required to bring $ijk...n$ to the order $123...n$. More simply, in the case of $e_{ijk} = e^{ijk}$ \n",
    " \n",
    " \n",
    "$e_{ijk} =0\\qquad $ if two indices are the same\n",
    "  \n",
    "$e_{ijk} =1\\qquad $ if $i,j,k$ is an even permutation\n",
    "   \n",
    "$e_{ijk} =-1\\qquad $ if $i,j,k$ is an odd permutation\n",
    "\n",
    " \n",
    "\n",
    "   \n",
    "\n",
    "   \n",
    "   \n"
   ]
  },
  {
   "cell_type": "markdown",
   "metadata": {},
   "source": [
    "### Differentials\n",
    "   \n",
    "for a vector, $\\mathbf r= \\mathbf r(u^1,u^2,\\cdots,u^n)$ where the $u^i$ are coordinates of some arbitrary system\n",
    "\n",
    "$$ d\\mathbf r = \\frac{d\\mathbf r}{du^1}du^1+\\frac{d\\mathbf r}{du^2}du^2+\\cdots+\\frac{d\\mathbf r}{du^n}du^n$$\n",
    "\n",
    "is the differential of $\\mathbf r$ with respect to the $u^i$ basis. This is an important form. In index notation ...\n",
    "   \n",
    "$$ d r^i = \\frac{d r^i}{du^k} du^k $$"
   ]
  },
  {
   "cell_type": "markdown",
   "metadata": {},
   "source": [
    "#### Chain Rule\n",
    "\n",
    "For a function (in this case, a scalar valued function of a vector variable) $w = f(u^k)$ for $k=1,\\cdots n$ and $u^k = u^k(x^j)$ for $j=1,\\cdots m$ Then the rate of change of $w$ with resect to the $x^j$ is expressed as\n",
    "   \n",
    "$$ \\frac{ \\partial w }{\\partial x^j} = \\frac{ \\partial w }{\\partial u^k}\\frac{ \\partial u^k }{\\partial x^j} $$ \n",
    "   \n",
    "In this case $k$ in the term $\\frac{ \\partial w }{\\partial u^k}$ is seen as a <b>subscript </b> and the $k$ in the term\n",
    "$\\frac{ \\partial u^k }{\\partial x^j}$ is seen as a <b>superscript</b> with subscript $j$ \n"
   ]
  },
  {
   "cell_type": "markdown",
   "metadata": {},
   "source": [
    "### Dot and Cross Product\n",
    "\n",
    "The dot product can be defined as \n",
    "\n",
    "$$ \\mathbf x\\cdot  \\mathbf y = x^i y^i = \\mathbf x \\mathbf y$$\n",
    "\n",
    "Using the permutation symbol to define the basis vectors .. $e_{ijk}$ then $ e_{132} = (-1)^1 = -1$ and $e_{ijk}$ then $ e_{123} = (-1)^0 = 1$ then for each $e_{ijk}$ there is a unique \n",
    "   \n",
    "$$(\\mathbf u \\times \\mathbf v)_i = (e_{ijk}u_j v_k) $$"
   ]
  },
  {
   "cell_type": "markdown",
   "metadata": {},
   "source": [
    "## Back to Coordinates\n",
    "---\n",
    "Using the summation convention, a *coordinate transformation* may be represented as \n",
    "   \n",
    "$$\\bar{x}^i = \\bar{x}^i( x^j )$$ \n",
    "   \n",
    "and\n",
    "   \n",
    "$$x^j = x^j ( \\bar{x}^i  )$$ \n",
    "   \n"
   ]
  },
  {
   "cell_type": "markdown",
   "metadata": {},
   "source": [
    "### Contravariant Tensor\n",
    "   \n",
    "---\n",
    "If $\\mathbf T = (T^i) $ is a vector field (vector function of a vector variable) in the *unbarred* system such that $T^i = T^i(\\mathbf x) = T^i(x^j)$  and it can also be represented in the *barred* system via a coordinate transformation, then  $\\mathbf T$ is a <b>contravariant tensor of rank 1 </b> if the components \n",
    "   \n",
    "$ (T^{ \\color{red}{1}}, T^{ \\color{red}{2}}, \\cdots, T^{ \\color{red}{n}}) $ in the unbarred system\n",
    "   \n",
    "$ (\\bar{T}^{ \\color{blue}{1}},\\bar{T}^{ \\color{blue}{2}},\\cdots, \\bar{T}^{ \\color{blue}{n}}) $ in the barred system\n",
    "   \n",
    "are related by a transformation \n",
    "\n",
    "$$\\large\\bar{T}^{ \\color{blue}{i}} = \\frac{ \\partial \\bar{x}^{ \\color{blue}{i}} }{ \\partial x^{ \\color{red}{j}}} T^{ \\color{red}{j}} $$ \n",
    "   \n",
    "> A contravariant vector has components that change if the coordinates change, but the vector itself does not change. Under an operation like scaling or rotation, the components of a contravariant vector will make a change that cancels the operation. Examples include velocity of a fluid, displacement, acceleration.\n",
    "   \n",
    "> For example, $$\\frac{\\partial y^i}{\\partial t} =\\frac{\\partial y^i}{\\partial x^r}\\frac{\\partial x^r}{\\partial t}$$  \n",
    "> the term $\\frac{\\partial y^i}{\\partial x^r}$ defines the contravariant nature of this term. \n",
    "   \n",
    "> Note: this takes the form of the differential defined above, divided by the $\\partial t$, or the change in the  differential of the $y$ coordinates with respect to the $x$ coordinates through time. \n",
    "   \n",
    "with full-on red and blue notation \n",
    "   \n",
    "$$\\large\\color{blue}{\\bar{T}^{ i}} = \\frac{ \\partial \\color{blue}{\\bar{x}^{ i}} }{ \\partial \\color{red}{x^{ j}}} \\color{red}{T^{ j} }$$ \n",
    "   \n",
    "without the red and blue notation\n",
    "\n",
    "$$\\large\\bar{T}^{ i} = \\frac{ \\partial \\bar{x}^{ i} }{ \\partial x^{ j}} T^{ j} $$ \n",
    "   \n",
    "#### So in a *contravariant* tensor the *barred system* that we are converting to appears upstairs in the transform."
   ]
  },
  {
   "cell_type": "markdown",
   "metadata": {},
   "source": [
    "### Covariant Tensor\n",
    "---\n",
    "The vector field $\\mathbf T$ is a covariant tensor is the components in the barred and unbarred coordinate systems obey the following transformation law \n",
    "   \n",
    "$$\\large\\bar{T}_{ \\color{blue}{i}} = \\frac{  \\partial x^{ \\color{red}{j}}  }{\\partial \\bar{x}^{ \\color{blue}{i}} } T_{ \\color{red}{j}} $$ \n",
    "   \n",
    "> A covariant vector has components that change like the coordinates change, The gradient of a scalar function (i.e. the potential) is a covariant tensor, (i.e. $\\mathbf F$ ) , also called a covariant vector.\n",
    "   \n",
    "> For example: $$\\nabla \\mathbf F = \\frac{\\partial F}{\\partial y^i}= \\frac{\\partial F}{\\partial x^p} \\frac{\\partial x^p}{\\partial y^i}$$ the term   $ \\frac{\\partial x^p}{\\partial y^i}$ defines the covariant nature of this. I could equally have use the $y$'s as the unbarred coordinates in both cases, resulting in the opposite appearance. \n",
    "   \n",
    "> Note: this takes the form of the chain rule defined above for a scalar valued function of a vector variable.\n",
    "\n",
    "   \n",
    "with the full-on red and blue notation\n",
    "   \n",
    "$$\\large\\color{blue}{\\bar{T}_{ i }} = \\frac{  \\partial \\color{red}{x^{ j }}  }{\\partial \\color{blue}{\\bar{x}^{ i } }} \\color{red}{T_{ j}} $$ \n",
    "   \n",
    "without the red and blue notation\n",
    "\n",
    "$$\\large\\bar{T}_{ i } = \\frac{  \\partial x^{ j }  }{\\partial \\bar{x}^{ i } } T_{ j} $$ \n",
    "   \n",
    "#### So in a *covariant* tensor the coordinate system we are converting to appears *downstairs* in the transform "
   ]
  },
  {
   "cell_type": "markdown",
   "metadata": {},
   "source": [
    "#### Note on the Jacobian Matrix\n",
    "> The contravariant tensor transforms with the Jacobian matrix of the system $\\bar{x}^k =\\bar{x}^k (x^j) $ \n",
    "\n",
    ">   \n",
    "> $$ \\bar {T}^i = [\\mathbf J]_j^i T^j $$ \n",
    ">    \n",
    "> where $$[\\mathbf J]_j^i = \\frac{\\partial \\bar{x}^i}{\\partial x^j} $$ \n",
    ">\n",
    "> so, we use the sum over the $j^{\\text{th}}$ column of $[\\mathbf J]$ multiplied by the $j^{\\text{th}}$ component of $T^j$ ... ie\n",
    "   \n",
    "> $\\bar {T}^1 = [\\mathbf J]_j^1 T^j =  \\frac{\\partial \\bar{x}^1}{\\partial x^1}T^1 +\\frac{\\partial \\bar{x}^1}{\\partial x^2}T^2 + \\frac{\\partial \\bar{x}^1}{\\partial x^3}T^3 $"
   ]
  },
  {
   "cell_type": "markdown",
   "metadata": {},
   "source": [
    "\n",
    "> The covariant tensor transforms with the Jacobian matrix of the system $x^j =x^j(\\bar{x}^k ) $ or the reciprocal of the\n",
    "> jacobian matrix of the system $\\bar{x}^k =\\bar{x}^k (x^j) $ \n",
    ">   \n",
    "> $$ \\bar {T}_i = [\\bar{\\mathbf J}] T_j  $$ \n",
    ">    \n",
    "> $\\bar {T}_1 =  \\frac{\\partial x^1}{\\partial \\bar{x}^1}T^1 +\\frac{\\partial x^2}{\\partial \\bar{x}^1}T^2 + \\frac{\\partial x^3}{\\partial \\bar{x}^1}T^3 $\n",
    "\n",
    "Note: Compute the inverse of the Jacobian matrix and compare to the reciprocal jacobian matix. "
   ]
  },
  {
   "cell_type": "code",
   "execution_count": null,
   "metadata": {
    "collapsed": true
   },
   "outputs": [],
   "source": []
  },
  {
   "cell_type": "markdown",
   "metadata": {},
   "source": [
    "#### Invariants\n",
    "Any quantity that does not change with a change of basis is called an invariant. For example, a scalar function of a vector variable, a potential $\\phi(x^i)$ is transformed to the barred coordinate system and still has the same value, therefore $\\phi$ is said to be <b>invariant</b> or a <b>tensor of rank zero</b>. "
   ]
  },
  {
   "cell_type": "markdown",
   "metadata": {},
   "source": [
    "### Second Order Tensors\n",
    "---\n",
    "If there are $n^2$ quantities defining a matrix field, or matrix of scalar fields $\\mathbf T = T^{ij}(\\mathbf x) $ with components in both the barred and unbarred coordinate systems\n",
    "    \n",
    "#### Contravariant\n",
    "      \n",
    "$$\\large\\bar{T}^{ i r} = \\frac{ \\partial \\bar{x}^{ i} }{ \\partial \\smash{x^{ j}}} \\frac{ \\partial \\bar{x}^{ r} }{ \\partial x^{ s}} T^{ j s} $$ \n",
    "\n",
    "#### Covariant\n",
    "   \n",
    "$$\\large\\bar{T}_{ i r } = \\frac{  \\partial x^{ j }  }{\\partial \\smash{\\bar{x}^{ i } }} \\frac{  \\partial x^{ s }  }{\\partial \\bar{x}^{ r } }T_{ j s} $$ \n",
    "\n",
    "#### Mixed\n",
    "   \n",
    "$$\\large\\bar{T}^i_r = \\frac{ \\partial \\bar{x}^{ i} }{ \\partial \\smash{x^{ j}}} \\frac{  \\partial x^{ s }  }{\\partial \\bar{x}^{ r } }T^j_s $$ \n"
   ]
  },
  {
   "cell_type": "markdown",
   "metadata": {
    "collapsed": true
   },
   "source": [
    "> An intutive way to think about this is that a zero order tensor is a scalar, a first order tensor is a vector, and a  second order tensor is a matrix ... for example the mixed tensor written above ( in 3 dimensions ) would appear as the following\n",
    "\n",
    "$$ \\bar{T}^i_r =\\left( \\begin{matrix} \\bar{T}^1_1 &\\bar{T}^1_2 & \\bar{T}^1_3 \\\\ \\bar{T}^2_1&\\bar{T}^2_2&\\bar{T}^2_3 \\\\ \\bar{T}^3_1&\\bar{T}^3_2&\\bar{T}^3_3  \\end{matrix}\\right) $$\n",
    "   \n",
    "and\n",
    "   \n",
    "$$\\frac{ \\partial \\bar{x}^{ i} }{ \\partial \\smash{x^{ j}}}= \\left(\\begin{matrix} \\frac{\\partial \\bar{x}^1}{\\partial x^1} &\\frac{\\partial \\bar{x}^1}{\\partial x^2} & \\frac{\\partial \\bar{x}^1}{\\partial x^3} \\\\\\ \\frac{\\partial \\bar{x}^2}{\\partial x^1} & \\frac{\\partial \\bar{x}^2}{\\partial x^2} & \\frac{\\partial \\bar{x}^2}{\\partial x^3} \\\\\\ \\frac{\\partial \\bar{x}^3}{\\partial x^1} & \\frac{\\partial \\bar{x}^3}{\\partial x^2} &\\frac{\\partial \\bar{x}^3}{\\partial x^3}  \\end{matrix}\\right)$$\n",
    "   \n",
    "and\n",
    "   \n",
    "$$\\frac{  \\partial x^{ s }  }{\\partial \\bar{x}^{ r } }=\\left( \\begin{matrix} \\frac{\\partial x^1}{\\partial \\bar{x}^1} &\\frac{\\partial x^1}{\\partial \\bar{x}^2} & \\frac{\\partial x^1}{\\partial \\bar{x}^3} \\\\\\ \\frac{\\partial x^2}{\\partial \\bar{x}^1} & \\frac{\\partial x^2}{\\partial \\bar{x}^2} & \\frac{\\partial x^2}{\\partial \\bar{x}^3} \\\\\\ \\frac{\\partial x^3}{\\partial \\bar{x}^1} & \\frac{\\partial x^3}{\\partial \\bar{x}^2} &\\frac{\\partial x^3}{\\partial \\bar{x}^3}  \\end{matrix}\\right) $$\n",
    "\n",
    "and $$\n",
    "T^j_s =\\left( \\begin{matrix} T^1_1 &T^1_2 & T^1_3 \\\\\\ T^2_1&T^2_2&T^2_3 \\\\\\ T^3_1&T^3_2&T^3_3  \\end{matrix}\\right) $$\n",
    "   \n",
    "and so clearly expanding up the full equation is a tedious and laborious process.\n",
    "   \n"
   ]
  },
  {
   "cell_type": "markdown",
   "metadata": {},
   "source": [
    "### Higher Order Tensors\n",
    "   \n",
    "For a generalized vector field $\\mathbf T = T^{i_1,\\cdots i_p}_{r_1,\\cdots r_q}$ consisting of $(p+q)$ scalar fields, and is of rank $p+q$, contravariant off order p and covariant of order q defined in both coordinate systems, then if the components of the matrix field transform \n",
    "   \n",
    "   $$ \\large\\bar{T}^{i_1,\\cdots i_p}_{r_1,\\cdots r_q} =  T^{j_1,\\cdots j_p}_{s_1,\\cdots s_q} \\frac{ \\partial \\bar{x}^{ i_1} }{ \\partial \\smash{x^{ j_1}} }\\frac{ \\partial \\bar{x}^{ i_2} }{ \\partial \\smash{x^{ j_2}}} ... \\frac{ \\partial \\bar{x}^{ i_p} }{ \\partial \\smash{x^{ j_p}}} \\frac{ \\partial x^{ s_1} }{ \\partial \\bar{x}^{ r_1}} ... \\frac{ \\partial x^{ s_q} }{ \\partial \\bar{x}^{ r_q}} $$\n",
    "   \n",
    "  This is a generalized mixed tensor of rank $p+q$"
   ]
  },
  {
   "cell_type": "code",
   "execution_count": null,
   "metadata": {
    "collapsed": true
   },
   "outputs": [],
   "source": []
  },
  {
   "cell_type": "code",
   "execution_count": null,
   "metadata": {
    "collapsed": true
   },
   "outputs": [],
   "source": []
  },
  {
   "cell_type": "markdown",
   "metadata": {},
   "source": [
    "#### Tensor Addition\n",
    "\n",
    "The sum of two tensors of the same rank and type also produce a tensor of the same rank and type . e.g  \n",
    "   \n",
    "   $$\\large T^{pq}_{r} = A^{pq}_{r} + B^{pq}_{r}$$. \n",
    "   \n",
    "This operation is associative and commutative. The same is true for subtraction."
   ]
  },
  {
   "cell_type": "markdown",
   "metadata": {},
   "source": [
    "#### Outer Product\n",
    "   \n",
    "The outer product of two tensors is a tensor\n",
    "      \n",
    "$$\\large U^{i_1\\cdots i_ak_1\\cdots k_c}_{j_1\\cdots j_bl_d\\cdots l_d}= \\left(S^{i_1\\cdots i_a}_{j_1\\cdots j_b}\\cdot T^{k_1\\cdots k_c}_{l_d\\cdots l_d} \\right)$$\n",
    "   \n",
    "of order $a + b + c + d$, and is covariant of order $b+d$ and contravariant of order $a+c$. The outer product is commutative."
   ]
  },
  {
   "cell_type": "markdown",
   "metadata": {},
   "source": [
    "#### Contraction\n",
    "   \n",
    "A contraction is defined by setting two indices equal for example setting some chosen index in the range $(i_1\\cdots i_a)$ equal to some index in the range $r_1\\cdots r_b)$, then the contraction of \n",
    "   \n",
    "$$\\large T^{i_1\\cdots i_a}_{r_1\\cdots r_b}$$ \n",
    "   \n",
    "is a tensor of rank $(a+b-2)$, covariant of order $b-1$ and contravariant of order $a-1$.\n",
    "\n",
    "This operation uses the fact that $\\frac{\\partial x^p}{\\partial x^q} = \\delta^p_q$ as in calculus, $\\frac{dx}{dx} = 1$, but the change in the x axis with respect to the z axis is zero, since they are orthogonal.\n",
    "\n",
    "> A contraction can result in a loss of information.\n",
    "\n"
   ]
  },
  {
   "cell_type": "markdown",
   "metadata": {
    "collapsed": true
   },
   "source": [
    "The contraction of a second order tensor $T^i_j$ would be $T^i_i=T^1_1+T^2_2+T^3_3$ and is the trace of the tensor in matrix form."
   ]
  },
  {
   "cell_type": "markdown",
   "metadata": {},
   "source": [
    "#### Inner Product\n",
    "    \n",
    "This operation is equivalent to an outer product followed by a contraction.\n",
    "   \n",
    "If $T^i$ is a contravariant Tensor of rank 1 and $S_{ji}$ is covariant of rank 2 then since $T^i = \\bar{ T^j } \\frac{\\partial x^i}{\\partial \\bar{x}^j}$ and $S_{ji}= \\bar{S}_{pq}\\frac{\\partial \\bar{x}^p}{\\partial x^j}\\frac{\\partial \\bar{x}^q}{\\partial x^i} $ \n",
    "\n",
    "$$ (TS)_j = (T^i)(S_{ji}) = \\left(\\bar{ T^r } \\frac{\\partial x^i}{\\partial \\bar{x}^r}\\right) \\left(\\bar{S}_{pq}\\frac{\\partial \\bar{x}^p}{\\partial x^j}\\frac{\\partial \\bar{x}^q}{\\partial x^i} \\right) = \\color{red}{\\frac{\\partial x^i}{\\partial \\bar{x}^r}}\\color{blue}{ \\frac{\\partial \\bar{x}^q}{\\partial x^i} }\\color{black}{\\frac{\\partial \\bar{x}^p}{\\partial x^j} \\bar{T}^r \\bar{S}_{pq}} = \\delta_{\\color{red}{r}}^{\\color{blue}{q}}\\color{black}{\\frac{\\partial \\bar{x}^p}{\\partial x^j}} \\color{black}{\\bar{T}}^{\\color{red}{r}} \\color{black}{S}_{p\\color{blue}{q}} = \\color{black}{\\frac{\\partial \\bar{x}^p}{\\partial x^j} (\\bar{T S})_{p} }$$\n",
    "   \n",
    "and the result is a covariant vector. The result of multipliying the product $\\frac{\\partial x^i}{\\partial \\bar{x}^r}\\frac{\\partial \\bar{x}^q}{\\partial x^i} = \\delta^q_r$ since the $x^i$'s cancel and the remaining differential quotient \n",
    "$\\frac{\\partial \\bar{x}^q}{\\partial \\bar{x}^r} = \\delta^q_r$ since this is equivalent to the change in x with respect to y when x is not a function of y when $r\\neq q$ and so those terms are zero, and when $r=q$ the terms are 1. The $\\delta_r^q$ term remaining then multiplies with the $\\bar{T}^r \\bar{S}_{pq}$ terms, effectively leaving the sum over p, since the other terms are zero. This second part is equivalent to a contraction."
   ]
  },
  {
   "cell_type": "markdown",
   "metadata": {},
   "source": [
    "### Review of Background \n",
    "\n",
    "For two related systems, \n",
    "   \n",
    "$$\\mathbf x = \\mathbf x(u^1, u^2, u^3)$$\n",
    "\n",
    "and\n",
    "$$\\mathbf u =\\mathbf u(x^1, x^2, x^3) $$ etc\n",
    "\n",
    "Then a point P represented in the cartesian frame, also has a representation in the curvilinear frame $(u^1, u^2, u^3)$.\n",
    "For orthogonal curvilinear coordinates, there are two reciprocal sets of vectors to consider - the tangents to the curves defined by the $u^i$ coordinates and the normals to the surfaces defined by pairs of $u^i$ coordinates, or when a $u^k = \\text{const}$. Let $\\mathbf r = x^1\\mathbf i + x^2\\mathbf j + x^3\\mathbf k$ be a position vector representing the set of all points P in the cartesian system, then the unit tangent vectors are\n",
    "   \n",
    "   \n",
    "$$   \\mathbf e^i= \\frac{\\frac{\\partial \\mathbf r}{\\partial u_i}}{\\left|\\frac{\\partial \\mathbf r}{\\partial u_i} \\right|}=\\frac{1}{h_i}\\frac{\\partial \\mathbf r}{\\partial u_i}   $$\n",
    "\n",
    "where the $h_i=\\left|\\frac{\\partial r}{\\partial u^i}\\right|$ are the scale factors or Lame coefficients and the $\\mathbf e^i$ are in the directions of the tangents of $u^i$ curves. \n",
    "   \n",
    "The reciprocal set of vectors is \n",
    "   \n",
    "$$ \\hat{\\mathbf e}^p = \\frac{\\nabla u^p}{\\left|\\nabla u^p\\right|}$$ \n",
    "   \n",
    "Where $\\nabla u^1 = \\frac{\\partial u^1}{\\partial x^1}\\mathbf i +\\frac{\\partial u^1}{\\partial x^2}\\mathbf j +\\frac{\\partial u^1}{\\partial x^3}\\mathbf k$. These vectors are the normals to the surface such that $\\nabla u^p$ is normal to $u^p = \\text{const}$. \n",
    "\n",
    "The terms $\\frac{\\partial \\mathbf r}{\\partial u_i}$ and $\\nabla u^p$ are called unitary base vectors , but are not unit vectors. If a vector $\\mathbf v$ is represented in these two systems...\n",
    "   \n",
    "$$ \\mathbf v = a^i \\frac{\\partial \\mathbf r}{\\partial u^i} $$\n",
    "and\n",
    "$$ \\mathbf v = b^p \\nabla u^p $$\n",
    "\n",
    "Then the $a^i$ are the <b>contravariant</b> components of $\\mathbf v$ and the $b^p$ are the <b>covariant</b> components - they are only coincident / identical if the curvilinear system is orthogonal. This case will be most systems, however these definitions are useful for the concept of the metric.\n",
    "\n",
    "Arc length : $(ds)^2 = (h_1)^2 (du^1)^2+(h_2)^2 (du^2)^2+(h_3)^2 (du^3)^2 = (h_p)^2 (du^p)^2$\n",
    "   \n",
    "   more formally  $(ds)(ds) = (h_1 du^1)(h_1 du^1) + (h_2 du^2)(h_2 du^2)+ (h_3 du^3)(h_3 du^3) = (h_p du^p)(h_q du^q)\\delta^{pq} $\n",
    "   because we should not write powers as with raised indices and we should not repeat indices.\n",
    "   \n",
    "Volume: $dV = h_1\\ h_2\\ h_3\\ du^1 du^2 du^3 = |\\mathbf e^1 \\cdot\\mathbf e^2 \\times \\mathbf e^3|$ (scalar triple product).\n"
   ]
  },
  {
   "cell_type": "markdown",
   "metadata": {},
   "source": [
    "### Metric Tensor\n",
    "\n",
    "The metric Tensor is defined as $\\mathbf g =  g_{ij}$ and has the following properties...\n",
    "   \n",
    "1) $\\mathbf g$ is positive definite (and also the inverse $\\mathbf g^{-1}$\n",
    "   \n",
    "2) non-singular $|g_{ij}|\\neq 0$\n",
    "   \n",
    "3) symmetric\n",
    "   \n",
    "4) has 2nd order partial derivatives (class $C^2$\n",
    "   \n",
    "5) Is invariant with change of coordinates (see arc length below).\n",
    "   \n",
    "The concept of distance in Euclidean space, for any generalized cartesian, orthogonal curvilinear, affine coordinates is:\n",
    "   \n",
    "$$ (ds)^2 = g_{ij} (dx^i)(dx^j) $$\n",
    "\n",
    "where for Euclidean systems $g_{ij}=0$ if $i\\neq j $\n",
    "\n",
    "For a coordinate system in the Euclidean metric, \n",
    "\n",
    "$$ \\mathbf G = \\mathbf J^T \\mathbf J $$\n",
    "   \n",
    "and for example, the orthogonal curvlinear coordinate systems (spherical, cylindrical, dual paraboloidal, elliptic) \n",
    "all have scale factors (Lame Coefficients) and are coordinate systems of the Euclidean metric, these scale factors appear as the square roots of the diagonal elements of the metric.\n",
    "\n",
    "#### definition: The metric tensor is a covariant tensor of 2nd order."
   ]
  },
  {
   "cell_type": "markdown",
   "metadata": {},
   "source": [
    "### Example.\n",
    "   \n",
    "For spherical coordinates, the transformation to cartesian is\n",
    "   \n",
    "$$ x = r\\ \\cos\\phi\\ \\sin\\theta,\\quad y = r\\ \\sin\\phi\\ \\sin\\theta,\\quad z = r\\ \\cos\\theta $$ \n",
    "   \n",
    "where $\\theta$ is the angle from the top to the bottom of the sphere between 0 and $\\pi$, and $\\phi$ is the angle in the $xy$ plane with angle $0-360^o$ or $0 \\leq \\phi\\leq 2\\pi$. the inverse transform\n",
    "   \n",
    "$$ r = \\sqrt{ x^2 + y^2 + z^2}, \\quad \\theta = \\arccos \\frac{z}{r},\\quad \\phi = \\arctan \\frac{y}{x}$$\n",
    "   \n",
    "so we set that $(x,y,z) = (x^1,x^2,x^3)$ and $(r,\\theta,\\phi) = (\\bar{x}^1,\\bar{x}^2,\\bar{x}^3)$, (note that $\\theta$ is the second vector for this system to be right handed) then...\n",
    "   \n",
    "$$ x^1 = \\bar{x}^1\\ \\cos\\bar{x}^3\\ \\sin\\bar{x}^2,\\quad x^2 = \\bar{x}^1\\ \\sin\\bar{x}^3\\ \\sin\\bar{x}^2,\\quad x^3 = \\bar{x}^1\\ \\cos\\bar{x}^2 $$ \n",
    "and\n",
    "   \n",
    "$$ \\bar{x}^1= \\sqrt{ (x^1)^2 + (x^2)^2 + (x^3)^2}, \\quad \\bar{x}^2 = \\arccos \\frac{(x^3)}{\\sqrt{ (x^1)^2 + (x^2)^2 + (x^3)^2}},\\quad \\bar{x}^3 = \\arctan \\frac{x^2}{x^1}$$\n",
    "   \n",
    "and the Jacobian matrix of $\\frac{\\partial (x^1,x^2,x^3)}{\\partial (\\bar{x}^1,\\bar{x}^2,\\bar{x}^3)} $ we can get by calculating the derivatives ...\n",
    "   \n",
    "$$\\left( \\begin{matrix} \\frac{\\partial x^1}{\\partial \\bar{x}^1} &\\frac{\\partial x^1}{\\partial \\bar{x}^2} & \\frac{\\partial x^1}{\\partial \\bar{x}^3} \\\\\\ \\frac{\\partial x^2}{\\partial \\bar{x}^1} & \\frac{\\partial x^2}{\\partial \\bar{x}^2} & \\frac{\\partial x^2}{\\partial \\bar{x}^3} \\\\\\ \\frac{\\partial x^3}{\\partial \\bar{x}^1} & \\frac{\\partial x^3}{\\partial \\bar{x}^2} &\\frac{\\partial x^3}{\\partial \\bar{x}^3}  \\end{matrix}\\right) $$"
   ]
  },
  {
   "cell_type": "code",
   "execution_count": 456,
   "metadata": {
    "collapsed": false
   },
   "outputs": [
    {
     "name": "stdout",
     "output_type": "stream",
     "text": [
      "The Jacobian of the dx^i/dy^j where x's are cartesian and y's are spherical \n"
     ]
    },
    {
     "data": {
      "text/latex": [
       "$$\\left[\\begin{matrix}\\sin{\\left (y_{2} \\right )} \\cos{\\left (y_{3} \\right )} & y_{1} \\cos{\\left (y_{2} \\right )} \\cos{\\left (y_{3} \\right )} & - y_{1} \\sin{\\left (y_{2} \\right )} \\sin{\\left (y_{3} \\right )}\\\\\\sin{\\left (y_{2} \\right )} \\sin{\\left (y_{3} \\right )} & y_{1} \\sin{\\left (y_{3} \\right )} \\cos{\\left (y_{2} \\right )} & y_{1} \\sin{\\left (y_{2} \\right )} \\cos{\\left (y_{3} \\right )}\\\\\\cos{\\left (y_{2} \\right )} & - y_{1} \\sin{\\left (y_{2} \\right )} & 0\\end{matrix}\\right]$$"
      ],
      "text/plain": [
       "⎡sin(y₂)⋅cos(y₃)  y₁⋅cos(y₂)⋅cos(y₃)  -y₁⋅sin(y₂)⋅sin(y₃)⎤\n",
       "⎢                                                        ⎥\n",
       "⎢sin(y₂)⋅sin(y₃)  y₁⋅sin(y₃)⋅cos(y₂)  y₁⋅sin(y₂)⋅cos(y₃) ⎥\n",
       "⎢                                                        ⎥\n",
       "⎣    cos(y₂)         -y₁⋅sin(y₂)               0         ⎦"
      ]
     },
     "execution_count": 456,
     "metadata": {},
     "output_type": "execute_result"
    }
   ],
   "source": [
    "from sympy import *\n",
    "from sympy.vector import *\n",
    "\n",
    "e = CoordSysCartesian('e')\n",
    "sph = CoordSysCartesian('sph')\n",
    "\n",
    "x_1,x_2,x_3 = symbols('x_1,x_2, x_3')\n",
    "y_1,y_2,y_3 = symbols('y_1,y_2, y_3')\n",
    "\n",
    "v = y_1 * cos (y_3) * sin(y_2) * e.i+ y_1 * sin (y_3) * sin(y_2) * e.j +  y_1 * cos(y_2) * e.k\n",
    "V = sqrt( x_1**2 + x_2**2 + x_3**2) * sph.i + acos( x_3/sqrt( x_1**2 + x_2**2 + x_3**2)) * sph.j + atan(x_2/x_1) * sph.k\n",
    "\n",
    "X = Matrix([v.dot(e.i), v.dot(e.j),v.dot(e.k)])\n",
    "Y = Matrix([y_1, y_2, y_3])\n",
    "\n",
    "init_printing(use_latex=true)\n",
    "\n",
    "print \"The Jacobian of the dx^i/dy^j where x's are cartesian and y's are spherical \"\n",
    "J_1 = X.jacobian(Y)\n",
    "J_1"
   ]
  },
  {
   "cell_type": "code",
   "execution_count": 457,
   "metadata": {
    "collapsed": false
   },
   "outputs": [
    {
     "name": "stdout",
     "output_type": "stream",
     "text": [
      "The metric of the spherical coordinate system relative to the cartesian\n"
     ]
    },
    {
     "data": {
      "text/latex": [
       "$$\\left[\\begin{matrix}1 & 0 & 0\\\\0 & y_{1}^{2} & 0\\\\0 & 0 & y_{1}^{2} \\sin^{2}{\\left (y_{2} \\right )}\\end{matrix}\\right]$$"
      ],
      "text/plain": [
       "⎡1   0        0      ⎤\n",
       "⎢                    ⎥\n",
       "⎢     2              ⎥\n",
       "⎢0  y₁        0      ⎥\n",
       "⎢                    ⎥\n",
       "⎢          2    2    ⎥\n",
       "⎣0   0   y₁ ⋅sin (y₂)⎦"
      ]
     },
     "execution_count": 457,
     "metadata": {},
     "output_type": "execute_result"
    }
   ],
   "source": [
    "J_1T = J_1.transpose()\n",
    "G_xy = simplify(J_1T*J_1)\n",
    "print \"The metric of the spherical coordinate system relative to the cartesian\"\n",
    "G_xy"
   ]
  },
  {
   "cell_type": "code",
   "execution_count": 458,
   "metadata": {
    "collapsed": false
   },
   "outputs": [
    {
     "name": "stdout",
     "output_type": "stream",
     "text": [
      "The Jacobian of the dy^i/dx^j where x's are cartesian and y's are spherical \n"
     ]
    },
    {
     "data": {
      "text/latex": [
       "$$\\left[\\begin{matrix}\\frac{x_{1}}{\\sqrt{x_{1}^{2} + x_{2}^{2} + x_{3}^{2}}} & \\frac{x_{2}}{\\sqrt{x_{1}^{2} + x_{2}^{2} + x_{3}^{2}}} & \\frac{x_{3}}{\\sqrt{x_{1}^{2} + x_{2}^{2} + x_{3}^{2}}}\\\\\\frac{x_{1} x_{3}}{\\sqrt{- \\frac{x_{3}^{2}}{x_{1}^{2} + x_{2}^{2} + x_{3}^{2}} + 1} \\left(x_{1}^{2} + x_{2}^{2} + x_{3}^{2}\\right)^{\\frac{3}{2}}} & \\frac{x_{2} x_{3}}{\\sqrt{- \\frac{x_{3}^{2}}{x_{1}^{2} + x_{2}^{2} + x_{3}^{2}} + 1} \\left(x_{1}^{2} + x_{2}^{2} + x_{3}^{2}\\right)^{\\frac{3}{2}}} & - \\frac{- \\frac{x_{3}^{2}}{\\left(x_{1}^{2} + x_{2}^{2} + x_{3}^{2}\\right)^{\\frac{3}{2}}} + \\frac{1}{\\sqrt{x_{1}^{2} + x_{2}^{2} + x_{3}^{2}}}}{\\sqrt{- \\frac{x_{3}^{2}}{x_{1}^{2} + x_{2}^{2} + x_{3}^{2}} + 1}}\\\\- \\frac{x_{2}}{x_{1}^{2} \\left(1 + \\frac{x_{2}^{2}}{x_{1}^{2}}\\right)} & \\frac{1}{x_{1} \\left(1 + \\frac{x_{2}^{2}}{x_{1}^{2}}\\right)} & 0\\end{matrix}\\right]$$"
      ],
      "text/plain": [
       "⎡                        x₁                                                  x\n",
       "⎢               ────────────────────                                ──────────\n",
       "⎢                  _________________                                   _______\n",
       "⎢                 ╱   2     2     2                                   ╱   2   \n",
       "⎢               ╲╱  x₁  + x₂  + x₃                                  ╲╱  x₁  + \n",
       "⎢                                                                             \n",
       "⎢                                                                             \n",
       "⎢                                                                             \n",
       "⎢                                                                             \n",
       "⎢                                                                             \n",
       "⎢                                                                             \n",
       "⎢                      x₁⋅x₃                                               x₂⋅\n",
       "⎢──────────────────────────────────────────────────  ─────────────────────────\n",
       "⎢      _______________________                             ___________________\n",
       "⎢     ╱           2                             3/2       ╱           2       \n",
       "⎢    ╱          x₃             ⎛  2     2     2⎞         ╱          x₃        \n",
       "⎢   ╱   - ─────────────── + 1 ⋅⎝x₁  + x₂  + x₃ ⎠        ╱   - ─────────────── \n",
       "⎢  ╱        2     2     2                              ╱        2     2     2 \n",
       "⎢╲╱       x₁  + x₂  + x₃                             ╲╱       x₁  + x₂  + x₃  \n",
       "⎢                                                                             \n",
       "⎢                       -x₂                                                  1\n",
       "⎢                  ─────────────                                        ──────\n",
       "⎢                      ⎛      2⎞                                           ⎛  \n",
       "⎢                    2 ⎜    x₂ ⎟                                           ⎜  \n",
       "⎢                  x₁ ⋅⎜1 + ───⎟                                        x₁⋅⎜1 \n",
       "⎢                      ⎜      2⎟                                           ⎜  \n",
       "⎣                      ⎝    x₁ ⎠                                           ⎝  \n",
       "\n",
       "₂                                                 x₃                        ⎤\n",
       "──────────                               ────────────────────               ⎥\n",
       "__________                                  _________________               ⎥\n",
       "  2     2                                  ╱   2     2     2                ⎥\n",
       "x₂  + x₃                                 ╲╱  x₁  + x₂  + x₃                 ⎥\n",
       "                                                                            ⎥\n",
       "                            ⎛            2                                ⎞ ⎥\n",
       "                            ⎜          x₃                      1          ⎟ ⎥\n",
       "                           -⎜- ──────────────────── + ────────────────────⎟ ⎥\n",
       "                            ⎜                   3/2      _________________⎟ ⎥\n",
       "                            ⎜  ⎛  2     2     2⎞        ╱   2     2     2 ⎟ ⎥\n",
       "x₃                          ⎝  ⎝x₁  + x₂  + x₃ ⎠      ╲╱  x₁  + x₂  + x₃  ⎠ ⎥\n",
       "─────────────────────────  ─────────────────────────────────────────────────⎥\n",
       "____                                       _______________________          ⎥\n",
       "                      3/2                 ╱           2                     ⎥\n",
       "     ⎛  2     2     2⎞                   ╱          x₃                      ⎥\n",
       "+ 1 ⋅⎝x₁  + x₂  + x₃ ⎠                  ╱   - ─────────────── + 1           ⎥\n",
       "                                       ╱        2     2     2               ⎥\n",
       "                                     ╲╱       x₁  + x₂  + x₃                ⎥\n",
       "                                                                            ⎥\n",
       "                                                                            ⎥\n",
       "──────                                             0                        ⎥\n",
       "    2⎞                                                                      ⎥\n",
       "  x₂ ⎟                                                                      ⎥\n",
       "+ ───⎟                                                                      ⎥\n",
       "    2⎟                                                                      ⎥\n",
       "  x₁ ⎠                                                                      ⎦"
      ]
     },
     "execution_count": 458,
     "metadata": {},
     "output_type": "execute_result"
    }
   ],
   "source": [
    "X_2 = Matrix([V.dot(sph.i), V.dot(sph.j),V.dot(sph.k)])\n",
    "Y_2 = Matrix([x_1,x_2,x_3])\n",
    "\n",
    "print \"The Jacobian of the dy^i/dx^j where x's are cartesian and y's are spherical \"\n",
    "\n",
    "J_2 = X_2.jacobian(Y_2)\n",
    "J_2"
   ]
  },
  {
   "cell_type": "code",
   "execution_count": 34,
   "metadata": {
    "collapsed": false
   },
   "outputs": [
    {
     "name": "stdout",
     "output_type": "stream",
     "text": [
      "The metric of the dy^i/dx^j where x's are cartesian and y's are spherical \n"
     ]
    },
    {
     "data": {
      "text/latex": [
       "$$\\left[\\begin{matrix}\\frac{1}{\\left(x_{1}^{2} + x_{2}^{2}\\right)^{2} \\left(x_{1}^{2} + x_{2}^{2} + x_{3}^{2}\\right)^{2}} \\left(x_{1}^{2} x_{3}^{2} \\left(x_{1}^{2} + x_{2}^{2}\\right) + x_{1}^{2} \\left(x_{1}^{2} + x_{2}^{2}\\right)^{2} \\left(x_{1}^{2} + x_{2}^{2} + x_{3}^{2}\\right) + x_{2}^{2} \\left(x_{1}^{2} + x_{2}^{2} + x_{3}^{2}\\right)^{2}\\right) & \\frac{x_{1} x_{2}}{\\left(x_{1}^{2} + x_{2}^{2}\\right)^{2} \\left(x_{1}^{2} + x_{2}^{2} + x_{3}^{2}\\right)^{2}} \\left(x_{3}^{2} \\left(x_{1}^{2} + x_{2}^{2}\\right) + \\left(x_{1}^{2} + x_{2}^{2}\\right)^{2} \\left(x_{1}^{2} + x_{2}^{2} + x_{3}^{2}\\right) - \\left(x_{1}^{2} + x_{2}^{2} + x_{3}^{2}\\right)^{2}\\right) & \\frac{x_{1} x_{3} \\left(x_{1}^{2} + x_{2}^{2} + x_{3}^{2} - 1\\right)}{\\left(x_{1}^{2} + x_{2}^{2} + x_{3}^{2}\\right)^{2}}\\\\\\frac{x_{1} x_{2}}{\\left(x_{1}^{2} + x_{2}^{2}\\right)^{2} \\left(x_{1}^{2} + x_{2}^{2} + x_{3}^{2}\\right)^{2}} \\left(x_{3}^{2} \\left(x_{1}^{2} + x_{2}^{2}\\right) + \\left(x_{1}^{2} + x_{2}^{2}\\right)^{2} \\left(x_{1}^{2} + x_{2}^{2} + x_{3}^{2}\\right) - \\left(x_{1}^{2} + x_{2}^{2} + x_{3}^{2}\\right)^{2}\\right) & \\frac{1}{\\left(x_{1}^{2} + x_{2}^{2}\\right)^{2} \\left(x_{1}^{2} + x_{2}^{2} + x_{3}^{2}\\right)^{2}} \\left(x_{1}^{2} \\left(x_{1}^{2} + x_{2}^{2} + x_{3}^{2}\\right)^{2} + x_{2}^{2} x_{3}^{2} \\left(x_{1}^{2} + x_{2}^{2}\\right) + x_{2}^{2} \\left(x_{1}^{2} + x_{2}^{2}\\right)^{2} \\left(x_{1}^{2} + x_{2}^{2} + x_{3}^{2}\\right)\\right) & \\frac{x_{2} x_{3} \\left(x_{1}^{2} + x_{2}^{2} + x_{3}^{2} - 1\\right)}{\\left(x_{1}^{2} + x_{2}^{2} + x_{3}^{2}\\right)^{2}}\\\\\\frac{x_{1} x_{3} \\left(x_{1}^{2} + x_{2}^{2} + x_{3}^{2} - 1\\right)}{\\left(x_{1}^{2} + x_{2}^{2} + x_{3}^{2}\\right)^{2}} & \\frac{x_{2} x_{3} \\left(x_{1}^{2} + x_{2}^{2} + x_{3}^{2} - 1\\right)}{\\left(x_{1}^{2} + x_{2}^{2} + x_{3}^{2}\\right)^{2}} & \\frac{x_{1}^{2} + x_{2}^{2} + x_{3}^{2} \\left(x_{1}^{2} + x_{2}^{2} + x_{3}^{2}\\right)}{\\left(x_{1}^{2} + x_{2}^{2} + x_{3}^{2}\\right)^{2}}\\end{matrix}\\right]$$"
      ],
      "text/plain": [
       "⎡                                     2                                       \n",
       "⎢  2   2 ⎛  2     2⎞     2 ⎛  2     2⎞  ⎛  2     2     2⎞     2 ⎛  2     2    \n",
       "⎢x₁ ⋅x₃ ⋅⎝x₁  + x₂ ⎠ + x₁ ⋅⎝x₁  + x₂ ⎠ ⋅⎝x₁  + x₂  + x₃ ⎠ + x₂ ⋅⎝x₁  + x₂  + x\n",
       "⎢─────────────────────────────────────────────────────────────────────────────\n",
       "⎢                                    2                  2                     \n",
       "⎢                         ⎛  2     2⎞  ⎛  2     2     2⎞                      \n",
       "⎢                         ⎝x₁  + x₂ ⎠ ⋅⎝x₁  + x₂  + x₃ ⎠                      \n",
       "⎢                                                                             \n",
       "⎢        ⎛                             2                                      \n",
       "⎢        ⎜  2 ⎛  2     2⎞   ⎛  2     2⎞  ⎛  2     2     2⎞   ⎛  2     2     2⎞\n",
       "⎢  x₁⋅x₂⋅⎝x₃ ⋅⎝x₁  + x₂ ⎠ + ⎝x₁  + x₂ ⎠ ⋅⎝x₁  + x₂  + x₃ ⎠ - ⎝x₁  + x₂  + x₃ ⎠\n",
       "⎢  ───────────────────────────────────────────────────────────────────────────\n",
       "⎢                                    2                  2                     \n",
       "⎢                         ⎛  2     2⎞  ⎛  2     2     2⎞                      \n",
       "⎢                         ⎝x₁  + x₂ ⎠ ⋅⎝x₁  + x₂  + x₃ ⎠                      \n",
       "⎢                                                                             \n",
       "⎢                                 ⎛  2     2     2    ⎞                       \n",
       "⎢                           x₁⋅x₃⋅⎝x₁  + x₂  + x₃  - 1⎠                       \n",
       "⎢                           ───────────────────────────                       \n",
       "⎢                                                 2                           \n",
       "⎢                                ⎛  2     2     2⎞                            \n",
       "⎣                                ⎝x₁  + x₂  + x₃ ⎠                            \n",
       "\n",
       "   2          ⎛                             2                                 \n",
       " 2⎞           ⎜  2 ⎛  2     2⎞   ⎛  2     2⎞  ⎛  2     2     2⎞   ⎛  2     2  \n",
       "₃ ⎠     x₁⋅x₂⋅⎝x₃ ⋅⎝x₁  + x₂ ⎠ + ⎝x₁  + x₂ ⎠ ⋅⎝x₁  + x₂  + x₃ ⎠ - ⎝x₁  + x₂  +\n",
       "────    ──────────────────────────────────────────────────────────────────────\n",
       "                                          2                  2                \n",
       "                               ⎛  2     2⎞  ⎛  2     2     2⎞                 \n",
       "                               ⎝x₁  + x₂ ⎠ ⋅⎝x₁  + x₂  + x₃ ⎠                 \n",
       "                                                                              \n",
       "2⎞                         2                                        2         \n",
       " ⎟      2 ⎛  2     2     2⎞      2   2 ⎛  2     2⎞     2 ⎛  2     2⎞  ⎛  2    \n",
       " ⎠    x₁ ⋅⎝x₁  + x₂  + x₃ ⎠  + x₂ ⋅x₃ ⋅⎝x₁  + x₂ ⎠ + x₂ ⋅⎝x₁  + x₂ ⎠ ⋅⎝x₁  + x\n",
       "──    ────────────────────────────────────────────────────────────────────────\n",
       "                                          2                  2                \n",
       "                               ⎛  2     2⎞  ⎛  2     2     2⎞                 \n",
       "                               ⎝x₁  + x₂ ⎠ ⋅⎝x₁  + x₂  + x₃ ⎠                 \n",
       "                                                                              \n",
       "                                       ⎛  2     2     2    ⎞                  \n",
       "                                 x₂⋅x₃⋅⎝x₁  + x₂  + x₃  - 1⎠                  \n",
       "                                 ───────────────────────────                  \n",
       "                                                       2                      \n",
       "                                      ⎛  2     2     2⎞                       \n",
       "                                      ⎝x₁  + x₂  + x₃ ⎠                       \n",
       "\n",
       "     2⎞                                     ⎤\n",
       "   2⎞ ⎟             ⎛  2     2     2    ⎞   ⎥\n",
       " x₃ ⎠ ⎠       x₁⋅x₃⋅⎝x₁  + x₂  + x₃  - 1⎠   ⎥\n",
       "───────       ───────────────────────────   ⎥\n",
       "                                    2       ⎥\n",
       "                   ⎛  2     2     2⎞        ⎥\n",
       "                   ⎝x₁  + x₂  + x₃ ⎠        ⎥\n",
       "                                            ⎥\n",
       "                                            ⎥\n",
       " 2     2⎞           ⎛  2     2     2    ⎞   ⎥\n",
       "₂  + x₃ ⎠     x₂⋅x₃⋅⎝x₁  + x₂  + x₃  - 1⎠   ⎥\n",
       "─────────     ───────────────────────────   ⎥\n",
       "                                    2       ⎥\n",
       "                   ⎛  2     2     2⎞        ⎥\n",
       "                   ⎝x₁  + x₂  + x₃ ⎠        ⎥\n",
       "                                            ⎥\n",
       "             2     2     2 ⎛  2     2     2⎞⎥\n",
       "           x₁  + x₂  + x₃ ⋅⎝x₁  + x₂  + x₃ ⎠⎥\n",
       "           ─────────────────────────────────⎥\n",
       "                                    2       ⎥\n",
       "                   ⎛  2     2     2⎞        ⎥\n",
       "                   ⎝x₁  + x₂  + x₃ ⎠        ⎦"
      ]
     },
     "execution_count": 34,
     "metadata": {},
     "output_type": "execute_result"
    }
   ],
   "source": [
    "J_2T = J_2.transpose()\n",
    "\n",
    "print \"The metric of the dy^i/dx^j where x's are cartesian and y's are spherical \"\n",
    "\n",
    "G_yx = simplify((J_2T*J_2))\n",
    "G_yx"
   ]
  },
  {
   "cell_type": "code",
   "execution_count": 38,
   "metadata": {
    "collapsed": false
   },
   "outputs": [
    {
     "name": "stdout",
     "output_type": "stream",
     "text": [
      "The inverse of the Jacobian of the dx^i/dy^j where x's are cartesian and y's are spherical \n"
     ]
    },
    {
     "data": {
      "text/latex": [
       "$$\\left[\\begin{matrix}\\sin{\\left (y_{2} \\right )} \\cos{\\left (y_{3} \\right )} & \\sin{\\left (y_{2} \\right )} \\sin{\\left (y_{3} \\right )} & \\cos{\\left (y_{2} \\right )}\\\\\\frac{1}{y_{1}} \\cos{\\left (y_{2} \\right )} \\cos{\\left (y_{3} \\right )} & \\frac{1}{y_{1}} \\sin{\\left (y_{3} \\right )} \\cos{\\left (y_{2} \\right )} & - \\frac{1}{y_{1}} \\sin{\\left (y_{2} \\right )}\\\\- \\frac{\\sin{\\left (y_{3} \\right )}}{y_{1} \\sin{\\left (y_{2} \\right )}} & \\frac{\\cos{\\left (y_{3} \\right )}}{y_{1} \\sin{\\left (y_{2} \\right )}} & 0\\end{matrix}\\right]$$"
      ],
      "text/plain": [
       "⎡sin(y₂)⋅cos(y₃)  sin(y₂)⋅sin(y₃)   cos(y₂) ⎤\n",
       "⎢                                           ⎥\n",
       "⎢cos(y₂)⋅cos(y₃)  sin(y₃)⋅cos(y₂)  -sin(y₂) ⎥\n",
       "⎢───────────────  ───────────────  ─────────⎥\n",
       "⎢       y₁               y₁            y₁   ⎥\n",
       "⎢                                           ⎥\n",
       "⎢  -sin(y₃)          cos(y₃)                ⎥\n",
       "⎢  ──────────       ──────────         0    ⎥\n",
       "⎣  y₁⋅sin(y₂)       y₁⋅sin(y₂)              ⎦"
      ]
     },
     "execution_count": 38,
     "metadata": {},
     "output_type": "execute_result"
    }
   ],
   "source": [
    "print \"The inverse of the Jacobian of the dx^i/dy^j where x's are cartesian and y's are spherical \"\n",
    "J1_inv = simplify(J_1.inverse_ADJ())\n",
    "J1_inv"
   ]
  },
  {
   "cell_type": "code",
   "execution_count": 114,
   "metadata": {
    "collapsed": false
   },
   "outputs": [
    {
     "data": {
      "text/latex": [
       "$$\\left[\\begin{matrix}\\sin{\\left (y_{2} \\right )} \\cos{\\left (y_{3} \\right )} & y_{1} \\cos{\\left (y_{2} \\right )} \\cos{\\left (y_{3} \\right )} & - y_{1} \\sin{\\left (y_{2} \\right )} \\sin{\\left (y_{3} \\right )}\\\\\\sin{\\left (y_{2} \\right )} \\sin{\\left (y_{3} \\right )} & y_{1} \\sin{\\left (y_{3} \\right )} \\cos{\\left (y_{2} \\right )} & y_{1} \\sin{\\left (y_{2} \\right )} \\cos{\\left (y_{3} \\right )}\\\\\\cos{\\left (y_{2} \\right )} & - y_{1} \\sin{\\left (y_{2} \\right )} & 0\\end{matrix}\\right]$$"
      ],
      "text/plain": [
       "⎡sin(y₂)⋅cos(y₃)  y₁⋅cos(y₂)⋅cos(y₃)  -y₁⋅sin(y₂)⋅sin(y₃)⎤\n",
       "⎢                                                        ⎥\n",
       "⎢sin(y₂)⋅sin(y₃)  y₁⋅sin(y₃)⋅cos(y₂)  y₁⋅sin(y₂)⋅cos(y₃) ⎥\n",
       "⎢                                                        ⎥\n",
       "⎣    cos(y₂)         -y₁⋅sin(y₂)               0         ⎦"
      ]
     },
     "execution_count": 114,
     "metadata": {},
     "output_type": "execute_result"
    }
   ],
   "source": [
    "J_1"
   ]
  },
  {
   "cell_type": "code",
   "execution_count": 130,
   "metadata": {
    "collapsed": false
   },
   "outputs": [
    {
     "name": "stdout",
     "output_type": "stream",
     "text": [
      "The inverse of the Jacobian of the dy^i/dx^j where x's are cartesian and y's are spherical \n"
     ]
    },
    {
     "data": {
      "text/latex": [
       "$$\\left[\\begin{matrix}\\frac{y_{1}}{\\sqrt{y_{1}^{2}}} \\sin{\\left (y_{2} \\right )} \\cos{\\left (y_{3} \\right )} & \\frac{\\sqrt{2} y_{1}^{2} \\left(\\sin{\\left (2 y_{2} - y_{3} \\right )} + \\sin{\\left (2 y_{2} + y_{3} \\right )}\\right)}{4 \\sqrt{- \\cos{\\left (2 y_{2} \\right )} + 1} \\sqrt{y_{1}^{2}}} & - y_{1} \\sin{\\left (y_{2} \\right )} \\sin{\\left (y_{3} \\right )}\\\\\\frac{y_{1}}{\\sqrt{y_{1}^{2}}} \\sin{\\left (y_{2} \\right )} \\sin{\\left (y_{3} \\right )} & \\frac{\\sqrt{2} y_{1}^{2} \\left(\\cos{\\left (2 y_{2} - y_{3} \\right )} - \\cos{\\left (2 y_{2} + y_{3} \\right )}\\right)}{4 \\sqrt{- \\cos{\\left (2 y_{2} \\right )} + 1} \\sqrt{y_{1}^{2}}} & y_{1} \\sin{\\left (y_{2} \\right )} \\cos{\\left (y_{3} \\right )}\\\\\\frac{y_{1}}{\\sqrt{y_{1}^{2}}} \\cos{\\left (y_{2} \\right )} & - \\frac{y_{1}^{2}}{\\sqrt{y_{1}^{2}}} \\sqrt{\\sin^{2}{\\left (y_{2} \\right )}} & 0\\end{matrix}\\right]$$"
      ],
      "text/plain": [
       "⎡                         2                                                   \n",
       "⎢y₁⋅sin(y₂)⋅cos(y₃)  √2⋅y₁ ⋅(sin(2⋅y₂ - y₃) + sin(2⋅y₂ + y₃))                 \n",
       "⎢──────────────────  ────────────────────────────────────────  -y₁⋅sin(y₂)⋅sin\n",
       "⎢        _____                                    _____                       \n",
       "⎢       ╱   2                 ________________   ╱   2                        \n",
       "⎢     ╲╱  y₁              4⋅╲╱ -cos(2⋅y₂) + 1 ⋅╲╱  y₁                         \n",
       "⎢                                                                             \n",
       "⎢                         2                                                   \n",
       "⎢y₁⋅sin(y₂)⋅sin(y₃)  √2⋅y₁ ⋅(cos(2⋅y₂ - y₃) - cos(2⋅y₂ + y₃))                 \n",
       "⎢──────────────────  ────────────────────────────────────────  y₁⋅sin(y₂)⋅cos(\n",
       "⎢        _____                                    _____                       \n",
       "⎢       ╱   2                 ________________   ╱   2                        \n",
       "⎢     ╲╱  y₁              4⋅╲╱ -cos(2⋅y₂) + 1 ⋅╲╱  y₁                         \n",
       "⎢                                                                             \n",
       "⎢                                      __________                             \n",
       "⎢                                 2   ╱    2                                  \n",
       "⎢    y₁⋅cos(y₂)                -y₁ ⋅╲╱  sin (y₂)                              \n",
       "⎢    ──────────                ───────────────────                      0     \n",
       "⎢        _____                          _____                                 \n",
       "⎢       ╱   2                          ╱   2                                  \n",
       "⎣     ╲╱  y₁                         ╲╱  y₁                                   \n",
       "\n",
       "    ⎤\n",
       "    ⎥\n",
       "(y₃)⎥\n",
       "    ⎥\n",
       "    ⎥\n",
       "    ⎥\n",
       "    ⎥\n",
       "    ⎥\n",
       "    ⎥\n",
       "y₃) ⎥\n",
       "    ⎥\n",
       "    ⎥\n",
       "    ⎥\n",
       "    ⎥\n",
       "    ⎥\n",
       "    ⎥\n",
       "    ⎥\n",
       "    ⎥\n",
       "    ⎥\n",
       "    ⎥\n",
       "    ⎦"
      ]
     },
     "execution_count": 130,
     "metadata": {},
     "output_type": "execute_result"
    }
   ],
   "source": [
    "print \"The inverse of the Jacobian of the dy^i/dx^j where x's are cartesian and y's are spherical \"\n",
    "J2_inv =simplify(J_2.inverse_GE())\n",
    "simplify(J2_inv.subs({x_1:v.dot(e.i),x_2:v.dot(e.j),x_3:v.dot(e.k)}))"
   ]
  },
  {
   "cell_type": "markdown",
   "metadata": {},
   "source": [
    "taking the identity, $\\cos(2\\theta)=\\cos^2\\theta - sin^2\\theta = 2\\cos^2\\theta-1 = 1-2\\sin^2\\theta$ the denomiator common in the $\\mathbf J_{12}$ and $\\mathbf J_{22}$ can be simplified, $4\\sqrt{-\\cos(2 y_2)+1}\\sqrt{y_1^2} = 4 \\sqrt{-(1-2\\sin^2(y_2))+1}y_1 = \\sqrt(2)4\\sin(y_2)y_1$"
   ]
  },
  {
   "cell_type": "markdown",
   "metadata": {},
   "source": [
    "The numerator from the $\\mathbf J_{12}$ and $\\mathbf J_{22}$ terms can also be simplified ... using $\\sin(A\\pm B)=\\sin(A)\\cos(B)\\pm \\cos(A)\\sin(B) $ the numerator of $\\mathbf J_{12}$ is simplified as follows \n",
    "   \n",
    "$$\\sqrt(2) y_1^2 (\\sin(2y_2-y_3)+\\sin(2y_2+y3)) = \\sqrt(2) y_1^2 (\\sin(2 y_2)\\cos(y_3)- \\cos(2 y_2)\\sin(y3) + \\sin(2 y_2)\\cos(y_3 )+ \\cos(2 y_2)\\sin(y_3)) = \\sqrt(2) y_1^2 (2 \\sin(2 y_2)\\cos(y_3))$$  \n",
    "   \n",
    "and then the identity $\\sin(2\\theta) = 2\\sin\\theta\\cos\\theta$ gives ...\n",
    "   \n",
    "$$ \\sqrt(2) y_1^2 (2 \\sin(2 y_2)\\cos(y_3)) = \\sqrt(2) y_1^2 (4 \\sin y_2 \\cos y_2 \\cos y_3) $$\n",
    "   \n",
    "and now combining numerator and denominator ... \n",
    "   \n",
    "$$\\mathbf J_{12} = \\frac{\\sqrt(2) y_1^2 (4 \\sin y_2 \\cos y_2 \\cos y_3)}{\\sqrt(2)4\\sin(y_2)y_1} = y_1 ( \\cos y_2 \\cos y_3) $$\n",
    "  \n",
    "as the $\\sqrt 2$, the $y_1$'s and the 4's cancel. The same can be found for the $\\mathbf J_{22}$ term using similar identities in the numerator. The other components of the matrix contain terms like $\\sqrt{A^2} $ and if these are all reduced to $A$ then the matrix is the same as the Jacobian of the $dx^i/dy^j$. Sympy recognizes that in general, $\\sqrt{A^2}\\neq A$ but instead $|A|$ and so does not perform the simplification. It can be a challenge to produce the correct numbers from an expression or set of expressions that are not simplified completely, so it is a good idea to use wisdom and do things by hand."
   ]
  },
  {
   "cell_type": "markdown",
   "metadata": {
    "collapsed": true
   },
   "source": [
    "### Analysis of the Line Element\n",
    "\n",
    "$$ (d\\mathbf x)^2 = (dx^1)^2+(dx^2)^2+(dx^3)^2$$\n",
    "\n",
    "in the context of a change of variables, the metric tensor is used - but to change between two coordinate systems\n",
    "the cartesian $x^r=x^r(u^i)$ to the $u^i$ system the scale factors are used that relate cartesian to curvilinear, they are elements of the Jacobian matrix that relate one system to the other. For example the scale factors for the $u^i$ system might be $(h_1,h_2,h_3)$, then the *line element* becomes\n",
    "   \n",
    "$$ (d\\mathbf x)^2 = (h_1)^2(du^1)^2+(h_2)^2(du^2)^2+(h_3)^2(du^3)^2$$\n",
    "\n",
    "*because* the change in the variables $dx^i$ with respect to the $u^k$ system requires the Jacobian, and if for example the $u^k$ system was a Euclidean metric the variables can be derived easily\n",
    "   \n",
    "$$\\frac{dx^1}{du^1} = h_1, \\implies dx^1 = h_1 du^1 $$ \n",
    "   \n",
    "etc, then the line element is easily found through substitution. The general form of $dx^i$ in $n$ dimensions is \n",
    "   \n",
    "$$ dx^i = \\frac{\\partial x^i}{\\partial u^j}du^j = \\frac{\\partial x^i}{\\partial u^1}du^1 +\\frac{\\partial x^i}{\\partial u^2}du^2+\\cdots \\frac{\\partial x^i}{\\partial u^n}du^n $$\n",
    "   \n",
    "and so the scale factor becomes quite different (and the metric).\n",
    "   \n",
    "The line element is important, as it ensures that distance between two points is an invariant between coordinate systems. This is why it is often attached to the notion of the metric. The metric can also be associated with the concept of a dot product between two vectors defined on a surface transforming as $\\mathbf a^T \\mathbf G \\mathbf a$ and \n",
    "from the dot product the angle can be produced. As from differential geometry, we can expand the differential in the arc length function as follows ... \n",
    "   \n",
    "$$ (d\\mathbf x)^2   = \\left(\\frac{\\partial \\mathbf x}{\\partial u^p}du^p\\right)\\cdot\\left(\\frac{\\partial \\mathbf  x}{\\partial u^q}du^q\\right)$$\n",
    "   \n",
    "And the terms in brackets can be expanded.\n",
    "   \n",
    "$$ \\implies (d\\mathbf x)^2 = \\left(\\frac{\\partial\\mathbf x}{\\partial u^1}du^1 +\\frac{\\partial\\mathbf x}{\\partial u^2}du^2+\\frac{\\partial\\mathbf x}{\\partial u^3}du^3 \\right)\\left(\\frac{\\partial \\mathbf x}{\\partial u^1}du^1 +\\frac{\\partial \\mathbf x}{\\partial u^2}du^2+\\frac{\\partial \\mathbf x}{\\partial u^3}du^3 \\right)$$\n",
    "   \n",
    "\n"
   ]
  },
  {
   "cell_type": "markdown",
   "metadata": {
    "collapsed": true
   },
   "source": [
    "Therefore expanding\n",
    "\n",
    "$$ (d\\mathbf x)^2 = \\frac{\\partial\\mathbf x}{\\partial u^1}\\cdot \\frac{\\partial\\mathbf x}{\\partial u^1} (du^1)^2   +\\frac{\\partial\\mathbf x}{\\partial u^2}\\cdot\\frac{\\partial\\mathbf x}{\\partial u^2}(du^2)^2  +\\frac{\\partial\\mathbf x}{\\partial u^3}\\cdot\\frac{\\partial\\mathbf x}{\\partial u^3}(du^3)^2 +2\\frac{\\partial\\mathbf x}{\\partial u^1}\\cdot\\frac{\\partial\\mathbf x}{\\partial u^2}du^1 du^2+  2\\frac{\\partial\\mathbf x}{\\partial u^1}\\cdot\\frac{\\partial\\mathbf x}{\\partial u^3}du^1 du^3 +2\\frac{\\partial\\mathbf x}{\\partial u^2}\\cdot\\frac{\\partial\\mathbf x}{\\partial u^3}du^2 du^3$$"
   ]
  },
  {
   "cell_type": "markdown",
   "metadata": {},
   "source": [
    "thus we have that if $\\frac{\\partial\\mathbf x}{\\partial u^1}$ is orthogonal to $\\frac{\\partial\\mathbf x}{\\partial u^2}$ then the dot product $=0$ and likewise for all $\\frac{\\partial\\mathbf x}{\\partial u^i}\\cdot \\frac{\\partial\\mathbf x}{\\partial u^j}\\quad |\\quad i\\neq j$  \n",
    "\n",
    "Then this expression reduces to ...\n",
    "\n",
    "$$ (d\\mathbf x)^2 = \\frac{\\partial\\mathbf x}{\\partial u^1}\\cdot \\frac{\\partial\\mathbf x}{\\partial u^1} (du^1)^2   +\\frac{\\partial\\mathbf x}{\\partial u^2}\\cdot\\frac{\\partial\\mathbf x}{\\partial u^2}(du^2)^2  +\\frac{\\partial\\mathbf x}{\\partial u^3}\\cdot\\frac{\\partial\\mathbf x}{\\partial u^3}(du^3)^2 $$\n",
    "   \n",
    "and of course, the $\\frac{\\partial\\mathbf x}{\\partial u^i}$ are the unitary vectors *and these are* the components of the Jacobian matrix of $\\mathbf x$ with respect to $\\mathbf u$ and therefore the dot products are the result of the product defining the metric, $\\mathbf J^T \\mathbf J$ , hence we have that  $\\frac{\\partial\\mathbf x}{\\partial u^i} = h_i \\mathbf e^i $, then the dot product of these vectors with themselves produces $(h_i)^2$, therefore ...\n",
    "   \n",
    "$$ (d\\mathbf x)^2 = (h_1)^2 (du^1)^2+(h_2)^2 (du^2)^2+(h_3)^2 (du^3)^2 $$\n",
    "   \n",
    "and so $h_1 = \\sqrt g_{11} $ for *orthogonal systems*"
   ]
  },
  {
   "cell_type": "markdown",
   "metadata": {},
   "source": [
    "However if the system is not orthogonal, we already know that ...\n",
    "   \n",
    "$$ (d\\mathbf s)^2 = g_{11}\\ (du^1)(du^1)   +g_{22}\\ (du^2)(du^2)  +g_{33}\\ (du^3)(du^3) +2\\ g_{12}\\ (du^1) (du^2)+  2\\  g_{13}\\ (du^1)( du^3) +2\\ g_{23}\\ (du^2) (du^3)$$\n",
    "   \n",
    "where the metric is defined by ...\n",
    "   \n",
    "$$ \\left( \\begin{array}{ccc}\\ g_{11} & g_{12} & g_{13} \\\\ g_{21} & g_{22} & g_{23} \\\\ g_{31} & g_{32} & g_{33} \\end{array} \\right) $$\n",
    "   \n",
    "and the components $g_{ij} = \\frac{\\partial x^i}{\\partial u^j}\\frac{\\partial x^j}{\\partial u^i} $ and $g_{ij} = g_{ji}$\n",
    "   \n",
    "and is symmetric and positive definate, as $\\mathbf G= \\mathbf J^T \\mathbf J = \\frac{\\partial (x^1,x^2,x^3)}{\\partial (u^1, u^2,u^3)} ^T \\frac{\\partial (x^1,x^2,x^3)}{\\partial (u^1, u^2,u^3)} $\n",
    "\n",
    "> Apparently if $\\mathbf g$ is non-Euclidean, then there exists no coordinate system where $G=I$ the identity matrix, and so this approach using Jacobian matrices does not work - proof needed.\n",
    "\n",
    "Supposing $\\mathbf J = \\frac{\\partial \\bar{x}^i}{\\partial x^j}$ where $\\bar{x}^i$ is rectangular, then in $x^j$ the metric equals $\\mathbf J^T \\mathbf J$ but in $\\bar{x}^i$ the metric is the identity matrix. This can be shown above, in the example of spherical coordinates where the inverse metric is not orthogonal (not diagonal) and represents the rectangular space in spherical geometry. This is why we must define a concept called the conjugate metric tensor, that is the *inverse* of the metric tensor of $x^j$ defined as $ (\\mathbf J^T \\mathbf J )^{-1} $  \n",
    "\n",
    "### Transformation of the metric\n",
    "   \n",
    "The metric tensor is covariant, \n",
    "   \n",
    "$$ \\bar{g}_{pq} = g_{jk}\\frac{\\partial  x^j}{\\partial \\bar{x}^p}\\frac{\\partial x^k}{\\partial \\bar{x}^q}$$"
   ]
  },
  {
   "cell_type": "markdown",
   "metadata": {},
   "source": [
    "\n",
    "\n",
    "### Raising and lowering indices\n",
    "   \n",
    "#### definition. The inner product of a contravariant vector and a covariant tensor of 2nd order is a covariant vector. Therefore\n",
    "   \n",
    "$$T_i = g_{ij} T^j $$\n",
    "\n",
    "*defines* the operation of lowering indices of a contravariant vector. Equivalently \n",
    "   \n",
    "$$ T^i = g^{ij}T_j$$\n",
    "\n",
    "where $g^{ij} = (g_{ij})^{-1}$ is the inverse."
   ]
  },
  {
   "cell_type": "markdown",
   "metadata": {},
   "source": [
    "for a contravariant vector, a velocity, in the $x^r$ system, transforms into $u^i$ according to the rule  \n",
    "  \n",
    "  $$ \\frac{\\partial u^i}{\\partial t} = \\frac{\\partial u^i}{\\partial x^r} \\frac{\\partial x^r}{\\partial t}$$\n",
    "    \n",
    "relabelled $T^i = \\frac{\\partial u^i}{\\partial t}$ and $T^r = \\frac{\\partial u^r}{\\partial t}$ then\n",
    "   \n",
    "   $$ T_j = g_{ji}T^i = g_{ji}\\frac{\\partial u^i}{\\partial x^r}T^r $$\n",
    "   \n",
    "as the the sphere, the jacobian is built from the changes of the transformation *to cartesian*, or the partial derivatives of $\\mathbf x=\\mathbf x(u^i)$ to transform the vector *from cartesian* to the curvlinear system $u^i$ \n",
    "and since \n",
    "  $$ g_{ji}= g_{pq}\\frac{\\partial x^p}{\\partial u^j}\\frac{\\partial x^q}{\\partial u^i} $$\n",
    "\n",
    "   our equation becomes\n",
    "   \n",
    "$$ g_{ji}T^i =  \\left(\\frac{\\partial x^j}{\\partial u^i}\\frac{\\partial x^j}{\\partial u^i}\\right)\\frac{\\partial u^i}{\\partial x^r}T^r = \\frac{\\partial x^j}{\\partial u^i}\\left(\\frac{\\partial x^j}{\\partial u^i}\\frac{\\partial u^i}{\\partial x^r}\\right)T^r =  \\frac{\\partial x^j}{\\partial u^i} \\delta^j_r T^r =\\frac{\\partial x^j}{\\partial u^i} T^j = T_i$$\n",
    "   \n",
    "since $\\frac{\\partial x^j}{\\partial x^r} = \\delta^j_r $ and although the indices have changed, this seems to be the lowering of an index operation. It also seems to only work with the consideration of the idea that $g_{ji}=g_{ij}$ and $g_{ij}=0$ if $i\\neq j$. So a quick review of the method of multiplying contravariant vector by a covariant tensor of order 2 reveals ... ( arbitrarily changing the rectangular $x^i$'s to a barred notation to show how they are associated with the Tensors)"
   ]
  },
  {
   "cell_type": "markdown",
   "metadata": {},
   "source": [
    "$$ V_j = (T^i)(g_{ji}) = \\left(\\bar{ T^r } \\frac{\\partial u^i}{\\partial \\bar{x}^r}\\right) \\left(\\bar{g}_{pq}\\frac{\\partial \\bar{x}^p}{\\partial u^j}\\frac{\\partial \\bar{x}^q}{\\partial u^i} \\right) = \\color{red}{\\frac{\\partial u^i}{\\partial \\bar{x}^r}}\\color{blue}{ \\frac{\\partial \\bar{x}^q}{\\partial u^i} }\\color{black}{\\frac{\\partial \\bar{x}^p}{\\partial u^j} \\bar{T}^r \\bar{g}_{pq}} = \\delta_{\\color{red}{r}}^{\\color{blue}{q}}\\color{black}{\\frac{\\partial \\bar{x}^p}{\\partial u^j}} \\color{black}{\\bar{T}}^{\\color{red}{r}} \\color{black}{g}_{p\\color{blue}{q}} = \\color{black}{\\frac{\\partial \\bar{x}^p}{\\partial u^j} (\\bar{V})_{p} }$$"
   ]
  },
  {
   "cell_type": "markdown",
   "metadata": {},
   "source": [
    "what exactly does $\\bar{V}_p$ look like now ? I think its still $\\frac{\\partial x^p}{\\partial t}$, and this would be a contravariant velocity transformed to a covariant velocity - this needs to be checked out. I think the answer is in the use of the Kronecker delta, the $\\delta_r^q$ can cause the product to be $\\bar{T}^r g_{pr}$ , then \n",
    "this would be\n",
    "   \n",
    " $$V_j =\\frac{\\partial \\bar{x}^p}{\\partial u^j}\\bar{T}^r g_{pr} = \\frac{\\partial \\bar{x}^1}{\\partial u^j} (\\bar{T}^r g_{1r} ) + \\frac{\\partial \\bar{x}^2}{\\partial u^j} (\\bar{T}^r g_{2r} ) + \\frac{\\partial \\bar{x}^3}{\\partial u^j} (\\bar{T}^r g_{3r} )$$\n",
    " \n",
    " and so the tensor part is $(\\bar{T}^r g_{ir} ) = \\bar{T}^1 g_{i1} + \\bar{T}^2 g_{i2} + \\bar{T}^3 g_{i3}$ and so again, we ask, what is $\\bar{T}^r$ and clearly its just \n",
    " \n",
    " $$\\bar{T}^r = \\frac{\\partial x^r}{\\partial t}$$"
   ]
  },
  {
   "cell_type": "markdown",
   "metadata": {},
   "source": [
    "### example\n",
    "   \n",
    "Lets take a vector, represented in spherical coordinates, $(\\mathbf e^\\rho, \\mathbf e^\\theta, \\mathbf e^\\phi) = (\\mathbf e^1, \\mathbf e^2, \\mathbf e^3) $ and represent it in barred rectangular coordinates $(\\mathbf i, \\mathbf j,\\mathbf k)=(\\mathbf {\\hat{e}}^1,\\mathbf {\\hat{e}}^2,\\mathbf {\\hat{e}}^3)$ ..."
   ]
  },
  {
   "cell_type": "markdown",
   "metadata": {},
   "source": [
    "lets say, $\\mathbf v = 1.2  \\mathbf e^1 + \\pi 0.5  \\mathbf e^2 + \\pi  \\mathbf e^3 $ and transform this vector ...\n",
    "   \n",
    "$$\\frac{\\partial A^i}{\\partial t} = \\frac{\\partial A^i}{\\partial u^r}\\frac{\\partial u^r}{\\partial t} $$\n",
    "   \n",
    "Now $\\mathbf A$ must be $\\mathbf A = r\\ \\cos\\phi\\ \\sin\\theta\\ \\mathbf {\\hat{e}}^1 + r\\ \\sin\\phi\\ \\sin\\theta\\ \\mathbf {\\hat{e}}^2 + r\\ \\cos\\theta\\ \\mathbf {\\hat{e}}^3$ and for the derivatives of $\\mathbf A$ with respect to the $u$ system I will use the jacobian. \n",
    "\n",
    "$$\\left[\\begin{matrix}\\sin{\\left (y_{2} \\right )} \\cos{\\left (y_{3} \\right )} & y_{1} \\cos{\\left (y_{2} \\right )} \\cos{\\left (y_{3} \\right )} & - y_{1} \\sin{\\left (y_{2} \\right )} \\sin{\\left (y_{3} \\right )}\\\\\\sin{\\left (y_{2} \\right )} \\sin{\\left (y_{3} \\right )} & y_{1} \\sin{\\left (y_{3} \\right )} \\cos{\\left (y_{2} \\right )} & y_{1} \\sin{\\left (y_{2} \\right )} \\cos{\\left (y_{3} \\right )}\\\\\\cos{\\left (y_{2} \\right )} & - y_{1} \\sin{\\left (y_{2} \\right )} & 0\\end{matrix}\\right]$$\n",
    "   \n",
    "now I will first compute the derivatives for each $u^i$ ...\n",
    "\n",
    "   $$\\frac{\\partial u^1}{\\partial t} = v^1$$\n",
    "and\n",
    "   $$\\frac{\\partial u^2}{\\partial t} = v^2 $$\n",
    "and\n",
    "   $$\\frac{\\partial u^3}{\\partial t} = v^3 $$\n",
    "\n",
    "now in the code, the $u$ coordinates are labelled $y$ from earlier."
   ]
  },
  {
   "cell_type": "code",
   "execution_count": 460,
   "metadata": {
    "collapsed": false,
    "scrolled": true
   },
   "outputs": [
    {
     "data": {
      "text/latex": [
       "$$\\left[\\begin{matrix}- 3.14159 y_{1} \\sin{\\left (y_{2} \\right )} \\sin{\\left (y_{3} \\right )} + 1.570795 y_{1} \\cos{\\left (y_{2} \\right )} \\cos{\\left (y_{3} \\right )} + 1.2 \\sin{\\left (y_{2} \\right )} \\cos{\\left (y_{3} \\right )}\\\\3.14159 y_{1} \\sin{\\left (y_{2} \\right )} \\cos{\\left (y_{3} \\right )} + 1.570795 y_{1} \\sin{\\left (y_{3} \\right )} \\cos{\\left (y_{2} \\right )} + 1.2 \\sin{\\left (y_{2} \\right )} \\sin{\\left (y_{3} \\right )}\\\\- 1.570795 y_{1} \\sin{\\left (y_{2} \\right )} + 1.2 \\cos{\\left (y_{2} \\right )}\\end{matrix}\\right]$$"
      ],
      "text/plain": [
       "⎡-3.14159⋅y₁⋅sin(y₂)⋅sin(y₃) + 1.570795⋅y₁⋅cos(y₂)⋅cos(y₃) + 1.2⋅sin(y₂)⋅cos(y\n",
       "⎢                                                                             \n",
       "⎢3.14159⋅y₁⋅sin(y₂)⋅cos(y₃) + 1.570795⋅y₁⋅sin(y₃)⋅cos(y₂) + 1.2⋅sin(y₂)⋅sin(y₃\n",
       "⎢                                                                             \n",
       "⎣                      -1.570795⋅y₁⋅sin(y₂) + 1.2⋅cos(y₂)                     \n",
       "\n",
       "₃)⎤\n",
       "  ⎥\n",
       ") ⎥\n",
       "  ⎥\n",
       "  ⎦"
      ]
     },
     "execution_count": 460,
     "metadata": {},
     "output_type": "execute_result"
    }
   ],
   "source": [
    "t = symbols('t')\n",
    "v = Matrix([1.2, 0.5*3.14159,3.14159 ])\n",
    "dAdt = J_1*v\n",
    "dAdt"
   ]
  },
  {
   "cell_type": "code",
   "execution_count": 461,
   "metadata": {
    "collapsed": false
   },
   "outputs": [],
   "source": [
    "# earlier I forgot that the y_1 coordinate is the integral of its velocity - so I integrated these by hand\n",
    "dAdt = dAdt.subs({y_1:1.2*t, y_2:0.5*3.14159*t, y_3:3.14159*t})"
   ]
  },
  {
   "cell_type": "code",
   "execution_count": 462,
   "metadata": {
    "collapsed": false
   },
   "outputs": [
    {
     "data": {
      "image/png": "[encoded data removed]",
      "text/plain": [
       "<matplotlib.figure.Figure at 0x15ea5128>"
      ]
     },
     "metadata": {},
     "output_type": "display_data"
    }
   ],
   "source": [
    "from sympy import symbols, cos, sin\n",
    "from sympy.plotting import plot3d_parametric_line\n",
    "%matplotlib inline\n",
    "\n",
    "p1 = plot3d_parametric_line(dAdt[0], dAdt[1], dAdt[2], (t, 0, 1.5), show = False)\n",
    "\n",
    "p1.show()"
   ]
  },
  {
   "cell_type": "code",
   "execution_count": 434,
   "metadata": {
    "collapsed": false
   },
   "outputs": [
    {
     "data": {
      "text/latex": [
       "$$\\left[\\begin{matrix}1 & 0 & 0\\\\0 & y_{1}^{2} & 0\\\\0 & 0 & y_{1}^{2} \\sin^{2}{\\left (y_{2} \\right )}\\end{matrix}\\right]$$"
      ],
      "text/plain": [
       "⎡1   0        0      ⎤\n",
       "⎢                    ⎥\n",
       "⎢     2              ⎥\n",
       "⎢0  y₁        0      ⎥\n",
       "⎢                    ⎥\n",
       "⎢          2    2    ⎥\n",
       "⎣0   0   y₁ ⋅sin (y₂)⎦"
      ]
     },
     "execution_count": 434,
     "metadata": {},
     "output_type": "execute_result"
    }
   ],
   "source": [
    "(simplify(J_1.T * J_1))"
   ]
  },
  {
   "cell_type": "code",
   "execution_count": 247,
   "metadata": {
    "collapsed": false
   },
   "outputs": [
    {
     "data": {
      "text/latex": [
       "$$\\left[\\begin{matrix}1 & 0 & 0\\\\0 & \\frac{1}{y_{1}^{2}} & 0\\\\0 & 0 & \\frac{1}{y_{1}^{2} \\sin^{2}{\\left (y_{2} \\right )}}\\end{matrix}\\right]$$"
      ],
      "text/plain": [
       "⎡1   0        0      ⎤\n",
       "⎢                    ⎥\n",
       "⎢    1               ⎥\n",
       "⎢0  ───       0      ⎥\n",
       "⎢     2              ⎥\n",
       "⎢   y₁               ⎥\n",
       "⎢                    ⎥\n",
       "⎢             1      ⎥\n",
       "⎢0   0   ────────────⎥\n",
       "⎢          2    2    ⎥\n",
       "⎣        y₁ ⋅sin (y₂)⎦"
      ]
     },
     "execution_count": 247,
     "metadata": {},
     "output_type": "execute_result"
    }
   ],
   "source": [
    "simplify(J_1.T * J_1).inverse_ADJ()"
   ]
  },
  {
   "cell_type": "code",
   "execution_count": 578,
   "metadata": {
    "collapsed": false
   },
   "outputs": [
    {
     "name": "stdout",
     "output_type": "stream",
     "text": [
      "The apparent covariant velocity in spherical coordinates\n"
     ]
    },
    {
     "data": {
      "text/latex": [
       "$$\\left[\\begin{matrix}1.2\\\\2.2619448 t^{2}\\\\4.5238896 t^{2} \\sin^{2}{\\left (1.570795 t \\right )}\\end{matrix}\\right]$$"
      ],
      "text/plain": [
       "⎡             1.2             ⎤\n",
       "⎢                             ⎥\n",
       "⎢                   2         ⎥\n",
       "⎢        2.2619448⋅t          ⎥\n",
       "⎢                             ⎥\n",
       "⎢           2    2            ⎥\n",
       "⎣4.5238896⋅t ⋅sin (1.570795⋅t)⎦"
      ]
     },
     "execution_count": 578,
     "metadata": {},
     "output_type": "execute_result"
    }
   ],
   "source": [
    "# transform the original velocity by the metric to get the \n",
    "# covariant matrix : the original velocity is in spherical coordinates, so the covariant \n",
    "# velocity is in spherical coordinates\n",
    "dUdt_cov = simplify( J_1.T*J_1).subs({y_1:1.2*t, y_2:0.5*3.14159*t, y_3:3.14159*t}) * v\n",
    "\n",
    "\n",
    "#rad = sqrt((v[0]*t)**2 + (v[1]*t)**2 + (v[2]*t)**2)\n",
    "#theta = acos((v[2]*t)/rad)\n",
    "#phi = atan((v[1])/v[0])\n",
    "\n",
    "# make a vector of coordinates for convenience (this is x_1, x_2, x_3) with each of the \n",
    "# spherical velocity components integrated wrt time.\n",
    "V = Matrix([v[0]*t*cos(v[2]*t)*sin(v[1]*t),v[0]*t*sin(v[1]*t)*sin(v[2]*t),v[0]*t*cos(v[1]*t)])\n",
    "\n",
    "# multiply the covariant velocity by the inverse transpose of the transform Jacobian \n",
    "# to retrieve the same cartesian velocity vector as the contravariant case\n",
    "dAdt_cov2 = simplify(J_1.inverse_ADJ().T).subs({y_1:v[0]*t, y_2:v[1]*t, y_3:v[2]*t}) *dUdt_cov\n",
    "#dAdt_cov3 = simplify(J_1.inverse_ADJ()).subs({y_1:v[0]*t, y_2:v[1]*t, y_3:v[2]*t}) *dUdt_cov\n",
    "# this should do the same thing ?\n",
    "dAdt_cov = simplify(J_2).subs({x_1:V[0], x_2:V[1], x_3:V[2]}) *dUdt_cov \n",
    "\n",
    "p1 = plot3d_parametric_line(dAdt[0], dAdt[1], dAdt[2], (t, 0, 5.5), show=False)\n",
    "p1.extend(plot3d_parametric_line(dAdt_cov [0], dAdt_cov [1], dAdt_cov [2], (t, 0.1, 5.5), show=False, line_color = 'r') )\n",
    "p1.extend(plot3d_parametric_line(dAdt_cov2 [0], dAdt_cov2 [1], dAdt_cov2 [2], (t, 0.1, 5.5), show=False, line_color = 'g') )\n",
    "#p1.extend(plot3d_parametric_line(dAdt_cov3 [0], dAdt_cov3 [1], dAdt_cov3 [2], (t, 0.1, 5.5), show=False, line_color = 'b') )\n",
    "\n",
    "print \"The apparent covariant velocity in spherical coordinates\"\n",
    "dUdt_cov"
   ]
  },
  {
   "cell_type": "code",
   "execution_count": 579,
   "metadata": {
    "collapsed": false
   },
   "outputs": [
    {
     "data": {
      "image/png": "[encoded data removed]",
      "text/plain": [
       "<matplotlib.figure.Figure at 0x13de3748>"
      ]
     },
     "metadata": {},
     "output_type": "display_data"
    }
   ],
   "source": [
    "p1.show()\n",
    "# The green and blue lines are the same, this transform might be equivalent to simply \n",
    "# not multiplying by the metric component that is identity when multiplied by the jacobian part "
   ]
  },
  {
   "cell_type": "code",
   "execution_count": 568,
   "metadata": {
    "collapsed": false
   },
   "outputs": [
    {
     "data": {
      "text/latex": [
       "$$\\left[\\begin{matrix}- 3.769908 t \\sin{\\left (1.570795 t \\right )} \\sin{\\left (3.14159 t \\right )} + 1.884954 t \\cos{\\left (1.570795 t \\right )} \\cos{\\left (3.14159 t \\right )} + 1.2 \\sin{\\left (1.570795 t \\right )} \\cos{\\left (3.14159 t \\right )}\\\\3.769908 t \\sin{\\left (1.570795 t \\right )} \\cos{\\left (3.14159 t \\right )} + 1.884954 t \\sin{\\left (3.14159 t \\right )} \\cos{\\left (1.570795 t \\right )} + 1.2 \\sin{\\left (1.570795 t \\right )} \\sin{\\left (3.14159 t \\right )}\\\\- 1.884954 t \\sin{\\left (1.570795 t \\right )} + 1.2 \\cos{\\left (1.570795 t \\right )}\\end{matrix}\\right]$$"
      ],
      "text/plain": [
       "⎡-3.769908⋅t⋅sin(1.570795⋅t)⋅sin(3.14159⋅t) + 1.884954⋅t⋅cos(1.570795⋅t)⋅cos(3\n",
       "⎢                                                                             \n",
       "⎢3.769908⋅t⋅sin(1.570795⋅t)⋅cos(3.14159⋅t) + 1.884954⋅t⋅sin(3.14159⋅t)⋅cos(1.5\n",
       "⎢                                                                             \n",
       "⎣                                     -1.884954⋅t⋅sin(1.570795⋅t) + 1.2⋅cos(1.\n",
       "\n",
       ".14159⋅t) + 1.2⋅sin(1.570795⋅t)⋅cos(3.14159⋅t)⎤\n",
       "                                              ⎥\n",
       "70795⋅t) + 1.2⋅sin(1.570795⋅t)⋅sin(3.14159⋅t) ⎥\n",
       "                                              ⎥\n",
       "570795⋅t)                                     ⎦"
      ]
     },
     "execution_count": 568,
     "metadata": {},
     "output_type": "execute_result"
    }
   ],
   "source": [
    "dAdt_cov2"
   ]
  },
  {
   "cell_type": "code",
   "execution_count": 566,
   "metadata": {
    "collapsed": false
   },
   "outputs": [
    {
     "data": {
      "text/latex": [
       "$$\\left[\\begin{matrix}- 3.769908 t \\sin{\\left (1.570795 t \\right )} \\sin{\\left (3.14159 t \\right )} + 1.884954 t \\cos{\\left (1.570795 t \\right )} \\cos{\\left (3.14159 t \\right )} + 1.2 \\sin{\\left (1.570795 t \\right )} \\cos{\\left (3.14159 t \\right )}\\\\3.769908 t \\sin{\\left (1.570795 t \\right )} \\cos{\\left (3.14159 t \\right )} + 1.884954 t \\sin{\\left (3.14159 t \\right )} \\cos{\\left (1.570795 t \\right )} + 1.2 \\sin{\\left (1.570795 t \\right )} \\sin{\\left (3.14159 t \\right )}\\\\- 1.884954 t \\sin{\\left (1.570795 t \\right )} + 1.2 \\cos{\\left (1.570795 t \\right )}\\end{matrix}\\right]$$"
      ],
      "text/plain": [
       "⎡-3.769908⋅t⋅sin(1.570795⋅t)⋅sin(3.14159⋅t) + 1.884954⋅t⋅cos(1.570795⋅t)⋅cos(3\n",
       "⎢                                                                             \n",
       "⎢3.769908⋅t⋅sin(1.570795⋅t)⋅cos(3.14159⋅t) + 1.884954⋅t⋅sin(3.14159⋅t)⋅cos(1.5\n",
       "⎢                                                                             \n",
       "⎣                                     -1.884954⋅t⋅sin(1.570795⋅t) + 1.2⋅cos(1.\n",
       "\n",
       ".14159⋅t) + 1.2⋅sin(1.570795⋅t)⋅cos(3.14159⋅t)⎤\n",
       "                                              ⎥\n",
       "70795⋅t) + 1.2⋅sin(1.570795⋅t)⋅sin(3.14159⋅t) ⎥\n",
       "                                              ⎥\n",
       "570795⋅t)                                     ⎦"
      ]
     },
     "execution_count": 566,
     "metadata": {},
     "output_type": "execute_result"
    }
   ],
   "source": [
    "dAdt"
   ]
  },
  {
   "cell_type": "code",
   "execution_count": 574,
   "metadata": {
    "collapsed": false
   },
   "outputs": [
    {
     "data": {
      "text/latex": [
       "$$\\left[\\begin{matrix}\\frac{5.42866752 t^{3} \\sin^{2}{\\left (1.570795 t \\right )} \\cos{\\left (1.570795 t \\right )}}{\\sqrt{1.44 t^{2} \\sin^{2}{\\left (1.570795 t \\right )} \\sin^{2}{\\left (3.14159 t \\right )} + 1.44 t^{2} \\sin^{2}{\\left (1.570795 t \\right )} \\cos^{2}{\\left (3.14159 t \\right )} + 1.44 t^{2} \\cos^{2}{\\left (1.570795 t \\right )}}} + \\frac{2.71433376 t^{3} \\sin{\\left (1.570795 t \\right )} \\sin{\\left (3.14159 t \\right )}}{\\sqrt{1.44 t^{2} \\sin^{2}{\\left (1.570795 t \\right )} \\sin^{2}{\\left (3.14159 t \\right )} + 1.44 t^{2} \\sin^{2}{\\left (1.570795 t \\right )} \\cos^{2}{\\left (3.14159 t \\right )} + 1.44 t^{2} \\cos^{2}{\\left (1.570795 t \\right )}}} + \\frac{1.44 t \\sin{\\left (1.570795 t \\right )} \\cos{\\left (3.14159 t \\right )}}{\\sqrt{1.44 t^{2} \\sin^{2}{\\left (1.570795 t \\right )} \\sin^{2}{\\left (3.14159 t \\right )} + 1.44 t^{2} \\sin^{2}{\\left (1.570795 t \\right )} \\cos^{2}{\\left (3.14159 t \\right )} + 1.44 t^{2} \\cos^{2}{\\left (1.570795 t \\right )}}}\\\\\\frac{3.257200512 t^{4} \\sin{\\left (1.570795 t \\right )} \\sin{\\left (3.14159 t \\right )} \\cos{\\left (1.570795 t \\right )}}{\\sqrt{\\frac{1.44 t^{2} \\sin^{2}{\\left (1.570795 t \\right )} \\sin^{2}{\\left (3.14159 t \\right )} + 1.44 t^{2} \\sin^{2}{\\left (1.570795 t \\right )} \\cos^{2}{\\left (3.14159 t \\right )}}{1.44 t^{2} \\sin^{2}{\\left (1.570795 t \\right )} \\sin^{2}{\\left (3.14159 t \\right )} + 1.44 t^{2} \\sin^{2}{\\left (1.570795 t \\right )} \\cos^{2}{\\left (3.14159 t \\right )} + 1.44 t^{2} \\cos^{2}{\\left (1.570795 t \\right )}}} \\left(1.44 t^{2} \\sin^{2}{\\left (1.570795 t \\right )} \\sin^{2}{\\left (3.14159 t \\right )} + 1.44 t^{2} \\sin^{2}{\\left (1.570795 t \\right )} \\cos^{2}{\\left (3.14159 t \\right )} + 1.44 t^{2} \\cos^{2}{\\left (1.570795 t \\right )}\\right)^{\\frac{3}{2}}} - \\frac{4.5238896 t^{2} \\left(1.44 t^{2} \\sin^{2}{\\left (1.570795 t \\right )} \\sin^{2}{\\left (3.14159 t \\right )} + 1.44 t^{2} \\sin^{2}{\\left (1.570795 t \\right )} \\cos^{2}{\\left (3.14159 t \\right )}\\right) \\sin^{2}{\\left (1.570795 t \\right )}}{\\sqrt{\\frac{1.44 t^{2} \\sin^{2}{\\left (1.570795 t \\right )} \\sin^{2}{\\left (3.14159 t \\right )} + 1.44 t^{2} \\sin^{2}{\\left (1.570795 t \\right )} \\cos^{2}{\\left (3.14159 t \\right )}}{1.44 t^{2} \\sin^{2}{\\left (1.570795 t \\right )} \\sin^{2}{\\left (3.14159 t \\right )} + 1.44 t^{2} \\sin^{2}{\\left (1.570795 t \\right )} \\cos^{2}{\\left (3.14159 t \\right )} + 1.44 t^{2} \\cos^{2}{\\left (1.570795 t \\right )}}} \\left(1.44 t^{2} \\sin^{2}{\\left (1.570795 t \\right )} \\sin^{2}{\\left (3.14159 t \\right )} + 1.44 t^{2} \\sin^{2}{\\left (1.570795 t \\right )} \\cos^{2}{\\left (3.14159 t \\right )} + 1.44 t^{2} \\cos^{2}{\\left (1.570795 t \\right )}\\right)^{\\frac{3}{2}}} + \\frac{1.728 t^{2} \\sin{\\left (1.570795 t \\right )} \\cos{\\left (1.570795 t \\right )} \\cos{\\left (3.14159 t \\right )}}{\\sqrt{\\frac{1.44 t^{2} \\sin^{2}{\\left (1.570795 t \\right )} \\sin^{2}{\\left (3.14159 t \\right )} + 1.44 t^{2} \\sin^{2}{\\left (1.570795 t \\right )} \\cos^{2}{\\left (3.14159 t \\right )}}{1.44 t^{2} \\sin^{2}{\\left (1.570795 t \\right )} \\sin^{2}{\\left (3.14159 t \\right )} + 1.44 t^{2} \\sin^{2}{\\left (1.570795 t \\right )} \\cos^{2}{\\left (3.14159 t \\right )} + 1.44 t^{2} \\cos^{2}{\\left (1.570795 t \\right )}}} \\left(1.44 t^{2} \\sin^{2}{\\left (1.570795 t \\right )} \\sin^{2}{\\left (3.14159 t \\right )} + 1.44 t^{2} \\sin^{2}{\\left (1.570795 t \\right )} \\cos^{2}{\\left (3.14159 t \\right )} + 1.44 t^{2} \\cos^{2}{\\left (1.570795 t \\right )}\\right)^{\\frac{3}{2}}}\\\\\\frac{2.71433376 t^{3} \\sin{\\left (1.570795 t \\right )} \\cos{\\left (3.14159 t \\right )}}{1.44 t^{2} \\sin^{2}{\\left (1.570795 t \\right )} \\sin^{2}{\\left (3.14159 t \\right )} + 1.44 t^{2} \\sin^{2}{\\left (1.570795 t \\right )} \\cos^{2}{\\left (3.14159 t \\right )}} - \\frac{1.44 t \\sin{\\left (1.570795 t \\right )} \\sin{\\left (3.14159 t \\right )}}{1.44 t^{2} \\sin^{2}{\\left (1.570795 t \\right )} \\sin^{2}{\\left (3.14159 t \\right )} + 1.44 t^{2} \\sin^{2}{\\left (1.570795 t \\right )} \\cos^{2}{\\left (3.14159 t \\right )}}\\end{matrix}\\right]$$"
      ],
      "text/plain": [
       "⎡                                                                             \n",
       "⎢                                                                             \n",
       "⎢                                                                             \n",
       "⎢                                                                             \n",
       "⎢                                                                             \n",
       "⎢                                                                             \n",
       "⎢                                                                             \n",
       "⎢                                                                             \n",
       "⎢                                                                             \n",
       "⎢─────────────────────────────────────────────────────────────────────────────\n",
       "⎢      _______________________________________________________________________\n",
       "⎢     ╱                    2    2                2                    2    2  \n",
       "⎢    ╱               1.44⋅t ⋅sin (1.570795⋅t)⋅sin (3.14159⋅t) + 1.44⋅t ⋅sin (1\n",
       "⎢   ╱   ──────────────────────────────────────────────────────────────────────\n",
       "⎢  ╱          2    2                2                    2    2               \n",
       "⎢╲╱     1.44⋅t ⋅sin (1.570795⋅t)⋅sin (3.14159⋅t) + 1.44⋅t ⋅sin (1.570795⋅t)⋅co\n",
       "⎢                                                                             \n",
       "⎢                                                                             \n",
       "⎢                                                                             \n",
       "⎢                                                                             \n",
       "⎢                                                                             \n",
       "⎣                                                                             \n",
       "\n",
       "                                                                              \n",
       "                                                                              \n",
       "                                                                              \n",
       "                                                                              \n",
       "                                                                              \n",
       "                                                                              \n",
       "                                                                              \n",
       "                      4                                                       \n",
       "         3.257200512⋅t ⋅sin(1.570795⋅t)⋅sin(3.14159⋅t)⋅cos(1.570795⋅t)        \n",
       "──────────────────────────────────────────────────────────────────────────────\n",
       "_________________________________________                                     \n",
       "              2                                                               \n",
       ".570795⋅t)⋅cos (3.14159⋅t)                ⎛      2    2                2      \n",
       "──────────────────────────────────────── ⋅⎝1.44⋅t ⋅sin (1.570795⋅t)⋅sin (3.141\n",
       " 2                    2    2                                                  \n",
       "s (3.14159⋅t) + 1.44⋅t ⋅cos (1.570795⋅t)                                      \n",
       "                                                                              \n",
       "                                                                              \n",
       "                                                                              \n",
       "                                                                              \n",
       "                                                                              \n",
       "                                                                              \n",
       "\n",
       "                                                                      3    2  \n",
       "                                                          5.42866752⋅t ⋅sin (1\n",
       "                       ───────────────────────────────────────────────────────\n",
       "                          ____________________________________________________\n",
       "                         ╱       2    2                2                    2 \n",
       "                       ╲╱  1.44⋅t ⋅sin (1.570795⋅t)⋅sin (3.14159⋅t) + 1.44⋅t ⋅\n",
       "                                                                              \n",
       "                                                                              \n",
       "                                                                              \n",
       "──────────────────────────────────────────────────────────────────────────────\n",
       "                                                                              \n",
       "                                                                            3/\n",
       "              2    2                2                    2    2            ⎞  \n",
       "59⋅t) + 1.44⋅t ⋅sin (1.570795⋅t)⋅cos (3.14159⋅t) + 1.44⋅t ⋅cos (1.570795⋅t)⎠  \n",
       "                                                                              \n",
       "                                                                              \n",
       "                                                                              \n",
       "                                                                              \n",
       "                                                                              \n",
       "                                                                              \n",
       "                                                                              \n",
       "                                                                              \n",
       "\n",
       "                                                                              \n",
       ".570795⋅t)⋅cos(1.570795⋅t)                                                    \n",
       "──────────────────────────────────────────────────────────── + ───────────────\n",
       "____________________________________________________________      ____________\n",
       "   2                2                    2    2                  ╱       2    \n",
       "sin (1.570795⋅t)⋅cos (3.14159⋅t) + 1.44⋅t ⋅cos (1.570795⋅t)    ╲╱  1.44⋅t ⋅sin\n",
       "                                                                              \n",
       "                                                                          2 ⎛ \n",
       "                                                               4.5238896⋅t ⋅⎝1\n",
       "─ - ──────────────────────────────────────────────────────────────────────────\n",
       "          ____________________________________________________________________\n",
       "2        ╱                    2    2                2                    2    \n",
       "        ╱               1.44⋅t ⋅sin (1.570795⋅t)⋅sin (3.14159⋅t) + 1.44⋅t ⋅sin\n",
       "       ╱   ───────────────────────────────────────────────────────────────────\n",
       "      ╱          2    2                2                    2    2            \n",
       "    ╲╱     1.44⋅t ⋅sin (1.570795⋅t)⋅sin (3.14159⋅t) + 1.44⋅t ⋅sin (1.570795⋅t)\n",
       "                                                                              \n",
       "                                                                    3         \n",
       "                                                        2.71433376⋅t ⋅sin(1.57\n",
       "                                    ──────────────────────────────────────────\n",
       "                                          2    2                2             \n",
       "                                    1.44⋅t ⋅sin (1.570795⋅t)⋅sin (3.14159⋅t) +\n",
       "\n",
       "                                 3                                            \n",
       "                     2.71433376⋅t ⋅sin(1.570795⋅t)⋅sin(3.14159⋅t)             \n",
       "──────────────────────────────────────────────────────────────────────────────\n",
       "______________________________________________________________________________\n",
       "2                2                    2    2                2                 \n",
       " (1.570795⋅t)⋅sin (3.14159⋅t) + 1.44⋅t ⋅sin (1.570795⋅t)⋅cos (3.14159⋅t) + 1.4\n",
       "                                                                              \n",
       "     2    2                2                    2    2                2       \n",
       ".44⋅t ⋅sin (1.570795⋅t)⋅sin (3.14159⋅t) + 1.44⋅t ⋅sin (1.570795⋅t)⋅cos (3.1415\n",
       "──────────────────────────────────────────────────────────────────────────────\n",
       "____________________________________________                                  \n",
       "2                2                                                            \n",
       " (1.570795⋅t)⋅cos (3.14159⋅t)                ⎛      2    2                2   \n",
       "─────────────────────────────────────────── ⋅⎝1.44⋅t ⋅sin (1.570795⋅t)⋅sin (3.\n",
       "    2                    2    2                                               \n",
       "⋅cos (3.14159⋅t) + 1.44⋅t ⋅cos (1.570795⋅t)                                   \n",
       "                                                                              \n",
       "                                                                              \n",
       "0795⋅t)⋅cos(3.14159⋅t)                                             1.44⋅t⋅sin(\n",
       "───────────────────────────────────────── - ──────────────────────────────────\n",
       "       2    2                2                    2    2                2     \n",
       " 1.44⋅t ⋅sin (1.570795⋅t)⋅cos (3.14159⋅t)   1.44⋅t ⋅sin (1.570795⋅t)⋅sin (3.14\n",
       "\n",
       "                                                                              \n",
       "                                                                1.44⋅t⋅sin(1.5\n",
       "────────────────────── + ─────────────────────────────────────────────────────\n",
       "______________________      __________________________________________________\n",
       "   2    2                  ╱       2    2                2                    \n",
       "4⋅t ⋅cos (1.570795⋅t)    ╲╱  1.44⋅t ⋅sin (1.570795⋅t)⋅sin (3.14159⋅t) + 1.44⋅t\n",
       "                                                                              \n",
       "    ⎞    2                                                                    \n",
       "9⋅t)⎠⋅sin (1.570795⋅t)                                                        \n",
       "──────────────────────────────────────────────────────────────────────────────\n",
       "                                                                              \n",
       "                                                                              \n",
       "                 2    2                2                    2    2            \n",
       "14159⋅t) + 1.44⋅t ⋅sin (1.570795⋅t)⋅cos (3.14159⋅t) + 1.44⋅t ⋅cos (1.570795⋅t)\n",
       "                                                                              \n",
       "                                                                              \n",
       "                                                                              \n",
       "                                                                              \n",
       "1.570795⋅t)⋅sin(3.14159⋅t)                                                    \n",
       "─────────────────────────────────────────────────                             \n",
       "               2    2                2                                        \n",
       "159⋅t) + 1.44⋅t ⋅sin (1.570795⋅t)⋅cos (3.14159⋅t)                             \n",
       "\n",
       "                                                                              \n",
       "70795⋅t)⋅cos(3.14159⋅t)                                                       \n",
       "──────────────────────────────────────────────────────────────                \n",
       "______________________________________________________________                \n",
       "2    2                2                    2    2                             \n",
       " ⋅sin (1.570795⋅t)⋅cos (3.14159⋅t) + 1.44⋅t ⋅cos (1.570795⋅t)                 \n",
       "                                                                              \n",
       "                                                                              \n",
       "                                                                              \n",
       "──── + ───────────────────────────────────────────────────────────────────────\n",
       "             _________________________________________________________________\n",
       " 3/2        ╱                    2    2                2                    2 \n",
       "⎞          ╱               1.44⋅t ⋅sin (1.570795⋅t)⋅sin (3.14159⋅t) + 1.44⋅t ⋅\n",
       "⎠         ╱   ────────────────────────────────────────────────────────────────\n",
       "         ╱          2    2                2                    2    2         \n",
       "       ╲╱     1.44⋅t ⋅sin (1.570795⋅t)⋅sin (3.14159⋅t) + 1.44⋅t ⋅sin (1.570795\n",
       "                                                                              \n",
       "                                                                              \n",
       "                                                                              \n",
       "                                                                              \n",
       "                                                                              \n",
       "                                                                              \n",
       "\n",
       "                                                                              \n",
       "                                                                              \n",
       "                                                                              \n",
       "                                                                              \n",
       "                                                                              \n",
       "                                                                              \n",
       "                                                                              \n",
       "                         2                                                    \n",
       "                  1.728⋅t ⋅sin(1.570795⋅t)⋅cos(1.570795⋅t)⋅cos(3.14159⋅t)     \n",
       "──────────────────────────────────────────────────────────────────────────────\n",
       "_______________________________________________                               \n",
       "   2                2                                                         \n",
       "sin (1.570795⋅t)⋅cos (3.14159⋅t)                ⎛      2    2                2\n",
       "────────────────────────────────────────────── ⋅⎝1.44⋅t ⋅sin (1.570795⋅t)⋅sin \n",
       "       2                    2    2                                            \n",
       "⋅t)⋅cos (3.14159⋅t) + 1.44⋅t ⋅cos (1.570795⋅t)                                \n",
       "                                                                              \n",
       "                                                                              \n",
       "                                                                              \n",
       "                                                                              \n",
       "                                                                              \n",
       "                                                                              \n",
       "\n",
       "                                                                              \n",
       "                                                                              \n",
       "                                                                              \n",
       "                                                                              \n",
       "                                                                              \n",
       "                                                                              \n",
       "                                                                              \n",
       "                                                                              \n",
       "                                                                              \n",
       "──────────────────────────────────────────────────────────────────────────────\n",
       "                                                                              \n",
       "                                                                              \n",
       "                    2    2                2                    2    2         \n",
       "(3.14159⋅t) + 1.44⋅t ⋅sin (1.570795⋅t)⋅cos (3.14159⋅t) + 1.44⋅t ⋅cos (1.570795\n",
       "                                                                              \n",
       "                                                                              \n",
       "                                                                              \n",
       "                                                                              \n",
       "                                                                              \n",
       "                                                                              \n",
       "                                                                              \n",
       "                                                                              \n",
       "\n",
       "       ⎤\n",
       "       ⎥\n",
       "       ⎥\n",
       "       ⎥\n",
       "       ⎥\n",
       "       ⎥\n",
       "       ⎥\n",
       "       ⎥\n",
       "       ⎥\n",
       "───────⎥\n",
       "       ⎥\n",
       "    3/2⎥\n",
       "   ⎞   ⎥\n",
       "⋅t)⎠   ⎥\n",
       "       ⎥\n",
       "       ⎥\n",
       "       ⎥\n",
       "       ⎥\n",
       "       ⎥\n",
       "       ⎥\n",
       "       ⎥\n",
       "       ⎦"
      ]
     },
     "execution_count": 574,
     "metadata": {},
     "output_type": "execute_result"
    }
   ],
   "source": [
    "dAdt_cov ## thought this would be the same"
   ]
  },
  {
   "cell_type": "code",
   "execution_count": 342,
   "metadata": {
    "collapsed": false
   },
   "outputs": [
    {
     "data": {
      "image/png": "[encoded data removed]",
      "text/plain": [
       "<matplotlib.figure.Figure at 0x103eb668>"
      ]
     },
     "metadata": {},
     "output_type": "display_data"
    }
   ],
   "source": [
    "dAdt_cov2 = simplify(J_1.T * J_1).inverse_ADJ()*dAdt_cov\n",
    "dAdt_cov2=dAdt_cov2.subs({y_1:1.2*t, y_2:0.5*3.14159*t, y_3:3.14159*t})\n",
    "p1=plot3d_parametric_line(dAdt_cov2[0], dAdt_cov2[1], dAdt_cov2[2], (t, 0, 7.5), show=False, line_color = 'r') \n",
    "p1.show()\n",
    "# and we can raise an index too ... "
   ]
  },
  {
   "cell_type": "code",
   "execution_count": null,
   "metadata": {
    "collapsed": true
   },
   "outputs": [],
   "source": []
  },
  {
   "cell_type": "code",
   "execution_count": 431,
   "metadata": {
    "collapsed": false
   },
   "outputs": [
    {
     "ename": "KeyboardInterrupt",
     "evalue": "",
     "output_type": "error",
     "traceback": [
      "\u001b[1;31m---------------------------------------------------------------------------\u001b[0m",
      "\u001b[1;31mKeyboardInterrupt\u001b[0m                         Traceback (most recent call last)",
      "\u001b[1;32m<ipython-input-431-2dcb29b52cf3>\u001b[0m in \u001b[0;36m<module>\u001b[1;34m()\u001b[0m\n\u001b[0;32m      1\u001b[0m \u001b[1;31m# unfortunately this won't produce the integral of dAdt quickly enough\u001b[0m\u001b[1;33m\u001b[0m\u001b[1;33m\u001b[0m\u001b[0m\n\u001b[1;32m----> 2\u001b[1;33m \u001b[0mp1\u001b[0m\u001b[1;33m=\u001b[0m\u001b[0mplot3d_parametric_line\u001b[0m\u001b[1;33m(\u001b[0m\u001b[0mintegrate\u001b[0m\u001b[1;33m(\u001b[0m\u001b[0mdAdt\u001b[0m\u001b[1;33m[\u001b[0m\u001b[1;36m0\u001b[0m\u001b[1;33m]\u001b[0m\u001b[1;33m,\u001b[0m\u001b[0mt\u001b[0m\u001b[1;33m)\u001b[0m\u001b[1;33m,\u001b[0m \u001b[0mintegrate\u001b[0m\u001b[1;33m(\u001b[0m\u001b[0mdAdt\u001b[0m\u001b[1;33m[\u001b[0m\u001b[1;36m1\u001b[0m\u001b[1;33m]\u001b[0m\u001b[1;33m,\u001b[0m\u001b[0mt\u001b[0m\u001b[1;33m)\u001b[0m\u001b[1;33m,\u001b[0m \u001b[0mintegrate\u001b[0m\u001b[1;33m(\u001b[0m\u001b[0mdAdt\u001b[0m\u001b[1;33m[\u001b[0m\u001b[1;36m2\u001b[0m\u001b[1;33m]\u001b[0m\u001b[1;33m,\u001b[0m\u001b[0mt\u001b[0m\u001b[1;33m)\u001b[0m\u001b[1;33m,\u001b[0m \u001b[1;33m(\u001b[0m\u001b[0mt\u001b[0m\u001b[1;33m,\u001b[0m \u001b[1;36m0\u001b[0m\u001b[1;33m,\u001b[0m \u001b[1;36m2.2\u001b[0m\u001b[1;33m)\u001b[0m\u001b[1;33m,\u001b[0m \u001b[0mshow\u001b[0m\u001b[1;33m=\u001b[0m\u001b[0mFalse\u001b[0m\u001b[1;33m,\u001b[0m \u001b[0mline_color\u001b[0m \u001b[1;33m=\u001b[0m \u001b[1;34m'r'\u001b[0m\u001b[1;33m)\u001b[0m\u001b[1;33m\u001b[0m\u001b[0m\n\u001b[0m\u001b[0;32m      3\u001b[0m \u001b[1;31m#p1 = plot3d_parametric_line(dAdt[0], dAdt[1], dAdt[2], (t, 0, 2.2), show=False)\u001b[0m\u001b[1;33m\u001b[0m\u001b[1;33m\u001b[0m\u001b[0m\n\u001b[0;32m      4\u001b[0m \u001b[1;31m#p1.extend(plot3d_parametric_line(integrate(dAdt_cov[0],t), integrate(dAdt_cov[1],t), integrate(dAdt_cov[2],t), (t, 0, 2.2), show=False, line_color = 'r') )\u001b[0m\u001b[1;33m\u001b[0m\u001b[1;33m\u001b[0m\u001b[0m\n\u001b[0;32m      5\u001b[0m \u001b[0mp1\u001b[0m\u001b[1;33m.\u001b[0m\u001b[0mshow\u001b[0m\u001b[1;33m(\u001b[0m\u001b[1;33m)\u001b[0m\u001b[1;33m\u001b[0m\u001b[0m\n",
      "\u001b[1;32mC:\\Users\\dave\\Anaconda\\lib\\site-packages\\sympy\\integrals\\integrals.pyc\u001b[0m in \u001b[0;36mintegrate\u001b[1;34m(*args, **kwargs)\u001b[0m\n\u001b[0;32m   1278\u001b[0m     \u001b[1;32mif\u001b[0m \u001b[0misinstance\u001b[0m\u001b[1;33m(\u001b[0m\u001b[0mintegral\u001b[0m\u001b[1;33m,\u001b[0m \u001b[0mIntegral\u001b[0m\u001b[1;33m)\u001b[0m\u001b[1;33m:\u001b[0m\u001b[1;33m\u001b[0m\u001b[0m\n\u001b[0;32m   1279\u001b[0m         return integral.doit(deep=False, meijerg=meijerg, conds=conds,\n\u001b[1;32m-> 1280\u001b[1;33m                              risch=risch, manual=manual)\n\u001b[0m\u001b[0;32m   1281\u001b[0m     \u001b[1;32melse\u001b[0m\u001b[1;33m:\u001b[0m\u001b[1;33m\u001b[0m\u001b[0m\n\u001b[0;32m   1282\u001b[0m         \u001b[1;32mreturn\u001b[0m \u001b[0mintegral\u001b[0m\u001b[1;33m\u001b[0m\u001b[0m\n",
      "\u001b[1;32mC:\\Users\\dave\\Anaconda\\lib\\site-packages\\sympy\\integrals\\integrals.pyc\u001b[0m in \u001b[0;36mdoit\u001b[1;34m(self, **hints)\u001b[0m\n\u001b[0;32m    484\u001b[0m                     \u001b[0mfunction\u001b[0m\u001b[1;33m,\u001b[0m \u001b[0mxab\u001b[0m\u001b[1;33m[\u001b[0m\u001b[1;36m0\u001b[0m\u001b[1;33m]\u001b[0m\u001b[1;33m,\u001b[0m\u001b[1;33m\u001b[0m\u001b[0m\n\u001b[0;32m    485\u001b[0m                     \u001b[0mmeijerg\u001b[0m\u001b[1;33m=\u001b[0m\u001b[0mmeijerg1\u001b[0m\u001b[1;33m,\u001b[0m \u001b[0mrisch\u001b[0m\u001b[1;33m=\u001b[0m\u001b[0mrisch\u001b[0m\u001b[1;33m,\u001b[0m \u001b[0mmanual\u001b[0m\u001b[1;33m=\u001b[0m\u001b[0mmanual\u001b[0m\u001b[1;33m,\u001b[0m\u001b[1;33m\u001b[0m\u001b[0m\n\u001b[1;32m--> 486\u001b[1;33m                     conds=conds)\n\u001b[0m\u001b[0;32m    487\u001b[0m                 \u001b[1;32mif\u001b[0m \u001b[0mantideriv\u001b[0m \u001b[1;32mis\u001b[0m \u001b[0mNone\u001b[0m \u001b[1;32mand\u001b[0m \u001b[0mmeijerg1\u001b[0m \u001b[1;32mis\u001b[0m \u001b[0mTrue\u001b[0m\u001b[1;33m:\u001b[0m\u001b[1;33m\u001b[0m\u001b[0m\n\u001b[0;32m    488\u001b[0m                     \u001b[0mret\u001b[0m \u001b[1;33m=\u001b[0m \u001b[0mtry_meijerg\u001b[0m\u001b[1;33m(\u001b[0m\u001b[0mfunction\u001b[0m\u001b[1;33m,\u001b[0m \u001b[0mxab\u001b[0m\u001b[1;33m)\u001b[0m\u001b[1;33m\u001b[0m\u001b[0m\n",
      "\u001b[1;32mC:\\Users\\dave\\Anaconda\\lib\\site-packages\\sympy\\integrals\\integrals.pyc\u001b[0m in \u001b[0;36m_eval_integral\u001b[1;34m(self, f, x, meijerg, risch, manual, conds)\u001b[0m\n\u001b[0;32m    885\u001b[0m                 \u001b[1;32mtry\u001b[0m\u001b[1;33m:\u001b[0m\u001b[1;33m\u001b[0m\u001b[0m\n\u001b[0;32m    886\u001b[0m                     \u001b[1;32mif\u001b[0m \u001b[0mconds\u001b[0m \u001b[1;33m==\u001b[0m \u001b[1;34m'piecewise'\u001b[0m\u001b[1;33m:\u001b[0m\u001b[1;33m\u001b[0m\u001b[0m\n\u001b[1;32m--> 887\u001b[1;33m                         \u001b[0mh\u001b[0m \u001b[1;33m=\u001b[0m \u001b[0mheurisch_wrapper\u001b[0m\u001b[1;33m(\u001b[0m\u001b[0mg\u001b[0m\u001b[1;33m,\u001b[0m \u001b[0mx\u001b[0m\u001b[1;33m,\u001b[0m \u001b[0mhints\u001b[0m\u001b[1;33m=\u001b[0m\u001b[1;33m[\u001b[0m\u001b[1;33m]\u001b[0m\u001b[1;33m)\u001b[0m\u001b[1;33m\u001b[0m\u001b[0m\n\u001b[0m\u001b[0;32m    888\u001b[0m                     \u001b[1;32melse\u001b[0m\u001b[1;33m:\u001b[0m\u001b[1;33m\u001b[0m\u001b[0m\n\u001b[0;32m    889\u001b[0m                         \u001b[0mh\u001b[0m \u001b[1;33m=\u001b[0m \u001b[0mheurisch\u001b[0m\u001b[1;33m(\u001b[0m\u001b[0mg\u001b[0m\u001b[1;33m,\u001b[0m \u001b[0mx\u001b[0m\u001b[1;33m,\u001b[0m \u001b[0mhints\u001b[0m\u001b[1;33m=\u001b[0m\u001b[1;33m[\u001b[0m\u001b[1;33m]\u001b[0m\u001b[1;33m)\u001b[0m\u001b[1;33m\u001b[0m\u001b[0m\n",
      "\u001b[1;32mC:\\Users\\dave\\Anaconda\\lib\\site-packages\\sympy\\integrals\\heurisch.pyc\u001b[0m in \u001b[0;36mheurisch_wrapper\u001b[1;34m(f, x, rewrite, hints, mappings, retries, degree_offset, unnecessary_permutations)\u001b[0m\n\u001b[0;32m    128\u001b[0m \u001b[1;33m\u001b[0m\u001b[0m\n\u001b[0;32m    129\u001b[0m     res = heurisch(f, x, rewrite, hints, mappings, retries, degree_offset,\n\u001b[1;32m--> 130\u001b[1;33m                    unnecessary_permutations)\n\u001b[0m\u001b[0;32m    131\u001b[0m     \u001b[1;32mif\u001b[0m \u001b[1;32mnot\u001b[0m \u001b[0misinstance\u001b[0m\u001b[1;33m(\u001b[0m\u001b[0mres\u001b[0m\u001b[1;33m,\u001b[0m \u001b[0mBasic\u001b[0m\u001b[1;33m)\u001b[0m\u001b[1;33m:\u001b[0m\u001b[1;33m\u001b[0m\u001b[0m\n\u001b[0;32m    132\u001b[0m         \u001b[1;32mreturn\u001b[0m \u001b[0mres\u001b[0m\u001b[1;33m\u001b[0m\u001b[0m\n",
      "\u001b[1;32mC:\\Users\\dave\\Anaconda\\lib\\site-packages\\sympy\\integrals\\heurisch.pyc\u001b[0m in \u001b[0;36mheurisch\u001b[1;34m(f, x, rewrite, hints, mappings, retries, degree_offset, unnecessary_permutations)\u001b[0m\n\u001b[0;32m    655\u001b[0m \u001b[1;33m\u001b[0m\u001b[0m\n\u001b[0;32m    656\u001b[0m     \u001b[1;32mif\u001b[0m \u001b[1;32mnot\u001b[0m \u001b[1;33m(\u001b[0m\u001b[0mF\u001b[0m\u001b[1;33m.\u001b[0m\u001b[0mfree_symbols\u001b[0m \u001b[1;33m-\u001b[0m \u001b[0mset\u001b[0m\u001b[1;33m(\u001b[0m\u001b[0mV\u001b[0m\u001b[1;33m)\u001b[0m\u001b[1;33m)\u001b[0m\u001b[1;33m:\u001b[0m\u001b[1;33m\u001b[0m\u001b[0m\n\u001b[1;32m--> 657\u001b[1;33m         \u001b[0msolution\u001b[0m \u001b[1;33m=\u001b[0m \u001b[0m_integrate\u001b[0m\u001b[1;33m(\u001b[0m\u001b[1;34m'Q'\u001b[0m\u001b[1;33m)\u001b[0m\u001b[1;33m\u001b[0m\u001b[0m\n\u001b[0m\u001b[0;32m    658\u001b[0m \u001b[1;33m\u001b[0m\u001b[0m\n\u001b[0;32m    659\u001b[0m         \u001b[1;32mif\u001b[0m \u001b[0msolution\u001b[0m \u001b[1;32mis\u001b[0m \u001b[0mNone\u001b[0m\u001b[1;33m:\u001b[0m\u001b[1;33m\u001b[0m\u001b[0m\n",
      "\u001b[1;32mC:\\Users\\dave\\Anaconda\\lib\\site-packages\\sympy\\integrals\\heurisch.pyc\u001b[0m in \u001b[0;36m_integrate\u001b[1;34m(field)\u001b[0m\n\u001b[0;32m    646\u001b[0m         \u001b[0mnumer\u001b[0m \u001b[1;33m=\u001b[0m \u001b[0mring\u001b[0m\u001b[1;33m.\u001b[0m\u001b[0mfrom_expr\u001b[0m\u001b[1;33m(\u001b[0m\u001b[0mraw_numer\u001b[0m\u001b[1;33m)\u001b[0m\u001b[1;33m\u001b[0m\u001b[0m\n\u001b[0;32m    647\u001b[0m \u001b[1;33m\u001b[0m\u001b[0m\n\u001b[1;32m--> 648\u001b[1;33m         \u001b[0msolution\u001b[0m \u001b[1;33m=\u001b[0m \u001b[0msolve_lin_sys\u001b[0m\u001b[1;33m(\u001b[0m\u001b[0mnumer\u001b[0m\u001b[1;33m.\u001b[0m\u001b[0mcoeffs\u001b[0m\u001b[1;33m(\u001b[0m\u001b[1;33m)\u001b[0m\u001b[1;33m,\u001b[0m \u001b[0mcoeff_ring\u001b[0m\u001b[1;33m,\u001b[0m \u001b[0m_raw\u001b[0m\u001b[1;33m=\u001b[0m\u001b[0mFalse\u001b[0m\u001b[1;33m)\u001b[0m\u001b[1;33m\u001b[0m\u001b[0m\n\u001b[0m\u001b[0;32m    649\u001b[0m \u001b[1;33m\u001b[0m\u001b[0m\n\u001b[0;32m    650\u001b[0m         \u001b[1;32mif\u001b[0m \u001b[0msolution\u001b[0m \u001b[1;32mis\u001b[0m \u001b[0mNone\u001b[0m\u001b[1;33m:\u001b[0m\u001b[1;33m\u001b[0m\u001b[0m\n",
      "\u001b[1;32mC:\\Users\\dave\\Anaconda\\lib\\site-packages\\sympy\\polys\\solvers.pyc\u001b[0m in \u001b[0;36msolve_lin_sys\u001b[1;34m(eqs, ring, _raw)\u001b[0m\n\u001b[0;32m     36\u001b[0m \u001b[1;33m\u001b[0m\u001b[0m\n\u001b[0;32m     37\u001b[0m     \u001b[1;31m# solve by row-reduction\u001b[0m\u001b[1;33m\u001b[0m\u001b[1;33m\u001b[0m\u001b[0m\n\u001b[1;32m---> 38\u001b[1;33m     \u001b[0mechelon\u001b[0m\u001b[1;33m,\u001b[0m \u001b[0mpivots\u001b[0m \u001b[1;33m=\u001b[0m \u001b[0mmatrix\u001b[0m\u001b[1;33m.\u001b[0m\u001b[0mrref\u001b[0m\u001b[1;33m(\u001b[0m\u001b[0miszerofunc\u001b[0m\u001b[1;33m=\u001b[0m\u001b[1;32mlambda\u001b[0m \u001b[0mx\u001b[0m\u001b[1;33m:\u001b[0m \u001b[1;32mnot\u001b[0m \u001b[0mx\u001b[0m\u001b[1;33m,\u001b[0m \u001b[0msimplify\u001b[0m\u001b[1;33m=\u001b[0m\u001b[1;32mlambda\u001b[0m \u001b[0mx\u001b[0m\u001b[1;33m:\u001b[0m \u001b[0mx\u001b[0m\u001b[1;33m)\u001b[0m\u001b[1;33m\u001b[0m\u001b[0m\n\u001b[0m\u001b[0;32m     39\u001b[0m \u001b[1;33m\u001b[0m\u001b[0m\n\u001b[0;32m     40\u001b[0m     \u001b[1;31m# construct the returnable form of the solutions\u001b[0m\u001b[1;33m\u001b[0m\u001b[1;33m\u001b[0m\u001b[0m\n",
      "\u001b[1;32mC:\\Users\\dave\\Anaconda\\lib\\site-packages\\sympy\\matrices\\matrices.pyc\u001b[0m in \u001b[0;36mrref\u001b[1;34m(self, iszerofunc, simplify)\u001b[0m\n\u001b[0;32m   2733\u001b[0m                 \u001b[1;32mif\u001b[0m \u001b[0mj\u001b[0m \u001b[1;33m==\u001b[0m \u001b[0mpivot\u001b[0m\u001b[1;33m:\u001b[0m\u001b[1;33m\u001b[0m\u001b[0m\n\u001b[0;32m   2734\u001b[0m                     \u001b[1;32mcontinue\u001b[0m\u001b[1;33m\u001b[0m\u001b[0m\n\u001b[1;32m-> 2735\u001b[1;33m                 \u001b[0mscale\u001b[0m \u001b[1;33m=\u001b[0m \u001b[0mr\u001b[0m\u001b[1;33m[\u001b[0m\u001b[0mj\u001b[0m\u001b[1;33m,\u001b[0m \u001b[0mi\u001b[0m\u001b[1;33m]\u001b[0m\u001b[1;33m\u001b[0m\u001b[0m\n\u001b[0m\u001b[0;32m   2736\u001b[0m                 \u001b[0mr\u001b[0m\u001b[1;33m.\u001b[0m\u001b[0mzip_row_op\u001b[0m\u001b[1;33m(\u001b[0m\u001b[0mj\u001b[0m\u001b[1;33m,\u001b[0m \u001b[0mpivot\u001b[0m\u001b[1;33m,\u001b[0m \u001b[1;32mlambda\u001b[0m \u001b[0mx\u001b[0m\u001b[1;33m,\u001b[0m \u001b[0my\u001b[0m\u001b[1;33m:\u001b[0m \u001b[0mx\u001b[0m \u001b[1;33m-\u001b[0m \u001b[0mscale\u001b[0m\u001b[1;33m*\u001b[0m\u001b[0my\u001b[0m\u001b[1;33m)\u001b[0m\u001b[1;33m\u001b[0m\u001b[0m\n\u001b[0;32m   2737\u001b[0m             \u001b[0mpivotlist\u001b[0m\u001b[1;33m.\u001b[0m\u001b[0mappend\u001b[0m\u001b[1;33m(\u001b[0m\u001b[0mi\u001b[0m\u001b[1;33m)\u001b[0m\u001b[1;33m\u001b[0m\u001b[0m\n",
      "\u001b[1;32mC:\\Users\\dave\\Anaconda\\lib\\site-packages\\sympy\\matrices\\dense.pyc\u001b[0m in \u001b[0;36m__getitem__\u001b[1;34m(self, key)\u001b[0m\n\u001b[0;32m     72\u001b[0m             \u001b[0mi\u001b[0m\u001b[1;33m,\u001b[0m \u001b[0mj\u001b[0m \u001b[1;33m=\u001b[0m \u001b[0mkey\u001b[0m\u001b[1;33m\u001b[0m\u001b[0m\n\u001b[0;32m     73\u001b[0m             \u001b[1;32mtry\u001b[0m\u001b[1;33m:\u001b[0m\u001b[1;33m\u001b[0m\u001b[0m\n\u001b[1;32m---> 74\u001b[1;33m                 \u001b[0mi\u001b[0m\u001b[1;33m,\u001b[0m \u001b[0mj\u001b[0m \u001b[1;33m=\u001b[0m \u001b[0mself\u001b[0m\u001b[1;33m.\u001b[0m\u001b[0mkey2ij\u001b[0m\u001b[1;33m(\u001b[0m\u001b[0mkey\u001b[0m\u001b[1;33m)\u001b[0m\u001b[1;33m\u001b[0m\u001b[0m\n\u001b[0m\u001b[0;32m     75\u001b[0m                 \u001b[1;32mreturn\u001b[0m \u001b[0mself\u001b[0m\u001b[1;33m.\u001b[0m\u001b[0m_mat\u001b[0m\u001b[1;33m[\u001b[0m\u001b[0mi\u001b[0m\u001b[1;33m*\u001b[0m\u001b[0mself\u001b[0m\u001b[1;33m.\u001b[0m\u001b[0mcols\u001b[0m \u001b[1;33m+\u001b[0m \u001b[0mj\u001b[0m\u001b[1;33m]\u001b[0m\u001b[1;33m\u001b[0m\u001b[0m\n\u001b[0;32m     76\u001b[0m             \u001b[1;32mexcept\u001b[0m \u001b[1;33m(\u001b[0m\u001b[0mTypeError\u001b[0m\u001b[1;33m,\u001b[0m \u001b[0mIndexError\u001b[0m\u001b[1;33m)\u001b[0m\u001b[1;33m:\u001b[0m\u001b[1;33m\u001b[0m\u001b[0m\n",
      "\u001b[1;32mC:\\Users\\dave\\Anaconda\\lib\\site-packages\\sympy\\matrices\\matrices.pyc\u001b[0m in \u001b[0;36mkey2ij\u001b[1;34m(self, key)\u001b[0m\n\u001b[0;32m   1106\u001b[0m                 \u001b[1;32mraise\u001b[0m \u001b[0mTypeError\u001b[0m\u001b[1;33m(\u001b[0m\u001b[1;34m'key must be a sequence of length 2'\u001b[0m\u001b[1;33m)\u001b[0m\u001b[1;33m\u001b[0m\u001b[0m\n\u001b[0;32m   1107\u001b[0m             return [a2idx(i, n) if not isinstance(i, slice) else i\n\u001b[1;32m-> 1108\u001b[1;33m                 for i, n in zip(key, self.shape)]\n\u001b[0m\u001b[0;32m   1109\u001b[0m         \u001b[1;32melif\u001b[0m \u001b[0misinstance\u001b[0m\u001b[1;33m(\u001b[0m\u001b[0mkey\u001b[0m\u001b[1;33m,\u001b[0m \u001b[0mslice\u001b[0m\u001b[1;33m)\u001b[0m\u001b[1;33m:\u001b[0m\u001b[1;33m\u001b[0m\u001b[0m\n\u001b[0;32m   1110\u001b[0m             \u001b[1;32mreturn\u001b[0m \u001b[0mkey\u001b[0m\u001b[1;33m.\u001b[0m\u001b[0mindices\u001b[0m\u001b[1;33m(\u001b[0m\u001b[0mlen\u001b[0m\u001b[1;33m(\u001b[0m\u001b[0mself\u001b[0m\u001b[1;33m)\u001b[0m\u001b[1;33m)\u001b[0m\u001b[1;33m[\u001b[0m\u001b[1;33m:\u001b[0m\u001b[1;36m2\u001b[0m\u001b[1;33m]\u001b[0m\u001b[1;33m\u001b[0m\u001b[0m\n",
      "\u001b[1;31mKeyboardInterrupt\u001b[0m: "
     ]
    }
   ],
   "source": [
    "# unfortunately this won't produce the integral of dAdt quickly enough\n",
    "p1=plot3d_parametric_line(integrate(dAdt[0],t), integrate(dAdt[1],t), integrate(dAdt[2],t), (t, 0, 2.2), show=False, line_color = 'r') \n",
    "#p1 = plot3d_parametric_line(dAdt[0], dAdt[1], dAdt[2], (t, 0, 2.2), show=False)\n",
    "#p1.extend(plot3d_parametric_line(integrate(dAdt_cov[0],t), integrate(dAdt_cov[1],t), integrate(dAdt_cov[2],t), (t, 0, 2.2), show=False, line_color = 'r') )\n",
    "p1.show()"
   ]
  },
  {
   "cell_type": "code",
   "execution_count": null,
   "metadata": {
    "collapsed": false
   },
   "outputs": [],
   "source": [
    "integrate(dAdt)"
   ]
  },
  {
   "cell_type": "code",
   "execution_count": null,
   "metadata": {
    "collapsed": true
   },
   "outputs": [],
   "source": []
  }
 ],
 "metadata": {
  "kernelspec": {
   "display_name": "Python 2",
   "language": "python",
   "name": "python2"
  },
  "language_info": {
   "codemirror_mode": {
    "name": "ipython",
    "version": 2
   },
   "file_extension": ".py",
   "mimetype": "text/x-python",
   "name": "python",
   "nbconvert_exporter": "python",
   "pygments_lexer": "ipython2",
   "version": "2.7.10"
  }
 },
 "nbformat": 4,
 "nbformat_minor": 0
}
