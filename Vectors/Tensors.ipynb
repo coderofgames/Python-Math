{
 "cells": [
  {
   "cell_type": "markdown",
   "metadata": {},
   "source": [
    "#  Tensors "
   ]
  },
  {
   "cell_type": "markdown",
   "metadata": {},
   "source": [
    "#### Definition\n",
    "---\n",
    "\n",
    "> a point in N-dimensional space is represented by $\\mathbf x = (x^1,x^2,\\cdots,x^n)$\n",
    "> the coordnate system is represented by some basis $(\\mathbf e_1, \\mathbf e_2, \\cdots, \\mathbf e_n)$\n",
    "> the point may be represented in more than one basis (see curvilinear coordinates). \n",
    "\n",
    "Note: a superscript is used for the point vector instead of a subscript. If a component is raised to a power, then it is placed in round brackets $(x^i)^2$ is the $i^{th}$ component of $x$ raised to the power of 2.\n",
    "\n",
    "\n",
    "---\n",
    "\n",
    "#### Coordinate Transformations\n",
    "   \n",
    "if $ x^1, x^2 \\cdots,x^n$ and $ \\bar{x}^1, \\bar{x}^2,\\cdots, \\bar{x}^n$ are representations of a point in two coordinate systems or frames of reference, and \n",
    "   \n",
    "$$\\bar{x}^1 =\\bar{x}^1( x^1, x^2 \\cdots,x^n)$$ and\n",
    "$$\\bar{x}^2 =\\bar{x}^2( x^1, x^2 \\cdots,x^n)$$ etc\n",
    "$$\\cdots$$ and\n",
    "$$\\bar{x}^n =\\bar{x}^n( x^1, x^2 \\cdots,x^n)$$\n",
    "\n",
    "defines the representation of the *barred coordinates* as a function of the *unbarred coordinates*, and to define the converse\n",
    "\n",
    "$$x^k = x^k(\\bar{x}^1, \\bar{x}^2,\\cdots, \\bar{x}^n ) \\qquad k=1,\\cdots,n $$\n",
    "\n",
    "Then these relations define a coordinate transformation."
   ]
  },
  {
   "cell_type": "markdown",
   "metadata": {},
   "source": [
    "## Einstein Summation Convention"
   ]
  },
  {
   "cell_type": "markdown",
   "metadata": {},
   "source": [
    "---\n",
    "##### Sums\n",
    "\n",
    "expressions of the form \n",
    "\n",
    "$$\\large\\sum_{i=1}^n x_i = x_1 + x_2 +\\cdots x_n $$\n",
    "\n",
    "are written simply as \n",
    "\n",
    "$$x_i,\\quad i=1,n$$\n",
    "\n",
    "For an expression of the form \n",
    "\n",
    "$$ y_i = a_{ij}x_j $$\n",
    "\n",
    "with $j = 1,2,\\cdots,n$, has two indices. The variable $j$ is called a dummy index, and $i$ is called the free index.\n",
    "\n",
    "$$ y_i = a_{i1}x_1 + a_{i2}x_2 + \\cdots +a_{in}x_n$$\n",
    "\n",
    "Now iterating over the free index to $m$ gives \n",
    "\n",
    "$$ y_1 = a_{11}x_1 + a_{12}x_2 + \\cdots +a_{1n}x_n$$\n",
    "$$ y_2 = a_{21}x_1 + a_{22}x_2 + \\cdots +a_{2n}x_n$$\n",
    "$$ \\cdots $$\n",
    "$$ y_m = a_{m1}x_1 + a_{m2}x_2 + \\cdots +a_{mn}x_n$$\n",
    "\n",
    "This does yeild a matrix definition of the form $ \\mathbf y_{m1} = \\mathbf a_{mn} \\mathbf x_{n1} $ \n",
    "\n",
    "> #### The Summation Convention\n",
    "> Any expression with a twice repeated index (either subscripts (and) or superscripts) represents its sum over the \n",
    "> values $1,2,\\cdots,n$ of the repeated index. The character $n$ may represent the range of summations unless stated \n",
    "> otherwise.\n",
    "   \n",
    "> 1) Any free index shall have the same range as summation indexes unless stated otherwise (in the equation above, n=m by default).\n",
    "   \n",
    "> 2) No index may occur more than twice in an expression."
   ]
  },
  {
   "cell_type": "markdown",
   "metadata": {},
   "source": [
    "#### Multiple summation indexes\n",
    "\n",
    "An expression with multiple summation indexes represents the result of the sum over each index, so \n",
    "\n",
    "$$\\large a_{\\color{red}{i}\\color{blue}{j}}x_{\\color{red}{i}}y_{\\color{blue}{j}}$$ \n",
    "\n",
    "results in summing over ${\\color{red}{i}}$ from ${\\color{red}{(1,\\cdots, n)}}$ and ${\\color{blue}{j}}$ from ${\\color{blue}{(1,\\cdots, m)}}$, i.e.first summing over $i$ \n",
    "\n",
    "$$a_{\\color{red}{1}\\color{blue}{j}} x_{\\color{red}{1}} y_{\\color{blue}{j}} + \\cdots + a_{\\color{red}{n}\\color{blue}{j}} x_{\\color{red}{n}} y_{\\color{blue}{j}} $$\n",
    "Then summing over $j$\n",
    "$$ (a_{11} x_1 y_1 + \\cdots + a_{n1} x_n y_1  ) + (a_{12} x_1 y_2 + \\cdots + a_{n2} x_n y_2) + \\cdots + (a_{1m} x_1 y_m + \\cdots + a_{nm} x_n y_m)  $$\n",
    "   \n",
    "dropping the red and blue to save time in the expansion.\n",
    "   \n",
    "> The expressions *are the same* if the order of summation is reversed"
   ]
  },
  {
   "cell_type": "markdown",
   "metadata": {},
   "source": [
    "### Substitutions\n",
    "---\n",
    "If an expression $y_i = a_{ij}x_j$ is substituted into $B = C_{ij}y_ix_j$ then the dummy index $j$ in the first expression is replaced $y_i = a_{ip}x_p$ to avoid having indices repeated more than twice (see remark 2 above), so then $B=C_{ij}a_{ip} x_p x_j$\n"
   ]
  },
  {
   "cell_type": "markdown",
   "metadata": {},
   "source": [
    "#### Matrix Notation "
   ]
  },
  {
   "cell_type": "markdown",
   "metadata": {},
   "source": [
    "We know from matrix algebra that the expression $B=C_{ij}a_{ip} x_p x_j$ does not multiply if converted directly to matrix form, so to put this in matrix form, $$ \\mathbf B_i = (\\mathbf C_{ij} \\mathbf x_j)^{\\mathbf T}( \\mathbf a_{ip} \\mathbf x_p )$$\n",
    "   \n",
    "Matrix notation is different to tensor notation and does not offer an exact replacement because matrix notation requires that a vector is defined as column and transposed to form a row, and that to mulitply two objects (matrix and vector) is an order dependant operation, such that for two non square matrices $\\mathbf A_{mn}$ and $\\mathbf B_{nr}$ the product $\\mathbf C_{mr}= \\mathbf A \\mathbf B $ is possible because $B$ has the same number of rows as $A$ has columns, but $ \\mathbf B \\mathbf A $ is not possible. This is not the case with the summation notation in tensor analysis.\n",
    "\n",
    ">  When Tensor notation is used to denote matrices, the superscript represents the row, and the subscript represents the column"
   ]
  },
  {
   "cell_type": "markdown",
   "metadata": {},
   "source": [
    "### Kronecker Delta \n",
    "---\n",
    "$$ \\delta^{ij} = \\delta_{ij} = \\delta_j^i = 1 $$ if $i=j$ and zero otherwise\n",
    "\n",
    "\n",
    "   \n",
    "Therefore $\\delta_{11} = 1$, and $\\delta_{12} = 0$, etc\n",
    "   \n",
    "This symbol can be seen to be the tensor notation equivalent to the Identity matrix in matrix algebra."
   ]
  },
  {
   "cell_type": "markdown",
   "metadata": {},
   "source": [
    "### Permutation Symbol\n",
    "---\n",
    "The symbol $e_{ijk...n}$ and $e^{ijk...n}$ with n subscripts or superscripts is called the permutation symbol, and is zero if two indices are identical and equals $(-1)^b$ where $b$ is the number interchanges of consecutive subscripts required to bring $ijk...n$ to the order $123...n$. More simply, in the case of $e_{ijk} = e^{ijk}$ \n",
    " \n",
    " \n",
    "$e_{ijk} =0\\qquad $ if two indices are the same\n",
    "  \n",
    "$e_{ijk} =1\\qquad $ if $i,j,k$ is an even permutation\n",
    "   \n",
    "$e_{ijk} =-1\\qquad $ if $i,j,k$ is an odd permutation\n",
    "\n",
    " \n",
    "\n",
    "   \n",
    "\n",
    "   \n",
    "   \n"
   ]
  },
  {
   "cell_type": "markdown",
   "metadata": {},
   "source": [
    "### Differentials\n",
    "   \n",
    "for a vector, $\\mathbf r= \\mathbf r(u^1,u^2,\\cdots,u^n)$ where the $u^i$ are coordinates of some arbitrary system\n",
    "\n",
    "$$ d\\mathbf r = \\frac{d\\mathbf r}{du^1}du^1+\\frac{d\\mathbf r}{du^2}du^2+\\cdots+\\frac{d\\mathbf r}{du^n}du^n$$\n",
    "\n",
    "is the differential of $\\mathbf r$ with respect to the $u^i$ basis. This is an important form. In index notation ...\n",
    "   \n",
    "$$ d r^i = \\frac{d r^i}{du^k} du^k $$"
   ]
  },
  {
   "cell_type": "markdown",
   "metadata": {},
   "source": [
    "#### Chain Rule\n",
    "\n",
    "For a function (in this case, a scalar valued function of a vector variable) $w = f(u^k)$ for $k=1,\\cdots n$ and $u^k = u^k(x^j)$ for $j=1,\\cdots m$ Then the rate of change of $w$ with resect to the $x^j$ is expressed as\n",
    "   \n",
    "$$ \\frac{ \\partial w }{\\partial x^j} = \\frac{ \\partial w }{\\partial u^k}\\frac{ \\partial u^k }{\\partial x^j} $$ \n",
    "   \n",
    "In this case $k$ in the term $\\frac{ \\partial w }{\\partial u^k}$ is seen as a <b>subscript </b> and the $k$ in the term\n",
    "$\\frac{ \\partial u^k }{\\partial x^j}$ is seen as a <b>superscript</b> with subscript $j$ \n"
   ]
  },
  {
   "cell_type": "markdown",
   "metadata": {},
   "source": [
    "### Dot and Cross Product\n",
    "\n",
    "The dot product can be defined as \n",
    "\n",
    "$$ \\mathbf x\\cdot  \\mathbf y = x^i y^i = \\mathbf x \\mathbf y$$\n",
    "\n",
    "Using the permutation symbol to define the basis vectors .. $e_{ijk}$ then $ e_{132} = (-1)^1 = -1$ and $e_{ijk}$ then $ e_{123} = (-1)^0 = 1$ then for each $e_{ijk}$ there is a unique \n",
    "   \n",
    "$$(\\mathbf u \\times \\mathbf v)_i = (e_{ijk}u_j v_k) $$"
   ]
  },
  {
   "cell_type": "markdown",
   "metadata": {},
   "source": [
    "## Back to Coordinates\n",
    "---\n",
    "Using the summation convention, a *coordinate transformation* may be represented as \n",
    "   \n",
    "$$\\bar{x}^i = \\bar{x}^i( x^j )$$ \n",
    "   \n",
    "and\n",
    "   \n",
    "$$x^j = x^j ( \\bar{x}^i  )$$ \n",
    "   \n"
   ]
  },
  {
   "cell_type": "markdown",
   "metadata": {},
   "source": [
    "### Contravariant Tensor\n",
    "   \n",
    "---\n",
    "If $\\mathbf T = (T^i) $ is a vector field (vector function of a vector variable) in the *unbarred* system such that $T^i = T^i(\\mathbf x) = T^i(x^j)$  and it can also be represented in the *barred* system via a coordinate transformation, then  $\\mathbf T$ is a <b>contravariant tensor of rank 1 </b> if the components \n",
    "   \n",
    "$ (T^{ \\color{red}{1}}, T^{ \\color{red}{2}}, \\cdots, T^{ \\color{red}{n}}) $ in the unbarred system\n",
    "   \n",
    "$ (\\bar{T}^{ \\color{blue}{1}},\\bar{T}^{ \\color{blue}{2}},\\cdots, \\bar{T}^{ \\color{blue}{n}}) $ in the barred system\n",
    "   \n",
    "are related by a transformation \n",
    "\n",
    "$$\\large\\bar{T}^{ \\color{blue}{i}} = \\frac{ \\partial \\bar{x}^{ \\color{blue}{i}} }{ \\partial x^{ \\color{red}{j}}} T^{ \\color{red}{j}} $$ \n",
    "   \n",
    "> A contravariant vector has components that change if the coordinates change, but the vector itself does not change. Under an operation like scaling or rotation, the components of a contravariant vector will make a change that cancels the operation. Examples include velocity of a fluid, displacement, acceleration.\n",
    "   \n",
    "> For example, $$\\frac{\\partial y^i}{\\partial t} =\\frac{\\partial y^i}{\\partial x^r}\\frac{\\partial x^r}{\\partial t}$$  \n",
    "> the term $\\frac{\\partial y^i}{\\partial x^r}$ defines the contravariant nature of this term. \n",
    "   \n",
    "> Note: this takes the form of the differential defined above, divided by the $\\partial t$, or the change in the  differential of the $y$ coordinates with respect to the $x$ coordinates through time. \n",
    "   \n",
    "with full-on red and blue notation \n",
    "   \n",
    "$$\\large\\color{blue}{\\bar{T}^{ i}} = \\frac{ \\partial \\color{blue}{\\bar{x}^{ i}} }{ \\partial \\color{red}{x^{ j}}} \\color{red}{T^{ j} }$$ \n",
    "   \n",
    "without the red and blue notation\n",
    "\n",
    "$$\\large\\bar{T}^{ i} = \\frac{ \\partial \\bar{x}^{ i} }{ \\partial x^{ j}} T^{ j} $$ \n",
    "   \n",
    "#### So in a *contravariant* tensor the *barred system* that we are converting to appears upstairs in the transform."
   ]
  },
  {
   "cell_type": "markdown",
   "metadata": {},
   "source": [
    "### Covariant Tensor\n",
    "---\n",
    "The vector field $\\mathbf T$ is a covariant tensor is the components in the barred and unbarred coordinate systems obey the following transformation law \n",
    "   \n",
    "$$\\large\\bar{T}_{ \\color{blue}{i}} = \\frac{  \\partial x^{ \\color{red}{j}}  }{\\partial \\bar{x}^{ \\color{blue}{i}} } T_{ \\color{red}{j}} $$ \n",
    "   \n",
    "> A covariant vector has components that change like the coordinates change, The gradient of a scalar function (i.e. the potential) is a covariant tensor, (i.e. $\\mathbf F$ ) , also called a covariant vector.\n",
    "   \n",
    "> For example: $$\\nabla \\mathbf F = \\frac{\\partial F}{\\partial y^i}= \\frac{\\partial F}{\\partial x^p} \\frac{\\partial x^p}{\\partial y^i}$$ the term   $ \\frac{\\partial x^p}{\\partial y^i}$ defines the covariant nature of this. I could equally have use the $y$'s as the unbarred coordinates in both cases, resulting in the opposite appearance. \n",
    "   \n",
    "> Note: this takes the form of the chain rule defined above for a scalar valued function of a vector variable.\n",
    "\n",
    "   \n",
    "with the full-on red and blue notation\n",
    "   \n",
    "$$\\large\\color{blue}{\\bar{T}_{ i }} = \\frac{  \\partial \\color{red}{x^{ j }}  }{\\partial \\color{blue}{\\bar{x}^{ i } }} \\color{red}{T_{ j}} $$ \n",
    "   \n",
    "without the red and blue notation\n",
    "\n",
    "$$\\large\\bar{T}_{ i } = \\frac{  \\partial x^{ j }  }{\\partial \\bar{x}^{ i } } T_{ j} $$ \n",
    "   \n",
    "#### So in a *covariant* tensor the coordinate system we are converting to appears *downstairs* in the transform "
   ]
  },
  {
   "cell_type": "markdown",
   "metadata": {},
   "source": [
    "#### Note on the Jacobian Matrix\n",
    "> The contravariant tensor transforms with the Jacobian matrix of the system $\\bar{x}^k =\\bar{x}^k (x^j) $ \n",
    "\n",
    ">   \n",
    "> $$ \\bar {T}^i = [\\mathbf J]_j^i T^j $$ \n",
    ">    \n",
    "> where $$[\\mathbf J]_j^i = \\frac{\\partial \\bar{x}^i}{\\partial x^j} $$ \n",
    ">\n",
    "> so, we use the sum over the $j^{\\text{th}}$ column of $[\\mathbf J]$ multiplied by the $j^{\\text{th}}$ component of $T^j$ ... ie\n",
    "   \n",
    "> $\\bar {T}^1 = [\\mathbf J]_j^1 T^j =  \\frac{\\partial \\bar{x}^1}{\\partial x^1}T^1 +\\frac{\\partial \\bar{x}^1}{\\partial x^2}T^2 + \\frac{\\partial \\bar{x}^1}{\\partial x^3}T^3 $"
   ]
  },
  {
   "cell_type": "markdown",
   "metadata": {},
   "source": [
    "\n",
    "> The covariant tensor transforms with the Jacobian matrix of the system $x^j =x^j(\\bar{x}^k ) $ or the reciprocal of the\n",
    "> jacobian matrix of the system $\\bar{x}^k =\\bar{x}^k (x^j) $ \n",
    ">   \n",
    "> $$ \\bar {T}_i = [\\bar{\\mathbf J}] T_j  $$ \n",
    ">    \n",
    "> $\\bar {T}_1 =  \\frac{\\partial x^1}{\\partial \\bar{x}^1}T^1 +\\frac{\\partial x^2}{\\partial \\bar{x}^1}T^2 + \\frac{\\partial x^3}{\\partial \\bar{x}^1}T^3 $\n",
    "\n",
    "Note: Compute the inverse of the Jacobian matrix and compare to the reciprocal jacobian matix. "
   ]
  },
  {
   "cell_type": "code",
   "execution_count": null,
   "metadata": {
    "collapsed": true
   },
   "outputs": [],
   "source": []
  },
  {
   "cell_type": "markdown",
   "metadata": {},
   "source": [
    "#### Invariants\n",
    "Any quantity that does not change with a change of basis is called an invariant. For example, a scalar function of a vector variable, a potential $\\phi(x^i)$ is transformed to the barred coordinate system and still has the same value, therefore $\\phi$ is said to be <b>invariant</b> or a <b>tensor of rank zero</b>. "
   ]
  },
  {
   "cell_type": "markdown",
   "metadata": {},
   "source": [
    "### Second Order Tensors\n",
    "---\n",
    "If there are $n^2$ quantities defining a matrix field, or matrix of scalar fields $\\mathbf T = T^{ij}(\\mathbf x) $ with components in both the barred and unbarred coordinate systems\n",
    "    \n",
    "#### Contravariant\n",
    "      \n",
    "$$\\large\\bar{T}^{ i r} = \\frac{ \\partial \\bar{x}^{ i} }{ \\partial \\smash{x^{ j}}} \\frac{ \\partial \\bar{x}^{ r} }{ \\partial x^{ s}} T^{ j s} $$ \n",
    "\n",
    "#### Covariant\n",
    "   \n",
    "$$\\large\\bar{T}_{ i r } = \\frac{  \\partial x^{ j }  }{\\partial \\smash{\\bar{x}^{ i } }} \\frac{  \\partial x^{ s }  }{\\partial \\bar{x}^{ r } }T_{ j s} $$ \n",
    "\n",
    "#### Mixed\n",
    "   \n",
    "$$\\large\\bar{T}^i_r = \\frac{ \\partial \\bar{x}^{ i} }{ \\partial \\smash{x^{ j}}} \\frac{  \\partial x^{ s }  }{\\partial \\bar{x}^{ r } }T^j_s $$ \n"
   ]
  },
  {
   "cell_type": "markdown",
   "metadata": {
    "collapsed": true
   },
   "source": [
    "> An intutive way to think about this is that a zero order tensor is a scalar, a first order tensor is a vector, and a  second order tensor is a matrix ... for example the mixed tensor written above ( in 3 dimensions ) would appear as the following\n",
    "\n",
    "$$ \\bar{T}^i_r =\\left( \\begin{matrix} \\bar{T}^1_1 &\\bar{T}^1_2 & \\bar{T}^1_3 \\\\ \\bar{T}^2_1&\\bar{T}^2_2&\\bar{T}^2_3 \\\\ \\bar{T}^3_1&\\bar{T}^3_2&\\bar{T}^3_3  \\end{matrix}\\right) $$\n",
    "   \n",
    "and\n",
    "   \n",
    "$$\\frac{ \\partial \\bar{x}^{ i} }{ \\partial \\smash{x^{ j}}}= \\left(\\begin{matrix} \\frac{\\partial \\bar{x}^1}{\\partial x^1} &\\frac{\\partial \\bar{x}^1}{\\partial x^2} & \\frac{\\partial \\bar{x}^1}{\\partial x^3} \\\\\\ \\frac{\\partial \\bar{x}^2}{\\partial x^1} & \\frac{\\partial \\bar{x}^2}{\\partial x^2} & \\frac{\\partial \\bar{x}^2}{\\partial x^3} \\\\\\ \\frac{\\partial \\bar{x}^3}{\\partial x^1} & \\frac{\\partial \\bar{x}^3}{\\partial x^2} &\\frac{\\partial \\bar{x}^3}{\\partial x^3}  \\end{matrix}\\right)$$\n",
    "   \n",
    "and\n",
    "   \n",
    "$$\\frac{  \\partial x^{ s }  }{\\partial \\bar{x}^{ r } }=\\left( \\begin{matrix} \\frac{\\partial x^1}{\\partial \\bar{x}^1} &\\frac{\\partial x^1}{\\partial \\bar{x}^2} & \\frac{\\partial x^1}{\\partial \\bar{x}^3} \\\\\\ \\frac{\\partial x^2}{\\partial \\bar{x}^1} & \\frac{\\partial x^2}{\\partial \\bar{x}^2} & \\frac{\\partial x^2}{\\partial \\bar{x}^3} \\\\\\ \\frac{\\partial x^3}{\\partial \\bar{x}^1} & \\frac{\\partial x^3}{\\partial \\bar{x}^2} &\\frac{\\partial x^3}{\\partial \\bar{x}^3}  \\end{matrix}\\right) $$\n",
    "\n",
    "and $$\n",
    "T^j_s =\\left( \\begin{matrix} T^1_1 &T^1_2 & T^1_3 \\\\\\ T^2_1&T^2_2&T^2_3 \\\\\\ T^3_1&T^3_2&T^3_3  \\end{matrix}\\right) $$\n",
    "   \n",
    "and so clearly expanding up the full equation is a tedious and laborious process.\n",
    "   \n"
   ]
  },
  {
   "cell_type": "markdown",
   "metadata": {},
   "source": [
    "### Higher Order Tensors\n",
    "   \n",
    "For a generalized vector field $\\mathbf T = T^{i_1,\\cdots i_p}_{r_1,\\cdots r_q}$ consisting of $(p+q)$ scalar fields, and is of rank $p+q$, contravariant off order p and covariant of order q defined in both coordinate systems, then if the components of the matrix field transform \n",
    "   \n",
    "   $$ \\large\\bar{T}^{i_1,\\cdots i_p}_{r_1,\\cdots r_q} =  T^{j_1,\\cdots j_p}_{s_1,\\cdots s_q} \\frac{ \\partial \\bar{x}^{ i_1} }{ \\partial \\smash{x^{ j_1}} }\\frac{ \\partial \\bar{x}^{ i_2} }{ \\partial \\smash{x^{ j_2}}} ... \\frac{ \\partial \\bar{x}^{ i_p} }{ \\partial \\smash{x^{ j_p}}} \\frac{ \\partial x^{ s_1} }{ \\partial \\bar{x}^{ r_1}} ... \\frac{ \\partial x^{ s_q} }{ \\partial \\bar{x}^{ r_q}} $$\n",
    "   \n",
    "  This is a generalized mixed tensor of rank $p+q$"
   ]
  },
  {
   "cell_type": "code",
   "execution_count": null,
   "metadata": {
    "collapsed": true
   },
   "outputs": [],
   "source": []
  },
  {
   "cell_type": "code",
   "execution_count": null,
   "metadata": {
    "collapsed": true
   },
   "outputs": [],
   "source": []
  },
  {
   "cell_type": "markdown",
   "metadata": {},
   "source": [
    "#### Tensor Addition\n",
    "\n",
    "The sum of two tensors of the same rank and type also produce a tensor of the same rank and type . e.g  \n",
    "   \n",
    "   $$\\large T^{pq}_{r} = A^{pq}_{r} + B^{pq}_{r}$$. \n",
    "   \n",
    "This operation is associative and commutative. The same is true for subtraction."
   ]
  },
  {
   "cell_type": "markdown",
   "metadata": {},
   "source": [
    "#### Outer Product\n",
    "   \n",
    "The outer product of two tensors is a tensor\n",
    "      \n",
    "$$\\large U^{i_1\\cdots i_ak_1\\cdots k_c}_{j_1\\cdots j_bl_d\\cdots l_d}= \\left(S^{i_1\\cdots i_a}_{j_1\\cdots j_b}\\cdot T^{k_1\\cdots k_c}_{l_d\\cdots l_d} \\right)$$\n",
    "   \n",
    "of order $a + b + c + d$, and is covariant of order $b+d$ and contravariant of order $a+c$. The outer product is commutative."
   ]
  },
  {
   "cell_type": "markdown",
   "metadata": {},
   "source": [
    "#### Contraction\n",
    "   \n",
    "A contraction is defined by setting two indices equal for example setting some chosen index in the range $(i_1\\cdots i_a)$ equal to some index in the range $r_1\\cdots r_b)$, then the contraction of \n",
    "   \n",
    "$$\\large T^{i_1\\cdots i_a}_{r_1\\cdots r_b}$$ \n",
    "   \n",
    "is a tensor of rank $(a+b-2)$, covariant of order $b-1$ and contravariant of order $a-1$.\n",
    "\n",
    "This operation uses the fact that $\\frac{\\partial x^p}{\\partial x^q} = \\delta^p_q$ as in calculus, $\\frac{dx}{dx} = 1$, but the change in the x axis with respect to the z axis is zero, since they are orthogonal.\n",
    "\n",
    "> A contraction can result in a loss of information.\n",
    "\n"
   ]
  },
  {
   "cell_type": "markdown",
   "metadata": {
    "collapsed": true
   },
   "source": [
    "The contraction of a second order tensor $T^i_j$ would be $T^i_i=T^1_1+T^2_2+T^3_3$ and is the trace of the tensor in matrix form."
   ]
  },
  {
   "cell_type": "markdown",
   "metadata": {},
   "source": [
    "#### Inner Product\n",
    "    \n",
    "This operation is equivalent to an outer product followed by a contraction.\n",
    "   \n",
    "If $T^i$ is a contravariant Tensor of rank 1 and $S_{ji}$ is covariant of rank 2 then since $T^i = \\bar{ T^j } \\frac{\\partial x^i}{\\partial \\bar{x}^j}$ and $S_{ji}= \\bar{S}_{pq}\\frac{\\partial \\bar{x}^p}{\\partial x^j}\\frac{\\partial \\bar{x}^q}{\\partial x^i} $ \n",
    "\n",
    "$$ (TS)_j = (T^i)(S_{ji}) = \\left(\\bar{ T^r } \\frac{\\partial x^i}{\\partial \\bar{x}^r}\\right) \\left(\\bar{S}_{pq}\\frac{\\partial \\bar{x}^p}{\\partial x^j}\\frac{\\partial \\bar{x}^q}{\\partial x^i} \\right) = \\color{red}{\\frac{\\partial x^i}{\\partial \\bar{x}^r}}\\color{blue}{ \\frac{\\partial \\bar{x}^q}{\\partial x^i} }\\color{black}{\\frac{\\partial \\bar{x}^p}{\\partial x^j} \\bar{T}^r \\bar{S}_{pq}} = \\delta_{\\color{red}{r}}^{\\color{blue}{q}}\\color{black}{\\frac{\\partial \\bar{x}^p}{\\partial x^j}} \\color{black}{\\bar{T}}^{\\color{red}{r}} \\color{black}{S}_{p\\color{blue}{q}} = \\color{black}{\\frac{\\partial \\bar{x}^p}{\\partial x^j} (\\bar{T S})_{p} }$$\n",
    "   \n",
    "and the result is a covariant vector. The result of multipliying the product $\\frac{\\partial x^i}{\\partial \\bar{x}^r}\\frac{\\partial \\bar{x}^q}{\\partial x^i} = \\delta^q_r$ since the $x^i$'s cancel and the remaining differential quotient \n",
    "$\\frac{\\partial \\bar{x}^q}{\\partial \\bar{x}^r} = \\delta^q_r$ since this is equivalent to the change in x with respect to y when x is not a function of y when $r\\neq q$ and so those terms are zero, and when $r=q$ the terms are 1. The $\\delta_r^q$ term remaining then multiplies with the $\\bar{T}^r \\bar{S}_{pq}$ terms, effectively leaving the sum over p, since the other terms are zero. This second part is equivalent to a contraction."
   ]
  },
  {
   "cell_type": "markdown",
   "metadata": {},
   "source": [
    "### Review of Background \n",
    "\n",
    "For two related systems, \n",
    "   \n",
    "$$\\mathbf x = \\mathbf x(u^1, u^2, u^3)$$\n",
    "\n",
    "and\n",
    "$$\\mathbf u =\\mathbf u(x^1, x^2, x^3) $$ etc\n",
    "\n",
    "Then a point P represented in the cartesian frame, also has a representation in the curvilinear frame $(u^1, u^2, u^3)$.\n",
    "For orthogonal curvilinear coordinates, there are two reciprocal sets of vectors to consider - the tangents to the curves defined by the $u^i$ coordinates and the normals to the surfaces defined by pairs of $u^i$ coordinates, or when a $u^k = \\text{const}$. Let $\\mathbf r = x^1\\mathbf i + x^2\\mathbf j + x^3\\mathbf k$ be a position vector representing the set of all points P in the cartesian system, then the unit tangent vectors are\n",
    "   \n",
    "   \n",
    "$$   \\mathbf e^i= \\frac{\\frac{\\partial \\mathbf r}{\\partial u_i}}{\\left|\\frac{\\partial \\mathbf r}{\\partial u_i} \\right|}=\\frac{1}{h_i}\\frac{\\partial \\mathbf r}{\\partial u_i}   $$\n",
    "\n",
    "where the $h_i=\\left|\\frac{\\partial r}{\\partial u^i}\\right|$ are the scale factors or Lame coefficients and the $\\mathbf e^i$ are in the directions of the tangents of $u^i$ curves. \n",
    "   \n",
    "The reciprocal set of vectors is \n",
    "   \n",
    "$$ \\hat{\\mathbf e}^p = \\frac{\\nabla u^p}{\\left|\\nabla u^p\\right|}$$ \n",
    "   \n",
    "Where $\\nabla u^1 = \\frac{\\partial u^1}{\\partial x^1}\\mathbf i +\\frac{\\partial u^1}{\\partial x^2}\\mathbf j +\\frac{\\partial u^1}{\\partial x^3}\\mathbf k$. These vectors are the normals to the surface such that $\\nabla u^p$ is normal to $u^p = \\text{const}$. \n",
    "\n",
    "The terms $\\frac{\\partial \\mathbf r}{\\partial u_i}$ and $\\nabla u^p$ are called unitary base vectors , but are not unit vectors. If a vector $\\mathbf v$ is represented in these two systems...\n",
    "   \n",
    "$$ \\mathbf v = a^i \\frac{\\partial \\mathbf r}{\\partial u^i} $$\n",
    "and\n",
    "$$ \\mathbf v = b^p \\nabla u^p $$\n",
    "\n",
    "Then the $a^i$ are the <b>contravariant</b> components of $\\mathbf v$ and the $b^p$ are the <b>covariant</b> components - they are only coincident / identical if the curvilinear system is orthogonal. This case will be most systems, however these definitions are useful for the concept of the metric.\n",
    "\n",
    "Arc length : $(ds)^2 = (h_1)^2 (du^1)^2+(h_2)^2 (du^2)^2+(h_3)^2 (du^3)^2 = (h_p)^2 (du^p)^2$\n",
    "   \n",
    "   more formally  $(ds)(ds) = (h_1 du^1)(h_1 du^1) + (h_2 du^2)(h_2 du^2)+ (h_3 du^3)(h_3 du^3) = (h_p du^p)(h_q du^q)\\delta^{pq} $\n",
    "   because we should not write powers as with raised indices and we should not repeat indices.\n",
    "   \n",
    "Volume: $dV = h_1\\ h_2\\ h_3\\ du^1 du^2 du^3 = |\\mathbf e^1 \\cdot\\mathbf e^2 \\times \\mathbf e^3|$ (scalar triple product).\n"
   ]
  },
  {
   "cell_type": "markdown",
   "metadata": {},
   "source": [
    "### Metric Tensor\n",
    "\n",
    "The metric Tensor is defined as $\\mathbf g =  g_{ij}$ and has the following properties...\n",
    "   \n",
    "1) $\\mathbf g$ is positive definite (and also the inverse $\\mathbf g^{-1}$\n",
    "   \n",
    "2) non-singular $|g_{ij}|\\neq 0$\n",
    "   \n",
    "3) symmetric\n",
    "   \n",
    "4) has 2nd order partial derivatives (class $C^2$\n",
    "   \n",
    "5) Is invariant with change of coordinates (see arc length below).\n",
    "   \n",
    "The concept of distance in Euclidean space, for any generalized cartesian, orthogonal curvilinear, affine coordinates is:\n",
    "   \n",
    "$$ (ds)^2 = g_{ij} (dx^i)(dx^j) $$\n",
    "\n",
    "where for Euclidean systems $g_{ij}=0$ if $i\\neq j $\n",
    "\n",
    "For a coordinate system in the Euclidean metric, \n",
    "\n",
    "$$ \\mathbf G = \\mathbf J^T \\mathbf J $$\n",
    "   \n",
    "and for example, the orthogonal curvlinear coordinate systems (spherical, cylindrical, dual paraboloidal, elliptic) \n",
    "all have scale factors (Lame Coefficients) and are coordinate systems of the Euclidean metric, these scale factors appear as the square roots of the diagonal elements of the metric.\n",
    "\n",
    "#### definition: The metric tensor is a covariant tensor of 2nd order."
   ]
  },
  {
   "cell_type": "markdown",
   "metadata": {},
   "source": [
    "### Example.\n",
    "   \n",
    "For spherical coordinates, the transformation to cartesian is\n",
    "   \n",
    "$$ x = r\\ \\cos\\phi\\ \\sin\\theta,\\quad y = r\\ \\sin\\phi\\ \\sin\\theta,\\quad z = r\\ \\cos\\theta $$ \n",
    "   \n",
    "where $\\theta$ is the angle from the top to the bottom of the sphere between 0 and $\\pi$, and $\\phi$ is the angle in the $xy$ plane with angle $0-360^o$ or $0 \\leq \\phi\\leq 2\\pi$. the inverse transform\n",
    "   \n",
    "$$ r = \\sqrt{ x^2 + y^2 + z^2}, \\quad \\theta = \\arccos \\frac{z}{r},\\quad \\phi = \\arctan \\frac{y}{x}$$\n",
    "   \n",
    "so we set that $(x,y,z) = (x^1,x^2,x^3)$ and $(r,\\theta,\\phi) = (\\bar{x}^1,\\bar{x}^2,\\bar{x}^3)$, (note that $\\theta$ is the second vector for this system to be right handed) then...\n",
    "   \n",
    "$$ x^1 = \\bar{x}^1\\ \\cos\\bar{x}^3\\ \\sin\\bar{x}^2,\\quad x^2 = \\bar{x}^1\\ \\sin\\bar{x}^3\\ \\sin\\bar{x}^2,\\quad x^3 = \\bar{x}^1\\ \\cos\\bar{x}^2 $$ \n",
    "and\n",
    "   \n",
    "$$ \\bar{x}^1= \\sqrt{ (x^1)^2 + (x^2)^2 + (x^3)^2}, \\quad \\bar{x}^2 = \\arccos \\frac{(x^3)}{\\sqrt{ (x^1)^2 + (x^2)^2 + (x^3)^2}},\\quad \\bar{x}^3 = \\arctan \\frac{x^2}{x^1}$$\n",
    "   \n",
    "and the Jacobian matrix of $\\frac{\\partial (x^1,x^2,x^3)}{\\partial (\\bar{x}^1,\\bar{x}^2,\\bar{x}^3)} $ we can get by calculating the derivatives ...\n",
    "   \n",
    "$$\\left( \\begin{matrix} \\frac{\\partial x^1}{\\partial \\bar{x}^1} &\\frac{\\partial x^1}{\\partial \\bar{x}^2} & \\frac{\\partial x^1}{\\partial \\bar{x}^3} \\\\\\ \\frac{\\partial x^2}{\\partial \\bar{x}^1} & \\frac{\\partial x^2}{\\partial \\bar{x}^2} & \\frac{\\partial x^2}{\\partial \\bar{x}^3} \\\\\\ \\frac{\\partial x^3}{\\partial \\bar{x}^1} & \\frac{\\partial x^3}{\\partial \\bar{x}^2} &\\frac{\\partial x^3}{\\partial \\bar{x}^3}  \\end{matrix}\\right) $$"
   ]
  },
  {
   "cell_type": "code",
   "execution_count": 2,
   "metadata": {
    "collapsed": false
   },
   "outputs": [
    {
     "name": "stdout",
     "output_type": "stream",
     "text": [
      "The Jacobian of the dx^i/dy^j where x's are cartesian and y's are spherical \n"
     ]
    },
    {
     "data": {
      "text/latex": [
       "$$\\left[\\begin{matrix}\\sin{\\left (y_{2} \\right )} \\cos{\\left (y_{3} \\right )} & y_{1} \\cos{\\left (y_{2} \\right )} \\cos{\\left (y_{3} \\right )} & - y_{1} \\sin{\\left (y_{2} \\right )} \\sin{\\left (y_{3} \\right )}\\\\\\sin{\\left (y_{2} \\right )} \\sin{\\left (y_{3} \\right )} & y_{1} \\sin{\\left (y_{3} \\right )} \\cos{\\left (y_{2} \\right )} & y_{1} \\sin{\\left (y_{2} \\right )} \\cos{\\left (y_{3} \\right )}\\\\\\cos{\\left (y_{2} \\right )} & - y_{1} \\sin{\\left (y_{2} \\right )} & 0\\end{matrix}\\right]$$"
      ],
      "text/plain": [
       "⎡sin(y₂)⋅cos(y₃)  y₁⋅cos(y₂)⋅cos(y₃)  -y₁⋅sin(y₂)⋅sin(y₃)⎤\n",
       "⎢                                                        ⎥\n",
       "⎢sin(y₂)⋅sin(y₃)  y₁⋅sin(y₃)⋅cos(y₂)  y₁⋅sin(y₂)⋅cos(y₃) ⎥\n",
       "⎢                                                        ⎥\n",
       "⎣    cos(y₂)         -y₁⋅sin(y₂)               0         ⎦"
      ]
     },
     "execution_count": 2,
     "metadata": {},
     "output_type": "execute_result"
    }
   ],
   "source": [
    "from sympy import *\n",
    "from sympy.vector import *\n",
    "\n",
    "e = CoordSysCartesian('e')\n",
    "sph = CoordSysCartesian('sph')\n",
    "\n",
    "x_1,x_2,x_3 = symbols('x_1,x_2, x_3')\n",
    "y_1,y_2,y_3 = symbols('y_1,y_2, y_3')\n",
    "\n",
    "v = y_1 * cos (y_3) * sin(y_2) * e.i+ y_1 * sin (y_3) * sin(y_2) * e.j +  y_1 * cos(y_2) * e.k\n",
    "V = sqrt( x_1**2 + x_2**2 + x_3**2) * sph.i + acos( x_3/sqrt( x_1**2 + x_2**2 + x_3**2)) * sph.j + atan(x_2/x_1) * sph.k\n",
    "\n",
    "X = Matrix([v.dot(e.i), v.dot(e.j),v.dot(e.k)])\n",
    "Y = Matrix([y_1, y_2, y_3])\n",
    "\n",
    "init_printing(use_latex=true)\n",
    "\n",
    "print \"The Jacobian of the dx^i/dy^j where x's are cartesian and y's are spherical \"\n",
    "J_1 = X.jacobian(Y)\n",
    "J_1"
   ]
  },
  {
   "cell_type": "code",
   "execution_count": 3,
   "metadata": {
    "collapsed": false
   },
   "outputs": [
    {
     "name": "stdout",
     "output_type": "stream",
     "text": [
      "The metric of the spherical coordinate system relative to the cartesian\n"
     ]
    },
    {
     "data": {
      "text/latex": [
       "$$\\left[\\begin{matrix}1 & 0 & 0\\\\0 & y_{1}^{2} & 0\\\\0 & 0 & y_{1}^{2} \\sin^{2}{\\left (y_{2} \\right )}\\end{matrix}\\right]$$"
      ],
      "text/plain": [
       "⎡1   0        0      ⎤\n",
       "⎢                    ⎥\n",
       "⎢     2              ⎥\n",
       "⎢0  y₁        0      ⎥\n",
       "⎢                    ⎥\n",
       "⎢          2    2    ⎥\n",
       "⎣0   0   y₁ ⋅sin (y₂)⎦"
      ]
     },
     "execution_count": 3,
     "metadata": {},
     "output_type": "execute_result"
    }
   ],
   "source": [
    "J_1T = J_1.transpose()\n",
    "G_xy = simplify(J_1T*J_1)\n",
    "print \"The metric of the spherical coordinate system relative to the cartesian\"\n",
    "G_xy"
   ]
  },
  {
   "cell_type": "code",
   "execution_count": 4,
   "metadata": {
    "collapsed": false
   },
   "outputs": [
    {
     "name": "stdout",
     "output_type": "stream",
     "text": [
      "The Jacobian of the dy^i/dx^j where x's are cartesian and y's are spherical \n"
     ]
    },
    {
     "data": {
      "text/latex": [
       "$$\\left[\\begin{matrix}\\frac{x_{1}}{\\sqrt{x_{1}^{2} + x_{2}^{2} + x_{3}^{2}}} & \\frac{x_{2}}{\\sqrt{x_{1}^{2} + x_{2}^{2} + x_{3}^{2}}} & \\frac{x_{3}}{\\sqrt{x_{1}^{2} + x_{2}^{2} + x_{3}^{2}}}\\\\\\frac{x_{1} x_{3}}{\\sqrt{- \\frac{x_{3}^{2}}{x_{1}^{2} + x_{2}^{2} + x_{3}^{2}} + 1} \\left(x_{1}^{2} + x_{2}^{2} + x_{3}^{2}\\right)^{\\frac{3}{2}}} & \\frac{x_{2} x_{3}}{\\sqrt{- \\frac{x_{3}^{2}}{x_{1}^{2} + x_{2}^{2} + x_{3}^{2}} + 1} \\left(x_{1}^{2} + x_{2}^{2} + x_{3}^{2}\\right)^{\\frac{3}{2}}} & - \\frac{- \\frac{x_{3}^{2}}{\\left(x_{1}^{2} + x_{2}^{2} + x_{3}^{2}\\right)^{\\frac{3}{2}}} + \\frac{1}{\\sqrt{x_{1}^{2} + x_{2}^{2} + x_{3}^{2}}}}{\\sqrt{- \\frac{x_{3}^{2}}{x_{1}^{2} + x_{2}^{2} + x_{3}^{2}} + 1}}\\\\- \\frac{x_{2}}{x_{1}^{2} \\left(1 + \\frac{x_{2}^{2}}{x_{1}^{2}}\\right)} & \\frac{1}{x_{1} \\left(1 + \\frac{x_{2}^{2}}{x_{1}^{2}}\\right)} & 0\\end{matrix}\\right]$$"
      ],
      "text/plain": [
       "⎡                        x₁                                                  x\n",
       "⎢               ────────────────────                                ──────────\n",
       "⎢                  _________________                                   _______\n",
       "⎢                 ╱   2     2     2                                   ╱   2   \n",
       "⎢               ╲╱  x₁  + x₂  + x₃                                  ╲╱  x₁  + \n",
       "⎢                                                                             \n",
       "⎢                                                                             \n",
       "⎢                                                                             \n",
       "⎢                                                                             \n",
       "⎢                                                                             \n",
       "⎢                                                                             \n",
       "⎢                      x₁⋅x₃                                               x₂⋅\n",
       "⎢──────────────────────────────────────────────────  ─────────────────────────\n",
       "⎢      _______________________                             ___________________\n",
       "⎢     ╱           2                             3/2       ╱           2       \n",
       "⎢    ╱          x₃             ⎛  2     2     2⎞         ╱          x₃        \n",
       "⎢   ╱   - ─────────────── + 1 ⋅⎝x₁  + x₂  + x₃ ⎠        ╱   - ─────────────── \n",
       "⎢  ╱        2     2     2                              ╱        2     2     2 \n",
       "⎢╲╱       x₁  + x₂  + x₃                             ╲╱       x₁  + x₂  + x₃  \n",
       "⎢                                                                             \n",
       "⎢                       -x₂                                                  1\n",
       "⎢                  ─────────────                                        ──────\n",
       "⎢                      ⎛      2⎞                                           ⎛  \n",
       "⎢                    2 ⎜    x₂ ⎟                                           ⎜  \n",
       "⎢                  x₁ ⋅⎜1 + ───⎟                                        x₁⋅⎜1 \n",
       "⎢                      ⎜      2⎟                                           ⎜  \n",
       "⎣                      ⎝    x₁ ⎠                                           ⎝  \n",
       "\n",
       "₂                                                 x₃                        ⎤\n",
       "──────────                               ────────────────────               ⎥\n",
       "__________                                  _________________               ⎥\n",
       "  2     2                                  ╱   2     2     2                ⎥\n",
       "x₂  + x₃                                 ╲╱  x₁  + x₂  + x₃                 ⎥\n",
       "                                                                            ⎥\n",
       "                            ⎛            2                                ⎞ ⎥\n",
       "                            ⎜          x₃                      1          ⎟ ⎥\n",
       "                           -⎜- ──────────────────── + ────────────────────⎟ ⎥\n",
       "                            ⎜                   3/2      _________________⎟ ⎥\n",
       "                            ⎜  ⎛  2     2     2⎞        ╱   2     2     2 ⎟ ⎥\n",
       "x₃                          ⎝  ⎝x₁  + x₂  + x₃ ⎠      ╲╱  x₁  + x₂  + x₃  ⎠ ⎥\n",
       "─────────────────────────  ─────────────────────────────────────────────────⎥\n",
       "____                                       _______________________          ⎥\n",
       "                      3/2                 ╱           2                     ⎥\n",
       "     ⎛  2     2     2⎞                   ╱          x₃                      ⎥\n",
       "+ 1 ⋅⎝x₁  + x₂  + x₃ ⎠                  ╱   - ─────────────── + 1           ⎥\n",
       "                                       ╱        2     2     2               ⎥\n",
       "                                     ╲╱       x₁  + x₂  + x₃                ⎥\n",
       "                                                                            ⎥\n",
       "                                                                            ⎥\n",
       "──────                                             0                        ⎥\n",
       "    2⎞                                                                      ⎥\n",
       "  x₂ ⎟                                                                      ⎥\n",
       "+ ───⎟                                                                      ⎥\n",
       "    2⎟                                                                      ⎥\n",
       "  x₁ ⎠                                                                      ⎦"
      ]
     },
     "execution_count": 4,
     "metadata": {},
     "output_type": "execute_result"
    }
   ],
   "source": [
    "X_2 = Matrix([V.dot(sph.i), V.dot(sph.j),V.dot(sph.k)])\n",
    "Y_2 = Matrix([x_1,x_2,x_3])\n",
    "\n",
    "print \"The Jacobian of the dy^i/dx^j where x's are cartesian and y's are spherical \"\n",
    "\n",
    "J_2 = X_2.jacobian(Y_2)\n",
    "J_2"
   ]
  },
  {
   "cell_type": "code",
   "execution_count": 5,
   "metadata": {
    "collapsed": false
   },
   "outputs": [
    {
     "name": "stdout",
     "output_type": "stream",
     "text": [
      "The metric of the dy^i/dx^j where x's are cartesian and y's are spherical \n"
     ]
    },
    {
     "data": {
      "text/latex": [
       "$$\\left[\\begin{matrix}\\frac{1}{\\left(x_{1}^{2} + x_{2}^{2}\\right)^{2} \\left(x_{1}^{2} + x_{2}^{2} + x_{3}^{2}\\right)^{2}} \\left(x_{1}^{2} x_{3}^{2} \\left(x_{1}^{2} + x_{2}^{2}\\right) + x_{1}^{2} \\left(x_{1}^{2} + x_{2}^{2}\\right)^{2} \\left(x_{1}^{2} + x_{2}^{2} + x_{3}^{2}\\right) + x_{2}^{2} \\left(x_{1}^{2} + x_{2}^{2} + x_{3}^{2}\\right)^{2}\\right) & \\frac{x_{1} x_{2}}{\\left(x_{1}^{2} + x_{2}^{2}\\right)^{2} \\left(x_{1}^{2} + x_{2}^{2} + x_{3}^{2}\\right)^{2}} \\left(x_{3}^{2} \\left(x_{1}^{2} + x_{2}^{2}\\right) + \\left(x_{1}^{2} + x_{2}^{2}\\right)^{2} \\left(x_{1}^{2} + x_{2}^{2} + x_{3}^{2}\\right) - \\left(x_{1}^{2} + x_{2}^{2} + x_{3}^{2}\\right)^{2}\\right) & \\frac{x_{1} x_{3} \\left(x_{1}^{2} + x_{2}^{2} + x_{3}^{2} - 1\\right)}{\\left(x_{1}^{2} + x_{2}^{2} + x_{3}^{2}\\right)^{2}}\\\\\\frac{x_{1} x_{2}}{\\left(x_{1}^{2} + x_{2}^{2}\\right)^{2} \\left(x_{1}^{2} + x_{2}^{2} + x_{3}^{2}\\right)^{2}} \\left(x_{3}^{2} \\left(x_{1}^{2} + x_{2}^{2}\\right) + \\left(x_{1}^{2} + x_{2}^{2}\\right)^{2} \\left(x_{1}^{2} + x_{2}^{2} + x_{3}^{2}\\right) - \\left(x_{1}^{2} + x_{2}^{2} + x_{3}^{2}\\right)^{2}\\right) & \\frac{1}{\\left(x_{1}^{2} + x_{2}^{2}\\right)^{2} \\left(x_{1}^{2} + x_{2}^{2} + x_{3}^{2}\\right)^{2}} \\left(x_{1}^{2} \\left(x_{1}^{2} + x_{2}^{2} + x_{3}^{2}\\right)^{2} + x_{2}^{2} x_{3}^{2} \\left(x_{1}^{2} + x_{2}^{2}\\right) + x_{2}^{2} \\left(x_{1}^{2} + x_{2}^{2}\\right)^{2} \\left(x_{1}^{2} + x_{2}^{2} + x_{3}^{2}\\right)\\right) & \\frac{x_{2} x_{3} \\left(x_{1}^{2} + x_{2}^{2} + x_{3}^{2} - 1\\right)}{\\left(x_{1}^{2} + x_{2}^{2} + x_{3}^{2}\\right)^{2}}\\\\\\frac{x_{1} x_{3} \\left(x_{1}^{2} + x_{2}^{2} + x_{3}^{2} - 1\\right)}{\\left(x_{1}^{2} + x_{2}^{2} + x_{3}^{2}\\right)^{2}} & \\frac{x_{2} x_{3} \\left(x_{1}^{2} + x_{2}^{2} + x_{3}^{2} - 1\\right)}{\\left(x_{1}^{2} + x_{2}^{2} + x_{3}^{2}\\right)^{2}} & \\frac{x_{1}^{2} + x_{2}^{2} + x_{3}^{2} \\left(x_{1}^{2} + x_{2}^{2} + x_{3}^{2}\\right)}{\\left(x_{1}^{2} + x_{2}^{2} + x_{3}^{2}\\right)^{2}}\\end{matrix}\\right]$$"
      ],
      "text/plain": [
       "⎡                                     2                                       \n",
       "⎢  2   2 ⎛  2     2⎞     2 ⎛  2     2⎞  ⎛  2     2     2⎞     2 ⎛  2     2    \n",
       "⎢x₁ ⋅x₃ ⋅⎝x₁  + x₂ ⎠ + x₁ ⋅⎝x₁  + x₂ ⎠ ⋅⎝x₁  + x₂  + x₃ ⎠ + x₂ ⋅⎝x₁  + x₂  + x\n",
       "⎢─────────────────────────────────────────────────────────────────────────────\n",
       "⎢                                    2                  2                     \n",
       "⎢                         ⎛  2     2⎞  ⎛  2     2     2⎞                      \n",
       "⎢                         ⎝x₁  + x₂ ⎠ ⋅⎝x₁  + x₂  + x₃ ⎠                      \n",
       "⎢                                                                             \n",
       "⎢        ⎛                             2                                      \n",
       "⎢        ⎜  2 ⎛  2     2⎞   ⎛  2     2⎞  ⎛  2     2     2⎞   ⎛  2     2     2⎞\n",
       "⎢  x₁⋅x₂⋅⎝x₃ ⋅⎝x₁  + x₂ ⎠ + ⎝x₁  + x₂ ⎠ ⋅⎝x₁  + x₂  + x₃ ⎠ - ⎝x₁  + x₂  + x₃ ⎠\n",
       "⎢  ───────────────────────────────────────────────────────────────────────────\n",
       "⎢                                    2                  2                     \n",
       "⎢                         ⎛  2     2⎞  ⎛  2     2     2⎞                      \n",
       "⎢                         ⎝x₁  + x₂ ⎠ ⋅⎝x₁  + x₂  + x₃ ⎠                      \n",
       "⎢                                                                             \n",
       "⎢                                 ⎛  2     2     2    ⎞                       \n",
       "⎢                           x₁⋅x₃⋅⎝x₁  + x₂  + x₃  - 1⎠                       \n",
       "⎢                           ───────────────────────────                       \n",
       "⎢                                                 2                           \n",
       "⎢                                ⎛  2     2     2⎞                            \n",
       "⎣                                ⎝x₁  + x₂  + x₃ ⎠                            \n",
       "\n",
       "   2          ⎛                             2                                 \n",
       " 2⎞           ⎜  2 ⎛  2     2⎞   ⎛  2     2⎞  ⎛  2     2     2⎞   ⎛  2     2  \n",
       "₃ ⎠     x₁⋅x₂⋅⎝x₃ ⋅⎝x₁  + x₂ ⎠ + ⎝x₁  + x₂ ⎠ ⋅⎝x₁  + x₂  + x₃ ⎠ - ⎝x₁  + x₂  +\n",
       "────    ──────────────────────────────────────────────────────────────────────\n",
       "                                          2                  2                \n",
       "                               ⎛  2     2⎞  ⎛  2     2     2⎞                 \n",
       "                               ⎝x₁  + x₂ ⎠ ⋅⎝x₁  + x₂  + x₃ ⎠                 \n",
       "                                                                              \n",
       "2⎞                         2                                        2         \n",
       " ⎟      2 ⎛  2     2     2⎞      2   2 ⎛  2     2⎞     2 ⎛  2     2⎞  ⎛  2    \n",
       " ⎠    x₁ ⋅⎝x₁  + x₂  + x₃ ⎠  + x₂ ⋅x₃ ⋅⎝x₁  + x₂ ⎠ + x₂ ⋅⎝x₁  + x₂ ⎠ ⋅⎝x₁  + x\n",
       "──    ────────────────────────────────────────────────────────────────────────\n",
       "                                          2                  2                \n",
       "                               ⎛  2     2⎞  ⎛  2     2     2⎞                 \n",
       "                               ⎝x₁  + x₂ ⎠ ⋅⎝x₁  + x₂  + x₃ ⎠                 \n",
       "                                                                              \n",
       "                                       ⎛  2     2     2    ⎞                  \n",
       "                                 x₂⋅x₃⋅⎝x₁  + x₂  + x₃  - 1⎠                  \n",
       "                                 ───────────────────────────                  \n",
       "                                                       2                      \n",
       "                                      ⎛  2     2     2⎞                       \n",
       "                                      ⎝x₁  + x₂  + x₃ ⎠                       \n",
       "\n",
       "     2⎞                                     ⎤\n",
       "   2⎞ ⎟             ⎛  2     2     2    ⎞   ⎥\n",
       " x₃ ⎠ ⎠       x₁⋅x₃⋅⎝x₁  + x₂  + x₃  - 1⎠   ⎥\n",
       "───────       ───────────────────────────   ⎥\n",
       "                                    2       ⎥\n",
       "                   ⎛  2     2     2⎞        ⎥\n",
       "                   ⎝x₁  + x₂  + x₃ ⎠        ⎥\n",
       "                                            ⎥\n",
       "                                            ⎥\n",
       " 2     2⎞           ⎛  2     2     2    ⎞   ⎥\n",
       "₂  + x₃ ⎠     x₂⋅x₃⋅⎝x₁  + x₂  + x₃  - 1⎠   ⎥\n",
       "─────────     ───────────────────────────   ⎥\n",
       "                                    2       ⎥\n",
       "                   ⎛  2     2     2⎞        ⎥\n",
       "                   ⎝x₁  + x₂  + x₃ ⎠        ⎥\n",
       "                                            ⎥\n",
       "             2     2     2 ⎛  2     2     2⎞⎥\n",
       "           x₁  + x₂  + x₃ ⋅⎝x₁  + x₂  + x₃ ⎠⎥\n",
       "           ─────────────────────────────────⎥\n",
       "                                    2       ⎥\n",
       "                   ⎛  2     2     2⎞        ⎥\n",
       "                   ⎝x₁  + x₂  + x₃ ⎠        ⎦"
      ]
     },
     "execution_count": 5,
     "metadata": {},
     "output_type": "execute_result"
    }
   ],
   "source": [
    "J_2T = J_2.transpose()\n",
    "\n",
    "print \"The metric of the dy^i/dx^j where x's are cartesian and y's are spherical \"\n",
    "\n",
    "G_yx = simplify((J_2T*J_2))\n",
    "G_yx"
   ]
  },
  {
   "cell_type": "code",
   "execution_count": 6,
   "metadata": {
    "collapsed": false
   },
   "outputs": [
    {
     "name": "stdout",
     "output_type": "stream",
     "text": [
      "The inverse of the Jacobian of the dx^i/dy^j where x's are cartesian and y's are spherical \n"
     ]
    },
    {
     "data": {
      "text/latex": [
       "$$\\left[\\begin{matrix}\\sin{\\left (y_{2} \\right )} \\cos{\\left (y_{3} \\right )} & \\sin{\\left (y_{2} \\right )} \\sin{\\left (y_{3} \\right )} & \\cos{\\left (y_{2} \\right )}\\\\\\frac{1}{y_{1}} \\cos{\\left (y_{2} \\right )} \\cos{\\left (y_{3} \\right )} & \\frac{1}{y_{1}} \\sin{\\left (y_{3} \\right )} \\cos{\\left (y_{2} \\right )} & - \\frac{1}{y_{1}} \\sin{\\left (y_{2} \\right )}\\\\- \\frac{\\sin{\\left (y_{3} \\right )}}{y_{1} \\sin{\\left (y_{2} \\right )}} & \\frac{\\cos{\\left (y_{3} \\right )}}{y_{1} \\sin{\\left (y_{2} \\right )}} & 0\\end{matrix}\\right]$$"
      ],
      "text/plain": [
       "⎡sin(y₂)⋅cos(y₃)  sin(y₂)⋅sin(y₃)   cos(y₂) ⎤\n",
       "⎢                                           ⎥\n",
       "⎢cos(y₂)⋅cos(y₃)  sin(y₃)⋅cos(y₂)  -sin(y₂) ⎥\n",
       "⎢───────────────  ───────────────  ─────────⎥\n",
       "⎢       y₁               y₁            y₁   ⎥\n",
       "⎢                                           ⎥\n",
       "⎢  -sin(y₃)          cos(y₃)                ⎥\n",
       "⎢  ──────────       ──────────         0    ⎥\n",
       "⎣  y₁⋅sin(y₂)       y₁⋅sin(y₂)              ⎦"
      ]
     },
     "execution_count": 6,
     "metadata": {},
     "output_type": "execute_result"
    }
   ],
   "source": [
    "print \"The inverse of the Jacobian of the dx^i/dy^j where x's are cartesian and y's are spherical \"\n",
    "J1_inv = simplify(J_1.inverse_ADJ())\n",
    "J1_inv"
   ]
  },
  {
   "cell_type": "code",
   "execution_count": 7,
   "metadata": {
    "collapsed": false
   },
   "outputs": [
    {
     "data": {
      "text/latex": [
       "$$\\left[\\begin{matrix}\\sin{\\left (y_{2} \\right )} \\cos{\\left (y_{3} \\right )} & y_{1} \\cos{\\left (y_{2} \\right )} \\cos{\\left (y_{3} \\right )} & - y_{1} \\sin{\\left (y_{2} \\right )} \\sin{\\left (y_{3} \\right )}\\\\\\sin{\\left (y_{2} \\right )} \\sin{\\left (y_{3} \\right )} & y_{1} \\sin{\\left (y_{3} \\right )} \\cos{\\left (y_{2} \\right )} & y_{1} \\sin{\\left (y_{2} \\right )} \\cos{\\left (y_{3} \\right )}\\\\\\cos{\\left (y_{2} \\right )} & - y_{1} \\sin{\\left (y_{2} \\right )} & 0\\end{matrix}\\right]$$"
      ],
      "text/plain": [
       "⎡sin(y₂)⋅cos(y₃)  y₁⋅cos(y₂)⋅cos(y₃)  -y₁⋅sin(y₂)⋅sin(y₃)⎤\n",
       "⎢                                                        ⎥\n",
       "⎢sin(y₂)⋅sin(y₃)  y₁⋅sin(y₃)⋅cos(y₂)  y₁⋅sin(y₂)⋅cos(y₃) ⎥\n",
       "⎢                                                        ⎥\n",
       "⎣    cos(y₂)         -y₁⋅sin(y₂)               0         ⎦"
      ]
     },
     "execution_count": 7,
     "metadata": {},
     "output_type": "execute_result"
    }
   ],
   "source": [
    "J_1"
   ]
  },
  {
   "cell_type": "code",
   "execution_count": 8,
   "metadata": {
    "collapsed": false
   },
   "outputs": [
    {
     "name": "stdout",
     "output_type": "stream",
     "text": [
      "The inverse of the Jacobian of the dy^i/dx^j where x's are cartesian and y's are spherical \n"
     ]
    },
    {
     "data": {
      "text/latex": [
       "$$\\left[\\begin{matrix}\\frac{y_{1}}{\\sqrt{y_{1}^{2}}} \\sin{\\left (y_{2} \\right )} \\cos{\\left (y_{3} \\right )} & \\frac{\\sqrt{2} y_{1}^{2} \\left(\\sin{\\left (2 y_{2} - y_{3} \\right )} + \\sin{\\left (2 y_{2} + y_{3} \\right )}\\right)}{4 \\sqrt{- \\cos{\\left (2 y_{2} \\right )} + 1} \\sqrt{y_{1}^{2}}} & - y_{1} \\sin{\\left (y_{2} \\right )} \\sin{\\left (y_{3} \\right )}\\\\\\frac{y_{1}}{\\sqrt{y_{1}^{2}}} \\sin{\\left (y_{2} \\right )} \\sin{\\left (y_{3} \\right )} & \\frac{\\sqrt{2} y_{1}^{2} \\left(\\cos{\\left (2 y_{2} - y_{3} \\right )} - \\cos{\\left (2 y_{2} + y_{3} \\right )}\\right)}{4 \\sqrt{- \\cos{\\left (2 y_{2} \\right )} + 1} \\sqrt{y_{1}^{2}}} & y_{1} \\sin{\\left (y_{2} \\right )} \\cos{\\left (y_{3} \\right )}\\\\\\frac{y_{1}}{\\sqrt{y_{1}^{2}}} \\cos{\\left (y_{2} \\right )} & - \\frac{y_{1}^{2}}{\\sqrt{y_{1}^{2}}} \\sqrt{\\sin^{2}{\\left (y_{2} \\right )}} & 0\\end{matrix}\\right]$$"
      ],
      "text/plain": [
       "⎡                         2                                                   \n",
       "⎢y₁⋅sin(y₂)⋅cos(y₃)  √2⋅y₁ ⋅(sin(2⋅y₂ - y₃) + sin(2⋅y₂ + y₃))                 \n",
       "⎢──────────────────  ────────────────────────────────────────  -y₁⋅sin(y₂)⋅sin\n",
       "⎢        _____                                    _____                       \n",
       "⎢       ╱   2                 ________________   ╱   2                        \n",
       "⎢     ╲╱  y₁              4⋅╲╱ -cos(2⋅y₂) + 1 ⋅╲╱  y₁                         \n",
       "⎢                                                                             \n",
       "⎢                         2                                                   \n",
       "⎢y₁⋅sin(y₂)⋅sin(y₃)  √2⋅y₁ ⋅(cos(2⋅y₂ - y₃) - cos(2⋅y₂ + y₃))                 \n",
       "⎢──────────────────  ────────────────────────────────────────  y₁⋅sin(y₂)⋅cos(\n",
       "⎢        _____                                    _____                       \n",
       "⎢       ╱   2                 ________________   ╱   2                        \n",
       "⎢     ╲╱  y₁              4⋅╲╱ -cos(2⋅y₂) + 1 ⋅╲╱  y₁                         \n",
       "⎢                                                                             \n",
       "⎢                                      __________                             \n",
       "⎢                                 2   ╱    2                                  \n",
       "⎢    y₁⋅cos(y₂)                -y₁ ⋅╲╱  sin (y₂)                              \n",
       "⎢    ──────────                ───────────────────                      0     \n",
       "⎢        _____                          _____                                 \n",
       "⎢       ╱   2                          ╱   2                                  \n",
       "⎣     ╲╱  y₁                         ╲╱  y₁                                   \n",
       "\n",
       "    ⎤\n",
       "    ⎥\n",
       "(y₃)⎥\n",
       "    ⎥\n",
       "    ⎥\n",
       "    ⎥\n",
       "    ⎥\n",
       "    ⎥\n",
       "    ⎥\n",
       "y₃) ⎥\n",
       "    ⎥\n",
       "    ⎥\n",
       "    ⎥\n",
       "    ⎥\n",
       "    ⎥\n",
       "    ⎥\n",
       "    ⎥\n",
       "    ⎥\n",
       "    ⎥\n",
       "    ⎥\n",
       "    ⎦"
      ]
     },
     "execution_count": 8,
     "metadata": {},
     "output_type": "execute_result"
    }
   ],
   "source": [
    "print \"The inverse of the Jacobian of the dy^i/dx^j where x's are cartesian and y's are spherical \"\n",
    "J2_inv =simplify(J_2.inverse_GE())\n",
    "simplify(J2_inv.subs({x_1:v.dot(e.i),x_2:v.dot(e.j),x_3:v.dot(e.k)}))"
   ]
  },
  {
   "cell_type": "markdown",
   "metadata": {},
   "source": [
    "taking the identity, $\\cos(2\\theta)=\\cos^2\\theta - sin^2\\theta = 2\\cos^2\\theta-1 = 1-2\\sin^2\\theta$ the denomiator common in the $\\mathbf J_{12}$ and $\\mathbf J_{22}$ can be simplified, $4\\sqrt{-\\cos(2 y_2)+1}\\sqrt{y_1^2} = 4 \\sqrt{-(1-2\\sin^2(y_2))+1}y_1 = \\sqrt(2)4\\sin(y_2)y_1$"
   ]
  },
  {
   "cell_type": "markdown",
   "metadata": {},
   "source": [
    "The numerator from the $\\mathbf J_{12}$ and $\\mathbf J_{22}$ terms can also be simplified ... using $\\sin(A\\pm B)=\\sin(A)\\cos(B)\\pm \\cos(A)\\sin(B) $ the numerator of $\\mathbf J_{12}$ is simplified as follows \n",
    "   \n",
    "$$\\sqrt(2) y_1^2 (\\sin(2y_2-y_3)+\\sin(2y_2+y3)) = \\sqrt(2) y_1^2 (\\sin(2 y_2)\\cos(y_3)- \\cos(2 y_2)\\sin(y3) + \\sin(2 y_2)\\cos(y_3 )+ \\cos(2 y_2)\\sin(y_3)) = \\sqrt(2) y_1^2 (2 \\sin(2 y_2)\\cos(y_3))$$  \n",
    "   \n",
    "and then the identity $\\sin(2\\theta) = 2\\sin\\theta\\cos\\theta$ gives ...\n",
    "   \n",
    "$$ \\sqrt(2) y_1^2 (2 \\sin(2 y_2)\\cos(y_3)) = \\sqrt(2) y_1^2 (4 \\sin y_2 \\cos y_2 \\cos y_3) $$\n",
    "   \n",
    "and now combining numerator and denominator ... \n",
    "   \n",
    "$$\\mathbf J_{12} = \\frac{\\sqrt(2) y_1^2 (4 \\sin y_2 \\cos y_2 \\cos y_3)}{\\sqrt(2)4\\sin(y_2)y_1} = y_1 ( \\cos y_2 \\cos y_3) $$\n",
    "  \n",
    "as the $\\sqrt 2$, the $y_1$'s and the 4's cancel. The same can be found for the $\\mathbf J_{22}$ term using similar identities in the numerator. The other components of the matrix contain terms like $\\sqrt{A^2} $ and if these are all reduced to $A$ then the matrix is the same as the Jacobian of the $dx^i/dy^j$. Sympy recognizes that in general, $\\sqrt{A^2}\\neq A$ but instead $|A|$ and so does not perform the simplification. It can be a challenge to produce the correct numbers from an expression or set of expressions that are not simplified completely, so it is a good idea to use wisdom and do things by hand."
   ]
  },
  {
   "cell_type": "markdown",
   "metadata": {
    "collapsed": true
   },
   "source": [
    "### Analysis of the Line Element\n",
    "\n",
    "$$ (d\\mathbf x)^2 = (dx^1)^2+(dx^2)^2+(dx^3)^2$$\n",
    "\n",
    "in the context of a change of variables, the metric tensor is used - but to change between two coordinate systems\n",
    "the cartesian $x^r=x^r(u^i)$ to the $u^i$ system the scale factors are used that relate cartesian to curvilinear, they are elements of the Jacobian matrix that relate one system to the other. For example the scale factors for the $u^i$ system might be $(h_1,h_2,h_3)$, then the *line element* becomes\n",
    "   \n",
    "$$ (d\\mathbf x)^2 = (h_1)^2(du^1)^2+(h_2)^2(du^2)^2+(h_3)^2(du^3)^2$$\n",
    "\n",
    "*because* the change in the variables $dx^i$ with respect to the $u^k$ system requires the Jacobian, and if for example the $u^k$ system was a Euclidean metric the variables can be derived easily\n",
    "   \n",
    "$$\\frac{dx^1}{du^1} = h_1, \\implies dx^1 = h_1 du^1 $$ \n",
    "   \n",
    "etc, then the line element is easily found through substitution. The general form of $dx^i$ in $n$ dimensions is \n",
    "   \n",
    "$$ dx^i = \\frac{\\partial x^i}{\\partial u^j}du^j = \\frac{\\partial x^i}{\\partial u^1}du^1 +\\frac{\\partial x^i}{\\partial u^2}du^2+\\cdots \\frac{\\partial x^i}{\\partial u^n}du^n $$\n",
    "   \n",
    "and so the scale factor becomes quite different (and the metric).\n",
    "   \n",
    "The line element is important, as it ensures that distance between two points is an invariant between coordinate systems. This is why it is often attached to the notion of the metric. The metric can also be associated with the concept of a dot product between two vectors defined on a surface transforming as $\\mathbf a^T \\mathbf G \\mathbf a$ and \n",
    "from the dot product the angle can be produced. As from differential geometry, we can expand the differential in the arc length function as follows ... \n",
    "   \n",
    "$$ (d\\mathbf x)^2   = \\left(\\frac{\\partial \\mathbf x}{\\partial u^p}du^p\\right)\\cdot\\left(\\frac{\\partial \\mathbf  x}{\\partial u^q}du^q\\right)$$\n",
    "   \n",
    "And the terms in brackets can be expanded.\n",
    "   \n",
    "$$ \\implies (d\\mathbf x)^2 = \\left(\\frac{\\partial\\mathbf x}{\\partial u^1}du^1 +\\frac{\\partial\\mathbf x}{\\partial u^2}du^2+\\frac{\\partial\\mathbf x}{\\partial u^3}du^3 \\right)\\left(\\frac{\\partial \\mathbf x}{\\partial u^1}du^1 +\\frac{\\partial \\mathbf x}{\\partial u^2}du^2+\\frac{\\partial \\mathbf x}{\\partial u^3}du^3 \\right)$$\n",
    "   \n",
    "\n"
   ]
  },
  {
   "cell_type": "markdown",
   "metadata": {
    "collapsed": true
   },
   "source": [
    "Therefore expanding\n",
    "\n",
    "$$ (d\\mathbf x)^2 = \\frac{\\partial\\mathbf x}{\\partial u^1}\\cdot \\frac{\\partial\\mathbf x}{\\partial u^1} (du^1)^2   +\\frac{\\partial\\mathbf x}{\\partial u^2}\\cdot\\frac{\\partial\\mathbf x}{\\partial u^2}(du^2)^2  +\\frac{\\partial\\mathbf x}{\\partial u^3}\\cdot\\frac{\\partial\\mathbf x}{\\partial u^3}(du^3)^2 +2\\frac{\\partial\\mathbf x}{\\partial u^1}\\cdot\\frac{\\partial\\mathbf x}{\\partial u^2}du^1 du^2+  2\\frac{\\partial\\mathbf x}{\\partial u^1}\\cdot\\frac{\\partial\\mathbf x}{\\partial u^3}du^1 du^3 +2\\frac{\\partial\\mathbf x}{\\partial u^2}\\cdot\\frac{\\partial\\mathbf x}{\\partial u^3}du^2 du^3$$"
   ]
  },
  {
   "cell_type": "markdown",
   "metadata": {},
   "source": [
    "thus we have that if $\\frac{\\partial\\mathbf x}{\\partial u^1}$ is orthogonal to $\\frac{\\partial\\mathbf x}{\\partial u^2}$ then the dot product $=0$ and likewise for all $\\frac{\\partial\\mathbf x}{\\partial u^i}\\cdot \\frac{\\partial\\mathbf x}{\\partial u^j}\\quad |\\quad i\\neq j$  \n",
    "\n",
    "Then this expression reduces to ...\n",
    "\n",
    "$$ (d\\mathbf x)^2 = \\frac{\\partial\\mathbf x}{\\partial u^1}\\cdot \\frac{\\partial\\mathbf x}{\\partial u^1} (du^1)^2   +\\frac{\\partial\\mathbf x}{\\partial u^2}\\cdot\\frac{\\partial\\mathbf x}{\\partial u^2}(du^2)^2  +\\frac{\\partial\\mathbf x}{\\partial u^3}\\cdot\\frac{\\partial\\mathbf x}{\\partial u^3}(du^3)^2 $$\n",
    "   \n",
    "and of course, the $\\frac{\\partial\\mathbf x}{\\partial u^i}$ are the unitary vectors *and these are* the components of the Jacobian matrix of $\\mathbf x$ with respect to $\\mathbf u$ and therefore the dot products are the result of the product defining the metric, $\\mathbf J^T \\mathbf J$ , hence we have that  $\\frac{\\partial\\mathbf x}{\\partial u^i} = h_i \\mathbf e^i $, then the dot product of these vectors with themselves produces $(h_i)^2$, therefore ...\n",
    "   \n",
    "$$ (d\\mathbf x)^2 = (h_1)^2 (du^1)^2+(h_2)^2 (du^2)^2+(h_3)^2 (du^3)^2 $$\n",
    "   \n",
    "and so $h_1 = \\sqrt g_{11} $ for *orthogonal systems*"
   ]
  },
  {
   "cell_type": "markdown",
   "metadata": {},
   "source": [
    "However if the system is not orthogonal, we already know that ...\n",
    "   \n",
    "$$ (d\\mathbf s)^2 = g_{11}\\ (du^1)(du^1)   +g_{22}\\ (du^2)(du^2)  +g_{33}\\ (du^3)(du^3) +2\\ g_{12}\\ (du^1) (du^2)+  2\\  g_{13}\\ (du^1)( du^3) +2\\ g_{23}\\ (du^2) (du^3)$$\n",
    "   \n",
    "where the metric is defined by ...\n",
    "   \n",
    "$$ \\left( \\begin{array}{ccc}\\ g_{11} & g_{12} & g_{13} \\\\ g_{21} & g_{22} & g_{23} \\\\ g_{31} & g_{32} & g_{33} \\end{array} \\right) $$\n",
    "   \n",
    "and the components $g_{ij} = \\frac{\\partial x^i}{\\partial u^j}\\frac{\\partial x^j}{\\partial u^i} $ and $g_{ij} = g_{ji}$\n",
    "   \n",
    "and is symmetric and positive definate, as $\\mathbf G= \\mathbf J^T \\mathbf J = \\frac{\\partial (x^1,x^2,x^3)}{\\partial (u^1, u^2,u^3)} ^T \\frac{\\partial (x^1,x^2,x^3)}{\\partial (u^1, u^2,u^3)} $\n",
    "\n",
    "> Apparently if $\\mathbf g$ is non-Euclidean, then there exists no coordinate system where $G=I$ the identity matrix, and so this approach using Jacobian matrices does not work - proof needed.\n",
    "\n",
    "Supposing $\\mathbf J = \\frac{\\partial \\bar{x}^i}{\\partial x^j}$ where $\\bar{x}^i$ is rectangular, then in $x^j$ the metric equals $\\mathbf J^T \\mathbf J$ but in $\\bar{x}^i$ the metric is the identity matrix. This can be shown above, in the example of spherical coordinates where the inverse metric is not orthogonal (not diagonal) and represents the rectangular space in spherical geometry. This is why we must define a concept called the conjugate metric tensor, that is the *inverse* of the metric tensor of $x^j$ defined as $ (\\mathbf J^T \\mathbf J )^{-1} $  \n",
    "\n",
    "### Transformation of the metric\n",
    "   \n",
    "The metric tensor is covariant, \n",
    "   \n",
    "$$ \\bar{g}_{pq} = g_{jk}\\frac{\\partial  x^j}{\\partial \\bar{x}^p}\\frac{\\partial x^k}{\\partial \\bar{x}^q}$$"
   ]
  },
  {
   "cell_type": "markdown",
   "metadata": {},
   "source": [
    "\n",
    "\n",
    "### Raising and lowering indices\n",
    "   \n",
    "#### definition. The inner product of a contravariant vector and a covariant tensor of 2nd order is a covariant vector. Therefore\n",
    "   \n",
    "$$T_i = g_{ij} T^j $$\n",
    "\n",
    "*defines* the operation of lowering indices of a contravariant vector. Equivalently \n",
    "   \n",
    "$$ T^i = g^{ij}T_j$$\n",
    "\n",
    "where $g^{ij} = (g_{ij})^{-1}$ is the inverse."
   ]
  },
  {
   "cell_type": "markdown",
   "metadata": {},
   "source": [
    "for a contravariant vector, a velocity, in the $x^r$ system, transforms into $u^i$ according to the rule  \n",
    "  \n",
    "  $$ \\frac{\\partial u^i}{\\partial t} = \\frac{\\partial u^i}{\\partial x^r} \\frac{\\partial x^r}{\\partial t}$$\n",
    "    \n",
    "relabelled $T^i = \\frac{\\partial u^i}{\\partial t}$ and $T^r = \\frac{\\partial u^r}{\\partial t}$ then\n",
    "   \n",
    "   $$ T_j = g_{ji}T^i = g_{ji}\\frac{\\partial u^i}{\\partial x^r}T^r $$\n",
    "   \n",
    "as the the sphere, the jacobian is built from the changes of the transformation *to cartesian*, or the partial derivatives of $\\mathbf x=\\mathbf x(u^i)$ to transform the vector *from cartesian* to the curvlinear system $u^i$ \n",
    "and since \n",
    "  $$ g_{ji}= g_{pq}\\frac{\\partial x^p}{\\partial u^j}\\frac{\\partial x^q}{\\partial u^i} $$\n",
    "\n",
    "   our equation becomes\n",
    "   \n",
    "$$ g_{ji}T^i =  \\left(\\frac{\\partial x^j}{\\partial u^i}\\frac{\\partial x^j}{\\partial u^i}\\right)\\frac{\\partial u^i}{\\partial x^r}T^r = \\frac{\\partial x^j}{\\partial u^i}\\left(\\frac{\\partial x^j}{\\partial u^i}\\frac{\\partial u^i}{\\partial x^r}\\right)T^r =  \\frac{\\partial x^j}{\\partial u^i} \\delta^j_r T^r =\\frac{\\partial x^j}{\\partial u^i} T^j = T_i$$\n",
    "   \n",
    "since $\\frac{\\partial x^j}{\\partial x^r} = \\delta^j_r $ and although the indices have changed, this seems to be the lowering of an index operation. It also seems to only work with the consideration of the idea that $g_{ji}=g_{ij}$ and $g_{ij}=0$ if $i\\neq j$. So a quick review of the method of multiplying contravariant vector by a covariant tensor of order 2 reveals ... ( arbitrarily changing the rectangular $x^i$'s to a barred notation to show how they are associated with the Tensors)"
   ]
  },
  {
   "cell_type": "markdown",
   "metadata": {},
   "source": [
    "$$ V_j = (T^i)(g_{ji}) = \\left(\\bar{ T^r } \\frac{\\partial u^i}{\\partial \\bar{x}^r}\\right) \\left(\\bar{g}_{pq}\\frac{\\partial \\bar{x}^p}{\\partial u^j}\\frac{\\partial \\bar{x}^q}{\\partial u^i} \\right) = \\color{red}{\\frac{\\partial u^i}{\\partial \\bar{x}^r}}\\color{blue}{ \\frac{\\partial \\bar{x}^q}{\\partial u^i} }\\color{black}{\\frac{\\partial \\bar{x}^p}{\\partial u^j} \\bar{T}^r \\bar{g}_{pq}} = \\delta_{\\color{red}{r}}^{\\color{blue}{q}}\\color{black}{\\frac{\\partial \\bar{x}^p}{\\partial u^j}} \\color{black}{\\bar{T}}^{\\color{red}{r}} \\color{black}{g}_{p\\color{blue}{q}} = \\color{black}{\\frac{\\partial \\bar{x}^p}{\\partial u^j} (\\bar{V})_{p} }$$"
   ]
  },
  {
   "cell_type": "markdown",
   "metadata": {},
   "source": [
    "what exactly does $\\bar{V}_p$ look like now ? I think its still $\\frac{\\partial x^p}{\\partial t}$, and this would be a contravariant velocity transformed to a covariant velocity - this needs to be checked out. I think the answer is in the use of the Kronecker delta, the $\\delta_r^q$ can cause the product to be $\\bar{T}^r g_{pr}$ , then \n",
    "this would be\n",
    "   \n",
    " $$V_j =\\frac{\\partial \\bar{x}^p}{\\partial u^j}\\bar{T}^r g_{pr} = \\frac{\\partial \\bar{x}^1}{\\partial u^j} (\\bar{T}^r g_{1r} ) + \\frac{\\partial \\bar{x}^2}{\\partial u^j} (\\bar{T}^r g_{2r} ) + \\frac{\\partial \\bar{x}^3}{\\partial u^j} (\\bar{T}^r g_{3r} )$$\n",
    " \n",
    " and so the tensor part is $(\\bar{T}^r g_{ir} ) = \\bar{T}^1 g_{i1} + \\bar{T}^2 g_{i2} + \\bar{T}^3 g_{i3}$ and so again, we ask, what is $\\bar{T}^r$ and clearly its just \n",
    " \n",
    " $$\\bar{T}^r = \\frac{\\partial x^r}{\\partial t}$$"
   ]
  },
  {
   "cell_type": "markdown",
   "metadata": {},
   "source": [
    "### example\n",
    "   \n",
    "Lets take a vector, represented in spherical coordinates, $(\\mathbf e^\\rho, \\mathbf e^\\theta, \\mathbf e^\\phi) = (\\mathbf e^1, \\mathbf e^2, \\mathbf e^3) $ and represent it in barred rectangular coordinates $(\\mathbf i, \\mathbf j,\\mathbf k)=(\\mathbf {\\hat{e}}^1,\\mathbf {\\hat{e}}^2,\\mathbf {\\hat{e}}^3)$ ..."
   ]
  },
  {
   "cell_type": "markdown",
   "metadata": {},
   "source": [
    "lets say, $\\mathbf v = 1.2  \\mathbf e^1 + \\pi 0.5  \\mathbf e^2 + \\pi  \\mathbf e^3 $ and transform this vector ...\n",
    "   \n",
    "$$\\frac{\\partial A^i}{\\partial t} = \\frac{\\partial A^i}{\\partial u^r}\\frac{\\partial u^r}{\\partial t} $$\n",
    "   \n",
    "Now $\\mathbf A$ must be $\\mathbf A = r\\ \\cos\\phi\\ \\sin\\theta\\ \\mathbf {\\hat{e}}^1 + r\\ \\sin\\phi\\ \\sin\\theta\\ \\mathbf {\\hat{e}}^2 + r\\ \\cos\\theta\\ \\mathbf {\\hat{e}}^3$ and for the derivatives of $\\mathbf A$ with respect to the $u$ system I will use the jacobian. \n",
    "\n",
    "$$\\left[\\begin{matrix}\\sin{\\left (y_{2} \\right )} \\cos{\\left (y_{3} \\right )} & y_{1} \\cos{\\left (y_{2} \\right )} \\cos{\\left (y_{3} \\right )} & - y_{1} \\sin{\\left (y_{2} \\right )} \\sin{\\left (y_{3} \\right )}\\\\\\sin{\\left (y_{2} \\right )} \\sin{\\left (y_{3} \\right )} & y_{1} \\sin{\\left (y_{3} \\right )} \\cos{\\left (y_{2} \\right )} & y_{1} \\sin{\\left (y_{2} \\right )} \\cos{\\left (y_{3} \\right )}\\\\\\cos{\\left (y_{2} \\right )} & - y_{1} \\sin{\\left (y_{2} \\right )} & 0\\end{matrix}\\right]$$\n",
    "   \n",
    "now I will first compute the derivatives for each $u^i$ ...\n",
    "\n",
    "   $$\\frac{\\partial u^1}{\\partial t} = v^1$$\n",
    "and\n",
    "   $$\\frac{\\partial u^2}{\\partial t} = v^2 $$\n",
    "and\n",
    "   $$\\frac{\\partial u^3}{\\partial t} = v^3 $$\n",
    "\n",
    "now in the code, the $u$ coordinates are labelled $y$ from earlier."
   ]
  },
  {
   "cell_type": "code",
   "execution_count": 9,
   "metadata": {
    "collapsed": false,
    "scrolled": true
   },
   "outputs": [
    {
     "data": {
      "text/latex": [
       "$$\\left[\\begin{matrix}- 3.14159 y_{1} \\sin{\\left (y_{2} \\right )} \\sin{\\left (y_{3} \\right )} + 1.570795 y_{1} \\cos{\\left (y_{2} \\right )} \\cos{\\left (y_{3} \\right )} + 1.2 \\sin{\\left (y_{2} \\right )} \\cos{\\left (y_{3} \\right )}\\\\3.14159 y_{1} \\sin{\\left (y_{2} \\right )} \\cos{\\left (y_{3} \\right )} + 1.570795 y_{1} \\sin{\\left (y_{3} \\right )} \\cos{\\left (y_{2} \\right )} + 1.2 \\sin{\\left (y_{2} \\right )} \\sin{\\left (y_{3} \\right )}\\\\- 1.570795 y_{1} \\sin{\\left (y_{2} \\right )} + 1.2 \\cos{\\left (y_{2} \\right )}\\end{matrix}\\right]$$"
      ],
      "text/plain": [
       "⎡-3.14159⋅y₁⋅sin(y₂)⋅sin(y₃) + 1.570795⋅y₁⋅cos(y₂)⋅cos(y₃) + 1.2⋅sin(y₂)⋅cos(y\n",
       "⎢                                                                             \n",
       "⎢3.14159⋅y₁⋅sin(y₂)⋅cos(y₃) + 1.570795⋅y₁⋅sin(y₃)⋅cos(y₂) + 1.2⋅sin(y₂)⋅sin(y₃\n",
       "⎢                                                                             \n",
       "⎣                      -1.570795⋅y₁⋅sin(y₂) + 1.2⋅cos(y₂)                     \n",
       "\n",
       "₃)⎤\n",
       "  ⎥\n",
       ") ⎥\n",
       "  ⎥\n",
       "  ⎦"
      ]
     },
     "execution_count": 9,
     "metadata": {},
     "output_type": "execute_result"
    }
   ],
   "source": [
    "t = symbols('t')\n",
    "v = Matrix([1.2, 0.5*3.14159,3.14159 ])\n",
    "dAdt = J_1*v\n",
    "dAdt"
   ]
  },
  {
   "cell_type": "code",
   "execution_count": 10,
   "metadata": {
    "collapsed": false
   },
   "outputs": [],
   "source": [
    "# earlier I forgot that the y_1 coordinate is the integral of its velocity - so I integrated these by hand\n",
    "dAdt = dAdt.subs({y_1:1.2*t, y_2:0.5*3.14159*t, y_3:3.14159*t})"
   ]
  },
  {
   "cell_type": "code",
   "execution_count": 11,
   "metadata": {
    "collapsed": false
   },
   "outputs": [
    {
     "name": "stderr",
     "output_type": "stream",
     "text": [
      "C:\\Users\\dave\\Anaconda\\lib\\site-packages\\matplotlib\\collections.py:590: FutureWarning: elementwise comparison failed; returning scalar instead, but in the future will perform elementwise comparison\n",
      "  if self._edgecolors == str('face'):\n"
     ]
    },
    {
     "data": {
      "image/png": "[encoded data removed]",
      "text/plain": [
       "<matplotlib.figure.Figure at 0x8bc1128>"
      ]
     },
     "metadata": {},
     "output_type": "display_data"
    }
   ],
   "source": [
    "from sympy import symbols, cos, sin\n",
    "from sympy.plotting import plot3d_parametric_line\n",
    "%matplotlib inline\n",
    "\n",
    "p1 = plot3d_parametric_line(dAdt[0], dAdt[1], dAdt[2], (t, 0, 1.5), show = False)\n",
    "\n",
    "p1.show()"
   ]
  },
  {
   "cell_type": "code",
   "execution_count": 12,
   "metadata": {
    "collapsed": false
   },
   "outputs": [
    {
     "data": {
      "text/latex": [
       "$$\\left[\\begin{matrix}1 & 0 & 0\\\\0 & y_{1}^{2} & 0\\\\0 & 0 & y_{1}^{2} \\sin^{2}{\\left (y_{2} \\right )}\\end{matrix}\\right]$$"
      ],
      "text/plain": [
       "⎡1   0        0      ⎤\n",
       "⎢                    ⎥\n",
       "⎢     2              ⎥\n",
       "⎢0  y₁        0      ⎥\n",
       "⎢                    ⎥\n",
       "⎢          2    2    ⎥\n",
       "⎣0   0   y₁ ⋅sin (y₂)⎦"
      ]
     },
     "execution_count": 12,
     "metadata": {},
     "output_type": "execute_result"
    }
   ],
   "source": [
    "(simplify(J_1.T * J_1))"
   ]
  },
  {
   "cell_type": "code",
   "execution_count": 13,
   "metadata": {
    "collapsed": false
   },
   "outputs": [
    {
     "data": {
      "text/latex": [
       "$$\\left[\\begin{matrix}1 & 0 & 0\\\\0 & \\frac{1}{y_{1}^{2}} & 0\\\\0 & 0 & \\frac{1}{y_{1}^{2} \\sin^{2}{\\left (y_{2} \\right )}}\\end{matrix}\\right]$$"
      ],
      "text/plain": [
       "⎡1   0        0      ⎤\n",
       "⎢                    ⎥\n",
       "⎢    1               ⎥\n",
       "⎢0  ───       0      ⎥\n",
       "⎢     2              ⎥\n",
       "⎢   y₁               ⎥\n",
       "⎢                    ⎥\n",
       "⎢             1      ⎥\n",
       "⎢0   0   ────────────⎥\n",
       "⎢          2    2    ⎥\n",
       "⎣        y₁ ⋅sin (y₂)⎦"
      ]
     },
     "execution_count": 13,
     "metadata": {},
     "output_type": "execute_result"
    }
   ],
   "source": [
    "simplify(J_1.T * J_1).inverse_ADJ()"
   ]
  },
  {
   "cell_type": "code",
   "execution_count": 14,
   "metadata": {
    "collapsed": false
   },
   "outputs": [
    {
     "name": "stdout",
     "output_type": "stream",
     "text": [
      "The apparent covariant velocity in spherical coordinates\n"
     ]
    },
    {
     "data": {
      "text/latex": [
       "$$\\left[\\begin{matrix}1.2\\\\2.2619448 t^{2}\\\\4.5238896 t^{2} \\sin^{2}{\\left (1.570795 t \\right )}\\end{matrix}\\right]$$"
      ],
      "text/plain": [
       "⎡             1.2             ⎤\n",
       "⎢                             ⎥\n",
       "⎢                   2         ⎥\n",
       "⎢        2.2619448⋅t          ⎥\n",
       "⎢                             ⎥\n",
       "⎢           2    2            ⎥\n",
       "⎣4.5238896⋅t ⋅sin (1.570795⋅t)⎦"
      ]
     },
     "execution_count": 14,
     "metadata": {},
     "output_type": "execute_result"
    }
   ],
   "source": [
    "# transform the original velocity by the metric to get the \n",
    "# covariant matrix : the original velocity is in spherical coordinates, so the covariant \n",
    "# velocity is in spherical coordinates\n",
    "dUdt_cov = simplify( J_1.T*J_1) * v\n",
    "dUdt_cov = dUdt_cov.subs({y_1:1.2*t, y_2:0.5*3.14159*t, y_3:3.14159*t})\n",
    "\n",
    "# make a vector of coordinates for convenience (this is x_1, x_2, x_3) with each of the \n",
    "# spherical velocity components integrated wrt time.\n",
    "V = Matrix([v[0]*t*cos(v[2]*t)*sin(v[1]*t),v[0]*t*sin(v[1]*t)*sin(v[2]*t),v[0]*t*cos(v[1]*t)])\n",
    "\n",
    "# multiply the covariant velocity by the inverse transpose of the transform Jacobian \n",
    "# to retrieve the same cartesian velocity vector as the contravariant case\n",
    "dAdt_cov2 = simplify(J_1.inverse_ADJ().T)*dUdt_cov\n",
    "dAdt_cov2 = dAdt_cov2.subs({y_1:v[0]*t, y_2:v[1]*t, y_3:v[2]*t}) \n",
    "\n",
    "# it does not have to be the inverse transpose ??? very confusing\n",
    "dAdt_cov = simplify(J_1.inverse_ADJ())*dUdt_cov\n",
    "dAdt_cov = dAdt_cov2.subs({y_1:v[0]*t, y_2:v[1]*t, y_3:v[2]*t}) \n",
    "\n",
    "# this should do the same thing ?\n",
    "#dAdt_cov = simplify(J_2).subs({x_1:V[0], x_2:V[1], x_3:V[2]}) *dUdt_cov \n",
    "\n",
    "p1 = plot3d_parametric_line(dAdt[0], dAdt[1], dAdt[2], (t, 0, 5.5), show=False)\n",
    "p1.extend(plot3d_parametric_line(dAdt_cov [0], dAdt_cov [1], dAdt_cov [2], (t, 0.1, 5.5), show=False, line_color = 'r') )\n",
    "#p1.extend(plot3d_parametric_line(dAdt_cov2 [0], dAdt_cov2 [1], dAdt_cov2 [2], (t, 0.1, 5.5), show=False, line_color = 'g') )\n",
    "\n",
    "print \"The apparent covariant velocity in spherical coordinates\"\n",
    "dUdt_cov"
   ]
  },
  {
   "cell_type": "code",
   "execution_count": 15,
   "metadata": {
    "collapsed": false
   },
   "outputs": [
    {
     "data": {
      "image/png": "[encoded data removed]",
      "text/plain": [
       "<matplotlib.figure.Figure at 0x9070ef0>"
      ]
     },
     "metadata": {},
     "output_type": "display_data"
    }
   ],
   "source": [
    "p1.show()\n",
    "# The green and blue lines are the same, this transform might be equivalent to simply \n",
    "# not multiplying by the metric component that is identity when multiplied by the jacobian part "
   ]
  },
  {
   "cell_type": "code",
   "execution_count": 16,
   "metadata": {
    "collapsed": false
   },
   "outputs": [
    {
     "data": {
      "text/latex": [
       "$$\\left[\\begin{matrix}- 3.769908 t \\sin{\\left (1.570795 t \\right )} \\sin{\\left (3.14159 t \\right )} + 1.884954 t \\cos{\\left (1.570795 t \\right )} \\cos{\\left (3.14159 t \\right )} + 1.2 \\sin{\\left (1.570795 t \\right )} \\cos{\\left (3.14159 t \\right )}\\\\3.769908 t \\sin{\\left (1.570795 t \\right )} \\cos{\\left (3.14159 t \\right )} + 1.884954 t \\sin{\\left (3.14159 t \\right )} \\cos{\\left (1.570795 t \\right )} + 1.2 \\sin{\\left (1.570795 t \\right )} \\sin{\\left (3.14159 t \\right )}\\\\- 1.884954 t \\sin{\\left (1.570795 t \\right )} + 1.2 \\cos{\\left (1.570795 t \\right )}\\end{matrix}\\right]$$"
      ],
      "text/plain": [
       "⎡-3.769908⋅t⋅sin(1.570795⋅t)⋅sin(3.14159⋅t) + 1.884954⋅t⋅cos(1.570795⋅t)⋅cos(3\n",
       "⎢                                                                             \n",
       "⎢3.769908⋅t⋅sin(1.570795⋅t)⋅cos(3.14159⋅t) + 1.884954⋅t⋅sin(3.14159⋅t)⋅cos(1.5\n",
       "⎢                                                                             \n",
       "⎣                                     -1.884954⋅t⋅sin(1.570795⋅t) + 1.2⋅cos(1.\n",
       "\n",
       ".14159⋅t) + 1.2⋅sin(1.570795⋅t)⋅cos(3.14159⋅t)⎤\n",
       "                                              ⎥\n",
       "70795⋅t) + 1.2⋅sin(1.570795⋅t)⋅sin(3.14159⋅t) ⎥\n",
       "                                              ⎥\n",
       "570795⋅t)                                     ⎦"
      ]
     },
     "execution_count": 16,
     "metadata": {},
     "output_type": "execute_result"
    }
   ],
   "source": [
    "dAdt_cov2"
   ]
  },
  {
   "cell_type": "code",
   "execution_count": 17,
   "metadata": {
    "collapsed": false
   },
   "outputs": [
    {
     "data": {
      "text/latex": [
       "$$\\left[\\begin{matrix}- 3.769908 t \\sin{\\left (1.570795 t \\right )} \\sin{\\left (3.14159 t \\right )} + 1.884954 t \\cos{\\left (1.570795 t \\right )} \\cos{\\left (3.14159 t \\right )} + 1.2 \\sin{\\left (1.570795 t \\right )} \\cos{\\left (3.14159 t \\right )}\\\\3.769908 t \\sin{\\left (1.570795 t \\right )} \\cos{\\left (3.14159 t \\right )} + 1.884954 t \\sin{\\left (3.14159 t \\right )} \\cos{\\left (1.570795 t \\right )} + 1.2 \\sin{\\left (1.570795 t \\right )} \\sin{\\left (3.14159 t \\right )}\\\\- 1.884954 t \\sin{\\left (1.570795 t \\right )} + 1.2 \\cos{\\left (1.570795 t \\right )}\\end{matrix}\\right]$$"
      ],
      "text/plain": [
       "⎡-3.769908⋅t⋅sin(1.570795⋅t)⋅sin(3.14159⋅t) + 1.884954⋅t⋅cos(1.570795⋅t)⋅cos(3\n",
       "⎢                                                                             \n",
       "⎢3.769908⋅t⋅sin(1.570795⋅t)⋅cos(3.14159⋅t) + 1.884954⋅t⋅sin(3.14159⋅t)⋅cos(1.5\n",
       "⎢                                                                             \n",
       "⎣                                     -1.884954⋅t⋅sin(1.570795⋅t) + 1.2⋅cos(1.\n",
       "\n",
       ".14159⋅t) + 1.2⋅sin(1.570795⋅t)⋅cos(3.14159⋅t)⎤\n",
       "                                              ⎥\n",
       "70795⋅t) + 1.2⋅sin(1.570795⋅t)⋅sin(3.14159⋅t) ⎥\n",
       "                                              ⎥\n",
       "570795⋅t)                                     ⎦"
      ]
     },
     "execution_count": 17,
     "metadata": {},
     "output_type": "execute_result"
    }
   ],
   "source": [
    "dAdt"
   ]
  },
  {
   "cell_type": "code",
   "execution_count": 18,
   "metadata": {
    "collapsed": false
   },
   "outputs": [
    {
     "data": {
      "text/latex": [
       "$$\\left[\\begin{matrix}- 3.769908 t \\sin{\\left (1.570795 t \\right )} \\sin{\\left (3.14159 t \\right )} + 1.884954 t \\cos{\\left (1.570795 t \\right )} \\cos{\\left (3.14159 t \\right )} + 1.2 \\sin{\\left (1.570795 t \\right )} \\cos{\\left (3.14159 t \\right )}\\\\3.769908 t \\sin{\\left (1.570795 t \\right )} \\cos{\\left (3.14159 t \\right )} + 1.884954 t \\sin{\\left (3.14159 t \\right )} \\cos{\\left (1.570795 t \\right )} + 1.2 \\sin{\\left (1.570795 t \\right )} \\sin{\\left (3.14159 t \\right )}\\\\- 1.884954 t \\sin{\\left (1.570795 t \\right )} + 1.2 \\cos{\\left (1.570795 t \\right )}\\end{matrix}\\right]$$"
      ],
      "text/plain": [
       "⎡-3.769908⋅t⋅sin(1.570795⋅t)⋅sin(3.14159⋅t) + 1.884954⋅t⋅cos(1.570795⋅t)⋅cos(3\n",
       "⎢                                                                             \n",
       "⎢3.769908⋅t⋅sin(1.570795⋅t)⋅cos(3.14159⋅t) + 1.884954⋅t⋅sin(3.14159⋅t)⋅cos(1.5\n",
       "⎢                                                                             \n",
       "⎣                                     -1.884954⋅t⋅sin(1.570795⋅t) + 1.2⋅cos(1.\n",
       "\n",
       ".14159⋅t) + 1.2⋅sin(1.570795⋅t)⋅cos(3.14159⋅t)⎤\n",
       "                                              ⎥\n",
       "70795⋅t) + 1.2⋅sin(1.570795⋅t)⋅sin(3.14159⋅t) ⎥\n",
       "                                              ⎥\n",
       "570795⋅t)                                     ⎦"
      ]
     },
     "execution_count": 18,
     "metadata": {},
     "output_type": "execute_result"
    }
   ],
   "source": [
    "dAdt_cov ## thought this would be the same"
   ]
  },
  {
   "cell_type": "code",
   "execution_count": 20,
   "metadata": {
    "collapsed": false
   },
   "outputs": [
    {
     "data": {
      "text/latex": [
       "$$\\left[\\begin{matrix}a_{1} \\sin{\\left (y_{2} \\right )} \\cos{\\left (y_{3} \\right )} + a_{2} y_{1} \\cos{\\left (y_{2} \\right )} \\cos{\\left (y_{3} \\right )} - a_{3} y_{1} \\sin{\\left (y_{2} \\right )} \\sin{\\left (y_{3} \\right )}\\\\a_{1} \\sin{\\left (y_{2} \\right )} \\sin{\\left (y_{3} \\right )} + a_{2} y_{1} \\sin{\\left (y_{3} \\right )} \\cos{\\left (y_{2} \\right )} + a_{3} y_{1} \\sin{\\left (y_{2} \\right )} \\cos{\\left (y_{3} \\right )}\\\\a_{1} \\cos{\\left (y_{2} \\right )} - a_{2} y_{1} \\sin{\\left (y_{2} \\right )}\\end{matrix}\\right]$$"
      ],
      "text/plain": [
       "⎡a₁⋅sin(y₂)⋅cos(y₃) + a₂⋅y₁⋅cos(y₂)⋅cos(y₃) - a₃⋅y₁⋅sin(y₂)⋅sin(y₃)⎤\n",
       "⎢                                                                  ⎥\n",
       "⎢a₁⋅sin(y₂)⋅sin(y₃) + a₂⋅y₁⋅sin(y₃)⋅cos(y₂) + a₃⋅y₁⋅sin(y₂)⋅cos(y₃)⎥\n",
       "⎢                                                                  ⎥\n",
       "⎣                    a₁⋅cos(y₂) - a₂⋅y₁⋅sin(y₂)                    ⎦"
      ]
     },
     "execution_count": 20,
     "metadata": {},
     "output_type": "execute_result"
    }
   ],
   "source": [
    "# what does the contravariant velocity look like symbolically?\n",
    "a_1,a_2,a_3 = symbols('a_1,a_2,a_3')\n",
    "v2 = Matrix([a_1,a_2,a_3])\n",
    "dAdt_2 = J_1 * v2\n",
    "dAdt_2\n",
    "# velocity in the cartesian coordinates"
   ]
  },
  {
   "cell_type": "code",
   "execution_count": 21,
   "metadata": {
    "collapsed": false
   },
   "outputs": [
    {
     "data": {
      "text/latex": [
       "$$\\left[\\begin{matrix}a_{1}\\\\a_{2}\\\\a_{3}\\end{matrix}\\right]$$"
      ],
      "text/plain": [
       "⎡a₁⎤\n",
       "⎢  ⎥\n",
       "⎢a₂⎥\n",
       "⎢  ⎥\n",
       "⎣a₃⎦"
      ]
     },
     "execution_count": 21,
     "metadata": {},
     "output_type": "execute_result"
    }
   ],
   "source": [
    "# and this contravariant velocity in the spherical coordinates\n",
    "v2"
   ]
  },
  {
   "cell_type": "code",
   "execution_count": 22,
   "metadata": {
    "collapsed": false
   },
   "outputs": [
    {
     "data": {
      "text/latex": [
       "$$\\left[\\begin{matrix}a_{1}\\\\a_{2} y_{1}^{2}\\\\a_{3} y_{1}^{2} \\sin^{2}{\\left (y_{2} \\right )}\\end{matrix}\\right]$$"
      ],
      "text/plain": [
       "⎡      a₁       ⎤\n",
       "⎢               ⎥\n",
       "⎢         2     ⎥\n",
       "⎢    a₂⋅y₁      ⎥\n",
       "⎢               ⎥\n",
       "⎢     2    2    ⎥\n",
       "⎣a₃⋅y₁ ⋅sin (y₂)⎦"
      ]
     },
     "execution_count": 22,
     "metadata": {},
     "output_type": "execute_result"
    }
   ],
   "source": [
    "# covariant velocity in the spherical coordinates\n",
    "dUdt_cov = simplify( J_1.T*J_1) * v2\n",
    "dUdt_cov"
   ]
  },
  {
   "cell_type": "code",
   "execution_count": 23,
   "metadata": {
    "collapsed": false
   },
   "outputs": [
    {
     "data": {
      "text/latex": [
       "$$\\left[\\begin{matrix}a_{1} \\sin{\\left (y_{2} \\right )} \\cos{\\left (y_{3} \\right )} + a_{2} y_{1} \\cos{\\left (y_{2} \\right )} \\cos{\\left (y_{3} \\right )} - a_{3} y_{1} \\sin{\\left (y_{2} \\right )} \\sin{\\left (y_{3} \\right )}\\\\a_{1} \\sin{\\left (y_{2} \\right )} \\sin{\\left (y_{3} \\right )} + a_{2} y_{1} \\sin{\\left (y_{3} \\right )} \\cos{\\left (y_{2} \\right )} + a_{3} y_{1} \\sin{\\left (y_{2} \\right )} \\cos{\\left (y_{3} \\right )}\\\\a_{1} \\cos{\\left (y_{2} \\right )} - a_{2} y_{1} \\sin{\\left (y_{2} \\right )}\\end{matrix}\\right]$$"
      ],
      "text/plain": [
       "⎡a₁⋅sin(y₂)⋅cos(y₃) + a₂⋅y₁⋅cos(y₂)⋅cos(y₃) - a₃⋅y₁⋅sin(y₂)⋅sin(y₃)⎤\n",
       "⎢                                                                  ⎥\n",
       "⎢a₁⋅sin(y₂)⋅sin(y₃) + a₂⋅y₁⋅sin(y₃)⋅cos(y₂) + a₃⋅y₁⋅sin(y₂)⋅cos(y₃)⎥\n",
       "⎢                                                                  ⎥\n",
       "⎣                    a₁⋅cos(y₂) - a₂⋅y₁⋅sin(y₂)                    ⎦"
      ]
     },
     "execution_count": 23,
     "metadata": {},
     "output_type": "execute_result"
    }
   ],
   "source": [
    "dAdt_cov2 = simplify(J_1.inverse_ADJ().T)*dUdt_cov\n",
    "dAdt_cov2\n",
    "# and we recover the vector in cartesian coordinates."
   ]
  },
  {
   "cell_type": "code",
   "execution_count": 24,
   "metadata": {
    "collapsed": false
   },
   "outputs": [
    {
     "data": {
      "text/latex": [
       "$$\\left[\\begin{matrix}a_{1} \\sin{\\left (y_{2} \\right )} \\cos{\\left (y_{3} \\right )} + a_{2} y_{1}^{2} \\sin{\\left (y_{2} \\right )} \\sin{\\left (y_{3} \\right )} + a_{3} y_{1}^{2} \\sin^{2}{\\left (y_{2} \\right )} \\cos{\\left (y_{2} \\right )}\\\\\\frac{a_{1}}{y_{1}} \\cos{\\left (y_{2} \\right )} \\cos{\\left (y_{3} \\right )} + a_{2} y_{1} \\sin{\\left (y_{3} \\right )} \\cos{\\left (y_{2} \\right )} - a_{3} y_{1} \\sin^{3}{\\left (y_{2} \\right )}\\\\- \\frac{a_{1} \\sin{\\left (y_{3} \\right )}}{y_{1} \\sin{\\left (y_{2} \\right )}} + \\frac{a_{2} y_{1} \\cos{\\left (y_{3} \\right )}}{\\sin{\\left (y_{2} \\right )}}\\end{matrix}\\right]$$"
      ],
      "text/plain": [
       "⎡                          2                        2    2            ⎤\n",
       "⎢a₁⋅sin(y₂)⋅cos(y₃) + a₂⋅y₁ ⋅sin(y₂)⋅sin(y₃) + a₃⋅y₁ ⋅sin (y₂)⋅cos(y₂)⎥\n",
       "⎢                                                                     ⎥\n",
       "⎢     a₁⋅cos(y₂)⋅cos(y₃)                                    3         ⎥\n",
       "⎢     ────────────────── + a₂⋅y₁⋅sin(y₃)⋅cos(y₂) - a₃⋅y₁⋅sin (y₂)     ⎥\n",
       "⎢             y₁                                                      ⎥\n",
       "⎢                                                                     ⎥\n",
       "⎢                      a₁⋅sin(y₃)   a₂⋅y₁⋅cos(y₃)                     ⎥\n",
       "⎢                    - ────────── + ─────────────                     ⎥\n",
       "⎣                      y₁⋅sin(y₂)      sin(y₂)                        ⎦"
      ]
     },
     "execution_count": 24,
     "metadata": {},
     "output_type": "execute_result"
    }
   ],
   "source": [
    "simplify(J_1.inverse_ADJ())*dUdt_cov\n",
    "## logic ... dadt = (J) v\n",
    "## so        dadt = (J^T)^(-1)(J^T)(J) v\n",
    "## if (J^T)(J) v = v_cov\n",
    "## then     dadt = (J^T)^(-1) v_cov"
   ]
  },
  {
   "cell_type": "markdown",
   "metadata": {},
   "source": [
    "Clearly if an expression is of the form $\\frac{\\partial x^j}{\\partial y^i} $ when i is the free index, the \n",
    "free index denotes the row of the Jacobian matrix, hence its a transposed matrix.\n"
   ]
  },
  {
   "cell_type": "markdown",
   "metadata": {},
   "source": [
    "### Example: Visualizing and Transforming a potential\n",
    "   \n",
    "A potential is given by $\\Phi = \\frac{C}{r} = \\frac{C}{\\sqrt{(x^1)^2 + (x^2)^2 +(x^3)^2}}$ where C is a constant.\n",
    "   \n",
    "> note: $\\sin(\\omega t)$ has *continuous* derivatives and is of class $C^{\\infty}$, i.e see electric potential, continuous time derivatives of force (mass*acceleration) etc.\n",
    "   \n",
    "$$\\nabla \\Phi = \\frac{\\partial \\Phi}{\\partial x^i}\\mathbf e^i $$\n",
    "   \n",
    "now the derivatives are ...\n",
    "   \n",
    "$$ \\frac{\\partial \\Phi}{\\partial x^i} = - \\frac{C\\ x^i }{\\left((x^1)^2 + (x^2)^2 +(x^3)^2\\right)^{3/2}} = - \\frac{C\\ x^i }{r^{3}}$$\n",
    "   \n",
    "since substituting $q = (x^1)^2 + (x^2)^2 +(x^3)^2$, then use the chain rule $\\Phi_q q_{x^i}$\n",
    "   \n",
    "\n"
   ]
  },
  {
   "cell_type": "markdown",
   "metadata": {},
   "source": [
    "to express $\\nabla \\Phi$ in the $y$ coordinate system ...\n",
    "   \n",
    "$$\\frac{\\partial \\Phi}{\\partial y^i} =\\frac{\\partial \\Phi}{\\partial x^j}\\frac{\\partial x^j}{\\partial y^i} $$\n",
    "   \n"
   ]
  },
  {
   "cell_type": "markdown",
   "metadata": {},
   "source": [
    "\n",
    "using the Jacobian matrix computed earlier \n",
    "   \n",
    "$$ \\mathbf J = \\left[\\begin{matrix}\\sin{\\left (y_{2} \\right )} \\cos{\\left (y_{3} \\right )} & y_{1} \\cos{\\left (y_{2} \\right )} \\cos{\\left (y_{3} \\right )} & - y_{1} \\sin{\\left (y_{2} \\right )} \\sin{\\left (y_{3} \\right )}\\\\\\sin{\\left (y_{2} \\right )} \\sin{\\left (y_{3} \\right )} & y_{1} \\sin{\\left (y_{3} \\right )} \\cos{\\left (y_{2} \\right )} & y_{1} \\sin{\\left (y_{2} \\right )} \\cos{\\left (y_{3} \\right )}\\\\\\cos{\\left (y_{2} \\right )} & - y_{1} \\sin{\\left (y_{2} \\right )} & 0\\end{matrix}\\right]$$\n",
    "\n",
    "we need to multiply the vector $[\\frac{\\partial \\Phi}{\\partial x^i} ]$ by the *transpose* of this Jacobian. (or transpose the vector and pre-multiply). "
   ]
  },
  {
   "cell_type": "code",
   "execution_count": 25,
   "metadata": {
    "collapsed": false
   },
   "outputs": [
    {
     "data": {
      "text/plain": [
       "'\\\\left[\\\\begin{matrix}\\\\sin{\\\\left (y_{2} \\\\right )} \\\\cos{\\\\left (y_{3} \\\\right )} & \\\\sin{\\\\left (y_{2} \\\\right )} \\\\sin{\\\\left (y_{3} \\\\right )} & \\\\cos{\\\\left (y_{2} \\\\right )}\\\\\\\\y_{1} \\\\cos{\\\\left (y_{2} \\\\right )} \\\\cos{\\\\left (y_{3} \\\\right )} & y_{1} \\\\sin{\\\\left (y_{3} \\\\right )} \\\\cos{\\\\left (y_{2} \\\\right )} & - y_{1} \\\\sin{\\\\left (y_{2} \\\\right )}\\\\\\\\- y_{1} \\\\sin{\\\\left (y_{2} \\\\right )} \\\\sin{\\\\left (y_{3} \\\\right )} & y_{1} \\\\sin{\\\\left (y_{2} \\\\right )} \\\\cos{\\\\left (y_{3} \\\\right )} & 0\\\\end{matrix}\\\\right]'"
      ]
     },
     "execution_count": 25,
     "metadata": {},
     "output_type": "execute_result"
    }
   ],
   "source": [
    "latex(J_1.T)"
   ]
  },
  {
   "cell_type": "markdown",
   "metadata": {},
   "source": [
    "The required matrix is ...\n",
    "   \n",
    "$$ \\mathbf J^T =\\left[\\begin{matrix}\\sin{\\left (y_{2} \\right )} \\cos{\\left (y_{3} \\right )} & \\sin{\\left (y_{2} \\right )} \\sin{\\left (y_{3} \\right )} & \\cos{\\left (y_{2} \\right )}\\\\y_{1} \\cos{\\left (y_{2} \\right )} \\cos{\\left (y_{3} \\right )} & y_{1} \\sin{\\left (y_{3} \\right )} \\cos{\\left (y_{2} \\right )} & - y_{1} \\sin{\\left (y_{2} \\right )}\\\\- y_{1} \\sin{\\left (y_{2} \\right )} \\sin{\\left (y_{3} \\right )} & y_{1} \\sin{\\left (y_{2} \\right )} \\cos{\\left (y_{3} \\right )} & 0\\end{matrix}\\right]$$\n",
    "\n",
    "and so ... \n",
    "\n",
    "$$ \\frac{\\partial \\Phi}{\\partial y^i} = \\mathbf J^T_{i1} \\frac{\\partial \\Phi}{\\partial x^1} + \\mathbf J^T_{i2} \\frac{\\partial \\Phi}{\\partial x^2}  +\\mathbf J^T_{i3} \\frac{\\partial \\Phi}{\\partial x^3} $$\n",
    "\n",
    "for each i.\n"
   ]
  },
  {
   "cell_type": "code",
   "execution_count": 26,
   "metadata": {
    "collapsed": false
   },
   "outputs": [
    {
     "data": {
      "text/latex": [
       "$$\\left[\\begin{matrix}f_{1} \\sin{\\left (y_{2} \\right )} \\cos{\\left (y_{3} \\right )} + f_{2} \\sin{\\left (y_{2} \\right )} \\sin{\\left (y_{3} \\right )} + f_{3} \\cos{\\left (y_{2} \\right )}\\\\f_{1} y_{1} \\cos{\\left (y_{2} \\right )} \\cos{\\left (y_{3} \\right )} + f_{2} y_{1} \\sin{\\left (y_{3} \\right )} \\cos{\\left (y_{2} \\right )} - f_{3} y_{1} \\sin{\\left (y_{2} \\right )}\\\\- f_{1} y_{1} \\sin{\\left (y_{2} \\right )} \\sin{\\left (y_{3} \\right )} + f_{2} y_{1} \\sin{\\left (y_{2} \\right )} \\cos{\\left (y_{3} \\right )}\\end{matrix}\\right]$$"
      ],
      "text/plain": [
       "⎡    f₁⋅sin(y₂)⋅cos(y₃) + f₂⋅sin(y₂)⋅sin(y₃) + f₃⋅cos(y₂)     ⎤\n",
       "⎢                                                             ⎥\n",
       "⎢f₁⋅y₁⋅cos(y₂)⋅cos(y₃) + f₂⋅y₁⋅sin(y₃)⋅cos(y₂) - f₃⋅y₁⋅sin(y₂)⎥\n",
       "⎢                                                             ⎥\n",
       "⎣       -f₁⋅y₁⋅sin(y₂)⋅sin(y₃) + f₂⋅y₁⋅sin(y₂)⋅cos(y₃)        ⎦"
      ]
     },
     "execution_count": 26,
     "metadata": {},
     "output_type": "execute_result"
    }
   ],
   "source": [
    "f_1,f_2,f_3=symbols('f_1,f_2,f_3')\n",
    "grad_phi = Matrix([f_1,f_2,f_3])\n",
    "grad_phi_cov_y=J_1.T * grad_phi\n",
    "grad_phi_cov_y"
   ]
  },
  {
   "cell_type": "markdown",
   "metadata": {},
   "source": [
    "The vector above is the gradient of $\\Phi$ in the y coordinate system, transformed from the x coordinate system. \n"
   ]
  },
  {
   "cell_type": "markdown",
   "metadata": {},
   "source": [
    "Then apparently the contravariant coefficients of the gradient in spherical coordinates are..."
   ]
  },
  {
   "cell_type": "code",
   "execution_count": 27,
   "metadata": {
    "collapsed": false
   },
   "outputs": [],
   "source": [
    "grad_phi_cont_y = (J_1.T * J_1).inverse_ADJ() *grad_phi_cov_y"
   ]
  },
  {
   "cell_type": "code",
   "execution_count": 28,
   "metadata": {
    "collapsed": false
   },
   "outputs": [
    {
     "data": {
      "text/latex": [
       "$$\\left[\\begin{matrix}f_{1} \\sin{\\left (y_{2} \\right )} \\cos{\\left (y_{3} \\right )} + f_{2} \\sin{\\left (y_{2} \\right )} \\sin{\\left (y_{3} \\right )} + f_{3} \\cos{\\left (y_{2} \\right )}\\\\\\frac{1}{y_{1}} \\left(f_{1} \\cos{\\left (y_{2} \\right )} \\cos{\\left (y_{3} \\right )} + f_{2} \\sin{\\left (y_{3} \\right )} \\cos{\\left (y_{2} \\right )} - f_{3} \\sin{\\left (y_{2} \\right )}\\right)\\\\\\frac{1}{y_{1} \\sin{\\left (y_{2} \\right )}} \\left(- f_{1} \\sin{\\left (y_{3} \\right )} + f_{2} \\cos{\\left (y_{3} \\right )}\\right)\\end{matrix}\\right]$$"
      ],
      "text/plain": [
       "⎡f₁⋅sin(y₂)⋅cos(y₃) + f₂⋅sin(y₂)⋅sin(y₃) + f₃⋅cos(y₂)⎤\n",
       "⎢                                                    ⎥\n",
       "⎢f₁⋅cos(y₂)⋅cos(y₃) + f₂⋅sin(y₃)⋅cos(y₂) - f₃⋅sin(y₂)⎥\n",
       "⎢────────────────────────────────────────────────────⎥\n",
       "⎢                         y₁                         ⎥\n",
       "⎢                                                    ⎥\n",
       "⎢              -f₁⋅sin(y₃) + f₂⋅cos(y₃)              ⎥\n",
       "⎢              ────────────────────────              ⎥\n",
       "⎣                     y₁⋅sin(y₂)                     ⎦"
      ]
     },
     "execution_count": 28,
     "metadata": {},
     "output_type": "execute_result"
    }
   ],
   "source": [
    "grad_phi_cont_y = simplify(grad_phi_cont_y)\n",
    "grad_phi_cont_y"
   ]
  },
  {
   "cell_type": "code",
   "execution_count": 29,
   "metadata": {
    "collapsed": false
   },
   "outputs": [
    {
     "data": {
      "text/latex": [
       "$$\\left[\\begin{matrix}f_{1}^{2} + f_{2}^{2} + f_{3}^{2}\\end{matrix}\\right]$$"
      ],
      "text/plain": [
       "⎡  2     2     2⎤\n",
       "⎣f₁  + f₂  + f₃ ⎦"
      ]
     },
     "execution_count": 29,
     "metadata": {},
     "output_type": "execute_result"
    }
   ],
   "source": [
    "simplify(grad_phi_cont_y.T*grad_phi_cov_y)"
   ]
  },
  {
   "cell_type": "markdown",
   "metadata": {},
   "source": [
    "Here we have resolved a fundamental theoretical problem ... the dot product of the contravariant components (in the y system) with the covariant components (in the y system) reveals the invariant dot product, the same as the dot product of the covariant components in the x system. I assume, for the moment, that the two components are equivalent in the x system because the metric of the cartesian system is the identity matrix.\n",
    "\n",
    "In this way it becomes clear that the curvilinear systems are embedded in the euclidean system."
   ]
  },
  {
   "cell_type": "markdown",
   "metadata": {},
   "source": [
    "### Derivative of a Tensor.\n",
    "   \n",
    "In a general coordinate system $x^i$ the covariant derivative with respect to $x^r$ is \n",
    "   \n",
    "$$\\nabla_r \\mathbf T_i = \\frac{\\partial \\mathbf T_i}{\\partial x^r} - \\Gamma^p_{ir} \\mathbf T_p $$\n",
    "   \n",
    "This is a tensor with covariant order 2. The quantity $\\Gamma^p_{ir}$ is a Christoffel symbol of the 2nd kind, and these are defined in terms of the Christoffel symbols of the first kind (by convention) \n",
    "   \n",
    "$$\\Gamma^p_{ir} = g^{pq}\\Gamma_{irq}$$\n",
    "   \n",
    "And the Christoffel symbols of the first kind are defined in terms of the metric...\n",
    "   \n",
    "$$\\Gamma_{abc} = \\frac{1}{2} \\left( \\frac{\\partial g_{bc}}{\\partial x^a}+\\frac{\\partial g_{ca}}{\\partial x^b}-\\frac{\\partial g_{ab}}{\\partial x^c}\\right)$$\n",
    "\n",
    "   Therefore the Christoffel symbols vanish if the metric has constant components (i.e no derivatives)."
   ]
  },
  {
   "cell_type": "markdown",
   "metadata": {},
   "source": [
    "#### Theoretical background\n",
    "   \n",
    "The covariant derivative was derived from the fact that the ordinary derivative of a covariant tensor was not a tensor, and in fact required a correction term."
   ]
  },
  {
   "cell_type": "markdown",
   "metadata": {},
   "source": [
    "### Covariant derivative of a contravariant vector.\n",
    "   \n",
    "$$\\nabla_r \\mathbf T^i = \\frac{\\partial \\mathbf T^i}{\\partial x^r} + \\Gamma^i_{qr} \\mathbf T^q$$"
   ]
  },
  {
   "cell_type": "code",
   "execution_count": 30,
   "metadata": {
    "collapsed": true
   },
   "outputs": [],
   "source": [
    "def christoffel_symbol_1(G, a, b, c, X):\n",
    "    return (S(1)/2)*(diff(G[b,c],X[a]) +diff(G[c,a],X[b])-diff(G[a,b],X[c]))\n",
    "    "
   ]
  },
  {
   "cell_type": "code",
   "execution_count": 31,
   "metadata": {
    "collapsed": true
   },
   "outputs": [],
   "source": [
    "metric_spherical = J_1.T * J_1"
   ]
  },
  {
   "cell_type": "code",
   "execution_count": 32,
   "metadata": {
    "collapsed": true
   },
   "outputs": [],
   "source": [
    "X = Matrix([y_1, y_2, y_3])"
   ]
  },
  {
   "cell_type": "code",
   "execution_count": 33,
   "metadata": {
    "collapsed": false,
    "scrolled": true
   },
   "outputs": [
    {
     "data": {
      "text/latex": [
       "$$\\left[\\begin{matrix}i & j & k & \\Gamma_{ijk}\\\\1 & 1 & 1 & 0\\\\2 & 1 & 1 & 0\\\\3 & 1 & 1 & 0\\\\1 & 2 & 1 & 0\\\\2 & 2 & 1 & - y_{1}\\\\3 & 2 & 1 & 0\\\\1 & 3 & 1 & 0\\\\2 & 3 & 1 & 0\\\\3 & 3 & 1 & - y_{1} \\sin^{2}{\\left (y_{2} \\right )}\\\\1 & 1 & 2 & 0\\\\2 & 1 & 2 & y_{1}\\\\3 & 1 & 2 & 0\\\\1 & 2 & 2 & y_{1}\\\\2 & 2 & 2 & 0\\\\3 & 2 & 2 & 0\\\\1 & 3 & 2 & 0\\\\2 & 3 & 2 & 0\\\\3 & 3 & 2 & - \\frac{y_{1}^{2}}{2} \\sin{\\left (2 y_{2} \\right )}\\\\1 & 1 & 3 & 0\\\\2 & 1 & 3 & 0\\\\3 & 1 & 3 & y_{1} \\sin^{2}{\\left (y_{2} \\right )}\\\\1 & 2 & 3 & 0\\\\2 & 2 & 3 & 0\\\\3 & 2 & 3 & \\frac{y_{1}^{2}}{2} \\sin{\\left (2 y_{2} \\right )}\\\\1 & 3 & 3 & y_{1} \\sin^{2}{\\left (y_{2} \\right )}\\\\2 & 3 & 3 & \\frac{y_{1}^{2}}{2} \\sin{\\left (2 y_{2} \\right )}\\\\3 & 3 & 3 & 0\\end{matrix}\\right]$$"
      ],
      "text/plain": [
       "⎡i  j  k       Γ_ijk     ⎤\n",
       "⎢                        ⎥\n",
       "⎢1  1  1         0       ⎥\n",
       "⎢                        ⎥\n",
       "⎢2  1  1         0       ⎥\n",
       "⎢                        ⎥\n",
       "⎢3  1  1         0       ⎥\n",
       "⎢                        ⎥\n",
       "⎢1  2  1         0       ⎥\n",
       "⎢                        ⎥\n",
       "⎢2  2  1        -y₁      ⎥\n",
       "⎢                        ⎥\n",
       "⎢3  2  1         0       ⎥\n",
       "⎢                        ⎥\n",
       "⎢1  3  1         0       ⎥\n",
       "⎢                        ⎥\n",
       "⎢2  3  1         0       ⎥\n",
       "⎢                        ⎥\n",
       "⎢                 2      ⎥\n",
       "⎢3  3  1   -y₁⋅sin (y₂)  ⎥\n",
       "⎢                        ⎥\n",
       "⎢1  1  2         0       ⎥\n",
       "⎢                        ⎥\n",
       "⎢2  1  2        y₁       ⎥\n",
       "⎢                        ⎥\n",
       "⎢3  1  2         0       ⎥\n",
       "⎢                        ⎥\n",
       "⎢1  2  2        y₁       ⎥\n",
       "⎢                        ⎥\n",
       "⎢2  2  2         0       ⎥\n",
       "⎢                        ⎥\n",
       "⎢3  2  2         0       ⎥\n",
       "⎢                        ⎥\n",
       "⎢1  3  2         0       ⎥\n",
       "⎢                        ⎥\n",
       "⎢2  3  2         0       ⎥\n",
       "⎢                        ⎥\n",
       "⎢            2           ⎥\n",
       "⎢         -y₁ ⋅sin(2⋅y₂) ⎥\n",
       "⎢3  3  2  ───────────────⎥\n",
       "⎢                2       ⎥\n",
       "⎢                        ⎥\n",
       "⎢1  1  3         0       ⎥\n",
       "⎢                        ⎥\n",
       "⎢2  1  3         0       ⎥\n",
       "⎢                        ⎥\n",
       "⎢                 2      ⎥\n",
       "⎢3  1  3    y₁⋅sin (y₂)  ⎥\n",
       "⎢                        ⎥\n",
       "⎢1  2  3         0       ⎥\n",
       "⎢                        ⎥\n",
       "⎢2  2  3         0       ⎥\n",
       "⎢                        ⎥\n",
       "⎢            2           ⎥\n",
       "⎢          y₁ ⋅sin(2⋅y₂) ⎥\n",
       "⎢3  2  3   ───────────── ⎥\n",
       "⎢                2       ⎥\n",
       "⎢                        ⎥\n",
       "⎢                 2      ⎥\n",
       "⎢1  3  3    y₁⋅sin (y₂)  ⎥\n",
       "⎢                        ⎥\n",
       "⎢            2           ⎥\n",
       "⎢          y₁ ⋅sin(2⋅y₂) ⎥\n",
       "⎢2  3  3   ───────────── ⎥\n",
       "⎢                2       ⎥\n",
       "⎢                        ⎥\n",
       "⎣3  3  3         0       ⎦"
      ]
     },
     "execution_count": 33,
     "metadata": {},
     "output_type": "execute_result"
    }
   ],
   "source": [
    "from sympy.matrices import *\n",
    "m = zeros(28,4)\n",
    "i,j,k,Gamma_ijk = symbols('i,j,k,Gamma_ijk')\n",
    "m[0,0]=i\n",
    "m[0,1]=j\n",
    "m[0,2]=k\n",
    "m[0,3]=Gamma_ijk\n",
    "## and to print them out you might have to unravel pythons mysteries too ...\n",
    "for a in range(0,3):\n",
    "    for b in range(0,3):\n",
    "        for c in range(0,3):\n",
    "            # puts this in matrix form with fancy text and indexing \n",
    "            m[(c*3 + b)*3 + a + 1,3]= simplify(christoffel_symbol_1(metric_spherical, a, b, c, X))\n",
    "            m[(c*3 + b)*3 + a + 1,0]=a+1\n",
    "            m[(c*3 + b)*3 + a + 1,1]=b+1\n",
    "            m[(c*3 + b)*3 + a + 1,2]=c+1\n",
    "m"
   ]
  },
  {
   "cell_type": "code",
   "execution_count": 34,
   "metadata": {
    "collapsed": false
   },
   "outputs": [
    {
     "data": {
      "image/png": "[encoded data removed]",
      "text/latex": [
       "$$- y_{1} \\sin^{2}{\\left (y_{2} \\right )}$$"
      ],
      "text/plain": [
       "       2    \n",
       "-y₁⋅sin (y₂)"
      ]
     },
     "execution_count": 34,
     "metadata": {},
     "output_type": "execute_result"
    }
   ],
   "source": [
    "def christoffel_symbol_2(G, p, a, b, X):\n",
    "    output = 0\n",
    "    G_inv = G.inverse_ADJ()\n",
    "    for c in range(0,3):\n",
    "        output += G_inv[p,c]*(S(1)/2)*(diff(G[b,c],X[a]) +diff(G[c,a],X[b])-diff(G[a,b],X[c]))\n",
    "    return output\n",
    "\n",
    "simplify(christoffel_symbol_2(metric_spherical, 0, 2, 2, X))"
   ]
  },
  {
   "cell_type": "code",
   "execution_count": 35,
   "metadata": {
    "collapsed": false
   },
   "outputs": [
    {
     "data": {
      "text/latex": [
       "$$\\left[\\begin{matrix}i & j & k & \\Gamma^{i}_{jk}\\\\1 & 1 & 1 & 0\\\\2 & 1 & 1 & 0\\\\3 & 1 & 1 & 0\\\\1 & 2 & 1 & 0\\\\2 & 2 & 1 & \\frac{1}{y_{1}}\\\\3 & 2 & 1 & 0\\\\1 & 3 & 1 & 0\\\\2 & 3 & 1 & 0\\\\3 & 3 & 1 & \\frac{1}{y_{1}}\\\\1 & 1 & 2 & 0\\\\2 & 1 & 2 & \\frac{1}{y_{1}}\\\\3 & 1 & 2 & 0\\\\1 & 2 & 2 & - y_{1}\\\\2 & 2 & 2 & 0\\\\3 & 2 & 2 & 0\\\\1 & 3 & 2 & 0\\\\2 & 3 & 2 & 0\\\\3 & 3 & 2 & \\frac{1}{\\tan{\\left (y_{2} \\right )}}\\\\1 & 1 & 3 & 0\\\\2 & 1 & 3 & 0\\\\3 & 1 & 3 & \\frac{1}{y_{1}}\\\\1 & 2 & 3 & 0\\\\2 & 2 & 3 & 0\\\\3 & 2 & 3 & \\frac{1}{\\tan{\\left (y_{2} \\right )}}\\\\1 & 3 & 3 & - y_{1} \\sin^{2}{\\left (y_{2} \\right )}\\\\2 & 3 & 3 & - \\frac{1}{2} \\sin{\\left (2 y_{2} \\right )}\\\\3 & 3 & 3 & 0\\end{matrix}\\right]$$"
      ],
      "text/plain": [
       "⎡i  j  k    Γ_jk__i   ⎤\n",
       "⎢                     ⎥\n",
       "⎢1  1  1       0      ⎥\n",
       "⎢                     ⎥\n",
       "⎢2  1  1       0      ⎥\n",
       "⎢                     ⎥\n",
       "⎢3  1  1       0      ⎥\n",
       "⎢                     ⎥\n",
       "⎢1  2  1       0      ⎥\n",
       "⎢                     ⎥\n",
       "⎢              1      ⎥\n",
       "⎢2  2  1       ──     ⎥\n",
       "⎢              y₁     ⎥\n",
       "⎢                     ⎥\n",
       "⎢3  2  1       0      ⎥\n",
       "⎢                     ⎥\n",
       "⎢1  3  1       0      ⎥\n",
       "⎢                     ⎥\n",
       "⎢2  3  1       0      ⎥\n",
       "⎢                     ⎥\n",
       "⎢              1      ⎥\n",
       "⎢3  3  1       ──     ⎥\n",
       "⎢              y₁     ⎥\n",
       "⎢                     ⎥\n",
       "⎢1  1  2       0      ⎥\n",
       "⎢                     ⎥\n",
       "⎢              1      ⎥\n",
       "⎢2  1  2       ──     ⎥\n",
       "⎢              y₁     ⎥\n",
       "⎢                     ⎥\n",
       "⎢3  1  2       0      ⎥\n",
       "⎢                     ⎥\n",
       "⎢1  2  2      -y₁     ⎥\n",
       "⎢                     ⎥\n",
       "⎢2  2  2       0      ⎥\n",
       "⎢                     ⎥\n",
       "⎢3  2  2       0      ⎥\n",
       "⎢                     ⎥\n",
       "⎢1  3  2       0      ⎥\n",
       "⎢                     ⎥\n",
       "⎢2  3  2       0      ⎥\n",
       "⎢                     ⎥\n",
       "⎢              1      ⎥\n",
       "⎢3  3  2    ───────   ⎥\n",
       "⎢           tan(y₂)   ⎥\n",
       "⎢                     ⎥\n",
       "⎢1  1  3       0      ⎥\n",
       "⎢                     ⎥\n",
       "⎢2  1  3       0      ⎥\n",
       "⎢                     ⎥\n",
       "⎢              1      ⎥\n",
       "⎢3  1  3       ──     ⎥\n",
       "⎢              y₁     ⎥\n",
       "⎢                     ⎥\n",
       "⎢1  2  3       0      ⎥\n",
       "⎢                     ⎥\n",
       "⎢2  2  3       0      ⎥\n",
       "⎢                     ⎥\n",
       "⎢              1      ⎥\n",
       "⎢3  2  3    ───────   ⎥\n",
       "⎢           tan(y₂)   ⎥\n",
       "⎢                     ⎥\n",
       "⎢                2    ⎥\n",
       "⎢1  3  3  -y₁⋅sin (y₂)⎥\n",
       "⎢                     ⎥\n",
       "⎢         -sin(2⋅y₂)  ⎥\n",
       "⎢2  3  3  ─────────── ⎥\n",
       "⎢              2      ⎥\n",
       "⎢                     ⎥\n",
       "⎣3  3  3       0      ⎦"
      ]
     },
     "execution_count": 35,
     "metadata": {},
     "output_type": "execute_result"
    }
   ],
   "source": [
    "m = zeros(28,4)\n",
    "i,j,k,Gamma_ijk = symbols('i,j,k,Gamma__i_jk')\n",
    "m[0,0]=i\n",
    "m[0,1]=j\n",
    "m[0,2]=k\n",
    "m[0,3]=Gamma_ijk\n",
    "## and to print them out you might have to unravel pythons mysteries too ...\n",
    "for a in range(0,3):\n",
    "    for b in range(0,3):\n",
    "        for c in range(0,3):\n",
    "            # puts this in matrix form with fancy text and indexing  \n",
    "            m[(c*3 + b)*3 + a + 1,3]= simplify(christoffel_symbol_2(metric_spherical, a, b, c, X))\n",
    "            m[(c*3 + b)*3 + a + 1,0]=a+1\n",
    "            m[(c*3 + b)*3 + a + 1,1]=b+1\n",
    "            m[(c*3 + b)*3 + a + 1,2]=c+1\n",
    "m"
   ]
  },
  {
   "cell_type": "code",
   "execution_count": 36,
   "metadata": {
    "collapsed": false
   },
   "outputs": [
    {
     "data": {
      "text/latex": [
       "$$\\left[\\begin{matrix}0 & 0 & 0\\\\0 & - y_{1} & 0\\\\0 & 0 & - y_{1} \\sin^{2}{\\left (y_{2} \\right )}\\end{matrix}\\right]$$"
      ],
      "text/plain": [
       "⎡0   0        0      ⎤\n",
       "⎢                    ⎥\n",
       "⎢0  -y₁       0      ⎥\n",
       "⎢                    ⎥\n",
       "⎢               2    ⎥\n",
       "⎣0   0   -y₁⋅sin (y₂)⎦"
      ]
     },
     "execution_count": 36,
     "metadata": {},
     "output_type": "execute_result"
    }
   ],
   "source": [
    "# alternative way of viewing Christoffel symbols of the 2nd kind\n",
    "metric_spherical = G_xy # defined above\n",
    "X = Matrix([y_1,y_2,y_3])\n",
    "gamma2 = []\n",
    "gamma2.append(zeros(3,3))\n",
    "gamma2.append(zeros(3,3))\n",
    "gamma2.append(zeros(3,3))\n",
    "for a in range(0,3):\n",
    "    for b in range(0,3):\n",
    "        for c in range(0,3):\n",
    "            # puts this in matrix form with fancy text and indexing  \n",
    "            gamma2[a][b,c] = simplify(christoffel_symbol_2(metric_spherical, a, b, c, X))\n",
    "            \n",
    "gamma2[0]"
   ]
  },
  {
   "cell_type": "code",
   "execution_count": 37,
   "metadata": {
    "collapsed": false
   },
   "outputs": [
    {
     "data": {
      "text/latex": [
       "$$\\left[\\begin{matrix}0 & \\frac{1}{y_{1}} & 0\\\\\\frac{1}{y_{1}} & 0 & 0\\\\0 & 0 & - \\frac{1}{2} \\sin{\\left (2 y_{2} \\right )}\\end{matrix}\\right]$$"
      ],
      "text/plain": [
       "⎡    1              ⎤\n",
       "⎢0   ──       0     ⎥\n",
       "⎢    y₁             ⎥\n",
       "⎢                   ⎥\n",
       "⎢1                  ⎥\n",
       "⎢──  0        0     ⎥\n",
       "⎢y₁                 ⎥\n",
       "⎢                   ⎥\n",
       "⎢        -sin(2⋅y₂) ⎥\n",
       "⎢0   0   ───────────⎥\n",
       "⎣             2     ⎦"
      ]
     },
     "execution_count": 37,
     "metadata": {},
     "output_type": "execute_result"
    }
   ],
   "source": [
    "gamma2[1]"
   ]
  },
  {
   "cell_type": "code",
   "execution_count": 38,
   "metadata": {
    "collapsed": false
   },
   "outputs": [
    {
     "data": {
      "text/latex": [
       "$$\\left[\\begin{matrix}0 & 0 & \\frac{1}{y_{1}}\\\\0 & 0 & \\frac{1}{\\tan{\\left (y_{2} \\right )}}\\\\\\frac{1}{y_{1}} & \\frac{1}{\\tan{\\left (y_{2} \\right )}} & 0\\end{matrix}\\right]$$"
      ],
      "text/plain": [
       "⎡               1    ⎤\n",
       "⎢0      0       ──   ⎥\n",
       "⎢               y₁   ⎥\n",
       "⎢                    ⎥\n",
       "⎢                1   ⎥\n",
       "⎢0      0     ───────⎥\n",
       "⎢             tan(y₂)⎥\n",
       "⎢                    ⎥\n",
       "⎢1      1            ⎥\n",
       "⎢──  ───────     0   ⎥\n",
       "⎣y₁  tan(y₂)         ⎦"
      ]
     },
     "execution_count": 38,
     "metadata": {},
     "output_type": "execute_result"
    }
   ],
   "source": [
    "gamma2[2]"
   ]
  },
  {
   "cell_type": "code",
   "execution_count": 39,
   "metadata": {
    "collapsed": false
   },
   "outputs": [
    {
     "data": {
      "text/latex": [
       "$$\\left[\\begin{matrix}y_{1}\\\\y_{2}\\\\y_{3}\\end{matrix}\\right]$$"
      ],
      "text/plain": [
       "⎡y₁⎤\n",
       "⎢  ⎥\n",
       "⎢y₂⎥\n",
       "⎢  ⎥\n",
       "⎣y₃⎦"
      ]
     },
     "execution_count": 39,
     "metadata": {},
     "output_type": "execute_result"
    }
   ],
   "source": [
    "X"
   ]
  },
  {
   "cell_type": "code",
   "execution_count": 40,
   "metadata": {
    "collapsed": false
   },
   "outputs": [
    {
     "data": {
      "text/latex": [
       "$$\\left[\\begin{matrix}0 & f_{1} \\cos{\\left (y_{2} \\right )} \\cos{\\left (y_{3} \\right )} + f_{2} \\sin{\\left (y_{3} \\right )} \\cos{\\left (y_{2} \\right )} - f_{3} \\sin{\\left (y_{2} \\right )} & 0\\\\f_{1} \\cos{\\left (y_{2} \\right )} \\cos{\\left (y_{3} \\right )} + f_{2} \\sin{\\left (y_{3} \\right )} \\cos{\\left (y_{2} \\right )} - f_{3} \\sin{\\left (y_{2} \\right )} & - y_{1} \\left(f_{1} \\sin{\\left (y_{2} \\right )} \\cos{\\left (y_{3} \\right )} + f_{2} \\sin{\\left (y_{2} \\right )} \\sin{\\left (y_{3} \\right )} + f_{3} \\cos{\\left (y_{2} \\right )}\\right) & 0\\\\0 & 0 & - y_{1} \\left(f_{1} \\cos{\\left (y_{3} \\right )} + f_{2} \\sin{\\left (y_{3} \\right )}\\right) \\sin{\\left (y_{2} \\right )}\\end{matrix}\\right]$$"
      ],
      "text/plain": [
       "⎡                         0                               f₁⋅cos(y₂)⋅cos(y₃) +\n",
       "⎢                                                                             \n",
       "⎢f₁⋅cos(y₂)⋅cos(y₃) + f₂⋅sin(y₃)⋅cos(y₂) - f₃⋅sin(y₂)  -y₁⋅(f₁⋅sin(y₂)⋅cos(y₃)\n",
       "⎢                                                                             \n",
       "⎣                         0                                                   \n",
       "\n",
       " f₂⋅sin(y₃)⋅cos(y₂) - f₃⋅sin(y₂)                       0                  ⎤\n",
       "                                                                          ⎥\n",
       " + f₂⋅sin(y₂)⋅sin(y₃) + f₃⋅cos(y₂))                    0                  ⎥\n",
       "                                                                          ⎥\n",
       "     0                               -y₁⋅(f₁⋅cos(y₃) + f₂⋅sin(y₃))⋅sin(y₂)⎦"
      ]
     },
     "execution_count": 40,
     "metadata": {},
     "output_type": "execute_result"
    }
   ],
   "source": [
    "d_r_T_j = zeros(3,3)\n",
    "\n",
    "# using our vector matrix, grad_phi_cov_y, \n",
    "# the covariant vector \n",
    "T = grad_phi_cov_y\n",
    "\n",
    "for r in range(0,3): # free index r\n",
    "    for j in range(0,3): # free index j\n",
    "        for p in range(0,3): # dummy index p\n",
    "        \n",
    "            # using our vector matrix X=[y_1,y_2, y_3]\n",
    "            d_r_T_j[r,j] = diff(T[j],Y[r]) - gamma2[p][r,j]*T[p] \n",
    "            \n",
    "            ## perhaps one of the other gamma2 systems \n",
    "            ## makes this calculation simpler getting a row at a time\n",
    "            ## i.e gamma stored as gamma2[c][a,b]\n",
    "\n",
    "simplify(d_r_T_j)"
   ]
  },
  {
   "cell_type": "markdown",
   "metadata": {},
   "source": [
    "The matrix above is a tensor, and is the Covariant derivative of the covariant vector grad_phi in spherical coordinates. I am not sure if this will be the same as the derivative in cartesian (I am not sure if the problem was expressed correctly to the machine)"
   ]
  },
  {
   "cell_type": "code",
   "execution_count": 41,
   "metadata": {
    "collapsed": false
   },
   "outputs": [
    {
     "data": {
      "text/latex": [
       "$$\\left[\\begin{matrix}\\frac{1}{y_{1}^{2}} \\left(f_{1} \\cos{\\left (y_{2} \\right )} \\cos{\\left (y_{3} \\right )} + f_{2} \\sin{\\left (y_{3} \\right )} \\cos{\\left (y_{2} \\right )} - f_{3} \\sin{\\left (y_{2} \\right )}\\right) \\left(y_{1} \\sin{\\left (y_{2} \\right )} \\cos{\\left (y_{2} \\right )} \\cos^{2}{\\left (y_{3} \\right )} + \\sin{\\left (y_{3} \\right )} \\cos^{2}{\\left (y_{2} \\right )} \\cos{\\left (y_{3} \\right )} + \\sin{\\left (y_{3} \\right )}\\right) & \\frac{1}{8 y_{1} \\sin{\\left (y_{2} \\right )}} \\left(- 4 f_{1} \\sin{\\left (2 y_{3} \\right )} + 4 f_{2} \\cos{\\left (2 y_{3} \\right )} - 4 f_{2} + 2 f_{3} y_{1} \\cos{\\left (2 y_{2} \\right )} - 2 f_{3} y_{1} \\cos{\\left (2 y_{3} \\right )} + f_{3} y_{1} \\cos{\\left (2 y_{2} - 2 y_{3} \\right )} + f_{3} y_{1} \\cos{\\left (2 y_{2} + 2 y_{3} \\right )} - 2 f_{3} y_{1} - f_{3} \\cos{\\left (2 y_{2} - 2 y_{3} \\right )} + f_{3} \\cos{\\left (2 y_{2} + 2 y_{3} \\right )}\\right) & \\frac{1}{y_{1}} \\left(f_{1} \\cos{\\left (y_{3} \\right )} + f_{2} \\sin{\\left (y_{3} \\right )}\\right) \\left(y_{1} \\sin{\\left (y_{2} \\right )} \\sin{\\left (y_{3} \\right )} - \\cos{\\left (y_{2} \\right )} \\cos{\\left (y_{3} \\right )}\\right) \\cos{\\left (y_{3} \\right )}\\\\\\frac{1}{y_{1}^{2}} \\left(\\frac{y_{1}}{8} \\left(\\cos{\\left (2 y_{2} - 2 y_{3} \\right )} - \\cos{\\left (2 y_{2} + 2 y_{3} \\right )}\\right) + \\sin^{2}{\\left (y_{3} \\right )} \\cos^{2}{\\left (y_{2} \\right )} - \\cos{\\left (y_{3} \\right )}\\right) \\left(f_{1} \\cos{\\left (y_{2} \\right )} \\cos{\\left (y_{3} \\right )} + f_{2} \\sin{\\left (y_{3} \\right )} \\cos{\\left (y_{2} \\right )} - f_{3} \\sin{\\left (y_{2} \\right )}\\right) & \\frac{1}{y_{1} \\sin{\\left (y_{2} \\right )}} \\left(- f_{1} \\sin^{2}{\\left (y_{3} \\right )} + f_{1} + f_{2} \\sin{\\left (y_{3} \\right )} \\cos{\\left (y_{3} \\right )} - f_{3} y_{1} \\sin^{2}{\\left (y_{2} \\right )} \\sin{\\left (y_{3} \\right )} \\cos{\\left (y_{3} \\right )} - f_{3} \\sin^{3}{\\left (y_{2} \\right )} \\sin^{2}{\\left (y_{3} \\right )} \\cos{\\left (y_{2} \\right )} - f_{3} \\sin{\\left (y_{2} \\right )} \\sin^{2}{\\left (y_{3} \\right )} \\cos^{3}{\\left (y_{2} \\right )}\\right) & \\frac{1}{y_{1}} \\left(f_{1} \\cos{\\left (y_{3} \\right )} + f_{2} \\sin{\\left (y_{3} \\right )}\\right) \\left(y_{1} \\sin{\\left (y_{2} \\right )} \\sin{\\left (y_{3} \\right )} - \\cos{\\left (y_{2} \\right )} \\cos{\\left (y_{3} \\right )}\\right) \\sin{\\left (y_{3} \\right )}\\\\\\frac{1}{y_{1}^{2}} \\left(y_{1} \\cos{\\left (y_{2} \\right )} \\cos{\\left (y_{3} \\right )} - \\sin{\\left (y_{2} \\right )} \\sin{\\left (y_{3} \\right )}\\right) \\left(f_{1} \\cos{\\left (y_{2} \\right )} \\cos{\\left (y_{3} \\right )} + f_{2} \\sin{\\left (y_{3} \\right )} \\cos{\\left (y_{2} \\right )} - f_{3} \\sin{\\left (y_{2} \\right )}\\right) \\cos{\\left (y_{2} \\right )} & - f_{3} \\cos{\\left (y_{2} \\right )} \\cos{\\left (y_{3} \\right )} + \\frac{f_{3}}{y_{1}} \\sin{\\left (y_{2} \\right )} \\sin{\\left (y_{3} \\right )} & \\frac{1}{y_{1}} \\left(f_{1} \\cos{\\left (y_{3} \\right )} + f_{2} \\sin{\\left (y_{3} \\right )}\\right) \\left(y_{1} \\sin{\\left (y_{3} \\right )} \\cos{\\left (y_{2} \\right )} + \\sin{\\left (y_{2} \\right )} \\cos{\\left (y_{3} \\right )}\\right)\\end{matrix}\\right]$$"
      ],
      "text/plain": [
       "⎡                                                          ⎛                  \n",
       "⎢   (f₁⋅cos(y₂)⋅cos(y₃) + f₂⋅sin(y₃)⋅cos(y₂) - f₃⋅sin(y₂))⋅⎝y₁⋅sin(y₂)⋅cos(y₂)\n",
       "⎢   ──────────────────────────────────────────────────────────────────────────\n",
       "⎢                                                                2            \n",
       "⎢                                                              y₁             \n",
       "⎢                                                                             \n",
       "⎢⎛y₁⋅(cos(2⋅y₂ - 2⋅y₃) - cos(2⋅y₂ + 2⋅y₃))      2        2              ⎞     \n",
       "⎢⎜──────────────────────────────────────── + sin (y₃)⋅cos (y₂) - cos(y₃)⎟⋅(f₁⋅\n",
       "⎢⎝                   8                                                  ⎠     \n",
       "⎢─────────────────────────────────────────────────────────────────────────────\n",
       "⎢                                                                2            \n",
       "⎢                                                              y₁             \n",
       "⎢                                                                             \n",
       "⎢             (y₁⋅cos(y₂)⋅cos(y₃) - sin(y₂)⋅sin(y₃))⋅(f₁⋅cos(y₂)⋅cos(y₃) + f₂⋅\n",
       "⎢             ────────────────────────────────────────────────────────────────\n",
       "⎢                                                                2            \n",
       "⎣                                                              y₁             \n",
       "\n",
       "    2                  2                      ⎞                               \n",
       "⋅cos (y₃) + sin(y₃)⋅cos (y₂)⋅cos(y₃) + sin(y₃)⎠     -4⋅f₁⋅sin(2⋅y₃) + 4⋅f₂⋅cos\n",
       "───────────────────────────────────────────────     ──────────────────────────\n",
       "                                                                              \n",
       "                                                                              \n",
       "                                                                              \n",
       "                                                                              \n",
       "cos(y₂)⋅cos(y₃) + f₂⋅sin(y₃)⋅cos(y₂) - f₃⋅sin(y₂))                            \n",
       "                                                                            - \n",
       "──────────────────────────────────────────────────                          ──\n",
       "                                                                              \n",
       "                                                                              \n",
       "                                                                              \n",
       "sin(y₃)⋅cos(y₂) - f₃⋅sin(y₂))⋅cos(y₂)                                         \n",
       "─────────────────────────────────────                                         \n",
       "                                                                              \n",
       "                                                                              \n",
       "\n",
       "                                                                              \n",
       "(2⋅y₃) - 4⋅f₂ + 2⋅f₃⋅y₁⋅cos(2⋅y₂) - 2⋅f₃⋅y₁⋅cos(2⋅y₃) + f₃⋅y₁⋅cos(2⋅y₂ - 2⋅y₃)\n",
       "──────────────────────────────────────────────────────────────────────────────\n",
       "                                                            8⋅y₁⋅sin(y₂)      \n",
       "                                                                              \n",
       "                                                                              \n",
       "                                                                              \n",
       "      2                                          2                            \n",
       "f₁⋅sin (y₃) + f₁ + f₂⋅sin(y₃)⋅cos(y₃) - f₃⋅y₁⋅sin (y₂)⋅sin(y₃)⋅cos(y₃) - f₃⋅si\n",
       "──────────────────────────────────────────────────────────────────────────────\n",
       "                                                            y₁⋅sin(y₂)        \n",
       "                                                                              \n",
       "                                                                              \n",
       "                                                                   f₃⋅sin(y₂)⋅\n",
       "                                             -f₃⋅cos(y₂)⋅cos(y₃) + ───────────\n",
       "                                                                           y₁ \n",
       "                                                                              \n",
       "\n",
       "                                                                              \n",
       " + f₃⋅y₁⋅cos(2⋅y₂ + 2⋅y₃) - 2⋅f₃⋅y₁ - f₃⋅cos(2⋅y₂ - 2⋅y₃) + f₃⋅cos(2⋅y₂ + 2⋅y₃\n",
       "──────────────────────────────────────────────────────────────────────────────\n",
       "                                                                              \n",
       "                                                                              \n",
       "                                                                              \n",
       "                                                                              \n",
       " 3        2                             2        3                            \n",
       "n (y₂)⋅sin (y₃)⋅cos(y₂) - f₃⋅sin(y₂)⋅sin (y₃)⋅cos (y₂)                        \n",
       "──────────────────────────────────────────────────────                        \n",
       "                                                                              \n",
       "                                                                              \n",
       "                                                                              \n",
       "sin(y₃)                                                                       \n",
       "───────                                                                       \n",
       "                                                                              \n",
       "                                                                              \n",
       "\n",
       "                                                                           ⎤\n",
       ")  (f₁⋅cos(y₃) + f₂⋅sin(y₃))⋅(y₁⋅sin(y₂)⋅sin(y₃) - cos(y₂)⋅cos(y₃))⋅cos(y₃)⎥\n",
       "─  ────────────────────────────────────────────────────────────────────────⎥\n",
       "                                      y₁                                   ⎥\n",
       "                                                                           ⎥\n",
       "                                                                           ⎥\n",
       "                                                                           ⎥\n",
       "                                                                           ⎥\n",
       "   (f₁⋅cos(y₃) + f₂⋅sin(y₃))⋅(y₁⋅sin(y₂)⋅sin(y₃) - cos(y₂)⋅cos(y₃))⋅sin(y₃)⎥\n",
       "   ────────────────────────────────────────────────────────────────────────⎥\n",
       "                                      y₁                                   ⎥\n",
       "                                                                           ⎥\n",
       "                                                                           ⎥\n",
       "       (f₁⋅cos(y₃) + f₂⋅sin(y₃))⋅(y₁⋅sin(y₃)⋅cos(y₂) + sin(y₂)⋅cos(y₃))    ⎥\n",
       "       ────────────────────────────────────────────────────────────────    ⎥\n",
       "                                      y₁                                   ⎥\n",
       "                                                                           ⎦"
      ]
     },
     "execution_count": 41,
     "metadata": {},
     "output_type": "execute_result"
    }
   ],
   "source": [
    "simplify(J_1.T.inverse_ADJ()*J_1.T.inverse_ADJ() * d_r_T_j) # presumably the rule of transformation rank 2 tensor"
   ]
  },
  {
   "cell_type": "code",
   "execution_count": 42,
   "metadata": {
    "collapsed": false
   },
   "outputs": [
    {
     "data": {
      "text/latex": [
       "$$\\left[\\begin{matrix}f_{1}\\\\f_{2}\\\\f_{3}\\end{matrix}\\right]$$"
      ],
      "text/plain": [
       "⎡f₁⎤\n",
       "⎢  ⎥\n",
       "⎢f₂⎥\n",
       "⎢  ⎥\n",
       "⎣f₃⎦"
      ]
     },
     "execution_count": 42,
     "metadata": {},
     "output_type": "execute_result"
    }
   ],
   "source": [
    "simplify(J_1.T.inverse_ADJ()*grad_phi_cov_y)"
   ]
  },
  {
   "cell_type": "markdown",
   "metadata": {},
   "source": [
    "Well I am confused for the moment, the 2nd order tensor I have constructed might not be correct - the rows should be the covariant derivative with respect to $y_r$ Also ..."
   ]
  },
  {
   "cell_type": "code",
   "execution_count": 43,
   "metadata": {
    "collapsed": false
   },
   "outputs": [
    {
     "data": {
      "image/png": "[encoded data removed]",
      "text/latex": [
       "$$0$$"
      ],
      "text/plain": [
       "0"
      ]
     },
     "execution_count": 43,
     "metadata": {},
     "output_type": "execute_result"
    }
   ],
   "source": [
    "diff(f_1,y_1) ### the above is wrong because we do not have f_1 as a function of y_1"
   ]
  },
  {
   "cell_type": "code",
   "execution_count": 44,
   "metadata": {
    "collapsed": false
   },
   "outputs": [
    {
     "name": "stdout",
     "output_type": "stream",
     "text": [
      "The Jacobian of the dx^i/dy^j where x's are cartesian and y's are spherical \n"
     ]
    },
    {
     "data": {
      "text/latex": [
       "$$\\left[\\begin{matrix}\\sin{\\left (y^{2} \\right )} \\cos{\\left (y^{3} \\right )} & y^{1} \\cos{\\left (y^{2} \\right )} \\cos{\\left (y^{3} \\right )} & - y^{1} \\sin{\\left (y^{2} \\right )} \\sin{\\left (y^{3} \\right )}\\\\\\sin{\\left (y^{2} \\right )} \\sin{\\left (y^{3} \\right )} & y^{1} \\sin{\\left (y^{3} \\right )} \\cos{\\left (y^{2} \\right )} & y^{1} \\sin{\\left (y^{2} \\right )} \\cos{\\left (y^{3} \\right )}\\\\\\cos{\\left (y^{2} \\right )} & - y^{1} \\sin{\\left (y^{2} \\right )} & 0\\end{matrix}\\right]$$"
      ],
      "text/plain": [
       "⎡sin(y²)⋅cos(y³)  y¹⋅cos(y²)⋅cos(y³)  -y¹⋅sin(y²)⋅sin(y³)⎤\n",
       "⎢                                                        ⎥\n",
       "⎢sin(y²)⋅sin(y³)  y¹⋅sin(y³)⋅cos(y²)  y¹⋅sin(y²)⋅cos(y³) ⎥\n",
       "⎢                                                        ⎥\n",
       "⎣    cos(y²)         -y¹⋅sin(y²)               0         ⎦"
      ]
     },
     "execution_count": 44,
     "metadata": {},
     "output_type": "execute_result"
    }
   ],
   "source": [
    "# lets reconstruct our bases using superscript notation\n",
    "x__1, x__2, x__3 = symbols('x__1, x__2, x__3')\n",
    "y__1, y__2, y__3 = symbols('y__1, y__2, y__3')\n",
    "\n",
    "v = y_1 * cos (y_3) * sin(y_2) * e.i+ y_1 * sin (y_3) * sin(y_2) * e.j +  y_1 * cos(y_2) * e.k\n",
    "v = v.subs( {y_1: y__1, y_2: y__2, y_3:y__3})\n",
    "V = sqrt( x_1**2 + x_2**2 + x_3**2) * sph.i + acos( x_3/sqrt( x_1**2 + x_2**2 + x_3**2)) * sph.j + atan(x_2/x_1) * sph.k\n",
    "\n",
    "X = Matrix([v.dot(e.i), v.dot(e.j),v.dot(e.k)])\n",
    "Y = Matrix([y__1, y__2, y__3])\n",
    "\n",
    "print \"The Jacobian of the dx^i/dy^j where x's are cartesian and y's are spherical \"\n",
    "J_1 = X.jacobian(Y)\n",
    "J_1"
   ]
  },
  {
   "cell_type": "code",
   "execution_count": 45,
   "metadata": {
    "collapsed": false
   },
   "outputs": [
    {
     "data": {
      "text/latex": [
       "$$\\left[\\begin{matrix}F_{1} \\sin{\\left (y^{2} \\right )} \\cos{\\left (y^{3} \\right )} + F_{2} \\sin{\\left (y^{2} \\right )} \\sin{\\left (y^{3} \\right )} + F_{3} \\cos{\\left (y^{2} \\right )}\\\\F_{1} y^{1} \\cos{\\left (y^{2} \\right )} \\cos{\\left (y^{3} \\right )} + F_{2} y^{1} \\sin{\\left (y^{3} \\right )} \\cos{\\left (y^{2} \\right )} - F_{3} y^{1} \\sin{\\left (y^{2} \\right )}\\\\- F_{1} y^{1} \\sin{\\left (y^{2} \\right )} \\sin{\\left (y^{3} \\right )} + F_{2} y^{1} \\sin{\\left (y^{2} \\right )} \\cos{\\left (y^{3} \\right )}\\end{matrix}\\right]$$"
      ],
      "text/plain": [
       "⎡    F₁⋅sin(y²)⋅cos(y³) + F₂⋅sin(y²)⋅sin(y³) + F₃⋅cos(y²)     ⎤\n",
       "⎢                                                             ⎥\n",
       "⎢F₁⋅y¹⋅cos(y²)⋅cos(y³) + F₂⋅y¹⋅sin(y³)⋅cos(y²) - F₃⋅y¹⋅sin(y²)⎥\n",
       "⎢                                                             ⎥\n",
       "⎣       -F₁⋅y¹⋅sin(y²)⋅sin(y³) + F₂⋅y¹⋅sin(y²)⋅cos(y³)        ⎦"
      ]
     },
     "execution_count": 45,
     "metadata": {},
     "output_type": "execute_result"
    }
   ],
   "source": [
    "# using another functional notation \n",
    "f__1, f__2, f__3 = symbols('f__1, f__2, f__3', cls=Function)\n",
    "# make them functions of the \n",
    "f__1 = Function('f__1')( y__1, y__2, y__3 ) \n",
    "f__2 = Function('f__2')( y__1, y__2, y__3 ) \n",
    "f__3 = Function('f__3')( y__1, y__2, y__3 )\n",
    "\n",
    "grad_phi = Matrix([f__1,f__2,f__3])\n",
    "\n",
    "F_1, F_2, F_3 = symbols('F_1, F_2, F_3')\n",
    "Phi_1, Phi_2, Phi_3 = symbols('Phi_1, Phi_2, Phi_3')\n",
    "\n",
    "grad_phi_cov_y=J_1.T * grad_phi\n",
    "#grad_phi_cov_y.subs( {f__1:F_1, f__2:F_2, f__3:F_3} )\n",
    "grad_phi_cov_y.subs( {f__1:F_1, f__2:F_2, f__3:F_3} )"
   ]
  },
  {
   "cell_type": "code",
   "execution_count": 46,
   "metadata": {
    "collapsed": false
   },
   "outputs": [],
   "source": [
    "diff_grad_phi_y = Matrix([ grad_phi_cov_y[0].diff(y__1), grad_phi_cov_y[1].diff(y__2),  grad_phi_cov_y[2].diff(y__3) ]) "
   ]
  },
  {
   "cell_type": "code",
   "execution_count": 47,
   "metadata": {
    "collapsed": false
   },
   "outputs": [
    {
     "data": {
      "text/latex": [
       "$$\\left[\\begin{matrix}\\sin{\\left (y^{2} \\right )} \\sin{\\left (y^{3} \\right )} \\frac{d}{d y^{1}} F_{2} + \\sin{\\left (y^{2} \\right )} \\cos{\\left (y^{3} \\right )} \\frac{d}{d y^{1}} F_{1} + \\cos{\\left (y^{2} \\right )} \\frac{d}{d y^{1}} F_{3}\\\\- F_{1} y^{1} \\sin{\\left (y^{2} \\right )} \\cos{\\left (y^{3} \\right )} - F_{2} y^{1} \\sin{\\left (y^{2} \\right )} \\sin{\\left (y^{3} \\right )} - F_{3} y^{1} \\cos{\\left (y^{2} \\right )} - y^{1} \\sin{\\left (y^{2} \\right )} \\frac{d}{d y^{2}} F_{3} + y^{1} \\sin{\\left (y^{3} \\right )} \\cos{\\left (y^{2} \\right )} \\frac{d}{d y^{2}} F_{2} + y^{1} \\cos{\\left (y^{2} \\right )} \\cos{\\left (y^{3} \\right )} \\frac{d}{d y^{2}} F_{1}\\\\- F_{1} y^{1} \\sin{\\left (y^{2} \\right )} \\cos{\\left (y^{3} \\right )} - F_{2} y^{1} \\sin{\\left (y^{2} \\right )} \\sin{\\left (y^{3} \\right )} - y^{1} \\sin{\\left (y^{2} \\right )} \\sin{\\left (y^{3} \\right )} \\frac{d}{d y^{3}} F_{1} + y^{1} \\sin{\\left (y^{2} \\right )} \\cos{\\left (y^{3} \\right )} \\frac{d}{d y^{3}} F_{2}\\end{matrix}\\right]$$"
      ],
      "text/plain": [
       "⎡                                                      d                      \n",
       "⎢                                     sin(y²)⋅sin(y³)⋅───(F₂) + sin(y²)⋅cos(y³\n",
       "⎢                                                     dy¹                     \n",
       "⎢                                                                             \n",
       "⎢                                                                             \n",
       "⎢-F₁⋅y¹⋅sin(y²)⋅cos(y³) - F₂⋅y¹⋅sin(y²)⋅sin(y³) - F₃⋅y¹⋅cos(y²) - y¹⋅sin(y²)⋅─\n",
       "⎢                                                                            d\n",
       "⎢                                                                             \n",
       "⎢                                                                             \n",
       "⎢                  -F₁⋅y¹⋅sin(y²)⋅cos(y³) - F₂⋅y¹⋅sin(y²)⋅sin(y³) - y¹⋅sin(y²)\n",
       "⎣                                                                             \n",
       "\n",
       "   d                 d                                          ⎤\n",
       ")⋅───(F₁) + cos(y²)⋅───(F₃)                                     ⎥\n",
       "  dy¹               dy¹                                         ⎥\n",
       "                                                                ⎥\n",
       "d                            d                            d     ⎥\n",
       "──(F₃) + y¹⋅sin(y³)⋅cos(y²)⋅───(F₂) + y¹⋅cos(y²)⋅cos(y³)⋅───(F₁)⎥\n",
       "y²                          dy²                          dy²    ⎥\n",
       "                                                                ⎥\n",
       "          d                            d                        ⎥\n",
       "⋅sin(y³)⋅───(F₁) + y¹⋅sin(y²)⋅cos(y³)⋅───(F₂)                   ⎥\n",
       "         dy³                          dy³                       ⎦"
      ]
     },
     "execution_count": 47,
     "metadata": {},
     "output_type": "execute_result"
    }
   ],
   "source": [
    "diff_grad_phi_y.subs( {f__1:F_1, f__2:F_2, f__3:F_3} )"
   ]
  },
  {
   "cell_type": "code",
   "execution_count": 48,
   "metadata": {
    "collapsed": false
   },
   "outputs": [
    {
     "data": {
      "text/latex": [
       "$$\\left[\\begin{matrix}0 & 0 & 0\\\\0 & - y^{1} & 0\\\\0 & 0 & - y^{1} \\sin^{2}{\\left (y^{2} \\right )}\\end{matrix}\\right]$$"
      ],
      "text/plain": [
       "⎡0   0        0      ⎤\n",
       "⎢                    ⎥\n",
       "⎢0  -y¹       0      ⎥\n",
       "⎢                    ⎥\n",
       "⎢               2    ⎥\n",
       "⎣0   0   -y¹⋅sin (y²)⎦"
      ]
     },
     "execution_count": 48,
     "metadata": {},
     "output_type": "execute_result"
    }
   ],
   "source": [
    "metric_spherical = J_1.T*J_1\n",
    "\n",
    "### reconstruct gamma2\n",
    "gamma2 = []\n",
    "gamma2.append(zeros(3,3))\n",
    "gamma2.append(zeros(3,3))\n",
    "gamma2.append(zeros(3,3))\n",
    "for a in range(0,3):\n",
    "    for b in range(0,3):\n",
    "        for c in range(0,3):\n",
    "            # puts this in matrix form with fancy text and indexing  \n",
    "            gamma2[a][b,c] = simplify(christoffel_symbol_2(metric_spherical, a, b, c, Y))\n",
    "            \n",
    "gamma2[0]"
   ]
  },
  {
   "cell_type": "code",
   "execution_count": 49,
   "metadata": {
    "collapsed": false
   },
   "outputs": [
    {
     "data": {
      "text/latex": [
       "$$\\left[\\begin{matrix}\\sin{\\left (y^{2} \\right )} \\sin{\\left (y^{3} \\right )} \\frac{d^{2}}{d y^{1}^{2}}  F_{2} + \\sin{\\left (y^{2} \\right )} \\cos{\\left (y^{3} \\right )} \\frac{d^{2}}{d y^{1}^{2}}  F_{1} + \\cos{\\left (y^{2} \\right )} \\frac{d^{2}}{d y^{1}^{2}}  F_{3} & - F_{1} \\sin{\\left (y^{2} \\right )} \\cos{\\left (y^{3} \\right )} - F_{2} \\sin{\\left (y^{2} \\right )} \\sin{\\left (y^{3} \\right )} - F_{3} \\cos{\\left (y^{2} \\right )} - y^{1} \\sin{\\left (y^{2} \\right )} \\sin{\\left (y^{3} \\right )} \\frac{d}{d y^{1}} F_{2} - y^{1} \\sin{\\left (y^{2} \\right )} \\cos{\\left (y^{3} \\right )} \\frac{d}{d y^{1}} F_{1} - y^{1} \\sin{\\left (y^{2} \\right )} \\frac{d^{2}}{d y^{1}d y^{2}}  F_{3} + y^{1} \\sin{\\left (y^{3} \\right )} \\cos{\\left (y^{2} \\right )} \\frac{d^{2}}{d y^{1}d y^{2}}  F_{2} + y^{1} \\cos{\\left (y^{2} \\right )} \\cos{\\left (y^{3} \\right )} \\frac{d^{2}}{d y^{1}d y^{2}}  F_{1} - y^{1} \\cos{\\left (y^{2} \\right )} \\frac{d}{d y^{1}} F_{3} - \\sin{\\left (y^{2} \\right )} \\frac{d}{d y^{2}} F_{3} + \\sin{\\left (y^{3} \\right )} \\cos{\\left (y^{2} \\right )} \\frac{d}{d y^{2}} F_{2} + \\cos{\\left (y^{2} \\right )} \\cos{\\left (y^{3} \\right )} \\frac{d}{d y^{2}} F_{1} & y^{1} \\left(- \\sin{\\left (y^{3} \\right )} \\frac{d}{d y^{1}} F_{2} - \\sin{\\left (y^{3} \\right )} \\frac{d^{2}}{d y^{1}d y^{3}}  F_{1} - \\cos{\\left (y^{3} \\right )} \\frac{d}{d y^{1}} F_{1} + \\cos{\\left (y^{3} \\right )} \\frac{d^{2}}{d y^{1}d y^{3}}  F_{2}\\right) \\sin{\\left (y^{2} \\right )}\\\\\\sin{\\left (y^{2} \\right )} \\sin{\\left (y^{3} \\right )} \\frac{d^{2}}{d y^{1}d y^{2}}  F_{2} + \\sin{\\left (y^{2} \\right )} \\cos{\\left (y^{3} \\right )} \\frac{d^{2}}{d y^{1}d y^{2}}  F_{1} - \\sin{\\left (y^{2} \\right )} \\frac{d}{d y^{1}} F_{3} + \\sin{\\left (y^{3} \\right )} \\cos{\\left (y^{2} \\right )} \\frac{d}{d y^{1}} F_{2} + \\cos{\\left (y^{2} \\right )} \\cos{\\left (y^{3} \\right )} \\frac{d}{d y^{1}} F_{1} + \\cos{\\left (y^{2} \\right )} \\frac{d^{2}}{d y^{1}d y^{2}}  F_{3} & y^{1} \\left(- F_{1} \\cos{\\left (y^{2} \\right )} \\cos{\\left (y^{3} \\right )} - F_{2} \\sin{\\left (y^{3} \\right )} \\cos{\\left (y^{2} \\right )} + F_{3} \\sin{\\left (y^{2} \\right )} - 2 \\sin{\\left (y^{2} \\right )} \\sin{\\left (y^{3} \\right )} \\frac{d}{d y^{2}} F_{2} - 2 \\sin{\\left (y^{2} \\right )} \\cos{\\left (y^{3} \\right )} \\frac{d}{d y^{2}} F_{1} - \\sin{\\left (y^{2} \\right )} \\frac{d^{2}}{d y^{2}^{2}}  F_{3} + \\sin{\\left (y^{3} \\right )} \\cos{\\left (y^{2} \\right )} \\frac{d^{2}}{d y^{2}^{2}}  F_{2} + \\cos{\\left (y^{2} \\right )} \\cos{\\left (y^{3} \\right )} \\frac{d^{2}}{d y^{2}^{2}}  F_{1} - 2 \\cos{\\left (y^{2} \\right )} \\frac{d}{d y^{2}} F_{3}\\right) & y^{1} \\left(- \\sin{\\left (y^{3} \\right )} \\frac{d}{d y^{2}} F_{2} - \\sin{\\left (y^{3} \\right )} \\frac{d^{2}}{d y^{2}d y^{3}}  F_{1} - \\cos{\\left (y^{3} \\right )} \\frac{d}{d y^{2}} F_{1} + \\cos{\\left (y^{3} \\right )} \\frac{d^{2}}{d y^{2}d y^{3}}  F_{2}\\right) \\sin{\\left (y^{2} \\right )}\\\\F_{1} \\sin{\\left (y^{2} \\right )} \\cos{\\left (y^{3} \\right )} + F_{2} \\sin{\\left (y^{2} \\right )} \\sin{\\left (y^{3} \\right )} - \\sin{\\left (y^{2} \\right )} \\sin{\\left (y^{3} \\right )} \\frac{d}{d y^{1}} F_{1} + \\sin{\\left (y^{2} \\right )} \\sin{\\left (y^{3} \\right )} \\frac{d}{d y^{3}} F_{1} + \\sin{\\left (y^{2} \\right )} \\sin{\\left (y^{3} \\right )} \\frac{d^{2}}{d y^{1}d y^{3}}  F_{2} + \\sin{\\left (y^{2} \\right )} \\cos{\\left (y^{3} \\right )} \\frac{d}{d y^{1}} F_{2} - \\sin{\\left (y^{2} \\right )} \\cos{\\left (y^{3} \\right )} \\frac{d}{d y^{3}} F_{2} + \\sin{\\left (y^{2} \\right )} \\cos{\\left (y^{3} \\right )} \\frac{d^{2}}{d y^{1}d y^{3}}  F_{1} + \\cos{\\left (y^{2} \\right )} \\frac{d^{2}}{d y^{1}d y^{3}}  F_{3} & y^{1} \\left(F_{1} \\cos{\\left (y^{2} - y^{3} \\right )} - F_{2} \\sin{\\left (y^{2} - y^{3} \\right )} - \\sin{\\left (y^{2} \\right )} \\frac{d^{2}}{d y^{2}d y^{3}}  F_{3} - \\sin{\\left (y^{3} \\right )} \\cos{\\left (y^{2} \\right )} \\frac{d}{d y^{2}} F_{1} + \\sin{\\left (y^{3} \\right )} \\cos{\\left (y^{2} \\right )} \\frac{d^{2}}{d y^{2}d y^{3}}  F_{2} - \\sin{\\left (y^{2} - y^{3} \\right )} \\frac{d}{d y^{3}} F_{1} + \\cos{\\left (y^{2} \\right )} \\cos{\\left (y^{3} \\right )} \\frac{d}{d y^{2}} F_{2} + \\cos{\\left (y^{2} \\right )} \\cos{\\left (y^{3} \\right )} \\frac{d^{2}}{d y^{2}d y^{3}}  F_{1} - \\cos{\\left (y^{2} \\right )} \\frac{d}{d y^{3}} F_{3} - \\cos{\\left (y^{2} - y^{3} \\right )} \\frac{d}{d y^{3}} F_{2}\\right) & y^{1} \\left(F_{1} \\sin{\\left (y^{3} \\right )} - F_{2} \\cos{\\left (y^{3} \\right )} - 2 \\sin{\\left (y^{3} \\right )} \\frac{d}{d y^{3}} F_{2} - \\sin{\\left (y^{3} \\right )} \\frac{d^{2}}{d y^{3}^{2}}  F_{1} - 2 \\cos{\\left (y^{3} \\right )} \\frac{d}{d y^{3}} F_{1} + \\cos{\\left (y^{3} \\right )} \\frac{d^{2}}{d y^{3}^{2}}  F_{2}\\right) \\sin{\\left (y^{2} \\right )}\\end{matrix}\\right]$$"
      ],
      "text/plain": [
       "⎡                                                                             \n",
       "⎢                                                                             \n",
       "⎢                                                                             \n",
       "⎢                                                                             \n",
       "⎢                                                                             \n",
       "⎢                                                                             \n",
       "⎢                                                          2                  \n",
       "⎢                                                         d                   \n",
       "⎢                                      sin(y²)⋅sin(y³)⋅───────(F₂) + sin(y²)⋅c\n",
       "⎢                                                      dy² dy¹                \n",
       "⎢                                                                             \n",
       "⎢                                                                             \n",
       "⎢                                                                             \n",
       "⎢                                                           d                 \n",
       "⎢F₁⋅sin(y²)⋅cos(y³) + F₂⋅sin(y²)⋅sin(y³) - sin(y²)⋅sin(y³)⋅───(F₁) + sin(y²)⋅s\n",
       "⎢                                                          dy¹                \n",
       "⎣                                                                             \n",
       "\n",
       "                  2                          2                  2             \n",
       "                 d                          d                  d              \n",
       "sin(y²)⋅sin(y³)⋅────(F₂) + sin(y²)⋅cos(y³)⋅────(F₁) + cos(y²)⋅────(F₃)        \n",
       "                   2                          2                  2            \n",
       "                dy¹                        dy¹                dy¹             \n",
       "                                                                              \n",
       "           2                                                                  \n",
       "          d                   d                         d                     \n",
       "os(y³)⋅───────(F₁) - sin(y²)⋅───(F₃) + sin(y³)⋅cos(y²)⋅───(F₂) + cos(y²)⋅cos(y\n",
       "       dy² dy¹               dy¹                       dy¹                    \n",
       "                                                                              \n",
       "                                                                              \n",
       "                                     2                                        \n",
       "        d                           d                           d             \n",
       "in(y³)⋅───(F₁) + sin(y²)⋅sin(y³)⋅───────(F₂) + sin(y²)⋅cos(y³)⋅───(F₂) - sin(y\n",
       "       dy³                       dy³ dy¹                       dy¹            \n",
       "                                                                              \n",
       "\n",
       "                                                                              \n",
       "                                                                              \n",
       "                                                                        -F₁⋅si\n",
       "                                                                              \n",
       "                                                                              \n",
       "                                                                              \n",
       "                         2                                                    \n",
       "    d                   d                                                     \n",
       "³)⋅───(F₁) + cos(y²)⋅───────(F₃)                                              \n",
       "   dy¹               dy² dy¹                                                  \n",
       "                                                                              \n",
       "                                                                              \n",
       "                                         2                     2              \n",
       "            d                           d                     d               \n",
       "²)⋅cos(y³)⋅───(F₂) + sin(y²)⋅cos(y³)⋅───────(F₁) + cos(y²)⋅───────(F₃)        \n",
       "           dy³                       dy³ dy¹               dy³ dy¹            \n",
       "                                                                              \n",
       "\n",
       "                                                                              \n",
       "                                                                      d       \n",
       "n(y²)⋅cos(y³) - F₂⋅sin(y²)⋅sin(y³) - F₃⋅cos(y²) - y¹⋅sin(y²)⋅sin(y³)⋅───(F₂) -\n",
       "                                                                     dy¹      \n",
       "                                                                              \n",
       "                                                                              \n",
       "                                        ⎛                                     \n",
       "                                        ⎜                                     \n",
       "                                     y¹⋅⎜-F₁⋅cos(y²)⋅cos(y³) - F₂⋅sin(y³)⋅cos(\n",
       "                                        ⎜                                     \n",
       "                                        ⎝                                     \n",
       "                                                                              \n",
       "                         ⎛                                                2   \n",
       "                         ⎜                                               d    \n",
       "                      y¹⋅⎜F₁⋅cos(y² - y³) - F₂⋅sin(y² - y³) - sin(y²)⋅───────(\n",
       "                         ⎝                                            dy³ dy² \n",
       "                                                                              \n",
       "\n",
       "                                             2                                \n",
       "                     d                      d                                d\n",
       " y¹⋅sin(y²)⋅cos(y³)⋅───(F₁) - y¹⋅sin(y²)⋅───────(F₃) + y¹⋅sin(y³)⋅cos(y²)⋅────\n",
       "                    dy¹                  dy² dy¹                          dy² \n",
       "                                                                              \n",
       "                                                                              \n",
       "                                                                              \n",
       "                                      d                           d           \n",
       "y²) + F₃⋅sin(y²) - 2⋅sin(y²)⋅sin(y³)⋅───(F₂) - 2⋅sin(y²)⋅cos(y³)⋅───(F₁) - sin\n",
       "                                     dy²                         dy²          \n",
       "                                                                              \n",
       "                                                                              \n",
       "                                                    2                         \n",
       "                       d                           d                        d \n",
       "F₃) - sin(y³)⋅cos(y²)⋅───(F₁) + sin(y³)⋅cos(y²)⋅───────(F₂) - sin(y² - y³)⋅───\n",
       "                      dy²                       dy³ dy²                    dy³\n",
       "                                                                              \n",
       "\n",
       "2                                2                                            \n",
       "                                d                      d                 d    \n",
       "───(F₂) + y¹⋅cos(y²)⋅cos(y³)⋅───────(F₁) - y¹⋅cos(y²)⋅───(F₃) - sin(y²)⋅───(F₃\n",
       "dy¹                          dy² dy¹                  dy¹               dy²   \n",
       "                                                                              \n",
       "                                                                              \n",
       "       2                          2                          2                \n",
       "      d                          d                          d                 \n",
       "(y²)⋅────(F₃) + sin(y³)⋅cos(y²)⋅────(F₂) + cos(y²)⋅cos(y³)⋅────(F₁) - 2⋅cos(y²\n",
       "        2                          2                          2               \n",
       "     dy²                        dy²                        dy²                \n",
       "                                                                              \n",
       "                                                     2                        \n",
       "                        d                           d                   d     \n",
       "(F₁) + cos(y²)⋅cos(y³)⋅───(F₂) + cos(y²)⋅cos(y³)⋅───────(F₁) - cos(y²)⋅───(F₃)\n",
       "                       dy²                       dy³ dy²               dy³    \n",
       "                                                                              \n",
       "\n",
       "                                                                     ⎛        \n",
       "                     d                         d                     ⎜        \n",
       ") + sin(y³)⋅cos(y²)⋅───(F₂) + cos(y²)⋅cos(y³)⋅───(F₁)             y¹⋅⎜- sin(y³\n",
       "                    dy²                       dy²                    ⎝        \n",
       "                                                                              \n",
       "                                                                              \n",
       "         ⎞                                                           ⎛        \n",
       "   d     ⎟                                                           ⎜        \n",
       ")⋅───(F₃)⎟                                                        y¹⋅⎜- sin(y³\n",
       "  dy²    ⎟                                                           ⎝        \n",
       "         ⎠                                                                    \n",
       "                                                                              \n",
       "                       ⎞                                  ⎛                   \n",
       "                 d     ⎟                                  ⎜                   \n",
       " - cos(y² - y³)⋅───(F₂)⎟                               y¹⋅⎜F₁⋅sin(y³) - F₂⋅cos\n",
       "                dy³    ⎠                                  ⎜                   \n",
       "                                                          ⎝                   \n",
       "\n",
       "                        2                                       2      ⎞      \n",
       "   d                   d                   d                   d       ⎟      \n",
       ")⋅───(F₂) - sin(y³)⋅───────(F₁) - cos(y³)⋅───(F₁) + cos(y³)⋅───────(F₂)⎟⋅sin(y\n",
       "  dy¹               dy³ dy¹               dy¹               dy³ dy¹    ⎠      \n",
       "                                                                              \n",
       "                                                                              \n",
       "                        2                                       2      ⎞      \n",
       "   d                   d                   d                   d       ⎟      \n",
       ")⋅───(F₂) - sin(y³)⋅───────(F₁) - cos(y³)⋅───(F₁) + cos(y³)⋅───────(F₂)⎟⋅sin(y\n",
       "  dy²               dy³ dy²               dy²               dy³ dy²    ⎠      \n",
       "                                                                              \n",
       "                                                                              \n",
       "                                     2                                      2 \n",
       "                  d                 d                    d                 d  \n",
       "(y³) - 2⋅sin(y³)⋅───(F₂) - sin(y³)⋅────(F₁) - 2⋅cos(y³)⋅───(F₁) + cos(y³)⋅────\n",
       "                 dy³                  2                 dy³                  2\n",
       "                                   dy³                                    dy³ \n",
       "\n",
       "             ⎤\n",
       "             ⎥\n",
       "²)           ⎥\n",
       "             ⎥\n",
       "             ⎥\n",
       "             ⎥\n",
       "             ⎥\n",
       "             ⎥\n",
       "²)           ⎥\n",
       "             ⎥\n",
       "             ⎥\n",
       "             ⎥\n",
       "    ⎞        ⎥\n",
       "    ⎟        ⎥\n",
       "(F₂)⎟⋅sin(y²)⎥\n",
       "    ⎟        ⎥\n",
       "    ⎠        ⎦"
      ]
     },
     "execution_count": 49,
     "metadata": {},
     "output_type": "execute_result"
    }
   ],
   "source": [
    "\n",
    "\n",
    "\n",
    "## now construct the covariant derivative\n",
    "\n",
    "d_r_T_j = zeros(3,3)\n",
    "\n",
    "# using our vector matrix, grad_phi_cov_y, \n",
    "# the covariant vector \n",
    "T = diff_grad_phi_y\n",
    "\n",
    "for r in range(0,3): # free index r\n",
    "    for j in range(0,3): # free index j\n",
    "        for p in range(0,3): # dummy index p\n",
    "        \n",
    "            # using our vector matrix X=[y_1,y_2, y_3]\n",
    "            d_r_T_j[r,j] = diff(T[j],Y[r]) - gamma2[p][r,j]*T[p] ## perhaps one of the other gamma2 systems\n",
    "\n",
    "            \n",
    "\n",
    "\n",
    "d_r_T_j = simplify(d_r_T_j).subs( {f__1:F_1, f__2:F_2, f__3:F_3} )\n",
    "d_r_T_j"
   ]
  },
  {
   "cell_type": "code",
   "execution_count": 50,
   "metadata": {
    "collapsed": false
   },
   "outputs": [
    {
     "data": {
      "text/latex": [
       "$$\\left[\\begin{matrix}\\sin{\\left (y^{2} \\right )} \\sin{\\left (y^{3} \\right )} \\frac{d^{2}}{d y^{1}^{2}}  F_{2} + \\sin{\\left (y^{2} \\right )} \\cos{\\left (y^{3} \\right )} \\frac{d^{2}}{d y^{1}^{2}}  F_{1} + \\cos{\\left (y^{2} \\right )} \\frac{d^{2}}{d y^{1}^{2}}  F_{3}\\\\- F_{1} \\sin{\\left (y^{2} \\right )} \\cos{\\left (y^{3} \\right )} - F_{2} \\sin{\\left (y^{2} \\right )} \\sin{\\left (y^{3} \\right )} - F_{3} \\cos{\\left (y^{2} \\right )} - y^{1} \\sin{\\left (y^{2} \\right )} \\sin{\\left (y^{3} \\right )} \\frac{d}{d y^{1}} F_{2} - y^{1} \\sin{\\left (y^{2} \\right )} \\cos{\\left (y^{3} \\right )} \\frac{d}{d y^{1}} F_{1} - y^{1} \\sin{\\left (y^{2} \\right )} \\frac{d^{2}}{d y^{1}d y^{2}}  F_{3} + y^{1} \\sin{\\left (y^{3} \\right )} \\cos{\\left (y^{2} \\right )} \\frac{d^{2}}{d y^{1}d y^{2}}  F_{2} + y^{1} \\cos{\\left (y^{2} \\right )} \\cos{\\left (y^{3} \\right )} \\frac{d^{2}}{d y^{1}d y^{2}}  F_{1} - y^{1} \\cos{\\left (y^{2} \\right )} \\frac{d}{d y^{1}} F_{3} - \\sin{\\left (y^{2} \\right )} \\frac{d}{d y^{2}} F_{3} + \\sin{\\left (y^{3} \\right )} \\cos{\\left (y^{2} \\right )} \\frac{d}{d y^{2}} F_{2} + \\cos{\\left (y^{2} \\right )} \\cos{\\left (y^{3} \\right )} \\frac{d}{d y^{2}} F_{1}\\\\y^{1} \\left(- \\sin{\\left (y^{3} \\right )} \\frac{d}{d y^{1}} F_{2} - \\sin{\\left (y^{3} \\right )} \\frac{d^{2}}{d y^{1}d y^{3}}  F_{1} - \\cos{\\left (y^{3} \\right )} \\frac{d}{d y^{1}} F_{1} + \\cos{\\left (y^{3} \\right )} \\frac{d^{2}}{d y^{1}d y^{3}}  F_{2}\\right) \\sin{\\left (y^{2} \\right )}\\end{matrix}\\right]$$"
      ],
      "text/plain": [
       "⎡                                                                             \n",
       "⎢                                                                             \n",
       "⎢                                                                             \n",
       "⎢                                                                             \n",
       "⎢                                                                             \n",
       "⎢                                                                             \n",
       "⎢                                                                             \n",
       "⎢                                                                            d\n",
       "⎢-F₁⋅sin(y²)⋅cos(y³) - F₂⋅sin(y²)⋅sin(y³) - F₃⋅cos(y²) - y¹⋅sin(y²)⋅sin(y³)⋅──\n",
       "⎢                                                                           dy\n",
       "⎢                                                                             \n",
       "⎢                                                                             \n",
       "⎢                                                                             \n",
       "⎢                                                                             \n",
       "⎣                                                                             \n",
       "\n",
       "                                                    2                         \n",
       "                                                   d                          \n",
       "                                  sin(y²)⋅sin(y³)⋅────(F₂) + sin(y²)⋅cos(y³)⋅─\n",
       "                                                     2                        \n",
       "                                                  dy¹                        d\n",
       "                                                                              \n",
       "                                                    2                         \n",
       "                            d                      d                          \n",
       "─(F₂) - y¹⋅sin(y²)⋅cos(y³)⋅───(F₁) - y¹⋅sin(y²)⋅───────(F₃) + y¹⋅sin(y³)⋅cos(y\n",
       "¹                          dy¹                  dy² dy¹                       \n",
       "                                                                              \n",
       "                          ⎛                                2                  \n",
       "                          ⎜           d                   d                   \n",
       "                       y¹⋅⎜- sin(y³)⋅───(F₂) - sin(y³)⋅───────(F₁) - cos(y³)⋅─\n",
       "                          ⎝          dy¹               dy³ dy¹               d\n",
       "\n",
       " 2                  2                                                         \n",
       "d                  d                                                          \n",
       "───(F₁) + cos(y²)⋅────(F₃)                                                    \n",
       "  2                  2                                                        \n",
       "y¹                dy¹                                                         \n",
       "                                                                              \n",
       "       2                                2                                     \n",
       "      d                                d                      d               \n",
       "²)⋅───────(F₂) + y¹⋅cos(y²)⋅cos(y³)⋅───────(F₁) - y¹⋅cos(y²)⋅───(F₃) - sin(y²)\n",
       "   dy² dy¹                          dy² dy¹                  dy¹              \n",
       "                                                                              \n",
       "                     2      ⎞                                                 \n",
       "d                   d       ⎟                                                 \n",
       "──(F₁) + cos(y³)⋅───────(F₂)⎟⋅sin(y²)                                         \n",
       "y¹               dy³ dy¹    ⎠                                                 \n",
       "\n",
       "                                                            ⎤\n",
       "                                                            ⎥\n",
       "                                                            ⎥\n",
       "                                                            ⎥\n",
       "                                                            ⎥\n",
       "                                                            ⎥\n",
       "                                                            ⎥\n",
       "  d                         d                         d     ⎥\n",
       "⋅───(F₃) + sin(y³)⋅cos(y²)⋅───(F₂) + cos(y²)⋅cos(y³)⋅───(F₁)⎥\n",
       " dy²                       dy²                       dy²    ⎥\n",
       "                                                            ⎥\n",
       "                                                            ⎥\n",
       "                                                            ⎥\n",
       "                                                            ⎥\n",
       "                                                            ⎦"
      ]
     },
     "execution_count": 50,
     "metadata": {},
     "output_type": "execute_result"
    }
   ],
   "source": [
    "d_1_T_j = Matrix([d_r_T_j[0,0],d_r_T_j[0,1],d_r_T_j[0,2]])\n",
    "d_1_T_j = d_1_T_j.subs( {f__1:F_1, f__2:F_2, f__3:F_3} )\n",
    "d_1_T_j"
   ]
  },
  {
   "cell_type": "code",
   "execution_count": 51,
   "metadata": {
    "collapsed": false
   },
   "outputs": [
    {
     "data": {
      "text/latex": [
       "$$\\sin{\\left (y^{2} \\right )} \\sin{\\left (y^{3} \\right )} \\frac{d^{2}}{d y^{1}^{2}}  F_{2} + \\sin{\\left (y^{2} \\right )} \\cos{\\left (y^{3} \\right )} \\frac{d^{2}}{d y^{1}^{2}}  F_{1} + \\cos{\\left (y^{2} \\right )} \\frac{d^{2}}{d y^{1}^{2}}  F_{3}$$"
      ],
      "text/plain": [
       "                  2                          2                  2     \n",
       "                 d                          d                  d      \n",
       "sin(y²)⋅sin(y³)⋅────(F₂) + sin(y²)⋅cos(y³)⋅────(F₁) + cos(y²)⋅────(F₃)\n",
       "                   2                          2                  2    \n",
       "                dy¹                        dy¹                dy¹     "
      ]
     },
     "execution_count": 51,
     "metadata": {},
     "output_type": "execute_result"
    }
   ],
   "source": [
    "d_1_T_j[0]"
   ]
  },
  {
   "cell_type": "markdown",
   "metadata": {},
   "source": [
    "### So we have reached a limit of Jupyter/Latex/Sympy's symbol printing,plugging in some numbers..."
   ]
  },
  {
   "cell_type": "code",
   "execution_count": 75,
   "metadata": {
    "collapsed": false
   },
   "outputs": [
    {
     "data": {
      "text/plain": [
       "2⋅sin(y²)⋅cos(y³)\n",
       "─────────────────\n",
       "         3       \n",
       "       y¹        "
      ]
     },
     "execution_count": 75,
     "metadata": {},
     "output_type": "execute_result"
    }
   ],
   "source": [
    "# scalar potential\n",
    "potential = 1 / sqrt(x__1**2+x__3**2+x__3**2)\n",
    "F1=diff(potential,x__1)\n",
    "F2=diff(potential,x__2)\n",
    "F3=diff(potential,x__3)\n",
    "\n",
    "r=symbols('r')\n",
    "\n",
    "F1 =F1.subs({sqrt(x__1**2+x__3**2+x__3**2):y__1})\n",
    "F2 =F2.subs({sqrt(x__1**2+x__3**2+x__3**2):y__1})\n",
    "F3 =F3.subs({sqrt(x__1**2+x__3**2+x__3**2):y__1})\n",
    "\n",
    "F1 =F1.subs({x__1:y__1*cos(y__3)*sin(y__2)})\n",
    "F1 =F1.subs({x__2:y__1*sin(y__3)*sin(y__2)})\n",
    "F1 =F1.subs({x__3:y__1*cos(y__2)})\n",
    "\n",
    "F2 =F2.subs({x__1:y__1*cos(y__3)*sin(y__2)})\n",
    "F2 =F2.subs({x__2:y__1*sin(y__3)*sin(y__2)})\n",
    "F2 =F2.subs({x__3:y__1*cos(y__2)})\n",
    "\n",
    "F3 =F3.subs({x__1:y__1*cos(y__3)*sin(y__2)})\n",
    "F3 =F3.subs({x__2:y__1*sin(y__3)*sin(y__2)})\n",
    "F3 =F3.subs({x__3:y__1*cos(y__2)})\n",
    "\n",
    "init_printing(use_latex=false)\n",
    "\n",
    "d_r_T_j = d_r_T_j.subs( {F_1:F1, F_2:F2, F_3:F3} )\n",
    "diff(F1,y__1)\n",
    "#N(d_r_T_j.subs({y__1:10, y__2:0, y__3:3.14149/2}))"
   ]
  },
  {
   "cell_type": "code",
   "execution_count": 76,
   "metadata": {
    "collapsed": false
   },
   "outputs": [
    {
     "data": {
      "text/plain": [
       "                                                                              \n",
       "                      d                           ∂ ⎛-sin(y²)⋅cos(y³) ⎞       \n",
       "- y¹⋅sin(y²)⋅sin(y³)⋅───(0) - y¹⋅sin(y²)⋅cos(y³)⋅───⎜─────────────────⎟ - y¹⋅s\n",
       "                     dy¹                         ∂y¹⎜         2       ⎟       \n",
       "                                                    ⎝       y¹        ⎠       \n",
       "\n",
       "           2                                               2                  \n",
       "          ∂   ⎛-sin(y²)⋅cos(y³) ⎞                         d                   \n",
       "in(y²)⋅───────⎜─────────────────⎟ + y¹⋅sin(y³)⋅cos(y²)⋅───────(0) + y¹⋅cos(y²)\n",
       "       ∂y² ∂y¹⎜         2       ⎟                      dy² dy¹                \n",
       "              ⎝       y¹        ⎠                                             \n",
       "\n",
       "             2                                                                \n",
       "            ∂   ⎛-sin(y²)⋅cos(y³) ⎞               ∂ ⎛-sin(y²)⋅cos(y³) ⎞       \n",
       "⋅cos(y³)⋅───────⎜─────────────────⎟ - y¹⋅cos(y²)⋅───⎜─────────────────⎟ - sin(\n",
       "         ∂y² ∂y¹⎜         2       ⎟              ∂y¹⎜         2       ⎟       \n",
       "                ⎝       y¹        ⎠                 ⎝       y¹        ⎠       \n",
       "\n",
       "                                                                              \n",
       "     ∂ ⎛-sin(y²)⋅cos(y³) ⎞                    d                        ∂ ⎛-sin\n",
       "y²)⋅───⎜─────────────────⎟ + sin(y³)⋅cos(y²)⋅───(0) + cos(y²)⋅cos(y³)⋅───⎜────\n",
       "    ∂y²⎜         2       ⎟                   dy²                      ∂y²⎜    \n",
       "       ⎝       y¹        ⎠                                               ⎝    \n",
       "\n",
       "                    2        2                              \n",
       "(y²)⋅cos(y³) ⎞   sin (y²)⋅cos (y³)   sin(y²)⋅cos(y²)⋅cos(y³)\n",
       "─────────────⎟ + ───────────────── + ───────────────────────\n",
       "     2       ⎟            2                      2          \n",
       "   y¹        ⎠          y¹                     y¹           "
      ]
     },
     "execution_count": 76,
     "metadata": {},
     "output_type": "execute_result"
    }
   ],
   "source": [
    "d_r_T_j[0,1]"
   ]
  },
  {
   "cell_type": "code",
   "execution_count": 77,
   "metadata": {
    "collapsed": false
   },
   "outputs": [
    {
     "data": {
      "text/plain": [
       "     2        2                                      2        2    \n",
       "  sin (y²)⋅cos (y³)   2⋅sin(y²)⋅cos(y²)⋅cos(y³)   cos (y²)⋅cos (y³)\n",
       "- ───────────────── - ───────────────────────── + ─────────────────\n",
       "           2                       2                       2       \n",
       "         y¹                      y¹                      y¹        "
      ]
     },
     "execution_count": 77,
     "metadata": {},
     "output_type": "execute_result"
    }
   ],
   "source": [
    "d_r_T_j[0,1].doit()"
   ]
  },
  {
   "cell_type": "markdown",
   "metadata": {},
   "source": [
    "So, to express the derivative of the cartesian gradient, transformed via the transformation law for a rank 1 tensor to a spherical coordinate system, with respect to any of the spherical coordinates, I would use the matrix defined above.\n",
    "\n",
    "The derivatives with respect to $y^1$ are all in the first row, indexed by 0. The derivatives with respect to $y^2$ are in the second row, and $y^3$ the third. \n",
    "\n",
    "The derivative with respect to each component is a vector, components given by the columns of the indexed row."
   ]
  },
  {
   "cell_type": "code",
   "execution_count": 78,
   "metadata": {
    "collapsed": false
   },
   "outputs": [
    {
     "data": {
      "text/plain": [
       "⎡-0.000600000796075882⎤\n",
       "⎢                     ⎥\n",
       "⎢ -0.0100000265358627 ⎥\n",
       "⎢                     ⎥\n",
       "⎣ -0.0199999999999648 ⎦"
      ]
     },
     "execution_count": 78,
     "metadata": {},
     "output_type": "execute_result"
    }
   ],
   "source": [
    "d_y1_T_j = Matrix([d_r_T_j[0,0],d_r_T_j[0,1],d_r_T_j[0,2]])\n",
    "d_y2_T_j = Matrix([d_r_T_j[1,0],d_r_T_j[1,1],d_r_T_j[1,2]])\n",
    "d_y3_T_j = Matrix([d_r_T_j[2,0],d_r_T_j[2,1],d_r_T_j[2,2]])\n",
    "\n",
    "d_y1_T_j.doit().subs({y__1:10, y__2:3.14159/2, y__3:0})"
   ]
  },
  {
   "cell_type": "markdown",
   "metadata": {},
   "source": [
    "Note: I had to tell sympy to evaluate the derivatives - the vector above is the vector representing the derivative of the covariant transformed Force with respect to the radius at the point $r=10,\\quad \\theta = \\pi/2, \\quad \\phi=0$\n"
   ]
  },
  {
   "cell_type": "code",
   "execution_count": 79,
   "metadata": {
    "collapsed": false
   },
   "outputs": [
    {
     "data": {
      "text/plain": [
       "⎡-6.00000796075882   -1.00000265358627     -1.99999999999648 ⎤\n",
       "⎢                                                            ⎥\n",
       "⎢-1.99999469281337   -1.99999469281337    1.32679489667636e-6⎥\n",
       "⎢                                                            ⎥\n",
       "⎣-0.99999999999824  -1.32679489667636e-6           0         ⎦"
      ]
     },
     "execution_count": 79,
     "metadata": {},
     "output_type": "execute_result"
    }
   ],
   "source": [
    "d_r_T_j.doit().subs({y__1:1, y__2:3.14159/2, y__3:0})"
   ]
  },
  {
   "cell_type": "markdown",
   "metadata": {},
   "source": [
    "above is the entire matrix at the point $r=1$ with angles as before. Changing the angle changes the values returned, so I would like to veriy this result somehow. This result does not have any practical use in simulation at this stage, I might return to it later.  "
   ]
  },
  {
   "cell_type": "code",
   "execution_count": 80,
   "metadata": {
    "collapsed": false
   },
   "outputs": [
    {
     "data": {
      "text/plain": [
       "⎡-2.11246163741666e-11  -5.28115409353934e-12    1.99999999998944  ⎤\n",
       "⎢                                                                  ⎥\n",
       "⎢-2.65358979333638e-6   -2.65358979333638e-6   -1.32679489667169e-6⎥\n",
       "⎢                                                                  ⎥\n",
       "⎣  0.999992039225339    -3.98038469002209e-6   -5.30717958669612e-6⎦"
      ]
     },
     "execution_count": 80,
     "metadata": {},
     "output_type": "execute_result"
    }
   ],
   "source": [
    "d_r_T_j.doit().subs({y__1:1, y__2:3.14159/2, y__3:3.14159/2})"
   ]
  },
  {
   "cell_type": "markdown",
   "metadata": {},
   "source": []
  }
 ],
 "metadata": {
  "kernelspec": {
   "display_name": "Python 2",
   "language": "python",
   "name": "python2"
  },
  "language_info": {
   "codemirror_mode": {
    "name": "ipython",
    "version": 2
   },
   "file_extension": ".py",
   "mimetype": "text/x-python",
   "name": "python",
   "nbconvert_exporter": "python",
   "pygments_lexer": "ipython2",
   "version": "2.7.10"
  }
 },
 "nbformat": 4,
 "nbformat_minor": 0
}
