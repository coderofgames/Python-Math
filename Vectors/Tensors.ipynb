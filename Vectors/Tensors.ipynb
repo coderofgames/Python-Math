{
 "cells": [
  {
   "cell_type": "markdown",
   "metadata": {},
   "source": [
    "#  Tensors "
   ]
  },
  {
   "cell_type": "markdown",
   "metadata": {},
   "source": [
    "#### Definition\n",
    "---\n",
    "\n",
    "> a point in N-dimensional space is represented by $\\mathbf x = (x^1,x^2,\\cdots,x^n)$\n",
    "> the coordnate system is represented by some basis $(\\mathbf e_1, \\mathbf e_2, \\cdots, \\mathbf e_n)$\n",
    "> the point may be represented in more than one basis (see curvilinear coordinates). \n",
    "\n",
    "Note: a superscript is used for the point vector instead of a subscript. If a component is raised to a power, then it is placed in round brackets $(x^i)^2$ is the $i^{th}$ component of $x$ raised to the power of 2.\n",
    "\n",
    "\n",
    "---\n",
    "\n",
    "\n",
    "#### Coordinate Transformations\n",
    "   \n",
    "if $ x^1, x^2 \\cdots,x^n$ and $ \\bar{x}^1, \\bar{x}^2,\\cdots, \\bar{x}^n$ are representations of a point in two coordinate systems or frames of reference, and \n",
    "   \n",
    "$$\\bar{x}^1 =\\bar{x}^1( x^1, x^2 \\cdots,x^n)$$ and\n",
    "$$\\bar{x}^2 =\\bar{x}^2( x^1, x^2 \\cdots,x^n)$$ etc\n",
    "$$\\cdots$$ and\n",
    "$$\\bar{x}^n =\\bar{x}^n( x^1, x^2 \\cdots,x^n)$$\n",
    "\n",
    "defines the representation of the *barred coordinates* as a function of the *unbarred coordinates*, and to define the converse\n",
    "\n",
    "$$x^k = x^k(\\bar{x}^1, \\bar{x}^2,\\cdots, \\bar{x}^n ) \\qquad k=1,\\cdots,n $$\n",
    "\n",
    "Then these relations define a coordinate transformation."
   ]
  },
  {
   "cell_type": "markdown",
   "metadata": {},
   "source": [
    "## Einstein Summation Convention"
   ]
  },
  {
   "cell_type": "markdown",
   "metadata": {},
   "source": [
    "---\n",
    "##### Sums\n",
    "\n",
    "expressions of the form \n",
    "\n",
    "$$\\large\\sum_{i=1}^n x_i = x_1 + x_2 +\\cdots x_n $$\n",
    "\n",
    "are written simply as \n",
    "\n",
    "$$x_i,\\quad i=1,n$$\n",
    "\n",
    "For an expression of the form \n",
    "\n",
    "$$ y_i = a_{ij}x_j $$\n",
    "\n",
    "with $j = 1,2,\\cdots,n$, has two indices. The variable $j$ is called a dummy index, and $i$ is called the free index.\n",
    "\n",
    "$$ y_i = a_{i1}x_1 + a_{i2}x_2 + \\cdots +a_{in}x_n$$\n",
    "\n",
    "Now iterating over the free index to $m$ gives \n",
    "\n",
    "$$ y_1 = a_{11}x_1 + a_{12}x_2 + \\cdots +a_{1n}x_n$$\n",
    "$$ y_2 = a_{21}x_1 + a_{22}x_2 + \\cdots +a_{2n}x_n$$\n",
    "$$ \\cdots $$\n",
    "$$ y_m = a_{m1}x_1 + a_{m2}x_2 + \\cdots +a_{mn}x_n$$\n",
    "\n",
    "This does yeild a matrix definition of the form $ \\mathbf y_{m1} = \\mathbf a_{mn} \\mathbf x_{n1} $ \n",
    "\n",
    "> #### The Summation Convention\n",
    "> Any expression with a twice repeated index (either subscripts (and) or superscripts) represents its sum over the \n",
    "> values $1,2,\\cdots,n$ of the repeated index. The character $n$ may represent the range of summations unless stated \n",
    "> otherwise.\n",
    "   \n",
    "> 1) Any free index shall have the same range as summation indexes unless stated otherwise (in the equation above, n=m by default).\n",
    "   \n",
    "> 2) No index may occur more than twice in an expression."
   ]
  },
  {
   "cell_type": "markdown",
   "metadata": {},
   "source": [
    "#### Multiple summation indexes\n",
    "\n",
    "An expression with multiple summation indexes represents the result of the sum over each index, so \n",
    "\n",
    "$$\\large a_{\\color{red}{i}\\color{blue}{j}}x_{\\color{red}{i}}y_{\\color{blue}{j}}$$ \n",
    "\n",
    "results in summing over ${\\color{red}{i}}$ from ${\\color{red}{(1,\\cdots, n)}}$ and ${\\color{blue}{j}}$ from ${\\color{blue}{(1,\\cdots, m)}}$, i.e.first summing over $i$ \n",
    "\n",
    "$$a_{\\color{red}{1}\\color{blue}{j}} x_{\\color{red}{1}} y_{\\color{blue}{j}} + \\cdots + a_{\\color{red}{n}\\color{blue}{j}} x_{\\color{red}{n}} y_{\\color{blue}{j}} $$\n",
    "Then summing over $j$\n",
    "$$ (a_{11} x_1 y_1 + \\cdots + a_{n1} x_n y_1  ) + (a_{12} x_1 y_2 + \\cdots + a_{n2} x_n y_2) + \\cdots + (a_{1m} x_1 y_m + \\cdots + a_{nm} x_n y_m)  $$\n",
    "   \n",
    "dropping the red and blue to save time in the expansion.\n",
    "   \n",
    "> The expressions *are the same* if the order of summation is reversed"
   ]
  },
  {
   "cell_type": "markdown",
   "metadata": {},
   "source": [
    "### Substitutions\n",
    "---\n",
    "If an expression $y_i = a_{ij}x_j$ is substituted into $B = C_{ij}y_ix_j$ then the dummy index $j$ in the first expression is replaced $y_i = a_{ip}x_p$ to avoid having indices repeated more than twice (see remark 2 above), so then $B=C_{ij}a_{ip} x_p x_j$\n"
   ]
  },
  {
   "cell_type": "markdown",
   "metadata": {},
   "source": [
    "#### Matrix Notation "
   ]
  },
  {
   "cell_type": "markdown",
   "metadata": {},
   "source": [
    "We know from matrix algebra that the expression $B=C_{ij}a_{ip} x_p x_j$ does not multiply if converted directly to matrix form, so to put this in matrix form, $$ \\mathbf B_i = (\\mathbf C_{ij} \\mathbf x_j)^{\\mathbf T}( \\mathbf a_{ip} \\mathbf x_p )$$\n",
    "   \n",
    "Matrix notation is different to tensor notation and does not offer an exact replacement because matrix notation requires that a vector is defined as column and transposed to form a row, and that to mulitply two objects (matrix and vector) is an order dependant operation, such that for two non square matrices $\\mathbf A_{mn}$ and $\\mathbf B_{nr}$ the product $\\mathbf C_{mr}= \\mathbf A \\mathbf B $ is possible because $B$ has the same number of rows as $A$ has columns, but $ \\mathbf B \\mathbf A $ is not possible. This is not the case with the summation notation in tensor analysis.\n",
    "\n",
    ">  When Tensor notation is used to denote matrices, the superscript represents the row, and the subscript represents the column"
   ]
  },
  {
   "cell_type": "markdown",
   "metadata": {},
   "source": [
    "### Kronecker Delta \n",
    "---\n",
    "$$ \\delta^{ij} = \\delta_{ij} = \\delta_j^i = 1 $$ if $i=j$ and zero otherwise\n",
    "\n",
    "\n",
    "   \n",
    "Therefore $\\delta_{11} = 1$, and $\\delta_{12} = 0$, etc\n",
    "   \n",
    "This symbol can be seen to be the tensor notation equivalent to the Identity matrix in matrix algebra."
   ]
  },
  {
   "cell_type": "markdown",
   "metadata": {},
   "source": [
    "### Permutation Symbol\n",
    "---\n",
    "The symbol $e_{ijk...n}$ and $e^{ijk...n}$ with n subscripts or superscripts is called the permutation symbol, and is zero if two indices are identical and equals $(-1)^b$ where $b$ is the number interchanges of consecutive subscripts required to bring $ijk...n$ to the order $123...n$. More simply, in the case of $e_{ijk} = e^{ijk}$ \n",
    " \n",
    " \n",
    "$e_{ijk} =0\\qquad $ if two indices are the same\n",
    "  \n",
    "$e_{ijk} =1\\qquad $ if $i,j,k$ is an even permutation\n",
    "   \n",
    "$e_{ijk} =-1\\qquad $ if $i,j,k$ is an odd permutation\n",
    "\n",
    " \n",
    "\n",
    "   \n",
    "\n",
    "   \n",
    "   \n"
   ]
  },
  {
   "cell_type": "markdown",
   "metadata": {},
   "source": [
    "### Differentials\n",
    "   \n",
    "for a vector, $\\mathbf r= \\mathbf r(u^1,u^2,\\cdots,u^n)$ where the $u^i$ are coordinates of some arbitrary system\n",
    "\n",
    "$$ d\\mathbf r = \\frac{d\\mathbf r}{du^1}du^1+\\frac{d\\mathbf r}{du^2}du^2+\\cdots+\\frac{d\\mathbf r}{du^n}du^n$$\n",
    "\n",
    "is the differential of $\\mathbf r$ with respect to the $u^i$ basis. This is an important form. In index notation ...\n",
    "   \n",
    "$$ d r^i = \\frac{d r^i}{du^k} du^k \\qquad\\qquad (1)$$\n",
    "   \n",
    "This concept extends to the notion of a *one-form* written as\n",
    "   \n",
    "$$\\mathbf {\\omega} = a_1 dx^1 + a_2 dx^2 +\\cdots+ a_n dx^n$$"
   ]
  },
  {
   "cell_type": "markdown",
   "metadata": {},
   "source": [
    "#### Chain Rule\n",
    "\n",
    "For a function (in this case, a scalar valued function of a vector variable) $w = f(u^k)$ for $k=1,\\cdots n$ and $u^k = u^k(x^j)$ for $j=1,\\cdots m$ Then the rate of change of $w$ with resect to the $x^j$ is expressed as\n",
    "   \n",
    "$$ \\frac{ \\partial w }{\\partial x^j} = \\frac{ \\partial w }{\\partial u^k}\\frac{ \\partial u^k }{\\partial x^j} \\qquad\\qquad(1.1) $$ \n",
    "   \n",
    "In this case $k$ in the term $\\frac{ \\partial w }{\\partial u^k}$ is seen as a <b>subscript </b> and the $k$ in the term\n",
    "$\\frac{ \\partial u^k }{\\partial x^j}$ is seen as a <b>superscript</b> with subscript $j$ \n"
   ]
  },
  {
   "cell_type": "markdown",
   "metadata": {},
   "source": [
    "### Dot and Cross Product\n",
    "\n",
    "The dot product can be defined as \n",
    "\n",
    "$$ \\mathbf x\\cdot  \\mathbf y = x^i y^i = \\mathbf x \\mathbf y$$\n",
    "\n",
    "Using the permutation symbol to define the basis vectors .. $e_{ijk}$ then $ e_{132} = (-1)^1 = -1$ and $e_{ijk}$ then $ e_{123} = (-1)^0 = 1$ then for each $e_{ijk}$ there is a unique \n",
    "   \n",
    "$$(\\mathbf u \\times \\mathbf v)_i = (e_{ijk}u_j v_k) $$"
   ]
  },
  {
   "cell_type": "markdown",
   "metadata": {},
   "source": [
    "## Back to Coordinates\n",
    "---\n",
    "Using the summation convention, a *coordinate transformation* may be represented as \n",
    "   \n",
    "$$\\bar{x}^i = \\bar{x}^i( x^j )$$ \n",
    "   \n",
    "and\n",
    "   \n",
    "$$x^j = x^j ( \\bar{x}^i  )$$ \n",
    "   \n"
   ]
  },
  {
   "cell_type": "markdown",
   "metadata": {},
   "source": [
    "### Contravariant Tensor\n",
    "   \n",
    "---\n",
    "If $\\mathbf T = (T^i) $ is a vector field (vector function of a vector variable) in the *unbarred* system such that $T^i = T^i(\\mathbf x) = T^i(x^j)$  and it can also be represented in the *barred* system via a coordinate transformation, then  $\\mathbf T$ is a <b>contravariant tensor of rank 1 </b> if the components \n",
    "   \n",
    "$ (T^{ \\color{red}{1}}, T^{ \\color{red}{2}}, \\cdots, T^{ \\color{red}{n}}) $ in the unbarred system\n",
    "   \n",
    "$ (\\bar{T}^{ \\color{blue}{1}},\\bar{T}^{ \\color{blue}{2}},\\cdots, \\bar{T}^{ \\color{blue}{n}}) $ in the barred system\n",
    "   \n",
    "are related by a transformation \n",
    "\n",
    "$$\\large\\bar{T}^{ \\color{blue}{i}} = \\frac{ \\partial \\bar{x}^{ \\color{blue}{i}} }{ \\partial x^{ \\color{red}{j}}} T^{ \\color{red}{j}} $$ \n",
    "   \n",
    "> A contravariant vector has components that change if the coordinates change, but the vector itself does not change. Under an operation like scaling or rotation, the components of a contravariant vector will make a change that cancels the operation. Examples include velocity of a fluid, displacement, acceleration.\n",
    "   \n",
    "> For example, $$\\frac{\\partial y^i}{\\partial t} =\\frac{\\partial y^i}{\\partial x^r}\\frac{\\partial x^r}{\\partial t}$$  \n",
    "> the term $\\frac{\\partial y^i}{\\partial x^r}$ defines the contravariant nature of this term. \n",
    "   \n",
    "> Note: this takes the form of the differential defined above, divided by the $\\partial t$, or the change in the  differential of the $y$ coordinates with respect to the $x$ coordinates through time. \n",
    "   \n",
    "with full-on red and blue notation \n",
    "   \n",
    "$$\\large\\color{blue}{\\bar{T}^{ i}} = \\frac{ \\partial \\color{blue}{\\bar{x}^{ i}} }{ \\partial \\color{red}{x^{ j}}} \\color{red}{T^{ j} }    \\qquad\\qquad (1.2)$$ \n",
    "   \n",
    "without the red and blue notation\n",
    "\n",
    "$$\\large\\bar{T}^{ i} = \\frac{ \\partial \\bar{x}^{ i} }{ \\partial x^{ j}} T^{ j} $$ \n",
    "   \n",
    "#### So in a *contravariant* tensor the *barred system* that we are converting to appears upstairs in the transform."
   ]
  },
  {
   "cell_type": "markdown",
   "metadata": {},
   "source": [
    "### Covariant Tensor\n",
    "---\n",
    "The vector field $\\mathbf T$ is a covariant tensor is the components in the barred and unbarred coordinate systems obey the following transformation law \n",
    "   \n",
    "$$\\large\\bar{T}_{ \\color{blue}{i}} = \\frac{  \\partial x^{ \\color{red}{j}}  }{\\partial \\bar{x}^{ \\color{blue}{i}} } T_{ \\color{red}{j}} $$ \n",
    "   \n",
    "> A covariant vector has components that change like the coordinates change, The gradient of a scalar function (i.e. the potential) is a covariant tensor, (i.e. $\\mathbf F$ ) , also called a covariant vector.\n",
    "   \n",
    "> For example: $$\\nabla \\mathbf F = \\frac{\\partial F}{\\partial y^i}= \\frac{\\partial F}{\\partial x^p} \\frac{\\partial x^p}{\\partial y^i}$$ the term   $ \\frac{\\partial x^p}{\\partial y^i}$ defines the covariant nature of this. I could equally have use the $y$'s as the unbarred coordinates in both cases, resulting in the opposite appearance. \n",
    "   \n",
    "> Note: this takes the form of the chain rule defined above for a scalar valued function of a vector variable.\n",
    "\n",
    "   \n",
    "with the full-on red and blue notation\n",
    "   \n",
    "$$\\large\\color{blue}{\\bar{T}_{ i }} = \\frac{  \\partial \\color{red}{x^{ j }}  }{\\partial \\color{blue}{\\bar{x}^{ i } }} \\color{red}{T_{ j}} \\qquad\\qquad (1.3)$$ \n",
    "   \n",
    "without the red and blue notation\n",
    "\n",
    "$$\\large\\bar{T}_{ i } = \\frac{  \\partial x^{ j }  }{\\partial \\bar{x}^{ i } } T_{ j} $$ \n",
    "   \n",
    "#### So in a *covariant* tensor the coordinate system we are converting to appears *downstairs* in the transform "
   ]
  },
  {
   "cell_type": "markdown",
   "metadata": {},
   "source": [
    "#### Note on the Jacobian Matrix\n",
    "> The contravariant tensor transforms with the Jacobian matrix of the system $\\bar{x}^k =\\bar{x}^k (x^j) $ \n",
    "\n",
    ">   \n",
    "> $$ \\bar {T}^i = [\\mathbf J]_j^i T^j $$ \n",
    ">    \n",
    "> where $$[\\mathbf J]_j^i = \\frac{\\partial \\bar{x}^i}{\\partial x^j} $$ \n",
    ">\n",
    "> so, we use the sum over the $j^{\\text{th}}$ column of $[\\mathbf J]$ multiplied by the $j^{\\text{th}}$ component of $T^j$ ... ie\n",
    "   \n",
    "> $\\bar {T}^1 = [\\mathbf J]_j^1 T^j =  \\frac{\\partial \\bar{x}^1}{\\partial x^1}T^1 +\\frac{\\partial \\bar{x}^1}{\\partial x^2}T^2 + \\frac{\\partial \\bar{x}^1}{\\partial x^3}T^3 $"
   ]
  },
  {
   "cell_type": "markdown",
   "metadata": {},
   "source": [
    "\n",
    "> The covariant tensor transforms with the Jacobian matrix of the system $x^j =x^j(\\bar{x}^k ) $ or the reciprocal of the\n",
    "> jacobian matrix of the system $\\bar{x}^k =\\bar{x}^k (x^j) $ \n",
    ">   \n",
    "> $$ \\bar {T}_i = [\\bar{\\mathbf J}] T_j  $$ \n",
    ">    \n",
    "> $\\bar {T}_1 =  \\frac{\\partial x^1}{\\partial \\bar{x}^1}T^1 +\\frac{\\partial x^2}{\\partial \\bar{x}^1}T^2 + \\frac{\\partial x^3}{\\partial \\bar{x}^1}T^3 $\n",
    "\n",
    "Note: Compute the inverse of the Jacobian matrix and compare to the reciprocal jacobian matix. "
   ]
  },
  {
   "cell_type": "code",
   "execution_count": null,
   "metadata": {},
   "outputs": [],
   "source": [
    "from sympy import *\n",
    "from sympy.vector import *\n",
    "\n",
    "e = CoordSysCartesian('e')\n",
    "sph = CoordSysCartesian('sph')\n",
    "\n",
    "x_1,x_2,x_3 = symbols('x_1,x_2, x_3')\n",
    "y_1,y_2,y_3 = symbols('y_1,y_2, y_3')\n",
    "\n",
    "v = y_1 * cos (y_3) * sin(y_2) * e.i+ y_1 * sin (y_3) * sin(y_2) * e.j +  y_1 * cos(y_2) * e.k\n",
    "V = sqrt( x_1**2 + x_2**2 + x_3**2) * sph.i + acos( x_3/sqrt( x_1**2 + x_2**2 + x_3**2)) * sph.j + atan(x_2/x_1) * sph.k\n",
    "\n",
    "X = Matrix([v.dot(e.i), v.dot(e.j),v.dot(e.k)])\n",
    "Y = Matrix([y_1, y_2, y_3])\n",
    "\n",
    "init_printing(use_latex=true)\n",
    "\n",
    "print \"The Jacobian of the dx^i/dy^j where x's are cartesian and y's are spherical \"\n",
    "J_1 = X.jacobian(Y)\n",
    "J_1"
   ]
  },
  {
   "cell_type": "code",
   "execution_count": null,
   "metadata": {},
   "outputs": [],
   "source": [
    "X_2 = Matrix([V.dot(sph.i), V.dot(sph.j),V.dot(sph.k)])\n",
    "Y_2 = Matrix([x_1,x_2,x_3])\n",
    "\n",
    "print \"The Jacobian of the dy^i/dx^j where x's are cartesian and y's are spherical \"\n",
    "\n",
    "J_2 = X_2.jacobian(Y_2)\n",
    "J_2"
   ]
  },
  {
   "cell_type": "code",
   "execution_count": null,
   "metadata": {},
   "outputs": [],
   "source": [
    "print \"The inverse of the Jacobian of the dx^i/dy^j where x's are cartesian and y's are spherical \"\n",
    "J1_inv = simplify(J_1.inverse_ADJ())\n",
    "J1_inv"
   ]
  },
  {
   "cell_type": "code",
   "execution_count": null,
   "metadata": {},
   "outputs": [],
   "source": [
    "print \"The inverse of the Jacobian of the dy^i/dx^j where x's are cartesian and y's are spherical \"\n",
    "J2_inv =simplify(J_2.inverse_GE())\n",
    "simplify(J2_inv.subs({x_1:v.dot(e.i),x_2:v.dot(e.j),x_3:v.dot(e.k)}))"
   ]
  },
  {
   "cell_type": "markdown",
   "metadata": {},
   "source": [
    "taking the identity, $\\cos(2\\theta)=\\cos^2\\theta - sin^2\\theta = 2\\cos^2\\theta-1 = 1-2\\sin^2\\theta$ the denomiator common in the $\\mathbf J_{12}$ and $\\mathbf J_{22}$ can be simplified, $4\\sqrt{-\\cos(2 y_2)+1}\\sqrt{y_1^2} = 4 \\sqrt{-(1-2\\sin^2(y_2))+1}y_1 = \\sqrt(2)4\\sin(y_2)y_1$"
   ]
  },
  {
   "cell_type": "markdown",
   "metadata": {},
   "source": [
    "The numerator from the $\\mathbf J_{12}$ and $\\mathbf J_{22}$ terms can also be simplified ... using $\\sin(A\\pm B)=\\sin(A)\\cos(B)\\pm \\cos(A)\\sin(B) $ the numerator of $\\mathbf J_{12}$ is simplified as follows \n",
    "   \n",
    "$$\\sqrt(2) y_1^2 (\\sin(2y_2-y_3)+\\sin(2y_2+y3)) = \\sqrt(2) y_1^2 (\\sin(2 y_2)\\cos(y_3)- \\cos(2 y_2)\\sin(y3) + \\sin(2 y_2)\\cos(y_3 )+ \\cos(2 y_2)\\sin(y_3)) = \\sqrt(2) y_1^2 (2 \\sin(2 y_2)\\cos(y_3))$$  \n",
    "   \n",
    "and then the identity $\\sin(2\\theta) = 2\\sin\\theta\\cos\\theta$ gives ...\n",
    "   \n",
    "$$ \\sqrt(2) y_1^2 (2 \\sin(2 y_2)\\cos(y_3)) = \\sqrt(2) y_1^2 (4 \\sin y_2 \\cos y_2 \\cos y_3) $$\n",
    "   \n",
    "and now combining numerator and denominator ... \n",
    "   \n",
    "$$\\mathbf J_{12} = \\frac{\\sqrt(2) y_1^2 (4 \\sin y_2 \\cos y_2 \\cos y_3)}{\\sqrt(2)4\\sin(y_2)y_1} = y_1 ( \\cos y_2 \\cos y_3) $$\n",
    "  \n",
    "as the $\\sqrt 2$, the $y_1$'s and the 4's cancel. The same can be found for the $\\mathbf J_{22}$ term using similar identities in the numerator. The other components of the matrix contain terms like $\\sqrt{A^2} $ and if these are all reduced to $A$ then the matrix is the same as the Jacobian of the $dx^i/dy^j$. Sympy recognizes that in general, $\\sqrt{A^2}\\neq A$ but instead $|A|$ and so does not perform the simplification. It can be a challenge to produce the correct numbers from an expression or set of expressions that are not simplified completely, so it is a good idea to use wisdom and do things by hand."
   ]
  },
  {
   "cell_type": "code",
   "execution_count": null,
   "metadata": {
    "collapsed": true
   },
   "outputs": [],
   "source": []
  },
  {
   "cell_type": "markdown",
   "metadata": {},
   "source": [
    "#### Invariants\n",
    "Any quantity that does not change with a change of basis is called an invariant. For example, a scalar function of a vector variable, a potential $\\phi(x^i)$ is transformed to the barred coordinate system and still has the same value, therefore $\\phi$ is said to be <b>invariant</b> or a <b>tensor of rank zero</b>. "
   ]
  },
  {
   "cell_type": "markdown",
   "metadata": {},
   "source": [
    "### Second Order Tensors\n",
    "---\n",
    "If there are $n^2$ quantities defining a matrix field, or matrix of scalar fields $\\mathbf T = T^{ij}(\\mathbf x) $ with components in both the barred and unbarred coordinate systems\n",
    "    \n",
    "#### Contravariant\n",
    "      \n",
    "$$\\large\\bar{T}^{ i r} = \\frac{ \\partial \\bar{x}^{ i} }{ \\partial \\smash{x^{ j}}} \\frac{ \\partial \\bar{x}^{ r} }{ \\partial x^{ s}} T^{ j s} \\qquad\\qquad (1.3)$$ \n",
    "\n",
    "#### Covariant\n",
    "   \n",
    "$$\\large\\bar{T}_{ i r } = \\frac{  \\partial x^{ j }  }{\\partial \\smash{\\bar{x}^{ i } }} \\frac{  \\partial x^{ s }  }{\\partial \\bar{x}^{ r } }T_{ j s} \\qquad\\qquad (1.4)$$ \n",
    "\n",
    "#### Mixed\n",
    "   \n",
    "$$\\large\\bar{T}^i_r = \\frac{ \\partial \\bar{x}^{ i} }{ \\partial \\smash{x^{ j}}} \\frac{  \\partial x^{ s }  }{\\partial \\bar{x}^{ r } }T^j_s \\qquad\\qquad (1.5)$$ \n"
   ]
  },
  {
   "cell_type": "markdown",
   "metadata": {
    "collapsed": true
   },
   "source": [
    "> An intutive way to think about this is that a zero order tensor is a scalar, a first order tensor is a vector, and a  second order tensor is a matrix ... for example the mixed tensor written above ( in 3 dimensions ) would appear as the following\n",
    "\n",
    "$$ \\bar{T}^i_r =\\left( \\begin{matrix} \\bar{T}^1_1 &\\bar{T}^1_2 & \\bar{T}^1_3 \\\\ \\bar{T}^2_1&\\bar{T}^2_2&\\bar{T}^2_3 \\\\ \\bar{T}^3_1&\\bar{T}^3_2&\\bar{T}^3_3  \\end{matrix}\\right) $$\n",
    "   \n",
    "and\n",
    "   \n",
    "$$\\frac{ \\partial \\bar{x}^{ i} }{ \\partial \\smash{x^{ j}}}= \\left(\\begin{matrix} \\frac{\\partial \\bar{x}^1}{\\partial x^1} &\\frac{\\partial \\bar{x}^1}{\\partial x^2} & \\frac{\\partial \\bar{x}^1}{\\partial x^3} \\\\\\ \\frac{\\partial \\bar{x}^2}{\\partial x^1} & \\frac{\\partial \\bar{x}^2}{\\partial x^2} & \\frac{\\partial \\bar{x}^2}{\\partial x^3} \\\\\\ \\frac{\\partial \\bar{x}^3}{\\partial x^1} & \\frac{\\partial \\bar{x}^3}{\\partial x^2} &\\frac{\\partial \\bar{x}^3}{\\partial x^3}  \\end{matrix}\\right)$$\n",
    "   \n",
    "and\n",
    "   \n",
    "$$\\frac{  \\partial x^{ s }  }{\\partial \\bar{x}^{ r } }=\\left( \\begin{matrix} \\frac{\\partial x^1}{\\partial \\bar{x}^1} &\\frac{\\partial x^1}{\\partial \\bar{x}^2} & \\frac{\\partial x^1}{\\partial \\bar{x}^3} \\\\\\ \\frac{\\partial x^2}{\\partial \\bar{x}^1} & \\frac{\\partial x^2}{\\partial \\bar{x}^2} & \\frac{\\partial x^2}{\\partial \\bar{x}^3} \\\\\\ \\frac{\\partial x^3}{\\partial \\bar{x}^1} & \\frac{\\partial x^3}{\\partial \\bar{x}^2} &\\frac{\\partial x^3}{\\partial \\bar{x}^3}  \\end{matrix}\\right) $$\n",
    "\n",
    "and $$\n",
    "T^j_s =\\left( \\begin{matrix} T^1_1 &T^1_2 & T^1_3 \\\\\\ T^2_1&T^2_2&T^2_3 \\\\\\ T^3_1&T^3_2&T^3_3  \\end{matrix}\\right) $$\n",
    "   \n",
    "and so clearly expanding up the full equation is a tedious and laborious process.\n",
    "   \n"
   ]
  },
  {
   "cell_type": "markdown",
   "metadata": {},
   "source": [
    "### Higher Order Tensors\n",
    "   \n",
    "For a generalized vector field $\\mathbf T = T^{i_1,\\cdots i_p}_{r_1,\\cdots r_q}$ consisting of $(p+q)$ scalar fields, and is of rank $p+q$, contravariant off order p and covariant of order q defined in both coordinate systems, then if the components of the matrix field transform \n",
    "   \n",
    "   $$ \\large\\bar{T}^{i_1,\\cdots i_p}_{r_1,\\cdots r_q} =  T^{j_1,\\cdots j_p}_{s_1,\\cdots s_q} \\frac{ \\partial \\bar{x}^{ i_1} }{ \\partial \\smash{x^{ j_1}} }\\frac{ \\partial \\bar{x}^{ i_2} }{ \\partial \\smash{x^{ j_2}}} ... \\frac{ \\partial \\bar{x}^{ i_p} }{ \\partial \\smash{x^{ j_p}}} \\frac{ \\partial x^{ s_1} }{ \\partial \\bar{x}^{ r_1}} ... \\frac{ \\partial x^{ s_q} }{ \\partial \\bar{x}^{ r_q}} \\qquad\\qquad (1.6)$$\n",
    "   \n",
    "  This is a generalized mixed tensor of rank $p+q$"
   ]
  },
  {
   "cell_type": "code",
   "execution_count": null,
   "metadata": {},
   "outputs": [],
   "source": [
    "# what does the contravariant vector look like symbolically after the transform ?\n",
    "a_1,a_2,a_3 = symbols('a_1,a_2,a_3')\n",
    "v_sph = Matrix([a_1,a_2,a_3])\n",
    "v_rect = J_1 * v_sph\n",
    "v_rect\n",
    "# vector in the cartesian coordinates from the spherical coordinates"
   ]
  },
  {
   "cell_type": "code",
   "execution_count": null,
   "metadata": {
    "collapsed": true
   },
   "outputs": [],
   "source": []
  },
  {
   "cell_type": "code",
   "execution_count": null,
   "metadata": {
    "collapsed": true
   },
   "outputs": [],
   "source": []
  },
  {
   "cell_type": "markdown",
   "metadata": {},
   "source": [
    "#### Tensor Addition\n",
    "\n",
    "The sum of two tensors of the same rank and type also produce a tensor of the same rank and type . e.g  \n",
    "   \n",
    "   $$\\large T^{pq}_{r} = A^{pq}_{r} + B^{pq}_{r}\\qquad\\qquad (1.7)$$. \n",
    "   \n",
    "This operation is associative and commutative. The same is true for subtraction."
   ]
  },
  {
   "cell_type": "markdown",
   "metadata": {},
   "source": [
    "#### Outer Product\n",
    "   \n",
    "The outer product of two tensors is a tensor\n",
    "      \n",
    "$$\\large U^{i_1\\cdots i_ak_1\\cdots k_c}_{j_1\\cdots j_bl_d\\cdots l_d}= \\left(S^{i_1\\cdots i_a}_{j_1\\cdots j_b}\\cdot T^{k_1\\cdots k_c}_{l_d\\cdots l_d} \\right)\\qquad\\qquad (1.8)$$\n",
    "   \n",
    "of order $a + b + c + d$, and is covariant of order $b+d$ and contravariant of order $a+c$. The outer product is commutative."
   ]
  },
  {
   "cell_type": "markdown",
   "metadata": {},
   "source": [
    "#### Contraction\n",
    "   \n",
    "A contraction is defined by setting two indices equal for example setting some chosen index in the range $(i_1\\cdots i_a)$ equal to some index in the range $r_1\\cdots r_b)$, then the contraction of \n",
    "   \n",
    "$$\\large T^{i_1\\cdots i_a}_{r_1\\cdots r_b}$$ \n",
    "   \n",
    "is a tensor of rank $(a+b-2)$, covariant of order $b-1$ and contravariant of order $a-1$.\n",
    "\n",
    "This operation uses the fact that $\\frac{\\partial x^p}{\\partial x^q} = \\delta^p_q$ as in calculus, $\\frac{dx}{dx} = 1$, but the change in the x axis with respect to the z axis is zero, since they are orthogonal.\n",
    "\n",
    "> A contraction can result in a loss of information.\n",
    "\n"
   ]
  },
  {
   "cell_type": "markdown",
   "metadata": {
    "collapsed": true
   },
   "source": [
    "The contraction of a second order tensor $T^i_j$ would be $T^i_i=T^1_1+T^2_2+T^3_3$ and is the trace of the tensor in matrix form."
   ]
  },
  {
   "cell_type": "markdown",
   "metadata": {},
   "source": [
    "#### Inner Product\n",
    "    \n",
    "This operation is equivalent to an outer product followed by a contraction.\n",
    "   \n",
    "If $T^i$ is a contravariant Tensor of rank 1 and $S_{ji}$ is covariant of rank 2 then since $T^i = \\bar{ T^j } \\frac{\\partial x^i}{\\partial \\bar{x}^j}$ and $S_{ji}= \\bar{S}_{pq}\\frac{\\partial \\bar{x}^p}{\\partial x^j}\\frac{\\partial \\bar{x}^q}{\\partial x^i} $ \n",
    "\n",
    "$$ (TS)_j = (T^i)(S_{ji}) = \\left(\\bar{ T^r } \\frac{\\partial x^i}{\\partial \\bar{x}^r}\\right) \\left(\\bar{S}_{pq}\\frac{\\partial \\bar{x}^p}{\\partial x^j}\\frac{\\partial \\bar{x}^q}{\\partial x^i} \\right) = \\color{red}{\\frac{\\partial x^i}{\\partial \\bar{x}^r}}\\color{blue}{ \\frac{\\partial \\bar{x}^q}{\\partial x^i} }\\color{black}{\\frac{\\partial \\bar{x}^p}{\\partial x^j} \\bar{T}^r \\bar{S}_{pq}} = \\delta_{\\color{red}{r}}^{\\color{blue}{q}}\\color{black}{\\frac{\\partial \\bar{x}^p}{\\partial x^j}} \\color{black}{\\bar{T}}^{\\color{red}{r}} \\color{black}{S}_{p\\color{blue}{q}} = \\color{black}{\\frac{\\partial \\bar{x}^p}{\\partial x^j} (\\bar{T S})_{p} } \\qquad\\qquad (1.9)$$\n",
    "   \n",
    "and the result is a covariant vector. The result of multipliying the product $\\frac{\\partial x^i}{\\partial \\bar{x}^r}\\frac{\\partial \\bar{x}^q}{\\partial x^i} = \\delta^q_r$ since the $x^i$'s cancel and the remaining differential quotient \n",
    "$\\frac{\\partial \\bar{x}^q}{\\partial \\bar{x}^r} = \\delta^q_r$ since this is equivalent to the change in x with respect to y when x is not a function of y when $r\\neq q$ and so those terms are zero, and when $r=q$ the terms are 1. The $\\delta_r^q$ term remaining then multiplies with the $\\bar{T}^r \\bar{S}_{pq}$ terms, effectively leaving the sum over p, since the other terms are zero. This second part is equivalent to a contraction."
   ]
  },
  {
   "cell_type": "markdown",
   "metadata": {},
   "source": [
    "### Review of Background \n",
    "\n",
    "For two related systems, \n",
    "   \n",
    "$$\\mathbf x = \\mathbf x(u^1, u^2, u^3)$$\n",
    "\n",
    "and\n",
    "$$\\mathbf u =\\mathbf u(x^1, x^2, x^3) $$ etc\n",
    "\n",
    "Then a point P represented in the cartesian frame, also has a representation in the curvilinear frame $(u^1, u^2, u^3)$.\n",
    "For orthogonal curvilinear coordinates, there are two reciprocal sets of vectors to consider - the tangents to the curves defined by the $u^i$ coordinates and the normals to the surfaces defined by pairs of $u^i$ coordinates, or when a $u^k = \\text{const}$. Let $\\mathbf r = x^1\\mathbf i + x^2\\mathbf j + x^3\\mathbf k$ be a position vector representing the set of all points P in the cartesian system, then the unit tangent vectors are\n",
    "   \n",
    "   \n",
    "$$   \\mathbf e^i= \\frac{\\frac{\\partial \\mathbf r}{\\partial u_i}}{\\left|\\frac{\\partial \\mathbf r}{\\partial u_i} \\right|}=\\frac{1}{h_i}\\frac{\\partial \\mathbf r}{\\partial u_i}   \\qquad\\qquad (2.0) $$\n",
    "\n",
    "where the $h_i=\\left|\\frac{\\partial r}{\\partial u^i}\\right|$ are the scale factors or Lame coefficients and the $\\mathbf e^i$ are in the directions of the tangents of $u^i$ curves. Often the $\\mathbf r$ is left out of the definition, and the unitary vectors become\n",
    "   \n",
    "$$\\partial_i = \\frac{\\partial}{\\partial u^i}$$\n",
    "\n",
    "The reciprocal set of vectors is \n",
    "   \n",
    "$$ \\hat{\\mathbf e}^p = \\frac{\\nabla u^p}{\\left|\\nabla u^p\\right|} \\qquad\\qquad (2.1)$$ \n",
    "   \n",
    "Where $\\nabla u^1 = \\frac{\\partial u^1}{\\partial x^1}\\mathbf i +\\frac{\\partial u^1}{\\partial x^2}\\mathbf j +\\frac{\\partial u^1}{\\partial x^3}\\mathbf k$. These vectors are the normals to the surface such that $\\nabla u^p$ is normal to $u^p = \\text{const}$. \n",
    "\n",
    "The terms $\\frac{\\partial \\mathbf r}{\\partial u_i}$ and $\\nabla u^p$ are called unitary base vectors , but are not unit vectors. If a vector $\\mathbf v$ is represented in these two systems...\n",
    "   \n",
    "$$ \\mathbf v = a^i \\frac{\\partial \\mathbf r}{\\partial u^i} $$\n",
    "and\n",
    "$$ \\mathbf v = b^p \\nabla u^p $$\n",
    "\n",
    "Then the $a^i$ are the <b>contravariant</b> components of $\\mathbf v$ and the $b^p$ are the <b>covariant</b> components - they are only coincident / identical if the curvilinear system is orthogonal. This case will be most systems, however these definitions are useful for the concept of the metric.\n",
    "\n",
    "Arc length : $(ds)^2 = (h_1)^2 (du^1)^2+(h_2)^2 (du^2)^2+(h_3)^2 (du^3)^2 = (h_p)^2 (du^p)^2 \\qquad\\qquad (2.2)$\n",
    "   \n",
    "   more formally  $(ds)(ds) = (h_1 du^1)(h_1 du^1) + (h_2 du^2)(h_2 du^2)+ (h_3 du^3)(h_3 du^3) = (h_p du^p)(h_q du^q)\\delta^{pq} $\n",
    "   because we should not write powers as with raised indices and we should not repeat indices.\n",
    "   \n",
    "Volume: $dV = h_1\\ h_2\\ h_3\\ du^1 du^2 du^3 = |\\mathbf e^1 \\cdot\\mathbf e^2 \\times \\mathbf e^3| \\qquad\\qquad (2.3)$ (scalar triple product).\n"
   ]
  },
  {
   "cell_type": "markdown",
   "metadata": {},
   "source": [
    "### Metric Tensor\n",
    "\n",
    "The metric Tensor is defined as $\\mathbf g =  g_{ij}$ and has the following properties...\n",
    "   \n",
    "1) $\\mathbf g$ is positive definite (and also the inverse $\\mathbf g^{-1}$\n",
    "   \n",
    "2) non-singular $|g_{ij}|\\neq 0$\n",
    "   \n",
    "3) symmetric\n",
    "   \n",
    "4) has 2nd order partial derivatives (class $C^2$\n",
    "   \n",
    "5) Is invariant with change of coordinates (see arc length below).\n",
    "   \n",
    "The concept of distance in Euclidean space, for any generalized cartesian, orthogonal curvilinear, affine coordinates is:\n",
    "   \n",
    "$$ (ds)^2 = g_{ij} (dx^i)(dx^j) \\qquad\\qquad (2.4)$$\n",
    "\n",
    "where for Euclidean systems $g_{ij}=0$ if $i\\neq j $\n",
    "\n",
    "For a coordinate system in the Euclidean metric, \n",
    "\n",
    "$$ \\mathbf G = \\mathbf J^T \\mathbf J \\qquad\\qquad (2.5)$$\n",
    "   \n",
    "and for example, the orthogonal curvlinear coordinate systems (spherical, cylindrical, dual paraboloidal, elliptic) \n",
    "all have scale factors (Lame Coefficients) and are coordinate systems of the Euclidean metric, these scale factors appear as the square roots of the diagonal elements of the metric.\n",
    "\n",
    "#### definition: The metric tensor is a covariant tensor of 2nd order."
   ]
  },
  {
   "cell_type": "markdown",
   "metadata": {},
   "source": [
    "### Example.\n",
    "   \n",
    "For spherical coordinates, the transformation to cartesian is\n",
    "   \n",
    "$$ x = r\\ \\cos\\phi\\ \\sin\\theta,\\quad y = r\\ \\sin\\phi\\ \\sin\\theta,\\quad z = r\\ \\cos\\theta $$ \n",
    "   \n",
    "where $\\theta$ is the angle from the top to the bottom of the sphere between 0 and $\\pi$, and $\\phi$ is the angle in the $xy$ plane with angle $0-360^o$ or $0 \\leq \\phi\\leq 2\\pi$. the inverse transform\n",
    "   \n",
    "$$ r = \\sqrt{ x^2 + y^2 + z^2}, \\quad \\theta = \\arccos \\frac{z}{r},\\quad \\phi = \\arctan \\frac{y}{x}$$\n",
    "   \n",
    "so we set that $(x,y,z) = (x^1,x^2,x^3)$ and $(r,\\theta,\\phi) = (\\bar{x}^1,\\bar{x}^2,\\bar{x}^3)$, (note that $\\theta$ is the second vector for this system to be right handed) then...\n",
    "   \n",
    "$$ x^1 = \\bar{x}^1\\ \\cos\\bar{x}^3\\ \\sin\\bar{x}^2,\\quad x^2 = \\bar{x}^1\\ \\sin\\bar{x}^3\\ \\sin\\bar{x}^2,\\quad x^3 = \\bar{x}^1\\ \\cos\\bar{x}^2 $$ \n",
    "and\n",
    "   \n",
    "$$ \\bar{x}^1= \\sqrt{ (x^1)^2 + (x^2)^2 + (x^3)^2}, \\quad \\bar{x}^2 = \\arccos \\frac{(x^3)}{\\sqrt{ (x^1)^2 + (x^2)^2 + (x^3)^2}},\\quad \\bar{x}^3 = \\arctan \\frac{x^2}{x^1}$$\n",
    "   \n",
    "and the Jacobian matrix of $\\frac{\\partial (x^1,x^2,x^3)}{\\partial (\\bar{x}^1,\\bar{x}^2,\\bar{x}^3)} $ we can get by calculating the derivatives ...\n",
    "   \n",
    "$$\\left( \\begin{matrix} \\frac{\\partial x^1}{\\partial \\bar{x}^1} &\\frac{\\partial x^1}{\\partial \\bar{x}^2} & \\frac{\\partial x^1}{\\partial \\bar{x}^3} \\\\\\ \\frac{\\partial x^2}{\\partial \\bar{x}^1} & \\frac{\\partial x^2}{\\partial \\bar{x}^2} & \\frac{\\partial x^2}{\\partial \\bar{x}^3} \\\\\\ \\frac{\\partial x^3}{\\partial \\bar{x}^1} & \\frac{\\partial x^3}{\\partial \\bar{x}^2} &\\frac{\\partial x^3}{\\partial \\bar{x}^3}  \\end{matrix}\\right) $$"
   ]
  },
  {
   "cell_type": "code",
   "execution_count": null,
   "metadata": {},
   "outputs": [],
   "source": [
    "J_1T = J_1.transpose()\n",
    "G_xy = simplify(J_1T*J_1)\n",
    "print \"The metric of the spherical coordinate system relative to the cartesian\"\n",
    "G_xy"
   ]
  },
  {
   "cell_type": "code",
   "execution_count": null,
   "metadata": {},
   "outputs": [],
   "source": [
    "J_2T = J_2.transpose()\n",
    "\n",
    "print \"The metric of the dy^i/dx^j where x's are cartesian and y's are spherical \"\n",
    "\n",
    "G_yx = simplify((J_2T*J_2))\n",
    "G_yx"
   ]
  },
  {
   "cell_type": "code",
   "execution_count": null,
   "metadata": {},
   "outputs": [],
   "source": [
    "\n",
    "J_2 = trigsimp(simplify(J_1.inverse_GE()))\n",
    "J_2 = J_2.subs({y_1:sqrt(x_1**2+x_2**2+x_3**2)})\n",
    "J_2 = J_2.subs( {y_2:acos( x_3/sqrt( x_1**2 + x_2**2 + x_3**2)) })\n",
    "J_2 = J_2.subs( {y_3: atan(x_2/x_1) })\n",
    "\n",
    "init_printing(use_latex=true)\n",
    "\n",
    "YY = Matrix([sqrt(x_1**2+x_2**2+x_3**2), acos( x_3/sqrt( x_1**2 + x_2**2 + x_3**2)),atan(x_2/x_1) ])\n",
    "XX = Matrix([x_1,x_2,x_3])\n",
    "jac2 = YY.jacobian(XX)\n",
    "\n",
    "jac2"
   ]
  },
  {
   "cell_type": "code",
   "execution_count": null,
   "metadata": {},
   "outputs": [],
   "source": [
    "J_2"
   ]
  },
  {
   "cell_type": "code",
   "execution_count": null,
   "metadata": {},
   "outputs": [],
   "source": [
    "simplify((jac2-J_2).subs({x_1:2,x_2:27,x_3:42})) ## easy to show with algebraic simplification"
   ]
  },
  {
   "cell_type": "markdown",
   "metadata": {
    "collapsed": true
   },
   "source": [
    "### Analysis of the Line Element\n",
    "   \n",
    "$$ (d\\mathbf x)^2 = (dx^1)^2+(dx^2)^2+(dx^3)^2 \\qquad\\qquad (2.6)$$\n",
    "\n",
    "in the context of a change of variables, the metric tensor is used - but to change between two coordinate systems\n",
    "the cartesian $x^r=x^r(u^i)$ to the $u^i$ system the scale factors are used that relate cartesian to curvilinear, they are elements of the Jacobian matrix that relate one system to the other. For example the scale factors for the $u^i$ system might be $(h_1,h_2,h_3)$, then the *line element* becomes\n",
    "   \n",
    "$$ (d\\mathbf x)^2 = (h_1)^2(du^1)^2+(h_2)^2(du^2)^2+(h_3)^2(du^3)^2 \\qquad\\qquad (2.7)$$\n",
    "\n",
    "*because* the change in the variables $dx^i$ with respect to the $u^k$ system requires the Jacobian, and if for example the $u^k$ system was a Euclidean metric the variables can be derived easily\n",
    "   \n",
    "$$\\frac{dx^1}{du^1} = h_1, \\implies dx^1 = h_1 du^1 ? $$ \n",
    "   \n",
    "etc, then the line element is easily found through substitution. The general form of $dx^i$ in $n$ dimensions is \n",
    "   \n",
    "$$ dx^i = \\frac{\\partial x^i}{\\partial u^j}du^j = \\frac{\\partial x^i}{\\partial u^1}du^1 +\\frac{\\partial x^i}{\\partial u^2}du^2+\\cdots \\frac{\\partial x^i}{\\partial u^n}du^n \\qquad\\qquad (2.8) $$\n",
    "   \n",
    "and so the scale factor becomes quite different (and the metric).\n",
    "   \n",
    "The line element is important, as it ensures that distance between two points is an invariant between coordinate systems. This is why it is often attached to the notion of the metric. The metric can also be associated with the concept of a dot product between two vectors defined on a surface transforming as $\\mathbf a^T \\mathbf G \\mathbf a$ and \n",
    "from the dot product the angle can be produced. As from differential geometry, we can expand the differential in the arc length function as follows ... \n",
    "   \n",
    "$$ (d\\mathbf x)^2   = \\left(\\frac{\\partial \\mathbf x}{\\partial u^p}du^p\\right)\\cdot\\left(\\frac{\\partial \\mathbf  x}{\\partial u^q}du^q\\right) \\qquad\\qquad (2.9)$$\n",
    "   \n",
    "And the terms in brackets can be expanded.\n",
    "   \n",
    "$$ \\implies (d\\mathbf x)^2 = \\left(\\frac{\\partial\\mathbf x}{\\partial u^1}du^1 +\\frac{\\partial\\mathbf x}{\\partial u^2}du^2+\\frac{\\partial\\mathbf x}{\\partial u^3}du^3 \\right)\\left(\\frac{\\partial \\mathbf x}{\\partial u^1}du^1 +\\frac{\\partial \\mathbf x}{\\partial u^2}du^2+\\frac{\\partial \\mathbf x}{\\partial u^3}du^3 \\right) \\qquad\\qquad (2.91)$$\n",
    "   \n",
    "\n"
   ]
  },
  {
   "cell_type": "markdown",
   "metadata": {
    "collapsed": true
   },
   "source": [
    "Therefore expanding\n",
    "\n",
    "$$ (d\\mathbf x)^2 = \\frac{\\partial\\mathbf x}{\\partial u^1}\\cdot \\frac{\\partial\\mathbf x}{\\partial u^1} (du^1)^2   +\\frac{\\partial\\mathbf x}{\\partial u^2}\\cdot\\frac{\\partial\\mathbf x}{\\partial u^2}(du^2)^2  +\\frac{\\partial\\mathbf x}{\\partial u^3}\\cdot\\frac{\\partial\\mathbf x}{\\partial u^3}(du^3)^2 +2\\frac{\\partial\\mathbf x}{\\partial u^1}\\cdot\\frac{\\partial\\mathbf x}{\\partial u^2}du^1 du^2+  2\\frac{\\partial\\mathbf x}{\\partial u^1}\\cdot\\frac{\\partial\\mathbf x}{\\partial u^3}du^1 du^3 +2\\frac{\\partial\\mathbf x}{\\partial u^2}\\cdot\\frac{\\partial\\mathbf x}{\\partial u^3}du^2 du^3 $$"
   ]
  },
  {
   "cell_type": "markdown",
   "metadata": {},
   "source": [
    "thus we have that if $\\frac{\\partial\\mathbf x}{\\partial u^1}$ is orthogonal to $\\frac{\\partial\\mathbf x}{\\partial u^2}$ then the dot product $=0$ and likewise for all $\\frac{\\partial\\mathbf x}{\\partial u^i}\\cdot \\frac{\\partial\\mathbf x}{\\partial u^j}\\quad |\\quad i\\neq j$  \n",
    "\n",
    "Then this expression reduces to ...\n",
    "\n",
    "$$ (d\\mathbf x)^2 = \\frac{\\partial\\mathbf x}{\\partial u^1}\\cdot \\frac{\\partial\\mathbf x}{\\partial u^1} (du^1)^2   +\\frac{\\partial\\mathbf x}{\\partial u^2}\\cdot\\frac{\\partial\\mathbf x}{\\partial u^2}(du^2)^2  +\\frac{\\partial\\mathbf x}{\\partial u^3}\\cdot\\frac{\\partial\\mathbf x}{\\partial u^3}(du^3)^2 \\qquad\\qquad (2.92) $$\n",
    "   \n",
    "and of course, the $\\frac{\\partial\\mathbf x}{\\partial u^i}$ are the unitary vectors *and these are* the components of the Jacobian matrix of $\\mathbf x$ with respect to $\\mathbf u$ and therefore the dot products are the result of the product defining the metric, $\\mathbf J^T \\mathbf J$ , hence we have that  $\\frac{\\partial\\mathbf x}{\\partial u^i} = h_i \\mathbf e^i $, then the dot product of these vectors with themselves produces $(h_i)^2$, therefore ...\n",
    "   \n",
    "$$ (d\\mathbf x)^2 = (h_1)^2 (du^1)^2+(h_2)^2 (du^2)^2+(h_3)^2 (du^3)^2 $$\n",
    "   \n",
    "and so $h_1 = \\sqrt g_{11} $ for *orthogonal systems*"
   ]
  },
  {
   "cell_type": "markdown",
   "metadata": {},
   "source": [
    "However if the system is not orthogonal, we already know that ...\n",
    "   \n",
    "$$ (d\\mathbf s)^2 = g_{11}\\ (du^1)(du^1)   +g_{22}\\ (du^2)(du^2)  +g_{33}\\ (du^3)(du^3) +2\\ g_{12}\\ (du^1) (du^2)+  2\\  g_{13}\\ (du^1)( du^3) +2\\ g_{23}\\ (du^2) (du^3) \\qquad\\qquad (2.93)$$\n",
    "   \n",
    "where the metric is defined by ...\n",
    "   \n",
    "$$ \\left( \\begin{array}{ccc}\\ g_{11} & g_{12} & g_{13} \\\\ g_{21} & g_{22} & g_{23} \\\\ g_{31} & g_{32} & g_{33} \\end{array} \\right) $$\n",
    "   \n",
    "and the components $g_{ij} = \\frac{\\partial x^i}{\\partial u^j}\\frac{\\partial x^j}{\\partial u^i} $ and $g_{ij} = g_{ji}$\n",
    "   \n",
    "and is symmetric and positive definate, as $\\mathbf G= \\mathbf J^T \\mathbf J = \\frac{\\partial (x^1,x^2,x^3)}{\\partial (u^1, u^2,u^3)} ^T \\frac{\\partial (x^1,x^2,x^3)}{\\partial (u^1, u^2,u^3)} $\n",
    "\n",
    "> Apparently if $\\mathbf g$ is non-Euclidean, then there exists no coordinate system where $G=I$ the identity matrix, and so this approach using Jacobian matrices does not work - proof needed.\n",
    "\n",
    "Supposing $\\mathbf J = \\frac{\\partial \\bar{x}^i}{\\partial x^j}$ where $\\bar{x}^i$ is rectangular, then in $x^j$ the metric equals $\\mathbf J^T \\mathbf J$ but in $\\bar{x}^i$ the metric is the identity matrix. This can be shown above, in the example of spherical coordinates where the inverse metric is not orthogonal (not diagonal) and represents the rectangular space in spherical geometry. This is why we must define a concept called the conjugate metric tensor, that is the *inverse* of the metric tensor of $x^j$ defined as $ (\\mathbf J^T \\mathbf J )^{-1} $  \n",
    "\n",
    "> Note: The metric can also be formed from the scalar triple product $\\frac{\\partial \\mathbf x}{\\partial u^1}\\cdot \\frac{\\partial \\mathbf x}{\\partial u^2}\\times\\frac{\\partial \\mathbf x}{\\partial u^3}$\n",
    "\n",
    "### Transformation of the metric\n",
    "   \n",
    "The metric tensor is covariant, \n",
    "   \n",
    "$$ \\bar{g}_{pq} = g_{jk}\\frac{\\partial  x^j}{\\partial \\bar{x}^p}\\frac{\\partial x^k}{\\partial \\bar{x}^q} \\qquad\\qquad (2.94)$$"
   ]
  },
  {
   "cell_type": "markdown",
   "metadata": {},
   "source": [
    "\n",
    "\n",
    "### Raising and lowering indices\n",
    "   \n",
    "#### definition. The inner product of a contravariant vector and a covariant tensor of 2nd order is a covariant vector. Therefore\n",
    "   \n",
    "$$T_i = g_{ij} T^j \\qquad\\qquad (2.95) $$\n",
    "\n",
    "*defines* the operation of lowering indices of a contravariant vector. Equivalently \n",
    "   \n",
    "$$ T^i = g^{ij}T_j \\qquad\\qquad (2.96)$$\n",
    "\n",
    "where $g^{ij} = (g_{ij})^{-1}$ is the inverse."
   ]
  },
  {
   "cell_type": "markdown",
   "metadata": {},
   "source": [
    "for a contravariant vector, a velocity, in the $x^r$ system, transforms into $u^i$ according to the rule  \n",
    "  \n",
    "  $$ \\frac{\\partial u^i}{\\partial t} = \\frac{\\partial u^i}{\\partial x^r} \\frac{\\partial x^r}{\\partial t}$$\n",
    "    \n",
    "relabelled $T^i = \\frac{\\partial u^i}{\\partial t}$ and $T^r = \\frac{\\partial u^r}{\\partial t}$ then\n",
    "   \n",
    "   $$ T_j = g_{ji}T^i = g_{ji}\\frac{\\partial u^i}{\\partial x^r}T^r $$\n",
    "   \n",
    "as the the sphere, the jacobian is built from the changes of the transformation *to cartesian*, or the partial derivatives of $\\mathbf x=\\mathbf x(u^i)$ to transform the vector *from cartesian* to the curvlinear system $u^i$ \n",
    "and since \n",
    "  $$ g_{ji}= g_{pq}\\frac{\\partial x^p}{\\partial u^j}\\frac{\\partial x^q}{\\partial u^i} $$\n",
    "\n",
    "   our equation becomes\n",
    "   \n",
    "$$ g_{ji}T^i =  \\left(\\frac{\\partial x^j}{\\partial u^i}\\frac{\\partial x^j}{\\partial u^i}\\right)\\frac{\\partial u^i}{\\partial x^r}T^r = \\frac{\\partial x^j}{\\partial u^i}\\left(\\frac{\\partial x^j}{\\partial u^i}\\frac{\\partial u^i}{\\partial x^r}\\right)T^r =  \\frac{\\partial x^j}{\\partial u^i} \\delta^j_r T^r =\\frac{\\partial x^j}{\\partial u^i} T^j = T_i$$\n",
    "   \n",
    "since $\\frac{\\partial x^j}{\\partial x^r} = \\delta^j_r $ and although the indices have changed, this seems to be the lowering of an index operation. It also seems to only work with the consideration of the idea that $g_{ji}=g_{ij}$ and $g_{ij}=0$ if $i\\neq j$. So a quick review of the method of multiplying contravariant vector by a covariant tensor of order 2 reveals ... ( arbitrarily changing the rectangular $x^i$'s to a barred notation to show how they are associated with the Tensors)"
   ]
  },
  {
   "cell_type": "markdown",
   "metadata": {},
   "source": [
    "$$ V_j = (T^i)(g_{ji}) = \\left(\\bar{ T^r } \\frac{\\partial u^i}{\\partial \\bar{x}^r}\\right) \\left(\\bar{g}_{pq}\\frac{\\partial \\bar{x}^p}{\\partial u^j}\\frac{\\partial \\bar{x}^q}{\\partial u^i} \\right) = \\color{red}{\\frac{\\partial u^i}{\\partial \\bar{x}^r}}\\color{blue}{ \\frac{\\partial \\bar{x}^q}{\\partial u^i} }\\color{black}{\\frac{\\partial \\bar{x}^p}{\\partial u^j} \\bar{T}^r \\bar{g}_{pq}} = \\delta_{\\color{red}{r}}^{\\color{blue}{q}}\\color{black}{\\frac{\\partial \\bar{x}^p}{\\partial u^j}} \\color{black}{\\bar{T}}^{\\color{red}{r}} \\color{black}{g}_{p\\color{blue}{q}} = \\color{black}{\\frac{\\partial \\bar{x}^p}{\\partial u^j} (\\bar{V})_{p} } \\qquad\\qquad (2.98)$$"
   ]
  },
  {
   "cell_type": "markdown",
   "metadata": {},
   "source": [
    "what exactly does $\\bar{V}_p$ look like now ? I think its still $\\frac{\\partial x^p}{\\partial t}$, and this would be a contravariant velocity transformed to a covariant velocity - this needs to be checked out. I think the answer is in the use of the Kronecker delta, the $\\delta_r^q$ can cause the product to be $\\bar{T}^r g_{pr}$ , then \n",
    "this would be\n",
    "   \n",
    " $$V_j =\\frac{\\partial \\bar{x}^p}{\\partial u^j}\\bar{T}^r g_{pr} = \\frac{\\partial \\bar{x}^1}{\\partial u^j} (\\bar{T}^r g_{1r} ) + \\frac{\\partial \\bar{x}^2}{\\partial u^j} (\\bar{T}^r g_{2r} ) + \\frac{\\partial \\bar{x}^3}{\\partial u^j} (\\bar{T}^r g_{3r} ) \\qquad\\qquad (2.99) $$\n",
    " \n",
    " and so the tensor part is $(\\bar{T}^r g_{ir} ) = \\bar{T}^1 g_{i1} + \\bar{T}^2 g_{i2} + \\bar{T}^3 g_{i3}$ and so again, we ask, what is $\\bar{T}^r$ and clearly its just \n",
    " \n",
    " $$\\bar{T}^r = \\frac{\\partial x^r}{\\partial t}$$"
   ]
  },
  {
   "cell_type": "code",
   "execution_count": null,
   "metadata": {
    "scrolled": true
   },
   "outputs": [],
   "source": [
    "# and this contravariant velocity in the spherical coordinates\n",
    "v_sph"
   ]
  },
  {
   "cell_type": "code",
   "execution_count": null,
   "metadata": {},
   "outputs": [],
   "source": [
    "# covariant velocity in the spherical coordinates (lowered index)\n",
    "v_sph_cov = simplify( J_1.T*J_1) * v_sph\n",
    "v_sph_cov"
   ]
  },
  {
   "cell_type": "code",
   "execution_count": null,
   "metadata": {},
   "outputs": [],
   "source": [
    "# multiplication by the J_1.inverse.T \n",
    "v_rect = simplify(J_1.inverse_ADJ().T)*v_sph_cov\n",
    "v_rect\n",
    "# and we recover the vector in cartesian coordinates - because the J_1.T inverse cancels J_1.T"
   ]
  },
  {
   "cell_type": "code",
   "execution_count": null,
   "metadata": {
    "collapsed": true
   },
   "outputs": [],
   "source": []
  },
  {
   "cell_type": "markdown",
   "metadata": {},
   "source": [
    "### example\n",
    "   \n",
    "Lets take a vector, represented in spherical coordinates, $(\\mathbf e^\\rho, \\mathbf e^\\theta, \\mathbf e^\\phi) = (\\mathbf e^1, \\mathbf e^2, \\mathbf e^3) $ and represent it in barred rectangular coordinates $(\\mathbf i, \\mathbf j,\\mathbf k)=(\\mathbf {\\hat{e}}^1,\\mathbf {\\hat{e}}^2,\\mathbf {\\hat{e}}^3)$ ..."
   ]
  },
  {
   "cell_type": "markdown",
   "metadata": {},
   "source": [
    "lets say, $\\mathbf v = 1.2  \\mathbf e^1 + \\pi 0.5  \\mathbf e^2 + \\pi  \\mathbf e^3 $ and transform this vector ...\n",
    "   \n",
    "$$\\frac{\\partial A^i}{\\partial t} = \\frac{\\partial A^i}{\\partial u^r}\\frac{\\partial u^r}{\\partial t} $$\n",
    "   \n",
    "Now $\\mathbf A$ must be $\\mathbf A = r\\ \\cos\\phi\\ \\sin\\theta\\ \\mathbf {\\hat{e}}^1 + r\\ \\sin\\phi\\ \\sin\\theta\\ \\mathbf {\\hat{e}}^2 + r\\ \\cos\\theta\\ \\mathbf {\\hat{e}}^3$ and for the derivatives of $\\mathbf A$ with respect to the $u$ system I will use the jacobian (J_1) defined as \"The Jacobian of the dx^i/dy^j where x's are cartesian and y's are spherical\". \n",
    "   \n",
    "now I will first compute the derivatives for each $u^i$ ...\n",
    "\n",
    "   $$\\frac{\\partial u^1}{\\partial t} = v^1$$\n",
    "and\n",
    "   $$\\frac{\\partial u^2}{\\partial t} = v^2 $$\n",
    "and\n",
    "   $$\\frac{\\partial u^3}{\\partial t} = v^3 $$\n",
    "\n",
    "now in the code, the $u$ coordinates are labelled $y$ from earlier."
   ]
  },
  {
   "cell_type": "code",
   "execution_count": null,
   "metadata": {
    "scrolled": true
   },
   "outputs": [],
   "source": [
    "t = symbols('t')\n",
    "v = Matrix([1.2, 0.5*3.14159,3.14159 ])\n",
    "dAdt = J_1*v\n",
    "dAdt"
   ]
  },
  {
   "cell_type": "code",
   "execution_count": null,
   "metadata": {
    "collapsed": true
   },
   "outputs": [],
   "source": [
    "# earlier I forgot that the y_1 coordinate is the integral of its velocity - so I integrated these by hand\n",
    "dAdt = dAdt.subs({y_1:1.2*t, y_2:0.5*3.14159*t, y_3:3.14159*t})"
   ]
  },
  {
   "cell_type": "code",
   "execution_count": null,
   "metadata": {},
   "outputs": [],
   "source": [
    "from sympy import symbols, cos, sin\n",
    "from sympy.plotting import plot3d_parametric_line\n",
    "%matplotlib inline\n",
    "\n",
    "p1 = plot3d_parametric_line(dAdt[0], dAdt[1], dAdt[2], (t, 0, 15), show = False)\n",
    "\n",
    "p1.show()"
   ]
  },
  {
   "cell_type": "code",
   "execution_count": null,
   "metadata": {},
   "outputs": [],
   "source": [
    "# nw for the position vector, in spherical coordinates\n",
    "v2 = Matrix([1.2*t, 0.5*3.14159*t,3.14159*t ])\n",
    "A_sph = Matrix([v2[0]*cos(v2[2]) * sin(v2[1]),v2[0]*sin(v2[2]) * sin(v2[1]),v2[0]* cos(v2[1])  ])\n",
    "A_sph"
   ]
  },
  {
   "cell_type": "code",
   "execution_count": null,
   "metadata": {},
   "outputs": [],
   "source": [
    "p1 = plot3d_parametric_line(A_sph[0]+dAdt[0]*t, A_sph[1]+dAdt[1]*t, A_sph[2]+dAdt[2]*t, (t, 0, 20), show = False)\n",
    "\n",
    "p1.show()"
   ]
  },
  {
   "cell_type": "code",
   "execution_count": null,
   "metadata": {
    "collapsed": true
   },
   "outputs": [],
   "source": [
    "import numpy as np\n",
    "import matplotlib.pyplot as plt\n",
    "import matplotlib as mpl\n",
    "%matplotlib inline\n",
    "from mpl_toolkits.mplot3d import Axes3D\n",
    "from matplotlib import cm\n",
    "from matplotlib.patches import FancyArrowPatch\n",
    "from mpl_toolkits.mplot3d import proj3d\n",
    "from matplotlib import pylab\n",
    "from matplotlib.text import Annotation"
   ]
  },
  {
   "cell_type": "code",
   "execution_count": null,
   "metadata": {},
   "outputs": [],
   "source": [
    "\n",
    "\n",
    "class Annotation3D(Annotation):\n",
    "    '''Annotate the point xyz with text s'''\n",
    "\n",
    "    def __init__(self, s, xyz, *args, **kwargs):\n",
    "        Annotation.__init__(self,s, xy=(0,0), *args, **kwargs)\n",
    "        self._verts3d = xyz        \n",
    "\n",
    "    def draw(self, renderer):\n",
    "        xs3d, ys3d, zs3d = self._verts3d\n",
    "        xs, ys, zs = proj3d.proj_transform(xs3d, ys3d, zs3d, renderer.M)\n",
    "        self.xy=(xs,ys)\n",
    "        Annotation.draw(self, renderer)\n",
    "\n",
    "def annotate3D(ax, s, *args, **kwargs):\n",
    "    '''add anotation text s to to Axes3d ax'''\n",
    "\n",
    "    tag = Annotation3D(s, *args, **kwargs)\n",
    "    ax.add_artist(tag)\n",
    "\n",
    "# http://stackoverflow.com/questions/22867620/putting-arrowheads-on-vectors-in-matplotlibs-3d-plot\n",
    "# posted this fancy arrow object\n",
    "class Arrow3D(FancyArrowPatch):\n",
    "    def __init__(self, xs, ys, zs, *args, **kwargs):\n",
    "        FancyArrowPatch.__init__(self, (0,0), (0,0), *args, **kwargs)\n",
    "        self._verts3d = xs, ys, zs\n",
    "\n",
    "    def draw(self, renderer):\n",
    "        xs3d, ys3d, zs3d = self._verts3d\n",
    "        xs, ys, zs = proj3d.proj_transform(xs3d, ys3d, zs3d, renderer.M)\n",
    "        self.set_positions((xs[0],ys[0]),(xs[1],ys[1]))\n",
    "        FancyArrowPatch.draw(self, renderer)   \n",
    "        \n",
    "def PlotBasisCartesian():\n",
    "    a = Arrow3D([0, 0], [0, 0], [0, 1], mutation_scale=5, lw=2, arrowstyle=\"-|>\", color=\"k\")\n",
    "    ax.add_artist(a)\n",
    "    a = Arrow3D([0, 1], [0, 0], [0, 0], mutation_scale=5, lw=2, arrowstyle=\"-|>\", color=\"k\")\n",
    "    ax.add_artist(a)\n",
    "    a = Arrow3D([0, 0], [0, 1], [0, 0], mutation_scale=5, lw=2, arrowstyle=\"-|>\", color=\"k\")\n",
    "    ax.add_artist(a) \n",
    "    annotate3D(ax, r'$ \\hat{i}$', xyz=(1,0,0), fontsize=10, xytext=(-3,4),\n",
    "               textcoords='offset points', ha='right',va='bottom') \n",
    "    annotate3D(ax, r'$ \\hat{j}$', xyz=(0,1,0), fontsize=10, xytext=(-3,4),\n",
    "               textcoords='offset points', ha='right',va='bottom') \n",
    "    annotate3D(ax, r'$ \\hat{k}$', xyz=(0,0,1), fontsize=10, xytext=(-3,4),\n",
    "                   textcoords='offset points', ha='right',va='bottom') \n",
    "    \n",
    "# requires sympy vector\n",
    "# requires CoordSysCartesian e\n",
    "# requires Arrow3D\n",
    "# requires Annotate3D\n",
    "def plot_arrow(o, v1, e, name,col):\n",
    "        LX=[float(N(o.dot(e.i))), float(N(v1.dot(e.i) + o.dot(e.i)))]\n",
    "        LY=[float(N(o.dot(e.j))), float(N(v1.dot(e.j) + o.dot(e.j)))]\n",
    "        LZ=[float(N(o.dot(e.k))), float(N(v1.dot(e.k) + o.dot(e.k)))]\n",
    "        a = Arrow3D(LX, LY, LZ, mutation_scale=5, lw=2, arrowstyle=\"-|>\", color=col)\n",
    "        ax.add_artist(a)\n",
    "        xyz_ = (LX[1], LY[1], LZ[1])\n",
    "        annotate3D(ax, name, xyz=xyz_, fontsize=17, xytext=(-3,4),\n",
    "               textcoords='offset points', ha='right',va='bottom')\n",
    "\n",
    "# requires plot_arrow\n",
    "def plot_basis(o,v1,v2,v3,e,col):\n",
    "    plot_arrow(o,v1,e,r'$ \\hat{e_1}$',col)\n",
    "    plot_arrow(o,v2,e,r'$ \\hat{e_2}$',col)\n",
    "    plot_arrow(o,v3,e,r'$ \\hat{e_3}$',col)    \n",
    "    \n",
    "# set up some symbols, that don't clash with the numpy variables above\n",
    "phi,theta1, rho1,zz  = symbols('phi,theta1, rho1,zz')\n",
    "\n",
    "# create vector that transforms from cylindrical coordinates to cartesian\n",
    "r = rho1*sin(theta1)*cos(phi)*e.i + rho1*sin(theta1)*sin(phi)*e.j + rho1*cos(theta1)*e.k\n",
    "\n",
    "# differentiate the vector,\n",
    "dr_rho = diff(r,rho1)\n",
    "dr_theta = diff(r,theta1)\n",
    "dr_phi = diff(r,phi)\n",
    "\n",
    "# compute the coordinate vectors,  forming e_1 = (dr/du_1)/|dr/du_1|, etc\n",
    "E1 = dr_rho / dr_rho.magnitude()\n",
    "E2 = dr_theta / dr_theta.magnitude()\n",
    "E3 = dr_phi / dr_phi.magnitude()\n",
    "\n",
    "PI = 3.14159\n",
    "theta_angle = PI/2-PI/12\n",
    "phi_angle = 0\n",
    "radius = 2\n",
    "# add some numbers, keeping the frame for reuse\n",
    "P1 =   r.subs( {rho1:radius, theta1:theta_angle, phi:phi_angle })\n",
    "E1_1 = E1.subs({rho1:radius, theta1:theta_angle, phi:phi_angle })\n",
    "E2_1 = E3.subs({rho1:radius, theta1:theta_angle, phi:phi_angle })\n",
    "E3_1 = E2.subs({rho1:radius, theta1:theta_angle, phi:phi_angle })\n",
    "\n",
    "v = Matrix([1.2, 0.5*3.14159,3.14159 ])\n",
    "dAdt = J_1.T*v\n",
    "#dAdt = dAdt.subs({y_1:1.2*t, y_2:0.5*3.14159*t, y_3:3.14159*t})\n",
    "\n",
    "dUdt_vec = dAdt[0] * e.i + dAdt[1] * e.j + dAdt[2] * e.k\n",
    "A_plus_dAdt = r.subs({rho1:radius, theta1:theta_angle, phi:phi_angle })\n",
    "\n",
    "ep = CoordSysCartesian('ep')\n",
    "\n",
    "dUdt_polar = v[0] * ep.i + v[1] * ep.j + v[2] * ep.k\n",
    "A_plus_dAdt_polar = radius * ep.i + theta_angle * ep.j + phi_angle * ep.k\n",
    "\n",
    "mpl.rcParams['legend.fontsize'] = 10\n",
    "\n",
    "fig = plt.figure(figsize=(8, 8))\n",
    "ax = fig.gca(projection='3d')\n",
    "\n",
    "PlotBasisCartesian()\n",
    "\n",
    "zero_vec = 0*e.i+0*e.j+0*e.k\n",
    "\n",
    "plot_basis(zero_vec, E1_1, E2_1, E3_1, e, \"r\")\n",
    "\n",
    "for it in range(0,400):\n",
    "    prev_vec = A_plus_dAdt \n",
    "    px = prev_vec.magnitude()\n",
    "    ptheta = acos(prev_vec.dot(e.k)/px)\n",
    "    pphi = atan( prev_vec.dot(e.j) / prev_vec.dot(e.i) )\n",
    "    velocity_increment = dUdt_vec.subs({y_1:  v[0],y_2:v[1], y_3:v[2]})\n",
    "    A_plus_dAdt = A_plus_dAdt + velocity_increment *1/10\n",
    "    plot_arrow(prev_vec, A_plus_dAdt-prev_vec, e, \"\",\"r\")\n",
    "    \n",
    "prev_vec = zero_vec\n",
    "for it in range(0,200):\n",
    "    prev_vec = A_plus_dAdt_polar \n",
    "    A_plus_dAdt_polar = A_plus_dAdt_polar + dUdt_polar*1/10\n",
    "    old_vec = r.subs({rho1: prev_vec.dot(ep.i),theta1: prev_vec.dot(ep.j),phi: prev_vec.dot(ep.k)})\n",
    "    new_vec = r.subs({rho1: A_plus_dAdt_polar.dot(ep.i),\n",
    "                      theta1: A_plus_dAdt_polar.dot(ep.j),\n",
    "                      phi: A_plus_dAdt_polar.dot(ep.k)})\n",
    "    #print old_vec\n",
    "    #print A_plus_dAdt_polar\n",
    "    plot_arrow(old_vec, new_vec-old_vec, e, \"\",\"g\")    \n",
    "\n",
    "# draw vertical line from (70,100) to (70, 250)\n",
    "plt.plot([0, 0], [1, 2], 'k-', lw=2)\n",
    "\n",
    "# draw diagonal line from (70, 90) to (90, 200)\n",
    "plt.plot([0, 0], [1, 2], 'k-')\n",
    "\n",
    "ax.set_xlim(-20, 20)\n",
    "ax.set_ylim(-20, 20)\n",
    "ax.set_zlim(-20, 20)\n",
    "\n",
    "print \"Obviously the green arrows don't match, I need to look up equations of motion in polar coords\"\n",
    "plt.show()"
   ]
  },
  {
   "cell_type": "code",
   "execution_count": null,
   "metadata": {
    "collapsed": true
   },
   "outputs": [],
   "source": []
  },
  {
   "cell_type": "markdown",
   "metadata": {},
   "source": [
    "So, clearly in the diagram, consistently updating a vector with the contravariant velocity (converted from polar coordinates) $  x = x_0 + v(t)\\ t $, does in fact show a space curve (red). However the amusing part is the green arrows are all the same equation in spherical coordinates then converted to cartesian, the difference is that the spherical coordinate equation updates the angles independant of the radius - I need to look this up.\n",
    "\n",
    "> The plot above does require a lot of extra code, however these code definitions can be useful to get a more precise understanding of tensor's in differential geometry and physics, unfortunately I can't make a package that would be visible on github."
   ]
  },
  {
   "cell_type": "markdown",
   "metadata": {},
   "source": [
    "### Velocity in curvlinear coordinates\n",
    "   \n",
    "If $\\mathbf r = y^1\\mathbf e_1  +y^2\\mathbf e_2 +y^3\\mathbf e_3$ is a vector in spherical coordinates then  $\\mathbf v = \\frac{d \\mathbf r}{dt} = \\dot{y}^1\\mathbf e_1 +\\dot{y}^2\\mathbf e_2  + \\dot{y}^3\\mathbf e_3 $ and $\\mathbf a = \\frac{d\\mathbf v}{dt} =\\frac{d^2\\mathbf r}{dt^2}=\\ddot{y}^1\\mathbf e_1  +\\ddot{y}^2\\mathbf e_2  + \\ddot{y}^3\\mathbf e_3 $ so to eypress these in rectangular coordinates the transform to cartesian is eypressed as\n",
    "   \n",
    "$$\\mathbf r = \\rho\\ \\cos\\phi\\ \\sin\\theta\\ \\mathbf i + \\rho\\ \\sin\\phi\\ \\sin\\theta\\ \\mathbf j + \\rho\\ \\cos\\theta\\ \\mathbf k=y^1\\ \\cos (y^3)\\ \\sin (y^2)\\ \\mathbf i + y^1\\ \\sin (y^3)\\ \\sin (y^2)\\ \\mathbf j + y^1\\ \\cos (y^2)\\ \\mathbf k \\qquad\\qquad (3.0)$$\n",
    "\n",
    "and so \n",
    "\n",
    "$$ \\mathbf i =  \\sin(y^2) \\cos(y^3)\\ \\mathbf e_1 +  \\cos(y^2) \\cos(y^3)\\ \\mathbf e_2 - sin(y^2) \\sin(y^3) \\mathbf e_3 \\qquad\\qquad (3.01)$$\n",
    "and\n",
    "$$ \\mathbf j =  \\sin(y^2) \\sin(y^3)\\ \\mathbf e_1 +  \\cos(y^2) \\sin(y^3)\\ \\mathbf e_2 + sin(y^2) \\cos(y^3) \\mathbf e_3 \\qquad\\qquad (3.02)$$\n",
    "and\n",
    "$$ \\mathbf k =   \\cos(y^2)\\ \\mathbf e_1 -  \\sin(y^2) \\mathbf e_2  \\qquad\\qquad (3.03)$$\n",
    "\n"
   ]
  },
  {
   "cell_type": "markdown",
   "metadata": {},
   "source": [
    "\n",
    "\n",
    "\n",
    "$$\\begin{array}{rcl}\n",
    "\\mathbf r\t&\t=\t&\ty^1\\ \\cos (y^3)\\ \\sin (y^2)\\ (\\sin(y^2) \\cos(y^3)\\ \\mathbf e_1 +  \\cos(y^2) \\cos(y^3)\\ \\mathbf e_2 - sin(y^2) \\sin(y^3) \\mathbf e_3)        \\\\\n",
    "\t&\t+\t&\ty^1\\ \\sin (y^3)\\ \\sin (y^2)\\ (\\sin(y^2) \\sin(y^3)\\ \\mathbf e_1 +  \\cos(y^2) \\sin(y^3)\\ \\mathbf e_2 + sin(y^2) \\cos(y^3) \\mathbf e_3)      \\\\\n",
    "\t&\t+\t&\t y^1\\ \\cos (y^2)\\ (\\cos(y^2)\\ \\mathbf e_1 -  \\sin(y^2) \\mathbf e_2)   \n",
    " \t \t \t \t\\end{array}$$\n",
    "                \n",
    "This is equation $\\qquad\\qquad (3.1)$"
   ]
  },
  {
   "cell_type": "markdown",
   "metadata": {},
   "source": [
    "changing notation makes this simpler, set $c_i = \\cos(y^i), s_i = \\sin(y^i)$ then\n",
    "\n",
    "$$\\mathbf r = y^1 c_3 s_2 ( s_2 c_3\\mathbf e_1 + c_2 c_3 \\mathbf e_2 - s_2 s_3 \\mathbf e_3) + y^1 s_3 s_2( s_2 s_3 \\mathbf e_1 + c_2 s_3 \\mathbf e_2 + s_2 c_3 \\mathbf e_3) + y^1 c_2 (c_2 \\mathbf e_1 - s_2 \\mathbf e_2)$$\n",
    "\n",
    "and this expands to\n",
    "\n"
   ]
  },
  {
   "cell_type": "markdown",
   "metadata": {},
   "source": [
    "\n",
    "\n",
    "$$\\begin{array}{rcl}\n",
    "\\mathbf r \t&\t=\t&\ty^1 c_3 s_2 s_2 c_3\\mathbf e_1 + y^1 c_3 s_2 c_2 c_3 \\mathbf e_2 - y^1 c_3 s_2 s_2 s_3 \\mathbf e_3)       \\\\\n",
    "\t&\t+\t&\t(y^1 s_3 s_2 s_2 s_3 \\mathbf e_1 + y^1 s_3 s_2 c_2 s_3 \\mathbf e_2 + y^1 s_3 s_2 s_2 c_3 \\mathbf e_3)     \\\\\n",
    "\t&\t+\t&\t(y^1 c_2 c_2 \\mathbf e_1 - y^1 c_2 s_2 \\mathbf e_2)   \n",
    " \\end{array}$$"
   ]
  },
  {
   "cell_type": "markdown",
   "metadata": {},
   "source": [
    "grouping terms by the $\\mathbf e_i$ vectors gives $\\qquad\\qquad (3.12)$ ...\n",
    "\n",
    "\n",
    "$$\\begin{array}{rcl}\n",
    "\\mathbf r \t&\t=\t&\t(y^1 c_3 s_2 s_2 c_3 +y^1 s_3 s_2 s_2 s_3 +y^1 c_2 c_2) \\mathbf e_1       \\\\\n",
    "\t&\t+\t&\t( y^1 c_3 s_2 c_2 c_3  + y^1 s_3 s_2 c_2 s_3 - y^1 c_2 s_2) \\mathbf e_2     \\\\\n",
    "\t&\t+\t&\t(y^1 s_3 s_2 s_2 c_3- y^1 c_3 s_2 s_2 s_3) \\mathbf e_3   \n",
    " \\end{array}$$"
   ]
  },
  {
   "cell_type": "markdown",
   "metadata": {},
   "source": [
    "This can be factorized and simpifed using trignometric identities (i.e. $s_2^2 + c_2^2 = 1$ )...\n",
    "\n",
    "$$ \\mathbf r =  y^1( (c_3)^2 (s_2)^2 + (s_2)^2 (s_3)^2 + (c_2)^2) \\mathbf e_1+ y^1(  (c_3)^2 s_2 c_2  +  (s_3)^2 s_2 c_2 -  c_2 s_2) \\mathbf e_2  $$"
   ]
  },
  {
   "cell_type": "markdown",
   "metadata": {},
   "source": [
    "$$\\mathbf r = y^1 \\mathbf e_1 = y^1(t) \\mathbf e_1(t) \\qquad\\qquad (3.2) $$"
   ]
  },
  {
   "cell_type": "markdown",
   "metadata": {},
   "source": [
    "$$\\begin{array}{rcl}\n",
    "\\mathbf v\t&\t=\t&\t\\frac{d\\mathbf r}{dt}       \\\\\n",
    "\t&\t= &\t\\frac{d y^1}{dt}\\mathbf e_1 + y^1 \\frac{d\\mathbf e_1}{dt}     \\\\\n",
    "&\t=\t&\t\\dot{y}^1 \\mathbf e_1 + y^1 \\dot{\\mathbf e}_1   \n",
    " \t \t \t \t\\end{array}\\qquad\\qquad (3.21)$$\n",
    "and acceleration\n",
    "\n",
    "$$\\begin{array}{rcl}\n",
    "\\mathbf a\t&\t=\t&\t\\frac{d\\mathbf v}{dt}       \\\\\n",
    " &\t=\t&\t\\frac{d}{dt}\\left(\\dot(y)^1 \\mathbf e_1\\right) + \\frac{d}{dt}\\left(y^1 \\dot{\\mathbf e_1}\\right) \\\\\n",
    " &\t=\t&\t\\ddot{y}^1 \\mathbf e_1 + 2 \\dot{y}^1 \\dot{\\mathbf e}_1 + y^1 \\ddot{\\mathbf e}_1   \n",
    "\\end{array}\\qquad\\qquad (3.22)$$\n",
    "\n"
   ]
  },
  {
   "cell_type": "markdown",
   "metadata": {},
   "source": [
    "from differential geometry (surfaces notebook) the $\\mathbf {i,j,k}$ expressed in terms of the $\\mathbf e_i$ vectors can be read off the jacobian rows, and divided by the magnitude of the row. We obtain the derivatives of the $\\mathbf e_i$... \n"
   ]
  },
  {
   "cell_type": "markdown",
   "metadata": {},
   "source": [
    "$$\\mathbf e_1 = s_2 c_3 \\mathbf i + s_2 s_3 \\mathbf j + c_2 \\mathbf k \\qquad\\qquad (3.31)$$\n",
    "and\n",
    "$$\\mathbf e_2 = c_2 c_3 \\mathbf i + c_2 s_3 \\mathbf j - s_2 \\mathbf k\\qquad\\qquad (3.32)$$\n",
    "and\n",
    "$$\\mathbf e_3 = - s_3 \\mathbf i +  c_3 \\mathbf j \\qquad\\qquad (3.33)$$\n",
    "\n",
    "so\n",
    "\n",
    "$$\\frac{d \\mathbf e_1}{dt} = \\left( \\frac{d s_2}{dt}c_3 + s_2 \\frac{d c_3}{dt}  \\right)\\mathbf i +  \\left(\\frac{d s_2}{dt}s_3 + s_2\\frac{d s_3}{dt} \\right)\\mathbf j + \\left( - s_2 \\dot{y}^2 \\right)\\mathbf k \\qquad\\qquad (3.4)$$"
   ]
  },
  {
   "cell_type": "markdown",
   "metadata": {},
   "source": [
    "from the chain rule, since $s_2 = \\sin(y^2) \\implies \\frac{ds_2}{dt} = c_2 \\frac{dy^2}{dt}$"
   ]
  },
  {
   "cell_type": "markdown",
   "metadata": {},
   "source": [
    "$$\\left( \\dot{y}^2 c_2 c_3 - \\dot{y}^3 s_2  s_3   \\right)\\mathbf i +  \\left( c_2 \\dot{y}^2 s_3 + s_2 c_3\\dot{y}^3 \\right)\\mathbf j + \\left( - s_2 \\dot{y}^2 \\right)\\mathbf k \\qquad\\qquad (3.41)$$ \n",
    "\n",
    "(the implication is implied) and this happens to be $\\dot{\\mathbf {e}}_1 = \\dot{y}^2 \\mathbf e_2 + s_2 \\dot{y}^3 \\mathbf e_3 $ (as the collected terms appear above)."
   ]
  },
  {
   "cell_type": "markdown",
   "metadata": {},
   "source": [
    "$$\\frac{d\\mathbf e_2}{dt} = \\left( -\\dot{y} ^2 s_2 c_3 - \\dot{y}^3 c_2 s_3\\right)\\mathbf i + \\left( -\\dot{y}^2 s_2 s_3 + \\dot{y}^3 c_2 c_3 \\right) \\mathbf j - \\dot{y}^2 c_2 \\mathbf k \\qquad\\qquad (3.42)$$"
   ]
  },
  {
   "cell_type": "markdown",
   "metadata": {},
   "source": [
    "$$\\frac{d\\mathbf e_3}{dt} = -\\dot{y}^3 c_3  \\mathbf i -  \\dot{y}^3  s_3 \\mathbf j \\qquad\\qquad (3.43)$$"
   ]
  },
  {
   "cell_type": "markdown",
   "metadata": {},
   "source": [
    "now for the second derivatives ...\n",
    "   \n",
    "$$\\mathbf {\\ddot{e}}_1 = \\frac{d^2 \\mathbf e_1}{dt^2}=\\frac{d}{dt} \\left( \\frac{d\\mathbf e_1}{dt}\\right) \\qquad\\qquad (3.5)$$\n",
    "\n",
    "and so, for the $\\mathbf i$ component, \n",
    "\n"
   ]
  },
  {
   "cell_type": "markdown",
   "metadata": {},
   "source": [
    "$$\\begin{array}{rcl}\n",
    "\\frac{d}{dt}\\left( \\dot{y}^2 c_2 c_3 - \\dot{y}^3 s_2  s_3   \\right)\t&\t=\t&\t (\\ddot{y}^2 c_2 c_3 - \\left(\\dot{y}^2)^2 s_2 c_3 - \\dot{y}^2 \\dot{y}^3 c_2 s_3 ) - (\\ddot{y}^3 s_2  s_3 + \\dot{y}^3 \\dot{y}^2 c_2  s_3 +  (\\dot{y}^3)^2 s_2  c_3 \\right)      \\\\\n",
    "\t& = &\t \\ddot{y}^2 c_2 c_3 - (\\dot{y}^2)^2 s_2 c_3 - 2\\dot{y}^2 \\dot{y}^3 c_2 s_3  - \\ddot{y}^3 s_2  s_3   - (\\dot{y}^3)^2 s_2  c_3\t\t   \n",
    "\\end{array} \\qquad\\qquad (3.51)$$\n",
    "\n",
    "for the $\\mathbf j$ component,\n",
    "   \n",
    "\n",
    "$$\\begin{array}{rcl}\n",
    " \\frac{d}{dt}\\left(c_2 \\dot{y}^2 s_3 + s_2 c_3\\dot{y}^3\\right)\t&\t=\t&\t(-s_2 (\\dot{y}^2)^2 s_3 + c_2 \\ddot{y}^2 s_3 + c_2 \\dot{y}^2 \\dot{y}^3 c_3 ) + ( c_2 c_3\\dot{y}^3 \\dot{y}^2 - s_2 s_3(\\dot{y}^3)^2+s_2 c_3\\ddot{y}^3)     \\\\\n",
    "\t& =\t &-s_2 (\\dot{y}^2)^2 s_3 + c_2 \\ddot{y}^2 s_3 + 2 \\dot{y}^3 \\dot{y}^2 c_2 c_3 - s_2 s_3(\\dot{y}^3)^2+s_2 c_3\\ddot{y}^3\t\t   \n",
    "\\end{array}\\qquad\\qquad (3.52)$$\n",
    "\n",
    "\n",
    "   \n",
    "and for the $\\mathbf k$ component,\n",
    "   \n",
    "$$\\frac{d}{dt} \\left( - s_2 \\dot{y}^2 \\right) = - c_2 (\\dot{y}^2)^2 -  s_2 \\ddot{y}^2 \\qquad\\qquad (3.53)$$ "
   ]
  },
  {
   "cell_type": "markdown",
   "metadata": {},
   "source": [
    "I also have that the acceleration due to the changing velocity can be represented in terms of the tangent, normal, and binormal. $\\mathbf v = v \\mathbf T $ where $\\mathbf T$ is the unit tangent vector. Then $\\mathbf a = \\dot{v}\\mathbf T + v \\frac{d\\mathbf T}{ds} \\frac{ds}{dt}$, and $s$ is the arc length parameter, $v=\\frac{ds}{dt}$ and $\\frac{d\\mathbf T}{ds} = \\kappa \\mathbf N$ then $\\mathbf a = \\dot{v} \\mathbf T + \\kappa v^2 \\mathbf N $"
   ]
  },
  {
   "cell_type": "markdown",
   "metadata": {},
   "source": [
    "taking $\\mathbf v = \\rho \\mathbf e_\\rho + \\theta \\mathbf e_\\theta + \\phi \\mathbf e_\\phi $ and in this system $\\mathbf r = \\mathbf v\\ t + \\mathbf r_0 $ where t is time and $\\mathbf r_0$ is initial position, taken to be zero, then\n",
    "\n",
    "$$ x^1 = \\rho t \\sin( \\theta t)\\ \\cos(\\phi t), \\quad x^2 = \\rho t \\sin( \\theta t)\\ \\sin(\\phi t), \\quad x^3 = \\rho t \\cos(\\theta t) $$\n",
    "   \n",
    "### ?"
   ]
  },
  {
   "cell_type": "markdown",
   "metadata": {},
   "source": [
    "> Note there is a problem with Sympy's latex printer in the case of trying to print superscript indicies raised to a power, i.e. $(y^1)^2$ is not output correctly and causes the latex printer to crash.\n",
    "\n",
    "From the above definitions of velocity, (of course the dot above the symbol denotes differentiation with respect to time).\n",
    "\n",
    "$$\\mathbf v = \\frac{d\\mathbf r}{dt} = \\dot{y}^1 \\mathbf e_1 + y^1 \\dot{\\mathbf {e}}_1 $$\n",
    "\n",
    "and the new expressions for $\\dot{\\mathbf e}_1=\\frac{d\\mathbf e_1}{dt}$ the substitution of (3.31) and (3.41) into the equation above... \n",
    "\n",
    "$$\\mathbf v = \\frac{d\\mathbf r}{dt} =\\dot{y}^1(s_2 c_3 \\mathbf i + s_2 s_3 \\mathbf j + c_2 \\mathbf k) + y^1 (\\left( \\dot{y}^2 c_2 c_3 - \\dot{y}^3 s_2  s_3   \\right)\\mathbf i +  \\left( c_2 \\dot{y}^2 s_3 + s_2 c_3\\dot{y}^3 \\right)\\mathbf j + \\left( - s_2 \\dot{y}^2 \\right)\\mathbf k)$$\n",
    "\n",
    "\n",
    "so simplifying\n",
    "\n",
    "$$\\mathbf v =  ( \\dot{y}^1 s_2 c_3 +y^1 \\dot{y}^2 c_2 c_3 - y^1 \\dot{y}^3 s_2  s_3 ) \\mathbf i + (\\dot{y}^1 s_2 s_3+y^1 c_2 \\dot{y}^2 s_3 + y^1 s_2 c_3\\dot{y}^3) \\mathbf j + (\\dot{y}^1 c_2- s_2 y^1 \\dot{y}^2) \\mathbf k  \\qquad\\qquad (3.6)$$\n",
    "\n",
    "Therefore we have the differential equations ...\n",
    "   \n",
    "$$ \\dot{x}^1 = \\dot{y}^1 s_2 c_3 +y^1 \\dot{y}^2 c_2 c_3 - y^1 \\dot{y}^3 s_2  s_3 \\qquad\\qquad (3.61)$$\n",
    "\n",
    "and\n",
    "   \n",
    "$$\\dot{x}^2 = \\dot{y}^1 s_2 s_3+y^1 c_2 \\dot{y}^2 s_3 + y^1 s_2 c_3\\dot{y}^3 \\qquad\\qquad (3.62)$$\n",
    "\n",
    "and\n",
    "\n",
    "$$ \\dot{x}^3 = \\dot{y}^1 c_2- s_2 y^1 \\dot{y}^2 \\qquad\\qquad (3.63)$$\n",
    "   \n",
    "And I'm sure some of them might contain coriolis forces and centrifugal forces, for example.\n"
   ]
  },
  {
   "cell_type": "code",
   "execution_count": null,
   "metadata": {},
   "outputs": [],
   "source": [
    "y__1 = Function('y__1')(t)\n",
    "y__2 = Function('y__2')(t)\n",
    "y__3 = Function('y__3')(t)\n",
    "\n",
    "# if we take our definition of a contravariant vector transformed from spherical to \n",
    "# rectangular coordinates, then set a_i = diff(y__i,t), the derivative ofthe coordinate\n",
    "# we find the result is the same as 3.61-3.63\n",
    "v_rect.subs({a_1:diff(y__1,t),a_2:diff(y__2,t),a_3:diff(y__3,t), y_1:y__1,y_2:y__2,y_3:y__3})\n",
    "v_rect"
   ]
  },
  {
   "cell_type": "markdown",
   "metadata": {},
   "source": [
    "Now for the acceleration\n",
    "   \n",
    "$$ \\mathbf a = \\frac{d\\mathbf v}{dt} = \\frac{d^2\\mathbf r}{dt^2} = = \\frac{d}{dt}(\\dot{y}^1 \\mathbf e_1(t) + y^1(t) \\dot{\\mathbf {e}}_1 ) = \\ddot{y}^1 \\mathbf e_1(t)+ 2\\dot{y}^1\\dot{\\mathbf {e}}_1  + y^1(t) \\ddot{\\mathbf {e}}_1 $$\n",
    "\n",
    "so, substituting \n",
    "\n",
    "$$\\mathbf e_1 = s_2 c_3 \\mathbf i + s_2 s_3 \\mathbf j + c_2 \\mathbf k$$\n",
    "\n",
    "and\n",
    "\n",
    "$$ \\dot{\\mathbf e}_1 = \\left( \\dot{y}^2 c_2 c_3 - \\dot{y}^3 s_2  s_3   \\right)\\mathbf i +  \\left( c_2 \\dot{y}^2 s_3 + s_2 c_3\\dot{y}^3 \\right)\\mathbf j + \\left( - s_2 \\dot{y}^2 \\right)\\mathbf k $$ \n",
    "\n",
    "and\n",
    "\n",
    "\n",
    "$$\\begin{array}{rcl}\n",
    "\\ddot{\\mathbf e}_1 \t&\t=\t&\t(\\ddot{y}^2 c_2 c_3 - (\\dot{y}^2)^2 s_2 c_3 - 2\\dot{y}^2 \\dot{y}^3 c_2 s_3  - \\ddot{y}^3 s_2  s_3   - (\\dot{y}^3)^2 s_2  c_3) \\mathbf i        \\\\\n",
    "\t&\t+\t&(-s_2 (\\dot{y}^2)^2 s_3 + c_2 \\ddot{y}^2 s_3 + 2 \\dot{y}^3 \\dot{y}^2 c_2 c_3 - s_2 s_3(\\dot{y}^3)^2+s_2 c_3\\ddot{y}^3) \\mathbf j \\\\\n",
    "    & - & ( c_2 (\\dot{y}^2)^2 +  s_2 \\ddot{y}^2)\\mathbf k\n",
    "\\end{array}$$\n",
    "the acceleration is $\\qquad\\qquad (3.7)$ ...\n",
    "   \n",
    "\n",
    "$$\\begin{array}{rcl}\n",
    " \\mathbf a \t&\t=\t&\t\\ddot{y}^1 (s_2 c_3 \\mathbf i + s_2 s_3 \\mathbf j + c_2 \\mathbf k)       \\\\\n",
    "\t&\t+\t&2\\dot{y}^1(\\left( \\dot{y}^2 c_2 c_3 - \\dot{y}^3 s_2  s_3   \\right)\\mathbf i +  \\left( c_2 \\dot{y}^2 s_3 + s_2 c_3\\dot{y}^3 \\right)\\mathbf j + \\left( - s_2 \\dot{y}^2 \\right)\\mathbf k) \\\\\n",
    "    & + & y^1(t) ((\\ddot{y}^2 c_2 c_3 - (\\dot{y}^2)^2 s_2 c_3 - 2\\dot{y}^2 \\dot{y}^3 c_2 s_3  - \\ddot{y}^3 s_2  s_3   - (\\dot{y}^3)^2 s_2  c_3) \\mathbf i + (-s_2 (\\dot{y}^2)^2 s_3 + c_2 \\ddot{y}^2 s_3 + 2 \\dot{y}^3 \\dot{y}^2 c_2 c_3 - s_2 s_3(\\dot{y}^3)^2+s_2 c_3\\ddot{y}^3) \\mathbf j -( c_2 (\\dot{y}^2)^2 +  s_2 \\ddot{y}^2)\\mathbf k)\n",
    "\\end{array}$$"
   ]
  },
  {
   "cell_type": "markdown",
   "metadata": {},
   "source": [
    "multiplying through the brackets ...\n",
    "\n",
    "\n",
    "\n",
    "$$\\begin{array}{rcl}\n",
    "=\t&\t\\ddot{y}^1 s_2 c_3 \\mathbf i + \\ddot{y}^1 s_2 s_3 \\mathbf j + \\ddot{y}^1 c_2 \\mathbf k \t&\t+       \\\\\n",
    "\t&\t\\left( 2\\dot{y}^1 \\dot{y}^2 c_2 c_3 - 2\\dot{y}^1 \\dot{y}^3 s_2  s_3   \\right)\\mathbf i+\\left( c_2 \\dot{y}^2 s_3 2\\dot{y}^1 + s_2 c_3\\dot{y}^3 2\\dot{y}^1 \\right)\\mathbf j + \\left( - s_2 2\\dot{y}^1 \\dot{y}^2 \\right)\\mathbf k\t&\t+     \\\\\n",
    "\t&\t(y^1(t) \\ddot{y}^2 c_2 c_3 - y^1(t)( \\dot{y}^2)^2 s_2 c_3 - y^1(t) 2\\dot{y}^2 \\dot{y}^3 c_2 s_3  - y^1(t) \\ddot{y}^3 s_2  s_3   - y^1(t) (\\dot{y}^3)^2 s_2  c_3) \\mathbf i\t&\t+   \\\\\n",
    "\t&\t(-y^1(t) s_2 (\\dot{y}^2)^2 s_3 + y^1(t) c_2 \\ddot{y}^2 s_3 + y^1(t) 2 \\dot{y}^3 \\dot{y}^2 c_2 c_3 - y^1(t) s_2 s_3(\\dot{y}^3)^2+y^1(t) s_2 c_3\\ddot{y}^3) \\mathbf j\t&\t- \\\\\n",
    "& ( y^1(t) c_2 (\\dot{y}^2)^2 +  y^1(t) s_2 \\ddot{y}^2)\\mathbf k & \n",
    " \t \t \t \t\\end{array} \\qquad\\qquad (3.71)$$"
   ]
  },
  {
   "cell_type": "markdown",
   "metadata": {},
   "source": [
    "grouping terms    \n",
    "   \n",
    "\n",
    "\n",
    "$$\\begin{array}{rcl}\n",
    "=\t&\t(\\ddot{y}^1 s_2 c_3 +2\\dot{y}^1 \\dot{y}^2 c_2 c_3 - 2\\dot{y}^1 \\dot{y}^3 s_2  s_3 + y^1 \\ddot{y}^2 c_2 c_3 - y^1( \\dot{y}^2)^2 s_2 c_3 - y^1 2\\dot{y}^2 \\dot{y}^3 c_2 s_3  - y^1 \\ddot{y}^3 s_2  s_3   - y^1 (\\dot{y}^3)^2 s_2  c_3)\\mathbf i \t&\t+       \\\\\n",
    "&\t(\\ddot{y}^1 s_2 s_3 + 2 c_2  s_3 \\dot{y}^2 \\dot{y}^1  + 2 s_2 c_3\\dot{y}^3 \\dot{y}^1 -y^1 s_2 (\\dot{y}^2)^2 s_3 + y^1 c_2 \\ddot{y}^2 s_3 + 2 y^1  \\dot{y}^3 \\dot{y}^2 c_2 c_3 - y^1 s_2 s_3(\\dot{y}^3)^2+y^1 s_2 c_3\\ddot{y}^3 )\\mathbf j \t&\t+     \\\\\n",
    "&(\\ddot{y}^1 c_2 - s_2 2\\dot{y}^1 \\dot{y}^2 -y^1 c_2 (\\dot{y}^2)^2 -  y^1 s_2 \\ddot{y}^2 )\\mathbf k\t&\t\n",
    "\\end{array} \\qquad\\qquad (3.72)$$"
   ]
  },
  {
   "cell_type": "markdown",
   "metadata": {},
   "source": [
    "and so, quite simply, one would expect, \n",
    "\n",
    "$$ \\mathbf v = \\mathbf v_0 + \\mathbf a t$$\n",
    "  \n",
    "and displacement\n",
    "\n",
    "$$ \\mathbf x = \\mathbf x_0 + \\mathbf v_0 t + \\frac{1}{2}\\mathbf a t^2 $$ "
   ]
  },
  {
   "cell_type": "markdown",
   "metadata": {},
   "source": [
    "now differentiating the term for velocity (using just the velocity of the x^1 first)\n",
    "   \n",
    "$$ (\\ddot{x}^1)=\\frac{d}{dt} (\\dot{x}^1) = \\frac{d}{dt}\\left(\\dot{y}^1 s_2 c_3 +y^1 \\dot{y}^2 c_2 c_3 - y^1 \\dot{y}^3 s_2  s_3 \\right)$$\n",
    "\n",
    "is \n",
    "\n",
    "$$\\ddot{y}^1 s_2 c_3 + \\dot{y}^1 \\dot{y}^2 c_2 c_3 - \\dot{y}^1 \\dot{y}^3 s_2 s_3  +\\dot{y}^1 \\dot{y}^2 c_2 c_3 + y^1 \\ddot{y}^2 c_2 c_3 - y^1 (\\dot{y}^2)^2 s_2 c_3 - y^1 \\dot{y}^3 \\dot{y}^2 c_2 s_3  - \\dot{y}^1 \\dot{y}^3 s_2  s_3 - y^1 \\ddot{y}^3 s_2  s_3 - y^1 \\dot{y}^3 \\dot{y}^2 c_2  s_3 - y^1 (\\dot{y}^3)^2 s_2  c_3  $$\n",
    "\n",
    "\n",
    "simplifying ...\n",
    "   \n",
    "$$\\ddot{y}^1 s_2 c_3 +  2 \\dot{y}^1 \\dot{y}^2 c_2 c_3 - 2\\dot{y}^1 \\dot{y}^3 s_2 s_3   + y^1 \\ddot{y}^2 c_2 c_3 - y^1 (\\dot{y}^2)^2 s_2 c_3 -  2 y^1 \\dot{y}^3 \\dot{y}^2 c_2 s_3  - y^1 \\ddot{y}^3 s_2  s_3 - y^1 (\\dot{y}^3)^2 s_2  c_3  $$"
   ]
  },
  {
   "cell_type": "markdown",
   "metadata": {},
   "source": [
    "We get the $\\mathbf i$ component of (3.72). Then for the next component\n",
    "   \n",
    "$$\\ddot{x}^2 = \\frac{d}{dt}\\left(\\dot{y}^1 s_2 s_3+y^1 c_2 \\dot{y}^2 s_3 + y^1 s_2 c_3\\dot{y}^3\\right) $$\n",
    "and this is\n",
    "   \n",
    "\n",
    "\n",
    "\n",
    "$$\\begin{array}{rcl}\n",
    "=\t&\\ddot{y}^1 s_2 s_3 + \\dot{y}^1\\dot{y}^2 c_2 s_3 +\\dot{y}^1 \\dot{y}^3 s_2 c_3 + \\dot{y}^1 c_2 \\dot{y}^2 s_3 -y^1 \\dot{y}^2 s_2 \\dot{y}^2 s_3 \t&\t+       \\\\\n",
    "\t&y^1 c_2 \\ddot{y}^2 s_3 +y^1 c_2 \\dot{y}^2 \\dot{y}^3 c_3 + \\dot{y}^1 s_2 c_3\\dot{y}^3 \t&\t+     \\\\\n",
    "&\ty^1 \\dot{y}^2 c_2 c_3\\dot{y}^3-y^1 s_2 s_3(\\dot{y}^3)^2+y^1 s_2 c_3\\ddot{y}^3\t&\t\n",
    "\\end{array}$$\n",
    "\n",
    "simplifying ...\n",
    "\n",
    "\n",
    "\n",
    "$$\\begin{array}{rcl}\n",
    "=\t&\\ddot{y}^1 s_2 s_3 + 2\\dot{y}^1\\dot{y}^2 c_2 s_3 \t&\t+       \\\\\n",
    "\t&2 \\dot{y}^1 \\dot{y}^3 s_2 c_3  -y^1 (\\dot{y}^2)^2 s_2 s_3 + y^1 c_2 \\ddot{y}^2 s_3\t& +     \\\\\n",
    "&\t2 y^1 c_2 \\dot{y}^2 \\dot{y}^3 c_3  -y^1 s_2 s_3(\\dot{y}^3)^2+y^1 s_2 c_3\\ddot{y}^3\t&\t\n",
    "\\end{array} \\qquad\\qquad (3.73)$$\n",
    "\n",
    "\n",
    "and for the $\\mathbf k$ component\n",
    "\n",
    "$$ \\ddot{x}^3 = \\frac{d}{dt}\\left(\\dot{y}^1 c_2- s_2 y^1 \\dot{y}^2\\right) \\qquad\\qquad (3.74)$$\n",
    "\n",
    "and this is \n",
    "   \n",
    "$$ \\ddot{x}^3 = \\ddot{y}^1 c_2 - \\dot{y}^1 \\dot{y}^2 s_2- c_2 y^1 (\\dot{y}^2)^2 - s_2 \\dot{y}^1 \\dot{y}^2 - s_2 y^1 \\ddot{y}^2 \\qquad\\qquad (3.75)$$"
   ]
  },
  {
   "cell_type": "code",
   "execution_count": null,
   "metadata": {
    "collapsed": true
   },
   "outputs": [],
   "source": []
  },
  {
   "cell_type": "markdown",
   "metadata": {},
   "source": [
    "I could have found the term for acceleration either way.\n",
    "\n",
    "### But ...\n",
    "\n",
    "If the velocities in spherical coordinates are constant, then  $\\ddot{\\mathbf r} = \\mathbf 0$ since $\\ddot {y}^i = 0$ and yet the acceleration in cartesian coordinates is not zero. To differentiate the tensor in spherical coordinates may be impossible then - or with a covariant derivative?"
   ]
  },
  {
   "cell_type": "code",
   "execution_count": null,
   "metadata": {
    "collapsed": true
   },
   "outputs": [],
   "source": []
  },
  {
   "cell_type": "code",
   "execution_count": null,
   "metadata": {},
   "outputs": [],
   "source": [
    "# simple procedure to extract the unit ijk in terms of the e_i vectors by solving the linear system\n",
    "e_1,e_2,e_3, i,j,k = symbols('e_1,e_2,e_3, i,j,k')\n",
    "\n",
    "expr1 = simplify((J_1[0,0]*i + J_1[1,0]*j + J_1[2,0]*k)/sqrt(J_1[0,0]*J_1[0,0] + J_1[1,0]*J_1[1,0] + J_1[2,0]*J_1[2,0]))\n",
    "expr2 = simplify((J_1[0,1]*i + J_1[1,1]*j + J_1[2,1]*k)/sqrt(J_1[0,1]*J_1[0,1] + J_1[1,1]*J_1[1,1] + J_1[2,1]*J_1[2,1]))\n",
    "expr3 = simplify((J_1[0,2]*i + J_1[1,2]*j + J_1[2,2]*k)/sqrt(J_1[0,2]*J_1[0,2] + J_1[1,2]*J_1[1,2] + J_1[2,2]*J_1[2,2]))\n",
    "ijk = simplify(solve([Eq(expr1, e_1), \n",
    "       Eq(expr2, e_2),\n",
    "       Eq(expr3, e_3)], [i,j,k]))\n",
    "ijk"
   ]
  },
  {
   "cell_type": "code",
   "execution_count": null,
   "metadata": {},
   "outputs": [],
   "source": [
    "# reprinting the metric for spherical coordinates\n",
    "(simplify(J_1.T * J_1))"
   ]
  },
  {
   "cell_type": "code",
   "execution_count": null,
   "metadata": {},
   "outputs": [],
   "source": [
    "# the inverse metric, or the raised indices metric for spherical coordinates\n",
    "simplify(J_1.T * J_1).inverse_ADJ()"
   ]
  },
  {
   "cell_type": "code",
   "execution_count": null,
   "metadata": {},
   "outputs": [],
   "source": [
    "# transform the original velocity by the metric to get the \n",
    "# covariant matrix : the original velocity is in spherical coordinates, so the covariant \n",
    "# velocity is in spherical coordinates\n",
    "dUdt_cov = simplify( J_1.T*J_1) * v\n",
    "dUdt_cov = dUdt_cov.subs({y_1:1.2*t, y_2:0.5*3.14159*t, y_3:3.14159*t})\n",
    "\n",
    "# make a vector of coordinates for convenience (this is x_1, x_2, x_3) with each of the \n",
    "# spherical velocity components integrated wrt time.\n",
    "V = Matrix([v[0]*t*cos(v[2]*t)*sin(v[1]*t),v[0]*t*sin(v[1]*t)*sin(v[2]*t),v[0]*t*cos(v[1]*t)])\n",
    "\n",
    "# multiply the covariant velocity by the inverse transpose of the transform Jacobian \n",
    "# to retrieve the same cartesian velocity vector as the contravariant case\n",
    "dAdt_cov2 = simplify(J_1.inverse_ADJ().T)*dUdt_cov\n",
    "dAdt_cov2 = dAdt_cov2.subs({y_1:v[0]*t, y_2:v[1]*t, y_3:v[2]*t}) \n",
    "\n",
    "# it does not have to be the inverse transpose ??? very confusing\n",
    "dAdt_cov = simplify(J_1.inverse_ADJ())*dUdt_cov\n",
    "dAdt_cov = dAdt_cov2.subs({y_1:v[0]*t, y_2:v[1]*t, y_3:v[2]*t}) \n",
    "\n",
    "# this should do the same thing ?\n",
    "#dAdt_cov = simplify(J_2).subs({x_1:V[0], x_2:V[1], x_3:V[2]}) *dUdt_cov \n",
    "\n",
    "p1 = plot3d_parametric_line(dAdt[0], dAdt[1], dAdt[2], (t, 0, 15.5), show=False)\n",
    "p1.extend(plot3d_parametric_line(dAdt_cov [0], dAdt_cov [1], dAdt_cov [2], (t, 0.1, 5.5), show=False, line_color = 'r') )\n",
    "p1.extend(plot3d_parametric_line(dAdt_cov2 [0], dAdt_cov2 [1], dAdt_cov2 [2], (t, 0.1, 5.5), show=False, line_color = 'g') )\n",
    "\n",
    "print \"The apparent covariant velocity in spherical coordinates\"\n",
    "dUdt_cov"
   ]
  },
  {
   "cell_type": "markdown",
   "metadata": {},
   "source": [
    "Comparison with the above derivation with $\\dot{\\mathbf{y}} = \\left( \\dot{y}^1,\\dot{y}^2,\\dot{y}^3\\right) = \\left(a_1, a_2, a_3\\right)$ ... $\\sin(y^2) = s_2,\\ \\cos(y^2) = c_2 $ etc from above ( and of course ignoring the notation inconsistency with the subscript and superscript notation - this time - it becomes important later).\n",
    "\n",
    "   \n",
    "$$ \\dot{x}^1 = \\dot{y}^1 s_2 c_3 +y^1 \\dot{y}^2 c_2 c_3 - y^1 \\dot{y}^3 s_2  s_3 $$\n",
    "\n",
    "and\n",
    "   \n",
    "$$\\dot{x}^2 = \\dot{y}^1 s_2 s_3+y^1 c_2 \\dot{y}^2 s_3 + y^1 s_2 c_3\\dot{y}^3 $$\n",
    "\n",
    "and\n",
    "\n",
    "$$ \\dot{x}^3 = \\dot{y}^1 c_2- s_2 y^1 \\dot{y}^2 $$\n",
    "   \n",
    "The terms in the tensor above are exactly the same as equations (3.61), (3.62) and (3.63) after the substitution."
   ]
  },
  {
   "cell_type": "markdown",
   "metadata": {},
   "source": [
    "### So I am confident that the tensor is correct, I am just not sure how to plot it.\n",
    "   \n",
    "> To plot this space curve given the velocity in spherical coordinates and arbitrary starting point, I will need the\n",
    "*absolute derivative*, defined later, because the curve contains acceleration as the velocity direction is always changing."
   ]
  },
  {
   "cell_type": "code",
   "execution_count": null,
   "metadata": {},
   "outputs": [],
   "source": [
    "simplify(J_1.inverse_ADJ())*dUdt_cov\n",
    "## logic ... dadt = (J) v\n",
    "## so        dadt = (J^T)^(-1)(J^T)(J) v\n",
    "## if (J^T)(J) v = v_cov\n",
    "## then     dadt = (J^T)^(-1) v_cov\n",
    "\n",
    "# I can't remember why I did this, however it might be interesting or useful."
   ]
  },
  {
   "cell_type": "markdown",
   "metadata": {},
   "source": [
    "Clearly if an expression is of the form $\\frac{\\partial x^j}{\\partial y^i} $ when i is the free index, the \n",
    "free index denotes the row of the Jacobian matrix, hence its a transposed matrix.\n"
   ]
  },
  {
   "cell_type": "markdown",
   "metadata": {},
   "source": [
    "### Example: Visualizing and Transforming a potential\n",
    "   \n",
    "A potential is given by $\\Phi = \\frac{C}{r} = \\frac{C}{\\sqrt{(x^1)^2 + (x^2)^2 +(x^3)^2}}$ where C is a constant.\n",
    "   \n",
    "> note: $\\sin(\\omega t)$ has *continuous* derivatives and is of class $C^{\\infty}$, i.e see electric potential, continuous time derivatives of force (mass*acceleration) etc.\n",
    "   \n",
    "$$\\nabla \\Phi = \\frac{\\partial \\Phi}{\\partial x^i}\\mathbf e^i $$\n",
    "   \n",
    "now the derivatives are ...\n",
    "   \n",
    "$$ \\frac{\\partial \\Phi}{\\partial x^i} = - \\frac{C\\ x^i }{\\left((x^1)^2 + (x^2)^2 +(x^3)^2\\right)^{3/2}} = - \\frac{C\\ x^i }{r^{3}}$$\n",
    "   \n",
    "since substituting $q = (x^1)^2 + (x^2)^2 +(x^3)^2$, then use the chain rule $\\Phi_q q_{x^i}$\n",
    "   \n",
    "\n"
   ]
  },
  {
   "cell_type": "markdown",
   "metadata": {},
   "source": [
    "to express $\\nabla \\Phi$ in the $y$ coordinate system ...\n",
    "   \n",
    "$$\\frac{\\partial \\Phi}{\\partial y^i} =\\frac{\\partial \\Phi}{\\partial x^j}\\frac{\\partial x^j}{\\partial y^i} $$\n",
    "   \n"
   ]
  },
  {
   "cell_type": "markdown",
   "metadata": {},
   "source": [
    "\n",
    "using the Jacobian matrix computed earlier (J_1) we need to multiply the vector $[\\frac{\\partial \\Phi}{\\partial x^i} ]$ by the *transpose* of this Jacobian. (or transpose the vector and pre-multiply). "
   ]
  },
  {
   "cell_type": "markdown",
   "metadata": {},
   "source": [
    "The required matrix is ...\n",
    "   \n",
    "$$ \\mathbf J^T =\\left[\\begin{matrix}\\sin{\\left (y_{2} \\right )} \\cos{\\left (y_{3} \\right )} & \\sin{\\left (y_{2} \\right )} \\sin{\\left (y_{3} \\right )} & \\cos{\\left (y_{2} \\right )}\\\\y_{1} \\cos{\\left (y_{2} \\right )} \\cos{\\left (y_{3} \\right )} & y_{1} \\sin{\\left (y_{3} \\right )} \\cos{\\left (y_{2} \\right )} & - y_{1} \\sin{\\left (y_{2} \\right )}\\\\- y_{1} \\sin{\\left (y_{2} \\right )} \\sin{\\left (y_{3} \\right )} & y_{1} \\sin{\\left (y_{2} \\right )} \\cos{\\left (y_{3} \\right )} & 0\\end{matrix}\\right]$$\n",
    "\n",
    "and so ... \n",
    "\n",
    "$$ \\frac{\\partial \\Phi}{\\partial y^i} = \\mathbf J^T_{i1} \\frac{\\partial \\Phi}{\\partial x^1} + \\mathbf J^T_{i2} \\frac{\\partial \\Phi}{\\partial x^2}  +\\mathbf J^T_{i3} \\frac{\\partial \\Phi}{\\partial x^3} $$\n",
    "\n",
    "for each i.\n"
   ]
  },
  {
   "cell_type": "code",
   "execution_count": null,
   "metadata": {},
   "outputs": [],
   "source": [
    "f_1,f_2,f_3=symbols('f_1,f_2,f_3')\n",
    "grad_phi = Matrix([f_1,f_2,f_3])\n",
    "grad_phi_cov_y=J_1.T * grad_phi\n",
    "grad_phi_cov_y"
   ]
  },
  {
   "cell_type": "markdown",
   "metadata": {},
   "source": [
    "The vector above is the gradient of $\\Phi$ in the y coordinate system, transformed from the x coordinate system. \n"
   ]
  },
  {
   "cell_type": "markdown",
   "metadata": {},
   "source": [
    "Then apparently the contravariant coefficients of the gradient in spherical coordinates are..."
   ]
  },
  {
   "cell_type": "code",
   "execution_count": null,
   "metadata": {
    "collapsed": true
   },
   "outputs": [],
   "source": [
    "grad_phi_cont_y = (J_1.T * J_1).inverse_ADJ() *grad_phi_cov_y"
   ]
  },
  {
   "cell_type": "code",
   "execution_count": null,
   "metadata": {},
   "outputs": [],
   "source": [
    "grad_phi_cont_y = simplify(grad_phi_cont_y)\n",
    "grad_phi_cont_y"
   ]
  },
  {
   "cell_type": "code",
   "execution_count": null,
   "metadata": {},
   "outputs": [],
   "source": [
    "simplify(grad_phi_cont_y.T*grad_phi_cov_y)"
   ]
  },
  {
   "cell_type": "markdown",
   "metadata": {},
   "source": [
    "Here we have resolved a fundamental theoretical problem ... the dot product of the contravariant components (in the y system) with the covariant components (in the y system) reveals the invariant dot product, the same as the dot product of the covariant components in the x system. I assume, for the moment, that the two components are equivalent in the x system because the metric of the cartesian system is the identity matrix.\n",
    "\n",
    "In this way it becomes clear that the curvilinear systems are embedded in the euclidean system.\n",
    "\n",
    "> All tensors obtained from forming inner products with the metric are called *associated tensors*.\n",
    "   \n",
    "The length of a vector $\\mathbf x_p$ is ...\n",
    "   \n",
    "$$ s = \\sqrt{ \\mathbf x^p \\mathbf x_p }=\\sqrt{ g^{pq} \\mathbf x_p \\mathbf x_q } = \\sqrt{ g_{pq} \\mathbf x^p \\mathbf x^q } $$\n",
    "   \n",
    "The angle between two vectors, $\\mathbf a^p$ and $\\mathbf b_p$ is\n",
    "   \n",
    "$$\\theta = \\text{acos} \\left( \\frac{ \\mathbf a^p \\mathbf b_p }{\\sqrt{(\\mathbf a^p \\mathbf a_p)(\\mathbf b^p \\mathbf b_p)}}\\right) $$\n",
    "   \n",
    "### Physical components\n",
    "   \n",
    "For a vector $\\mathbf A^q$  in orthogonal coordinates these are \n",
    "   \n",
    "$$ A_{u_1} = \\sqrt{g_{11}} A^1 = \\frac{A_1}{\\sqrt{g_{11}}}, \\quad A_{u_2} = \\sqrt{g_{22}} A^2 = \\frac{A_2}{\\sqrt{g_{22}}}, \\quad A_{u_3} = \\sqrt{g_{33}} A^3 = \\frac{A_3}{\\sqrt{g_{33}}} $$\n",
    "\n",
    "and are the projections of the vector on the tangents of the coordinate curves. For a 2nd order tensor \n",
    "   \n",
    "$$ A_{u_{pq}} = \\sqrt{g_{pp} g_{qq}} A^{pq} = \\frac{A_{pq}}{\\sqrt{g_{pp} g_{qq}}} $$"
   ]
  },
  {
   "cell_type": "markdown",
   "metadata": {},
   "source": [
    "### Derivative of a Tensor.\n",
    "   \n",
    "In a general coordinate system $x^i$ the covariant derivative with respect to $x^r$ is \n",
    "   \n",
    "$$\\nabla_r \\mathbf T_i = \\frac{\\partial \\mathbf T_i}{\\partial x^r} - \\Gamma^p_{ir} \\mathbf T_p $$\n",
    "   \n",
    "This is a tensor with covariant order 2. The quantity $\\Gamma^p_{ir}$ is a Christoffel symbol of the 2nd kind, and these are defined in terms of the Christoffel symbols of the first kind (by convention) \n",
    "   \n",
    "$$\\Gamma^p_{ir} = g^{pq}\\Gamma_{irq}$$\n",
    "   \n",
    "And the Christoffel symbols of the first kind are defined in terms of the metric...\n",
    "   \n",
    "$$\\Gamma_{abc} = \\frac{1}{2} \\left( \\frac{\\partial g_{bc}}{\\partial x^a}+\\frac{\\partial g_{ca}}{\\partial x^b}-\\frac{\\partial g_{ab}}{\\partial x^c}\\right)$$\n",
    "\n",
    "   Therefore the Christoffel symbols vanish if the metric has constant components (i.e no derivatives)."
   ]
  },
  {
   "cell_type": "markdown",
   "metadata": {},
   "source": [
    "#### Theoretical background\n",
    "   \n",
    "The covariant derivative was derived from the fact that the ordinary derivative of a covariant tensor was not a tensor, and in fact required a correction term.\n",
    "\n",
    "From set theory, a set is called connected if it is not disconnected. So if we defined the tensor $\\mathbf T^i(y)$ as tensor expressed in a  coordinate system $ \\mathscr M \\subset\\mathbb {R}^m|\\forall y \\circ (x^1,\\cdots x^n)\\to \\mathbb {R}^m $ (i.e. curvilinear) and this is a set of coordinate maps to another coordinate system $\\mathscr N \\subset \\mathbb {R}^n | \\forall x\\circ(y^1,\\cdots,y^m) \\to \\mathbb {R}^n$ and a transform $\\varphi:\\mathbf T(y)\\in \\mathscr M  \\to \\mathbf T(x) \\in \\mathscr N  $ with $m\\neq n$ not neccessarily since a curve can be a subset of a surface, then if  $\\varphi \\circ \\partial \\mathbf T(y) \\neq \\mathbf \\partial \\mathbf T(x) $ so the derivatives are two non-connected sets. \n",
    "\n",
    "If the deriative of the tensor in the y coordinates does not transform to the derivative of the tensor in x coordinates, then the union of the two derivatives form a disconnected set.\n",
    "   \n",
    "hence the christoffel symbols became known as a connection (or Riemannian connection, or Levi-Civita connection, perhaps because multiple interested parties wanted to claim to be the inventor). \n",
    "\n",
    "The torsion tensor is defined as \n",
    "\n",
    "$$ \\mathbf T^i_{jk} = \\left(\\Gamma^i_{jk} - \\Gamma^i_{kj}\\right) $$ \n",
    "   \n",
    "(or with a negative sign) and is also a tensor, however the connection coefficients are not tensors, their difference is.\n",
    "This value can also be expressed with the lie bracket \n",
    "$$[\\mathbf X,\\mathbf Y]V = \\mathbf X(\\mathbf Y(V))-\\mathbf Y(\\mathbf X(V))$$\n",
    "\n",
    "or commutator of vector vields, where of course a vector field is a function that assigns to each portion of a space a unique vector.\n",
    "   \n",
    "$$\\mathbf T(\\mathbf X, \\mathbf Y) = \\nabla_{\\mathbf X} \\mathbf Y - \\nabla_{\\mathbf Y} \\mathbf X - [\\mathbf X,\\mathbf Y]$$\n",
    "\n",
    "or equivalently\n",
    "   \n",
    "$$ \\mathbf T^i_{jk} = \\left(\\Gamma^i_{jk} - \\Gamma^i_{kj}\\right) - \\gamma^i_{jk}$$\n",
    "   \n",
    "where the $\\gamma^i_{jk}$ vanishes if the basis is holonomic (i.e. if the basis happens to have sets of coordinate vectors defined like $\\partial_i = \\frac{\\partial}{\\partial u^i}$. \n",
    "   \n",
    "Then a *torsion free* connection is a connection that has symmetry of the lower two indices of the christoffel symbols. A torsion free or metric compatible connection on a manifold with a holonomic basis and a metric has the following properties\n",
    "   \n",
    "a) Torsion Free $\\Gamma^i_{jk} = \\Gamma^i_{kj}$\n",
    "   \n",
    "b) $\\nabla_r g_{ij}=0$\n",
    "   \n",
    "The same is true for the inverse metric. Then the divergence of a contravariant vector is given by a contraction of the covariant derivative with respect to the coordinate indexed by \"r\" (apearing in $\\nabla_r $).\n",
    "\n",
    "#### Divergence\n",
    "   \n",
    "$$\\nabla_r V^r = \\partial_r V^r + \\Gamma^r_{ri}V^i$$\n",
    "   \n",
    "This is a useful property with regards to the laws of physics of continuity and consevation.\n",
    "The contracted Christoffel symbol satisfies\n",
    "   \n",
    "$$ \\Gamma^r_{ri} = \\frac{1}{\\sqrt{g}}\\partial_r \\sqrt{g}$$\n",
    "   \n",
    "where $g$ is the determinant of the metric. Therefore another formula for divergence\n",
    "   \n",
    "$$\\nabla_r V^r =  \\frac{1}{\\sqrt{g}}\\partial_r \\sqrt{g}V^i$$\n",
    "   \n",
    "and the term $\\partial_r V^r$ vanishes.\n",
    "\n",
    "#### Curl\n",
    "   \n",
    "The curl of a vector field $V_p$ is defined by $\\nabla_r V_p - \\nabla_p V_r$, also defined as $-\\epsilon^{pri}\\nabla_r V_p$.\n",
    "\n",
    "#### Gradient\n",
    "   \n",
    "The gradient of a scalar or invariant $\\Phi$, is simply the covariant derivative $\\nabla_r \\Phi = \\frac{\\partial \\Phi}{\\partial x^r}$\n",
    "\n",
    "#### Laplacian\n",
    "   \n",
    "The Laplacian of $\\Phi$ is the divergence of the covariant derivative of $\\Phi$, so\n",
    "\n",
    "$$ \\nabla^2\\Phi=  \\frac{1}{\\sqrt{g}}\\partial_r \\left(\\sqrt{g}g^{rq}\\nabla_q \\Phi\\right)$$\n",
    "\n",
    "### intuition\n",
    "   \n",
    "an intuition on the design of a torsion free connection in General Relativity is the fact that in a gravitational field an object will fall without any force causing it to spin. \n",
    "### ?\n"
   ]
  },
  {
   "cell_type": "code",
   "execution_count": null,
   "metadata": {
    "collapsed": true
   },
   "outputs": [],
   "source": [
    "def christoffel_symbol_1(G, a, b, c, X):\n",
    "    return (S(1)/2)*(diff(G[b,c],X[a]) +diff(G[c,a],X[b])-diff(G[a,b],X[c]))\n",
    "    "
   ]
  },
  {
   "cell_type": "code",
   "execution_count": null,
   "metadata": {
    "collapsed": true
   },
   "outputs": [],
   "source": [
    "metric_spherical = J_1.T * J_1"
   ]
  },
  {
   "cell_type": "code",
   "execution_count": null,
   "metadata": {
    "collapsed": true
   },
   "outputs": [],
   "source": [
    "X = Matrix([y_1, y_2, y_3])"
   ]
  },
  {
   "cell_type": "code",
   "execution_count": null,
   "metadata": {
    "scrolled": true
   },
   "outputs": [],
   "source": [
    "from sympy.matrices import *\n",
    "m = zeros(28,4)\n",
    "i,j,k,Gamma_ijk = symbols('i,j,k,Gamma_ijk')\n",
    "m[0,0]=i\n",
    "m[0,1]=j\n",
    "m[0,2]=k\n",
    "m[0,3]=Gamma_ijk\n",
    "## and to print them out you might have to unravel pythons mysteries too ...\n",
    "for a in range(0,3):\n",
    "    for b in range(0,3):\n",
    "        for c in range(0,3):\n",
    "            # puts this in matrix form with fancy text and indexing \n",
    "            m[(c*3 + b)*3 + a + 1,3]= simplify(christoffel_symbol_1(metric_spherical, a, b, c, X))\n",
    "            m[(c*3 + b)*3 + a + 1,0]=a+1\n",
    "            m[(c*3 + b)*3 + a + 1,1]=b+1\n",
    "            m[(c*3 + b)*3 + a + 1,2]=c+1\n",
    "m"
   ]
  },
  {
   "cell_type": "code",
   "execution_count": 74,
   "metadata": {},
   "outputs": [],
   "source": [
    "def christoffel_symbol_2(G, p, a, b, X):\n",
    "    output = 0\n",
    "    G_inv = G.inverse_ADJ()\n",
    "    for c in range(0,3):\n",
    "        output += G_inv[p,c]*(S(1)/2)*(diff(G[b,c],X[a]) +diff(G[c,a],X[b])-diff(G[a,b],X[c]))\n",
    "    return output\n",
    "\n",
    "# G is the metric\n",
    "# p is the superscript\n",
    "# a,b are the subscript indices\n",
    "# X is the set of coordinates of the metric of dimension d\n",
    "# d is the dimension of the space\n",
    "# G_inv is the optional inverse of the metric\n",
    "def christoffel_symbol_2_2(G, p, a, b, X, d, G_inv):\n",
    "    output = 0\n",
    "    if G_inv == 0:\n",
    "        G_inv = G.inverse_ADJ()\n",
    "    for c in range(0,d):\n",
    "        output += G_inv[p,c]*(S(1)/2)*(diff(G[b,c],X[a]) +diff(G[c,a],X[b])-diff(G[a,b],X[c]))\n",
    "    return output\n",
    "\n",
    "#simplify(christoffel_symbol_2(metric_spherical, 0, 2, 2, X))"
   ]
  },
  {
   "cell_type": "code",
   "execution_count": null,
   "metadata": {},
   "outputs": [],
   "source": [
    "m = zeros(28,4)\n",
    "i,j,k,Gamma_ijk = symbols('i,j,k,Gamma__i_jk')\n",
    "m[0,0]=i\n",
    "m[0,1]=j\n",
    "m[0,2]=k\n",
    "m[0,3]=Gamma_ijk\n",
    "## and to print them out you might have to unravel pythons mysteries too ...\n",
    "for a in range(0,3):\n",
    "    for b in range(0,3):\n",
    "        for c in range(0,3):\n",
    "            # puts this in matrix form with fancy text and indexing  \n",
    "            m[(c*3 + b)*3 + a + 1,3]= simplify(christoffel_symbol_2(metric_spherical, a, b, c, X))\n",
    "            m[(c*3 + b)*3 + a + 1,0]=a+1\n",
    "            m[(c*3 + b)*3 + a + 1,1]=b+1\n",
    "            m[(c*3 + b)*3 + a + 1,2]=c+1\n",
    "m"
   ]
  },
  {
   "cell_type": "code",
   "execution_count": 75,
   "metadata": {},
   "outputs": [
    {
     "data": {
      "text/latex": [
       "$$\\left[\\begin{matrix}0 & 0 & 0\\\\0 & - y_{1} & 0\\\\0 & 0 & - y_{1} \\sin^{2}{\\left (y_{2} \\right )}\\end{matrix}\\right]$$"
      ],
      "text/plain": [
       "⎡0   0        0      ⎤\n",
       "⎢                    ⎥\n",
       "⎢0  -y₁       0      ⎥\n",
       "⎢                    ⎥\n",
       "⎢               2    ⎥\n",
       "⎣0   0   -y₁⋅sin (y₂)⎦"
      ]
     },
     "execution_count": 75,
     "metadata": {},
     "output_type": "execute_result"
    }
   ],
   "source": [
    "# alternative way of viewing Christoffel symbols of the 2nd kind\n",
    "metric_spherical = G_xy # defined above\n",
    "X = Matrix([y_1,y_2,y_3])\n",
    "\n",
    "\n",
    "def compute_christoffel_symbols(metric, d, basis, perm):\n",
    "    gamma2 = []\n",
    "    for i in range(0,d):\n",
    "        gamma2.append(zeros(d,d))\n",
    "        \n",
    "    for a in range(0,d):\n",
    "        for b in range(0,d):\n",
    "            for c in range(0,d):\n",
    "                # puts this in matrix form with fancy text and indexing\n",
    "                if perm==0:\n",
    "                    gamma2[a][b,c] = simplify(christoffel_symbol_2(metric, a, b, c, basis))\n",
    "                elif perm==1:\n",
    "                    gamma2[b][c,a] = simplify(christoffel_symbol_2(metric, a, b, c, basis))\n",
    "                elif perm==2:\n",
    "                    gamma2[c][a,b] = simplify(christoffel_symbol_2(metric, a, b, c, basis))\n",
    "                elif perm==3:\n",
    "                    gamma2[a][c,b] = simplify(christoffel_symbol_2(metric, a, b, c, basis))\n",
    "                elif perm==1:\n",
    "                    gamma2[c][b,a] = simplify(christoffel_symbol_2(metric, a, b, c, basis))\n",
    "                elif perm==2:\n",
    "                    gamma2[b][a,c] = simplify(christoffel_symbol_2(metric, a, b, c, basis))                    \n",
    "    return gamma2\n",
    "\n",
    "# this was added because the original christoffel symbol code\n",
    "# above does not extend to higher dimensions, neither does\n",
    "# the inner function christoffel_symbol_2 (see above)\n",
    "# and so\n",
    "# metric is the metric\n",
    "# d is the dimension of the space\n",
    "# basis is the basis from which the metric was derived\n",
    "# metric_inv is the optional inverse of the metric\n",
    "def compute_christoffel_symbols_2(metric, d, basis, metric_inv):\n",
    "    gamma2 = []\n",
    "    for i in range(0,d):\n",
    "        gamma2.append(zeros(d,d))\n",
    "        \n",
    "    for a in range(0,d):\n",
    "        for b in range(0,d):\n",
    "            for c in range(0,d):\n",
    "                # puts this in matrix form with fancy text and indexing\n",
    "                gamma2[a][b,c] = simplify(christoffel_symbol_2_2(metric, a, b, c, basis, d, metric_inv))\n",
    "                \n",
    "    return gamma2\n",
    "\n",
    "\n",
    "gamma2 = compute_christoffel_symbols(metric_spherical, 3, X, 0)\n",
    "gamma2[0]"
   ]
  },
  {
   "cell_type": "code",
   "execution_count": null,
   "metadata": {},
   "outputs": [],
   "source": [
    "gamma2[1]"
   ]
  },
  {
   "cell_type": "code",
   "execution_count": null,
   "metadata": {},
   "outputs": [],
   "source": [
    "gamma2[2]"
   ]
  },
  {
   "cell_type": "markdown",
   "metadata": {},
   "source": [
    "### Covariant derivative of a covariant vector\n",
    "   \n",
    "$$\\nabla_r \\mathbf T_i = \\frac{\\partial \\mathbf T_i}{\\partial x^r} - \\Gamma^p_{ir} \\mathbf T_p $$\n",
    "\n",
    "### Covariant derivative of a contravariant vector.\n",
    "   \n",
    "$$\\nabla_r \\mathbf T^i = \\frac{\\partial \\mathbf T^i}{\\partial x^r} + \\Gamma^i_{qr} \\mathbf T^q$$\n",
    "   \n",
    "> note: the difference here between this and the Covariant derivative of a covariant vector is that the free index, i, is in the superscript of the Christoffel symbol and in the former, a subscript."
   ]
  },
  {
   "cell_type": "code",
   "execution_count": null,
   "metadata": {
    "collapsed": true
   },
   "outputs": [],
   "source": [
    "def Covariant_Derivative_Covariant_Vector(T, Y, gamma2, d):\n",
    "    d_r_T_i = zeros(d,d)\n",
    "    for r in range(0,d): # free index r\n",
    "        for i in range(0,d): # free index j\n",
    "            d_r_T_i [i, r] = diff( T[i], Y[r] )\n",
    "            for p in range(0,d): # dummy index p\n",
    "        \n",
    "                # using our vector matrix X=[y_1,y_2, y_3]\n",
    "                 d_r_T_i [i, r] -= gamma2 [p][i, r]*T[p] ## perhaps one of the other gamma2 systems\n",
    "\n",
    "    return d_r_T_i\n",
    "\n",
    "def Covariant_Derivative_Contravariant_Vector(T, Y, gamma2, d):\n",
    "    d_r_T_i = zeros(d,d)\n",
    "    for r in range(0,d): # free index r\n",
    "        for i in range(0,d): # free index j\n",
    "            d_r_T_i [i, r] = diff( T[i], Y[r] )\n",
    "            for q in range(0,d): # dummy index q\n",
    "        \n",
    "                # using our vector matrix X=[y_1,y_2, y_3]\n",
    "                d_r_T_i [i, r] += gamma2 [i][q, r]*T[q] ## perhaps one of the other gamma2 systems\n",
    "            \n",
    "    return d_r_T_i"
   ]
  },
  {
   "cell_type": "markdown",
   "metadata": {},
   "source": [
    "### Rules\n",
    "\n",
    "Covariant differentiation is a linear operator, therefore \n",
    "   \n",
    "1) $ \\nabla_r (\\mathbf U + \\mathbf V) = \\nabla_r \\mathbf U + \\nabla_r \\mathbf V$ \n",
    "   \n",
    "2) outer product $\\nabla_r[\\mathbf U  \\mathbf V] = [\\nabla_r\\mathbf U \\mathbf V]+ [\\mathbf U\\nabla_r \\mathbf V]$\n",
    "   \n",
    "3) inner product $\\nabla_r(\\mathbf U\\mathbf V)=(\\nabla_r\\mathbf U \\mathbf V)+ (\\mathbf U\\nabla_r \\mathbf V)$"
   ]
  },
  {
   "cell_type": "markdown",
   "metadata": {},
   "source": [
    "\n",
    "To re-express the rule or covariant differentiation ...\n",
    "   \n",
    "$$ \\frac{\\partial \\bar{\\mathbf T}_i}{\\partial \\bar{x}^k} - \\bar{\\Gamma}^t_{ik}\\bar{\\mathbf T}_t = (\\frac{\\partial \\mathbf T_r}{\\partial x^s} - \\Gamma^t_{rs}\\mathbf T_t )\\frac{\\partial x^r}{\\partial \\bar{x}^i}\\frac{\\partial x^s}{\\partial \\bar{x}^k}$$\n",
    "\n",
    "where if the unbarred system is the cartesian system, and the barred is the spherical system, we should use the method in the code (unless I made a mistake) and to transform to the covariant derivative in the cartesian system we multiply by the $\\mathbf {\\bar{J}} = \\frac{\\partial (x^i)}{\\partial (\\bar{x}^j)} $ twice, where for convenience $ (\\mathbf J^{-1})^T = \\mathbf {\\bar{J}} $ and so $\\mathbf J = \\frac{\\partial (\\bar{x}^j)}{\\partial (x^i)}$"
   ]
  },
  {
   "cell_type": "markdown",
   "metadata": {},
   "source": [
    "When dealing with rectangular ... I followed these steps\n",
    "\n",
    "$$ \\frac{\\partial \\bar{\\mathbf T}_i}{\\partial \\bar{x}^k} - \\bar{\\Gamma}^t_{ik}\\bar{\\mathbf T}_t = (\\frac{\\partial \\mathbf T_r}{\\partial x^s} - \\Gamma^t_{rs}\\mathbf T_t )\\frac{\\partial x^r}{\\partial \\bar{x}^i}\\frac{\\partial x^s}{\\partial \\bar{x}^k}$$\n",
    "\n",
    "becomes\n",
    "\n",
    "$$ \\frac{\\partial \\bar{\\mathbf T}_i}{\\partial \\bar{x}^k} - \\bar{\\Gamma}^t_{ik}\\bar{\\mathbf T}_t = (\\frac{\\partial \\mathbf T_r}{\\partial x^s}  )\\frac{\\partial x^r}{\\partial \\bar{x}^i}\\frac{\\partial x^s}{\\partial \\bar{x}^k}$$\n",
    "\n",
    "because the right hand side is cartesian.\n",
    "\n",
    "\n",
    "$$ \\frac{\\partial \\bar{\\mathbf T}_i}{\\partial \\bar{x}^k} - \\bar{\\Gamma}^t_{ik}\\bar{\\mathbf T}_t = \\mathbf {\\bar{T}}_{ik}$$\n",
    "\n",
    "then\n",
    "\n",
    "$$ \\frac{\\partial \\bar{\\mathbf T}_i}{\\partial \\bar{x}^k}  = \\mathbf {\\bar{T}}_{ik} + \\bar{\\Gamma}^t_{ik}\\bar{\\mathbf T}_t $$"
   ]
  },
  {
   "cell_type": "markdown",
   "metadata": {},
   "source": [
    "### Covariant Derivative of a one-form\n",
    "   \n",
    "The one-form is defined above as $\\mathbf \\omega_r = a_i dx^i $ and the covariant derivative is \n",
    "   \n",
    "$$\\nabla_r \\omega_i = \\partial_r \\mathbf \\omega_i - \\Gamma^p_{ri}\\mathbf \\omega_p$$"
   ]
  },
  {
   "cell_type": "markdown",
   "metadata": {},
   "source": [
    "> Note this is the same as the covariant derivative of a covariant vector."
   ]
  },
  {
   "cell_type": "markdown",
   "metadata": {},
   "source": [
    "### Intrinsic or absolute derivative\n",
    "   \n",
    "The inner product of the covariant derivative with the tangent vector to a curve is\n",
    "   \n",
    "   $$\\left( \\nabla_r \\mathbf T^i, \\frac{\\partial \\mathbf x^r}{\\partial t} \\right)$$\n",
    " \n",
    "is a tensor of the same type and order as $\\mathbf T^i$ and is known as the absolute or intrinsic derivative along the curve $C : \\mathbf x=\\mathbf x(t)$, defined by\n",
    "   \n",
    "   $$\\frac{\\delta \\mathbf T^i}{\\delta t} = \\frac{\\partial \\mathbf T^i}{\\partial t} + \\Gamma^i_{pq} \\mathbf T^p \\frac{\\partial \\mathbf x^q}{\\partial t}, \\qquad \\mathbf T^i = \\mathbf T^i (\\mathbf x(t)) $$\n",
    "   "
   ]
  },
  {
   "cell_type": "markdown",
   "metadata": {},
   "source": [
    "To show this, simply take the  covariant derivative of $\\mathbf T^i$ with respect to $\\mathbf x^r$, and form the dot product with $\\frac{\\partial x^r}{\\partial t}$ as follows\n",
    "\n",
    "$$\\nabla_r \\mathbf T^i \\frac{\\partial x^r}{\\partial t} = \\frac{\\partial \\mathbf T^i}{\\partial x^r}\\frac{\\partial x^r}{\\partial t}  + \\Gamma^i_{qr} \\mathbf T^q \\frac{\\partial x^r}{\\partial t}$$\n",
    "then\n",
    "   \n",
    "$$\\nabla_r \\mathbf T^i \\frac{\\partial x^r}{\\partial t}= \\frac{\\partial \\mathbf T^i}{\\partial t}  + \\Gamma^i_{qr} \\mathbf T^q \\frac{\\partial x^r}{\\partial t} \\equiv \\frac{\\delta \\mathbf T^i}{\\delta t} $$\n",
    "\n",
    "> Pay attention to the indices, the $x^q$ in the initial definition means its the dot product with $\\frac{\\partial x^q}{\\partial t}$ that was formed ... so the second definition is clearer."
   ]
  },
  {
   "cell_type": "markdown",
   "metadata": {},
   "source": [
    "Absolute differentiation is a linear operator.\n",
    "   \n",
    "### Acceleration \n",
    "   \n",
    "This is defined as the time derivative of the absolute derivative of the coordinate, \n",
    "   \n",
    "$$\\mathbf a = a^i = \\frac{\\delta}{\\delta t} \\left(\\frac{d x^i}{dt}\\right)= \\frac{d}{d t} \\left(\\frac{\\delta  x^i}{\\delta t}\\right)=\\frac{\\partial^2 x^i}{\\partial t^2}  + \\Gamma^i_{qr}  \\frac{\\partial x^q}{\\partial t}\\frac{\\partial x^r}{\\partial t}$$"
   ]
  },
  {
   "cell_type": "markdown",
   "metadata": {},
   "source": [
    "using the work above for acceleration in curlinear coordinates,\n",
    "   \n",
    "$$\\mathbf r = \\rho\\ \\cos\\phi\\ \\sin\\theta\\ \\mathbf i + \\rho\\ \\sin\\phi\\ \\sin\\theta\\ \\mathbf j + \\rho\\ \\cos\\theta\\ \\mathbf k=y^1\\ \\cos (y^3)\\ \\sin (y^2)\\ \\mathbf i + y^1\\ \\sin (y^3)\\ \\sin (y^2)\\ \\mathbf j + y^1\\ \\cos (y^2)\\ \\mathbf k =y^1 c_3 s_2 \\mathbf i + y^1 s_3 s_2 \\mathbf j + y^1 c_2 \\mathbf k $$\n",
    "   \n",
    "and assuming the values for velocity (and for the moment acceleration) in the rectangular coordinates derived above, then in the spherical coordinate system, with metric $g_{11}=1,\\ g_{22}=(y^1)^2,\\ g_{33}=(y^1 \\sin\\ y^2)^2 $ then \n",
    "   \n",
    "$$\\mathbf r = y^1 \\mathbf e_1 + y^2 \\mathbf e_2+y^3 \\mathbf e_3 $$\n",
    "and\n",
    "$$\\mathbf v = \\dot{y}^1 \\mathbf e_1 + \\dot{y}^2 \\mathbf e_2+\\dot{y}^3 \\mathbf e_3 $$\n",
    "or\n",
    "$$ v^i = \\frac{dy^i}{dt}$$\n",
    "   \n",
    "and the contravariant components of acceleration are given by the absolute derivative,\n",
    "   \n",
    "$$ a^i = \\frac{dv^i}{dt} + \\Gamma^i_{rs} v^r v^s = \\frac{d^2y^i}{dt^2} + \\Gamma^i_{rs} \\frac{dy^r}{dt} \\frac{dy^s}{dt} $$\n",
    "\n",
    "   \n"
   ]
  },
  {
   "cell_type": "code",
   "execution_count": null,
   "metadata": {},
   "outputs": [],
   "source": [
    "gamma2[0]"
   ]
  },
  {
   "cell_type": "code",
   "execution_count": null,
   "metadata": {},
   "outputs": [],
   "source": [
    "gamma2[1]"
   ]
  },
  {
   "cell_type": "code",
   "execution_count": null,
   "metadata": {},
   "outputs": [],
   "source": [
    "gamma2[2]"
   ]
  },
  {
   "cell_type": "code",
   "execution_count": null,
   "metadata": {
    "collapsed": true
   },
   "outputs": [],
   "source": [
    "def absolute_acceleration(DY, D2Y, gamma_2, d ):\n",
    "    acc = zeros(d,1)\n",
    "    for i in range(0,d):\n",
    "        acc[i] =  D2Y[i]\n",
    "        for j in range (0,d):\n",
    "            for s in range(0,d):\n",
    "                acc[i] += gamma_2[i][j,s]*DY[j]*DY[s]\n",
    "    return acc\n",
    "\n"
   ]
  },
  {
   "cell_type": "markdown",
   "metadata": {},
   "source": [
    "but for our particular vector in the example above, $\\dot{y^i} = [\\text{const}]$ and so the 2nd derivative was zero, so all that remains is to sum over the remaining term $a^i= \\Gamma^i_{rs} \\frac{dy^r}{dt} \\frac{dy^s}{dt} $ so ...\n",
    "   \n",
    "$$ a^1  = \\Gamma^1_{1s} \\frac{dy^1}{dt} \\frac{dy^s}{dt} + \\Gamma^1_{2s} \\frac{dy^2}{dt} \\frac{dy^s}{dt} + \\Gamma^1_{3s} \\frac{dy^3}{dt} \\frac{dy^s}{dt}  $$\n",
    "      \n",
    "and here the chrisoffel symbols $\\Gamma^1_{rs}$ are zero except for $\\Gamma^1_{22}=-y^1$ and $\\Gamma^1_{33}=-y^1 \\sin^2 (y^2)$ (first matrix above) ...  \n",
    "     \n",
    "$$ a^1  =  \\Gamma^1_{22} \\left(\\frac{dy^2}{dt}\\right)^2 + \\Gamma^1_{33} \\left(\\frac{dy^3}{dt} \\right)^2 = -y^1 \\left(\\frac{dy^2}{dt}\\right)^2  -y^1 \\sin^2 (y^2) \\left(\\frac{dy^3}{dt} \\right)^2  $$\n"
   ]
  },
  {
   "cell_type": "markdown",
   "metadata": {},
   "source": [
    "for the second component\n",
    "$$ a^2  = \\Gamma^2_{1s} \\frac{dy^1}{dt} \\frac{dy^s}{dt} + \\Gamma^2_{2s} \\frac{dy^2}{dt} \\frac{dy^s}{dt} + \\Gamma^2_{3s} \\frac{dy^3}{dt} \\frac{dy^s}{dt}  $$\n",
    "   \n",
    "the Christoffel symbols (2nd matrix) are all zero except $\\Gamma^2_{12} = \\Gamma^2_{21} = \\frac{1}{y^1}$ and $\\Gamma^2_{33} = -\\frac{1}{2}\\sin(2y^2)= -\\sin(y^2)\\cos(y^2)$ then ...\n",
    "   \n",
    "$$ a^2  = \\Gamma^2_{12} \\frac{dy^1}{dt} \\frac{dy^2}{dt} + \\Gamma^2_{21} \\frac{dy^2}{dt} \\frac{dy^1}{dt} + \\Gamma^2_{33} \\left(\\frac{dy^3}{dt}\\right)^2= \\frac{2}{y^1} \\frac{dy^1}{dt} \\frac{dy^2}{dt}  -\\sin(y^2)\\cos(y^2) \\left(\\frac{dy^3}{dt}\\right)^2  $$"
   ]
  },
  {
   "cell_type": "markdown",
   "metadata": {},
   "source": [
    "and for the third component\n",
    "   \n",
    "$$ a^3  = \\Gamma^3_{1s} \\frac{dy^1}{dt} \\frac{dy^s}{dt} + \\Gamma^3_{2s} \\frac{dy^2}{dt} \\frac{dy^s}{dt} + \\Gamma^3_{3s} \\frac{dy^3}{dt} \\frac{dy^s}{dt}  $$\n",
    "   \n",
    "with $\\Gamma^3_{31} = \\Gamma^3_{13} = \\frac{1}{y^1}$ and $\\Gamma^3_{32} = \\Gamma^3_{23} = \\frac{1}{\\tan(y^2)}=\\frac{\\cos(y^2)}{\\sin(y^2)}$ then\n",
    "      \n",
    "$$ a^3  = 2\\Gamma^3_{13} \\frac{dy^1}{dt} \\frac{dy^3}{dt} + 2\\Gamma^3_{23} \\frac{dy^2}{dt} \\frac{dy^3}{dt} = \\frac{2}{y^1} \\frac{dy^1}{dt} \\frac{dy^3}{dt} + 2\\frac{\\cos(y^2)}{\\sin(y^2)} \\frac{dy^2}{dt} \\frac{dy^3}{dt}   $$"
   ]
  },
  {
   "cell_type": "markdown",
   "metadata": {},
   "source": [
    "and the *physical components* are given by $a_i = a^i\\sqrt{g_{ii}} $ (no summation) so\n",
    "   \n",
    "$$a_1 = a^1 \\sqrt{g_{11}} = \\left(-y^1 \\left(\\frac{dy^2}{dt}\\right)^2  -y^1 \\sin^2 (y^2) \\left(\\frac{dy^3}{dt} \\right)^2\\right)(\\sqrt{1}) = -y^1 \\left(\\frac{dy^2}{dt}\\right)^2  -y^1 \\sin^2 (y^2) \\left(\\frac{dy^3}{dt} \\right)^2$$\n",
    "   \n",
    "and \n",
    "   \n",
    "$$a_2 = a^2 \\sqrt{g_{22}} = a^2 \\sqrt{(y^1)^2}=\\left(\\frac{2}{y^1} \\frac{dy^1}{dt} \\frac{dy^2}{dt}  -\\sin(y^2)\\cos(y^2) \\left(\\frac{dy^3}{dt}\\right)^2 \\right)y^1 =\\left( 2 \\frac{dy^1}{dt} \\frac{dy^2}{dt}  -y^1\\sin(y^2)\\cos(y^2) \\left(\\frac{dy^3}{dt}\\right)^2 \\right)  $$\n",
    "   \n",
    "and\n",
    "\n",
    "$$ a_3 = a^3 \\sqrt{g_{33}} = a^3 \\sqrt{(y^1 \\sin\\ (y^2))^2} =  2 sin\\ (y^2) \\frac{dy^1}{dt} \\frac{dy^3}{dt} + 2 y^1\\cos(y^2) \\frac{dy^2}{dt} \\frac{dy^3}{dt} $$\n"
   ]
  },
  {
   "cell_type": "markdown",
   "metadata": {},
   "source": [
    "so \n",
    "$$\\mathbf a = ( -y^1 \\left(\\dot{y}^2\\right)^2  -y^1 (s_2)^2 \\left(\\dot{y}^3 \\right)^2) \\mathbf e_1+ (2 \\dot{y}^1 \\dot{y}^2  -y^1 s_2 c_2 \\left(\\dot{y}^3\\right)^2)\\mathbf e_2 +  (2 s_2 \\dot{y}^1 \\dot{y}^3 + 2 y^1 c_2 \\dot{y}^2 \\dot{y}^3)\\mathbf e_3$$"
   ]
  },
  {
   "cell_type": "code",
   "execution_count": null,
   "metadata": {
    "collapsed": true
   },
   "outputs": [],
   "source": [
    "############################################\n",
    "## NOTE NOTE :\n",
    "## please view this on notebook viewer\n",
    "## https://nbviewer.jupyter.org/github/coderofgames/Python-Math/blob/master/Vectors/Tensors.ipynb\n",
    "############################################\n",
    "t = symbols('t')\n",
    "\n",
    "T = Matrix([a_1,a_2,a_3])\n",
    "\n",
    "# make them functions of t\n",
    "y__1 = Function('y__1')( t ) \n",
    "y__2 = Function('y__2')( t ) \n",
    "y__3 = Function('y__3')( t )\n",
    "\n",
    "Y = Matrix([y__1,y__2,y__3])\n",
    "\n",
    "DY = Matrix([diff(y__1,t),diff(y__2,t),diff(y__3,t)])\n",
    "T = DY\n",
    "D2Y = diff(DY,t)\n",
    "\n"
   ]
  },
  {
   "cell_type": "code",
   "execution_count": null,
   "metadata": {
    "scrolled": true
   },
   "outputs": [],
   "source": [
    "v = y_1 * cos (y_3) * sin(y_2) * e.i+ y_1 * sin (y_3) * sin(y_2) * e.j +  y_1 * cos(y_2) * e.k\n",
    "v = v.subs( {y_1: y__1, y_2: y__2, y_3:y__3})\n",
    "V = sqrt( x_1**2 + x_2**2 + x_3**2) * sph.i + acos( x_3/sqrt( x_1**2 + x_2**2 + x_3**2)) * sph.j + atan(x_2/x_1) * sph.k\n",
    "\n",
    "X = Matrix([v.dot(e.i), v.dot(e.j),v.dot(e.k)])\n",
    "Y = Matrix([y__1, y__2, y__3])\n",
    "\n",
    "print \"The Jacobian of the dx^i/dy^j where x's are cartesian and y's are spherical \"\n",
    "J_1 = X.jacobian(Y)\n",
    "J_1"
   ]
  },
  {
   "cell_type": "code",
   "execution_count": null,
   "metadata": {},
   "outputs": [],
   "source": [
    "metric_spherical_t = simplify(J_1.T * J_1)\n",
    "\n",
    "\n",
    "gamma_2 =  compute_christoffel_symbols(metric_spherical_t, 3, Y, 0)\n",
    "gamma_2[0]"
   ]
  },
  {
   "cell_type": "code",
   "execution_count": null,
   "metadata": {},
   "outputs": [],
   "source": [
    "metric_spherical_t"
   ]
  },
  {
   "cell_type": "code",
   "execution_count": null,
   "metadata": {},
   "outputs": [],
   "source": [
    "\n",
    "cov_deriv = Covariant_Derivative_Contravariant_Vector(T, Y, gamma_2, 3)\n",
    "cov_deriv\n",
    "# note, this does not contain terms of dT/dy__1 or anything, because\n",
    "# T = dy__i/dt, so the derivative is meaningless. in this case\n",
    "# the second derivative is zero, so the math will work"
   ]
  },
  {
   "cell_type": "code",
   "execution_count": null,
   "metadata": {},
   "outputs": [],
   "source": [
    "abs_deriv = cov_deriv * T\n",
    "abs_deriv = expand(abs_deriv)\n",
    "#abs_deriv_phys_1 = abs_deriv[0]\n",
    "#abs_deriv_phys_2 = y__1*abs_deriv[1]\n",
    "#abs_deriv_phys_3 = y__1*sin(y__2)*abs_deriv[2]\n",
    "#abs_deriv = Matrix([abs_deriv_phys_1,abs_deriv_phys_2,abs_deriv_phys_3])\n",
    "expand(expand_trig(abs_deriv))"
   ]
  },
  {
   "cell_type": "markdown",
   "metadata": {},
   "source": [
    "This agrees with the above hand calculation except that the trigonometric term in the 2nd component is the half angle formulae, this can be changed, but the form is equivalent."
   ]
  },
  {
   "cell_type": "code",
   "execution_count": null,
   "metadata": {},
   "outputs": [],
   "source": [
    "abs_accel = absolute_acceleration(DY,D2Y,gamma_2,3)\n",
    "expand_trig(abs_accel)"
   ]
  },
  {
   "cell_type": "code",
   "execution_count": null,
   "metadata": {
    "collapsed": true
   },
   "outputs": [],
   "source": [
    "c_1,c_2,c_3,s_1,s_2,s_3 = symbols('c_1,c_2,c_3,s_1,s_2,s_3')\n",
    "\n"
   ]
  },
  {
   "cell_type": "code",
   "execution_count": null,
   "metadata": {},
   "outputs": [],
   "source": [
    "J_1"
   ]
  },
  {
   "cell_type": "markdown",
   "metadata": {},
   "source": [
    "so the components of the covariant derivative in the rectangular system are (using the Jacobian) ...\n",
    "\n",
    "$$\\mathbf a\\cdot\\mathbf i= s_2 c_3( -y^1 \\left(\\dot{y}^2\\right)^2  -y^1 (s_2)^2 \\left(\\dot{y}^3 \\right)^2) + y^1 c_2 c_3(2 \\dot{y}^1 \\dot{y}^2  -y^1 s_2 c_2 \\left(\\dot{y}^3\\right)^2) - y^1 s_2 s_3 (2 s_2 \\dot{y}^1 \\dot{y}^3 + 2 y^1 c_2 \\dot{y}^2 \\dot{y}^3)$$\n",
    "\n"
   ]
  },
  {
   "cell_type": "markdown",
   "metadata": {},
   "source": [
    "First simplifying the $\\mathbf a\\cdot \\mathbf i$ above \n",
    "   \n",
    "$$\\mathbf a\\cdot\\mathbf i= y^1( - s_2 c_3 \\left(\\dot{y}^2\\right)^2  -  s_2 c_3 (s_2)^2 \\left(\\dot{y}^3 \\right)^2) + y^1 (2 c_2 c_3 \\dot{y}^1 \\dot{y}^2  -y^1  c_3 s_2 (c_2)^2 \\left(\\dot{y}^3\\right)^2) - y^1 (2  s_3 (s_2)^2 \\dot{y}^1 \\dot{y}^3 + 2 y^1 s_2 s_3 c_2 \\dot{y}^2 \\dot{y}^3)$$\n",
    "\n",
    "Taking the term for $\\ddot{x}^1$ derived in the section on velocity in curvilinear coordinates,\n",
    "   \n",
    "$$\\ddot{y}^1 s_2 c_3 +  2 \\dot{y}^1 \\dot{y}^2 c_2 c_3 - 2\\dot{y}^1 \\dot{y}^3 s_2 s_3   + y^1 \\ddot{y}^2 c_2 c_3 - y^1 (\\dot{y}^2)^2 s_2 c_3 -  2 y^1 \\dot{y}^3 \\dot{y}^2 c_2 s_3  - y^1 \\ddot{y}^3 s_2  s_3 - y^1 (\\dot{y}^3)^2 s_2  c_3  \\qquad \\mathbf (A)$$\n",
    "   \n",
    " and setting the second derivative of the y coordinate to zero ...\n",
    " \n",
    "$$  2 \\dot{y}^1 \\dot{y}^2 c_2 c_3 - 2\\dot{y}^1 \\dot{y}^3 s_2 s_3   - y^1 (\\dot{y}^2)^2 s_2 c_3 -  2 y^1 \\dot{y}^3 \\dot{y}^2 c_2 s_3   - y^1 (\\dot{y}^3)^2 s_2  c_3  \\qquad \\mathbf (B)$$\n",
    "\n",
    " "
   ]
  },
  {
   "cell_type": "markdown",
   "metadata": {},
   "source": [
    "They are not the same ...\n",
    "   \n",
    "$$\\mathbf a\\cdot\\mathbf i= s_2 c_3( -y^1 \\left(\\dot{y}^2\\right)^2  -y^1 (s_2)^2 \\left(\\dot{y}^3 \\right)^2) +  s_2 s_3(2 \\dot{y}^1 \\dot{y}^2  -y^1 s_2  \\left(\\dot{y}^3\\right)^2) + c_2 (2 s_2 \\dot{y}^1 \\dot{y}^3 + 2 y^1 c_2 \\dot{y}^2 \\dot{y}^3)$$"
   ]
  },
  {
   "cell_type": "markdown",
   "metadata": {},
   "source": [
    "So now I have to check the absoute derivative contravariant terms (before multiplication by $\\sqrt{g_{ii}}$ and I the result follows ... "
   ]
  },
  {
   "cell_type": "markdown",
   "metadata": {},
   "source": [
    "$$\\mathbf a = ( -y^1 \\left(\\dot{y}^2\\right)^2  -y^1 (s_2)^2 \\left(\\dot{y}^3 \\right)^2) \\mathbf e_1+ (\\frac{2}{y^1} \\dot{y}^1 \\dot{y}^2  - s_2 c_2 \\left(\\dot{y}^3\\right)^2)\\mathbf e_2 +  (\\frac{2}{y^1} \\dot{y}^1 \\dot{y}^3 + 2 \\frac{ c_2}{s_2} \\dot{y}^2 \\dot{y}^3)\\mathbf e_3$$"
   ]
  },
  {
   "cell_type": "markdown",
   "metadata": {},
   "source": [
    "$$\\ddot{x}^1 = \\mathbf a\\cdot\\mathbf i = \\mathbf J_{11} \\mathbf a\\cdot \\mathbf e_1 +\\mathbf J_{12} \\mathbf a\\cdot \\mathbf e_2 +\\mathbf J_{13} \\mathbf a\\cdot \\mathbf e_3 $$\n",
    "so\n",
    "\n",
    "$$\\ddot{x}^1=  (s_2 c_3)( -y^1 \\left(\\dot{y}^2\\right)^2  -y^1 (s_2)^2 \\left(\\dot{y}^3 \\right)^2) + (y^1c_2 c_3)(\\frac{2}{y^1} \\dot{y}^1 \\dot{y}^2  - s_2 c_2 \\left(\\dot{y}^3\\right)^2) +(-y^1 s_2 s_3)  (\\frac{2}{y^1} \\dot{y}^1 \\dot{y}^3 + 2 \\frac{ c_2}{s_2} \\dot{y}^2 \\dot{y}^3)$$"
   ]
  },
  {
   "cell_type": "markdown",
   "metadata": {},
   "source": [
    "$$\\ddot{x}^1 = ( -y^1 s_2 c_3 \\left(\\dot{y}^2\\right)^2  -y^1 s_2 c_3 (s_2)^2 \\left(\\dot{y}^3 \\right)^2) + (2c_2 c_3 \\dot{y}^1 \\dot{y}^2  - y^1  c_3 s_2 (c_2)^2 \\left(\\dot{y}^3\\right)^2) +  ( -2 s_2 s_3\\dot{y}^1 \\dot{y}^3 - 2 y^1 s_3 c_2 \\dot{y}^2 \\dot{y}^3)$$\n",
    "   \n",
    "and the following terms factorize and cancel since $ (s_2)^2 +(c_2)^2 = 1$ ...\n",
    "\n",
    "$$-y^1 s_2 c_3 (s_2)^2 \\left(\\dot{y}^3 \\right)^2- y^1  c_3 s_2 (c_2)^2 \\left(\\dot{y}^3\\right)^2 = -y^1 s_2 c_3  \\left(\\dot{y}^3 \\right)^2((s_2)^2 +  (c_2)^2)   $$\n",
    "   \n",
    "and we are left with the same resultant tensor from the derivation in the section on velocity and acceleration in curvilinear coordinates (compare  to equation B in this section or (3.72)).\n",
    "\n",
    "$$ -y^1 s_2 c_3 (\\dot{y}^2)^2  -y^1 s_2 c_3 (\\dot{y}^3 )^2 + 2 c_2 c_3 \\dot{y}^1 \\dot{y}^2    -2 s_2 s_3\\dot{y}^1 \\dot{y}^3 - 2 y^1 s_3 c_2 \\dot{y}^2 \\dot{y}^3 $$\n"
   ]
  },
  {
   "cell_type": "code",
   "execution_count": null,
   "metadata": {},
   "outputs": [],
   "source": [
    "accel_in_x0 = (expand_trig(trigsimp(J_1 * abs_deriv)))\n",
    "accel_in_x = accel_in_x0.subs({tan(y__1):s_1/c_1,tan(y__2):s_2/c_2,tan(y__3):s_3/c_3}) \n",
    "accel_in_x = accel_in_x.subs({sin(y__1):s_1,sin(y__2):s_2,sin(y__3):s_3 })\n",
    "accel_in_x = accel_in_x.subs({cos(y__1):c_1,cos(y__2):c_2,cos(y__3):c_3})\n",
    "accel_in_x = expand(accel_in_x)\n",
    "\n",
    "wn1 = Wild('wn1')\n",
    "#>>> collect(a*x**y - b*x**y, w**y)\n",
    "#accel_in_x =accel_in_x.subs( {wn1*s_3**2 + wn1*c_3**2: wn1})\n",
    "ax1= collect(accel_in_x[0], wn1*(sin(y__2)**2 + cos(y__2)**2))\n",
    "accel_in_x"
   ]
  },
  {
   "cell_type": "code",
   "execution_count": null,
   "metadata": {},
   "outputs": [],
   "source": [
    "(ax1)"
   ]
  },
  {
   "cell_type": "code",
   "execution_count": null,
   "metadata": {
    "collapsed": true
   },
   "outputs": [],
   "source": [
    "# substitute the initial values of the tangential acceleration : zero\n",
    "accel_in_x20 = (expand_trig(trigsimp(J_1 * abs_accel))).subs({diff(y__1,t,t):0,diff(y__2,t,t):0,diff(y__3,t,t):0})\n",
    "accel_in_x2 = expand(accel_in_x20)\n",
    "accel_in_x2 = accel_in_x2.subs({tan(y__1):s_1/c_1,tan(y__2):s_2/c_2,tan(y__3):s_3/c_3}) \n",
    "accel_in_x2 = accel_in_x2.subs({sin(y__1):s_1,sin(y__2):s_2,sin(y__3):s_3 })\n",
    "accel_in_x2 = accel_in_x2.subs({cos(y__1):c_1,cos(y__2):c_2,cos(y__3):c_3})\n",
    "accel_in_x2 = expand(accel_in_x2)"
   ]
  },
  {
   "cell_type": "code",
   "execution_count": null,
   "metadata": {},
   "outputs": [],
   "source": [
    "accel_in_x2"
   ]
  },
  {
   "cell_type": "markdown",
   "metadata": {},
   "source": [
    "$-c_2^2 c_3 s_2 y^1 (\\dot{y}^3)^2 + 2c_2 c_3 \\dot{y}^1 \\dot{y}^2 - 2c_2 s_3y^1 \\dot{y}^2\\dot{y}^3 - c_3 s_2^3 y^1(\\dot{y}^3)^2-c_3s_2 y^1(\\dot{y}^2)^2-2s_2 s_3\\dot{y}^1 \\dot{y}^3$"
   ]
  },
  {
   "cell_type": "markdown",
   "metadata": {},
   "source": [
    "$$2c_2 c_3 \\dot{y}^1 \\dot{y}^2 -(c_2^2+s_2^2) c_3 s_2 y^1 (\\dot{y}^3)^2   - 2c_2 s_3y^1 \\dot{y}^2\\dot{y}^3 -c_3s_2 y^1(\\dot{y}^2)^2-2s_2 s_3\\dot{y}^1 \\dot{y}^3$$\n",
    "and this is\n",
    "$$2c_2 c_3 \\dot{y}^1 \\dot{y}^2 - c_3 s_2 y^1 (\\dot{y}^3)^2   - 2c_2 s_3y^1 \\dot{y}^2\\dot{y}^3 -c_3s_2 y^1(\\dot{y}^2)^2-2s_2 s_3\\dot{y}^1 \\dot{y}^3$$\n",
    "\n",
    "and this is in agreement with (3.72)"
   ]
  },
  {
   "cell_type": "code",
   "execution_count": null,
   "metadata": {},
   "outputs": [],
   "source": [
    "a_c_1 = accel_in_x0[0].subs({diff(y__1,t):2,diff(y__2,t):3,diff(y__3,t):2,y__1:1,y__2:1,y__3:1})\n",
    "a_c_2 = accel_in_x20[0].subs({diff(y__1,t):2,diff(y__2,t):3,diff(y__3,t):2,y__1:1,y__2:1,y__3:1})\n",
    "N(a_c_2)"
   ]
  },
  {
   "cell_type": "code",
   "execution_count": null,
   "metadata": {},
   "outputs": [],
   "source": [
    "N(a_c_1)"
   ]
  },
  {
   "cell_type": "markdown",
   "metadata": {},
   "source": [
    "so, the acceleration is computed in 2 ways here ...\n",
    "   \n",
    "1) using the vector $\\mathbf T=(\\dot{y}^1,\\dot{y}^2,\\dot{y}^3)$ and taking the covariant derivative of this vector $\\nabla_r \\mathbf T^i$, then forming the absolute derivate by taking the dot product $\\delta \\mathbf T^r =\\langle\\nabla_r \\mathbf T^i, \\mathbf T^i\\rangle$. The vector $\\mathbf T^i$ is already the first derivative of the coordinate. This is convenient in this case because there aren't any tangential accelerations.\n",
    "   \n",
    "2) computing the acceleration directly by using the formula derived for acceleration above.\n",
    "   \n",
    "I would use (2) in most cases, both are in agreement with 3.72. \n",
    "\n",
    "In fact, the vector is not expressed in a way that supports the definition of the absolute derivative as the dot product of the covariant derivative with the time derivatie of the coordinate. The vector, $\\mathbf T = (\\dot{y}^1, \\dot{y}^2, \\dot{y}^3)$ is a constant velocity, the velocity is the derivative of the coordinate. Then the derivative with respect to the coordinate $\\partial_1 \\left(\\dot{y}^1\\right)= \\frac{\\partial}{\\partial y^1} \\frac{dy^1}{dt} = \\frac{d}{dt}=0$ an operator, not something physical. Therefore if the velocity were expressed in the form $v^1 = \\frac{dy^1}{dt}$, then $\\frac{dv^1}{dy^1} = \\frac{dv^1(y^1)}{dy^1}=\\frac{d}{dy^1} (v^1\\circ y^1)$ then $v^1$ is a function of $y^1$. Hence it is logical to use the equation for absolute acceleration in this case, otherwise the philosophy behind the mathematics is nonsensical. \n",
    "\n",
    "However the concept of supressing the evaluation until after the dot product will work, starting with an abstract tensor\n",
    "\n",
    "$$\\nabla_r \\mathbf T^i \\frac{dx^r}{dt} = \\left(\\frac{\\partial \\mathbf T^i}{\\partial x^r} + \\Gamma^i_{pr}\\mathbf T^p\\right)\\frac{dx^r}{dt} = \\frac{\\partial \\mathbf T^i}{\\partial x^r}\\frac{dx^r}{dt} + \\Gamma^i_{pr}\\mathbf T^p \\frac{dx^r}{dt} = \\frac{\\partial \\mathbf T^i}{\\partial t} + \\Gamma^i_{pr}\\mathbf T^p \\frac{dx^r}{dt}$$\n",
    "\n",
    "Then substituting for $\\mathbf T^p = \\frac{dx^p}{dt}$ yeilds the correct answer. So the cancelling of the $dx^r$ is performed instead of attempting to differentiate the tensor, which should be abstractly defined before substitution."
   ]
  },
  {
   "cell_type": "markdown",
   "metadata": {},
   "source": [
    "### Properties\n",
    "   \n",
    "The covariant derivative is required to have the properties that \n",
    "   \n",
    "a) it commutes with contractions \n",
    "   \n",
    "b) it reduces to the partial derivative on scalars."
   ]
  },
  {
   "cell_type": "markdown",
   "metadata": {},
   "source": [
    "### Covariant Derivative of a one-form\n",
    "   \n",
    "The one-form is defined above as $\\mathbf \\omega_r = a_i dx^i $ and the covariant derivative is \n",
    "   \n",
    "$$\\nabla_r \\omega_i = \\partial_r \\mathbf \\omega_i - \\Gamma^p_{ri}\\mathbf \\omega_p$$"
   ]
  },
  {
   "cell_type": "markdown",
   "metadata": {},
   "source": [
    "### Geodesics\n",
    "   \n",
    "This is easily derived from the Euler-Lagrange equation, (see Calculus of Variations notebook in Lagrangian subfolder) and represents the line between two points that minimizes the intrinsic distance. \n",
    "\n",
    "> The notion of intrinsic distance means the distance *under* the metric, or to minimize the variation in coordinates on the path between two points.\n",
    "   \n",
    "To repeat example 2 in the notebook, The solution to minimizing the distance between two points was the differential equation \n",
    "   \n",
    "$$ y'' = 0 $$\n",
    "   \n",
    "and this leads to the equation of a line after two successive integrations $y = mx+ c$, so clearly a simple and easy way to compute a geodesic on a surface (in some cases) may be to substitute the surface variables in place of $x$ and $y$...\n",
    "\n",
    "For example in the 2d space, $x = uv,\\quad y = \\frac{1}{2}(u^2 - v^2)$ the equation of the lines $u=m_1 v + c_1$ and $v = m_2 u + c_1$ where $m_1$ and $m_2$ are just arbitrary gradients and $c_1$ and $c_2$ are arbitrary constants to be chosen, allows us to create curvilinear triangles that minimize $u$ and $v$ between two points ..."
   ]
  },
  {
   "cell_type": "code",
   "execution_count": null,
   "metadata": {
    "collapsed": true
   },
   "outputs": [],
   "source": []
  },
  {
   "cell_type": "code",
   "execution_count": null,
   "metadata": {},
   "outputs": [],
   "source": [
    "from sympy.plotting import plot_parametric, plot3d\n",
    "import matplotlib.pyplot as plt\n",
    "\n",
    "plt.rcParams['figure.figsize'] = 10, 10\n",
    "\n",
    "u,v = symbols('u,v')\n",
    "g,ux,uz,t= symbols('g, ux,uz,t')\n",
    "\n",
    "z_=((g/2)*(t+uz/g)**2)-1/(2*g)\n",
    "x_=ux*(t+uz/g)\n",
    "z_ = (g/(2*ux**2))*x_**2  -ux**2/(2*g)\n",
    "\n",
    "u_pow2 = sqrt( x_**2 + z_**2 ) + z_\n",
    "v_pow2 = sqrt( x_**2 + z_**2 ) - z_\n",
    "u_1= sqrt(u_pow2.subs({t:0,ux:sqrt(2),uz:150,g:-9.81}))\n",
    "u_2= sqrt(u_pow2.subs({t:25,ux:sqrt(2),uz:150,g:-9.81}))\n",
    "v_1= sqrt(v_pow2.subs({t:0,ux:sqrt(2),uz:150,g:-9.81}))\n",
    "v_2= sqrt(v_pow2.subs({t:25,ux:sqrt(2),uz:150,g:-9.81}))\n",
    "\n",
    "scaled_arcLen =N(  (integrate(sqrt(u_1**2 + v**2),(v,0,v_1)) +integrate(sqrt(u_1**2 + v**2),(v,0,v_2))))\n",
    "p1=plot_parametric(x_.subs({ux:150,uz:150,g:-9.81}),-z_.subs({ux:150,uz:150,g:-9.81}), (t,0,35),xlim=(-2000,2000),ylim=(-2000,2000),show=False, line_color='r')\n",
    "p1.extend(plot_parametric((47.8913142610576*(u),0.5*((u)**2 - 47.8913142610576**2)),(u,-2800,2800),show=False, line_color='r'))\n",
    "for a in range(1,25):\n",
    "    v = 3*a#sqrt(50*2*a)\n",
    "    p1.extend(plot_parametric((u*v,0.5*(v**2-u**2)),(u,-2800,2800),show=False))\n",
    "    \n",
    "\n",
    "for a in range(1,25):\n",
    "    #p = \n",
    "    v=3*a\n",
    "    p1.extend(plot_parametric((u*(v),0.5*(u**2-(v)**2)),(u,-2800,2800),show=False, line_color='g'))\n",
    "\n",
    "  \n",
    "p1.extend( plot_parametric((u*(-1.5*(u) - 70),0.5*(u**2-(-1.5*(u) - 70)**2)),(u,-2800,2800),show=False, line_color='r'))   \n",
    "p1.extend(plot_parametric((35)*(u),0.5*(((35)**2)-(u)**2 ),(u,-2800,2800),show=False, line_color='r'))\n",
    "p1.show()"
   ]
  },
  {
   "cell_type": "markdown",
   "metadata": {},
   "source": [
    "Two of the red curves run along parameter lines, and are either $u=[\\text{const}]$ or $v=[\\text{const}]$, the other red line connects two points on the lines with an arc, representing the distance that minimizes the distance in $u$ and $v$ ( and not in $x$ and $y$ ). This distance is $s (u,v) = \\sqrt{u^2 + v^2} $ and is a curvlinear version of the pythagorean theorom. Using the metric would give us the distance in rectangular coordinates, but that would not be a geodesic.\n",
    "   \n",
    "Geodesics on a sphere are simply the curves between two ponits, if two points are on the equator of the earth, then a geodesic between them would travel along the equator. In fact you could rotate the sphere to be oriented such that the two points are flat on the $xz$ plane then simply claim that the geodesic is the new equator.\n",
    "\n",
    "### Generalized Geodesics \n",
    "   \n",
    "The equation for acceleration with arc length instead of time is ...\n",
    "  \n",
    "$$ b^i =\\frac{\\partial^2 x^i}{\\partial s^2}  + \\Gamma^i_{qr}  \\frac{\\partial x^q}{\\partial s}\\frac{\\partial x^r}{\\partial s}$$\n",
    "   \n",
    "and from this, the Frenet-Serret curvature is \n",
    "   \n",
    "$$\\kappa(s) = \\sqrt{\\left|g_{ij}b^i b^j\\right|}$$\n",
    "\n",
    "so a geodesic is given by the solutions $x^i = x^i(s)$ to the system of equations $b^i = 0$ as defined above. (for positive definite metrics)."
   ]
  },
  {
   "cell_type": "markdown",
   "metadata": {
    "collapsed": true
   },
   "source": [
    "### Parallel Transport\n",
    "   \n",
    "Is the act of transporting a vector around a loop in space such that the vector is always held parallel to its previous position. \n",
    "\n",
    "> The vector is in tangent space.\n",
    "   \n"
   ]
  },
  {
   "cell_type": "code",
   "execution_count": null,
   "metadata": {
    "collapsed": true
   },
   "outputs": [],
   "source": [
    "omega,t = symbols('omega,t')\n",
    "rot_mat_z = Matrix([[cos(omega*t), -sin(omega*t),0],\n",
    "                    [sin(omega*t), cos(omega*t),0],\n",
    "                    [0,0,1]])\n",
    "\n",
    "rot_mat_x = Matrix([[1,0,0],\n",
    "                    [0,cos(omega*t), -sin(omega*t)],\n",
    "                    [0,sin(omega*t), cos(omega*t)]\n",
    "                    ])\n",
    "\n",
    "rot_mat_y = Matrix([\n",
    "                    [cos(omega*t),0, sin(omega*t)],\n",
    "                    [0,1,0],\n",
    "                    [-sin(omega*t),0, cos(omega*t)]\n",
    "                    ])\n",
    "\n",
    "r_mat = Matrix([[1, 0,0],\n",
    "                    [0,1,0],\n",
    "                    [0,0,1]])\n",
    "\n",
    "# create vector that transforms from cylindrical coordinates to cartesian\n",
    "r = rho1*sin(theta1)*cos(phi)*e.i + rho1*sin(theta1)*sin(phi)*e.j + rho1*cos(theta1)*e.k\n",
    "\n",
    "# differentiate the vector,\n",
    "dr_rho = diff(r,rho1)\n",
    "dr_theta = diff(r,theta1)\n",
    "dr_phi = diff(r,phi)\n",
    "\n",
    "# compute the coordinate vectors,  forming e_1 = (dr/du_1)/|dr/du_1|, etc\n",
    "E1 = dr_rho / dr_rho.magnitude()\n",
    "E2 = dr_theta / dr_theta.magnitude()\n",
    "E3 = dr_phi / dr_phi.magnitude()\n",
    "\n",
    "PI = N(pi)\n",
    "theta_angle = PI/2\n",
    "phi_angle = 0\n",
    "radius = 2\n",
    "\n",
    "# matrix for matrix multilication\n",
    "r_vec = Matrix([P1.dot(e.i),P1.dot(e.j),P1.dot(e.k)])"
   ]
  },
  {
   "cell_type": "code",
   "execution_count": null,
   "metadata": {},
   "outputs": [],
   "source": [
    "def matrix_from_vector2(v1,v2,v3):\n",
    "    return Matrix([[v1.dot(e.i),v1.dot(e.j),v1.dot(e.k)],\n",
    "                   [v2.dot(e.i),v2.dot(e.j),v2.dot(e.k)],\n",
    "                   [v3.dot(e.i),v3.dot(e.j),v3.dot(e.k)]])\n",
    "\n",
    "def vector_from_matrix(v,i):\n",
    "    return v[0]*e.i + v[1]*e.j + v[2] * e.k\n",
    "\n",
    "mpl.rcParams['legend.fontsize'] = 10\n",
    "\n",
    "fig = plt.figure(figsize=(12, 12))\n",
    "ax = fig.gca(projection='3d')\n",
    "\n",
    "PlotBasisCartesian()\n",
    "\n",
    "zero_vec = 0*e.i+0*e.j+0*e.k\n",
    "\n",
    "radius = 4\n",
    "PI = N(pi)\n",
    "thet = PI/2\n",
    "ph = 0\n",
    "rad = 2\n",
    "# identity matrix to perform the transforms on\n",
    "mat_basis = Matrix([[1,0,0],[0,1,0],[0,0,1]])\n",
    "P1 =   r.subs( {rho1:rad, theta1:thet, phi:ph })\n",
    "E1_1 = E1.subs({rho1:rad, theta1:thet, phi:ph })\n",
    "E2_1 = E3.subs({rho1:rad, theta1:thet, phi:ph })\n",
    "E3_1 = E2.subs({rho1:rad, theta1:thet, phi:ph })\n",
    "    \n",
    "    # create a basis matrix from the vectors and transform unit vectors \n",
    "    # to obtain the child frame basis\n",
    "r_mat = Matrix([P1.dot(e.i),P1.dot(e.j),P1.dot(e.k)])\n",
    "# starting values\n",
    "r_mat_new = r_mat\n",
    "r_vec_new = r_mat\n",
    "for i in range(0,5):\n",
    "    \n",
    "    r_mat_new = rot_mat_z * mat_basis \n",
    "    r_vec_new = rot_mat_z * r_mat \n",
    "    r_mat_new = r_mat_new.subs({omega:PI/8, t:i})\n",
    "    r_vec_new = r_vec_new.subs({omega:PI/8, t:i})\n",
    "    rad = sqrt(r_vec_new[0]**2+r_vec_new[1]**2+r_vec_new[2]**2)\n",
    "    thet = acos( r_vec_new[2]/rad)\n",
    "    ph = atan(r_vec_new[1]/r_vec_new[0])        \n",
    "    \n",
    "    # create the basis\n",
    "    P1 =   r.subs( {rho1:rad, theta1:thet, phi:ph })\n",
    "    E1_1 = E1.subs({rho1:rad, theta1:thet, phi:ph })\n",
    "    E2_1 = E3.subs({rho1:rad, theta1:thet, phi:ph })\n",
    "    E3_1 = E2.subs({rho1:rad, theta1:thet, phi:ph })\n",
    "    \n",
    "    # create a basis matrix from the vectors and transform unit vectors \n",
    "    # to obtain the child frame basis\n",
    "    matrix_basis =  matrix_from_vector2(E1_1,E2_1,E3_1)\n",
    "    E_11 = vector_from_matrix( r_mat_new * Matrix([1,0,0]), 0 )\n",
    "    E_12 =  vector_from_matrix(r_mat_new * Matrix([0,1,0]), 0)\n",
    "    E_13 =  vector_from_matrix(r_mat_new * Matrix([0,0,1]),0)\n",
    "    \n",
    "    plot_basis(radius*E1_1, E_11, E_12, E_13, e, \"r\")\n",
    "    plot_arrow( radius*E1_1,0.85*E_12 + 0.5 *E_13,e, \"w\", \"c\")\n",
    "    \n",
    "mat_basis = r_mat_new\n",
    "new_start = r_vec_new \n",
    "for i in range(0,5):\n",
    "    \n",
    "    r_mat_new = rot_mat_x * mat_basis \n",
    "    r_vec_new = rot_mat_x * new_start \n",
    "    r_mat_new = r_mat_new.subs({omega:PI/8, t:i})\n",
    "    r_vec_new = r_vec_new.subs({omega:PI/8, t:i})\n",
    "    \n",
    "    # work out the radius, angles, etc\n",
    "    rad = sqrt(r_vec_new[0]**2+r_vec_new[1]**2+r_vec_new[2]**2)\n",
    "    thet = acos( r_vec_new[2]/rad)\n",
    "    ph = atan(r_vec_new[1]/r_vec_new[0])        \n",
    "    \n",
    "    # create the basis\n",
    "    P1 =   r.subs( {rho1:rad, theta1:thet, phi:ph })\n",
    "    E1_1 = E1.subs({rho1:rad, theta1:thet, phi:ph })\n",
    "    E2_1 = E3.subs({rho1:rad, theta1:thet, phi:ph })\n",
    "    E3_1 = E2.subs({rho1:rad, theta1:thet, phi:ph })\n",
    "    \n",
    "    # create a basis matrix from the vectors and transform unit vectors \n",
    "    # to obtain the child frame basis\n",
    "    matrix_basis =  matrix_from_vector2(E1_1,E2_1,E3_1)# Matrix([[E1_1],[E2_1],[E3_1]])\n",
    "    E_11 = vector_from_matrix( r_mat_new * Matrix([1,0,0]), 0 )\n",
    "    E_12 =  vector_from_matrix(r_mat_new * Matrix([0,1,0]), 0)\n",
    "    E_13 =  vector_from_matrix(r_mat_new * Matrix([0,0,1]),0)\n",
    "    \n",
    "    plot_basis(radius*E1_1, E_11, E_12, E_13, e, \"g\")    \n",
    "    plot_arrow( radius*E1_1,0.85*E_12 + 0.5 *E_13,e, \"w\", \"c\")\n",
    "    \n",
    "mat_basis = r_mat_new\n",
    "new_start = r_vec_new \n",
    "for i in range(0,5):\n",
    "    \n",
    "    r_mat_new = rot_mat_y * mat_basis \n",
    "    r_vec_new = rot_mat_y * new_start \n",
    "    \n",
    "    r_mat_new = r_mat_new.subs({omega:PI/8, t:i})\n",
    "    r_vec_new = r_vec_new.subs({omega:PI/8, t:i})\n",
    "\n",
    "    rad = sqrt(r_vec_new[0]**2+r_vec_new[1]**2+r_vec_new[2]**2)\n",
    "    thet = acos( r_vec_new[2]/rad)\n",
    "    ph = atan(r_vec_new[1]/r_vec_new[0])        \n",
    "    \n",
    "    P1 =   r.subs( {rho1:rad, theta1:thet, phi:ph })\n",
    "    E1_1 = E1.subs({rho1:rad, theta1:thet, phi:ph })\n",
    "    E2_1 = E3.subs({rho1:rad, theta1:thet, phi:ph })\n",
    "    E3_1 = E2.subs({rho1:rad, theta1:thet, phi:ph })\n",
    "    \n",
    "    \n",
    "    matrix_basis =  matrix_from_vector2(E1_1,E2_1,E3_1)# Matrix([[E1_1],[E2_1],[E3_1]])\n",
    "    E_11 = vector_from_matrix( r_mat_new * Matrix([1,0,0]), 0 )\n",
    "    E_12 =  vector_from_matrix(r_mat_new * Matrix([0,1,0]), 0)\n",
    "    E_13 =  vector_from_matrix(r_mat_new * Matrix([0,0,1]),0)\n",
    "    \n",
    "    plot_basis(radius*E1_1, E_11, E_12, E_13, e, \"b\")    \n",
    "    if i == 4:\n",
    "        plot_arrow( radius*E1_1,0.85*E_12 + 0.5 *E_13,e, \"w\\'\", \"c\")\n",
    "    else:\n",
    "        plot_arrow( radius*E1_1,0.85*E_12 + 0.5 *E_13,e, \"w\", \"c\")\n",
    "\n",
    "\n",
    "\n",
    "# draw arcs and sphere    \n",
    "u = np.linspace(0, 2 * np.pi, 100)\n",
    "v = np.linspace(0, np.pi, 100)\n",
    "x = radius * np.outer(np.cos(u), np.sin(v))\n",
    "y = radius * np.outer(np.sin(u), np.sin(v))\n",
    "z = radius * np.outer(np.ones(np.size(u)), np.cos(v))\n",
    "\n",
    "#ls = LightSource(azdeg=100, altdeg=45)\n",
    "ax.plot_surface(x, y, z, rstride =3,\n",
    "    cstride = 3, color ='k',alpha=0.125, linewidth=0,cmap=plt.get_cmap('BuPu'))\n",
    "ax.plot_surface(x, y, z, rstride =3,\n",
    "    cstride = 3, color ='k',alpha=0.125, linewidth=0)\n",
    "\n",
    "# draw x,y plane circle at z=0\n",
    "cx = radius*np.cos(u)\n",
    "cy = radius*np.sin(u)\n",
    "cz = 0\n",
    "ax.plot(cx, cy, cz, color='r')\n",
    "\n",
    "# draw arc from phi=0 to phi=pi\n",
    "cx = radius*np.cos(np.pi/2)*np.sin(v)\n",
    "cy = radius*np.sin(np.pi/2)*np.sin(v)\n",
    "cz = radius*np.cos(v)\n",
    "ax.plot(cx, cy, cz, color='g')\n",
    "\n",
    "# draw arc from phi=0 to phi=pi\n",
    "cx = radius*np.cos(0)*np.sin(v)\n",
    "cy = radius*np.sin(0)*np.sin(v)\n",
    "cz = radius*np.cos(v)\n",
    "ax.plot(cx, cy, cz, color='b')\n",
    "\n",
    "ax.set_xlim(-2.65, 2.65)\n",
    "ax.set_ylim(-2.65, 2.65)\n",
    "ax.set_zlim(-2.65, 2.65)\n",
    "\n",
    "#\n",
    "annotate3D(ax, r'$ A $', xyz=(radius,0,0), fontsize=30, xytext=(-3,4),\n",
    "               textcoords='offset points', ha='left',va='top') \n",
    "annotate3D(ax, r'$ B $', xyz=(0,radius,0), fontsize=30, xytext=(-3,4),\n",
    "               textcoords='offset points', ha='right',va='top') \n",
    "annotate3D(ax, r'$ C $', xyz=(0,0,radius), fontsize=30, xytext=(-3,4),\n",
    "               textcoords='offset points', ha='left',va='top') \n",
    "ax.view_init(35, 25)\n",
    "print \"If we start on the equator at point A, transport w in parallel to itself along the equator following the red frame to point B,\" \n",
    "print \"then go up to the north pole at point C and follow the blue frame downwards, we arrive and w no longer points\"\n",
    "print \"in the same direction\"\n",
    "\n",
    "plt.show()\n",
    "\n"
   ]
  },
  {
   "cell_type": "markdown",
   "metadata": {
    "collapsed": true
   },
   "source": [
    "> Note: In triply orthogonal systems, the fundamental coefficients $F$ and $M$ are both zero. (Gray Modern Differential Geometry '98) Also note -> the curves of intersection of the surfaces of a triply orthogonal patch will be the principle curves of the surfaces (Dupin's theorem).  \n",
    "\n",
    "### Generalization of the second fundamental form...\n",
    "   \n",
    "The second fundamental form can be generalized to higher dimensional spaces too, The coefficients of the second fundamental form for a surface $\\mathbf r(u^i)$ can be written   \n",
    "   \n",
    "$$ b_{\\alpha\\beta} = r^i_{\\alpha\\beta} n_i $$\n",
    "   \n",
    "where the second fundamental form is    \n",
    "   \n",
    "$$ \\mathrm{II} = b_{\\alpha\\beta} d u^\\alpha du^\\beta $$\n",
    "   \n",
    "Of course the problem of computing the coefficients from the normal vector is that the normal vector is not so easily defined for a hyper surface, since a surface in 3 dimensional space $\\mathbf r(u,v)$ has a normal vector defined everywhere on the surface, but this produces a matrix of dimension 2. The hyper surface $\\mathbf r(u^1,u^2, u^3)$ is a coordinate system embedded in a higher dimensional space. \n",
    "   \n",
    "### Reimann Tensor\n",
    "   \n",
    "The Reimann tensor can be defined unintuitively by the second fundamental form\n",
    "   \n",
    "$$ R_{ijkl} = b_{jl}b_{ki}-b_{jk}b_{li}$$\n",
    "   \n",
    "> Note: In triply orthogonal systems, the fundamental coefficients $F$ and $M$ are both zero. (Gray Modern Differential Geometry '98) Also note -> the curves of intersection of the surfaces of a triply orthogonal patch will be the principle curves of the surfaces (Dupin's theorem).  \n",
    "\n",
    "And the Riemann tensor of the second kind\n",
    "   \n",
    "$$ R^h_{ijk} = g^{ah}R_{hijk}$$\n",
    "   \n",
    "And thanks to Gauss' theorem egregium this can be expressed in terms of the first fundamental form and its derivatives,\n",
    "   \n",
    "$$ R^{\\alpha}_{ijk} = \\frac{\\partial}{\\partial u^j}\\Gamma^{\\alpha}_{ik} - \\frac{\\partial}{\\partial u^k}\\Gamma^{\\alpha}_{ij} + \\Gamma^{\\alpha}_{\\beta j}\\Gamma^{\\beta}_{ik} - \\Gamma^{\\alpha}_{\\beta k}\\Gamma^{\\beta}_{ij}$$\n",
    "   \n",
    "And thus it generalizes to higher dimensional spaces."
   ]
  },
  {
   "cell_type": "markdown",
   "metadata": {},
   "source": [
    "why is this true ?\n",
    "   \n"
   ]
  },
  {
   "cell_type": "code",
   "execution_count": null,
   "metadata": {},
   "outputs": [],
   "source": [
    "mpl.rcParams['legend.fontsize'] = 10\n",
    "\n",
    "fig = plt.figure(figsize=(12, 12))\n",
    "ax = fig.gca(projection='3d')\n",
    "ax.set_aspect('equal')\n",
    "\n",
    "#proj3d.persp_transformation = orthogonal_proj\n",
    "a = Arrow3D([0, 3], [0, 0], [0, 0], mutation_scale=20, lw=3, arrowstyle=\"-|>\", color=\"r\")\n",
    "ax.add_artist(a)\n",
    "a = Arrow3D([1, 0], [2, 0], [0, 0], mutation_scale=20, lw=3, arrowstyle=\"-|>\", color=\"g\")\n",
    "ax.add_artist(a)\n",
    "a = Arrow3D([3, 4], [0, 2], [0, 0], mutation_scale=20, lw=3, arrowstyle=\"->\", color=\"g\")\n",
    "ax.add_artist(a)\n",
    "a = Arrow3D([4, 1], [2, 2], [0, 0], mutation_scale=20, lw=3, arrowstyle=\"-|>\", color=\"r\")\n",
    "ax.add_artist(a)\n",
    "\n",
    "# points\n",
    "annotate3D(ax, r'$ A $', xyz=(0,-0.25,0), fontsize=30, xytext=(-3,4),\n",
    "               textcoords='offset points', ha='left',va='top') \n",
    "annotate3D(ax, r'$ B $', xyz=(3,-0.25,0), fontsize=30, xytext=(-3,4),\n",
    "               textcoords='offset points', ha='left',va='top')\n",
    "annotate3D(ax, r'$ C $', xyz=(4,2,0), fontsize=30, xytext=(-3,4),\n",
    "               textcoords='offset points', ha='left',va='bottom')\n",
    "annotate3D(ax, r'$ D $', xyz=(1,2,0), fontsize=30, xytext=(-3,4),\n",
    "               textcoords='offset points', ha='left',va='bottom')\n",
    "annotate3D(ax, r'$ A^*$', xyz=(-0.45,0.35,0), fontsize=30, xytext=(-3,4),\n",
    "               textcoords='offset points', ha='left',va='top')\n",
    "\n",
    "# infinitesimal lengths\n",
    "annotate3D(ax, r'$ \\Delta x^{\\mu} $', xyz=(1.5,-0.25,0), fontsize=30, xytext=(-3,4),\n",
    "               textcoords='offset points', ha='left',va='top') \n",
    "annotate3D(ax, r'$ \\Delta x^{\\mu} $', xyz=(2,2,0), fontsize=30, xytext=(-3,4),\n",
    "               textcoords='offset points', ha='left',va='bottom') \n",
    "annotate3D(ax, r'$ \\Delta x^{\\nu} $', xyz=(3.85,1,0), fontsize=30, xytext=(-3,4),\n",
    "               textcoords='offset points', ha='left',va='bottom')\n",
    "annotate3D(ax, r'$ \\Delta x^{\\nu} $', xyz=(0.5,1,0), fontsize=30, xytext=(-3,4),\n",
    "               textcoords='offset points', ha='right',va='bottom')\n",
    "\n",
    "ax.set_xlim(0, 5)\n",
    "ax.set_ylim(0, 3)\n",
    "ax.set_zlim(0, 1)\n",
    "\n",
    "ax.view_init(90, 270)\n",
    "\n",
    "plt.title('parallelogram in general coordinates')"
   ]
  },
  {
   "cell_type": "markdown",
   "metadata": {},
   "source": [
    "take a vector $V_A$ defined at the point A then parallel transport the vector around the parallogram to point $A^*$, then the  change in $V$ along the length $x^\\mu$ from A to B is $(V_B-V_A)$ and the  change in $V$ along the length $x^\\mu$ from C to D is $(V_C-V_D)$\n",
    "   \n",
    "$$ \\Delta V (x^\\mu)= (V_B-V_A)+(V_D-V_C) = (V_B-V_A)-(V_C-V_D) $$\n",
    "   \n",
    "Since $(V_B-V_A)$ is the vector from A and B and  $(V_D-V_C)$ is the vector from C to D and for the vertical component\n",
    "\n",
    "$$ \\Delta V (x^\\nu)= (V_B-V_C)+(V_D-V_{A^*}) = (V_B-V_C)-(V_{A^*}-V_D) $$\n",
    "\n",
    "and the total journey around the closed loop under parallel transport of the vector $V$ is \n",
    "   \n",
    "$$\\begin{array}{rcl}\n",
    " \\Delta V (x^\\mu)  -  \\Delta V (x^\\nu)&\t=\t&\t((V_B-V_A)-(V_C-V_D)) - ((V_B-V_C)-(V_{A^*}-V_D))       \\\\\n",
    "\t&\t=\t&\tV_B-V_A-V_C+V_D -V_B+V_C+V_{A^*}-V_D     \\\\\n",
    "\t&\t=\t&\tV_{A^*} -V_A    \t \t \t \t\n",
    "\\end{array}$$\n",
    "\n",
    "and so for the vector to be parallel, $V_{A^*} $ should equal $V_A$."
   ]
  },
  {
   "cell_type": "markdown",
   "metadata": {},
   "source": [
    "Now, the distance between B and A is $B-A=\\Delta x^\\mu$ and the difference between the vector at these positions is a vector $\\Delta V_{BA} = V_B-V_A$, these form a derivative as a difference quotient \n",
    "   \n",
    "$$ \\frac{\\Delta V_{BA}}{\\Delta x^\\mu} = \\frac{V_B-V_A}{B-A} \\implies V_B-V_A = \\frac{\\Delta V_{BA}}{\\Delta x^\\mu} \\Delta x^\\mu$$\n",
    "\n",
    "> the classic difference quotient is $\\frac{f(b)-f(a)}{b-a}$ so here the vector is a function of position $V_B = V(B)$ etc\n",
    "\n",
    "And then in the limit as $\\Delta x^\\mu \\to 0$ this becomes the derivative, however here we use the covariant derivative because the parallogram is defined in general coordinates \n",
    "   \n",
    "$$lim_{\\Delta x^\\mu \\to 0} \\left(V_B-V_A\\right) = \\nabla_\\mu V_{BA}  dx^\\mu$$\n",
    "\n",
    "Therefore\n",
    "   \n",
    "$$ (V_B-V_A) - (V_C-V_D)= \\frac{\\nabla_\\mu V_{BA}   - \\nabla_\\mu V_{CD}  }{\\Delta x^\\nu} d x^\\mu \\Delta x^\\nu$$\n",
    "\n",
    "And again taking the limit, we have the covariant 2nd derivative\n",
    "   \n",
    "$$lim_{\\Delta x^\\nu \\to 0}((V_B-V_A) - (V_C-V_D)) = \\nabla_\\nu \\left(\\nabla_\\mu V\\right) dx^\\mu dx^\\nu  $$\n",
    "\n",
    "and the expression for the vertical component is simply the same but with $\\mu$ and $\\nu$ interchanged. The covariant derivative operator does not neccessarily commute, so for the complete parallel transport, \n",
    "\n",
    "$$\\begin{array}{rcl}\n",
    " \\Delta V (x^\\mu)  -  \\Delta V (x^\\nu)&\t=\t&\t((V_B-V_A)-(V_C-V_D)) - ((V_B-V_C)-(V_{A^*}-V_D))       \\\\\n",
    "\t&\t=\t&\t\\nabla_\\nu \\left(\\nabla_\\mu V\\right) dx^\\mu dx^\\nu - \\nabla_\\mu \\left(\\nabla_\\nu V\\right) dx^\\mu dx^\\nu     \\\\\n",
    "\t&\t=\t&\tdx^\\mu dx^\\nu \\left(\\nabla_\\nu \\left(\\nabla_\\mu V\\right) - \\nabla_\\mu \\left(\\nabla_\\nu V\\right)\\right)   \\\\ \t \t \t \t\n",
    "    \t&\t=\t&\tdx^\\mu dx^\\nu \\left[\\nabla_\\nu, \\nabla_\\mu \\right] V\n",
    "\\end{array}$$\n",
    "\n",
    "where $\\left[\\nabla_\\nu, \\nabla_\\mu \\right] V = \\left(\\nabla_\\nu \\nabla_\\mu - \\nabla_\\mu \\nabla_\\nu\\right) V$ is the commutator operator applied to $V$ . (or the Lie bracket/derivative of these two covariant derivatives)"
   ]
  },
  {
   "cell_type": "markdown",
   "metadata": {},
   "source": [
    "now $\\nabla_\\nu = \\partial_\\nu + \\Gamma_\\nu $ is a convenient abreviation for the covariant derivative, where $\\partial_\\nu = \\frac{\\partial}{\\partial x^\\nu}$ is the ordinary differentiation operator for partial derivatives so the commutator is (to be see as *acting on* the vector $V$ ):\n",
    "   \n",
    "\n",
    "\n"
   ]
  },
  {
   "cell_type": "markdown",
   "metadata": {},
   "source": [
    "$$\\begin{array}{rcl}\n",
    "\\left[\\nabla_\\nu, \\nabla_\\mu \\right]&\t=\t&\t\\left(\\partial_\\nu + \\Gamma_\\nu\\right)\\left(\\partial_\\mu + \\Gamma_\\mu \\right)-\\left(\\partial_\\mu + \\Gamma_\\mu \\right)\\left(\\partial_\\nu + \\Gamma_\\nu\\right)       \\\\\n",
    "\t&\t=\t&\t\\left(\\partial_\\nu \\partial_\\mu + \\partial_\\nu\\Gamma_\\mu + \\Gamma_\\nu\\partial_\\mu +\\Gamma_\\nu\\Gamma_\\mu\\right)-\\left( \\partial_\\mu \\partial_\\nu + \\partial_\\mu\\Gamma_\\nu + \\Gamma_\\mu\\partial_\\nu +\\Gamma_\\mu\\Gamma_\\nu\\right)    \\\\ \n",
    "    \t&\t=\t&\t\\partial_\\nu \\partial_\\mu-\\partial_\\mu \\partial_\\nu + \\partial_\\nu\\Gamma_\\mu - \\Gamma_\\mu\\partial_\\nu + \\Gamma_\\nu\\partial_\\mu - \\partial_\\mu\\Gamma_\\nu +\\Gamma_\\nu\\Gamma_\\mu  -\\Gamma_\\mu\\Gamma_\\nu    \\\\  \n",
    "\\end{array}$$\n",
    "\n",
    "After expanding this, we notice that the the terms form back into commutators\n",
    "\n",
    "\n",
    "$$\\begin{array}{rcl}\n",
    "\\left[\\nabla_\\nu, \\nabla_\\mu \\right]&\t=\t&\t[\\partial_\\nu, \\partial_\\mu] + [\\partial_\\nu,\\Gamma_\\mu] + [\\Gamma_\\nu,\\partial_\\mu] +[\\Gamma_\\nu,\\Gamma_\\mu]    \\\\\n",
    "    \t&\t=\t&\t\t [\\partial_\\nu,\\Gamma_\\mu] + [\\Gamma_\\nu,\\partial_\\mu] +[\\Gamma_\\nu,\\Gamma_\\mu] \\\\\n",
    "    \t&\t=\t&\t\\partial_\\nu\\Gamma_\\mu   - \\partial_\\mu\\Gamma_\\nu + \\Gamma_\\nu\\Gamma_\\mu -\\Gamma_\\mu\\Gamma_\\nu\n",
    "\\end{array}$$\n",
    "\n",
    "And this is the abstract or index free form of the Reimann curvature tensor. The expressions work because\n"
   ]
  },
  {
   "cell_type": "markdown",
   "metadata": {},
   "source": [
    "$$[\\partial_\\nu,\\Gamma_\\mu]V = \\partial_\\nu (\\Gamma_\\mu V) -\\Gamma_\\mu  \\partial_\\nu (V) =(\\partial_\\nu (\\Gamma_\\mu )V + \\Gamma_\\mu  \\partial_\\nu (V))  -\\Gamma_\\mu  \\partial_\\nu (V) = \\partial_\\nu (\\Gamma_\\mu )V$$ \n",
    "   \n",
    "by the product rule $\\partial (AB) = \\partial(A)B+A\\partial(B)$ and \n",
    "   \n",
    "$$[\\Gamma_\\nu,\\partial_\\mu]V =  \\Gamma_\\nu  \\partial_\\mu (V)-\\partial_\\mu (\\Gamma_\\nu V)  =\\Gamma_\\nu  \\partial_\\mu (V)- ( \\partial_\\mu (\\Gamma_\\nu )  V +  \\Gamma_\\nu   \\partial_\\mu (V)) = - ( \\partial_\\mu (\\Gamma_\\nu )  V $$\n",
    "   \n",
    "and   \n",
    "   \n",
    "$$[\\partial_\\nu, \\partial_\\mu]V = \\partial_\\nu (\\partial_\\mu V) - \\partial_\\mu (\\partial_\\nu V) = 0 $$\n",
    "\n",
    "since these are the ordinary partial derivatives and they *commute* so the commutator is zero. \n",
    "\n",
    "the factorization back into the commutator is neccessary in the commutators involving $\\partial$ and $\\Gamma$. "
   ]
  },
  {
   "cell_type": "markdown",
   "metadata": {},
   "source": [
    "So if the covariant derivatives had the index $i$ then $\\nabla_\\nu \\nabla_\\mu V^i-\\nabla_\\mu \\nabla_\\nu V^i$ has the form of the Reimann curvature tensor (to be acting on $V^i$ by  parallel transporting the vector around an infinitesimal loop): \n",
    "\n",
    "$$ R^{\\alpha}_{\\nu\\mu i} = \\frac{\\partial}{\\partial x^\\nu}\\Gamma^{\\alpha}_{\\mu i} - \\frac{\\partial}{\\partial x^\\mu}\\Gamma^{\\alpha}_{\\nu i} + \\Gamma^{\\alpha}_{\\nu \\beta }\\Gamma^{\\beta}_{\\mu i} - \\Gamma^{\\alpha}_{ \\mu \\beta}\\Gamma^{\\beta}_{\\nu i}$$\n",
    "\n",
    "when multiplied gives an expression for the change \n",
    "   \n",
    "$$ \\delta V^\\alpha = dx^\\nu dx^\\mu R^{\\alpha}_{\\nu\\mu i} V^i $$\n",
    "   \n"
   ]
  },
  {
   "cell_type": "code",
   "execution_count": null,
   "metadata": {},
   "outputs": [],
   "source": [
    "from sympy import Array\n",
    "def Riemann_Tensor_2( gamma_2, X, d):\n",
    "    # construct an array followed by a shape tuple\n",
    "    # the array is of size d^4 and shape d,d,d,d\n",
    "    Riem = MutableDenseNDimArray(zeros(d*d*d*d),(d,d,d,d))\n",
    "    for a in range(0,d):\n",
    "        for nu in range(0,d):\n",
    "            for mu in range(0,d):\n",
    "                for i in range(0,d):\n",
    "                    R =  diff(gamma_2[a][mu,i],X[nu]) \n",
    "                    R -= diff(gamma_2[a][nu,i],X[mu])\n",
    "                    for beta in range(0,d):\n",
    "                        R += gamma_2[a][nu,beta]*gamma_2[beta][mu,i] \n",
    "                        R -= gamma_2[a][mu,beta]*gamma_2[beta][nu,i]\n",
    "                    Riem[a,nu,mu,i] = simplify(trigsimp(R))\n",
    "    return Riem\n",
    "\n",
    "# now construct the Reimann tensor \n",
    "# for 3 dimensional spherical coordinates\n",
    "Riem = Riemann_Tensor_2(gamma_2,Y,3)\n",
    "Riem        "
   ]
  },
  {
   "cell_type": "markdown",
   "metadata": {},
   "source": [
    "Thus the components of the Riemann tensor are all zero for the metric of spherical coordinates. This means they represent flat space."
   ]
  },
  {
   "cell_type": "code",
   "execution_count": 89,
   "metadata": {},
   "outputs": [
    {
     "data": {
      "text/latex": [
       "$$\\left[\\begin{matrix}1 & 0 & 0\\\\0 & \\frac{1}{\\operatorname{x^{1}}^{2}{\\left (t \\right )} + \\operatorname{x^{2}}^{2}{\\left (t \\right )} + \\operatorname{x^{3}}^{2}{\\left (t \\right )}} & 0\\\\0 & 0 & \\frac{1}{\\operatorname{x^{1}}^{2}{\\left (t \\right )} + \\operatorname{x^{2}}^{2}{\\left (t \\right )}}\\end{matrix}\\right]$$"
      ],
      "text/plain": [
       "⎡1             0                     0       ⎤\n",
       "⎢                                            ⎥\n",
       "⎢              1                             ⎥\n",
       "⎢0  ────────────────────────         0       ⎥\n",
       "⎢     2        2        2                    ⎥\n",
       "⎢   x¹ (t) + x² (t) + x³ (t)                 ⎥\n",
       "⎢                                            ⎥\n",
       "⎢                                    1       ⎥\n",
       "⎢0             0              ───────────────⎥\n",
       "⎢                               2        2   ⎥\n",
       "⎣                             x¹ (t) + x² (t)⎦"
      ]
     },
     "execution_count": 89,
     "metadata": {},
     "output_type": "execute_result"
    }
   ],
   "source": [
    "x__1 = Function('x__1')(t)\n",
    "x__2 = Function('x__2')(t)\n",
    "x__3 = Function('x__3')(t)\n",
    "V = sqrt( x_1**2 + x_2**2 + x_3**2) * sph.i + acos( x_3/sqrt( x_1**2 + x_2**2 + x_3**2)) * sph.j + atan(x_2/x_1) * sph.k\n",
    "V = V.subs({x_1:x__1,x_2:x__2,x_3:x__3})\n",
    "\n",
    "Y2 = Matrix([V.dot(sph.i), V.dot(sph.j),V.dot(sph.k)])\n",
    "X2 = Matrix([x__1, x__2, x__3])\n",
    "\n",
    "# define the inverse of the spherical coordinate system metric\n",
    "# and sbstitute X's for Y's\n",
    "metric_spherical_t_inv_2_X = metric_spherical_t.inverse_ADJ()\n",
    "metric_spherical_t_inv_2_X = metric_spherical_t_inv_2_X.subs({y__1:V.dot(sph.i),y__2:V.dot(sph.j),y__3:V.dot(sph.k)})\n",
    "\n",
    "# substitute the X's for Y's in the metric spherical\n",
    "metric_spherical_t_X = metric_spherical_t.subs({y__1:V.dot(sph.i),y__2:V.dot(sph.j),y__3:V.dot(sph.k)})\n",
    "\n",
    "simplify(metric_spherical_t_inv_2_X)\n"
   ]
  },
  {
   "cell_type": "code",
   "execution_count": 90,
   "metadata": {},
   "outputs": [
    {
     "data": {
      "text/latex": [
       "$$\\left[\\begin{matrix}0 & 0 & 0\\\\0 & \\frac{\\operatorname{x^{1}}{\\left (t \\right )}}{\\left(\\operatorname{x^{1}}^{2}{\\left (t \\right )} + \\operatorname{x^{2}}^{2}{\\left (t \\right )} + \\operatorname{x^{3}}^{2}{\\left (t \\right )}\\right)^{2}} & 0\\\\0 & 0 & \\frac{\\operatorname{x^{1}}{\\left (t \\right )}}{\\left(\\operatorname{x^{1}}^{2}{\\left (t \\right )} + \\operatorname{x^{2}}^{2}{\\left (t \\right )}\\right)^{2}}\\end{matrix}\\right]$$"
      ],
      "text/plain": [
       "⎡0               0                       0         ⎤\n",
       "⎢                                                  ⎥\n",
       "⎢              x¹(t)                               ⎥\n",
       "⎢0  ───────────────────────────          0         ⎥\n",
       "⎢                             2                    ⎥\n",
       "⎢   ⎛  2        2        2   ⎞                     ⎥\n",
       "⎢   ⎝x¹ (t) + x² (t) + x³ (t)⎠                     ⎥\n",
       "⎢                                                  ⎥\n",
       "⎢                                      x¹(t)       ⎥\n",
       "⎢0               0               ──────────────────⎥\n",
       "⎢                                                 2⎥\n",
       "⎢                                ⎛  2        2   ⎞ ⎥\n",
       "⎣                                ⎝x¹ (t) + x² (t)⎠ ⎦"
      ]
     },
     "execution_count": 90,
     "metadata": {},
     "output_type": "execute_result"
    }
   ],
   "source": [
    "gamma_2_sphere_inv_1 =  compute_christoffel_symbols_2(metric_spherical_t_inv_2_X, 3, X2, metric_spherical_t_X)\n",
    "gamma_2_sphere_inv_1[0]"
   ]
  },
  {
   "cell_type": "code",
   "execution_count": 91,
   "metadata": {},
   "outputs": [
    {
     "data": {
      "text/latex": [
       "$$\\left[\\begin{matrix}\\left[\\begin{matrix}0 & 0 & 0\\\\0 & \\frac{- 2 \\operatorname{x^{1}}^{2}{\\left (t \\right )} + \\operatorname{x^{2}}^{2}{\\left (t \\right )} + \\operatorname{x^{3}}^{2}{\\left (t \\right )}}{\\left(\\operatorname{x^{1}}^{2}{\\left (t \\right )} + \\operatorname{x^{2}}^{2}{\\left (t \\right )} + \\operatorname{x^{3}}^{2}{\\left (t \\right )}\\right)^{3}} & 0\\\\0 & 0 & \\frac{- 2 \\operatorname{x^{1}}^{2}{\\left (t \\right )} + \\operatorname{x^{2}}^{2}{\\left (t \\right )}}{\\left(\\operatorname{x^{1}}^{2}{\\left (t \\right )} + \\operatorname{x^{2}}^{2}{\\left (t \\right )}\\right)^{3}}\\end{matrix}\\right] & \\left[\\begin{matrix}0 & \\frac{2 \\operatorname{x^{1}}^{2}{\\left (t \\right )} - \\operatorname{x^{2}}^{2}{\\left (t \\right )} - \\operatorname{x^{3}}^{2}{\\left (t \\right )}}{\\left(\\operatorname{x^{1}}^{2}{\\left (t \\right )} + \\operatorname{x^{2}}^{2}{\\left (t \\right )} + \\operatorname{x^{3}}^{2}{\\left (t \\right )}\\right)^{3}} & 0\\\\0 & 0 & 0\\\\0 & \\frac{\\left(2 \\operatorname{x^{1}}^{2}{\\left (t \\right )} + 2 \\operatorname{x^{2}}^{2}{\\left (t \\right )} - \\operatorname{x^{3}}^{2}{\\left (t \\right )}\\right) \\operatorname{x^{1}}{\\left (t \\right )} \\operatorname{x^{3}}{\\left (t \\right )}}{\\left(\\operatorname{x^{1}}^{2}{\\left (t \\right )} + \\operatorname{x^{2}}^{2}{\\left (t \\right )}\\right) \\left(\\operatorname{x^{1}}^{2}{\\left (t \\right )} + \\operatorname{x^{2}}^{2}{\\left (t \\right )} + \\operatorname{x^{3}}^{2}{\\left (t \\right )}\\right)^{3}} & - \\frac{\\left(2 \\operatorname{x^{1}}^{2}{\\left (t \\right )} + 2 \\operatorname{x^{2}}^{2}{\\left (t \\right )} + 3 \\operatorname{x^{3}}^{2}{\\left (t \\right )}\\right) \\operatorname{x^{1}}{\\left (t \\right )} \\operatorname{x^{2}}{\\left (t \\right )}}{\\left(\\operatorname{x^{1}}^{2}{\\left (t \\right )} + \\operatorname{x^{2}}^{2}{\\left (t \\right )}\\right)^{3} \\left(\\operatorname{x^{1}}^{2}{\\left (t \\right )} + \\operatorname{x^{2}}^{2}{\\left (t \\right )} + \\operatorname{x^{3}}^{2}{\\left (t \\right )}\\right)}\\end{matrix}\\right] & \\left[\\begin{matrix}0 & 0 & \\frac{2 \\operatorname{x^{1}}^{2}{\\left (t \\right )} - \\operatorname{x^{2}}^{2}{\\left (t \\right )}}{\\left(\\operatorname{x^{1}}^{2}{\\left (t \\right )} + \\operatorname{x^{2}}^{2}{\\left (t \\right )}\\right)^{3}}\\\\0 & \\frac{\\left(- 2 \\operatorname{x^{1}}^{2}{\\left (t \\right )} - 2 \\operatorname{x^{2}}^{2}{\\left (t \\right )} + \\operatorname{x^{3}}^{2}{\\left (t \\right )}\\right) \\operatorname{x^{1}}{\\left (t \\right )} \\operatorname{x^{3}}{\\left (t \\right )}}{\\left(\\operatorname{x^{1}}^{2}{\\left (t \\right )} + \\operatorname{x^{2}}^{2}{\\left (t \\right )}\\right) \\left(\\operatorname{x^{1}}^{2}{\\left (t \\right )} + \\operatorname{x^{2}}^{2}{\\left (t \\right )} + \\operatorname{x^{3}}^{2}{\\left (t \\right )}\\right)^{3}} & \\frac{\\left(2 \\operatorname{x^{1}}^{2}{\\left (t \\right )} + 2 \\operatorname{x^{2}}^{2}{\\left (t \\right )} + 3 \\operatorname{x^{3}}^{2}{\\left (t \\right )}\\right) \\operatorname{x^{1}}{\\left (t \\right )} \\operatorname{x^{2}}{\\left (t \\right )}}{\\left(\\operatorname{x^{1}}^{2}{\\left (t \\right )} + \\operatorname{x^{2}}^{2}{\\left (t \\right )}\\right)^{3} \\left(\\operatorname{x^{1}}^{2}{\\left (t \\right )} + \\operatorname{x^{2}}^{2}{\\left (t \\right )} + \\operatorname{x^{3}}^{2}{\\left (t \\right )}\\right)}\\\\0 & 0 & 0\\end{matrix}\\right]\\\\\\left[\\begin{matrix}0 & 0 & 0\\\\\\frac{2 \\operatorname{x^{1}}^{2}{\\left (t \\right )} - \\operatorname{x^{2}}^{2}{\\left (t \\right )} - \\operatorname{x^{3}}^{2}{\\left (t \\right )}}{\\left(\\operatorname{x^{1}}^{2}{\\left (t \\right )} + \\operatorname{x^{2}}^{2}{\\left (t \\right )} + \\operatorname{x^{3}}^{2}{\\left (t \\right )}\\right)^{2}} & 0 & \\frac{\\left(2 \\operatorname{x^{1}}^{2}{\\left (t \\right )} + 2 \\operatorname{x^{2}}^{2}{\\left (t \\right )} - \\operatorname{x^{3}}^{2}{\\left (t \\right )}\\right) \\operatorname{x^{1}}{\\left (t \\right )} \\operatorname{x^{3}}{\\left (t \\right )}}{\\left(\\operatorname{x^{1}}^{2}{\\left (t \\right )} + \\operatorname{x^{2}}^{2}{\\left (t \\right )}\\right) \\left(\\operatorname{x^{1}}^{2}{\\left (t \\right )} + \\operatorname{x^{2}}^{2}{\\left (t \\right )} + \\operatorname{x^{3}}^{2}{\\left (t \\right )}\\right)^{2}}\\\\0 & 0 & - \\frac{\\operatorname{x^{1}}{\\left (t \\right )} \\operatorname{x^{2}}{\\left (t \\right )}}{\\left(\\operatorname{x^{1}}^{2}{\\left (t \\right )} + \\operatorname{x^{2}}^{2}{\\left (t \\right )}\\right)^{3}} \\left(2 \\operatorname{x^{1}}^{2}{\\left (t \\right )} + 2 \\operatorname{x^{2}}^{2}{\\left (t \\right )} + 3 \\operatorname{x^{3}}^{2}{\\left (t \\right )}\\right)\\end{matrix}\\right] & \\left[\\begin{matrix}\\frac{- 2 \\operatorname{x^{1}}^{2}{\\left (t \\right )} + \\operatorname{x^{2}}^{2}{\\left (t \\right )} + \\operatorname{x^{3}}^{2}{\\left (t \\right )}}{\\left(\\operatorname{x^{1}}^{2}{\\left (t \\right )} + \\operatorname{x^{2}}^{2}{\\left (t \\right )} + \\operatorname{x^{3}}^{2}{\\left (t \\right )}\\right)^{2}} & 0 & \\frac{\\left(- 2 \\operatorname{x^{1}}^{2}{\\left (t \\right )} - 2 \\operatorname{x^{2}}^{2}{\\left (t \\right )} + \\operatorname{x^{3}}^{2}{\\left (t \\right )}\\right) \\operatorname{x^{1}}{\\left (t \\right )} \\operatorname{x^{3}}{\\left (t \\right )}}{\\left(\\operatorname{x^{1}}^{2}{\\left (t \\right )} + \\operatorname{x^{2}}^{2}{\\left (t \\right )}\\right) \\left(\\operatorname{x^{1}}^{2}{\\left (t \\right )} + \\operatorname{x^{2}}^{2}{\\left (t \\right )} + \\operatorname{x^{3}}^{2}{\\left (t \\right )}\\right)^{2}}\\\\0 & 0 & 0\\\\\\frac{\\left(- 2 \\operatorname{x^{1}}^{2}{\\left (t \\right )} - 2 \\operatorname{x^{2}}^{2}{\\left (t \\right )} + \\operatorname{x^{3}}^{2}{\\left (t \\right )}\\right) \\operatorname{x^{1}}{\\left (t \\right )} \\operatorname{x^{3}}{\\left (t \\right )}}{\\left(\\operatorname{x^{1}}^{2}{\\left (t \\right )} + \\operatorname{x^{2}}^{2}{\\left (t \\right )}\\right) \\left(\\operatorname{x^{1}}^{2}{\\left (t \\right )} + \\operatorname{x^{2}}^{2}{\\left (t \\right )} + \\operatorname{x^{3}}^{2}{\\left (t \\right )}\\right)^{2}} & 0 & \\frac{1}{\\left(\\operatorname{x^{1}}^{2}{\\left (t \\right )} + \\operatorname{x^{2}}^{2}{\\left (t \\right )}\\right)^{3} \\left(\\operatorname{x^{1}}^{2}{\\left (t \\right )} + \\operatorname{x^{2}}^{2}{\\left (t \\right )} + \\operatorname{x^{3}}^{2}{\\left (t \\right )}\\right)^{2}} \\left(\\left(\\operatorname{x^{1}}^{2}{\\left (t \\right )} + \\operatorname{x^{2}}^{2}{\\left (t \\right )}\\right)^{3} \\left(\\operatorname{x^{1}}^{2}{\\left (t \\right )} + \\operatorname{x^{2}}^{2}{\\left (t \\right )} + \\operatorname{x^{3}}^{2}{\\left (t \\right )}\\right) - 3 \\left(\\operatorname{x^{1}}^{2}{\\left (t \\right )} + \\operatorname{x^{2}}^{2}{\\left (t \\right )}\\right)^{3} \\operatorname{x^{3}}^{2}{\\left (t \\right )} + \\left(\\operatorname{x^{1}}^{2}{\\left (t \\right )} + \\operatorname{x^{2}}^{2}{\\left (t \\right )}\\right) \\left(\\operatorname{x^{1}}^{2}{\\left (t \\right )} + \\operatorname{x^{2}}^{2}{\\left (t \\right )} + \\operatorname{x^{3}}^{2}{\\left (t \\right )}\\right)^{2} \\left(\\operatorname{x^{1}}^{2}{\\left (t \\right )} + 2 \\operatorname{x^{2}}^{2}{\\left (t \\right )} + \\operatorname{x^{3}}^{2}{\\left (t \\right )}\\right) - \\left(\\operatorname{x^{1}}^{2}{\\left (t \\right )} + \\operatorname{x^{2}}^{2}{\\left (t \\right )}\\right) \\left(\\operatorname{x^{1}}^{2}{\\left (t \\right )} + \\operatorname{x^{2}}^{2}{\\left (t \\right )} + \\operatorname{x^{3}}^{2}{\\left (t \\right )}\\right) \\operatorname{x^{1}}^{2}{\\left (t \\right )} - 3 \\left(\\operatorname{x^{1}}^{2}{\\left (t \\right )} + \\operatorname{x^{2}}^{2}{\\left (t \\right )} + \\operatorname{x^{3}}^{2}{\\left (t \\right )}\\right)^{3} \\operatorname{x^{2}}^{2}{\\left (t \\right )}\\right)\\end{matrix}\\right] & \\left[\\begin{matrix}0 & 0 & \\frac{\\operatorname{x^{1}}{\\left (t \\right )} \\operatorname{x^{2}}{\\left (t \\right )}}{\\left(\\operatorname{x^{1}}^{2}{\\left (t \\right )} + \\operatorname{x^{2}}^{2}{\\left (t \\right )}\\right)^{3}} \\left(2 \\operatorname{x^{1}}^{2}{\\left (t \\right )} + 2 \\operatorname{x^{2}}^{2}{\\left (t \\right )} + 3 \\operatorname{x^{3}}^{2}{\\left (t \\right )}\\right)\\\\\\frac{\\left(2 \\operatorname{x^{1}}^{2}{\\left (t \\right )} + 2 \\operatorname{x^{2}}^{2}{\\left (t \\right )} - \\operatorname{x^{3}}^{2}{\\left (t \\right )}\\right) \\operatorname{x^{1}}{\\left (t \\right )} \\operatorname{x^{3}}{\\left (t \\right )}}{\\left(\\operatorname{x^{1}}^{2}{\\left (t \\right )} + \\operatorname{x^{2}}^{2}{\\left (t \\right )}\\right) \\left(\\operatorname{x^{1}}^{2}{\\left (t \\right )} + \\operatorname{x^{2}}^{2}{\\left (t \\right )} + \\operatorname{x^{3}}^{2}{\\left (t \\right )}\\right)^{2}} & 0 & \\frac{1}{\\left(\\operatorname{x^{1}}^{2}{\\left (t \\right )} + \\operatorname{x^{2}}^{2}{\\left (t \\right )}\\right)^{3} \\left(\\operatorname{x^{1}}^{2}{\\left (t \\right )} + \\operatorname{x^{2}}^{2}{\\left (t \\right )} + \\operatorname{x^{3}}^{2}{\\left (t \\right )}\\right)^{2}} \\left(- \\left(\\operatorname{x^{1}}^{2}{\\left (t \\right )} + \\operatorname{x^{2}}^{2}{\\left (t \\right )}\\right)^{3} \\left(\\operatorname{x^{1}}^{2}{\\left (t \\right )} + \\operatorname{x^{2}}^{2}{\\left (t \\right )} + \\operatorname{x^{3}}^{2}{\\left (t \\right )}\\right) + 3 \\left(\\operatorname{x^{1}}^{2}{\\left (t \\right )} + \\operatorname{x^{2}}^{2}{\\left (t \\right )}\\right)^{3} \\operatorname{x^{3}}^{2}{\\left (t \\right )} - \\left(\\operatorname{x^{1}}^{2}{\\left (t \\right )} + \\operatorname{x^{2}}^{2}{\\left (t \\right )}\\right) \\left(\\operatorname{x^{1}}^{2}{\\left (t \\right )} + \\operatorname{x^{2}}^{2}{\\left (t \\right )} + \\operatorname{x^{3}}^{2}{\\left (t \\right )}\\right)^{2} \\left(\\operatorname{x^{1}}^{2}{\\left (t \\right )} + 2 \\operatorname{x^{2}}^{2}{\\left (t \\right )} + \\operatorname{x^{3}}^{2}{\\left (t \\right )}\\right) + \\left(\\operatorname{x^{1}}^{2}{\\left (t \\right )} + \\operatorname{x^{2}}^{2}{\\left (t \\right )}\\right) \\left(\\operatorname{x^{1}}^{2}{\\left (t \\right )} + \\operatorname{x^{2}}^{2}{\\left (t \\right )} + \\operatorname{x^{3}}^{2}{\\left (t \\right )}\\right) \\operatorname{x^{1}}^{2}{\\left (t \\right )} + 3 \\left(\\operatorname{x^{1}}^{2}{\\left (t \\right )} + \\operatorname{x^{2}}^{2}{\\left (t \\right )} + \\operatorname{x^{3}}^{2}{\\left (t \\right )}\\right)^{3} \\operatorname{x^{2}}^{2}{\\left (t \\right )}\\right)\\\\0 & 0 & 0\\end{matrix}\\right]\\\\\\left[\\begin{matrix}0 & 0 & 0\\\\0 & \\frac{\\left(- 2 \\operatorname{x^{1}}^{2}{\\left (t \\right )} - 2 \\operatorname{x^{2}}^{2}{\\left (t \\right )} + \\operatorname{x^{3}}^{2}{\\left (t \\right )}\\right) \\operatorname{x^{1}}{\\left (t \\right )} \\operatorname{x^{3}}{\\left (t \\right )}}{\\left(\\operatorname{x^{1}}^{2}{\\left (t \\right )} + \\operatorname{x^{2}}^{2}{\\left (t \\right )} + \\operatorname{x^{3}}^{2}{\\left (t \\right )}\\right)^{3}} & 0\\\\\\frac{2 \\operatorname{x^{1}}^{2}{\\left (t \\right )} - \\operatorname{x^{2}}^{2}{\\left (t \\right )}}{\\left(\\operatorname{x^{1}}^{2}{\\left (t \\right )} + \\operatorname{x^{2}}^{2}{\\left (t \\right )}\\right)^{2}} & \\frac{\\left(2 \\operatorname{x^{1}}^{2}{\\left (t \\right )} + 2 \\operatorname{x^{2}}^{2}{\\left (t \\right )} + 3 \\operatorname{x^{3}}^{2}{\\left (t \\right )}\\right) \\operatorname{x^{1}}{\\left (t \\right )} \\operatorname{x^{2}}{\\left (t \\right )}}{\\left(\\operatorname{x^{1}}^{2}{\\left (t \\right )} + \\operatorname{x^{2}}^{2}{\\left (t \\right )}\\right)^{2} \\left(\\operatorname{x^{1}}^{2}{\\left (t \\right )} + \\operatorname{x^{2}}^{2}{\\left (t \\right )} + \\operatorname{x^{3}}^{2}{\\left (t \\right )}\\right)} & 0\\end{matrix}\\right] & \\left[\\begin{matrix}0 & \\frac{\\left(2 \\operatorname{x^{1}}^{2}{\\left (t \\right )} + 2 \\operatorname{x^{2}}^{2}{\\left (t \\right )} - \\operatorname{x^{3}}^{2}{\\left (t \\right )}\\right) \\operatorname{x^{1}}{\\left (t \\right )} \\operatorname{x^{3}}{\\left (t \\right )}}{\\left(\\operatorname{x^{1}}^{2}{\\left (t \\right )} + \\operatorname{x^{2}}^{2}{\\left (t \\right )} + \\operatorname{x^{3}}^{2}{\\left (t \\right )}\\right)^{3}} & 0\\\\0 & 0 & 0\\\\\\frac{\\left(2 \\operatorname{x^{1}}^{2}{\\left (t \\right )} + 2 \\operatorname{x^{2}}^{2}{\\left (t \\right )} + 3 \\operatorname{x^{3}}^{2}{\\left (t \\right )}\\right) \\operatorname{x^{1}}{\\left (t \\right )} \\operatorname{x^{2}}{\\left (t \\right )}}{\\left(\\operatorname{x^{1}}^{2}{\\left (t \\right )} + \\operatorname{x^{2}}^{2}{\\left (t \\right )}\\right)^{2} \\left(\\operatorname{x^{1}}^{2}{\\left (t \\right )} + \\operatorname{x^{2}}^{2}{\\left (t \\right )} + \\operatorname{x^{3}}^{2}{\\left (t \\right )}\\right)} & \\frac{1}{\\left(\\operatorname{x^{1}}^{2}{\\left (t \\right )} + \\operatorname{x^{2}}^{2}{\\left (t \\right )}\\right)^{2} \\left(\\operatorname{x^{1}}^{2}{\\left (t \\right )} + \\operatorname{x^{2}}^{2}{\\left (t \\right )} + \\operatorname{x^{3}}^{2}{\\left (t \\right )}\\right)^{3}} \\left(- \\left(\\operatorname{x^{1}}^{2}{\\left (t \\right )} + \\operatorname{x^{2}}^{2}{\\left (t \\right )}\\right)^{3} \\left(\\operatorname{x^{1}}^{2}{\\left (t \\right )} + \\operatorname{x^{2}}^{2}{\\left (t \\right )} + \\operatorname{x^{3}}^{2}{\\left (t \\right )}\\right) + 3 \\left(\\operatorname{x^{1}}^{2}{\\left (t \\right )} + \\operatorname{x^{2}}^{2}{\\left (t \\right )}\\right)^{3} \\operatorname{x^{3}}^{2}{\\left (t \\right )} - \\left(\\operatorname{x^{1}}^{2}{\\left (t \\right )} + \\operatorname{x^{2}}^{2}{\\left (t \\right )}\\right) \\left(\\operatorname{x^{1}}^{2}{\\left (t \\right )} + \\operatorname{x^{2}}^{2}{\\left (t \\right )} + \\operatorname{x^{3}}^{2}{\\left (t \\right )}\\right)^{3} - \\left(\\operatorname{x^{1}}^{2}{\\left (t \\right )} + \\operatorname{x^{2}}^{2}{\\left (t \\right )}\\right) \\left(\\operatorname{x^{1}}^{2}{\\left (t \\right )} + \\operatorname{x^{2}}^{2}{\\left (t \\right )} + \\operatorname{x^{3}}^{2}{\\left (t \\right )}\\right)^{2} \\operatorname{x^{2}}^{2}{\\left (t \\right )} + \\left(\\operatorname{x^{1}}^{2}{\\left (t \\right )} + \\operatorname{x^{2}}^{2}{\\left (t \\right )}\\right) \\left(\\operatorname{x^{1}}^{2}{\\left (t \\right )} + \\operatorname{x^{2}}^{2}{\\left (t \\right )} + \\operatorname{x^{3}}^{2}{\\left (t \\right )}\\right) \\operatorname{x^{1}}^{2}{\\left (t \\right )} + 3 \\left(\\operatorname{x^{1}}^{2}{\\left (t \\right )} + \\operatorname{x^{2}}^{2}{\\left (t \\right )} + \\operatorname{x^{3}}^{2}{\\left (t \\right )}\\right)^{3} \\operatorname{x^{2}}^{2}{\\left (t \\right )}\\right) & 0\\end{matrix}\\right] & \\left[\\begin{matrix}\\frac{- 2 \\operatorname{x^{1}}^{2}{\\left (t \\right )} + \\operatorname{x^{2}}^{2}{\\left (t \\right )}}{\\operatorname{x^{1}}^{4}{\\left (t \\right )} + 2 \\operatorname{x^{1}}^{2}{\\left (t \\right )} \\operatorname{x^{2}}^{2}{\\left (t \\right )} + \\operatorname{x^{2}}^{4}{\\left (t \\right )}} & - \\frac{\\left(2 \\operatorname{x^{1}}^{2}{\\left (t \\right )} + 2 \\operatorname{x^{2}}^{2}{\\left (t \\right )} + 3 \\operatorname{x^{3}}^{2}{\\left (t \\right )}\\right) \\operatorname{x^{1}}{\\left (t \\right )} \\operatorname{x^{2}}{\\left (t \\right )}}{\\left(\\operatorname{x^{1}}^{2}{\\left (t \\right )} + \\operatorname{x^{2}}^{2}{\\left (t \\right )}\\right)^{2} \\left(\\operatorname{x^{1}}^{2}{\\left (t \\right )} + \\operatorname{x^{2}}^{2}{\\left (t \\right )} + \\operatorname{x^{3}}^{2}{\\left (t \\right )}\\right)} & 0\\\\- \\frac{\\left(2 \\operatorname{x^{1}}^{2}{\\left (t \\right )} + 2 \\operatorname{x^{2}}^{2}{\\left (t \\right )} + 3 \\operatorname{x^{3}}^{2}{\\left (t \\right )}\\right) \\operatorname{x^{1}}{\\left (t \\right )} \\operatorname{x^{2}}{\\left (t \\right )}}{\\left(\\operatorname{x^{1}}^{2}{\\left (t \\right )} + \\operatorname{x^{2}}^{2}{\\left (t \\right )}\\right)^{2} \\left(\\operatorname{x^{1}}^{2}{\\left (t \\right )} + \\operatorname{x^{2}}^{2}{\\left (t \\right )} + \\operatorname{x^{3}}^{2}{\\left (t \\right )}\\right)} & \\frac{1}{\\left(\\operatorname{x^{1}}^{2}{\\left (t \\right )} + \\operatorname{x^{2}}^{2}{\\left (t \\right )}\\right)^{2} \\left(\\operatorname{x^{1}}^{2}{\\left (t \\right )} + \\operatorname{x^{2}}^{2}{\\left (t \\right )} + \\operatorname{x^{3}}^{2}{\\left (t \\right )}\\right)^{3}} \\left(\\left(\\operatorname{x^{1}}^{2}{\\left (t \\right )} + \\operatorname{x^{2}}^{2}{\\left (t \\right )}\\right)^{3} \\left(\\operatorname{x^{1}}^{2}{\\left (t \\right )} + \\operatorname{x^{2}}^{2}{\\left (t \\right )} + \\operatorname{x^{3}}^{2}{\\left (t \\right )}\\right) - 3 \\left(\\operatorname{x^{1}}^{2}{\\left (t \\right )} + \\operatorname{x^{2}}^{2}{\\left (t \\right )}\\right)^{3} \\operatorname{x^{3}}^{2}{\\left (t \\right )} + \\left(\\operatorname{x^{1}}^{2}{\\left (t \\right )} + \\operatorname{x^{2}}^{2}{\\left (t \\right )}\\right) \\left(\\operatorname{x^{1}}^{2}{\\left (t \\right )} + \\operatorname{x^{2}}^{2}{\\left (t \\right )} + \\operatorname{x^{3}}^{2}{\\left (t \\right )}\\right)^{3} + \\left(\\operatorname{x^{1}}^{2}{\\left (t \\right )} + \\operatorname{x^{2}}^{2}{\\left (t \\right )}\\right) \\left(\\operatorname{x^{1}}^{2}{\\left (t \\right )} + \\operatorname{x^{2}}^{2}{\\left (t \\right )} + \\operatorname{x^{3}}^{2}{\\left (t \\right )}\\right)^{2} \\operatorname{x^{2}}^{2}{\\left (t \\right )} - \\left(\\operatorname{x^{1}}^{2}{\\left (t \\right )} + \\operatorname{x^{2}}^{2}{\\left (t \\right )}\\right) \\left(\\operatorname{x^{1}}^{2}{\\left (t \\right )} + \\operatorname{x^{2}}^{2}{\\left (t \\right )} + \\operatorname{x^{3}}^{2}{\\left (t \\right )}\\right) \\operatorname{x^{1}}^{2}{\\left (t \\right )} - 3 \\left(\\operatorname{x^{1}}^{2}{\\left (t \\right )} + \\operatorname{x^{2}}^{2}{\\left (t \\right )} + \\operatorname{x^{3}}^{2}{\\left (t \\right )}\\right)^{3} \\operatorname{x^{2}}^{2}{\\left (t \\right )}\\right) & 0\\\\0 & 0 & 0\\end{matrix}\\right]\\end{matrix}\\right]$$"
      ],
      "text/plain": [
       "⎡             ⎡0               0                         0         ⎤          \n",
       "⎢             ⎢                                                    ⎥          \n",
       "⎢             ⎢         2        2        2                        ⎥          \n",
       "⎢             ⎢   - 2⋅x¹ (t) + x² (t) + x³ (t)                     ⎥          \n",
       "⎢             ⎢0  ────────────────────────────           0         ⎥          \n",
       "⎢             ⎢                             3                      ⎥          \n",
       "⎢             ⎢   ⎛  2        2        2   ⎞                       ⎥          \n",
       "⎢             ⎢   ⎝x¹ (t) + x² (t) + x³ (t)⎠                       ⎥          \n",
       "⎢             ⎢                                                    ⎥          \n",
       "⎢             ⎢                                       2        2   ⎥          \n",
       "⎢             ⎢                                 - 2⋅x¹ (t) + x² (t)⎥          \n",
       "⎢             ⎢0               0                ───────────────────⎥          \n",
       "⎢             ⎢                                                   3⎥          \n",
       "⎢             ⎢                                  ⎛  2        2   ⎞ ⎥          \n",
       "⎢             ⎣                                  ⎝x¹ (t) + x² (t)⎠ ⎦          \n",
       "⎢                                                                             \n",
       "⎢                                                                             \n",
       "⎢⎡             0               0                        0                     \n",
       "⎢⎢                                                                            \n",
       "⎢⎢     2        2        2          ⎛    2          2        2   ⎞            \n",
       "⎢⎢ 2⋅x¹ (t) - x² (t) - x³ (t)       ⎝2⋅x¹ (t) + 2⋅x² (t) - x³ (t)⎠⋅x¹(t)⋅x³(t)\n",
       "⎢⎢───────────────────────────  0  ────────────────────────────────────────────\n",
       "⎢⎢                          2                                                 \n",
       "⎢⎢⎛  2        2        2   ⎞      ⎛  2        2   ⎞ ⎛  2        2        2   ⎞\n",
       "⎢⎢⎝x¹ (t) + x² (t) + x³ (t)⎠      ⎝x¹ (t) + x² (t)⎠⋅⎝x¹ (t) + x² (t) + x³ (t)⎠\n",
       "⎢⎢                                                                            \n",
       "⎢⎢                                 ⎛    2          2          2   ⎞           \n",
       "⎢⎢                                -⎝2⋅x¹ (t) + 2⋅x² (t) + 3⋅x³ (t)⎠⋅x¹(t)⋅x²(t\n",
       "⎢⎢             0               0  ────────────────────────────────────────────\n",
       "⎢⎢                                                               3            \n",
       "⎢⎢                                              ⎛  2        2   ⎞             \n",
       "⎢⎣                                              ⎝x¹ (t) + x² (t)⎠             \n",
       "⎢                                                                             \n",
       "⎢                                                                             \n",
       "⎢     ⎡        0                                 0                        0⎤  \n",
       "⎢     ⎢                                                                    ⎥  \n",
       "⎢     ⎢                    ⎛      2          2        2   ⎞                ⎥  \n",
       "⎢     ⎢                    ⎝- 2⋅x¹ (t) - 2⋅x² (t) + x³ (t)⎠⋅x¹(t)⋅x³(t)    ⎥  \n",
       "⎢     ⎢        0           ────────────────────────────────────────────   0⎥  \n",
       "⎢     ⎢                                                      3             ⎥  \n",
       "⎢     ⎢                            ⎛  2        2        2   ⎞              ⎥  \n",
       "⎢     ⎢                            ⎝x¹ (t) + x² (t) + x³ (t)⎠              ⎥  \n",
       "⎢     ⎢                                                                    ⎥  \n",
       "⎢     ⎢    2        2       ⎛    2          2          2   ⎞               ⎥  \n",
       "⎢     ⎢2⋅x¹ (t) - x² (t)    ⎝2⋅x¹ (t) + 2⋅x² (t) + 3⋅x³ (t)⎠⋅x¹(t)⋅x²(t)   ⎥  \n",
       "⎢     ⎢──────────────────  ─────────────────────────────────────────────  0⎥  \n",
       "⎢     ⎢                 2                   2                              ⎥  \n",
       "⎢     ⎢⎛  2        2   ⎞   ⎛  2        2   ⎞  ⎛  2        2        2   ⎞   ⎥  \n",
       "⎣     ⎣⎝x¹ (t) + x² (t)⎠   ⎝x¹ (t) + x² (t)⎠ ⋅⎝x¹ (t) + x² (t) + x³ (t)⎠   ⎦  \n",
       "\n",
       "                                                                              \n",
       "                                                                              \n",
       "                                                                              \n",
       "                                                                              \n",
       "                                                                              \n",
       "                                                                              \n",
       "                                                                              \n",
       "                                                                              \n",
       "                                                                              \n",
       "                                                                              \n",
       "                                                                              \n",
       "                                                                              \n",
       "                                                                              \n",
       "                                                                              \n",
       "                                                                              \n",
       "                                                                              \n",
       "                   ⎡              2        2        2                         \n",
       "  ⎤                ⎢        - 2⋅x¹ (t) + x² (t) + x³ (t)                      \n",
       "  ⎥                ⎢        ────────────────────────────           0          \n",
       "  ⎥                ⎢                                  2                       \n",
       "  ⎥                ⎢        ⎛  2        2        2   ⎞                        \n",
       "─ ⎥                ⎢        ⎝x¹ (t) + x² (t) + x³ (t)⎠                        \n",
       "2 ⎥                ⎢                                                          \n",
       "  ⎥                ⎢                      0                        0          \n",
       "  ⎥                ⎢                                                          \n",
       "  ⎥                ⎢                                                          \n",
       "  ⎥                ⎢ ⎛      2          2        2   ⎞                 ⎛  2    \n",
       ") ⎥                ⎢ ⎝- 2⋅x¹ (t) - 2⋅x² (t) + x³ (t)⎠⋅x¹(t)⋅x³(t)     ⎝x¹ (t) \n",
       "──⎥                ⎢─────────────────────────────────────────────  0  ────────\n",
       "  ⎥                ⎢                                            2             \n",
       "  ⎥                ⎢⎛  2        2   ⎞ ⎛  2        2        2   ⎞              \n",
       "  ⎦                ⎣⎝x¹ (t) + x² (t)⎠⋅⎝x¹ (t) + x² (t) + x³ (t)⎠              \n",
       "                                                                              \n",
       "     ⎡                                                                        \n",
       "     ⎢                                                                        \n",
       "     ⎢                      0                                                 \n",
       "     ⎢                                                                        \n",
       "     ⎢                                                                        \n",
       "     ⎢                                                                        \n",
       "     ⎢                                                                        \n",
       "     ⎢                      0                                                 \n",
       "     ⎢                                                                        \n",
       "     ⎢                                                                  3     \n",
       "     ⎢ ⎛    2          2          2   ⎞                ⎛  2        2   ⎞  ⎛  2\n",
       "     ⎢ ⎝2⋅x¹ (t) + 2⋅x² (t) + 3⋅x³ (t)⎠⋅x¹(t)⋅x²(t)  - ⎝x¹ (t) + x² (t)⎠ ⋅⎝x¹ \n",
       "     ⎢─────────────────────────────────────────────  ─────────────────────────\n",
       "     ⎢                 2                                                      \n",
       "     ⎢⎛  2        2   ⎞  ⎛  2        2        2   ⎞                           \n",
       "     ⎣⎝x¹ (t) + x² (t)⎠ ⋅⎝x¹ (t) + x² (t) + x³ (t)⎠                           \n",
       "\n",
       "                                        ⎡                 2        2        2 \n",
       "                                        ⎢             2⋅x¹ (t) - x² (t) - x³ (\n",
       "                                        ⎢0           ─────────────────────────\n",
       "                                        ⎢                                     \n",
       "                                        ⎢            ⎛  2        2        2   \n",
       "                                        ⎢            ⎝x¹ (t) + x² (t) + x³ (t)\n",
       "                                        ⎢                                     \n",
       "                                        ⎢0                        0           \n",
       "                                        ⎢                                     \n",
       "                                        ⎢     ⎛    2          2        2   ⎞  \n",
       "                                        ⎢     ⎝2⋅x¹ (t) + 2⋅x² (t) - x³ (t)⎠⋅x\n",
       "                                        ⎢0  ──────────────────────────────────\n",
       "                                        ⎢                                     \n",
       "                                        ⎢   ⎛  2        2   ⎞ ⎛  2        2   \n",
       "                                        ⎣   ⎝x¹ (t) + x² (t)⎠⋅⎝x¹ (t) + x² (t)\n",
       "                                                                              \n",
       "                                                                              \n",
       "                                                                              \n",
       "                                                                              \n",
       "                                                                              \n",
       "                                                                              \n",
       "                                                                              \n",
       "                                                                              \n",
       "                                                                              \n",
       "                                                                              \n",
       "         3                                                 3                  \n",
       "    2   ⎞  ⎛  2        2        2   ⎞     ⎛  2        2   ⎞    2      ⎛  2    \n",
       "+ x² (t)⎠ ⋅⎝x¹ (t) + x² (t) + x³ (t)⎠ - 3⋅⎝x¹ (t) + x² (t)⎠ ⋅x³ (t) + ⎝x¹ (t) \n",
       "──────────────────────────────────────────────────────────────────────────────\n",
       "                                                                              \n",
       "                                                                              \n",
       "                                                                              \n",
       "                                                                              \n",
       "                                                                              \n",
       "                                                                              \n",
       "                                                                              \n",
       "                                                                              \n",
       "                                                                              \n",
       "                                                                              \n",
       "                                                                              \n",
       "                                                                              \n",
       "                                                                              \n",
       "                                            3                                 \n",
       "        2        2   ⎞     ⎛  2        2   ⎞    2      ⎛  2        2   ⎞ ⎛  2 \n",
       "(t) + x² (t) + x³ (t)⎠ + 3⋅⎝x¹ (t) + x² (t)⎠ ⋅x³ (t) - ⎝x¹ (t) + x² (t)⎠⋅⎝x¹ (\n",
       "──────────────────────────────────────────────────────────────────────────────\n",
       "                                                                              \n",
       "                                                                              \n",
       "                                                                              \n",
       "\n",
       "                                                           ⎤                  \n",
       "t)                                                         ⎥                  \n",
       "──                                 0                       ⎥                  \n",
       " 3                                                         ⎥                  \n",
       "⎞                                                          ⎥                  \n",
       "⎠                                                          ⎥                  \n",
       "                                                           ⎥                  \n",
       "                                   0                       ⎥                  \n",
       "                                                           ⎥                  \n",
       "              ⎛    2          2          2   ⎞             ⎥                  \n",
       "¹(t)⋅x³(t)   -⎝2⋅x¹ (t) + 2⋅x² (t) + 3⋅x³ (t)⎠⋅x¹(t)⋅x²(t) ⎥                  \n",
       "───────────  ──────────────────────────────────────────────⎥                  \n",
       "          3                   3                            ⎥                  \n",
       "     2   ⎞   ⎛  2        2   ⎞  ⎛  2        2        2   ⎞ ⎥                  \n",
       " + x³ (t)⎠   ⎝x¹ (t) + x² (t)⎠ ⋅⎝x¹ (t) + x² (t) + x³ (t)⎠ ⎦                  \n",
       "                                                                              \n",
       "               ⎛      2          2        2   ⎞                               \n",
       "               ⎝- 2⋅x¹ (t) - 2⋅x² (t) + x³ (t)⎠⋅x¹(t)⋅x³(t)                   \n",
       "              ─────────────────────────────────────────────                   \n",
       "                                                          2                   \n",
       "              ⎛  2        2   ⎞ ⎛  2        2        2   ⎞                    \n",
       "              ⎝x¹ (t) + x² (t)⎠⋅⎝x¹ (t) + x² (t) + x³ (t)⎠                    \n",
       "                                                                              \n",
       "                                    0                                         \n",
       "                                                                              \n",
       "                                    2                                         \n",
       "    2   ⎞ ⎛  2        2        2   ⎞  ⎛  2          2        2   ⎞   ⎛  2     \n",
       "+ x² (t)⎠⋅⎝x¹ (t) + x² (t) + x³ (t)⎠ ⋅⎝x¹ (t) + 2⋅x² (t) + x³ (t)⎠ - ⎝x¹ (t) +\n",
       "──────────────────────────────────────────────────────────────────────────────\n",
       "                               3                           2                  \n",
       "              ⎛  2        2   ⎞  ⎛  2        2        2   ⎞                   \n",
       "              ⎝x¹ (t) + x² (t)⎠ ⋅⎝x¹ (t) + x² (t) + x³ (t)⎠                   \n",
       "                                                                              \n",
       "            ⎛    2          2        2   ⎞                                    \n",
       "            ⎝2⋅x¹ (t) + 2⋅x² (t) - x³ (t)⎠⋅x¹(t)⋅x³(t)                        \n",
       "            ──────────────────────────────────────────                        \n",
       "                                             3                                \n",
       "                   ⎛  2        2        2   ⎞                                 \n",
       "                   ⎝x¹ (t) + x² (t) + x³ (t)⎠                                 \n",
       "                                                                              \n",
       "                                 0                                            \n",
       "                                                                              \n",
       "                     3                                               2        \n",
       "       2        2   ⎞    ⎛  2        2   ⎞ ⎛  2        2        2   ⎞    2    \n",
       "t) + x² (t) + x³ (t)⎠  - ⎝x¹ (t) + x² (t)⎠⋅⎝x¹ (t) + x² (t) + x³ (t)⎠ ⋅x² (t) \n",
       "──────────────────────────────────────────────────────────────────────────────\n",
       "                            2                           3                     \n",
       "           ⎛  2        2   ⎞  ⎛  2        2        2   ⎞                      \n",
       "           ⎝x¹ (t) + x² (t)⎠ ⋅⎝x¹ (t) + x² (t) + x³ (t)⎠                      \n",
       "\n",
       "                                                                              \n",
       "                                                                              \n",
       "                                                                              \n",
       "                                                                              \n",
       "                                                                              \n",
       "                                                                              \n",
       "                                                                              \n",
       "                                                                              \n",
       "                                                                              \n",
       "                                                                              \n",
       "                                                                              \n",
       "                                                                              \n",
       "                                                                              \n",
       "                                                                              \n",
       "                                                                              \n",
       "                                                                              \n",
       "                                                                              \n",
       "                                                                              \n",
       "                                                                              \n",
       "                                                                              \n",
       "                                                                              \n",
       "                                                                              \n",
       "                                                                              \n",
       "                                                                              \n",
       "                                                                              \n",
       "                                                                         3    \n",
       "   2   ⎞ ⎛  2        2        2   ⎞   2        ⎛  2        2        2   ⎞    2\n",
       " x² (t)⎠⋅⎝x¹ (t) + x² (t) + x³ (t)⎠⋅x¹ (t) - 3⋅⎝x¹ (t) + x² (t) + x³ (t)⎠ ⋅x² \n",
       "──────────────────────────────────────────────────────────────────────────────\n",
       "                                                                              \n",
       "                                                                              \n",
       "                                                                              \n",
       "                                                                              \n",
       "                                                                              \n",
       "                                                                              \n",
       "                                                                              \n",
       "                                                                              \n",
       "                                                                              \n",
       "                                                                              \n",
       "                                                                              \n",
       "                                                                              \n",
       "                                                                              \n",
       "                                                                              \n",
       "  ⎛  2        2   ⎞ ⎛  2        2        2   ⎞   2        ⎛  2        2       \n",
       "+ ⎝x¹ (t) + x² (t)⎠⋅⎝x¹ (t) + x² (t) + x³ (t)⎠⋅x¹ (t) + 3⋅⎝x¹ (t) + x² (t) + x\n",
       "──────────────────────────────────────────────────────────────────────────────\n",
       "                                                                              \n",
       "                                                                              \n",
       "                                                                              \n",
       "\n",
       "                                                                              \n",
       "                                                                              \n",
       "                                                                              \n",
       "                                                                              \n",
       "                                                                              \n",
       "                                                                              \n",
       "                                                                              \n",
       "                                                                              \n",
       "                                                                              \n",
       "                                                                              \n",
       "                                                                              \n",
       "                                                                              \n",
       "                                                                              \n",
       "                                                                              \n",
       "                                                                              \n",
       "                                                                              \n",
       "   ⎤                            ⎡                                             \n",
       "   ⎥                            ⎢                                             \n",
       "   ⎥                            ⎢                      0                      \n",
       "   ⎥                            ⎢                                             \n",
       "   ⎥                            ⎢                                             \n",
       "   ⎥                            ⎢                                             \n",
       "   ⎥                            ⎢                                             \n",
       "   ⎥                            ⎢                                             \n",
       "   ⎥                            ⎢  ⎛    2          2        2   ⎞             \n",
       "   ⎥                            ⎢  ⎝2⋅x¹ (t) + 2⋅x² (t) - x³ (t)⎠⋅x¹(t)⋅x³(t) \n",
       "   ⎥                            ⎢─────────────────────────────────────────────\n",
       "(t)⎥                            ⎢                                            2\n",
       "───⎥                            ⎢⎛  2        2   ⎞ ⎛  2        2        2   ⎞ \n",
       "   ⎥                            ⎢⎝x¹ (t) + x² (t)⎠⋅⎝x¹ (t) + x² (t) + x³ (t)⎠ \n",
       "   ⎥                            ⎢                                             \n",
       "   ⎦                            ⎣                      0                      \n",
       "                                                                              \n",
       "                 ⎤  ⎡                   2        2                            \n",
       "                 ⎥  ⎢             - 2⋅x¹ (t) + x² (t)                         \n",
       "                0⎥  ⎢      ─────────────────────────────────                  \n",
       "                 ⎥  ⎢        4          2      2        4                     \n",
       "                 ⎥  ⎢      x¹ (t) + 2⋅x¹ (t)⋅x² (t) + x² (t)                  \n",
       "                 ⎥  ⎢                                                         \n",
       "                 ⎥  ⎢                                                         \n",
       "                0⎥  ⎢                                                         \n",
       "                 ⎥  ⎢ ⎛    2          2          2   ⎞               ⎛  2     \n",
       "      3          ⎥  ⎢-⎝2⋅x¹ (t) + 2⋅x² (t) + 3⋅x³ (t)⎠⋅x¹(t)⋅x²(t)   ⎝x¹ (t) +\n",
       " 2   ⎞    2      ⎥  ⎢──────────────────────────────────────────────  ─────────\n",
       "³ (t)⎠ ⋅x² (t)   ⎥  ⎢                 2                                       \n",
       "──────────────  0⎥  ⎢⎛  2        2   ⎞  ⎛  2        2        2   ⎞            \n",
       "                 ⎥  ⎢⎝x¹ (t) + x² (t)⎠ ⋅⎝x¹ (t) + x² (t) + x³ (t)⎠            \n",
       "                 ⎥  ⎢                                                         \n",
       "                 ⎦  ⎣                      0                                  \n",
       "\n",
       "                                                       ⎡                      \n",
       "                                                       ⎢                      \n",
       "                                                       ⎢0                     \n",
       "                                                       ⎢                      \n",
       "                                                       ⎢                      \n",
       "                                                       ⎢                      \n",
       "                                                       ⎢                      \n",
       "                                                       ⎢    ⎛      2          \n",
       "                                                       ⎢    ⎝- 2⋅x¹ (t) - 2⋅x²\n",
       "                                                       ⎢0  ───────────────────\n",
       "                                                       ⎢                      \n",
       "                                                       ⎢   ⎛  2        2   ⎞ ⎛\n",
       "                                                       ⎢   ⎝x¹ (t) + x² (t)⎠⋅⎝\n",
       "                                                       ⎢                      \n",
       "                                                       ⎣0                     \n",
       "                                                                              \n",
       "                                                                              \n",
       "                                                                              \n",
       "  0                                                                           \n",
       "                                                                              \n",
       "                                                                              \n",
       "                                                                              \n",
       "                                                                              \n",
       "                        3                                                 3   \n",
       "       ⎛  2        2   ⎞  ⎛  2        2        2   ⎞     ⎛  2        2   ⎞    \n",
       "     - ⎝x¹ (t) + x² (t)⎠ ⋅⎝x¹ (t) + x² (t) + x³ (t)⎠ + 3⋅⎝x¹ (t) + x² (t)⎠ ⋅x³\n",
       "  0  ─────────────────────────────────────────────────────────────────────────\n",
       "                                                                              \n",
       "                                                                              \n",
       "                                                                              \n",
       "                                                                              \n",
       "  0                                                                           \n",
       "                                                                              \n",
       "                                                                              \n",
       "                                                                              \n",
       "                                                                              \n",
       "                                                                              \n",
       "                                                                              \n",
       "                                                                              \n",
       "                                                                              \n",
       "        3                                                 3                   \n",
       "   2   ⎞  ⎛  2        2        2   ⎞     ⎛  2        2   ⎞    2      ⎛  2     \n",
       " x² (t)⎠ ⋅⎝x¹ (t) + x² (t) + x³ (t)⎠ - 3⋅⎝x¹ (t) + x² (t)⎠ ⋅x³ (t) + ⎝x¹ (t) +\n",
       "──────────────────────────────────────────────────────────────────────────────\n",
       "                                                                              \n",
       "                                                                              \n",
       "                                                                              \n",
       "                                                                              \n",
       "                                                                              \n",
       "\n",
       "                                             2        2                  ⎤    \n",
       "                                         2⋅x¹ (t) - x² (t)               ⎥    \n",
       "   0                                     ──────────────────              ⎥    \n",
       "                                                          3              ⎥    \n",
       "                                         ⎛  2        2   ⎞               ⎥    \n",
       "                                         ⎝x¹ (t) + x² (t)⎠               ⎥    \n",
       "                                                                         ⎥    \n",
       "2        2   ⎞               ⎛    2          2          2   ⎞            ⎥    \n",
       " (t) + x³ (t)⎠⋅x¹(t)⋅x³(t)   ⎝2⋅x¹ (t) + 2⋅x² (t) + 3⋅x³ (t)⎠⋅x¹(t)⋅x²(t)⎥    \n",
       "──────────────────────────  ─────────────────────────────────────────────⎥    \n",
       "                         3                   3                           ⎥    \n",
       "  2        2        2   ⎞   ⎛  2        2   ⎞  ⎛  2        2        2   ⎞⎥    \n",
       "x¹ (t) + x² (t) + x³ (t)⎠   ⎝x¹ (t) + x² (t)⎠ ⋅⎝x¹ (t) + x² (t) + x³ (t)⎠⎥    \n",
       "                                                                         ⎥    \n",
       "   0                                              0                      ⎦    \n",
       "                                                                              \n",
       "                            ⎛    2          2          2   ⎞                  \n",
       "                            ⎝2⋅x¹ (t) + 2⋅x² (t) + 3⋅x³ (t)⎠⋅x¹(t)⋅x²(t)      \n",
       "                            ────────────────────────────────────────────      \n",
       "                                                          3                   \n",
       "                                         ⎛  2        2   ⎞                    \n",
       "                                         ⎝x¹ (t) + x² (t)⎠                    \n",
       "                                                                              \n",
       "                                                   2                          \n",
       "2      ⎛  2        2   ⎞ ⎛  2        2        2   ⎞  ⎛  2          2        2 \n",
       " (t) - ⎝x¹ (t) + x² (t)⎠⋅⎝x¹ (t) + x² (t) + x³ (t)⎠ ⋅⎝x¹ (t) + 2⋅x² (t) + x³ (\n",
       "──────────────────────────────────────────────────────────────────────────────\n",
       "                                             3                           2    \n",
       "                            ⎛  2        2   ⎞  ⎛  2        2        2   ⎞     \n",
       "                            ⎝x¹ (t) + x² (t)⎠ ⋅⎝x¹ (t) + x² (t) + x³ (t)⎠     \n",
       "                                                                              \n",
       "                                                  0                           \n",
       "                                                                              \n",
       "                          ⎛    2          2          2   ⎞                    \n",
       "                         -⎝2⋅x¹ (t) + 2⋅x² (t) + 3⋅x³ (t)⎠⋅x¹(t)⋅x²(t)        \n",
       "                         ──────────────────────────────────────────────       \n",
       "                                          2                                   \n",
       "                         ⎛  2        2   ⎞  ⎛  2        2        2   ⎞        \n",
       "                         ⎝x¹ (t) + x² (t)⎠ ⋅⎝x¹ (t) + x² (t) + x³ (t)⎠        \n",
       "                                                                              \n",
       "                                   3                                          \n",
       "   2   ⎞ ⎛  2        2        2   ⎞    ⎛  2        2   ⎞ ⎛  2        2        \n",
       " x² (t)⎠⋅⎝x¹ (t) + x² (t) + x³ (t)⎠  + ⎝x¹ (t) + x² (t)⎠⋅⎝x¹ (t) + x² (t) + x³\n",
       "──────────────────────────────────────────────────────────────────────────────\n",
       "                                           2                           3      \n",
       "                          ⎛  2        2   ⎞  ⎛  2        2        2   ⎞       \n",
       "                          ⎝x¹ (t) + x² (t)⎠ ⋅⎝x¹ (t) + x² (t) + x³ (t)⎠       \n",
       "                                                                              \n",
       "                                                0                             \n",
       "\n",
       "                                                                              \n",
       "                                                                              \n",
       "                                                                              \n",
       "                                                                              \n",
       "                                                                              \n",
       "                                                                              \n",
       "                                                                              \n",
       "                                                                              \n",
       "                                                                              \n",
       "                                                                              \n",
       "                                                                              \n",
       "                                                                              \n",
       "                                                                              \n",
       "                                                                              \n",
       "                                                                              \n",
       "                                                                              \n",
       "                                                                              \n",
       "                                                                              \n",
       "                                                                              \n",
       "                                                                              \n",
       "                                                                              \n",
       "                                                                              \n",
       "                                                                              \n",
       "                                                                              \n",
       "  ⎞   ⎛  2        2   ⎞ ⎛  2        2        2   ⎞   2        ⎛  2        2   \n",
       "t)⎠ + ⎝x¹ (t) + x² (t)⎠⋅⎝x¹ (t) + x² (t) + x³ (t)⎠⋅x¹ (t) + 3⋅⎝x¹ (t) + x² (t)\n",
       "──────────────────────────────────────────────────────────────────────────────\n",
       "                                                                              \n",
       "                                                                              \n",
       "                                                                              \n",
       "                                                                              \n",
       "                                                                              \n",
       "                                                                              \n",
       "                                                                              \n",
       "                                                                              \n",
       "                                                                              \n",
       "                                                                              \n",
       "                                                                              \n",
       "                                                                              \n",
       "                                                                              \n",
       "     2                                                                        \n",
       "2   ⎞    2      ⎛  2        2   ⎞ ⎛  2        2        2   ⎞   2        ⎛  2  \n",
       " (t)⎠ ⋅x² (t) - ⎝x¹ (t) + x² (t)⎠⋅⎝x¹ (t) + x² (t) + x³ (t)⎠⋅x¹ (t) - 3⋅⎝x¹ (t\n",
       "──────────────────────────────────────────────────────────────────────────────\n",
       "                                                                              \n",
       "                                                                              \n",
       "                                                                              \n",
       "                                                                              \n",
       "                                                                              \n",
       "\n",
       "                                ⎤\n",
       "                                ⎥\n",
       "                                ⎥\n",
       "                                ⎥\n",
       "                                ⎥\n",
       "                                ⎥\n",
       "                                ⎥\n",
       "                                ⎥\n",
       "                                ⎥\n",
       "                                ⎥\n",
       "                                ⎥\n",
       "                                ⎥\n",
       "                                ⎥\n",
       "                                ⎥\n",
       "                                ⎥\n",
       "                                ⎥\n",
       "                  ⎤             ⎥\n",
       "                  ⎥             ⎥\n",
       "                  ⎥             ⎥\n",
       "                  ⎥             ⎥\n",
       "                  ⎥             ⎥\n",
       "                  ⎥             ⎥\n",
       "                  ⎥             ⎥\n",
       "          3       ⎥             ⎥\n",
       "     2   ⎞    2   ⎥             ⎥\n",
       " + x³ (t)⎠ ⋅x² (t)⎥             ⎥\n",
       "──────────────────⎥             ⎥\n",
       "                  ⎥             ⎥\n",
       "                  ⎥             ⎥\n",
       "                  ⎥             ⎥\n",
       "                  ⎥             ⎥\n",
       "                  ⎦             ⎥\n",
       "                                ⎥\n",
       "                               ⎤⎥\n",
       "                               ⎥⎥\n",
       "                              0⎥⎥\n",
       "                               ⎥⎥\n",
       "                               ⎥⎥\n",
       "                               ⎥⎥\n",
       "                               ⎥⎥\n",
       "                    3          ⎥⎥\n",
       "      2        2   ⎞    2      ⎥⎥\n",
       ") + x² (t) + x³ (t)⎠ ⋅x² (t)   ⎥⎥\n",
       "────────────────────────────  0⎥⎥\n",
       "                               ⎥⎥\n",
       "                               ⎥⎥\n",
       "                               ⎥⎥\n",
       "                               ⎥⎥\n",
       "                              0⎦⎦"
      ]
     },
     "execution_count": 91,
     "metadata": {},
     "output_type": "execute_result"
    }
   ],
   "source": [
    "Riemann_Tensor_2(gamma_2_sphere_inv_1, X2,3)"
   ]
  },
  {
   "cell_type": "markdown",
   "metadata": {},
   "source": [
    "Thus, in the steps above, I use the standard definition of the inverse metric\n",
    "\n",
    "$$g^{ij}g_{ij}=\\delta^i_j$$\n",
    "   \n",
    "so I take this matrix for spherical coordinates, $\\mathbf G$ and compute the inverse, then substitute for the $y^1..y^n$ with their representations in rectangular coordinates. (and simplify). This is then used in the upgraded function to compute the christoffel symbols - from spherical to rectangular, therefore the $x^i$ are the coordinates that the derivatives are taken with respect to, and then I compute the Riemann curvature tensor of this metric and inverse. The tensor does not have all zero components, and this would suggest that the $x^i$ coordinates are not flat with respect to the sphere. But the sphere is curved?? \n",
    "   \n",
    "Another problem is that if I recognize that the sphere can be assumed to be the flat space, then the Jacobian is the only full inversion I have proven for spherical coordinates, that is ...\n",
    "\n",
    "$$ \\mathbf J = \\frac{\\partial x^i}{\\partial y^j}$$\n",
    "and\n",
    "$$ g_{ij} = \\mathbf J^T \\mathbf J $$\n",
    "   \n",
    "but $\\bar{\\mathbf J}=\\mathbf J^{-1} = \\frac{\\partial y^i}{\\partial x^j}$ (inverse followed by substitution proven above for spherical coordinates = $\\bar{\\mathbf J}(x)$) and then the inverse metric (perhaps assuming the sphere is flat) might be ...\n",
    "   \n",
    "   $$ \\bar{g}_{ij}(x)=\\bar{\\mathbf J}^T (x) \\bar{\\mathbf J}(x) $$\n",
    "   \n",
    "and this so far has proven $\\bar{g}_ij(x) \\neq g^{ij}(x)$ and the Riemann tensor is not the same too.\n"
   ]
  },
  {
   "cell_type": "code",
   "execution_count": 92,
   "metadata": {},
   "outputs": [
    {
     "data": {
      "text/latex": [
       "$$\\left[\\begin{matrix}\\frac{1}{\\left(\\operatorname{x^{1}}^{2}{\\left (t \\right )} + \\operatorname{x^{2}}^{2}{\\left (t \\right )}\\right)^{2} \\left(\\operatorname{x^{1}}^{2}{\\left (t \\right )} + \\operatorname{x^{2}}^{2}{\\left (t \\right )} + \\operatorname{x^{3}}^{2}{\\left (t \\right )}\\right)^{2}} \\left(\\left(\\operatorname{x^{1}}^{2}{\\left (t \\right )} + \\operatorname{x^{2}}^{2}{\\left (t \\right )}\\right)^{2} \\left(\\operatorname{x^{1}}^{2}{\\left (t \\right )} + \\operatorname{x^{2}}^{2}{\\left (t \\right )} + \\operatorname{x^{3}}^{2}{\\left (t \\right )}\\right) \\operatorname{x^{1}}^{2}{\\left (t \\right )} + \\left(\\operatorname{x^{1}}^{2}{\\left (t \\right )} + \\operatorname{x^{2}}^{2}{\\left (t \\right )}\\right) \\operatorname{x^{1}}^{2}{\\left (t \\right )} \\operatorname{x^{3}}^{2}{\\left (t \\right )} + \\left(\\operatorname{x^{1}}^{2}{\\left (t \\right )} + \\operatorname{x^{2}}^{2}{\\left (t \\right )} + \\operatorname{x^{3}}^{2}{\\left (t \\right )}\\right)^{2} \\operatorname{x^{2}}^{2}{\\left (t \\right )}\\right) & \\frac{\\operatorname{x^{1}}{\\left (t \\right )} \\operatorname{x^{2}}{\\left (t \\right )}}{\\left(\\operatorname{x^{1}}^{2}{\\left (t \\right )} + \\operatorname{x^{2}}^{2}{\\left (t \\right )}\\right)^{2} \\left(\\operatorname{x^{1}}^{2}{\\left (t \\right )} + \\operatorname{x^{2}}^{2}{\\left (t \\right )} + \\operatorname{x^{3}}^{2}{\\left (t \\right )}\\right)^{2}} \\left(\\left(\\operatorname{x^{1}}^{2}{\\left (t \\right )} + \\operatorname{x^{2}}^{2}{\\left (t \\right )}\\right)^{2} \\left(\\operatorname{x^{1}}^{2}{\\left (t \\right )} + \\operatorname{x^{2}}^{2}{\\left (t \\right )} + \\operatorname{x^{3}}^{2}{\\left (t \\right )}\\right) + \\left(\\operatorname{x^{1}}^{2}{\\left (t \\right )} + \\operatorname{x^{2}}^{2}{\\left (t \\right )}\\right) \\operatorname{x^{3}}^{2}{\\left (t \\right )} - \\left(\\operatorname{x^{1}}^{2}{\\left (t \\right )} + \\operatorname{x^{2}}^{2}{\\left (t \\right )} + \\operatorname{x^{3}}^{2}{\\left (t \\right )}\\right)^{2}\\right) & \\frac{\\left(\\left(\\operatorname{x^{1}}^{2}{\\left (t \\right )} + \\operatorname{x^{2}}^{2}{\\left (t \\right )}\\right) \\left(\\operatorname{x^{1}}^{2}{\\left (t \\right )} + \\operatorname{x^{2}}^{2}{\\left (t \\right )} + \\operatorname{x^{3}}^{2}{\\left (t \\right )}\\right) - \\operatorname{x^{1}}^{2}{\\left (t \\right )} - \\operatorname{x^{2}}^{2}{\\left (t \\right )}\\right) \\operatorname{x^{3}}{\\left (t \\right )}}{\\sqrt{\\frac{\\operatorname{x^{1}}^{2}{\\left (t \\right )} + \\operatorname{x^{2}}^{2}{\\left (t \\right )}}{\\operatorname{x^{1}}^{2}{\\left (t \\right )} + \\operatorname{x^{2}}^{2}{\\left (t \\right )} + \\operatorname{x^{3}}^{2}{\\left (t \\right )}}} \\sqrt{\\frac{1}{\\operatorname{x^{1}}^{2}{\\left (t \\right )}} \\left(\\operatorname{x^{1}}^{2}{\\left (t \\right )} + \\operatorname{x^{2}}^{2}{\\left (t \\right )}\\right)} \\left(\\operatorname{x^{1}}^{2}{\\left (t \\right )} + \\operatorname{x^{2}}^{2}{\\left (t \\right )} + \\operatorname{x^{3}}^{2}{\\left (t \\right )}\\right)^{\\frac{5}{2}}}\\\\\\frac{\\operatorname{x^{1}}{\\left (t \\right )} \\operatorname{x^{2}}{\\left (t \\right )}}{\\left(\\operatorname{x^{1}}^{2}{\\left (t \\right )} + \\operatorname{x^{2}}^{2}{\\left (t \\right )}\\right)^{2} \\left(\\operatorname{x^{1}}^{2}{\\left (t \\right )} + \\operatorname{x^{2}}^{2}{\\left (t \\right )} + \\operatorname{x^{3}}^{2}{\\left (t \\right )}\\right)^{2}} \\left(\\left(\\operatorname{x^{1}}^{2}{\\left (t \\right )} + \\operatorname{x^{2}}^{2}{\\left (t \\right )}\\right)^{2} \\left(\\operatorname{x^{1}}^{2}{\\left (t \\right )} + \\operatorname{x^{2}}^{2}{\\left (t \\right )} + \\operatorname{x^{3}}^{2}{\\left (t \\right )}\\right) + \\left(\\operatorname{x^{1}}^{2}{\\left (t \\right )} + \\operatorname{x^{2}}^{2}{\\left (t \\right )}\\right) \\operatorname{x^{3}}^{2}{\\left (t \\right )} - \\left(\\operatorname{x^{1}}^{2}{\\left (t \\right )} + \\operatorname{x^{2}}^{2}{\\left (t \\right )} + \\operatorname{x^{3}}^{2}{\\left (t \\right )}\\right)^{2}\\right) & \\frac{1}{\\left(\\operatorname{x^{1}}^{2}{\\left (t \\right )} + \\operatorname{x^{2}}^{2}{\\left (t \\right )}\\right)^{2} \\left(\\operatorname{x^{1}}^{2}{\\left (t \\right )} + \\operatorname{x^{2}}^{2}{\\left (t \\right )} + \\operatorname{x^{3}}^{2}{\\left (t \\right )}\\right)^{2}} \\left(\\left(\\operatorname{x^{1}}^{2}{\\left (t \\right )} + \\operatorname{x^{2}}^{2}{\\left (t \\right )}\\right)^{2} \\left(\\operatorname{x^{1}}^{2}{\\left (t \\right )} + \\operatorname{x^{2}}^{2}{\\left (t \\right )} + \\operatorname{x^{3}}^{2}{\\left (t \\right )}\\right) \\operatorname{x^{2}}^{2}{\\left (t \\right )} + \\left(\\operatorname{x^{1}}^{2}{\\left (t \\right )} + \\operatorname{x^{2}}^{2}{\\left (t \\right )}\\right) \\operatorname{x^{2}}^{2}{\\left (t \\right )} \\operatorname{x^{3}}^{2}{\\left (t \\right )} + \\left(\\operatorname{x^{1}}^{2}{\\left (t \\right )} + \\operatorname{x^{2}}^{2}{\\left (t \\right )} + \\operatorname{x^{3}}^{2}{\\left (t \\right )}\\right)^{2} \\operatorname{x^{1}}^{2}{\\left (t \\right )}\\right) & \\frac{\\sqrt{\\frac{\\operatorname{x^{1}}^{2}{\\left (t \\right )} + \\operatorname{x^{2}}^{2}{\\left (t \\right )}}{\\operatorname{x^{1}}^{2}{\\left (t \\right )} + \\operatorname{x^{2}}^{2}{\\left (t \\right )} + \\operatorname{x^{3}}^{2}{\\left (t \\right )}}} \\sqrt{\\frac{1}{\\operatorname{x^{1}}^{2}{\\left (t \\right )}} \\left(\\operatorname{x^{1}}^{2}{\\left (t \\right )} + \\operatorname{x^{2}}^{2}{\\left (t \\right )}\\right)} \\left(\\operatorname{x^{1}}^{2}{\\left (t \\right )} + \\operatorname{x^{2}}^{2}{\\left (t \\right )} + \\operatorname{x^{3}}^{2}{\\left (t \\right )} - 1\\right) \\operatorname{x^{1}}{\\left (t \\right )} \\operatorname{x^{2}}{\\left (t \\right )} \\operatorname{x^{3}}{\\left (t \\right )}}{\\sqrt{\\operatorname{x^{1}}^{2}{\\left (t \\right )} + \\operatorname{x^{2}}^{2}{\\left (t \\right )} + \\operatorname{x^{3}}^{2}{\\left (t \\right )}} \\left(\\operatorname{x^{1}}^{4}{\\left (t \\right )} + 2 \\operatorname{x^{1}}^{2}{\\left (t \\right )} \\operatorname{x^{2}}^{2}{\\left (t \\right )} + \\operatorname{x^{1}}^{2}{\\left (t \\right )} \\operatorname{x^{3}}^{2}{\\left (t \\right )} + \\operatorname{x^{2}}^{4}{\\left (t \\right )} + \\operatorname{x^{2}}^{2}{\\left (t \\right )} \\operatorname{x^{3}}^{2}{\\left (t \\right )}\\right)}\\\\\\frac{\\left(\\left(\\operatorname{x^{1}}^{2}{\\left (t \\right )} + \\operatorname{x^{2}}^{2}{\\left (t \\right )}\\right) \\left(\\operatorname{x^{1}}^{2}{\\left (t \\right )} + \\operatorname{x^{2}}^{2}{\\left (t \\right )} + \\operatorname{x^{3}}^{2}{\\left (t \\right )}\\right) - \\operatorname{x^{1}}^{2}{\\left (t \\right )} - \\operatorname{x^{2}}^{2}{\\left (t \\right )}\\right) \\operatorname{x^{3}}{\\left (t \\right )}}{\\sqrt{\\frac{\\operatorname{x^{1}}^{2}{\\left (t \\right )} + \\operatorname{x^{2}}^{2}{\\left (t \\right )}}{\\operatorname{x^{1}}^{2}{\\left (t \\right )} + \\operatorname{x^{2}}^{2}{\\left (t \\right )} + \\operatorname{x^{3}}^{2}{\\left (t \\right )}}} \\sqrt{\\frac{1}{\\operatorname{x^{1}}^{2}{\\left (t \\right )}} \\left(\\operatorname{x^{1}}^{2}{\\left (t \\right )} + \\operatorname{x^{2}}^{2}{\\left (t \\right )}\\right)} \\left(\\operatorname{x^{1}}^{2}{\\left (t \\right )} + \\operatorname{x^{2}}^{2}{\\left (t \\right )} + \\operatorname{x^{3}}^{2}{\\left (t \\right )}\\right)^{\\frac{5}{2}}} & \\frac{\\sqrt{\\frac{\\operatorname{x^{1}}^{2}{\\left (t \\right )} + \\operatorname{x^{2}}^{2}{\\left (t \\right )}}{\\operatorname{x^{1}}^{2}{\\left (t \\right )} + \\operatorname{x^{2}}^{2}{\\left (t \\right )} + \\operatorname{x^{3}}^{2}{\\left (t \\right )}}} \\sqrt{\\frac{1}{\\operatorname{x^{1}}^{2}{\\left (t \\right )}} \\left(\\operatorname{x^{1}}^{2}{\\left (t \\right )} + \\operatorname{x^{2}}^{2}{\\left (t \\right )}\\right)} \\left(\\operatorname{x^{1}}^{2}{\\left (t \\right )} + \\operatorname{x^{2}}^{2}{\\left (t \\right )} + \\operatorname{x^{3}}^{2}{\\left (t \\right )} - 1\\right) \\operatorname{x^{1}}{\\left (t \\right )} \\operatorname{x^{2}}{\\left (t \\right )} \\operatorname{x^{3}}{\\left (t \\right )}}{\\sqrt{\\operatorname{x^{1}}^{2}{\\left (t \\right )} + \\operatorname{x^{2}}^{2}{\\left (t \\right )} + \\operatorname{x^{3}}^{2}{\\left (t \\right )}} \\left(\\operatorname{x^{1}}^{4}{\\left (t \\right )} + 2 \\operatorname{x^{1}}^{2}{\\left (t \\right )} \\operatorname{x^{2}}^{2}{\\left (t \\right )} + \\operatorname{x^{1}}^{2}{\\left (t \\right )} \\operatorname{x^{3}}^{2}{\\left (t \\right )} + \\operatorname{x^{2}}^{4}{\\left (t \\right )} + \\operatorname{x^{2}}^{2}{\\left (t \\right )} \\operatorname{x^{3}}^{2}{\\left (t \\right )}\\right)} & \\frac{\\left(\\operatorname{x^{1}}^{2}{\\left (t \\right )} + \\operatorname{x^{2}}^{2}{\\left (t \\right )} + \\operatorname{x^{3}}^{2}{\\left (t \\right )}\\right) \\operatorname{x^{3}}^{2}{\\left (t \\right )} + \\operatorname{x^{1}}^{2}{\\left (t \\right )} + \\operatorname{x^{2}}^{2}{\\left (t \\right )}}{\\left(\\operatorname{x^{1}}^{2}{\\left (t \\right )} + \\operatorname{x^{2}}^{2}{\\left (t \\right )} + \\operatorname{x^{3}}^{2}{\\left (t \\right )}\\right)^{2}}\\end{matrix}\\right]$$"
      ],
      "text/plain": [
       "⎡                 2                                                           \n",
       "⎢⎛  2        2   ⎞  ⎛  2        2        2   ⎞   2      ⎛  2        2   ⎞   2 \n",
       "⎢⎝x¹ (t) + x² (t)⎠ ⋅⎝x¹ (t) + x² (t) + x³ (t)⎠⋅x¹ (t) + ⎝x¹ (t) + x² (t)⎠⋅x¹ (\n",
       "⎢─────────────────────────────────────────────────────────────────────────────\n",
       "⎢                                                        2                    \n",
       "⎢                                       ⎛  2        2   ⎞  ⎛  2        2      \n",
       "⎢                                       ⎝x¹ (t) + x² (t)⎠ ⋅⎝x¹ (t) + x² (t) + \n",
       "⎢                                                                             \n",
       "⎢                                                                             \n",
       "⎢                                                                             \n",
       "⎢                                                                             \n",
       "⎢                                                                             \n",
       "⎢                                                                             \n",
       "⎢                                                                             \n",
       "⎢   ⎛                 2                                                       \n",
       "⎢   ⎜⎛  2        2   ⎞  ⎛  2        2        2   ⎞   ⎛  2        2   ⎞   2    \n",
       "⎢   ⎝⎝x¹ (t) + x² (t)⎠ ⋅⎝x¹ (t) + x² (t) + x³ (t)⎠ + ⎝x¹ (t) + x² (t)⎠⋅x³ (t) \n",
       "⎢   ──────────────────────────────────────────────────────────────────────────\n",
       "⎢                                                       2                     \n",
       "⎢                                      ⎛  2        2   ⎞  ⎛  2        2       \n",
       "⎢                                      ⎝x¹ (t) + x² (t)⎠ ⋅⎝x¹ (t) + x² (t) + x\n",
       "⎢                                                                             \n",
       "⎢                                                                             \n",
       "⎢                                                                             \n",
       "⎢                                                                             \n",
       "⎢                                                                             \n",
       "⎢                          ⎛⎛  2        2   ⎞ ⎛  2        2        2   ⎞     2\n",
       "⎢                          ⎝⎝x¹ (t) + x² (t)⎠⋅⎝x¹ (t) + x² (t) + x³ (t)⎠ - x¹ \n",
       "⎢                  ───────────────────────────────────────────────────────────\n",
       "⎢                        __________________________       _________________   \n",
       "⎢                       ╱       2        2               ╱   2        2       \n",
       "⎢                      ╱      x¹ (t) + x² (t)           ╱  x¹ (t) + x² (t)  ⎛ \n",
       "⎢                     ╱   ──────────────────────── ⋅   ╱   ─────────────── ⋅⎝x\n",
       "⎢                    ╱      2        2        2       ╱           2           \n",
       "⎣                  ╲╱     x¹ (t) + x² (t) + x³ (t)  ╲╱          x¹ (t)        \n",
       "\n",
       "                                      2            ⎛                 2        \n",
       "     2      ⎛  2        2        2   ⎞    2        ⎜⎛  2        2   ⎞  ⎛  2   \n",
       "t)⋅x³ (t) + ⎝x¹ (t) + x² (t) + x³ (t)⎠ ⋅x² (t)     ⎝⎝x¹ (t) + x² (t)⎠ ⋅⎝x¹ (t)\n",
       "──────────────────────────────────────────────     ───────────────────────────\n",
       "       2                                                                      \n",
       "  2   ⎞                                                                       \n",
       "x³ (t)⎠                                                                       \n",
       "                                                                              \n",
       "                                                                              \n",
       "                                                                              \n",
       "                                                                              \n",
       "                                                                              \n",
       "                                                                              \n",
       "                                                                              \n",
       "                            2⎞                                   2            \n",
       "  ⎛  2        2        2   ⎞ ⎟                  ⎛  2        2   ⎞  ⎛  2       \n",
       "- ⎝x¹ (t) + x² (t) + x³ (t)⎠ ⎠⋅x¹(t)⋅x²(t)      ⎝x¹ (t) + x² (t)⎠ ⋅⎝x¹ (t) + x\n",
       "──────────────────────────────────────────      ──────────────────────────────\n",
       "      2                                                                       \n",
       " 2   ⎞                                                                        \n",
       "³ (t)⎠                                                                        \n",
       "                                                                              \n",
       "                                                               _______________\n",
       "                                                              ╱       2       \n",
       "                                                             ╱      x¹ (t) + x\n",
       "                                                            ╱   ──────────────\n",
       "        2   ⎞                                              ╱      2        2  \n",
       "(t) - x² (t)⎠⋅x³(t)                                      ╲╱     x¹ (t) + x² (t\n",
       "───────────────────────────                              ─────────────────────\n",
       "                                                                ______________\n",
       "                        5/2                                    ╱   2        2 \n",
       " 2        2        2   ⎞                                     ╲╱  x¹ (t) + x² (\n",
       "¹ (t) + x² (t) + x³ (t)⎠                                                      \n",
       "                                                                              \n",
       "                                                                              \n",
       "\n",
       "                                                                           2⎞ \n",
       "     2        2   ⎞   ⎛  2        2   ⎞   2      ⎛  2        2        2   ⎞ ⎟ \n",
       " + x² (t) + x³ (t)⎠ + ⎝x¹ (t) + x² (t)⎠⋅x³ (t) - ⎝x¹ (t) + x² (t) + x³ (t)⎠ ⎠⋅\n",
       "──────────────────────────────────────────────────────────────────────────────\n",
       "                         2                           2                        \n",
       "        ⎛  2        2   ⎞  ⎛  2        2        2   ⎞                         \n",
       "        ⎝x¹ (t) + x² (t)⎠ ⋅⎝x¹ (t) + x² (t) + x³ (t)⎠                         \n",
       "                                                                              \n",
       "                                                                              \n",
       "                                                                              \n",
       "                                                                              \n",
       "                                                                              \n",
       "                                                                              \n",
       "                                                                              \n",
       "                                                                              \n",
       " 2        2   ⎞   2      ⎛  2        2   ⎞   2      2      ⎛  2        2      \n",
       "² (t) + x³ (t)⎠⋅x² (t) + ⎝x¹ (t) + x² (t)⎠⋅x² (t)⋅x³ (t) + ⎝x¹ (t) + x² (t) + \n",
       "──────────────────────────────────────────────────────────────────────────────\n",
       "                          2                           2                       \n",
       "         ⎛  2        2   ⎞  ⎛  2        2        2   ⎞                        \n",
       "         ⎝x¹ (t) + x² (t)⎠ ⋅⎝x¹ (t) + x² (t) + x³ (t)⎠                        \n",
       "                                                                              \n",
       "___________       _________________                                           \n",
       " 2               ╱   2        2                                               \n",
       "² (t)           ╱  x¹ (t) + x² (t)  ⎛  2        2        2       ⎞            \n",
       "────────── ⋅   ╱   ─────────────── ⋅⎝x¹ (t) + x² (t) + x³ (t) - 1⎠⋅x¹(t)⋅x²(t)\n",
       "      2       ╱           2                                                   \n",
       ") + x³ (t)  ╲╱          x¹ (t)                                                \n",
       "──────────────────────────────────────────────────────────────────────────────\n",
       "____________                                                                  \n",
       "       2     ⎛  4          2      2        2      2        4        2      2  \n",
       "t) + x³ (t) ⋅⎝x¹ (t) + 2⋅x¹ (t)⋅x² (t) + x¹ (t)⋅x³ (t) + x² (t) + x² (t)⋅x³ (t\n",
       "                                                                              \n",
       "                                                                              \n",
       "                                                                              \n",
       "\n",
       "                                                                              \n",
       "                                  ⎛⎛  2        2   ⎞ ⎛  2        2        2   \n",
       "x¹(t)⋅x²(t)                       ⎝⎝x¹ (t) + x² (t)⎠⋅⎝x¹ (t) + x² (t) + x³ (t)\n",
       "───────────               ────────────────────────────────────────────────────\n",
       "                                __________________________       _____________\n",
       "                               ╱       2        2               ╱   2        2\n",
       "                              ╱      x¹ (t) + x² (t)           ╱  x¹ (t) + x² \n",
       "                             ╱   ──────────────────────── ⋅   ╱   ────────────\n",
       "                            ╱      2        2        2       ╱           2    \n",
       "                          ╲╱     x¹ (t) + x² (t) + x³ (t)  ╲╱          x¹ (t) \n",
       "                                                                              \n",
       "                       __________________________       _________________     \n",
       "                      ╱       2        2               ╱   2        2         \n",
       "                     ╱      x¹ (t) + x² (t)           ╱  x¹ (t) + x² (t)  ⎛  2\n",
       "       2            ╱   ──────────────────────── ⋅   ╱   ─────────────── ⋅⎝x¹ \n",
       "  2   ⎞    2       ╱      2        2        2       ╱           2             \n",
       "x³ (t)⎠ ⋅x¹ (t)  ╲╱     x¹ (t) + x² (t) + x³ (t)  ╲╱          x¹ (t)          \n",
       "───────────────  ─────────────────────────────────────────────────────────────\n",
       "                        __________________________                            \n",
       "                       ╱   2        2        2     ⎛  4          2      2     \n",
       "                     ╲╱  x¹ (t) + x² (t) + x³ (t) ⋅⎝x¹ (t) + 2⋅x¹ (t)⋅x² (t) +\n",
       "                                                                              \n",
       "                                                                              \n",
       "                                                                              \n",
       "                                                                              \n",
       "⋅x³(t)                                                                        \n",
       "                                            ⎛  2        2        2   ⎞   2    \n",
       "                                            ⎝x¹ (t) + x² (t) + x³ (t)⎠⋅x³ (t) \n",
       "──────                                      ──────────────────────────────────\n",
       "                                                                              \n",
       " ⎞                                                      ⎛  2        2        2\n",
       ")⎠                                                      ⎝x¹ (t) + x² (t) + x³ \n",
       "                                                                              \n",
       "                                                                              \n",
       "                                                                              \n",
       "\n",
       "                                            ⎤\n",
       "⎞     2        2   ⎞                        ⎥\n",
       "⎠ - x¹ (t) - x² (t)⎠⋅x³(t)                  ⎥\n",
       "──────────────────────────────────          ⎥\n",
       "____                                        ⎥\n",
       "                               5/2          ⎥\n",
       "(t)  ⎛  2        2        2   ⎞             ⎥\n",
       "─── ⋅⎝x¹ (t) + x² (t) + x³ (t)⎠             ⎥\n",
       "                                            ⎥\n",
       "                                            ⎥\n",
       "                                            ⎥\n",
       "                                            ⎥\n",
       "                                            ⎥\n",
       "        2        2       ⎞                  ⎥\n",
       "(t) + x² (t) + x³ (t) - 1⎠⋅x¹(t)⋅x²(t)⋅x³(t)⎥\n",
       "                                            ⎥\n",
       "                                            ⎥\n",
       "────────────────────────────────────────────⎥\n",
       "                                            ⎥\n",
       "   2      2        4        2      2   ⎞    ⎥\n",
       " x¹ (t)⋅x³ (t) + x² (t) + x² (t)⋅x³ (t)⎠    ⎥\n",
       "                                            ⎥\n",
       "                                            ⎥\n",
       "                                            ⎥\n",
       "                                            ⎥\n",
       "                                            ⎥\n",
       "    2        2                              ⎥\n",
       "+ x¹ (t) + x² (t)                           ⎥\n",
       "─────────────────                           ⎥\n",
       "    2                                       ⎥\n",
       "   ⎞                                        ⎥\n",
       "(t)⎠                                        ⎥\n",
       "                                            ⎥\n",
       "                                            ⎥\n",
       "                                            ⎦"
      ]
     },
     "execution_count": 92,
     "metadata": {},
     "output_type": "execute_result"
    }
   ],
   "source": [
    "J_1_X = expand(J_1.subs({y__1:V.dot(sph.i),y__2:V.dot(sph.j),y__3:V.dot(sph.k)})).inverse_GE()\n",
    "\n",
    "met2 = simplify(J_1_X.T * J_1_X)\n",
    "met2"
   ]
  },
  {
   "cell_type": "code",
   "execution_count": null,
   "metadata": {},
   "outputs": [],
   "source": [
    "met2_inv = met2.inverse_ADJ()\n",
    "gamma_2_sphere_inv__2 =  compute_christoffel_symbols_2(met2, 3, X2, met2_inv)\n",
    "gamma_2_sphere_inv__2[0]"
   ]
  },
  {
   "cell_type": "code",
   "execution_count": null,
   "metadata": {
    "collapsed": true
   },
   "outputs": [],
   "source": [
    "Riemann_Tensor_2(gamma_2_sphere_inv__2, X2,3)"
   ]
  },
  {
   "cell_type": "code",
   "execution_count": null,
   "metadata": {
    "collapsed": true
   },
   "outputs": [],
   "source": []
  }
 ],
 "metadata": {
  "kernelspec": {
   "display_name": "Python 2",
   "language": "python",
   "name": "python2"
  }
 },
 "nbformat": 4,
 "nbformat_minor": 1
}
