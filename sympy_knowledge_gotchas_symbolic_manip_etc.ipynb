{
 "cells": [
  {
   "cell_type": "code",
   "execution_count": 1,
   "metadata": {
    "collapsed": true
   },
   "outputs": [],
   "source": [
    "from sympy import *"
   ]
  },
  {
   "cell_type": "markdown",
   "metadata": {},
   "source": [
    "to use variables instead of symbols, the var keyword is helpful "
   ]
  },
  {
   "cell_type": "code",
   "execution_count": 2,
   "metadata": {
    "collapsed": true
   },
   "outputs": [],
   "source": [
    "x,y,z = var('x y z')"
   ]
  },
  {
   "cell_type": "code",
   "execution_count": 14,
   "metadata": {
    "collapsed": false
   },
   "outputs": [],
   "source": [
    "def val_f():\n",
    "    return z**y"
   ]
  },
  {
   "cell_type": "code",
   "execution_count": 15,
   "metadata": {
    "collapsed": false
   },
   "outputs": [
    {
     "data": {
      "text/plain": [
       "z**y"
      ]
     },
     "execution_count": 15,
     "metadata": {},
     "output_type": "execute_result"
    }
   ],
   "source": [
    "val_f()"
   ]
  },
  {
   "cell_type": "code",
   "execution_count": 16,
   "metadata": {
    "collapsed": true
   },
   "outputs": [],
   "source": [
    "z = 2"
   ]
  },
  {
   "cell_type": "code",
   "execution_count": 17,
   "metadata": {
    "collapsed": false
   },
   "outputs": [
    {
     "data": {
      "text/plain": [
       "2**y"
      ]
     },
     "execution_count": 17,
     "metadata": {},
     "output_type": "execute_result"
    }
   ],
   "source": [
    "val_f()"
   ]
  },
  {
   "cell_type": "markdown",
   "metadata": {},
   "source": [
    "pi and cos are built in to sympy"
   ]
  },
  {
   "cell_type": "code",
   "execution_count": 18,
   "metadata": {
    "collapsed": false
   },
   "outputs": [
    {
     "data": {
      "text/plain": [
       "pi"
      ]
     },
     "execution_count": 18,
     "metadata": {},
     "output_type": "execute_result"
    }
   ],
   "source": [
    "pi"
   ]
  },
  {
   "cell_type": "code",
   "execution_count": 19,
   "metadata": {
    "collapsed": false
   },
   "outputs": [
    {
     "data": {
      "text/plain": [
       "-1"
      ]
     },
     "execution_count": 19,
     "metadata": {},
     "output_type": "execute_result"
    }
   ],
   "source": [
    "cos(pi)"
   ]
  },
  {
   "cell_type": "markdown",
   "metadata": {},
   "source": [
    "common symbols are defined in sympy.abc"
   ]
  },
  {
   "cell_type": "code",
   "execution_count": 23,
   "metadata": {
    "collapsed": false
   },
   "outputs": [
    {
     "data": {
      "text/plain": [
       "['A',\n",
       " 'B',\n",
       " 'C',\n",
       " 'D',\n",
       " 'E',\n",
       " 'F',\n",
       " 'G',\n",
       " 'H',\n",
       " 'I',\n",
       " 'J',\n",
       " 'K',\n",
       " 'L',\n",
       " 'M',\n",
       " 'N',\n",
       " 'O',\n",
       " 'P',\n",
       " 'Q',\n",
       " 'R',\n",
       " 'S',\n",
       " 'T',\n",
       " 'U',\n",
       " 'V',\n",
       " 'W',\n",
       " 'X',\n",
       " 'Y',\n",
       " 'Z',\n",
       " '__builtins__',\n",
       " '__doc__',\n",
       " '__file__',\n",
       " '__name__',\n",
       " '__package__',\n",
       " '_clash',\n",
       " '_clash1',\n",
       " '_clash2',\n",
       " 'a',\n",
       " 'alpha',\n",
       " 'b',\n",
       " 'beta',\n",
       " 'c',\n",
       " 'chi',\n",
       " 'd',\n",
       " 'delta',\n",
       " 'division',\n",
       " 'e',\n",
       " 'epsilon',\n",
       " 'eta',\n",
       " 'exec_',\n",
       " 'f',\n",
       " 'g',\n",
       " 'gamma',\n",
       " 'greeks',\n",
       " 'h',\n",
       " 'i',\n",
       " 'iota',\n",
       " 'j',\n",
       " 'k',\n",
       " 'kappa',\n",
       " 'l',\n",
       " 'lamda',\n",
       " 'm',\n",
       " 'mu',\n",
       " 'n',\n",
       " 'nu',\n",
       " 'o',\n",
       " 'omega',\n",
       " 'omicron',\n",
       " 'p',\n",
       " 'phi',\n",
       " 'pi',\n",
       " 'print_function',\n",
       " 'psi',\n",
       " 'q',\n",
       " 'r',\n",
       " 'rho',\n",
       " 's',\n",
       " 'sigma',\n",
       " 'string',\n",
       " 't',\n",
       " 'tau',\n",
       " 'theta',\n",
       " 'u',\n",
       " 'upsilon',\n",
       " 'v',\n",
       " 'w',\n",
       " 'x',\n",
       " 'xi',\n",
       " 'y',\n",
       " 'z',\n",
       " 'zeta']"
      ]
     },
     "execution_count": 23,
     "metadata": {},
     "output_type": "execute_result"
    }
   ],
   "source": [
    "import sympy.abc\n",
    "dir(sympy.abc)  "
   ]
  },
  {
   "cell_type": "markdown",
   "metadata": {},
   "source": [
    "python floats have numerical precision issues"
   ]
  },
  {
   "cell_type": "code",
   "execution_count": 24,
   "metadata": {
    "collapsed": false
   },
   "outputs": [
    {
     "data": {
      "text/plain": [
       "6.2"
      ]
     },
     "execution_count": 24,
     "metadata": {},
     "output_type": "execute_result"
    }
   ],
   "source": [
    "6.2"
   ]
  },
  {
   "cell_type": "code",
   "execution_count": 25,
   "metadata": {
    "collapsed": false
   },
   "outputs": [
    {
     "data": {
      "text/plain": [
       "6.20000000000000"
      ]
     },
     "execution_count": 25,
     "metadata": {},
     "output_type": "execute_result"
    }
   ],
   "source": [
    "S(6.2)"
   ]
  },
  {
   "cell_type": "markdown",
   "metadata": {},
   "source": [
    "to handle fractional exponents, use S(var) on one of the ints"
   ]
  },
  {
   "cell_type": "code",
   "execution_count": 39,
   "metadata": {
    "collapsed": false
   },
   "outputs": [],
   "source": [
    "u=y**(1/2)"
   ]
  },
  {
   "cell_type": "code",
   "execution_count": 40,
   "metadata": {
    "collapsed": false
   },
   "outputs": [
    {
     "data": {
      "text/plain": [
       "1"
      ]
     },
     "execution_count": 40,
     "metadata": {},
     "output_type": "execute_result"
    }
   ],
   "source": [
    "u"
   ]
  },
  {
   "cell_type": "code",
   "execution_count": 41,
   "metadata": {
    "collapsed": false
   },
   "outputs": [],
   "source": [
    "u = y**(S(1)/S(2))"
   ]
  },
  {
   "cell_type": "code",
   "execution_count": 42,
   "metadata": {
    "collapsed": false
   },
   "outputs": [
    {
     "data": {
      "text/plain": [
       "sqrt(y)"
      ]
     },
     "execution_count": 42,
     "metadata": {},
     "output_type": "execute_result"
    }
   ],
   "source": [
    "u"
   ]
  },
  {
   "cell_type": "code",
   "execution_count": 44,
   "metadata": {
    "collapsed": false
   },
   "outputs": [
    {
     "data": {
      "text/plain": [
       "y"
      ]
     },
     "execution_count": 44,
     "metadata": {},
     "output_type": "execute_result"
    }
   ],
   "source": [
    "y"
   ]
  },
  {
   "cell_type": "markdown",
   "metadata": {},
   "source": [
    "To solve an expression, use the solve command "
   ]
  },
  {
   "cell_type": "code",
   "execution_count": 46,
   "metadata": {
    "collapsed": false
   },
   "outputs": [
    {
     "data": {
      "text/plain": [
       "[0]"
      ]
     },
     "execution_count": 46,
     "metadata": {},
     "output_type": "execute_result"
    }
   ],
   "source": [
    "solve(x**2 - x,x)"
   ]
  },
  {
   "cell_type": "markdown",
   "metadata": {},
   "source": [
    "but x was a variable, to reset this redefine x"
   ]
  },
  {
   "cell_type": "code",
   "execution_count": 47,
   "metadata": {
    "collapsed": true
   },
   "outputs": [],
   "source": [
    "x,y,z = symbols('x y z')"
   ]
  },
  {
   "cell_type": "code",
   "execution_count": 50,
   "metadata": {
    "collapsed": false
   },
   "outputs": [
    {
     "data": {
      "text/plain": [
       "[1/2]"
      ]
     },
     "execution_count": 50,
     "metadata": {},
     "output_type": "execute_result"
    }
   ],
   "source": [
    "solve(2*x - 1,x)"
   ]
  },
  {
   "cell_type": "markdown",
   "metadata": {},
   "source": [
    "or import division"
   ]
  },
  {
   "cell_type": "code",
   "execution_count": 51,
   "metadata": {
    "collapsed": true
   },
   "outputs": [],
   "source": [
    "from __future__ import division"
   ]
  },
  {
   "cell_type": "code",
   "execution_count": 52,
   "metadata": {
    "collapsed": true
   },
   "outputs": [],
   "source": [
    "x = y**(1/2)"
   ]
  },
  {
   "cell_type": "code",
   "execution_count": 53,
   "metadata": {
    "collapsed": false
   },
   "outputs": [
    {
     "data": {
      "text/plain": [
       "y**0.5"
      ]
     },
     "execution_count": 53,
     "metadata": {},
     "output_type": "execute_result"
    }
   ],
   "source": [
    "x"
   ]
  },
  {
   "cell_type": "markdown",
   "metadata": {},
   "source": [
    "to use varying precision "
   ]
  },
  {
   "cell_type": "code",
   "execution_count": 55,
   "metadata": {
    "collapsed": false
   },
   "outputs": [
    {
     "data": {
      "text/plain": [
       "1.3838429999999999342"
      ]
     },
     "execution_count": 55,
     "metadata": {},
     "output_type": "execute_result"
    }
   ],
   "source": [
    "Float(1.383843, '20')"
   ]
  },
  {
   "cell_type": "code",
   "execution_count": 56,
   "metadata": {
    "collapsed": false
   },
   "outputs": [
    {
     "data": {
      "text/plain": [
       "1.38384300000000"
      ]
     },
     "execution_count": 56,
     "metadata": {},
     "output_type": "execute_result"
    }
   ],
   "source": [
    "S(1.383843, '20')"
   ]
  },
  {
   "cell_type": "markdown",
   "metadata": {},
   "source": [
    "to make a substitution "
   ]
  },
  {
   "cell_type": "code",
   "execution_count": 59,
   "metadata": {
    "collapsed": true
   },
   "outputs": [],
   "source": [
    "x,y,z = symbols('x y z')"
   ]
  },
  {
   "cell_type": "code",
   "execution_count": 60,
   "metadata": {
    "collapsed": true
   },
   "outputs": [],
   "source": [
    "u = x**2 + 2*y + z"
   ]
  },
  {
   "cell_type": "code",
   "execution_count": 61,
   "metadata": {
    "collapsed": false
   },
   "outputs": [
    {
     "data": {
      "text/plain": [
       "x**2 + 2*y + z"
      ]
     },
     "execution_count": 61,
     "metadata": {},
     "output_type": "execute_result"
    }
   ],
   "source": [
    "u"
   ]
  },
  {
   "cell_type": "code",
   "execution_count": 62,
   "metadata": {
    "collapsed": false
   },
   "outputs": [
    {
     "ename": "NameError",
     "evalue": "name 'a' is not defined",
     "output_type": "error",
     "traceback": [
      "\u001b[1;31m---------------------------------------------------------------------------\u001b[0m",
      "\u001b[1;31mNameError\u001b[0m                                 Traceback (most recent call last)",
      "\u001b[1;32m<ipython-input-62-d10d40cf9413>\u001b[0m in \u001b[0;36m<module>\u001b[1;34m()\u001b[0m\n\u001b[1;32m----> 1\u001b[1;33m \u001b[0mu\u001b[0m\u001b[1;33m.\u001b[0m\u001b[0msubs\u001b[0m\u001b[1;33m(\u001b[0m\u001b[1;33m{\u001b[0m\u001b[0mx\u001b[0m\u001b[1;33m:\u001b[0m\u001b[0ma\u001b[0m\u001b[1;33m,\u001b[0m\u001b[0my\u001b[0m\u001b[1;33m:\u001b[0m\u001b[0mb\u001b[0m\u001b[1;33m}\u001b[0m\u001b[1;33m)\u001b[0m\u001b[1;33m\u001b[0m\u001b[0m\n\u001b[0m",
      "\u001b[1;31mNameError\u001b[0m: name 'a' is not defined"
     ]
    }
   ],
   "source": [
    "u.subs({x:a,y:b})"
   ]
  },
  {
   "cell_type": "code",
   "execution_count": 63,
   "metadata": {
    "collapsed": true
   },
   "outputs": [],
   "source": [
    "a,b = symbols('a b')"
   ]
  },
  {
   "cell_type": "code",
   "execution_count": 64,
   "metadata": {
    "collapsed": false
   },
   "outputs": [
    {
     "data": {
      "text/plain": [
       "a**2 + 2*b + z"
      ]
     },
     "execution_count": 64,
     "metadata": {},
     "output_type": "execute_result"
    }
   ],
   "source": [
    "u.subs({x:a,y:b})"
   ]
  },
  {
   "cell_type": "code",
   "execution_count": 65,
   "metadata": {
    "collapsed": false
   },
   "outputs": [
    {
     "data": {
      "text/plain": [
       "x**2 + 2*y + z"
      ]
     },
     "execution_count": 65,
     "metadata": {},
     "output_type": "execute_result"
    }
   ],
   "source": [
    "u.subs({a:2,b:3})"
   ]
  },
  {
   "cell_type": "code",
   "execution_count": 66,
   "metadata": {
    "collapsed": false
   },
   "outputs": [
    {
     "data": {
      "text/plain": [
       "z + 13"
      ]
     },
     "execution_count": 66,
     "metadata": {},
     "output_type": "execute_result"
    }
   ],
   "source": [
    "u.subs({x:3,y:2})"
   ]
  },
  {
   "cell_type": "markdown",
   "metadata": {},
   "source": [
    "to convert a string to a sympy expression"
   ]
  },
  {
   "cell_type": "code",
   "execution_count": 87,
   "metadata": {
    "collapsed": false
   },
   "outputs": [
    {
     "data": {
      "text/plain": [
       "x**2 + 3*x - 1/2"
      ]
     },
     "execution_count": 87,
     "metadata": {},
     "output_type": "execute_result"
    }
   ],
   "source": [
    "str_expr = \"x**2 + 3*x - 1/2\"\n",
    "expr = sympify(str_expr)\n",
    "expr\n"
   ]
  },
  {
   "cell_type": "markdown",
   "metadata": {},
   "source": [
    "to walk the AST in sympy "
   ]
  },
  {
   "cell_type": "code",
   "execution_count": 88,
   "metadata": {
    "collapsed": false
   },
   "outputs": [
    {
     "data": {
      "text/plain": [
       "\"Add(Pow(Symbol('x'), Integer(2)), Mul(Integer(3), Symbol('x')), Rational(-1, 2))\""
      ]
     },
     "execution_count": 88,
     "metadata": {},
     "output_type": "execute_result"
    }
   ],
   "source": [
    "srepr(expr)"
   ]
  },
  {
   "cell_type": "code",
   "execution_count": 89,
   "metadata": {
    "collapsed": false
   },
   "outputs": [
    {
     "data": {
      "text/plain": [
       "2**x"
      ]
     },
     "execution_count": 89,
     "metadata": {},
     "output_type": "execute_result"
    }
   ],
   "source": [
    "Pow(2,x)"
   ]
  },
  {
   "cell_type": "code",
   "execution_count": 90,
   "metadata": {
    "collapsed": false
   },
   "outputs": [
    {
     "data": {
      "text/plain": [
       "(-1/2, x**2, 3*x)"
      ]
     },
     "execution_count": 90,
     "metadata": {},
     "output_type": "execute_result"
    }
   ],
   "source": [
    "expr.args"
   ]
  },
  {
   "cell_type": "code",
   "execution_count": 91,
   "metadata": {
    "collapsed": false
   },
   "outputs": [
    {
     "data": {
      "text/plain": [
       "x**2 + 3*x - 1/2"
      ]
     },
     "execution_count": 91,
     "metadata": {},
     "output_type": "execute_result"
    }
   ],
   "source": [
    "expr.func(*expr.args)"
   ]
  },
  {
   "cell_type": "code",
   "execution_count": 92,
   "metadata": {
    "collapsed": false
   },
   "outputs": [
    {
     "data": {
      "text/plain": [
       "3*x"
      ]
     },
     "execution_count": 92,
     "metadata": {},
     "output_type": "execute_result"
    }
   ],
   "source": [
    "expr.args[2]"
   ]
  },
  {
   "cell_type": "code",
   "execution_count": 93,
   "metadata": {
    "collapsed": false
   },
   "outputs": [
    {
     "data": {
      "text/plain": [
       "(3, x)"
      ]
     },
     "execution_count": 93,
     "metadata": {},
     "output_type": "execute_result"
    }
   ],
   "source": [
    "expr.args[2].args"
   ]
  },
  {
   "cell_type": "code",
   "execution_count": 74,
   "metadata": {
    "collapsed": false
   },
   "outputs": [
    {
     "ename": "NameError",
     "evalue": "name 'pre' is not defined",
     "output_type": "error",
     "traceback": [
      "\u001b[1;31m---------------------------------------------------------------------------\u001b[0m",
      "\u001b[1;31mNameError\u001b[0m                                 Traceback (most recent call last)",
      "\u001b[1;32m<ipython-input-74-806086f316f1>\u001b[0m in \u001b[0;36m<module>\u001b[1;34m()\u001b[0m\n\u001b[1;32m----> 1\u001b[1;33m \u001b[0mpre\u001b[0m\u001b[1;33m(\u001b[0m\u001b[0mexpr\u001b[0m\u001b[1;33m)\u001b[0m\u001b[1;33m\u001b[0m\u001b[0m\n\u001b[0m",
      "\u001b[1;31mNameError\u001b[0m: name 'pre' is not defined"
     ]
    }
   ],
   "source": [
    "pre(expr)"
   ]
  },
  {
   "cell_type": "code",
   "execution_count": 76,
   "metadata": {
    "collapsed": false
   },
   "outputs": [],
   "source": [
    "def pre(expr):\n",
    "    print(expr)\n",
    "    for arg in expr.args:\n",
    "        pre(arg)"
   ]
  },
  {
   "cell_type": "code",
   "execution_count": 94,
   "metadata": {
    "collapsed": false
   },
   "outputs": [
    {
     "name": "stdout",
     "output_type": "stream",
     "text": [
      "x**2 + 3*x - 1/2\n",
      "-1/2\n",
      "x**2\n",
      "x\n",
      "2\n",
      "3*x\n",
      "3\n",
      "x\n"
     ]
    }
   ],
   "source": [
    "pre(expr)"
   ]
  },
  {
   "cell_type": "code",
   "execution_count": 95,
   "metadata": {
    "collapsed": false
   },
   "outputs": [
    {
     "name": "stdout",
     "output_type": "stream",
     "text": [
      "x**2 + 3*x - 1/2\n",
      "-1/2\n",
      "x**2\n",
      "x\n",
      "2\n",
      "3*x\n",
      "3\n",
      "x\n"
     ]
    }
   ],
   "source": [
    "for arg in preorder_traversal(expr):\n",
    "    print(arg)"
   ]
  },
  {
   "cell_type": "code",
   "execution_count": 96,
   "metadata": {
    "collapsed": false
   },
   "outputs": [
    {
     "data": {
      "text/plain": [
       "(3, x)"
      ]
     },
     "execution_count": 96,
     "metadata": {},
     "output_type": "execute_result"
    }
   ],
   "source": [
    "expr.args[2].args"
   ]
  },
  {
   "cell_type": "markdown",
   "metadata": {},
   "source": [
    "expression modification - expressions are immutable, so they cannot be modified, however new expressions can be created."
   ]
  },
  {
   "cell_type": "code",
   "execution_count": 110,
   "metadata": {
    "collapsed": false
   },
   "outputs": [
    {
     "data": {
      "text/plain": [
       "x**2 + x*y - 1/2"
      ]
     },
     "execution_count": 110,
     "metadata": {},
     "output_type": "execute_result"
    }
   ],
   "source": [
    "expr.args[0] + expr.args[1] + expr.args[2].subs(expr.args[2].args[0],y)"
   ]
  },
  {
   "cell_type": "code",
   "execution_count": null,
   "metadata": {
    "collapsed": true
   },
   "outputs": [],
   "source": [
    "an example of a hack code that recursively appends y when x is found"
   ]
  },
  {
   "cell_type": "code",
   "execution_count": 227,
   "metadata": {
    "collapsed": false
   },
   "outputs": [],
   "source": [
    "expr4 = []\n",
    "def edit(expr,expr3):\n",
    "    \n",
    "    for arg in expr.args:\n",
    "        print arg\n",
    "        if arg == x:\n",
    "            expr3.append(y)\n",
    "            #edit(y,expr3)\n",
    "        else:\n",
    "            if arg.args:\n",
    "                edit(arg,expr3)\n",
    "                #expr3.append(arg)\n",
    "            else:\n",
    "                expr3.append(arg)"
   ]
  },
  {
   "cell_type": "code",
   "execution_count": 226,
   "metadata": {
    "collapsed": false
   },
   "outputs": [
    {
     "name": "stdout",
     "output_type": "stream",
     "text": [
      "-1/2\n"
     ]
    },
    {
     "ename": "AttributeError",
     "evalue": "'tuple' object has no attribute 'append'",
     "output_type": "error",
     "traceback": [
      "\u001b[1;31m---------------------------------------------------------------------------\u001b[0m",
      "\u001b[1;31mAttributeError\u001b[0m                            Traceback (most recent call last)",
      "\u001b[1;32m<ipython-input-226-11130b8728ce>\u001b[0m in \u001b[0;36m<module>\u001b[1;34m()\u001b[0m\n\u001b[1;32m----> 1\u001b[1;33m \u001b[0medit\u001b[0m\u001b[1;33m(\u001b[0m\u001b[0mexpr\u001b[0m\u001b[1;33m,\u001b[0m\u001b[0mexpr4\u001b[0m\u001b[1;33m)\u001b[0m\u001b[1;33m\u001b[0m\u001b[0m\n\u001b[0m",
      "\u001b[1;32m<ipython-input-225-ff12fec461b2>\u001b[0m in \u001b[0;36medit\u001b[1;34m(expr, expr3)\u001b[0m\n\u001b[0;32m     12\u001b[0m                 \u001b[1;31m#expr3.append(arg)\u001b[0m\u001b[1;33m\u001b[0m\u001b[1;33m\u001b[0m\u001b[0m\n\u001b[0;32m     13\u001b[0m             \u001b[1;32melse\u001b[0m\u001b[1;33m:\u001b[0m\u001b[1;33m\u001b[0m\u001b[0m\n\u001b[1;32m---> 14\u001b[1;33m                 \u001b[0mexpr3\u001b[0m\u001b[1;33m.\u001b[0m\u001b[0mappend\u001b[0m\u001b[1;33m(\u001b[0m\u001b[0marg\u001b[0m\u001b[1;33m)\u001b[0m\u001b[1;33m\u001b[0m\u001b[0m\n\u001b[0m",
      "\u001b[1;31mAttributeError\u001b[0m: 'tuple' object has no attribute 'append'"
     ]
    }
   ],
   "source": [
    "edit(expr,expr4)"
   ]
  },
  {
   "cell_type": "code",
   "execution_count": 220,
   "metadata": {
    "collapsed": false
   },
   "outputs": [
    {
     "data": {
      "text/plain": [
       "[-1/2, y, 2, 3, y]"
      ]
     },
     "execution_count": 220,
     "metadata": {},
     "output_type": "execute_result"
    }
   ],
   "source": [
    "expr4"
   ]
  },
  {
   "cell_type": "code",
   "execution_count": 221,
   "metadata": {
    "collapsed": false
   },
   "outputs": [
    {
     "data": {
      "text/plain": [
       "\"[Rational(-1, 2), Symbol('y'), Integer(2), Integer(3), Symbol('y')]\""
      ]
     },
     "execution_count": 221,
     "metadata": {},
     "output_type": "execute_result"
    }
   ],
   "source": [
    "srepr(expr4)"
   ]
  },
  {
   "cell_type": "markdown",
   "metadata": {},
   "source": [
    "expr4.func"
   ]
  },
  {
   "cell_type": "code",
   "execution_count": 224,
   "metadata": {
    "collapsed": false
   },
   "outputs": [
    {
     "data": {
      "text/plain": [
       "2*y + 9/2"
      ]
     },
     "execution_count": 224,
     "metadata": {},
     "output_type": "execute_result"
    }
   ],
   "source": [
    "expr.func(*expr4)"
   ]
  },
  {
   "cell_type": "markdown",
   "metadata": {},
   "source": [
    "gaining some information on sympy expression modification from this GSOC blog\n",
    "https://jcrist.github.io/gsoc-week-7.html"
   ]
  },
  {
   "cell_type": "code",
   "execution_count": 228,
   "metadata": {
    "collapsed": true
   },
   "outputs": [],
   "source": [
    "def crawl(expr, func, *args, **kwargs):\n",
    "    \"\"\"Crawl the expression tree, and apply func to every node.\"\"\"\n",
    "    val = func(expr, *args, **kwargs)\n",
    "    if val is not None:\n",
    "        return val\n",
    "    new_args = (crawl(arg, func, *args, **kwargs) for arg in expr.args)\n",
    "    return expr.func(*new_args)\n",
    "\n",
    "def printer(expr):\n",
    "    \"\"\"Print out every node\"\"\"\n",
    "    print(expr)\n",
    "    if not expr.args:\n",
    "        return expr\n",
    "\n",
    "print_expr = lambda expr: crawl(expr, printer)"
   ]
  },
  {
   "cell_type": "code",
   "execution_count": 258,
   "metadata": {
    "collapsed": false
   },
   "outputs": [
    {
     "name": "stdout",
     "output_type": "stream",
     "text": [
      "x**2 + 3*x - 1/2\n",
      "-1/2\n",
      "x**2\n",
      "x\n",
      "2\n",
      "3*x\n",
      "3\n",
      "x\n"
     ]
    },
    {
     "data": {
      "text/plain": [
       "x**2 + 3*x - 1/2"
      ]
     },
     "execution_count": 258,
     "metadata": {},
     "output_type": "execute_result"
    }
   ],
   "source": [
    "print_expr( expr)"
   ]
  },
  {
   "cell_type": "code",
   "execution_count": 265,
   "metadata": {
    "collapsed": false
   },
   "outputs": [],
   "source": [
    "def modify_funcs(expr):\n",
    "\n",
    "    print expr.func\n",
    "\n",
    "    if not expr.args:\n",
    "        return expr   "
   ]
  },
  {
   "cell_type": "code",
   "execution_count": 266,
   "metadata": {
    "collapsed": false
   },
   "outputs": [
    {
     "name": "stdout",
     "output_type": "stream",
     "text": [
      "<class 'sympy.core.add.Add'>\n",
      "<class 'sympy.core.numbers.Rational'>\n",
      "<class 'sympy.core.power.Pow'>\n",
      "<class 'sympy.core.symbol.Symbol'>\n",
      "<class 'sympy.core.numbers.Integer'>\n",
      "<class 'sympy.core.mul.Mul'>\n",
      "<class 'sympy.core.numbers.Integer'>\n",
      "<class 'sympy.core.symbol.Symbol'>\n"
     ]
    },
    {
     "data": {
      "text/plain": [
       "x**2 + 3*x - 1/2"
      ]
     },
     "execution_count": 266,
     "metadata": {},
     "output_type": "execute_result"
    }
   ],
   "source": [
    "mod_expr = lambda expr: crawl(expr, modify_funcs)\n",
    "mod_expr(expr)"
   ]
  },
  {
   "cell_type": "code",
   "execution_count": 236,
   "metadata": {
    "collapsed": false
   },
   "outputs": [
    {
     "data": {
      "text/plain": [
       "sympy.core.power.Pow"
      ]
     },
     "execution_count": 236,
     "metadata": {},
     "output_type": "execute_result"
    }
   ],
   "source": [
    "expr.args[1].func "
   ]
  },
  {
   "cell_type": "markdown",
   "metadata": {},
   "source": [
    "to modify these maybe a tree structure is needed\n",
    "so to save time i consult stack overflow\n",
    "http://stackoverflow.com/questions/2358045/how-can-i-implement-a-tree-in-python-are-there-any-built-in-data-structures-in"
   ]
  },
  {
   "cell_type": "code",
   "execution_count": 269,
   "metadata": {
    "collapsed": false
   },
   "outputs": [
    {
     "name": "stdout",
     "output_type": "stream",
     "text": [
      "================================================================================\n",
      "Harry [harry]\n",
      "\tJane [jane]\n",
      "\t\tJoe [joe]\n",
      "\t\tDiane [diane]\n",
      "\t\t\tGeorge [george]\n",
      "\t\t\t\tJill [jill]\n",
      "\t\t\t\t\tCarol [carol]\n",
      "\t\t\tMary [mary]\n",
      "\t\tMark [mark]\n",
      "\tBill [bill]\n",
      "\t\tGrace [grace]\n",
      "================================================================================\n",
      "harry\n",
      "jane\n",
      "bill\n",
      "joe\n",
      "diane\n",
      "mark\n",
      "grace\n",
      "george\n",
      "mary\n",
      "jill\n",
      "carol\n",
      "================================================================================\n"
     ]
    }
   ],
   "source": [
    "import uuid\n",
    "\n",
    "def sanitize_id(id):\n",
    "    return id.strip().replace(\" \", \"\")\n",
    "\n",
    "(_ADD, _DELETE, _INSERT) = range(3)\n",
    "(_ROOT, _DEPTH, _WIDTH) = range(3)\n",
    "\n",
    "class Node:\n",
    "\n",
    "    def __init__(self, name, identifier=None, expanded=True):\n",
    "        self.__identifier = (str(uuid.uuid1()) if identifier is None else\n",
    "                sanitize_id(str(identifier)))\n",
    "        self.name = name\n",
    "        self.expanded = expanded\n",
    "        self.__bpointer = None\n",
    "        self.__fpointer = []\n",
    "\n",
    "    @property\n",
    "    def identifier(self):\n",
    "        return self.__identifier\n",
    "\n",
    "    @property\n",
    "    def bpointer(self):\n",
    "        return self.__bpointer\n",
    "\n",
    "    @bpointer.setter\n",
    "    def bpointer(self, value):\n",
    "        if value is not None:\n",
    "            self.__bpointer = sanitize_id(value)\n",
    "\n",
    "    @property\n",
    "    def fpointer(self):\n",
    "        return self.__fpointer\n",
    "\n",
    "    def update_fpointer(self, identifier, mode=_ADD):\n",
    "        if mode is _ADD:\n",
    "            self.__fpointer.append(sanitize_id(identifier))\n",
    "        elif mode is _DELETE:\n",
    "            self.__fpointer.remove(sanitize_id(identifier))\n",
    "        elif mode is _INSERT:\n",
    "            self.__fpointer = [sanitize_id(identifier)]\n",
    "\n",
    "class Tree:\n",
    "\n",
    "    def __init__(self):\n",
    "        self.nodes = []\n",
    "\n",
    "    def get_index(self, position):\n",
    "        for index, node in enumerate(self.nodes):\n",
    "            if node.identifier == position:\n",
    "                break\n",
    "        return index\n",
    "\n",
    "    def create_node(self, name, identifier=None, parent=None):\n",
    "\n",
    "        node = Node(name, identifier)\n",
    "        self.nodes.append(node)\n",
    "        self.__update_fpointer(parent, node.identifier, _ADD)\n",
    "        node.bpointer = parent\n",
    "        return node\n",
    "\n",
    "    def show(self, position, level=_ROOT):\n",
    "        queue = self[position].fpointer\n",
    "        if level == _ROOT:\n",
    "            print \"{0} [{1}]\".format(self[position].name,\n",
    "                                     self[position].identifier)\n",
    "        else:\n",
    "            print \"\\t\"*level, \"{0} [{1}]\".format(self[position].name,\n",
    "                                                 self[position].identifier)\n",
    "        if self[position].expanded:\n",
    "            level += 1\n",
    "            for element in queue:\n",
    "                self.show(element, level)  # recursive call\n",
    "\n",
    "    def expand_tree(self, position, mode=_DEPTH):\n",
    "        # Python generator. Loosly based on an algorithm from 'Essential LISP' by\n",
    "        # John R. Anderson, Albert T. Corbett, and Brian J. Reiser, page 239-241\n",
    "        yield position\n",
    "        queue = self[position].fpointer\n",
    "        while queue:\n",
    "            yield queue[0]\n",
    "            expansion = self[queue[0]].fpointer\n",
    "            if mode is _DEPTH:\n",
    "                queue = expansion + queue[1:]  # depth-first\n",
    "            elif mode is _WIDTH:\n",
    "                queue = queue[1:] + expansion  # width-first\n",
    "\n",
    "    def is_branch(self, position):\n",
    "        return self[position].fpointer\n",
    "\n",
    "    def __update_fpointer(self, position, identifier, mode):\n",
    "        if position is None:\n",
    "            return\n",
    "        else:\n",
    "            self[position].update_fpointer(identifier, mode)\n",
    "\n",
    "    def __update_bpointer(self, position, identifier):\n",
    "        self[position].bpointer = identifier\n",
    "\n",
    "    def __getitem__(self, key):\n",
    "        return self.nodes[self.get_index(key)]\n",
    "\n",
    "    def __setitem__(self, key, item):\n",
    "        self.nodes[self.get_index(key)] = item\n",
    "\n",
    "    def __len__(self):\n",
    "        return len(self.nodes)\n",
    "\n",
    "    def __contains__(self, identifier):\n",
    "        return [node.identifier for node in self.nodes\n",
    "                if node.identifier is identifier]\n",
    "\n",
    "if __name__ == \"__main__\":\n",
    "\n",
    "    tree = Tree()\n",
    "    tree.create_node(\"Harry\", \"harry\")  # root node\n",
    "    tree.create_node(\"Jane\", \"jane\", parent = \"harry\")\n",
    "    tree.create_node(\"Bill\", \"bill\", parent = \"harry\")\n",
    "    tree.create_node(\"Joe\", \"joe\", parent = \"jane\")\n",
    "    tree.create_node(\"Diane\", \"diane\", parent = \"jane\")\n",
    "    tree.create_node(\"George\", \"george\", parent = \"diane\")\n",
    "    tree.create_node(\"Mary\", \"mary\", parent = \"diane\")\n",
    "    tree.create_node(\"Jill\", \"jill\", parent = \"george\")\n",
    "    tree.create_node(\"Carol\", \"carol\", parent = \"jill\")\n",
    "    tree.create_node(\"Grace\", \"grace\", parent = \"bill\")\n",
    "    tree.create_node(\"Mark\", \"mark\", parent = \"jane\")\n",
    "\n",
    "    print \"=\"*80 \n",
    "    tree.show( \"harry\")\n",
    "    print \"=\"*80\n",
    "    for node in tree.expand_tree(\"harry\", mode=_WIDTH):\n",
    "        print node\n",
    "    print \"=\"*80"
   ]
  },
  {
   "cell_type": "code",
   "execution_count": 270,
   "metadata": {
    "collapsed": true
   },
   "outputs": [],
   "source": [
    "def create_test_tree():\n",
    "    tree = Tree()\n",
    "    tree.create_node(\"Harry\", \"harry\")  # root node\n",
    "    tree.create_node(\"Jane\", \"jane\", parent = \"harry\")\n",
    "    tree.create_node(\"Harry\", \"bill\", parent = \"harry\")\n",
    "    tree.create_node(\"Joe\", \"joe\", parent = \"jane\")\n",
    "    tree.create_node(\"Diane\", \"diane\", parent = \"jane\")\n",
    "    tree.create_node(\"George\", \"george\", parent = \"diane\")\n",
    "    tree.create_node(\"Mary\", \"mary\", parent = \"diane\")\n",
    "    tree.create_node(\"Jill\", \"jill\", parent = \"george\")\n",
    "    tree.create_node(\"Carol\", \"carol\", parent = \"jill\")\n",
    "    tree.create_node(\"Grace\", \"grace\", parent = \"bill\")\n",
    "    tree.create_node(\"Mark\", \"mark\", parent = \"jane\")\n",
    "\n",
    "    print \"=\"*80 \n",
    "    tree.show( \"harry\")\n",
    "    print \"=\"*80\n",
    "    for node in tree.expand_tree(\"harry\", mode=_WIDTH):\n",
    "        print node\n",
    "    print \"=\"*80"
   ]
  },
  {
   "cell_type": "markdown",
   "metadata": {},
   "source": [
    "for this to be useful, the node identifier (capital letter names) must be repeatable, for these will contain either terminal nodes or operator nodes"
   ]
  },
  {
   "cell_type": "code",
   "execution_count": 271,
   "metadata": {
    "collapsed": false
   },
   "outputs": [
    {
     "name": "stdout",
     "output_type": "stream",
     "text": [
      "================================================================================\n",
      "Harry [harry]\n",
      "\tJane [jane]\n",
      "\t\tJoe [joe]\n",
      "\t\tDiane [diane]\n",
      "\t\t\tGeorge [george]\n",
      "\t\t\t\tJill [jill]\n",
      "\t\t\t\t\tCarol [carol]\n",
      "\t\t\tMary [mary]\n",
      "\t\tMark [mark]\n",
      "\tHarry [bill]\n",
      "\t\tGrace [grace]\n",
      "================================================================================\n",
      "harry\n",
      "jane\n",
      "bill\n",
      "joe\n",
      "diane\n",
      "mark\n",
      "grace\n",
      "george\n",
      "mary\n",
      "jill\n",
      "carol\n",
      "================================================================================\n"
     ]
    }
   ],
   "source": [
    "defcreate_test_tree()"
   ]
  },
  {
   "cell_type": "code",
   "execution_count": 282,
   "metadata": {
    "collapsed": false
   },
   "outputs": [
    {
     "name": "stdout",
     "output_type": "stream",
     "text": [
      "x**2 + 3*x - 1/2\n",
      "-1/2\n",
      "{{}}\n",
      "x**2\n",
      "x\n",
      "{{}}\n",
      "2\n",
      "{{}}\n",
      "3*x\n",
      "3\n",
      "{{}}\n",
      "x\n",
      "{{}}\n"
     ]
    }
   ],
   "source": [
    "def add_nodes(expr):\n",
    "    print expr\n",
    "    if not expr.args:\n",
    "        print \"{{}}\"\n",
    "        return expr\n",
    "    #else:\n",
    "        \n",
    "\n",
    "add_nodes_lambda = lambda expr: crawl(expr, add_nodes)\n",
    "add_nodes_lambda(expr)\n",
    "        \n"
   ]
  },
  {
   "cell_type": "code",
   "execution_count": 329,
   "metadata": {
    "collapsed": false
   },
   "outputs": [
    {
     "name": "stdout",
     "output_type": "stream",
     "text": [
      "x**2 + 3*x - 1/2\n",
      "<class 'sympy.core.add.Add'>\n",
      "-1/2\n",
      "x**2\n",
      "<class 'sympy.core.power.Pow'>\n",
      "x\n",
      "2\n",
      "3*x\n",
      "<class 'sympy.core.mul.Mul'>\n",
      "3\n",
      "x\n"
     ]
    }
   ],
   "source": [
    "def add_nodes2(expr):\n",
    "    print expr\n",
    "    if not expr.args:\n",
    "        #print expr.func\n",
    "        return expr\n",
    "    else:\n",
    "        print expr.func\n",
    "    #else:\n",
    "        \n",
    "\n",
    "add_nodes2_lambda = lambda expr: crawl(expr, add_nodes2)\n",
    "test_add_nodes2 = add_nodes2_lambda(expr)"
   ]
  },
  {
   "cell_type": "code",
   "execution_count": 330,
   "metadata": {
    "collapsed": false
   },
   "outputs": [
    {
     "data": {
      "text/plain": [
       "x**2 + 3*x - 1/2"
      ]
     },
     "execution_count": 330,
     "metadata": {},
     "output_type": "execute_result"
    }
   ],
   "source": [
    "test_add_nodes2"
   ]
  },
  {
   "cell_type": "code",
   "execution_count": 332,
   "metadata": {
    "collapsed": false
   },
   "outputs": [
    {
     "name": "stdout",
     "output_type": "stream",
     "text": [
      "<class 'sympy.core.add.Add'>\n",
      "-1/2\n",
      "<class 'sympy.core.power.Pow'>\n",
      "x\n",
      "2\n",
      "<class 'sympy.core.mul.Mul'>\n",
      "3\n",
      "x\n"
     ]
    }
   ],
   "source": [
    "def add_nodes3(expr):\n",
    "    \n",
    "    if not expr.args:\n",
    "        #print expr.func\n",
    "        print expr\n",
    "        return expr\n",
    "    else:\n",
    "        print expr.func\n",
    "    #else:\n",
    "        \n",
    "\n",
    "add_nodes3_lambda = lambda expr: crawl(expr, add_nodes3)\n",
    "test_add_nodes3 = add_nodes3_lambda(expr)"
   ]
  },
  {
   "cell_type": "code",
   "execution_count": 333,
   "metadata": {
    "collapsed": false
   },
   "outputs": [
    {
     "data": {
      "text/plain": [
       "x**2 + 3*x - 1/2"
      ]
     },
     "execution_count": 333,
     "metadata": {},
     "output_type": "execute_result"
    }
   ],
   "source": [
    "test_add_nodes3"
   ]
  },
  {
   "cell_type": "code",
   "execution_count": 289,
   "metadata": {
    "collapsed": false
   },
   "outputs": [
    {
     "data": {
      "text/plain": [
       "sympy.core.add.Add"
      ]
     },
     "execution_count": 289,
     "metadata": {},
     "output_type": "execute_result"
    }
   ],
   "source": [
    "expr.func"
   ]
  },
  {
   "cell_type": "code",
   "execution_count": 291,
   "metadata": {
    "collapsed": false
   },
   "outputs": [
    {
     "data": {
      "text/plain": [
       "True"
      ]
     },
     "execution_count": 291,
     "metadata": {},
     "output_type": "execute_result"
    }
   ],
   "source": [
    "expr.func == Add"
   ]
  },
  {
   "cell_type": "code",
   "execution_count": 335,
   "metadata": {
    "collapsed": false
   },
   "outputs": [
    {
     "name": "stdout",
     "output_type": "stream",
     "text": [
      "<class 'sympy.core.mul.Mul'>\n",
      "-1/2\n",
      "<class 'sympy.core.power.Pow'>\n",
      "x\n",
      "2\n",
      "<class 'sympy.core.mul.Mul'>\n",
      "3\n",
      "x\n"
     ]
    }
   ],
   "source": [
    "def add_nodes3(expr):\n",
    "    \n",
    "    if not expr.args:\n",
    "        #print expr.func\n",
    "        print expr\n",
    "        return expr\n",
    "    else:\n",
    "        if expr.func == Add:\n",
    "            print Mul\n",
    "        else:\n",
    "            print expr.func\n",
    "    #else:\n",
    "        \n",
    "\n",
    "add_nodes3_lambda = lambda expr: crawl(expr, add_nodes3)\n",
    "test_add_nodes3 = add_nodes3_lambda(expr)"
   ]
  },
  {
   "cell_type": "markdown",
   "metadata": {},
   "source": [
    "what is a \"*kwarg\" anyway ? (from the function \"crawl\") ... the problem here is that we need crawl to assign new funcs instead of just calling a user defined function that will return optional expression args"
   ]
  },
  {
   "cell_type": "code",
   "execution_count": 324,
   "metadata": {
    "collapsed": false
   },
   "outputs": [
    {
     "name": "stdout",
     "output_type": "stream",
     "text": [
      "<class 'sympy.core.add.Add'>\n",
      "-1/2\n",
      "<class 'sympy.core.power.Pow'>\n",
      "x\n",
      "2\n",
      "<class 'sympy.core.mul.Mul'>\n",
      "3\n",
      "x\n"
     ]
    },
    {
     "data": {
      "text/plain": [
       "0"
      ]
     },
     "execution_count": 324,
     "metadata": {},
     "output_type": "execute_result"
    }
   ],
   "source": [
    "new_expr3\n",
    "def add_nodes4(expr, *new_expr):\n",
    "    \n",
    "    if not expr.args:\n",
    "        #print expr.func\n",
    "        print expr\n",
    "        return expr\n",
    "    else:\n",
    "        new_expr = expr.func(*expr.args)\n",
    "        print expr.func\n",
    "    #else:\n",
    "\n",
    "\n",
    "\n",
    "add_nodes4_lambda = lambda expr, *new_expr3: crawl(expr, add_nodes4, *new_expr3)\n",
    "add_nodes4_lambda(expr, new_expr3)\n",
    "new_expr3"
   ]
  },
  {
   "cell_type": "code",
   "execution_count": 356,
   "metadata": {
    "collapsed": false
   },
   "outputs": [
    {
     "name": "stdout",
     "output_type": "stream",
     "text": [
      "<class 'sympy.core.add.Add'>\n",
      "-1/2\n",
      "<class 'sympy.core.power.Pow'>\n",
      "x\n",
      "2\n",
      "<class 'sympy.core.mul.Mul'>\n",
      "3\n",
      "x\n"
     ]
    }
   ],
   "source": [
    "def print_expr1(expr):\n",
    "   \n",
    "    print expr.func\n",
    "    for arg in expr.args:\n",
    "        if not arg.args:\n",
    "            print arg\n",
    "        else:\n",
    "            print_expr1(arg)\n",
    "\n",
    "print_expr1(expr)"
   ]
  },
  {
   "cell_type": "code",
   "execution_count": 357,
   "metadata": {
    "collapsed": false
   },
   "outputs": [
    {
     "name": "stdout",
     "output_type": "stream",
     "text": [
      "<class 'sympy.core.mul.Mul'>\n",
      "x\n",
      "<class 'sympy.core.power.Pow'>\n",
      "y\n",
      "-1\n"
     ]
    }
   ],
   "source": [
    "c = x/y\n",
    "c.func\n",
    "print_expr1(c)"
   ]
  },
  {
   "cell_type": "markdown",
   "metadata": {},
   "source": [
    "ok we now have enough to start developing a basic Genetic programming algorithm\n",
    "Requirements\n",
    "1) Mutation Operator\n",
    "2) Crossover Operator\n",
    "\n",
    "The Crossover operator is one of the more difficult problems because this involves swapping an entire\n",
    "subtree. So starting with a basic mutation operation, we can swap out Add nodes with Mul nodes ...\n"
   ]
  },
  {
   "cell_type": "code",
   "execution_count": 359,
   "metadata": {
    "collapsed": false
   },
   "outputs": [
    {
     "name": "stdout",
     "output_type": "stream",
     "text": [
      "<class 'sympy.core.mul.Mul'>\n",
      "-1/2\n",
      "<class 'sympy.core.power.Pow'>\n",
      "x\n",
      "2\n",
      "<class 'sympy.core.mul.Mul'>\n",
      "3\n",
      "x\n"
     ]
    },
    {
     "data": {
      "text/plain": [
       "-3*x**3/2"
      ]
     },
     "execution_count": 359,
     "metadata": {},
     "output_type": "execute_result"
    }
   ],
   "source": [
    "def print_expr(expr):\n",
    "   \n",
    "    if expr.func == Add:\n",
    "        expr_func = Mul\n",
    "    else:\n",
    "        expr_func = expr.func\n",
    "        \n",
    "    print expr_func\n",
    "    for arg in expr.args:\n",
    "        if not arg.args:\n",
    "            print arg\n",
    "        else:\n",
    "            print_expr(arg)\n",
    "\n",
    "    return expr_func(*expr.args)\n",
    "\n",
    "new_test = print_expr(expr)\n",
    "\n",
    "#print the new modified expression\n",
    "new_test"
   ]
  },
  {
   "cell_type": "code",
   "execution_count": 360,
   "metadata": {
    "collapsed": false
   },
   "outputs": [
    {
     "data": {
      "text/plain": [
       "[1, 5, 4, 6, 1, 6, 2, 4, 4, 1]"
      ]
     },
     "execution_count": 360,
     "metadata": {},
     "output_type": "execute_result"
    }
   ],
   "source": [
    "#so ... the next task is to import random numbers ...\n",
    "import random\n",
    "[ random.randint(1, 6) for _ in range(10) ]\n",
    "\n"
   ]
  },
  {
   "cell_type": "code",
   "execution_count": null,
   "metadata": {
    "collapsed": true
   },
   "outputs": [],
   "source": [
    "\n",
    "\n",
    "def create_test_tree(expr):\n",
    "    tree = Tree()\n",
    "    tree.create_node(\"op\", expr.func)\n",
    "    #for arg\n",
    "    tree.create_node(\"Harry\", \"harry\")  # root node\n",
    "    tree.create_node(\"Jane\", \"jane\", parent = \"harry\")\n",
    "    tree.create_node(\"Harry\", \"bill\", parent = \"harry\")\n",
    "    tree.create_node(\"Joe\", \"joe\", parent = \"jane\")\n",
    "    tree.create_node(\"Diane\", \"diane\", parent = \"jane\")\n",
    "    tree.create_node(\"George\", \"george\", parent = \"diane\")\n",
    "    tree.create_node(\"Mary\", \"mary\", parent = \"diane\")\n",
    "    tree.create_node(\"Jill\", \"jill\", parent = \"george\")\n",
    "    tree.create_node(\"Carol\", \"carol\", parent = \"jill\")\n",
    "    tree.create_node(\"Grace\", \"grace\", parent = \"bill\")\n",
    "    tree.create_node(\"Mark\", \"mark\", parent = \"jane\")\n",
    "\n",
    "    print \"=\"*80 \n",
    "    tree.show( \"harry\")\n",
    "    print \"=\"*80\n",
    "    for node in tree.expand_tree(\"harry\", mode=_WIDTH):\n",
    "        print node\n",
    "    print \"=\"*80"
   ]
  },
  {
   "cell_type": "code",
   "execution_count": null,
   "metadata": {
    "collapsed": true
   },
   "outputs": [],
   "source": []
  },
  {
   "cell_type": "markdown",
   "metadata": {},
   "source": [
    "unevaluated expressions "
   ]
  },
  {
   "cell_type": "code",
   "execution_count": 82,
   "metadata": {
    "collapsed": false
   },
   "outputs": [],
   "source": [
    "\n",
    "expr = Add(x, x, evaluate=False)"
   ]
  },
  {
   "cell_type": "code",
   "execution_count": 83,
   "metadata": {
    "collapsed": false
   },
   "outputs": [
    {
     "data": {
      "text/plain": [
       "x + x"
      ]
     },
     "execution_count": 83,
     "metadata": {},
     "output_type": "execute_result"
    }
   ],
   "source": [
    "expr"
   ]
  },
  {
   "cell_type": "code",
   "execution_count": 84,
   "metadata": {
    "collapsed": false
   },
   "outputs": [
    {
     "data": {
      "text/plain": [
       "x + x"
      ]
     },
     "execution_count": 84,
     "metadata": {},
     "output_type": "execute_result"
    }
   ],
   "source": [
    "sympify(\"x + x\", evaluate=False)"
   ]
  },
  {
   "cell_type": "code",
   "execution_count": 85,
   "metadata": {
    "collapsed": false
   },
   "outputs": [
    {
     "data": {
      "text/plain": [
       "3*x"
      ]
     },
     "execution_count": 85,
     "metadata": {},
     "output_type": "execute_result"
    }
   ],
   "source": [
    "x+expr"
   ]
  },
  {
   "cell_type": "code",
   "execution_count": null,
   "metadata": {
    "collapsed": true
   },
   "outputs": [],
   "source": []
  }
 ],
 "metadata": {
  "kernelspec": {
   "display_name": "Python 2",
   "language": "python",
   "name": "python2"
  },
  "language_info": {
   "codemirror_mode": {
    "name": "ipython",
    "version": 2
   },
   "file_extension": ".py",
   "mimetype": "text/x-python",
   "name": "python",
   "nbconvert_exporter": "python",
   "pygments_lexer": "ipython2",
   "version": "2.7.10"
  }
 },
 "nbformat": 4,
 "nbformat_minor": 0
}
