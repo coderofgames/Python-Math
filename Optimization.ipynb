{
 "cells": [
  {
   "cell_type": "markdown",
   "metadata": {},
   "source": [
    "<h1> Linear Programming </h1><br>\n",
    "This notebook is for linear programming using scipy and pulp. Several simple optimization problems are covered for the purpose of illustration and to learn how to use python for this task."
   ]
  },
  {
   "cell_type": "code",
   "execution_count": 1,
   "metadata": {
    "collapsed": true
   },
   "outputs": [],
   "source": [
    "c = [-1, 4]"
   ]
  },
  {
   "cell_type": "code",
   "execution_count": 2,
   "metadata": {
    "collapsed": true
   },
   "outputs": [],
   "source": [
    "A = [[-3, 1], [1, 2]]"
   ]
  },
  {
   "cell_type": "code",
   "execution_count": 3,
   "metadata": {
    "collapsed": true
   },
   "outputs": [],
   "source": [
    "b = [6, 4]"
   ]
  },
  {
   "cell_type": "code",
   "execution_count": 7,
   "metadata": {
    "collapsed": true
   },
   "outputs": [],
   "source": [
    "x0_bounds = (None, None)"
   ]
  },
  {
   "cell_type": "code",
   "execution_count": 8,
   "metadata": {
    "collapsed": false
   },
   "outputs": [
    {
     "name": "stdout",
     "output_type": "stream",
     "text": [
      "Optimization terminated successfully.\n",
      "         Current function value: -22.000000  \n",
      "         Iterations: 1\n"
     ]
    }
   ],
   "source": [
    "x1_bounds = (-3, None)\n",
    "from scipy.optimize import linprog\n",
    "res = linprog(c, A_ub=A, b_ub=b, bounds=(x0_bounds, x1_bounds),options={\"disp\": True})"
   ]
  },
  {
   "cell_type": "code",
   "execution_count": 9,
   "metadata": {
    "collapsed": false
   },
   "outputs": [
    {
     "name": "stdout",
     "output_type": "stream",
     "text": [
      "     fun: -22.0\n",
      " message: 'Optimization terminated successfully.'\n",
      "     nit: 1\n",
      "   slack: array([ 39.,   0.])\n",
      "  status: 0\n",
      " success: True\n",
      "       x: array([ 10.,  -3.])\n"
     ]
    }
   ],
   "source": [
    "print(res)"
   ]
  },
  {
   "cell_type": "markdown",
   "metadata": {},
   "source": [
    "<h2>Example 1</h2><br>\n",
    "Three products are processed through three different operations. The time in munutes required per unit of each product, \n",
    "the daily capacity of the operations (in minutes per day) and the profit per unit sold of each product (in pounds) are as given\n",
    "in the table.\n",
    "The zero times indicate that the product does not require the given operation. It is assumed that all units produced\n",
    "are sold. The given profits per unit are net values that result after all pertinent expenses are deducted. Formulate a linear \n",
    "programming model that fits the daily production. <br> <br>\n",
    "<table>\n",
    "<tr></tr>\n",
    "<tr>\n",
    "    <td> Operation </td><td> Product 1 </td><td> Product 2 </td><td> Product 3 </td><td> Operation capcity (minutes/day </td>\n",
    "</tr>\n",
    "<tr>\n",
    "    <td> 1 </td><td> 2 </td><td> 1 </td><td> 1 </td><td> 360 </td>\n",
    "</tr>\n",
    "<tr>\n",
    "    <td> 2 </td><td> 0 </td><td> 3 </td><td> 2 </td><td> 330 </td>\n",
    "</tr>\n",
    "<tr>\n",
    "    <td> 3 </td><td> 4 </td><td> 1 </td><td> 0 </td><td> 320 </td>\n",
    "</tr>\n",
    "<tr>\n",
    "    <td> Profit/unit (£) </td><td> 3 </td><td> 2 </td><td> 4 </td><td>  </td>\n",
    "</tr>\n",
    "</table>"
   ]
  },
  {
   "cell_type": "markdown",
   "metadata": {},
   "source": [
    "Solution: We require<br>\n",
    "(1) the variables. <br>\n",
    "(2) the objective function. <br>\n",
    "(3) the constraints.\n",
    "   <br><br> The variables are the daily number of units to be manufactured for each product.\n",
    "   <br> \n",
    "   <br>The number of units produced of products 1, 2 and 3 are denoted $x_1, x_2, x_3$ <br> The total profit in pounds is <br>\n",
    "   $$x_0 = 3x_1 + 2x_2+4x_3 \\quad (1)$$ <br>\n",
    "   The constraints of the problem must ensure that the total processing time required by all produced units does not exceed the daily capacity of each operation. <br>\n",
    "   $$2x_1 + 1x_2+1x_3 \\leq 360 $$ <br>\n",
    "   $$0x_1 + 3x_2+2x_3 \\leq 330 $$ <br>\n",
    "   $$4x_1 + 1x_2+0x_3 \\leq 320 $$ <br>\n",
    "   and <br> $$x_1 \\gt 0,x_2\\gt 0, x_3\\gt0  $$ <br>\n",
    "   <br> So the task is to maximize (1) subject to the constraints."
   ]
  },
  {
   "cell_type": "code",
   "execution_count": 28,
   "metadata": {
    "collapsed": false
   },
   "outputs": [
    {
     "name": "stdout",
     "output_type": "stream",
     "text": [
      "Optimization terminated successfully.\n",
      "         Current function value: -900.000000 \n",
      "         Iterations: 2\n"
     ]
    }
   ],
   "source": [
    "X0 = [-3., -2.,-4.]\n",
    "A1 = [[2.0, 1.0, 1.0],[0, 3.0, 2.0],[ 4.0, 1.0, 0]]\n",
    "\n",
    "B1 = [360., 330., 320.]\n",
    "x0_bounds = (0., None)\n",
    "x1_bounds = (0., None)\n",
    "x2_bounds = (0., None)\n",
    "from scipy.optimize import linprog\n",
    "res = linprog(X0, A_ub=A1, b_ub=B1,options={\"disp\": True, \"maxiter\":3})"
   ]
  },
  {
   "cell_type": "code",
   "execution_count": 4,
   "metadata": {
    "collapsed": false
   },
   "outputs": [
    {
     "name": "stdout",
     "output_type": "stream",
     "text": [
      "     fun: -900.0\n",
      " message: 'Optimization terminated successfully.'\n",
      "     nit: 2\n",
      "   slack: array([ 35.,   0.,   0.])\n",
      "  status: 0\n",
      " success: True\n",
      "       x: array([  80.,    0.,  165.])\n"
     ]
    }
   ],
   "source": [
    "print(res)"
   ]
  },
  {
   "cell_type": "markdown",
   "metadata": {},
   "source": [
    "I will assume that this means we produce 80 of product 1 and 165 of product 3, the profit is optimal at £900"
   ]
  },
  {
   "cell_type": "code",
   "execution_count": 7,
   "metadata": {
    "collapsed": false
   },
   "outputs": [
    {
     "data": {
      "text/plain": [
       "900"
      ]
     },
     "execution_count": 7,
     "metadata": {},
     "output_type": "execute_result"
    }
   ],
   "source": [
    "80 * 3 +165*4"
   ]
  },
  {
   "cell_type": "code",
   "execution_count": 9,
   "metadata": {
    "collapsed": false
   },
   "outputs": [],
   "source": [
    "timeForOp1Prod1 = 2*80"
   ]
  },
  {
   "cell_type": "code",
   "execution_count": 10,
   "metadata": {
    "collapsed": true
   },
   "outputs": [],
   "source": [
    "timeForOp3Prod1 = 4*80"
   ]
  },
  {
   "cell_type": "code",
   "execution_count": 11,
   "metadata": {
    "collapsed": true
   },
   "outputs": [],
   "source": [
    "timeForOp1Prod3 = 165"
   ]
  },
  {
   "cell_type": "code",
   "execution_count": 12,
   "metadata": {
    "collapsed": true
   },
   "outputs": [],
   "source": [
    "timeForOp2Prod3 = 2*165"
   ]
  },
  {
   "cell_type": "code",
   "execution_count": 13,
   "metadata": {
    "collapsed": true
   },
   "outputs": [],
   "source": [
    "times=[ timeForOp1Prod1+timeForOp1Prod3,timeForOp2Prod3, timeForOp3Prod1]"
   ]
  },
  {
   "cell_type": "code",
   "execution_count": 14,
   "metadata": {
    "collapsed": false
   },
   "outputs": [
    {
     "data": {
      "text/plain": [
       "[325, 330, 320]"
      ]
     },
     "execution_count": 14,
     "metadata": {},
     "output_type": "execute_result"
    }
   ],
   "source": [
    "times"
   ]
  },
  {
   "cell_type": "markdown",
   "metadata": {},
   "source": [
    "It is clear that after 2 iterations the linear solver is almost optimal, the values should be integers becase you cannot make half of a product. The people working in operation 1 get an extra tea break"
   ]
  },
  {
   "cell_type": "code",
   "execution_count": null,
   "metadata": {
    "collapsed": true
   },
   "outputs": [],
   "source": []
  },
  {
   "cell_type": "markdown",
   "metadata": {},
   "source": [
    "<h2> Example 2 </h2>\n",
    "<p> One application of linear programming deals with the search for optimal feed mix for an animal or group of animals at the least cost. \n",
    "The constraints of the model include <br>\n",
    "(1) The daily nutrition requirements of the animal <br>\n",
    "(2) The physical limitations, e.g supply (ignored here), taste, etc. <br>\n",
    "The objective is to minimize the total cost of a batch of the feed mix while the ensuring the animal gets the correct nutrition and the constraints are satisfied. <br>\n",
    "<br> Assuming the required daily batch of the feed mix is 100 pounds. The diet must contain <br>\n",
    "1) Between 0.9 percent calcium and 2.2 percent calcium <br>\n",
    "2) At least 25 percent protein <br>\n",
    "3) At most 5% percent fibre.\n",
    "<br><br>\n",
    "The main ingredients or feedstuffs used include limestone (calcium carbonate), grain, and soya. The nutritive content of these ingredients is summarized in the table\n",
    "<br><br>\n",
    "<table>\n",
    "<tr>\n",
    "    <th>ingredient</th>\n",
    "    <th>calcium</th>\n",
    "    <th>protein</th>\n",
    "    <th>fibre</th>\n",
    "    <th>cost(£) per pound </th>\n",
    "</tr>\n",
    "<tr>\n",
    "    <td> limestone </td>   <td>0.3</td> <td>0.00</td> <td>0.00</td><td>0.02</td>\n",
    "</tr>\n",
    "<tr>\n",
    "    <td> grain </td>   <td>0.001</td> <td>0.075</td> <td>0.02</td><td>0.045</td>\n",
    "</tr>\n",
    "<tr>\n",
    "    <td> soya </td>   <td>0.004</td> <td>0.5</td> <td>0.1</td><td>0.095</td>\n",
    "</tr>\n",
    "</table>"
   ]
  },
  {
   "cell_type": "markdown",
   "metadata": {},
   "source": [
    "Solution: Let $x_1,x_2,x_3$ be the amounts (in pounds of weight) of limestone corn and soybean meal used in producing the feed mix batch of 100 pounds. Then the linear programming model becomes\n",
    "    <br>\n",
    "    $$x_0 = 0.02x_1+0.045x_2+0.095x_3$$\n",
    "    <br><br>\n",
    "    subject to the constraints $$x_1+x_2+x_3 = 100$$ <br>\n",
    "    $$ 0.3x_1+0.001x_2+0.004x_3 \\leq 0.022 \\times 100$$ <br>\n",
    "    $$ 0.3x_1+0.001x_2+0.004x_3 \\geq 0.009 \\times 100$$ <br>\n",
    "    $$ 0.075x_2+0.5x_3 \\leq 0.25 \\times 100$$ <br>\n",
    "    $$ 0.02x_2+0.1x_3 \\leq 0.05 \\times 100$$ <br>\n",
    "     $$ x_1,x_2,x_3 \\geq 0$$ <br>\n",
    "\n",
    "    "
   ]
  },
  {
   "cell_type": "code",
   "execution_count": 15,
   "metadata": {
    "collapsed": false
   },
   "outputs": [
    {
     "name": "stdout",
     "output_type": "stream",
     "text": [
      "Optimization terminated successfully.\n",
      "         Current function value: 0.060000    \n",
      "         Iterations: 1\n",
      "     fun: 0.059999999999999998\n",
      " message: 'Optimization terminated successfully.'\n",
      "     nit: 1\n",
      "   slack: array([ 97. ,   1.3,  25. ,   5. ,   0. ])\n",
      "  status: 0\n",
      " success: True\n",
      "       x: array([ 3.,  0.,  0.])\n"
     ]
    }
   ],
   "source": [
    "X0 = [0.02,0.045,0.095]\n",
    "A=[[1,1,1],[0.3,0.001,0.004],[-0.3,-0.001,-0.004],[0.0,0.075,0.5],[0.0,0.02,0.1]]\n",
    "b=[100,2.2,-0.9,25,5]\n",
    "res = linprog(X0, A_ub=A, b_ub=b,options={\"disp\": True, \"maxiter\":3})\n",
    "print res"
   ]
  },
  {
   "cell_type": "code",
   "execution_count": 16,
   "metadata": {
    "collapsed": false
   },
   "outputs": [
    {
     "name": "stdout",
     "output_type": "stream",
     "text": [
      "     fun: 0.059999999999999998\n",
      " message: 'Optimization terminated successfully.'\n",
      "     nit: 1\n",
      "   slack: array([ 97. ,   1.3,  25. ,   5. ,   0. ])\n",
      "  status: 0\n",
      " success: True\n",
      "       x: array([ 3.,  0.,  0.])\n"
     ]
    }
   ],
   "source": [
    "print res"
   ]
  },
  {
   "cell_type": "markdown",
   "metadata": {},
   "source": [
    "This result can be easily tested to be false, because the sum of the components of the x array do not add up to 100, as the first constraint is supposed to stipulate. This shall be fixed after subsequent examples."
   ]
  },
  {
   "cell_type": "markdown",
   "metadata": {},
   "source": [
    "<h2>Example 3</h2><br>\n",
    "<p> A factory has 3 machines, M1, M2, and M3 used in making 2 products P1 and P2. One unit of P1 occupies M1 6 minutes, M2 4 minutes, and M3 2 minutes. The corresponding figures for one unit of P2 are: M1 1 minute, M2 3 minutes, M3 5 minutes. The net profit per unit of P1 produced is 6 pounds, and the net profit of each unit of p2 produced is 4 pounds. What production plan gives the most profit.</p> "
   ]
  },
  {
   "cell_type": "markdown",
   "metadata": {},
   "source": [
    "Ans: The problem is to maximize <br> $f=6x_1+4x_2$ <br>\n",
    "subject to the constraints <br>\n",
    "$6x_1+x_2 \\leq 60$<br>\n",
    "$4x_1+3x_2 \\leq 60$<br>\n",
    "$2x_1+5x_2 \\leq 60$<br>\n",
    "and $x_1,x_2 \\geq 0$\n",
    "\n",
    "This can also be expressed in matrix form <br>\n",
    "$x_0=6x_1+4x_2$ <br><br>\n",
    "$\\mathbf {Ax}\\leq\\mathbf b$ <br><br>\n",
    "$ \\begin{pmatrix} 6&1\\\\4&3\\\\2&5\\end{pmatrix}\\begin{pmatrix} x_1\\\\x_2\\end{pmatrix}\\leq\\begin{pmatrix}60\\\\ 60\\\\ 60 \\end{pmatrix} $\n",
    "\n",
    "<br>\n",
    "And as the problem is to Maximize, the input function array must have negative coefficients [-6,-4] because the linprog function <i>minimizes</i>\n",
    "\n",
    "<p style=\"color:red\"> The Rows of the A matrix correspond to machine M1, M2 and M3 while the columns correspond to the products they produce </p> "
   ]
  },
  {
   "cell_type": "code",
   "execution_count": 29,
   "metadata": {
    "collapsed": false
   },
   "outputs": [
    {
     "name": "stdout",
     "output_type": "stream",
     "text": [
      "Optimization terminated successfully.\n",
      "         Current function value: -85.714286  \n",
      "         Iterations: 2\n"
     ]
    }
   ],
   "source": [
    "X0 = [-6,-4]\n",
    "A=[[6,1],[4,3],[2,5]]\n",
    "b=[60,60,60]\n",
    "res = linprog(X0, A_ub=A, b_ub=b,options={\"disp\": True, \"maxiter\":3},callback = lambda *x,**kwargs: None)"
   ]
  },
  {
   "cell_type": "code",
   "execution_count": 30,
   "metadata": {
    "collapsed": false
   },
   "outputs": [
    {
     "name": "stdout",
     "output_type": "stream",
     "text": [
      "     fun: -85.714285714285722\n",
      " message: 'Optimization terminated successfully.'\n",
      "     nit: 2\n",
      "   slack: array([ 0.,  0.,  0.])\n",
      "  status: 0\n",
      " success: True\n",
      "       x: array([ 8.57142857,  8.57142857])\n"
     ]
    }
   ],
   "source": [
    "print res"
   ]
  },
  {
   "cell_type": "markdown",
   "metadata": {},
   "source": [
    "The maximal profit is therefore 80 £/hour, the values of $x_1,x_2$ are [8.57142857,  8.57142857], below is a graphical plot of the constraints, the solution space is the purple shaded region representing the intersection of the 3 spaces (x's >0)"
   ]
  },
  {
   "cell_type": "code",
   "execution_count": 37,
   "metadata": {
    "collapsed": false
   },
   "outputs": [
    {
     "data": {
      "text/plain": [
       "(0, 20)"
      ]
     },
     "execution_count": 37,
     "metadata": {},
     "output_type": "execute_result"
    },
    {
     "data": {
      "image/png": "[encoded data removed]",
      "text/plain": [
       "<matplotlib.figure.Figure at 0xb486fd0>"
      ]
     },
     "metadata": {},
     "output_type": "display_data"
    }
   ],
   "source": [
    "import matplotlib.mlab as mlab\n",
    "from matplotlib.pyplot import figure, show\n",
    "import matplotlib.pyplot as plt\n",
    "import numpy as np\n",
    "%matplotlib inline\n",
    "\n",
    "x = np.arange(0.0, 20, 0.01)\n",
    "y1 = -6*x + 60\n",
    "y2 = (-3*x+60)/3\n",
    "y3=(-5*x+60)/2\n",
    "\n",
    "fig = figure()\n",
    "ax1 = fig.add_subplot(111)\n",
    "\n",
    "marker_style = dict(color='cornflowerblue', linestyle=':', marker='o',\n",
    "                    markersize=3, markerfacecoloralt='gray')\n",
    "\n",
    "\n",
    "plt.plot(8.57142857,  8.57142857,'-gD',**marker_style)\n",
    "\n",
    "ax1.fill_between(x, 0, y1, facecolor='green', alpha=0.2)\n",
    "ax1.fill_between(x, 0, y2, facecolor='red', alpha=0.2)\n",
    "ax1.fill_between(x, 0, y3, facecolor='blue', alpha=0.2)\n",
    "#ax1.fill(x, y1, 'b', x, y2, 'r', x, y3, 'g', alpha=0.3)\n",
    "ax1.set_ylim([0,60])\n",
    "ax1.set_xlim([0,20])\n"
   ]
  },
  {
   "cell_type": "markdown",
   "metadata": {},
   "source": [
    "<h2>Example 4</h2><br>\n",
    "A manufacturer makes a line of houshold products from sheet metal. He makes 4 products and that his production system consists of 5 production centers: stamping, drilling, asssembly, finishing, and packaging. For 1 month he must decide how much of each product to manufacture. He has assembled the data shown in tables 1 and 2. He knows that only 3000 square feet of the sheet metal used in products 2 and 4 will be available during the month. Product 2 requires 3.0 square feet per unit and product 4 uses 1.7 square feet per unit.\n",
    "\n",
    "<br> formuate this as a linear programming model <br>\n",
    "<h2> Table 1         Production data </h2>\n",
    "<table>\n",
    "<tr>\n",
    "    <th>DEPARTMENT</th>\n",
    "    <th>PRODUCT 1</th>\n",
    "    <th>PRODUCT 2</th>\n",
    "    <th>PRODUCT 3</th>\n",
    "    <th>PRODUCT 4</th>\n",
    "    <th>PRODUCTION HOURS AVAIlABLE</th>\n",
    "</tr>\n",
    "<tr>\n",
    "    <td>Stamping</td>\n",
    "    <td>0.15</td>\n",
    "    <td>0.03</td>\n",
    "    <td>0.05</td>\n",
    "    <td>0.1</td>\n",
    "    <td>750</td>\n",
    "</tr>\n",
    "<tr>\n",
    "    <td>Drilling</td>\n",
    "    <td>0.12</td>\n",
    "    <td>0.06</td>\n",
    "    <td>-</td>\n",
    "    <td>0.1</td>\n",
    "    <td>700</td>\n",
    "</tr>\n",
    "<tr>\n",
    "    <td>Assembly</td>\n",
    "    <td>0.2</td>\n",
    "    <td>0.04</td>\n",
    "    <td>0.03</td>\n",
    "    <td>0.12</td>\n",
    "    <td>875</td>\n",
    "</tr>\n",
    "<tr>\n",
    "    <td>Finishing</td>\n",
    "\n",
    "    <td>0.1</td>\n",
    "    <td>-</td>\n",
    "    <td>0.05</td>\n",
    "    <td>0.12</td>    \n",
    "    <td>900</td>\n",
    "</tr>\n",
    "<tr>\n",
    "    <td>Packaging</td>\n",
    "    <td>0.06</td>\n",
    "    <td>0.02</td>\n",
    "    <td>0.02</td>\n",
    "    <td>0.05</td>\n",
    "    <td>800</td>\n",
    "</tr>\n",
    "</table>\n",
    "<br><br>\n",
    "<h2> Table 2         Product data </h2>\n",
    "<table>\n",
    "<tr>\n",
    "    <th>PRODUCT</th>\n",
    "    <th>NET SELLING (PRICE/UNIT)</th>\n",
    "    <th>VARIABLE (COST/UNIT)</th>\n",
    "    <th>MINIMUM</th>\n",
    "    <th>MAXIMUM</th>\n",
    "\n",
    "</tr>\n",
    "<tr>\n",
    "    <td>1</td>\n",
    "    <td>£12</td>\n",
    "    <td>£7</td>\n",
    "    <td>800</td>\n",
    "    <td>4000</td>\n",
    "\n",
    "</tr>\n",
    "<tr>\n",
    "    <td>2</td>\n",
    "    <td>22</td>\n",
    "    <td>12</td>\n",
    "    <td>-</td>\n",
    "    <td>1500</td>\n",
    "\n",
    "</tr>\n",
    "<tr>\n",
    "    <td>3</td>\n",
    "    <td>19</td>\n",
    "    <td>12</td>\n",
    "    <td>500</td>\n",
    "    <td>3000</td>\n",
    "\n",
    "</tr>\n",
    "<tr>\n",
    "    <td>4</td>\n",
    "    <td>23</td>\n",
    "    <td>14</td>\n",
    "    <td>100</td>\n",
    "    <td>1000</td>\n",
    "\n",
    "</tr>\n",
    "\n",
    "</table>\n",
    "\n"
   ]
  },
  {
   "cell_type": "markdown",
   "metadata": {},
   "source": [
    "Solution: <br>\n",
    "Let $x_i$ be the number of units of unit of product $i$ produced in the month and $Z$ be the total contribution to profit and overhead. The problem is to choose non-negative $x_1,x_2,x_3,x_4$ to maximize the fixed cost, that is the net selling price minus the varisble cost<br>\n",
    "$Z=5x_1 +10x_2+5x_3+9x_4$ <br>\n",
    "<br>and subject to the constraints on product hours for each department <br>\n",
    "\n",
    "$0.15x_1+0.03x_2+0.05x_3+0.1x_4\\leq750$                    Stamping<br>\n",
    "$0.12x_1+0.06x_2\\qquad\\quad+0.1x_4\\leq700$                    Drilling<<br>\n",
    "$0.2x_1+0.04x_2+0.03x_3+0.12x_4\\leq875$                    Assembly<br>\n",
    "$0.1x_1\\qquad\\quad+0.05x_3+0.12x_4\\leq900$                    Finishing<br>\n",
    "$0.06x_1+0.02x_2+0.02x_3+0.05x_4\\leq800$                   Packaging<br>\n",
    "\n",
    "<br>\n",
    "There is also a constraint on sheet metal availability. <br>\n",
    "$3.0x_2+1.7x_4\\leq 3000$\n",
    "<br>\n",
    "with the following bounds <br>\n",
    "$800\\leq x_1\\leq4000$<br>\n",
    "$0\\leq x_2\\leq1500$<br>\n",
    "$500\\leq x_3\\leq3000$<br>\n",
    "$100\\leq x_4\\leq1000$<br>"
   ]
  },
  {
   "cell_type": "code",
   "execution_count": 19,
   "metadata": {
    "collapsed": false
   },
   "outputs": [
    {
     "name": "stdout",
     "output_type": "stream",
     "text": [
      "Optimization terminated successfully.\n",
      "         Current function value: -44525.000000\n",
      "         Iterations: 8\n"
     ]
    }
   ],
   "source": [
    "Z=[-5, -10, -5, -9, 0]\n",
    "A=[[0.15, 0.03, 0.05, 0.1, 0.0],\n",
    "   [0.12, 0.06, 0.0, 0.1, 0.0],\n",
    "   [0.2, 0.04, 0.03, 0.12, 0.0],\n",
    "   [0.1, 0.0, 0.05, 0.12, 0.0],\n",
    "   [0.06, 0.02, 0.02, 0.05, 0.0],\n",
    "   [0.0, 3.0, 0.0, 1.7, 0.0]]\n",
    "b=[750, 700, 875, 900, 800, 3000]\n",
    "x1_bounds = (800, 4000)\n",
    "x2_bounds = (0, 1500)\n",
    "x3_bounds = (500, 3000)\n",
    "x4_bounds = (100, 1000)\n",
    "x5_bounds = (0, 0)\n",
    "res = linprog(Z, A_ub=A, b_ub=b, bounds=(x1_bounds, x2_bounds,x3_bounds,x4_bounds,x5_bounds),options={\"disp\": True})"
   ]
  },
  {
   "cell_type": "code",
   "execution_count": 20,
   "metadata": {
    "collapsed": false
   },
   "outputs": [
    {
     "name": "stdout",
     "output_type": "stream",
     "text": [
      "     fun: -44525.0\n",
      " message: 'Optimization terminated successfully.'\n",
      "     nit: 8\n",
      "   slack: array([  1.25000000e+00,   1.85400000e+02,   0.00000000e+00,\n",
      "         3.06166667e+02,   4.87033333e+02,   0.00000000e+00,\n",
      "         2.43833333e+03,   7.61666667e+02,   0.00000000e+00,\n",
      "         2.50000000e+03,   0.00000000e+00,   9.00000000e+02,\n",
      "         0.00000000e+00,   0.00000000e+00])\n",
      "  status: 0\n",
      " success: True\n",
      "       x: array([ 3238.33333333,   433.33333333,  3000.        ,  1000.        ,\n",
      "           0.        ])\n"
     ]
    }
   ],
   "source": [
    "print res"
   ]
  },
  {
   "cell_type": "markdown",
   "metadata": {},
   "source": [
    "<br><br><h2>Revisiting example 2 </h2><br>\n",
    "We can exress the equality $x_1+x_2+x_3=100$ as another row in the A matrix, by inserting two expressions <br>\n",
    "$x_1+x_2+x_3\\leq101$ <br>\n",
    "$-x_1-x_2-x_3\\leq-99$\n",
    "<br><br>\n",
    "and padding the A matrix with extra columns of zeros to make it square. This answer will only ever approximate the correct solution, so to be correct to several significant figures we can use numbers like 100.000001 and 99.999999"
   ]
  },
  {
   "cell_type": "code",
   "execution_count": 21,
   "metadata": {
    "collapsed": false
   },
   "outputs": [
    {
     "name": "stdout",
     "output_type": "stream",
     "text": [
      "Optimization terminated successfully.\n",
      "         Current function value: 4.324415    \n",
      "         Iterations: 3\n"
     ]
    }
   ],
   "source": [
    "X0 = [0.02,0.045,0.095]\n",
    "A=[[1,1,1],[0.3,0.001,0.004],[-0.3,-0.001,-0.004],[0.0,0.075,0.5],[0.0,0.02,0.1]]\n",
    "b=[100,2.2,-0.9,25,5]\n",
    "\n",
    "X0 = [0.02,0.045,0.095,0.0,0.0,0.0]\n",
    "\n",
    "A=[[ 1  ,1,     1      ,0,0,0],\n",
    "   [-1  ,-1   ,-1      ,0,0,0],\n",
    "   [0.3, 0.001, 0.004 ,0,0,0],\n",
    "   [-0.3,-0.001,-0.004,0,0,0],\n",
    "   [0.0,0.075,0.5   ,0,0,0],\n",
    "   [0.0,0.02,0.1  ,0,0,0]]\n",
    "\n",
    "b=[100.01,-100.00,2.2,-0.9,25.0,5.0]\n",
    "res = linprog(X0, A_ub=A, b_ub=b,options={\"disp\": True})"
   ]
  },
  {
   "cell_type": "code",
   "execution_count": 22,
   "metadata": {
    "collapsed": false
   },
   "outputs": [
    {
     "name": "stdout",
     "output_type": "stream",
     "text": [
      "     fun: 4.3244147157190636\n",
      " message: 'Optimization terminated successfully.'\n",
      "     nit: 3\n",
      "   slack: array([  1.00000000e-02,   0.00000000e+00,   1.80267559e+01,\n",
      "         3.14046823e+00,   0.00000000e+00,   0.00000000e+00])\n",
      "  status: 0\n",
      " success: True\n",
      "       x: array([  7.02341137,  92.97658863,   0.        ,   0.        ,\n",
      "         0.        ,   0.        ])\n"
     ]
    }
   ],
   "source": [
    "print res"
   ]
  },
  {
   "cell_type": "markdown",
   "metadata": {},
   "source": [
    "so apparently, we need to feed the animals only limestone and grain ... the sum of the components of the x array add up to 100 (or close enough within tolerable significant figures, give or take a grain or two)"
   ]
  },
  {
   "cell_type": "markdown",
   "metadata": {},
   "source": [
    "<h3>Example 5</h3><br>\n",
    "There are three factories F1,F2 and F3 suupying goods to three warehouses W1,W2,and W3. The demand, supply and costs of shipping from factory i to warehouse j are given in the table. Find the minimum cost.<br><br>\n",
    "<h2> Table </h2>\n",
    "<table>\n",
    "<tr>\n",
    "<th></th>\n",
    "<th>F1</th>\n",
    "<th>F2</th>\n",
    "<th>F3</th>\n",
    "<th>Units Demanded</th>\n",
    "</tr>\n",
    "<tr>\n",
    "    <td>W1</td>\n",
    "    <td>£1.00</td>\n",
    "    <td>£.90</td>\n",
    "    <td>£1.20</td>\n",
    "    <td>50</td>\n",
    "</tr>\n",
    "<tr>\n",
    "    <td>W2</td>\n",
    "    <td>£1.40</td>\n",
    "    <td>£1.90</td>\n",
    "    <td>£.60</td>\n",
    "    <td>250</td>\n",
    "</tr>\n",
    "<tr>\n",
    "    <td>W3</td>\n",
    "    <td>£1.60</td>\n",
    "    <td>£1.10</td>\n",
    "    <td>£.80</td>\n",
    "    <td>200</td>\n",
    "</tr>\n",
    "<tr>\n",
    "    <td>Units Available</td>\n",
    "    <td>230</td>\n",
    "    <td>160</td>\n",
    "    <td>110</td>\n",
    "    <td>500</td>\n",
    "</tr>\n",
    "</table>"
   ]
  },
  {
   "cell_type": "markdown",
   "metadata": {
    "collapsed": false
   },
   "source": [
    "Solution: this problem is not easy to formulate in terms of the nodal incidence matrix methods typically used in scipy.optimize so I will import Pulp for this particular example."
   ]
  },
  {
   "cell_type": "code",
   "execution_count": 25,
   "metadata": {
    "collapsed": false
   },
   "outputs": [],
   "source": [
    "from pulp import *"
   ]
  },
  {
   "cell_type": "code",
   "execution_count": 26,
   "metadata": {
    "collapsed": false
   },
   "outputs": [],
   "source": [
    "# Creates a list of all the supply nodes\n",
    "Factories = [0, 1,2]\n",
    "\n",
    "# Creates a list for the number of units of supply for each supply node\n",
    "supply = [ 230,\n",
    "         160,\n",
    "         110]\n",
    "\n",
    "# Creates a list of all demand nodes\n",
    "Warehouses = [0, 1,2]\n",
    "\n",
    "# Creates a list for the number of units of demand for each demand node\n",
    "demand = [ 50,\n",
    "           250,\n",
    "           200\n",
    "         ]\n"
   ]
  },
  {
   "cell_type": "code",
   "execution_count": 27,
   "metadata": {
    "collapsed": false
   },
   "outputs": [
    {
     "name": "stdout",
     "output_type": "stream",
     "text": [
      "1.1\n"
     ]
    }
   ],
   "source": [
    "# creating the costs matrix such that costs [F][W] returns factory F to warehouse W\n",
    "costs = [[1.0, 1.4, 1.6],\n",
    "         [0.9, 1.9, 1.1],\n",
    "         [1.2, 0.6, 0.8]\n",
    "]\n",
    "print costs[1][2]"
   ]
  },
  {
   "cell_type": "code",
   "execution_count": 28,
   "metadata": {
    "collapsed": false
   },
   "outputs": [],
   "source": [
    "# Creates the prob variable to contain the problem data\n",
    "prob = LpProblem(\"Factory To Warehouse Trasnportation Problem2\",LpMinimize)"
   ]
  },
  {
   "cell_type": "code",
   "execution_count": 29,
   "metadata": {
    "collapsed": true
   },
   "outputs": [],
   "source": [
    "# Creates a list of tuples containing all the possible routes for transport\n",
    "Routes = [(f,w) for f in Factories for w in Warehouses]"
   ]
  },
  {
   "cell_type": "code",
   "execution_count": 30,
   "metadata": {
    "collapsed": false
   },
   "outputs": [],
   "source": [
    "# A dictionary called route_vars is created to contain the referenced variables (the routes)\n",
    "route_vars = LpVariable.dicts(\"Route\",(Factories,Warehouses),0,None,LpInteger)"
   ]
  },
  {
   "cell_type": "code",
   "execution_count": 31,
   "metadata": {
    "collapsed": false
   },
   "outputs": [
    {
     "name": "stdout",
     "output_type": "stream",
     "text": [
      "{0: {0: Route_0_0, 1: Route_0_1, 2: Route_0_2}, 1: {0: Route_1_0, 1: Route_1_1, 2: Route_1_2}, 2: {0: Route_2_0, 1: Route_2_1, 2: Route_2_2}}\n"
     ]
    }
   ],
   "source": [
    "print route_vars"
   ]
  },
  {
   "cell_type": "code",
   "execution_count": 32,
   "metadata": {
    "collapsed": false
   },
   "outputs": [],
   "source": [
    "# The objective function is added to prob first\n",
    "prob += lpSum([route_vars[f][w]*costs[f][w] for (f,w) in Routes]), \"Sum of Transporting Costs\""
   ]
  },
  {
   "cell_type": "code",
   "execution_count": 33,
   "metadata": {
    "collapsed": false
   },
   "outputs": [
    {
     "name": "stdout",
     "output_type": "stream",
     "text": [
      "[(0, 0), (0, 1), (0, 2), (1, 0), (1, 1), (1, 2), (2, 0), (2, 1), (2, 2)]\n"
     ]
    }
   ],
   "source": [
    "print Routes"
   ]
  },
  {
   "cell_type": "code",
   "execution_count": 34,
   "metadata": {
    "collapsed": false
   },
   "outputs": [],
   "source": [
    "# The supply maximum constraints are added to prob for each supply node (warehouse)\n",
    "for f in Factories:\n",
    "    prob += lpSum([route_vars[f][w] for w in Warehouses]) <= supply[f], \"Sum of Products out of Factory %s\"%f\n",
    "\n",
    "# The demand minimum constraints are added to prob for each demand node (bar)\n",
    "for w in Warehouses:\n",
    "    prob += lpSum([route_vars[f][w] for f in Factories]) >= demand[w], \"Sum of Products into Warehouse %s\"%w"
   ]
  },
  {
   "cell_type": "code",
   "execution_count": 35,
   "metadata": {
    "collapsed": false
   },
   "outputs": [
    {
     "name": "stdout",
     "output_type": "stream",
     "text": [
      "Status: Not Solved\n"
     ]
    }
   ],
   "source": [
    "# The status of the solution is printed to the screen\n",
    "print \"Status:\", LpStatus[prob.status]"
   ]
  },
  {
   "cell_type": "code",
   "execution_count": 36,
   "metadata": {
    "collapsed": false
   },
   "outputs": [
    {
     "data": {
      "text/plain": [
       "1"
      ]
     },
     "execution_count": 36,
     "metadata": {},
     "output_type": "execute_result"
    }
   ],
   "source": [
    "prob.solve()"
   ]
  },
  {
   "cell_type": "code",
   "execution_count": 37,
   "metadata": {
    "collapsed": false
   },
   "outputs": [
    {
     "name": "stdout",
     "output_type": "stream",
     "text": [
      "Status: Optimal\n"
     ]
    }
   ],
   "source": [
    "print \"Status:\", LpStatus[prob.status]"
   ]
  },
  {
   "cell_type": "code",
   "execution_count": 38,
   "metadata": {
    "collapsed": false
   },
   "outputs": [
    {
     "name": "stdout",
     "output_type": "stream",
     "text": [
      "Route_0_0 = 50.0\n",
      "Route_0_1 = 140.0\n",
      "Route_0_2 = 40.0\n",
      "Route_1_0 = 0.0\n",
      "Route_1_1 = 0.0\n",
      "Route_1_2 = 160.0\n",
      "Route_2_0 = 0.0\n",
      "Route_2_1 = 110.0\n",
      "Route_2_2 = 0.0\n"
     ]
    }
   ],
   "source": [
    "for v in prob.variables():\n",
    "    print v.name, \"=\", v.varValue"
   ]
  },
  {
   "cell_type": "code",
   "execution_count": 39,
   "metadata": {
    "collapsed": false
   },
   "outputs": [
    {
     "name": "stdout",
     "output_type": "stream",
     "text": [
      "Total Cost of Routes =  552.0\n"
     ]
    }
   ],
   "source": [
    "print \"Total Cost of Routes = \", value(prob.objective)"
   ]
  },
  {
   "cell_type": "markdown",
   "metadata": {},
   "source": [
    "As we can see the cost of the cheapest (optimal) route is £552.0 ... The table below shows the supply quantities <br>\n",
    "<br>\n",
    "<table>\n",
    "    <tr>\n",
    "        <td></td>\n",
    "        <td>Factory 1</td>\n",
    "        <td>Factory 2</td>\n",
    "        <td>Factory 3</td>\n",
    "    </tr>\n",
    "    <tr>\n",
    "        <td>Warehouse 1</td>\n",
    "        <td>50</td>\n",
    "        <td>-</td>\n",
    "        <td>-</td>\n",
    "    </tr>\n",
    "    <tr>\n",
    "        <td>Warehouse 2</td>\n",
    "        <td>140</td>\n",
    "        <td>-</td>\n",
    "        <td>110</td>\n",
    "    </tr>\n",
    "    <tr>\n",
    "        <td>Warehouse 3</td>\n",
    "        <td>40</td>\n",
    "        <td>160</td>\n",
    "        <td>0</td>\n",
    "    </tr>\n",
    "</table>"
   ]
  },
  {
   "cell_type": "code",
   "execution_count": null,
   "metadata": {
    "collapsed": true
   },
   "outputs": [],
   "source": []
  }
 ],
 "metadata": {
  "kernelspec": {
   "display_name": "Python 2",
   "language": "python",
   "name": "python2"
  },
  "language_info": {
   "codemirror_mode": {
    "name": "ipython",
    "version": 2
   },
   "file_extension": ".py",
   "mimetype": "text/x-python",
   "name": "python",
   "nbconvert_exporter": "python",
   "pygments_lexer": "ipython2",
   "version": "2.7.10"
  }
 },
 "nbformat": 4,
 "nbformat_minor": 0
}
