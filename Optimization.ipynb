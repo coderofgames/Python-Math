{
 "cells": [
  {
   "cell_type": "markdown",
   "metadata": {},
   "source": [
    "<h1> Linear Programming </h1><br>\n",
    "This notebook is for linear programming using scipy and pulp. Several simple optimization problems are covered for the purpose of illustration and to learn how to use python for this task."
   ]
  },
  {
   "cell_type": "code",
   "execution_count": 1,
   "metadata": {
    "collapsed": true
   },
   "outputs": [],
   "source": [
    "c = [-1, 4]"
   ]
  },
  {
   "cell_type": "code",
   "execution_count": 2,
   "metadata": {
    "collapsed": true
   },
   "outputs": [],
   "source": [
    "A = [[-3, 1], [1, 2]]"
   ]
  },
  {
   "cell_type": "code",
   "execution_count": 3,
   "metadata": {
    "collapsed": true
   },
   "outputs": [],
   "source": [
    "b = [6, 4]"
   ]
  },
  {
   "cell_type": "code",
   "execution_count": 7,
   "metadata": {
    "collapsed": true
   },
   "outputs": [],
   "source": [
    "x0_bounds = (None, None)"
   ]
  },
  {
   "cell_type": "code",
   "execution_count": 8,
   "metadata": {
    "collapsed": false
   },
   "outputs": [
    {
     "name": "stdout",
     "output_type": "stream",
     "text": [
      "Optimization terminated successfully.\n",
      "         Current function value: -22.000000  \n",
      "         Iterations: 1\n"
     ]
    }
   ],
   "source": [
    "x1_bounds = (-3, None)\n",
    "from scipy.optimize import linprog\n",
    "res = linprog(c, A_ub=A, b_ub=b, bounds=(x0_bounds, x1_bounds),options={\"disp\": True})"
   ]
  },
  {
   "cell_type": "code",
   "execution_count": 9,
   "metadata": {
    "collapsed": false
   },
   "outputs": [
    {
     "name": "stdout",
     "output_type": "stream",
     "text": [
      "     fun: -22.0\n",
      " message: 'Optimization terminated successfully.'\n",
      "     nit: 1\n",
      "   slack: array([ 39.,   0.])\n",
      "  status: 0\n",
      " success: True\n",
      "       x: array([ 10.,  -3.])\n"
     ]
    }
   ],
   "source": [
    "print(res)"
   ]
  },
  {
   "cell_type": "markdown",
   "metadata": {},
   "source": [
    "<h2>Example 1</h2><br>\n",
    "Three products are processed through three different operations. The time in munutes required per unit of each product, \n",
    "the daily capacity of the operations (in minutes per day) and the profit per unit sold of each product (in pounds) are as given\n",
    "in the table.\n",
    "The zero times indicate that the product does not require the given operation. It is assumed that all units produced\n",
    "are sold. The given profits per unit are net values that result after all pertinent expenses are deducted. Formulate a linear \n",
    "programming model that fits the daily production. <br> <br>\n",
    "<table>\n",
    "<tr></tr>\n",
    "<tr>\n",
    "    <td> Operation </td><td> Product 1 </td><td> Product 2 </td><td> Product 3 </td><td> Operation capcity (minutes/day </td>\n",
    "</tr>\n",
    "<tr>\n",
    "    <td> 1 </td><td> 1 </td><td> 2 </td><td> 1 </td><td> 430 </td>\n",
    "</tr>\n",
    "<tr>\n",
    "    <td> 2 </td><td> 3 </td><td> 0 </td><td> 2 </td><td> 460 </td>\n",
    "</tr>\n",
    "<tr>\n",
    "    <td> 3 </td><td> 1 </td><td> 4 </td><td> 0 </td><td> 420 </td>\n",
    "</tr>\n",
    "<tr>\n",
    "    <td> Profit/unit (£) </td><td> 3 </td><td> 2 </td><td> 5 </td><td>  </td>\n",
    "</tr>\n",
    "</table>"
   ]
  },
  {
   "cell_type": "markdown",
   "metadata": {},
   "source": [
    "Solution: The main elements of a linear programming model are (1) the variables or unknowns. (2) the objective function and <br>(3) the constraints\n",
    "   <br><br> The variables are identified as the daily number of units to be manufactured of each product.\n",
    "   <br> $x_1, x_2, x_3$ \n",
    "   <br>shall be the number of units produced of products 1, 2 and 3. Because of the assumption that all units produced are sold, the total profit in pounds is <br>\n",
    "   $x_0 = 3x_1 + 2x_2+5x_3 \\quad (1)$ <br>\n",
    "   The constraints of the problem must ensure that the total processing time required by all produced units does not exceed the daily capacity of each operation. <br>\n",
    "   $1x_1 + 2x_2+1x_3 \\leq 430 $ <br>\n",
    "   $3x_1 + 0x_2+2x_3 \\leq 460 $ <br>\n",
    "   $1x_1 + 4x_2+0x_3 \\leq 420 $ <br>\n",
    "   and it is assumed non-negative <br> $x_1 \\gt 0,x_2\\gt 0, x_3\\gt0  $ <br>\n",
    "   <br> So the task is to maximize (1) subject to the constraints."
   ]
  },
  {
   "cell_type": "code",
   "execution_count": 10,
   "metadata": {
    "collapsed": false
   },
   "outputs": [
    {
     "name": "stdout",
     "output_type": "stream",
     "text": [
      "Optimization terminated successfully.\n",
      "         Current function value: -1350.000000\n",
      "         Iterations: 2\n"
     ]
    }
   ],
   "source": [
    "X0 = [-3., -2.,-5.]\n",
    "A1 = [[1.,2.,1.],[3.,0,2.],[1., 4.,0]]\n",
    "\n",
    "B1 = [430., 460., 420.]\n",
    "x0_bounds = (0., None)\n",
    "x1_bounds = (0., None)\n",
    "x2_bounds = (0., None)\n",
    "from scipy.optimize import linprog\n",
    "res = linprog(X0, A_ub=A1, b_ub=B1,options={\"disp\": True, \"maxiter\":3})"
   ]
  },
  {
   "cell_type": "code",
   "execution_count": 11,
   "metadata": {
    "collapsed": false
   },
   "outputs": [
    {
     "name": "stdout",
     "output_type": "stream",
     "text": [
      "     fun: -1350.0\n",
      " message: 'Optimization terminated successfully.'\n",
      "     nit: 2\n",
      "   slack: array([  0.,   0.,  20.])\n",
      "  status: 0\n",
      " success: True\n",
      "       x: array([   0.,  100.,  230.])\n"
     ]
    }
   ],
   "source": [
    "print(res)"
   ]
  },
  {
   "cell_type": "markdown",
   "metadata": {},
   "source": [
    "I will assume that this means we produce 100 of product 2 and 230 of product 3"
   ]
  },
  {
   "cell_type": "code",
   "execution_count": 12,
   "metadata": {
    "collapsed": false
   },
   "outputs": [
    {
     "data": {
      "text/plain": [
       "1350"
      ]
     },
     "execution_count": 12,
     "metadata": {},
     "output_type": "execute_result"
    }
   ],
   "source": [
    "100 * 2 +230*5"
   ]
  },
  {
   "cell_type": "code",
   "execution_count": 13,
   "metadata": {
    "collapsed": false
   },
   "outputs": [],
   "source": [
    "timeForOp1Prod2 = 2*100"
   ]
  },
  {
   "cell_type": "code",
   "execution_count": 14,
   "metadata": {
    "collapsed": true
   },
   "outputs": [],
   "source": [
    "timeForOp3Prod1 = 4*100"
   ]
  },
  {
   "cell_type": "code",
   "execution_count": 15,
   "metadata": {
    "collapsed": true
   },
   "outputs": [],
   "source": [
    "timeForOp1Prod3 = 230"
   ]
  },
  {
   "cell_type": "code",
   "execution_count": 16,
   "metadata": {
    "collapsed": true
   },
   "outputs": [],
   "source": [
    "timeForOp2Prod3 = 2*230"
   ]
  },
  {
   "cell_type": "code",
   "execution_count": 17,
   "metadata": {
    "collapsed": true
   },
   "outputs": [],
   "source": [
    "times=[ timeForOp1Prod2+timeForOp1Prod3,timeForOp2Prod3, timeForOp3Prod1]"
   ]
  },
  {
   "cell_type": "code",
   "execution_count": 18,
   "metadata": {
    "collapsed": false
   },
   "outputs": [
    {
     "data": {
      "text/plain": [
       "[430, 460, 400]"
      ]
     },
     "execution_count": 18,
     "metadata": {},
     "output_type": "execute_result"
    }
   ],
   "source": [
    "times"
   ]
  },
  {
   "cell_type": "markdown",
   "metadata": {},
   "source": [
    "It is clear that after 2 iterations the linear solver is almost optimal, the values should be integers becase you cannot make half of a product. The people working in operation 3 get an extra tea break"
   ]
  },
  {
   "cell_type": "markdown",
   "metadata": {},
   "source": [
    "<h2> Example 2 </h2>\n",
    "<p> One of the most successful applications of linear programming deals with the determination of optimal feed mix for an animal at the least cost. The model assumes the availability of certain feedstuffs or ingredients from which the feed is mixed. \n",
    "The nutritive content of each ingredient is known. The constraints of the model include (1) daily nutrient requirements of the animal (2) physical or nonnutritive limitations such as supply, feed texture, or ability of feed to be pelleted. The objective is to minimize the total cost of a given batch size of the feed mix such that the nutritive and physical constraints are satisfied. <br>\n",
    "<br> Assuming the required daily batch of the feed mix is 100 pounds. The diet must contain <br>\n",
    "1) At least 0.8 percent but not more than 1.2 percent calcium <br>\n",
    "2) At least 22 percent protein <br>\n",
    "3) At most  percent crude fibre.\n",
    "<br><br>\n",
    "The main ingredients or feedstuffs used include limestone (calcium carbonate), corn, and soybean meal. The nutritive content of these ingredients is summarized in the table\n",
    "<br><br>\n",
    "<table>\n",
    "<tr>\n",
    "    <th>ingredient</th>\n",
    "    <th>calcium</th>\n",
    "    <th>protein</th>\n",
    "    <th>fibre</th>\n",
    "    <th>cost(£) per pound </th>\n",
    "</tr>\n",
    "<tr>\n",
    "    <td> limestone </td>   <td>0.380</td> <td>0.00</td> <td>0.00</td><td>0.0014</td>\n",
    "</tr>\n",
    "<tr>\n",
    "    <td> corn </td>   <td>0.001</td> <td>0.09</td> <td>0.02</td><td>0.0463</td>\n",
    "</tr>\n",
    "<tr>\n",
    "    <td> soybean meal </td>   <td>0.002</td> <td>0.5</td> <td>0.08</td><td>0.1250</td>\n",
    "</tr>\n",
    "</table>"
   ]
  },
  {
   "cell_type": "markdown",
   "metadata": {},
   "source": [
    "Solution: Let $x_1,x_2,x_3$ be the amounts (in pounds of weight) of limestone corn and soybean meal used in producing the feed mix batch of 100 pounds. Then the linear programming model becomes\n",
    "    <br>\n",
    "    $x_0 = 0.0164x_1+0.0463x_2+0.1250x_3$\n",
    "    <br><br>\n",
    "    subject to the constraints $x_1+x_2+x3 = 100$ <br>\n",
    "    $ 0.380x_1+0.001x_2+0.002x_3 \\leq 0.012 \\times 100$ <br>\n",
    "    $ 0.380x_1+0.001x_2+0.002x_3 \\geq 0.008 \\times 100$ <br>\n",
    "    $ 0.09x_2+0.5x_3 \\leq 0.22 \\times 100$ <br>\n",
    "    $ 0.02x_2+0.08x_3 \\leq 0.05 \\times 100$ <br>\n",
    "     $ x_1,x_2,x_3 \\geq 0$ <br>\n",
    "\n",
    "    "
   ]
  },
  {
   "cell_type": "code",
   "execution_count": 19,
   "metadata": {
    "collapsed": false
   },
   "outputs": [
    {
     "name": "stdout",
     "output_type": "stream",
     "text": [
      "Optimization terminated successfully.\n",
      "         Current function value: 0.034526    \n",
      "         Iterations: 1\n",
      "     fun: 0.034526315789473683\n",
      " message: 'Optimization terminated successfully.'\n",
      "     nit: 1\n",
      "   slack: array([ 97.89473684,   0.4       ,  22.        ,   5.        ,   0.        ])\n",
      "  status: 0\n",
      " success: True\n",
      "       x: array([ 2.10526316,  0.        ,  0.        ])\n"
     ]
    }
   ],
   "source": [
    "X0 = [0.0164,0.0463,0.1250]\n",
    "A=[[1,1,1],[0.38,0.001,0.002],[-0.38,-0.001,-0.002],[0.0,0.09,0.5],[0.0,0.02,0.08]]\n",
    "b=[100,1.2,-0.8,22,5]\n",
    "res = linprog(X0, A_ub=A, b_ub=b,options={\"disp\": True, \"maxiter\":3})\n",
    "print res"
   ]
  },
  {
   "cell_type": "code",
   "execution_count": 103,
   "metadata": {
    "collapsed": false
   },
   "outputs": [
    {
     "name": "stdout",
     "output_type": "stream",
     "text": [
      "  status: 0\n",
      "   slack: array([ 97.89473684,   0.4       ,  22.        ,   5.        ,   0.        ])\n",
      " success: True\n",
      "     fun: 0.034526315789473683\n",
      "       x: array([ 2.10526316,  0.        ,  0.        ])\n",
      " message: 'Optimization terminated successfully.'\n",
      "     nit: 1\n"
     ]
    }
   ],
   "source": [
    "print res"
   ]
  },
  {
   "cell_type": "markdown",
   "metadata": {},
   "source": [
    "This result can be easily tested to be false, because the sum of the components of the x array do not add up to 100, as the first constraint is supposed to stipulate. This shall be fixed after subsequent examples."
   ]
  },
  {
   "cell_type": "markdown",
   "metadata": {},
   "source": [
    "<h2>Example 3</h2><br>\n",
    "<p> In a factory there are 3 machines, M1, M2, and M3 used in making 2 products P1 and P2. One unit of P1 occupies M1 5 minutes, M2 3 minutes, and M3 4 minutes. The corresponding figures for one unit of P2 are: M1 1 minute, M2 4 minutes, M3 3 minutes. The net profit per unit of P1 produced is 30 pounds, and the net profit of each unit of p2 produced is 20 dollars (independent of whether the machines are used to full capacity. What production plan gives the most profit (assume that x1 units of P1 and x2 units of p2 are produced per hour</p> "
   ]
  },
  {
   "cell_type": "markdown",
   "metadata": {},
   "source": [
    "Ans: The problem is to maximize <br> $f=30x_1+20x_2$ <br>\n",
    "subject to the constraints <br>\n",
    "$5x_1+x_2 \\leq 60$<br>\n",
    "$3x_1+4x_2 \\leq 60$<br>\n",
    "$4x_1+3x_2 \\leq 60$<br>\n",
    "and $x_1,x_2 \\geq 0$\n",
    "\n",
    "This can also be expressed in matrix form <br>\n",
    "$x_0=30x_1+20x_2$ <br><br>\n",
    "$\\mathbf {Ax}\\leq\\mathbf b$ <br><br>\n",
    "$ \\begin{pmatrix} 5&1\\\\3&4\\\\4&3\\end{pmatrix}\\begin{pmatrix} x_1\\\\x_2\\end{pmatrix}\\leq\\begin{pmatrix}60\\\\ 60\\\\ 60 \\end{pmatrix} $\n",
    "\n",
    "<br>\n",
    "And as the problem is to Maximize, the input function array must have negative coefficients [-30,-20] because the linprog function <i>minimizes</i>\n",
    "\n",
    "<p style=\"color:red\"> The Rows of the A matrix correspond to machine M1, M2 and M3 while the columns correspond to the products they produce </p> "
   ]
  },
  {
   "cell_type": "code",
   "execution_count": 20,
   "metadata": {
    "collapsed": false
   },
   "outputs": [
    {
     "name": "stdout",
     "output_type": "stream",
     "text": [
      "Optimization terminated successfully.\n",
      "         Current function value: -436.363636 \n",
      "         Iterations: 2\n"
     ]
    }
   ],
   "source": [
    "X0 = [-30,-20]\n",
    "A=[[5,1],[3,4],[4,3]]\n",
    "b=[60,60,60]\n",
    "res = linprog(X0, A_ub=A, b_ub=b,options={\"disp\": True, \"maxiter\":3},callback = lambda *x,**kwargs: None)"
   ]
  },
  {
   "cell_type": "code",
   "execution_count": 21,
   "metadata": {
    "collapsed": false
   },
   "outputs": [
    {
     "name": "stdout",
     "output_type": "stream",
     "text": [
      "     fun: -436.36363636363637\n",
      " message: 'Optimization terminated successfully.'\n",
      "     nit: 2\n",
      "   slack: array([ 0.        ,  5.45454545,  0.        ])\n",
      "  status: 0\n",
      " success: True\n",
      "       x: array([ 10.90909091,   5.45454545])\n"
     ]
    }
   ],
   "source": [
    "print res"
   ]
  },
  {
   "cell_type": "code",
   "execution_count": 22,
   "metadata": {
    "collapsed": false
   },
   "outputs": [
    {
     "data": {
      "text/plain": [
       "10.909090909090908"
      ]
     },
     "execution_count": 22,
     "metadata": {},
     "output_type": "execute_result"
    }
   ],
   "source": [
    "120.0/11.0"
   ]
  },
  {
   "cell_type": "code",
   "execution_count": 23,
   "metadata": {
    "collapsed": false
   },
   "outputs": [
    {
     "data": {
      "text/plain": [
       "5.454545454545454"
      ]
     },
     "execution_count": 23,
     "metadata": {},
     "output_type": "execute_result"
    }
   ],
   "source": [
    "60./11."
   ]
  },
  {
   "cell_type": "markdown",
   "metadata": {},
   "source": [
    "The maximal profit is therefore 436.36 £/hour, the values of $x_1,x_2$ are [10.91, 5.45]"
   ]
  },
  {
   "cell_type": "markdown",
   "metadata": {},
   "source": [
    "<h2>Example 4</h2><br>\n",
    "A manufacturer procues a line of houshold products fabricated from sheet metal.To illustrate his production planning problem, consider that he makes 4 products and that his production system consists of 5 production centers: stamping, drilling, asssembly, finishing (painting and printing), and packaging. For a given month he must decide how much of each product to manufacture and to aid in this decision he has assembled the data shown in tables 1 and 2. Furthermore he knows that only 2000 square feet of the sheet metal used in products 2 and 4 will be available during the month. Product 2 requires 2.0 square feet per unit and product 4 uses 1.2 square feet per unit.\n",
    "\n",
    "<br> formuate this as a linear programming model <br>\n",
    "<h2> Table 1         Production data </h2>\n",
    "<table>\n",
    "<tr>\n",
    "    <th>DEPARTMENT</th>\n",
    "    <th>PRODUCT 1</th>\n",
    "    <th>PRODUCT 2</th>\n",
    "    <th>PRODUCT 3</th>\n",
    "    <th>PRODUCT 4</th>\n",
    "    <th>PRODUCTION HOURS AVAIlABLE</th>\n",
    "</tr>\n",
    "<tr>\n",
    "    <td>Stamping</td>\n",
    "    <td>0.03</td>\n",
    "    <td>0.15</td>\n",
    "    <td>0.05</td>\n",
    "    <td>0.1</td>\n",
    "    <td>400</td>\n",
    "</tr>\n",
    "<tr>\n",
    "    <td>Drilling</td>\n",
    "    <td>0.06</td>\n",
    "    <td>0.12</td>\n",
    "    <td>-</td>\n",
    "    <td>0.1</td>\n",
    "    <td>400</td>\n",
    "</tr>\n",
    "<tr>\n",
    "    <td>Aseembly</td>\n",
    "    <td>0.05</td>\n",
    "    <td>0.1</td>\n",
    "    <td>0.05</td>\n",
    "    <td>0.12</td>\n",
    "    <td>500</td>\n",
    "</tr>\n",
    "<tr>\n",
    "    <td>Finishing</td>\n",
    "    <td>0.04</td>\n",
    "    <td>0.2</td>\n",
    "    <td>0.03</td>\n",
    "    <td>0.12</td>\n",
    "    <td>450</td>\n",
    "</tr>\n",
    "<tr>\n",
    "    <td>Packaging</td>\n",
    "    <td>0.02</td>\n",
    "    <td>0.06</td>\n",
    "    <td>0.02</td>\n",
    "    <td>0.05</td>\n",
    "    <td>400</td>\n",
    "</tr>\n",
    "</table>\n",
    "<br><br>\n",
    "<h2> Table 2         Product data </h2>\n",
    "<table>\n",
    "<tr>\n",
    "    <th>PRODUCT</th>\n",
    "    <th>NET SELLING (PRICE/UNIT)</th>\n",
    "    <th>VARIABLE (COST/UNIT)</th>\n",
    "    <th>MINIMUM</th>\n",
    "    <th>MAXIMUM</th>\n",
    "\n",
    "</tr>\n",
    "<tr>\n",
    "    <td>1</td>\n",
    "    <td>£10</td>\n",
    "    <td>£6</td>\n",
    "    <td>1000</td>\n",
    "    <td>6000</td>\n",
    "\n",
    "</tr>\n",
    "<tr>\n",
    "    <td>2</td>\n",
    "    <td>25</td>\n",
    "    <td>15</td>\n",
    "    <td>-</td>\n",
    "    <td>500</td>\n",
    "\n",
    "</tr>\n",
    "<tr>\n",
    "    <td>3</td>\n",
    "    <td>16</td>\n",
    "    <td>11</td>\n",
    "    <td>500</td>\n",
    "    <td>3000</td>\n",
    "\n",
    "</tr>\n",
    "<tr>\n",
    "    <td>4</td>\n",
    "    <td>20</td>\n",
    "    <td>14</td>\n",
    "    <td>100</td>\n",
    "    <td>1000</td>\n",
    "\n",
    "</tr>\n",
    "\n",
    "</table>\n",
    "\n"
   ]
  },
  {
   "cell_type": "markdown",
   "metadata": {},
   "source": [
    "Solution: <br>\n",
    "Let $x_i$ be the number of units of unit of product $i$ produced in the month and $Z$ be the total contribution to profit and overhead. The problem is to choose non-negative $x_1,x_2,x_3,x_4$ to maximize the fixed cost, that is the net selling price minus the varisble cost<br>\n",
    "$Z=4x_1 +10x_2+5x_3+6x_4$ <br>\n",
    "<br>and subject to the constraints on product hours for each department <br>\n",
    "\n",
    "$0.03x_1+0.15x_2+0.05x_3+0.1x_4\\leq400$                    Stamping<br>\n",
    "$0.06x_1+0.12x_2\\qquad\\quad+0.1x_4\\leq400$                    Drilling<<br>\n",
    "$0.05x_1+0.1x_2+0.05x_3+0.12x_4\\leq500$                    Assembly<br>\n",
    "$0.04x_1+0.2x_2+0.03x_3+0.12x_4\\leq450$                    Finishing<br>\n",
    "$0.02x_1+0.06x_2+0.02x_3+0.05x_4\\leq400$                   Packaging<br>\n",
    "\n",
    "<br>\n",
    "There is also a constraint on sheet metal availability. <br>\n",
    "$2.0x_2+1.2x_4\\leq 2000$\n",
    "<br>\n",
    "with the following bounds <br>\n",
    "$1000\\leq x_1\\leq6000$<br>\n",
    "$0\\leq x_2\\leq500$<br>\n",
    "$500\\leq x_3\\leq3000$<br>\n",
    "$100\\leq x_4\\leq1000$<br>"
   ]
  },
  {
   "cell_type": "code",
   "execution_count": 24,
   "metadata": {
    "collapsed": false
   },
   "outputs": [
    {
     "name": "stdout",
     "output_type": "stream",
     "text": [
      "Optimization terminated successfully.\n",
      "         Current function value: -42600.000000\n",
      "         Iterations: 9\n"
     ]
    }
   ],
   "source": [
    "Z=[-4, -10, -5, -6, 0]\n",
    "A=[[0.03, 0.15, 0.05, 0.1, 0.0],\n",
    "   [0.06, 0.12, 0.0, 0.1, 0.0],\n",
    "   [0.05, 0.1, 0.05, 0.12, 0.0],\n",
    "   [0.04, 0.2, 0.03, 0.12, 0.0],\n",
    "   [0.02, 0.06, 0.02, 0.05, 0.0],\n",
    "   [0.0, 2.0, 0.0, 1.2, 0.0]]\n",
    "b=[400, 400, 500, 450, 400, 2000]\n",
    "x1_bounds = (1000, 6000)\n",
    "x2_bounds = (0, 500)\n",
    "x3_bounds = (500, 3000)\n",
    "x4_bounds = (100, 1000)\n",
    "x5_bounds = (0, 0)\n",
    "res = linprog(Z, A_ub=A, b_ub=b, bounds=(x1_bounds, x2_bounds,x3_bounds,x4_bounds,x5_bounds),options={\"disp\": True})"
   ]
  },
  {
   "cell_type": "code",
   "execution_count": 25,
   "metadata": {
    "collapsed": false
   },
   "outputs": [
    {
     "name": "stdout",
     "output_type": "stream",
     "text": [
      "     fun: -42600.0\n",
      " message: 'Optimization terminated successfully.'\n",
      "     nit: 9\n",
      "   slack: array([   0.,    0.,   13.,   28.,  195.,  880.,  500.,    0.,    0.,\n",
      "        900.,    0.,    0.,    0.,    0.])\n",
      "  status: 0\n",
      " success: True\n",
      "       x: array([ 5500.,   500.,  3000.,   100.,     0.])\n"
     ]
    }
   ],
   "source": [
    "print res"
   ]
  },
  {
   "cell_type": "markdown",
   "metadata": {},
   "source": [
    "The A matrix in this case was padded to contain extra zeros because the A matrix must have the same number of rows as columns of the input vector . Product $x_4$ is produced only because of the lower bound constraint $x_4 \\geq 100$. This program uses the full capacity of stamping and drilling. The unused capacity in the remaining production centers is 13 hours in assembly, 28 hours in finishing, and 195 hours in packaging. Only 1120 square feet of sheet metal are used, leaving 880 unused,. The maximum profit is £42600.<br>\n",
    "By examining values of the dual vriables, show how it would not be desirable to produce more of product 4 (at the expense of reducing production of some other product) unlessits unit profit were at least £1.78 higher, or £7.78. The marginal value of an additional hour of stamping capacity is £22.22 and of drilling capacity £55.56. If one could sell oe more unit of product 3 one could increase the profit by £3.89 (accounting for the fact tht one other product would have to be cut back) The ability to sell more of product 2 would yeild no profit, explain."
   ]
  },
  {
   "cell_type": "markdown",
   "metadata": {},
   "source": [
    "<br><br><h2>Revisiting example 2 </h2><br>\n",
    "We can exress the equality $x_1+x_2+x_3=100$ as another row in the A matrix, by inserting two expressions <br>\n",
    "$x_1+x_2+x_3\\leq101$ <br>\n",
    "$-x_1-x_2-x_3\\leq-99$\n",
    "<br><br>\n",
    "and padding the A matrix with extra columns of zeros to make it square. This answer will only ever approximate the correct solution, so to be correct to several significant figures we can use numbers like 100.000001 and 99.999999"
   ]
  },
  {
   "cell_type": "code",
   "execution_count": 26,
   "metadata": {
    "collapsed": false
   },
   "outputs": [
    {
     "name": "stdout",
     "output_type": "stream",
     "text": [
      "Optimization terminated successfully.\n",
      "         Current function value: 4.543219    \n",
      "         Iterations: 3\n"
     ]
    }
   ],
   "source": [
    "X0 = [0.0164,0.0463,0.1250,0.0,0.0,0.0]\n",
    "\n",
    "A=[[ 1  ,1,     1      ,0,0,0],\n",
    "   [-1  ,-1   ,-1      ,0,0,0],\n",
    "   [0.38 ,0.001 ,0.002 ,0,0,0],\n",
    "   [-0.38,-0.001,-0.002,0,0,0],\n",
    "   [0.0  ,0.09  ,0.5   ,0,0,0],\n",
    "   [0.0  ,0.02  ,0.08  ,0,0,0]]\n",
    "\n",
    "b=[100.01,-100.00,1.2,-0.8,22.0,5.0]\n",
    "res = linprog(X0, A_ub=A, b_ub=b,options={\"disp\": True})"
   ]
  },
  {
   "cell_type": "code",
   "execution_count": 27,
   "metadata": {
    "collapsed": false
   },
   "outputs": [
    {
     "name": "stdout",
     "output_type": "stream",
     "text": [
      "     fun: 4.5432189973614774\n",
      " message: 'Optimization terminated successfully.'\n",
      "     nit: 3\n",
      "   slack: array([  1.00000000e-02,   0.00000000e+00,   1.32612137e+01,\n",
      "         3.05804749e+00,   0.00000000e+00,   0.00000000e+00])\n",
      "  status: 0\n",
      " success: True\n",
      "       x: array([  2.90237467,  97.09762533,   0.        ,   0.        ,\n",
      "         0.        ,   0.        ])\n"
     ]
    }
   ],
   "source": [
    "print res"
   ]
  },
  {
   "cell_type": "markdown",
   "metadata": {},
   "source": [
    "so apparently, we need to feed the animals only limestone and corn ... the sum of the components of the x array add up to 100 (or close enough within tolerable significant figures, give or take a grain or two)"
   ]
  },
  {
   "cell_type": "markdown",
   "metadata": {},
   "source": [
    "<h3>Example 5</h3><br>\n",
    "Assume there are three factories F1,F2 and F3 suupying goods to three warehouses W1,W2,and W3. The amounts available in each factory , the amounts needed in each warehouse and the costs of shipping from factory i to warehouse j are given in the table. Find the minimum cost of satisfying warehouse demands given that any factory may ship to any warehouse.<br><br>\n",
    "<h2> Table </h2>\n",
    "<table>\n",
    "<tr>\n",
    "<th></th>\n",
    "<th>F1</th>\n",
    "<th>F2</th>\n",
    "<th>F3</th>\n",
    "<th>Units Demanded</th>\n",
    "</tr>\n",
    "<tr>\n",
    "    <td>W1</td>\n",
    "    <td>£.90</td>\n",
    "    <td>£1.00</td>\n",
    "    <td>£1.00</td>\n",
    "    <td>5</td>\n",
    "</tr>\n",
    "<tr>\n",
    "    <td>W2</td>\n",
    "    <td>£1.00</td>\n",
    "    <td>£1.40</td>\n",
    "    <td>£.80</td>\n",
    "    <td>20</td>\n",
    "</tr>\n",
    "<tr>\n",
    "    <td>W3</td>\n",
    "    <td>£1.30</td>\n",
    "    <td>£1.00</td>\n",
    "    <td>£.80</td>\n",
    "    <td>20</td>\n",
    "</tr>\n",
    "<tr>\n",
    "    <td>Units Available</td>\n",
    "    <td>20</td>\n",
    "    <td>15</td>\n",
    "    <td>10</td>\n",
    "    <td>45</td>\n",
    "</tr>\n",
    "</table>"
   ]
  },
  {
   "cell_type": "markdown",
   "metadata": {
    "collapsed": false
   },
   "source": [
    "Solution: this problem is not easy to formulate in terms of the nodal incidence matrix methods typically used in scipy.optimize so I will import Pulp for this particular example."
   ]
  },
  {
   "cell_type": "code",
   "execution_count": 33,
   "metadata": {
    "collapsed": false
   },
   "outputs": [],
   "source": [
    "from pulp import *"
   ]
  },
  {
   "cell_type": "code",
   "execution_count": 70,
   "metadata": {
    "collapsed": false
   },
   "outputs": [],
   "source": [
    "# Creates a list of all the supply nodes\n",
    "Factories = [0, 1,2]\n",
    "\n",
    "# Creates a list for the number of units of supply for each supply node\n",
    "supply = [ 20,\n",
    "         15,\n",
    "         10]\n",
    "\n",
    "# Creates a list of all demand nodes\n",
    "Warehouses = [0, 1,2]\n",
    "\n",
    "# Creates a list for the number of units of demand for each demand node\n",
    "demand = [ 5,\n",
    "           20,\n",
    "           20\n",
    "         ]\n"
   ]
  },
  {
   "cell_type": "code",
   "execution_count": 61,
   "metadata": {
    "collapsed": false
   },
   "outputs": [
    {
     "name": "stdout",
     "output_type": "stream",
     "text": [
      "1.0\n"
     ]
    }
   ],
   "source": [
    "# creating the costs matrix such that costs [F][W] returns factory F to warehouse W\n",
    "costs = [[0.9, 1.0, 1.3],\n",
    "         [1.0, 1.4, 1.0],\n",
    "         [1.0, 0.8, 0.8]\n",
    "]\n",
    "print costs[1][2]"
   ]
  },
  {
   "cell_type": "code",
   "execution_count": 73,
   "metadata": {
    "collapsed": true
   },
   "outputs": [],
   "source": [
    "# Creates the prob variable to contain the problem data\n",
    "prob = LpProblem(\"Factory To Warehouse Trasnportation Problem2\",LpMinimize)"
   ]
  },
  {
   "cell_type": "code",
   "execution_count": 74,
   "metadata": {
    "collapsed": true
   },
   "outputs": [],
   "source": [
    "# Creates a list of tuples containing all the possible routes for transport\n",
    "Routes = [(f,w) for f in Factories for w in Warehouses]"
   ]
  },
  {
   "cell_type": "code",
   "execution_count": 75,
   "metadata": {
    "collapsed": false
   },
   "outputs": [],
   "source": [
    "# A dictionary called route_vars is created to contain the referenced variables (the routes)\n",
    "route_vars = LpVariable.dicts(\"Route\",(Factories,Warehouses),0,None,LpInteger)"
   ]
  },
  {
   "cell_type": "code",
   "execution_count": 84,
   "metadata": {
    "collapsed": false
   },
   "outputs": [
    {
     "name": "stdout",
     "output_type": "stream",
     "text": [
      "{0: {0: Route_0_0, 1: Route_0_1, 2: Route_0_2}, 1: {0: Route_1_0, 1: Route_1_1, 2: Route_1_2}, 2: {0: Route_2_0, 1: Route_2_1, 2: Route_2_2}}\n"
     ]
    }
   ],
   "source": [
    "print route_vars"
   ]
  },
  {
   "cell_type": "code",
   "execution_count": 76,
   "metadata": {
    "collapsed": false
   },
   "outputs": [],
   "source": [
    "# The objective function is added to prob first\n",
    "prob += lpSum([route_vars[f][w]*costs[f][w] for (f,w) in Routes]), \"Sum of Transporting Costs\""
   ]
  },
  {
   "cell_type": "code",
   "execution_count": 77,
   "metadata": {
    "collapsed": false
   },
   "outputs": [
    {
     "name": "stdout",
     "output_type": "stream",
     "text": [
      "[(0, 0), (0, 1), (0, 2), (1, 0), (1, 1), (1, 2), (2, 0), (2, 1), (2, 2)]\n"
     ]
    }
   ],
   "source": [
    "print Routes"
   ]
  },
  {
   "cell_type": "code",
   "execution_count": 78,
   "metadata": {
    "collapsed": false
   },
   "outputs": [],
   "source": [
    "# The supply maximum constraints are added to prob for each supply node (warehouse)\n",
    "for f in Factories:\n",
    "    prob += lpSum([route_vars[f][w] for w in Warehouses]) <= supply[f], \"Sum of Products out of Factory %s\"%f\n",
    "\n",
    "# The demand minimum constraints are added to prob for each demand node (bar)\n",
    "for w in Warehouses:\n",
    "    prob += lpSum([route_vars[f][w] for f in Factories]) >= demand[w], \"Sum of Products into Warehouse %s\"%w"
   ]
  },
  {
   "cell_type": "code",
   "execution_count": 79,
   "metadata": {
    "collapsed": false
   },
   "outputs": [
    {
     "name": "stdout",
     "output_type": "stream",
     "text": [
      "Status: Not Solved\n"
     ]
    }
   ],
   "source": [
    "# The status of the solution is printed to the screen\n",
    "print \"Status:\", LpStatus[prob.status]"
   ]
  },
  {
   "cell_type": "code",
   "execution_count": 80,
   "metadata": {
    "collapsed": false
   },
   "outputs": [
    {
     "data": {
      "text/plain": [
       "1"
      ]
     },
     "execution_count": 80,
     "metadata": {},
     "output_type": "execute_result"
    }
   ],
   "source": [
    "prob.solve()"
   ]
  },
  {
   "cell_type": "code",
   "execution_count": 81,
   "metadata": {
    "collapsed": false
   },
   "outputs": [
    {
     "name": "stdout",
     "output_type": "stream",
     "text": [
      "Status: Optimal\n"
     ]
    }
   ],
   "source": [
    "print \"Status:\", LpStatus[prob.status]"
   ]
  },
  {
   "cell_type": "code",
   "execution_count": 82,
   "metadata": {
    "collapsed": false
   },
   "outputs": [
    {
     "name": "stdout",
     "output_type": "stream",
     "text": [
      "Route_0_0 = 5.0\n",
      "Route_0_1 = 15.0\n",
      "Route_0_2 = 0.0\n",
      "Route_1_0 = 0.0\n",
      "Route_1_1 = 0.0\n",
      "Route_1_2 = 15.0\n",
      "Route_2_0 = 0.0\n",
      "Route_2_1 = 5.0\n",
      "Route_2_2 = 5.0\n"
     ]
    }
   ],
   "source": [
    "for v in prob.variables():\n",
    "    print v.name, \"=\", v.varValue"
   ]
  },
  {
   "cell_type": "code",
   "execution_count": 83,
   "metadata": {
    "collapsed": false
   },
   "outputs": [
    {
     "name": "stdout",
     "output_type": "stream",
     "text": [
      "Total Cost of Routes =  42.5\n"
     ]
    }
   ],
   "source": [
    "print \"Total Cost of Routes = \", value(prob.objective)"
   ]
  },
  {
   "cell_type": "markdown",
   "metadata": {},
   "source": [
    "As we can see the cost of the cheapest (optimal) route is £42.50 ... The table below shows the supply quantities <br>\n",
    "<br>\n",
    "<table>\n",
    "    <tr>\n",
    "        <td></td>\n",
    "        <td>Factory 1</td>\n",
    "        <td>Factory 2</td>\n",
    "        <td>Factory 3</td>\n",
    "    </tr>\n",
    "    <tr>\n",
    "        <td>Warehouse 1</td>\n",
    "        <td>5</td>\n",
    "        <td>-</td>\n",
    "        <td>-</td>\n",
    "    </tr>\n",
    "    <tr>\n",
    "        <td>Warehouse 2</td>\n",
    "        <td>15</td>\n",
    "        <td>-</td>\n",
    "        <td>5</td>\n",
    "    </tr>\n",
    "    <tr>\n",
    "        <td>Warehouse 3</td>\n",
    "        <td>-</td>\n",
    "        <td>15</td>\n",
    "        <td>5</td>\n",
    "    </tr>\n",
    "</table>"
   ]
  },
  {
   "cell_type": "code",
   "execution_count": null,
   "metadata": {
    "collapsed": true
   },
   "outputs": [],
   "source": []
  }
 ],
 "metadata": {
  "kernelspec": {
   "display_name": "Python 2",
   "language": "python",
   "name": "python2"
  },
  "language_info": {
   "codemirror_mode": {
    "name": "ipython",
    "version": 2
   },
   "file_extension": ".py",
   "mimetype": "text/x-python",
   "name": "python",
   "nbconvert_exporter": "python",
   "pygments_lexer": "ipython2",
   "version": "2.7.10"
  }
 },
 "nbformat": 4,
 "nbformat_minor": 0
}
