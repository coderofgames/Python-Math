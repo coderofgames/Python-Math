{
 "cells": [
  {
   "cell_type": "markdown",
   "metadata": {},
   "source": [
    "<h1>5) Vector Integration\n",
    "\n",
    "  Ordinary Integrals of Vectors\n",
    "</h1>\n",
    "\n",
    "Let <br><br>\n",
    "$\\large\\mathbf{R}(u) = R_1(u) \\mathbf{i} + R_2(u) \\mathbf{j} + R_3(u) \\mathbf{k} $<br><br>\n",
    "be a vector depending on a single scalar variable u. Where the <b>R</b> is continuous on a specified interval.<br><br>\n",
    "\n",
    "\n",
    "$$\n",
    "\\large\\int \\mathbf R(u)du=\\mathbf i \\int R_1(u)du + \\mathbf j \\int R_2(u)du +\\mathbf k \\int R_3(u)du\n",
    "$$<br><br>\n",
    "\n",
    "\n",
    "is called an indefinite integral of <b>R</b>(u). If there exists a vector <b>S</b>(u) such that<br><br>\n",
    "$$\\large\\mathbf {R}(u) = \\displaystyle\\frac{d}{du}(\\mathbf{S}(u)) $$\n",
    "\n",
    "<br><br>then<br><br>\n",
    "\n",
    "\n",
    "$$\n",
    "\\large\\int \\mathbf R(u)du=\\int \\frac{\\mathrm{d}\\mathbf S(u) }{\\mathrm{d} u}du=\\mathbf S(u) +\\mathbf c\n",
    "$$<br><br>\n",
    "where <b>c</b> is an arbitrary constant vector independant of u. The definite integral between limits can be written u=b and u=a.<br><br>\n",
    "\n",
    "\n",
    "$$\n",
    "\\large\\int \\mathbf R(u)du=\\int_{a}^{b} \\frac{\\mathrm{d}\\mathbf S(u) }{\\mathrm{d} u}du=\\mathbf S(b)-\\mathbf S(a)\n",
    "  $$     <br><br>\n",
    "The integral can also be defined as the limit of a sum."
   ]
  },
  {
   "cell_type": "code",
   "execution_count": 89,
   "metadata": {
    "collapsed": false,
    "scrolled": true
   },
   "outputs": [
    {
     "name": "stdout",
     "output_type": "stream",
     "text": [
      " 3    2    \n",
      "x    x     \n",
      "── + ── + x\n",
      "3    2     \n"
     ]
    }
   ],
   "source": [
    "from sympy import *\n",
    "init_printing()\n",
    "x = Symbol('x')\n",
    "integrate(x**2 + x + 1, x)\n"
   ]
  },
  {
   "cell_type": "code",
   "execution_count": 5,
   "metadata": {
    "collapsed": false
   },
   "outputs": [
    {
     "name": "stdout",
     "output_type": "stream",
     "text": [
      " 3    2    \n",
      "x    x     \n",
      "── + ── + x\n",
      "3    2     \n"
     ]
    }
   ],
   "source": [
    "init_printing(use_latex=true)\n",
    "integrate(x**2 + x + 1, x)"
   ]
  },
  {
   "cell_type": "code",
   "execution_count": 17,
   "metadata": {
    "collapsed": false
   },
   "outputs": [],
   "source": [
    "from sympy.vector import *\n",
    "N = CoordSysCartesian('N')\n",
    "a,b = symbols('a b')\n",
    "u = symbols('u')"
   ]
  },
  {
   "cell_type": "code",
   "execution_count": 10,
   "metadata": {
    "collapsed": true
   },
   "outputs": [],
   "source": [
    "r1=u**3\n",
    "r2=3*u**2\n",
    "r3=u+2"
   ]
  },
  {
   "cell_type": "code",
   "execution_count": 12,
   "metadata": {
    "collapsed": false
   },
   "outputs": [],
   "source": [
    "r = r1*N.i + r2*N.j + r3*N.k"
   ]
  },
  {
   "cell_type": "code",
   "execution_count": 14,
   "metadata": {
    "collapsed": false
   },
   "outputs": [
    {
     "data": {
      "text/plain": [
       "u**4/4*N.i + u**3*N.j + (u**2/2 + 2*u)*N.k"
      ]
     },
     "execution_count": 14,
     "metadata": {},
     "output_type": "execute_result"
    }
   ],
   "source": [
    "integrate(r,u).doit()"
   ]
  },
  {
   "cell_type": "code",
   "execution_count": 19,
   "metadata": {
    "collapsed": false
   },
   "outputs": [
    {
     "ename": "ValueError",
     "evalue": "Invalid limits given: (set([u, b, a]),)",
     "output_type": "error",
     "traceback": [
      "\u001b[1;31m---------------------------------------------------------------------------\u001b[0m",
      "\u001b[1;31mValueError\u001b[0m                                Traceback (most recent call last)",
      "\u001b[1;32m<ipython-input-19-ac4d339858e7>\u001b[0m in \u001b[0;36m<module>\u001b[1;34m()\u001b[0m\n\u001b[1;32m----> 1\u001b[1;33m \u001b[0mintegrate\u001b[0m\u001b[1;33m(\u001b[0m\u001b[0mr\u001b[0m\u001b[1;33m,\u001b[0m\u001b[1;33m{\u001b[0m\u001b[0mu\u001b[0m\u001b[1;33m,\u001b[0m\u001b[0ma\u001b[0m\u001b[1;33m,\u001b[0m\u001b[0mb\u001b[0m\u001b[1;33m}\u001b[0m\u001b[1;33m)\u001b[0m\u001b[1;33m.\u001b[0m\u001b[0mdoit\u001b[0m\u001b[1;33m(\u001b[0m\u001b[1;33m)\u001b[0m\u001b[1;33m\u001b[0m\u001b[0m\n\u001b[0m",
      "\u001b[1;32mC:\\Users\\dave\\Anaconda\\lib\\site-packages\\sympy\\utilities\\decorator.pyc\u001b[0m in \u001b[0;36mthreaded_func\u001b[1;34m(expr, *args, **kwargs)\u001b[0m\n\u001b[0;32m     33\u001b[0m                                       func(expr.rhs, *args, **kwargs))\n\u001b[0;32m     34\u001b[0m             \u001b[1;32melse\u001b[0m\u001b[1;33m:\u001b[0m\u001b[1;33m\u001b[0m\u001b[0m\n\u001b[1;32m---> 35\u001b[1;33m                 \u001b[1;32mreturn\u001b[0m \u001b[0mfunc\u001b[0m\u001b[1;33m(\u001b[0m\u001b[0mexpr\u001b[0m\u001b[1;33m,\u001b[0m \u001b[1;33m*\u001b[0m\u001b[0margs\u001b[0m\u001b[1;33m,\u001b[0m \u001b[1;33m**\u001b[0m\u001b[0mkwargs\u001b[0m\u001b[1;33m)\u001b[0m\u001b[1;33m\u001b[0m\u001b[0m\n\u001b[0m\u001b[0;32m     36\u001b[0m \u001b[1;33m\u001b[0m\u001b[0m\n\u001b[0;32m     37\u001b[0m     \u001b[1;32mreturn\u001b[0m \u001b[0mthreaded_func\u001b[0m\u001b[1;33m\u001b[0m\u001b[0m\n",
      "\u001b[1;32mC:\\Users\\dave\\Anaconda\\lib\\site-packages\\sympy\\integrals\\integrals.pyc\u001b[0m in \u001b[0;36mintegrate\u001b[1;34m(*args, **kwargs)\u001b[0m\n\u001b[0;32m   1226\u001b[0m     \u001b[0mrisch\u001b[0m \u001b[1;33m=\u001b[0m \u001b[0mkwargs\u001b[0m\u001b[1;33m.\u001b[0m\u001b[0mpop\u001b[0m\u001b[1;33m(\u001b[0m\u001b[1;34m'risch'\u001b[0m\u001b[1;33m,\u001b[0m \u001b[0mNone\u001b[0m\u001b[1;33m)\u001b[0m\u001b[1;33m\u001b[0m\u001b[0m\n\u001b[0;32m   1227\u001b[0m     \u001b[0mmanual\u001b[0m \u001b[1;33m=\u001b[0m \u001b[0mkwargs\u001b[0m\u001b[1;33m.\u001b[0m\u001b[0mpop\u001b[0m\u001b[1;33m(\u001b[0m\u001b[1;34m'manual'\u001b[0m\u001b[1;33m,\u001b[0m \u001b[0mNone\u001b[0m\u001b[1;33m)\u001b[0m\u001b[1;33m\u001b[0m\u001b[0m\n\u001b[1;32m-> 1228\u001b[1;33m     \u001b[0mintegral\u001b[0m \u001b[1;33m=\u001b[0m \u001b[0mIntegral\u001b[0m\u001b[1;33m(\u001b[0m\u001b[1;33m*\u001b[0m\u001b[0margs\u001b[0m\u001b[1;33m,\u001b[0m \u001b[1;33m**\u001b[0m\u001b[0mkwargs\u001b[0m\u001b[1;33m)\u001b[0m\u001b[1;33m\u001b[0m\u001b[0m\n\u001b[0m\u001b[0;32m   1229\u001b[0m \u001b[1;33m\u001b[0m\u001b[0m\n\u001b[0;32m   1230\u001b[0m     \u001b[1;32mif\u001b[0m \u001b[0misinstance\u001b[0m\u001b[1;33m(\u001b[0m\u001b[0mintegral\u001b[0m\u001b[1;33m,\u001b[0m \u001b[0mIntegral\u001b[0m\u001b[1;33m)\u001b[0m\u001b[1;33m:\u001b[0m\u001b[1;33m\u001b[0m\u001b[0m\n",
      "\u001b[1;32mC:\\Users\\dave\\Anaconda\\lib\\site-packages\\sympy\\integrals\\integrals.pyc\u001b[0m in \u001b[0;36m__new__\u001b[1;34m(cls, function, *symbols, **assumptions)\u001b[0m\n\u001b[0;32m     75\u001b[0m         \u001b[1;31m#of behaviour with Integral.\u001b[0m\u001b[1;33m\u001b[0m\u001b[1;33m\u001b[0m\u001b[0m\n\u001b[0;32m     76\u001b[0m         \u001b[1;32mif\u001b[0m \u001b[0mhasattr\u001b[0m\u001b[1;33m(\u001b[0m\u001b[0mfunction\u001b[0m\u001b[1;33m,\u001b[0m \u001b[1;34m'_eval_Integral'\u001b[0m\u001b[1;33m)\u001b[0m\u001b[1;33m:\u001b[0m\u001b[1;33m\u001b[0m\u001b[0m\n\u001b[1;32m---> 77\u001b[1;33m             \u001b[1;32mreturn\u001b[0m \u001b[0mfunction\u001b[0m\u001b[1;33m.\u001b[0m\u001b[0m_eval_Integral\u001b[0m\u001b[1;33m(\u001b[0m\u001b[1;33m*\u001b[0m\u001b[0msymbols\u001b[0m\u001b[1;33m,\u001b[0m \u001b[1;33m**\u001b[0m\u001b[0massumptions\u001b[0m\u001b[1;33m)\u001b[0m\u001b[1;33m\u001b[0m\u001b[0m\n\u001b[0m\u001b[0;32m     78\u001b[0m \u001b[1;33m\u001b[0m\u001b[0m\n\u001b[0;32m     79\u001b[0m         \u001b[0mobj\u001b[0m \u001b[1;33m=\u001b[0m \u001b[0mAddWithLimits\u001b[0m\u001b[1;33m.\u001b[0m\u001b[0m__new__\u001b[0m\u001b[1;33m(\u001b[0m\u001b[0mcls\u001b[0m\u001b[1;33m,\u001b[0m \u001b[0mfunction\u001b[0m\u001b[1;33m,\u001b[0m \u001b[1;33m*\u001b[0m\u001b[0msymbols\u001b[0m\u001b[1;33m,\u001b[0m \u001b[1;33m**\u001b[0m\u001b[0massumptions\u001b[0m\u001b[1;33m)\u001b[0m\u001b[1;33m\u001b[0m\u001b[0m\n",
      "\u001b[1;32mC:\\Users\\dave\\Anaconda\\lib\\site-packages\\sympy\\vector\\basisdependent.pyc\u001b[0m in \u001b[0;36m_eval_Integral\u001b[1;34m(self, *symbols, **assumptions)\u001b[0m\n\u001b[0;32m    109\u001b[0m     \u001b[1;32mdef\u001b[0m \u001b[0m_eval_Integral\u001b[0m\u001b[1;33m(\u001b[0m\u001b[0mself\u001b[0m\u001b[1;33m,\u001b[0m \u001b[1;33m*\u001b[0m\u001b[0msymbols\u001b[0m\u001b[1;33m,\u001b[0m \u001b[1;33m**\u001b[0m\u001b[0massumptions\u001b[0m\u001b[1;33m)\u001b[0m\u001b[1;33m:\u001b[0m\u001b[1;33m\u001b[0m\u001b[0m\n\u001b[0;32m    110\u001b[0m         integral_components = [Integral(v, *symbols, **assumptions) * k\n\u001b[1;32m--> 111\u001b[1;33m                                for k, v in self.components.items()]\n\u001b[0m\u001b[0;32m    112\u001b[0m         \u001b[1;32mreturn\u001b[0m \u001b[0mself\u001b[0m\u001b[1;33m.\u001b[0m\u001b[0m_add_func\u001b[0m\u001b[1;33m(\u001b[0m\u001b[1;33m*\u001b[0m\u001b[0mintegral_components\u001b[0m\u001b[1;33m)\u001b[0m\u001b[1;33m\u001b[0m\u001b[0m\n\u001b[0;32m    113\u001b[0m \u001b[1;33m\u001b[0m\u001b[0m\n",
      "\u001b[1;32mC:\\Users\\dave\\Anaconda\\lib\\site-packages\\sympy\\integrals\\integrals.pyc\u001b[0m in \u001b[0;36m__new__\u001b[1;34m(cls, function, *symbols, **assumptions)\u001b[0m\n\u001b[0;32m     77\u001b[0m             \u001b[1;32mreturn\u001b[0m \u001b[0mfunction\u001b[0m\u001b[1;33m.\u001b[0m\u001b[0m_eval_Integral\u001b[0m\u001b[1;33m(\u001b[0m\u001b[1;33m*\u001b[0m\u001b[0msymbols\u001b[0m\u001b[1;33m,\u001b[0m \u001b[1;33m**\u001b[0m\u001b[0massumptions\u001b[0m\u001b[1;33m)\u001b[0m\u001b[1;33m\u001b[0m\u001b[0m\n\u001b[0;32m     78\u001b[0m \u001b[1;33m\u001b[0m\u001b[0m\n\u001b[1;32m---> 79\u001b[1;33m         \u001b[0mobj\u001b[0m \u001b[1;33m=\u001b[0m \u001b[0mAddWithLimits\u001b[0m\u001b[1;33m.\u001b[0m\u001b[0m__new__\u001b[0m\u001b[1;33m(\u001b[0m\u001b[0mcls\u001b[0m\u001b[1;33m,\u001b[0m \u001b[0mfunction\u001b[0m\u001b[1;33m,\u001b[0m \u001b[1;33m*\u001b[0m\u001b[0msymbols\u001b[0m\u001b[1;33m,\u001b[0m \u001b[1;33m**\u001b[0m\u001b[0massumptions\u001b[0m\u001b[1;33m)\u001b[0m\u001b[1;33m\u001b[0m\u001b[0m\n\u001b[0m\u001b[0;32m     80\u001b[0m         \u001b[1;32mreturn\u001b[0m \u001b[0mobj\u001b[0m\u001b[1;33m\u001b[0m\u001b[0m\n\u001b[0;32m     81\u001b[0m \u001b[1;33m\u001b[0m\u001b[0m\n",
      "\u001b[1;32mC:\\Users\\dave\\Anaconda\\lib\\site-packages\\sympy\\concrete\\expr_with_limits.pyc\u001b[0m in \u001b[0;36m__new__\u001b[1;34m(cls, function, *symbols, **assumptions)\u001b[0m\n\u001b[0;32m    351\u001b[0m \u001b[1;33m\u001b[0m\u001b[0m\n\u001b[0;32m    352\u001b[0m         \u001b[1;32mif\u001b[0m \u001b[0msymbols\u001b[0m\u001b[1;33m:\u001b[0m\u001b[1;33m\u001b[0m\u001b[0m\n\u001b[1;32m--> 353\u001b[1;33m             \u001b[0mlimits\u001b[0m\u001b[1;33m,\u001b[0m \u001b[0morientation\u001b[0m \u001b[1;33m=\u001b[0m \u001b[0m_process_limits\u001b[0m\u001b[1;33m(\u001b[0m\u001b[1;33m*\u001b[0m\u001b[0msymbols\u001b[0m\u001b[1;33m)\u001b[0m\u001b[1;33m\u001b[0m\u001b[0m\n\u001b[0m\u001b[0;32m    354\u001b[0m         \u001b[1;32melse\u001b[0m\u001b[1;33m:\u001b[0m\u001b[1;33m\u001b[0m\u001b[0m\n\u001b[0;32m    355\u001b[0m             \u001b[1;31m# symbol not provided -- we can still try to compute a general form\u001b[0m\u001b[1;33m\u001b[0m\u001b[1;33m\u001b[0m\u001b[0m\n",
      "\u001b[1;32mC:\\Users\\dave\\Anaconda\\lib\\site-packages\\sympy\\concrete\\expr_with_limits.pyc\u001b[0m in \u001b[0;36m_process_limits\u001b[1;34m(*symbols)\u001b[0m\n\u001b[0;32m     55\u001b[0m                     \u001b[1;32mcontinue\u001b[0m\u001b[1;33m\u001b[0m\u001b[0m\n\u001b[0;32m     56\u001b[0m \u001b[1;33m\u001b[0m\u001b[0m\n\u001b[1;32m---> 57\u001b[1;33m         \u001b[1;32mraise\u001b[0m \u001b[0mValueError\u001b[0m\u001b[1;33m(\u001b[0m\u001b[1;34m'Invalid limits given: %s'\u001b[0m \u001b[1;33m%\u001b[0m \u001b[0mstr\u001b[0m\u001b[1;33m(\u001b[0m\u001b[0msymbols\u001b[0m\u001b[1;33m)\u001b[0m\u001b[1;33m)\u001b[0m\u001b[1;33m\u001b[0m\u001b[0m\n\u001b[0m\u001b[0;32m     58\u001b[0m \u001b[1;33m\u001b[0m\u001b[0m\n\u001b[0;32m     59\u001b[0m     \u001b[1;32mreturn\u001b[0m \u001b[0mlimits\u001b[0m\u001b[1;33m,\u001b[0m \u001b[0morientation\u001b[0m\u001b[1;33m\u001b[0m\u001b[0m\n",
      "\u001b[1;31mValueError\u001b[0m: Invalid limits given: (set([u, b, a]),)"
     ]
    }
   ],
   "source": [
    "integrate(r,{u,a,b}).doit()"
   ]
  },
  {
   "cell_type": "markdown",
   "metadata": {},
   "source": [
    "<h2>Line Integrals</h2>\n",
    "\n",
    "\n",
    "Let $\\mathbf{r}(u) = x(u) \\mathbf i + y(u) \\mathbf j + z(u) \\mathbf k$ where <b>r</b>(u) is a position vector of (x, y, z) define a curve joining points P1 and P2, where $u=u_1\\quad and\\quad u=u_2$respectively.\n",
    "\n",
    "We assume that C is composed of a finite number of curves for each of which <b>r</b>(u) has continuous derivative. Let<br><br> \n",
    "$$\\large\\mathbf{A}(x,y,z) = A_1 \\mathbf{i} + A_2 \\mathbf{j} + A_3 \\mathbf{k}$$ <br><br>\n",
    "be a vector function of position defined and continuous on C. Then the integral of the tangenital component of A along C from P1 to P2 written as<br><br>\n",
    "\n",
    "$$\\large\\int_{P_1}^{P_2} \\mathbf A\\cdot d\\mathbf r=\\int_C \\mathbf A\\cdot d\\mathbf r=\\int_C \\left (A_1dx+A_2dy+A_3dz \\right )$$<br><br>\n",
    "Is an example of a line integral. If <b>A</b> is the force <b>F</b> on a particle moving along C this line integral represents the work done by the force. If C is a closed curve then the integral is represented by the closed curve line integral symbol.<br><br>\n",
    "\n",
    "$$\\large\\int_{P_1}^{P_2} \\mathbf A\\cdot d\\mathbf r = \\oint_{C}\\mathbf A\\cdot d\\mathbf r$$<br><br>\n",
    "In fluid mechanics the integral is called the circulation of <b>A</b> about C where A represents the velocity of a fluid. Any integral which is evaluated along a curve is called a line integral. These integrals can also be defined in terms of the limits of sums as in elementary calculus."
   ]
  },
  {
   "cell_type": "code",
   "execution_count": 20,
   "metadata": {
    "collapsed": true
   },
   "outputs": [],
   "source": [
    "x,y,z = symbols('x y z')"
   ]
  },
  {
   "cell_type": "code",
   "execution_count": 21,
   "metadata": {
    "collapsed": true
   },
   "outputs": [],
   "source": [
    "A = 2*x *N.i + x*y * N.j + y*z**2*N.k"
   ]
  },
  {
   "cell_type": "code",
   "execution_count": 24,
   "metadata": {
    "collapsed": true
   },
   "outputs": [],
   "source": [
    "def line_integral(A,N):\n",
    "    return integrate(A.dot(N.i),x) * N.i + integrate(A.dot(N.j),y) * N.j + integrate(A.dot(N.k),z) * N.k "
   ]
  },
  {
   "cell_type": "code",
   "execution_count": 25,
   "metadata": {
    "collapsed": false
   },
   "outputs": [
    {
     "name": "stdout",
     "output_type": "stream",
     "text": [
      "x**2*N.i + x*y**2/2*N.j + y*z**3/3*N.k\n"
     ]
    }
   ],
   "source": [
    "print line_integral(A, N)"
   ]
  },
  {
   "cell_type": "markdown",
   "metadata": {},
   "source": [
    "\n",
    "\n",
    "<h2>Theorem: </h2>\n",
    "\n",
    "If $\\mathbf A = \\nabla\\phi$, everywhere in a region R of space, defined by $a_1 \\leq x \\leq a_2\\ and\\ b_1 \\leq y \\leq b_2, c_1 \\leq z \\leq c_2\\quad $ where $\\quad\\phi(x,y,z) $ is single valued and has continuous derivatives in R then<br>\n",
    "\n",
    "1) $\\int_{P_1}^{P_2} \\mathbf A\\cdot d\\mathbf r $ is independant of the path C in R joining P1 and P2    <br><br>\n",
    "        \n",
    "\n",
    "2) $\\oint_{C}\\mathbf A\\cdot d\\mathbf r=0 $ \n",
    "around any closed curve C in R <br><br>\n",
    "\n",
    "In such cases <b>A</b> is called a conservative vector field and $\\phi$ its scalar potential. A vector field <b>A</b> is conservative if and only if \n",
    "\n",
    "$$\\nabla \\times \\mathbf A=0 \\quad or \\quad \\mathbf{curl}\\ \\mathbf A =0$$\n",
    "\n",
    "\n",
    "or equivalently $$\\mathbf A = \\nabla \\phi = \\mathbf {grad}\\ \\phi.$$ In such cases $$\\mathbf A.d\\mathbf r =A_1dx + A_2dy +A_3 dz = d\\phi $$ an exact differential."
   ]
  },
  {
   "cell_type": "code",
   "execution_count": 26,
   "metadata": {
    "collapsed": true
   },
   "outputs": [],
   "source": [
    "pre_phi = line_integral(A, N)"
   ]
  },
  {
   "cell_type": "code",
   "execution_count": 27,
   "metadata": {
    "collapsed": true
   },
   "outputs": [],
   "source": [
    "phi = pre_phi.dot(N.i) + pre_phi.dot(N.j) + pre_phi.dot(N.k)"
   ]
  },
  {
   "cell_type": "code",
   "execution_count": 28,
   "metadata": {
    "collapsed": false
   },
   "outputs": [
    {
     "data": {
      "text/plain": [
       "x**2 + x*y**2/2 + y*z**3/3"
      ]
     },
     "execution_count": 28,
     "metadata": {},
     "output_type": "execute_result"
    }
   ],
   "source": [
    "phi"
   ]
  },
  {
   "cell_type": "code",
   "execution_count": 29,
   "metadata": {
    "collapsed": true
   },
   "outputs": [],
   "source": [
    "def grad_func(p,N):\n",
    "    return diff(p,x)*N.i+diff(p,y)*N.j + diff(p,z)*N.k"
   ]
  },
  {
   "cell_type": "code",
   "execution_count": 30,
   "metadata": {
    "collapsed": true
   },
   "outputs": [],
   "source": [
    "A2 = grad_func(phi,N)"
   ]
  },
  {
   "cell_type": "code",
   "execution_count": 31,
   "metadata": {
    "collapsed": false
   },
   "outputs": [
    {
     "data": {
      "text/plain": [
       "False"
      ]
     },
     "execution_count": 31,
     "metadata": {},
     "output_type": "execute_result"
    }
   ],
   "source": [
    "A == A2"
   ]
  },
  {
   "cell_type": "code",
   "execution_count": 32,
   "metadata": {
    "collapsed": false
   },
   "outputs": [
    {
     "data": {
      "text/plain": [
       "(2*x + y**2/2)*N.i + (x*y + z**3/3)*N.j + y*z**2*N.k"
      ]
     },
     "execution_count": 32,
     "metadata": {},
     "output_type": "execute_result"
    }
   ],
   "source": [
    "A2"
   ]
  },
  {
   "cell_type": "code",
   "execution_count": 33,
   "metadata": {
    "collapsed": true
   },
   "outputs": [],
   "source": [
    "A3 = 2*x*N.i + y**2 * N.j + 2*z**3 * N.k"
   ]
  },
  {
   "cell_type": "code",
   "execution_count": 39,
   "metadata": {
    "collapsed": true
   },
   "outputs": [],
   "source": [
    "pre_phi2 = line_integral(A3,N)"
   ]
  },
  {
   "cell_type": "code",
   "execution_count": 40,
   "metadata": {
    "collapsed": false
   },
   "outputs": [
    {
     "data": {
      "text/plain": [
       "x**2*N.i + y**3/3*N.j + z**4/2*N.k"
      ]
     },
     "execution_count": 40,
     "metadata": {},
     "output_type": "execute_result"
    }
   ],
   "source": [
    "pre_phi2"
   ]
  },
  {
   "cell_type": "code",
   "execution_count": 41,
   "metadata": {
    "collapsed": false
   },
   "outputs": [],
   "source": [
    "phi2 = pre_phi2.dot(N.i) + pre_phi2.dot(N.j) + pre_phi2.dot(N.k)"
   ]
  },
  {
   "cell_type": "code",
   "execution_count": 42,
   "metadata": {
    "collapsed": true
   },
   "outputs": [],
   "source": [
    "A4 = grad_func(phi2, N)"
   ]
  },
  {
   "cell_type": "code",
   "execution_count": 43,
   "metadata": {
    "collapsed": false
   },
   "outputs": [
    {
     "data": {
      "text/plain": [
       "True"
      ]
     },
     "execution_count": 43,
     "metadata": {},
     "output_type": "execute_result"
    }
   ],
   "source": [
    "A3 == A4"
   ]
  },
  {
   "cell_type": "code",
   "execution_count": 61,
   "metadata": {
    "collapsed": false
   },
   "outputs": [],
   "source": [
    "def line_integral(A,N, p1, p2):\n",
    "    return integrate(A.dot(N.i),(x,p1.dot(N.i),p2.dot(N.i)))  + integrate(A.dot(N.j),(y,p1.dot(N.j),p2.dot(N.j)))  + integrate(A.dot(N.k),(z,p1.dot(N.k),p2.dot(N.k)))  "
   ]
  },
  {
   "cell_type": "code",
   "execution_count": 65,
   "metadata": {
    "collapsed": true
   },
   "outputs": [],
   "source": [
    "p1 = 1*N.i + 2*N.j + N.k\n",
    "p2 = 2*N.i + N.j + 2*N.k"
   ]
  },
  {
   "cell_type": "code",
   "execution_count": 66,
   "metadata": {
    "collapsed": false
   },
   "outputs": [
    {
     "data": {
      "text/plain": [
       "49/6"
      ]
     },
     "execution_count": 66,
     "metadata": {},
     "output_type": "execute_result"
    }
   ],
   "source": [
    "line_integral(A3,N, p1, p2)"
   ]
  },
  {
   "cell_type": "code",
   "execution_count": 67,
   "metadata": {
    "collapsed": true
   },
   "outputs": [],
   "source": [
    "p1 = 0*N.i + 0*N.j + N.k\n",
    "p2 = 2*N.i + N.j + 2*N.k"
   ]
  },
  {
   "cell_type": "code",
   "execution_count": 68,
   "metadata": {
    "collapsed": false
   },
   "outputs": [
    {
     "data": {
      "text/plain": [
       "71/6"
      ]
     },
     "execution_count": 68,
     "metadata": {},
     "output_type": "execute_result"
    }
   ],
   "source": [
    "line_integral(A3,N, p1, p2)"
   ]
  },
  {
   "cell_type": "markdown",
   "metadata": {},
   "source": [
    "Here <br>\n",
    "$$ \\mathbf A = 2\\ x\\mathbf i + y^2 \\mathbf j + 2\\ z^3 \\mathbf k $$ <br>\n",
    "and <br>\n",
    "$$ \\mathbf r = x \\mathbf i + y \\mathbf j + z \\mathbf k = u^3 \\mathbf i + 3 u ^2 \\mathbf j  + (u+2) \\mathbf k $$ <br>\n",
    "and so<br>\n",
    "$$ \\mathbf A = 2\\ (u^3)\\mathbf i + (3 u^2)^2 \\mathbf j + 2\\ (u+2)^3 \\mathbf k $$ <br>\n",
    "and <br>\n",
    "$$ d \\mathbf r  = \\frac{\\mathrm{d}\\mathbf r }{\\mathrm{d} u} \\mathrm{d} u = (3 u^2 \\mathbf i + 6 u \\mathbf j + 1 \\mathbf k)\\ \\mathrm{d} u $$"
   ]
  },
  {
   "cell_type": "markdown",
   "metadata": {},
   "source": [
    "Thus: <br><br>\n",
    "  $$\\large \\int_{P_1}^{P_2} \\mathbf A\\cdot d\\mathbf r = \\int_{u_1}^{u_2} (2\\ (u^3)\\mathbf i + (3 u^2)^2 \\mathbf j + 2\\ (u+2)^3 \\mathbf k)\\cdot (3 u^2 \\mathbf i + 6 u \\mathbf j + 1 \\mathbf k)\\ \\mathrm{d} u$$\n",
    "    <br><br>Note: our limits have changed to the u parameter of the curve, interpret as \"u at p1\" and \"u at p2\" where u might be arc length or time <br><br>\n",
    "   $$ \\large\\int_{u_1}^{u_2} (2\\ (u^3)(3 u^2) + (3 u^2)^2 (6 u) + 2\\ (u+2)^3 )\\ \\mathrm{d} u$$"
   ]
  },
  {
   "cell_type": "markdown",
   "metadata": {},
   "source": [
    "=lazy, so not being disrespectful ..."
   ]
  },
  {
   "cell_type": "code",
   "execution_count": 77,
   "metadata": {
    "collapsed": false
   },
   "outputs": [
    {
     "data": {
      "text/plain": [
       "60*u**5 + 2*u**3 + 12*u**2 + 24*u + 16"
      ]
     },
     "execution_count": 77,
     "metadata": {},
     "output_type": "execute_result"
    }
   ],
   "source": [
    "expand(2*(u**3)*(3*u**2)+(3*u**2)**2 *(6*u) + 2*(u+2)**3)"
   ]
  },
  {
   "cell_type": "code",
   "execution_count": 70,
   "metadata": {
    "collapsed": false
   },
   "outputs": [
    {
     "data": {
      "text/plain": [
       "u**3 + 6*u**2 + 12*u + 8"
      ]
     },
     "execution_count": 70,
     "metadata": {},
     "output_type": "execute_result"
    }
   ],
   "source": [
    "expand((u+2)**3)"
   ]
  },
  {
   "cell_type": "markdown",
   "metadata": {},
   "source": [
    "$$\\large \\int_{u_1}^{u_2} (6 (u^5) + (54 u^5) +  (2u^3+12 u^2 +24 u + 16) )\\ \\mathrm{d} u $$"
   ]
  },
  {
   "cell_type": "code",
   "execution_count": 71,
   "metadata": {
    "collapsed": false
   },
   "outputs": [
    {
     "data": {
      "text/plain": [
       "10*u**6 + u**4/2 + 4*u**3 + 12*u**2 + 16*u"
      ]
     },
     "execution_count": 71,
     "metadata": {},
     "output_type": "execute_result"
    }
   ],
   "source": [
    "integrate(6*u**5 + 54*u**5 + 2*u**3 +12*u**2 + 24*u + 16, u)"
   ]
  },
  {
   "cell_type": "markdown",
   "metadata": {},
   "source": [
    "Thus <br>\n",
    "$$\\large\\int_{u_1}^{u_2} \\mathbf A\\cdot d\\mathbf r =\\Big|10 u^6 + \\frac{u^4}{2} + 4 u^3 + 12 u ^ 2 + 16 u\\ \\Big|_{u_1}^{u_2} $$"
   ]
  },
  {
   "cell_type": "code",
   "execution_count": 74,
   "metadata": {
    "collapsed": false
   },
   "outputs": [
    {
     "data": {
      "text/plain": [
       "85/2"
      ]
     },
     "execution_count": 74,
     "metadata": {},
     "output_type": "execute_result"
    }
   ],
   "source": [
    "integrate(6*u**5 + 54*u**5 + 2*u**3 +12*u**2 + 24*u + 16, (u,0,1))"
   ]
  },
  {
   "cell_type": "code",
   "execution_count": 76,
   "metadata": {
    "collapsed": false
   },
   "outputs": [
    {
     "data": {
      "text/plain": [
       "85/2"
      ]
     },
     "execution_count": 76,
     "metadata": {},
     "output_type": "execute_result"
    }
   ],
   "source": [
    "-integrate(6*u**5 + 54*u**5 + 2*u**3 +12*u**2 + 24*u + 16, (u,1,0))"
   ]
  },
  {
   "cell_type": "markdown",
   "metadata": {},
   "source": [
    "the direction along the path is signed"
   ]
  },
  {
   "cell_type": "code",
   "execution_count": 79,
   "metadata": {
    "collapsed": false
   },
   "outputs": [
    {
     "name": "stdout",
     "output_type": "stream",
     "text": [
      "\\int \\sqrt{\\frac{1}{x}}\\, dx\n"
     ]
    }
   ],
   "source": [
    "init_printing(use_latex=true)\n",
    "print(latex(Integral(sqrt(1/x), x)))"
   ]
  },
  {
   "cell_type": "markdown",
   "metadata": {},
   "source": [
    "\n",
    "\n",
    "<div style = \"background-color:#F44336\"><h1>Potential Energy Example </h1></div>\n",
    "\n",
    "From Newtons law of gravitation, <br>\n",
    "\n",
    "$$\\displaystyle F=\\frac{GMm}{r^2}, \\ \\ G=6.67\\times 10^-11 \\frac{N.m^2}{kg^2}\\\\$$ <br>\n",
    "\n",
    "or in vector form <br>\n",
    "\n",
    "$$ \\mathbf F_{12}=\\frac{G M_1 M_2 }{|\\mathbf r_{12}|^2} \\frac{ \\mathbf r_{12} }{|\\mathbf r_{12}|} $$\n",
    "\n",
    "<br> or <br>\n",
    "\n",
    "$$ \\mathbf F_{12}=\\frac{G M_1 M_2 }{|\\mathbf r_{12}|^3} \\mathbf r_{12}  = \\frac{G M_1 M_2 }{|\\mathbf r_{12}|^2}  \\hat{\\mathbf r_{12}} $$\n",
    "\n",
    "<br> Is the force on $ M_1 $ exerted by $ M_2 $ and $\\hat{\\mathbf r_{12}} $ is the unit direction vector from $ M_1 $ to $ M_2 $. Also, <br>\n",
    "\n",
    "$$ \\mathbf F_{12} = - \\mathbf F_{21} $$ <br> <br>\n",
    "\n",
    "To calculate the potential, <br>\n",
    "\n",
    "$$ \\mathbf F = - \\mathbf \\nabla \\phi $$ <br>\n",
    "\n",
    "The integral is as follows : <br>\n",
    "$$ \\phi = \\int {\\mathbf F \\cdot d\\mathbf r}$$ <br>\n",
    "\n",
    "so <br>\n",
    "\n",
    "$$ \\phi = \\int\\left (\\frac{\\partial \\phi}{\\partial x} \\mathbf i+\\frac{\\partial \\phi}{\\partial y} \\mathbf j+\\frac{\\partial \\phi}{\\partial z} \\mathbf k \\right ).(dx\\ \\mathbf i + dy\\ \\mathbf j + dz\\ \\mathbf k) $$\n",
    "\n",
    "<br> and in the case of gravitation, we calculate the gravitational potential of a single object $M_1$ to give an abstract expression for the force it exerts on its neighbouring region of space <br>\n",
    "\n",
    "$$\\phi = \\int{\\mathbf F_{12} \\cdot d\\mathbf r} = \\int {\\frac{G M_1 }{|\\mathbf r_{12}|^3}   }\\mathbf r_{12} \\cdot d \\mathbf r  =  G M_1\\int \\frac{ \\mathbf r_{12} }{|\\mathbf r_{12}| ^3}\\cdot d\\mathbf r $$ <br>\n",
    "\n",
    "\n",
    "\n",
    "<br>\n",
    "so <br>\n",
    "\n",
    "\n",
    "$$\\phi   = -G M_1\\int  \\big(\\frac{(x_2-x_1)}{((x_2-x_1)^2+(y_2-y_1)^2+(z_2 -z_1)^2)^{\\frac{3}{2}}}\\ dx+ \\frac{(y_2-y_1)}{((x_2-x_1)^2+(y_2-y_1)^2+(z_2 -z_1)^2)^{\\frac{3}{2}}}\\ dy+\\frac{(z_2 -z_1)}{((x_2-x_1)^2+(y_2-y_1)^2+(z_2 -z_1)^2)^{\\frac{3}{2}}}\\ dz \\big) $$\n",
    "\n",
    "<br> The negative sign here is because we are expressing the force from $M_1$ onto space <br>\n",
    "<br> and recognizing the fact that <br>\n",
    "\n",
    "$$\n",
    " \\frac{x}{(x^2+y^2+z^2)^{\\frac{3}{2}}}  = \\frac{ \\partial }{\\partial x} ( \\frac{1}{(x^2+y^2+z^2)^{\\frac{1}{2}}} ) = \\frac{ \\partial \\phi }{\\partial x}\n",
    "$$\n",
    "\n",
    "<br> and by similarity the other components of the vector gives us <br>\n",
    "\n",
    "$$ - G M_1 \\int_{p_1}^{p_2}  \\large(\\frac{ \\partial \\phi}{\\partial x} \\ dx+ \\frac{ \\partial \\phi}{\\partial y} \\ dy+\\frac{ \\partial\\phi }{\\partial y} \\ dz \\large) = - G M_1 \\int_{p_1}^{p_2}  d \\phi = \\phi(p_1)-\\phi(p_2)$$\n",
    "\n",
    "<br> now the limits of integration express the points $r_1$ and $r_2$ and the exact differential is the sum of the partials of components :<br>\n",
    "\n",
    "$$ d\\phi = \\frac{ \\partial \\phi}{\\partial x} \\ dx+ \\frac{ \\partial \\phi}{\\partial y} \\ dy+\\frac{ \\partial\\phi }{\\partial y} \\ dz $$\n",
    "\n",
    "The negative sign of the $ \\mathbf r $ vector in this case indicates that the direction of the field is the force exerted by $M_1 $ on any other body everywhere in space.\n",
    "\n",
    "Therefore <br>\n",
    "$$ \\phi(p_2)-\\phi(p_1) = \\int_{p_1}^{p_2}{\\mathbf F \\cdot d\\mathbf r} =\\int_{p_1}^{p_2}\\left (\\frac{\\partial \\phi}{\\partial x} \\mathbf i+\\frac{\\partial \\phi}{\\partial y} \\mathbf j+\\frac{\\partial \\phi}{\\partial z} \\mathbf k \\right ).(dx\\ \\mathbf i + dy\\ \\mathbf j + dz\\ \\mathbf k)=\\int_{p_1}^{p_2}\\frac{\\partial \\phi }{\\partial x} d x +\\frac{\\partial \\phi}{\\partial y}d y +\\frac{\\partial \\phi}{\\partial z}d z = \\int_{p_1}^{p_2} \\mathbf \\nabla \\phi \\cdot d \\mathbf r  $$\n",
    "\n",
    "\n",
    "\n",
    "$$\\phi(p_2)-\\phi(p_1) = \\int_{p_1}^{p_2}{\\mathbf F \\cdot d\\mathbf r} = \\int_{p_1}^{p_2} {\\frac{G M_1 M_2 }{|\\mathbf r|^3}  \\mathbf r  }\\cdot d \\mathbf r = \\int_{p_1}^{p_2} \\mathbf \\nabla \\phi \\cdot d \\mathbf r $$\n",
    "\n",
    "and of course ... \n",
    "\n",
    "$$ \\phi = - \\frac{ G M_1 } { |\\mathbf r | } $$\n",
    "\n",
    "Is the potential of the Mass $M_1$ affecting space. \n"
   ]
  },
  {
   "cell_type": "code",
   "execution_count": null,
   "metadata": {
    "collapsed": true
   },
   "outputs": [],
   "source": []
  }
 ],
 "metadata": {
  "kernelspec": {
   "display_name": "Python 2",
   "language": "python",
   "name": "python2"
  },
  "language_info": {
   "codemirror_mode": {
    "name": "ipython",
    "version": 2
   },
   "file_extension": ".py",
   "mimetype": "text/x-python",
   "name": "python",
   "nbconvert_exporter": "python",
   "pygments_lexer": "ipython2",
   "version": "2.7.10"
  }
 },
 "nbformat": 4,
 "nbformat_minor": 0
}
