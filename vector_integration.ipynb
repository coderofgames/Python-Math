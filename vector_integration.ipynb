{
 "cells": [
  {
   "cell_type": "markdown",
   "metadata": {},
   "source": [
    "<h1>5) Vector Integration </h1>\n",
    "<br> note: expand and move to end. <br>\n",
    "Bibliography m Shaums Vector Analysis, Spiegel, and Advanced Engineering Mathematics, Krezig \n",
    "<br>\n",
    "<h2>  Ordinary Integrals of Vectors\n",
    "</h2>\n",
    "\n",
    "Let <br><br>\n",
    "$\\large\\mathbf{R}(u) = R_1(u) \\mathbf{i} + R_2(u) \\mathbf{j} + R_3(u) \\mathbf{k} $<br><br>\n",
    "be a vector depending on a single scalar variable u. Where the <b>R</b> is continuous on a specified interval.<br><br>\n",
    "\n",
    "\n",
    "$$\n",
    "\\large\\int \\mathbf R(u)du=\\mathbf i \\int R_1(u)du + \\mathbf j \\int R_2(u)du +\\mathbf k \\int R_3(u)du\n",
    "$$<br><br>\n",
    "\n",
    "\n",
    "is called an indefinite integral of <b>R</b>(u). If there exists a vector <b>S</b>(u) such that<br><br>\n",
    "$$\\large\\mathbf {R}(u) = \\displaystyle\\frac{d}{du}(\\mathbf{S}(u)) $$\n",
    "\n",
    "<br><br>then<br><br>\n",
    "\n",
    "\n",
    "$$\n",
    "\\large\\int \\mathbf R(u)du=\\int \\frac{\\mathrm{d}\\mathbf S(u) }{\\mathrm{d} u}du=\\mathbf S(u) +\\mathbf c\n",
    "$$<br><br>\n",
    "where <b>c</b> is an arbitrary constant vector independant of u. The definite integral between limits can be written u=b and u=a.<br><br>\n",
    "\n",
    "\n",
    "$$\n",
    "\\large\\int \\mathbf R(u)du=\\int_{a}^{b} \\frac{\\mathrm{d}\\mathbf S(u) }{\\mathrm{d} u}du=\\mathbf S(b)-\\mathbf S(a)\n",
    "  $$     <br><br>\n",
    "The integral can also be defined as the limit of a sum."
   ]
  },
  {
   "cell_type": "code",
   "execution_count": 1,
   "metadata": {
    "collapsed": false,
    "scrolled": true
   },
   "outputs": [
    {
     "name": "stdout",
     "output_type": "stream",
     "text": [
      " 3    2    \n",
      "x    x     \n",
      "── + ── + x\n",
      "3    2     \n"
     ]
    }
   ],
   "source": [
    "from sympy import *\n",
    "init_printing()\n",
    "x = Symbol('x')\n",
    "integrate(x**2 + x + 1, x)\n"
   ]
  },
  {
   "cell_type": "code",
   "execution_count": 5,
   "metadata": {
    "collapsed": false
   },
   "outputs": [
    {
     "name": "stdout",
     "output_type": "stream",
     "text": [
      " 3    2    \n",
      "x    x     \n",
      "── + ── + x\n",
      "3    2     \n"
     ]
    }
   ],
   "source": [
    "init_printing(use_latex=true)\n",
    "integrate(x**2 + x + 1, x)"
   ]
  },
  {
   "cell_type": "code",
   "execution_count": 2,
   "metadata": {
    "collapsed": false
   },
   "outputs": [],
   "source": [
    "from sympy.vector import *\n",
    "N = CoordSysCartesian('N')\n",
    "a,b = symbols('a b')\n",
    "u = symbols('u')"
   ]
  },
  {
   "cell_type": "code",
   "execution_count": 3,
   "metadata": {
    "collapsed": true
   },
   "outputs": [],
   "source": [
    "r1=u**3\n",
    "r2=3*u**2\n",
    "r3=u+2"
   ]
  },
  {
   "cell_type": "code",
   "execution_count": 4,
   "metadata": {
    "collapsed": false
   },
   "outputs": [],
   "source": [
    "r = r1*N.i + r2*N.j + r3*N.k"
   ]
  },
  {
   "cell_type": "code",
   "execution_count": 5,
   "metadata": {
    "collapsed": false
   },
   "outputs": [
    {
     "data": {
      "text/plain": [
       "u**4/4*N.i + u**3*N.j + (u**2/2 + 2*u)*N.k"
      ]
     },
     "execution_count": 5,
     "metadata": {},
     "output_type": "execute_result"
    }
   ],
   "source": [
    "integrate(r,u).doit()"
   ]
  },
  {
   "cell_type": "code",
   "execution_count": 7,
   "metadata": {
    "collapsed": false
   },
   "outputs": [
    {
     "data": {
      "text/plain": [
       "(-a**4/4 + b**4/4)*N.i + (-a**3 + b**3)*N.j + (-a**2/2 - 2*a + b**2/2 + 2*b)*N.k"
      ]
     },
     "execution_count": 7,
     "metadata": {},
     "output_type": "execute_result"
    }
   ],
   "source": [
    "integrate(r,(u,a,b)).doit()"
   ]
  },
  {
   "cell_type": "markdown",
   "metadata": {},
   "source": [
    "<h2>Line Integrals</h2>\n",
    "\n",
    "\n",
    "Let $\\mathbf{r}(u) = x(u) \\mathbf i + y(u) \\mathbf j + z(u) \\mathbf k$ where <b>r</b>(u) is a position vector of (x, y, z) define a curve joining points P1 and P2, where $u=u_1\\quad and\\quad u=u_2$respectively.\n",
    "\n",
    "We assume that C is composed of a finite number of curves for each of which <b>r</b>(u) has continuous derivative. Let<br><br> \n",
    "$$\\large\\mathbf{A}(x,y,z) = A_1 \\mathbf{i} + A_2 \\mathbf{j} + A_3 \\mathbf{k}$$ <br><br>\n",
    "be a vector function of position defined and continuous on C. Then the integral of the tangenital component of A along C from P1 to P2 written as<br><br>\n",
    "\n",
    "$$\\large\\int_{P_1}^{P_2} \\mathbf A\\cdot d\\mathbf r=\\int_C \\mathbf A\\cdot d\\mathbf r=\\int_C \\left (A_1dx+A_2dy+A_3dz \\right )$$<br><br>\n",
    "Is an example of a line integral. If <b>A</b> is the force <b>F</b> on a particle moving along C this line integral represents the work done by the force. If C is a closed curve then the integral is represented by the closed curve line integral symbol.<br><br>\n",
    "\n",
    "$$\\large\\int_{P_1}^{P_2} \\mathbf A\\cdot d\\mathbf r = \\oint_{C}\\mathbf A\\cdot d\\mathbf r$$<br><br>\n",
    "In fluid mechanics the integral is called the circulation of <b>A</b> about C where A represents the velocity of a fluid. Any integral which is evaluated along a curve is called a line integral. These integrals can also be defined in terms of the limits of sums as in elementary calculus."
   ]
  },
  {
   "cell_type": "code",
   "execution_count": 8,
   "metadata": {
    "collapsed": true
   },
   "outputs": [],
   "source": [
    "x,y,z = symbols('x y z')"
   ]
  },
  {
   "cell_type": "code",
   "execution_count": 9,
   "metadata": {
    "collapsed": true
   },
   "outputs": [],
   "source": [
    "A = 2*x *N.i + x*y * N.j + y*z**2*N.k"
   ]
  },
  {
   "cell_type": "code",
   "execution_count": 12,
   "metadata": {
    "collapsed": true
   },
   "outputs": [],
   "source": [
    "def line_integral(A,N):\n",
    "    return integrate(A.dot(N.i),x) + integrate(A.dot(N.j),y) + integrate(A.dot(N.k),z) "
   ]
  },
  {
   "cell_type": "code",
   "execution_count": 13,
   "metadata": {
    "collapsed": false
   },
   "outputs": [
    {
     "name": "stdout",
     "output_type": "stream",
     "text": [
      "x**2 + x*y**2/2 + y*z**3/3\n"
     ]
    }
   ],
   "source": [
    "print line_integral(A, N)"
   ]
  },
  {
   "cell_type": "markdown",
   "metadata": {},
   "source": [
    "\n",
    "\n",
    "<h2>Theorem: </h2>\n",
    "\n",
    "If $\\mathbf A = \\nabla\\phi$, everywhere in a region R of space, defined by $a_1 \\leq x \\leq a_2\\ and\\ b_1 \\leq y \\leq b_2, c_1 \\leq z \\leq c_2\\quad $ where $\\quad\\phi(x,y,z) $ is single valued and has continuous derivatives in R then<br>\n",
    "\n",
    "1) $\\int_{P_1}^{P_2} \\mathbf A\\cdot d\\mathbf r $ is independant of the path C in R joining P1 and P2    <br><br>\n",
    "        \n",
    "\n",
    "2) $\\oint_{C}\\mathbf A\\cdot d\\mathbf r=0 $ \n",
    "around any closed curve C in R <br><br>\n",
    "\n",
    "In such cases <b>A</b> is called a conservative vector field and $\\phi$ its scalar potential. A vector field <b>A</b> is conservative if and only if \n",
    "\n",
    "$$\\nabla \\times \\mathbf A=0 \\quad or \\quad \\mathbf{curl}\\ \\mathbf A =0$$\n",
    "\n",
    "\n",
    "or equivalently $$\\mathbf A = \\nabla \\phi = \\mathbf {grad}\\ \\phi.$$ In such cases $$\\mathbf A.d\\mathbf r =A_1dx + A_2dy +A_3 dz = d\\phi $$ an exact differential."
   ]
  },
  {
   "cell_type": "code",
   "execution_count": 14,
   "metadata": {
    "collapsed": true
   },
   "outputs": [],
   "source": [
    "pre_phi = line_integral(A, N)"
   ]
  },
  {
   "cell_type": "code",
   "execution_count": 16,
   "metadata": {
    "collapsed": false
   },
   "outputs": [],
   "source": [
    "phi = pre_phi"
   ]
  },
  {
   "cell_type": "code",
   "execution_count": 17,
   "metadata": {
    "collapsed": false
   },
   "outputs": [
    {
     "data": {
      "text/plain": [
       "x**2 + x*y**2/2 + y*z**3/3"
      ]
     },
     "execution_count": 17,
     "metadata": {},
     "output_type": "execute_result"
    }
   ],
   "source": [
    "phi"
   ]
  },
  {
   "cell_type": "code",
   "execution_count": 18,
   "metadata": {
    "collapsed": true
   },
   "outputs": [],
   "source": [
    "def grad_func(p,N):\n",
    "    return diff(p,x)*N.i+diff(p,y)*N.j + diff(p,z)*N.k"
   ]
  },
  {
   "cell_type": "code",
   "execution_count": 19,
   "metadata": {
    "collapsed": true
   },
   "outputs": [],
   "source": [
    "A2 = grad_func(phi,N)"
   ]
  },
  {
   "cell_type": "code",
   "execution_count": 21,
   "metadata": {
    "collapsed": false
   },
   "outputs": [
    {
     "data": {
      "text/plain": [
       "False"
      ]
     },
     "execution_count": 21,
     "metadata": {},
     "output_type": "execute_result"
    }
   ],
   "source": [
    "A == A2"
   ]
  },
  {
   "cell_type": "code",
   "execution_count": 22,
   "metadata": {
    "collapsed": false
   },
   "outputs": [
    {
     "data": {
      "text/plain": [
       "(2*x + y**2/2)*N.i + (x*y + z**3/3)*N.j + y*z**2*N.k"
      ]
     },
     "execution_count": 22,
     "metadata": {},
     "output_type": "execute_result"
    }
   ],
   "source": [
    "A2"
   ]
  },
  {
   "cell_type": "code",
   "execution_count": 23,
   "metadata": {
    "collapsed": true
   },
   "outputs": [],
   "source": [
    "A3 = 2*x*N.i + y**2 * N.j + 2*z**3 * N.k"
   ]
  },
  {
   "cell_type": "code",
   "execution_count": 24,
   "metadata": {
    "collapsed": true
   },
   "outputs": [],
   "source": [
    "pre_phi2 = line_integral(A3,N)"
   ]
  },
  {
   "cell_type": "code",
   "execution_count": 25,
   "metadata": {
    "collapsed": false
   },
   "outputs": [
    {
     "data": {
      "text/plain": [
       "x**2 + y**3/3 + z**4/2"
      ]
     },
     "execution_count": 25,
     "metadata": {},
     "output_type": "execute_result"
    }
   ],
   "source": [
    "pre_phi2"
   ]
  },
  {
   "cell_type": "code",
   "execution_count": 26,
   "metadata": {
    "collapsed": false
   },
   "outputs": [],
   "source": [
    "phi2 = pre_phi2"
   ]
  },
  {
   "cell_type": "code",
   "execution_count": 27,
   "metadata": {
    "collapsed": true
   },
   "outputs": [],
   "source": [
    "A4 = grad_func(phi2, N)"
   ]
  },
  {
   "cell_type": "code",
   "execution_count": 28,
   "metadata": {
    "collapsed": false
   },
   "outputs": [
    {
     "data": {
      "text/plain": [
       "True"
      ]
     },
     "execution_count": 28,
     "metadata": {},
     "output_type": "execute_result"
    }
   ],
   "source": [
    "A3 == A4"
   ]
  },
  {
   "cell_type": "code",
   "execution_count": 29,
   "metadata": {
    "collapsed": false
   },
   "outputs": [],
   "source": [
    "def line_integral(A,N, p1, p2):\n",
    "    return integrate(A.dot(N.i),(x,p1.dot(N.i),p2.dot(N.i)))  + integrate(A.dot(N.j),(y,p1.dot(N.j),p2.dot(N.j)))  + integrate(A.dot(N.k),(z,p1.dot(N.k),p2.dot(N.k)))  "
   ]
  },
  {
   "cell_type": "code",
   "execution_count": 30,
   "metadata": {
    "collapsed": true
   },
   "outputs": [],
   "source": [
    "p1 = 1*N.i + 2*N.j + N.k\n",
    "p2 = 2*N.i + N.j + 2*N.k"
   ]
  },
  {
   "cell_type": "code",
   "execution_count": 31,
   "metadata": {
    "collapsed": false
   },
   "outputs": [
    {
     "data": {
      "text/plain": [
       "49/6"
      ]
     },
     "execution_count": 31,
     "metadata": {},
     "output_type": "execute_result"
    }
   ],
   "source": [
    "line_integral(A3,N, p1, p2)"
   ]
  },
  {
   "cell_type": "code",
   "execution_count": 32,
   "metadata": {
    "collapsed": true
   },
   "outputs": [],
   "source": [
    "p1 = 0*N.i + 0*N.j + N.k\n",
    "p2 = 2*N.i + N.j + 2*N.k"
   ]
  },
  {
   "cell_type": "code",
   "execution_count": 33,
   "metadata": {
    "collapsed": false
   },
   "outputs": [
    {
     "data": {
      "text/plain": [
       "71/6"
      ]
     },
     "execution_count": 33,
     "metadata": {},
     "output_type": "execute_result"
    }
   ],
   "source": [
    "line_integral(A3,N, p1, p2)"
   ]
  },
  {
   "cell_type": "markdown",
   "metadata": {},
   "source": [
    "Here <br>\n",
    "$$ \\mathbf A = 2\\ x\\mathbf i + y^2 \\mathbf j + 2\\ z^3 \\mathbf k $$ <br>\n",
    "and <br>\n",
    "$$ \\mathbf r = x \\mathbf i + y \\mathbf j + z \\mathbf k = u^3 \\mathbf i + 3 u ^2 \\mathbf j  + (u+2) \\mathbf k $$ <br>\n",
    "and so<br>\n",
    "$$ \\mathbf A = 2\\ (u^3)\\mathbf i + (3 u^2)^2 \\mathbf j + 2\\ (u+2)^3 \\mathbf k $$ <br>\n",
    "and <br>\n",
    "$$ d \\mathbf r  = \\frac{\\mathrm{d}\\mathbf r }{\\mathrm{d} u} \\mathrm{d} u = (3 u^2 \\mathbf i + 6 u \\mathbf j + 1 \\mathbf k)\\ \\mathrm{d} u $$"
   ]
  },
  {
   "cell_type": "markdown",
   "metadata": {},
   "source": [
    "Thus: <br><br>\n",
    "  $$\\large \\int_{P_1}^{P_2} \\mathbf A\\cdot d\\mathbf r = \\int_{u_1}^{u_2} (2\\ (u^3)\\mathbf i + (3 u^2)^2 \\mathbf j + 2\\ (u+2)^3 \\mathbf k)\\cdot (3 u^2 \\mathbf i + 6 u \\mathbf j + 1 \\mathbf k)\\ \\mathrm{d} u$$\n",
    "    <br><br>Note: our limits have changed to the u parameter of the curve, interpret as \"u at p1\" and \"u at p2\" where u might be arc length or time <br><br>\n",
    "   $$ \\large\\int_{u_1}^{u_2} (2\\ (u^3)(3 u^2) + (3 u^2)^2 (6 u) + 2\\ (u+2)^3 )\\ \\mathrm{d} u$$"
   ]
  },
  {
   "cell_type": "markdown",
   "metadata": {},
   "source": [
    "=lazy, so not being disrespectful ..."
   ]
  },
  {
   "cell_type": "code",
   "execution_count": 34,
   "metadata": {
    "collapsed": false
   },
   "outputs": [
    {
     "data": {
      "text/plain": [
       "60*u**5 + 2*u**3 + 12*u**2 + 24*u + 16"
      ]
     },
     "execution_count": 34,
     "metadata": {},
     "output_type": "execute_result"
    }
   ],
   "source": [
    "expand(2*(u**3)*(3*u**2)+(3*u**2)**2 *(6*u) + 2*(u+2)**3)"
   ]
  },
  {
   "cell_type": "code",
   "execution_count": 35,
   "metadata": {
    "collapsed": false
   },
   "outputs": [
    {
     "data": {
      "text/plain": [
       "u**3 + 6*u**2 + 12*u + 8"
      ]
     },
     "execution_count": 35,
     "metadata": {},
     "output_type": "execute_result"
    }
   ],
   "source": [
    "expand((u+2)**3)"
   ]
  },
  {
   "cell_type": "markdown",
   "metadata": {},
   "source": [
    "$$\\large \\int_{u_1}^{u_2} (6 (u^5) + (54 u^5) +  (2u^3+12 u^2 +24 u + 16) )\\ \\mathrm{d} u $$"
   ]
  },
  {
   "cell_type": "code",
   "execution_count": 36,
   "metadata": {
    "collapsed": false
   },
   "outputs": [
    {
     "data": {
      "text/plain": [
       "10*u**6 + u**4/2 + 4*u**3 + 12*u**2 + 16*u"
      ]
     },
     "execution_count": 36,
     "metadata": {},
     "output_type": "execute_result"
    }
   ],
   "source": [
    "integrate(6*u**5 + 54*u**5 + 2*u**3 +12*u**2 + 24*u + 16, u)"
   ]
  },
  {
   "cell_type": "markdown",
   "metadata": {},
   "source": [
    "Thus <br>\n",
    "$$\\large\\int_{u_1}^{u_2} \\mathbf A\\cdot d\\mathbf r =\\Big|10 u^6 + \\frac{u^4}{2} + 4 u^3 + 12 u ^ 2 + 16 u\\ \\Big|_{u_1}^{u_2} $$"
   ]
  },
  {
   "cell_type": "code",
   "execution_count": 37,
   "metadata": {
    "collapsed": false
   },
   "outputs": [
    {
     "data": {
      "text/plain": [
       "85/2"
      ]
     },
     "execution_count": 37,
     "metadata": {},
     "output_type": "execute_result"
    }
   ],
   "source": [
    "integrate(6*u**5 + 54*u**5 + 2*u**3 +12*u**2 + 24*u + 16, (u,0,1))"
   ]
  },
  {
   "cell_type": "code",
   "execution_count": 38,
   "metadata": {
    "collapsed": false
   },
   "outputs": [
    {
     "data": {
      "text/plain": [
       "85/2"
      ]
     },
     "execution_count": 38,
     "metadata": {},
     "output_type": "execute_result"
    }
   ],
   "source": [
    "-integrate(6*u**5 + 54*u**5 + 2*u**3 +12*u**2 + 24*u + 16, (u,1,0))"
   ]
  },
  {
   "cell_type": "markdown",
   "metadata": {},
   "source": [
    "the direction along the path is signed"
   ]
  },
  {
   "cell_type": "code",
   "execution_count": 39,
   "metadata": {
    "collapsed": false
   },
   "outputs": [
    {
     "name": "stdout",
     "output_type": "stream",
     "text": [
      "\\int \\sqrt{\\frac{1}{x}}\\, dx\n"
     ]
    }
   ],
   "source": [
    "init_printing(use_latex=true)\n",
    "print(latex(Integral(sqrt(1/x), x)))"
   ]
  },
  {
   "cell_type": "markdown",
   "metadata": {},
   "source": [
    "\n",
    "\n",
    "<div style = \"background-color:#F44336\"><h1>Potential Energy Example </h1></div>\n",
    "\n",
    "From Newtons law of gravitation, <br>\n",
    "\n",
    "$$\\displaystyle F=\\frac{GMm}{r^2}, \\ \\ G=6.67\\times 10^-11 \\frac{N.m^2}{kg^2}\\\\$$ <br>\n",
    "\n",
    "or in vector form <br>\n",
    "\n",
    "$$ \\mathbf F_{12}=\\frac{G M_1 M_2 }{|\\mathbf r_{12}|^2} \\frac{ \\mathbf r_{12} }{|\\mathbf r_{12}|} $$\n",
    "\n",
    "<br> or <br>\n",
    "\n",
    "$$ \\mathbf F_{12}=\\frac{G M_1 M_2 }{|\\mathbf r_{12}|^3} \\mathbf r_{12}  = \\frac{G M_1 M_2 }{|\\mathbf r_{12}|^2}  \\hat{\\mathbf r_{12}} $$\n",
    "\n",
    "<br> Is the force on $ M_1 $ exerted by $ M_2 $ and $\\hat{\\mathbf r_{12}} $ is the unit direction vector from $ M_1 $ to $ M_2 $. Also, <br>\n",
    "\n",
    "$$ \\mathbf F_{12} = - \\mathbf F_{21} $$ <br> <br>\n",
    "\n",
    "To calculate the potential, <br>\n",
    "\n",
    "$$ \\mathbf F = - \\mathbf \\nabla \\phi $$ <br>\n",
    "\n",
    "The integral is as follows : <br>\n",
    "$$ \\phi = \\int {\\mathbf F \\cdot d\\mathbf r}$$ <br>\n",
    "\n",
    "so <br>\n",
    "\n",
    "$$ \\phi = \\int\\left (\\frac{\\partial \\phi}{\\partial x} \\mathbf i+\\frac{\\partial \\phi}{\\partial y} \\mathbf j+\\frac{\\partial \\phi}{\\partial z} \\mathbf k \\right ).(dx\\ \\mathbf i + dy\\ \\mathbf j + dz\\ \\mathbf k) $$\n",
    "\n",
    "<br> and in the case of gravitation, we calculate the gravitational potential of a single object $M_1$ to give an abstract expression for the force it exerts on its neighbouring region of space <br>\n",
    "\n",
    "$$\\phi = \\int{\\mathbf F_{12} \\cdot d\\mathbf r} = \\int {\\frac{G M_1 }{|\\mathbf r_{12}|^3}   }\\mathbf r_{12} \\cdot d \\mathbf r  =  G M_1\\int \\frac{ \\mathbf r_{12} }{|\\mathbf r_{12}| ^3}\\cdot d\\mathbf r $$ <br>\n",
    "\n",
    "\n",
    "\n",
    "<br>\n",
    "so <br>\n",
    "\n",
    "\n",
    "$$\\phi   = -G M_1\\int  \\big(\\frac{(x_2-x_1)}{((x_2-x_1)^2+(y_2-y_1)^2+(z_2 -z_1)^2)^{\\frac{3}{2}}}\\ dx+ \\frac{(y_2-y_1)}{((x_2-x_1)^2+(y_2-y_1)^2+(z_2 -z_1)^2)^{\\frac{3}{2}}}\\ dy+\\frac{(z_2 -z_1)}{((x_2-x_1)^2+(y_2-y_1)^2+(z_2 -z_1)^2)^{\\frac{3}{2}}}\\ dz \\big) $$\n",
    "\n",
    "<br> The negative sign here is because we are expressing the force from $M_1$ onto space <br>\n",
    "<br> and recognizing the fact that <br>\n",
    "\n",
    "$$\n",
    " \\frac{x}{(x^2+y^2+z^2)^{\\frac{3}{2}}}  = \\frac{ \\partial }{\\partial x} ( \\frac{1}{(x^2+y^2+z^2)^{\\frac{1}{2}}} ) = \\frac{ \\partial \\phi }{\\partial x}\n",
    "$$\n",
    "\n",
    "<br> and by similarity the other components of the vector gives us <br>\n",
    "\n",
    "$$ - G M_1 \\int_{p_1}^{p_2}  \\large(\\frac{ \\partial \\phi}{\\partial x} \\ dx+ \\frac{ \\partial \\phi}{\\partial y} \\ dy+\\frac{ \\partial\\phi }{\\partial y} \\ dz \\large) = - G M_1 \\int_{p_1}^{p_2}  d \\phi = \\phi(p_1)-\\phi(p_2)$$\n",
    "\n",
    "<br> now the limits of integration express the points $r_1$ and $r_2$ and the exact differential is the sum of the partials of components :<br>\n",
    "\n",
    "$$ d\\phi = \\frac{ \\partial \\phi}{\\partial x} \\ dx+ \\frac{ \\partial \\phi}{\\partial y} \\ dy+\\frac{ \\partial\\phi }{\\partial y} \\ dz $$\n",
    "\n",
    "The negative sign of the $ \\mathbf r $ vector in this case indicates that the direction of the field is the force exerted by $M_1 $ on any other body everywhere in space.\n",
    "\n",
    "Therefore <br>\n",
    "$$ \\phi(p_2)-\\phi(p_1) = \\int_{p_1}^{p_2}{\\mathbf F \\cdot d\\mathbf r} =\\int_{p_1}^{p_2}\\left (\\frac{\\partial \\phi}{\\partial x} \\mathbf i+\\frac{\\partial \\phi}{\\partial y} \\mathbf j+\\frac{\\partial \\phi}{\\partial z} \\mathbf k \\right ).(dx\\ \\mathbf i + dy\\ \\mathbf j + dz\\ \\mathbf k)=\\int_{p_1}^{p_2}\\frac{\\partial \\phi }{\\partial x} d x +\\frac{\\partial \\phi}{\\partial y}d y +\\frac{\\partial \\phi}{\\partial z}d z = \\int_{p_1}^{p_2} \\mathbf \\nabla \\phi \\cdot d \\mathbf r  $$\n",
    "\n",
    "\n",
    "\n",
    "$$\\phi(p_2)-\\phi(p_1) = \\int_{p_1}^{p_2}{\\mathbf F \\cdot d\\mathbf r} = \\int_{p_1}^{p_2} {\\frac{G M_1 M_2 }{|\\mathbf r|^3}  \\mathbf r  }\\cdot d \\mathbf r = \\int_{p_1}^{p_2} \\mathbf \\nabla \\phi \\cdot d \\mathbf r $$\n",
    "\n",
    "and of course ... \n",
    "\n",
    "$$ \\phi = - \\frac{ G M_1 } { |\\mathbf r | } $$\n",
    "\n",
    "Is the potential of the Mass $M_1$ affecting space. \n"
   ]
  },
  {
   "cell_type": "code",
   "execution_count": 51,
   "metadata": {
    "collapsed": true
   },
   "outputs": [],
   "source": [
    "z2 = x / ((x**2 + y**2 + z**2)**(3/2))"
   ]
  },
  {
   "cell_type": "code",
   "execution_count": 52,
   "metadata": {
    "collapsed": false
   },
   "outputs": [
    {
     "data": {
      "text/plain": [
       "log(x**2 + y**2 + z**2)/2"
      ]
     },
     "execution_count": 52,
     "metadata": {},
     "output_type": "execute_result"
    }
   ],
   "source": [
    "integrate(z2,x)"
   ]
  },
  {
   "cell_type": "code",
   "execution_count": 53,
   "metadata": {
    "collapsed": false
   },
   "outputs": [
    {
     "data": {
      "text/plain": [
       "False"
      ]
     },
     "execution_count": 53,
     "metadata": {},
     "output_type": "execute_result"
    }
   ],
   "source": [
    "diff( 1 / (x**2 + y**2 + z**2)**(1/2),x) == z2"
   ]
  },
  {
   "cell_type": "code",
   "execution_count": 54,
   "metadata": {
    "collapsed": false
   },
   "outputs": [
    {
     "data": {
      "text/plain": [
       "-1.0*x*(x**2 + y**2 + z**2)**(-1.5)"
      ]
     },
     "execution_count": 54,
     "metadata": {},
     "output_type": "execute_result"
    }
   ],
   "source": [
    "diff(  (x**2 + y**2 + z**2)**(-0.5),x)"
   ]
  },
  {
   "cell_type": "code",
   "execution_count": 55,
   "metadata": {
    "collapsed": false
   },
   "outputs": [
    {
     "data": {
      "text/plain": [
       "False"
      ]
     },
     "execution_count": 55,
     "metadata": {},
     "output_type": "execute_result"
    }
   ],
   "source": [
    "diff(  (x**2 + y**2 + z**2)**(-0.5),x) == -z2"
   ]
  },
  {
   "cell_type": "code",
   "execution_count": 56,
   "metadata": {
    "collapsed": true
   },
   "outputs": [],
   "source": [
    "z2 = x / ((x**2 + y**2 + z**2)**(1.5))"
   ]
  },
  {
   "cell_type": "code",
   "execution_count": 57,
   "metadata": {
    "collapsed": false
   },
   "outputs": [
    {
     "data": {
      "text/plain": [
       "True"
      ]
     },
     "execution_count": 57,
     "metadata": {},
     "output_type": "execute_result"
    }
   ],
   "source": [
    "diff(  (x**2 + y**2 + z**2)**(-0.5),x) == -z2"
   ]
  },
  {
   "cell_type": "markdown",
   "metadata": {},
   "source": [
    "Sympy does not recognize the integral ... why ?"
   ]
  },
  {
   "cell_type": "code",
   "execution_count": 59,
   "metadata": {
    "collapsed": true
   },
   "outputs": [],
   "source": [
    "z3 = x**(3/2)"
   ]
  },
  {
   "cell_type": "code",
   "execution_count": 60,
   "metadata": {
    "collapsed": false
   },
   "outputs": [
    {
     "data": {
      "text/plain": [
       "False"
      ]
     },
     "execution_count": 60,
     "metadata": {},
     "output_type": "execute_result"
    }
   ],
   "source": [
    "z3 == x**(1.5)"
   ]
  },
  {
   "cell_type": "code",
   "execution_count": 61,
   "metadata": {
    "collapsed": false
   },
   "outputs": [
    {
     "data": {
      "text/plain": [
       "False"
      ]
     },
     "execution_count": 61,
     "metadata": {},
     "output_type": "execute_result"
    }
   ],
   "source": [
    "x**(1.5) == z3.doit()"
   ]
  },
  {
   "cell_type": "code",
   "execution_count": 62,
   "metadata": {
    "collapsed": false
   },
   "outputs": [
    {
     "data": {
      "text/plain": [
       "x"
      ]
     },
     "execution_count": 62,
     "metadata": {},
     "output_type": "execute_result"
    }
   ],
   "source": [
    "z3"
   ]
  },
  {
   "cell_type": "markdown",
   "metadata": {},
   "source": [
    "Sympy prefers to use decimal exponents, exponents of the form $ z_2 = x^{\\frac{3}{2}} $ do not work"
   ]
  },
  {
   "cell_type": "code",
   "execution_count": 63,
   "metadata": {
    "collapsed": true
   },
   "outputs": [],
   "source": [
    "z3 = x**(1.5)"
   ]
  },
  {
   "cell_type": "code",
   "execution_count": 64,
   "metadata": {
    "collapsed": false
   },
   "outputs": [
    {
     "data": {
      "text/plain": [
       "x**1.5"
      ]
     },
     "execution_count": 64,
     "metadata": {},
     "output_type": "execute_result"
    }
   ],
   "source": [
    "z3"
   ]
  },
  {
   "cell_type": "markdown",
   "metadata": {},
   "source": [
    "armed with this knowledge "
   ]
  },
  {
   "cell_type": "code",
   "execution_count": 65,
   "metadata": {
    "collapsed": true
   },
   "outputs": [],
   "source": [
    "z2 = x / ((x**2 + y**2 + z**2)**(1.5))"
   ]
  },
  {
   "cell_type": "code",
   "execution_count": 66,
   "metadata": {
    "collapsed": false
   },
   "outputs": [
    {
     "data": {
      "text/plain": [
       "-1.0*(x**2/polar_lift(y**2 + z**2) + 1)**(-0.5)*polar_lift(y**2 + z**2)**(-0.5)"
      ]
     },
     "execution_count": 66,
     "metadata": {},
     "output_type": "execute_result"
    }
   ],
   "source": [
    "integrate(z2,x)"
   ]
  },
  {
   "cell_type": "markdown",
   "metadata": {},
   "source": [
    "we get a solution expressed with \"polar_lift\" instead of the solution we know and seek from our lookup table / knowledge"
   ]
  },
  {
   "cell_type": "markdown",
   "metadata": {},
   "source": [
    "<h2>Surface Integrals</h2>\n",
    "\n",
    "\n",
    "Let S be a two side surface and one side of S is arbitrarily the positive side of S (if S is closed then it is usually the outer side) A unit normal <b>n</b> to any point on the positive side of S is called a positive or outward drawn normal.\n",
    "\n",
    "The differential of surface area dS has a vector d<b>s</b> whose magnitude is dS and direction is <b>n</b> at S. Then $$d\\mathbf{s} =\\mathbf{n}dS$$\n",
    "\n",
    "\n",
    "$$\n",
    "\\iint \\mathbf A\\cdot d\\mathbf s=\\iint \\mathbf A\\cdot\\mathbf n\\ dS\n",
    "$$\n",
    "\n",
    "Is an example of a surface integral called the flux of <b>A</b> over S. Other surface integrals are \n",
    "\n",
    "\n",
    "$$\n",
    "\\iint \\phi\\ dS,\\ \\ \\ \\ \\iint \\phi\\ \\mathbf n\\ dS,\\ \\ \\ \\ \\iint \\mathbf A \\times d\\mathbf s\n",
    "$$\n",
    "\n",
    "\n",
    "where $\\phi$ is a scalar function. These integrals can also be defined in terms of limits of sums. There is a symbol for integration over a closed surface. \n",
    "\n",
    "\n",
    "To evaluate surface integrals it is convenient to express them as double integrals taken over the projected area of the surface S on one of the coordinate planes. This is possible if any line perpendicular to the coordinate plane chosen meets the surface in no more than one point. Usually S can be subdivided into surfaces that do satisfy the restriction.\n",
    "\n"
   ]
  },
  {
   "cell_type": "markdown",
   "metadata": {},
   "source": [
    "<h1> Definition </h1>\n",
    "Given an arbitrary surface $S$ subdivided into $M$ discrete elements of area, the differential surface area at a point $p$ is  $ \\Delta S_p $. If a vector function $\\mathbf A( x_p, y_p, z_p) $ is defined in the space, and the vector $\\mathbf n_p $ is the positive unit normal to $S$ at $p$ then the surface area is approximated by the sum\n",
    "<br><br>\n",
    "$$ \\sum_{p=1}^{M} \\mathbf A_p \\cdot \\mathbf n_p \\Delta S_p $$\n",
    "\n",
    "<br><br> now in the limit (if the limit exists) as $$ M\\to\\infty $$ the sum becomes <br><br>\n",
    "<br><br>\n",
    "$$ \\large\\iint_S\\mathbf A \\cdot \\mathbf n\\ d S $$"
   ]
  },
  {
   "cell_type": "markdown",
   "metadata": {},
   "source": [
    "To evaluate such integrals the projection of $d S$ onto one of the axis planes is computed ... "
   ]
  },
  {
   "cell_type": "markdown",
   "metadata": {},
   "source": [
    "for example, the projection of $\\Delta S_p$ onto the $xy$ plane is $ \\Delta x_p \\Delta y_p = |\\ (\\mathbf n_p \\Delta S_p)\\cdot \\mathbf k\\ | = |\\ \\mathbf n_p \\cdot \\mathbf k\\ |\\ \\Delta S_p $ <br><br>\n",
    "so $$\\large\\Delta S_p = \\frac{\\Delta x_p \\Delta y_p}{|\\ \\mathbf n_p \\cdot \\mathbf k\\ |} $$ <br><br>\n",
    "\n",
    "(ignoring higher infinitesimals), and the sum \n",
    "\n",
    "$$ 1)\\qquad \\sum_{p=1}^{M} \\mathbf A_p \\cdot \\mathbf n_p \\frac{\\Delta x_p \\Delta y_p}{|\\ \\mathbf n_p \\cdot \\mathbf k\\ |}$$ <br><br> converges, and again taking the limit gives \n",
    "\n",
    "$$\\large\\iint_R \\mathbf A\\cdot \\mathbf n \\frac{\\ dx\\ dy}{|\\ \\mathbf n\\cdot\\mathbf k\\ |}$$"
   ]
  },
  {
   "cell_type": "markdown",
   "metadata": {},
   "source": [
    "And this is how the integral is evaluated as the integral over the region $R$ which is the projection of the surface $S$ <br> onto the $xy$ plane, similar expressions are derived when it is convenient to project onto other axis planes <br><br>\n",
    "\n",
    "\n",
    "By Definition, for 2 vectors, the projection of $\\mathbf A$ onto $\\mathbf B$ is equal to $\\mathbf A\\cdot \\mathbf b$ where $\\mathbf b$ is a normal vector in the direction of $\\mathbf B$. The angle $\\theta$ mmade between these two vectors, is the same as the angle between the vector at right angles to $\\mathbf A$ and the normal vector at right angles to $\\mathbf B$, therefore the value of the projection is the same - the brief explanation is that the infinitesimal $\\Delta S$ has the projection defined above onto the $x,y$ plane by the same rule using the dot product with the normal vector of the $z$ axis, $\\mathbf k$."
   ]
  },
  {
   "cell_type": "markdown",
   "metadata": {},
   "source": [
    "More about $\\mathbf n\\cdot \\mathbf k$\n",
    "If we imagine a small rectangle or square on a surface at a point $(u,v)$ with sides $\\Delta u = (u+\\Delta u, v)-(u,v)$ and $\\Delta v = (u, v+\\Delta v)-(u,v)$ then\n",
    "and area $\\Delta u \\Delta v$ the projection of $\\Delta u$ onto the x axis is $\\Delta u\\ cos \\theta_1$ and the projection of $\\Delta v$ is $y = \\Delta v\\ cos \\theta_2$, now to construct \n",
    "a vector to the corner of the square on the surface at $(\\Delta u, \\Delta v)$ with magnitude $\\sqrt{\\Delta u^2 + \\Delta v^2}$ and project to the $xy$ plane \n",
    "we encounter the problem constructing the angle $\\phi$ between this diagonal and the $xy$ plane vector $(\\Delta x, \\Delta y)$.\n",
    "Now if we take the vector on the surface $\\mathbf R = (\\mathbf u, \\mathbf v)$ and take the Dot product with \n",
    "the vector on the plane $\\mathbf r =(\\Delta x, \\Delta y)$ and divide by the magnitude, then we have $\\mathbf R \\cdot \\mathbf{ \\hat{r}} = |\\mathbf R|cos \\phi$ since $\\mathbf r$ is a unit vector, \n",
    "we can solve for $\\phi$, but of course, this is the same angle as the angle the normal $\\mathbf{ \\hat{n}} = \\mathbf u\\times \\mathbf v$ makes with the $\\mathbf k$ vector ... another fact to notice is that\n",
    "if we keep the planes tilt constant and spin the plane about the z axis, then the value of our angle remains the same, and so\n",
    "if we scale $\\mathbf n$ by our area $\\Delta u \\Delta v$ then the projection is scaled too."
   ]
  },
  {
   "cell_type": "markdown",
   "metadata": {},
   "source": [
    "<h1>Representations of surfaces </h1>\n",
    "Surfaces are 2 dimensional, \n",
    "Surfaces can be represented <b>explicity </b> in the form <br>\n",
    "$$ z = f(x,y) $$ <br> or with x or y as the variable on the left. e.g $x=h(y,z)$ \n",
    "or <b> implicitly </b> in the form <br>\n",
    "$$g(x,y,z)=0 $$ <br>\n",
    "and also <b> parametrically </b>\n",
    "$$ \\mathbf r(u,v) = x(u,v) \\mathbf i + y(u,v) \\mathbf j + z(u,v) \\mathbf k $$ <br>\n",
    "for all $u, v$ in $R$ where $R$ is a region in the $u,v$ plane, not neccessarily in the same space. So you could say \n",
    "$\\mathbf r$ takes every point $(u,v)$ in $R$ onto $S$ with position vector $r(u,v)$ , more formally <br>\n",
    "$$ \\mathbf r : R(u,v) \\to S  $$\n",
    "<br>\n",
    "$$ S \\epsilon\\ \\mathbf R^3,\\ (u,v)\\ \\epsilon\\ \\mathbf R^2 $$ \n",
    "implies\n",
    "$$ \\mathbf r : R(u,v)\\ \\epsilon\\ \\mathbf R^2 \\to S(x,y,z)\\ \\epsilon\\ \\mathbf R^3 $$\n",
    "<br>\n",
    "where $\\mathbf R^2 $ is the set of 2 dimensional real numbers, and $\\mathbf R^3$ is the set of 3 dimensional real numbers."
   ]
  },
  {
   "cell_type": "markdown",
   "metadata": {},
   "source": [
    "If $S$ is defined <b>explicitly</b>, then the identity 1) above can be used to evaluate the surface integral. If $S$ is defined <b>implicitly</b> then the definition of $S$ is often algebraicly rearranged to an <b>explicit</b> form"
   ]
  },
  {
   "cell_type": "markdown",
   "metadata": {},
   "source": [
    "<h1>Definition</h1>\n",
    "If S is defined <b> implicitly </b> in the form $g(x,y,)=0$ then a unit surface normal to $S$ is given by <br> <br>\n",
    "$$ \\mathbf n = \\frac{\\mathbf \\nabla g }{|\\mathbf \\nabla g|} $$ <br>\n",
    "and the quantity $$ \\mathbf \\nabla g $$ gives the gradient of $S$ defined by $g$ in components. "
   ]
  },
  {
   "cell_type": "markdown",
   "metadata": {},
   "source": [
    " <h1> Definition </h1>\n",
    " If $S$ is defined <b>parametrically</b> in the form $\\mathbf r(u,v) $ as above, then a curve $C$ can be derived by paramaterizing $u$ and $v$ by some variable $t$ <br><br>\n",
    " $$ u = u(t),\\qquad v = v(t) $$\n",
    " <br><br>and the position vector of $C$ is $$\\mathbf {\\bar r}(t) = \\mathbf r(u(t), v(t)) $$ <br><br>\n",
    " Then <br>\n",
    " $$\\mathbf {\\bar r'}(t) = \\frac{\\partial \\mathbf r}{\\partial u}\\frac{\\partial u}{\\partial t }+\\frac{\\partial \\mathbf r}{\\partial v}\\frac{\\partial v}{\\partial t }$$ <br> <br>\n",
    " The derivatives $\\mathbf r_u $ and $\\mathbf r_v$ are tangenital to $ S$ at $p$ they are assumed linearly independant (forming a basis) spanning the tangent plane at $p$, so the normal vector is ... <br><br>\n",
    " $$\\mathbf n = \\frac{\\mathbf N}{|\\mathbf N|}= \\frac{ \\mathbf r_u \\times \\mathbf r_v }{| \\mathbf r_u \\times \\mathbf r_v |}$$\n",
    " <br><br>\n",
    " and for a surface $z=f(x,y)$ then creating a plane parallel to the $xz$ plane with a tangent at an arbitrary point $P$, a tangent vector $\\mathbf u$ us constructed such that since $\\frac{\\partial f}{\\partial x} = \\frac{u_z}{u_x}$ then $u_z =\\frac{\\partial f}{\\partial x} u_x$, and vector is $ \\mathbf u = u_x\\mathbf i + \\frac{\\partial f}{\\partial x}u_x\\mathbf k $the same process for a vector $\\mathbf v$ constructed from the $zy$ plane, then  $ \\mathbf v = v_y\\mathbf j + \\frac{\\partial f}{\\partial y}v_y\\mathbf k $<br>\n",
    " $$ \\mathbf u \\times\\mathbf v = \\big[ -\\frac{\\partial f}{\\partial x}\\mathbf i-\\frac{\\partial f}{\\partial y}\\mathbf j + \\mathbf k\\big]u_x v_y $$\n",
    " <br><br>\n",
    " to make a normal vector, divide by its magnitude ...<br>\n",
    " $$  \\mathbf n = \\frac{ -\\frac{\\partial f}{\\partial x}\\mathbf i-\\frac{\\partial f}{\\partial y}\\mathbf j + \\mathbf k}{\\sqrt{1+(\\frac{\\partial f}{\\partial x})^2+(\\frac{\\partial f}{\\partial y})^2}} $$\n",
    " and so <br>\n",
    "  $$  \\large\\mathbf n \\cdot \\mathbf  k = \\frac{1}{\\sqrt{1+(\\frac{\\partial f}{\\partial x})^2+(\\frac{\\partial f}{\\partial y})^2}} $$"
   ]
  },
  {
   "cell_type": "markdown",
   "metadata": {},
   "source": [
    "<h1>Definition</h1>\n",
    "\n",
    "This can also be written in terms of direction cosines, setting <<br><br>\n",
    "$$ \\mathbf F = F_1\\mathbf i + F_2 \\mathbf j + F_3 \\mathbf k $$ and <br>\n",
    "$$ \\mathbf n =  \\cos\\alpha \\mathbf i +  \\cos\\beta \\mathbf j +  \\cos\\gamma \\mathbf k $$ and <br>\n",
    "$$ \\mathbf N = N_1\\mathbf i + N_2 \\mathbf j + N_3 \\mathbf k $$ then <br><br>\n",
    "\n",
    "$$ \\mathbf F \\cdot \\mathbf n = F_1\\ \\cos\\alpha + F_2\\ \\cos\\beta+ F_3\\ \\cos\\gamma $$ so ...\n",
    "\n",
    "$$ \\large\\iint_S (F_1\\ \\cos\\alpha + F_2\\ \\cos\\beta+ F_3\\ \\cos\\gamma)\\ d A= \\iint_R F_1\\ N_1+ F_2\\ N_2+ F_3\\ N_3\\ du\\ dv $$\n",
    "\n",
    "<br><br>\n",
    "and \n",
    "$$ \\large\\iint_S F_1\\ \\cos\\alpha\\ d A + \\iint_S F_2\\ \\cos\\beta\\ d A+ \\iint_S F_3\\ \\cos\\gamma\\ d A = \\iint_S F_1\\ dy\\ dz+ \\iint_S F_2\\ dx\\ dz +\\iint_S F_3\\ dx\\ dy $$"
   ]
  },
  {
   "cell_type": "markdown",
   "metadata": {},
   "source": [
    "<h1>Example</h1>\n",
    "<br><br>\n",
    "Evaluate $\\iint_S \\mathbf A\\cdot\\mathbf n\\ dS$ where $\\mathbf A = x^2\\mathbf i + 3y^2\\mathbf k$ and $S$ is the plane $x+y+z=1$ in the first octant <br>\n",
    "\n",
    "Solution. first method ...<br><br>\n",
    "$$\\large\\iint_S \\mathbf A\\cdot\\mathbf n\\ dS = \\iint_R \\mathbf A\\cdot \\mathbf n \\frac{dx\\ dy}{|\\mathbf n\\cdot\\mathbf k|}$$\n",
    "<br><br>\n",
    "$$\\mathbf n = \\frac{\\mathbf i + \\mathbf j + \\mathbf k}{\\sqrt{1^2 + 1^2 + 1^2}} =\\mathbf i + \\mathbf j + \\mathbf k$$\n",
    "then $\\mathbf n\\cdot\\mathbf k=1$ and so <br><br>\n",
    "$$ \\iint_R \\mathbf A\\cdot \\mathbf n \\frac{dx\\ dy}{|\\mathbf n\\cdot\\mathbf k|} =\\iint_R \\mathbf A\\cdot \\mathbf n \\ dx\\ dy = $$\n",
    "<br><br> \n",
    "and $$\\mathbf A\\cdot\\mathbf n = (x^2\\mathbf i + 3y^2\\mathbf k)\\cdot(\\mathbf i + \\mathbf j + \\mathbf k) = x^2 + 3y^2 $$\n",
    "<br><br>\n",
    "eliminating z from the equation, $y$ is evaluated from 0 to $y = 1-x$ then $x$ is evaluated from 0 to 1..<br><br>\n",
    "$$\\iint_R \\mathbf A\\cdot \\mathbf n \\ dx\\ dy = \\int_0^1 \\int_0^{1-x}x^2 + 3y^2\\ dy\\ dx = \\int_0^1 \\big[x^2 y + y^3+c\\big]_0^{1-x} dx = \\int_0^1 ((1-x)x^2 + (1-x)^3 + c)-((0)x^2 + (0)^3 + c) dx = \\int_0^1 (x^2-x^3 -x^3+3x^2-3x + 1) dx$$\n",
    "<br><br>\n",
    "Simplifying gives ...<br><br>\n",
    "$$\\int_0^1 (-2x^3+4x^2-3x+1)\\ dx = \\big[ -\\frac{1}{2}x^4 + \\frac{4}{3}x^3 - \\frac{3}{2}x^2 +x + c\\big]_0^1 = $$\n",
    "<br><br>\n",
    "$$\\big(-\\frac{1}{2}x^4 + \\frac{4}{3}x^3 - \\frac{3}{2}x^2 +x + c\\big)_0^1 = -\\frac{1}{2}+ \\frac{4}{3}-\\frac{3}{2} + 1 = -0.5 + 1.333 - 1.5 + 1 = 0.33333 = 1/3 $$"
   ]
  },
  {
   "cell_type": "markdown",
   "metadata": {},
   "source": []
  },
  {
   "cell_type": "code",
   "execution_count": 71,
   "metadata": {
    "collapsed": false
   },
   "outputs": [
    {
     "data": {
      "text/plain": [
       "-x**3 + 3*x**2 - 3*x + 1"
      ]
     },
     "execution_count": 71,
     "metadata": {},
     "output_type": "execute_result"
    }
   ],
   "source": [
    "expand((1-x)**3)"
   ]
  },
  {
   "cell_type": "code",
   "execution_count": 73,
   "metadata": {
    "collapsed": false
   },
   "outputs": [
    {
     "data": {
      "text/plain": [
       "-2*x**3 + 4*x**2 - 3*x + 1"
      ]
     },
     "execution_count": 73,
     "metadata": {},
     "output_type": "execute_result"
    }
   ],
   "source": [
    "simplify(expand((1-x)*x**2) + expand((1-x)**3))"
   ]
  },
  {
   "cell_type": "code",
   "execution_count": 78,
   "metadata": {
    "collapsed": false
   },
   "outputs": [
    {
     "data": {
      "text/plain": [
       "-2*x**3 + 4*x**2 - 3*x + 1"
      ]
     },
     "execution_count": 78,
     "metadata": {},
     "output_type": "execute_result"
    }
   ],
   "source": [
    "simplify(expand(integrate(x**2+3*y**2,(y,0,1-x))))"
   ]
  },
  {
   "cell_type": "code",
   "execution_count": 79,
   "metadata": {
    "collapsed": false
   },
   "outputs": [
    {
     "data": {
      "text/plain": [
       "1/3"
      ]
     },
     "execution_count": 79,
     "metadata": {},
     "output_type": "execute_result"
    }
   ],
   "source": [
    "A=x**2*N.i + 3*y**2*N.k\n",
    "n = N.i + N.j + N.k\n",
    "#so n.k = 1\n",
    "f = A.dot(n)\n",
    "integrate(integrate(f, (y,0,1-x)),(x,0,1))"
   ]
  },
  {
   "cell_type": "markdown",
   "metadata": {},
   "source": [
    "<h2>Example</h2>\n",
    "<br>\n",
    "Same as above, but $\\mathbf A = 3z^2\\mathbf i - 7\\mathbf j + x y \\mathbf k$ and the plane is $3x + 2y + 7z = 15$ <br>"
   ]
  },
  {
   "cell_type": "code",
   "execution_count": 227,
   "metadata": {
    "collapsed": false
   },
   "outputs": [
    {
     "name": "stdout",
     "output_type": "stream",
     "text": [
      "24\n",
      "1/3\n"
     ]
    }
   ],
   "source": [
    "A = 18*z * N.i - 12 * N.j + 3*y*N.k\n",
    "plane = 2*x + 3*y + 6*z-12\n",
    "plane_z = solve(plane,z)\n",
    "pln = plane + 12\n",
    "grad_plane = diff(pln,x)*N.i + diff(pln,y) * N.j + diff(pln,z)*N.k\n",
    "n = grad_plane / grad_plane.magnitude()\n",
    "recip_mag_n_dot_k = 1/abs(n.dot(N.k).doit())\n",
    "integrate(integrate(A.subs(z,plane_z[0]).dot(n)*recip_mag_n_dot_k,(y,0,(12-2*x)/3)),(x,0,6))\n",
    "\n",
    "def integrate_method_1(A, plane):\n",
    "    plane_z = solve(plane,z)\n",
    "    grad_plane = diff(plane,x)*N.i + diff(plane,y) * N.j + diff(plane,z)*N.k\n",
    "    n = grad_plane / grad_plane.magnitude()\n",
    "    recip_mag_n_dot_k = 1/abs(n.dot(N.k).doit())\n",
    "    \n",
    "    y_limit_eq = plane.subs(z,0)\n",
    "    y_limit = solve(y_limit_eq,y)\n",
    "    x_limit_eq = y_limit_eq.subs(y,0)\n",
    "    x_limit = solve(x_limit_eq,x)\n",
    "    \n",
    "    return integrate(integrate(A.subs(z,plane_z[0]).dot(n)*recip_mag_n_dot_k,(y,0,y_limit)),(x,0,x_limit))\n",
    "\n",
    "print integrate_method_1(A, plane)\n",
    "A=x**2*N.i + 3*y**2*N.k\n",
    "pln = x+y+z-1\n",
    "print integrate_method_1(A, pln)"
   ]
  },
  {
   "cell_type": "code",
   "execution_count": 119,
   "metadata": {
    "collapsed": false
   },
   "outputs": [
    {
     "data": {
      "text/plain": [
       "3*sqrt(85)*(-4*x + 3*y + 24)/85"
      ]
     },
     "execution_count": 119,
     "metadata": {},
     "output_type": "execute_result"
    }
   ],
   "source": [
    "simplify(A.subs(z,plane_z[0]).dot(n)).doit()\n"
   ]
  },
  {
   "cell_type": "code",
   "execution_count": 231,
   "metadata": {
    "collapsed": false
   },
   "outputs": [
    {
     "name": "stdout",
     "output_type": "stream",
     "text": [
      "56.655\n"
     ]
    }
   ],
   "source": [
    "A=z*N.i +x*y*N.j + 12*N.k\n",
    "plane = 3*x + y +2*z -5\n",
    "print integrate_method_1(A,plane).n(5)\n"
   ]
  },
  {
   "cell_type": "markdown",
   "metadata": {},
   "source": [
    "<h1> Evaluation of Double Integrals </h1>\n",
    "Double integrals over a region $R$ can be evaluated by describing the limits of x and y, where the first limits are described as a function of the other e.g $g_1(x)$ and $g_2(x)$<br><br>\n",
    "$$ a \\leq x \\leq b \\qquad\\qquad g_1(x) \\leq y \\leq g_2(x) $$\n",
    "<br><br>\n",
    "then\n",
    "<br><br>\n",
    "$$ \\large\\iint_R f(x,y)\\ dx\\ dy = \\int_a^b \\int_{g_1(x)}^{g_2(x)} f(x,y)\\ dy\\ dx $$\n",
    "<br><br>\n",
    "and similar transformations for y.\n",
    "\n"
   ]
  },
  {
   "cell_type": "code",
   "execution_count": null,
   "metadata": {
    "collapsed": true
   },
   "outputs": [],
   "source": []
  },
  {
   "cell_type": "markdown",
   "metadata": {},
   "source": [
    "<h1>Properties of Double Integrals</h1>\n",
    "\n",
    "1) $$ \\large\\iint_R c\\ f(x,y)\\ dx\\ dy = c\\ \\iint_R f(x,y)\\ dx\\ dy $$<br><br>\n",
    "2) $$ \\large\\iint_R ( f(x,y) + g(x,y) )\\ dx\\ dy =  \\iint_R f(x,y)\\ dx\\ dy + \\iint_R g(x,y)\\ dx\\ dy $$<br><br>\n",
    "3) $$ \\large\\iint_R f(x,y)\\ dx\\ dy =  \\iint_{R_1} f(x,y)\\ dx\\ dy + \\iint_{R_2} f(x,y)\\ dx\\ dy, \\qquad R = R_1 + R_2$$<br><br>\n",
    "4) There exists a point $(x_0,y_0)$ in $R$ such that <br>\n",
    "$$ \\large\\iint_R f(x,y)\\ dx\\ dy = f(x_0, y_0) A $$ <br><br>\n",
    "where $A$ is the area of $R$. This is called the <b>mean value theorem </b><br><br>\n",
    "5) Another important property, the order of integration can be exchanged <br><br>\n",
    "$$ \\large\\iint_R f(x,y)\\ dx\\ dy =  \\iint_R f(x,y)\\ dy\\ dx $$"
   ]
  },
  {
   "cell_type": "markdown",
   "metadata": {},
   "source": [
    "<h1>Change of variables</h1>\n",
    "To change a variable in a simple integral <br><br>\n",
    "$$\\large\\int_a^b f(x) dx = \\int_{\\alpha}^{\\beta} f(x(u)) \\frac{d x}{d u} \\ du $$<br><br>\n",
    "And to change variables in double integration, the method is similar, and provided the following<br>\n",
    "1) $x$ and $y$ can be parameterized $x=x(u,v)$ and $y=y(u,v)$ for all $u,\\ v$ in some region $\\bar R$ with a one to one mapping to the region in the $x,\\ y$ plane $R$, such that $x: (u,v)\\to R $ and also for $y$, defines a mapping.<br><br>\n",
    "2) $x$ and $y$ have continuous partial derivatives in $\\bar R$<br><br>\n",
    "3) The Jacobian $J$ is either positive or negative throughout $\\bar R$<br><br>\n",
    "<br><br>\n",
    "Then assuming <br><br>\n",
    "$$ \\large J = \\frac{\\partial (x,y) }{\\partial (u,v)  } = \\begin{vmatrix} \\frac{\\partial x }{\\partial u } & \\frac{\\partial x }{\\partial v }  \\\\ \\frac{\\partial y }{\\partial u } & \\frac{\\partial y }{\\partial v }  \\end{vmatrix}$$ \n",
    "<br><br>\n",
    "The integral change of variables is <br><br>\n",
    "$$\\large\\iint_R f(x,y)\\ dx\\ dy = \\iint_{\\bar R} f(x(u,v),y(u,v)) \\big|{\\frac{\\partial (x,y) }{\\partial (u,v)  }}\\big|\\ du\\ dv $$"
   ]
  },
  {
   "cell_type": "markdown",
   "metadata": {},
   "source": [
    "<h1>Orientation Theorem</h1>\n",
    "The replacement of $\\mathbf n$ by $-\\mathbf n$ and $\\mathbf N$ by $-\\mathbf N$ is equivalent to multiplying the integral by -1. <br><br>\n",
    "A surface is said to be orientable if the positive normal direction at any point can be continued over the entire surface. Some surfaces e.g. Mobius strip cannot be oriented."
   ]
  },
  {
   "cell_type": "markdown",
   "metadata": {},
   "source": [
    "<h2>Volume Integrals</h2>\n",
    " \n",
    "$$\n",
    "\\large\\iiint \\mathbf A d V , \\ \\ \\ \\ \\iiint \\phi dV $$  are examples of Volume integrals or space integrals."
   ]
  },
  {
   "cell_type": "markdown",
   "metadata": {},
   "source": [
    "<h2>Evaluating triple integrals</h2>\n",
    "<br><br>\n",
    "$$ \\large\\iiint_V f(x,y,z)\\ dx\\ dy\\ dz = \\int_a^b \\int_{g_1(x)}^{g_2(x)} \\int_{h_1(x,y)}^{h_2(x,y)} f(x,y,z)\\ dz\\ dy\\ dx\\ $$\n",
    "<br><br>\n",
    "The volume $V$ of a manifold is defined as<br><br>\n",
    "$$ \\large\\iiint_V 1\\ dV = \\large\\iiint_V\\ dx\\ dy\\ dz = \\int_a^b \\int_{g_1(x)}^{g_2(x)} \\int_{h_1(x,y)}^{h_2(x,y)} \\ dz\\ dy\\ dx\\ $$\n",
    "<br><br> or any interchanged permutation of the variables of integration, provided that the limits are re-expressed to be functions of the preceding limits."
   ]
  },
  {
   "cell_type": "markdown",
   "metadata": {},
   "source": [
    "<h1>Change of variables in triple integrals</h1>\n",
    "Similar to the case for double integration, if $x=x(u,v,w),\\ y=y(u,v,w),\\ z=z(u,v,w)\\quad (u,v,w)\\ \\epsilon \\bar{R}^3,\\quad x,y,z\\ \\epsilon R^3 $ defines a mapping from $\\bar R^3$ to $ R^3$, and the functions have continuous partial derivatives in $\\bar R^3$ ...etc and our volumes shall be denoted $V\\ \\epsilon R^3$ and $\\bar V\\ \\epsilon \\bar{R}^3$ respectively\n",
    "<br><br>\n",
    "Then the Jacobian is: <br>\n",
    "$$ \\large J = \\frac{\\partial (x,y, z) }{\\partial (u,v,w)} = \\begin{vmatrix} \\frac{\\partial x }{\\partial u } & \\frac{\\partial x }{\\partial v }  & \\frac{\\partial x }{\\partial w }\\\\ \\frac{\\partial y }{\\partial u } & \\frac{\\partial y }{\\partial v } & \\frac{\\partial y }{\\partial w}  \\\\ \\frac{\\partial z}{\\partial u } & \\frac{\\partial z}{\\partial v } & \\frac{\\partial z}{\\partial w}\\end{vmatrix}$$ \n",
    "<br>\n",
    "<br>\n",
    "Then to change variables <br>\n",
    "$$\\large\\iiint_V f(x,y,z)\\ dV = \\iiint_{\\bar V} f(x(u,v,w),y(u,v,w),z(u,v,w))\\ |\\frac{\\partial (x,y, z) }{\\partial (u,v,w)}|\\ du\\ dv\\ dw $$"
   ]
  },
  {
   "cell_type": "code",
   "execution_count": null,
   "metadata": {
    "collapsed": true
   },
   "outputs": [],
   "source": []
  }
 ],
 "metadata": {
  "kernelspec": {
   "display_name": "Python 2",
   "language": "python",
   "name": "python2"
  },
  "language_info": {
   "codemirror_mode": {
    "name": "ipython",
    "version": 2
   },
   "file_extension": ".py",
   "mimetype": "text/x-python",
   "name": "python",
   "nbconvert_exporter": "python",
   "pygments_lexer": "ipython2",
   "version": "2.7.10"
  }
 },
 "nbformat": 4,
 "nbformat_minor": 0
}
