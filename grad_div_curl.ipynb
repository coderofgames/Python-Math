{
 "cells": [
  {
   "cell_type": "markdown",
   "metadata": {},
   "source": [
    "<h1>4) Gradient, Divergence \n",
    "\n",
    "     And Curl</h1>\n",
    "    \n",
    "\n",
    "Vector differential operator $ \\nabla $ is defined by \n",
    "\n",
    "$$\\nabla=\\frac{\\partial }{\\partial x} \\mathbf i+\\frac{\\partial }{\\partial y} \\mathbf j+\\frac{\\partial }{\\partial z} \\mathbf k$$\n",
    "\n",
    "This operator possesses properties analogous to ordinary vectors. It is useful in finding the gradient, divergence and curl.\n",
    "\n",
    "<h2>The Gradient</h2>\n",
    "\n",
    "If $ \\phi(x,y,z) $ is defined and differentiable at each point $(x, y, z)$ in a certain region of space (differentiable scalar field) . The gradient of $\\phi$ \n",
    "\n",
    "\n",
    "\n",
    "$$\\nabla \\phi=\\mathbf{grad}\\ \\phi=\\left (\\frac{\\partial }{\\partial x} \\mathbf i+\\frac{\\partial }{\\partial y} \\mathbf j+\\frac{\\partial }{\\partial z} \\mathbf k \\right )\\phi=\\frac{\\partial \\phi }{\\partial x} \\mathbf i+\\frac{\\partial \\phi}{\\partial y} \\mathbf j+\\frac{\\partial \\phi}{\\partial z} \\mathbf k \n",
    "$$\n",
    "<br>\n",
    "\n",
    "\n",
    "$ \\mathbf{grad}\\ \\phi $ defines a vector field.\n",
    "\n",
    "<br>\n",
    "<br>\n",
    "The component of $ \\mathbf{grad}\\ \\phi $ in the direction of a unit vector <b>a</b> is  $ \\mathbf{grad}\\ \\phi\\cdot\\mathbf a $ or  $ \\nabla \\phi\\cdot\\mathbf a $ and is called the <b>directional derivative</b> of $ \\phi $ in the direction of $ \\mathbf{a}$. This is the rate of change of $\\phi $ at $ (x, y, z) $ in the direction $\\mathbf{a}$\n"
   ]
  },
  {
   "cell_type": "code",
   "execution_count": 1,
   "metadata": {
    "collapsed": true
   },
   "outputs": [],
   "source": [
    "from sympy import *"
   ]
  },
  {
   "cell_type": "code",
   "execution_count": 4,
   "metadata": {
    "collapsed": false
   },
   "outputs": [],
   "source": [
    "from sympy.vector import CoordSysCartesian\n",
    "N = CoordSysCartesian('N')"
   ]
  },
  {
   "cell_type": "code",
   "execution_count": 5,
   "metadata": {
    "collapsed": true
   },
   "outputs": [],
   "source": [
    "x,y,z=symbols('x y z')"
   ]
  },
  {
   "cell_type": "code",
   "execution_count": 19,
   "metadata": {
    "collapsed": false
   },
   "outputs": [],
   "source": [
    "phi = 3*x**2+2*y*z - z**3*x + x**2*y+z**3"
   ]
  },
  {
   "cell_type": "code",
   "execution_count": 20,
   "metadata": {
    "collapsed": false
   },
   "outputs": [
    {
     "data": {
      "text/plain": [
       "x**2*y + 3*x**2 - x*z**3 + 2*y*z + z**3"
      ]
     },
     "execution_count": 20,
     "metadata": {},
     "output_type": "execute_result"
    }
   ],
   "source": [
    "phi"
   ]
  },
  {
   "cell_type": "code",
   "execution_count": 21,
   "metadata": {
    "collapsed": true
   },
   "outputs": [],
   "source": [
    "grad_phi = N.delop(phi)"
   ]
  },
  {
   "cell_type": "code",
   "execution_count": 22,
   "metadata": {
    "collapsed": false
   },
   "outputs": [
    {
     "data": {
      "text/plain": [
       "(Derivative(x**2*y + 3*x**2 - x*z**3 + 2*y*z + z**3, N.x))*N.i + (Derivative(x**2*y + 3*x**2 - x*z**3 + 2*y*z + z**3, N.y))*N.j + (Derivative(x**2*y + 3*x**2 - x*z**3 + 2*y*z + z**3, N.z))*N.k"
      ]
     },
     "execution_count": 22,
     "metadata": {},
     "output_type": "execute_result"
    }
   ],
   "source": [
    "grad_phi"
   ]
  },
  {
   "cell_type": "code",
   "execution_count": 23,
   "metadata": {
    "collapsed": false
   },
   "outputs": [
    {
     "data": {
      "text/plain": [
       "0"
      ]
     },
     "execution_count": 23,
     "metadata": {},
     "output_type": "execute_result"
    }
   ],
   "source": [
    "grad_phi.doit()"
   ]
  },
  {
   "cell_type": "code",
   "execution_count": 24,
   "metadata": {
    "collapsed": true
   },
   "outputs": [],
   "source": [
    "grad_phi = diff(phi,x)*N.i + diff(phi,y)*N.j + diff(phi,z)*N.k"
   ]
  },
  {
   "cell_type": "code",
   "execution_count": 25,
   "metadata": {
    "collapsed": false
   },
   "outputs": [
    {
     "data": {
      "text/plain": [
       "(2*x*y + 6*x - z**3)*N.i + (x**2 + 2*z)*N.j + (-3*x*z**2 + 2*y + 3*z**2)*N.k"
      ]
     },
     "execution_count": 25,
     "metadata": {},
     "output_type": "execute_result"
    }
   ],
   "source": [
    "grad_phi"
   ]
  },
  {
   "cell_type": "code",
   "execution_count": 27,
   "metadata": {
    "collapsed": true
   },
   "outputs": [],
   "source": [
    "phi2 = 3*N.x**2+2*N.y*N.z - N.z**3*N.x + N.x**2*N.y+N.z**3"
   ]
  },
  {
   "cell_type": "code",
   "execution_count": 28,
   "metadata": {
    "collapsed": false
   },
   "outputs": [],
   "source": [
    "grad_phi2 = N.delop(phi2)"
   ]
  },
  {
   "cell_type": "code",
   "execution_count": 29,
   "metadata": {
    "collapsed": false
   },
   "outputs": [
    {
     "data": {
      "text/plain": [
       "(Derivative(N.x**2*N.y + 3*N.x**2 - N.x*N.z**3 + 2*N.y*N.z + N.z**3, N.x))*N.i + (Derivative(N.x**2*N.y + 3*N.x**2 - N.x*N.z**3 + 2*N.y*N.z + N.z**3, N.y))*N.j + (Derivative(N.x**2*N.y + 3*N.x**2 - N.x*N.z**3 + 2*N.y*N.z + N.z**3, N.z))*N.k"
      ]
     },
     "execution_count": 29,
     "metadata": {},
     "output_type": "execute_result"
    }
   ],
   "source": [
    "grad_phi2"
   ]
  },
  {
   "cell_type": "code",
   "execution_count": 30,
   "metadata": {
    "collapsed": false
   },
   "outputs": [
    {
     "data": {
      "text/plain": [
       "(2*N.x*N.y + 6*N.x - N.z**3)*N.i + (N.x**2 + 2*N.z)*N.j + (-3*N.x*N.z**2 + 2*N.y + 3*N.z**2)*N.k"
      ]
     },
     "execution_count": 30,
     "metadata": {},
     "output_type": "execute_result"
    }
   ],
   "source": [
    "grad_phi2.doit()"
   ]
  },
  {
   "cell_type": "code",
   "execution_count": 31,
   "metadata": {
    "collapsed": true
   },
   "outputs": [],
   "source": [
    "a1,a2,a3 = symbols('a1 a2 a3')"
   ]
  },
  {
   "cell_type": "code",
   "execution_count": 32,
   "metadata": {
    "collapsed": true
   },
   "outputs": [],
   "source": [
    "a = a1*N.i + a2*N.j + a3*N.k"
   ]
  },
  {
   "cell_type": "code",
   "execution_count": 33,
   "metadata": {
    "collapsed": true
   },
   "outputs": [],
   "source": [
    "directional_deriv_phi_a = grad_phi.dot(a)"
   ]
  },
  {
   "cell_type": "code",
   "execution_count": 34,
   "metadata": {
    "collapsed": false
   },
   "outputs": [
    {
     "data": {
      "text/plain": [
       "a1*(2*x*y + 6*x - z**3) + a2*(x**2 + 2*z) + a3*(-3*x*z**2 + 2*y + 3*z**2)"
      ]
     },
     "execution_count": 34,
     "metadata": {},
     "output_type": "execute_result"
    }
   ],
   "source": [
    "directional_deriv_phi_a"
   ]
  },
  {
   "cell_type": "code",
   "execution_count": 37,
   "metadata": {
    "collapsed": true
   },
   "outputs": [],
   "source": [
    "directional_deriv_phi2_a = grad_phi2.doit().dot(a)"
   ]
  },
  {
   "cell_type": "code",
   "execution_count": 38,
   "metadata": {
    "collapsed": false
   },
   "outputs": [
    {
     "data": {
      "text/plain": [
       "a1*(2*N.x*N.y + 6*N.x - N.z**3) + a2*(N.x**2 + 2*N.z) + a3*(-3*N.x*N.z**2 + 2*N.y + 3*N.z**2)"
      ]
     },
     "execution_count": 38,
     "metadata": {},
     "output_type": "execute_result"
    }
   ],
   "source": [
    "directional_deriv_phi2_a"
   ]
  },
  {
   "cell_type": "markdown",
   "metadata": {},
   "source": [
    "<h2>The Divergence</h2>\n",
    "\n",
    "let $\\mathbf V = \\mathbf V(x,y,z)=v_1\\ \\mathbf i+v_2\\ \\mathbf j +v_3\\ \\mathbf k$ be defined and differentiable at each point $(x, y, z)$ in a certain region of space (V is a differentiable vector field) Then\n",
    "the divergence of V written $\\nabla\\cdot\\mathbf V = \\mathbf{div}\\ \\mathbf V$ is\n",
    "\n",
    "$$\n",
    "    \\displaystyle\\nabla\\cdot\\mathbf V = \\mathbf{div}\\ \\mathbf V=\\left (\\frac{\\partial }{\\partial x} \\mathbf i+\\frac{\\partial }{\\partial y} \\mathbf j+\\frac{\\partial }{\\partial z} \\mathbf k \\right ).(v_1\\ \\mathbf i + v_2\\ \\mathbf j + v_3\\ \\mathbf k)\\\\=\\frac{\\partial v_1 }{\\partial x} +\\frac{\\partial v_2}{\\partial y} +\\frac{\\partial v_3}{\\partial z} $$"
   ]
  },
  {
   "cell_type": "code",
   "execution_count": 39,
   "metadata": {
    "collapsed": true
   },
   "outputs": [],
   "source": [
    "t = symbols('t')"
   ]
  },
  {
   "cell_type": "code",
   "execution_count": 40,
   "metadata": {
    "collapsed": true
   },
   "outputs": [],
   "source": []
  },
  {
   "cell_type": "code",
   "execution_count": 50,
   "metadata": {
    "collapsed": true
   },
   "outputs": [],
   "source": [
    "v = grad_phi"
   ]
  },
  {
   "cell_type": "code",
   "execution_count": 51,
   "metadata": {
    "collapsed": false
   },
   "outputs": [
    {
     "data": {
      "text/plain": [
       "(2*x*y + 6*x - z**3)*N.i + (x**2 + 2*z)*N.j + (-3*x*z**2 + 2*y + 3*z**2)*N.k"
      ]
     },
     "execution_count": 51,
     "metadata": {},
     "output_type": "execute_result"
    }
   ],
   "source": [
    "v"
   ]
  },
  {
   "cell_type": "code",
   "execution_count": 52,
   "metadata": {
    "collapsed": true
   },
   "outputs": [],
   "source": [
    "div_v = diff(v.dot(N.i),x) + diff(v.dot(N.j),y) + diff(v.dot(N.k),z)"
   ]
  },
  {
   "cell_type": "code",
   "execution_count": 53,
   "metadata": {
    "collapsed": false
   },
   "outputs": [
    {
     "data": {
      "text/plain": [
       "-6*x*z + 2*y + 6*z + 6"
      ]
     },
     "execution_count": 53,
     "metadata": {},
     "output_type": "execute_result"
    }
   ],
   "source": [
    "div_v"
   ]
  },
  {
   "cell_type": "code",
   "execution_count": 58,
   "metadata": {
    "collapsed": false
   },
   "outputs": [],
   "source": [
    "div_v2 = N.delop.dot(grad_phi2).doit()"
   ]
  },
  {
   "cell_type": "code",
   "execution_count": 59,
   "metadata": {
    "collapsed": false
   },
   "outputs": [
    {
     "data": {
      "text/plain": [
       "6*N.z*(-N.x + 1) + 2*(N.y + 3)"
      ]
     },
     "execution_count": 59,
     "metadata": {},
     "output_type": "execute_result"
    }
   ],
   "source": [
    "div_v2"
   ]
  },
  {
   "cell_type": "code",
   "execution_count": 176,
   "metadata": {
    "collapsed": true
   },
   "outputs": [],
   "source": [
    "def div(p,N):\n",
    "    return diff(p.dot(N.i),x) + diff(p.dot(N.j),y) + diff(p.dot(N.k),z)"
   ]
  },
  {
   "cell_type": "markdown",
   "metadata": {},
   "source": [
    "<h2>The Curl</h2>\n",
    "\n",
    "If  $ \\mathbf V = \\mathbf V(x,y,z)=v_1\\ \\mathbf i+v_2\\ \\mathbf j +v_3\\ \\mathbf k $ is a differentiable vector field then the curl or rotation at V is\n",
    "   \n",
    "$$\\nabla \\times \\mathbf V = \\mathbf{curl}\\ \\mathbf V\\ or \\ \\mathbf{rot}\\ \\mathbf V \\\\=\\left (\\frac{\\partial }{\\partial x} \\mathbf i+\\frac{\\partial }{\\partial y} \\mathbf j+\\frac{\\partial }{\\partial z} \\mathbf k \\right )\\times(v_1\\ \\mathbf i + v_2\\ \\mathbf j + v_3\\ \\mathbf k)\\\\ = \\begin{vmatrix} \\mathbf i&\\mathbf j &\\mathbf k \\\\ \\frac{\\partial }{\\partial x}& \\frac{\\partial }{\\partial y}& \\frac{\\partial }{\\partial z}\\\\ v_1 & v_2 & v_3 \\end{vmatrix}\\\\ =\\begin{vmatrix} \\frac{\\partial }{\\partial y}&\\frac{\\partial }{\\partial z} \\\\ v_2& v_3 \\end{vmatrix}\\mathbf i-\\begin{vmatrix} \\frac{\\partial }{\\partial x}&\\frac{\\partial }{\\partial z} \\\\ v_1& v_3 \\end{vmatrix}\\mathbf j+\\begin{vmatrix} \\frac{\\partial }{\\partial x}&\\frac{\\partial }{\\partial y} \\\\ v_1& v_2 \\end{vmatrix}\\mathbf k\\\\=\\left ( \\frac{\\partial v_3 }{\\partial y}-\\frac{\\partial v_2 }{\\partial z} \\right )\\mathbf i-\\left ( \\frac{\\partial v_3 }{\\partial x}-\\frac{\\partial v_1 }{\\partial z} \\right )\\mathbf j+\\left ( \\frac{\\partial v_2 }{\\partial x}-\\frac{\\partial v_1 }{\\partial y} \\right )\\mathbf k$$"
   ]
  },
  {
   "cell_type": "code",
   "execution_count": 104,
   "metadata": {
    "collapsed": false
   },
   "outputs": [],
   "source": [
    "curlv = (diff(v.dot(N.k),y)- diff(v.dot(N.j),z))*N.i - (diff(v.dot(N.k),x)-diff(v.dot(N.i),z))*N.j + (diff(v.dot(N.j),x) - diff(v.dot(N.i),y)) *N.k"
   ]
  },
  {
   "cell_type": "code",
   "execution_count": 105,
   "metadata": {
    "collapsed": false
   },
   "outputs": [
    {
     "data": {
      "text/plain": [
       "(-2*x + 1)*N.i + 2*x*y*N.j + (-2*x*z + 2*z)*N.k"
      ]
     },
     "execution_count": 105,
     "metadata": {},
     "output_type": "execute_result"
    }
   ],
   "source": [
    "curlv"
   ]
  },
  {
   "cell_type": "code",
   "execution_count": 64,
   "metadata": {
    "collapsed": true
   },
   "outputs": [],
   "source": [
    "curlv2 = N.delop.cross(grad_phi2).doit()"
   ]
  },
  {
   "cell_type": "code",
   "execution_count": 65,
   "metadata": {
    "collapsed": false
   },
   "outputs": [
    {
     "data": {
      "text/plain": [
       "0"
      ]
     },
     "execution_count": 65,
     "metadata": {},
     "output_type": "execute_result"
    }
   ],
   "source": [
    "curlv2"
   ]
  },
  {
   "cell_type": "code",
   "execution_count": 100,
   "metadata": {
    "collapsed": true
   },
   "outputs": [],
   "source": [
    "V = (2*x*y*z) * N.i + (3*y**2 + 2*x*z) * N.j + (z**2+y) * N.k"
   ]
  },
  {
   "cell_type": "code",
   "execution_count": 102,
   "metadata": {
    "collapsed": false
   },
   "outputs": [
    {
     "data": {
      "text/plain": [
       "y + z**2"
      ]
     },
     "execution_count": 102,
     "metadata": {},
     "output_type": "execute_result"
    }
   ],
   "source": [
    "V.dot(N.k)"
   ]
  },
  {
   "cell_type": "code",
   "execution_count": 94,
   "metadata": {
    "collapsed": false
   },
   "outputs": [],
   "source": [
    "def curl(vv, N):\n",
    "    return (diff(vv.dot(N.k),y)- diff(vv.dot(N.j),z))*N.i - (diff(vv.dot(N.k),x)-diff(vv.dot(N.i),z))*N.j + (diff(vv.dot(N.j),x) - diff(vv.dot(N.i),y)) *N.k"
   ]
  },
  {
   "cell_type": "code",
   "execution_count": 106,
   "metadata": {
    "collapsed": true
   },
   "outputs": [],
   "source": [
    "cv = curl(V,N)"
   ]
  },
  {
   "cell_type": "code",
   "execution_count": 107,
   "metadata": {
    "collapsed": false
   },
   "outputs": [
    {
     "data": {
      "text/plain": [
       "(-2*x + 1)*N.i + 2*x*y*N.j + (-2*x*z + 2*z)*N.k"
      ]
     },
     "execution_count": 107,
     "metadata": {},
     "output_type": "execute_result"
    }
   ],
   "source": [
    "cv"
   ]
  },
  {
   "cell_type": "code",
   "execution_count": 97,
   "metadata": {
    "collapsed": true
   },
   "outputs": [],
   "source": [
    "cv2 = curl(grad_phi, N)"
   ]
  },
  {
   "cell_type": "code",
   "execution_count": 98,
   "metadata": {
    "collapsed": false
   },
   "outputs": [
    {
     "data": {
      "text/plain": [
       "0"
      ]
     },
     "execution_count": 98,
     "metadata": {},
     "output_type": "execute_result"
    }
   ],
   "source": [
    "cv2"
   ]
  },
  {
   "cell_type": "code",
   "execution_count": 108,
   "metadata": {
    "collapsed": false
   },
   "outputs": [],
   "source": [
    "V = (2*N.x*N.y*N.z) * N.i + (3*N.y**2 + 2*N.x*N.z) * N.j + (N.z**2+N.y) * N.k"
   ]
  },
  {
   "cell_type": "code",
   "execution_count": 110,
   "metadata": {
    "collapsed": true
   },
   "outputs": [],
   "source": [
    "curlv2 = N.delop.cross(V ).doit()"
   ]
  },
  {
   "cell_type": "code",
   "execution_count": 111,
   "metadata": {
    "collapsed": false
   },
   "outputs": [
    {
     "data": {
      "text/plain": [
       "(-2*N.x + 1)*N.i + 2*N.x*N.y*N.j + (-2*N.x*N.z + 2*N.z)*N.k"
      ]
     },
     "execution_count": 111,
     "metadata": {},
     "output_type": "execute_result"
    }
   ],
   "source": [
    "curlv2"
   ]
  },
  {
   "cell_type": "markdown",
   "metadata": {},
   "source": [
    "\n",
    "<h2>Formulae involving \\(\\nabla\\) </h2>\n",
    "\n",
    "\n",
    "<b>1.</b> $ \\quad\\nabla(\\phi+\\psi)=\\nabla \\phi+\\nabla \\psi=\\mathbf{grad}\\ \\phi+\\mathbf{grad}\\ \\psi $\n",
    "<br><br>\n",
    "\n",
    "<b>2.</b> $ \\quad\\nabla.(\\mathbf A+\\mathbf B)=\\nabla .\\mathbf A+\\nabla .\\mathbf B=\\mathbf{div}\\ \\mathbf A+\\mathbf{div}\\ \\mathbf B $\n",
    "<br><br>\n",
    "\n",
    "<b>3.</b> $ \\quad\\nabla\\times(\\mathbf A+\\mathbf B)=\\nabla \\times \\mathbf A+\\nabla \\times \\mathbf B=\\mathbf{curl}\\ \\mathbf A+\\mathbf{curl}\\ \\mathbf B $\n",
    "<br><br>\n",
    "\n",
    "<b>4.</b> $\\quad\\nabla.(\\phi \\mathbf A)=\\nabla \\phi .\\mathbf A+\\phi \\nabla .\\mathbf A=\\mathbf{grad}\\ \\phi. \\mathbf A+\\phi\\ \\mathbf{div}\\ \\mathbf A$\n",
    "<br><br>\n",
    "\n",
    "<b>5.</b> $ \\quad\\nabla\\times(\\phi \\mathbf A)=\\nabla \\phi \\times\\mathbf A+\\phi \\nabla \\times\\mathbf A=\\mathbf{grad}\\ \\phi\\times \\mathbf A+\\phi\\ \\mathbf{curl}\\ \\mathbf A $\n",
    "<br><br>\n",
    "\n",
    "<b>6.</b> $ \\quad\\nabla.( \\mathbf A\\times \\mathbf B)=\\mathbf B.\\left (\\nabla \\times\\mathbf A \\right )-\\mathbf A. \\left (\\nabla \\times\\mathbf B \\right ) $\n",
    "<br><br>\n",
    "\n",
    "<b>7.</b> $ \\quad\\nabla \\times( \\mathbf A\\times \\mathbf B)=\\left (\\mathbf B.\\nabla \\right ) \\mathbf A - \\mathbf B\\left (\\nabla.\\mathbf A \\right )-\\left (\\mathbf A.\\nabla \\right ) \\mathbf B +\\mathbf A\\left (\\nabla.\\mathbf B \\right ) $\n",
    "<br><br>\n",
    "\n",
    "<b>8. $ \\quad\\nabla ( \\mathbf A. \\mathbf B)=\\left (\\mathbf B.\\nabla \\right ) \\mathbf A +\\left (\\mathbf A.\\nabla \\right ) \\mathbf B + \\mathbf B\\times\\left (\\nabla\\times\\mathbf A \\right ) +\\mathbf A\\times\\left (\\nabla\\times\\mathbf B \\right )$\n",
    "<br><br>\n",
    "\n",
    "<b>9.</b> $\\quad\\displaystyle \\nabla .(\\nabla \\phi)=\\nabla^2\\phi=\\frac{\\partial^2 \\phi }{\\partial x^2} +\\frac{\\partial^2 \\phi}{\\partial y^2} +\\frac{\\partial^2 \\phi}{\\partial z^2} $\n",
    "<br><br>\n",
    "\n",
    "\n",
    "   $ \\quad\\displaystyle\\frac{\\partial^2 }{\\partial x^2} +\\frac{\\partial^2}{\\partial y^2} +\\frac{\\partial^2 }{\\partial z^2}=\\nabla^2\\ $is the laplacian operator.\n",
    "\n",
    "<br><br>\n",
    "<b>10.</b> $\\quad\\nabla \\times (\\nabla \\phi)=0 $   curl of gradient of phi is zero\n",
    "<br><br>\n",
    "\n",
    "<b>11.</b> $ \\quad\\nabla . (\\nabla \\times \\mathbf A)=0$ The divergence of the curl of A is zero\n",
    "<br><br>\n",
    "\n",
    "<b>12.</b>  $ \\quad\\nabla \\times(\\nabla \\times \\mathbf A)=\\nabla(\\nabla.\\mathbf A)-\\nabla^2\\mathbf A $\n",
    "<br><br>\n",
    "\n",
    "\n",
    "in 9-12 phi and A have continuous partial derivatives\n",
    "<br><br>"
   ]
  },
  {
   "cell_type": "code",
   "execution_count": 112,
   "metadata": {
    "collapsed": false
   },
   "outputs": [
    {
     "data": {
      "text/plain": [
       "x**2*y + 3*x**2 - x*z**3 + 2*y*z + z**3"
      ]
     },
     "execution_count": 112,
     "metadata": {},
     "output_type": "execute_result"
    }
   ],
   "source": [
    "phi"
   ]
  },
  {
   "cell_type": "code",
   "execution_count": 113,
   "metadata": {
    "collapsed": true
   },
   "outputs": [],
   "source": [
    "psi = 2*x*y*z + 3*x**2 * y** 2 +z**3 * x - z + y**2*x"
   ]
  },
  {
   "cell_type": "code",
   "execution_count": 114,
   "metadata": {
    "collapsed": false
   },
   "outputs": [
    {
     "data": {
      "text/plain": [
       "N.x**2*N.y + 3*N.x**2 - N.x*N.z**3 + 2*N.y*N.z + N.z**3"
      ]
     },
     "execution_count": 114,
     "metadata": {},
     "output_type": "execute_result"
    }
   ],
   "source": [
    "phi2"
   ]
  },
  {
   "cell_type": "code",
   "execution_count": 115,
   "metadata": {
    "collapsed": true
   },
   "outputs": [],
   "source": [
    "psi2 =  2*N.x*N.y*N.z + 3*N.x**2 * N.y** 2 +N.z**3 * N.x - N.z + N.y**2*N.x"
   ]
  },
  {
   "cell_type": "code",
   "execution_count": 116,
   "metadata": {
    "collapsed": false
   },
   "outputs": [
    {
     "data": {
      "text/plain": [
       "3*N.x**2*N.y**2 + N.x*N.y**2 + 2*N.x*N.y*N.z + N.x*N.z**3 - N.z"
      ]
     },
     "execution_count": 116,
     "metadata": {},
     "output_type": "execute_result"
    }
   ],
   "source": [
    "psi2"
   ]
  },
  {
   "cell_type": "code",
   "execution_count": 148,
   "metadata": {
    "collapsed": true
   },
   "outputs": [],
   "source": [
    "def grad_func(p,N):\n",
    "    return diff(p,x)*N.i+diff(p,y)*N.j + diff(p,z)*N.k"
   ]
  },
  {
   "cell_type": "code",
   "execution_count": 188,
   "metadata": {
    "collapsed": false
   },
   "outputs": [],
   "source": [
    "A = grad_func(phi,N)"
   ]
  },
  {
   "cell_type": "code",
   "execution_count": 189,
   "metadata": {
    "collapsed": false
   },
   "outputs": [
    {
     "name": "stdout",
     "output_type": "stream",
     "text": [
      "(2*x*y + 6*x - z**3)*N.i + (x**2 + 2*z)*N.j + (-3*x*z**2 + 2*y + 3*z**2)*N.k\n"
     ]
    }
   ],
   "source": [
    "print A"
   ]
  },
  {
   "cell_type": "code",
   "execution_count": 190,
   "metadata": {
    "collapsed": true
   },
   "outputs": [],
   "source": [
    "B = grad_func(psi,N)"
   ]
  },
  {
   "cell_type": "code",
   "execution_count": 191,
   "metadata": {
    "collapsed": false
   },
   "outputs": [
    {
     "data": {
      "text/plain": [
       "(6*x*y**2 + y**2 + 2*y*z + z**3)*N.i + (6*x**2*y + 2*x*y + 2*x*z)*N.j + (2*x*y + 3*x*z**2 - 1)*N.k"
      ]
     },
     "execution_count": 191,
     "metadata": {},
     "output_type": "execute_result"
    }
   ],
   "source": [
    "B"
   ]
  },
  {
   "cell_type": "code",
   "execution_count": 192,
   "metadata": {
    "collapsed": false
   },
   "outputs": [
    {
     "data": {
      "text/plain": [
       "True"
      ]
     },
     "execution_count": 192,
     "metadata": {},
     "output_type": "execute_result"
    }
   ],
   "source": [
    "grad_func(phi + psi, N) == A + B"
   ]
  },
  {
   "cell_type": "code",
   "execution_count": 193,
   "metadata": {
    "collapsed": false
   },
   "outputs": [
    {
     "data": {
      "text/plain": [
       "False"
      ]
     },
     "execution_count": 193,
     "metadata": {},
     "output_type": "execute_result"
    }
   ],
   "source": [
    "N.delop(phi2 + psi2) == N.delop(phi2) + N.delop(psi2)"
   ]
  },
  {
   "cell_type": "code",
   "execution_count": 194,
   "metadata": {
    "collapsed": false
   },
   "outputs": [
    {
     "data": {
      "text/plain": [
       "True"
      ]
     },
     "execution_count": 194,
     "metadata": {},
     "output_type": "execute_result"
    }
   ],
   "source": [
    "expand(N.delop(phi2 + psi2).doit()) == expand(N.delop(phi2).doit() + N.delop(psi2).doit())"
   ]
  },
  {
   "cell_type": "code",
   "execution_count": 195,
   "metadata": {
    "collapsed": false
   },
   "outputs": [
    {
     "data": {
      "text/plain": [
       "True"
      ]
     },
     "execution_count": 195,
     "metadata": {},
     "output_type": "execute_result"
    }
   ],
   "source": [
    "N.delop(phi2 + psi2).doit() == N.delop(phi2).doit() + N.delop(psi2).doit()"
   ]
  },
  {
   "cell_type": "code",
   "execution_count": 196,
   "metadata": {
    "collapsed": false
   },
   "outputs": [],
   "source": [
    "dv= div((A + B),N )"
   ]
  },
  {
   "cell_type": "code",
   "execution_count": 197,
   "metadata": {
    "collapsed": false
   },
   "outputs": [
    {
     "name": "stdout",
     "output_type": "stream",
     "text": [
      "6*x**2 + 2*x + 6*y**2 + 2*y + 6*z + 6\n"
     ]
    }
   ],
   "source": [
    "print dv"
   ]
  },
  {
   "cell_type": "code",
   "execution_count": 198,
   "metadata": {
    "collapsed": false
   },
   "outputs": [
    {
     "data": {
      "text/plain": [
       "True"
      ]
     },
     "execution_count": 198,
     "metadata": {},
     "output_type": "execute_result"
    }
   ],
   "source": [
    "dv == expand(div(grad_phi_func,N)) + expand(div(grad_psi_func,N))"
   ]
  },
  {
   "cell_type": "code",
   "execution_count": 184,
   "metadata": {
    "collapsed": true
   },
   "outputs": [],
   "source": [
    "grad_phi2 = N.delop(phi2)\n",
    "grad_psi2 = N.delop(psi2)"
   ]
  },
  {
   "cell_type": "code",
   "execution_count": 187,
   "metadata": {
    "collapsed": false
   },
   "outputs": [
    {
     "data": {
      "text/plain": [
       "True"
      ]
     },
     "execution_count": 187,
     "metadata": {},
     "output_type": "execute_result"
    }
   ],
   "source": [
    "expand(N.delop.dot(grad_phi2 + grad_psi2).doit()) == expand(N.delop.dot(grad_phi2).doit() + N.delop.dot(grad_psi2).doit())"
   ]
  },
  {
   "cell_type": "code",
   "execution_count": 199,
   "metadata": {
    "collapsed": false
   },
   "outputs": [
    {
     "data": {
      "text/plain": [
       "True"
      ]
     },
     "execution_count": 199,
     "metadata": {},
     "output_type": "execute_result"
    }
   ],
   "source": [
    "curl( A + B, N) == curl(A,N) + curl(B,N)"
   ]
  },
  {
   "cell_type": "code",
   "execution_count": 200,
   "metadata": {
    "collapsed": true
   },
   "outputs": [],
   "source": [
    "A2 = grad_phi2\n",
    "B2 = grad_psi2"
   ]
  },
  {
   "cell_type": "code",
   "execution_count": 201,
   "metadata": {
    "collapsed": false
   },
   "outputs": [
    {
     "data": {
      "text/plain": [
       "False"
      ]
     },
     "execution_count": 201,
     "metadata": {},
     "output_type": "execute_result"
    }
   ],
   "source": [
    "N.delop.cross(A2+B2) == N.delop.cross(A) + N.delop.cross(B)"
   ]
  },
  {
   "cell_type": "code",
   "execution_count": 202,
   "metadata": {
    "collapsed": false
   },
   "outputs": [
    {
     "data": {
      "text/plain": [
       "True"
      ]
     },
     "execution_count": 202,
     "metadata": {},
     "output_type": "execute_result"
    }
   ],
   "source": [
    "N.delop.cross(A2+B2).doit() == N.delop.cross(A).doit() + N.delop.cross(B).doit()"
   ]
  },
  {
   "cell_type": "code",
   "execution_count": 204,
   "metadata": {
    "collapsed": true
   },
   "outputs": [],
   "source": [
    "phi = 3*x*z + 2*z* y**3 + x*y*z**2"
   ]
  },
  {
   "cell_type": "code",
   "execution_count": 205,
   "metadata": {
    "collapsed": false
   },
   "outputs": [
    {
     "data": {
      "text/plain": [
       "False"
      ]
     },
     "execution_count": 205,
     "metadata": {},
     "output_type": "execute_result"
    }
   ],
   "source": [
    "div( phi * A, N ) == grad_func(phi,N).dot(A) + phi * div(A,N)"
   ]
  },
  {
   "cell_type": "code",
   "execution_count": 206,
   "metadata": {
    "collapsed": false
   },
   "outputs": [
    {
     "data": {
      "text/plain": [
       "True"
      ]
     },
     "execution_count": 206,
     "metadata": {},
     "output_type": "execute_result"
    }
   ],
   "source": [
    "expand(div( phi * A, N )) == expand(grad_func(phi,N).dot(A) + phi * div(A,N))"
   ]
  },
  {
   "cell_type": "code",
   "execution_count": 207,
   "metadata": {
    "collapsed": true
   },
   "outputs": [],
   "source": [
    "phi2 = 3*N.x*N.z + 2*N.z* N.y**3 + N.x*N.y*N.z**2"
   ]
  },
  {
   "cell_type": "code",
   "execution_count": 224,
   "metadata": {
    "collapsed": false
   },
   "outputs": [
    {
     "data": {
      "text/plain": [
       "True"
      ]
     },
     "execution_count": 224,
     "metadata": {},
     "output_type": "execute_result"
    }
   ],
   "source": [
    "expand(N.delop.dot( phi2 * A2).doit())== expand(N.delop(phi2).dot(A2).doit() + phi2 *  N.delop.dot(A2).doit())"
   ]
  },
  {
   "cell_type": "code",
   "execution_count": 225,
   "metadata": {
    "collapsed": false
   },
   "outputs": [
    {
     "data": {
      "text/plain": [
       "True"
      ]
     },
     "execution_count": 225,
     "metadata": {},
     "output_type": "execute_result"
    }
   ],
   "source": [
    "curl(phi * A,N) == grad_func(phi,N).cross(A) + phi * curl(A,N)"
   ]
  },
  {
   "cell_type": "code",
   "execution_count": 227,
   "metadata": {
    "collapsed": false
   },
   "outputs": [
    {
     "data": {
      "text/plain": [
       "True"
      ]
     },
     "execution_count": 227,
     "metadata": {},
     "output_type": "execute_result"
    }
   ],
   "source": [
    "N.delop.cross(phi2 * A2).doit() == N.delop(phi2).cross(A2).doit() + phi * N.delop.cross(A2).doit()"
   ]
  },
  {
   "cell_type": "code",
   "execution_count": 228,
   "metadata": {
    "collapsed": false
   },
   "outputs": [
    {
     "data": {
      "text/plain": [
       "True"
      ]
     },
     "execution_count": 228,
     "metadata": {},
     "output_type": "execute_result"
    }
   ],
   "source": [
    "div(A.cross(B),N) == B.dot( curl(A,N)) - A.dot( curl(B,N))"
   ]
  },
  {
   "cell_type": "code",
   "execution_count": 229,
   "metadata": {
    "collapsed": false
   },
   "outputs": [
    {
     "data": {
      "text/plain": [
       "True"
      ]
     },
     "execution_count": 229,
     "metadata": {},
     "output_type": "execute_result"
    }
   ],
   "source": [
    "N.delop.dot(A2.cross(B2)).doit() == B2.dot( N.delop.cross(A2)).doit()- A2.dot( N.delop.cross(B2)).doit() "
   ]
  },
  {
   "cell_type": "code",
   "execution_count": 233,
   "metadata": {
    "collapsed": false
   },
   "outputs": [
    {
     "ename": "ValueError",
     "evalue": "Invalid multiplication",
     "output_type": "error",
     "traceback": [
      "\u001b[1;31m---------------------------------------------------------------------------\u001b[0m",
      "\u001b[1;31mValueError\u001b[0m                                Traceback (most recent call last)",
      "\u001b[1;32m<ipython-input-233-1ff029e2744b>\u001b[0m in \u001b[0;36m<module>\u001b[1;34m()\u001b[0m\n\u001b[1;32m----> 1\u001b[1;33m \u001b[0mcurl\u001b[0m\u001b[1;33m(\u001b[0m \u001b[0mA\u001b[0m\u001b[1;33m.\u001b[0m\u001b[0mcross\u001b[0m\u001b[1;33m(\u001b[0m\u001b[0mB\u001b[0m\u001b[1;33m)\u001b[0m\u001b[1;33m,\u001b[0m \u001b[0mN\u001b[0m\u001b[1;33m)\u001b[0m \u001b[1;33m==\u001b[0m \u001b[0mB\u001b[0m\u001b[1;33m.\u001b[0m\u001b[0mdot\u001b[0m\u001b[1;33m(\u001b[0m \u001b[0mgrad_func\u001b[0m\u001b[1;33m(\u001b[0m\u001b[0mA\u001b[0m\u001b[1;33m,\u001b[0m\u001b[0mN\u001b[0m\u001b[1;33m)\u001b[0m\u001b[1;33m)\u001b[0m\u001b[1;33m\u001b[0m\u001b[0m\n\u001b[0m\u001b[0;32m      2\u001b[0m \u001b[1;33m-\u001b[0m\u001b[0mB\u001b[0m\u001b[1;33m*\u001b[0m\u001b[1;33m(\u001b[0m \u001b[0mgrad_func\u001b[0m\u001b[1;33m(\u001b[0m\u001b[0mA\u001b[0m\u001b[1;33m,\u001b[0m\u001b[0mN\u001b[0m\u001b[1;33m)\u001b[0m\u001b[1;33m)\u001b[0m \u001b[1;33m-\u001b[0m\u001b[0mA\u001b[0m\u001b[1;33m.\u001b[0m\u001b[0mdot\u001b[0m\u001b[1;33m(\u001b[0m \u001b[0mgrad_func\u001b[0m\u001b[1;33m(\u001b[0m\u001b[0mB\u001b[0m\u001b[1;33m,\u001b[0m\u001b[0mN\u001b[0m\u001b[1;33m)\u001b[0m\u001b[1;33m)\u001b[0m\u001b[1;33m+\u001b[0m\u001b[0mA\u001b[0m\u001b[1;33m*\u001b[0m\u001b[1;33m(\u001b[0m \u001b[0mgrad_func\u001b[0m\u001b[1;33m(\u001b[0m\u001b[0mB\u001b[0m\u001b[1;33m,\u001b[0m\u001b[0mN\u001b[0m\u001b[1;33m)\u001b[0m\u001b[1;33m)\u001b[0m\u001b[1;33m\u001b[0m\u001b[0m\n",
      "\u001b[1;32m<ipython-input-148-6da0930997bd>\u001b[0m in \u001b[0;36mgrad_func\u001b[1;34m(p, N)\u001b[0m\n\u001b[0;32m      1\u001b[0m \u001b[1;32mdef\u001b[0m \u001b[0mgrad_func\u001b[0m\u001b[1;33m(\u001b[0m\u001b[0mp\u001b[0m\u001b[1;33m,\u001b[0m\u001b[0mN\u001b[0m\u001b[1;33m)\u001b[0m\u001b[1;33m:\u001b[0m\u001b[1;33m\u001b[0m\u001b[0m\n\u001b[1;32m----> 2\u001b[1;33m     \u001b[1;32mreturn\u001b[0m \u001b[0mdiff\u001b[0m\u001b[1;33m(\u001b[0m\u001b[0mp\u001b[0m\u001b[1;33m,\u001b[0m\u001b[0mx\u001b[0m\u001b[1;33m)\u001b[0m\u001b[1;33m*\u001b[0m\u001b[0mN\u001b[0m\u001b[1;33m.\u001b[0m\u001b[0mi\u001b[0m\u001b[1;33m+\u001b[0m\u001b[0mdiff\u001b[0m\u001b[1;33m(\u001b[0m\u001b[0mp\u001b[0m\u001b[1;33m,\u001b[0m\u001b[0my\u001b[0m\u001b[1;33m)\u001b[0m\u001b[1;33m*\u001b[0m\u001b[0mN\u001b[0m\u001b[1;33m.\u001b[0m\u001b[0mj\u001b[0m \u001b[1;33m+\u001b[0m \u001b[0mdiff\u001b[0m\u001b[1;33m(\u001b[0m\u001b[0mp\u001b[0m\u001b[1;33m,\u001b[0m\u001b[0mz\u001b[0m\u001b[1;33m)\u001b[0m\u001b[1;33m*\u001b[0m\u001b[0mN\u001b[0m\u001b[1;33m.\u001b[0m\u001b[0mk\u001b[0m\u001b[1;33m\u001b[0m\u001b[0m\n\u001b[0m",
      "\u001b[1;32mC:\\Users\\dave\\Anaconda\\lib\\site-packages\\sympy\\core\\decorators.pyc\u001b[0m in \u001b[0;36m__sympifyit_wrapper\u001b[1;34m(a, b)\u001b[0m\n\u001b[0;32m     75\u001b[0m                 \u001b[1;32mif\u001b[0m \u001b[1;32mnot\u001b[0m \u001b[0mhasattr\u001b[0m\u001b[1;33m(\u001b[0m\u001b[0mb\u001b[0m\u001b[1;33m,\u001b[0m \u001b[1;34m'_op_priority'\u001b[0m\u001b[1;33m)\u001b[0m\u001b[1;33m:\u001b[0m\u001b[1;33m\u001b[0m\u001b[0m\n\u001b[0;32m     76\u001b[0m                     \u001b[0mb\u001b[0m \u001b[1;33m=\u001b[0m \u001b[0msympify\u001b[0m\u001b[1;33m(\u001b[0m\u001b[0mb\u001b[0m\u001b[1;33m,\u001b[0m \u001b[0mstrict\u001b[0m\u001b[1;33m=\u001b[0m\u001b[0mTrue\u001b[0m\u001b[1;33m)\u001b[0m\u001b[1;33m\u001b[0m\u001b[0m\n\u001b[1;32m---> 77\u001b[1;33m                 \u001b[1;32mreturn\u001b[0m \u001b[0mfunc\u001b[0m\u001b[1;33m(\u001b[0m\u001b[0ma\u001b[0m\u001b[1;33m,\u001b[0m \u001b[0mb\u001b[0m\u001b[1;33m)\u001b[0m\u001b[1;33m\u001b[0m\u001b[0m\n\u001b[0m\u001b[0;32m     78\u001b[0m             \u001b[1;32mexcept\u001b[0m \u001b[0mSympifyError\u001b[0m\u001b[1;33m:\u001b[0m\u001b[1;33m\u001b[0m\u001b[0m\n\u001b[0;32m     79\u001b[0m                 \u001b[1;32mreturn\u001b[0m \u001b[0mretval\u001b[0m\u001b[1;33m\u001b[0m\u001b[0m\n",
      "\u001b[1;32mC:\\Users\\dave\\Anaconda\\lib\\site-packages\\sympy\\core\\decorators.pyc\u001b[0m in \u001b[0;36mbinary_op_wrapper\u001b[1;34m(self, other)\u001b[0m\n\u001b[0;32m    116\u001b[0m                     \u001b[1;32melse\u001b[0m\u001b[1;33m:\u001b[0m\u001b[1;33m\u001b[0m\u001b[0m\n\u001b[0;32m    117\u001b[0m                         \u001b[1;32mreturn\u001b[0m \u001b[0mf\u001b[0m\u001b[1;33m(\u001b[0m\u001b[0mself\u001b[0m\u001b[1;33m)\u001b[0m\u001b[1;33m\u001b[0m\u001b[0m\n\u001b[1;32m--> 118\u001b[1;33m             \u001b[1;32mreturn\u001b[0m \u001b[0mfunc\u001b[0m\u001b[1;33m(\u001b[0m\u001b[0mself\u001b[0m\u001b[1;33m,\u001b[0m \u001b[0mother\u001b[0m\u001b[1;33m)\u001b[0m\u001b[1;33m\u001b[0m\u001b[0m\n\u001b[0m\u001b[0;32m    119\u001b[0m         \u001b[1;32mreturn\u001b[0m \u001b[0mbinary_op_wrapper\u001b[0m\u001b[1;33m\u001b[0m\u001b[0m\n\u001b[0;32m    120\u001b[0m     \u001b[1;32mreturn\u001b[0m \u001b[0mpriority_decorator\u001b[0m\u001b[1;33m\u001b[0m\u001b[0m\n",
      "\u001b[1;32mC:\\Users\\dave\\Anaconda\\lib\\site-packages\\sympy\\vector\\basisdependent.pyc\u001b[0m in \u001b[0;36m__mul__\u001b[1;34m(self, other)\u001b[0m\n\u001b[0;32m     34\u001b[0m     \u001b[1;33m@\u001b[0m\u001b[0mcall_highest_priority\u001b[0m\u001b[1;33m(\u001b[0m\u001b[1;34m'__rmul__'\u001b[0m\u001b[1;33m)\u001b[0m\u001b[1;33m\u001b[0m\u001b[0m\n\u001b[0;32m     35\u001b[0m     \u001b[1;32mdef\u001b[0m \u001b[0m__mul__\u001b[0m\u001b[1;33m(\u001b[0m\u001b[0mself\u001b[0m\u001b[1;33m,\u001b[0m \u001b[0mother\u001b[0m\u001b[1;33m)\u001b[0m\u001b[1;33m:\u001b[0m\u001b[1;33m\u001b[0m\u001b[0m\n\u001b[1;32m---> 36\u001b[1;33m         \u001b[1;32mreturn\u001b[0m \u001b[0mself\u001b[0m\u001b[1;33m.\u001b[0m\u001b[0m_mul_func\u001b[0m\u001b[1;33m(\u001b[0m\u001b[0mself\u001b[0m\u001b[1;33m,\u001b[0m \u001b[0mother\u001b[0m\u001b[1;33m)\u001b[0m\u001b[1;33m\u001b[0m\u001b[0m\n\u001b[0m\u001b[0;32m     37\u001b[0m \u001b[1;33m\u001b[0m\u001b[0m\n\u001b[0;32m     38\u001b[0m     \u001b[1;33m@\u001b[0m\u001b[0m_sympifyit\u001b[0m\u001b[1;33m(\u001b[0m\u001b[1;34m'other'\u001b[0m\u001b[1;33m,\u001b[0m \u001b[0mNotImplemented\u001b[0m\u001b[1;33m)\u001b[0m\u001b[1;33m\u001b[0m\u001b[0m\n",
      "\u001b[1;32mC:\\Users\\dave\\Anaconda\\lib\\site-packages\\sympy\\vector\\vector.pyc\u001b[0m in \u001b[0;36m__new__\u001b[1;34m(cls, *args, **options)\u001b[0m\n\u001b[0;32m    388\u001b[0m \u001b[1;33m\u001b[0m\u001b[0m\n\u001b[0;32m    389\u001b[0m     \u001b[1;32mdef\u001b[0m \u001b[0m__new__\u001b[0m\u001b[1;33m(\u001b[0m\u001b[0mcls\u001b[0m\u001b[1;33m,\u001b[0m \u001b[1;33m*\u001b[0m\u001b[0margs\u001b[0m\u001b[1;33m,\u001b[0m \u001b[1;33m**\u001b[0m\u001b[0moptions\u001b[0m\u001b[1;33m)\u001b[0m\u001b[1;33m:\u001b[0m\u001b[1;33m\u001b[0m\u001b[0m\n\u001b[1;32m--> 390\u001b[1;33m         \u001b[0mobj\u001b[0m \u001b[1;33m=\u001b[0m \u001b[0mBasisDependentMul\u001b[0m\u001b[1;33m.\u001b[0m\u001b[0m__new__\u001b[0m\u001b[1;33m(\u001b[0m\u001b[0mcls\u001b[0m\u001b[1;33m,\u001b[0m \u001b[1;33m*\u001b[0m\u001b[0margs\u001b[0m\u001b[1;33m,\u001b[0m \u001b[1;33m**\u001b[0m\u001b[0moptions\u001b[0m\u001b[1;33m)\u001b[0m\u001b[1;33m\u001b[0m\u001b[0m\n\u001b[0m\u001b[0;32m    391\u001b[0m         \u001b[1;32mreturn\u001b[0m \u001b[0mobj\u001b[0m\u001b[1;33m\u001b[0m\u001b[0m\n\u001b[0;32m    392\u001b[0m \u001b[1;33m\u001b[0m\u001b[0m\n",
      "\u001b[1;32mC:\\Users\\dave\\Anaconda\\lib\\site-packages\\sympy\\vector\\basisdependent.pyc\u001b[0m in \u001b[0;36m__new__\u001b[1;34m(cls, *args, **options)\u001b[0m\n\u001b[0;32m    253\u001b[0m         \u001b[1;31m#Make sure incompatible types weren't multipled\u001b[0m\u001b[1;33m\u001b[0m\u001b[1;33m\u001b[0m\u001b[0m\n\u001b[0;32m    254\u001b[0m         \u001b[1;32mif\u001b[0m \u001b[0mcount\u001b[0m \u001b[1;33m>\u001b[0m \u001b[1;36m1\u001b[0m\u001b[1;33m:\u001b[0m\u001b[1;33m\u001b[0m\u001b[0m\n\u001b[1;32m--> 255\u001b[1;33m             \u001b[1;32mraise\u001b[0m \u001b[0mValueError\u001b[0m\u001b[1;33m(\u001b[0m\u001b[1;34m\"Invalid multiplication\"\u001b[0m\u001b[1;33m)\u001b[0m\u001b[1;33m\u001b[0m\u001b[0m\n\u001b[0m\u001b[0;32m    256\u001b[0m         \u001b[1;32melif\u001b[0m \u001b[0mcount\u001b[0m \u001b[1;33m==\u001b[0m \u001b[1;36m0\u001b[0m\u001b[1;33m:\u001b[0m\u001b[1;33m\u001b[0m\u001b[0m\n\u001b[0;32m    257\u001b[0m             \u001b[1;32mreturn\u001b[0m \u001b[0mMul\u001b[0m\u001b[1;33m(\u001b[0m\u001b[1;33m*\u001b[0m\u001b[0margs\u001b[0m\u001b[1;33m,\u001b[0m \u001b[1;33m**\u001b[0m\u001b[0moptions\u001b[0m\u001b[1;33m)\u001b[0m\u001b[1;33m\u001b[0m\u001b[0m\n",
      "\u001b[1;31mValueError\u001b[0m: Invalid multiplication"
     ]
    }
   ],
   "source": [
    "curl( A.cross(B), N) == B.dot( grad_func(A,N)) \n",
    "-B*( grad_func(A,N)) -A.dot( grad_func(B,N))+A*( grad_func(B,N))"
   ]
  },
  {
   "cell_type": "markdown",
   "metadata": {},
   "source": [
    "\n",
    "\n",
    "Invariance for two frames $ (x,y,z) $ and $(X,Y,Z)$ with the same origin but axes rotated with respect to each other. A point has coordinates $(x,y,z)$ or $(X,Y,Z)$ in these systems.\n",
    "<br>\n",
    "1)    \n",
    "$$X = l_{11} x + l_{12} y + l_{13} z\\\\Y = l_{21} x + l_{22} y + l_{23} z\\\\Z = l_{31} x + l_{32} y + l_{33} z$$\n",
    "    \n",
    "where \\( l_{jk} \\) are direction cosines of XYZ with respect to xyz.\n",
    "\n",
    "if the two are not at the same position O but displaced\n",
    "    \n",
    "<br>\n",
    "2)    \n",
    "$$X = l_{11} x + l_{12} y + l_{13} z+A_1\\\\Y = l_{21} x + l_{22} y + l_{23} z+A_2\\\\Z = l_{31} x + l_{32} y + l_{33} z+A_3$$\n",
    "<br>\n",
    "<br>\n",
    "\n",
    "where the origin of the $(x,y,z)$ system is located at $(A1,\\ A2,\\ A3)$ relative to the $(X,Y,Z)$ coordinate system.\n",
    "\n",
    "1) defines a pure rotation, it is an orthagonal transformation. (a general linear transformation is called an affine transformation)\n",
    "2) defines a rotation plus a translation\n",
    "\n",
    "\n",
    "\n",
    "A scalar field should be independant of the coordinates defined at the point. so $ \\phi(x,y,z)=\\phi(X,Y,Z) $ is invariant to the transformation. \n",
    "\n",
    "\n",
    "\n",
    "A vector field  $ \\mathbf{A}(x,y,z) $ is invariant if $ \\mathbf A(x,y,z)=\\mathbf A(X,Y,Z) $\n",
    "\n",
    "\n",
    "\n",
    "The gradient of an invariant scalar field is an invariant vector field with respect to the transformations (1) and (2) The same is true with div and curl."
   ]
  },
  {
   "cell_type": "code",
   "execution_count": 234,
   "metadata": {
    "collapsed": true
   },
   "outputs": [],
   "source": [
    "X,Y,Z = symbols('X Y Z')"
   ]
  },
  {
   "cell_type": "code",
   "execution_count": 235,
   "metadata": {
    "collapsed": true
   },
   "outputs": [],
   "source": [
    "l_11, l_12, l_13, l_21, l_22, l_23, l_31, l_32, l_33 = symbols('l_11 l_12 l_13 l_21 l_22 l_23 l_31 l_32 l_33')"
   ]
  },
  {
   "cell_type": "code",
   "execution_count": 236,
   "metadata": {
    "collapsed": true
   },
   "outputs": [],
   "source": [
    "X = l_11 * x + l_12 *y + l_13 * z"
   ]
  },
  {
   "cell_type": "code",
   "execution_count": 237,
   "metadata": {
    "collapsed": true
   },
   "outputs": [],
   "source": [
    "Y = l_21 * x + l_22 * y + l_23 * z"
   ]
  },
  {
   "cell_type": "code",
   "execution_count": 238,
   "metadata": {
    "collapsed": true
   },
   "outputs": [],
   "source": [
    "Z = l_31 * x + l_32 * y + l_33 * z"
   ]
  },
  {
   "cell_type": "code",
   "execution_count": 289,
   "metadata": {
    "collapsed": true
   },
   "outputs": [],
   "source": [
    "from sympy.abc import a, b, c"
   ]
  },
  {
   "cell_type": "code",
   "execution_count": null,
   "metadata": {
    "collapsed": true
   },
   "outputs": [],
   "source": []
  },
  {
   "cell_type": "code",
   "execution_count": null,
   "metadata": {
    "collapsed": true
   },
   "outputs": [],
   "source": []
  },
  {
   "cell_type": "code",
   "execution_count": 290,
   "metadata": {
    "collapsed": false
   },
   "outputs": [],
   "source": [
    "M = N.orient_new_axis('M', a, N.k)"
   ]
  },
  {
   "cell_type": "code",
   "execution_count": 291,
   "metadata": {
    "collapsed": true
   },
   "outputs": [],
   "source": [
    "v_ = X * N.i + Y * N.j + Z * N.k"
   ]
  },
  {
   "cell_type": "code",
   "execution_count": 292,
   "metadata": {
    "collapsed": false
   },
   "outputs": [
    {
     "data": {
      "text/plain": [
       "(l_11*x + l_12*y + l_13*z)*N.i + (l_21*x + l_22*y + l_23*z)*N.j + (l_31*x + l_32*y + l_33*z)*N.k"
      ]
     },
     "execution_count": 292,
     "metadata": {},
     "output_type": "execute_result"
    }
   ],
   "source": [
    "v_"
   ]
  },
  {
   "cell_type": "code",
   "execution_count": 293,
   "metadata": {
    "collapsed": false
   },
   "outputs": [
    {
     "data": {
      "text/plain": [
       "0"
      ]
     },
     "execution_count": 293,
     "metadata": {},
     "output_type": "execute_result"
    }
   ],
   "source": [
    "M.position_wrt(N)"
   ]
  },
  {
   "cell_type": "code",
   "execution_count": 294,
   "metadata": {
    "collapsed": false
   },
   "outputs": [
    {
     "data": {
      "text/plain": [
       "Matrix([\n",
       "[cos(a), -sin(a), 0],\n",
       "[sin(a),  cos(a), 0],\n",
       "[     0,       0, 1]])"
      ]
     },
     "execution_count": 294,
     "metadata": {},
     "output_type": "execute_result"
    }
   ],
   "source": [
    "N.rotation_matrix(M)"
   ]
  },
  {
   "cell_type": "code",
   "execution_count": 295,
   "metadata": {
    "collapsed": true
   },
   "outputs": [],
   "source": [
    "new_X = x*cos(a) - y * sin(a)"
   ]
  },
  {
   "cell_type": "code",
   "execution_count": 296,
   "metadata": {
    "collapsed": true
   },
   "outputs": [],
   "source": [
    "new_Y = x*sin(a) + y * cos(a)"
   ]
  },
  {
   "cell_type": "code",
   "execution_count": 297,
   "metadata": {
    "collapsed": true
   },
   "outputs": [],
   "source": [
    "new_z = z"
   ]
  },
  {
   "cell_type": "code",
   "execution_count": 298,
   "metadata": {
    "collapsed": true
   },
   "outputs": [],
   "source": [
    "new_v = new_X * M.i + new_Y * M.j + new_z * N.k"
   ]
  },
  {
   "cell_type": "code",
   "execution_count": 299,
   "metadata": {
    "collapsed": false
   },
   "outputs": [
    {
     "data": {
      "text/plain": [
       "(x*cos(a) - y*sin(a))*M.i + (x*sin(a) + y*cos(a))*M.j + z*N.k"
      ]
     },
     "execution_count": 299,
     "metadata": {},
     "output_type": "execute_result"
    }
   ],
   "source": [
    "new_v"
   ]
  },
  {
   "cell_type": "code",
   "execution_count": 300,
   "metadata": {
    "collapsed": true
   },
   "outputs": [],
   "source": [
    "v_ = 3*N.i + 4*N.j + 2*N.k"
   ]
  },
  {
   "cell_type": "code",
   "execution_count": 301,
   "metadata": {
    "collapsed": false
   },
   "outputs": [
    {
     "data": {
      "text/plain": [
       "sqrt(29)"
      ]
     },
     "execution_count": 301,
     "metadata": {},
     "output_type": "execute_result"
    }
   ],
   "source": [
    "v_.magnitude()"
   ]
  },
  {
   "cell_type": "markdown",
   "metadata": {},
   "source": [
    "https://en.wikipedia.org/wiki/Direction_cosine"
   ]
  },
  {
   "cell_type": "code",
   "execution_count": 282,
   "metadata": {
    "collapsed": true
   },
   "outputs": [],
   "source": [
    "def direction_cosine_x(v_, N):\n",
    "    return v_.dot(N.i) / v_.magnitude()"
   ]
  },
  {
   "cell_type": "code",
   "execution_count": 283,
   "metadata": {
    "collapsed": true
   },
   "outputs": [],
   "source": [
    "def direction_cosine_y(v_, N):\n",
    "    return v_.dot(N.j) / v_.magnitude()"
   ]
  },
  {
   "cell_type": "code",
   "execution_count": 284,
   "metadata": {
    "collapsed": true
   },
   "outputs": [],
   "source": [
    "def direction_cosine_z(v_, N):\n",
    "    return v_.dot(N.k) / v_.magnitude()"
   ]
  },
  {
   "cell_type": "code",
   "execution_count": 288,
   "metadata": {
    "collapsed": false
   },
   "outputs": [
    {
     "name": "stdout",
     "output_type": "stream",
     "text": [
      "3*sqrt(29)/29\n"
     ]
    }
   ],
   "source": [
    "print direction_cosine_x(v_,N)"
   ]
  },
  {
   "cell_type": "code",
   "execution_count": 281,
   "metadata": {
    "collapsed": false
   },
   "outputs": [
    {
     "data": {
      "text/plain": [
       "3"
      ]
     },
     "execution_count": 281,
     "metadata": {},
     "output_type": "execute_result"
    }
   ],
   "source": [
    "v_.dot(N.i)"
   ]
  },
  {
   "cell_type": "code",
   "execution_count": 303,
   "metadata": {
    "collapsed": false
   },
   "outputs": [
    {
     "data": {
      "text/plain": [
       "(4*sin(a) + 3*cos(a))*M.i + (-3*sin(a) + 4*cos(a))*M.j + 2*M.k"
      ]
     },
     "execution_count": 303,
     "metadata": {},
     "output_type": "execute_result"
    }
   ],
   "source": [
    "from sympy.vector import express\n",
    "express(v_, M)"
   ]
  },
  {
   "cell_type": "code",
   "execution_count": null,
   "metadata": {
    "collapsed": true
   },
   "outputs": [],
   "source": []
  }
 ],
 "metadata": {
  "kernelspec": {
   "display_name": "Python 2",
   "language": "python",
   "name": "python2"
  },
  "language_info": {
   "codemirror_mode": {
    "name": "ipython",
    "version": 2
   },
   "file_extension": ".py",
   "mimetype": "text/x-python",
   "name": "python",
   "nbconvert_exporter": "python",
   "pygments_lexer": "ipython2",
   "version": "2.7.10"
  }
 },
 "nbformat": 4,
 "nbformat_minor": 0
}
