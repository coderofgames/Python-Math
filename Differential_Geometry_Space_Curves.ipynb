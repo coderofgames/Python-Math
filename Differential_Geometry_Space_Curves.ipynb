{
 "cells": [
  {
   "cell_type": "markdown",
   "metadata": {},
   "source": [
    "<div style=\"background:red\"><h2>Concept</h2></div>\n",
    "<h3>Notes taken from Shaum's differential geometry, to be expanded</h3>\n",
    "\n",
    "A vector function <br>\n",
    "$$\\mathbf r= \\mathbf r(t),\\qquad\\qquad t\\epsilon  \\mathbf I$$\n",
    "    \n",
    "Is a regular parametric representation. The variable $t$ is defined on the interval $\\mathbf I$. The interval has the following properties <br>\n",
    "    \n",
    "i)$\\quad \\mathbf r(t)$ is of class $C^1$ in $\\mathbf I$ <br>\n",
    "ii)$\\quad \\mathbf r'(t)\\neq 0$ for all $t$ in $\\mathbf I$ <br>\n",
    "<br>\n",
    "\n",
    "If a basis is chosen in $E^3$, or 3 dimensional Euclidean space, then <br>\n",
    "$$r_1=r_1(t)\\qquad r_2=r_2(t)\\qquad r_3=r_3(t)$$\n",
    "    \n",
    "are the components of the curve with respect to the basis. Each scalar equation must satisfy the above properties but at least one $r_i'(t)\\neq 0$.<br>"
   ]
  },
  {
   "cell_type": "markdown",
   "metadata": {},
   "source": [
    "<div style=\"background:red\">Example</div>\n",
    "    The curve $\\mathbf r(t)=r\\cos(t)\\mathbf e_1 + r\\sin(t) \\mathbf e_2$ for $-\\infty < 0 < \\infty$ is a regular parametric representation of a circle because the function is differentiable and\n",
    "    defined on the interval for the basis."
   ]
  },
  {
   "cell_type": "code",
   "execution_count": 4,
   "metadata": {
    "collapsed": false
   },
   "outputs": [
    {
     "data": {
      "image/png": "[encoded data removed]",
      "text/plain": [
       "<matplotlib.figure.Figure at 0x851a6d8>"
      ]
     },
     "metadata": {},
     "output_type": "display_data"
    }
   ],
   "source": [
    "import matplotlib as mpl\n",
    "%matplotlib inline\n",
    "from mpl_toolkits.mplot3d import Axes3D\n",
    "import numpy as np\n",
    "import matplotlib.pyplot as plt\n",
    "\n",
    "mpl.rcParams['legend.fontsize'] = 10\n",
    "\n",
    "fig = plt.figure()\n",
    "ax = fig.gca()\n",
    "theta = np.linspace(-4 * np.pi, 4 * np.pi, 100)\n",
    "r =  1\n",
    "x = r * np.sin(theta)\n",
    "y = r * np.cos(theta)\n",
    "ax.plot(x, y, label='parametric curve')\n",
    "ax.legend()\n",
    "plt.axes().set_aspect('equal', 'datalim')"
   ]
  },
  {
   "cell_type": "markdown",
   "metadata": {},
   "source": [
    "<div style=\"background:red\">Theorem</div>\n",
    "   if $\\mathbf r= \\mathbf r(t)$ is a regular parametric representation on $\\mathbf I$ then for each $t_0$ in $\\mathbf I$ there exists a neighbourhood of $t_0$ in which $\\mathbf r(t)$ is one to one.<br>\n",
    "   <br>\n",
    "   This means that for each $t$ there is a unique point given by the curve. In the example of the circle, the function is one to many, or infinitely many multiples of the same point, this can be fixed by setting the interval to be between $0 < t < 2\\pi$ to ensure that the curve only cyles once for all given values of $t$. <br>"
   ]
  },
  {
   "cell_type": "markdown",
   "metadata": {},
   "source": [
    " <div style=\"background:red\">Change of Parameter</div>\n",
    " For a curve $\\mathbf r=\\mathbf r(\\theta)$ on the interval $\\mathbf I$ the real valued function $\\theta=\\theta(t)$ on the interval $\\mathbf I_{t}$ is an allowable change of parameter if<br>\n",
    " $i) \\quad \\theta=\\theta(t)$ is of class $C^1$ in $\\mathbf I_{t}$. <br>\n",
    " $ii) \\quad d\\theta/d t \\neq 0$ for all $t$ in $\\mathbf I_{t}$ <br>\n",
    " <br>\n",
    " If $\\theta=\\theta(t)$ is an allowable change of parameter then $d\\theta/dt$ is continuous and not equal to zero so is either greater than zero (smooth increasing) or less than zero (smooth decreasing).  \n",
    " <br>"
   ]
  },
  {
   "cell_type": "markdown",
   "metadata": {},
   "source": [
    " <div style=\"background:red\">Theorem</div>\n",
    " If $\\theta=\\theta(t)$ is an allowable change of parameter for a function $\\mathbf r=\\mathbf r(\\theta)$ then <br>\n",
    " $i) \\quad\\theta=\\theta(t)$ is a one to one mapping of $\\mathbf I_{t}$ onto an interval $\\mathbf I_{\\theta}=\\theta(\\mathbf I_t)$<br>\n",
    " $ii)\\quad$ The inverse function $t=t(\\theta)$ is an allowable change of parameter on $\\mathbf I_{\\theta}$."
   ]
  },
  {
   "cell_type": "code",
   "execution_count": 6,
   "metadata": {
    "collapsed": false
   },
   "outputs": [
    {
     "data": {
      "image/png": "[encoded data removed]",
      "text/plain": [
       "<matplotlib.figure.Figure at 0x8b0a400>"
      ]
     },
     "metadata": {},
     "output_type": "display_data"
    }
   ],
   "source": [
    "mpl.rcParams['legend.fontsize'] = 10\n",
    "\n",
    "fig = plt.figure()\n",
    "ax = fig.gca()\n",
    "t = np.linspace(-4, 4, 100)\n",
    "r =  1\n",
    "theta = np.pi*t\n",
    "x = r * np.sin(theta)\n",
    "y = r * np.cos(theta)\n",
    "ax.plot(x, y, label='parametric curve')\n",
    "ax.legend()\n",
    "plt.axes().set_aspect('equal', 'datalim')"
   ]
  },
  {
   "cell_type": "markdown",
   "metadata": {},
   "source": [
    " <div style=\"background:red\">Defintion</div>\n",
    " A regular parametric representation $\\mathbf r=\\mathbf r(\\theta)$ for $\\theta \\epsilon \\mathbf I_{\\theta}$ is equivalent to a regular parametric representation $\\mathbf r=\\mathbf {\\bar r}(t)$ for $t \\epsilon \\mathbf I_t$ if there exists an allowable change of parameter $\\theta=\\theta(t)$ on $\\mathbf I_t$  such that <br>\n",
    " $$\n",
    " i)\\quad \\theta(\\mathbf I_{t}) = \\mathbf I_{\\theta} \\qquad ii)\\quad \\mathbf r(\\theta(t))=\\mathbf{\\bar r}(t)\n",
    " $$\n",
    " <br>\n",
    " This defines an equivalence relation on a set of regular representations. A regular curve can be defined as an equivalence class of regular parameteric representations. <br>\n",
    " Since a curve  $\\mathbf r=\\mathbf r(\\theta)$ uniquely determines a curve $C$ and all representations related to it by an allowable change of parameter, any properties of the  $\\mathbf r=\\mathbf r(\\theta)$ may not neccessarily be a property of the curve and may be properties of the parameter. Any properties of the curve must be independant of the parameter.<br>"
   ]
  },
  {
   "cell_type": "markdown",
   "metadata": {},
   "source": [
    "<div style=\"background:red\">Definition</div>\n",
    "   <br>\n",
    "   A regular curve  $\\mathbf r = \\mathbf r(t)$ on $t\\epsilon \\mathbf I $ is said to be simple if there are no multiple points and $t_1\\neq t_2$ implies $\\mathbf r(t_1)\\neq \\mathbf r(t_2)$. This is a property of the curve and not of the representation.\n",
    "   If the interval $a\\leq t\\leq b$ is assigned then the curve $\\mathbf r=\\mathbf r(t)$ is called a regular arc and the points $\\mathbf r(a)$ and $\\mathbf r(b)$ are called the end points of the arc. An arc segment $\\mathbf b = \\mathbf r(t)$ for $a\\leq t\\leq b$ is the result of defining the interval $(a,b)$ of the arc as a subset of the interval of the curve $\\mathbf I$ <br>\n",
    "   A regular oriented curve is a curve along which a specific direction is chosen for an increase in the parameter. This can change for allowable reparameterizations because sometimes the derivative of the parameter with respect to its parameter is negative rather than positive, signifying a change in direction. "
   ]
  },
  {
   "cell_type": "code",
   "execution_count": 7,
   "metadata": {
    "collapsed": false
   },
   "outputs": [
    {
     "data": {
      "image/png": "[encoded data removed]",
      "text/plain": [
       "<matplotlib.figure.Figure at 0x8c0b3c8>"
      ]
     },
     "metadata": {},
     "output_type": "display_data"
    }
   ],
   "source": [
    "mpl.rcParams['legend.fontsize'] = 10\n",
    "\n",
    "fig = plt.figure()\n",
    "ax = fig.gca()\n",
    "theta = np.linspace(0, 2 * np.pi, 100)\n",
    "r =  1\n",
    "x = r * np.sin(theta)\n",
    "y = r * np.cos(theta)\n",
    "ax.plot(x, y, label='parametric curve, simple')\n",
    "ax.legend()\n",
    "plt.axes().set_aspect('equal', 'datalim')"
   ]
  },
  {
   "cell_type": "markdown",
   "metadata": {},
   "source": [
    "<div style=\"background:red\">Orthogonal projections</div>\n",
    "    To project a curve onto a coordinate plane defined by the basis constitutes an orthogonal projection. This is achieved by setting the non-related component to zero ... i.e. <br>\n",
    "    $$\n",
    "    r_1=r_1(t)\\qquad r_2=r_2(t)\\qquad r_3=r_3(t)\n",
    "    $$\n",
    "    and to project onto the $\\mathbf e_1 \\mathbf e_2$ plane the parameter $r_3$ is set equal to zero. And likewise for the other planes."
   ]
  },
  {
   "cell_type": "code",
   "execution_count": 30,
   "metadata": {
    "collapsed": false
   },
   "outputs": [
    {
     "data": {
      "text/plain": [
       "<matplotlib.legend.Legend at 0xaa07438>"
      ]
     },
     "execution_count": 30,
     "metadata": {},
     "output_type": "execute_result"
    },
    {
     "data": {
      "image/png": "[encoded data removed]",
      "text/plain": [
       "<matplotlib.figure.Figure at 0xa99acc0>"
      ]
     },
     "metadata": {},
     "output_type": "display_data"
    }
   ],
   "source": [
    "from matplotlib import cm\n",
    "mpl.rcParams['legend.fontsize'] = 10\n",
    "\n",
    "fig = plt.figure()\n",
    "ax = fig.gca(projection='3d')\n",
    "t = np.linspace(0, 25, 100)\n",
    "\n",
    "# initial velocity\n",
    "ux = 1\n",
    "uy = -1\n",
    "uz = 150\n",
    "\n",
    "# acceleration due to gravity\n",
    "a = -9.81\n",
    "\n",
    "# x and y are initial velocity times time\n",
    "x = ux*t\n",
    "y = uy*t\n",
    "\n",
    "# now the parabola\n",
    "z = uz * t +0.5*a*t**2  \n",
    "\n",
    "ax.plot(x, y, z, label='parametric curve')\n",
    "y = 0 * t\n",
    "ax.plot(x, y, z, label='projection onto xz')\n",
    "y = uy * t\n",
    "x = 0*t\n",
    "ax.plot(x, y, z, label='projection onto yz')\n",
    "x= ux * t\n",
    "z =0 * t\n",
    "ax.plot(x, y, z, label='projection onto xy')\n",
    "ax.legend(bbox_to_anchor=(0., 1.02, 1., .102), loc=3,\n",
    "           ncol=2, mode=\"expand\", borderaxespad=0.)\n",
    "#ax.legend()"
   ]
  },
  {
   "cell_type": "markdown",
   "metadata": {},
   "source": [
    "<div style=\"background:red\">Implicit representations of Curves</div>\n",
    "    A curve may be represented implicitly as the intersection of two surfaces, or as the locus of points $x_1,\\ x_2,\\ x_3$ satisfying the relations <br>\n",
    "    $$\n",
    "    F_1(x_1,x_2,x_3)=0\\qquad \\qquad F_2(x_1,x_2,x_3)=0\n",
    "    $$\n",
    "    These equations can be solved if <br>\n",
    "    $$\n",
    "    \\left |\\begin{array}{ccc} \\frac{\\partial F_1}{\\partial x_1} &  \\frac{\\partial F_1}{\\partial x_2} \\\\  \\frac{\\partial F_2}{\\partial x_1} &  \\frac{\\partial F_2}{\\partial x_2} \\end{array}\\right|\n",
    "    $$\n",
    "    Then the curve can be represented as $x_1=x_1(x_3)$, $x_2=x_2(x_3)$. requires example."
   ]
  },
  {
   "cell_type": "markdown",
   "metadata": {},
   "source": [
    "### Arc Length\n",
    "   \n",
    "An arc length can be defined in terms of approximating vectors created by subdividing the interval into discrete subdivisions and evaluating the vector function at those points, creating an approximating polygonal arc. The approximate arc length is considered to be the sum of all these vectors and the arc length of the curve is the greatest of lengths of all possible approximating polygonal arcs. An arc $\\mathbf r=\\mathbf r(t)$ is said to have an approximating polygonal arc $S$ with an interval subdivision $\\delta t$ and the arc is said to be rectifiable if the set of all $S$ is bounded from above, or has a supremum which is defined to be the length of the arc. This can be found using limits. \n",
    "   \n",
    "A regular arc $\\mathbf r=\\mathbf r(t)$ on the interval $a \\leq t \\leq b$ is rectifiable and the length is given by the integral\n",
    "   \n",
    "$$\n",
    "s = \\displaystyle \\int_a^b \\left | \\frac{d\\mathbf r}{dt}\\right | dt = \\int_a^b \\sqrt { \\left(\\frac{dx_1}{dt}\\right)^2 +\\left(\\frac{dx_2}{dt}\\right)^2+\\left(\\frac{dx_3}{dt}\\right)^2}dt \n",
    "$$\n"
   ]
  },
  {
   "cell_type": "code",
   "execution_count": 62,
   "metadata": {
    "collapsed": false
   },
   "outputs": [
    {
     "name": "stdout",
     "output_type": "stream",
     "text": [
      "Result of symbolic integration = \n",
      "1610.35082325725\n",
      "Result of numeric integration = \n",
      "1610.30202650048\n"
     ]
    }
   ],
   "source": [
    "from sympy import *\n",
    "from sympy.vector import *\n",
    "\n",
    "x,t = symbols('x t')\n",
    "\n",
    "## define integral for parabola plotted above\n",
    "\n",
    "ux,uy,uz,t = symbols('ux uy uz t')\n",
    "\n",
    "## DO NOT use N for coordinate system \n",
    "## because N() is a function for printing numerical values\n",
    "M = CoordSysCartesian('M')\n",
    "x1 = ux*t\n",
    "x2 = uy*t\n",
    "a = -9.81\n",
    "x3 = uz*t + 0.5*(a*t**2) \n",
    "\n",
    "r = x1*M.i + x2*M.j + x3 *M.k\n",
    "rr = M.i - M.j +(150-9.81*t)*M.k\n",
    "print \"Result of symbolic integration = \"\n",
    "print N(integrate(diff(r.subs({ux:1,uy:-1,uz:150}),t).magnitude() ,(t,0,25)).doit())\n",
    "\n",
    "\n",
    "\n",
    "def numerical_integrate(exp,t1,t2, max_num):\n",
    "    dt = S(t2-t1)/max_num\n",
    "    mag = 0\n",
    "    for i in range(0,max_num):\n",
    "        exp1 = exp.subs({t:dt*i})\n",
    "        exp2 = exp.subs({t:dt*(i+1)})\n",
    "        exp3 = (exp2 - exp1).magnitude()                    \n",
    "        mag += exp3\n",
    "                        \n",
    "    return mag\n",
    "\n",
    "print \"Result of numeric integration = \"\n",
    "print numerical_integrate(r.subs({ux:1, uy:-1, uz:150}),0,25,100)\n",
    "##quad(lambda tt: exp.subs({t:tt}), [0, 25])"
   ]
  },
  {
   "cell_type": "markdown",
   "metadata": {},
   "source": [
    "$$\\left|\\frac{d \\mathbf r}{d t}\\right| = \\sqrt{\\left(\\frac{d r_1}{dx}\\right)^2+\\left(\\frac{dr_2}{dy}\\right)^2+\\left(\\frac{dr_3}{dz}\\right)^2 }$$\n",
    "\n",
    "Here \n",
    "   \n",
    "$$\\mathbf r = u_x t \\mathbf i + u_y t \\mathbf j +\\left( \\frac{-9.81 t^2}{2} + u_z t\\right)\\mathbf k$$\n",
    "   \n",
    "and\n",
    "\n",
    "$$\\frac{d \\mathbf r}{dt} = u_x \\mathbf i + u_y \\mathbf j + (-9.81 t + u_z) \\mathbf k $$\n",
    "\n",
    "so the magnitude is \n",
    "\n",
    "$$\\left|\\frac{d \\mathbf r}{d t}\\right| = \\sqrt{u_x^2+u_y^2+(-9.81 t + u_z)^2 }$$\n",
    "\n",
    "To integrate this I need to change variables.\n",
    "\n",
    "I will use G ... \n",
    "and $G = -9.81 t + u_x$\n",
    "   \n",
    "and $ dG/dt = -9.81$ and $dt = -dG/9.81$ \n",
    "\n",
    "$$f =\\left|\\frac{d \\mathbf r}{d t}\\right| = \\sqrt{u_x^2+u_y^2+G^2 }$$\n",
    "\n",
    "  I introduce a variable $K = u_x^2 + u_y ^2 + G^2$\n",
    "  and $dK/dG = 2G$ so $dG = dK/2G$ \n",
    "     \n",
    "$$ \\frac{d f}{d t} = \\frac{d f}{d K}\\frac{d K}{d G}\\frac{d G}{d t} = \\frac{1}{\\sqrt K} (2G) (-9.81) $$\n",
    "\n",
    "\n",
    "   \n",
    "\n",
    "\n",
    "Then \n",
    "   \n",
    "but the limits have changed, from above, G takes the real interval $t\\to -9.81t + u_z$, so the limit is $S_G=-9.81s + u_z$\n",
    "\n",
    "but K takes the line G to another interval  $ K :G\\to u_x^2 + u_y^2 + G^2 $ so, as $K = f^2$ the limit is $S_f =\\sqrt{u_x^2 + u_y^2 + (-9.81s + u_z)^2} $, and at t =zero, the $G=u_z$ and when $S_{K0}= \\sqrt{u_x^2 + u_y^2 + u_z^2}$ integral has to be re-expressed ...\n",
    "\n",
    "$$ -\\frac{1}{9.81}\\frac{1}{2}\\int_{S_K0}^{S_K}  \\frac{\\sqrt{K }}{G} df = -\\frac{1}{19.62}\\int_{\\sqrt{u_x^2 + u_y^2 + u_z^2}}^{\\sqrt{u_x^2 + u_y^2 + (-9.81s + u_z)^2} }  \\frac{\\sqrt{K }}{G} df$$\n",
    "\n",
    "but then G must be a function of K, so $G = \\sqrt(K - u_x^2 - u_y ^2)$ and $K = f^2$ so ...\n",
    "   \n",
    "$$-\\frac{1}{19.62}\\int_{\\sqrt{u_x^2 + u_y^2 + u_z^2}}^{\\sqrt{u_x^2 + u_y^2 + (-9.81s + u_z)^2} }  \\frac{f}{\\sqrt{f^2-u_x^2 - u_y^2}} df$$\n",
    "\n",
    "and we quickly becomes confused... (joking)"
   ]
  },
  {
   "cell_type": "code",
   "execution_count": 59,
   "metadata": {
    "collapsed": false
   },
   "outputs": [
    {
     "name": "stdout",
     "output_type": "stream",
     "text": [
      "-2.79051987767584\n",
      "-2.79051987767584\n"
     ]
    }
   ],
   "source": [
    "f = symbols('f')\n",
    "sol = S(1)/19.62 * integrate( f / (f**2 - ux**2 - uy**2)**(S(1)/2), (f, (ux**2 + uy**2 + uz**2)**(S(1)/2), (ux**2 + uy**2 +(uz-9.81 *25)**2)**(S(1)/2)))\n",
    "print N(sol.subs({ux:1,uy:-1,uz:150}))\n",
    "# pre substituting ...\n",
    "lim1 = ((ux**2 + uy**2 + uz**2)**(S(1)/2)).subs({ux:1,uy:-1,uz:150})\n",
    "lim2 = ((ux**2 + uy**2 +(uz-9.81 *25)**2)**(S(1)/2) ).subs({ux:1,uy:-1,uz:150})\n",
    "sol = S(1)/19.62 * integrate( f / (f**2 - 2)**(S(1)/2), (f,lim1, lim2 ))\n",
    "print N(sol.subs({ux:1,uy:-1,uz:150}))"
   ]
  },
  {
   "cell_type": "markdown",
   "metadata": {},
   "source": [
    "This clearly does not work ... so note to self, use software to integrate. In fact we can show how odd these integrals become using sympy"
   ]
  },
  {
   "cell_type": "code",
   "execution_count": 63,
   "metadata": {
    "collapsed": false
   },
   "outputs": [
    {
     "name": "stdout",
     "output_type": "stream",
     "text": [
      "0.5*ux**2*(t - 0.101936799184506*uz)*sqrt(polar_lift(ux**2 + uy**2))/(1.0*ux**2*sqrt(96.2361*(t - 0.101936799184506*uz)**2/polar_lift(ux**2 + uy**2) + 1) + 1.0*uy**2*sqrt(96.2361*(t - 0.101936799184506*uz)**2/polar_lift(ux**2 + uy**2) + 1)) + 0.0509683995922528*ux**2*(ux**2 + uy**2)*sqrt(96.2361*(t - 0.101936799184506*uz)**2/polar_lift(ux**2 + uy**2) + 1)*asinh(9.81*(t - 0.101936799184506*uz)/sqrt(polar_lift(ux**2 + uy**2)))/(1.0*ux**2*sqrt(96.2361*(t - 0.101936799184506*uz)**2/polar_lift(ux**2 + uy**2) + 1) + 1.0*uy**2*sqrt(96.2361*(t - 0.101936799184506*uz)**2/polar_lift(ux**2 + uy**2) + 1)) + 0.5*uy**2*(t - 0.101936799184506*uz)*sqrt(polar_lift(ux**2 + uy**2))/(1.0*ux**2*sqrt(96.2361*(t - 0.101936799184506*uz)**2/polar_lift(ux**2 + uy**2) + 1) + 1.0*uy**2*sqrt(96.2361*(t - 0.101936799184506*uz)**2/polar_lift(ux**2 + uy**2) + 1)) + 0.0509683995922528*uy**2*(ux**2 + uy**2)*sqrt(96.2361*(t - 0.101936799184506*uz)**2/polar_lift(ux**2 + uy**2) + 1)*asinh(9.81*(t - 0.101936799184506*uz)/sqrt(polar_lift(ux**2 + uy**2)))/(1.0*ux**2*sqrt(96.2361*(t - 0.101936799184506*uz)**2/polar_lift(ux**2 + uy**2) + 1) + 1.0*uy**2*sqrt(96.2361*(t - 0.101936799184506*uz)**2/polar_lift(ux**2 + uy**2) + 1)) + 48.11805*(t - 0.101936799184506*uz)**3*sqrt(polar_lift(ux**2 + uy**2))/(1.0*ux**2*sqrt(96.2361*(t - 0.101936799184506*uz)**2/polar_lift(ux**2 + uy**2) + 1) + 1.0*uy**2*sqrt(96.2361*(t - 0.101936799184506*uz)**2/polar_lift(ux**2 + uy**2) + 1))\n"
     ]
    }
   ],
   "source": [
    "print integrate(diff(r,t).magnitude() ,t).doit()"
   ]
  },
  {
   "cell_type": "markdown",
   "metadata": {},
   "source": [
    "### Arc Length As Parameter</div>\n",
    "   \n",
    "$s=s(t)$ is an allowable change in parameter on $\\mathbf I$ since $ds/dt = |d\\mathbf r/dt| $ from the definition of the integral. This representation can travel either forwards or backwards, and is therefore not unique. The natural representation of a curve in terms of arc length is $|d\\mathbf r/dt| = 1$. "
   ]
  },
  {
   "cell_type": "markdown",
   "metadata": {},
   "source": [
    "<div style=\"background:red\">Example</div>\n",
    "    For the circle $\\mathbf r(\\theta)=r\\cos(\\theta)\\mathbf e_1 + r\\sin(\\theta)\\mathbf e_2$ on the interval $0 < \\theta_i < \\theta $ we consider the intergral <br>\n",
    "    $$\n",
    "    s = \\displaystyle \\int_0^{\\theta}  \\sqrt { \\left(\\frac{dx_1}{d\\theta}\\right)^2 +\\left(\\frac{dx_2}{d\\theta}\\right)^2 } d\\theta  \n",
    "    $$\n",
    "    evaluating\n",
    "    $$\n",
    "    s=\\displaystyle \\int_0^{\\theta}  \\sqrt { r^2 \\cos^2(\\theta) +r^2 \\sin^2(\\theta) } d\\theta =  \\int_0^{\\theta}  r d\\theta  = [r\\theta]_0^{\\theta} = r \\theta \n",
    "    $$\n",
    "    and so $\\theta = \\frac{s}{r}$  and the natural representation is  $\\mathbf r(s/r)=r\\cos(s/r)\\mathbf e_1 + r\\sin(s/r)\\mathbf e_2$. This is checked easily by setting the limit $s=2\\pi r$ and we find the final point in $\\theta$ is $2\\pi$.\n",
    "    <br>"
   ]
  },
  {
   "cell_type": "markdown",
   "metadata": {},
   "source": [
    "<div style=\"background:red\"><h2>Curvature and Torsion</h2></div><br>\n",
    "    A regular curve can be uniquely determined by two scalar quantities, curvature and torsion. <br>"
   ]
  },
  {
   "cell_type": "markdown",
   "metadata": {},
   "source": [
    "<div style=\"background:red\">Unit Tangent Vector</div>\n",
    "    If $\\mathbf r=\\mathbf r(s)$ is a natural representation of a regular curve C then the tangent to the curve is <br>\n",
    "    $$\n",
    "    \\displaystyle \\mathbf{\\dot r}(s) = \\frac{d\\mathbf r}{ds} =\\lim_{\\Delta s \\to 0} \\frac{ \\mathbf r(s+\\Delta s)-\\mathbf r(s)}{\\Delta s}\n",
    "    $$\n",
    "    Where the quantity $\\frac{ \\mathbf r(s+\\Delta s)-\\mathbf r(s)}{\\Delta s}$ is a secant to the curve C. The vector $\\mathbf {\\dot r}$ is of unit length in the natural representation. If $\\mathbf r=\\mathbf r(\\bar s)$ is any other natural representation then <br>\n",
    "    $$\n",
    "    \\frac{d\\mathbf r}{d\\bar s} = \\frac{d \\mathbf r}{ds}\\frac{ds}{d\\bar s} = \\pm \\frac{d \\mathbf r}{ds} \n",
    "    $$\n",
    "    since the direction can be the same or opposite. The unit tangent vector can be denoted $\\mathbf t=\\mathbf t(s)=\\mathbf {\\dot r}(s)$. <br>"
   ]
  },
  {
   "cell_type": "markdown",
   "metadata": {},
   "source": [
    "<div style=\"background:red\">Definition</div><br>\n",
    "    If $\\mathbf r=\\mathbf r(t)$ is an abritrary representation of C with the same orientation as $\\mathbf r=\\mathbf r(s)$ then <br>\n",
    "    $$\n",
    "    \\mathbf r' = \\frac{d\\mathbf r}{dt} = \\frac{d \\mathbf r}{ds}\\frac{ds}{dt} = \\mathbf t \\left|\\frac{d \\mathbf r}{dt}\\right| = \\mathbf t |\\mathbf r'| \n",
    "    $$\n",
    "    since <br>\n",
    "    $$\n",
    "    \\frac{ds}{dt} = \\left | \\frac{d\\mathbf r}{dt}\\right| \n",
    "    $$"
   ]
  },
  {
   "cell_type": "markdown",
   "metadata": {},
   "source": [
    "<div style=\"background:red\">Tangent Line and Normal Plane</div><br>\n",
    "    The straight line through a point $\\mathbf r$ on a regular curve $C$ parallel to the tangent vectors at $\\mathbf r$ is called a tangent line to $C$ at $\\mathbf r$. <br>\n",
    "    $$\n",
    "    \\mathbf r = \\mathbf r_0 + k \\mathbf t_0 \\qquad\\qquad -\\infty < k < \\infty\n",
    "    $$\n",
    "    Where $\\mathbf t_0=\\mathbf t(t_0)$ is the unit tangent of $\\mathbf r$ at $t=t_0$. The plane through $\\mathbf r$ orthogonal to the tangent line is called the normal plane. "
   ]
  },
  {
   "cell_type": "markdown",
   "metadata": {},
   "source": [
    "<div style=\"background:red\">Definition of Normal Plane</div><br>\n",
    "    The normal plane at $\\mathbf r_0$ is <br>\n",
    "    $$\n",
    "    (\\mathbf r-\\mathbf r_0)\\cdot \\mathbf t_0 = 0\n",
    "    $$\n",
    "    introducing a second variable $\\mathbf r$ we can define the tangent line as $\\mathbf y = \\mathbf r + k \\mathbf t$ for the same range of $k$. The normal plane would then be $(\\mathbf y-\\mathbf r)\\cdot \\mathbf t = 0$. It should be noted that $\\mathbf r'$ is parallel to $\\mathbf t$ so <br>\n",
    "    $$\n",
    "    \\mathbf y= \\mathbf r + k \\mathbf r' \\qquad\\qquad -\\infty < k < \\infty\\\\ \\ \\\\\n",
    "     (\\mathbf y-\\mathbf r_0)\\cdot \\mathbf r' = 0\n",
    "    $$\n",
    "    also define the tangent line and normal plane."
   ]
  },
  {
   "cell_type": "markdown",
   "metadata": {},
   "source": [
    "<div style=\"background:red\">Curvature</div><br>\n",
    "    Assuming that $\\mathbf r= \\mathbf r(s)$ is a regular curve of class $\\geq 2$ then the tangent vector $\\mathbf t=\\mathbf t(s) = \\mathbf {\\dot r}(s)$ is of class $C^1$ and the derivative <br>\n",
    "    $$\n",
    "    \\frac{d\\mathbf t}{ds} = \\mathbf{\\dot t}(s) = \\mathbf {\\ddot v}(s)\n",
    "    $$\n",
    "    is independent of orientation of the curve."
   ]
  },
  {
   "cell_type": "markdown",
   "metadata": {},
   "source": [
    "<div style=\"background:red\">Proof</div><br>\n",
    "     Let $\\mathbf r=\\mathbf r(\\bar s) $ be any other natural representation of the curve C with unit tangent $\\mathbf {\\bar t}=d\\mathbf r/d\\bar s$ and $s=\\bar s+\\epsilon$ where $\\epsilon$ is an abritrary constant. Then\n",
    "         $$\n",
    "    \\frac{d\\mathbf {\\bar t} }{d\\bar s} = \\frac{d}{d\\bar s}\\left(\\frac{d\\mathbf r}{d \\bar s}\\right) = \\frac{d}{d\\bar s}\\left(\\pm \\frac{d\\mathbf r}{d  s}\\right) =  \\pm \\frac{d}{d s}\\left(\\frac{d\\mathbf r}{d  s}\\right)\\frac{ds}{d\\bar s} = (\\pm 1)^2\\frac{d}{ds}\\left(\\frac{d\\mathbf r}{ds}\\right) = \\frac{d\\mathbf t}{ds}\n",
    "    $$\n",
    "    Therefore $\\mathbf {\\dot t}$ is independant of orientation."
   ]
  },
  {
   "cell_type": "markdown",
   "metadata": {},
   "source": [
    "<div style=\"background:red\">Definition</div><br>\n",
    "    The vector $\\mathbf {\\dot t}(s)$ is called the curvature vector on $C$ at the point $\\mathbf r(s)$ and is denoted by $\\mathbf k=\\mathbf k(s)=\\mathbf{\\dot t}(s)$.  The vector $\\mathbf k$ is orthogonal to $\\mathbf t$ and also parallel to the normal plane. When greater than zero it is in the direction that the curve is turning. The magnitude of the curvature vector is <br>\n",
    "    $$\n",
    "    |\\kappa| = |\\mathbf k(s)| \n",
    "    $$\n",
    "    and is called the curvature of $C$ at $\\mathbf r(s)$ . The reciprocal of the curvature is called the radius of curvature $\\rho = \\frac{1}{|\\kappa|}$ . "
   ]
  },
  {
   "cell_type": "markdown",
   "metadata": {},
   "source": [
    "<div style=\"background:red\">Definition</div><br>\n",
    "    The curvature is equal to the rate of change of the direction of the tangent with respect to arc length."
   ]
  },
  {
   "cell_type": "markdown",
   "metadata": {},
   "source": [
    "<div style=\"background:red\">Definition</div><br>\n",
    "    If the curvature is zero all along a curve then the curve is a straight line. "
   ]
  },
  {
   "cell_type": "markdown",
   "metadata": {},
   "source": [
    "<div style=\"background:red\">Definition</div><br>\n",
    "    An identity to calculate the curvature is <br>\n",
    "    $$\n",
    "    |\\kappa|=\\frac{|\\mathbf r'-\\mathbf r''|}{|\\mathbf r'|^3}\n",
    "    $$"
   ]
  },
  {
   "cell_type": "markdown",
   "metadata": {},
   "source": [
    "<div style=\"background:red\">Principal Normal Vector</div><br>\n",
    "    If $C$ is of class $\\geq 2$ the curvature vector varies continuously along $C$ and the unit vector in the direction of $\\mathbf k$ is not defined where $\\mathbf k=0$ and may have discontinuities. The principle normal is defined as \n",
    "    $$\n",
    "    \\mathbf n = \\frac{\\mathbf k(s)}{|\\mathbf k(s)|}\n",
    "    $$\n",
    "    and is defined to be continuous along $C$ when possible. From the definition of curvature <br>\n",
    "    $$\n",
    "    \\mathbf k(s) = \\kappa(s) \\mathbf n(s)\n",
    "    $$\n",
    "    where $\\mathbf n$ has the same direction as $\\mathbf k$ we have $\\kappa = |\\mathbf k|$ and when $\\mathbf n$ has the opposite direction then $\\kappa = -|\\mathbf k|$. At the point of inflection both $\\mathbf k$ and $\\kappa$ equal zero. Also the identity $\\mathbf n\\cdot\\mathbf n=1$ can be used to multiply both sides of the equation by $\\mathbf n$ to give <br>\n",
    "    $$\n",
    "    \\kappa = \\mathbf k(s)\\cdot \\mathbf n(s)\n",
    "    $$\n",
    "    <br> A curve of class $C^{\\infty}$ may not have a definite principle normal at a point of inflection. If the curve is analytic then a continuous principal normal will always exist. (if it is not a straight line)."
   ]
  },
  {
   "cell_type": "markdown",
   "metadata": {},
   "source": [
    "<div style=\"background:red\">Osculating Plane</div><br>\n",
    "      Analagous to the equations above the principal normal line to $C$ at $\\mathbf r$ is given by <br>\n",
    "      $$\n",
    "      \\mathbf y = \\mathbf r + k\\mathbf n\\qquad -\\infty < k < \\infty \n",
    "      $$\n",
    "      And the plant parallel to the unit tangent and the principal normal is <br>\n",
    "      $$\n",
    "      [(\\mathbf y - \\mathbf r)\\mathbf t \\mathbf n] = 0\n",
    "      $$\n",
    "      as given by the scalar triple product. This can also be written \n",
    "      $$\n",
    "      [(\\mathbf y - \\mathbf r)\\mathbf{ \\dot r} \\mathbf {\\ddot r}] = 0\n",
    "      $$      \n",
    "      <br>\n",
    "      The osculating plane at a point can be defined as the limiting position of a plane passing through three neighbouring points on a curve as the points approach the given point or as the distance between the intersection points and the given point of evaluation tends to zero. This is a definition of the order of contact with a curve.  "
   ]
  },
  {
   "cell_type": "markdown",
   "metadata": {},
   "source": [
    "<div style=\"background:red\">Binormal</div><br>\n",
    "       The vector <br>\n",
    "       $$\n",
    "       \\mathbf b(s) = \\mathbf t(s) \\times \\mathbf n(s)\n",
    "       $$\n",
    "       is defined as the binormal vector to the curve, and is orthogonal to both the tangent and the principal normal. The vector $\\mathbf b$ is continuous and of unit length and the three vectors $(\\mathbf t, \\mathbf n, \\mathbf b)$ form a right handed orthonormal triplet or basis. This is called the moving trihedral. The straight line through $\\mathbf r$ parallel to $\\mathbf b$ is <br>\n",
    "       $$\n",
    "       \\mathbf y = \\mathbf r + k\\mathbf b\\qquad -\\infty < k < \\infty\n",
    "       $$\n",
    "       and the plane parallel to $\\mathbf b$ and $\\mathbf t$ is called the rectifying plane <br>\n",
    "       $$\n",
    "       (\\mathbf y - \\mathbf r)\\cdot \\mathbf n = 0\n",
    "       $$"
   ]
  },
  {
   "cell_type": "markdown",
   "metadata": {},
   "source": [
    "<div style=\"background:red\">Torsion</div><br>\n",
    "       If the curve $\\mathbf r=\\mathbf r(s)$ is a regular curve of class $\\geq 3$ along which $\\mathbf n(s)$ is of class $C^1$ then differentiating the binormal <br>\n",
    "       $$\n",
    "       \\mathbf {\\dot b}(s) = \\mathbf{\\dot t}(s) \\times \\mathbf{n}(s)+ \\mathbf t(s) \\times \\mathbf{\\dot n}(s)= \\kappa(s)[ \\mathbf n(s)\\times \\mathbf n(s)] + \\mathbf t(s) \\times \\mathbf {\\dot n}(s)= \\mathbf t(s)\\times\\mathbf{\\dot n}(s)\n",
    "       $$\n",
    "       since $\\mathbf a\\times \\mathbf a=0$. If we claim that $\\mathbf{\\dot n}$ is a linear combination of $\\mathbf t$ and $\\mathbf b$ then <br>\n",
    "       $$\n",
    "       \\mathbf {\\dot n}(s) = \\mu(s)\\mathbf t(s) + \\tau(s)\\mathbf b(s)\n",
    "       $$\n",
    "       and substitution reveals that <br>\n",
    "       $$\n",
    "       \\mathbf {\\dot b}(s) = -\\tau(s) \\mathbf n(s)\n",
    "       $$\n",
    "       where the quantity $\\tau(s)$ is called the torsion of the curve. This can be defined in a method analogous to the curvature above <br>\n",
    "       $$\n",
    "       \\tau = -\\mathbf{\\dot b}(s)\\cdot \\mathbf n(s)\n",
    "       $$\n",
    "       The sign of $\\tau$ is independant of the orientation of C and the direction of $\\mathbf n$ and is an intrinsic property of the curve."
   ]
  },
  {
   "cell_type": "markdown",
   "metadata": {},
   "source": [
    "<div style=\"background:red\">Definition</div><br>\n",
    "       The torsion of a plane curve is zero and a curve except for a straight line has zero torision if it is a plane curve."
   ]
  },
  {
   "cell_type": "markdown",
   "metadata": {},
   "source": [
    "<div style=\"background:red\">Spherical Indicatrices</div><br>\n",
    "       The unit vectors on a curve $C$ generate a a curve on a sphere of radius 1. These curves are called spherical indicatrices.\n",
    "       <br>"
   ]
  },
  {
   "cell_type": "markdown",
   "metadata": {},
   "source": [
    "<div style=\"background:red\"><h2>Theory</h2></div><br>\n",
    "            \n",
    "<div style=\"background:red\">Serret-Frenet equations</div><br>\n",
    "For a curve $\\mathbf r(s)$ The three equations <br>\n",
    "                 $$\\mathbf{\\dot t} = \\kappa \\mathbf n$$\n",
    "                 $$\\mathbf{\\dot n}= -\\kappa \\mathbf t + \\tau \\mathbf b$$\n",
    "                 $$\\mathbf{\\dot b}=-\\tau \\mathbf n$$\n",
    "                \n",
    "and these can be written in matrix notation as <br>\n",
    "$$\\left(\\begin{array}{ccc}\\mathbf{\\dot t} \\\\ \\mathbf{\\dot n} \\\\ \\mathbf{\\dot b} \\end{array}\\right) = \\left(\\begin{array}{ccc} 0& \\kappa &0\\\\ -\\kappa & 0 & \\tau \\\\ 0&-\\tau &0 \\end{array}\\right) \\left(\\begin{array}{ccc}\\mathbf t \\\\ \\mathbf n \\\\ \\mathbf b \\end{array}\\right)$$\n",
    "<br> \n",
    "The matrix form <br>\n",
    "$$\\left(\\begin{array}{ccc} 0& \\kappa &0\\\\ -\\kappa & 0 & \\tau \\\\ 0&-\\tau &0 \\end{array}\\right)$$\n",
    "\n",
    "is simpler to remember. These equations can be used to prove that a curve is uniquely defined by its curvature and torsion as functions of a natural parameter, and these functions are intrinsic to the curve, or features of the intrinsic geometry of the curve. If two curves have the same curvature and torsion as functions of a natural parameter, then they are the same except for their position in space.\n",
    "                <br>"
   ]
  },
  {
   "cell_type": "markdown",
   "metadata": {},
   "source": [
    " <div style=\"background:red\">Existence and Uniqueness Theorem</div><br>\n",
    "                 The Serret-Frenet equations form a system of 3 first order vector differential equations. Given a curvature $\\kappa (s)$ and a torsion $\\tau(s)$ then apart from the position in space there exists only one unique space curve that satisfies the equations with $s$ as the natural parameter. \n",
    "                 <br> note: this is always possible in the case of a plane curve. <br>"
   ]
  },
  {
   "cell_type": "markdown",
   "metadata": {},
   "source": [
    "<div style=\"background:red\">Involutes</div><br>\n",
    "                  The tangent lines to a curve $C$ generate a surface called the tangent surface of the curve. A curve $ C_1$ that lies on the tangent surface of $C$ and intersects the tangent lines of $C$  orthogonally is called and involute of $C$. <br>\n",
    "                  If $\\mathbf r=\\mathbf r(s)$ and $\\mathbf {\\bar r}$ is a point on an involute $C_1$ where it intersects with the tangent line of $C$ at $\\mathbf r(s)$ then $\\mathbf{\\bar r}-\\mathbf r(s)$ is proportional to $\\mathbf t(s)$, the tangent to $C$. Therefore $C_1$ will have a representation <br>\n",
    "                  $$\\mathbf{\\bar r}=\\mathbf r(s) + k(s)\\mathbf t(s)$$\n",
    "and the rate of change with respect to $s$ is defined as <br>\n",
    "$$\\frac{d\\mathbf{\\bar r}}{ds} = \\mathbf{\\dot r} + \\dot k \\mathbf t + k \\mathbf {\\dot t} = (1+\\dot k)\\mathbf t + k\\kappa \\mathbf n$$\n",
    "                  is orthogonal to the tangent vector $\\mathbf t$ on $C$, this can be shown by computing $(d\\mathbf{\\bar r}/ds )\\cdot \\mathbf t = 1+\\dot k = 0$ using the above equation. Integrating this gives $k=-s+a$ and there is an infinite family of involutes one for each value of the constant of integration, $a$. These can be defined by <br>\n",
    "                  $$\\mathbf{\\bar r}=\\mathbf r + (a-s)\\mathbf t $$\n",
    "                  by substituting for $k$ in the above relations. The involute is not regular where the curve $C$ has a point of inflection, and the value $d\\mathbf {\\bar r}/ds = 0$ where $\\kappa=0$. "
   ]
  },
  {
   "cell_type": "markdown",
   "metadata": {},
   "source": [
    "  <div style=\"background:red\">Identity</div><br>\n",
    "                  The curvature of the involute satisfies <br>\n",
    "                  $$\n",
    "                  \\bar \\kappa^2 = \\frac{\\kappa^2+\\tau^2}{(a-s)^2\\kappa^2}\n",
    "                  $$\n",
    "                  For $\\bar \\kappa \\neq 0$ and $\\kappa\\neq 0$. <br>\n",
    "                  It should be noted that if $|\\mathbf t|=1$ then the distance between two involutes is constant for all $s$. "
   ]
  },
  {
   "cell_type": "markdown",
   "metadata": {},
   "source": [
    "<div style=\"background:red\">Serret-Evolutes</div><br>\n",
    "                  If $C$ is an involute of a curve $C_1$ then $C_1$ is an evolute of $C$. Let $C$ be denoted by $\\mathbf r(s)$ and if $\\mathbf {\\bar r}(s)$ is the point of contact on the evolute to the tangent line intersecting $C$ at $\\mathbf r(s)$ then <br>\n",
    "                  $$\\mathbf{\\bar r}(s) = \\mathbf r(s) + \\alpha (s) \\mathbf n (s) + \\beta(s) \\mathbf b(s)\n",
    "                  $$\n",
    "since $\\mathbf{\\bar r}(s)-\\mathbf r(s)$ is orthogonal to $\\mathbf t(s)$ and is a linear combination of $\\mathbf n(s)$ and $\\mathbf b(s)$. Differentiating gives <br>\n",
    "$$\\frac{d \\mathbf {\\bar r}}{ds} = \\mathbf {\\dot r} + \\dot\\alpha\\mathbf n + \\alpha \\mathbf{\\dot n} + \\dot\\beta\\mathbf b + \\beta\\mathbf{\\dot b}\\\\= (1-\\alpha\\kappa)\\mathbf t+ (\\dot\\alpha-\\beta\\tau)\\mathbf n + (\\dot\\beta +\\tau\\alpha)\\mathbf b\n",
    "                  $$\n",
    "after substituting the frenet equations for the dot terms. This value $(d\\mathbf{\\bar r}/ds)$ is also tangent to $C_1$ and is proportional to \n",
    "                  $$\\mathbf{\\bar r}-\\mathbf r = \\alpha \\mathbf n + \\beta \\mathbf b\n",
    "                  $$\n",
    "and there exists a $k$ such that (need theorom, suppose this is the tangent line)\n",
    "                  $$1-\\alpha \\kappa = 0,\\qquad (\\dot\\alpha-\\beta\\tau)=k\\alpha,\\qquad(\\dot\\beta+\\tau\\alpha)=k\\beta\n",
    "                  $$\n",
    "so $\\alpha = 1/\\kappa$ and the variable $k$ can be eliminated <br>\n",
    "                  $$\\beta(\\dot\\alpha-\\beta\\tau)-\\alpha(\\dot\\beta+\\tau\\alpha)=0\n",
    "                  $$\n",
    "and solving for $\\tau$ we find <br>\n",
    "                  $$\\tau = \\frac{\\beta\\dot\\alpha-\\alpha\\dot\\beta}{\\alpha^2+\\beta^2} = \\frac{d}{ds}\\cot^{-1}(\\beta/\\alpha)\n",
    "                  $$\n",
    "and integration gives <br>\n",
    "                  $$\\beta = \\alpha \\cot\\left(\\int \\tau ds + c \\right) = \\frac{1}{\\kappa} \\cot\\left(\\int \\tau ds + c \\right) \n",
    "                  $$\n",
    "and this gives an infinite family of evolutes <br>\n",
    "                  $$\\mathbf {\\bar r} = \\mathbf r + \\frac{1}{\\kappa} \\mathbf n + \\frac{1}{\\kappa} \\cot\\left(\\int\\tau ds +c \\right)\\mathbf b\n",
    "                  $$\n",
    "and so the assumption is that along $C$ the value $(\\dot\\alpha-\\beta\\tau)^2+(\\dot\\beta+\\tau\\alpha)^2 \\neq 0$. If $C$ is a plane curve then $\\tau=0$ and $\\alpha = \\gamma\\beta$ with $\\gamma$ a constant, and \n",
    "                  $$(\\dot\\alpha-\\beta\\tau)^2+(\\dot\\beta+\\tau\\alpha)^2 = \\frac{\\dot \\kappa^2}{\\kappa ^4}(1+\\gamma^{-2}).$$\n",
    "And for plane curves it is assumed that $\\dot\\kappa \\neq 0 $.\n",
    "                  Needs more information here"
   ]
  },
  {
   "cell_type": "markdown",
   "metadata": {},
   "source": [
    "<div style=\"background:red\">Definition of contact with a surface</div><br>\n",
    "                  A curve $\\mathbf r=x_1(t)\\mathbf e_1 + x_2(t)\\mathbf e_2 + x_3(t)\\mathbf e_3$ has n-point contact with a surface $F(x_1,x_2,x_3)=0$ at the point corresponding to $t=t_0$ if the function <br>\n",
    "                  $$f(t)=F(x_1(t),x_2(t),x_3(t))\n",
    "                  $$\n",
    "satisfies\n",
    "                  $$f(t_0)=f'(0)=f''(0)=\\cdots=f^{(n-1)}(t_0)=0\\qquad but\\qquad f^{(n)}(t_0)\\neq 0 \n",
    "                  $$\n",
    "and this is independant of the parameterization of the curve."
   ]
  },
  {
   "cell_type": "markdown",
   "metadata": {},
   "source": [
    "<div style=\"background:red\">Definition of contact with a curve</div><br>\n",
    "                  A curve $C$ is denoted as $\\mathbf r=x_1(t)\\mathbf e_1 + x_2(t)\\mathbf e_2 + x_3(t)\\mathbf e_3$ and a second curve $C_1$ is defined by the intersection of two surfaces $F$ and $G$ both functions of $(x_1,x_2,x_3)$ then the curve  $C$ has n-point contact at $t_0$ if and only if there is n-point contact with one of the surfaces and at least n-point contact with the other."
   ]
  },
  {
   "cell_type": "code",
   "execution_count": null,
   "metadata": {
    "collapsed": true
   },
   "outputs": [],
   "source": []
  },
  {
   "cell_type": "code",
   "execution_count": null,
   "metadata": {
    "collapsed": true
   },
   "outputs": [],
   "source": []
  }
 ],
 "metadata": {
  "kernelspec": {
   "display_name": "Python 2",
   "language": "python",
   "name": "python2"
  },
  "language_info": {
   "codemirror_mode": {
    "name": "ipython",
    "version": 2
   },
   "file_extension": ".py",
   "mimetype": "text/x-python",
   "name": "python",
   "nbconvert_exporter": "python",
   "pygments_lexer": "ipython2",
   "version": "2.7.10"
  }
 },
 "nbformat": 4,
 "nbformat_minor": 0
}
