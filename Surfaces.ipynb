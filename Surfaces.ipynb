{
 "cells": [
  {
   "cell_type": "markdown",
   "metadata": {},
   "source": [
    "<div style=\"background:red\"><h2>Surfaces</h2></div><br>\n",
    "<br>\n",
    "Content taken , noted from, abbrieviated, quoted from Shaums Differential Geometry by Lipshultz, to be expanded. \n",
    "<div style=\"background:red\">Vector Functions</div><br>\n",
    "<br>\n",
    "If the function $\\mathbf f$ is a mapping from a set of vectors $V$ into $F$ then $\\mathbf f$ assigns a vector $\\mathbf f(\\mathbf r)$ in $F$ to each vector $\\mathbf r$ in $V$. Then $\\mathbf f$ is called a vector valued function of a vector variable. This basically means $\\mathbf v = \\mathbf f(\\mathbf r)$. <br>\n",
    "we can define $\\mathbf r = r_1 \\mathbf e_1 +\\cdots + \\mathbf r_n \\mathbf e_n$ where $n$ is the dimension of $V$ and the $\\mathbf e_i$ are the basis vectors in $V$. Now the set of vectors in $F$, a subspace would have a set of basis vectors $\\mathbf g_1, \\cdots ,\\mathbf g_m$ where $m$ is the dimension of $F$. Then we have the linear combination <br>\n",
    "$$\\mathbf f(\\mathbf r) = f_1(\\mathbf r)\\mathbf g_1 +\\cdots f_m(\\mathbf r)\\mathbf g_m$$\n",
    "and so $\\mathbf f$ is associated with $m$ real-valued functions, the same dimension as $F$. And so clearly $\\mathbf f$ defines $F$."
   ]
  },
  {
   "cell_type": "markdown",
   "metadata": {},
   "source": [
    "<div style = \"background:red\">Example</div><br>\n",
    "Let $\\mathbf n$ be the outward drawn normal to a sphere with radius $r$ then $\\mathbf n = \\mathbf r/r$  is a vector function taking $|\\mathbf r| = r$ into $\\mathbf n$. \n",
    "$$\\mathbf n = \\frac{r_1}{r} \\mathbf e_1 + \\frac{r_2}{r} \\mathbf e_2 + \\frac{r_3}{r} \\mathbf e_3$$"
   ]
  },
  {
   "cell_type": "markdown",
   "metadata": {},
   "source": [
    "<div style = \"background:red\">Linear Functions</div><br>\n",
    "$\\mathbf f$ is said to be linear if <br>\n",
    "i) $\\mathbf f(\\mathbf a+\\mathbf b)=\\mathbf f(\\mathbf a) + \\mathbf f(\\mathbf b)$ <br>\n",
    "ii) $\\mathbf f(k\\mathbf a) =k\\mathbf f(\\mathbf a)$ for any scalar $k$.\n",
    "<br>\n",
    "If $\\mathbf f$ is linear then $\\mathbf r=x_1\\mathbf e_1 +\\cdots +x_n\\mathbf e_n$ then \n",
    "\n",
    "$$\\mathbf f(\\mathbf r) = \\mathbf f(x_1\\mathbf e_1+\\cdots +x_n\\mathbf e_n)\\\\ \\ \\\\=\\mathbf f(x_1\\mathbf e_1)+\\cdots \\mathbf f(x_n\\mathbf e_n)$$ $$= x_1\\mathbf f(\\mathbf e_1) +\\cdots +x_n\\mathbf f(\\mathbf e_n)$$\n",
    "so as there is a basis $\\mathbf g_1,\\cdots \\mathbf g_m$ in $F$ we have\n",
    "$$\\mathbf f(\\mathbf e_1) = a_{11}\\mathbf g_1 + \\cdots + a_{m1} \\mathbf g_m\\\\ \\ \\\\\n",
    "\\cdots \\\\ \\ \\\\\n",
    "\\mathbf f(\\mathbf e_n) = a_{1n}\\mathbf g_1 + \\cdots + a_{mn} \\mathbf g_m$$\n",
    "so the function $\\mathbf f$ can be expressed\n",
    "$$\\mathbf f(\\mathbf r) = x_1(a_{11}\\mathbf g_1 +\\cdots +a_{m1}\\mathbf g_m)+\\cdots + x_n(a_{1n}\\mathbf g_1 +\\cdots +a_{mn}\\mathbf g_m)$$\n",
    "$$= (a_{11}x_1+\\cdots +a_{1n}x_n)\\mathbf g_1 +\\cdots + (a_{m1}x_1 +\\cdots + a_{mn}x_n)\\mathbf g_m$$\n",
    "giving a set of $m$ real valued homogenous functions, these can also be expressed in matrix form. The rank of the matrix is independant of the bases. There are as many functions as basic vectors in $F$, i.e. $m$. The mapping of $V$ to $F$ is one to one, and onto if the images of the basis  vectors $\\mathbf f(\\mathbf e_i)$ are independant, i.e. the transformation of the basis vectors must be linearly independant. This is true if the determinant of the matrix of coefficients is not zero. In fact the rank of the coefficient matrix is the dimension of $F$ defined by $\\mathbf f$, so the rank should be predictably $m$ for a space of $m$ real valued homogeneous functions. This holds for mappings from $E^3$ into $E^3$, and for example if the rank of $\\mathbf f$ is 2 then the mapping is a plane. For mappings from $E^2$ into $E^3$ then the rank of $\\mathbf f$ determins the toppology in $E^3$. For example if the rank was 1 then $\\mathbf f$ would be a line in $E^3$. \n",
    "<br>"
   ]
  },
  {
   "cell_type": "markdown",
   "metadata": {},
   "source": [
    "<div style = \"background:red\">Definition</div><br>\n",
    "The function $\\mathbf f$ is continuous at $\\mathbf r$ if and only if each component of $\\mathbf f$ is continuous at $\\mathbf r$. \n",
    "\n"
   ]
  },
  {
   "cell_type": "markdown",
   "metadata": {},
   "source": [
    "<div style = \"background:red\">Definition</div><br>\n",
    "If the vector functions $\\mathbf f$, $\\mathbf g$ and the scalar function $ h$ are continuous at $\\mathbf r$ then $|\\mathbf f|,\\mathbf f+\\mathbf g,\\ h \\mathbf f, \\mathbf f\\cdot\\mathbf g,\\mathbf f\\times\\mathbf g$ are all continuous at $\\mathbf r$.   "
   ]
  },
  {
   "cell_type": "markdown",
   "metadata": {},
   "source": [
    "<div style = \"background:red\">Directional Derivatives</div><br>\n",
    "The direction derivative of $\\mathbf f$ at position $\\mathbf r_0$ in the direction of a vector $\\mathbf a$ can be classified as \n",
    "$$\n",
    "D_{\\mathbf a}\\mathbf f(\\mathbf r_0) =\\nabla \\mathbf f(\\mathbf r_0) \\cdot \\frac{\\mathbf a}{|\\mathbf a|}\n",
    "$$\n",
    "<br>\n",
    "There is also another interpretation with regards to the limit <br>\n",
    "$$\n",
    "D_{\\mathbf a}\\mathbf f(\\mathbf r_0) =\\lim_{h\\to 0} \\frac{\\mathbf f(\\mathbf r_0+h \\mathbf a)-\\mathbf f(\\mathbf r_0)}{h}\n",
    "$$\n",
    "considering the line  $\\mathbf r = \\mathbf r_0 + h \\mathbf a$ theb $\\mathbf F(h) = \\mathbf f(\\mathbf r_0+h\\mathbf a)$ has a derivative $\\mathbf F'(h)$ and the direction derivative is this derivative at the point where $h=0$ or <br>\n",
    "$$\n",
    "D_{\\mathbf a}\\mathbf f(\\mathbf r_0) = \\mathbf F'_h(0)\n",
    "$$\n",
    "The function $\\mathbf F(h) =  \\mathbf f(\\mathbf r_0+h\\mathbf a)$ is a parametric representation of the a curve on the surface $\\mathbf y=\\mathbf f(\\mathbf r)$ and the directional derivative is a vector that is tangent to the curve at the point $\\mathbf r_0$."
   ]
  },
  {
   "cell_type": "markdown",
   "metadata": {},
   "source": [
    "<div style=\"background:red\">Definition</div>\n",
    "A function can have a derivative in one direction and not in another. "
   ]
  },
  {
   "cell_type": "markdown",
   "metadata": {},
   "source": [
    " <div style=\"background:red\">Definition</div>\n",
    " If a basis $(\\mathbf e_1,\\cdots ,\\mathbf e_n)$ is fixed in $E$ The derivative in the direction of a basis vector $\\mathbf e_k$ at $\\mathbf x$ is  the partial derivative of $\\mathbf f$ with respect to the $k^{th}$ component of $\\mathbf x$ and is written $D_{\\mathbf e_k} \\mathbf f(\\mathbf x)$ <br>\n",
    " \n",
    " $$\\mathbf f(\\mathbf x) = f_1(x_1,\\cdots ,x_n)\\mathbf g_1 + \\cdots f_m(x_1,\\cdots ,x_n)\\mathbf g_m$$\n",
    " \n",
    " then\n",
    " $$D_{\\mathbf e_k} \\mathbf f(\\mathbf x) = \\lim_{h\\to0}\\frac{ \\mathbf f(\\mathbf x + h\\mathbf e_k )  - \\mathbf f(\\mathbf x) }{h} = \\lim_{h\\to0}\\frac{ \\mathbf f(x_1,\\cdots x_k+h, \\cdots,x_n )  - \\mathbf f(x_1,\\cdots ,x_n) }{h} = \\lim_{h\\to0}\\frac{  f_1(x_1,\\cdots x_k+h, \\cdots,x_n )  -  f_1(x_1,\\cdots ,x_n) }{h} \\mathbf g_1  + \\cdots + \\lim_{h\\to0}\\frac{  f_m(x_1,\\cdots x_k+h, \\cdots,x_n )  -  f_m(x_1,\\cdots ,x_n) }{h} \\mathbf g_m$$\n",
    " \n",
    " and this is <br>\n",
    " \n",
    " $$ = \\frac{\\partial f_1}{\\partial x_k} \\mathbf g_1 + \\frac{\\partial f_2}{\\partial x_k} \\mathbf g_2 +\\cdots + \\frac{\\partial f_m}{\\partial x_k} \\mathbf g_m $$\n",
    " <br>so $D_{\\mathbf e_k} \\mathbf f(\\mathbf x)$ is a vector whose components are the partial derivatives $\\partial f_i/\\partial x_k$ at $\\mathbf x$ of the components of $\\mathbf f$ "
   ]
  },
  {
   "cell_type": "markdown",
   "metadata": {},
   "source": [
    "<div style = \"background:red\">Differentiable Functions</div>\n",
    "A vector function $\\mathbf f$ may have a derivative at a point and not be continuous there because the derivative at a point depends only on a curve through the point and not on the neighbourhood of points surrounding the point. \n",
    "<br>\n",
    "If a vector function of a vector variable has a derivative at a point then it can be linearly approximated in a neighbourhood of the point. (as for single valued functions)."
   ]
  },
  {
   "cell_type": "markdown",
   "metadata": {},
   "source": [
    "<div style=\"background:red\">Definition of Differentiability</div>\n",
    "A function $\\mathbf f$ on an open set $V$ in $E$ into F is differentiable at $\\mathbf x_0$ n $V$ if there exists a linear function mapping the vectors $\\mathbf v$ in $E$ into $F$, $\\mathbf L_{\\mathbf x_0} (\\mathbf v)$ such that <br>\n",
    "$$\\mathbf f(\\mathbf x_0 + \\mathbf v) = \\mathbf f(\\mathbf x_0) + \\mathbf L_{\\mathbf x_0} (\\mathbf v) + \\mathbf R(\\mathbf x_0, \\mathbf v) $$\n",
    "where $\\mathbf R(\\mathbf x_0, \\mathbf v) / |\\mathbf v| \\to 0 $ as $\\mathbf v\\to 0$. <br>\n",
    "if $\\mathbf f$ is differentiable at $\\mathbf x_0$ then for any non-zero vector $\\mathbf u$ and scalar $h$\n",
    "$$\\mathbf f(\\mathbf x_0 + h\\mathbf u) - \\mathbf f(\\mathbf x_0) = \\mathbf L_{\\mathbf x_0} (h \\mathbf u) + \\mathbf R(\\mathbf x_0, h\\mathbf u) $$\n",
    "dividing throughout by $h$...<br>\n",
    "$$\\frac{\\mathbf f(\\mathbf x_0 + h\\mathbf u) - \\mathbf f(\\mathbf x_0)}{h} = \\mathbf L_{\\mathbf x_0} ( \\mathbf u) + \\frac{\\mathbf R(\\mathbf x_0, h\\mathbf u)}{h} $$\n",
    "<br> since $\\mathbf L$ is linear the scalar $h$ appears outside the function.  $\\mathbf R(\\mathbf x_0, h\\mathbf u) / |\\mathbf v| \\to 0 $ as $h\\to 0$. The derivative exists and is ... <br><br>\n",
    "$$ D_{\\mathbf u}\\mathbf f(\\mathbf x_0) = \\lim_{h\\to0} =\\frac{\\mathbf f(\\mathbf x_0 + h\\mathbf u) - \\mathbf f(\\mathbf x_0)}{h} =\\mathbf L_{\\mathbf x_0} ( \\mathbf u) $$\n"
   ]
  },
  {
   "cell_type": "markdown",
   "metadata": {},
   "source": [
    "<div style = \"background : red\" >Definition</div>\n",
    "If $\\mathbf f$ is differentiable at $\\mathbf x_0$ then $\\mathbf f$ has a derivative at every direction at $\\mathbf x_0$\n"
   ]
  },
  {
   "cell_type": "markdown",
   "metadata": {},
   "source": [
    "<div style = \"background : red\" >Definition</div>\n",
    "If $\\mathbf f$ is differentiable at $\\mathbf x_0$ then $\\mathbf f$ is continuous $\\mathbf x_0$\n"
   ]
  },
  {
   "cell_type": "markdown",
   "metadata": {},
   "source": [
    "<div style = \"background : red\" >Definition</div>\n",
    "The linear function $\\mathbf L_{\\mathbf x_0} $ is the differential of $\\mathbf f$ at the $\\mathbf x_0$, and is written $d\\mathbf f(\\mathbf x_0)$, the value of the $d\\mathbf f(\\mathbf x_0)$  at $\\mathbf v$ is denoted $d\\mathbf f(\\mathbf x_0) (\\mathbf v)$. The function $d\\mathbf f(\\mathbf x)$ is called differentiable if it is differentiable at each $\\mathbf x$ and the differential is $d\\mathbf f$.\n"
   ]
  },
  {
   "cell_type": "markdown",
   "metadata": {},
   "source": [
    "<div style = \"background : red\" >Derivation of the Jacobian</div>\n",
    "If $\\mathbf f$ is differentiable from $V$ in $E$ into $F$ and is therefore linear at each $\\mathbf x$ \n",
    "$$ d\\mathbf f(\\mathbf v) = d\\mathbf f(v_1\\mathbf e_1 +\\cdots v_n\\mathbf e_n) = v_1 d\\mathbf f(\\mathbf e_1)+\\cdots+v_n d\\mathbf f(\\mathbf e_n)$$\n",
    "and \n",
    "$$d\\mathbf f(\\mathbf e_i) = D_{\\mathbf e_i}\\mathbf f = \\partial \\mathbf f / \\partial x_i $$\n",
    "therefore\n",
    "$$d\\mathbf f(\\mathbf v) = v_1 \\frac{\\partial \\mathbf f}{\\partial x_1} +\\cdots + v_n \\frac{\\partial \\mathbf f}{\\partial x_n} $$\n",
    "and $\\mathbf f = f_1 \\mathbf g_1 +\\cdots + f_m \\mathbf g_m $ and\n",
    "$$ \\frac{\\partial \\mathbf f}{\\partial x_j} = \\frac{\\partial  f_1}{\\partial x_j} \\mathbf g_1 +\\cdots +\\frac{\\partial  f_m}{\\partial x_j} \\mathbf g_m \\qquad j=1,\\cdots, n$$\n",
    "and so \n",
    "$$d\\mathbf f(\\mathbf v) = v_1 (\\frac{\\partial  f_1}{\\partial x_1} \\mathbf g_1 +\\cdots +\\frac{\\partial  f_m}{\\partial x_1} \\mathbf g_m) +\\cdots + v_n (\\frac{\\partial  f_1}{\\partial x_n} \\mathbf g_1 +\\cdots +\\frac{\\partial  f_m}{\\partial x_n} \\mathbf g_m) $$\n",
    "$$= (\\frac{\\partial  f_1}{\\partial x_1}v_1 +\\cdots+\\frac{\\partial  f_1}{\\partial x_n}v_n) \\mathbf g_1 +\\cdots +(\\frac{\\partial  f_m}{\\partial x_1}v_1 +\\cdots+\\frac{\\partial  f_m}{\\partial x_n}v_n) \\mathbf g_m  $$\n",
    "\n",
    "and we have differentials for each component of $d\\mathbf f(\\mathbf v)$\n",
    "$$d\\mathbf f_1(\\mathbf v) = \\frac{\\partial  f_1}{\\partial x_1}v_1 +\\cdots+\\frac{\\partial  f_1}{\\partial x_n}v_n)  $$\n",
    "$$\\cdots\\cdots$$\n",
    "$$d\\mathbf f_m(\\mathbf v) =\\frac{\\partial  f_m}{\\partial x_1}v_1 +\\cdots+\\frac{\\partial  f_m}{\\partial x_n}v_n  $$\n",
    "<br>And the matrix representation of the differential $d\\mathbf f$ is the Jacobian matrix, and if square is denoted by $\\mathbf J$ .<br><br>\n",
    "$$\\frac{\\partial (x,y) }{\\partial (u,v)  } = \\begin{vmatrix} \\frac{\\partial f_1 }{\\partial x_1 } & \\frac{\\partial f_1 }{\\partial x_2 } &\\cdots &  \\frac{\\partial f_1 }{\\partial x_n } \\\\ \\cdots &\\cdots&\\cdots&\\cdots \\\\ \\frac{\\partial f_m }{\\partial x_1 } & \\frac{\\partial f_m }{\\partial x_2 } &\\cdots&  \\frac{\\partial f_m }{\\partial x_n }  \\end{vmatrix}$$ \n",
    "<br><br>\n",
    "this is the Jacobian matrix of $\\mathbf f$ with respect to the bases $(\\mathbf e_1,\\cdots ,\\mathbf e_n)$ and $(\\mathbf g_1,\\cdots ,\\mathbf g_m)$"
   ]
  },
  {
   "cell_type": "code",
   "execution_count": null,
   "metadata": {
    "collapsed": true
   },
   "outputs": [],
   "source": []
  }
 ],
 "metadata": {
  "kernelspec": {
   "display_name": "Python 2",
   "language": "python",
   "name": "python2"
  },
  "language_info": {
   "codemirror_mode": {
    "name": "ipython",
    "version": 2
   },
   "file_extension": ".py",
   "mimetype": "text/x-python",
   "name": "python",
   "nbconvert_exporter": "python",
   "pygments_lexer": "ipython2",
   "version": "2.7.10"
  }
 },
 "nbformat": 4,
 "nbformat_minor": 0
}
