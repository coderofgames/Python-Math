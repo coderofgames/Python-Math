{
 "cells": [
  {
   "cell_type": "markdown",
   "metadata": {},
   "source": [
    "# Surfaces"
   ]
  },
  {
   "cell_type": "markdown",
   "metadata": {},
   "source": [
    "<br>\n",
    "Notes taken , Bibliography: Differential Geometry , Lipshultz."
   ]
  },
  {
   "cell_type": "markdown",
   "metadata": {},
   "source": [
    "## Topological Notes\n",
    "   \n",
    "### Interior (or Region) and Boundary\n",
    "   \n",
    "A set can be thought to consist of an interior and a boundary. The boundary is the border between the set and whatever else is in the space, points on the boundary are not considered to be part of the *interior* of the set.\n",
    "\n",
    "### Open Sets\n",
    "   \n",
    "If every point in the interior of a set $U$ in $E^n$ (n-dimensional euclidean space) can be enclosed in a spherical neighbourhood also contained in the interior of $U$ then $U$ is said to be an <b>Open Set </b>\n",
    "   \n",
    "> For the interval then each point in $E^1$ is enclosed in a 1-sphere\n",
    "> For the region in $E^2$ then each point is enclosed in a 2-sphere (or circle)\n",
    "etc\n",
    "\n",
    "   \n",
    "1) The union of a family of open sets is open.\n",
    "2) the intersection of a family of open sets is not neccessarily open.\n",
    "3) The definition of the open set does not include the boundary of the set.\n",
    "\n",
    "### Closed Sets\n",
    "   \n",
    "A set is called <b>closed</b> if it is not open. The complement of a closed set $S^c$ is open, and visa versa. It can also be deduced (from below) that a set is closed iff it contains its limit points.\n",
    "\n",
    "> If $V$ is an open Sphere $U$ together with its boundary $B$ then $V$ is a closed set.\n",
    "\n",
    "### Deleted Spherical Neighbourhoods\n",
    "    \n",
    "A deleted spherical neighbourhood of a point $P$ in $S$ is said to contain every $S(P)$ without $P$, - it contains the spherical neighbourhood of $P$ without $P$.\n",
    "\n",
    "\n",
    "### Limit points\n",
    "   \n",
    "A point $P$ is said to be a limit point of a set $S$ if every deleted spherical neighbourhood $S'(P)$ of $P$ contains at least one point of $S$.\n",
    "\n",
    "> The boundary of a circle contains limit points since a spherical neighbourhood surrounding the boundary contains points within the circle.\n",
    "\n",
    "###  Closure\n",
    "   \n",
    "The closure $\\hat S$ of a set $S$ is the set consisting of $S$ and its limit points.\n",
    "\n",
    "### Bounded Sets\n",
    "   \n",
    "A set is called bounded if it is contained in the neighbourhood of a point.\n",
    "\n",
    "### Connected Sets\n",
    "   \n",
    "A disconnected set is defined by the concept of a set consisting of more than one disconnected closed set, such that if you take intersecting open sets surrounding each then the resultant intersections of each of them do not intersect.\n",
    "$$  (A\\cap S) \\cap (B\\cap S) =  \\emptyset$$\n",
    "Where $A$ and $B$ are open sets.\n",
    "\n",
    "> A set is called <b>connected </b> if it is not disconnected.\n",
    "> A set is called <b>arc-wise</b> connected if any two points in $S$ can be connected by a continuous arc.\n",
    "> If a set $S$ in $E$ is arcwise connected then it is connected. (the converse is true for $E^1$ but there are connected sets in $E^3$ that are not arcwise connected - arcwise connectivity is not a defining feature of connected sets in general). \n",
    " \n",
    "### Domain\n",
    "\n",
    "An *open connected set* is called a <b>domain</b>. A domain is arcwise connected.\n",
    "\n",
    "### Compact Sets\n",
    "   \n",
    "An *open covering* of $S$ is a family of open sets whose union contains $S$. A *subcovering* is the subset of the open covering, and a finite covering is an open covering containing a finite number of subsets. Every set in $E$ has an open covering. \n",
    "\n",
    "A set in $E$ is compact if for every open covering of  $S$ there exists a finite subcovering.\n",
    "\n",
    "> A compact set is closed and bounded - if a set is closed and bounded it is compact by definition.\n",
    "\n",
    "### Continuous Mappings\n",
    "   \n",
    "If $E$ and $F$ are two spaces and $S$ is a subset of $E$, then if for each point $P$ in $S$ there is a point $f(P)$ in $F$, and if at a point $P_0$ in $E$ for *every* neighbourhood $N_F$ of $f(P_0)$ in $F$ there is a neighbourhood $N_E$ of $P_0$ in $E$ such that for every point $P$, the points in $f(P)$ are in $N_F$ for every $P$ in $N_E$.\n",
    "\n",
    "> The mapping $f$ is said to be continuous on $S$ if it is continuous at each point on $S$\n",
    "   \n",
    "> The image of a connected set under continuous mapping is connected.\n",
    "   \n",
    "> The image of a compact set under a continuous mapping is compact.\n",
    "   \n",
    "> A continuous real valued function on a compact set takes on its absolute maximum and minimum. \n",
    "   \n",
    "> A continuous mapping composed with a continuous mapping is a continuous mapping.\n",
    "\n",
    "### Homeomorphisms\n",
    "   \n",
    "If $f$ is a continuous mapping from $S$ in $E$ into $F$ then if $f$ has an inverse. If the inverse is continuous then $f$ is said to be bi-continuous. A bicontinuous mapping of $S$ into a set $T$ in $F$ is called a homeomorphism of $S$ into $T$. IF a homeomorphism exists between sets then the two sets are said to be topologically equivalent.  \n"
   ]
  },
  {
   "cell_type": "markdown",
   "metadata": {},
   "source": [
    "## Note\n",
    "\n",
    "---\n",
    "   \n",
    "A differential function is said to be of class $C^m$ (on an interval $A$) if it is $m$ times differentiable, or the $m^{th}$ order derivatives exist and are continuous on $A$. If a function is of class $C^\\infty$ then it has derivatives of all orders. The notation $C^0$ denotes the class of continuous functions.\n",
    "   \n",
    "> A vector function is of class $C^m$ on $A$ iff all its components are of class $C^m$ on $A$.\n",
    "   \n",
    "> If a function is of class $C^m$ then it is every class less than $m$.\n",
    "   \n",
    "> Composition of functions, if $\\mathbf {f,g,h}$ belong to $C^m$ then $\\mathbf f+\\mathbf g$, $\\mathbf f\\cdot\\mathbf g$, $\\mathbf f\\times\\mathbf g$ are also of class $C^m$\n",
    "   \n",
    "> The function of class $C^m$ of a function of class $C^m$ is a function of class $C^m$ - chain rule.\n",
    "   \n",
    "---"
   ]
  },
  {
   "cell_type": "markdown",
   "metadata": {},
   "source": [
    "### Vector Functions "
   ]
  },
  {
   "cell_type": "markdown",
   "metadata": {},
   "source": [
    "If the function $\\mathbf f$ is a mapping from a set of vectors $V$ into $F$ then $\\mathbf f$ assigns a vector $\\mathbf f(\\mathbf r)$ in $F$ to each vector $\\mathbf r$ in $V$. Then $\\mathbf f$ is called a vector valued function of a vector variable. This basically means $\\mathbf v = \\mathbf f(\\mathbf r)$. <br>\n",
    "we can define $\\mathbf r = r_1 \\mathbf e_1 +\\cdots + \\mathbf r_n \\mathbf e_n$ where $n$ is the dimension of $V$ and the $\\mathbf e_i$ are the basis vectors in $V$. Now the set of vectors in $F$, a subspace would have a set of basis vectors $\\mathbf g_1, \\cdots ,\\mathbf g_m$ where $m$ is the dimension of $F$. Then we have the linear combination <br>\n",
    "$$\\mathbf f(\\mathbf r) = f_1(\\mathbf r)\\mathbf g_1 +\\cdots f_m(\\mathbf r)\\mathbf g_m$$\n",
    "and so $\\mathbf f$ is associated with $m$ real-valued functions, the same dimension as $F$. \n",
    "<br>\n",
    "This can be further expanded ...<br>\n",
    "$$\\mathbf f(\\mathbf r) = f_1(r_1,\\cdots,r_n)\\mathbf g_1 +\\cdots + f_m( r_1,\\cdots, r_n)\\mathbf g_m $$"
   ]
  },
  {
   "cell_type": "markdown",
   "metadata": {},
   "source": [
    "### Example"
   ]
  },
  {
   "cell_type": "markdown",
   "metadata": {},
   "source": [
    "Let $\\mathbf n$ be the outward drawn normal to a sphere with radius $r$ then $\\mathbf n = \\mathbf r/r$  is a vector function taking $|\\mathbf r| = r$ into $\\mathbf n$. \n",
    "$$\\mathbf n = \\frac{r_1}{r} \\mathbf e_1 + \\frac{r_2}{r} \\mathbf e_2 + \\frac{r_3}{r} \\mathbf e_3$$"
   ]
  },
  {
   "cell_type": "markdown",
   "metadata": {},
   "source": [
    "### Linear Functions"
   ]
  },
  {
   "cell_type": "markdown",
   "metadata": {},
   "source": [
    "$\\mathbf f$ is said to be linear if <br>\n",
    "i) $\\mathbf f(\\mathbf a+\\mathbf b)=\\mathbf f(\\mathbf a) + \\mathbf f(\\mathbf b)$. <br>\n",
    "ii) $\\mathbf f(k\\mathbf a) =k\\mathbf f(\\mathbf a)$ for any scalar $k$.\n",
    "<br>\n",
    "If $\\mathbf f$ is linear then $\\mathbf r=x_1\\mathbf e_1 +\\cdots +x_n\\mathbf e_n$ then \n",
    "\n",
    "$$\\mathbf f(\\mathbf r) = \\mathbf f(x_1\\mathbf e_1+\\cdots +x_n\\mathbf e_n)\\\\ \\ \\\\=\\mathbf f(x_1\\mathbf e_1)+\\cdots \\mathbf f(x_n\\mathbf e_n)$$ $$= x_1\\mathbf f(\\mathbf e_1) +\\cdots +x_n\\mathbf f(\\mathbf e_n)$$\n",
    "so as there is a basis $\\mathbf g_1,\\cdots \\mathbf g_m$ in $F$ we have\n",
    "$$\\mathbf f(\\mathbf e_1) = a_{11}\\mathbf g_1 + \\cdots + a_{m1} \\mathbf g_m\\\\ \\ \\\\\n",
    "\\cdots \\\\ \\ \\\\\n",
    "\\mathbf f(\\mathbf e_n) = a_{1n}\\mathbf g_1 + \\cdots + a_{mn} \\mathbf g_m$$\n",
    "so the function $\\mathbf f$ can be expressed\n",
    "$$\\mathbf f(\\mathbf r) = x_1(a_{11}\\mathbf g_1 +\\cdots +a_{m1}\\mathbf g_m)+\\cdots + x_n(a_{1n}\\mathbf g_1 +\\cdots +a_{mn}\\mathbf g_m)$$\n",
    "$$= (a_{11}x_1+\\cdots +a_{1n}x_n)\\mathbf g_1 +\\cdots + (a_{m1}x_1 +\\cdots + a_{mn}x_n)\\mathbf g_m$$\n",
    "giving a set of $m$ real valued homogenous functions, these can also be expressed in matrix form. The rank of the matrix is independant of the bases. There are as many functions as basic vectors in $F$, i.e. $m$. The mapping of $V$ to $F$ is one to one, and onto if the images of the basis  vectors $\\mathbf f(\\mathbf e_i)$ are independant, i.e. the transformation of the basis vectors must be linearly independant. This is true if the determinant of the matrix of coefficients is not zero. In fact the rank of the coefficient matrix is the dimension of $F$ defined by $\\mathbf f$, so the rank should be predictably $m$ for a space of $m$ real valued homogeneous functions. This holds for mappings from $E^3$ into $E^3$, and for example if the rank of $\\mathbf f$ is 2 then the mapping is a plane. For mappings from $E^2$ into $E^3$ then the rank of $\\mathbf f$ determins the toppology in $E^3$. For example if the rank was 1 then $\\mathbf f$ would be a line in $E^3$. \n",
    "<br>"
   ]
  },
  {
   "cell_type": "markdown",
   "metadata": {},
   "source": [
    "### Definition"
   ]
  },
  {
   "cell_type": "markdown",
   "metadata": {},
   "source": [
    "The function $\\mathbf f$ is continuous at $\\mathbf r$ if and only if each component of $\\mathbf f$ is continuous at $\\mathbf r$. "
   ]
  },
  {
   "cell_type": "markdown",
   "metadata": {},
   "source": [
    "### Definition"
   ]
  },
  {
   "cell_type": "markdown",
   "metadata": {},
   "source": [
    "\n",
    "If the vector functions $\\mathbf f$, $\\mathbf g$ and the scalar function $ h$ are continuous at $\\mathbf r$ then $|\\mathbf f|,\\mathbf f+\\mathbf g,\\ h \\mathbf f, \\mathbf f\\cdot\\mathbf g,\\mathbf f\\times\\mathbf g$ are all continuous at $\\mathbf r$.   "
   ]
  },
  {
   "cell_type": "markdown",
   "metadata": {},
   "source": [
    "### Directional Derivatives"
   ]
  },
  {
   "cell_type": "markdown",
   "metadata": {},
   "source": [
    "The direction derivative of $\\mathbf f$ at position $\\mathbf r_0$ in the direction of a vector $\\mathbf a$ can be classified as \n",
    "$$\n",
    "D_{\\mathbf a}\\mathbf f(\\mathbf r_0) =\\nabla \\mathbf f(\\mathbf r_0) \\cdot \\frac{\\mathbf a}{|\\mathbf a|}\n",
    "$$\n",
    "<br>\n",
    "There is also another interpretation with regards to the limit <br>\n",
    "$$\n",
    "D_{\\mathbf a}\\mathbf f(\\mathbf r_0) =\\lim_{h\\to 0} \\frac{\\mathbf f(\\mathbf r_0+h \\mathbf a)-\\mathbf f(\\mathbf r_0)}{h}\n",
    "$$\n",
    "<br>considering the line  $\\mathbf r = \\mathbf r_0 + h \\mathbf a$ theb $\\mathbf F(h) = \\mathbf f(\\mathbf r_0+h\\mathbf a)$ has a derivative $\\mathbf F'(h)$ and the direction derivative is this derivative at the point where $h=0$ or <br>\n",
    "$$\n",
    "D_{\\mathbf a}\\mathbf f(\\mathbf r_0) = \\mathbf F'_h(0)\n",
    "$$\n",
    "<br>\n",
    "The function $\\mathbf F(h) =  \\mathbf f(\\mathbf r_0+h\\mathbf a)$ is a parametric representation of the a curve on the surface $\\mathbf y=\\mathbf f(\\mathbf r)$ and the directional derivative is a vector that is tangent to the curve at the point $\\mathbf r_0$. The expression $\\mathbf r_0+h\\mathbf a$ is a parametric representation of line (starting at) through the terminal point of $\\mathbf r_0$ in the direction of $\\mathbf a$ scaled by the parameter $h$, and $h$ can be negative - strictly speaking the locus of points traced out by the vector $\\mathbf r =\\mathbf r_0+h\\mathbf a$ form a line, but the direction of $\\mathbf r$ (in this case, for this $\\mathbf r$) is a vector from zero to the terminal point of $\\mathbf r_0+h\\mathbf a$."
   ]
  },
  {
   "cell_type": "markdown",
   "metadata": {},
   "source": [
    "### Definition"
   ]
  },
  {
   "cell_type": "markdown",
   "metadata": {},
   "source": [
    "A function can have a derivative in one direction and not in another. "
   ]
  },
  {
   "cell_type": "markdown",
   "metadata": {},
   "source": [
    "### Definition"
   ]
  },
  {
   "cell_type": "markdown",
   "metadata": {},
   "source": [
    "If a basis $(\\mathbf e_1,\\cdots ,\\mathbf e_n)$ is fixed in $E$ The derivative in the direction of a basis vector $\\mathbf e_k$ at $\\mathbf x$ is  the partial derivative of $\\mathbf f$ with respect to the $k^{th}$ component of $\\mathbf x$ and is written $D_{\\mathbf e_k} \\mathbf f(\\mathbf x)$ <br>\n",
    " \n",
    " $$\\mathbf f(\\mathbf x) = f_1(x_1,\\cdots ,x_n)\\mathbf g_1 + \\cdots f_m(x_1,\\cdots ,x_n)\\mathbf g_m$$\n",
    " \n",
    " then\n",
    " $$D_{\\mathbf e_k} \\mathbf f(\\mathbf x) = \\lim_{h\\to0}\\frac{ \\mathbf f(\\mathbf x + h\\mathbf e_k )  - \\mathbf f(\\mathbf x) }{h} = \\lim_{h\\to0}\\frac{ \\mathbf f(x_1,\\cdots x_k+h, \\cdots,x_n )  - \\mathbf f(x_1,\\cdots ,x_n) }{h} = \\lim_{h\\to0}\\frac{  f_1(x_1,\\cdots x_k+h, \\cdots,x_n )  -  f_1(x_1,\\cdots ,x_n) }{h} \\mathbf g_1  + \\cdots + \\lim_{h\\to0}\\frac{  f_m(x_1,\\cdots x_k+h, \\cdots,x_n )  -  f_m(x_1,\\cdots ,x_n) }{h} \\mathbf g_m$$\n",
    " \n",
    " and this is <br>\n",
    " \n",
    " $$ = \\frac{\\partial f_1}{\\partial x_k} \\mathbf g_1 + \\frac{\\partial f_2}{\\partial x_k} \\mathbf g_2 +\\cdots + \\frac{\\partial f_m}{\\partial x_k} \\mathbf g_m $$\n",
    " <br>so $D_{\\mathbf e_k} \\mathbf f(\\mathbf x)$ is a vector whose components are the partial derivatives $\\partial f_i/\\partial x_k$ at $\\mathbf x$ of the components of $\\mathbf f$ "
   ]
  },
  {
   "cell_type": "markdown",
   "metadata": {},
   "source": [
    "### Differentiable Functions"
   ]
  },
  {
   "cell_type": "markdown",
   "metadata": {},
   "source": [
    "A vector function $\\mathbf f$ may have a derivative at a point and not be continuous there because the derivative at a point depends only on a curve through the point and not on the neighbourhood of points surrounding the point. \n",
    "<br>\n",
    "If a vector function of a vector variable has a derivative at a point then it can be linearly approximated in a neighbourhood of the point. (as for single valued functions)."
   ]
  },
  {
   "cell_type": "markdown",
   "metadata": {},
   "source": [
    "### Definition of Differentiability"
   ]
  },
  {
   "cell_type": "markdown",
   "metadata": {},
   "source": [
    "A function $\\mathbf f$ on an open set $V$ in $E$ into F is differentiable at $\\mathbf x_0$ n $V$ if there exists a linear function mapping the vectors $\\mathbf v$ in $E$ into $F$, $\\mathbf L_{\\mathbf x_0} (\\mathbf v)$ such that <br><br>\n",
    "$$\\mathbf f(\\mathbf x_0 + \\mathbf v) = \\mathbf f(\\mathbf x_0) + \\mathbf L_{\\mathbf x_0} (\\mathbf v) + \\mathbf R(\\mathbf x_0, \\mathbf v) $$\n",
    "where $\\mathbf R(\\mathbf x_0, \\mathbf v) / |\\mathbf v| \\to 0 $ as $\\mathbf v\\to 0$. <br>\n",
    "if $\\mathbf f$ is differentiable at $\\mathbf x_0$ then for any non-zero vector $\\mathbf u$ and scalar $h$\n",
    "$$\\mathbf f(\\mathbf x_0 + h\\mathbf u) - \\mathbf f(\\mathbf x_0) = \\mathbf L_{\\mathbf x_0} (h \\mathbf u) + \\mathbf R(\\mathbf x_0, h\\mathbf u) $$\n",
    "dividing throughout by $h$...<br>\n",
    "$$\\frac{\\mathbf f(\\mathbf x_0 + h\\mathbf u) - \\mathbf f(\\mathbf x_0)}{h} = \\mathbf L_{\\mathbf x_0} ( \\mathbf u) + \\frac{\\mathbf R(\\mathbf x_0, h\\mathbf u)}{h} $$\n",
    "<br> since $\\mathbf L$ is linear the scalar $h$ appears outside the function.  $\\mathbf R(\\mathbf x_0, h\\mathbf u) / |\\mathbf v| \\to 0 $ as $h\\to 0$. The derivative exists and is ... <br><br>\n",
    "$$ D_{\\mathbf u}\\mathbf f(\\mathbf x_0) = \\lim_{h\\to0} =\\frac{\\mathbf f(\\mathbf x_0 + h\\mathbf u) - \\mathbf f(\\mathbf x_0)}{h} =\\mathbf L_{\\mathbf x_0} ( \\mathbf u) $$\n"
   ]
  },
  {
   "cell_type": "markdown",
   "metadata": {},
   "source": [
    "### Definition"
   ]
  },
  {
   "cell_type": "markdown",
   "metadata": {},
   "source": [
    "If $\\mathbf f$ is differentiable at $\\mathbf x_0$ then $\\mathbf f$ has a derivative at every direction at $\\mathbf x_0$\n"
   ]
  },
  {
   "cell_type": "markdown",
   "metadata": {},
   "source": [
    "### Definition"
   ]
  },
  {
   "cell_type": "markdown",
   "metadata": {},
   "source": [
    "If $\\mathbf f$ is differentiable at $\\mathbf x_0$ then $\\mathbf f$ is continuous $\\mathbf x_0$\n"
   ]
  },
  {
   "cell_type": "markdown",
   "metadata": {},
   "source": [
    "### Definition"
   ]
  },
  {
   "cell_type": "markdown",
   "metadata": {},
   "source": [
    "The linear function $\\mathbf L_{\\mathbf x_0} $ is the differential of $\\mathbf f$ at the $\\mathbf x_0$, and is written $d\\mathbf f(\\mathbf x_0)$, the value of the $d\\mathbf f(\\mathbf x_0)$  at $\\mathbf v$ is denoted $d\\mathbf f(\\mathbf x_0) (\\mathbf v)$. The function $d\\mathbf f(\\mathbf x)$ is called differentiable if it is differentiable at each $\\mathbf x$ and the differential is $d\\mathbf f$.\n",
    "   \n",
    "The $\\mathbf L_{\\mathbf x_0} (\\mathbf v) = D_{\\mathbf v} \\mathbf f(\\mathbf x_0) $ is unique and is uniquely determined by its values at a basis - \n",
    "$$D_{\\mathbf v} \\mathbf f(\\mathbf x_0) = \\frac{\\partial \\mathbf f}{\\partial x_i} (\\mathbf x_0)$$"
   ]
  },
  {
   "cell_type": "markdown",
   "metadata": {},
   "source": [
    "### Derivation of the Jacobian"
   ]
  },
  {
   "cell_type": "markdown",
   "metadata": {},
   "source": [
    "If $\\mathbf f$ is differentiable from $V$ in $E$ into $F$ and is therefore linear at each $\\mathbf x$ \n",
    "$$ d\\mathbf f(\\mathbf v) = d\\mathbf f(v_1\\mathbf e_1 +\\cdots v_n\\mathbf e_n) = v_1 d\\mathbf f(\\mathbf e_1)+\\cdots+v_n d\\mathbf f(\\mathbf e_n)$$\n",
    "and \n",
    "$$d\\mathbf f(\\mathbf e_i) = D_{\\mathbf e_i}\\mathbf f = \\partial \\mathbf f / \\partial x_i $$\n",
    "therefore\n",
    "$$d\\mathbf f(\\mathbf v) = v_1 \\frac{\\partial \\mathbf f}{\\partial x_1} +\\cdots + v_n \\frac{\\partial \\mathbf f}{\\partial x_n} $$\n",
    "and $\\mathbf f = f_1 \\mathbf g_1 +\\cdots + f_m \\mathbf g_m $ and\n",
    "$$ \\frac{\\partial \\mathbf f}{\\partial x_j} = \\frac{\\partial  f_1}{\\partial x_j} \\mathbf g_1 +\\cdots +\\frac{\\partial  f_m}{\\partial x_j} \\mathbf g_m \\qquad j=1,\\cdots, n$$\n",
    "and so \n",
    "$$d\\mathbf f(\\mathbf v) = v_1 (\\frac{\\partial  f_1}{\\partial x_1} \\mathbf g_1 +\\cdots +\\frac{\\partial  f_m}{\\partial x_1} \\mathbf g_m) +\\cdots + v_n (\\frac{\\partial  f_1}{\\partial x_n} \\mathbf g_1 +\\cdots +\\frac{\\partial  f_m}{\\partial x_n} \\mathbf g_m) $$\n",
    "$$= (\\frac{\\partial  f_1}{\\partial x_1}v_1 +\\cdots+\\frac{\\partial  f_1}{\\partial x_n}v_n) \\mathbf g_1 +\\cdots +(\\frac{\\partial  f_m}{\\partial x_1}v_1 +\\cdots+\\frac{\\partial  f_m}{\\partial x_n}v_n) \\mathbf g_m  $$\n",
    "\n",
    "and we have differentials for each component of $d\\mathbf f(\\mathbf v)$\n",
    "$$d f_1(\\mathbf v) = \\frac{\\partial  f_1}{\\partial x_1}v_1 +\\cdots+\\frac{\\partial  f_1}{\\partial x_n}v_n  $$\n",
    "$$\\cdots\\cdots$$\n",
    "$$d f_m(\\mathbf v) =\\frac{\\partial  f_m}{\\partial x_1}v_1 +\\cdots+\\frac{\\partial  f_m}{\\partial x_n}v_n  $$\n",
    "<br>And the matrix representation of the differential $d\\mathbf f$ is the Jacobian matrix, and if square is denoted by $\\mathbf J$ .<br><br>\n",
    "$$\\frac{\\partial (f_1,\\cdots,f_m) }{\\partial (x_1,\\cdots,x_n)  } = \\begin{vmatrix} \\frac{\\partial f_1 }{\\partial x_1 } & \\frac{\\partial f_1 }{\\partial x_2 } &\\cdots &  \\frac{\\partial f_1 }{\\partial x_n } \\\\ \\cdots &\\cdots&\\cdots&\\cdots \\\\ \\frac{\\partial f_m }{\\partial x_1 } & \\frac{\\partial f_m }{\\partial x_2 } &\\cdots&  \\frac{\\partial f_m }{\\partial x_n }  \\end{vmatrix}$$ \n",
    "<br><br>\n",
    "this is the Jacobian matrix of $\\mathbf f$ with respect to the bases $(\\mathbf e_1,\\cdots ,\\mathbf e_n)$ and $(\\mathbf g_1,\\cdots ,\\mathbf g_m)$"
   ]
  },
  {
   "cell_type": "markdown",
   "metadata": {},
   "source": [
    "### Total Differential\n",
    "   \n",
    "If $$d\\mathbf f = \\frac{\\partial\\mathbf f}{\\partial x_1} dx_1 + \\frac{\\partial\\mathbf f}{\\partial x_2} dx_2 +\\cdots +\\frac{\\partial\\mathbf f}{\\partial x_n} dx_n$$\n",
    "\n",
    "This is equivalent to\n",
    "\n",
    "$$d\\mathbf f = \\left(\\frac{\\partial f_1}{\\partial x_1}\\mathbf g_1 + \\frac{\\partial f_2}{\\partial x_1}\\mathbf g_2 +\\cdots+\\frac{\\partial f_m}{\\partial x_1}\\mathbf g_m\\right) dx_1 + \\left(\\frac{\\partial f_1}{\\partial x_2}\\mathbf g_1 + \\frac{\\partial f_2}{\\partial x_2}\\mathbf g_2 +\\cdots+\\frac{\\partial f_m}{\\partial x_2}\\mathbf g_m\\right)dx_2 +\\cdots +\\left(\\frac{\\partial f_1}{\\partial x_n}\\mathbf g_1 + \\frac{\\partial f_2}{\\partial x_n}\\mathbf g_2 +\\cdots+\\frac{\\partial f_m}{\\partial x_n}\\mathbf g_m\\right) dx_n$$\n",
    "   \n",
    "> but $ \\partial \\mathbf f/\\partial x_1 = h_1\\mathbf e_1$ where $h_1 = |\\partial \\mathbf f / \\partial x_1 |$ is the scaling factor.\n",
    "\n",
    "$$d\\mathbf f =  dx_1 h_1 \\mathbf e_1 + dx_2 h_2 \\mathbf e_2 +\\cdots +dx_n h_n \\mathbf e_n$$\n",
    "\n",
    "or alternatively ... $h_1 \\mathbf e_1 = \\frac{\\partial f_1}{\\partial x_1}\\mathbf g_1 + \\frac{\\partial f_2}{\\partial x_1}\\mathbf g_2 +\\cdots+\\frac{\\partial f_m}{\\partial x_1}\\mathbf g_m$ and we can write the components of $d\\mathbf f$ in rows:\n",
    "\n",
    "$$d f_1 = \\frac{\\partial f_1}{\\partial x_1} dx_1 + \\frac{\\partial f_1}{\\partial x_2} dx_2 +\\cdots +\\frac{\\partial f_1}{\\partial x_n} dx_n$$\n",
    "and\n",
    "$$d f_2 = \\frac{\\partial f_2}{\\partial x_1} dx_1 + \\frac{\\partial f_2}{\\partial x_2} dx_2 +\\cdots +\\frac{\\partial f_2}{\\partial x_n} dx_n$$\n",
    "etc ...\n",
    "$$d f_m = \\frac{\\partial f_m}{\\partial x_1} dx_1 + \\frac{\\partial f_m}{\\partial x_2} dx_2 +\\cdots +\\frac{\\partial f_m}{\\partial x_n} dx_n$$\n",
    "\n",
    "and it becomes clear that if $\\nabla = (\\frac{\\partial }{\\partial x_1}, \\frac{\\partial }{\\partial x_2},\\cdots,\\frac{\\partial}{\\partial x_n})$ then ...\n",
    "\n",
    "$$ d f_1 = (\\nabla f_1) \\cdot d\\mathbf x $$\n",
    "   \n",
    "where $d\\mathbf x = (dx_1, dx_2,\\cdots dx_n)$ and \n",
    "   \n",
    "$$ d f_m = (\\nabla f_m) \\cdot d\\mathbf x $$\n",
    "\n",
    "Therefore to transform the vector $d\\mathbf x$ into $d\\mathbf f$ you multiply by the Jacobian matrix. This suggests another relationship between $d\\mathbf f$ and $d\\mathbf x$ - they are a bicontinuous mapping, and therefore $\\mathbf x$ is some function $\\mathbf x = \\mathbf x(\\mathbf f)$ and hence we have the concept $x_1(\\mathbf x) = x_1$ and $dx_i(\\mathbf v) = v_i$ hence the $v_i$ become the $dx_i$  \n",
    "\n",
    "\n",
    "\n",
    "Then \n",
    "\n",
    "$$d\\mathbf f = \\left(\\frac{\\partial f_1}{\\partial x_1}dx_1 + \\frac{\\partial f_1}{\\partial x_2}dx_2 +\\cdots+\\frac{\\partial f_1}{\\partial x_n}dx_n\\right) \\mathbf g_1 + \\left( \\frac{\\partial f_2}{\\partial x_1}dx_1+ \\frac{\\partial f_2}{\\partial x_2}dx_2 +\\cdots+\\frac{\\partial f_2}{\\partial x_n}dx_n\\right)\\mathbf g_2 +\\cdots +\\left( \\frac{\\partial f_m}{\\partial x_1}dx_1+\\frac{\\partial f_m}{\\partial x_2}dx_2  +\\cdots+\\frac{\\partial f_m}{\\partial x_n}dx_n\\right)\\mathbf g_m $$\n",
    "\n",
    "   \n",
    "The relationship between the small changes $dx_1$ and the coordinate vectors $(\\mathbf g_i)$ and $(\\mathbf e_i)$ is clear, if you observe that first expanded expression puts brackets around the columns of the Jacobian matrix with the coordinate axes vector $\\mathbf g_i$ and the second resembles the rows of the Jacobian matrix. \n",
    "   \n",
    "The total differential would be ...\n",
    "   \n",
    "$$\\frac{\\mathbf f}{d t} = \\frac{\\partial \\mathbf f}{\\partial x_1} \\frac{\\partial x_1} {\\partial t}+ \\frac{\\partial \\mathbf f}{\\partial x_2} \\frac{\\partial x_2} {\\partial t} +\\cdots +\\frac{\\partial \\mathbf f}{\\partial x_n} \\frac{\\partial x_n} {\\partial t}$$\n",
    "   \n",
    "ETC"
   ]
  },
  {
   "cell_type": "markdown",
   "metadata": {},
   "source": [
    "### Composite Functions\n",
    "---\n",
    "A function $\\mathbf f = = \\mathbf g( \\mathbf h ) = \\mathbf g( \\mathbf h( \\mathbf x) ) $ is denoted $\\mathbf f = \\mathbf g \\circ \\mathbf h$ . if $\\mathbf h$ is a linear function from $U$ into $V$ and $g$ is a linear function from $V$ into $W$ then $\\mathbf f$ is a linear function from $U$ into $W$.\n",
    "   \n",
    "The composition has all the normal properties of linear functions.\n",
    "\n",
    "#### Matrix Form\n",
    "   \n",
    "$$ y_1 = a_{11}x_1 + a_{12}x_2 \\qquad z_1 = b_{11}y_1 + b_{12}y_2 + b_{13}y3 $$\n",
    "$$ y_2 = a_{21}x_1 + a_{22}x_2 \\qquad z_2 = b_{21}y_1 + b_{22}y_2 + b_{23}y3 $$\n",
    "$$ y_3 = a_{31}x_1 + a_{32}x_2 \\qquad\\qquad\\qquad\\qquad\\qquad\\qquad$$\n",
    "\n",
    "is a linear mapping from $E^2$ into $E^3$ and back into $E^2$ again, these can be expressed in matrix form and the composition takes $E^2$ into $E^2$\n",
    "   \n",
    "$$ \\mathbf z = \\mathbf B \\mathbf A \\mathbf x $$ "
   ]
  },
  {
   "cell_type": "code",
   "execution_count": null,
   "metadata": {
    "collapsed": true
   },
   "outputs": [],
   "source": []
  },
  {
   "cell_type": "markdown",
   "metadata": {},
   "source": [
    "### Definition\n",
    "   \n",
    "The composite of 2 continuous functions is continuous\n",
    "\n",
    "### Definition\n",
    "\n",
    "If The composition of differentials is equal to the differential of the composite. "
   ]
  },
  {
   "cell_type": "markdown",
   "metadata": {},
   "source": [
    "### Chain Rule \n",
    "   \n",
    "$$\\frac{\\partial \\mathbf f}{\\partial x_i} = \\frac{\\partial \\mathbf g}{\\partial h_1}\\frac{\\partial h_1}{\\partial x_i} +\\cdots + \\frac{\\partial \\mathbf g}{\\partial h_n}\\frac{\\partial h_n}{\\partial x_i} $$"
   ]
  },
  {
   "cell_type": "markdown",
   "metadata": {},
   "source": [
    "### Higher order directional derivatives.\n",
    "   \n",
    "The second order differential of the $ D_{\\mathbf e_i} \\mathbf f = \\frac{\\partial \\mathbf f}{\\partial x_i}$ is \n",
    "   \n",
    "$$ D^2_{\\mathbf e_i\\mathbf e_j} \\mathbf f = \\frac{\\partial^2 \\mathbf f}{\\partial x_i \\partial x_j} =\\frac{\\partial^2 f_1}{\\partial x_i \\partial x_j}\\mathbf g_1 +\\cdots +\\frac{\\partial^2  f_m}{\\partial x_i \\partial x_j}\\mathbf g_m $$ \n",
    "and for the higher order derivatives in the direction of the bases are the partial derivatives of the components.\n",
    "If $\\mathbf f$ is continuous in $V$ then it is of class $C^0$, if the first derivatives are continuous, then it is of class $C^1$, and so on.\n",
    "   \n",
    "#### in the direction of a vector \n",
    "   \n",
    "$$ D_{\\mathbf u}\\mathbf f = \\frac{\\partial \\mathbf f}{\\partial x_i} u_i$$ \n",
    "\n",
    "and in the direction of another vector $\\mathbf v$\n",
    "   \n",
    "$$ D^2_{\\mathbf u\\mathbf v}\\mathbf f = D_{\\mathbf v}(D_{\\mathbf u}\\mathbf f) = \\frac{\\partial^2 \\mathbf f}{\\partial x_i \\partial x_j} u_i v_j$$ \n",
    "    \n",
    "and so on for higher derivatives."
   ]
  },
  {
   "cell_type": "code",
   "execution_count": null,
   "metadata": {
    "collapsed": true
   },
   "outputs": [],
   "source": []
  },
  {
   "cell_type": "markdown",
   "metadata": {},
   "source": [
    "## Surfaces\n",
    "---\n",
    "\n"
   ]
  },
  {
   "cell_type": "markdown",
   "metadata": {},
   "source": [
    "The mapping $\\mathbf x = \\mathbf x(u,v) $ is the mapping of $u,v$ from a set $U$ in $E^2$ to $S$ in $E^3$. This mapping is called a *regular parametric representation of class* $C^m$ for $m\\geq 1$ if\n",
    "   \n",
    "1) $\\mathbf f$ is of class $C^m$\n",
    "   \n",
    "2)the rank of the Jacobian is equal to 2. ( to ensure that the surface has a tangent plane at each point).\n",
    "   \n",
    "> Note $\\mathbf x_u(u,v)$ is a tangent vector to the u-parameter curves in S, and likewise for $\\mathbf v_u$ "
   ]
  },
  {
   "cell_type": "markdown",
   "metadata": {},
   "source": [
    "### definition\n",
    "\n",
    "The jacobian matrix is of rank greater than 2 if the cross product $\\mathbf x_u \\times \\mathbf x_v\\neq 0$. This is apparently clear because the jacobian minors and the cross product differ by one sign."
   ]
  },
  {
   "cell_type": "markdown",
   "metadata": {},
   "source": [
    "### definition\n",
    "   \n",
    "if $\\mathbf x$ is 1-1 and bicontinuous on $U$ then the $\\mathbf x = \\mathbf x(u,v)$ is called a coordinate patch. \n",
    "\n",
    "### definition of Monge patch\n",
    "   \n",
    "If the coordinate patch can be expressed $\\mathbf x = \\mathbf x( u(x_1,x_2), v(x_1, x_2)) = x_1(u(x_1,x_2), v(x_1, x_2))\\mathbf e_1 + x_2(u(x_1,x_2), v(x_1, x_2))\\mathbf e_2 +x_3(u(x_1,x_2), v(x_1, x_2))\\mathbf e_3$ such that\n",
    "$u,v$ in $U$ in $E^2$ takes $x_1,x_2$ in $V$ in $E^2$ into $S$ in $E^3$, then the form ...\n",
    "   \n",
    "$$\\mathbf x(u,v)= x_1 \\mathbf e_1 + x_2\\mathbf e_2 +x_3(u(x_1,x_2), v(x_1, x_2))\\mathbf e_3$$\n",
    "\n",
    "Then it is called a Monge patch. The cooridinate functions $u,v$ are called reparameterizations. \n",
    "   \n",
    "> If a set $S$ in $E^3$ has a regular parametric representation of class $C^m$ then for each point $P$ in $S$ there exists a Monge patch of class $C^m$ in $S$ containing $P$.\n"
   ]
  },
  {
   "cell_type": "markdown",
   "metadata": {},
   "source": [
    "### Gaussian representation of a surface\n",
    "   \n",
    "$$x = f(x_1, x_2)\\qquad y = g(x_1, x_2)\\qquad z = h(x_1, x_2)$$\n",
    "\n",
    "Then if $$\\mathbf x = f \\mathbf e_1 + g \\mathbf e_2 + h \\mathbf e_3 $$ \n",
    "\n",
    "any point $P$ is a regular point of $S$ if \n",
    "   \n",
    "   $$ \\frac{\\partial \\mathbf x}{\\partial x_1} \\times  \\frac{\\partial \\mathbf x}{\\partial x_2} \\neq \\mathbf 0$$\n",
    "   \n",
    "otherwise $P$ is a singular point. This representation is similar to the Monge patch, without the reparameterization and bicontinuous mapping."
   ]
  },
  {
   "cell_type": "markdown",
   "metadata": {},
   "source": [
    "### Simple Surface\n",
    "   \n",
    " $S$ is a set points in $E^3$ with a collection of coordinate patches $B$ of class $C^m$ that \n",
    "1) Cover S\n",
    "2) every coordinate patch $\\mathbf x = \\mathbf x(u,v)$ in $B$ is the intersection of an open set $O$ with $S$. \n",
    "   \n",
    "The set of all patches $B$ on $S$ are called a coordinate patch representation or basis. If a basis of class $C^m$ can be found on $S$ then $S$ then $S$ is called a simple surface.\n",
    "\n",
    "> The surface is said to consist of $S$ and all patches $B$ of the given class on $S$.\n",
    "   \n",
    "> A simple surface can always be represented as a surface of class $C^j$ where $j<m$ by joining all coordinate patches of class $C^j$.\n"
   ]
  },
  {
   "cell_type": "markdown",
   "metadata": {},
   "source": [
    "### Definition\n",
    "   \n",
    "For every point $P$ on a simple surface $S$ of class $C^m$ there is a connected patch of class $C^m$ on $S$ containing $P$.\n",
    "\n",
    "> A mapping $ y_1 = (x_1,x_2),\\ y_2=(x_1,x_2)$ of class $C^m$ for $(m\\geq 1)$ of an open set $X$ in the $x_1,x_2$ plane into $Y$ in $(y_1,y2)$ is called an *allowable parameter transformation*  provided that the Jacobian $\\partial(y_1,y_2)/\\partial(x_1,x_2) \\neq 0 $. The inverse of an allowable parameter transformation is also an allowable parameter transformation. This is the extension of the theorem of parameter transformation of curves into surfaces.\n",
    "   \n",
    "> A local property of a surface if and only if it is a property of an allowable parameter transformation."
   ]
  },
  {
   "cell_type": "markdown",
   "metadata": {},
   "source": [
    "### Parameter Curves\n",
    "   \n",
    "Every regular curve $u=u(t)$ and $v=v(t)$ of class $C^m$ on the $u,v$ parameter plane in $E^2$ maps onto a regular curve of class $C^m$ on the surface $\\mathbf x = \\mathbf x(u,v)$ in $E^3$ and each $\\mathbf x$ is called the image of the plane curve.\n",
    "   \n",
    "> The tangents to the surface at $P$ are all linearly dependant on the vectors $\\mathbf x_u$ and $\\mathbf x_v$ at the point.\n",
    "   \n",
    "> The vectors $\\mathbf x_u$ and $\\mathbf x_v$ are linearly independant and are tangent to the u-parameter and v-parameter curves respectively.\n",
    "\n",
    "### Tangent plane \n",
    "  \n",
    "The tangent plane at a point $\\mathbf x$ is \n",
    "   \n",
    "   $$ \\mathbf y = \\mathbf x + h\\mathbf x_u + k \\mathbf x_v$$\n",
    "   \n",
    "where $h>-\\infty$ and $k < \\infty$. You could also compute the tangent plane using the normal, \n",
    "\n",
    "$$ \\mathbf x_u \\times \\mathbf x_v $$ \n",
    "\n",
    "then creating the unit normal ...\n",
    "\n",
    "$$ \\mathbf {\\hat{n}} = \\frac{\\mathbf x_u \\times \\mathbf x_v}{|\\mathbf x_u \\times \\mathbf x_v|}$$\n",
    "\n",
    "### Normal Line\n",
    "   \n",
    "This is perpendicular to the normal at $\\mathbf x$ and is given by \n",
    "$$\\mathbf y = \\mathbf x + k \\mathbf {\\hat{n}}$$"
   ]
  },
  {
   "cell_type": "markdown",
   "metadata": {},
   "source": [
    "### Example : Reparameterization of a sphere\n",
    "\n",
    "for a spherical coordinate system a unit sphere can be expressed as the surface\n",
    "$$ x_1 = \\cos{u} \\sin{v}, \\qquad x_2 = \\sin{u}\\sin{v}, \\qquad x_3 = \\cos{v} $$ \n",
    "\n",
    "now for a half sphere above the $x_1, x_2$ plane we can write\n",
    "   \n",
    "$$ \\bar{x_1} = x_1, \\qquad \\bar{x_2} = x_2, \\qquad \\bar{x_3} = \\sqrt{1-x_1^2 - x_2^2}, \\qquad (x_1^2 + x_2^2 < 1) $$\n",
    "\n",
    "and this defines a monge patch on the sphere in the upper hemisphere, with the constraint that for the $\\bar{x_3}$ the sum of the squares of the other coordinates are less than 1 (the radius of the unit sphere).\n",
    "\n",
    "$$ \\bar{x_1} = x_1(u,v), \\qquad \\bar{x_2} = x_2(u,v), \\qquad \\bar{x_3} = \\sqrt{1-x_1(u,v)^2 - x_2(u,v)^2} $$\n",
    "\n",
    "If $v$ is fixed, at $\\pi$ then since $v$ varies from the top of the sphere we should have a circle of radius 1.\n",
    "If $v$ is fixed at some other value, then $\\bar{v_1}=\\sin{v}$ and $\\bar{v_2}=\\cos{v}$ will be fixed, and the surface represented in spherical coordinates will become\n",
    "\n",
    "$$ x_1 = \\bar{v_1}\\ \\cos{u} , \\qquad x_2 = \\bar{v_1}\\ \\sin{u}, \\qquad x_3 = \\bar{v_2} $$ \n",
    "\n",
    "and the parameter curve traced on the monge patch if $x_2$ is fixed will be a circle\n",
    "   \n",
    "   $$ \\bar{x_1} = x_1(u,\\bar{v_1}), \\qquad \\bar{x_2} = x_2(u,\\bar{v_1}), \\qquad \\bar{x_3} = \\sqrt{1-x_1(u,\\bar{v_1})^2 - x_2(u,\\bar{v_1})^2} $$\n",
    "   \n",
    "Now as the parameter $u$ varies from $0$ to $2\\pi$ the values of $x_1$ and $x_2$ will change, and hence the values of $\\bar{x_1}$ and $\\bar{x_2}$ ... as we know the parameter $u$ can be represented as a function of $x_1$ and $x_2$ \n",
    "   \n",
    "$$ u = arctan\\left(\\frac{x_2}{x_1}\\right) $$\n",
    "\n",
    "and if fix $u$ and vary $v$ it is clear that $v$ is the angle of the upwards triangle, then the radius of the circle at the any point $x_1, x_2$ divided by the height at the point gives the tangent, \n",
    "\n",
    "$$ v = arctan\\left(\\frac{\\sqrt{x_1^2 + x_2^2}}{x_3}\\right) $$\n",
    "   \n",
    "now as $v$ is represented as a function of $x_3$ for all $x_3$ less than 1, it would be preferable to represent the new coordinates in terms of the barred system so \n",
    "   \n",
    "$$ \\bar{x_1} = \\bar{x_1}(u,v), \\qquad \\bar{x_2} = \\bar{x_1}(u,v), \\qquad \\bar{x_3} = \\bar{x_3}(u,v) $$\n",
    "\n",
    "Then ...\n",
    "\n",
    "   $$ u = arctan\\left(\\frac{\\bar{x_2}}{\\bar{x_1}}\\right) $$\n",
    "and \n",
    "   $$ v = arctan\\left(\\frac{\\sqrt{\\bar{x_1}^2 + \\bar{x_2}^2}}{\\sqrt{1-\\bar{x_1}^2 - \\bar{x_2}^2}}\\right) $$\n",
    "   \n",
    "And then u-parameter curves and v-parameter curves should be available by fixing either $x_1$ or $x_2$ as constants. (unless I have broken my basic trig).\n",
    "\n",
    "or, using the fact that for the vertical triangle involving $v$ the radius is 1, and so by a trigonometric ratio \n",
    "\n",
    "$$\\cos v = \\frac{\\text{adj} }{ \\text{hyp}} = \\sqrt{1-\\bar{x_1}^2 - \\bar{x_2}^2}$$ \n",
    "\n",
    "and for the hypotenuese of the triangle parallel with the $x_1, x_2$ plane, $\\text{hyp} =  \\sqrt{\\bar{x_1}^2 + \\bar{x_2}^2} $\n",
    "\n",
    "$$\\cos u = \\frac{\\text{adj}}{\\text{hyp}} = \\frac{\\bar{x_1}}{ \\sqrt{\\bar{x_1}^2 + \\bar{x_2}^2}}$$"
   ]
  },
  {
   "cell_type": "markdown",
   "metadata": {},
   "source": [
    "### Topological Properties\n",
    "   \n",
    "> A simple surface is connected if it is connected as a point set in $E^3$. \n",
    "   \n",
    "> If $S$ a connected simple surface then there exist arcs connecting any two points of $S$.\n",
    "   \n",
    ">If $S$  (closed) and $T$ (connected) are two simple surfaces and $S$ is contained in $T$ then as point sets in $E^3$, $S$ equals $T$. A smple closed surface cannot be a proper subset of a simple connected surface.\n",
    "   \n",
    "> Compact if it is a compact point set in $E$\n",
    "   \n",
    "> $S$ is orientable if \n",
    "1) There exists a set of coordinate patches covering forming a basis for $S$\n",
    "2) The intersection of two patches has a jacobian greater than zero.\n",
    "3) The set of coordinate patches are maximal, so adjoined patches not in the set cause property 2 to fail.11\n",
    "   \n",
    "> An elementary surface is homeomorphic to an open set in the plane with a basis consisting of a single coordinate patch."
   ]
  },
  {
   "cell_type": "markdown",
   "metadata": {},
   "source": [
    "### First Fundamental Form\n",
    "   \n",
    "If $\\mathbf x = \\mathbf x(u,v)$ is a coordinate patch on a surface $S$ of class $C^m,\\ m\\geq 1$ , with differential $d\\mathbf x = \\mathbf x_u du + \\mathbf x_v dv$ - this is a 1-1 linear mapping of the vectors $du, dv$ to the tangent vectors of the $u,v$ parameter curves on S. \n",
    "   \n",
    "The arc length formula ...\n",
    "   \n",
    "$$ s = \\int_a^b \\left | \\frac{d\\mathbf x}{dt}\\right |dt = \\int_a^b \\sqrt{ \\frac{d\\mathbf x}{dt}\\cdot\\frac{d\\mathbf x}{dt} }dt $$\n",
    "   \n",
    "then\n",
    "   \n",
    "$$\\int_a^b \\sqrt{ \\left(\\frac{d x_1}{dt}\\mathbf e_1+\\frac{d x_1}{dt}\\mathbf e_2+\\frac{d x_1}{dt}\\mathbf e_3\\right)\\cdot\\left(\\frac{d x_1}{dt}\\mathbf e_1+\\frac{d x_1}{dt}\\mathbf e_2+\\frac{d x_1}{dt}\\mathbf e_3\\right) }dt= \\int_a^b \\sqrt { \\left(\\frac{dx_1}{dt}\\right)^2 +\\left(\\frac{dx_2}{dt}\\right)^2+\\left(\\frac{dx_3}{dt}\\right)^2}dt  $$ \n",
    "\n",
    "can be expanded in $\\mathbf x = \\mathbf x(u,v)$ if $\\mathbf x$ is an arc on a surface, parameterized by $u$ and $v$, using the chain rule in differentials\n",
    "   \n",
    "$$ = \\int_a^b \\sqrt{ \\frac{d\\mathbf x}{dt}\\cdot\\frac{d\\mathbf x}{dt} }dt = \\int_a^b \\sqrt { \\left(\\frac{d\\mathbf x}{du}\\frac{du}{dt} + \\frac{d\\mathbf x}{dv}\\frac{dv}{dt}\\right)\\cdot  \\left(\\frac{d\\mathbf x}{du}\\frac{du}{dt} + \\frac{d\\mathbf x}{dv}\\frac{dv}{dt}\\right)}dt  $$ \n",
    "   \n",
    "also written as\n",
    "   \n",
    "$$\\int_a^b \\sqrt{ \\left(\\mathbf x_u \\frac{d u}{dt} + \\mathbf x_v \\frac{d v}{dt}\\right) \\cdot \\left(\\mathbf x_u \\frac{d u}{dt} + \\mathbf x_v \\frac{d v}{dt}\\right) }dt$$\n",
    "\n",
    "is\n",
    "   \n",
    "$$=\\int_a^b \\sqrt{ \\mathbf x_u \\cdot \\mathbf x_u \\left( \\frac{d u}{dt} \\right)^2 + 2 \\mathbf x_u \\cdot \\mathbf x_v \\left( \\frac{d u}{dt} \\right)\\left( \\frac{d v}{dt} \\right)  + \\mathbf x_v \\cdot \\mathbf x_v \\left( \\frac{d v}{dt} \\right)^2 }dt$$\n",
    "   \n",
    "This leads to quantities known as the first fundamental coefficients\n",
    "   \n",
    "$$=\\int_a^b \\sqrt{ E \\left( \\frac{d u}{dt} \\right)^2 + 2 F \\left( \\frac{d u}{dt} \\right)\\left( \\frac{d v}{dt} \\right)  + G \\left( \\frac{d v}{dt} \\right)^2 }dt$$\n",
    "   \n",
    "where $E = \\mathbf x_u\\cdot \\mathbf x_u$, and $F = \\mathbf x_u\\cdot \\mathbf x_v$, and $G = \\mathbf x_v\\cdot \\mathbf x_v$ so from the dot product of the differentials and the chain rule ...\n",
    "   \n",
    "$$d\\mathbf x\\cdot d\\mathbf x =  ( \\mathbf x_u du + \\mathbf x_v dv) \\cdot ( \\mathbf x_u du + \\mathbf x_v dv) $$\n",
    "   \n",
    "And the first fundamental Form is the quantity\n",
    "   \n",
    "$$ \\large\\mathbf{\\text{I}}= E\\ du^2 + 2\\ F\\ du\\ dv + G\\ dv^2$$\n",
    "   \n",
    "This can also be derived from taking a coordinate patch on a surface, where $\\mathbf x_u$ is the derivative in the direction of the $u$ parameter and $\\mathbf x_v$ is the derivative in the direction of the $v$ parameter noting that the differential ignores higher order infinitesimals etc\n",
    "   \n",
    "\n",
    "\n",
    "\n"
   ]
  },
  {
   "cell_type": "markdown",
   "metadata": {
    "collapsed": true
   },
   "source": [
    "The Arc length integral of a curve on a surface can now be represented as the square root of the first fundamental form \n",
    "   \n",
    "$$ s = \\int_a^b \\sqrt{\\mathbf I} dt $$"
   ]
  },
  {
   "cell_type": "markdown",
   "metadata": {},
   "source": [
    "For a system $\\mathbf x = \\mathbf x(i,v)$ the infinitesimal tangents of curves in the $u$ and $v$ direction are respectively $\\Delta \\mathbf x_1 = \\mathbf x_u d\\ u$ and $\\Delta \\mathbf x_2 = \\mathbf x_v d\\ v$.\n",
    "\n",
    "### Surface area\n",
    "\n",
    "For an approximate surface area on a patch we can approximate the infinitesimal area with \n",
    "\n",
    "$$\\Delta S = |\\Delta \\mathbf x_1 \\times \\Delta \\mathbf x_2 |=  |\\mathbf x_u du \\times \\mathbf x_v dv |=|(\\mathbf x_u ) \\times \\mathbf x_v  |du\\ dv  = \\sqrt{(\\mathbf x_u  \\times \\mathbf x_v)\\cdot (\\mathbf x_u  \\times \\mathbf x_v)  }|du\\ dv$$\n",
    "\n",
    "now  product of $ (\\mathbf x_u  \\times \\mathbf x_v)\\cdot (\\mathbf x_u  \\times \\mathbf x_v)$ is established by identity\n",
    "\n",
    "\n",
    "$$(\\mathbf x_u  \\times \\mathbf x_v)\\cdot(\\mathbf x_u  \\times \\mathbf x_v) = (\\mathbf x_u\\cdot \\mathbf x_u)(\\mathbf x_v\\cdot\\mathbf x_v) - (\\mathbf x_u\\cdot \\mathbf x_v)(\\mathbf x_u\\cdot\\mathbf x_v) = EG - F^2 $$ \n",
    "\n",
    "and we have the cooefficients , so the integral over the surface can be defined\n",
    "\n",
    "$$ S = \\iint \\sqrt{EG-F^2} du dv$$ \n",
    "\n"
   ]
  },
  {
   "cell_type": "code",
   "execution_count": null,
   "metadata": {
    "collapsed": true
   },
   "outputs": [],
   "source": []
  }
 ],
 "metadata": {
  "kernelspec": {
   "display_name": "Python 2",
   "language": "python",
   "name": "python2"
  },
  "language_info": {
   "codemirror_mode": {
    "name": "ipython",
    "version": 2
   },
   "file_extension": ".py",
   "mimetype": "text/x-python",
   "name": "python",
   "nbconvert_exporter": "python",
   "pygments_lexer": "ipython2",
   "version": "2.7.10"
  }
 },
 "nbformat": 4,
 "nbformat_minor": 0
}
